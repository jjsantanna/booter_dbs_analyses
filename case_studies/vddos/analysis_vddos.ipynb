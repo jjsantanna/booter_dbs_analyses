{
 "cells": [
  {
   "cell_type": "markdown",
   "metadata": {},
   "source": [
    "# Analysis of: vddos\n",
    "#### File originally retrieved from: https://t.co/gfK3VdR0zn "
   ]
  },
  {
   "cell_type": "markdown",
   "metadata": {},
   "source": [
    "<h2 align=\"center\">\n",
    "!!!!!!!!!!!!!!!!!!!!!!!!!!!!!!!!!!!!!!!!!!!!!!!!!!!!!!!!!!!!!!!!!!!!!!!!!!!!!!!!!!!!!!!!!!!!!!!!!!!!!!!!!!!!!!!!!!!!!!!!!!!!!!!!!!!!!!!!!<br>\n",
    "FIRST PART: Pre-Analysis<br>\n",
    "!!!!!!!!!!!!!!!!!!!!!!!!!!!!!!!!!!!!!!!!!!!!!!!!!!!!!!!!!!!!!!!!!!!!!!!!!!!!!!!!!!!!!!!!!!!!!!!!!!!!!!!!!!!!!!!!!!!!!!!!!!!!!!!</h3> "
   ]
  },
  {
   "cell_type": "markdown",
   "metadata": {},
   "source": [
    "## 1.1. Declaring the database dump file location "
   ]
  },
  {
   "cell_type": "code",
   "execution_count": 1,
   "metadata": {
    "collapsed": true
   },
   "outputs": [],
   "source": [
    "dumpfile='attacks.txt'"
   ]
  },
  {
   "cell_type": "markdown",
   "metadata": {},
   "source": [
    "## 1.2. Taking a look on the raw dump file (first 100 lines)"
   ]
  },
  {
   "cell_type": "code",
   "execution_count": 4,
   "metadata": {
    "collapsed": false,
    "scrolled": true
   },
   "outputs": [
    {
     "name": "stdout",
     "output_type": "stream",
     "text": [
      "\n",
      "\n",
      "\n",
      "__  __  ____    _____   ____\n",
      "/\\ \\/\\ \\/\\  _`\\ /\\  __`\\/\\  _`\\\n",
      "\\ \\ \\ \\ \\ \\ \\/\\ \\ \\ \\/\\ \\ \\,\\L\\_\\\n",
      "\\ \\ \\ \\ \\ \\ \\ \\ \\ \\ \\ \\ \\/_\\__ \\\n",
      "\\ \\ \\_/ \\ \\ \\_\\ \\ \\ \\_\\ \\/\\ \\L\\ \\\n",
      "\\ `\\___/\\ \\____/\\ \\_____\\ `\\____\\\n",
      "`\\/__/  \\/___/  \\/_____/\\/_____/\n",
      "\n",
      "\n",
      "__  __              __\n",
      "/\\ \\/\\ \\  __        /\\ \\__  __\n",
      "\\ \\ \\ \\ \\/\\_\\    ___\\ \\ ,_\\/\\_\\    ___ ___     ____\n",
      "\\ \\ \\ \\ \\/\\ \\  /'___\\ \\ \\/\\/\\ \\ /' __` __`\\  /',__\\\n",
      "\\ \\ \\_/ \\ \\ \\/\\ \\__/\\ \\ \\_\\ \\ \\/\\ \\/\\ \\/\\ \\/\\__, `\\\n",
      "\\ `\\___/\\ \\_\\ \\____\\\\ \\__\\\\ \\_\\ \\_\\ \\_\\ \\_\\/\\____/\n",
      "`\\/__/  \\/_/\\/____/ \\/__/ \\/_/\\/_/\\/_/\\/_/\\/___/\n",
      "\n",
      "\n",
      "These are all the DDOS victims that were logged in the VDOS database dump. The news on their site claims:\n",
      "\n",
      "\n",
      "51,'DDoS','We\\'re a legitimate stress testing company, not a DDoS service. you are prohibited from stressing internet connections and/or servers that you do not have ownership of or authorization to test.\\r\\n\\r\\nAbuse of our services or use in violation of our terms of service will result in being banned from our services.'\n",
      "\n",
      "131,'prc','It is necessary to raise our prices due to users stressing home connections and IP addresses which they do not have the authorization to do so. If users desire to utilize our services for legitimate reasons, there shouldnâ€™t be an issue when it comes to spending slightly more than they used to. Like Iâ€™ve stated, we are a legitimate stress testing company which is dedicated to assisting pentesters as well as normal users who are interested in testing their own serverâ€™s resilience to multiple varieties of attacks.');\n",
      "\n",
      "\n",
      "\n",
      "Decide for yourself.\n",
      "\n",
      "\n",
      "--\n",
      "-- Table structure for table `logs`\n",
      "--\n",
      "\n",
      "DROP TABLE IF EXISTS `logs`;\n",
      "/*!40101 SET @saved_cs_client     = @@character_set_client */;\n",
      "/*!40101 SET character_set_client = utf8 */;\n",
      "CREATE TABLE `logs` (\n",
      "`ID` int(100) NOT NULL AUTO_INCREMENT,\n",
      "`Username` varchar(100) NOT NULL,\n",
      "`Action` varchar(255) NOT NULL,\n",
      "`IP` varchar(100) NOT NULL,\n",
      "`Date` varchar(100) NOT NULL,\n",
      "`platform` varchar(130) NOT NULL,\n",
      "`hidden` int(1) NOT NULL,\n",
      "PRIMARY KEY (`ID`)\n",
      ") ENGINE=MyISAM AUTO_INCREMENT=16171439 DEFAULT CHARSET=latin1;\n",
      "/*!40101 SET character_set_client = @saved_cs_client */;\n",
      "\n",
      "--\n",
      "-- Dumping data for table `logs`\n",
      "--\n",
      "\n",
      "\n",
      "16166365,'John','Launched a stress test on 1.1.1.1:80  for 30 using ESSYN','::1 ()','31-03-2016 20:59','Apple Safari v9.1 on mac',0\n",
      "16166367,'John','Launched a stress test on 123.123.123.1:80  for 300 using ESSYN','::1 ()','31-03-2016 21:02','Google Chrome v49.0.2623.110 on mac',0\n",
      "16166370,'testing','Launched a stress test on 3.1.23.1:80  for 100 using NTP','::1 ()','31-03-2016 21:19','Apple Safari v9.1 on mac',0\n",
      "16166372,'John','Launched a stress test on 8.8.8.8:102 (DDoS protected) for 783 using HOME','79.176.82.202 (IL)','31-03-2016 21:35','Apple Safari v9.1 on mac',0\n",
      "16166375,'John','Launched a stress test on 8.8.8.8:102 (DDoS protected) for 783 using HOME','79.176.82.202 (IL)','01-04-2016 08:47','Apple Safari v9.1 on mac',0\n",
      "16166385,'John','Launched a stress test on 1.1.1.1:80  for 300 using NTP','79.176.82.202 (IL)','02-04-2016 11:50','Apple Safari v9.1 on mac',0\n",
      "16166387,'John','Launched a stress test on 1.1.1.1:80  for 300 using NTP','79.176.82.202 (IL)','02-04-2016 11:52','Apple Safari v9.1 on mac',0\n",
      "16166389,'John','Launched a stress test on 1.1.1.1:80  for 300 using NTP','79.176.82.202 (IL)','02-04-2016 11:57','Google Chrome v49.0.2623.110 on mac',0\n",
      "16166391,'John','Launched a stress test on 1.1.1.1:80  for 300 using NTP','79.176.82.202 (IL)','02-04-2016 12:05','Google Chrome v49.0.2623.110 on mac',0\n",
      "16166393,'John','Launched a stress test on 1.1.1.1:80  for 744 using NTP','79.176.82.202 (IL)','02-04-2016 12:10','Google Chrome v49.0.2623.110 on mac',0\n",
      "16166398,'John','Launched a stress test on 1.1.1.1:80  for 300 using NTP','79.176.82.202 (il)','03-04-2016 07:48','Apple Safari v9.1 on mac',0\n",
      "16166844,'John','Launched a stress test on 1.1.1.1:80  for 1200 using DNS','79.180.106.225 (IL)','05-06-2016 15:17','Apple Safari v9.1.1 on mac',0\n",
      "16166846,'John','Launched a stress test on 1.1.1.1:80  for 130 using DNS','79.180.106.225 (IL)','05-06-2016 16:30','Google Chrome v50.0.2661.102 on mac',0\n",
      "16166880,'mario','Launched a stress test on 37.59.48.31:7777 (DDoS protected) for 300 using DNS','109.207.46.21 (RS)','07-06-2016 17:56','Mozilla Firefox v46.0 on windows',0\n",
      "16166882,'Mario','Launched a stress test on 37.59.48.31:80 (DDoS protected) for 111 using TCP-AMP','89.26.122.67 (AT)','07-06-2016 17:57','Mozilla Firefox v46.0 on windows',0\n",
      "16166884,'Mario','Launched a stress test on 31.172.80.104:9988  for 300 using TS3','89.26.122.67 (AT)','07-06-2016 17:59','Mozilla Firefox v46.0 on windows',0\n",
      "16166897,'John','Launched a stress test on 1.1.1.1:80  for 130 using DNS','79.180.106.225 (IL)','10-06-2016 09:28','Apple Safari v9.1.1 on mac',0\n",
      "16166926,'John','Launched a stress test on 1.1.1.1:80  for 130 using DNS','109.66.26.251 (IL)','17-06-2016 18:38','Apple Safari v9.1.1 on mac',0\n",
      "16166927,'John','Launched a stress test on 1.1.1.1:80  for 130 using DNS','109.66.26.251 (IL)','17-06-2016 19:39','Apple Safari v9.1.1 on mac',0\n",
      "16166932,'tetingthis','Launched a stress test on 1.1.1.1:80  for 318 using DNS','109.66.26.251 (IL)','17-06-2016 20:16','Google Chrome v51.0.2704.84 on mac',0\n",
      "16166934,'tudabai','Launched a stress test on 104.85.165.1:80  for 1200 using DNS','101.254.187.92 (CN)','17-06-2016 20:18','Google Chrome v45.0.2454.101 on windows',0\n",
      "16166936,'tudabai','Launched a stress test on 204.88.138.97:80  for 300 using DNS','101.254.187.92 (CN)','17-06-2016 20:21','Google Chrome v45.0.2454.101 on windows',0\n",
      "16166937,'tudabai','Launched a stress test on 104.85.165.1:80  for 180 using DNS','117.114.129.36 (CN)','17-06-2016 20:28','Google Chrome v45.0.2454.101 on windows',0\n",
      "16166938,'tudabai','Launched a stress test on 204.88.138.97:80  for 300 using ESSYN','117.114.129.36 (CN)','17-06-2016 20:29','Google Chrome v45.0.2454.101 on windows',0\n",
      "16166939,'tudabai','Launched a stress test on 104.85.165.1:80  for 195 using ESSYN','101.254.187.92 (CN)','17-06-2016 20:35','Google Chrome v45.0.2454.101 on windows',0\n",
      "16166941,'John','Launched a stress test on 1.1.1.1:80  for 300 using PPS','109.66.26.251 (IL)','17-06-2016 20:38','Apple Safari v9.1.1 on mac',0\n",
      "16166942,'tudabai','Launched a stress test on 104.85.165.1:80  for 300 using PPS','101.254.187.92 (CN)','17-06-2016 20:38','Google Chrome v45.0.2454.101 on windows',0\n",
      "16166949,'tudabai','Launched a stress test on 104.85.165.1:80  for 365 using DNS','42.81.69.214 (CN)','17-06-2016 21:01','Google Chrome v45.0.2454.101 on windows',0\n",
      "16166952,'tudabai','Launched a stress test on 104.85.165.1:80  for 300 using DNS','42.81.69.214 (CN)','17-06-2016 21:30','Google Chrome v45.0.2454.101 on windows',0\n",
      "16166957,'tudabai','Launched a stress test on 104.85.165.1:80  for 255 using DNS','45.78.11.40 (US)','17-06-2016 21:49','Google Chrome v45.0.2454.101 on windows',0\n",
      "16166958,'tudabai','Launched a stress test on 104.85.165.1:80  for 300 using DNS','45.78.11.40 (US)','17-06-2016 21:50','Google Chrome v45.0.2454.101 on windows',0\n",
      "16166961,'tudabai','Launched a stress test on 104.85.165.1:80  for 300 using DNS','45.78.11.40 (US)','17-06-2016 21:52','Google Chrome v45.0.2454.101 on windows',0\n",
      "16166964,'tudabai','Launched a stress test on 104.85.165.1:80  for 300 using DNS','61.148.242.180 (CN)','17-06-2016 21:58','Apple Safari v5.1 on mac',0\n",
      "16166965,'tudabai','Launched a stress test on 104.85.165.1:80  for 300 using DNS','61.148.242.180 (CN)','17-06-2016 21:59','Apple Safari v5.1 on mac',0\n",
      "16166966,'tudabai','Launched a stress test on 204.88.138.97:80  for 179 using DNS','117.114.129.36 (CN)','18-06-2016 00:05','Google Chrome v45.0.2454.101 on windows',0\n",
      "16166968,'tudabai','Launched a stress test on 104.85.165.1:80  for 300 using DNS','117.114.129.36 (CN)','18-06-2016 00:08','Google Chrome v45.0.2454.101 on windows',0\n",
      "16166969,'tudabai','Launched a stress test on 183.2.247.168:80  for 406 using DNS','101.254.187.92 (CN)','18-06-2016 00:21','Google Chrome v45.0.2454.101 on windows',0\n",
      "16166972,'tudabai','Launched a stress test on 104.85.165.1:80  for 300 using DNS','43.224.212.121 (CN)','18-06-2016 02:06','Google Chrome v45.0.2454.101 on windows',0\n",
      "16166973,'tudabai','Launched a stress test on 104.85.165.1:80  for 244 using DNS','43.224.212.121 (CN)','18-06-2016 02:07','Google Chrome v45.0.2454.101 on windows',0\n",
      "16166976,'tudabai','Launched a stress test on 43.227.194.239:7411  for 300 using ESSYN','117.114.129.36 (CN)','18-06-2016 06:22','Google Chrome v45.0.2454.101 on windows',0\n",
      "16166977,'tudabai','Launched a stress test on 43.227.194.239:7411  for 300 using ESSYN','117.114.129.36 (CN)','18-06-2016 06:22','Google Chrome v45.0.2454.101 on windows',0\n",
      "16166980,'tudabai','Launched a stress test on 104.85.165.1:80  for 300 using DNS','45.32.249.206 (JP)','18-06-2016 07:41','Google Chrome v45.0.2454.101 on windows',0\n",
      "16166981,'tudabai','Launched a stress test on 104.85.165.1:80  for 300 using DNS','45.32.249.206 (JP)','18-06-2016 07:44','Google Chrome v45.0.2454.101 on windows',0\n"
     ]
    }
   ],
   "source": [
    "lines_to_read=100\n",
    "\n",
    "with open(dumpfile) as myfile:\n",
    "    firstlines=myfile.readlines()[0:lines_to_read] #put here the interval you want\n",
    "    for x in firstlines:\n",
    "        print(x.strip())"
   ]
  },
  {
   "cell_type": "markdown",
   "metadata": {},
   "source": [
    "<h2 align=\"center\">\n",
    "!!!!!!!!!!!!!!!!!!!!!!!!!!!!!!!!!!!!!!!!!!!!!!!!!!!!!!!!!!!!!!!!!!!!!!!!!!!!!!!!!!!!!!!!!!!!!!!!!!!!!!!!!!!!!!!!!!!!!!!!!!!!!!!!!!!!!!!!!<br>\n",
    "SECOND PART: Adapt to Our Generic Database Schema<br>\n",
    "!!!!!!!!!!!!!!!!!!!!!!!!!!!!!!!!!!!!!!!!!!!!!!!!!!!!!!!!!!!!!!!!!!!!!!!!!!!!!!!!!!!!!!!!!!!!!!!!!!!!!!!!!!!!!!!!!!!!!!!!!!!!!!!</h3> "
   ]
  },
  {
   "cell_type": "markdown",
   "metadata": {},
   "source": [
    "## 2.0. Used Libraries"
   ]
  },
  {
   "cell_type": "code",
   "execution_count": 6,
   "metadata": {
    "collapsed": true
   },
   "outputs": [],
   "source": [
    "import pandas as pd\n",
    "import numpy as np\n",
    "\n",
    "from io import StringIO\n",
    "import re\n",
    "\n",
    "from IPython.display import display,clear_output"
   ]
  },
  {
   "cell_type": "markdown",
   "metadata": {},
   "source": [
    "## 2.1. Listing tables that have content inserted into the dump file"
   ]
  },
  {
   "cell_type": "code",
   "execution_count": 7,
   "metadata": {
    "collapsed": true
   },
   "outputs": [],
   "source": [
    "def list_tables_with_insert(dumpfile):\n",
    "    tables = []\n",
    "    with open(dumpfile, 'rb') as f:\n",
    "        for line in f:\n",
    "            line = line.decode(\"utf-8\").strip()\n",
    "            if line.lower().startswith('insert'):\n",
    "                table = re.findall(r'`(.*?)`', line)\n",
    "                tables.append(table[0])\n",
    "    return tables"
   ]
  },
  {
   "cell_type": "code",
   "execution_count": 8,
   "metadata": {
    "collapsed": false
   },
   "outputs": [
    {
     "name": "stdout",
     "output_type": "stream",
     "text": [
      "1 logs\n",
      "2 logs\n",
      "3 logs\n",
      "4 logs\n",
      "5 logs\n",
      "6 logs\n",
      "7 logs\n",
      "8 logs\n",
      "9 logs\n",
      "10 logs\n",
      "11 logs\n",
      "12 logs\n",
      "13 logs\n",
      "14 logs\n",
      "15 logs\n",
      "16 logs\n",
      "17 logs\n",
      "18 logs\n",
      "19 logs\n",
      "20 logs\n",
      "21 logs\n",
      "22 logs\n",
      "23 logs\n",
      "24 logs\n",
      "25 logs\n",
      "26 logs\n",
      "27 logs\n",
      "28 logs\n"
     ]
    }
   ],
   "source": [
    "tables=enumerate(list_tables_with_insert(dumpfile))\n",
    "\n",
    "for i, item in tables:\n",
    "    print(i+1,item)"
   ]
  },
  {
   "cell_type": "markdown",
   "metadata": {},
   "source": [
    "## 2.2.A Read table function for well formed SQL dump"
   ]
  },
  {
   "cell_type": "code",
   "execution_count": null,
   "metadata": {
    "collapsed": false
   },
   "outputs": [],
   "source": [
    "# For well formed SQL database dumps!\n",
    "def read_inserted_table(dumpfile, target_table):\n",
    "    sio = StringIO()\n",
    "    fast_forward = True\n",
    "    with open(dumpfile, 'rb') as f:\n",
    "        for line in f:\n",
    "            line = line.decode(\"utf-8\").strip()\n",
    "            line = re.sub(\"(?!(([^']*'){2})*[^']*$)\\)\", '',line) #Step0:remove any \")\" from the content of columns\n",
    "            if line.lower().startswith('insert') and target_table in line:\n",
    "                fast_forward = False\n",
    "            if fast_forward:\n",
    "                continue\n",
    "            data = re.findall('\\([^\\)]*\\)', line) #Step1: get the content between parentesis (i.e., insert line)\n",
    "            try:\n",
    "                newline = data[0].strip('()') #Step2:remove parenthesis\n",
    "                newline=newline.replace('`','') #Step3: remove ` (usually in table names)\n",
    "                newline=re.sub(r'(?!(([^\\']*\\'){2})*[^\\']*$),', '', newline) #Step4: remove commas from the content of columns\n",
    "                newline=newline.replace('\\'','') #Step5: remove single quotes\n",
    "                newline=newline.replace(', ', ',') #Step6: remove single spaces after comma (i.e., in the beginning of a column)\n",
    "                sio.write(newline)\n",
    "                sio.write(\"\\n\")\n",
    "            except IndexError:\n",
    "                pass\n",
    "            if line.endswith(';'):\n",
    "                break\n",
    "    sio.seek(0)\n",
    "    return sio"
   ]
  },
  {
   "cell_type": "markdown",
   "metadata": {},
   "source": [
    "## 2.2.0. Converter functions for columns in tables"
   ]
  },
  {
   "cell_type": "code",
   "execution_count": 30,
   "metadata": {
    "collapsed": true
   },
   "outputs": [],
   "source": [
    "def tolowercase(text):\n",
    "    try:\n",
    "        return text.lower()\n",
    "    except AttributeError:\n",
    "        return text "
   ]
  },
  {
   "cell_type": "code",
   "execution_count": 35,
   "metadata": {
    "collapsed": true
   },
   "outputs": [],
   "source": [
    "def strip_singlequote(text):\n",
    "    try:\n",
    "        return text.strip('\\'')\n",
    "    except AttributeError:\n",
    "        return text"
   ]
  },
  {
   "cell_type": "code",
   "execution_count": 32,
   "metadata": {
    "collapsed": true
   },
   "outputs": [],
   "source": [
    "def timestamp2datetime(timestamp):\n",
    "    try:\n",
    "        return  pd.to_datetime(timestamp,unit='s')\n",
    "    except AttributeError:\n",
    "        return timestamp "
   ]
  },
  {
   "cell_type": "code",
   "execution_count": 33,
   "metadata": {
    "collapsed": true
   },
   "outputs": [],
   "source": [
    "def dateformat2datetime(text):\n",
    "    try:\n",
    "        return  pd.to_datetime(text,format='%d-%m-%Y %H:%M')\n",
    "    except AttributeError:\n",
    "        return text "
   ]
  },
  {
   "cell_type": "markdown",
   "metadata": {},
   "source": [
    "## 2.2.0* Converter functions for VERY SPECIFIC COLUMNS"
   ]
  },
  {
   "cell_type": "code",
   "execution_count": 31,
   "metadata": {
    "collapsed": true
   },
   "outputs": [],
   "source": [
    "def strip_singlequote_and_tolowercase(text):\n",
    "    try:\n",
    "        return text.strip('\\'').lower()\n",
    "    except AttributeError:\n",
    "        return text "
   ]
  },
  {
   "cell_type": "code",
   "execution_count": 34,
   "metadata": {
    "collapsed": true
   },
   "outputs": [],
   "source": [
    "def strip_singlequote_and_dateformat2datetime(text):\n",
    "    try:\n",
    "        return  pd.to_datetime(text.strip('\\''),format='%d-%m-%Y %H:%M')\n",
    "    except AttributeError:\n",
    "        return text "
   ]
  },
  {
   "cell_type": "code",
   "execution_count": 36,
   "metadata": {
    "collapsed": true
   },
   "outputs": [],
   "source": [
    "def strip_parenthesisandsemicolon(text):\n",
    "    try:\n",
    "        return text.replace(');',\"\")\n",
    "    except AttributeError:\n",
    "        return text "
   ]
  },
  {
   "cell_type": "code",
   "execution_count": 51,
   "metadata": {
    "collapsed": true
   },
   "outputs": [],
   "source": [
    "def strip_insertintologs(text):\n",
    "    try:\n",
    "        return int(text.replace('INSERT INTO `logs` VALUES (',\"\"))\n",
    "    except AttributeError:\n",
    "        return text "
   ]
  },
  {
   "cell_type": "markdown",
   "metadata": {},
   "source": [
    "## 2.2.1.A Read the raw table: 'tablename'"
   ]
  },
  {
   "cell_type": "code",
   "execution_count": null,
   "metadata": {
    "collapsed": false,
    "scrolled": true
   },
   "outputs": [],
   "source": [
    "# tablename='<tablename>'\n",
    "\n",
    "# pd.read_csv(read_inserted_table(dumpfile, tablename),\n",
    "#             delimiter=\",\",\n",
    "#             error_bad_lines=False).head(10)"
   ]
  },
  {
   "cell_type": "markdown",
   "metadata": {},
   "source": [
    "## 2.2.1.B Read all lines (except the header lines)"
   ]
  },
  {
   "cell_type": "code",
   "execution_count": 48,
   "metadata": {
    "collapsed": false
   },
   "outputs": [
    {
     "data": {
      "text/html": [
       "<div>\n",
       "<table border=\"1\" class=\"dataframe\">\n",
       "  <thead>\n",
       "    <tr style=\"text-align: right;\">\n",
       "      <th></th>\n",
       "      <th>id</th>\n",
       "      <th>username</th>\n",
       "      <th>action</th>\n",
       "      <th>ip</th>\n",
       "      <th>date</th>\n",
       "      <th>platform</th>\n",
       "      <th>hidden</th>\n",
       "    </tr>\n",
       "  </thead>\n",
       "  <tbody>\n",
       "    <tr>\n",
       "      <th>0</th>\n",
       "      <td>16166365</td>\n",
       "      <td>'John'</td>\n",
       "      <td>'Launched a stress test on 1.1.1.1:80  for 30 ...</td>\n",
       "      <td>'::1 ()'</td>\n",
       "      <td>'31-03-2016 20:59'</td>\n",
       "      <td>'Apple Safari v9.1 on mac'</td>\n",
       "      <td>0</td>\n",
       "    </tr>\n",
       "    <tr>\n",
       "      <th>1</th>\n",
       "      <td>16166367</td>\n",
       "      <td>'John'</td>\n",
       "      <td>'Launched a stress test on 123.123.123.1:80  f...</td>\n",
       "      <td>'::1 ()'</td>\n",
       "      <td>'31-03-2016 21:02'</td>\n",
       "      <td>'Google Chrome v49.0.2623.110 on mac'</td>\n",
       "      <td>0</td>\n",
       "    </tr>\n",
       "    <tr>\n",
       "      <th>2</th>\n",
       "      <td>16166370</td>\n",
       "      <td>'testing'</td>\n",
       "      <td>'Launched a stress test on 3.1.23.1:80  for 10...</td>\n",
       "      <td>'::1 ()'</td>\n",
       "      <td>'31-03-2016 21:19'</td>\n",
       "      <td>'Apple Safari v9.1 on mac'</td>\n",
       "      <td>0</td>\n",
       "    </tr>\n",
       "  </tbody>\n",
       "</table>\n",
       "</div>"
      ],
      "text/plain": [
       "         id   username                                             action  \\\n",
       "0  16166365     'John'  'Launched a stress test on 1.1.1.1:80  for 30 ...   \n",
       "1  16166367     'John'  'Launched a stress test on 123.123.123.1:80  f...   \n",
       "2  16166370  'testing'  'Launched a stress test on 3.1.23.1:80  for 10...   \n",
       "\n",
       "         ip                date                               platform hidden  \n",
       "0  '::1 ()'  '31-03-2016 20:59'             'Apple Safari v9.1 on mac'      0  \n",
       "1  '::1 ()'  '31-03-2016 21:02'  'Google Chrome v49.0.2623.110 on mac'      0  \n",
       "2  '::1 ()'  '31-03-2016 21:19'             'Apple Safari v9.1 on mac'      0  "
      ]
     },
     "execution_count": 48,
     "metadata": {},
     "output_type": "execute_result"
    }
   ],
   "source": [
    "num_header_lines=55\n",
    "\n",
    "columns=['id', 'username', 'action', 'ip','date','platform','hidden']\n",
    "\n",
    "df_manual= pd.read_csv(dumpfile,\n",
    "            delimiter=\",\",\n",
    "            skiprows = num_header_lines,\n",
    "            names = columns)\n",
    "df_manual.head(3)"
   ]
  },
  {
   "cell_type": "markdown",
   "metadata": {},
   "source": [
    "#### Manually analysing the first column"
   ]
  },
  {
   "cell_type": "code",
   "execution_count": 49,
   "metadata": {
    "collapsed": false
   },
   "outputs": [
    {
     "data": {
      "text/html": [
       "<div>\n",
       "<table border=\"1\" class=\"dataframe\">\n",
       "  <thead>\n",
       "    <tr style=\"text-align: right;\">\n",
       "      <th></th>\n",
       "      <th>id</th>\n",
       "      <th>username</th>\n",
       "      <th>action</th>\n",
       "      <th>ip</th>\n",
       "      <th>date</th>\n",
       "      <th>platform</th>\n",
       "      <th>hidden</th>\n",
       "    </tr>\n",
       "  </thead>\n",
       "  <tbody>\n",
       "    <tr>\n",
       "      <th>5271</th>\n",
       "      <td>INSERT INTO `logs` VALUES (16311215</td>\n",
       "      <td>'xrenorg'</td>\n",
       "      <td>'Launched a stress test on 58.220.3.232:7777  ...</td>\n",
       "      <td>'27.150.217.42 (CN)'</td>\n",
       "      <td>'02-05-2016 23:49'</td>\n",
       "      <td>'Google Chrome v45.0.2454.101 on windows'</td>\n",
       "      <td>0</td>\n",
       "    </tr>\n",
       "    <tr>\n",
       "      <th>12171</th>\n",
       "      <td>INSERT INTO `logs` VALUES (16324502</td>\n",
       "      <td>'vlo520'</td>\n",
       "      <td>'Launched a stress test on 61.160.222.53:80  f...</td>\n",
       "      <td>'113.95.20.90 (CN)'</td>\n",
       "      <td>'06-05-2016 03:09'</td>\n",
       "      <td>'Google Chrome v49.0.2623.112 on windows'</td>\n",
       "      <td>0</td>\n",
       "    </tr>\n",
       "    <tr>\n",
       "      <th>19134</th>\n",
       "      <td>INSERT INTO `logs` VALUES (16337831</td>\n",
       "      <td>'yjx20072'</td>\n",
       "      <td>'Launched a stress test on 183.60.204.106:1588...</td>\n",
       "      <td>'183.51.242.150 (CN)'</td>\n",
       "      <td>'09-05-2016 06:52'</td>\n",
       "      <td>'Google Chrome v45.0.2454.101 on windows'</td>\n",
       "      <td>0</td>\n",
       "    </tr>\n",
       "  </tbody>\n",
       "</table>\n",
       "</div>"
      ],
      "text/plain": [
       "                                        id    username  \\\n",
       "5271   INSERT INTO `logs` VALUES (16311215   'xrenorg'   \n",
       "12171  INSERT INTO `logs` VALUES (16324502    'vlo520'   \n",
       "19134  INSERT INTO `logs` VALUES (16337831  'yjx20072'   \n",
       "\n",
       "                                                  action  \\\n",
       "5271   'Launched a stress test on 58.220.3.232:7777  ...   \n",
       "12171  'Launched a stress test on 61.160.222.53:80  f...   \n",
       "19134  'Launched a stress test on 183.60.204.106:1588...   \n",
       "\n",
       "                          ip                date  \\\n",
       "5271    '27.150.217.42 (CN)'  '02-05-2016 23:49'   \n",
       "12171    '113.95.20.90 (CN)'  '06-05-2016 03:09'   \n",
       "19134  '183.51.242.150 (CN)'  '09-05-2016 06:52'   \n",
       "\n",
       "                                        platform hidden  \n",
       "5271   'Google Chrome v45.0.2454.101 on windows'      0  \n",
       "12171  'Google Chrome v49.0.2623.112 on windows'      0  \n",
       "19134  'Google Chrome v45.0.2454.101 on windows'      0  "
      ]
     },
     "execution_count": 49,
     "metadata": {},
     "output_type": "execute_result"
    }
   ],
   "source": [
    "df_manual[df_manual['id'].str.contains('INSERT INTO')].head(3)"
   ]
  },
  {
   "cell_type": "markdown",
   "metadata": {},
   "source": [
    "#### Manually analysing the last column"
   ]
  },
  {
   "cell_type": "code",
   "execution_count": 50,
   "metadata": {
    "collapsed": false
   },
   "outputs": [
    {
     "data": {
      "text/html": [
       "<div>\n",
       "<table border=\"1\" class=\"dataframe\">\n",
       "  <thead>\n",
       "    <tr style=\"text-align: right;\">\n",
       "      <th></th>\n",
       "      <th>id</th>\n",
       "      <th>username</th>\n",
       "      <th>action</th>\n",
       "      <th>ip</th>\n",
       "      <th>date</th>\n",
       "      <th>platform</th>\n",
       "      <th>hidden</th>\n",
       "    </tr>\n",
       "  </thead>\n",
       "  <tbody>\n",
       "    <tr>\n",
       "      <th>5270</th>\n",
       "      <td>16311214</td>\n",
       "      <td>'xrenorg'</td>\n",
       "      <td>'Launched a stress test on 222.186.135.85:7777...</td>\n",
       "      <td>'27.150.217.42 (CN)'</td>\n",
       "      <td>'02-05-2016 23:49'</td>\n",
       "      <td>'Google Chrome v45.0.2454.101 on windows'</td>\n",
       "      <td>0);</td>\n",
       "    </tr>\n",
       "    <tr>\n",
       "      <th>12170</th>\n",
       "      <td>16324501</td>\n",
       "      <td>'jingwang'</td>\n",
       "      <td>'Launched a stress test on 59.44.20.101:80  fo...</td>\n",
       "      <td>'221.181.211.98 (CN)'</td>\n",
       "      <td>'06-05-2016 03:08'</td>\n",
       "      <td>'Google Chrome v47.0.2526.106 on windows'</td>\n",
       "      <td>0);</td>\n",
       "    </tr>\n",
       "    <tr>\n",
       "      <th>15626</th>\n",
       "      <td>16331150</td>\n",
       "      <td>'RadeuXC'</td>\n",
       "      <td>'Launched a stress test on 83.36.233.54:80  fo...</td>\n",
       "      <td>'88.20.250.123 (ES)'</td>\n",
       "      <td>'07-05-2016 15:38'</td>\n",
       "      <td>'Mozilla Firefox v46.0 on windows'</td>\n",
       "      <td>0);</td>\n",
       "    </tr>\n",
       "  </tbody>\n",
       "</table>\n",
       "</div>"
      ],
      "text/plain": [
       "             id    username  \\\n",
       "5270   16311214   'xrenorg'   \n",
       "12170  16324501  'jingwang'   \n",
       "15626  16331150   'RadeuXC'   \n",
       "\n",
       "                                                  action  \\\n",
       "5270   'Launched a stress test on 222.186.135.85:7777...   \n",
       "12170  'Launched a stress test on 59.44.20.101:80  fo...   \n",
       "15626  'Launched a stress test on 83.36.233.54:80  fo...   \n",
       "\n",
       "                          ip                date  \\\n",
       "5270    '27.150.217.42 (CN)'  '02-05-2016 23:49'   \n",
       "12170  '221.181.211.98 (CN)'  '06-05-2016 03:08'   \n",
       "15626   '88.20.250.123 (ES)'  '07-05-2016 15:38'   \n",
       "\n",
       "                                        platform hidden  \n",
       "5270   'Google Chrome v45.0.2454.101 on windows'    0);  \n",
       "12170  'Google Chrome v47.0.2526.106 on windows'    0);  \n",
       "15626         'Mozilla Firefox v46.0 on windows'    0);  "
      ]
     },
     "execution_count": 50,
     "metadata": {},
     "output_type": "execute_result"
    }
   ],
   "source": [
    "df_manual[df_manual['hidden'].str.contains(';')].head(3)"
   ]
  },
  {
   "cell_type": "markdown",
   "metadata": {},
   "source": [
    "#### Q1: Is this table different from other previous loaded table? YES\n",
    "#### Q2: Is this table similar to any table in the generic Booter database schema? YES\n",
    "    - This table looks like: attacks\n",
    "    - The blacklist table must to have the columns: id, userid, username, targetip, targeturl, duration, port, and date\n",
    "    \n",
    "#### Q3: Are there modifications required? YES\n",
    "    - On the table name: \n",
    "        o logs => attacks\n",
    "    - On the column type: \n",
    "        o id => strip_insertintologs\n",
    "        o username => strip_single_quote,\n",
    "        o action => strip_single_quote,\n",
    "        o ip => strip_single_quote,\n",
    "        o date => strip_singlequote_and_dateformat2datetime,\n",
    "        o platform => strip_single_quote,\n",
    "        o hidden => strip_parenthesisandcomma    \n",
    "    - On the column name:\n",
    "        o ip => userip \n",
    "    - Add required columns:\n",
    "        o userid\n",
    "    - Split columns:\n",
    "        o action => targetip, targeturl, port, duration"
   ]
  },
  {
   "cell_type": "markdown",
   "metadata": {},
   "source": [
    "## 2.2.1.X.A Loading the modified table: 'tablename'"
   ]
  },
  {
   "cell_type": "code",
   "execution_count": null,
   "metadata": {
    "collapsed": false
   },
   "outputs": [],
   "source": [
    "# ### Loading the column converting columns with predefined functions\n",
    "# df_<generictable> = pd.read_csv(read_inserted_table(dumpfile, tablename),\n",
    "#                                 delimiter=\",\",\n",
    "#                                 error_bad_lines=False,)\n",
    "# #                        converters = {'date':timestamp2datetime})\n",
    "\n",
    "# ###Changing names of columns\n",
    "# df_<generictable>.rename(columns = {'actual1': 'generic_column_name1',\n",
    "#                                     'actual2': 'generic_column_name2'},\n",
    "#                          inplace=True)\n",
    "\n",
    "# ###Creating empty columns (with \"\" [for future string] or np.nan [for future float])\n",
    "# df_<generictable>['generic_column_name_missing'] = \"\"\n",
    "\n",
    "# ###Showing some lines after adapt the table\n",
    "# df_<generictable>.head(10)"
   ]
  },
  {
   "cell_type": "markdown",
   "metadata": {},
   "source": [
    "## 2.2.1.X.B Loading the modified table: 'logs'"
   ]
  },
  {
   "cell_type": "code",
   "execution_count": 56,
   "metadata": {
    "collapsed": false
   },
   "outputs": [
    {
     "data": {
      "text/html": [
       "<div>\n",
       "<table border=\"1\" class=\"dataframe\">\n",
       "  <thead>\n",
       "    <tr style=\"text-align: right;\">\n",
       "      <th></th>\n",
       "      <th>id</th>\n",
       "      <th>username</th>\n",
       "      <th>action</th>\n",
       "      <th>ip</th>\n",
       "      <th>date</th>\n",
       "      <th>platform</th>\n",
       "      <th>hidden</th>\n",
       "    </tr>\n",
       "  </thead>\n",
       "  <tbody>\n",
       "    <tr>\n",
       "      <th>0</th>\n",
       "      <td>16166365</td>\n",
       "      <td>john</td>\n",
       "      <td>Launched a stress test on 1.1.1.1:80  for 30 u...</td>\n",
       "      <td>::1 ()</td>\n",
       "      <td>2016-03-31 20:59:00</td>\n",
       "      <td>Apple Safari v9.1 on mac</td>\n",
       "      <td>0</td>\n",
       "    </tr>\n",
       "    <tr>\n",
       "      <th>1</th>\n",
       "      <td>16166367</td>\n",
       "      <td>john</td>\n",
       "      <td>Launched a stress test on 123.123.123.1:80  fo...</td>\n",
       "      <td>::1 ()</td>\n",
       "      <td>2016-03-31 21:02:00</td>\n",
       "      <td>Google Chrome v49.0.2623.110 on mac</td>\n",
       "      <td>0</td>\n",
       "    </tr>\n",
       "    <tr>\n",
       "      <th>2</th>\n",
       "      <td>16166370</td>\n",
       "      <td>testing</td>\n",
       "      <td>Launched a stress test on 3.1.23.1:80  for 100...</td>\n",
       "      <td>::1 ()</td>\n",
       "      <td>2016-03-31 21:19:00</td>\n",
       "      <td>Apple Safari v9.1 on mac</td>\n",
       "      <td>0</td>\n",
       "    </tr>\n",
       "    <tr>\n",
       "      <th>3</th>\n",
       "      <td>16166372</td>\n",
       "      <td>john</td>\n",
       "      <td>Launched a stress test on 8.8.8.8:102 (DDoS pr...</td>\n",
       "      <td>79.176.82.202 (IL)</td>\n",
       "      <td>2016-03-31 21:35:00</td>\n",
       "      <td>Apple Safari v9.1 on mac</td>\n",
       "      <td>0</td>\n",
       "    </tr>\n",
       "    <tr>\n",
       "      <th>4</th>\n",
       "      <td>16166375</td>\n",
       "      <td>john</td>\n",
       "      <td>Launched a stress test on 8.8.8.8:102 (DDoS pr...</td>\n",
       "      <td>79.176.82.202 (IL)</td>\n",
       "      <td>2016-04-01 08:47:00</td>\n",
       "      <td>Apple Safari v9.1 on mac</td>\n",
       "      <td>0</td>\n",
       "    </tr>\n",
       "  </tbody>\n",
       "</table>\n",
       "</div>"
      ],
      "text/plain": [
       "         id username                                             action  \\\n",
       "0  16166365     john  Launched a stress test on 1.1.1.1:80  for 30 u...   \n",
       "1  16166367     john  Launched a stress test on 123.123.123.1:80  fo...   \n",
       "2  16166370  testing  Launched a stress test on 3.1.23.1:80  for 100...   \n",
       "3  16166372     john  Launched a stress test on 8.8.8.8:102 (DDoS pr...   \n",
       "4  16166375     john  Launched a stress test on 8.8.8.8:102 (DDoS pr...   \n",
       "\n",
       "                   ip                date  \\\n",
       "0              ::1 () 2016-03-31 20:59:00   \n",
       "1              ::1 () 2016-03-31 21:02:00   \n",
       "2              ::1 () 2016-03-31 21:19:00   \n",
       "3  79.176.82.202 (IL) 2016-03-31 21:35:00   \n",
       "4  79.176.82.202 (IL) 2016-04-01 08:47:00   \n",
       "\n",
       "                              platform hidden  \n",
       "0             Apple Safari v9.1 on mac      0  \n",
       "1  Google Chrome v49.0.2623.110 on mac      0  \n",
       "2             Apple Safari v9.1 on mac      0  \n",
       "3             Apple Safari v9.1 on mac      0  \n",
       "4             Apple Safari v9.1 on mac      0  "
      ]
     },
     "execution_count": 56,
     "metadata": {},
     "output_type": "execute_result"
    }
   ],
   "source": [
    "columns=['id', 'username', 'action', 'ip','date','platform','hidden']\n",
    "\n",
    "df_attacks = pd.read_csv(dumpfile,\\\n",
    "                 skiprows=55,\\\n",
    "                 sep=\",\",\\\n",
    "                 names = columns,\\\n",
    "                 converters = {'id': strip_insertintologs,\n",
    "                               'username' : strip_singlequote_and_tolowercase,\n",
    "                               'action' : strip_singlequote,\n",
    "                               'ip':strip_singlequote,\n",
    "                               'date':strip_singlequote_and_dateformat2datetime,\n",
    "                               'platform': strip_singlequote,\n",
    "                               'hidden':strip_parenthesisandsemicolon})\n",
    "df_attacks.head(5)"
   ]
  },
  {
   "cell_type": "markdown",
   "metadata": {},
   "source": [
    "#### Splitting the content of some columns in new columns"
   ]
  },
  {
   "cell_type": "code",
   "execution_count": 112,
   "metadata": {
    "collapsed": true
   },
   "outputs": [],
   "source": [
    "df_attacks['targetip']=df_attacks['action'].str.extract('on (?P<targetip>[0-9]+\\.[0-9]+\\.[0-9]+\\.[0-9]+)', expand=True) \n",
    "df_attacks['targeturl']=df_attacks['action'].str.extract('on [A-Z]+://(?P<targeturl>[^\\s:/]+)', expand=True, flags=re.IGNORECASE)\n",
    "df_attacks['port']=df_attacks['action'].str.extract(':(?P<targetport>[0-9]+)', expand=True)\n",
    "df_attacks['duration']=df_attacks['action'].str.extract('for\\s+(?P<duration>[0-9]+)', expand=True)\n",
    "df_attacks['type']=df_attacks['action'].str.extract('using\\s+([a-z]\\w{0,})', expand=True, flags=re.IGNORECASE)\n",
    "\n",
    "df_attacks['userip']=df_attacks['ip'].str.extract('(([0-9a-fA-F]*[:\\.])+[0-9a-fA-F]*)', expand=True)[0] #for  IPv4 and IPv6\n",
    "df_attacks['country']=df_attacks['ip'].str.extract('([A-Z]\\w)', expand=True,flags=re.IGNORECASE)\n",
    "\n",
    "df_attacks['userid']=np.nan\n",
    "\n",
    "#some extra info\n",
    "df_attacks['vip_attack']=df_attacks['action'].str.contains('Launched a VIP stress test on', regex=True)\n",
    "df_attacks['target_ddosprotected']=df_attacks['action'].str.contains('DDoS protected', regex=True)\n",
    "df_attacks['user_os']=df_attacks['platform'].str.extract('on\\s+(\\w+)', expand=True,flags=re.IGNORECASE)\n",
    "df_attacks['user_browser']=df_attacks['platform'].str.extract('\\'(.*)\\s+on', expand=True,flags=re.IGNORECASE)"
   ]
  },
  {
   "cell_type": "markdown",
   "metadata": {},
   "source": [
    "#### Creating new tables with the information from the previous table"
   ]
  },
  {
   "cell_type": "code",
   "execution_count": 113,
   "metadata": {
    "collapsed": false
   },
   "outputs": [
    {
     "data": {
      "text/html": [
       "<div>\n",
       "<table border=\"1\" class=\"dataframe\">\n",
       "  <thead>\n",
       "    <tr style=\"text-align: right;\">\n",
       "      <th></th>\n",
       "      <th>username</th>\n",
       "      <th>userip</th>\n",
       "      <th>date</th>\n",
       "      <th>id</th>\n",
       "      <th>userid</th>\n",
       "    </tr>\n",
       "  </thead>\n",
       "  <tbody>\n",
       "    <tr>\n",
       "      <th>0</th>\n",
       "      <td>john</td>\n",
       "      <td>::1</td>\n",
       "      <td>2016-03-31 20:59:00</td>\n",
       "      <td>NaN</td>\n",
       "      <td>NaN</td>\n",
       "    </tr>\n",
       "    <tr>\n",
       "      <th>1</th>\n",
       "      <td>john</td>\n",
       "      <td>::1</td>\n",
       "      <td>2016-03-31 21:02:00</td>\n",
       "      <td>NaN</td>\n",
       "      <td>NaN</td>\n",
       "    </tr>\n",
       "    <tr>\n",
       "      <th>2</th>\n",
       "      <td>testing</td>\n",
       "      <td>::1</td>\n",
       "      <td>2016-03-31 21:19:00</td>\n",
       "      <td>NaN</td>\n",
       "      <td>NaN</td>\n",
       "    </tr>\n",
       "  </tbody>\n",
       "</table>\n",
       "</div>"
      ],
      "text/plain": [
       "  username userip                date  id  userid\n",
       "0     john    ::1 2016-03-31 20:59:00 NaN     NaN\n",
       "1     john    ::1 2016-03-31 21:02:00 NaN     NaN\n",
       "2  testing    ::1 2016-03-31 21:19:00 NaN     NaN"
      ]
     },
     "execution_count": 113,
     "metadata": {},
     "output_type": "execute_result"
    }
   ],
   "source": [
    "df_logins=df_attacks[['username','userip','date']]\n",
    "\n",
    "#adding empty columns\n",
    "df_logins['id']=np.nan\n",
    "df_logins['userid']=np.nan\n",
    "\n",
    "df_logins.head(3)"
   ]
  },
  {
   "cell_type": "markdown",
   "metadata": {},
   "source": [
    "## 3.1. Adding missing tables accordingly to our generic Booter database "
   ]
  },
  {
   "cell_type": "code",
   "execution_count": 70,
   "metadata": {
    "collapsed": false
   },
   "outputs": [],
   "source": [
    "df_users=pd.DataFrame(columns=['userid','username','useremail','password','expire','plan'])      \n",
    "# df_logins=pd.DataFrame(columns=['id','userid','username','userip','date'])\n",
    "# df_attacks= pd.DataFrame(columns=['id','userid','username','targetip','targeturl','duration','port','type','date'])\n",
    "df_payments=pd.DataFrame(columns=['id','userid','username','amountpaid','paymentemail','planid','tid','date'])\n",
    "df_settings=pd.DataFrame(columns=['url','sitename','siteemail'])\n",
    "df_gateways=pd.DataFrame(columns=['email'])\n",
    "df_friendsenemies=pd.DataFrame(columns=['id','ip','note','userid','type'])\n",
    "df_blacklist=pd.DataFrame(columns=['id','ip','note'])\n",
    "df_webshells=pd.DataFrame(columns=['id','url','status','lastchecked','attacktype'])\n",
    "df_servers=pd.DataFrame(columns=['id','ip'])\n",
    "df_plans=pd.DataFrame(columns=['planid','planname','plandescr','price','maxboottime','concurrency'])"
   ]
  },
  {
   "cell_type": "markdown",
   "metadata": {},
   "source": [
    "<h1 align=\"center\">\n",
    "!!!!!!!!!!!!!!!!!!!!!!!!!!!!!!!!!!!!!!!!!!!!!!!!!!!!!!!!!!!!!!!!!!!!!!!!!!!!!!!!!!!!!!!!!!!!!!!!!!!!!!!!!!!!!!!!!!!!!!!!!!!!!!!!!!!!!!!!!<br>\n",
    "THIRD PART: Data Enrichment<br>\n",
    "!!!!!!!!!!!!!!!!!!!!!!!!!!!!!!!!!!!!!!!!!!!!!!!!!!!!!!!!!!!!!!!!!!!!!!!!!!!!!!!!!!!!!!!!!!!!!!!!!!!!!!!!!!!!!!!!!!!!!!!!!!!!!!!</h1> "
   ]
  },
  {
   "cell_type": "markdown",
   "metadata": {},
   "source": [
    "## 3.0. Needed Libraries"
   ]
  },
  {
   "cell_type": "code",
   "execution_count": 71,
   "metadata": {
    "collapsed": true
   },
   "outputs": [],
   "source": [
    "import subprocess\n",
    "\n",
    "import cfscrape\n",
    "from lxml import etree\n",
    "\n",
    "import os.path\n",
    "\n",
    "import random\n",
    "import time "
   ]
  },
  {
   "cell_type": "markdown",
   "metadata": {},
   "source": [
    "## 3.1. Lookup functions"
   ]
  },
  {
   "cell_type": "code",
   "execution_count": 72,
   "metadata": {
    "collapsed": false
   },
   "outputs": [],
   "source": [
    "# THANKS TO: team-cymru.org\n",
    "def iptoasn(iplist_teamcymruformat_filelocation,outputfile):\n",
    "    cat = subprocess.Popen(['cat', iplist_teamcymruformat_filelocation], \n",
    "                            stdout=subprocess.PIPE)\n",
    "    \n",
    "    netcat = subprocess.Popen(['netcat', 'whois.cymru.com', '43'],\n",
    "                              stdin=cat.stdout,\n",
    "                              stdout=outputfile)\n",
    "    time.sleep(3) #for some reason the poll does not work! This was the way to overcome the waiting time.\n",
    "    \n",
    "    return netcat.stdout      "
   ]
  },
  {
   "cell_type": "code",
   "execution_count": 73,
   "metadata": {
    "collapsed": true
   },
   "outputs": [],
   "source": [
    "# THANKS TO: exonerator.torproject.org\n",
    "def WasTorNode(ip, date ):\n",
    "    url=\"https://exonerator.torproject.org/?ip=\"+ip+\"&timestamp=\"+date\n",
    "    scraper = cfscrape.create_scraper()\n",
    "    scraped_html=scraper.get(url).content    \n",
    "    html_tree = etree.HTML(scraped_html)\n",
    "    result=html_tree.xpath(\"//h3[@class='panel-title']/text()\") # I was looking for <h3 class=\"panel-title\">Result is positive</h3>\n",
    "    tor_node=True if result == ['Result is positive'] else False\n",
    "    return tor_node \n",
    "# 'date' MUST BE formated as: Year-month-day (2016-03-31)"
   ]
  },
  {
   "cell_type": "markdown",
   "metadata": {},
   "source": [
    "## 3.2. Discovering the middle date of the database"
   ]
  },
  {
   "cell_type": "code",
   "execution_count": 74,
   "metadata": {
    "collapsed": false
   },
   "outputs": [
    {
     "name": "stdout",
     "output_type": "stream",
     "text": [
      "2016-05-27\n"
     ]
    }
   ],
   "source": [
    "try:\n",
    "    try:\n",
    "        middle_date=(min(df_attacks['date'])+((max(df_attacks['date'])-min(df_attacks['date']))/2))\n",
    "        raise\n",
    "    except Exception:\n",
    "        pass\n",
    "\n",
    "    try:\n",
    "        middle_date=(min(df_logins['date'])+((max(df_logins['date'])-min(df_logins['date']))/2))\n",
    "        raise\n",
    "    except Exception:\n",
    "        pass\n",
    "\n",
    "    try:\n",
    "        middle_date=(min(df_payments['date'])+((max(df_payments['date'])-min(df_payments['date']))/2))\n",
    "        raise\n",
    "    except:\n",
    "        pass\n",
    "except Exception:\n",
    "    print(\"There is no date in the entire dataset\")\n",
    "\n",
    "date_tor_check = middle_date.strftime('%Y-%m-%d')\n",
    "date_iptoasn_lookup= str(middle_date)\n",
    "print(date_tor_check)"
   ]
  },
  {
   "cell_type": "markdown",
   "metadata": {},
   "source": [
    "## 3.3 Preparing to Perform IP to ASN info"
   ]
  },
  {
   "cell_type": "code",
   "execution_count": 75,
   "metadata": {
    "collapsed": false
   },
   "outputs": [
    {
     "name": "stderr",
     "output_type": "stream",
     "text": [
      "/usr/local/lib/python3.5/site-packages/ipykernel/__main__.py:1: SettingWithCopyWarning: \n",
      "A value is trying to be set on a copy of a slice from a DataFrame.\n",
      "Try using .loc[row_indexer,col_indexer] = value instead\n",
      "\n",
      "See the caveats in the documentation: http://pandas.pydata.org/pandas-docs/stable/indexing.html#indexing-view-versus-copy\n",
      "  if __name__ == '__main__':\n"
     ]
    }
   ],
   "source": [
    "df_logins['middledate']=date_iptoasn_lookup\n",
    "df_attacks['middledate']=date_iptoasn_lookup\n",
    "df_friendsenemies['middledate']=date_iptoasn_lookup\n",
    "df_blacklist['middledate']=date_iptoasn_lookup"
   ]
  },
  {
   "cell_type": "markdown",
   "metadata": {},
   "source": [
    "## 3.4.1  Lookup IP to ASN info of table: logins"
   ]
  },
  {
   "cell_type": "code",
   "execution_count": 76,
   "metadata": {
    "collapsed": false
   },
   "outputs": [],
   "source": [
    "if (os.path.exists('logins_iptoasn_out')== False):\n",
    "    logins_iptoasn_in = open('logins_iptoasn_in', 'w+')\n",
    "    logins_iptoasn_in.write('begin\\nverbose\\n')\n",
    "    df_logins[['userip','middledate']].drop_duplicates().to_csv(logins_iptoasn_in,header=False,index=False,sep=\"\\t\") \n",
    "    logins_iptoasn_in.write('end')\n",
    "    logins_iptoasn_in.close()\n",
    "\n",
    "    logins_iptoasn_out = open('logins_iptoasn_out', 'w+')\n",
    "    iptoasn('logins_iptoasn_in',logins_iptoasn_out)\n",
    "    logins_iptoasn_out.close()\n",
    "else:\n",
    "    print(\"You already performed the lookup for this table\")"
   ]
  },
  {
   "cell_type": "code",
   "execution_count": 77,
   "metadata": {
    "collapsed": false
   },
   "outputs": [
    {
     "name": "stderr",
     "output_type": "stream",
     "text": [
      "/usr/local/lib/python3.5/site-packages/ipykernel/__main__.py:1: ParserWarning: Falling back to the 'python' engine because the 'c' engine does not support regex separators (separators > 1 char and different from '\\s+' are interpreted as regex); you can avoid this warning by specifying engine='python'.\n",
      "  if __name__ == '__main__':\n"
     ]
    },
    {
     "data": {
      "text/html": [
       "<div>\n",
       "<table border=\"1\" class=\"dataframe\">\n",
       "  <thead>\n",
       "    <tr style=\"text-align: right;\">\n",
       "      <th></th>\n",
       "      <th>asn</th>\n",
       "      <th>ip</th>\n",
       "      <th>bgp_prefix</th>\n",
       "      <th>country</th>\n",
       "      <th>registry</th>\n",
       "      <th>info_date</th>\n",
       "      <th>info_request</th>\n",
       "      <th>as_name</th>\n",
       "    </tr>\n",
       "  </thead>\n",
       "  <tbody>\n",
       "    <tr>\n",
       "      <th>0</th>\n",
       "      <td>NaN</td>\n",
       "      <td>::1</td>\n",
       "      <td>NaN</td>\n",
       "      <td>NaN</td>\n",
       "      <td>other</td>\n",
       "      <td>NaN</td>\n",
       "      <td>2016-05-27 11:20:30</td>\n",
       "      <td>NaN</td>\n",
       "    </tr>\n",
       "    <tr>\n",
       "      <th>1</th>\n",
       "      <td>8551.0</td>\n",
       "      <td>79.176.82.202</td>\n",
       "      <td>79.176.80.0/20</td>\n",
       "      <td>IL</td>\n",
       "      <td>ripencc</td>\n",
       "      <td>2007-06-14</td>\n",
       "      <td>2016-05-27 11:20:30</td>\n",
       "      <td>BEZEQ-INTERNATIONAL-AS Bezeqint Internet Backb...</td>\n",
       "    </tr>\n",
       "    <tr>\n",
       "      <th>2</th>\n",
       "      <td>8551.0</td>\n",
       "      <td>79.180.106.225</td>\n",
       "      <td>79.180.96.0/20</td>\n",
       "      <td>IL</td>\n",
       "      <td>ripencc</td>\n",
       "      <td>2007-06-14</td>\n",
       "      <td>2016-05-27 11:20:30</td>\n",
       "      <td>BEZEQ-INTERNATIONAL-AS Bezeqint Internet Backb...</td>\n",
       "    </tr>\n",
       "    <tr>\n",
       "      <th>3</th>\n",
       "      <td>52026.0</td>\n",
       "      <td>109.207.46.21</td>\n",
       "      <td>109.207.46.0/24</td>\n",
       "      <td>RS</td>\n",
       "      <td>ripencc</td>\n",
       "      <td>2010-01-18</td>\n",
       "      <td>2016-05-27 11:20:30</td>\n",
       "      <td>TRUF-AS , RS</td>\n",
       "    </tr>\n",
       "    <tr>\n",
       "      <th>4</th>\n",
       "      <td>8445.0</td>\n",
       "      <td>89.26.122.67</td>\n",
       "      <td>89.26.0.0/17</td>\n",
       "      <td>AT</td>\n",
       "      <td>ripencc</td>\n",
       "      <td>2006-06-12</td>\n",
       "      <td>2016-05-27 11:20:30</td>\n",
       "      <td>SALZBURG-AG-AS , AT</td>\n",
       "    </tr>\n",
       "    <tr>\n",
       "      <th>5</th>\n",
       "      <td>8551.0</td>\n",
       "      <td>109.66.26.251</td>\n",
       "      <td>109.66.16.0/20</td>\n",
       "      <td>IL</td>\n",
       "      <td>ripencc</td>\n",
       "      <td>2009-08-10</td>\n",
       "      <td>2016-05-27 11:20:30</td>\n",
       "      <td>BEZEQ-INTERNATIONAL-AS Bezeqint Internet Backb...</td>\n",
       "    </tr>\n",
       "    <tr>\n",
       "      <th>6</th>\n",
       "      <td>23724.0</td>\n",
       "      <td>101.254.187.92</td>\n",
       "      <td>101.254.184.0/22</td>\n",
       "      <td>CN</td>\n",
       "      <td>apnic</td>\n",
       "      <td>2011-01-24</td>\n",
       "      <td>2016-05-27 11:20:30</td>\n",
       "      <td>CHINANET-IDC-BJ-AP IDC, China Telecommunicatio...</td>\n",
       "    </tr>\n",
       "    <tr>\n",
       "      <th>7</th>\n",
       "      <td>4847.0</td>\n",
       "      <td>117.114.129.36</td>\n",
       "      <td>117.114.128.0/20</td>\n",
       "      <td>CN</td>\n",
       "      <td>apnic</td>\n",
       "      <td>2007-07-25</td>\n",
       "      <td>2016-05-27 11:20:30</td>\n",
       "      <td>CNIX-AP China Networks Inter-Exchange, CN</td>\n",
       "    </tr>\n",
       "    <tr>\n",
       "      <th>8</th>\n",
       "      <td>58542.0</td>\n",
       "      <td>42.81.69.214</td>\n",
       "      <td>42.81.0.0/16</td>\n",
       "      <td>CN</td>\n",
       "      <td>apnic</td>\n",
       "      <td>2011-02-21</td>\n",
       "      <td>2016-05-27 11:20:30</td>\n",
       "      <td>CHINATELECOM-HUNAN-YUEYANG-MAN Yueyang, CN</td>\n",
       "    </tr>\n",
       "    <tr>\n",
       "      <th>9</th>\n",
       "      <td>25820.0</td>\n",
       "      <td>45.78.11.40</td>\n",
       "      <td>45.78.0.0/19</td>\n",
       "      <td>CA</td>\n",
       "      <td>arin</td>\n",
       "      <td>2015-05-05</td>\n",
       "      <td>2016-05-27 11:20:30</td>\n",
       "      <td>IT7NET - IT7 Networks Inc, CA</td>\n",
       "    </tr>\n",
       "  </tbody>\n",
       "</table>\n",
       "</div>"
      ],
      "text/plain": [
       "       asn              ip        bgp_prefix country registry   info_date  \\\n",
       "0      NaN             ::1               NaN     NaN    other         NaN   \n",
       "1   8551.0   79.176.82.202    79.176.80.0/20      IL  ripencc  2007-06-14   \n",
       "2   8551.0  79.180.106.225    79.180.96.0/20      IL  ripencc  2007-06-14   \n",
       "3  52026.0   109.207.46.21   109.207.46.0/24      RS  ripencc  2010-01-18   \n",
       "4   8445.0    89.26.122.67      89.26.0.0/17      AT  ripencc  2006-06-12   \n",
       "5   8551.0   109.66.26.251    109.66.16.0/20      IL  ripencc  2009-08-10   \n",
       "6  23724.0  101.254.187.92  101.254.184.0/22      CN    apnic  2011-01-24   \n",
       "7   4847.0  117.114.129.36  117.114.128.0/20      CN    apnic  2007-07-25   \n",
       "8  58542.0    42.81.69.214      42.81.0.0/16      CN    apnic  2011-02-21   \n",
       "9  25820.0     45.78.11.40      45.78.0.0/19      CA     arin  2015-05-05   \n",
       "\n",
       "          info_request                                            as_name  \n",
       "0  2016-05-27 11:20:30                                                NaN  \n",
       "1  2016-05-27 11:20:30  BEZEQ-INTERNATIONAL-AS Bezeqint Internet Backb...  \n",
       "2  2016-05-27 11:20:30  BEZEQ-INTERNATIONAL-AS Bezeqint Internet Backb...  \n",
       "3  2016-05-27 11:20:30                                       TRUF-AS , RS  \n",
       "4  2016-05-27 11:20:30                                SALZBURG-AG-AS , AT  \n",
       "5  2016-05-27 11:20:30  BEZEQ-INTERNATIONAL-AS Bezeqint Internet Backb...  \n",
       "6  2016-05-27 11:20:30  CHINANET-IDC-BJ-AP IDC, China Telecommunicatio...  \n",
       "7  2016-05-27 11:20:30          CNIX-AP China Networks Inter-Exchange, CN  \n",
       "8  2016-05-27 11:20:30         CHINATELECOM-HUNAN-YUEYANG-MAN Yueyang, CN  \n",
       "9  2016-05-27 11:20:30                      IT7NET - IT7 Networks Inc, CA  "
      ]
     },
     "execution_count": 77,
     "metadata": {},
     "output_type": "execute_result"
    }
   ],
   "source": [
    "df_logins_iptoasn = pd.read_csv('logins_iptoasn_out',\\\n",
    "                                skiprows=1,\\\n",
    "                             delimiter=\"\\s+\\|\\s\",\\\n",
    "                             names = ['asn', 'ip', 'bgp_prefix', 'country','registry','info_date','info_request','as_name'])\n",
    "df_logins_iptoasn.head(10)"
   ]
  },
  {
   "cell_type": "markdown",
   "metadata": {},
   "source": [
    "## 3.4.2  Lookup IP to ASN info of table: attacks"
   ]
  },
  {
   "cell_type": "code",
   "execution_count": 78,
   "metadata": {
    "collapsed": false
   },
   "outputs": [],
   "source": [
    "if (os.path.exists('attacks_iptoasn_out')== False):\n",
    "    attacks_iptoasn_in = open('attacks_iptoasn_in', 'w+')\n",
    "    attacks_iptoasn_in.write('begin\\nverbose\\n')\n",
    "    df_attacks[['targetip','middledate']].drop_duplicates().to_csv(attacks_iptoasn_in,header=False,index=False,sep=\"\\t\") \n",
    "    attacks_iptoasn_in.write('end')\n",
    "    attacks_iptoasn_in.close()\n",
    "\n",
    "    attacks_iptoasn_out = open('attacks_iptoasn_out', 'w+')\n",
    "    iptoasn('attacks_iptoasn_in',attacks_iptoasn_out)\n",
    "    attacks_iptoasn_out.close()\n",
    "else:\n",
    "    print(\"You already performed the lookup for this table\")"
   ]
  },
  {
   "cell_type": "code",
   "execution_count": 79,
   "metadata": {
    "collapsed": false
   },
   "outputs": [
    {
     "name": "stderr",
     "output_type": "stream",
     "text": [
      "/usr/local/lib/python3.5/site-packages/ipykernel/__main__.py:1: ParserWarning: Falling back to the 'python' engine because the 'c' engine does not support regex separators (separators > 1 char and different from '\\s+' are interpreted as regex); you can avoid this warning by specifying engine='python'.\n",
      "  if __name__ == '__main__':\n"
     ]
    },
    {
     "data": {
      "text/html": [
       "<div>\n",
       "<table border=\"1\" class=\"dataframe\">\n",
       "  <thead>\n",
       "    <tr style=\"text-align: right;\">\n",
       "      <th></th>\n",
       "      <th>asn</th>\n",
       "      <th>ip</th>\n",
       "      <th>bgp_prefix</th>\n",
       "      <th>country</th>\n",
       "      <th>registry</th>\n",
       "      <th>info_date</th>\n",
       "      <th>info_request</th>\n",
       "      <th>as_name</th>\n",
       "    </tr>\n",
       "  </thead>\n",
       "  <tbody>\n",
       "    <tr>\n",
       "      <th>0</th>\n",
       "      <td>NaN</td>\n",
       "      <td>1.1.1.1</td>\n",
       "      <td>NaN</td>\n",
       "      <td>AU</td>\n",
       "      <td>apnic</td>\n",
       "      <td>2011-08-11</td>\n",
       "      <td>2016-05-27 11:20:30</td>\n",
       "      <td>NaN</td>\n",
       "    </tr>\n",
       "    <tr>\n",
       "      <th>1</th>\n",
       "      <td>4808</td>\n",
       "      <td>123.123.123.1</td>\n",
       "      <td>123.123.64.0/18</td>\n",
       "      <td>CN</td>\n",
       "      <td>apnic</td>\n",
       "      <td>2007-01-29</td>\n",
       "      <td>2016-05-27 11:20:30</td>\n",
       "      <td>CHINA169-BJ China Unicom Beijing Province Netw...</td>\n",
       "    </tr>\n",
       "    <tr>\n",
       "      <th>2</th>\n",
       "      <td>NaN</td>\n",
       "      <td>3.1.23.1</td>\n",
       "      <td>NaN</td>\n",
       "      <td>US</td>\n",
       "      <td>arin</td>\n",
       "      <td>NaN</td>\n",
       "      <td>2016-05-27 11:20:30</td>\n",
       "      <td>NaN</td>\n",
       "    </tr>\n",
       "    <tr>\n",
       "      <th>3</th>\n",
       "      <td>15169</td>\n",
       "      <td>8.8.8.8</td>\n",
       "      <td>8.8.8.0/24</td>\n",
       "      <td>US</td>\n",
       "      <td>arin</td>\n",
       "      <td>NaN</td>\n",
       "      <td>2016-05-27 11:20:30</td>\n",
       "      <td>GOOGLE - Google Inc., US</td>\n",
       "    </tr>\n",
       "    <tr>\n",
       "      <th>4</th>\n",
       "      <td>16276</td>\n",
       "      <td>37.59.48.31</td>\n",
       "      <td>37.59.0.0/16</td>\n",
       "      <td>FR</td>\n",
       "      <td>ripencc</td>\n",
       "      <td>2012-01-16</td>\n",
       "      <td>2016-05-27 11:20:30</td>\n",
       "      <td>OVH , FR</td>\n",
       "    </tr>\n",
       "    <tr>\n",
       "      <th>5</th>\n",
       "      <td>44066</td>\n",
       "      <td>31.172.80.104</td>\n",
       "      <td>31.172.64.0/19</td>\n",
       "      <td>DE</td>\n",
       "      <td>ripencc</td>\n",
       "      <td>2011-04-01</td>\n",
       "      <td>2016-05-27 11:20:30</td>\n",
       "      <td>DE-FIRSTCOLO www.first-colo.net, DE</td>\n",
       "    </tr>\n",
       "    <tr>\n",
       "      <th>6</th>\n",
       "      <td>20940</td>\n",
       "      <td>104.85.165.1</td>\n",
       "      <td>104.85.165.0/24</td>\n",
       "      <td>US</td>\n",
       "      <td>arin</td>\n",
       "      <td>2014-04-22</td>\n",
       "      <td>2016-05-27 11:20:30</td>\n",
       "      <td>AKAMAI-ASN1 , US</td>\n",
       "    </tr>\n",
       "    <tr>\n",
       "      <th>7</th>\n",
       "      <td>3734</td>\n",
       "      <td>204.88.138.97</td>\n",
       "      <td>204.88.128.0/19</td>\n",
       "      <td>US</td>\n",
       "      <td>arin</td>\n",
       "      <td>NaN</td>\n",
       "      <td>2016-05-27 11:20:30</td>\n",
       "      <td>SCCO - Santa Clara County Office of Education, US</td>\n",
       "    </tr>\n",
       "    <tr>\n",
       "      <th>8</th>\n",
       "      <td>58543</td>\n",
       "      <td>183.2.247.168</td>\n",
       "      <td>183.2.244.0/22</td>\n",
       "      <td>CN</td>\n",
       "      <td>apnic</td>\n",
       "      <td>2009-10-09</td>\n",
       "      <td>2016-05-27 11:20:30</td>\n",
       "      <td>CHINATELECOM-GUANGDONG-IDC Guangdong, CN</td>\n",
       "    </tr>\n",
       "    <tr>\n",
       "      <th>9</th>\n",
       "      <td>59037</td>\n",
       "      <td>43.227.194.239</td>\n",
       "      <td>43.227.194.0/23</td>\n",
       "      <td>CN</td>\n",
       "      <td>apnic</td>\n",
       "      <td>2014-12-22</td>\n",
       "      <td>2016-05-27 11:20:30</td>\n",
       "      <td>ZHIYUNET Hangzhou ZhiYu Network Technology Co....</td>\n",
       "    </tr>\n",
       "  </tbody>\n",
       "</table>\n",
       "</div>"
      ],
      "text/plain": [
       "     asn              ip       bgp_prefix country registry   info_date  \\\n",
       "0    NaN         1.1.1.1              NaN      AU    apnic  2011-08-11   \n",
       "1   4808   123.123.123.1  123.123.64.0/18      CN    apnic  2007-01-29   \n",
       "2    NaN        3.1.23.1              NaN      US     arin         NaN   \n",
       "3  15169         8.8.8.8       8.8.8.0/24      US     arin         NaN   \n",
       "4  16276     37.59.48.31     37.59.0.0/16      FR  ripencc  2012-01-16   \n",
       "5  44066   31.172.80.104   31.172.64.0/19      DE  ripencc  2011-04-01   \n",
       "6  20940    104.85.165.1  104.85.165.0/24      US     arin  2014-04-22   \n",
       "7   3734   204.88.138.97  204.88.128.0/19      US     arin         NaN   \n",
       "8  58543   183.2.247.168   183.2.244.0/22      CN    apnic  2009-10-09   \n",
       "9  59037  43.227.194.239  43.227.194.0/23      CN    apnic  2014-12-22   \n",
       "\n",
       "          info_request                                            as_name  \n",
       "0  2016-05-27 11:20:30                                                NaN  \n",
       "1  2016-05-27 11:20:30  CHINA169-BJ China Unicom Beijing Province Netw...  \n",
       "2  2016-05-27 11:20:30                                                NaN  \n",
       "3  2016-05-27 11:20:30                           GOOGLE - Google Inc., US  \n",
       "4  2016-05-27 11:20:30                                           OVH , FR  \n",
       "5  2016-05-27 11:20:30                DE-FIRSTCOLO www.first-colo.net, DE  \n",
       "6  2016-05-27 11:20:30                                   AKAMAI-ASN1 , US  \n",
       "7  2016-05-27 11:20:30  SCCO - Santa Clara County Office of Education, US  \n",
       "8  2016-05-27 11:20:30           CHINATELECOM-GUANGDONG-IDC Guangdong, CN  \n",
       "9  2016-05-27 11:20:30  ZHIYUNET Hangzhou ZhiYu Network Technology Co....  "
      ]
     },
     "execution_count": 79,
     "metadata": {},
     "output_type": "execute_result"
    }
   ],
   "source": [
    "df_attacks_iptoasn = pd.read_csv('attacks_iptoasn_out',\\\n",
    "                                skiprows=1,\\\n",
    "                             delimiter=\"\\s+\\|\\s\",\\\n",
    "                             names = ['asn', 'ip', 'bgp_prefix', 'country','registry','info_date','info_request','as_name'])\n",
    "df_attacks_iptoasn.head(10)"
   ]
  },
  {
   "cell_type": "markdown",
   "metadata": {},
   "source": [
    "## 3.4.3  Lookup IP to ASN info of table: friendsenemies"
   ]
  },
  {
   "cell_type": "code",
   "execution_count": 80,
   "metadata": {
    "collapsed": false
   },
   "outputs": [],
   "source": [
    "if (os.path.exists('friendsenemies_iptoasn_out')== False):\n",
    "    friendsenemies_iptoasn_in = open('friendsenemies_iptoasn_in', 'w+')\n",
    "    friendsenemies_iptoasn_in.write('begin\\nverbose\\n')\n",
    "    df_friendsenemies[['ip','middledate']].drop_duplicates().to_csv(friendsenemies_iptoasn_in,header=False,index=False,sep=\"\\t\") \n",
    "    friendsenemies_iptoasn_in.write('end')\n",
    "    friendsenemies_iptoasn_in.close()\n",
    "\n",
    "    friendsenemies_iptoasn_out = open('friendsenemies_iptoasn_out', 'w+')\n",
    "    iptoasn('friendsenemies_iptoasn_in',friendsenemies_iptoasn_out)\n",
    "    friendsenemies_iptoasn_out.close()\n",
    "else:\n",
    "    print(\"You already performed the lookup for this table.\")"
   ]
  },
  {
   "cell_type": "code",
   "execution_count": 82,
   "metadata": {
    "collapsed": false
   },
   "outputs": [
    {
     "name": "stderr",
     "output_type": "stream",
     "text": [
      "/usr/local/lib/python3.5/site-packages/ipykernel/__main__.py:1: ParserWarning: Falling back to the 'python' engine because the 'c' engine does not support regex separators (separators > 1 char and different from '\\s+' are interpreted as regex); you can avoid this warning by specifying engine='python'.\n",
      "  if __name__ == '__main__':\n"
     ]
    },
    {
     "data": {
      "text/html": [
       "<div>\n",
       "<table border=\"1\" class=\"dataframe\">\n",
       "  <thead>\n",
       "    <tr style=\"text-align: right;\">\n",
       "      <th></th>\n",
       "      <th>asn</th>\n",
       "      <th>ip</th>\n",
       "      <th>bgp_prefix</th>\n",
       "      <th>country</th>\n",
       "      <th>registry</th>\n",
       "      <th>info_date</th>\n",
       "      <th>info_request</th>\n",
       "      <th>as_name</th>\n",
       "    </tr>\n",
       "  </thead>\n",
       "  <tbody>\n",
       "  </tbody>\n",
       "</table>\n",
       "</div>"
      ],
      "text/plain": [
       "Empty DataFrame\n",
       "Columns: [asn, ip, bgp_prefix, country, registry, info_date, info_request, as_name]\n",
       "Index: []"
      ]
     },
     "execution_count": 82,
     "metadata": {},
     "output_type": "execute_result"
    }
   ],
   "source": [
    "df_friendsenemies_iptoasn = pd.read_csv('friendsenemies_iptoasn_out',\\\n",
    "                                skiprows=1,\\\n",
    "                             delimiter=\"\\s+\\|\\s\",\\\n",
    "                             names = ['asn', 'ip', 'bgp_prefix', 'country','registry','info_date','info_request','as_name'])\n",
    "df_friendsenemies_iptoasn.head(10)"
   ]
  },
  {
   "cell_type": "markdown",
   "metadata": {},
   "source": [
    "## 3.4.4  Lookup IP to ASN info of table: blacklist"
   ]
  },
  {
   "cell_type": "code",
   "execution_count": 83,
   "metadata": {
    "collapsed": false
   },
   "outputs": [],
   "source": [
    "if (os.path.exists('blacklist_iptoasn_out')== False):\n",
    "    blacklist_iptoasn_in = open('blacklist_iptoasn_in', 'w+')\n",
    "    blacklist_iptoasn_in.write('begin\\nverbose\\n')\n",
    "    df_blacklist[['ip','middledate']].drop_duplicates().to_csv(blacklist_iptoasn_in,header=False,index=False,sep=\"\\t\") \n",
    "    blacklist_iptoasn_in.write('end')\n",
    "    blacklist_iptoasn_in.close()\n",
    "\n",
    "    blacklist_iptoasn_out = open('blacklist_iptoasn_out', 'w+')\n",
    "    iptoasn('blacklist_iptoasn_in',blacklist_iptoasn_out)\n",
    "    blacklist_iptoasn_out.close()\n",
    "else:\n",
    "    print(\"You already performed the lookup for this table.\")"
   ]
  },
  {
   "cell_type": "code",
   "execution_count": 84,
   "metadata": {
    "collapsed": false
   },
   "outputs": [
    {
     "name": "stderr",
     "output_type": "stream",
     "text": [
      "/usr/local/lib/python3.5/site-packages/ipykernel/__main__.py:1: ParserWarning: Falling back to the 'python' engine because the 'c' engine does not support regex separators (separators > 1 char and different from '\\s+' are interpreted as regex); you can avoid this warning by specifying engine='python'.\n",
      "  if __name__ == '__main__':\n"
     ]
    },
    {
     "data": {
      "text/html": [
       "<div>\n",
       "<table border=\"1\" class=\"dataframe\">\n",
       "  <thead>\n",
       "    <tr style=\"text-align: right;\">\n",
       "      <th></th>\n",
       "      <th>asn</th>\n",
       "      <th>ip</th>\n",
       "      <th>bgp_prefix</th>\n",
       "      <th>country</th>\n",
       "      <th>registry</th>\n",
       "      <th>info_date</th>\n",
       "      <th>info_request</th>\n",
       "      <th>as_name</th>\n",
       "    </tr>\n",
       "  </thead>\n",
       "  <tbody>\n",
       "  </tbody>\n",
       "</table>\n",
       "</div>"
      ],
      "text/plain": [
       "Empty DataFrame\n",
       "Columns: [asn, ip, bgp_prefix, country, registry, info_date, info_request, as_name]\n",
       "Index: []"
      ]
     },
     "execution_count": 84,
     "metadata": {},
     "output_type": "execute_result"
    }
   ],
   "source": [
    "df_blacklist_iptoasn = pd.read_csv('blacklist_iptoasn_out',\\\n",
    "                                skiprows=1,\\\n",
    "                             delimiter=\"\\s+\\|\\s\",\\\n",
    "                             names = ['asn', 'ip', 'bgp_prefix', 'country','registry','info_date','info_request','as_name'])\n",
    "df_blacklist_iptoasn.head(10)"
   ]
  },
  {
   "cell_type": "markdown",
   "metadata": {},
   "source": [
    "# 3.5.1. Check if IP was a TOR node for table: login"
   ]
  },
  {
   "cell_type": "code",
   "execution_count": 85,
   "metadata": {
    "collapsed": false
   },
   "outputs": [
    {
     "data": {
      "text/plain": [
       "'2016-05-27'"
      ]
     },
     "execution_count": 85,
     "metadata": {},
     "output_type": "execute_result"
    }
   ],
   "source": [
    "date_tor_check"
   ]
  },
  {
   "cell_type": "code",
   "execution_count": null,
   "metadata": {
    "collapsed": false,
    "scrolled": true
   },
   "outputs": [],
   "source": [
    "if len(df_logins['userip'].unique())<1200:\n",
    "    if (os.path.exists('logins_torcheck')== False):\n",
    "        print(\"Note: it can take a while to finish...\")\n",
    "        logins_torcheck = open('logins_torcheck', 'w+')\n",
    "        for i in df_logins['userip'].unique():\n",
    "            wasTor=WasTorNode(i,date_tor_check)\n",
    "            print(i, wasTor, file=logins_torcheck)\n",
    "    #         print(i, wasTor) #DEBUGING =D\n",
    "            time.sleep(random.randint(1,3)) #adding some random sleep time\n",
    "            logins_torcheck.flush()\n",
    "\n",
    "        logins_torcheck.close()\n",
    "    else:\n",
    "        print(\"The IP addresses from this table were already checked.\")\n",
    "else:\n",
    "        print(\"Aborted!!! It will take more than one hour to analyse!\")"
   ]
  },
  {
   "cell_type": "code",
   "execution_count": null,
   "metadata": {
    "collapsed": true
   },
   "outputs": [],
   "source": [
    "df_logins_torcheck = pd.read_csv('logins_torcheck',\\\n",
    "                          delimiter=\"\\s+\",\\\n",
    "                          names = ['userip', 'tor'])"
   ]
  },
  {
   "cell_type": "markdown",
   "metadata": {},
   "source": [
    "# 3.5.2. Check if IP was a TOR node for table: attacks"
   ]
  },
  {
   "cell_type": "code",
   "execution_count": 93,
   "metadata": {
    "collapsed": false,
    "scrolled": false
   },
   "outputs": [
    {
     "name": "stdout",
     "output_type": "stream",
     "text": [
      "The IP addresses from this table were already checked.\n"
     ]
    }
   ],
   "source": [
    "if len(df_attacks['targetip'].unique())<1200:\n",
    "    if (os.path.exists('attacks_torcheck')== False):\n",
    "        print(\"Note: it can take a while to finish...\",len(df_attacks['targetip'].unique())*3,\"seconds (in the worst case).\")\n",
    "\n",
    "        attacks_torcheck = open('attacks_torcheck', 'w+')\n",
    "\n",
    "        for i in df_attacks['targetip'].unique():\n",
    "            wasTor=WasTorNode(i,date_tor_check)\n",
    "            print(i, wasTor, file=attacks_torcheck)\n",
    "            print(i, wasTor) #DEBUGING =D\n",
    "            time.sleep(random.randint(1,3)) #adding some random sleep time\n",
    "            attacks_torcheck.flush()\n",
    "\n",
    "        attacks_torcheck.close()\n",
    "    else:\n",
    "        print(\"The IP addresses from this table were already checked.\") \n",
    "else:\n",
    "        print(\"Aborted!!! It will take more than one hour to analyse!\")"
   ]
  },
  {
   "cell_type": "code",
   "execution_count": null,
   "metadata": {
    "collapsed": true
   },
   "outputs": [],
   "source": [
    "df_attacks_torcheck = pd.read_csv('attacks_torcheck',\\\n",
    "                          delimiter=\"\\s+\",\\\n",
    "                          names = ['targetip', 'tor'])"
   ]
  },
  {
   "cell_type": "markdown",
   "metadata": {},
   "source": [
    "# 3.5.3. Check if IP was a TOR node for table: friendsenemies"
   ]
  },
  {
   "cell_type": "code",
   "execution_count": 89,
   "metadata": {
    "collapsed": false
   },
   "outputs": [
    {
     "name": "stdout",
     "output_type": "stream",
     "text": [
      "Note: it can take a while to finish... 0 seconds (in the worst case).\n"
     ]
    }
   ],
   "source": [
    "if len(df_friendsenemies['ip'].unique()) <1200:\n",
    "    if (os.path.exists('friendsenemies_torcheck')== False):\n",
    "        print(\"Note: it can take a while to finish...\",len(df_friendsenemies['ip'].unique())*3,\"seconds (in the worst case).\")\n",
    "\n",
    "        friendsenemies_torcheck = open('friendsenemies_torcheck', 'w+')\n",
    "\n",
    "        for i in df_friendsenemies['ip'].unique():\n",
    "            wasTor=WasTorNode(i,date_tor_check)\n",
    "            print(i, wasTor, file=friendsenemies_torcheck)\n",
    "        #     print(i, wasTor) #DEBUGING =D\n",
    "            time.sleep(random.randint(1,3)) #adding some random sleep time\n",
    "            friendsenemies_torcheck.flush()\n",
    "\n",
    "        friendsenemies_torcheck.close()\n",
    "    else:\n",
    "        print(\"The IP addresses from this table were already checked.\") \n",
    "else:\n",
    "        print(\"Aborted!!! It will take more than one hour to analyse!\")"
   ]
  },
  {
   "cell_type": "code",
   "execution_count": 90,
   "metadata": {
    "collapsed": true
   },
   "outputs": [],
   "source": [
    "df_friendsenemies_torcheck = pd.read_csv('friendsenemies_torcheck',\\\n",
    "                          delimiter=\"\\s+\",\\\n",
    "                          names = ['ip', 'tor'])"
   ]
  },
  {
   "cell_type": "markdown",
   "metadata": {},
   "source": [
    "# 3.5.4. Check if IP was a TOR node for table: blacklist"
   ]
  },
  {
   "cell_type": "code",
   "execution_count": 160,
   "metadata": {
    "collapsed": false
   },
   "outputs": [
    {
     "name": "stdout",
     "output_type": "stream",
     "text": [
      "The IP addresses from this table were already checked.\n"
     ]
    }
   ],
   "source": [
    "if len(df_blacklist['ip'].unique()) < 1200:\n",
    "    if (os.path.exists('blacklist_torcheck')== False):\n",
    "        print(\"Note: it can take a while to finish...\",len(df_blacklist['ip'].unique())*3,\"seconds (in the worst case).\")\n",
    "\n",
    "        blacklist_torcheck = open('blacklist_torcheck', 'w+')\n",
    "\n",
    "        for i in df_blacklist['ip'].unique():\n",
    "            wasTor=WasTorNode(i,date_tor_check)\n",
    "            print(i, wasTor, file=blacklist_torcheck)\n",
    "    #         print(i, wasTor) #DEBUGING =D\n",
    "            time.sleep(random.randint(1,3)) #adding some random sleep time\n",
    "            blacklist_torcheck.flush()\n",
    "\n",
    "        blacklist_torcheck.close()\n",
    "    else:\n",
    "        print(\"The IP addresses from this table were already checked.\") \n",
    "else:\n",
    "        print(\"Aborted!!! It will take more than one hour to analyse!\")"
   ]
  },
  {
   "cell_type": "code",
   "execution_count": 92,
   "metadata": {
    "collapsed": true
   },
   "outputs": [],
   "source": [
    "df_blacklist_torcheck = pd.read_csv('blacklist_torcheck',\\\n",
    "                          delimiter=\"\\s+\",\\\n",
    "                          names = ['ip', 'tor'])"
   ]
  },
  {
   "cell_type": "markdown",
   "metadata": {},
   "source": [
    "<h2 align=\"center\">\n",
    "!!!!!!!!!!!!!!!!!!!!!!!!!!!!!!!!!!!!!!!!!!!!!!!!!!!!!!!!!!!!!!!!!!!!!!!!!!!!!!!!!!!!!!!!!!!!!!!!!!!!!!!!!!!!!!!!!!!!!!!!!!!!!!!!!!!!!!!!!<br>\n",
    "FOURTH PART: Automatic Analysis\n",
    "<br>\n",
    "!!!!!!!!!!!!!!!!!!!!!!!!!!!!!!!!!!!!!!!!!!!!!!!!!!!!!!!!!!!!!!!!!!!!!!!!!!!!!!!!!!!!!!!!!!!!!!!!!!!!!!!!!!!!!!!!!!!!!!!!!!!!!!!</h3> "
   ]
  },
  {
   "cell_type": "markdown",
   "metadata": {},
   "source": [
    "## 5.0. Used Libraries"
   ]
  },
  {
   "cell_type": "code",
   "execution_count": 94,
   "metadata": {
    "collapsed": true
   },
   "outputs": [],
   "source": [
    "import matplotlib.pyplot as plt\n",
    "from matplotlib_venn import *\n",
    "%matplotlib inline\n",
    "\n",
    "plt.style.use('seaborn-muted')\n",
    "plt.rcParams['font.family'] = 'serif'\n",
    "plt.rcParams['font.size'] = 12\n",
    "\n",
    "import warnings\n",
    "warnings.filterwarnings('ignore')"
   ]
  },
  {
   "cell_type": "markdown",
   "metadata": {},
   "source": [
    "## 5.1. Number of users, customers, attackers, and their intersection"
   ]
  },
  {
   "cell_type": "code",
   "execution_count": 98,
   "metadata": {
    "collapsed": false
   },
   "outputs": [
    {
     "data": {
      "text/html": [
       "<div>\n",
       "<table border=\"1\" class=\"dataframe\">\n",
       "  <thead>\n",
       "    <tr style=\"text-align: right;\">\n",
       "      <th></th>\n",
       "      <th>id</th>\n",
       "      <th>username</th>\n",
       "      <th>action</th>\n",
       "      <th>ip</th>\n",
       "      <th>date</th>\n",
       "      <th>platform</th>\n",
       "      <th>hidden</th>\n",
       "      <th>targetip</th>\n",
       "      <th>targeturl</th>\n",
       "      <th>port</th>\n",
       "      <th>duration</th>\n",
       "      <th>type</th>\n",
       "      <th>userip</th>\n",
       "      <th>country</th>\n",
       "      <th>vip_attack</th>\n",
       "      <th>target_ddosprotected</th>\n",
       "      <th>user_os</th>\n",
       "      <th>user_browser</th>\n",
       "      <th>middledate</th>\n",
       "    </tr>\n",
       "  </thead>\n",
       "  <tbody>\n",
       "    <tr>\n",
       "      <th>0</th>\n",
       "      <td>16166365</td>\n",
       "      <td>john</td>\n",
       "      <td>Launched a stress test on 1.1.1.1:80  for 30 u...</td>\n",
       "      <td>::1 ()</td>\n",
       "      <td>2016-03-31 20:59:00</td>\n",
       "      <td>Apple Safari v9.1 on mac</td>\n",
       "      <td>0</td>\n",
       "      <td>1.1.1.1</td>\n",
       "      <td>NaN</td>\n",
       "      <td>80</td>\n",
       "      <td>30</td>\n",
       "      <td>ESSYN</td>\n",
       "      <td>::1</td>\n",
       "      <td>NaN</td>\n",
       "      <td>False</td>\n",
       "      <td>False</td>\n",
       "      <td>mac</td>\n",
       "      <td>NaN</td>\n",
       "      <td>2016-05-27 11:20:30</td>\n",
       "    </tr>\n",
       "  </tbody>\n",
       "</table>\n",
       "</div>"
      ],
      "text/plain": [
       "         id username                                             action  \\\n",
       "0  16166365     john  Launched a stress test on 1.1.1.1:80  for 30 u...   \n",
       "\n",
       "       ip                date                  platform hidden targetip  \\\n",
       "0  ::1 () 2016-03-31 20:59:00  Apple Safari v9.1 on mac      0  1.1.1.1   \n",
       "\n",
       "  targeturl port duration   type userip country vip_attack  \\\n",
       "0       NaN   80       30  ESSYN    ::1     NaN      False   \n",
       "\n",
       "  target_ddosprotected user_os user_browser           middledate  \n",
       "0                False     mac          NaN  2016-05-27 11:20:30  "
      ]
     },
     "execution_count": 98,
     "metadata": {},
     "output_type": "execute_result"
    }
   ],
   "source": [
    "df_attacks.head(1)"
   ]
  },
  {
   "cell_type": "code",
   "execution_count": 106,
   "metadata": {
    "collapsed": false
   },
   "outputs": [
    {
     "data": {
      "text/plain": [
       "0"
      ]
     },
     "execution_count": 106,
     "metadata": {},
     "output_type": "execute_result"
    }
   ],
   "source": [
    "len(df_users['username'].unique())"
   ]
  },
  {
   "cell_type": "code",
   "execution_count": 116,
   "metadata": {
    "collapsed": false
   },
   "outputs": [
    {
     "data": {
      "text/plain": [
       "{nan}"
      ]
     },
     "execution_count": 116,
     "metadata": {},
     "output_type": "execute_result"
    }
   ],
   "source": [
    "set(df_attacks['userid'].unique())"
   ]
  },
  {
   "cell_type": "code",
   "execution_count": 117,
   "metadata": {
    "collapsed": false
   },
   "outputs": [],
   "source": [
    "if len(set(df_users['userid'].unique())) > 1:\n",
    "    users_set=set(df_users['userid'].unique())\n",
    "else:\n",
    "    users_set=set(df_users['username'].unique())\n",
    "\n",
    "if len(set(df_payments['userid'].unique())) > 1:\n",
    "    customers_set=set(df_payments['userid'].unique())\n",
    "else:\n",
    "    customers_set=set(df_payments['username'].unique())\n",
    "\n",
    "if len(set(df_attacks['userid'].unique())) > 1:\n",
    "    attackers_set=set(df_attacks['userid'].unique())\n",
    "else:\n",
    "    attackers_set=set(df_attacks['username'].unique())\n",
    "\n",
    "intersec_customers_attacker=pd.Series(list(customers_set.intersection(attackers_set)))\n",
    "intersec_users_customers=pd.Series(list(users_set.intersection(customers_set)))\n",
    "intersec_users_attackers=pd.Series(list(users_set.intersection(attackers_set)))\n",
    "\n",
    "intersec_users_customers_attackers=pd.Series(list(users_set.intersection(customers_set).intersection(attackers_set)))"
   ]
  },
  {
   "cell_type": "code",
   "execution_count": 118,
   "metadata": {
    "collapsed": false
   },
   "outputs": [
    {
     "name": "stdout",
     "output_type": "stream",
     "text": [
      "*Users set is empty!\n",
      "*Customers set is empty!\n"
     ]
    },
    {
     "data": {
      "image/png": "[encoded data removed]",
      "text/plain": [
       "<matplotlib.figure.Figure at 0x160a1f9b0>"
      ]
     },
     "metadata": {},
     "output_type": "display_data"
    }
   ],
   "source": [
    "fig = plt.figure(figsize=(4,3))\n",
    "fig.suptitle('Users, Customers & Attackers', fontsize=16)\n",
    "\n",
    "ax = plt.subplot2grid((1,1), (0,0))\n",
    "\n",
    "venn=venn3(ax=ax,subsets = {'001':len(attackers_set)-len(intersec_customers_attacker)-len(intersec_users_attackers)+len(intersec_users_customers_attackers), \n",
    "                            '010':len(customers_set)-len(intersec_users_customers)-len(intersec_customers_attacker)+len(intersec_users_customers_attackers), \n",
    "                            '011':len(intersec_customers_attacker)-len(intersec_users_customers_attackers),\n",
    "                            '100':len(users_set)-len(intersec_users_customers)-len(intersec_users_attackers)+len(intersec_users_customers_attackers),\n",
    "                            '101':len(intersec_users_attackers)-len(intersec_users_customers_attackers),\n",
    "                            '110':len(intersec_users_customers)-len(intersec_users_customers_attackers),\n",
    "                            '111':len(intersec_users_customers_attackers)},\\\n",
    "          set_labels = ('Users', 'Customers','Attackers'),\\\n",
    "          alpha=1)\n",
    "try:\n",
    "    venn.get_patch_by_id('100').set_color('#404096')\n",
    "except:\n",
    "    print(\"*Users set is empty!\")  \n",
    "    \n",
    "try:\n",
    "    venn.get_patch_by_id('110').set_color('#DEA73A')\n",
    "except:\n",
    "    print(\"*Customers set is empty!\")   \n",
    "\n",
    "try:\n",
    "    venn.get_patch_by_id('001').set_color('#D92120')\n",
    "except:\n",
    "    print(\"*Attackers set is empty!\")\n",
    "\n",
    "fig.show()\n",
    "# fig.savefig('../figs/timeseries_attacks.eps', format='eps', dpi=1200) "
   ]
  },
  {
   "cell_type": "markdown",
   "metadata": {},
   "source": [
    "## 5.2. Distribution of login times per user"
   ]
  },
  {
   "cell_type": "code",
   "execution_count": 127,
   "metadata": {
    "collapsed": false
   },
   "outputs": [
    {
     "data": {
      "text/plain": [
       "0"
      ]
     },
     "execution_count": 127,
     "metadata": {},
     "output_type": "execute_result"
    }
   ],
   "source": [
    "len(df_logins['userid'].value_counts())"
   ]
  },
  {
   "cell_type": "code",
   "execution_count": 131,
   "metadata": {
    "collapsed": false
   },
   "outputs": [],
   "source": [
    "if len(df_logins['userid'].value_counts()) > 0:\n",
    "    num_distinct_logins_per_user=df_logins['userid'].value_counts()\n",
    "else:\n",
    "    num_distinct_logins_per_user=df_logins['username'].value_counts()\n",
    "\n",
    "freq_distinct_logins_per_user=num_distinct_logins_per_user.value_counts()\n",
    "cum_dist_user_logins = np.linspace(0.,1.,len(num_distinct_logins_per_user))\n",
    "cdf_user_logins = pd.Series(cum_dist_user_logins, index=num_distinct_logins_per_user.sort_values())"
   ]
  },
  {
   "cell_type": "code",
   "execution_count": 132,
   "metadata": {
    "collapsed": false
   },
   "outputs": [
    {
     "data": {
      "text/plain": [
       "<matplotlib.figure.Figure at 0x160a64860>"
      ]
     },
     "metadata": {},
     "output_type": "display_data"
    },
    {
     "data": {
      "image/png": "[encoded data removed]",
      "text/plain": [
       "<matplotlib.figure.Figure at 0x1618fd908>"
      ]
     },
     "metadata": {},
     "output_type": "display_data"
    }
   ],
   "source": [
    "if len(num_distinct_logins_per_user)>0:\n",
    "    fig = plt.figure()\n",
    "    fig = plt.figure(figsize=(7, 3))\n",
    "    fig.suptitle('Distribution of Login Times by Users', fontsize=16)\n",
    "\n",
    "    #Plot CDF\n",
    "    ax1 = plt.subplot2grid((1,2), (0,0))\n",
    "    ax1 = cdf_user_logins.plot(ax=ax1,lw=2, drawstyle='steps',legend=False)\n",
    "    ax1.set_xlabel(\"# logins\")\n",
    "    ax1.set_ylabel(\"CDF of Users\")\n",
    "    ax1.set_ylim(0,1.05)\n",
    "\n",
    "    ax2 = plt.subplot2grid((1,2), (0,1))\n",
    "    freq_distinct_logins_per_user.plot(ax=ax2,kind='pie', autopct='%1.1f%%', startangle=270, fontsize=10)\n",
    "    ax2.set_ylabel(\"\")\n",
    "\n",
    "    fig.show()\n",
    "else:\n",
    "    print(\"Unfortunately, there is no data available!\")\n",
    "# fig.savefig('../figs/cdf_users_attacks.eps', bbox_inches='tight',format='eps', dpi=1200)"
   ]
  },
  {
   "cell_type": "markdown",
   "metadata": {},
   "source": [
    "## 5.3. Distribution of IP addresses per user"
   ]
  },
  {
   "cell_type": "code",
   "execution_count": 138,
   "metadata": {
    "collapsed": false
   },
   "outputs": [],
   "source": [
    "if len(df_logins.groupby(['userid','userip']).size().reset_index()['userid'].value_counts()) >0:\n",
    "    num_distinct_ips_per_user=df_logins.groupby(['userid','userip']).size().reset_index()['userid'].value_counts()\n",
    "else:\n",
    "    num_distinct_ips_per_user=df_logins.groupby(['username','userip']).size().reset_index()['username'].value_counts()\n",
    "    \n",
    "freq_distinct_ips_per_user=num_distinct_ips_per_user.value_counts()\n",
    "cum_dist_user_ips = np.linspace(0.,1.,len(num_distinct_ips_per_user))\n",
    "cdf_user_ips = pd.Series(cum_dist_user_ips, index=num_distinct_ips_per_user.sort_values())"
   ]
  },
  {
   "cell_type": "code",
   "execution_count": 139,
   "metadata": {
    "collapsed": false
   },
   "outputs": [
    {
     "data": {
      "text/plain": [
       "<matplotlib.figure.Figure at 0x1633c1358>"
      ]
     },
     "metadata": {},
     "output_type": "display_data"
    },
    {
     "data": {
      "image/png": "[encoded data removed]",
      "text/plain": [
       "<matplotlib.figure.Figure at 0x1633c1e80>"
      ]
     },
     "metadata": {},
     "output_type": "display_data"
    }
   ],
   "source": [
    "if len(num_distinct_ips_per_user)>0:\n",
    "    fig = plt.figure()\n",
    "    fig = plt.figure(figsize=(7, 3))\n",
    "    fig.suptitle('Distribution of Distinct IP address used by Users', fontsize=16)\n",
    "\n",
    "    ax1 = plt.subplot2grid((1,2), (0,0))\n",
    "    ax1 = cdf_user_ips.plot( ax=ax1,lw=2, drawstyle='steps',legend=False)\n",
    "    ax1.set_xlabel(\"# IPs\")\n",
    "    ax1.set_ylabel(\"CDF of Users\")\n",
    "    ax1.set_ylim(0,1.05)\n",
    "\n",
    "    ax2 = plt.subplot2grid((1,2), (0,1))\n",
    "    freq_distinct_ips_per_user.plot(ax=ax2,kind='pie', autopct='%1.1f%%', startangle=270, fontsize=10)\n",
    "    ax2.set_ylabel(\"\")\n",
    "\n",
    "    fig.show()\n",
    "else:\n",
    "    print(\"Unfortunately, there is no data available!\")\n",
    "# fig.savefig('../figs/cdf_users_attacks.eps', bbox_inches='tight',format='eps', dpi=1200)"
   ]
  },
  {
   "cell_type": "markdown",
   "metadata": {},
   "source": [
    "## 5.4. Distribution of Number of Payments by Users"
   ]
  },
  {
   "cell_type": "code",
   "execution_count": 140,
   "metadata": {
    "collapsed": false
   },
   "outputs": [],
   "source": [
    "if len(df_payments['userid'].value_counts())>0:\n",
    "    num_distinct_payments_per_user=df_payments['userid'].value_counts()\n",
    "else:\n",
    "    num_distinct_payments_per_user=df_payments['username'].value_counts()\n",
    "\n",
    "freq_distinct_payments_per_user=num_distinct_payments_per_user.value_counts()\n",
    "cum_dist_user_payments = np.linspace(0.,1.,len(num_distinct_payments_per_user))\n",
    "cdf_user_payments = pd.Series(cum_dist_user_payments, index=num_distinct_payments_per_user.sort_values())"
   ]
  },
  {
   "cell_type": "code",
   "execution_count": 141,
   "metadata": {
    "collapsed": false
   },
   "outputs": [
    {
     "name": "stdout",
     "output_type": "stream",
     "text": [
      "Unfortunately, there is no data available!\n"
     ]
    }
   ],
   "source": [
    "if len(num_distinct_payments_per_user)>0:\n",
    "    fig = plt.figure()\n",
    "    fig = plt.figure(figsize=(7, 3))\n",
    "    fig.suptitle('Distribution of Number of Payments by Users', fontsize=16)\n",
    "\n",
    "    ax1 = plt.subplot2grid((1,2), (0,0))\n",
    "    ax1 = cdf_user_payments.plot( ax=ax1,lw=2, drawstyle='steps',legend=False)\n",
    "    ax1.set_xlabel(\"# Payment\")\n",
    "    ax1.set_ylabel(\"CDF of Users\")\n",
    "    ax1.set_ylim(0,1.05)\n",
    "\n",
    "    ax2 = plt.subplot2grid((1,2), (0,1))\n",
    "    freq_distinct_payments_per_user.plot(ax=ax2,kind='pie', autopct='%1.1f%%', startangle=270, fontsize=10)\n",
    "    ax2.set_ylabel(\"\")\n",
    "\n",
    "    fig.show()\n",
    "else:\n",
    "    print(\"Unfortunately, there is no data available!\")\n",
    "# fig.savefig('../figs/cdf_users_attacks.eps', bbox_inches='tight',format='eps', dpi=1200)"
   ]
  },
  {
   "cell_type": "markdown",
   "metadata": {},
   "source": [
    "## 5.5. Total amount of money earned"
   ]
  },
  {
   "cell_type": "code",
   "execution_count": 144,
   "metadata": {
    "collapsed": false
   },
   "outputs": [
    {
     "name": "stdout",
     "output_type": "stream",
     "text": [
      "Unfortunately, there is no data available!\n"
     ]
    }
   ],
   "source": [
    "if len(df_payments['amountpaid']) >0:\n",
    "    total_earned=df_payments['amountpaid'].values.sum()\n",
    "    'US$ {:,.2f}'.format(float(total_earned))\n",
    "else:\n",
    "    print(\"Unfortunately, there is no data available!\")"
   ]
  },
  {
   "cell_type": "markdown",
   "metadata": {},
   "source": [
    "## 5.6. Distribution of the money paid by Users"
   ]
  },
  {
   "cell_type": "code",
   "execution_count": 145,
   "metadata": {
    "collapsed": true
   },
   "outputs": [],
   "source": [
    "num_distinct_payments_money_per_user=df_payments['amountpaid'].value_counts()\n",
    "freq_distinct_payments_money_per_user=num_distinct_payments_money_per_user.value_counts()\n",
    "cum_dist_user_payments_money = np.linspace(0.,1.,len(num_distinct_payments_money_per_user))\n",
    "cdf_user_payments_money = pd.Series(cum_dist_user_payments_money, index=num_distinct_payments_money_per_user.sort_values())"
   ]
  },
  {
   "cell_type": "code",
   "execution_count": 146,
   "metadata": {
    "collapsed": false
   },
   "outputs": [
    {
     "name": "stdout",
     "output_type": "stream",
     "text": [
      "Unfortunately, there is no data available!\n"
     ]
    }
   ],
   "source": [
    "if len(num_distinct_payments_money_per_user)>0:\n",
    "    fig = plt.figure()\n",
    "    fig = plt.figure(figsize=(7, 3))\n",
    "    fig.suptitle('Distribution of Money Payments by Users', fontsize=16)\n",
    "\n",
    "    ax1 = plt.subplot2grid((1,2), (0,0))\n",
    "    ax1 = cdf_user_payments_money.plot( ax=ax1,lw=2, drawstyle='steps',legend=False)\n",
    "    ax1.set_xlabel(\"US$\")\n",
    "    ax1.set_ylabel(\"CDF of Users\")\n",
    "    ax1.set_ylim(0,1.05)\n",
    "\n",
    "    ax2 = plt.subplot2grid((1,2), (0,1))\n",
    "    freq_distinct_payments_money_per_user.plot(ax=ax2,kind='pie', autopct='%1.1f%%', startangle=270, fontsize=10)\n",
    "    ax2.set_ylabel(\"\")\n",
    "\n",
    "    fig.show()\n",
    "else:\n",
    "    print(\"Unfortunately, there is no data available!\")\n",
    "# fig.savefig('../figs/cdf_users_attacks.eps', bbox_inches='tight',format='eps', dpi=1200)"
   ]
  },
  {
   "cell_type": "markdown",
   "metadata": {
    "collapsed": false
   },
   "source": [
    "## 5.7. Distribution of Countries that users access Booters"
   ]
  },
  {
   "cell_type": "code",
   "execution_count": 147,
   "metadata": {
    "collapsed": false
   },
   "outputs": [],
   "source": [
    "logins_country_distribution=df_logins_iptoasn['country'].value_counts()"
   ]
  },
  {
   "cell_type": "code",
   "execution_count": 148,
   "metadata": {
    "collapsed": false
   },
   "outputs": [
    {
     "data": {
      "text/plain": [
       "<matplotlib.figure.Figure at 0x1498d1550>"
      ]
     },
     "metadata": {},
     "output_type": "display_data"
    },
    {
     "data": {
      "image/png": "[encoded data removed]",
      "text/plain": [
       "<matplotlib.figure.Figure at 0x1633cc1d0>"
      ]
     },
     "metadata": {},
     "output_type": "display_data"
    }
   ],
   "source": [
    "if len(logins_country_distribution)>0:\n",
    "    fig = plt.figure()\n",
    "    fig = plt.figure(figsize=(7, 3))\n",
    "    fig.suptitle('Users Accessing from Countries', fontsize=16)\n",
    "\n",
    "    ax1 = plt.subplot2grid((1,2), (0,0))\n",
    "    logins_country_distribution.plot(ax=ax1,kind='bar')\n",
    "    ax1.set_ylabel(\"\")\n",
    "\n",
    "    ax2 = plt.subplot2grid((1,2), (0,1))\n",
    "    logins_country_distribution.plot(ax=ax2,kind='pie', autopct='%1.1f%%', startangle=270, fontsize=10)\n",
    "    ax2.set_ylabel(\"\")\n",
    "\n",
    "    fig.show()\n",
    "else:\n",
    "    print(\"Unfortunately, there is no data available!\")"
   ]
  },
  {
   "cell_type": "markdown",
   "metadata": {},
   "source": [
    "## 5.8. Countries of blacklisted IPs"
   ]
  },
  {
   "cell_type": "code",
   "execution_count": 149,
   "metadata": {
    "collapsed": true
   },
   "outputs": [],
   "source": [
    "blacklist_country_distribution=df_blacklist_iptoasn['country'].value_counts()"
   ]
  },
  {
   "cell_type": "code",
   "execution_count": 150,
   "metadata": {
    "collapsed": false
   },
   "outputs": [
    {
     "name": "stdout",
     "output_type": "stream",
     "text": [
      "Unfortunately, there is no data available!\n"
     ]
    }
   ],
   "source": [
    "if len(blacklist_country_distribution)>0:\n",
    "    fig = plt.figure()\n",
    "    fig = plt.figure(figsize=(7, 3))\n",
    "    fig.suptitle('Countries of blacklisted IPs', fontsize=16)\n",
    "\n",
    "    ax1 = plt.subplot2grid((1,2), (0,0))\n",
    "    blacklist_country_distribution.plot(ax=ax1,kind='bar')\n",
    "    ax1.set_ylabel(\"\")\n",
    "\n",
    "    ax2 = plt.subplot2grid((1,2), (0,1))\n",
    "    blacklist_country_distribution.plot(ax=ax2,kind='pie', autopct='%1.1f%%', startangle=270, fontsize=10)\n",
    "    ax2.set_ylabel(\"\")\n",
    "\n",
    "    fig.show()\n",
    "else:\n",
    "    print(\"Unfortunately, there is no data available!\")"
   ]
  },
  {
   "cell_type": "markdown",
   "metadata": {},
   "source": [
    "## 5.9. Countries of target IPs"
   ]
  },
  {
   "cell_type": "code",
   "execution_count": 151,
   "metadata": {
    "collapsed": true
   },
   "outputs": [],
   "source": [
    "attacks_country_distribution=df_attacks_iptoasn['country'].value_counts()"
   ]
  },
  {
   "cell_type": "code",
   "execution_count": 152,
   "metadata": {
    "collapsed": false
   },
   "outputs": [
    {
     "data": {
      "text/plain": [
       "<matplotlib.figure.Figure at 0x1498de630>"
      ]
     },
     "metadata": {},
     "output_type": "display_data"
    },
    {
     "data": {
      "image/png": "[encoded data removed]",
      "text/plain": [
       "<matplotlib.figure.Figure at 0x149bb32e8>"
      ]
     },
     "metadata": {},
     "output_type": "display_data"
    }
   ],
   "source": [
    "if len(attacks_country_distribution)>0:\n",
    "    fig = plt.figure()\n",
    "    fig = plt.figure(figsize=(7, 3))\n",
    "    fig.suptitle('Countries of target IPs', fontsize=16)\n",
    "\n",
    "    ax1 = plt.subplot2grid((1,2), (0,0))\n",
    "    attacks_country_distribution.plot(ax=ax1,kind='bar')\n",
    "    ax1.set_ylabel(\"\")\n",
    "\n",
    "    ax2 = plt.subplot2grid((1,2), (0,1))\n",
    "    attacks_country_distribution.plot(ax=ax2,kind='pie', autopct='%1.1f%%', startangle=270, fontsize=10)\n",
    "    ax2.set_ylabel(\"\")\n",
    "\n",
    "    fig.show()\n",
    "else:\n",
    "    print(\"Unfortunately, there is no data available!\")"
   ]
  },
  {
   "cell_type": "markdown",
   "metadata": {},
   "source": [
    "<h2 align=\"center\">!!!!!!!!!!!!!!!!!!!!!!!!!!!!!!!!!!!!!!!!!!!!!!!!!!!!!!!!!!!!!!!!!!!!!!!!!!!!!!!!!!!!!!!!!!!!!!!!!!!!!!!!!!!!!!!!!!!!!!!!!!!!!!!!!<br>\n",
    "FIFTH PART: Query Interface<br>\n",
    "!!!!!!!!!!!!!!!!!!!!!!!!!!!!!!!!!!!!!!!!!!!!!!!!!!!!!!!!!!!!!!!!!!!!!!!!!!!!!!!!!!!!!!!!!!!!!!!!!!!!!!!!!!!!!!!!!!!!!!!!!!!!!!!</h2> "
   ]
  },
  {
   "cell_type": "code",
   "execution_count": 153,
   "metadata": {
    "collapsed": true
   },
   "outputs": [],
   "source": [
    "from ipywidgets import widgets, interact\n",
    "from IPython.display import display,clear_output"
   ]
  },
  {
   "cell_type": "markdown",
   "metadata": {},
   "source": [
    "##  5.1. Search user by name or email"
   ]
  },
  {
   "cell_type": "code",
   "execution_count": 154,
   "metadata": {
    "collapsed": false
   },
   "outputs": [],
   "source": [
    "def searchfor_username_submit(sender):\n",
    "    clear_output()\n",
    "    print(\"Searching for \\\"\",searchfor_username.value,\"\\\" in df_users:\")\n",
    "    display(df_users[df_users['username']== searchfor_username.value.lower()])\n",
    "\n",
    "def searchfor_useremail_submit(sender):\n",
    "    clear_output()\n",
    "    print(\"Searching for \\\"\",searchfor_useremail.value,\"\\\" in df_users:\")\n",
    "    display(df_users[df_users['useremail']== searchfor_useremail.value])\n",
    "    print(\"Searching for \\\"\",searchfor_useremail.value,\"\\\" in df_payment:\")\n",
    "    display(df_payments[df_payments['paymentemail']== searchfor_useremail.value])"
   ]
  },
  {
   "cell_type": "code",
   "execution_count": 155,
   "metadata": {
    "collapsed": false
   },
   "outputs": [],
   "source": [
    "searchfor_username = widgets.Text(description=\"username\")\n",
    "display(searchfor_username)\n",
    "searchfor_username.on_submit(searchfor_username_submit)\n",
    "\n",
    "searchfor_useremail = widgets.Text(description=\"email\")\n",
    "display(searchfor_useremail)\n",
    "searchfor_useremail.on_submit(searchfor_useremail_submit)"
   ]
  },
  {
   "cell_type": "markdown",
   "metadata": {},
   "source": [
    "## 5.2. Search attacks by username or userid"
   ]
  },
  {
   "cell_type": "code",
   "execution_count": 156,
   "metadata": {
    "collapsed": true
   },
   "outputs": [],
   "source": [
    "def searchfor_attacks_userid_submit(sender):\n",
    "    clear_output()\n",
    "    print(\"Searching for \\\"\",searchfor_attacks_userid.value,\"\\\" in df_attacks:\")\n",
    "    display(df_attacks[df_attacks['userid']== searchfor_attacks_userid.value])\n",
    "\n",
    "def searchfor_attacks_username_submit(sender):\n",
    "    clear_output()\n",
    "    print(\"Searching for \\\"\",searchfor_attacks_username.value,\"\\\" in df_attacks:\")\n",
    "    userid=df_users[df_users['username']==searchfor_attacks_username.value.lower()]['userid'].iloc[0]\n",
    "    display(df_attacks[df_attacks['userid']== userid])"
   ]
  },
  {
   "cell_type": "code",
   "execution_count": 157,
   "metadata": {
    "collapsed": false
   },
   "outputs": [],
   "source": [
    "searchfor_attacks_username = widgets.Text(description=\"username\",)\n",
    "display(searchfor_attacks_username)\n",
    "searchfor_attacks_username.on_submit(searchfor_attacks_username_submit)\n",
    "\n",
    "searchfor_attacks_userid = widgets.Text(description=\"userid\")\n",
    "display(searchfor_attacks_userid)\n",
    "searchfor_attacks_userid.on_submit(searchfor_attacks_userid_submit)"
   ]
  },
  {
   "cell_type": "markdown",
   "metadata": {},
   "source": [
    "## 5.3. Search IP address by userid or username"
   ]
  },
  {
   "cell_type": "code",
   "execution_count": 158,
   "metadata": {
    "collapsed": false
   },
   "outputs": [],
   "source": [
    "def search_ips_by_userid_submit(sender):\n",
    "    clear_output()\n",
    "    print(\"Searching for \\\"\",search_ips_by_userid.value,\"\\\" in df_logins:\")\n",
    "    display(df_logins[df_logins['userid']== int(search_ips_by_userid.value)])\n",
    "\n",
    "def search_ips_by_username_submit(sender):\n",
    "    clear_output()\n",
    "    print(\"Searching for \\\"\",search_ips_by_username.value,\"\\\" in df_logins:\")\n",
    "    userid=df_users[df_users['username']==search_ips_by_username.value.lower()]['userid'].iloc[0]\n",
    "    display(df_logins[df_logins['userid']== userid])"
   ]
  },
  {
   "cell_type": "code",
   "execution_count": 159,
   "metadata": {
    "collapsed": false
   },
   "outputs": [],
   "source": [
    "search_ips_by_username = widgets.Text(description=\"username\")\n",
    "display(search_ips_by_username)\n",
    "search_ips_by_username.on_submit(search_ips_by_username_submit)\n",
    "\n",
    "search_ips_by_userid = widgets.Text(description=\"userid\")\n",
    "display(search_ips_by_userid)\n",
    "search_ips_by_userid.on_submit(search_ips_by_userid_submit)"
   ]
  },
  {
   "cell_type": "code",
   "execution_count": null,
   "metadata": {
    "collapsed": true
   },
   "outputs": [],
   "source": []
  }
 ],
 "metadata": {
  "kernelspec": {
   "display_name": "Python 3",
   "language": "python",
   "name": "python3"
  },
  "language_info": {
   "codemirror_mode": {
    "name": "ipython",
    "version": 3
   },
   "file_extension": ".py",
   "mimetype": "text/x-python",
   "name": "python",
   "nbconvert_exporter": "python",
   "pygments_lexer": "ipython3",
   "version": "3.5.1"
  },
  "widgets": {
   "state": {
    "030fd2976f0b4a32aff1abc477c540d2": {
     "views": []
    },
    "1201e22784d04797b0c60ab75a74d05e": {
     "views": [
      {
       "cell_index": 116
      }
     ]
    },
    "36e991d3c08c4a56909de1d45013498b": {
     "views": [
      {
       "cell_index": 119
      }
     ]
    },
    "3a6112a8f82b467d8b780d04e32ea53f": {
     "views": [
      {
       "cell_index": 122
      }
     ]
    },
    "4c21e818cd3142cb8cf6908d3bf0d632": {
     "views": [
      {
       "cell_index": 116
      }
     ]
    },
    "56b617d3c6d84988a7be7a593f1f6040": {
     "views": []
    },
    "964a27ae1f204cc2b0e2cea42a7abf23": {
     "views": [
      {
       "cell_index": 119
      }
     ]
    },
    "b2cb342834434cb681aedcf0d1ae3e20": {
     "views": []
    },
    "cb3f6ed7b45740bb8b35cbc2a9f736d2": {
     "views": []
    },
    "e90c9a6bd31d4f0aaf733d1f1b903341": {
     "views": []
    },
    "f691463dc4ec4b189fae48f07730adbf": {
     "views": []
    },
    "f940bd2ecbe34f55bc8f1a161527e48e": {
     "views": [
      {
       "cell_index": 122
      }
     ]
    }
   },
   "version": "1.1.2"
  }
 },
 "nbformat": 4,
 "nbformat_minor": 0
}
