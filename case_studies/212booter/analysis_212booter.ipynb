{
 "cells": [
  {
   "cell_type": "markdown",
   "metadata": {
    "deletable": true,
    "editable": true
   },
   "source": [
    "<h1 align=\"center\">\n",
    "!!!!!!!!!!!!!!!!!!!!!!!!!!!!!!!!!!!!!!!!!!!!!!!!!!!!!!!!!!!!!!!!!!!!!!!!!!!!!!!!!!!!!!!!!!!!!!!!!!!!!!!!!!!!!!!!!!!!!!!!!!!!!!!<br>\n",
    "Brief explanation on our Booter database analysis methodology: <br>\n",
    "!!!!!!!!!!!!!!!!!!!!!!!!!!!!!!!!!!!!!!!!!!!!!!!!!!!!!!!!!!!!!!!!!!!!!!!!!!!!!!!!!!!!!!!!!!!!!!!!!!!!!!!!!!!!!!!!!!!!!!!!!!!!!!!</h1> "
   ]
  },
  {
   "cell_type": "markdown",
   "metadata": {
    "deletable": true,
    "editable": true
   },
   "source": [
    "# Analysis of: 212booter\n",
    "#### File originally retrieved from: http://4lz5rmnkd6f63tmm.onion/db/212booter.sql"
   ]
  },
  {
   "cell_type": "markdown",
   "metadata": {
    "deletable": true,
    "editable": true
   },
   "source": [
    "<h1 align=\"center\">\n",
    "!!!!!!!!!!!!!!!!!!!!!!!!!!!!!!!!!!!!!!!!!!!!!!!!!!!!!!!!!!!!!!!!!!!!!!!!!!!!!!!!!!!!!!!!!!!!!!!!!!!!!!!!!!!!!!!!!!!!!!!!!!!!!!!<br>\n",
    "STEP 0: Reading an input Booter database file<br>\n",
    "!!!!!!!!!!!!!!!!!!!!!!!!!!!!!!!!!!!!!!!!!!!!!!!!!!!!!!!!!!!!!!!!!!!!!!!!!!!!!!!!!!!!!!!!!!!!!!!!!!!!!!!!!!!!!!!!!!!!!!!!!!!!!!!</h1> "
   ]
  },
  {
   "cell_type": "code",
   "execution_count": 1,
   "metadata": {
    "collapsed": true,
    "deletable": true,
    "editable": true
   },
   "outputs": [],
   "source": [
    "dumpfile='212booter.sql'"
   ]
  },
  {
   "cell_type": "markdown",
   "metadata": {
    "deletable": true,
    "editable": true
   },
   "source": [
    "## * Libraries that I use to analyse data"
   ]
  },
  {
   "cell_type": "code",
   "execution_count": 2,
   "metadata": {
    "collapsed": true,
    "deletable": true,
    "editable": true
   },
   "outputs": [],
   "source": [
    "import pandas as pd\n",
    "import numpy as np\n",
    "\n",
    "from io import StringIO\n",
    "import re\n",
    "\n",
    "from IPython.display import display,clear_output"
   ]
  },
  {
   "cell_type": "code",
   "execution_count": 3,
   "metadata": {
    "collapsed": false,
    "deletable": true,
    "editable": true
   },
   "outputs": [
    {
     "name": "stdout",
     "output_type": "stream",
     "text": [
      " Functions loaded!!!!\n"
     ]
    }
   ],
   "source": [
    "%run '../booter_db_analysis_functions.ipynb'"
   ]
  },
  {
   "cell_type": "markdown",
   "metadata": {
    "deletable": true,
    "editable": true
   },
   "source": [
    "<h1 align=\"center\">\n",
    "!!!!!!!!!!!!!!!!!!!!!!!!!!!!!!!!!!!!!!!!!!!!!!!!!!!!!!!!!!!!!!!!!!!!!!!!!!!!!!!!!!!!!!!!!!!!!!!!!!!!!!!!!!!!!!!!!!!!!!!!!!!!!!!!!!!!!!!!!<br>\n",
    "STEP 1: Adaptation to our Booter database schema<br>\n",
    "!!!!!!!!!!!!!!!!!!!!!!!!!!!!!!!!!!!!!!!!!!!!!!!!!!!!!!!!!!!!!!!!!!!!!!!!!!!!!!!!!!!!!!!!!!!!!!!!!!!!!!!!!!!!!!!!!!!!!!!!!!!!!!!</h1> "
   ]
  },
  {
   "cell_type": "markdown",
   "metadata": {
    "deletable": true,
    "editable": true
   },
   "source": [
    "## 1. Reading the first 'N' (100) lines of the input Booter database file"
   ]
  },
  {
   "cell_type": "code",
   "execution_count": 4,
   "metadata": {
    "collapsed": false,
    "deletable": true,
    "editable": true
   },
   "outputs": [
    {
     "name": "stdout",
     "output_type": "stream",
     "text": [
      "-- phpMyAdmin SQL Dump\n",
      "-- version 3.5.8\n",
      "-- http://www.phpmyadmin.net\n",
      "--\n",
      "-- Host: localhost\n",
      "-- Generation Time: Jul 31, 2013 at 11:23 PM\n",
      "-- Server version: 5.5.32-cll\n",
      "-- PHP Version: 5.3.17\n",
      "\n",
      "SET SQL_MODE=\"NO_AUTO_VALUE_ON_ZERO\";\n",
      "SET time_zone = \"+00:00\";\n",
      "\n",
      "\n",
      "/*!40101 SET @OLD_CHARACTER_SET_CLIENT=@@CHARACTER_SET_CLIENT */;\n",
      "/*!40101 SET @OLD_CHARACTER_SET_RESULTS=@@CHARACTER_SET_RESULTS */;\n",
      "/*!40101 SET @OLD_COLLATION_CONNECTION=@@COLLATION_CONNECTION */;\n",
      "/*!40101 SET NAMES utf8 */;\n",
      "\n",
      "--\n",
      "-- Database: `a12boote_booter`\n",
      "--\n",
      "\n",
      "-- --------------------------------------------------------\n",
      "\n",
      "--\n",
      "-- Table structure for table `API`\n",
      "--\n",
      "\n",
      "CREATE TABLE IF NOT EXISTS `API` (\n",
      "`id` int(11) NOT NULL AUTO_INCREMENT,\n",
      "`UDP` text NOT NULL,\n",
      "`type` varchar(11) NOT NULL,\n",
      "PRIMARY KEY (`id`)\n",
      ") ENGINE=MyISAM  DEFAULT CHARSET=latin1 AUTO_INCREMENT=3 ;\n",
      "\n",
      "--\n",
      "-- Dumping data for table `API`\n",
      "--\n",
      "\n",
      "INSERT INTO `API` (`id`, `UDP`, `type`) VALUES\n",
      "(1, 'http://bestbooter.com/send.php?key=84751657816548979848416&host=[host]&time=[time]&port=[port] ', ''),\n",
      "(2, '', '');\n",
      "\n",
      "-- --------------------------------------------------------\n",
      "\n",
      "--\n",
      "-- Table structure for table `blacklist`\n",
      "--\n",
      "\n",
      "CREATE TABLE IF NOT EXISTS `blacklist` (\n",
      "`ID` int(11) NOT NULL AUTO_INCREMENT,\n",
      "`IP` varchar(15) NOT NULL,\n",
      "`note` text NOT NULL,\n",
      "PRIMARY KEY (`ID`)\n",
      ") ENGINE=MyISAM  DEFAULT CHARSET=latin1 AUTO_INCREMENT=21 ;\n",
      "\n",
      "--\n",
      "-- Dumping data for table `blacklist`\n",
      "--\n",
      "\n",
      "INSERT INTO `blacklist` (`ID`, `IP`, `note`) VALUES\n",
      "(10, '198.46.128.21', 'http://www.colocrossing.com/'),\n",
      "(11, '75.127.2.53', 'Abused.'),\n",
      "(12, '72.21.81.85', 'FBI'),\n",
      "(13, '65.201.175.137', 'Ic3.gov'),\n",
      "(14, '64.15.119.88', 'Google'),\n",
      "(15, '108.162.198.212', '212 Booter'),\n",
      "(16, '65.55.42.140', 'Xbox.com');\n",
      "\n",
      "-- --------------------------------------------------------\n",
      "\n",
      "--\n",
      "-- Table structure for table `fe`\n",
      "--\n",
      "\n",
      "CREATE TABLE IF NOT EXISTS `fe` (\n",
      "`ID` int(11) NOT NULL AUTO_INCREMENT,\n",
      "`userID` int(11) NOT NULL,\n",
      "`type` varchar(1) NOT NULL,\n",
      "`ip` varchar(15) NOT NULL,\n",
      "`note` text NOT NULL,\n",
      "PRIMARY KEY (`ID`)\n",
      ") ENGINE=MyISAM  DEFAULT CHARSET=latin1 AUTO_INCREMENT=188 ;\n",
      "\n",
      "--\n",
      "-- Dumping data for table `fe`\n",
      "--\n",
      "\n",
      "INSERT INTO `fe` (`ID`, `userID`, `type`, `ip`, `note`) VALUES\n",
      "(1, 12, 'e', '110.175.100.136', 'Auspride018'),\n",
      "(2, 13, 'e', '94.197.11.24', ''),\n",
      "(3, 8, 'f', '50.138.30.101', 'Nely'),\n",
      "(4, 8, 'f', '50.55.247.24', 'Brittany'),\n",
      "(5, 8, 'f', '98.94.78.64', 'channa'),\n",
      "(6, 8, 'f', '108.210.196.40', 'Hector'),\n",
      "(7, 8, 'f', '70.100.180.240', 'Kimmie'),\n",
      "(8, 8, 'f', '50.33.227.18', 'Karissa'),\n",
      "(9, 8, 'f', '108.214.117.105', 'Lilla'),\n",
      "(10, 26, 'e', '85.229.8.249', 'Jimman'),\n",
      "(11, 26, 'e', '213.114.138.6', 'dillen'),\n"
     ]
    }
   ],
   "source": [
    "lines_to_read=100\n",
    "\n",
    "with open(dumpfile) as myfile:\n",
    "    firstlines=myfile.readlines()[0:lines_to_read] #put here the interval you want\n",
    "    for x in firstlines:\n",
    "        print(x.strip())"
   ]
  },
  {
   "cell_type": "markdown",
   "metadata": {
    "deletable": true,
    "editable": true
   },
   "source": [
    "## 2. Listing tables that have content inserted into the dump file"
   ]
  },
  {
   "cell_type": "code",
   "execution_count": 5,
   "metadata": {
    "collapsed": false,
    "deletable": true,
    "editable": true
   },
   "outputs": [
    {
     "name": "stdout",
     "output_type": "stream",
     "text": [
      "1 API\n",
      "2 blacklist\n",
      "3 fe\n",
      "4 gateway\n",
      "5 iplogs\n",
      "6 loginlogs\n",
      "7 loginlogs\n",
      "8 logs\n",
      "9 logs\n",
      "10 logs\n",
      "11 messages\n",
      "12 news\n",
      "13 payments\n",
      "14 plans\n",
      "15 referrals\n",
      "16 skype_api\n",
      "17 users\n"
     ]
    }
   ],
   "source": [
    "tables=enumerate(list_tables_with_insert(dumpfile))\n",
    "\n",
    "for i, item in tables:\n",
    "    print(i+1,item)"
   ]
  },
  {
   "cell_type": "markdown",
   "metadata": {
    "deletable": true,
    "editable": true
   },
   "source": [
    "<h2 align='center'>======================================================================\n",
    "Adapting EACH existing table\n",
    "======================================================================</h2>"
   ]
  },
  {
   "cell_type": "markdown",
   "metadata": {
    "deletable": true,
    "editable": true
   },
   "source": [
    "## 6.1. Table: 'API'"
   ]
  },
  {
   "cell_type": "markdown",
   "metadata": {
    "deletable": true,
    "editable": true
   },
   "source": [
    "### How this table looks like without modification?"
   ]
  },
  {
   "cell_type": "code",
   "execution_count": 6,
   "metadata": {
    "collapsed": false,
    "deletable": true,
    "editable": true
   },
   "outputs": [
    {
     "data": {
      "text/html": [
       "<div>\n",
       "<table border=\"1\" class=\"dataframe\">\n",
       "  <thead>\n",
       "    <tr style=\"text-align: right;\">\n",
       "      <th></th>\n",
       "      <th>id</th>\n",
       "      <th>UDP</th>\n",
       "      <th>type</th>\n",
       "    </tr>\n",
       "  </thead>\n",
       "  <tbody>\n",
       "    <tr>\n",
       "      <th>0</th>\n",
       "      <td>1</td>\n",
       "      <td>http://bestbooter.com/send.php?key=84751657816...</td>\n",
       "      <td>NaN</td>\n",
       "    </tr>\n",
       "    <tr>\n",
       "      <th>1</th>\n",
       "      <td>2</td>\n",
       "      <td>NaN</td>\n",
       "      <td>NaN</td>\n",
       "    </tr>\n",
       "  </tbody>\n",
       "</table>\n",
       "</div>"
      ],
      "text/plain": [
       "   id                                                UDP  type\n",
       "0   1  http://bestbooter.com/send.php?key=84751657816...   NaN\n",
       "1   2                                                NaN   NaN"
      ]
     },
     "execution_count": 6,
     "metadata": {},
     "output_type": "execute_result"
    }
   ],
   "source": [
    "tablename='API'\n",
    "\n",
    "pd.read_csv(read_inserted_table1(dumpfile, tablename),\n",
    "            delimiter=\",\",\n",
    "            error_bad_lines=False).head(10)"
   ]
  },
  {
   "cell_type": "markdown",
   "metadata": {
    "deletable": true,
    "editable": true
   },
   "source": [
    "#### Q1: Is this table different from other previous loaded table? YES\n",
    "#### Q2: Is this table similar to any table in the generic Booter database schema? NO\n",
    "    - This table looks like: \n",
    "    \n",
    "#### Q3: Are there modifications required? \n",
    "    - On the table name: \n",
    "        o \n",
    "    - On the column type/converter: \n",
    "        o    \n",
    "    - On the column name:\n",
    "        o  \n",
    "    - Split columns:\n",
    "        o \n",
    "    - Add required columns:\n",
    "        o "
   ]
  },
  {
   "cell_type": "markdown",
   "metadata": {
    "deletable": true,
    "editable": true
   },
   "source": [
    "## 6.2. Table: 'blacklist'"
   ]
  },
  {
   "cell_type": "markdown",
   "metadata": {
    "deletable": true,
    "editable": true
   },
   "source": [
    "### How this table looks like without modification?"
   ]
  },
  {
   "cell_type": "code",
   "execution_count": 7,
   "metadata": {
    "collapsed": false,
    "deletable": true,
    "editable": true
   },
   "outputs": [
    {
     "data": {
      "text/html": [
       "<div>\n",
       "<table border=\"1\" class=\"dataframe\">\n",
       "  <thead>\n",
       "    <tr style=\"text-align: right;\">\n",
       "      <th></th>\n",
       "      <th>ID</th>\n",
       "      <th>IP</th>\n",
       "      <th>note</th>\n",
       "    </tr>\n",
       "  </thead>\n",
       "  <tbody>\n",
       "    <tr>\n",
       "      <th>0</th>\n",
       "      <td>10</td>\n",
       "      <td>198.46.128.21</td>\n",
       "      <td>http://www.colocrossing.com/</td>\n",
       "    </tr>\n",
       "    <tr>\n",
       "      <th>1</th>\n",
       "      <td>11</td>\n",
       "      <td>75.127.2.53</td>\n",
       "      <td>Abused.</td>\n",
       "    </tr>\n",
       "    <tr>\n",
       "      <th>2</th>\n",
       "      <td>12</td>\n",
       "      <td>72.21.81.85</td>\n",
       "      <td>FBI</td>\n",
       "    </tr>\n",
       "    <tr>\n",
       "      <th>3</th>\n",
       "      <td>13</td>\n",
       "      <td>65.201.175.137</td>\n",
       "      <td>Ic3.gov</td>\n",
       "    </tr>\n",
       "    <tr>\n",
       "      <th>4</th>\n",
       "      <td>14</td>\n",
       "      <td>64.15.119.88</td>\n",
       "      <td>Google</td>\n",
       "    </tr>\n",
       "    <tr>\n",
       "      <th>5</th>\n",
       "      <td>15</td>\n",
       "      <td>108.162.198.212</td>\n",
       "      <td>212 Booter</td>\n",
       "    </tr>\n",
       "    <tr>\n",
       "      <th>6</th>\n",
       "      <td>16</td>\n",
       "      <td>65.55.42.140</td>\n",
       "      <td>Xbox.com</td>\n",
       "    </tr>\n",
       "  </tbody>\n",
       "</table>\n",
       "</div>"
      ],
      "text/plain": [
       "   ID               IP                          note\n",
       "0  10    198.46.128.21  http://www.colocrossing.com/\n",
       "1  11      75.127.2.53                       Abused.\n",
       "2  12      72.21.81.85                           FBI\n",
       "3  13   65.201.175.137                       Ic3.gov\n",
       "4  14     64.15.119.88                        Google\n",
       "5  15  108.162.198.212                    212 Booter\n",
       "6  16     65.55.42.140                      Xbox.com"
      ]
     },
     "execution_count": 7,
     "metadata": {},
     "output_type": "execute_result"
    }
   ],
   "source": [
    "tablename='blacklist'\n",
    "\n",
    "# Only displaying the results\n",
    "pd.read_csv(read_inserted_table1(dumpfile, tablename),\n",
    "            delimiter=\",\",\n",
    "            error_bad_lines=False).head(10)"
   ]
  },
  {
   "cell_type": "markdown",
   "metadata": {
    "deletable": true,
    "editable": true
   },
   "source": [
    "#### Q1: Is this table different from other previous loaded table? YES\n",
    "#### Q2: Is this table similar to any table in the generic Booter database schema? YES\n",
    "    - This table looks like: blacklist\n",
    "    \n",
    "#### Q3: Are there modifications required? \n",
    "    - On the table name: \n",
    "        o \n",
    "    - On the column type: \n",
    "        o    \n",
    "    - On the column name:\n",
    "        o ID => id\n",
    "        o IP => ip\n",
    "    - Split columns:\n",
    "        o \n",
    "    - Add required columns:\n",
    "        o         "
   ]
  },
  {
   "cell_type": "markdown",
   "metadata": {
    "deletable": true,
    "editable": true
   },
   "source": [
    "### Modifying table: 'blacklist'"
   ]
  },
  {
   "cell_type": "code",
   "execution_count": 8,
   "metadata": {
    "collapsed": false,
    "deletable": true,
    "editable": true
   },
   "outputs": [
    {
     "data": {
      "text/html": [
       "<div>\n",
       "<table border=\"1\" class=\"dataframe\">\n",
       "  <thead>\n",
       "    <tr style=\"text-align: right;\">\n",
       "      <th></th>\n",
       "      <th>id</th>\n",
       "      <th>ip</th>\n",
       "      <th>note</th>\n",
       "    </tr>\n",
       "  </thead>\n",
       "  <tbody>\n",
       "    <tr>\n",
       "      <th>0</th>\n",
       "      <td>10</td>\n",
       "      <td>198.46.128.21</td>\n",
       "      <td>http://www.colocrossing.com/</td>\n",
       "    </tr>\n",
       "    <tr>\n",
       "      <th>1</th>\n",
       "      <td>11</td>\n",
       "      <td>75.127.2.53</td>\n",
       "      <td>Abused.</td>\n",
       "    </tr>\n",
       "    <tr>\n",
       "      <th>2</th>\n",
       "      <td>12</td>\n",
       "      <td>72.21.81.85</td>\n",
       "      <td>FBI</td>\n",
       "    </tr>\n",
       "    <tr>\n",
       "      <th>3</th>\n",
       "      <td>13</td>\n",
       "      <td>65.201.175.137</td>\n",
       "      <td>Ic3.gov</td>\n",
       "    </tr>\n",
       "    <tr>\n",
       "      <th>4</th>\n",
       "      <td>14</td>\n",
       "      <td>64.15.119.88</td>\n",
       "      <td>Google</td>\n",
       "    </tr>\n",
       "    <tr>\n",
       "      <th>5</th>\n",
       "      <td>15</td>\n",
       "      <td>108.162.198.212</td>\n",
       "      <td>212 Booter</td>\n",
       "    </tr>\n",
       "    <tr>\n",
       "      <th>6</th>\n",
       "      <td>16</td>\n",
       "      <td>65.55.42.140</td>\n",
       "      <td>Xbox.com</td>\n",
       "    </tr>\n",
       "  </tbody>\n",
       "</table>\n",
       "</div>"
      ],
      "text/plain": [
       "   id               ip                          note\n",
       "0  10    198.46.128.21  http://www.colocrossing.com/\n",
       "1  11      75.127.2.53                       Abused.\n",
       "2  12      72.21.81.85                           FBI\n",
       "3  13   65.201.175.137                       Ic3.gov\n",
       "4  14     64.15.119.88                        Google\n",
       "5  15  108.162.198.212                    212 Booter\n",
       "6  16     65.55.42.140                      Xbox.com"
      ]
     },
     "execution_count": 8,
     "metadata": {},
     "output_type": "execute_result"
    }
   ],
   "source": [
    "df_blacklist = pd.read_csv(read_inserted_table1(dumpfile, tablename),\n",
    "                                delimiter=\",\",\n",
    "                                error_bad_lines=False)\n",
    "\n",
    "\n",
    "###Changing names of columns\n",
    "df_blacklist.rename(columns = {'ID': 'id',\n",
    "                               'IP': 'ip'},\n",
    "                         inplace=True)\n",
    "\n",
    "###Creating empty columns (with \"\" [for future string] or np.nan [for future float])\n",
    "\n",
    "\n",
    "###Showing some lines after adapt the table\n",
    "df_blacklist.head(10)"
   ]
  },
  {
   "cell_type": "markdown",
   "metadata": {
    "deletable": true,
    "editable": true
   },
   "source": [
    "## 6.3. Table: 'fe'"
   ]
  },
  {
   "cell_type": "markdown",
   "metadata": {
    "deletable": true,
    "editable": true
   },
   "source": [
    "### How this table looks like without modification?"
   ]
  },
  {
   "cell_type": "code",
   "execution_count": 9,
   "metadata": {
    "collapsed": false,
    "deletable": true,
    "editable": true
   },
   "outputs": [
    {
     "data": {
      "text/html": [
       "<div>\n",
       "<table border=\"1\" class=\"dataframe\">\n",
       "  <thead>\n",
       "    <tr style=\"text-align: right;\">\n",
       "      <th></th>\n",
       "      <th>ID</th>\n",
       "      <th>userID</th>\n",
       "      <th>type</th>\n",
       "      <th>ip</th>\n",
       "      <th>note</th>\n",
       "    </tr>\n",
       "  </thead>\n",
       "  <tbody>\n",
       "    <tr>\n",
       "      <th>0</th>\n",
       "      <td>1</td>\n",
       "      <td>12</td>\n",
       "      <td>e</td>\n",
       "      <td>110.175.100.136</td>\n",
       "      <td>Auspride018</td>\n",
       "    </tr>\n",
       "    <tr>\n",
       "      <th>1</th>\n",
       "      <td>2</td>\n",
       "      <td>13</td>\n",
       "      <td>e</td>\n",
       "      <td>94.197.11.24</td>\n",
       "      <td>NaN</td>\n",
       "    </tr>\n",
       "    <tr>\n",
       "      <th>2</th>\n",
       "      <td>3</td>\n",
       "      <td>8</td>\n",
       "      <td>f</td>\n",
       "      <td>50.138.30.101</td>\n",
       "      <td>Nely</td>\n",
       "    </tr>\n",
       "    <tr>\n",
       "      <th>3</th>\n",
       "      <td>4</td>\n",
       "      <td>8</td>\n",
       "      <td>f</td>\n",
       "      <td>50.55.247.24</td>\n",
       "      <td>Brittany</td>\n",
       "    </tr>\n",
       "    <tr>\n",
       "      <th>4</th>\n",
       "      <td>5</td>\n",
       "      <td>8</td>\n",
       "      <td>f</td>\n",
       "      <td>98.94.78.64</td>\n",
       "      <td>channa</td>\n",
       "    </tr>\n",
       "    <tr>\n",
       "      <th>5</th>\n",
       "      <td>6</td>\n",
       "      <td>8</td>\n",
       "      <td>f</td>\n",
       "      <td>108.210.196.40</td>\n",
       "      <td>Hector</td>\n",
       "    </tr>\n",
       "    <tr>\n",
       "      <th>6</th>\n",
       "      <td>7</td>\n",
       "      <td>8</td>\n",
       "      <td>f</td>\n",
       "      <td>70.100.180.240</td>\n",
       "      <td>Kimmie</td>\n",
       "    </tr>\n",
       "    <tr>\n",
       "      <th>7</th>\n",
       "      <td>8</td>\n",
       "      <td>8</td>\n",
       "      <td>f</td>\n",
       "      <td>50.33.227.18</td>\n",
       "      <td>Karissa</td>\n",
       "    </tr>\n",
       "    <tr>\n",
       "      <th>8</th>\n",
       "      <td>9</td>\n",
       "      <td>8</td>\n",
       "      <td>f</td>\n",
       "      <td>108.214.117.105</td>\n",
       "      <td>Lilla</td>\n",
       "    </tr>\n",
       "    <tr>\n",
       "      <th>9</th>\n",
       "      <td>10</td>\n",
       "      <td>26</td>\n",
       "      <td>e</td>\n",
       "      <td>85.229.8.249</td>\n",
       "      <td>Jimman</td>\n",
       "    </tr>\n",
       "  </tbody>\n",
       "</table>\n",
       "</div>"
      ],
      "text/plain": [
       "   ID userID type               ip         note\n",
       "0   1     12    e  110.175.100.136  Auspride018\n",
       "1   2     13    e     94.197.11.24          NaN\n",
       "2   3      8    f    50.138.30.101         Nely\n",
       "3   4      8    f     50.55.247.24     Brittany\n",
       "4   5      8    f      98.94.78.64       channa\n",
       "5   6      8    f   108.210.196.40       Hector\n",
       "6   7      8    f   70.100.180.240       Kimmie\n",
       "7   8      8    f     50.33.227.18      Karissa\n",
       "8   9      8    f  108.214.117.105        Lilla\n",
       "9  10     26    e     85.229.8.249       Jimman"
      ]
     },
     "execution_count": 9,
     "metadata": {},
     "output_type": "execute_result"
    }
   ],
   "source": [
    "tablename='fe'\n",
    "\n",
    "pd.read_csv(read_inserted_table2(dumpfile, tablename),\n",
    "            delimiter=\",\",\n",
    "            error_bad_lines=False).head(10)"
   ]
  },
  {
   "cell_type": "markdown",
   "metadata": {
    "deletable": true,
    "editable": true
   },
   "source": [
    "#### Q1: Is this table different from other previous loaded table? YES\n",
    "#### Q2: Is this table similar to any table in the generic Booter database schema? YES\n",
    "    - This table looks like: friendsenemies\n",
    "\n",
    "#### Q3: Are there modifications required? \n",
    "    - On the table name: \n",
    "        o fe => friendsenemies\n",
    "    - On the column type: \n",
    "    - On the column name:\n",
    "        o ID => id\n",
    "        o userID => userid\n",
    "    - Add required columns:\n",
    "        o \n",
    "    - Split columns:\n",
    "        o "
   ]
  },
  {
   "cell_type": "markdown",
   "metadata": {
    "deletable": true,
    "editable": true
   },
   "source": [
    "### Modifying table: 'fe'"
   ]
  },
  {
   "cell_type": "code",
   "execution_count": 10,
   "metadata": {
    "collapsed": false,
    "deletable": true,
    "editable": true
   },
   "outputs": [
    {
     "data": {
      "text/html": [
       "<div>\n",
       "<table border=\"1\" class=\"dataframe\">\n",
       "  <thead>\n",
       "    <tr style=\"text-align: right;\">\n",
       "      <th></th>\n",
       "      <th>id</th>\n",
       "      <th>userid</th>\n",
       "      <th>type</th>\n",
       "      <th>ip</th>\n",
       "      <th>note</th>\n",
       "    </tr>\n",
       "  </thead>\n",
       "  <tbody>\n",
       "    <tr>\n",
       "      <th>0</th>\n",
       "      <td>1</td>\n",
       "      <td>12</td>\n",
       "      <td>enemy</td>\n",
       "      <td>110.175.100.136</td>\n",
       "      <td>Auspride018</td>\n",
       "    </tr>\n",
       "    <tr>\n",
       "      <th>1</th>\n",
       "      <td>2</td>\n",
       "      <td>13</td>\n",
       "      <td>enemy</td>\n",
       "      <td>94.197.11.24</td>\n",
       "      <td>NaN</td>\n",
       "    </tr>\n",
       "    <tr>\n",
       "      <th>2</th>\n",
       "      <td>3</td>\n",
       "      <td>8</td>\n",
       "      <td>friend</td>\n",
       "      <td>50.138.30.101</td>\n",
       "      <td>Nely</td>\n",
       "    </tr>\n",
       "    <tr>\n",
       "      <th>3</th>\n",
       "      <td>4</td>\n",
       "      <td>8</td>\n",
       "      <td>friend</td>\n",
       "      <td>50.55.247.24</td>\n",
       "      <td>Brittany</td>\n",
       "    </tr>\n",
       "    <tr>\n",
       "      <th>4</th>\n",
       "      <td>5</td>\n",
       "      <td>8</td>\n",
       "      <td>friend</td>\n",
       "      <td>98.94.78.64</td>\n",
       "      <td>channa</td>\n",
       "    </tr>\n",
       "    <tr>\n",
       "      <th>5</th>\n",
       "      <td>6</td>\n",
       "      <td>8</td>\n",
       "      <td>friend</td>\n",
       "      <td>108.210.196.40</td>\n",
       "      <td>Hector</td>\n",
       "    </tr>\n",
       "    <tr>\n",
       "      <th>6</th>\n",
       "      <td>7</td>\n",
       "      <td>8</td>\n",
       "      <td>friend</td>\n",
       "      <td>70.100.180.240</td>\n",
       "      <td>Kimmie</td>\n",
       "    </tr>\n",
       "    <tr>\n",
       "      <th>7</th>\n",
       "      <td>8</td>\n",
       "      <td>8</td>\n",
       "      <td>friend</td>\n",
       "      <td>50.33.227.18</td>\n",
       "      <td>Karissa</td>\n",
       "    </tr>\n",
       "    <tr>\n",
       "      <th>8</th>\n",
       "      <td>9</td>\n",
       "      <td>8</td>\n",
       "      <td>friend</td>\n",
       "      <td>108.214.117.105</td>\n",
       "      <td>Lilla</td>\n",
       "    </tr>\n",
       "    <tr>\n",
       "      <th>9</th>\n",
       "      <td>10</td>\n",
       "      <td>26</td>\n",
       "      <td>enemy</td>\n",
       "      <td>85.229.8.249</td>\n",
       "      <td>Jimman</td>\n",
       "    </tr>\n",
       "  </tbody>\n",
       "</table>\n",
       "</div>"
      ],
      "text/plain": [
       "   id userid    type               ip         note\n",
       "0   1     12   enemy  110.175.100.136  Auspride018\n",
       "1   2     13   enemy     94.197.11.24          NaN\n",
       "2   3      8  friend    50.138.30.101         Nely\n",
       "3   4      8  friend     50.55.247.24     Brittany\n",
       "4   5      8  friend      98.94.78.64       channa\n",
       "5   6      8  friend   108.210.196.40       Hector\n",
       "6   7      8  friend   70.100.180.240       Kimmie\n",
       "7   8      8  friend     50.33.227.18      Karissa\n",
       "8   9      8  friend  108.214.117.105        Lilla\n",
       "9  10     26   enemy     85.229.8.249       Jimman"
      ]
     },
     "execution_count": 10,
     "metadata": {},
     "output_type": "execute_result"
    }
   ],
   "source": [
    "### Loading the column converting columns with predefined functions\n",
    "df_friendsenemies = pd.read_csv(read_inserted_table2(dumpfile, tablename),\n",
    "                                delimiter=\",\",\n",
    "                                error_bad_lines=False)\n",
    "### Converting\n",
    "df_friendsenemies['type']=friendsenemies_type(df_friendsenemies['type'])\n",
    "\n",
    "###Changing names of columns\n",
    "df_friendsenemies.rename(columns = {'ID': 'id',\n",
    "                                    'userID': 'userid'},\n",
    "                         inplace=True)\n",
    "\n",
    "##Creating empty columns (with \"\" [for future string] or np.nan [for future float])\n",
    "\n",
    "\n",
    "###Showing some lines after adapt the table\n",
    "df_friendsenemies.head(10)"
   ]
  },
  {
   "cell_type": "markdown",
   "metadata": {
    "deletable": true,
    "editable": true
   },
   "source": [
    "## 6.4. Table: 'gateway'"
   ]
  },
  {
   "cell_type": "markdown",
   "metadata": {
    "deletable": true,
    "editable": true
   },
   "source": [
    "### How this table looks like without modification?"
   ]
  },
  {
   "cell_type": "code",
   "execution_count": 11,
   "metadata": {
    "collapsed": false,
    "deletable": true,
    "editable": true
   },
   "outputs": [
    {
     "data": {
      "text/html": [
       "<div>\n",
       "<table border=\"1\" class=\"dataframe\">\n",
       "  <thead>\n",
       "    <tr style=\"text-align: right;\">\n",
       "      <th></th>\n",
       "      <th>email</th>\n",
       "    </tr>\n",
       "  </thead>\n",
       "  <tbody>\n",
       "    <tr>\n",
       "      <th>0</th>\n",
       "      <td>jymer09@gmail.com</td>\n",
       "    </tr>\n",
       "  </tbody>\n",
       "</table>\n",
       "</div>"
      ],
      "text/plain": [
       "               email\n",
       "0  jymer09@gmail.com"
      ]
     },
     "execution_count": 11,
     "metadata": {},
     "output_type": "execute_result"
    }
   ],
   "source": [
    "tablename='gateway'\n",
    "\n",
    "pd.read_csv(read_inserted_table2(dumpfile, tablename),\n",
    "            delimiter=\",\",\n",
    "            error_bad_lines=False).head(10)"
   ]
  },
  {
   "cell_type": "markdown",
   "metadata": {
    "deletable": true,
    "editable": true
   },
   "source": [
    "#### Q1: Is this table different from other previous loaded table? YES\n",
    "#### Q2: Is this table similar to any table in the generic Booter database schema? YES\n",
    "    - This table looks like: gateways\n",
    "\n",
    "    \n",
    "#### Q3: Are there modifications required? \n",
    "    - On the table name: \n",
    "        o gatway => gateways\n",
    "    - On the column type: \n",
    "        o    \n",
    "    - On the column name:\n",
    "        o  \n",
    "    - Add required columns:\n",
    "        o \n",
    "    - Split columns:\n",
    "        o "
   ]
  },
  {
   "cell_type": "markdown",
   "metadata": {
    "deletable": true,
    "editable": true
   },
   "source": [
    "### Modifying table: 'gateways'"
   ]
  },
  {
   "cell_type": "code",
   "execution_count": 12,
   "metadata": {
    "collapsed": false,
    "deletable": true,
    "editable": true
   },
   "outputs": [
    {
     "data": {
      "text/html": [
       "<div>\n",
       "<table border=\"1\" class=\"dataframe\">\n",
       "  <thead>\n",
       "    <tr style=\"text-align: right;\">\n",
       "      <th></th>\n",
       "      <th>email</th>\n",
       "    </tr>\n",
       "  </thead>\n",
       "  <tbody>\n",
       "    <tr>\n",
       "      <th>0</th>\n",
       "      <td>jymer09@gmail.com</td>\n",
       "    </tr>\n",
       "  </tbody>\n",
       "</table>\n",
       "</div>"
      ],
      "text/plain": [
       "               email\n",
       "0  jymer09@gmail.com"
      ]
     },
     "execution_count": 12,
     "metadata": {},
     "output_type": "execute_result"
    }
   ],
   "source": [
    "### Loading the column converting columns with predefined functions\n",
    "df_gateways = pd.read_csv(read_inserted_table1(dumpfile, tablename),\n",
    "                                delimiter=\",\",\n",
    "                                error_bad_lines=False)\n",
    "\n",
    "###Changing names of columns\n",
    "\n",
    "###Creating empty columns (with \"\" [for future string] or np.nan [for future float])\n",
    "\n",
    "###Showing some lines after adapt the table\n",
    "df_gateways.head(10)"
   ]
  },
  {
   "cell_type": "markdown",
   "metadata": {
    "deletable": true,
    "editable": true
   },
   "source": [
    "## 6.5 Table: 'iplogs'"
   ]
  },
  {
   "cell_type": "markdown",
   "metadata": {
    "deletable": true,
    "editable": true
   },
   "source": [
    "### How this table looks like without modification?"
   ]
  },
  {
   "cell_type": "code",
   "execution_count": 13,
   "metadata": {
    "collapsed": false,
    "deletable": true,
    "editable": true
   },
   "outputs": [
    {
     "data": {
      "text/html": [
       "<div>\n",
       "<table border=\"1\" class=\"dataframe\">\n",
       "  <thead>\n",
       "    <tr style=\"text-align: right;\">\n",
       "      <th></th>\n",
       "      <th>ID</th>\n",
       "      <th>userID</th>\n",
       "      <th>logged</th>\n",
       "      <th>date</th>\n",
       "    </tr>\n",
       "  </thead>\n",
       "  <tbody>\n",
       "    <tr>\n",
       "      <th>0</th>\n",
       "      <td>3</td>\n",
       "      <td>12</td>\n",
       "      <td>138.217.213.120</td>\n",
       "      <td>1343230058</td>\n",
       "    </tr>\n",
       "    <tr>\n",
       "      <th>1</th>\n",
       "      <td>4</td>\n",
       "      <td>17</td>\n",
       "      <td>203.142.149.165</td>\n",
       "      <td>1343437327</td>\n",
       "    </tr>\n",
       "    <tr>\n",
       "      <th>2</th>\n",
       "      <td>41</td>\n",
       "      <td>47</td>\n",
       "      <td>2.237.33.229</td>\n",
       "      <td>1350738652</td>\n",
       "    </tr>\n",
       "    <tr>\n",
       "      <th>3</th>\n",
       "      <td>47</td>\n",
       "      <td>39</td>\n",
       "      <td>173.79.46.118</td>\n",
       "      <td>1350769967</td>\n",
       "    </tr>\n",
       "    <tr>\n",
       "      <th>4</th>\n",
       "      <td>46</td>\n",
       "      <td>39</td>\n",
       "      <td>2.125.227.245</td>\n",
       "      <td>1350769164</td>\n",
       "    </tr>\n",
       "    <tr>\n",
       "      <th>5</th>\n",
       "      <td>45</td>\n",
       "      <td>39</td>\n",
       "      <td>2.125.227.245</td>\n",
       "      <td>1350768947</td>\n",
       "    </tr>\n",
       "    <tr>\n",
       "      <th>6</th>\n",
       "      <td>44</td>\n",
       "      <td>39</td>\n",
       "      <td>2.125.227.245</td>\n",
       "      <td>1350768938</td>\n",
       "    </tr>\n",
       "    <tr>\n",
       "      <th>7</th>\n",
       "      <td>43</td>\n",
       "      <td>39</td>\n",
       "      <td>81.96.116.39</td>\n",
       "      <td>1350768874</td>\n",
       "    </tr>\n",
       "    <tr>\n",
       "      <th>8</th>\n",
       "      <td>42</td>\n",
       "      <td>39</td>\n",
       "      <td>81.96.116.39</td>\n",
       "      <td>1350768861</td>\n",
       "    </tr>\n",
       "    <tr>\n",
       "      <th>9</th>\n",
       "      <td>250</td>\n",
       "      <td>183</td>\n",
       "      <td>81.88.50.212</td>\n",
       "      <td>1352197664</td>\n",
       "    </tr>\n",
       "  </tbody>\n",
       "</table>\n",
       "</div>"
      ],
      "text/plain": [
       "    ID  userID           logged        date\n",
       "0    3      12  138.217.213.120  1343230058\n",
       "1    4      17  203.142.149.165  1343437327\n",
       "2   41      47     2.237.33.229  1350738652\n",
       "3   47      39    173.79.46.118  1350769967\n",
       "4   46      39    2.125.227.245  1350769164\n",
       "5   45      39    2.125.227.245  1350768947\n",
       "6   44      39    2.125.227.245  1350768938\n",
       "7   43      39     81.96.116.39  1350768874\n",
       "8   42      39     81.96.116.39  1350768861\n",
       "9  250     183     81.88.50.212  1352197664"
      ]
     },
     "execution_count": 13,
     "metadata": {},
     "output_type": "execute_result"
    }
   ],
   "source": [
    "tablename='iplogs'\n",
    "\n",
    "pd.read_csv(read_inserted_table1(dumpfile, tablename),\n",
    "            delimiter=\",\",\n",
    "            error_bad_lines=False).head(10)"
   ]
  },
  {
   "cell_type": "markdown",
   "metadata": {
    "deletable": true,
    "editable": true
   },
   "source": [
    "#### Q1: Is this table different from other previous loaded table? YES\n",
    "#### Q2: Is this table similar to any table in the generic Booter database schema? YES\n",
    "    - This table looks like: logins\n",
    "\n",
    "#### Q3: Are there modifications required? \n",
    "    - On the table name: \n",
    "        o iplogs => logins\n",
    "    - On the column type: \n",
    "        o date => timestamp2date \n",
    "    - On the column name:\n",
    "        o ID => id\n",
    "        o userID => userid\n",
    "        o logged => userip\n",
    "    - Add required columns:\n",
    "        o username\n",
    "    - Split columns:\n",
    "        o "
   ]
  },
  {
   "cell_type": "markdown",
   "metadata": {
    "deletable": true,
    "editable": true
   },
   "source": [
    "### Modifying table: 'iplogins'"
   ]
  },
  {
   "cell_type": "code",
   "execution_count": 14,
   "metadata": {
    "collapsed": false,
    "deletable": true,
    "editable": true
   },
   "outputs": [
    {
     "data": {
      "text/html": [
       "<div>\n",
       "<table border=\"1\" class=\"dataframe\">\n",
       "  <thead>\n",
       "    <tr style=\"text-align: right;\">\n",
       "      <th></th>\n",
       "      <th>id</th>\n",
       "      <th>userid</th>\n",
       "      <th>userip</th>\n",
       "      <th>date</th>\n",
       "      <th>username</th>\n",
       "    </tr>\n",
       "  </thead>\n",
       "  <tbody>\n",
       "    <tr>\n",
       "      <th>0</th>\n",
       "      <td>3</td>\n",
       "      <td>12</td>\n",
       "      <td>138.217.213.120</td>\n",
       "      <td>2012-07-25 15:27:38</td>\n",
       "      <td></td>\n",
       "    </tr>\n",
       "    <tr>\n",
       "      <th>1</th>\n",
       "      <td>4</td>\n",
       "      <td>17</td>\n",
       "      <td>203.142.149.165</td>\n",
       "      <td>2012-07-28 01:02:07</td>\n",
       "      <td></td>\n",
       "    </tr>\n",
       "    <tr>\n",
       "      <th>2</th>\n",
       "      <td>41</td>\n",
       "      <td>47</td>\n",
       "      <td>2.237.33.229</td>\n",
       "      <td>2012-10-20 13:10:52</td>\n",
       "      <td></td>\n",
       "    </tr>\n",
       "    <tr>\n",
       "      <th>3</th>\n",
       "      <td>47</td>\n",
       "      <td>39</td>\n",
       "      <td>173.79.46.118</td>\n",
       "      <td>2012-10-20 21:52:47</td>\n",
       "      <td></td>\n",
       "    </tr>\n",
       "    <tr>\n",
       "      <th>4</th>\n",
       "      <td>46</td>\n",
       "      <td>39</td>\n",
       "      <td>2.125.227.245</td>\n",
       "      <td>2012-10-20 21:39:24</td>\n",
       "      <td></td>\n",
       "    </tr>\n",
       "    <tr>\n",
       "      <th>5</th>\n",
       "      <td>45</td>\n",
       "      <td>39</td>\n",
       "      <td>2.125.227.245</td>\n",
       "      <td>2012-10-20 21:35:47</td>\n",
       "      <td></td>\n",
       "    </tr>\n",
       "    <tr>\n",
       "      <th>6</th>\n",
       "      <td>44</td>\n",
       "      <td>39</td>\n",
       "      <td>2.125.227.245</td>\n",
       "      <td>2012-10-20 21:35:38</td>\n",
       "      <td></td>\n",
       "    </tr>\n",
       "    <tr>\n",
       "      <th>7</th>\n",
       "      <td>43</td>\n",
       "      <td>39</td>\n",
       "      <td>81.96.116.39</td>\n",
       "      <td>2012-10-20 21:34:34</td>\n",
       "      <td></td>\n",
       "    </tr>\n",
       "    <tr>\n",
       "      <th>8</th>\n",
       "      <td>42</td>\n",
       "      <td>39</td>\n",
       "      <td>81.96.116.39</td>\n",
       "      <td>2012-10-20 21:34:21</td>\n",
       "      <td></td>\n",
       "    </tr>\n",
       "    <tr>\n",
       "      <th>9</th>\n",
       "      <td>250</td>\n",
       "      <td>183</td>\n",
       "      <td>81.88.50.212</td>\n",
       "      <td>2012-11-06 10:27:44</td>\n",
       "      <td></td>\n",
       "    </tr>\n",
       "  </tbody>\n",
       "</table>\n",
       "</div>"
      ],
      "text/plain": [
       "    id  userid           userip                date username\n",
       "0    3      12  138.217.213.120 2012-07-25 15:27:38         \n",
       "1    4      17  203.142.149.165 2012-07-28 01:02:07         \n",
       "2   41      47     2.237.33.229 2012-10-20 13:10:52         \n",
       "3   47      39    173.79.46.118 2012-10-20 21:52:47         \n",
       "4   46      39    2.125.227.245 2012-10-20 21:39:24         \n",
       "5   45      39    2.125.227.245 2012-10-20 21:35:47         \n",
       "6   44      39    2.125.227.245 2012-10-20 21:35:38         \n",
       "7   43      39     81.96.116.39 2012-10-20 21:34:34         \n",
       "8   42      39     81.96.116.39 2012-10-20 21:34:21         \n",
       "9  250     183     81.88.50.212 2012-11-06 10:27:44         "
      ]
     },
     "execution_count": 14,
     "metadata": {},
     "output_type": "execute_result"
    }
   ],
   "source": [
    "### Loading the column converting columns with predefined functions\n",
    "df_logins = pd.read_csv(read_inserted_table1(dumpfile, tablename),\n",
    "                                delimiter=\",\",\n",
    "                                error_bad_lines=False)\n",
    "\n",
    "### Converting\n",
    "df_logins['date'] = timestamp2datetime(df_logins['date'])\n",
    "\n",
    "###Changing names of columns\n",
    "df_logins.rename(columns = {'ID': 'id',\n",
    "                                    'userID': 'userid',\n",
    "                           'logged':'userip'},\n",
    "                         inplace=True)\n",
    "\n",
    "###Creating empty columns (with \"\" [for future string] or np.nan [for future float])\n",
    "df_logins['username'] = \"\"\n",
    "\n",
    "###Showing some lines after adapt the table\n",
    "df_logins.head(10)"
   ]
  },
  {
   "cell_type": "markdown",
   "metadata": {
    "deletable": true,
    "editable": true
   },
   "source": [
    "## 6.6. Table: 'loginlogs'"
   ]
  },
  {
   "cell_type": "markdown",
   "metadata": {
    "deletable": true,
    "editable": true
   },
   "source": [
    "### How this table looks like without modification?"
   ]
  },
  {
   "cell_type": "code",
   "execution_count": 15,
   "metadata": {
    "collapsed": false,
    "deletable": true,
    "editable": true
   },
   "outputs": [
    {
     "data": {
      "text/html": [
       "<div>\n",
       "<table border=\"1\" class=\"dataframe\">\n",
       "  <thead>\n",
       "    <tr style=\"text-align: right;\">\n",
       "      <th></th>\n",
       "      <th>username</th>\n",
       "      <th>ip</th>\n",
       "      <th>date</th>\n",
       "    </tr>\n",
       "  </thead>\n",
       "  <tbody>\n",
       "    <tr>\n",
       "      <th>0</th>\n",
       "      <td>NYREX</td>\n",
       "      <td>174.118.133.44</td>\n",
       "      <td>1372918587</td>\n",
       "    </tr>\n",
       "    <tr>\n",
       "      <th>1</th>\n",
       "      <td>halo3king</td>\n",
       "      <td>2.126.255.132</td>\n",
       "      <td>1372918876</td>\n",
       "    </tr>\n",
       "    <tr>\n",
       "      <th>2</th>\n",
       "      <td>gminton</td>\n",
       "      <td>184.57.189.243</td>\n",
       "      <td>1372919077</td>\n",
       "    </tr>\n",
       "    <tr>\n",
       "      <th>3</th>\n",
       "      <td>fearlessrevenge</td>\n",
       "      <td>198.15.79.146</td>\n",
       "      <td>1372922624</td>\n",
       "    </tr>\n",
       "    <tr>\n",
       "      <th>4</th>\n",
       "      <td>macdown</td>\n",
       "      <td>112.211.245.98</td>\n",
       "      <td>1372922631</td>\n",
       "    </tr>\n",
       "    <tr>\n",
       "      <th>5</th>\n",
       "      <td>NYREX</td>\n",
       "      <td>174.118.133.44</td>\n",
       "      <td>1372923954</td>\n",
       "    </tr>\n",
       "    <tr>\n",
       "      <th>6</th>\n",
       "      <td>NYREX</td>\n",
       "      <td>174.118.133.44</td>\n",
       "      <td>1372923963</td>\n",
       "    </tr>\n",
       "    <tr>\n",
       "      <th>7</th>\n",
       "      <td>gminton</td>\n",
       "      <td>184.57.189.243</td>\n",
       "      <td>1372926923</td>\n",
       "    </tr>\n",
       "    <tr>\n",
       "      <th>8</th>\n",
       "      <td>tntwolve</td>\n",
       "      <td>94.249.29.244</td>\n",
       "      <td>1372927142</td>\n",
       "    </tr>\n",
       "    <tr>\n",
       "      <th>9</th>\n",
       "      <td>NYREX</td>\n",
       "      <td>174.118.133.44</td>\n",
       "      <td>1372928185</td>\n",
       "    </tr>\n",
       "  </tbody>\n",
       "</table>\n",
       "</div>"
      ],
      "text/plain": [
       "          username              ip        date\n",
       "0            NYREX  174.118.133.44  1372918587\n",
       "1        halo3king   2.126.255.132  1372918876\n",
       "2          gminton  184.57.189.243  1372919077\n",
       "3  fearlessrevenge   198.15.79.146  1372922624\n",
       "4          macdown  112.211.245.98  1372922631\n",
       "5            NYREX  174.118.133.44  1372923954\n",
       "6            NYREX  174.118.133.44  1372923963\n",
       "7          gminton  184.57.189.243  1372926923\n",
       "8         tntwolve   94.249.29.244  1372927142\n",
       "9            NYREX  174.118.133.44  1372928185"
      ]
     },
     "execution_count": 15,
     "metadata": {},
     "output_type": "execute_result"
    }
   ],
   "source": [
    "tablename='loginlogs'\n",
    "\n",
    "pd.read_csv(read_inserted_table2(dumpfile, tablename),\n",
    "            delimiter=\",\",\n",
    "            error_bad_lines=False).head(10)"
   ]
  },
  {
   "cell_type": "markdown",
   "metadata": {
    "deletable": true,
    "editable": true
   },
   "source": [
    "#### Q1: Is this table different from other previous loaded table? NO\n",
    "#### Q2: Is this table similar to any table in the generic Booter database schema? YES\n",
    "    - This table looks like: logins APPEND\n",
    "    \n",
    "#### Q3: Are there modifications required? \n",
    "    - On the table name: \n",
    "        o loginlogs -> logins_temp\n",
    "    - On the column type: \n",
    "        o date ->timestamp2datetime()   \n",
    "    - On the column name:\n",
    "        o ip -> userip\n",
    "    - Add required columns:\n",
    "        o id\n",
    "        o userid\n",
    "    - Split columns:\n",
    "        o "
   ]
  },
  {
   "cell_type": "markdown",
   "metadata": {
    "deletable": true,
    "editable": true
   },
   "source": [
    "### Modifying table: 'loginlogs'"
   ]
  },
  {
   "cell_type": "code",
   "execution_count": 16,
   "metadata": {
    "collapsed": false,
    "deletable": true,
    "editable": true
   },
   "outputs": [
    {
     "data": {
      "text/html": [
       "<div>\n",
       "<table border=\"1\" class=\"dataframe\">\n",
       "  <thead>\n",
       "    <tr style=\"text-align: right;\">\n",
       "      <th></th>\n",
       "      <th>username</th>\n",
       "      <th>userip</th>\n",
       "      <th>date</th>\n",
       "      <th>id</th>\n",
       "      <th>userid</th>\n",
       "    </tr>\n",
       "  </thead>\n",
       "  <tbody>\n",
       "    <tr>\n",
       "      <th>0</th>\n",
       "      <td>NYREX</td>\n",
       "      <td>174.118.133.44</td>\n",
       "      <td>2013-07-04 06:16:27</td>\n",
       "      <td>NaN</td>\n",
       "      <td>NaN</td>\n",
       "    </tr>\n",
       "    <tr>\n",
       "      <th>1</th>\n",
       "      <td>halo3king</td>\n",
       "      <td>2.126.255.132</td>\n",
       "      <td>2013-07-04 06:21:16</td>\n",
       "      <td>NaN</td>\n",
       "      <td>NaN</td>\n",
       "    </tr>\n",
       "    <tr>\n",
       "      <th>2</th>\n",
       "      <td>gminton</td>\n",
       "      <td>184.57.189.243</td>\n",
       "      <td>2013-07-04 06:24:37</td>\n",
       "      <td>NaN</td>\n",
       "      <td>NaN</td>\n",
       "    </tr>\n",
       "    <tr>\n",
       "      <th>3</th>\n",
       "      <td>fearlessrevenge</td>\n",
       "      <td>198.15.79.146</td>\n",
       "      <td>2013-07-04 07:23:44</td>\n",
       "      <td>NaN</td>\n",
       "      <td>NaN</td>\n",
       "    </tr>\n",
       "    <tr>\n",
       "      <th>4</th>\n",
       "      <td>macdown</td>\n",
       "      <td>112.211.245.98</td>\n",
       "      <td>2013-07-04 07:23:51</td>\n",
       "      <td>NaN</td>\n",
       "      <td>NaN</td>\n",
       "    </tr>\n",
       "    <tr>\n",
       "      <th>5</th>\n",
       "      <td>NYREX</td>\n",
       "      <td>174.118.133.44</td>\n",
       "      <td>2013-07-04 07:45:54</td>\n",
       "      <td>NaN</td>\n",
       "      <td>NaN</td>\n",
       "    </tr>\n",
       "    <tr>\n",
       "      <th>6</th>\n",
       "      <td>NYREX</td>\n",
       "      <td>174.118.133.44</td>\n",
       "      <td>2013-07-04 07:46:03</td>\n",
       "      <td>NaN</td>\n",
       "      <td>NaN</td>\n",
       "    </tr>\n",
       "    <tr>\n",
       "      <th>7</th>\n",
       "      <td>gminton</td>\n",
       "      <td>184.57.189.243</td>\n",
       "      <td>2013-07-04 08:35:23</td>\n",
       "      <td>NaN</td>\n",
       "      <td>NaN</td>\n",
       "    </tr>\n",
       "    <tr>\n",
       "      <th>8</th>\n",
       "      <td>tntwolve</td>\n",
       "      <td>94.249.29.244</td>\n",
       "      <td>2013-07-04 08:39:02</td>\n",
       "      <td>NaN</td>\n",
       "      <td>NaN</td>\n",
       "    </tr>\n",
       "    <tr>\n",
       "      <th>9</th>\n",
       "      <td>NYREX</td>\n",
       "      <td>174.118.133.44</td>\n",
       "      <td>2013-07-04 08:56:25</td>\n",
       "      <td>NaN</td>\n",
       "      <td>NaN</td>\n",
       "    </tr>\n",
       "  </tbody>\n",
       "</table>\n",
       "</div>"
      ],
      "text/plain": [
       "          username          userip                date  id  userid\n",
       "0            NYREX  174.118.133.44 2013-07-04 06:16:27 NaN     NaN\n",
       "1        halo3king   2.126.255.132 2013-07-04 06:21:16 NaN     NaN\n",
       "2          gminton  184.57.189.243 2013-07-04 06:24:37 NaN     NaN\n",
       "3  fearlessrevenge   198.15.79.146 2013-07-04 07:23:44 NaN     NaN\n",
       "4          macdown  112.211.245.98 2013-07-04 07:23:51 NaN     NaN\n",
       "5            NYREX  174.118.133.44 2013-07-04 07:45:54 NaN     NaN\n",
       "6            NYREX  174.118.133.44 2013-07-04 07:46:03 NaN     NaN\n",
       "7          gminton  184.57.189.243 2013-07-04 08:35:23 NaN     NaN\n",
       "8         tntwolve   94.249.29.244 2013-07-04 08:39:02 NaN     NaN\n",
       "9            NYREX  174.118.133.44 2013-07-04 08:56:25 NaN     NaN"
      ]
     },
     "execution_count": 16,
     "metadata": {},
     "output_type": "execute_result"
    }
   ],
   "source": [
    "### Loading the column converting columns with predefined functions\n",
    "df_logins_temp = pd.read_csv(read_inserted_table2(dumpfile, tablename),\n",
    "                                delimiter=\",\",\n",
    "                                error_bad_lines=False)\n",
    "### Converting\n",
    "df_logins_temp['date']= timestamp2datetime(df_logins_temp['date'])\n",
    "\n",
    "###Changing names of columns\n",
    "df_logins_temp.rename(columns = {'ip':'userip'},inplace=True)\n",
    "\n",
    "###Creating empty columns (with \"\" [for future string] or np.nan [for future float])\n",
    "df_logins_temp['id'] = np.nan\n",
    "df_logins_temp['userid'] = np.nan\n",
    "\n",
    "###Showing some lines after adapt the table\n",
    "df_logins_temp.head(10)"
   ]
  },
  {
   "cell_type": "code",
   "execution_count": 17,
   "metadata": {
    "collapsed": true,
    "deletable": true,
    "editable": true
   },
   "outputs": [],
   "source": [
    "df_logins=df_logins.append(df_logins_temp)"
   ]
  },
  {
   "cell_type": "markdown",
   "metadata": {
    "deletable": true,
    "editable": true
   },
   "source": [
    "## 6.7. Table: 'logs'"
   ]
  },
  {
   "cell_type": "markdown",
   "metadata": {
    "deletable": true,
    "editable": true
   },
   "source": [
    "### How this table looks like without modification?"
   ]
  },
  {
   "cell_type": "code",
   "execution_count": 18,
   "metadata": {
    "collapsed": false,
    "deletable": true,
    "editable": true
   },
   "outputs": [
    {
     "name": "stdout",
     "output_type": "stream",
     "text": [
      " Functions loaded!!!!\n"
     ]
    }
   ],
   "source": [
    "%run '../booter_db_analysis_functions.ipynb'"
   ]
  },
  {
   "cell_type": "code",
   "execution_count": 19,
   "metadata": {
    "collapsed": false,
    "deletable": true,
    "editable": true
   },
   "outputs": [
    {
     "name": "stdout",
     "output_type": "stream",
     "text": [
      "DEBUG (get table): INSERT INTO `logs` (`user`, `ip`, `port`, `time`, `method`, `date`) VALUES\n",
      "DEBUG (get table): INSERT INTO `logs` (`user`, `ip`, `port`, `time`, `method`, `date`) VALUES\n",
      "DEBUG (get table): INSERT INTO `logs` (`user`, `ip`, `port`, `time`, `method`, `date`) VALUES\n"
     ]
    },
    {
     "data": {
      "text/html": [
       "<div>\n",
       "<table border=\"1\" class=\"dataframe\">\n",
       "  <thead>\n",
       "    <tr style=\"text-align: right;\">\n",
       "      <th></th>\n",
       "      <th>user</th>\n",
       "      <th>ip</th>\n",
       "      <th>port</th>\n",
       "      <th>time</th>\n",
       "      <th>method</th>\n",
       "      <th>date</th>\n",
       "    </tr>\n",
       "  </thead>\n",
       "  <tbody>\n",
       "    <tr>\n",
       "      <th>0</th>\n",
       "      <td>NYREX</td>\n",
       "      <td>192.184.90.118</td>\n",
       "      <td>80</td>\n",
       "      <td>300</td>\n",
       "      <td>DRDOS</td>\n",
       "      <td>1374009652</td>\n",
       "    </tr>\n",
       "    <tr>\n",
       "      <th>1</th>\n",
       "      <td>NYREX</td>\n",
       "      <td>192.184.90.118</td>\n",
       "      <td>80</td>\n",
       "      <td>300</td>\n",
       "      <td>DRDOS</td>\n",
       "      <td>1374009667</td>\n",
       "    </tr>\n",
       "    <tr>\n",
       "      <th>2</th>\n",
       "      <td>tntwolve</td>\n",
       "      <td>85.25.95.84</td>\n",
       "      <td>80</td>\n",
       "      <td>1100</td>\n",
       "      <td>DRDOS</td>\n",
       "      <td>1374120913</td>\n",
       "    </tr>\n",
       "    <tr>\n",
       "      <th>3</th>\n",
       "      <td>tntwolve</td>\n",
       "      <td>85.25.95.84</td>\n",
       "      <td>80</td>\n",
       "      <td>1100</td>\n",
       "      <td>DRDOS</td>\n",
       "      <td>1374119740</td>\n",
       "    </tr>\n",
       "    <tr>\n",
       "      <th>4</th>\n",
       "      <td>AlexKvazos</td>\n",
       "      <td>66.160.140.234</td>\n",
       "      <td>80</td>\n",
       "      <td>200</td>\n",
       "      <td>DRDOS</td>\n",
       "      <td>1374119588</td>\n",
       "    </tr>\n",
       "    <tr>\n",
       "      <th>5</th>\n",
       "      <td>xDeke</td>\n",
       "      <td>198.144.177.186</td>\n",
       "      <td>25565</td>\n",
       "      <td>600</td>\n",
       "      <td>DRDOS</td>\n",
       "      <td>1374011073</td>\n",
       "    </tr>\n",
       "    <tr>\n",
       "      <th>6</th>\n",
       "      <td>NYREX</td>\n",
       "      <td>198.144.177.186</td>\n",
       "      <td>26656</td>\n",
       "      <td>120</td>\n",
       "      <td>DRDOS</td>\n",
       "      <td>1374011119</td>\n",
       "    </tr>\n",
       "    <tr>\n",
       "      <th>7</th>\n",
       "      <td>halo3king</td>\n",
       "      <td>Error: Key Inva</td>\n",
       "      <td>80</td>\n",
       "      <td>100</td>\n",
       "      <td>DRDOS</td>\n",
       "      <td>1372973628</td>\n",
       "    </tr>\n",
       "    <tr>\n",
       "      <th>8</th>\n",
       "      <td>halo3king</td>\n",
       "      <td>80.3.189.108</td>\n",
       "      <td>80</td>\n",
       "      <td>1000</td>\n",
       "      <td>DRDOS</td>\n",
       "      <td>1372974419</td>\n",
       "    </tr>\n",
       "    <tr>\n",
       "      <th>9</th>\n",
       "      <td>NYREX</td>\n",
       "      <td>192.232.249.160</td>\n",
       "      <td>80</td>\n",
       "      <td>120</td>\n",
       "      <td>DRDOS</td>\n",
       "      <td>1372985152</td>\n",
       "    </tr>\n",
       "  </tbody>\n",
       "</table>\n",
       "</div>"
      ],
      "text/plain": [
       "         user               ip   port  time method        date\n",
       "0       NYREX   192.184.90.118     80   300  DRDOS  1374009652\n",
       "1       NYREX   192.184.90.118     80   300  DRDOS  1374009667\n",
       "2    tntwolve      85.25.95.84     80  1100  DRDOS  1374120913\n",
       "3    tntwolve      85.25.95.84     80  1100  DRDOS  1374119740\n",
       "4  AlexKvazos   66.160.140.234     80   200  DRDOS  1374119588\n",
       "5       xDeke  198.144.177.186  25565   600  DRDOS  1374011073\n",
       "6       NYREX  198.144.177.186  26656   120  DRDOS  1374011119\n",
       "7   halo3king  Error: Key Inva     80   100  DRDOS  1372973628\n",
       "8   halo3king     80.3.189.108     80  1000  DRDOS  1372974419\n",
       "9       NYREX  192.232.249.160     80   120  DRDOS  1372985152"
      ]
     },
     "execution_count": 19,
     "metadata": {},
     "output_type": "execute_result"
    }
   ],
   "source": [
    "tablename='logs'\n",
    "\n",
    "pd.read_csv(read_inserted_table3(dumpfile, tablename,\"`\",[1,2,3]),\n",
    "            delimiter=\",\",\n",
    "            error_bad_lines=False).head(10)"
   ]
  },
  {
   "cell_type": "markdown",
   "metadata": {
    "deletable": true,
    "editable": true
   },
   "source": [
    "#### Q1: Is this table different from other previous loaded table? Yes\n",
    "#### Q2: Is this table similar to any table in the generic Booter database schema? Yes\n",
    "    - This table looks like: attacks\n",
    "    \n",
    "#### Q3: Are there modifications required? \n",
    "    - On the table name: \n",
    "        o logs -> attacks\n",
    "    - On the column type: \n",
    "        o date -> timestamp2datetime\n",
    "    - On the column name:\n",
    "        o  user -> username\n",
    "        o ip -> targetip\n",
    "        o time -> duration\n",
    "        o method -> type\n",
    "    - Add required columns:\n",
    "        o id\n",
    "        o userid\n",
    "        o targeturl\n",
    "        \n",
    "    - Split columns:\n",
    "        o "
   ]
  },
  {
   "cell_type": "markdown",
   "metadata": {
    "deletable": true,
    "editable": true
   },
   "source": [
    "### Modifying table: 'logs'"
   ]
  },
  {
   "cell_type": "code",
   "execution_count": 20,
   "metadata": {
    "collapsed": false,
    "deletable": true,
    "editable": true
   },
   "outputs": [
    {
     "name": "stdout",
     "output_type": "stream",
     "text": [
      "DEBUG (get table): INSERT INTO `logs` (`user`, `ip`, `port`, `time`, `method`, `date`) VALUES\n",
      "DEBUG (get table): INSERT INTO `logs` (`user`, `ip`, `port`, `time`, `method`, `date`) VALUES\n",
      "DEBUG (get table): INSERT INTO `logs` (`user`, `ip`, `port`, `time`, `method`, `date`) VALUES\n"
     ]
    },
    {
     "data": {
      "text/html": [
       "<div>\n",
       "<table border=\"1\" class=\"dataframe\">\n",
       "  <thead>\n",
       "    <tr style=\"text-align: right;\">\n",
       "      <th></th>\n",
       "      <th>username</th>\n",
       "      <th>targetip</th>\n",
       "      <th>port</th>\n",
       "      <th>duration</th>\n",
       "      <th>type</th>\n",
       "      <th>date</th>\n",
       "      <th>id</th>\n",
       "      <th>userid</th>\n",
       "      <th>targeturl</th>\n",
       "    </tr>\n",
       "  </thead>\n",
       "  <tbody>\n",
       "    <tr>\n",
       "      <th>0</th>\n",
       "      <td>NYREX</td>\n",
       "      <td>192.184.90.118</td>\n",
       "      <td>80</td>\n",
       "      <td>300</td>\n",
       "      <td>DRDOS</td>\n",
       "      <td>2013-07-16 21:20:52</td>\n",
       "      <td>NaN</td>\n",
       "      <td>NaN</td>\n",
       "      <td>NaN</td>\n",
       "    </tr>\n",
       "    <tr>\n",
       "      <th>1</th>\n",
       "      <td>NYREX</td>\n",
       "      <td>192.184.90.118</td>\n",
       "      <td>80</td>\n",
       "      <td>300</td>\n",
       "      <td>DRDOS</td>\n",
       "      <td>2013-07-16 21:21:07</td>\n",
       "      <td>NaN</td>\n",
       "      <td>NaN</td>\n",
       "      <td>NaN</td>\n",
       "    </tr>\n",
       "    <tr>\n",
       "      <th>2</th>\n",
       "      <td>tntwolve</td>\n",
       "      <td>85.25.95.84</td>\n",
       "      <td>80</td>\n",
       "      <td>1100</td>\n",
       "      <td>DRDOS</td>\n",
       "      <td>2013-07-18 04:15:13</td>\n",
       "      <td>NaN</td>\n",
       "      <td>NaN</td>\n",
       "      <td>NaN</td>\n",
       "    </tr>\n",
       "    <tr>\n",
       "      <th>3</th>\n",
       "      <td>tntwolve</td>\n",
       "      <td>85.25.95.84</td>\n",
       "      <td>80</td>\n",
       "      <td>1100</td>\n",
       "      <td>DRDOS</td>\n",
       "      <td>2013-07-18 03:55:40</td>\n",
       "      <td>NaN</td>\n",
       "      <td>NaN</td>\n",
       "      <td>NaN</td>\n",
       "    </tr>\n",
       "    <tr>\n",
       "      <th>4</th>\n",
       "      <td>AlexKvazos</td>\n",
       "      <td>66.160.140.234</td>\n",
       "      <td>80</td>\n",
       "      <td>200</td>\n",
       "      <td>DRDOS</td>\n",
       "      <td>2013-07-18 03:53:08</td>\n",
       "      <td>NaN</td>\n",
       "      <td>NaN</td>\n",
       "      <td>NaN</td>\n",
       "    </tr>\n",
       "    <tr>\n",
       "      <th>5</th>\n",
       "      <td>xDeke</td>\n",
       "      <td>198.144.177.186</td>\n",
       "      <td>25565</td>\n",
       "      <td>600</td>\n",
       "      <td>DRDOS</td>\n",
       "      <td>2013-07-16 21:44:33</td>\n",
       "      <td>NaN</td>\n",
       "      <td>NaN</td>\n",
       "      <td>NaN</td>\n",
       "    </tr>\n",
       "    <tr>\n",
       "      <th>6</th>\n",
       "      <td>NYREX</td>\n",
       "      <td>198.144.177.186</td>\n",
       "      <td>26656</td>\n",
       "      <td>120</td>\n",
       "      <td>DRDOS</td>\n",
       "      <td>2013-07-16 21:45:19</td>\n",
       "      <td>NaN</td>\n",
       "      <td>NaN</td>\n",
       "      <td>NaN</td>\n",
       "    </tr>\n",
       "    <tr>\n",
       "      <th>7</th>\n",
       "      <td>halo3king</td>\n",
       "      <td>Error: Key Inva</td>\n",
       "      <td>80</td>\n",
       "      <td>100</td>\n",
       "      <td>DRDOS</td>\n",
       "      <td>2013-07-04 21:33:48</td>\n",
       "      <td>NaN</td>\n",
       "      <td>NaN</td>\n",
       "      <td>NaN</td>\n",
       "    </tr>\n",
       "    <tr>\n",
       "      <th>8</th>\n",
       "      <td>halo3king</td>\n",
       "      <td>80.3.189.108</td>\n",
       "      <td>80</td>\n",
       "      <td>1000</td>\n",
       "      <td>DRDOS</td>\n",
       "      <td>2013-07-04 21:46:59</td>\n",
       "      <td>NaN</td>\n",
       "      <td>NaN</td>\n",
       "      <td>NaN</td>\n",
       "    </tr>\n",
       "    <tr>\n",
       "      <th>9</th>\n",
       "      <td>NYREX</td>\n",
       "      <td>192.232.249.160</td>\n",
       "      <td>80</td>\n",
       "      <td>120</td>\n",
       "      <td>DRDOS</td>\n",
       "      <td>2013-07-05 00:45:52</td>\n",
       "      <td>NaN</td>\n",
       "      <td>NaN</td>\n",
       "      <td>NaN</td>\n",
       "    </tr>\n",
       "  </tbody>\n",
       "</table>\n",
       "</div>"
      ],
      "text/plain": [
       "     username         targetip   port  duration   type                date  \\\n",
       "0       NYREX   192.184.90.118     80       300  DRDOS 2013-07-16 21:20:52   \n",
       "1       NYREX   192.184.90.118     80       300  DRDOS 2013-07-16 21:21:07   \n",
       "2    tntwolve      85.25.95.84     80      1100  DRDOS 2013-07-18 04:15:13   \n",
       "3    tntwolve      85.25.95.84     80      1100  DRDOS 2013-07-18 03:55:40   \n",
       "4  AlexKvazos   66.160.140.234     80       200  DRDOS 2013-07-18 03:53:08   \n",
       "5       xDeke  198.144.177.186  25565       600  DRDOS 2013-07-16 21:44:33   \n",
       "6       NYREX  198.144.177.186  26656       120  DRDOS 2013-07-16 21:45:19   \n",
       "7   halo3king  Error: Key Inva     80       100  DRDOS 2013-07-04 21:33:48   \n",
       "8   halo3king     80.3.189.108     80      1000  DRDOS 2013-07-04 21:46:59   \n",
       "9       NYREX  192.232.249.160     80       120  DRDOS 2013-07-05 00:45:52   \n",
       "\n",
       "   id  userid  targeturl  \n",
       "0 NaN     NaN        NaN  \n",
       "1 NaN     NaN        NaN  \n",
       "2 NaN     NaN        NaN  \n",
       "3 NaN     NaN        NaN  \n",
       "4 NaN     NaN        NaN  \n",
       "5 NaN     NaN        NaN  \n",
       "6 NaN     NaN        NaN  \n",
       "7 NaN     NaN        NaN  \n",
       "8 NaN     NaN        NaN  \n",
       "9 NaN     NaN        NaN  "
      ]
     },
     "execution_count": 20,
     "metadata": {},
     "output_type": "execute_result"
    }
   ],
   "source": [
    "### Loading the column converting columns with predefined functions\n",
    "df_attacks = pd.read_csv(read_inserted_table3(dumpfile, tablename,\"`\",[1,2,3]),\n",
    "                                delimiter=\",\",\n",
    "                                error_bad_lines=False)\n",
    "### Converting\n",
    "df_attacks['date']= timestamp2datetime(df_attacks['date'])\n",
    "\n",
    "###Changing names of columns\n",
    "df_attacks.rename(columns = {'user':'username',\n",
    "                            'ip':'targetip',\n",
    "                            'time':'duration',\n",
    "                            'method':'type'},inplace=True)\n",
    "\n",
    "###Creating empty columns (with \"\" [for future string] or np.nan [for future float])\n",
    "df_attacks['id'] = np.nan\n",
    "df_attacks['userid'] = np.nan\n",
    "df_attacks['targeturl'] = np.nan\n",
    "\n",
    "###Showing some lines after adapt the table\n",
    "df_attacks.head(10)"
   ]
  },
  {
   "cell_type": "markdown",
   "metadata": {
    "deletable": true,
    "editable": true
   },
   "source": [
    "## 6.8. Table: 'messages'"
   ]
  },
  {
   "cell_type": "markdown",
   "metadata": {
    "deletable": true,
    "editable": true
   },
   "source": [
    "### How this table looks like without modification?"
   ]
  },
  {
   "cell_type": "code",
   "execution_count": 21,
   "metadata": {
    "collapsed": false,
    "deletable": true,
    "editable": true
   },
   "outputs": [
    {
     "data": {
      "text/html": [
       "<div>\n",
       "<table border=\"1\" class=\"dataframe\">\n",
       "  <thead>\n",
       "    <tr style=\"text-align: right;\">\n",
       "      <th></th>\n",
       "      <th>messageid</th>\n",
       "      <th>ticketid</th>\n",
       "      <th>content</th>\n",
       "      <th>sender</th>\n",
       "    </tr>\n",
       "  </thead>\n",
       "  <tbody>\n",
       "    <tr>\n",
       "      <th>0</th>\n",
       "      <td>3</td>\n",
       "      <td>4</td>\n",
       "      <td>Fixed</td>\n",
       "      <td>Admin</td>\n",
       "    </tr>\n",
       "  </tbody>\n",
       "</table>\n",
       "</div>"
      ],
      "text/plain": [
       "   messageid  ticketid content sender\n",
       "0          3         4   Fixed  Admin"
      ]
     },
     "execution_count": 21,
     "metadata": {},
     "output_type": "execute_result"
    }
   ],
   "source": [
    "tablename='messages'\n",
    "\n",
    "pd.read_csv(read_inserted_table1(dumpfile, tablename),\n",
    "            delimiter=\",\",\n",
    "            error_bad_lines=False).head(10)"
   ]
  },
  {
   "cell_type": "markdown",
   "metadata": {
    "deletable": true,
    "editable": true
   },
   "source": [
    "#### Q1: Is this table different from other previous loaded table? YES\n",
    "#### Q2: Is this table similar to any table in the generic Booter database schema? NO\n",
    "    - This table looks like: \n",
    "    \n",
    "#### Q3: Are there modifications required? \n",
    "    - On the table name: \n",
    "        o \n",
    "    - On the column type: \n",
    "        o    \n",
    "    - On the column name:\n",
    "        o  \n",
    "    - Add required columns:\n",
    "        o \n",
    "    - Split columns:\n",
    "        o "
   ]
  },
  {
   "cell_type": "markdown",
   "metadata": {
    "deletable": true,
    "editable": true
   },
   "source": [
    "## 6.9. Table: 'news'"
   ]
  },
  {
   "cell_type": "markdown",
   "metadata": {
    "deletable": true,
    "editable": true
   },
   "source": [
    "### How this table looks like without modification?"
   ]
  },
  {
   "cell_type": "code",
   "execution_count": 22,
   "metadata": {
    "collapsed": false,
    "deletable": true,
    "editable": true
   },
   "outputs": [
    {
     "data": {
      "text/html": [
       "<div>\n",
       "<table border=\"1\" class=\"dataframe\">\n",
       "  <thead>\n",
       "    <tr style=\"text-align: right;\">\n",
       "      <th></th>\n",
       "      <th>ID</th>\n",
       "      <th>title</th>\n",
       "      <th>detail</th>\n",
       "      <th>date</th>\n",
       "    </tr>\n",
       "  </thead>\n",
       "  <tbody>\n",
       "    <tr>\n",
       "      <th>0</th>\n",
       "      <td>71</td>\n",
       "      <td>Server</td>\n",
       "      <td>Another server has been ordered to keep up wit...</td>\n",
       "      <td>1375312802</td>\n",
       "    </tr>\n",
       "    <tr>\n",
       "      <th>1</th>\n",
       "      <td>70</td>\n",
       "      <td>Ticket</td>\n",
       "      <td>Last weakend there was a slight problem. If yo...</td>\n",
       "      <td>1375240562</td>\n",
       "    </tr>\n",
       "  </tbody>\n",
       "</table>\n",
       "</div>"
      ],
      "text/plain": [
       "   ID   title                                             detail        date\n",
       "0  71  Server  Another server has been ordered to keep up wit...  1375312802\n",
       "1  70  Ticket  Last weakend there was a slight problem. If yo...  1375240562"
      ]
     },
     "execution_count": 22,
     "metadata": {},
     "output_type": "execute_result"
    }
   ],
   "source": [
    "tablename='news'\n",
    "\n",
    "pd.read_csv(read_inserted_table1(dumpfile, tablename),\n",
    "            delimiter=\",\",\n",
    "            error_bad_lines=False).head(10)"
   ]
  },
  {
   "cell_type": "markdown",
   "metadata": {
    "deletable": true,
    "editable": true
   },
   "source": [
    "#### Q1: Is this table different from other previous loaded table? YES\n",
    "#### Q2: Is this table similar to any table in the generic Booter database schema? NO\n",
    "    - This table looks like: \n",
    "    \n",
    "#### Q3: Are there modifications required? \n",
    "    - On the table name: \n",
    "        o \n",
    "    - On the column type: \n",
    "        o    \n",
    "    - On the column name:\n",
    "        o  \n",
    "    - Add required columns:\n",
    "        o \n",
    "    - Split columns:\n",
    "        o "
   ]
  },
  {
   "cell_type": "markdown",
   "metadata": {
    "deletable": true,
    "editable": true
   },
   "source": [
    "## 6.10. Table: 'payments'"
   ]
  },
  {
   "cell_type": "markdown",
   "metadata": {
    "deletable": true,
    "editable": true
   },
   "source": [
    "### How this table looks like without modification?"
   ]
  },
  {
   "cell_type": "code",
   "execution_count": 23,
   "metadata": {
    "collapsed": false,
    "deletable": true,
    "editable": true
   },
   "outputs": [
    {
     "data": {
      "text/html": [
       "<div>\n",
       "<table border=\"1\" class=\"dataframe\">\n",
       "  <thead>\n",
       "    <tr style=\"text-align: right;\">\n",
       "      <th></th>\n",
       "      <th>ID</th>\n",
       "      <th>paid</th>\n",
       "      <th>plan</th>\n",
       "      <th>user</th>\n",
       "      <th>email</th>\n",
       "      <th>tid</th>\n",
       "      <th>date</th>\n",
       "    </tr>\n",
       "  </thead>\n",
       "  <tbody>\n",
       "    <tr>\n",
       "      <th>0</th>\n",
       "      <td>1</td>\n",
       "      <td>50.0</td>\n",
       "      <td>43</td>\n",
       "      <td>806</td>\n",
       "      <td>LiLDeMoN@null.net</td>\n",
       "      <td>3WE814245P4981227</td>\n",
       "      <td>1363410440</td>\n",
       "    </tr>\n",
       "    <tr>\n",
       "      <th>1</th>\n",
       "      <td>2</td>\n",
       "      <td>10.0</td>\n",
       "      <td>42</td>\n",
       "      <td>818</td>\n",
       "      <td>nickdimambro@yahoo.com</td>\n",
       "      <td>0K529031CB7114902</td>\n",
       "      <td>1363487415</td>\n",
       "    </tr>\n",
       "    <tr>\n",
       "      <th>2</th>\n",
       "      <td>3</td>\n",
       "      <td>10.0</td>\n",
       "      <td>42</td>\n",
       "      <td>824</td>\n",
       "      <td>jameslee050@gmail.com</td>\n",
       "      <td>3AC71642MR3558233</td>\n",
       "      <td>1363681749</td>\n",
       "    </tr>\n",
       "    <tr>\n",
       "      <th>3</th>\n",
       "      <td>4</td>\n",
       "      <td>16.5</td>\n",
       "      <td>51</td>\n",
       "      <td>872</td>\n",
       "      <td>tobiaschudalla@aol.com</td>\n",
       "      <td>0WK2163803756351N</td>\n",
       "      <td>1373018855</td>\n",
       "    </tr>\n",
       "    <tr>\n",
       "      <th>4</th>\n",
       "      <td>5</td>\n",
       "      <td>3.0</td>\n",
       "      <td>47</td>\n",
       "      <td>878</td>\n",
       "      <td>aladinbilalagic@gmail.com</td>\n",
       "      <td>55P64109E7953122R</td>\n",
       "      <td>1373124648</td>\n",
       "    </tr>\n",
       "    <tr>\n",
       "      <th>5</th>\n",
       "      <td>6</td>\n",
       "      <td>1.0</td>\n",
       "      <td>46</td>\n",
       "      <td>893</td>\n",
       "      <td>drewconlin@gmail.com</td>\n",
       "      <td>9F158986UT905841M</td>\n",
       "      <td>1373339844</td>\n",
       "    </tr>\n",
       "    <tr>\n",
       "      <th>6</th>\n",
       "      <td>7</td>\n",
       "      <td>50.0</td>\n",
       "      <td>55</td>\n",
       "      <td>901</td>\n",
       "      <td>juho.mikkonen@europe.com</td>\n",
       "      <td>4CW59787U95183930</td>\n",
       "      <td>1373468101</td>\n",
       "    </tr>\n",
       "    <tr>\n",
       "      <th>7</th>\n",
       "      <td>8</td>\n",
       "      <td>1.0</td>\n",
       "      <td>46</td>\n",
       "      <td>903</td>\n",
       "      <td>stephensurtees2007@gmail.com</td>\n",
       "      <td>58L88745WM276025K</td>\n",
       "      <td>1373481772</td>\n",
       "    </tr>\n",
       "    <tr>\n",
       "      <th>8</th>\n",
       "      <td>9</td>\n",
       "      <td>20.0</td>\n",
       "      <td>53</td>\n",
       "      <td>921</td>\n",
       "      <td>ryanandkevinshalo@gmail.com</td>\n",
       "      <td>05L80194BM8813906</td>\n",
       "      <td>1373855021</td>\n",
       "    </tr>\n",
       "    <tr>\n",
       "      <th>9</th>\n",
       "      <td>10</td>\n",
       "      <td>1.0</td>\n",
       "      <td>46</td>\n",
       "      <td>922</td>\n",
       "      <td>wghteam@gmail.com</td>\n",
       "      <td>9XG738673X725720G</td>\n",
       "      <td>1373890467</td>\n",
       "    </tr>\n",
       "  </tbody>\n",
       "</table>\n",
       "</div>"
      ],
      "text/plain": [
       "   ID  paid  plan  user                         email                tid  \\\n",
       "0   1  50.0    43   806             LiLDeMoN@null.net  3WE814245P4981227   \n",
       "1   2  10.0    42   818        nickdimambro@yahoo.com  0K529031CB7114902   \n",
       "2   3  10.0    42   824         jameslee050@gmail.com  3AC71642MR3558233   \n",
       "3   4  16.5    51   872        tobiaschudalla@aol.com  0WK2163803756351N   \n",
       "4   5   3.0    47   878     aladinbilalagic@gmail.com  55P64109E7953122R   \n",
       "5   6   1.0    46   893          drewconlin@gmail.com  9F158986UT905841M   \n",
       "6   7  50.0    55   901      juho.mikkonen@europe.com  4CW59787U95183930   \n",
       "7   8   1.0    46   903  stephensurtees2007@gmail.com  58L88745WM276025K   \n",
       "8   9  20.0    53   921   ryanandkevinshalo@gmail.com  05L80194BM8813906   \n",
       "9  10   1.0    46   922             wghteam@gmail.com  9XG738673X725720G   \n",
       "\n",
       "         date  \n",
       "0  1363410440  \n",
       "1  1363487415  \n",
       "2  1363681749  \n",
       "3  1373018855  \n",
       "4  1373124648  \n",
       "5  1373339844  \n",
       "6  1373468101  \n",
       "7  1373481772  \n",
       "8  1373855021  \n",
       "9  1373890467  "
      ]
     },
     "execution_count": 23,
     "metadata": {},
     "output_type": "execute_result"
    }
   ],
   "source": [
    "tablename='payments'\n",
    "\n",
    "pd.read_csv(read_inserted_table1(dumpfile, tablename),\n",
    "            delimiter=\",\",\n",
    "            error_bad_lines=False).head(10)"
   ]
  },
  {
   "cell_type": "markdown",
   "metadata": {
    "deletable": true,
    "editable": true
   },
   "source": [
    "#### Q1: Is this table different from other previous loaded table? YES\n",
    "#### Q2: Is this table similar to any table in the generic Booter database schema? YES\n",
    "    - This table looks like: payments\n",
    "    \n",
    "#### Q3: Are there modifications required? \n",
    "    - On the table name: \n",
    "        o \n",
    "    - On the column type: \n",
    "        o  date => timestamptodate  \n",
    "    - On the column name:\n",
    "        o ID => id\n",
    "        o paid => amountpaid\n",
    "        o plan => planid\n",
    "        o user => userid\n",
    "        o email => paymentemail\n",
    "    - Add required columns:\n",
    "        o username\n",
    "    - Split columns:\n",
    "        o "
   ]
  },
  {
   "cell_type": "markdown",
   "metadata": {
    "deletable": true,
    "editable": true
   },
   "source": [
    "### Modifying table: 'payments'"
   ]
  },
  {
   "cell_type": "code",
   "execution_count": 24,
   "metadata": {
    "collapsed": false,
    "deletable": true,
    "editable": true
   },
   "outputs": [
    {
     "data": {
      "text/html": [
       "<div>\n",
       "<table border=\"1\" class=\"dataframe\">\n",
       "  <thead>\n",
       "    <tr style=\"text-align: right;\">\n",
       "      <th></th>\n",
       "      <th>id</th>\n",
       "      <th>amountpaid</th>\n",
       "      <th>planid</th>\n",
       "      <th>userid</th>\n",
       "      <th>paymentemail</th>\n",
       "      <th>tid</th>\n",
       "      <th>date</th>\n",
       "      <th>username</th>\n",
       "    </tr>\n",
       "  </thead>\n",
       "  <tbody>\n",
       "    <tr>\n",
       "      <th>0</th>\n",
       "      <td>1</td>\n",
       "      <td>50.0</td>\n",
       "      <td>43</td>\n",
       "      <td>806</td>\n",
       "      <td>LiLDeMoN@null.net</td>\n",
       "      <td>3WE814245P4981227</td>\n",
       "      <td>2013-03-16 05:07:20</td>\n",
       "      <td></td>\n",
       "    </tr>\n",
       "    <tr>\n",
       "      <th>1</th>\n",
       "      <td>2</td>\n",
       "      <td>10.0</td>\n",
       "      <td>42</td>\n",
       "      <td>818</td>\n",
       "      <td>nickdimambro@yahoo.com</td>\n",
       "      <td>0K529031CB7114902</td>\n",
       "      <td>2013-03-17 02:30:15</td>\n",
       "      <td></td>\n",
       "    </tr>\n",
       "    <tr>\n",
       "      <th>2</th>\n",
       "      <td>3</td>\n",
       "      <td>10.0</td>\n",
       "      <td>42</td>\n",
       "      <td>824</td>\n",
       "      <td>jameslee050@gmail.com</td>\n",
       "      <td>3AC71642MR3558233</td>\n",
       "      <td>2013-03-19 08:29:09</td>\n",
       "      <td></td>\n",
       "    </tr>\n",
       "    <tr>\n",
       "      <th>3</th>\n",
       "      <td>4</td>\n",
       "      <td>16.5</td>\n",
       "      <td>51</td>\n",
       "      <td>872</td>\n",
       "      <td>tobiaschudalla@aol.com</td>\n",
       "      <td>0WK2163803756351N</td>\n",
       "      <td>2013-07-05 10:07:35</td>\n",
       "      <td></td>\n",
       "    </tr>\n",
       "    <tr>\n",
       "      <th>4</th>\n",
       "      <td>5</td>\n",
       "      <td>3.0</td>\n",
       "      <td>47</td>\n",
       "      <td>878</td>\n",
       "      <td>aladinbilalagic@gmail.com</td>\n",
       "      <td>55P64109E7953122R</td>\n",
       "      <td>2013-07-06 15:30:48</td>\n",
       "      <td></td>\n",
       "    </tr>\n",
       "    <tr>\n",
       "      <th>5</th>\n",
       "      <td>6</td>\n",
       "      <td>1.0</td>\n",
       "      <td>46</td>\n",
       "      <td>893</td>\n",
       "      <td>drewconlin@gmail.com</td>\n",
       "      <td>9F158986UT905841M</td>\n",
       "      <td>2013-07-09 03:17:24</td>\n",
       "      <td></td>\n",
       "    </tr>\n",
       "    <tr>\n",
       "      <th>6</th>\n",
       "      <td>7</td>\n",
       "      <td>50.0</td>\n",
       "      <td>55</td>\n",
       "      <td>901</td>\n",
       "      <td>juho.mikkonen@europe.com</td>\n",
       "      <td>4CW59787U95183930</td>\n",
       "      <td>2013-07-10 14:55:01</td>\n",
       "      <td></td>\n",
       "    </tr>\n",
       "    <tr>\n",
       "      <th>7</th>\n",
       "      <td>8</td>\n",
       "      <td>1.0</td>\n",
       "      <td>46</td>\n",
       "      <td>903</td>\n",
       "      <td>stephensurtees2007@gmail.com</td>\n",
       "      <td>58L88745WM276025K</td>\n",
       "      <td>2013-07-10 18:42:52</td>\n",
       "      <td></td>\n",
       "    </tr>\n",
       "    <tr>\n",
       "      <th>8</th>\n",
       "      <td>9</td>\n",
       "      <td>20.0</td>\n",
       "      <td>53</td>\n",
       "      <td>921</td>\n",
       "      <td>ryanandkevinshalo@gmail.com</td>\n",
       "      <td>05L80194BM8813906</td>\n",
       "      <td>2013-07-15 02:23:41</td>\n",
       "      <td></td>\n",
       "    </tr>\n",
       "    <tr>\n",
       "      <th>9</th>\n",
       "      <td>10</td>\n",
       "      <td>1.0</td>\n",
       "      <td>46</td>\n",
       "      <td>922</td>\n",
       "      <td>wghteam@gmail.com</td>\n",
       "      <td>9XG738673X725720G</td>\n",
       "      <td>2013-07-15 12:14:27</td>\n",
       "      <td></td>\n",
       "    </tr>\n",
       "  </tbody>\n",
       "</table>\n",
       "</div>"
      ],
      "text/plain": [
       "   id  amountpaid  planid  userid                  paymentemail  \\\n",
       "0   1        50.0      43     806             LiLDeMoN@null.net   \n",
       "1   2        10.0      42     818        nickdimambro@yahoo.com   \n",
       "2   3        10.0      42     824         jameslee050@gmail.com   \n",
       "3   4        16.5      51     872        tobiaschudalla@aol.com   \n",
       "4   5         3.0      47     878     aladinbilalagic@gmail.com   \n",
       "5   6         1.0      46     893          drewconlin@gmail.com   \n",
       "6   7        50.0      55     901      juho.mikkonen@europe.com   \n",
       "7   8         1.0      46     903  stephensurtees2007@gmail.com   \n",
       "8   9        20.0      53     921   ryanandkevinshalo@gmail.com   \n",
       "9  10         1.0      46     922             wghteam@gmail.com   \n",
       "\n",
       "                 tid                date username  \n",
       "0  3WE814245P4981227 2013-03-16 05:07:20           \n",
       "1  0K529031CB7114902 2013-03-17 02:30:15           \n",
       "2  3AC71642MR3558233 2013-03-19 08:29:09           \n",
       "3  0WK2163803756351N 2013-07-05 10:07:35           \n",
       "4  55P64109E7953122R 2013-07-06 15:30:48           \n",
       "5  9F158986UT905841M 2013-07-09 03:17:24           \n",
       "6  4CW59787U95183930 2013-07-10 14:55:01           \n",
       "7  58L88745WM276025K 2013-07-10 18:42:52           \n",
       "8  05L80194BM8813906 2013-07-15 02:23:41           \n",
       "9  9XG738673X725720G 2013-07-15 12:14:27           "
      ]
     },
     "execution_count": 24,
     "metadata": {},
     "output_type": "execute_result"
    }
   ],
   "source": [
    "### Loading the column converting columns with predefined functions\n",
    "df_payments = pd.read_csv(read_inserted_table1(dumpfile, tablename),\n",
    "                                delimiter=\",\",\n",
    "                                error_bad_lines=False)\n",
    "\n",
    "### Converting\n",
    "df_payments['date'] = timestamp2datetime(df_payments['date'])\n",
    "\n",
    "###Changing names of columns\n",
    "df_payments.rename(columns = {'ID': 'id',\n",
    "                              'paid': 'amountpaid',\n",
    "                             'plan': 'planid',\n",
    "                             'user':'userid',\n",
    "                             'email':'paymentemail'},\n",
    "                         inplace=True)\n",
    "\n",
    "###Creating empty columns (with \"\" [for future string] or np.nan [for future float])\n",
    "df_payments['username'] = \"\"\n",
    "\n",
    "###Showing some lines after adapt the table\n",
    "df_payments.head(10)"
   ]
  },
  {
   "cell_type": "markdown",
   "metadata": {
    "deletable": true,
    "editable": true
   },
   "source": [
    "## 6.11. Table: 'plans'"
   ]
  },
  {
   "cell_type": "markdown",
   "metadata": {
    "deletable": true,
    "editable": true
   },
   "source": [
    "### How this table looks like without modification?"
   ]
  },
  {
   "cell_type": "code",
   "execution_count": 25,
   "metadata": {
    "collapsed": false,
    "deletable": true,
    "editable": true
   },
   "outputs": [
    {
     "data": {
      "text/html": [
       "<div>\n",
       "<table border=\"1\" class=\"dataframe\">\n",
       "  <thead>\n",
       "    <tr style=\"text-align: right;\">\n",
       "      <th></th>\n",
       "      <th>ID</th>\n",
       "      <th>name</th>\n",
       "      <th>description</th>\n",
       "      <th>mbt</th>\n",
       "      <th>unit</th>\n",
       "      <th>length</th>\n",
       "      <th>price</th>\n",
       "      <th>concurrents</th>\n",
       "    </tr>\n",
       "  </thead>\n",
       "  <tbody>\n",
       "    <tr>\n",
       "      <th>0</th>\n",
       "      <td>46</td>\n",
       "      <td>212 Trial</td>\n",
       "      <td>A short trial to show you how good 212 booter is.</td>\n",
       "      <td>190</td>\n",
       "      <td>Days</td>\n",
       "      <td>1</td>\n",
       "      <td>1.0</td>\n",
       "      <td>1</td>\n",
       "    </tr>\n",
       "    <tr>\n",
       "      <th>1</th>\n",
       "      <td>47</td>\n",
       "      <td>212 Trial Weekly</td>\n",
       "      <td>A 1 week trial for you to test 212 for 7 days ...</td>\n",
       "      <td>190</td>\n",
       "      <td>Weeks</td>\n",
       "      <td>1</td>\n",
       "      <td>3.0</td>\n",
       "      <td>1</td>\n",
       "    </tr>\n",
       "    <tr>\n",
       "      <th>2</th>\n",
       "      <td>48</td>\n",
       "      <td>212 Basic Monthly</td>\n",
       "      <td>A monthly use of 212 taking advantage of all o...</td>\n",
       "      <td>300</td>\n",
       "      <td>Months</td>\n",
       "      <td>1</td>\n",
       "      <td>8.0</td>\n",
       "      <td>1</td>\n",
       "    </tr>\n",
       "    <tr>\n",
       "      <th>3</th>\n",
       "      <td>49</td>\n",
       "      <td>212 Novice Monthly</td>\n",
       "      <td>A monthly use of 212 taking advantage of all o...</td>\n",
       "      <td>500</td>\n",
       "      <td>Months</td>\n",
       "      <td>1</td>\n",
       "      <td>5.5</td>\n",
       "      <td>1</td>\n",
       "    </tr>\n",
       "    <tr>\n",
       "      <th>4</th>\n",
       "      <td>50</td>\n",
       "      <td>212 Advanced Monthly</td>\n",
       "      <td>A monthly use of 212 taking advantage of all o...</td>\n",
       "      <td>1100</td>\n",
       "      <td>Months</td>\n",
       "      <td>1</td>\n",
       "      <td>10.0</td>\n",
       "      <td>1</td>\n",
       "    </tr>\n",
       "    <tr>\n",
       "      <th>5</th>\n",
       "      <td>51</td>\n",
       "      <td>212 Pro Monthly</td>\n",
       "      <td>A monthly plan with 1000 seconds attack time i...</td>\n",
       "      <td>1000</td>\n",
       "      <td>Months</td>\n",
       "      <td>1</td>\n",
       "      <td>16.5</td>\n",
       "      <td>2</td>\n",
       "    </tr>\n",
       "    <tr>\n",
       "      <th>6</th>\n",
       "      <td>52</td>\n",
       "      <td>212 Basic Lifetime</td>\n",
       "      <td>A lifetime use of 212 taking advantage of all ...</td>\n",
       "      <td>350</td>\n",
       "      <td>Years</td>\n",
       "      <td>10</td>\n",
       "      <td>15.0</td>\n",
       "      <td>1</td>\n",
       "    </tr>\n",
       "    <tr>\n",
       "      <th>7</th>\n",
       "      <td>53</td>\n",
       "      <td>212 Novice Lifetime</td>\n",
       "      <td>A lifetime use of 212 taking advantage of all ...</td>\n",
       "      <td>600</td>\n",
       "      <td>Years</td>\n",
       "      <td>10</td>\n",
       "      <td>20.0</td>\n",
       "      <td>1</td>\n",
       "    </tr>\n",
       "    <tr>\n",
       "      <th>8</th>\n",
       "      <td>54</td>\n",
       "      <td>212 Advanced Lifetime</td>\n",
       "      <td>A lifetime use of 212 taking advantage of all ...</td>\n",
       "      <td>800</td>\n",
       "      <td>Years</td>\n",
       "      <td>10</td>\n",
       "      <td>35.0</td>\n",
       "      <td>2</td>\n",
       "    </tr>\n",
       "    <tr>\n",
       "      <th>9</th>\n",
       "      <td>55</td>\n",
       "      <td>212 Pro Lifetime</td>\n",
       "      <td>A lifetime use of 212 taking advantage of all ...</td>\n",
       "      <td>1000</td>\n",
       "      <td>Years</td>\n",
       "      <td>10</td>\n",
       "      <td>50.0</td>\n",
       "      <td>2</td>\n",
       "    </tr>\n",
       "  </tbody>\n",
       "</table>\n",
       "</div>"
      ],
      "text/plain": [
       "   ID                   name  \\\n",
       "0  46              212 Trial   \n",
       "1  47       212 Trial Weekly   \n",
       "2  48      212 Basic Monthly   \n",
       "3  49     212 Novice Monthly   \n",
       "4  50   212 Advanced Monthly   \n",
       "5  51        212 Pro Monthly   \n",
       "6  52     212 Basic Lifetime   \n",
       "7  53    212 Novice Lifetime   \n",
       "8  54  212 Advanced Lifetime   \n",
       "9  55       212 Pro Lifetime   \n",
       "\n",
       "                                         description   mbt    unit  length  \\\n",
       "0  A short trial to show you how good 212 booter is.   190    Days       1   \n",
       "1  A 1 week trial for you to test 212 for 7 days ...   190   Weeks       1   \n",
       "2  A monthly use of 212 taking advantage of all o...   300  Months       1   \n",
       "3  A monthly use of 212 taking advantage of all o...   500  Months       1   \n",
       "4  A monthly use of 212 taking advantage of all o...  1100  Months       1   \n",
       "5  A monthly plan with 1000 seconds attack time i...  1000  Months       1   \n",
       "6  A lifetime use of 212 taking advantage of all ...   350   Years      10   \n",
       "7  A lifetime use of 212 taking advantage of all ...   600   Years      10   \n",
       "8  A lifetime use of 212 taking advantage of all ...   800   Years      10   \n",
       "9  A lifetime use of 212 taking advantage of all ...  1000   Years      10   \n",
       "\n",
       "   price  concurrents  \n",
       "0    1.0            1  \n",
       "1    3.0            1  \n",
       "2    8.0            1  \n",
       "3    5.5            1  \n",
       "4   10.0            1  \n",
       "5   16.5            2  \n",
       "6   15.0            1  \n",
       "7   20.0            1  \n",
       "8   35.0            2  \n",
       "9   50.0            2  "
      ]
     },
     "execution_count": 25,
     "metadata": {},
     "output_type": "execute_result"
    }
   ],
   "source": [
    "tablename='plans'\n",
    "\n",
    "pd.read_csv(read_inserted_table1(dumpfile, tablename),\n",
    "            delimiter=\",\",\n",
    "            error_bad_lines=False).head(10)"
   ]
  },
  {
   "cell_type": "markdown",
   "metadata": {
    "deletable": true,
    "editable": true
   },
   "source": [
    "#### Q1: Is this table different from other previous loaded table? YES\n",
    "#### Q2: Is this table similar to any table in the generic Booter database schema? YES\n",
    "    - This table looks like: plans\n",
    "    \n",
    "#### Q3: Are there modifications required? \n",
    "    - On the table name: \n",
    "        o \n",
    "    - On the column type: \n",
    "\n",
    "    - On the column name:\n",
    "        o ID => planid\n",
    "        o name => planname\n",
    "        o description => plandescr\n",
    "        o mbt => maxboottime\n",
    "        o concurrents => concurrency\n",
    "    - Add required columns:\n",
    "        o \n",
    "    - Split columns:\n",
    "        o "
   ]
  },
  {
   "cell_type": "markdown",
   "metadata": {
    "deletable": true,
    "editable": true
   },
   "source": [
    "### Modifying table: 'plans'"
   ]
  },
  {
   "cell_type": "code",
   "execution_count": 26,
   "metadata": {
    "collapsed": false,
    "deletable": true,
    "editable": true
   },
   "outputs": [
    {
     "data": {
      "text/html": [
       "<div>\n",
       "<table border=\"1\" class=\"dataframe\">\n",
       "  <thead>\n",
       "    <tr style=\"text-align: right;\">\n",
       "      <th></th>\n",
       "      <th>planid</th>\n",
       "      <th>planname</th>\n",
       "      <th>plandescr</th>\n",
       "      <th>maxboottime</th>\n",
       "      <th>unit</th>\n",
       "      <th>length</th>\n",
       "      <th>price</th>\n",
       "      <th>concurrency</th>\n",
       "    </tr>\n",
       "  </thead>\n",
       "  <tbody>\n",
       "    <tr>\n",
       "      <th>0</th>\n",
       "      <td>46</td>\n",
       "      <td>212 Trial</td>\n",
       "      <td>A short trial to show you how good 212 booter is.</td>\n",
       "      <td>190</td>\n",
       "      <td>Days</td>\n",
       "      <td>1</td>\n",
       "      <td>1.0</td>\n",
       "      <td>1</td>\n",
       "    </tr>\n",
       "    <tr>\n",
       "      <th>1</th>\n",
       "      <td>47</td>\n",
       "      <td>212 Trial Weekly</td>\n",
       "      <td>A 1 week trial for you to test 212 for 7 days ...</td>\n",
       "      <td>190</td>\n",
       "      <td>Weeks</td>\n",
       "      <td>1</td>\n",
       "      <td>3.0</td>\n",
       "      <td>1</td>\n",
       "    </tr>\n",
       "    <tr>\n",
       "      <th>2</th>\n",
       "      <td>48</td>\n",
       "      <td>212 Basic Monthly</td>\n",
       "      <td>A monthly use of 212 taking advantage of all o...</td>\n",
       "      <td>300</td>\n",
       "      <td>Months</td>\n",
       "      <td>1</td>\n",
       "      <td>8.0</td>\n",
       "      <td>1</td>\n",
       "    </tr>\n",
       "    <tr>\n",
       "      <th>3</th>\n",
       "      <td>49</td>\n",
       "      <td>212 Novice Monthly</td>\n",
       "      <td>A monthly use of 212 taking advantage of all o...</td>\n",
       "      <td>500</td>\n",
       "      <td>Months</td>\n",
       "      <td>1</td>\n",
       "      <td>5.5</td>\n",
       "      <td>1</td>\n",
       "    </tr>\n",
       "    <tr>\n",
       "      <th>4</th>\n",
       "      <td>50</td>\n",
       "      <td>212 Advanced Monthly</td>\n",
       "      <td>A monthly use of 212 taking advantage of all o...</td>\n",
       "      <td>1100</td>\n",
       "      <td>Months</td>\n",
       "      <td>1</td>\n",
       "      <td>10.0</td>\n",
       "      <td>1</td>\n",
       "    </tr>\n",
       "    <tr>\n",
       "      <th>5</th>\n",
       "      <td>51</td>\n",
       "      <td>212 Pro Monthly</td>\n",
       "      <td>A monthly plan with 1000 seconds attack time i...</td>\n",
       "      <td>1000</td>\n",
       "      <td>Months</td>\n",
       "      <td>1</td>\n",
       "      <td>16.5</td>\n",
       "      <td>2</td>\n",
       "    </tr>\n",
       "    <tr>\n",
       "      <th>6</th>\n",
       "      <td>52</td>\n",
       "      <td>212 Basic Lifetime</td>\n",
       "      <td>A lifetime use of 212 taking advantage of all ...</td>\n",
       "      <td>350</td>\n",
       "      <td>Years</td>\n",
       "      <td>10</td>\n",
       "      <td>15.0</td>\n",
       "      <td>1</td>\n",
       "    </tr>\n",
       "    <tr>\n",
       "      <th>7</th>\n",
       "      <td>53</td>\n",
       "      <td>212 Novice Lifetime</td>\n",
       "      <td>A lifetime use of 212 taking advantage of all ...</td>\n",
       "      <td>600</td>\n",
       "      <td>Years</td>\n",
       "      <td>10</td>\n",
       "      <td>20.0</td>\n",
       "      <td>1</td>\n",
       "    </tr>\n",
       "    <tr>\n",
       "      <th>8</th>\n",
       "      <td>54</td>\n",
       "      <td>212 Advanced Lifetime</td>\n",
       "      <td>A lifetime use of 212 taking advantage of all ...</td>\n",
       "      <td>800</td>\n",
       "      <td>Years</td>\n",
       "      <td>10</td>\n",
       "      <td>35.0</td>\n",
       "      <td>2</td>\n",
       "    </tr>\n",
       "    <tr>\n",
       "      <th>9</th>\n",
       "      <td>55</td>\n",
       "      <td>212 Pro Lifetime</td>\n",
       "      <td>A lifetime use of 212 taking advantage of all ...</td>\n",
       "      <td>1000</td>\n",
       "      <td>Years</td>\n",
       "      <td>10</td>\n",
       "      <td>50.0</td>\n",
       "      <td>2</td>\n",
       "    </tr>\n",
       "  </tbody>\n",
       "</table>\n",
       "</div>"
      ],
      "text/plain": [
       "   planid               planname  \\\n",
       "0      46              212 Trial   \n",
       "1      47       212 Trial Weekly   \n",
       "2      48      212 Basic Monthly   \n",
       "3      49     212 Novice Monthly   \n",
       "4      50   212 Advanced Monthly   \n",
       "5      51        212 Pro Monthly   \n",
       "6      52     212 Basic Lifetime   \n",
       "7      53    212 Novice Lifetime   \n",
       "8      54  212 Advanced Lifetime   \n",
       "9      55       212 Pro Lifetime   \n",
       "\n",
       "                                           plandescr  maxboottime    unit  \\\n",
       "0  A short trial to show you how good 212 booter is.          190    Days   \n",
       "1  A 1 week trial for you to test 212 for 7 days ...          190   Weeks   \n",
       "2  A monthly use of 212 taking advantage of all o...          300  Months   \n",
       "3  A monthly use of 212 taking advantage of all o...          500  Months   \n",
       "4  A monthly use of 212 taking advantage of all o...         1100  Months   \n",
       "5  A monthly plan with 1000 seconds attack time i...         1000  Months   \n",
       "6  A lifetime use of 212 taking advantage of all ...          350   Years   \n",
       "7  A lifetime use of 212 taking advantage of all ...          600   Years   \n",
       "8  A lifetime use of 212 taking advantage of all ...          800   Years   \n",
       "9  A lifetime use of 212 taking advantage of all ...         1000   Years   \n",
       "\n",
       "   length  price  concurrency  \n",
       "0       1    1.0            1  \n",
       "1       1    3.0            1  \n",
       "2       1    8.0            1  \n",
       "3       1    5.5            1  \n",
       "4       1   10.0            1  \n",
       "5       1   16.5            2  \n",
       "6      10   15.0            1  \n",
       "7      10   20.0            1  \n",
       "8      10   35.0            2  \n",
       "9      10   50.0            2  "
      ]
     },
     "execution_count": 26,
     "metadata": {},
     "output_type": "execute_result"
    }
   ],
   "source": [
    "### Loading the column converting columns with predefined functions\n",
    "df_plans = pd.read_csv(read_inserted_table1(dumpfile, tablename),\n",
    "                                delimiter=\",\",\n",
    "                                error_bad_lines=False)\n",
    "\n",
    "\n",
    "###Changing names of columns\n",
    "df_plans.rename(columns = {'ID': 'planid',\n",
    "                          'name': 'planname',\n",
    "                          'description':'plandescr',\n",
    "                          'mbt': 'maxboottime',\n",
    "                          'concurrents':'concurrency'},\n",
    "                         inplace=True)\n",
    "\n",
    "###Creating empty columns (with \"\" [for future string] or np.nan [for future float])\n",
    "\n",
    "\n",
    "###Showing some lines after adapt the table\n",
    "df_plans.head(10)"
   ]
  },
  {
   "cell_type": "markdown",
   "metadata": {
    "deletable": true,
    "editable": true
   },
   "source": [
    "## 6.12. Table: 'referrals'"
   ]
  },
  {
   "cell_type": "markdown",
   "metadata": {
    "deletable": true,
    "editable": true
   },
   "source": [
    "### How this table looks like without modification?"
   ]
  },
  {
   "cell_type": "code",
   "execution_count": 27,
   "metadata": {
    "collapsed": false,
    "deletable": true,
    "editable": true
   },
   "outputs": [
    {
     "data": {
      "text/html": [
       "<div>\n",
       "<table border=\"1\" class=\"dataframe\">\n",
       "  <thead>\n",
       "    <tr style=\"text-align: right;\">\n",
       "      <th></th>\n",
       "      <th>username</th>\n",
       "      <th>refid</th>\n",
       "      <th>date</th>\n",
       "    </tr>\n",
       "  </thead>\n",
       "  <tbody>\n",
       "    <tr>\n",
       "      <th>0</th>\n",
       "      <td>melternet</td>\n",
       "      <td>melternet</td>\n",
       "      <td>1374275832</td>\n",
       "    </tr>\n",
       "    <tr>\n",
       "      <th>1</th>\n",
       "      <td>NYREX</td>\n",
       "      <td>NYREX</td>\n",
       "      <td>1374275832</td>\n",
       "    </tr>\n",
       "    <tr>\n",
       "      <th>2</th>\n",
       "      <td>NYREX</td>\n",
       "      <td>NYREX</td>\n",
       "      <td>1374275832</td>\n",
       "    </tr>\n",
       "    <tr>\n",
       "      <th>3</th>\n",
       "      <td>NYREX</td>\n",
       "      <td>NYREX</td>\n",
       "      <td>1374275832</td>\n",
       "    </tr>\n",
       "    <tr>\n",
       "      <th>4</th>\n",
       "      <td>NYREX</td>\n",
       "      <td>NYREX</td>\n",
       "      <td>1374275832</td>\n",
       "    </tr>\n",
       "    <tr>\n",
       "      <th>5</th>\n",
       "      <td>NYREX</td>\n",
       "      <td>NYREX</td>\n",
       "      <td>1374275832</td>\n",
       "    </tr>\n",
       "    <tr>\n",
       "      <th>6</th>\n",
       "      <td>NYREX</td>\n",
       "      <td>NYREX</td>\n",
       "      <td>1374275832</td>\n",
       "    </tr>\n",
       "    <tr>\n",
       "      <th>7</th>\n",
       "      <td>NYREX</td>\n",
       "      <td>NYREX</td>\n",
       "      <td>1374275832</td>\n",
       "    </tr>\n",
       "    <tr>\n",
       "      <th>8</th>\n",
       "      <td>NYREX</td>\n",
       "      <td>NYREX</td>\n",
       "      <td>1374275832</td>\n",
       "    </tr>\n",
       "    <tr>\n",
       "      <th>9</th>\n",
       "      <td>NYREX</td>\n",
       "      <td>NYREX</td>\n",
       "      <td>1374275832</td>\n",
       "    </tr>\n",
       "  </tbody>\n",
       "</table>\n",
       "</div>"
      ],
      "text/plain": [
       "    username      refid        date\n",
       "0  melternet  melternet  1374275832\n",
       "1      NYREX      NYREX  1374275832\n",
       "2      NYREX      NYREX  1374275832\n",
       "3      NYREX      NYREX  1374275832\n",
       "4      NYREX      NYREX  1374275832\n",
       "5      NYREX      NYREX  1374275832\n",
       "6      NYREX      NYREX  1374275832\n",
       "7      NYREX      NYREX  1374275832\n",
       "8      NYREX      NYREX  1374275832\n",
       "9      NYREX      NYREX  1374275832"
      ]
     },
     "execution_count": 27,
     "metadata": {},
     "output_type": "execute_result"
    }
   ],
   "source": [
    "tablename='referrals'\n",
    "\n",
    "pd.read_csv(read_inserted_table1(dumpfile, tablename),\n",
    "            delimiter=\",\",\n",
    "            error_bad_lines=False).head(10)"
   ]
  },
  {
   "cell_type": "markdown",
   "metadata": {
    "deletable": true,
    "editable": true
   },
   "source": [
    "#### Q1: Is this table different from other previous loaded table? YES\n",
    "#### Q2: Is this table similar to any table in the generic Booter database schema? NO\n",
    "    - This table looks like: \n",
    "    - The blacklist table must to have the columns: \n",
    "    \n",
    "#### Q3: Are there modifications required? \n",
    "    - On the table name: \n",
    "        o \n",
    "    - On the column type: \n",
    "        o    \n",
    "    - On the column name:\n",
    "        o  \n",
    "    - Add required columns:\n",
    "        o \n",
    "    - Split columns:\n",
    "        o "
   ]
  },
  {
   "cell_type": "markdown",
   "metadata": {
    "deletable": true,
    "editable": true
   },
   "source": [
    "## 6.13. Table: 'skype_api'"
   ]
  },
  {
   "cell_type": "markdown",
   "metadata": {
    "deletable": true,
    "editable": true
   },
   "source": [
    "### How this table looks like without modification?"
   ]
  },
  {
   "cell_type": "code",
   "execution_count": 28,
   "metadata": {
    "collapsed": false,
    "deletable": true,
    "editable": true
   },
   "outputs": [
    {
     "data": {
      "text/html": [
       "<div>\n",
       "<table border=\"1\" class=\"dataframe\">\n",
       "  <thead>\n",
       "    <tr style=\"text-align: right;\">\n",
       "      <th></th>\n",
       "      <th>id</th>\n",
       "      <th>ip</th>\n",
       "    </tr>\n",
       "  </thead>\n",
       "  <tbody>\n",
       "    <tr>\n",
       "      <th>0</th>\n",
       "      <td>2</td>\n",
       "      <td>93.114.45.84</td>\n",
       "    </tr>\n",
       "  </tbody>\n",
       "</table>\n",
       "</div>"
      ],
      "text/plain": [
       "   id             ip\n",
       "0   2  93.114.45.84 "
      ]
     },
     "execution_count": 28,
     "metadata": {},
     "output_type": "execute_result"
    }
   ],
   "source": [
    "tablename='skype_api'\n",
    "\n",
    "pd.read_csv(read_inserted_table1(dumpfile, tablename),\n",
    "            delimiter=\",\",\n",
    "            error_bad_lines=False).head(10)"
   ]
  },
  {
   "cell_type": "markdown",
   "metadata": {
    "deletable": true,
    "editable": true
   },
   "source": [
    "#### Q1: Is this table different from other previous loaded table? YES\n",
    "#### Q2: Is this table similar to any table in the generic Booter database schema? NO\n",
    "    - This table looks like: \n",
    "    - The blacklist table must to have the columns: \n",
    "    \n",
    "#### Q3: Are there modifications required? \n",
    "    - On the table name: \n",
    "        o \n",
    "    - On the column type: \n",
    "        o    \n",
    "    - On the column name:\n",
    "        o  \n",
    "    - Add required columns:\n",
    "        o \n",
    "    - Split columns:\n",
    "        o "
   ]
  },
  {
   "cell_type": "markdown",
   "metadata": {
    "deletable": true,
    "editable": true
   },
   "source": [
    "## 6.14. Read the raw table: 'users'"
   ]
  },
  {
   "cell_type": "markdown",
   "metadata": {
    "deletable": true,
    "editable": true
   },
   "source": [
    "### How this table looks like without modification?"
   ]
  },
  {
   "cell_type": "code",
   "execution_count": 29,
   "metadata": {
    "collapsed": false,
    "deletable": true,
    "editable": true
   },
   "outputs": [
    {
     "data": {
      "text/html": [
       "<div>\n",
       "<table border=\"1\" class=\"dataframe\">\n",
       "  <thead>\n",
       "    <tr style=\"text-align: right;\">\n",
       "      <th></th>\n",
       "      <th>ID</th>\n",
       "      <th>username</th>\n",
       "      <th>password</th>\n",
       "      <th>email</th>\n",
       "      <th>rank</th>\n",
       "      <th>membership</th>\n",
       "      <th>expire</th>\n",
       "      <th>status</th>\n",
       "    </tr>\n",
       "  </thead>\n",
       "  <tbody>\n",
       "    <tr>\n",
       "      <th>0</th>\n",
       "      <td>849</td>\n",
       "      <td>NYREX</td>\n",
       "      <td>249381f5c1c97ea37aa66ef7741fecb848d90b35</td>\n",
       "      <td>jymer09@gmail.com</td>\n",
       "      <td>1</td>\n",
       "      <td>56</td>\n",
       "      <td>1690295194</td>\n",
       "      <td>0</td>\n",
       "    </tr>\n",
       "    <tr>\n",
       "      <th>1</th>\n",
       "      <td>850</td>\n",
       "      <td>halo3king</td>\n",
       "      <td>013e8975490bff350a5625ad27ca2fcb611adeed</td>\n",
       "      <td>iiddoser@gmail.com</td>\n",
       "      <td>0</td>\n",
       "      <td>51</td>\n",
       "      <td>1375649949</td>\n",
       "      <td>0</td>\n",
       "    </tr>\n",
       "    <tr>\n",
       "      <th>2</th>\n",
       "      <td>851</td>\n",
       "      <td>gminton</td>\n",
       "      <td>4233137d1c510f2e55ba5cb220b864b11033f156</td>\n",
       "      <td>garretleeminton@gmail.com</td>\n",
       "      <td>0</td>\n",
       "      <td>46</td>\n",
       "      <td>1375345895</td>\n",
       "      <td>0</td>\n",
       "    </tr>\n",
       "    <tr>\n",
       "      <th>3</th>\n",
       "      <td>852</td>\n",
       "      <td>macdown</td>\n",
       "      <td>47215f51d2175d98037a45715c35b6e9c26984ff</td>\n",
       "      <td>marclomeda@gmail.com</td>\n",
       "      <td>0</td>\n",
       "      <td>47</td>\n",
       "      <td>1373525281</td>\n",
       "      <td>0</td>\n",
       "    </tr>\n",
       "    <tr>\n",
       "      <th>4</th>\n",
       "      <td>853</td>\n",
       "      <td>fearlessrevenge</td>\n",
       "      <td>4481a57ab5ff18c58ae0848efd7f4cb86b62f6da</td>\n",
       "      <td>fearlessrevenge@gmail.com</td>\n",
       "      <td>0</td>\n",
       "      <td>54</td>\n",
       "      <td>1688457459</td>\n",
       "      <td>0</td>\n",
       "    </tr>\n",
       "    <tr>\n",
       "      <th>5</th>\n",
       "      <td>854</td>\n",
       "      <td>tntwolve</td>\n",
       "      <td>f5ce60f9b50290be6498ac82dfb316139105d33a</td>\n",
       "      <td>cccamhd.net@gmail.com</td>\n",
       "      <td>0</td>\n",
       "      <td>50</td>\n",
       "      <td>1376049607</td>\n",
       "      <td>0</td>\n",
       "    </tr>\n",
       "    <tr>\n",
       "      <th>6</th>\n",
       "      <td>855</td>\n",
       "      <td>Dynamite</td>\n",
       "      <td>249381f5c1c97ea37aa66ef7741fecb848d90b35</td>\n",
       "      <td>Dynamitepro@gmail.com</td>\n",
       "      <td>1</td>\n",
       "      <td>56</td>\n",
       "      <td>1688496286</td>\n",
       "      <td>0</td>\n",
       "    </tr>\n",
       "    <tr>\n",
       "      <th>7</th>\n",
       "      <td>915</td>\n",
       "      <td>GrindStarter</td>\n",
       "      <td>d02133f76fb1a4548152d09fe929d9ca48ef3d66</td>\n",
       "      <td>bkspud1@hotmail.com</td>\n",
       "      <td>0</td>\n",
       "      <td>0</td>\n",
       "      <td>0</td>\n",
       "      <td>0</td>\n",
       "    </tr>\n",
       "    <tr>\n",
       "      <th>8</th>\n",
       "      <td>857</td>\n",
       "      <td>shadowcreeper</td>\n",
       "      <td>6d4ca8ca522c659bc6d5ae7e1a5d725f4ab489a8</td>\n",
       "      <td>forhaloce@gmail.com</td>\n",
       "      <td>0</td>\n",
       "      <td>0</td>\n",
       "      <td>0</td>\n",
       "      <td>0</td>\n",
       "    </tr>\n",
       "    <tr>\n",
       "      <th>9</th>\n",
       "      <td>858</td>\n",
       "      <td>AngryWaffle</td>\n",
       "      <td>dcdc8b2d0a7955131b67e56602873f6384102669</td>\n",
       "      <td>thetechnow@ymail.com</td>\n",
       "      <td>1</td>\n",
       "      <td>56</td>\n",
       "      <td>1688877340</td>\n",
       "      <td>0</td>\n",
       "    </tr>\n",
       "  </tbody>\n",
       "</table>\n",
       "</div>"
      ],
      "text/plain": [
       "    ID         username                                  password  \\\n",
       "0  849            NYREX  249381f5c1c97ea37aa66ef7741fecb848d90b35   \n",
       "1  850        halo3king  013e8975490bff350a5625ad27ca2fcb611adeed   \n",
       "2  851          gminton  4233137d1c510f2e55ba5cb220b864b11033f156   \n",
       "3  852          macdown  47215f51d2175d98037a45715c35b6e9c26984ff   \n",
       "4  853  fearlessrevenge  4481a57ab5ff18c58ae0848efd7f4cb86b62f6da   \n",
       "5  854         tntwolve  f5ce60f9b50290be6498ac82dfb316139105d33a   \n",
       "6  855         Dynamite  249381f5c1c97ea37aa66ef7741fecb848d90b35   \n",
       "7  915     GrindStarter  d02133f76fb1a4548152d09fe929d9ca48ef3d66   \n",
       "8  857    shadowcreeper  6d4ca8ca522c659bc6d5ae7e1a5d725f4ab489a8   \n",
       "9  858      AngryWaffle  dcdc8b2d0a7955131b67e56602873f6384102669   \n",
       "\n",
       "                       email  rank  membership      expire  status  \n",
       "0          jymer09@gmail.com     1          56  1690295194       0  \n",
       "1         iiddoser@gmail.com     0          51  1375649949       0  \n",
       "2  garretleeminton@gmail.com     0          46  1375345895       0  \n",
       "3       marclomeda@gmail.com     0          47  1373525281       0  \n",
       "4  fearlessrevenge@gmail.com     0          54  1688457459       0  \n",
       "5      cccamhd.net@gmail.com     0          50  1376049607       0  \n",
       "6      Dynamitepro@gmail.com     1          56  1688496286       0  \n",
       "7        bkspud1@hotmail.com     0           0           0       0  \n",
       "8        forhaloce@gmail.com     0           0           0       0  \n",
       "9       thetechnow@ymail.com     1          56  1688877340       0  "
      ]
     },
     "execution_count": 29,
     "metadata": {},
     "output_type": "execute_result"
    }
   ],
   "source": [
    "tablename='users'\n",
    "\n",
    "pd.read_csv(read_inserted_table1(dumpfile, tablename),\n",
    "            delimiter=\",\",\n",
    "            error_bad_lines=False).head(10)"
   ]
  },
  {
   "cell_type": "markdown",
   "metadata": {
    "deletable": true,
    "editable": true
   },
   "source": [
    "#### Q1: Is this table different from other previous loaded table? YES\n",
    "#### Q2: Is this table similar to any table in the generic Booter database schema? YES\n",
    "    - This table looks like: users \n",
    "    \n",
    "#### Q3: Are there modifications required? \n",
    "    - On the table name: \n",
    "        o \n",
    "    - On the column type: \n",
    "        o    \n",
    "    - On the column name:\n",
    "        o ID => userid\n",
    "        o email => useremail\n",
    "        o membership => planid\n",
    "    - Add required columns:\n",
    "        o \n",
    "    - Split columns:\n",
    "        o "
   ]
  },
  {
   "cell_type": "markdown",
   "metadata": {
    "deletable": true,
    "editable": true
   },
   "source": [
    "### Modifying table: 'users'"
   ]
  },
  {
   "cell_type": "code",
   "execution_count": 30,
   "metadata": {
    "collapsed": false,
    "deletable": true,
    "editable": true
   },
   "outputs": [
    {
     "data": {
      "text/html": [
       "<div>\n",
       "<table border=\"1\" class=\"dataframe\">\n",
       "  <thead>\n",
       "    <tr style=\"text-align: right;\">\n",
       "      <th></th>\n",
       "      <th>userid</th>\n",
       "      <th>username</th>\n",
       "      <th>password</th>\n",
       "      <th>useremail</th>\n",
       "      <th>rank</th>\n",
       "      <th>planid</th>\n",
       "      <th>expire</th>\n",
       "      <th>status</th>\n",
       "    </tr>\n",
       "  </thead>\n",
       "  <tbody>\n",
       "    <tr>\n",
       "      <th>0</th>\n",
       "      <td>849</td>\n",
       "      <td>NYREX</td>\n",
       "      <td>249381f5c1c97ea37aa66ef7741fecb848d90b35</td>\n",
       "      <td>jymer09@gmail.com</td>\n",
       "      <td>1</td>\n",
       "      <td>56</td>\n",
       "      <td>1690295194</td>\n",
       "      <td>0</td>\n",
       "    </tr>\n",
       "    <tr>\n",
       "      <th>1</th>\n",
       "      <td>850</td>\n",
       "      <td>halo3king</td>\n",
       "      <td>013e8975490bff350a5625ad27ca2fcb611adeed</td>\n",
       "      <td>iiddoser@gmail.com</td>\n",
       "      <td>0</td>\n",
       "      <td>51</td>\n",
       "      <td>1375649949</td>\n",
       "      <td>0</td>\n",
       "    </tr>\n",
       "    <tr>\n",
       "      <th>2</th>\n",
       "      <td>851</td>\n",
       "      <td>gminton</td>\n",
       "      <td>4233137d1c510f2e55ba5cb220b864b11033f156</td>\n",
       "      <td>garretleeminton@gmail.com</td>\n",
       "      <td>0</td>\n",
       "      <td>46</td>\n",
       "      <td>1375345895</td>\n",
       "      <td>0</td>\n",
       "    </tr>\n",
       "    <tr>\n",
       "      <th>3</th>\n",
       "      <td>852</td>\n",
       "      <td>macdown</td>\n",
       "      <td>47215f51d2175d98037a45715c35b6e9c26984ff</td>\n",
       "      <td>marclomeda@gmail.com</td>\n",
       "      <td>0</td>\n",
       "      <td>47</td>\n",
       "      <td>1373525281</td>\n",
       "      <td>0</td>\n",
       "    </tr>\n",
       "    <tr>\n",
       "      <th>4</th>\n",
       "      <td>853</td>\n",
       "      <td>fearlessrevenge</td>\n",
       "      <td>4481a57ab5ff18c58ae0848efd7f4cb86b62f6da</td>\n",
       "      <td>fearlessrevenge@gmail.com</td>\n",
       "      <td>0</td>\n",
       "      <td>54</td>\n",
       "      <td>1688457459</td>\n",
       "      <td>0</td>\n",
       "    </tr>\n",
       "    <tr>\n",
       "      <th>5</th>\n",
       "      <td>854</td>\n",
       "      <td>tntwolve</td>\n",
       "      <td>f5ce60f9b50290be6498ac82dfb316139105d33a</td>\n",
       "      <td>cccamhd.net@gmail.com</td>\n",
       "      <td>0</td>\n",
       "      <td>50</td>\n",
       "      <td>1376049607</td>\n",
       "      <td>0</td>\n",
       "    </tr>\n",
       "    <tr>\n",
       "      <th>6</th>\n",
       "      <td>855</td>\n",
       "      <td>Dynamite</td>\n",
       "      <td>249381f5c1c97ea37aa66ef7741fecb848d90b35</td>\n",
       "      <td>Dynamitepro@gmail.com</td>\n",
       "      <td>1</td>\n",
       "      <td>56</td>\n",
       "      <td>1688496286</td>\n",
       "      <td>0</td>\n",
       "    </tr>\n",
       "    <tr>\n",
       "      <th>7</th>\n",
       "      <td>915</td>\n",
       "      <td>GrindStarter</td>\n",
       "      <td>d02133f76fb1a4548152d09fe929d9ca48ef3d66</td>\n",
       "      <td>bkspud1@hotmail.com</td>\n",
       "      <td>0</td>\n",
       "      <td>0</td>\n",
       "      <td>0</td>\n",
       "      <td>0</td>\n",
       "    </tr>\n",
       "    <tr>\n",
       "      <th>8</th>\n",
       "      <td>857</td>\n",
       "      <td>shadowcreeper</td>\n",
       "      <td>6d4ca8ca522c659bc6d5ae7e1a5d725f4ab489a8</td>\n",
       "      <td>forhaloce@gmail.com</td>\n",
       "      <td>0</td>\n",
       "      <td>0</td>\n",
       "      <td>0</td>\n",
       "      <td>0</td>\n",
       "    </tr>\n",
       "    <tr>\n",
       "      <th>9</th>\n",
       "      <td>858</td>\n",
       "      <td>AngryWaffle</td>\n",
       "      <td>dcdc8b2d0a7955131b67e56602873f6384102669</td>\n",
       "      <td>thetechnow@ymail.com</td>\n",
       "      <td>1</td>\n",
       "      <td>56</td>\n",
       "      <td>1688877340</td>\n",
       "      <td>0</td>\n",
       "    </tr>\n",
       "  </tbody>\n",
       "</table>\n",
       "</div>"
      ],
      "text/plain": [
       "   userid         username                                  password  \\\n",
       "0     849            NYREX  249381f5c1c97ea37aa66ef7741fecb848d90b35   \n",
       "1     850        halo3king  013e8975490bff350a5625ad27ca2fcb611adeed   \n",
       "2     851          gminton  4233137d1c510f2e55ba5cb220b864b11033f156   \n",
       "3     852          macdown  47215f51d2175d98037a45715c35b6e9c26984ff   \n",
       "4     853  fearlessrevenge  4481a57ab5ff18c58ae0848efd7f4cb86b62f6da   \n",
       "5     854         tntwolve  f5ce60f9b50290be6498ac82dfb316139105d33a   \n",
       "6     855         Dynamite  249381f5c1c97ea37aa66ef7741fecb848d90b35   \n",
       "7     915     GrindStarter  d02133f76fb1a4548152d09fe929d9ca48ef3d66   \n",
       "8     857    shadowcreeper  6d4ca8ca522c659bc6d5ae7e1a5d725f4ab489a8   \n",
       "9     858      AngryWaffle  dcdc8b2d0a7955131b67e56602873f6384102669   \n",
       "\n",
       "                   useremail  rank  planid      expire  status  \n",
       "0          jymer09@gmail.com     1      56  1690295194       0  \n",
       "1         iiddoser@gmail.com     0      51  1375649949       0  \n",
       "2  garretleeminton@gmail.com     0      46  1375345895       0  \n",
       "3       marclomeda@gmail.com     0      47  1373525281       0  \n",
       "4  fearlessrevenge@gmail.com     0      54  1688457459       0  \n",
       "5      cccamhd.net@gmail.com     0      50  1376049607       0  \n",
       "6      Dynamitepro@gmail.com     1      56  1688496286       0  \n",
       "7        bkspud1@hotmail.com     0       0           0       0  \n",
       "8        forhaloce@gmail.com     0       0           0       0  \n",
       "9       thetechnow@ymail.com     1      56  1688877340       0  "
      ]
     },
     "execution_count": 30,
     "metadata": {},
     "output_type": "execute_result"
    }
   ],
   "source": [
    "### Loading the column converting columns with predefined functions\n",
    "df_users = pd.read_csv(read_inserted_table1(dumpfile, tablename),\n",
    "                                delimiter=\",\",\n",
    "                                error_bad_lines=False)\n",
    "\n",
    "###Changing names of columns\n",
    "df_users.rename(columns = {'ID': 'userid',\n",
    "                            'email': 'useremail',\n",
    "                          'membership':'planid'},\n",
    "                         inplace=True)\n",
    "\n",
    "###Showing some lines after adapt the table\n",
    "df_users.head(10)"
   ]
  },
  {
   "cell_type": "markdown",
   "metadata": {
    "deletable": true,
    "editable": true
   },
   "source": [
    "<h2 align='center'>======================================================================\n",
    "<br>Final step of the manual part\n",
    "======================================================================</h2>"
   ]
  },
  {
   "cell_type": "markdown",
   "metadata": {
    "deletable": true,
    "editable": true
   },
   "source": [
    "## 7. Adding missing tables accordingly to our generic Booter database "
   ]
  },
  {
   "cell_type": "code",
   "execution_count": 31,
   "metadata": {
    "collapsed": false,
    "deletable": true,
    "editable": true
   },
   "outputs": [],
   "source": [
    "# df_attacks= pd.DataFrame(columns=['id','userid','username','targetip','targeturl','duration','port','type','date'])\n",
    "# df_blacklist=pd.DataFrame(columns=['id','ip','note'])\n",
    "# df_friendsenemies=pd.DataFrame(columns=['id','ip','note','userid','type'])\n",
    "# df_gateways=pd.DataFrame(columns=['email'])\n",
    "# df_logins=pd.DataFrame(columns=['id','userid','username','userip','date'])\n",
    "# df_payments=pd.DataFrame(columns=['id','userid','username','amountpaid','paymentemail','planid','tid','date'])\n",
    "# df_plans=pd.DataFrame(columns=['planid','planname','plandescr','price','maxboottime','concurrency'])\n",
    "df_servers=pd.DataFrame(columns=['id','ip'])\n",
    "df_settings=pd.DataFrame(columns=['url','sitename','siteemail'])\n",
    "# df_users=pd.DataFrame(columns=['userid','username','useremail','password','expire','plan'])      \n",
    "df_webshells=pd.DataFrame(columns=['id','url','status','lastchecked','attacktype'])"
   ]
  },
  {
   "cell_type": "markdown",
   "metadata": {
    "deletable": true,
    "editable": true
   },
   "source": [
    "<h1 align=\"center\">\n",
    "!!!!!!!!!!!!!!!!!!!!!!!!!!!!!!!!!!!!!!!!!!!!!!!!!!!!!!!!!!!!!!!!!!!!!!!!!!!!!!!!!!!!!!!!!!!!!!!!!!!!!!!!!!!!!!!!!!!!!!!!!!!!!!!!!!!!!!!!!<br>\n",
    "STEP 2: Data Enrichment<br>\n",
    "!!!!!!!!!!!!!!!!!!!!!!!!!!!!!!!!!!!!!!!!!!!!!!!!!!!!!!!!!!!!!!!!!!!!!!!!!!!!!!!!!!!!!!!!!!!!!!!!!!!!!!!!!!!!!!!!!!!!!!!!!!!!!!!</h1> "
   ]
  },
  {
   "cell_type": "markdown",
   "metadata": {
    "deletable": true,
    "editable": true
   },
   "source": [
    "### * Depending of the size of the data, this part can take HOURS. I tested for both small and big datasets and it worked. Be pacient. This will pay-off!"
   ]
  },
  {
   "cell_type": "code",
   "execution_count": 39,
   "metadata": {
    "collapsed": false
   },
   "outputs": [
    {
     "name": "stdout",
     "output_type": "stream",
     "text": [
      "- Table logins enriched (IP to AS): df_logins_iptoasn\n",
      "- Table attacks enriched (IP to AS): df_attacks_iptoasn\n",
      "- Table friendsenemies enriched (IP to AS): df_friendsenemies_iptoasn\n",
      "- Table blacklist enriched (IP to AS): df_blacklist_iptoasn\n",
      "\n",
      "\n",
      "- Table logins enriched (Tor checked): df_logins_torcheck\n",
      "- Table attacks enriched (Tor checked): df_attacks_torcheck\n",
      "- Table friendsenemies enriched (Tor checked): df_friendsenemies_torcheck\n",
      "- Table blacklist enriched (Tor checked): df_blacklist_torcheck\n"
     ]
    }
   ],
   "source": [
    "%run '../data_enrichment.ipynb'"
   ]
  },
  {
   "cell_type": "code",
   "execution_count": 43,
   "metadata": {
    "collapsed": false,
    "deletable": true,
    "editable": true
   },
   "outputs": [],
   "source": [
    "df_attacks['nearestlogin']=\"\"\n",
    "df_attacks['nearestlogin']=pd.to_datetime(df_attacks['nearestlogin'])\n",
    "    \n",
    "if len(df_attacks)>0 and len(df_logins)>0:\n",
    "    #When was the last login of the user that performed attacks\n",
    "    df_attacks['nearestlogin']=\"\"\n",
    "    df_attacks['nearestlogin']=pd.to_datetime(df_attacks['nearestlogin'])\n",
    "\n",
    "    for index, row in df_attacks.head(100).iterrows():\n",
    "        intermediate_df= df_logins[df_logins['username']==row['username']]\n",
    "        nearestlogindate= nearestDate(row['date'],intermediate_df['date'])\n",
    "        df_attacks.set_value(index, 'nearestlogin', nearestlogindate)\n",
    "\n",
    "        #DEBUGGING\n",
    "#         if index % 1000 == 0:\n",
    "#             print(index,\": +1000 records analysed\")"
   ]
  },
  {
   "cell_type": "code",
   "execution_count": null,
   "metadata": {
    "collapsed": false
   },
   "outputs": [],
   "source": [
    "pd.DataFrame(index=(df_attacks['date']-df_attacks['nearestlogin'])).resample('m').count()\n"
   ]
  },
  {
   "cell_type": "code",
   "execution_count": 64,
   "metadata": {
    "collapsed": false
   },
   "outputs": [
    {
     "data": {
      "text/html": [
       "<div>\n",
       "<table border=\"1\" class=\"dataframe\">\n",
       "  <thead>\n",
       "    <tr style=\"text-align: right;\">\n",
       "      <th></th>\n",
       "    </tr>\n",
       "  </thead>\n",
       "  <tbody>\n",
       "    <tr>\n",
       "      <th>0 days 01:00:27</th>\n",
       "    </tr>\n",
       "    <tr>\n",
       "      <th>0 days 01:00:42</th>\n",
       "    </tr>\n",
       "    <tr>\n",
       "      <th>0 days 03:09:03</th>\n",
       "    </tr>\n",
       "    <tr>\n",
       "      <th>0 days 02:49:30</th>\n",
       "    </tr>\n",
       "    <tr>\n",
       "      <th>0 days 00:25:00</th>\n",
       "    </tr>\n",
       "    <tr>\n",
       "      <th>2 days 19:20:15</th>\n",
       "    </tr>\n",
       "    <tr>\n",
       "      <th>0 days 01:24:54</th>\n",
       "    </tr>\n",
       "    <tr>\n",
       "      <th>0 days 00:26:05</th>\n",
       "    </tr>\n",
       "    <tr>\n",
       "      <th>0 days 00:39:16</th>\n",
       "    </tr>\n",
       "    <tr>\n",
       "      <th>0 days 00:01:45</th>\n",
       "    </tr>\n",
       "    <tr>\n",
       "      <th>0 days 00:01:05</th>\n",
       "    </tr>\n",
       "    <tr>\n",
       "      <th>0 days 00:00:47</th>\n",
       "    </tr>\n",
       "    <tr>\n",
       "      <th>0 days 00:25:50</th>\n",
       "    </tr>\n",
       "    <tr>\n",
       "      <th>0 days 00:37:01</th>\n",
       "    </tr>\n",
       "    <tr>\n",
       "      <th>0 days 00:49:56</th>\n",
       "    </tr>\n",
       "    <tr>\n",
       "      <th>0 days 04:05:01</th>\n",
       "    </tr>\n",
       "    <tr>\n",
       "      <th>0 days 04:14:02</th>\n",
       "    </tr>\n",
       "    <tr>\n",
       "      <th>0 days 04:27:05</th>\n",
       "    </tr>\n",
       "    <tr>\n",
       "      <th>0 days 04:34:49</th>\n",
       "    </tr>\n",
       "    <tr>\n",
       "      <th>0 days 04:38:27</th>\n",
       "    </tr>\n",
       "    <tr>\n",
       "      <th>0 days 04:41:53</th>\n",
       "    </tr>\n",
       "    <tr>\n",
       "      <th>0 days 00:01:05</th>\n",
       "    </tr>\n",
       "    <tr>\n",
       "      <th>0 days 00:02:42</th>\n",
       "    </tr>\n",
       "    <tr>\n",
       "      <th>0 days 07:51:18</th>\n",
       "    </tr>\n",
       "    <tr>\n",
       "      <th>0 days 00:00:52</th>\n",
       "    </tr>\n",
       "    <tr>\n",
       "      <th>0 days 00:02:38</th>\n",
       "    </tr>\n",
       "    <tr>\n",
       "      <th>0 days 00:23:09</th>\n",
       "    </tr>\n",
       "    <tr>\n",
       "      <th>0 days 01:49:31</th>\n",
       "    </tr>\n",
       "    <tr>\n",
       "      <th>0 days 01:38:14</th>\n",
       "    </tr>\n",
       "    <tr>\n",
       "      <th>0 days 01:10:31</th>\n",
       "    </tr>\n",
       "    <tr>\n",
       "      <th>...</th>\n",
       "    </tr>\n",
       "    <tr>\n",
       "      <th>NaT</th>\n",
       "    </tr>\n",
       "    <tr>\n",
       "      <th>NaT</th>\n",
       "    </tr>\n",
       "    <tr>\n",
       "      <th>NaT</th>\n",
       "    </tr>\n",
       "    <tr>\n",
       "      <th>NaT</th>\n",
       "    </tr>\n",
       "    <tr>\n",
       "      <th>NaT</th>\n",
       "    </tr>\n",
       "    <tr>\n",
       "      <th>NaT</th>\n",
       "    </tr>\n",
       "    <tr>\n",
       "      <th>NaT</th>\n",
       "    </tr>\n",
       "    <tr>\n",
       "      <th>NaT</th>\n",
       "    </tr>\n",
       "    <tr>\n",
       "      <th>NaT</th>\n",
       "    </tr>\n",
       "    <tr>\n",
       "      <th>NaT</th>\n",
       "    </tr>\n",
       "    <tr>\n",
       "      <th>NaT</th>\n",
       "    </tr>\n",
       "    <tr>\n",
       "      <th>NaT</th>\n",
       "    </tr>\n",
       "    <tr>\n",
       "      <th>NaT</th>\n",
       "    </tr>\n",
       "    <tr>\n",
       "      <th>NaT</th>\n",
       "    </tr>\n",
       "    <tr>\n",
       "      <th>NaT</th>\n",
       "    </tr>\n",
       "    <tr>\n",
       "      <th>NaT</th>\n",
       "    </tr>\n",
       "    <tr>\n",
       "      <th>NaT</th>\n",
       "    </tr>\n",
       "    <tr>\n",
       "      <th>NaT</th>\n",
       "    </tr>\n",
       "    <tr>\n",
       "      <th>NaT</th>\n",
       "    </tr>\n",
       "    <tr>\n",
       "      <th>NaT</th>\n",
       "    </tr>\n",
       "    <tr>\n",
       "      <th>NaT</th>\n",
       "    </tr>\n",
       "    <tr>\n",
       "      <th>NaT</th>\n",
       "    </tr>\n",
       "    <tr>\n",
       "      <th>NaT</th>\n",
       "    </tr>\n",
       "    <tr>\n",
       "      <th>NaT</th>\n",
       "    </tr>\n",
       "    <tr>\n",
       "      <th>NaT</th>\n",
       "    </tr>\n",
       "    <tr>\n",
       "      <th>NaT</th>\n",
       "    </tr>\n",
       "    <tr>\n",
       "      <th>NaT</th>\n",
       "    </tr>\n",
       "    <tr>\n",
       "      <th>NaT</th>\n",
       "    </tr>\n",
       "    <tr>\n",
       "      <th>NaT</th>\n",
       "    </tr>\n",
       "    <tr>\n",
       "      <th>NaT</th>\n",
       "    </tr>\n",
       "  </tbody>\n",
       "</table>\n",
       "<p>1993 rows × 0 columns</p>\n",
       "</div>"
      ],
      "text/plain": [
       "Empty DataFrame\n",
       "Columns: []\n",
       "Index: [0 days 01:00:27, 0 days 01:00:42, 0 days 03:09:03, 0 days 02:49:30, 0 days 00:25:00, 2 days 19:20:15, 0 days 01:24:54, 0 days 00:26:05, 0 days 00:39:16, 0 days 00:01:45, 0 days 00:01:05, 0 days 00:00:47, 0 days 00:25:50, 0 days 00:37:01, 0 days 00:49:56, 0 days 04:05:01, 0 days 04:14:02, 0 days 04:27:05, 0 days 04:34:49, 0 days 04:38:27, 0 days 04:41:53, 0 days 00:01:05, 0 days 00:02:42, 0 days 07:51:18, 0 days 00:00:52, 0 days 00:02:38, 0 days 00:23:09, 0 days 01:49:31, 0 days 01:38:14, 0 days 01:10:31, 0 days 00:23:08, 0 days 00:01:35, 0 days 00:01:47, 0 days 00:01:39, 0 days 00:01:49, 0 days 00:12:26, 0 days 00:00:37, 0 days 00:00:29, 0 days 00:08:17, 0 days 00:01:33, 0 days 01:07:56, 0 days 01:03:56, 0 days 00:05:58, 0 days 01:49:12, 0 days 01:49:34, 0 days 02:15:14, 0 days 02:22:02, 0 days 02:22:13, 0 days 03:29:18, 0 days 00:00:53, 0 days 00:03:00, 0 days 00:06:33, 0 days 00:08:42, 0 days 00:13:00, 0 days 00:01:47, 0 days 00:04:38, 0 days 00:06:10, 0 days 00:07:50, 0 days 00:09:11, 0 days 00:11:16, 0 days 00:11:33, 0 days 00:14:17, 0 days 00:00:52, 0 days 00:00:15, 0 days 00:00:18, 0 days 00:00:30, 0 days 00:00:50, 0 days 00:01:05, 0 days 00:45:53, 0 days 00:46:05, 0 days 00:01:08, 0 days 00:05:40, 0 days 00:17:27, 0 days 00:01:21, 0 days 00:04:57, 0 days 00:33:55, 0 days 00:38:22, 0 days 00:00:28, 0 days 00:18:26, 0 days 00:18:36, 0 days 00:31:16, 0 days 00:37:51, 0 days 00:51:46, 0 days 00:59:55, 0 days 01:20:36, 0 days 00:00:27, 0 days 00:00:37, 0 days 02:33:17, 0 days 02:33:28, 0 days 03:20:52, 0 days 00:02:44, 0 days 00:00:40, 0 days 00:00:33, 0 days 00:33:09, 0 days 00:09:46, 0 days 00:00:40, 0 days 00:01:08, 0 days 00:00:34, 0 days 02:58:05, 0 days 00:02:46, ...]\n",
       "\n",
       "[1993 rows x 0 columns]"
      ]
     },
     "execution_count": 64,
     "metadata": {},
     "output_type": "execute_result"
    }
   ],
   "source": [
    "pd.DataFrame(index=(df_attacks['date']-df_attacks['nearestlogin']))"
   ]
  },
  {
   "cell_type": "code",
   "execution_count": null,
   "metadata": {
    "collapsed": false,
    "deletable": true,
    "editable": true
   },
   "outputs": [],
   "source": [
    "if len(df_attacks['nearestlogin'].value_counts()) >1:\n",
    "    df_attacks_and_logins = pd.merge(df_attacks_extended,\n",
    "                                     df_logins_extended,\n",
    "                                     how = 'left',\n",
    "                                     left_on = ['username','nearestlogin'],\n",
    "                                     right_on = ['username','date'])\n",
    "else:\n",
    "    df_attacks_and_logins=\"\""
   ]
  },
  {
   "cell_type": "markdown",
   "metadata": {
    "deletable": true,
    "editable": true
   },
   "source": [
    "<h2 align=\"center\">\n",
    "!!!!!!!!!!!!!!!!!!!!!!!!!!!!!!!!!!!!!!!!!!!!!!!!!!!!!!!!!!!!!!!!!!!!!!!!!!!!!!!!!!!!!!!!!!!!!!!!!!!!!!!!!!!!!!!!!!!!!!!!!!!!!!!!!!!!!!!!!<br>\n",
    "STEP 3: Automatic Analysis\n",
    "<br>\n",
    "!!!!!!!!!!!!!!!!!!!!!!!!!!!!!!!!!!!!!!!!!!!!!!!!!!!!!!!!!!!!!!!!!!!!!!!!!!!!!!!!!!!!!!!!!!!!!!!!!!!!!!!!!!!!!!!!!!!!!!!!!!!!!!!</h3> "
   ]
  },
  {
   "cell_type": "markdown",
   "metadata": {
    "deletable": true,
    "editable": true
   },
   "source": [
    "## * Libraries that I use to plot figs"
   ]
  },
  {
   "cell_type": "code",
   "execution_count": null,
   "metadata": {
    "collapsed": true,
    "deletable": true,
    "editable": true
   },
   "outputs": [],
   "source": [
    "import matplotlib.pyplot as plt\n",
    "from matplotlib_venn import *\n",
    "%matplotlib inline\n",
    "\n",
    "import seaborn as sns\n",
    "import itertools\n",
    "\n",
    "plt.style.use('seaborn-muted')\n",
    "# plt.rcParams['font.family'] = 'serif'\n",
    "# plt.rcParams['font.size'] = 12\n",
    "\n",
    "import warnings\n",
    "warnings.filterwarnings('ignore')"
   ]
  },
  {
   "cell_type": "markdown",
   "metadata": {
    "deletable": true,
    "editable": true
   },
   "source": [
    "## A.1. Number of records per table (part of the generic Booter database schema)"
   ]
  },
  {
   "cell_type": "code",
   "execution_count": null,
   "metadata": {
    "collapsed": false,
    "deletable": true,
    "editable": true
   },
   "outputs": [],
   "source": [
    "len(df_users),len(df_logins),len(df_attacks),len(df_payments),len(df_settings),len(df_gateways), len(df_friendsenemies),len(df_blacklist),len(df_webshells),len(df_servers),len(df_plans)"
   ]
  },
  {
   "cell_type": "markdown",
   "metadata": {
    "deletable": true,
    "editable": true
   },
   "source": [
    "## A.2. Number of users, customers, attackers, and their intersection"
   ]
  },
  {
   "cell_type": "code",
   "execution_count": null,
   "metadata": {
    "collapsed": false,
    "deletable": true,
    "editable": true
   },
   "outputs": [],
   "source": [
    "if len(set(df_users['userid'].unique())) > 1:\n",
    "    users_set=set(df_users['userid'].unique())\n",
    "else:\n",
    "    users_set=set(df_users['username'].unique())\n",
    "    \n",
    "if len(set(df_logins['userid'].unique())) > 1:\n",
    "    userslogin_set=set(df_logins['userid'].unique())\n",
    "else:\n",
    "    userslogin_set=set(df_logins['username'].unique())\n",
    "\n",
    "if len(set(df_payments['userid'].unique())) > 1:\n",
    "    customers_set=set(df_payments['userid'].unique())\n",
    "else:\n",
    "    customers_set=set(df_payments['username'].unique())\n",
    "\n",
    "if len(set(df_attacks['userid'].unique())) > 1:\n",
    "    attackers_set=set(df_attacks['userid'].unique())\n",
    "else:\n",
    "    attackers_set=set(df_attacks['username'].unique())\n",
    "\n",
    "intersec_customers_attacker=pd.Series(list(customers_set.intersection(attackers_set)))\n",
    "intersec_users_customers=pd.Series(list(users_set.intersection(customers_set)))\n",
    "intersec_users_attackers=pd.Series(list(users_set.intersection(attackers_set)))\n",
    "intersec_users_customers_attackers=pd.Series(list(users_set.intersection(customers_set).intersection(attackers_set)))"
   ]
  },
  {
   "cell_type": "code",
   "execution_count": null,
   "metadata": {
    "collapsed": false,
    "deletable": true,
    "editable": true
   },
   "outputs": [],
   "source": [
    "len(users_set),len(userslogin_set),len(customers_set),len(attackers_set)"
   ]
  },
  {
   "cell_type": "code",
   "execution_count": null,
   "metadata": {
    "collapsed": false,
    "deletable": true,
    "editable": true
   },
   "outputs": [],
   "source": [
    "fig = plt.figure(figsize=(4,3))\n",
    "fig.suptitle('Users, Customers & Attackers', fontsize=14)\n",
    "\n",
    "ax = plt.subplot2grid((1,1), (0,0))\n",
    "\n",
    "venn=venn3(ax=ax,subsets = {'001':len(attackers_set)-len(intersec_customers_attacker)-len(intersec_users_attackers)+len(intersec_users_customers_attackers), \n",
    "                            '010':len(customers_set)-len(intersec_users_customers)-len(intersec_customers_attacker)+len(intersec_users_customers_attackers), \n",
    "                            '011':len(intersec_customers_attacker)-len(intersec_users_customers_attackers),\n",
    "                            '100':len(users_set)-len(intersec_users_customers)-len(intersec_users_attackers)+len(intersec_users_customers_attackers),\n",
    "                            '101':len(intersec_users_attackers)-len(intersec_users_customers_attackers),\n",
    "                            '110':len(intersec_users_customers)-len(intersec_users_customers_attackers),\n",
    "                            '111':len(intersec_users_customers_attackers)},\\\n",
    "          set_labels = ('Users', 'Customers','Attackers'),\\\n",
    "          alpha=1)\n",
    "try:\n",
    "    venn.get_patch_by_id('100').set_color('#404096')\n",
    "except:\n",
    "    print(\"*Users set is empty!\")  \n",
    "    \n",
    "try:\n",
    "    venn.get_patch_by_id('110').set_color('#DEA73A')\n",
    "except:\n",
    "    print(\"*Customers set is empty!\")   \n",
    "\n",
    "try:\n",
    "    venn.get_patch_by_id('001').set_color('#D92120')\n",
    "except:\n",
    "    print(\"*Attackers set is empty!\")\n",
    "\n",
    "fig.show()\n",
    "# fig.savefig('../figs/timeseries_attacks.eps', format='eps', dpi=1200) "
   ]
  },
  {
   "cell_type": "markdown",
   "metadata": {
    "deletable": true,
    "editable": true
   },
   "source": [
    "## A.3. Distribution of login times per user"
   ]
  },
  {
   "cell_type": "code",
   "execution_count": null,
   "metadata": {
    "collapsed": false,
    "deletable": true,
    "editable": true
   },
   "outputs": [],
   "source": [
    "if len(df_logins['userid'].value_counts()) > 0:\n",
    "    num_distinct_logins_per_user=df_logins['userid'].value_counts()\n",
    "else:\n",
    "    num_distinct_logins_per_user=df_logins['username'].value_counts()\n",
    "\n",
    "freq_distinct_logins_per_user=num_distinct_logins_per_user.value_counts()\n",
    "cum_dist_user_logins = np.linspace(0.,1.,len(num_distinct_logins_per_user))\n",
    "cdf_user_logins = pd.Series(cum_dist_user_logins, index=num_distinct_logins_per_user.sort_values())"
   ]
  },
  {
   "cell_type": "code",
   "execution_count": null,
   "metadata": {
    "collapsed": false,
    "deletable": true,
    "editable": true
   },
   "outputs": [],
   "source": [
    "if len(num_distinct_logins_per_user)>0:\n",
    "    fig = plt.figure(figsize=(6, 3))\n",
    "    fig.suptitle('* Distribution of Login Times by Users:', fontsize=14, y=1.05,x=0.35)\n",
    "    \n",
    "    #Plot CDF\n",
    "    ax1 = plt.subplot2grid((1,2), (0,0))\n",
    "    ax1 = cdf_user_logins.plot(ax=ax1,lw=2, drawstyle='steps',legend=False)\n",
    "    ax1.set_xlabel(\"# logins\")\n",
    "    ax1.set_ylabel(\"CDF of Users\")\n",
    "    ax1.set_ylim(0,1.05)\n",
    "    ax1.set_title(\"\")\n",
    "    plt.setp(ax1.xaxis.get_majorticklabels(), rotation=45)\n",
    "\n",
    "    \n",
    "    ax2 = plt.subplot2grid((1,2), (0,1))\n",
    "    freq_distinct_logins_per_user.plot(ax=ax2,kind='pie', \n",
    "                                       labels=None, \n",
    "                                       legend=False,\n",
    "                                       startangle=270,\n",
    "#                                        colors=sns.color_palette()\n",
    "                                       )\n",
    "    ax2.set_ylabel(\"\")\n",
    "    \n",
    "    \n",
    "    \n",
    "    ####\n",
    "    # For Pie Chart Better Legend box\n",
    "    porcent = (100.*freq_distinct_logins_per_user.values)/(freq_distinct_logins_per_user.values.sum())\n",
    "    labels = ['{0} - {1:1.2f} %'.\\\n",
    "              format(i,j) for i,j in zip(freq_distinct_logins_per_user.index, porcent)]\n",
    "    # To Sort Legend (defaulf: keeps the same order)\n",
    "#     patches, labels, dummy =  zip(*sorted(zip(patches, labels, freq_distinct_logins_per_user.values),\n",
    "#                                           key=lambda x: x[2],\n",
    "#                                           reverse=True))\n",
    "    legend_show_top=10\n",
    "    ax2.legend(ax2.patches[0:legend_show_top], \n",
    "               labels[0:legend_show_top], \n",
    "               bbox_to_anchor=(1.5, 1.),\n",
    "               fontsize=10)\n",
    "    ####\n",
    "    \n",
    "    fig.tight_layout()\n",
    "    fig.show()\n",
    "    fig.savefig('figs/login_times.eps', bbox_inches='tight',format='eps', dpi=1200)\n",
    "else:\n",
    "    print(\"Unfortunately, there is no data available!\")\n"
   ]
  },
  {
   "cell_type": "markdown",
   "metadata": {
    "deletable": true,
    "editable": true
   },
   "source": [
    "## 5.3. Number of Users that Login via TOR"
   ]
  },
  {
   "cell_type": "code",
   "execution_count": null,
   "metadata": {
    "collapsed": false,
    "deletable": true,
    "editable": true
   },
   "outputs": [],
   "source": [
    "len(df_logins_torcheck[df_logins_torcheck['tor']==True]['userip'].value_counts())"
   ]
  },
  {
   "cell_type": "markdown",
   "metadata": {
    "deletable": true,
    "editable": true
   },
   "source": [
    "## 5.4. Number of Distinct IP addresses by Users"
   ]
  },
  {
   "cell_type": "code",
   "execution_count": null,
   "metadata": {
    "collapsed": false,
    "deletable": true,
    "editable": true
   },
   "outputs": [],
   "source": [
    "if len(df_logins.groupby(['userid','userip']).size().reset_index()['userid'].value_counts()) >0:\n",
    "    num_distinct_ips_per_user=df_logins.groupby(['userid','userip']).size().reset_index()['userid'].value_counts()\n",
    "else:\n",
    "    num_distinct_ips_per_user=df_logins.groupby(['username','userip']).size().reset_index()['username'].value_counts()\n",
    "    \n",
    "freq_distinct_ips_per_user=num_distinct_ips_per_user.value_counts()\n",
    "cum_dist_user_ips = np.linspace(0.,1.,len(num_distinct_ips_per_user))\n",
    "cdf_user_ips = pd.Series(cum_dist_user_ips, index=num_distinct_ips_per_user.sort_values())"
   ]
  },
  {
   "cell_type": "code",
   "execution_count": null,
   "metadata": {
    "collapsed": false,
    "deletable": true,
    "editable": true
   },
   "outputs": [],
   "source": [
    "if len(num_distinct_ips_per_user)>0:\n",
    "    fig = plt.figure(figsize=(6, 3))\n",
    "    fig.suptitle('* Distribution of Distinct IP address used by Users:', fontsize=14, y=1.05, x=0.4)\n",
    "\n",
    "    ax1 = plt.subplot2grid((1,2), (0,0))\n",
    "    ax1 = cdf_user_ips.plot( ax=ax1,lw=2, drawstyle='steps',legend=False)\n",
    "    ax1.set_xlabel(\"# IPs\")\n",
    "    ax1.set_ylabel(\"CDF of Users\")\n",
    "    ax1.set_ylim(0,1.05)\n",
    "    plt.setp(ax1.xaxis.get_majorticklabels(), rotation=45)\n",
    "    \n",
    "    ax2 = plt.subplot2grid((1,2), (0,1))\n",
    "    freq_distinct_ips_per_user.plot(ax=ax2,kind='pie',\n",
    "                                    labels=None,legend=False,\n",
    "                                       startangle=270,\n",
    "#                                        colors=sns.color_palette()\n",
    "                                       )\n",
    "    ax2.set_ylabel(\"\")\n",
    "    ####\n",
    "    # For Pie Chart Better Legend box\n",
    "    porcent = (100.*freq_distinct_ips_per_user.values)/(freq_distinct_ips_per_user.values.sum())\n",
    "    labels = ['{0} - {1:1.2f} %'.\\\n",
    "              format(i,j) for i,j in zip(freq_distinct_ips_per_user.index, porcent)]\n",
    "    # To Sort Legend (defaulf: keeps the same order)\n",
    "#     patches, labels, dummy =  zip(*sorted(zip(patches, labels, freq_distinct_logins_per_user.values),\n",
    "#                                           key=lambda x: x[2],\n",
    "#                                           reverse=True))\n",
    "    legend_show_top=10\n",
    "    ax2.legend(ax2.patches[0:legend_show_top], \n",
    "               labels[0:legend_show_top], \n",
    "               bbox_to_anchor=(1.5, 1.),\n",
    "               fontsize=10)\n",
    "    ####\n",
    "    \n",
    "    fig.tight_layout()\n",
    "    fig.show()\n",
    "    fig.savefig('figs/num_ips_by_users.eps', bbox_inches='tight',format='eps', dpi=1200)\n",
    "else:\n",
    "    print(\"Unfortunately, there is no data available!\")\n"
   ]
  },
  {
   "cell_type": "markdown",
   "metadata": {
    "deletable": true,
    "editable": true
   },
   "source": [
    "## 5.5. Number of Payments by Users"
   ]
  },
  {
   "cell_type": "code",
   "execution_count": null,
   "metadata": {
    "collapsed": false,
    "deletable": true,
    "editable": true
   },
   "outputs": [],
   "source": [
    "if len(df_payments['userid'].value_counts())>0:\n",
    "    num_distinct_payments_per_user=df_payments['userid'].value_counts()\n",
    "else:\n",
    "    num_distinct_payments_per_user=df_payments['username'].value_counts()\n",
    "\n",
    "freq_distinct_payments_per_user=num_distinct_payments_per_user.value_counts()\n",
    "cum_dist_user_payments = np.linspace(0.,1.,len(num_distinct_payments_per_user))\n",
    "cdf_user_payments = pd.Series(cum_dist_user_payments, index=num_distinct_payments_per_user.sort_values())"
   ]
  },
  {
   "cell_type": "code",
   "execution_count": null,
   "metadata": {
    "collapsed": false,
    "deletable": true,
    "editable": true
   },
   "outputs": [],
   "source": [
    "if len(num_distinct_payments_per_user)>0:\n",
    "    fig = plt.figure(figsize=(6, 3))\n",
    "    fig.suptitle('* Distribution of Number of Payments by Users:', fontsize=14, y=1.05, x=0.4)\n",
    "\n",
    "    ax1 = plt.subplot2grid((1,2), (0,0))\n",
    "    ax1 = cdf_user_payments.plot( ax=ax1,lw=2, drawstyle='steps',legend=False)\n",
    "    ax1.set_xlabel(\"# Payment\")\n",
    "    ax1.set_ylabel(\"CDF of Users\")\n",
    "    ax1.set_ylim(0,1.05)\n",
    "    plt.setp(ax1.xaxis.get_majorticklabels(), rotation=45)\n",
    "    \n",
    "    ax2 = plt.subplot2grid((1,2), (0,1))\n",
    "    freq_distinct_payments_per_user.plot(ax=ax2,kind='pie', \n",
    "                                         labels=None,legend=False,\n",
    "                                         startangle=270)\n",
    "    ax2.set_ylabel(\"\")\n",
    "    ####\n",
    "    # For Pie Chart Better Legend box\n",
    "    porcent = (100.*freq_distinct_payments_per_user.values)/(freq_distinct_payments_per_user.values.sum())\n",
    "    labels = ['{0} - {1:1.2f} %'.\\\n",
    "              format(i,j) for i,j in zip(freq_distinct_payments_per_user.index, porcent)]\n",
    "    # To Sort Legend (defaulf: keeps the same order)\n",
    "#     patches, labels, dummy =  zip(*sorted(zip(patches, labels, freq_distinct_logins_per_user.values),\n",
    "#                                           key=lambda x: x[2],\n",
    "#                                           reverse=True))\n",
    "    legend_show_top=10\n",
    "    ax2.legend(ax2.patches[0:legend_show_top], \n",
    "               labels[0:legend_show_top], \n",
    "               bbox_to_anchor=(1.55, 1.),\n",
    "               fontsize=10)\n",
    "    ####\n",
    "    fig.tight_layout()\n",
    "    fig.show()\n",
    "    fig.savefig('figs/payments_distribution.eps', bbox_inches='tight',format='eps', dpi=1200)\n",
    "else:\n",
    "    print(\"Unfortunately, there is no data available!\")\n"
   ]
  },
  {
   "cell_type": "markdown",
   "metadata": {
    "deletable": true,
    "editable": true
   },
   "source": [
    "## 5.6. Total Amount of Money Earned"
   ]
  },
  {
   "cell_type": "code",
   "execution_count": null,
   "metadata": {
    "collapsed": false,
    "deletable": true,
    "editable": true
   },
   "outputs": [],
   "source": [
    "if len(df_payments['amountpaid']) >0:\n",
    "    total_earned=df_payments['amountpaid'].values.sum()\n",
    "    'US$ {:,.2f}'.format(float(total_earned))\n",
    "else:\n",
    "    print(\"Unfortunately, there is no data available!\")"
   ]
  },
  {
   "cell_type": "markdown",
   "metadata": {
    "deletable": true,
    "editable": true
   },
   "source": [
    "## 5.7. Amount of Money Paid by Users"
   ]
  },
  {
   "cell_type": "code",
   "execution_count": null,
   "metadata": {
    "collapsed": true,
    "deletable": true,
    "editable": true
   },
   "outputs": [],
   "source": [
    "num_distinct_payments_money_per_user=df_payments['amountpaid'].value_counts()\n",
    "freq_distinct_payments_money_per_user=num_distinct_payments_money_per_user.value_counts()\n",
    "cum_dist_user_payments_money = np.linspace(0.,1.,len(num_distinct_payments_money_per_user))\n",
    "cdf_user_payments_money = pd.Series(cum_dist_user_payments_money, index=num_distinct_payments_money_per_user.sort_values())"
   ]
  },
  {
   "cell_type": "code",
   "execution_count": null,
   "metadata": {
    "collapsed": false,
    "deletable": true,
    "editable": true
   },
   "outputs": [],
   "source": [
    "if len(num_distinct_payments_money_per_user)>0:\n",
    "    fig = plt.figure(figsize=(6, 3))\n",
    "    fig.suptitle('* Distribution of Money Payments by Users:', fontsize=14, y=1.05, x=0.4)\n",
    "\n",
    "    ax1 = plt.subplot2grid((1,2), (0,0))\n",
    "    ax1 = cdf_user_payments_money.plot( ax=ax1,lw=2, drawstyle='steps',legend=False)\n",
    "    ax1.set_xlabel(\"$\")\n",
    "    ax1.set_ylabel(\"CDF of Users\")\n",
    "    ax1.set_ylim(0,1.05)\n",
    "    plt.setp(ax1.xaxis.get_majorticklabels(), rotation=45)\n",
    "\n",
    "    ax2 = plt.subplot2grid((1,2), (0,1))\n",
    "    freq_distinct_payments_money_per_user.plot(ax=ax2,kind='pie', \n",
    "                                               labels=None,legend=False,\n",
    "                                               startangle=270)\n",
    "    ax2.set_ylabel(\"\")\n",
    "    ####\n",
    "    # For Pie Chart Better Legend box\n",
    "    porcent = (100.*freq_distinct_payments_money_per_user.values)/(freq_distinct_payments_money_per_user.values.sum())\n",
    "    labels = ['${0:1.2f} - {1:1.2f} %'.\\\n",
    "              format(i,j) for i,j in zip(freq_distinct_payments_money_per_user.index, porcent)]\n",
    "    # To Sort Legend (defaulf: keeps the same order)\n",
    "#     patches, labels, dummy =  zip(*sorted(zip(patches, labels, freq_distinct_logins_per_user.values),\n",
    "#                                           key=lambda x: x[2],\n",
    "#                                           reverse=True))\n",
    "    legend_show_top=10\n",
    "    ax2.legend(ax2.patches[0:legend_show_top], \n",
    "               labels[0:legend_show_top], \n",
    "               bbox_to_anchor=(1.6, 1.),\n",
    "               fontsize=10)\n",
    "    ####\n",
    "    fig.tight_layout()\n",
    "    fig.show()\n",
    "    fig.savefig('figs/distribution_amount_paid.eps', bbox_inches='tight',format='eps', dpi=1200)\n",
    "else:\n",
    "    print(\"Unfortunately, there is no data available!\")\n"
   ]
  },
  {
   "cell_type": "markdown",
   "metadata": {
    "collapsed": false,
    "deletable": true,
    "editable": true
   },
   "source": [
    "## 5.8. Countries from where Users Access Booters"
   ]
  },
  {
   "cell_type": "code",
   "execution_count": null,
   "metadata": {
    "collapsed": true,
    "deletable": true,
    "editable": true
   },
   "outputs": [],
   "source": [
    "logins_country_distribution_sorted = df_logins_iptoasn['country'].value_counts(sort=True,ascending=True)\n",
    "logins_country_distribution = df_logins_iptoasn['country'].value_counts()"
   ]
  },
  {
   "cell_type": "code",
   "execution_count": null,
   "metadata": {
    "collapsed": false,
    "deletable": true,
    "editable": true
   },
   "outputs": [],
   "source": [
    "if len(logins_country_distribution)>0:\n",
    "    fig = plt.figure(figsize=(6, 3))\n",
    "    fig.suptitle('* Users Accessing from Countries:', fontsize=14, y=1.05, x=0.28)\n",
    "\n",
    "    ax1 = plt.subplot2grid((1,2), (0,0))\n",
    "    logins_country_distribution_sorted.plot(ax=ax1,kind='barh')\n",
    "    ax1.set_ylabel(\"# access\")\n",
    "    ax1.set_xlabel(\"Country\")\n",
    "    plt.setp(ax1.xaxis.get_majorticklabels(), rotation=45)\n",
    "\n",
    "    ax2 = plt.subplot2grid((1,2), (0,1))\n",
    "    logins_country_distribution.plot(ax=ax2,kind='pie', \n",
    "                                     labels=None,legend=False,\n",
    "                                     startangle=270)\n",
    "    ax2.set_ylabel(\"\")\n",
    "    ####\n",
    "    # For Pie Chart Better Legend box\n",
    "    porcent = (100.*logins_country_distribution.values)/(logins_country_distribution.values.sum())\n",
    "    labels = ['{0} - {1:1.2f} %'.\\\n",
    "              format(i,j) for i,j in zip(logins_country_distribution.index, porcent)]\n",
    "    # To Sort Legend (defaulf: keeps the same order)\n",
    "#     patches, labels, dummy =  zip(*sorted(zip(patches, labels, freq_distinct_logins_per_user.values),\n",
    "#                                           key=lambda x: x[2],\n",
    "#                                           reverse=True))\n",
    "    legend_show_top=10\n",
    "    ax2.legend(ax2.patches[0:legend_show_top], \n",
    "               labels[0:legend_show_top], \n",
    "               bbox_to_anchor=(1.55, 1.),\n",
    "               fontsize=10)\n",
    "    ####\n",
    "    fig.tight_layout()\n",
    "    fig.show()\n",
    "    fig.savefig('figs/user_countries.eps', bbox_inches='tight',format='eps', dpi=1200)\n",
    "else:\n",
    "    print(\"Unfortunately, there is no data available!\")"
   ]
  },
  {
   "cell_type": "markdown",
   "metadata": {
    "deletable": true,
    "editable": true
   },
   "source": [
    "## 5.9. Countries of Blacklisted IPs"
   ]
  },
  {
   "cell_type": "code",
   "execution_count": null,
   "metadata": {
    "collapsed": true,
    "deletable": true,
    "editable": true
   },
   "outputs": [],
   "source": [
    "blacklist_country_distribution=df_blacklist_iptoasn['country'].value_counts()\n",
    "blacklist_country_distribution_sorted=df_blacklist_iptoasn['country'].value_counts(sort=True,ascending=True)"
   ]
  },
  {
   "cell_type": "code",
   "execution_count": null,
   "metadata": {
    "collapsed": false,
    "deletable": true,
    "editable": true
   },
   "outputs": [],
   "source": [
    "if len(blacklist_country_distribution)>0:\n",
    "    fig = plt.figure(figsize=(6, 3))\n",
    "    fig.suptitle('* Countries of blacklisted IPs', fontsize=14, y=1.05, x=0.28)\n",
    "\n",
    "    ax1 = plt.subplot2grid((1,2), (0,0))\n",
    "    blacklist_country_distribution_sorted.plot(ax=ax1,kind='barh')\n",
    "    ax1.set_ylabel(\"# Access\")\n",
    "    ax1.set_xlabel(\"Country\")\n",
    "    plt.setp(ax1.xaxis.get_majorticklabels(), rotation=45)\n",
    "\n",
    "    ax2 = plt.subplot2grid((1,2), (0,1))\n",
    "    blacklist_country_distribution.plot(ax=ax2,kind='pie', \n",
    "                                        labels=None,legend=False,\n",
    "                                        startangle=270)\n",
    "    ax2.set_ylabel(\"\")\n",
    "    ####\n",
    "    # For Pie Chart Better Legend box\n",
    "    porcent = (100.*blacklist_country_distribution.values)/(logins_country_distribution.values.sum())\n",
    "    labels = ['{0} - {1:1.2f} %'.\\\n",
    "              format(i,j) for i,j in zip(blacklist_country_distribution.index, porcent)]\n",
    "    # To Sort Legend (defaulf: keeps the same order)\n",
    "#     patches, labels, dummy =  zip(*sorted(zip(patches, labels, freq_distinct_logins_per_user.values),\n",
    "#                                           key=lambda x: x[2],\n",
    "#                                           reverse=True))\n",
    "    legend_show_top=10\n",
    "    ax2.legend(ax2.patches[0:legend_show_top], \n",
    "               labels[0:legend_show_top], \n",
    "               bbox_to_anchor=(1.55, 1.),\n",
    "               fontsize=10)\n",
    "    ####\n",
    "    fig.tight_layout()\n",
    "    fig.show()\n",
    "    fig.savefig('figs/blacklist_countries.eps', bbox_inches='tight',format='eps', dpi=1200)\n",
    "else:\n",
    "    print(\"Unfortunately, there is no data available!\")"
   ]
  },
  {
   "cell_type": "markdown",
   "metadata": {
    "deletable": true,
    "editable": true
   },
   "source": [
    "## 5.10. Countries of Target IPs"
   ]
  },
  {
   "cell_type": "code",
   "execution_count": null,
   "metadata": {
    "collapsed": true,
    "deletable": true,
    "editable": true
   },
   "outputs": [],
   "source": [
    "attacks_country_distribution=df_attacks_iptoasn['country'].value_counts()"
   ]
  },
  {
   "cell_type": "code",
   "execution_count": null,
   "metadata": {
    "collapsed": false,
    "deletable": true,
    "editable": true
   },
   "outputs": [],
   "source": [
    "if len(attacks_country_distribution)>0:\n",
    "    fig = plt.figure(figsize=(6, 3))\n",
    "    fig.suptitle('* Countries of target IPs', fontsize=14, y=1.05, x=0.28)\n",
    "\n",
    "    ax1 = plt.subplot2grid((1,2), (0,0))\n",
    "    attacks_country_distribution.plot(ax=ax1,kind='bar')\n",
    "    ax1.set_ylabel(\"# Access\")\n",
    "    ax1.set_xlabel(\"Country\")\n",
    "    plt.setp(ax1.xaxis.get_majorticklabels(), rotation=45)\n",
    "\n",
    "    ax2 = plt.subplot2grid((1,2), (0,1))\n",
    "    attacks_country_distribution.plot(ax=ax2,kind='pie', \n",
    "                                      labels=None,legend=False,\n",
    "                                      startangle=270)\n",
    "    ax2.set_ylabel(\"\")\n",
    "    ####\n",
    "    # For Pie Chart Better Legend box\n",
    "    porcent = (100.*attacks_country_distribution.values)/(attacks_country_distribution.values.sum())\n",
    "    labels = ['{0} - {1:1.2f} %'.\\\n",
    "              format(i,j) for i,j in zip(attacks_country_distribution.index, porcent)]\n",
    "    # To Sort Legend (defaulf: keeps the same order)\n",
    "#     patches, labels, dummy =  zip(*sorted(zip(patches, labels, freq_distinct_logins_per_user.values),\n",
    "#                                           key=lambda x: x[2],\n",
    "#                                           reverse=True))\n",
    "    legend_show_top=10\n",
    "    ax2.legend(ax2.patches[0:legend_show_top], \n",
    "               labels[0:legend_show_top], \n",
    "               bbox_to_anchor=(1.55, 1.),\n",
    "               fontsize=10)\n",
    "    ####\n",
    "    fig.tight_layout()\n",
    "    fig.show()\n",
    "    fig.savefig('figs/attack_countries_distribution.eps',bbox_inches='tight', format='eps', dpi=1200) \n",
    "else:\n",
    "    print(\"Unfortunately, there is no data available!\")"
   ]
  },
  {
   "cell_type": "markdown",
   "metadata": {
    "deletable": true,
    "editable": true
   },
   "source": [
    "## 5.12. Attacks on Same Target"
   ]
  },
  {
   "cell_type": "code",
   "execution_count": null,
   "metadata": {
    "collapsed": true,
    "deletable": true,
    "editable": true
   },
   "outputs": [],
   "source": [
    "num_attacks_on_sametarget=df_attacks['targetip'].value_counts()\n",
    "\n",
    "freq_num_attacks_on_sametarget=num_attacks_on_sametarget.value_counts()\n",
    "cum_num_attacks_on_sametarget = np.linspace(0.,1.,len(num_attacks_on_sametarget))\n",
    "cdf_num_attacks_on_sametarget = pd.Series(cum_num_attacks_on_sametarget, index=num_attacks_on_sametarget.sort_values())"
   ]
  },
  {
   "cell_type": "code",
   "execution_count": null,
   "metadata": {
    "collapsed": false,
    "deletable": true,
    "editable": true
   },
   "outputs": [],
   "source": [
    "if len(num_attacks_on_sametarget)>0:\n",
    "    fig = plt.figure(figsize=(6, 3))\n",
    "    fig.suptitle('* Attacks on Same Targets:', fontsize=14, y=1.05,x=0.28)\n",
    "\n",
    "    ax1 = plt.subplot2grid((1,2), (0,0))\n",
    "    ax1 = cdf_num_attacks_on_sametarget.plot( ax=ax1,lw=2, drawstyle='steps',legend=False)\n",
    "    ax1.set_xlabel(\"# IPs\")\n",
    "    ax1.set_ylabel(\"CDF of Users\")\n",
    "    ax1.set_ylim(0,1.05)\n",
    "    plt.setp(ax1.xaxis.get_majorticklabels(), rotation=45)\n",
    "\n",
    "    ax2 = plt.subplot2grid((1,2), (0,1))\n",
    "    freq_num_attacks_on_sametarget.plot(ax=ax2,kind='pie',\n",
    "                                        labels=None,legend=False,\n",
    "                                        startangle=270)\n",
    "    ax2.set_ylabel(\"\")\n",
    "    ####\n",
    "    # For Pie Chart Better Legend box\n",
    "    porcent = (100.*freq_num_attacks_on_sametarget.values)/(freq_num_attacks_on_sametarget.values.sum())\n",
    "    labels = ['{0} - {1:1.2f} %'.\\\n",
    "              format(i,j) for i,j in zip(freq_num_attacks_on_sametarget.index, porcent)]\n",
    "    # To Sort Legend (defaulf: keeps the same order)\n",
    "#     patches, labels, dummy =  zip(*sorted(zip(patches, labels, freq_distinct_logins_per_user.values),\n",
    "#                                           key=lambda x: x[2],\n",
    "#                                           reverse=True))\n",
    "    legend_show_top=10\n",
    "    ax2.legend(ax2.patches[0:legend_show_top], \n",
    "               labels[0:legend_show_top], \n",
    "               bbox_to_anchor=(1.55, 1.),\n",
    "               fontsize=10)\n",
    "    ####\n",
    "    fig.tight_layout()\n",
    "\n",
    "    fig.show()\n",
    "    fig.savefig('figs/attacks_on_same_target.eps', bbox_inches='tight',format='eps', dpi=1200)\n",
    "else:\n",
    "    print(\"Unfortunately, there is no data available!\")"
   ]
  },
  {
   "cell_type": "markdown",
   "metadata": {
    "deletable": true,
    "editable": true
   },
   "source": [
    "## 5.11. Attacks per day (timeseries) "
   ]
  },
  {
   "cell_type": "code",
   "execution_count": null,
   "metadata": {
    "collapsed": false,
    "deletable": true,
    "editable": true
   },
   "outputs": [],
   "source": [
    "if len(df_attacks)>0:\n",
    "    attack_timeseries=df_attacks.set_index(['date']).groupby(pd.TimeGrouper(freq='D')).agg(['count'])['action']\n",
    "    attack_mean_perday=attack_timeseries.mean()\n",
    "    attack_median_perday=attack_timeseries.median()\n",
    "else:\n",
    "    attack_timeseries=\"\""
   ]
  },
  {
   "cell_type": "code",
   "execution_count": null,
   "metadata": {
    "collapsed": false,
    "deletable": true,
    "editable": true
   },
   "outputs": [],
   "source": [
    "if len(attack_timeseries)>0:\n",
    "    fig = plt.figure(figsize=(6,3))\n",
    "\n",
    "    ax1 = plt.subplot2grid((1,1), (0,0), rowspan=2)\n",
    "    attack_timeseries.plot(ax=ax1,\n",
    "                           lw=2,\n",
    "                           legend=False,\n",
    "    #                        style='--'\n",
    "                          )\n",
    "\n",
    "    # X and Y Labels and Ticks\n",
    "    ax1.set_xlabel(\"Time (bin=day)\")\n",
    "    ax1.set_ylabel(\"# Attacks\")\n",
    "\n",
    "    ax1.annotate(str(int(attack_median_perday[0]))+' (median)', \n",
    "                 (min(df_attacks['date']), attack_median_perday),\n",
    "                 xytext=(350, -1), \n",
    "                 textcoords='offset points',\n",
    "                 color='black', \n",
    "                 arrowprops=dict(arrowstyle='-|>',\n",
    "                                 color='black'))\n",
    "    fig.savefig('figs/attacks_timeseries.eps', bbox_inches='tight',format='eps', dpi=1200)\n",
    "\n",
    "else:\n",
    "    print(\"Unfortunately, there is no data available!\")"
   ]
  },
  {
   "cell_type": "markdown",
   "metadata": {
    "deletable": true,
    "editable": true
   },
   "source": [
    "## 5.12. Time Between Logins and Attacks"
   ]
  },
  {
   "cell_type": "code",
   "execution_count": null,
   "metadata": {
    "collapsed": false,
    "deletable": true,
    "editable": true
   },
   "outputs": [],
   "source": [
    "if len(df_attacks_and_logins)>0:\n",
    "    print(\"redo\")\n",
    "else:\n",
    "    print(\"Unfortunately, there is no data available!\")"
   ]
  },
  {
   "cell_type": "markdown",
   "metadata": {
    "deletable": true,
    "editable": true
   },
   "source": [
    "## 5.13. Who attack whom? (users on the country level)"
   ]
  },
  {
   "cell_type": "code",
   "execution_count": null,
   "metadata": {
    "collapsed": false,
    "deletable": true,
    "editable": true
   },
   "outputs": [],
   "source": [
    "if len(df_attacks_extended)>0 and len(df_logins_extended)>0:\n",
    "    merged_attacks_logins = pd.merge(df_attacks_extended,\n",
    "                                  df_logins_extended,\n",
    "                                  how = 'left',\n",
    "                                  left_on = 'date',\n",
    "                                  right_on = 'date')[['targetcountry','srccountry']]\n",
    "\n",
    "    who_against_whom = merged_attacks_logins.groupby(['targetcountry','srccountry'])\\\n",
    "                            .size()\\\n",
    "                            .reset_index()\\\n",
    "                            .pivot('srccountry','targetcountry',0)\n",
    "else:\n",
    "    who_against_whom =\"\""
   ]
  },
  {
   "cell_type": "code",
   "execution_count": null,
   "metadata": {
    "collapsed": false,
    "deletable": true,
    "editable": true
   },
   "outputs": [],
   "source": [
    "if len(who_against_whom)>0:\n",
    "    fig = plt.figure(figsize=(8,12))\n",
    "    fig.suptitle('Countries of Target IPs', fontsize=14, y=.92)\n",
    "\n",
    "    ax1 = plt.subplot2grid((1,1), (0,0))\n",
    "    sns.set()\n",
    "    sns.heatmap(who_against_whom,\n",
    "                ax=ax1,\n",
    "#                 cmap=\"YlGnBu\",\n",
    "    #             linewidths=.5,\n",
    "    #             annot=True\n",
    "                )\n",
    "\n",
    "    ax1.set_ylabel(\"Source Country\")\n",
    "    ax1.set_xlabel(\"Attack Target Country\")\n",
    "\n",
    "    fig.show()\n",
    "    fig.savefig('figs/who_attack_whom.eps', bbox_inches='tight',format='eps', dpi=1200)\n",
    "else:\n",
    "    print(\"Unfortunately, there is no data available!\")"
   ]
  },
  {
   "cell_type": "markdown",
   "metadata": {
    "deletable": true,
    "editable": true
   },
   "source": [
    "<h1 align=\"center\">!!!!!!!!!!!!!!!!!!!!!!!!!!!!!!!!!!!!!!!!!!!!!!!!!!!!!!!!!!!!!!!!!!!!!!!!!!!!!!!!!!!!!!!!!!!!!!!!!!!!!!!!!!!!!!!!!!!!!!!!!!!!!!!!!<br>\n",
    "FIFTH PART: Query Interface<br>\n",
    "!!!!!!!!!!!!!!!!!!!!!!!!!!!!!!!!!!!!!!!!!!!!!!!!!!!!!!!!!!!!!!!!!!!!!!!!!!!!!!!!!!!!!!!!!!!!!!!!!!!!!!!!!!!!!!!!!!!!!!!!!!!!!!!</h1> "
   ]
  },
  {
   "cell_type": "code",
   "execution_count": null,
   "metadata": {
    "collapsed": true,
    "deletable": true,
    "editable": true
   },
   "outputs": [],
   "source": [
    "from ipywidgets import widgets, interact, Dropdown,HTML\n",
    "from IPython.display import display,clear_output"
   ]
  },
  {
   "cell_type": "code",
   "execution_count": null,
   "metadata": {
    "collapsed": false,
    "deletable": true,
    "editable": true
   },
   "outputs": [],
   "source": [
    "def search_by_userid_submit(sender):\n",
    "    clear_output()\n",
    "    print(\"Searching by id =\",search_by_userid.value)\n",
    "    \n",
    "    if len(df_users[df_users['userid']== int(search_by_userid.value)])>0:\n",
    "        display(df_users[df_logins['userid']== int(search_by_userid.value)])\n",
    "    \n",
    "    if len(df_logins_extended[df_logins_extended['userid']== int(search_by_userid.value)])>0:\n",
    "        display(df_logins_extended[df_logins_extended['userid']== int(search_by_userid.value)])\n",
    "    \n",
    "    if len(df_attacks_extended[df_attacks_extended['userid']== int(search_by_userid.value)])>0:\n",
    "        display(df_attacks_extended[df_attacks_extended['userid']== int(search_by_userid.value)])\n",
    "    \n",
    "    if len(df_payments[df_payments['userid']== int(search_by_userid.value)])>0:\n",
    "        display(df_payments[df_payments['userid']== int(search_by_userid.value)])\n",
    "\n",
    "def search_by_username_submit(sender):\n",
    "    clear_output()\n",
    "    print(\"Searching by username =\",search_by_username.value,\"\\n\")\n",
    "    \n",
    "    if len(df_users[df_users['username']== search_by_username.value])>0:\n",
    "        print(\"Table df_users:\")\n",
    "        display(df_users[df_users['username']== search_by_username.value])\n",
    "    \n",
    "    if len(df_logins_extended[df_logins_extended['username']== search_by_username.value])>0:\n",
    "        print(\"Table df_logins:\")\n",
    "        display(df_logins_extended[df_logins_extended['username']== search_by_username.value])\n",
    "\n",
    "    if len(df_attacks_extended[df_attacks_extended['username']== search_by_username.value])>0:\n",
    "        print(\"Table df_attacks:\")\n",
    "        display(df_attacks_extended[df_attacks_extended['username']== search_by_username.value])\n",
    "    \n",
    "    if len(df_payments[df_payments['username']== search_by_username.value])>0:\n",
    "        print(\"Table df_payments:\")\n",
    "        display(df_payments[df_payments['username']== search_by_username.value])\n",
    "        \n",
    "def search_by_ip_submit(sender):\n",
    "    clear_output()\n",
    "    print(\"Searching by IP address =\",str(search_by_ip.value),\"\\n\")\n",
    "    \n",
    "    if len(df_logins_extended[df_logins_extended['userip']== str(search_by_ip.value)])>0:\n",
    "        print(\"Table df_logins (as ATTACKER:\")\n",
    "        display(df_logins_extended[df_logins_extended['userip']== str(search_by_ip.value)])\n",
    "     \n",
    "    if len(df_attacks_extended[df_attacks_extended['targetip']== str(search_by_ip.value)])>0:\n",
    "        print(\"Table df_attacks (as TARGET):\")\n",
    "        display(df_attacks_extended[df_attacks_extended['targetip']== str(search_by_ip.value)])  \n",
    "      \n",
    "       \n",
    "def search_by_asn_submit(sender):\n",
    "    clear_output()\n",
    "    print(\"Searching by Autonomous System Number (ASN) =\",search_by_asn.value,\"\\n\")\n",
    "    \n",
    "    if len(df_logins_extended[df_logins_extended['srcasn']== int(search_by_asn.value)])>0:\n",
    "        print(\"Table df_logins (as ATTACKER):\")\n",
    "        display(df_logins_extended[df_logins_extended['srcasn']== int(search_by_asn.value)])\n",
    "    \n",
    "    if len(df_attacks_extended[df_attacks_extended['targetasn']== str(search_by_asn.value)])>0:\n",
    "        print(\"Table df_attacks (as TARGET):\")\n",
    "        display(df_attacks_extended[df_attacks_extended['targetasn']== str(search_by_asn.value)])\n",
    "\n",
    "    if len(df_attacks_extended[df_attacks_extended['targetasn']== str(search_by_asn.value)])>0:\n",
    "        print(\"Table df_attacks (as TARGET):\")\n",
    "        display(df_attacks_extended[df_attacks_extended['targetasn']== str(search_by_asn.value)])\n",
    "\n",
    "        \n",
    "country_list=pd.read_csv('https://raw.githubusercontent.com/datasets/country-list/master/data.csv',delimiter=\",\",error_bad_lines=False)\n",
    "def search_by_country_submit():\n",
    "    country_code=country_list[country_list['Name']==search_by_country.value]['Code'].values[0]\n",
    "    clear_output()\n",
    "    print(\"Searching by Country =\",search_by_country.value,\"\\n\")\n",
    "    \n",
    "    if len(df_logins_extended[df_logins_extended['srccountry']== country_code])>0:\n",
    "        print(\"Table df_logins (as ATTACKER):\")\n",
    "        display(df_logins_extended[df_logins_extended['srccountry']== country_code])\n",
    "    \n",
    "    if len(df_attacks_extended[df_attacks_extended['targetcountry']== country_code])>0:\n",
    "        print(\"Table df_attacks (as TARGET):\")\n",
    "        display(df_attacks_extended[df_attacks_extended['targetcountry']== country_code])\n",
    "    "
   ]
  },
  {
   "cell_type": "code",
   "execution_count": null,
   "metadata": {
    "collapsed": false,
    "deletable": true,
    "editable": true
   },
   "outputs": [],
   "source": [
    "display(HTML('<h3>*Search by (only) one field per time:</h3>'))\n",
    "\n",
    "search_by_username = widgets.Text(description=\"username\")\n",
    "display(search_by_username)\n",
    "search_by_username.on_submit(search_by_username_submit)\n",
    "\n",
    "search_by_userid = widgets.Text(description=\"userid\")\n",
    "display(search_by_userid)\n",
    "search_by_userid.on_submit(search_by_userid_submit)\n",
    "\n",
    "search_by_ip = widgets.Text(description=\"IP\")\n",
    "display(search_by_ip)\n",
    "search_by_ip.on_submit(search_by_ip_submit)\n",
    "\n",
    "search_by_asn = widgets.Text(description=\"ASN\")\n",
    "display(search_by_asn)\n",
    "search_by_asn.on_submit(search_by_asn_submit)\n",
    "\n",
    "search_by_country = Dropdown(description=\"Country\", options=country_list['Name'].tolist())\n",
    "search_by_country.on_trait_change(search_by_country_submit, name=\"value\")\n",
    "display(search_by_country)"
   ]
  },
  {
   "cell_type": "code",
   "execution_count": null,
   "metadata": {
    "collapsed": true,
    "deletable": true,
    "editable": true
   },
   "outputs": [],
   "source": []
  }
 ],
 "metadata": {
  "kernelspec": {
   "display_name": "Python 3",
   "language": "python",
   "name": "python3"
  },
  "language_info": {
   "codemirror_mode": {
    "name": "ipython",
    "version": 3
   },
   "file_extension": ".py",
   "mimetype": "text/x-python",
   "name": "python",
   "nbconvert_exporter": "python",
   "pygments_lexer": "ipython3",
   "version": "3.5.1"
  },
  "widgets": {
   "state": {},
   "version": "1.1.2"
  }
 },
 "nbformat": 4,
 "nbformat_minor": 0
}
