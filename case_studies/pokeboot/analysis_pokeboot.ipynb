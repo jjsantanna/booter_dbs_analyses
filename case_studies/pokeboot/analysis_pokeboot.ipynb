{
 "cells": [
  {
   "cell_type": "markdown",
   "metadata": {},
   "source": [
    "<h1 align=\"center\">\n",
    "!!!!!!!!!!!!!!!!!!!!!!!!!!!!!!!!!!!!!!!!!!!!!!!!!!!!!!!!!!!!!!!!!!!!!!!!!!!!!!!!!!!!!!!!!!!!!!!!!!!!!!!!!!!!!!!!!!!!!!!!!!!!!!!<br>\n",
    "Brief explanation on our Booter database analysis methodology: <br>\n",
    "!!!!!!!!!!!!!!!!!!!!!!!!!!!!!!!!!!!!!!!!!!!!!!!!!!!!!!!!!!!!!!!!!!!!!!!!!!!!!!!!!!!!!!!!!!!!!!!!!!!!!!!!!!!!!!!!!!!!!!!!!!!!!!!</h1> "
   ]
  },
  {
   "cell_type": "markdown",
   "metadata": {},
   "source": [
    "# Analysis of: pokeboot\n",
    "#### File originally retrieved from: http://ge.tt/7Qsb4ZU/v/0"
   ]
  },
  {
   "cell_type": "markdown",
   "metadata": {},
   "source": [
    "## * Libraries that I use to analyse data"
   ]
  },
  {
   "cell_type": "code",
   "execution_count": 1,
   "metadata": {
    "collapsed": true
   },
   "outputs": [],
   "source": [
    "import pandas as pd\n",
    "import numpy as np\n",
    "\n",
    "from io import StringIO\n",
    "import re\n",
    "\n",
    "from IPython.display import display,clear_output"
   ]
  },
  {
   "cell_type": "markdown",
   "metadata": {},
   "source": [
    "<h1 align=\"center\">\n",
    "!!!!!!!!!!!!!!!!!!!!!!!!!!!!!!!!!!!!!!!!!!!!!!!!!!!!!!!!!!!!!!!!!!!!!!!!!!!!!!!!!!!!!!!!!!!!!!!!!!!!!!!!!!!!!!!!!!!!!!!!!!!!!!!<br>\n",
    "STEP 0: Reading an input Booter database file<br>\n",
    "!!!!!!!!!!!!!!!!!!!!!!!!!!!!!!!!!!!!!!!!!!!!!!!!!!!!!!!!!!!!!!!!!!!!!!!!!!!!!!!!!!!!!!!!!!!!!!!!!!!!!!!!!!!!!!!!!!!!!!!!!!!!!!!</h1> "
   ]
  },
  {
   "cell_type": "code",
   "execution_count": 2,
   "metadata": {
    "collapsed": true
   },
   "outputs": [],
   "source": [
    "dumpfile='apidown.sql'"
   ]
  },
  {
   "cell_type": "markdown",
   "metadata": {},
   "source": [
    "<h1 align=\"center\">\n",
    "!!!!!!!!!!!!!!!!!!!!!!!!!!!!!!!!!!!!!!!!!!!!!!!!!!!!!!!!!!!!!!!!!!!!!!!!!!!!!!!!!!!!!!!!!!!!!!!!!!!!!!!!!!!!!!!!!!!!!!!!!!!!!!!!!!!!!!!!!<br>\n",
    "STEP 1: Adaptation to our Booter database schema<br>\n",
    "!!!!!!!!!!!!!!!!!!!!!!!!!!!!!!!!!!!!!!!!!!!!!!!!!!!!!!!!!!!!!!!!!!!!!!!!!!!!!!!!!!!!!!!!!!!!!!!!!!!!!!!!!!!!!!!!!!!!!!!!!!!!!!!</h1> "
   ]
  },
  {
   "cell_type": "markdown",
   "metadata": {},
   "source": [
    "## 1. Reading the first 'N' (100) lines of the input Booter database file"
   ]
  },
  {
   "cell_type": "code",
   "execution_count": 3,
   "metadata": {
    "collapsed": false
   },
   "outputs": [
    {
     "name": "stdout",
     "output_type": "stream",
     "text": [
      "-- phpMyAdmin SQL Dump\n",
      "-- version 3.4.11.1\n",
      "-- http://www.phpmyadmin.net\n",
      "--\n",
      "-- Host: localhost\n",
      "-- Generation Time: Jan 01, 2013 at 02:56 PM\n",
      "-- Server version: 5.1.63\n",
      "-- PHP Version: 5.2.6\n",
      "\n",
      "SET SQL_MODE=\"NO_AUTO_VALUE_ON_ZERO\";\n",
      "SET time_zone = \"+00:00\";\n",
      "\n",
      "\n",
      "/*!40101 SET @OLD_CHARACTER_SET_CLIENT=@@CHARACTER_SET_CLIENT */;\n",
      "/*!40101 SET @OLD_CHARACTER_SET_RESULTS=@@CHARACTER_SET_RESULTS */;\n",
      "/*!40101 SET @OLD_COLLATION_CONNECTION=@@COLLATION_CONNECTION */;\n",
      "/*!40101 SET NAMES utf8 */;\n",
      "\n",
      "--\n",
      "-- Database: `pokeboot_booter`\n",
      "--\n",
      "\n",
      "-- --------------------------------------------------------\n",
      "\n",
      "--\n",
      "-- Table structure for table `blacklist`\n",
      "--\n",
      "\n",
      "CREATE TABLE IF NOT EXISTS `blacklist` (\n",
      "`ID` int(11) NOT NULL AUTO_INCREMENT,\n",
      "`IP` varchar(15) NOT NULL,\n",
      "`note` text NOT NULL,\n",
      "PRIMARY KEY (`ID`)\n",
      ") ENGINE=MyISAM  DEFAULT CHARSET=latin1 AUTO_INCREMENT=2 ;\n",
      "\n",
      "--\n",
      "-- Dumping data for table `blacklist`\n",
      "--\n",
      "\n",
      "INSERT INTO `blacklist` (`ID`, `IP`, `note`) VALUES\n",
      "(1, '127.0.0.1', 'localhost');\n",
      "\n",
      "-- --------------------------------------------------------\n",
      "\n",
      "--\n",
      "-- Table structure for table `fe`\n",
      "--\n",
      "\n",
      "CREATE TABLE IF NOT EXISTS `fe` (\n",
      "`ID` int(11) NOT NULL AUTO_INCREMENT,\n",
      "`userID` int(11) NOT NULL,\n",
      "`type` varchar(1) NOT NULL,\n",
      "`ip` varchar(15) NOT NULL,\n",
      "`note` text NOT NULL,\n",
      "PRIMARY KEY (`ID`)\n",
      ") ENGINE=MyISAM  DEFAULT CHARSET=latin1 AUTO_INCREMENT=429 ;\n",
      "\n",
      "--\n",
      "-- Dumping data for table `fe`\n",
      "--\n",
      "\n",
      "INSERT INTO `fe` (`ID`, `userID`, `type`, `ip`, `note`) VALUES\n",
      "(1, 13, 'e', '98.228.171.107', 'Andy'),\n",
      "(2, 62, 'e', '178.85.28.56', 'Scamming Sengira'),\n",
      "(3, 87, 'f', '68.224.1.51', 'Chris'),\n",
      "(5, 87, 'f', '71.224.149.170', 'Brian\\\\''s Dad'),\n",
      "(6, 87, 'f', '174.57.87.57', 'Brian\\\\''s Mom'),\n",
      "(7, 87, 'f', '67.61.196.151', 'Jimmy'),\n",
      "(9, 87, 'f', '98.83.207.18', 'KJ Grandmom'),\n",
      "(10, 87, 'f', '98.83.163.219', 'KJ Grandpa'),\n",
      "(12, 104, 'f', '206.217.133.181', 'Hunk'),\n",
      "(13, 115, 'e', '65.31.232.85', 'Fox'),\n",
      "(14, 115, 'e', '24.154.67.189', 'Benjamin boo'),\n",
      "(15, 28, 'f', '76.102.115.13', 'JenMong'),\n",
      "(16, 28, 'f', '67.188.208.89', 'Jeff f2'),\n",
      "(17, 28, 'f', '67.181.54.28', 'Justin - .wz guy'),\n",
      "(18, 28, 'f', '173.28.44.21', 'Thai - draiga ;)'),\n",
      "(21, 116, 'e', '184.154.16.194', 'WantedPvP'),\n",
      "(22, 152, 'f', '88.110.121.70', 'bob green'),\n",
      "(23, 152, 'f', '96.251.51.69', 'biig bear'),\n",
      "(25, 152, 'f', '69.140.165.78', 'sean r'),\n",
      "(26, 152, 'e', '68.206.116.93', 'wrecka wrecka'),\n",
      "(27, 152, 'e', '121.217.140.254', 'devour'),\n",
      "(28, 152, 'e', '65.25.199.22', 'one flame'),\n",
      "(29, 152, 'e', '2.96.183.176', 'mortuls (foe)'),\n",
      "(30, 152, 'e', '173.18.35.63', 'adam (foe)'),\n",
      "(31, 152, 'e', '99.100.129.45', 'tony (foe)'),\n",
      "(32, 152, 'e', '82.44.51.250', 'jamie - cutes (foe)'),\n",
      "(33, 152, 'e', '99.45.162.234', 'allan (foe)'),\n",
      "(34, 152, 'e', '84.85.188.136', 'rick (foe)'),\n",
      "(35, 152, 'e', '99.17.103.143', 'arch3y (foe)'),\n",
      "(36, 152, 'e', '108.56.149.67', 'JJ - Jsttoopro (foe)'),\n",
      "(37, 152, 'e', '81.83.44.65', 'ultra (foe)'),\n",
      "(38, 152, 'e', '148.88.244.108', 'briggs (foe)'),\n",
      "(39, 152, 'e', '86.171.147.35', 'ollie (foe)'),\n",
      "(40, 152, 'e', '94.192.21.175', 'r 4 p 1 d z (foe)'),\n",
      "(41, 152, 'e', '99.164.12.49', 'dylan (foe)'),\n",
      "(42, 152, 'e', '74.73.117.224', 'adhi daddy (foe)'),\n",
      "(43, 152, 'e', '50.70.102.175', 'shivan (foe)'),\n",
      "(44, 152, 'e', '68.62.215.140', 'devon (foe)'),\n"
     ]
    }
   ],
   "source": [
    "lines_to_read=100\n",
    "\n",
    "with open(dumpfile) as myfile:\n",
    "    firstlines=myfile.readlines()[0:lines_to_read] #put here the interval you want\n",
    "    for x in firstlines:\n",
    "        print(x.strip())"
   ]
  },
  {
   "cell_type": "markdown",
   "metadata": {},
   "source": [
    "## 2. Listing tables that have content inserted into the dump file"
   ]
  },
  {
   "cell_type": "code",
   "execution_count": 4,
   "metadata": {
    "collapsed": true
   },
   "outputs": [],
   "source": [
    "def list_tables_with_insert(dumpfile):\n",
    "    tables = []\n",
    "    with open(dumpfile, 'rb') as f:\n",
    "        for line in f:\n",
    "            line = line.decode(\"utf-8\").strip()\n",
    "            if line.lower().startswith('insert'):\n",
    "                table = re.findall(r'`(.*?)`', line)\n",
    "                tables.append(table[0])\n",
    "    return tables"
   ]
  },
  {
   "cell_type": "code",
   "execution_count": 5,
   "metadata": {
    "collapsed": false
   },
   "outputs": [
    {
     "name": "stdout",
     "output_type": "stream",
     "text": [
      "1 blacklist\n",
      "2 fe\n",
      "3 gateway\n",
      "4 iplogs\n",
      "5 logs\n",
      "6 logs\n",
      "7 logs\n",
      "8 logs\n",
      "9 logs\n",
      "10 logs\n",
      "11 logs\n",
      "12 logs\n",
      "13 news\n",
      "14 payments\n",
      "15 plans\n",
      "16 users\n",
      "17 usersBackup\n"
     ]
    }
   ],
   "source": [
    "tables=enumerate(list_tables_with_insert(dumpfile))\n",
    "\n",
    "for i, item in tables:\n",
    "    print(i+1,item)"
   ]
  },
  {
   "cell_type": "markdown",
   "metadata": {},
   "source": [
    "## How the list above looks like? "
   ]
  },
  {
   "cell_type": "markdown",
   "metadata": {},
   "source": [
    "<h2 align='center'>======================================================================\n",
    "If NOT well-formed SQL dump file then you must first do the following:\n",
    "======================================================================</h2>"
   ]
  },
  {
   "cell_type": "markdown",
   "metadata": {},
   "source": [
    "## 3. Removing lines that are not part of the actual content to be analysed"
   ]
  },
  {
   "cell_type": "markdown",
   "metadata": {},
   "source": [
    "## 4. Splitting and naming tables and columns"
   ]
  },
  {
   "cell_type": "markdown",
   "metadata": {},
   "source": [
    "<h2 align='center'>======================================================================\n",
    "Additional functions\n",
    "======================================================================</h2>"
   ]
  },
  {
   "cell_type": "markdown",
   "metadata": {},
   "source": [
    "## * Function to read tables from wel-formed SQL database dump"
   ]
  },
  {
   "cell_type": "code",
   "execution_count": 6,
   "metadata": {
    "collapsed": false
   },
   "outputs": [],
   "source": [
    "# For well formed SQL database dumps!\n",
    "def read_inserted_table(dumpfile, target_table):\n",
    "    sio = StringIO()\n",
    "    fast_forward = True\n",
    "    already_header = False\n",
    "    with open(dumpfile, 'rb') as f:\n",
    "        for line in f:\n",
    "            line = line.decode(\"utf-8\").strip()\n",
    "            line = re.sub(\"(?!(([^']*'){2})*[^']*$)\\)\", '',line) #Step0:remove any \")\" from the content of columns\n",
    "            if line.lower().startswith('insert') and target_table in line:\n",
    "                fast_forward = False\n",
    "                if already_header:\n",
    "                    continue\n",
    "            if fast_forward:\n",
    "                continue\n",
    "            \n",
    "            data = re.findall('\\([^\\)]*\\)', line) #Step1: get the content between parentesis (i.e., insert line)\n",
    "            try:\n",
    "                newline = data[0].strip('()') #Step2:remove parenthesis\n",
    "                newline=newline.replace('`','') #Step3: remove ` (usually in table names)\n",
    "                newline=re.sub(r'(?!(([^\\']*\\'){2})*[^\\']*$),','', newline) #Step4: remove commas from the content of columns\n",
    "                newline=newline.replace('\\'','') #Step5: remove single quotes\n",
    "                newline=newline.replace(', ', ',') #Step6: remove single spaces after comma (i.e., in the beginning of a column)\n",
    "                sio.write(newline)\n",
    "                sio.write(\"\\n\")\n",
    "            except IndexError:\n",
    "                pass\n",
    "            if line.endswith(';'):\n",
    "                fast_forward = True\n",
    "                already_header = True\n",
    "    sio.seek(0)\n",
    "    return sio"
   ]
  },
  {
   "cell_type": "code",
   "execution_count": 7,
   "metadata": {
    "collapsed": true
   },
   "outputs": [],
   "source": [
    "# For well formed SQL database dumps!\n",
    "def read_inserted_table_entirein1line(dumpfile, target_table):\n",
    "    sio = StringIO()\n",
    "    fast_forward = True\n",
    "    already_header = False\n",
    "    with open(dumpfile, 'rb') as f:\n",
    "        for line in f:\n",
    "            line = line.decode(\"utf-8\").strip()\n",
    "            line = re.sub(\"(?!(([^']*'){2})*[^']*$)\\)\", '',line) #Step0:remove any \")\" from the content of columns\n",
    "            if line.lower().startswith('insert') and target_table in line:\n",
    "                fast_forward = False\n",
    "                if already_header:\n",
    "                    continue\n",
    "            if fast_forward:\n",
    "                continue\n",
    "            \n",
    "            data = re.findall('\\([^\\)]*\\)', line) #Step1: get the content between parentesis (i.e., insert operation)\n",
    "            \n",
    "            for record in data:\n",
    "                try:\n",
    "                    newline = record.strip('()') #Step2:remove parenthesis\n",
    "                    newline=newline.replace('`','') #Step3: remove ` (usually in table names)\n",
    "                    newline=re.sub(r'(?!(([^\\']*\\'){2})*[^\\']*$),','', newline) #Step4: remove commas from the content of columns\n",
    "                    newline=newline.replace('\\'','') #Step5: remove single quotes\n",
    "                    newline=newline.replace(', ', ',') #Step6: remove single spaces after comma (i.e., in the beginning of a column)\n",
    "                    sio.write(newline)\n",
    "                    sio.write(\"\\n\")\n",
    "                except IndexError:\n",
    "                    pass\n",
    "                \n",
    "            if line.endswith(';'):\n",
    "                fast_forward = True\n",
    "                already_header = True\n",
    "    sio.seek(0)\n",
    "    return sio"
   ]
  },
  {
   "cell_type": "markdown",
   "metadata": {},
   "source": [
    "## * Converter functions for formatting content of columns\n",
    "Attention, it is better to perform the conversion based on a series than a string (http://stackoverflow.com/questions/42462906/pandas-read-csv-converters-performance-issue)"
   ]
  },
  {
   "cell_type": "code",
   "execution_count": 8,
   "metadata": {
    "collapsed": true
   },
   "outputs": [],
   "source": [
    "def tolowercase(series):\n",
    "    return series.str.lower()"
   ]
  },
  {
   "cell_type": "code",
   "execution_count": 9,
   "metadata": {
    "collapsed": true
   },
   "outputs": [],
   "source": [
    "def strip_singlequote(series):\n",
    "    return series.str.strip('\\'')"
   ]
  },
  {
   "cell_type": "code",
   "execution_count": 10,
   "metadata": {
    "collapsed": true
   },
   "outputs": [],
   "source": [
    "def timestamp2datetime(series):\n",
    "    return  pd.to_datetime(series,unit='s',errors='coerce')"
   ]
  },
  {
   "cell_type": "code",
   "execution_count": 11,
   "metadata": {
    "collapsed": true
   },
   "outputs": [],
   "source": [
    "def datetimestring2datetime(series):\n",
    "    return  pd.to_datetime(series, format='%d-%m-%Y %H:%M',errors='coerce')  "
   ]
  },
  {
   "cell_type": "code",
   "execution_count": 12,
   "metadata": {
    "collapsed": true
   },
   "outputs": [],
   "source": [
    "def datetimeinvertedstring2datetime(series):\n",
    "    return pd.to_datetime(series, format='%Y-%m-%d %H:%M:%S',errors='coerce')"
   ]
  },
  {
   "cell_type": "code",
   "execution_count": 13,
   "metadata": {
    "collapsed": true
   },
   "outputs": [],
   "source": [
    "def datetimeampm2datetime(series):\n",
    "    return  pd.to_datetime(series,format='%d-%m-%Y %I:%M:%S %p',errors='coerce')"
   ]
  },
  {
   "cell_type": "code",
   "execution_count": 14,
   "metadata": {
    "collapsed": true
   },
   "outputs": [],
   "source": [
    "def datetimemdyampm2datetime(series):\n",
    "    return  pd.to_datetime(series, format='%m-%d-%Y %I:%M:%S %p',errors='coerce') "
   ]
  },
  {
   "cell_type": "code",
   "execution_count": 15,
   "metadata": {
    "collapsed": true
   },
   "outputs": [],
   "source": [
    "def strip_parenthesisandsemicolon(series):\n",
    "    return series.str.strip(');')"
   ]
  },
  {
   "cell_type": "code",
   "execution_count": 16,
   "metadata": {
    "collapsed": true
   },
   "outputs": [],
   "source": [
    "def strip_insertintologs(series):\n",
    "    return int(series.str.strip('INSERT INTO `logs` VALUES ('))"
   ]
  },
  {
   "cell_type": "code",
   "execution_count": 17,
   "metadata": {
    "collapsed": true
   },
   "outputs": [],
   "source": [
    "def strip_tab(series):\n",
    "    return series.str.strip('\\t')"
   ]
  },
  {
   "cell_type": "code",
   "execution_count": 18,
   "metadata": {
    "collapsed": false
   },
   "outputs": [],
   "source": [
    "def friendsenemies_type(series):\n",
    "    return series.str.replace('f','friend').replace('e','enemy')\n",
    "    "
   ]
  },
  {
   "cell_type": "markdown",
   "metadata": {},
   "source": [
    "<h2 align='center'>======================================================================\n",
    "Adapting EACH existing table\n",
    "======================================================================</h2>"
   ]
  },
  {
   "cell_type": "markdown",
   "metadata": {},
   "source": [
    "## 6.1. Table: 'blacklist'"
   ]
  },
  {
   "cell_type": "markdown",
   "metadata": {},
   "source": [
    "### How this table looks like without modification?"
   ]
  },
  {
   "cell_type": "code",
   "execution_count": 19,
   "metadata": {
    "collapsed": false
   },
   "outputs": [
    {
     "data": {
      "text/html": [
       "<div>\n",
       "<table border=\"1\" class=\"dataframe\">\n",
       "  <thead>\n",
       "    <tr style=\"text-align: right;\">\n",
       "      <th></th>\n",
       "      <th>ID</th>\n",
       "      <th>IP</th>\n",
       "      <th>note</th>\n",
       "    </tr>\n",
       "  </thead>\n",
       "  <tbody>\n",
       "    <tr>\n",
       "      <th>0</th>\n",
       "      <td>1</td>\n",
       "      <td>127.0.0.1</td>\n",
       "      <td>localhost</td>\n",
       "    </tr>\n",
       "  </tbody>\n",
       "</table>\n",
       "</div>"
      ],
      "text/plain": [
       "   ID         IP       note\n",
       "0   1  127.0.0.1  localhost"
      ]
     },
     "execution_count": 19,
     "metadata": {},
     "output_type": "execute_result"
    }
   ],
   "source": [
    "tablename='blacklist'\n",
    "\n",
    "pd.read_csv(read_inserted_table(dumpfile, tablename),delimiter=\",\",error_bad_lines=False).head(10)"
   ]
  },
  {
   "cell_type": "markdown",
   "metadata": {},
   "source": [
    "#### Q1: Is this table different from other previous loaded table? YES\n",
    "#### Q2: Is this table similar to any table in the generic Booter database schema? YES\n",
    "    - This table looks like: blacklist\n",
    "#### Q3: Are there modifications required? \n",
    "    - On the table name: \n",
    "        o \n",
    "    - On the column type: \n",
    "        o \n",
    "    - On the column name:\n",
    "        o ID -> id\n",
    "        o IP -> ip\n",
    "    - Add required columns:\n",
    "        o \n",
    "    - Split columns:\n",
    "        o "
   ]
  },
  {
   "cell_type": "markdown",
   "metadata": {},
   "source": [
    "### Modifying table: 'blacklist'"
   ]
  },
  {
   "cell_type": "code",
   "execution_count": 20,
   "metadata": {
    "collapsed": false
   },
   "outputs": [
    {
     "data": {
      "text/html": [
       "<div>\n",
       "<table border=\"1\" class=\"dataframe\">\n",
       "  <thead>\n",
       "    <tr style=\"text-align: right;\">\n",
       "      <th></th>\n",
       "      <th>id</th>\n",
       "      <th>ip</th>\n",
       "      <th>note</th>\n",
       "    </tr>\n",
       "  </thead>\n",
       "  <tbody>\n",
       "    <tr>\n",
       "      <th>0</th>\n",
       "      <td>1</td>\n",
       "      <td>127.0.0.1</td>\n",
       "      <td>localhost</td>\n",
       "    </tr>\n",
       "  </tbody>\n",
       "</table>\n",
       "</div>"
      ],
      "text/plain": [
       "   id         ip       note\n",
       "0   1  127.0.0.1  localhost"
      ]
     },
     "execution_count": 20,
     "metadata": {},
     "output_type": "execute_result"
    }
   ],
   "source": [
    "# Loading the correct table name\n",
    "df_blacklist = pd.read_csv(read_inserted_table(dumpfile, tablename),delimiter=\",\",error_bad_lines=False)\n",
    "\n",
    "# Converting columns\n",
    "\n",
    "# Changing column names\n",
    "df_blacklist.rename(inplace=True, columns={'ID':'id',\n",
    "                                          'IP':'ip'})\n",
    "\n",
    "# Adding missing columns (with \"\" [for future string] or np.nan [for future float])\n",
    "\n",
    "###Showing some lines after adapt the table\n",
    "df_blacklist.head(10)"
   ]
  },
  {
   "cell_type": "markdown",
   "metadata": {},
   "source": [
    "## 6.2. Table: 'fe'"
   ]
  },
  {
   "cell_type": "markdown",
   "metadata": {},
   "source": [
    "### How this table looks like without modification?"
   ]
  },
  {
   "cell_type": "code",
   "execution_count": 21,
   "metadata": {
    "collapsed": false
   },
   "outputs": [
    {
     "data": {
      "text/html": [
       "<div>\n",
       "<table border=\"1\" class=\"dataframe\">\n",
       "  <thead>\n",
       "    <tr style=\"text-align: right;\">\n",
       "      <th></th>\n",
       "      <th>ID</th>\n",
       "      <th>userID</th>\n",
       "      <th>type</th>\n",
       "      <th>ip</th>\n",
       "      <th>note</th>\n",
       "    </tr>\n",
       "  </thead>\n",
       "  <tbody>\n",
       "    <tr>\n",
       "      <th>0</th>\n",
       "      <td>1</td>\n",
       "      <td>13</td>\n",
       "      <td>e</td>\n",
       "      <td>98.228.171.107</td>\n",
       "      <td>Andy</td>\n",
       "    </tr>\n",
       "    <tr>\n",
       "      <th>1</th>\n",
       "      <td>2</td>\n",
       "      <td>62</td>\n",
       "      <td>e</td>\n",
       "      <td>178.85.28.56</td>\n",
       "      <td>Scamming Sengira</td>\n",
       "    </tr>\n",
       "    <tr>\n",
       "      <th>2</th>\n",
       "      <td>3</td>\n",
       "      <td>87</td>\n",
       "      <td>f</td>\n",
       "      <td>68.224.1.51</td>\n",
       "      <td>Chris</td>\n",
       "    </tr>\n",
       "    <tr>\n",
       "      <th>3</th>\n",
       "      <td>5</td>\n",
       "      <td>87</td>\n",
       "      <td>f</td>\n",
       "      <td>71.224.149.170</td>\n",
       "      <td>Brian\\\\s Dad</td>\n",
       "    </tr>\n",
       "    <tr>\n",
       "      <th>4</th>\n",
       "      <td>6</td>\n",
       "      <td>87</td>\n",
       "      <td>f</td>\n",
       "      <td>174.57.87.57</td>\n",
       "      <td>Brian\\\\s Mom</td>\n",
       "    </tr>\n",
       "    <tr>\n",
       "      <th>5</th>\n",
       "      <td>7</td>\n",
       "      <td>87</td>\n",
       "      <td>f</td>\n",
       "      <td>67.61.196.151</td>\n",
       "      <td>Jimmy</td>\n",
       "    </tr>\n",
       "    <tr>\n",
       "      <th>6</th>\n",
       "      <td>9</td>\n",
       "      <td>87</td>\n",
       "      <td>f</td>\n",
       "      <td>98.83.207.18</td>\n",
       "      <td>KJ Grandmom</td>\n",
       "    </tr>\n",
       "    <tr>\n",
       "      <th>7</th>\n",
       "      <td>10</td>\n",
       "      <td>87</td>\n",
       "      <td>f</td>\n",
       "      <td>98.83.163.219</td>\n",
       "      <td>KJ Grandpa</td>\n",
       "    </tr>\n",
       "    <tr>\n",
       "      <th>8</th>\n",
       "      <td>12</td>\n",
       "      <td>104</td>\n",
       "      <td>f</td>\n",
       "      <td>206.217.133.181</td>\n",
       "      <td>Hunk</td>\n",
       "    </tr>\n",
       "    <tr>\n",
       "      <th>9</th>\n",
       "      <td>13</td>\n",
       "      <td>115</td>\n",
       "      <td>e</td>\n",
       "      <td>65.31.232.85</td>\n",
       "      <td>Fox</td>\n",
       "    </tr>\n",
       "  </tbody>\n",
       "</table>\n",
       "</div>"
      ],
      "text/plain": [
       "   ID  userID type               ip              note\n",
       "0   1      13    e   98.228.171.107              Andy\n",
       "1   2      62    e     178.85.28.56  Scamming Sengira\n",
       "2   3      87    f      68.224.1.51             Chris\n",
       "3   5      87    f   71.224.149.170      Brian\\\\s Dad\n",
       "4   6      87    f     174.57.87.57      Brian\\\\s Mom\n",
       "5   7      87    f    67.61.196.151             Jimmy\n",
       "6   9      87    f     98.83.207.18       KJ Grandmom\n",
       "7  10      87    f    98.83.163.219        KJ Grandpa\n",
       "8  12     104    f  206.217.133.181              Hunk\n",
       "9  13     115    e     65.31.232.85               Fox"
      ]
     },
     "execution_count": 21,
     "metadata": {},
     "output_type": "execute_result"
    }
   ],
   "source": [
    "tablename='fe'\n",
    "\n",
    "pd.read_csv(read_inserted_table(dumpfile, tablename),delimiter=\",\",error_bad_lines=False).head(10)"
   ]
  },
  {
   "cell_type": "markdown",
   "metadata": {},
   "source": [
    "#### Q1: Is this table different from other previous loaded table? YES \n",
    "#### Q2: Is this table similar to any table in the generic Booter database schema? YES\n",
    "    - This table looks like: friendsenemies\n",
    "#### Q3: Are there modifications required? \n",
    "    - On the table name: \n",
    "        o fe -> friendsenemies ()\n",
    "    - On the column type: \n",
    "        o type -> friendsenemies_type() \n",
    "    - On the column name:\n",
    "        o ID -> id\n",
    "        o userID -> userid\n",
    "    - Add required columns:\n",
    "        o\n",
    "    - Split columns:\n",
    "        o "
   ]
  },
  {
   "cell_type": "markdown",
   "metadata": {},
   "source": [
    "### Modifying table: 'fe'"
   ]
  },
  {
   "cell_type": "code",
   "execution_count": 22,
   "metadata": {
    "collapsed": false
   },
   "outputs": [
    {
     "data": {
      "text/html": [
       "<div>\n",
       "<table border=\"1\" class=\"dataframe\">\n",
       "  <thead>\n",
       "    <tr style=\"text-align: right;\">\n",
       "      <th></th>\n",
       "      <th>id</th>\n",
       "      <th>userid</th>\n",
       "      <th>type</th>\n",
       "      <th>ip</th>\n",
       "      <th>note</th>\n",
       "    </tr>\n",
       "  </thead>\n",
       "  <tbody>\n",
       "    <tr>\n",
       "      <th>0</th>\n",
       "      <td>1</td>\n",
       "      <td>13</td>\n",
       "      <td>enemy</td>\n",
       "      <td>98.228.171.107</td>\n",
       "      <td>Andy</td>\n",
       "    </tr>\n",
       "    <tr>\n",
       "      <th>1</th>\n",
       "      <td>2</td>\n",
       "      <td>62</td>\n",
       "      <td>enemy</td>\n",
       "      <td>178.85.28.56</td>\n",
       "      <td>Scamming Sengira</td>\n",
       "    </tr>\n",
       "    <tr>\n",
       "      <th>2</th>\n",
       "      <td>3</td>\n",
       "      <td>87</td>\n",
       "      <td>friend</td>\n",
       "      <td>68.224.1.51</td>\n",
       "      <td>Chris</td>\n",
       "    </tr>\n",
       "    <tr>\n",
       "      <th>3</th>\n",
       "      <td>5</td>\n",
       "      <td>87</td>\n",
       "      <td>friend</td>\n",
       "      <td>71.224.149.170</td>\n",
       "      <td>Brian\\\\s Dad</td>\n",
       "    </tr>\n",
       "    <tr>\n",
       "      <th>4</th>\n",
       "      <td>6</td>\n",
       "      <td>87</td>\n",
       "      <td>friend</td>\n",
       "      <td>174.57.87.57</td>\n",
       "      <td>Brian\\\\s Mom</td>\n",
       "    </tr>\n",
       "    <tr>\n",
       "      <th>5</th>\n",
       "      <td>7</td>\n",
       "      <td>87</td>\n",
       "      <td>friend</td>\n",
       "      <td>67.61.196.151</td>\n",
       "      <td>Jimmy</td>\n",
       "    </tr>\n",
       "    <tr>\n",
       "      <th>6</th>\n",
       "      <td>9</td>\n",
       "      <td>87</td>\n",
       "      <td>friend</td>\n",
       "      <td>98.83.207.18</td>\n",
       "      <td>KJ Grandmom</td>\n",
       "    </tr>\n",
       "    <tr>\n",
       "      <th>7</th>\n",
       "      <td>10</td>\n",
       "      <td>87</td>\n",
       "      <td>friend</td>\n",
       "      <td>98.83.163.219</td>\n",
       "      <td>KJ Grandpa</td>\n",
       "    </tr>\n",
       "    <tr>\n",
       "      <th>8</th>\n",
       "      <td>12</td>\n",
       "      <td>104</td>\n",
       "      <td>friend</td>\n",
       "      <td>206.217.133.181</td>\n",
       "      <td>Hunk</td>\n",
       "    </tr>\n",
       "    <tr>\n",
       "      <th>9</th>\n",
       "      <td>13</td>\n",
       "      <td>115</td>\n",
       "      <td>enemy</td>\n",
       "      <td>65.31.232.85</td>\n",
       "      <td>Fox</td>\n",
       "    </tr>\n",
       "  </tbody>\n",
       "</table>\n",
       "</div>"
      ],
      "text/plain": [
       "   id  userid    type               ip              note\n",
       "0   1      13   enemy   98.228.171.107              Andy\n",
       "1   2      62   enemy     178.85.28.56  Scamming Sengira\n",
       "2   3      87  friend      68.224.1.51             Chris\n",
       "3   5      87  friend   71.224.149.170      Brian\\\\s Dad\n",
       "4   6      87  friend     174.57.87.57      Brian\\\\s Mom\n",
       "5   7      87  friend    67.61.196.151             Jimmy\n",
       "6   9      87  friend     98.83.207.18       KJ Grandmom\n",
       "7  10      87  friend    98.83.163.219        KJ Grandpa\n",
       "8  12     104  friend  206.217.133.181              Hunk\n",
       "9  13     115   enemy     65.31.232.85               Fox"
      ]
     },
     "execution_count": 22,
     "metadata": {},
     "output_type": "execute_result"
    }
   ],
   "source": [
    "# Loading the correct table name\n",
    "df_friendenemies = pd.read_csv(read_inserted_table(dumpfile, tablename),delimiter=\",\",error_bad_lines=False)\n",
    "\n",
    "# Converting columns\n",
    "df_friendenemies['type']=friendsenemies_type(df_friendenemies['type'])\n",
    "\n",
    "# Changing column names\n",
    "df_friendenemies.rename(inplace=True, columns={'ID':'id',\n",
    "                                          'userID':'userid'})\n",
    "\n",
    "# Adding missing columns (with \"\" [for future string] or np.nan [for future float])\n",
    "\n",
    "###Showing some lines after adapt the table\n",
    "df_friendenemies.head(10)"
   ]
  },
  {
   "cell_type": "markdown",
   "metadata": {},
   "source": [
    "## 6.3. Table: 'gateway'"
   ]
  },
  {
   "cell_type": "markdown",
   "metadata": {},
   "source": [
    "### How this table looks like without modification?"
   ]
  },
  {
   "cell_type": "code",
   "execution_count": 23,
   "metadata": {
    "collapsed": false
   },
   "outputs": [
    {
     "data": {
      "text/html": [
       "<div>\n",
       "<table border=\"1\" class=\"dataframe\">\n",
       "  <thead>\n",
       "    <tr style=\"text-align: right;\">\n",
       "      <th></th>\n",
       "      <th>email</th>\n",
       "    </tr>\n",
       "  </thead>\n",
       "  <tbody>\n",
       "    <tr>\n",
       "      <th>0</th>\n",
       "      <td>solace@love.com</td>\n",
       "    </tr>\n",
       "  </tbody>\n",
       "</table>\n",
       "</div>"
      ],
      "text/plain": [
       "             email\n",
       "0  solace@love.com"
      ]
     },
     "execution_count": 23,
     "metadata": {},
     "output_type": "execute_result"
    }
   ],
   "source": [
    "tablename='gateway'\n",
    "\n",
    "pd.read_csv(read_inserted_table(dumpfile, tablename),delimiter=\",\",error_bad_lines=False).head(10)"
   ]
  },
  {
   "cell_type": "markdown",
   "metadata": {},
   "source": [
    "#### Q1: Is this table different from other previous loaded table? YES \n",
    "#### Q2: Is this table similar to any table in the generic Booter database schema? YES\n",
    "    - This table looks like: gateways\n",
    "#### Q3: Are there modifications required? \n",
    "    - On the table name: \n",
    "        o gateway -> gateways\n",
    "    - On the column type: \n",
    "        o  \n",
    "    - On the column name:\n",
    "        o \n",
    "    - Add required columns:\n",
    "        o \n",
    "    - Split columns:\n",
    "        o "
   ]
  },
  {
   "cell_type": "markdown",
   "metadata": {},
   "source": [
    "### Modifying table: 'gateway'"
   ]
  },
  {
   "cell_type": "code",
   "execution_count": 25,
   "metadata": {
    "collapsed": false
   },
   "outputs": [
    {
     "data": {
      "text/html": [
       "<div>\n",
       "<table border=\"1\" class=\"dataframe\">\n",
       "  <thead>\n",
       "    <tr style=\"text-align: right;\">\n",
       "      <th></th>\n",
       "      <th>email</th>\n",
       "    </tr>\n",
       "  </thead>\n",
       "  <tbody>\n",
       "    <tr>\n",
       "      <th>0</th>\n",
       "      <td>solace@love.com</td>\n",
       "    </tr>\n",
       "  </tbody>\n",
       "</table>\n",
       "</div>"
      ],
      "text/plain": [
       "             email\n",
       "0  solace@love.com"
      ]
     },
     "execution_count": 25,
     "metadata": {},
     "output_type": "execute_result"
    }
   ],
   "source": [
    "# Loading the correct table name\n",
    "df_gateways = pd.read_csv(read_inserted_table(dumpfile, tablename),delimiter=\",\",error_bad_lines=False)\n",
    "\n",
    "# Converting columns\n",
    "\n",
    "# Changing column names\n",
    "\n",
    "# Showing some lines after adapt the table\n",
    "df_gateways.head(10)"
   ]
  },
  {
   "cell_type": "markdown",
   "metadata": {},
   "source": [
    "## 6.4. Table: 'iplogs'"
   ]
  },
  {
   "cell_type": "markdown",
   "metadata": {},
   "source": [
    "### How this table looks like without modification?"
   ]
  },
  {
   "cell_type": "code",
   "execution_count": 27,
   "metadata": {
    "collapsed": false
   },
   "outputs": [
    {
     "data": {
      "text/html": [
       "<div>\n",
       "<table border=\"1\" class=\"dataframe\">\n",
       "  <thead>\n",
       "    <tr style=\"text-align: right;\">\n",
       "      <th></th>\n",
       "      <th>ID</th>\n",
       "      <th>userID</th>\n",
       "      <th>logged</th>\n",
       "      <th>date</th>\n",
       "    </tr>\n",
       "  </thead>\n",
       "  <tbody>\n",
       "    <tr>\n",
       "      <th>0</th>\n",
       "      <td>110</td>\n",
       "      <td>169</td>\n",
       "      <td>99.228.120.154</td>\n",
       "      <td>1343825266</td>\n",
       "    </tr>\n",
       "    <tr>\n",
       "      <th>1</th>\n",
       "      <td>3</td>\n",
       "      <td>17</td>\n",
       "      <td>82.19.49.66</td>\n",
       "      <td>1343330476</td>\n",
       "    </tr>\n",
       "    <tr>\n",
       "      <th>2</th>\n",
       "      <td>643</td>\n",
       "      <td>123</td>\n",
       "      <td>66.249.85.58</td>\n",
       "      <td>1355352122</td>\n",
       "    </tr>\n",
       "    <tr>\n",
       "      <th>3</th>\n",
       "      <td>109</td>\n",
       "      <td>169</td>\n",
       "      <td>97.112.157.117</td>\n",
       "      <td>1343825035</td>\n",
       "    </tr>\n",
       "    <tr>\n",
       "      <th>4</th>\n",
       "      <td>108</td>\n",
       "      <td>169</td>\n",
       "      <td>98.127.42.196</td>\n",
       "      <td>1343824869</td>\n",
       "    </tr>\n",
       "    <tr>\n",
       "      <th>5</th>\n",
       "      <td>12</td>\n",
       "      <td>62</td>\n",
       "      <td>90.184.187.69</td>\n",
       "      <td>1343476825</td>\n",
       "    </tr>\n",
       "    <tr>\n",
       "      <th>6</th>\n",
       "      <td>13</td>\n",
       "      <td>62</td>\n",
       "      <td>62.107.45.66</td>\n",
       "      <td>1343481860</td>\n",
       "    </tr>\n",
       "    <tr>\n",
       "      <th>7</th>\n",
       "      <td>14</td>\n",
       "      <td>62</td>\n",
       "      <td>90.184.187.69</td>\n",
       "      <td>1343501958</td>\n",
       "    </tr>\n",
       "    <tr>\n",
       "      <th>8</th>\n",
       "      <td>15</td>\n",
       "      <td>62</td>\n",
       "      <td>90.184.187.69</td>\n",
       "      <td>1343501977</td>\n",
       "    </tr>\n",
       "    <tr>\n",
       "      <th>9</th>\n",
       "      <td>16</td>\n",
       "      <td>62</td>\n",
       "      <td>62.107.45.66</td>\n",
       "      <td>1343503107</td>\n",
       "    </tr>\n",
       "  </tbody>\n",
       "</table>\n",
       "</div>"
      ],
      "text/plain": [
       "    ID  userID          logged        date\n",
       "0  110     169  99.228.120.154  1343825266\n",
       "1    3      17     82.19.49.66  1343330476\n",
       "2  643     123    66.249.85.58  1355352122\n",
       "3  109     169  97.112.157.117  1343825035\n",
       "4  108     169   98.127.42.196  1343824869\n",
       "5   12      62   90.184.187.69  1343476825\n",
       "6   13      62    62.107.45.66  1343481860\n",
       "7   14      62   90.184.187.69  1343501958\n",
       "8   15      62   90.184.187.69  1343501977\n",
       "9   16      62    62.107.45.66  1343503107"
      ]
     },
     "execution_count": 27,
     "metadata": {},
     "output_type": "execute_result"
    }
   ],
   "source": [
    "tablename='iplogs'\n",
    "\n",
    "pd.read_csv(read_inserted_table(dumpfile, tablename),delimiter=\",\",error_bad_lines=False).head(10)"
   ]
  },
  {
   "cell_type": "markdown",
   "metadata": {},
   "source": [
    "#### Q1: Is this table different from other previous loaded table? YES \n",
    "#### Q2: Is this table similar to any table in the generic Booter database schema? YES\n",
    "    - This table looks like: logins\n",
    "#### Q3: Are there modifications required? \n",
    "    - On the table name: \n",
    "        o iplogs -> logins\n",
    "    - On the column type: \n",
    "        o date -> timestamp2datetime()\n",
    "    - On the column name:\n",
    "        o ID -> id\n",
    "        o userID -> userid\n",
    "        o logged -> userip\n",
    "        \n",
    "    - Add required columns:\n",
    "        o username \n",
    "   - Split columns:\n",
    "        o "
   ]
  },
  {
   "cell_type": "markdown",
   "metadata": {},
   "source": [
    "### Modifying table: 'iplogs'"
   ]
  },
  {
   "cell_type": "code",
   "execution_count": 28,
   "metadata": {
    "collapsed": false
   },
   "outputs": [
    {
     "data": {
      "text/html": [
       "<div>\n",
       "<table border=\"1\" class=\"dataframe\">\n",
       "  <thead>\n",
       "    <tr style=\"text-align: right;\">\n",
       "      <th></th>\n",
       "      <th>id</th>\n",
       "      <th>userid</th>\n",
       "      <th>userip</th>\n",
       "      <th>date</th>\n",
       "      <th>username</th>\n",
       "    </tr>\n",
       "  </thead>\n",
       "  <tbody>\n",
       "    <tr>\n",
       "      <th>0</th>\n",
       "      <td>110</td>\n",
       "      <td>169</td>\n",
       "      <td>99.228.120.154</td>\n",
       "      <td>2012-08-01 12:47:46</td>\n",
       "      <td>NaN</td>\n",
       "    </tr>\n",
       "    <tr>\n",
       "      <th>1</th>\n",
       "      <td>3</td>\n",
       "      <td>17</td>\n",
       "      <td>82.19.49.66</td>\n",
       "      <td>2012-07-26 19:21:16</td>\n",
       "      <td>NaN</td>\n",
       "    </tr>\n",
       "    <tr>\n",
       "      <th>2</th>\n",
       "      <td>643</td>\n",
       "      <td>123</td>\n",
       "      <td>66.249.85.58</td>\n",
       "      <td>2012-12-12 22:42:02</td>\n",
       "      <td>NaN</td>\n",
       "    </tr>\n",
       "    <tr>\n",
       "      <th>3</th>\n",
       "      <td>109</td>\n",
       "      <td>169</td>\n",
       "      <td>97.112.157.117</td>\n",
       "      <td>2012-08-01 12:43:55</td>\n",
       "      <td>NaN</td>\n",
       "    </tr>\n",
       "    <tr>\n",
       "      <th>4</th>\n",
       "      <td>108</td>\n",
       "      <td>169</td>\n",
       "      <td>98.127.42.196</td>\n",
       "      <td>2012-08-01 12:41:09</td>\n",
       "      <td>NaN</td>\n",
       "    </tr>\n",
       "    <tr>\n",
       "      <th>5</th>\n",
       "      <td>12</td>\n",
       "      <td>62</td>\n",
       "      <td>90.184.187.69</td>\n",
       "      <td>2012-07-28 12:00:25</td>\n",
       "      <td>NaN</td>\n",
       "    </tr>\n",
       "    <tr>\n",
       "      <th>6</th>\n",
       "      <td>13</td>\n",
       "      <td>62</td>\n",
       "      <td>62.107.45.66</td>\n",
       "      <td>2012-07-28 13:24:20</td>\n",
       "      <td>NaN</td>\n",
       "    </tr>\n",
       "    <tr>\n",
       "      <th>7</th>\n",
       "      <td>14</td>\n",
       "      <td>62</td>\n",
       "      <td>90.184.187.69</td>\n",
       "      <td>2012-07-28 18:59:18</td>\n",
       "      <td>NaN</td>\n",
       "    </tr>\n",
       "    <tr>\n",
       "      <th>8</th>\n",
       "      <td>15</td>\n",
       "      <td>62</td>\n",
       "      <td>90.184.187.69</td>\n",
       "      <td>2012-07-28 18:59:37</td>\n",
       "      <td>NaN</td>\n",
       "    </tr>\n",
       "    <tr>\n",
       "      <th>9</th>\n",
       "      <td>16</td>\n",
       "      <td>62</td>\n",
       "      <td>62.107.45.66</td>\n",
       "      <td>2012-07-28 19:18:27</td>\n",
       "      <td>NaN</td>\n",
       "    </tr>\n",
       "  </tbody>\n",
       "</table>\n",
       "</div>"
      ],
      "text/plain": [
       "    id  userid          userip                date  username\n",
       "0  110     169  99.228.120.154 2012-08-01 12:47:46       NaN\n",
       "1    3      17     82.19.49.66 2012-07-26 19:21:16       NaN\n",
       "2  643     123    66.249.85.58 2012-12-12 22:42:02       NaN\n",
       "3  109     169  97.112.157.117 2012-08-01 12:43:55       NaN\n",
       "4  108     169   98.127.42.196 2012-08-01 12:41:09       NaN\n",
       "5   12      62   90.184.187.69 2012-07-28 12:00:25       NaN\n",
       "6   13      62    62.107.45.66 2012-07-28 13:24:20       NaN\n",
       "7   14      62   90.184.187.69 2012-07-28 18:59:18       NaN\n",
       "8   15      62   90.184.187.69 2012-07-28 18:59:37       NaN\n",
       "9   16      62    62.107.45.66 2012-07-28 19:18:27       NaN"
      ]
     },
     "execution_count": 28,
     "metadata": {},
     "output_type": "execute_result"
    }
   ],
   "source": [
    "# Loading the correct table name\n",
    "df_logins = pd.read_csv(read_inserted_table(dumpfile, tablename),delimiter=\",\",error_bad_lines=False)\n",
    "\n",
    "# Converting columns\n",
    "df_logins['date']=timestamp2datetime(df_logins['date'])\n",
    "\n",
    "# Changing column names\n",
    "df_logins.rename(inplace=True, columns={'ID':'id',\n",
    "                                        'userID':'userid',\n",
    "                                        'logged':'userip'})\n",
    "# Adding missing columns\n",
    "df_logins['username']=np.nan\n",
    "\n",
    "# Showing some lines after adapt the table\n",
    "df_logins.head(10)"
   ]
  },
  {
   "cell_type": "markdown",
   "metadata": {},
   "source": [
    "## 6.5. Table: 'logs'!!!!!"
   ]
  },
  {
   "cell_type": "markdown",
   "metadata": {},
   "source": [
    "### How this table looks like without modification?"
   ]
  },
  {
   "cell_type": "code",
   "execution_count": 29,
   "metadata": {
    "collapsed": false
   },
   "outputs": [
    {
     "name": "stderr",
     "output_type": "stream",
     "text": [
      "b'Skipping line 485: expected 4 fields, saw 6\\nSkipping line 486: expected 4 fields, saw 6\\nSkipping line 487: expected 4 fields, saw 6\\nSkipping line 488: expected 4 fields, saw 6\\nSkipping line 489: expected 4 fields, saw 6\\nSkipping line 490: expected 4 fields, saw 6\\nSkipping line 491: expected 4 fields, saw 6\\nSkipping line 492: expected 4 fields, saw 6\\nSkipping line 493: expected 4 fields, saw 6\\nSkipping line 494: expected 4 fields, saw 6\\nSkipping line 495: expected 4 fields, saw 6\\nSkipping line 496: expected 4 fields, saw 6\\nSkipping line 497: expected 4 fields, saw 6\\nSkipping line 498: expected 4 fields, saw 6\\nSkipping line 499: expected 4 fields, saw 6\\nSkipping line 500: expected 4 fields, saw 6\\nSkipping line 501: expected 4 fields, saw 6\\nSkipping line 502: expected 4 fields, saw 6\\nSkipping line 503: expected 4 fields, saw 6\\nSkipping line 504: expected 4 fields, saw 6\\nSkipping line 505: expected 4 fields, saw 6\\nSkipping line 506: expected 4 fields, saw 6\\nSkipping line 507: expected 4 fields, saw 6\\nSkipping line 508: expected 4 fields, saw 6\\nSkipping line 509: expected 4 fields, saw 6\\nSkipping line 510: expected 4 fields, saw 6\\nSkipping line 511: expected 4 fields, saw 6\\nSkipping line 512: expected 4 fields, saw 6\\nSkipping line 513: expected 4 fields, saw 6\\nSkipping line 514: expected 4 fields, saw 6\\nSkipping line 515: expected 4 fields, saw 6\\nSkipping line 516: expected 4 fields, saw 6\\nSkipping line 517: expected 4 fields, saw 6\\nSkipping line 518: expected 4 fields, saw 6\\nSkipping line 519: expected 4 fields, saw 6\\nSkipping line 520: expected 4 fields, saw 6\\nSkipping line 521: expected 4 fields, saw 6\\nSkipping line 522: expected 4 fields, saw 6\\nSkipping line 523: expected 4 fields, saw 6\\nSkipping line 524: expected 4 fields, saw 6\\nSkipping line 525: expected 4 fields, saw 6\\nSkipping line 526: expected 4 fields, saw 6\\nSkipping line 527: expected 4 fields, saw 6\\nSkipping line 528: expected 4 fields, saw 6\\nSkipping line 529: expected 4 fields, saw 6\\nSkipping line 530: expected 4 fields, saw 6\\nSkipping line 531: expected 4 fields, saw 6\\nSkipping line 532: expected 4 fields, saw 6\\nSkipping line 533: expected 4 fields, saw 6\\nSkipping line 534: expected 4 fields, saw 6\\nSkipping line 535: expected 4 fields, saw 6\\nSkipping line 536: expected 4 fields, saw 6\\nSkipping line 537: expected 4 fields, saw 6\\nSkipping line 538: expected 4 fields, saw 6\\nSkipping line 539: expected 4 fields, saw 6\\nSkipping line 540: expected 4 fields, saw 6\\nSkipping line 541: expected 4 fields, saw 6\\nSkipping line 542: expected 4 fields, saw 6\\nSkipping line 543: expected 4 fields, saw 6\\nSkipping line 544: expected 4 fields, saw 6\\nSkipping line 545: expected 4 fields, saw 6\\nSkipping line 546: expected 4 fields, saw 6\\nSkipping line 547: expected 4 fields, saw 6\\nSkipping line 548: expected 4 fields, saw 6\\nSkipping line 549: expected 4 fields, saw 6\\nSkipping line 550: expected 4 fields, saw 6\\nSkipping line 551: expected 4 fields, saw 6\\nSkipping line 552: expected 4 fields, saw 6\\nSkipping line 553: expected 4 fields, saw 6\\nSkipping line 554: expected 4 fields, saw 6\\nSkipping line 555: expected 4 fields, saw 6\\nSkipping line 556: expected 4 fields, saw 6\\nSkipping line 557: expected 4 fields, saw 6\\nSkipping line 558: expected 4 fields, saw 6\\nSkipping line 559: expected 4 fields, saw 6\\nSkipping line 560: expected 4 fields, saw 6\\nSkipping line 561: expected 4 fields, saw 6\\nSkipping line 562: expected 4 fields, saw 6\\nSkipping line 563: expected 4 fields, saw 6\\nSkipping line 564: expected 4 fields, saw 6\\nSkipping line 565: expected 4 fields, saw 6\\nSkipping line 566: expected 4 fields, saw 6\\nSkipping line 567: expected 4 fields, saw 6\\nSkipping line 568: expected 4 fields, saw 6\\nSkipping line 569: expected 4 fields, saw 6\\nSkipping line 570: expected 4 fields, saw 6\\nSkipping line 571: expected 4 fields, saw 6\\nSkipping line 572: expected 4 fields, saw 6\\nSkipping line 573: expected 4 fields, saw 6\\nSkipping line 574: expected 4 fields, saw 6\\nSkipping line 575: expected 4 fields, saw 6\\nSkipping line 576: expected 4 fields, saw 6\\nSkipping line 577: expected 4 fields, saw 6\\nSkipping line 578: expected 4 fields, saw 6\\nSkipping line 579: expected 4 fields, saw 6\\nSkipping line 580: expected 4 fields, saw 6\\nSkipping line 581: expected 4 fields, saw 6\\nSkipping line 582: expected 4 fields, saw 6\\nSkipping line 583: expected 4 fields, saw 6\\nSkipping line 584: expected 4 fields, saw 6\\nSkipping line 585: expected 4 fields, saw 6\\nSkipping line 586: expected 4 fields, saw 6\\nSkipping line 587: expected 4 fields, saw 6\\nSkipping line 588: expected 4 fields, saw 6\\nSkipping line 589: expected 4 fields, saw 6\\nSkipping line 590: expected 4 fields, saw 6\\nSkipping line 591: expected 4 fields, saw 6\\nSkipping line 592: expected 4 fields, saw 6\\nSkipping line 593: expected 4 fields, saw 6\\nSkipping line 594: expected 4 fields, saw 6\\nSkipping line 595: expected 4 fields, saw 6\\nSkipping line 596: expected 4 fields, saw 6\\nSkipping line 597: expected 4 fields, saw 6\\nSkipping line 598: expected 4 fields, saw 6\\nSkipping line 599: expected 4 fields, saw 6\\nSkipping line 600: expected 4 fields, saw 6\\nSkipping line 601: expected 4 fields, saw 6\\nSkipping line 602: expected 4 fields, saw 6\\nSkipping line 603: expected 4 fields, saw 6\\nSkipping line 604: expected 4 fields, saw 6\\nSkipping line 605: expected 4 fields, saw 6\\nSkipping line 606: expected 4 fields, saw 6\\nSkipping line 607: expected 4 fields, saw 6\\nSkipping line 608: expected 4 fields, saw 6\\nSkipping line 609: expected 4 fields, saw 6\\nSkipping line 610: expected 4 fields, saw 6\\nSkipping line 611: expected 4 fields, saw 6\\nSkipping line 612: expected 4 fields, saw 6\\nSkipping line 613: expected 4 fields, saw 6\\nSkipping line 614: expected 4 fields, saw 6\\nSkipping line 615: expected 4 fields, saw 6\\nSkipping line 616: expected 4 fields, saw 6\\nSkipping line 617: expected 4 fields, saw 6\\nSkipping line 618: expected 4 fields, saw 6\\nSkipping line 619: expected 4 fields, saw 6\\nSkipping line 620: expected 4 fields, saw 6\\nSkipping line 621: expected 4 fields, saw 6\\nSkipping line 622: expected 4 fields, saw 6\\nSkipping line 623: expected 4 fields, saw 6\\nSkipping line 624: expected 4 fields, saw 6\\nSkipping line 625: expected 4 fields, saw 6\\nSkipping line 626: expected 4 fields, saw 6\\nSkipping line 627: expected 4 fields, saw 6\\nSkipping line 628: expected 4 fields, saw 6\\nSkipping line 629: expected 4 fields, saw 6\\nSkipping line 630: expected 4 fields, saw 6\\nSkipping line 631: expected 4 fields, saw 6\\nSkipping line 632: expected 4 fields, saw 6\\nSkipping line 633: expected 4 fields, saw 6\\nSkipping line 634: expected 4 fields, saw 6\\nSkipping line 635: expected 4 fields, saw 6\\nSkipping line 636: expected 4 fields, saw 6\\nSkipping line 637: expected 4 fields, saw 6\\nSkipping line 638: expected 4 fields, saw 6\\nSkipping line 639: expected 4 fields, saw 6\\nSkipping line 640: expected 4 fields, saw 6\\nSkipping line 641: expected 4 fields, saw 6\\nSkipping line 642: expected 4 fields, saw 6\\nSkipping line 643: expected 4 fields, saw 6\\nSkipping line 644: expected 4 fields, saw 6\\nSkipping line 645: expected 4 fields, saw 6\\nSkipping line 646: expected 4 fields, saw 6\\nSkipping line 647: expected 4 fields, saw 6\\nSkipping line 648: expected 4 fields, saw 6\\nSkipping line 649: expected 4 fields, saw 6\\nSkipping line 650: expected 4 fields, saw 6\\nSkipping line 651: expected 4 fields, saw 6\\nSkipping line 652: expected 4 fields, saw 6\\nSkipping line 653: expected 4 fields, saw 6\\nSkipping line 654: expected 4 fields, saw 6\\nSkipping line 655: expected 4 fields, saw 6\\nSkipping line 656: expected 4 fields, saw 6\\nSkipping line 657: expected 4 fields, saw 6\\nSkipping line 658: expected 4 fields, saw 6\\nSkipping line 659: expected 4 fields, saw 6\\nSkipping line 660: expected 4 fields, saw 6\\nSkipping line 661: expected 4 fields, saw 6\\nSkipping line 662: expected 4 fields, saw 6\\nSkipping line 663: expected 4 fields, saw 6\\nSkipping line 664: expected 4 fields, saw 6\\nSkipping line 665: expected 4 fields, saw 6\\nSkipping line 666: expected 4 fields, saw 6\\nSkipping line 667: expected 4 fields, saw 6\\nSkipping line 668: expected 4 fields, saw 6\\nSkipping line 669: expected 4 fields, saw 6\\nSkipping line 670: expected 4 fields, saw 6\\nSkipping line 671: expected 4 fields, saw 6\\nSkipping line 672: expected 4 fields, saw 6\\nSkipping line 673: expected 4 fields, saw 6\\nSkipping line 674: expected 4 fields, saw 6\\nSkipping line 675: expected 4 fields, saw 6\\nSkipping line 676: expected 4 fields, saw 6\\nSkipping line 677: expected 4 fields, saw 6\\nSkipping line 678: expected 4 fields, saw 6\\nSkipping line 679: expected 4 fields, saw 6\\nSkipping line 680: expected 4 fields, saw 6\\nSkipping line 681: expected 4 fields, saw 6\\nSkipping line 682: expected 4 fields, saw 6\\nSkipping line 683: expected 4 fields, saw 6\\nSkipping line 684: expected 4 fields, saw 6\\nSkipping line 685: expected 4 fields, saw 6\\nSkipping line 686: expected 4 fields, saw 6\\nSkipping line 687: expected 4 fields, saw 6\\nSkipping line 688: expected 4 fields, saw 6\\nSkipping line 689: expected 4 fields, saw 6\\nSkipping line 690: expected 4 fields, saw 6\\nSkipping line 691: expected 4 fields, saw 6\\nSkipping line 692: expected 4 fields, saw 6\\nSkipping line 693: expected 4 fields, saw 6\\nSkipping line 694: expected 4 fields, saw 6\\nSkipping line 695: expected 4 fields, saw 6\\nSkipping line 696: expected 4 fields, saw 6\\nSkipping line 697: expected 4 fields, saw 6\\nSkipping line 698: expected 4 fields, saw 6\\nSkipping line 699: expected 4 fields, saw 6\\nSkipping line 700: expected 4 fields, saw 6\\nSkipping line 701: expected 4 fields, saw 6\\nSkipping line 702: expected 4 fields, saw 6\\nSkipping line 703: expected 4 fields, saw 6\\nSkipping line 704: expected 4 fields, saw 6\\nSkipping line 705: expected 4 fields, saw 6\\nSkipping line 706: expected 4 fields, saw 6\\nSkipping line 707: expected 4 fields, saw 6\\nSkipping line 708: expected 4 fields, saw 6\\nSkipping line 709: expected 4 fields, saw 6\\nSkipping line 710: expected 4 fields, saw 6\\nSkipping line 711: expected 4 fields, saw 6\\nSkipping line 712: expected 4 fields, saw 6\\nSkipping line 713: expected 4 fields, saw 6\\nSkipping line 714: expected 4 fields, saw 6\\nSkipping line 715: expected 4 fields, saw 6\\nSkipping line 716: expected 4 fields, saw 6\\nSkipping line 717: expected 4 fields, saw 6\\nSkipping line 718: expected 4 fields, saw 6\\nSkipping line 719: expected 4 fields, saw 6\\nSkipping line 720: expected 4 fields, saw 6\\nSkipping line 721: expected 4 fields, saw 6\\nSkipping line 722: expected 4 fields, saw 6\\nSkipping line 723: expected 4 fields, saw 6\\nSkipping line 724: expected 4 fields, saw 6\\nSkipping line 725: expected 4 fields, saw 6\\nSkipping line 726: expected 4 fields, saw 6\\nSkipping line 727: expected 4 fields, saw 6\\nSkipping line 728: expected 4 fields, saw 6\\nSkipping line 729: expected 4 fields, saw 6\\nSkipping line 730: expected 4 fields, saw 6\\nSkipping line 731: expected 4 fields, saw 6\\nSkipping line 732: expected 4 fields, saw 6\\nSkipping line 733: expected 4 fields, saw 6\\nSkipping line 734: expected 4 fields, saw 6\\nSkipping line 735: expected 4 fields, saw 6\\nSkipping line 736: expected 4 fields, saw 6\\nSkipping line 737: expected 4 fields, saw 6\\nSkipping line 738: expected 4 fields, saw 6\\nSkipping line 739: expected 4 fields, saw 6\\nSkipping line 740: expected 4 fields, saw 6\\nSkipping line 741: expected 4 fields, saw 6\\nSkipping line 742: expected 4 fields, saw 6\\nSkipping line 743: expected 4 fields, saw 6\\nSkipping line 744: expected 4 fields, saw 6\\nSkipping line 745: expected 4 fields, saw 6\\nSkipping line 746: expected 4 fields, saw 6\\nSkipping line 747: expected 4 fields, saw 6\\nSkipping line 748: expected 4 fields, saw 6\\nSkipping line 749: expected 4 fields, saw 6\\nSkipping line 750: expected 4 fields, saw 6\\nSkipping line 751: expected 4 fields, saw 6\\nSkipping line 752: expected 4 fields, saw 6\\nSkipping line 753: expected 4 fields, saw 6\\nSkipping line 754: expected 4 fields, saw 6\\nSkipping line 755: expected 4 fields, saw 6\\nSkipping line 756: expected 4 fields, saw 6\\nSkipping line 757: expected 4 fields, saw 6\\nSkipping line 758: expected 4 fields, saw 6\\nSkipping line 759: expected 4 fields, saw 6\\nSkipping line 760: expected 4 fields, saw 6\\nSkipping line 761: expected 4 fields, saw 6\\nSkipping line 762: expected 4 fields, saw 6\\nSkipping line 763: expected 4 fields, saw 6\\nSkipping line 764: expected 4 fields, saw 6\\nSkipping line 765: expected 4 fields, saw 6\\nSkipping line 766: expected 4 fields, saw 6\\nSkipping line 767: expected 4 fields, saw 6\\nSkipping line 768: expected 4 fields, saw 6\\nSkipping line 769: expected 4 fields, saw 6\\nSkipping line 770: expected 4 fields, saw 6\\nSkipping line 771: expected 4 fields, saw 6\\nSkipping line 772: expected 4 fields, saw 6\\nSkipping line 773: expected 4 fields, saw 6\\nSkipping line 774: expected 4 fields, saw 6\\nSkipping line 775: expected 4 fields, saw 6\\nSkipping line 776: expected 4 fields, saw 6\\nSkipping line 777: expected 4 fields, saw 6\\nSkipping line 778: expected 4 fields, saw 6\\nSkipping line 779: expected 4 fields, saw 6\\nSkipping line 780: expected 4 fields, saw 6\\nSkipping line 781: expected 4 fields, saw 6\\nSkipping line 782: expected 4 fields, saw 6\\nSkipping line 783: expected 4 fields, saw 6\\nSkipping line 784: expected 4 fields, saw 6\\nSkipping line 785: expected 4 fields, saw 6\\nSkipping line 786: expected 4 fields, saw 6\\nSkipping line 787: expected 4 fields, saw 6\\nSkipping line 788: expected 4 fields, saw 6\\nSkipping line 789: expected 4 fields, saw 6\\nSkipping line 790: expected 4 fields, saw 6\\nSkipping line 791: expected 4 fields, saw 6\\nSkipping line 792: expected 4 fields, saw 6\\nSkipping line 793: expected 4 fields, saw 6\\nSkipping line 794: expected 4 fields, saw 6\\nSkipping line 795: expected 4 fields, saw 6\\nSkipping line 796: expected 4 fields, saw 6\\nSkipping line 797: expected 4 fields, saw 6\\nSkipping line 798: expected 4 fields, saw 6\\nSkipping line 799: expected 4 fields, saw 6\\nSkipping line 800: expected 4 fields, saw 6\\nSkipping line 801: expected 4 fields, saw 6\\nSkipping line 802: expected 4 fields, saw 6\\nSkipping line 803: expected 4 fields, saw 6\\nSkipping line 804: expected 4 fields, saw 6\\nSkipping line 805: expected 4 fields, saw 6\\nSkipping line 806: expected 4 fields, saw 6\\nSkipping line 807: expected 4 fields, saw 6\\nSkipping line 808: expected 4 fields, saw 6\\nSkipping line 809: expected 4 fields, saw 6\\nSkipping line 810: expected 4 fields, saw 6\\nSkipping line 811: expected 4 fields, saw 6\\nSkipping line 812: expected 4 fields, saw 6\\nSkipping line 813: expected 4 fields, saw 6\\nSkipping line 814: expected 4 fields, saw 6\\nSkipping line 815: expected 4 fields, saw 6\\nSkipping line 816: expected 4 fields, saw 6\\nSkipping line 817: expected 4 fields, saw 6\\nSkipping line 818: expected 4 fields, saw 6\\nSkipping line 819: expected 4 fields, saw 6\\nSkipping line 820: expected 4 fields, saw 6\\nSkipping line 821: expected 4 fields, saw 6\\nSkipping line 822: expected 4 fields, saw 6\\nSkipping line 823: expected 4 fields, saw 6\\nSkipping line 824: expected 4 fields, saw 6\\nSkipping line 825: expected 4 fields, saw 6\\nSkipping line 826: expected 4 fields, saw 6\\nSkipping line 827: expected 4 fields, saw 6\\nSkipping line 828: expected 4 fields, saw 6\\nSkipping line 829: expected 4 fields, saw 6\\nSkipping line 830: expected 4 fields, saw 6\\nSkipping line 831: expected 4 fields, saw 6\\nSkipping line 832: expected 4 fields, saw 6\\nSkipping line 833: expected 4 fields, saw 6\\nSkipping line 834: expected 4 fields, saw 6\\nSkipping line 835: expected 4 fields, saw 6\\nSkipping line 836: expected 4 fields, saw 6\\nSkipping line 837: expected 4 fields, saw 6\\nSkipping line 838: expected 4 fields, saw 6\\nSkipping line 839: expected 4 fields, saw 6\\nSkipping line 840: expected 4 fields, saw 6\\nSkipping line 841: expected 4 fields, saw 6\\nSkipping line 842: expected 4 fields, saw 6\\nSkipping line 843: expected 4 fields, saw 6\\nSkipping line 844: expected 4 fields, saw 6\\nSkipping line 845: expected 4 fields, saw 6\\nSkipping line 846: expected 4 fields, saw 6\\nSkipping line 847: expected 4 fields, saw 6\\nSkipping line 848: expected 4 fields, saw 6\\nSkipping line 849: expected 4 fields, saw 6\\nSkipping line 850: expected 4 fields, saw 6\\nSkipping line 851: expected 4 fields, saw 6\\nSkipping line 852: expected 4 fields, saw 6\\nSkipping line 853: expected 4 fields, saw 6\\nSkipping line 854: expected 4 fields, saw 6\\nSkipping line 855: expected 4 fields, saw 6\\nSkipping line 856: expected 4 fields, saw 6\\nSkipping line 857: expected 4 fields, saw 6\\nSkipping line 858: expected 4 fields, saw 6\\nSkipping line 859: expected 4 fields, saw 6\\nSkipping line 860: expected 4 fields, saw 6\\nSkipping line 861: expected 4 fields, saw 6\\nSkipping line 862: expected 4 fields, saw 6\\nSkipping line 863: expected 4 fields, saw 6\\nSkipping line 864: expected 4 fields, saw 6\\nSkipping line 865: expected 4 fields, saw 6\\nSkipping line 866: expected 4 fields, saw 6\\nSkipping line 867: expected 4 fields, saw 6\\nSkipping line 868: expected 4 fields, saw 6\\nSkipping line 869: expected 4 fields, saw 6\\nSkipping line 870: expected 4 fields, saw 6\\nSkipping line 871: expected 4 fields, saw 6\\nSkipping line 872: expected 4 fields, saw 6\\nSkipping line 873: expected 4 fields, saw 6\\nSkipping line 874: expected 4 fields, saw 6\\nSkipping line 875: expected 4 fields, saw 6\\nSkipping line 876: expected 4 fields, saw 6\\nSkipping line 877: expected 4 fields, saw 6\\nSkipping line 878: expected 4 fields, saw 6\\nSkipping line 879: expected 4 fields, saw 6\\nSkipping line 880: expected 4 fields, saw 6\\nSkipping line 881: expected 4 fields, saw 6\\nSkipping line 882: expected 4 fields, saw 6\\nSkipping line 883: expected 4 fields, saw 6\\nSkipping line 884: expected 4 fields, saw 6\\nSkipping line 885: expected 4 fields, saw 6\\nSkipping line 886: expected 4 fields, saw 6\\nSkipping line 887: expected 4 fields, saw 6\\nSkipping line 888: expected 4 fields, saw 6\\nSkipping line 889: expected 4 fields, saw 6\\nSkipping line 890: expected 4 fields, saw 6\\nSkipping line 891: expected 4 fields, saw 6\\nSkipping line 892: expected 4 fields, saw 6\\nSkipping line 893: expected 4 fields, saw 6\\nSkipping line 894: expected 4 fields, saw 6\\nSkipping line 895: expected 4 fields, saw 6\\nSkipping line 896: expected 4 fields, saw 6\\nSkipping line 897: expected 4 fields, saw 6\\nSkipping line 898: expected 4 fields, saw 6\\nSkipping line 899: expected 4 fields, saw 6\\nSkipping line 900: expected 4 fields, saw 6\\nSkipping line 901: expected 4 fields, saw 6\\nSkipping line 902: expected 4 fields, saw 6\\nSkipping line 903: expected 4 fields, saw 6\\nSkipping line 904: expected 4 fields, saw 6\\nSkipping line 905: expected 4 fields, saw 6\\nSkipping line 906: expected 4 fields, saw 6\\nSkipping line 907: expected 4 fields, saw 6\\nSkipping line 908: expected 4 fields, saw 6\\nSkipping line 909: expected 4 fields, saw 6\\nSkipping line 910: expected 4 fields, saw 6\\nSkipping line 911: expected 4 fields, saw 6\\nSkipping line 912: expected 4 fields, saw 6\\nSkipping line 913: expected 4 fields, saw 6\\nSkipping line 914: expected 4 fields, saw 6\\nSkipping line 915: expected 4 fields, saw 6\\nSkipping line 916: expected 4 fields, saw 6\\nSkipping line 917: expected 4 fields, saw 6\\nSkipping line 918: expected 4 fields, saw 6\\nSkipping line 919: expected 4 fields, saw 6\\nSkipping line 920: expected 4 fields, saw 6\\nSkipping line 921: expected 4 fields, saw 6\\nSkipping line 922: expected 4 fields, saw 6\\nSkipping line 923: expected 4 fields, saw 6\\nSkipping line 924: expected 4 fields, saw 6\\nSkipping line 925: expected 4 fields, saw 6\\nSkipping line 926: expected 4 fields, saw 6\\nSkipping line 927: expected 4 fields, saw 6\\nSkipping line 928: expected 4 fields, saw 6\\nSkipping line 929: expected 4 fields, saw 6\\nSkipping line 930: expected 4 fields, saw 6\\nSkipping line 931: expected 4 fields, saw 6\\nSkipping line 932: expected 4 fields, saw 6\\nSkipping line 933: expected 4 fields, saw 6\\nSkipping line 934: expected 4 fields, saw 6\\nSkipping line 935: expected 4 fields, saw 6\\nSkipping line 936: expected 4 fields, saw 6\\nSkipping line 937: expected 4 fields, saw 6\\nSkipping line 938: expected 4 fields, saw 6\\nSkipping line 939: expected 4 fields, saw 6\\nSkipping line 940: expected 4 fields, saw 6\\nSkipping line 941: expected 4 fields, saw 6\\nSkipping line 942: expected 4 fields, saw 6\\nSkipping line 943: expected 4 fields, saw 6\\nSkipping line 944: expected 4 fields, saw 6\\nSkipping line 945: expected 4 fields, saw 6\\nSkipping line 946: expected 4 fields, saw 6\\nSkipping line 947: expected 4 fields, saw 6\\nSkipping line 948: expected 4 fields, saw 6\\nSkipping line 949: expected 4 fields, saw 6\\nSkipping line 950: expected 4 fields, saw 6\\nSkipping line 951: expected 4 fields, saw 6\\nSkipping line 952: expected 4 fields, saw 6\\nSkipping line 953: expected 4 fields, saw 6\\nSkipping line 954: expected 4 fields, saw 6\\nSkipping line 955: expected 4 fields, saw 6\\nSkipping line 956: expected 4 fields, saw 6\\nSkipping line 957: expected 4 fields, saw 6\\nSkipping line 958: expected 4 fields, saw 6\\nSkipping line 959: expected 4 fields, saw 6\\nSkipping line 960: expected 4 fields, saw 6\\nSkipping line 961: expected 4 fields, saw 6\\nSkipping line 962: expected 4 fields, saw 6\\nSkipping line 963: expected 4 fields, saw 6\\nSkipping line 964: expected 4 fields, saw 6\\nSkipping line 965: expected 4 fields, saw 6\\nSkipping line 966: expected 4 fields, saw 6\\nSkipping line 967: expected 4 fields, saw 6\\nSkipping line 968: expected 4 fields, saw 6\\nSkipping line 969: expected 4 fields, saw 6\\nSkipping line 970: expected 4 fields, saw 6\\nSkipping line 971: expected 4 fields, saw 6\\nSkipping line 972: expected 4 fields, saw 6\\nSkipping line 973: expected 4 fields, saw 6\\nSkipping line 974: expected 4 fields, saw 6\\nSkipping line 975: expected 4 fields, saw 6\\nSkipping line 976: expected 4 fields, saw 6\\nSkipping line 977: expected 4 fields, saw 6\\nSkipping line 978: expected 4 fields, saw 6\\nSkipping line 979: expected 4 fields, saw 6\\nSkipping line 980: expected 4 fields, saw 6\\nSkipping line 981: expected 4 fields, saw 6\\nSkipping line 982: expected 4 fields, saw 6\\nSkipping line 983: expected 4 fields, saw 6\\nSkipping line 984: expected 4 fields, saw 6\\nSkipping line 985: expected 4 fields, saw 6\\nSkipping line 986: expected 4 fields, saw 6\\nSkipping line 987: expected 4 fields, saw 6\\nSkipping line 988: expected 4 fields, saw 6\\nSkipping line 989: expected 4 fields, saw 6\\nSkipping line 990: expected 4 fields, saw 6\\nSkipping line 991: expected 4 fields, saw 6\\nSkipping line 992: expected 4 fields, saw 6\\nSkipping line 993: expected 4 fields, saw 6\\nSkipping line 994: expected 4 fields, saw 6\\nSkipping line 995: expected 4 fields, saw 6\\nSkipping line 996: expected 4 fields, saw 6\\nSkipping line 997: expected 4 fields, saw 6\\nSkipping line 998: expected 4 fields, saw 6\\nSkipping line 999: expected 4 fields, saw 6\\nSkipping line 1000: expected 4 fields, saw 6\\nSkipping line 1001: expected 4 fields, saw 6\\nSkipping line 1002: expected 4 fields, saw 6\\nSkipping line 1003: expected 4 fields, saw 6\\nSkipping line 1004: expected 4 fields, saw 6\\nSkipping line 1005: expected 4 fields, saw 6\\nSkipping line 1006: expected 4 fields, saw 6\\nSkipping line 1007: expected 4 fields, saw 6\\nSkipping line 1008: expected 4 fields, saw 6\\nSkipping line 1009: expected 4 fields, saw 6\\nSkipping line 1010: expected 4 fields, saw 6\\nSkipping line 1011: expected 4 fields, saw 6\\nSkipping line 1012: expected 4 fields, saw 6\\nSkipping line 1013: expected 4 fields, saw 6\\nSkipping line 1014: expected 4 fields, saw 6\\nSkipping line 1015: expected 4 fields, saw 6\\nSkipping line 1016: expected 4 fields, saw 6\\nSkipping line 1017: expected 4 fields, saw 6\\nSkipping line 1018: expected 4 fields, saw 6\\nSkipping line 1019: expected 4 fields, saw 6\\nSkipping line 1020: expected 4 fields, saw 6\\nSkipping line 1021: expected 4 fields, saw 6\\nSkipping line 1022: expected 4 fields, saw 6\\nSkipping line 1023: expected 4 fields, saw 6\\nSkipping line 1024: expected 4 fields, saw 6\\nSkipping line 1025: expected 4 fields, saw 6\\nSkipping line 1026: expected 4 fields, saw 6\\nSkipping line 1027: expected 4 fields, saw 6\\nSkipping line 1028: expected 4 fields, saw 6\\nSkipping line 1029: expected 4 fields, saw 6\\nSkipping line 1030: expected 4 fields, saw 6\\nSkipping line 1031: expected 4 fields, saw 6\\nSkipping line 1032: expected 4 fields, saw 6\\nSkipping line 1033: expected 4 fields, saw 6\\nSkipping line 1034: expected 4 fields, saw 6\\nSkipping line 1035: expected 4 fields, saw 6\\nSkipping line 1036: expected 4 fields, saw 6\\nSkipping line 1037: expected 4 fields, saw 6\\nSkipping line 1038: expected 4 fields, saw 6\\nSkipping line 1039: expected 4 fields, saw 6\\nSkipping line 1040: expected 4 fields, saw 6\\nSkipping line 1041: expected 4 fields, saw 6\\nSkipping line 1042: expected 4 fields, saw 6\\nSkipping line 1043: expected 4 fields, saw 6\\nSkipping line 1044: expected 4 fields, saw 6\\nSkipping line 1045: expected 4 fields, saw 6\\nSkipping line 1046: expected 4 fields, saw 6\\nSkipping line 1047: expected 4 fields, saw 6\\nSkipping line 1048: expected 4 fields, saw 6\\nSkipping line 1049: expected 4 fields, saw 6\\nSkipping line 1050: expected 4 fields, saw 6\\nSkipping line 1051: expected 4 fields, saw 6\\nSkipping line 1052: expected 4 fields, saw 6\\nSkipping line 1053: expected 4 fields, saw 6\\nSkipping line 1054: expected 4 fields, saw 6\\nSkipping line 1055: expected 4 fields, saw 6\\nSkipping line 1056: expected 4 fields, saw 6\\nSkipping line 1057: expected 4 fields, saw 6\\nSkipping line 1058: expected 4 fields, saw 6\\nSkipping line 1059: expected 4 fields, saw 6\\nSkipping line 1060: expected 4 fields, saw 6\\nSkipping line 1061: expected 4 fields, saw 6\\nSkipping line 1062: expected 4 fields, saw 6\\nSkipping line 1063: expected 4 fields, saw 6\\nSkipping line 1064: expected 4 fields, saw 6\\nSkipping line 1065: expected 4 fields, saw 6\\nSkipping line 1066: expected 4 fields, saw 6\\nSkipping line 1067: expected 4 fields, saw 6\\nSkipping line 1068: expected 4 fields, saw 6\\nSkipping line 1069: expected 4 fields, saw 6\\nSkipping line 1070: expected 4 fields, saw 6\\nSkipping line 1071: expected 4 fields, saw 6\\nSkipping line 1072: expected 4 fields, saw 6\\nSkipping line 1073: expected 4 fields, saw 6\\nSkipping line 1074: expected 4 fields, saw 6\\nSkipping line 1075: expected 4 fields, saw 6\\nSkipping line 1076: expected 4 fields, saw 6\\nSkipping line 1077: expected 4 fields, saw 6\\nSkipping line 1078: expected 4 fields, saw 6\\nSkipping line 1079: expected 4 fields, saw 6\\nSkipping line 1080: expected 4 fields, saw 6\\nSkipping line 1081: expected 4 fields, saw 6\\nSkipping line 1082: expected 4 fields, saw 6\\nSkipping line 1083: expected 4 fields, saw 6\\nSkipping line 1084: expected 4 fields, saw 6\\nSkipping line 1085: expected 4 fields, saw 6\\nSkipping line 1086: expected 4 fields, saw 6\\nSkipping line 1087: expected 4 fields, saw 6\\nSkipping line 1088: expected 4 fields, saw 6\\nSkipping line 1089: expected 4 fields, saw 6\\nSkipping line 1090: expected 4 fields, saw 6\\nSkipping line 1091: expected 4 fields, saw 6\\nSkipping line 1092: expected 4 fields, saw 6\\nSkipping line 1093: expected 4 fields, saw 6\\nSkipping line 1094: expected 4 fields, saw 6\\nSkipping line 1095: expected 4 fields, saw 6\\nSkipping line 1096: expected 4 fields, saw 6\\nSkipping line 1097: expected 4 fields, saw 6\\nSkipping line 1098: expected 4 fields, saw 6\\nSkipping line 1099: expected 4 fields, saw 6\\nSkipping line 1100: expected 4 fields, saw 6\\nSkipping line 1101: expected 4 fields, saw 6\\nSkipping line 1102: expected 4 fields, saw 6\\nSkipping line 1103: expected 4 fields, saw 6\\nSkipping line 1104: expected 4 fields, saw 6\\nSkipping line 1105: expected 4 fields, saw 6\\nSkipping line 1106: expected 4 fields, saw 6\\nSkipping line 1107: expected 4 fields, saw 6\\nSkipping line 1108: expected 4 fields, saw 6\\nSkipping line 1109: expected 4 fields, saw 6\\nSkipping line 1110: expected 4 fields, saw 6\\nSkipping line 1111: expected 4 fields, saw 6\\nSkipping line 1112: expected 4 fields, saw 6\\nSkipping line 1113: expected 4 fields, saw 6\\nSkipping line 1114: expected 4 fields, saw 6\\nSkipping line 1115: expected 4 fields, saw 6\\nSkipping line 1116: expected 4 fields, saw 6\\nSkipping line 1117: expected 4 fields, saw 6\\nSkipping line 1118: expected 4 fields, saw 6\\nSkipping line 1119: expected 4 fields, saw 6\\nSkipping line 1120: expected 4 fields, saw 6\\nSkipping line 1121: expected 4 fields, saw 6\\nSkipping line 1122: expected 4 fields, saw 6\\nSkipping line 1123: expected 4 fields, saw 6\\nSkipping line 1124: expected 4 fields, saw 6\\nSkipping line 1125: expected 4 fields, saw 6\\nSkipping line 1126: expected 4 fields, saw 6\\nSkipping line 1127: expected 4 fields, saw 6\\nSkipping line 1128: expected 4 fields, saw 6\\nSkipping line 1129: expected 4 fields, saw 6\\nSkipping line 1130: expected 4 fields, saw 6\\nSkipping line 1131: expected 4 fields, saw 6\\nSkipping line 1132: expected 4 fields, saw 6\\nSkipping line 1133: expected 4 fields, saw 6\\nSkipping line 1134: expected 4 fields, saw 6\\nSkipping line 1135: expected 4 fields, saw 6\\nSkipping line 1136: expected 4 fields, saw 6\\nSkipping line 1137: expected 4 fields, saw 6\\nSkipping line 1138: expected 4 fields, saw 6\\nSkipping line 1139: expected 4 fields, saw 6\\nSkipping line 1140: expected 4 fields, saw 6\\nSkipping line 1141: expected 4 fields, saw 6\\nSkipping line 1142: expected 4 fields, saw 6\\nSkipping line 1143: expected 4 fields, saw 6\\nSkipping line 1144: expected 4 fields, saw 6\\nSkipping line 1145: expected 4 fields, saw 6\\nSkipping line 1146: expected 4 fields, saw 6\\nSkipping line 1147: expected 4 fields, saw 6\\nSkipping line 1148: expected 4 fields, saw 6\\nSkipping line 1149: expected 4 fields, saw 6\\nSkipping line 1150: expected 4 fields, saw 6\\nSkipping line 1151: expected 4 fields, saw 6\\nSkipping line 1152: expected 4 fields, saw 6\\nSkipping line 1153: expected 4 fields, saw 6\\nSkipping line 1154: expected 4 fields, saw 6\\nSkipping line 1155: expected 4 fields, saw 6\\nSkipping line 1156: expected 4 fields, saw 6\\nSkipping line 1157: expected 4 fields, saw 6\\nSkipping line 1158: expected 4 fields, saw 6\\nSkipping line 1159: expected 4 fields, saw 6\\nSkipping line 1160: expected 4 fields, saw 6\\nSkipping line 1161: expected 4 fields, saw 6\\nSkipping line 1162: expected 4 fields, saw 6\\nSkipping line 1163: expected 4 fields, saw 6\\nSkipping line 1164: expected 4 fields, saw 6\\nSkipping line 1165: expected 4 fields, saw 6\\nSkipping line 1166: expected 4 fields, saw 6\\nSkipping line 1167: expected 4 fields, saw 6\\nSkipping line 1168: expected 4 fields, saw 6\\nSkipping line 1169: expected 4 fields, saw 6\\nSkipping line 1170: expected 4 fields, saw 6\\nSkipping line 1171: expected 4 fields, saw 6\\nSkipping line 1172: expected 4 fields, saw 6\\nSkipping line 1173: expected 4 fields, saw 6\\nSkipping line 1174: expected 4 fields, saw 6\\nSkipping line 1175: expected 4 fields, saw 6\\nSkipping line 1176: expected 4 fields, saw 6\\nSkipping line 1177: expected 4 fields, saw 6\\nSkipping line 1178: expected 4 fields, saw 6\\nSkipping line 1179: expected 4 fields, saw 6\\nSkipping line 1180: expected 4 fields, saw 6\\nSkipping line 1181: expected 4 fields, saw 6\\nSkipping line 1182: expected 4 fields, saw 6\\nSkipping line 1183: expected 4 fields, saw 6\\nSkipping line 1184: expected 4 fields, saw 6\\nSkipping line 1185: expected 4 fields, saw 6\\nSkipping line 1186: expected 4 fields, saw 6\\nSkipping line 1187: expected 4 fields, saw 6\\nSkipping line 1188: expected 4 fields, saw 6\\nSkipping line 1189: expected 4 fields, saw 6\\nSkipping line 1190: expected 4 fields, saw 6\\nSkipping line 1191: expected 4 fields, saw 6\\nSkipping line 1192: expected 4 fields, saw 6\\nSkipping line 1193: expected 4 fields, saw 6\\nSkipping line 1194: expected 4 fields, saw 6\\nSkipping line 1195: expected 4 fields, saw 6\\nSkipping line 1196: expected 4 fields, saw 6\\nSkipping line 1197: expected 4 fields, saw 6\\nSkipping line 1198: expected 4 fields, saw 6\\nSkipping line 1199: expected 4 fields, saw 6\\nSkipping line 1200: expected 4 fields, saw 6\\nSkipping line 1201: expected 4 fields, saw 6\\nSkipping line 1202: expected 4 fields, saw 6\\nSkipping line 1203: expected 4 fields, saw 6\\nSkipping line 1204: expected 4 fields, saw 6\\nSkipping line 1205: expected 4 fields, saw 6\\nSkipping line 1206: expected 4 fields, saw 6\\nSkipping line 1207: expected 4 fields, saw 6\\nSkipping line 1208: expected 4 fields, saw 6\\nSkipping line 1209: expected 4 fields, saw 6\\nSkipping line 1210: expected 4 fields, saw 6\\nSkipping line 1211: expected 4 fields, saw 6\\nSkipping line 1212: expected 4 fields, saw 6\\nSkipping line 1213: expected 4 fields, saw 6\\nSkipping line 1214: expected 4 fields, saw 6\\nSkipping line 1215: expected 4 fields, saw 6\\nSkipping line 1216: expected 4 fields, saw 6\\nSkipping line 1217: expected 4 fields, saw 6\\nSkipping line 1218: expected 4 fields, saw 6\\nSkipping line 1219: expected 4 fields, saw 6\\nSkipping line 1220: expected 4 fields, saw 6\\nSkipping line 1221: expected 4 fields, saw 6\\nSkipping line 1222: expected 4 fields, saw 6\\nSkipping line 1223: expected 4 fields, saw 6\\nSkipping line 1224: expected 4 fields, saw 6\\nSkipping line 1225: expected 4 fields, saw 6\\nSkipping line 1226: expected 4 fields, saw 6\\nSkipping line 1227: expected 4 fields, saw 6\\nSkipping line 1228: expected 4 fields, saw 6\\nSkipping line 1229: expected 4 fields, saw 6\\nSkipping line 1230: expected 4 fields, saw 6\\nSkipping line 1231: expected 4 fields, saw 6\\nSkipping line 1232: expected 4 fields, saw 6\\nSkipping line 1233: expected 4 fields, saw 6\\nSkipping line 1234: expected 4 fields, saw 6\\nSkipping line 1235: expected 4 fields, saw 6\\nSkipping line 1236: expected 4 fields, saw 6\\nSkipping line 1237: expected 4 fields, saw 6\\nSkipping line 1238: expected 4 fields, saw 6\\nSkipping line 1239: expected 4 fields, saw 6\\nSkipping line 1240: expected 4 fields, saw 6\\nSkipping line 1241: expected 4 fields, saw 6\\nSkipping line 1242: expected 4 fields, saw 6\\nSkipping line 1243: expected 4 fields, saw 6\\nSkipping line 1244: expected 4 fields, saw 6\\nSkipping line 1245: expected 4 fields, saw 6\\nSkipping line 1246: expected 4 fields, saw 6\\nSkipping line 1247: expected 4 fields, saw 6\\nSkipping line 1248: expected 4 fields, saw 6\\nSkipping line 1249: expected 4 fields, saw 6\\nSkipping line 1250: expected 4 fields, saw 6\\nSkipping line 1251: expected 4 fields, saw 6\\nSkipping line 1252: expected 4 fields, saw 6\\nSkipping line 1253: expected 4 fields, saw 6\\nSkipping line 1254: expected 4 fields, saw 6\\nSkipping line 1255: expected 4 fields, saw 6\\nSkipping line 1256: expected 4 fields, saw 6\\nSkipping line 1257: expected 4 fields, saw 6\\nSkipping line 1258: expected 4 fields, saw 6\\nSkipping line 1259: expected 4 fields, saw 6\\nSkipping line 1260: expected 4 fields, saw 6\\nSkipping line 1261: expected 4 fields, saw 6\\nSkipping line 1262: expected 4 fields, saw 6\\nSkipping line 1263: expected 4 fields, saw 6\\nSkipping line 1264: expected 4 fields, saw 6\\nSkipping line 1265: expected 4 fields, saw 6\\nSkipping line 1266: expected 4 fields, saw 6\\nSkipping line 1267: expected 4 fields, saw 6\\nSkipping line 1268: expected 4 fields, saw 6\\nSkipping line 1269: expected 4 fields, saw 6\\nSkipping line 1270: expected 4 fields, saw 6\\nSkipping line 1271: expected 4 fields, saw 6\\nSkipping line 1272: expected 4 fields, saw 6\\nSkipping line 1273: expected 4 fields, saw 6\\nSkipping line 1274: expected 4 fields, saw 6\\nSkipping line 1275: expected 4 fields, saw 6\\nSkipping line 1276: expected 4 fields, saw 6\\nSkipping line 1277: expected 4 fields, saw 6\\nSkipping line 1278: expected 4 fields, saw 6\\nSkipping line 1279: expected 4 fields, saw 6\\nSkipping line 1280: expected 4 fields, saw 6\\nSkipping line 1281: expected 4 fields, saw 6\\nSkipping line 1282: expected 4 fields, saw 6\\nSkipping line 1283: expected 4 fields, saw 6\\nSkipping line 1284: expected 4 fields, saw 6\\nSkipping line 1285: expected 4 fields, saw 6\\nSkipping line 1286: expected 4 fields, saw 6\\nSkipping line 1287: expected 4 fields, saw 6\\nSkipping line 1288: expected 4 fields, saw 6\\nSkipping line 1289: expected 4 fields, saw 6\\nSkipping line 1290: expected 4 fields, saw 6\\nSkipping line 1291: expected 4 fields, saw 6\\nSkipping line 1292: expected 4 fields, saw 6\\nSkipping line 1293: expected 4 fields, saw 6\\nSkipping line 1294: expected 4 fields, saw 6\\nSkipping line 1295: expected 4 fields, saw 6\\nSkipping line 1296: expected 4 fields, saw 6\\nSkipping line 1297: expected 4 fields, saw 6\\nSkipping line 1298: expected 4 fields, saw 6\\nSkipping line 1299: expected 4 fields, saw 6\\nSkipping line 1300: expected 4 fields, saw 6\\nSkipping line 1301: expected 4 fields, saw 6\\nSkipping line 1302: expected 4 fields, saw 6\\nSkipping line 1303: expected 4 fields, saw 6\\nSkipping line 1304: expected 4 fields, saw 6\\nSkipping line 1305: expected 4 fields, saw 6\\nSkipping line 1306: expected 4 fields, saw 6\\nSkipping line 1307: expected 4 fields, saw 6\\nSkipping line 1308: expected 4 fields, saw 6\\nSkipping line 1309: expected 4 fields, saw 6\\nSkipping line 1310: expected 4 fields, saw 6\\nSkipping line 1311: expected 4 fields, saw 6\\nSkipping line 1312: expected 4 fields, saw 6\\nSkipping line 1313: expected 4 fields, saw 6\\nSkipping line 1314: expected 4 fields, saw 6\\nSkipping line 1315: expected 4 fields, saw 6\\nSkipping line 1316: expected 4 fields, saw 6\\nSkipping line 1317: expected 4 fields, saw 6\\nSkipping line 1318: expected 4 fields, saw 6\\nSkipping line 1319: expected 4 fields, saw 6\\nSkipping line 1320: expected 4 fields, saw 6\\nSkipping line 1321: expected 4 fields, saw 6\\nSkipping line 1322: expected 4 fields, saw 6\\nSkipping line 1323: expected 4 fields, saw 6\\nSkipping line 1324: expected 4 fields, saw 6\\nSkipping line 1325: expected 4 fields, saw 6\\nSkipping line 1326: expected 4 fields, saw 6\\nSkipping line 1327: expected 4 fields, saw 6\\nSkipping line 1328: expected 4 fields, saw 6\\nSkipping line 1329: expected 4 fields, saw 6\\nSkipping line 1330: expected 4 fields, saw 6\\nSkipping line 1331: expected 4 fields, saw 6\\nSkipping line 1332: expected 4 fields, saw 6\\nSkipping line 1333: expected 4 fields, saw 6\\nSkipping line 1334: expected 4 fields, saw 6\\nSkipping line 1335: expected 4 fields, saw 6\\nSkipping line 1336: expected 4 fields, saw 6\\nSkipping line 1337: expected 4 fields, saw 6\\nSkipping line 1338: expected 4 fields, saw 6\\nSkipping line 1339: expected 4 fields, saw 6\\nSkipping line 1340: expected 4 fields, saw 6\\nSkipping line 1341: expected 4 fields, saw 6\\nSkipping line 1342: expected 4 fields, saw 6\\nSkipping line 1343: expected 4 fields, saw 6\\nSkipping line 1344: expected 4 fields, saw 6\\nSkipping line 1345: expected 4 fields, saw 6\\nSkipping line 1346: expected 4 fields, saw 6\\nSkipping line 1347: expected 4 fields, saw 6\\nSkipping line 1348: expected 4 fields, saw 6\\nSkipping line 1349: expected 4 fields, saw 6\\nSkipping line 1350: expected 4 fields, saw 6\\nSkipping line 1351: expected 4 fields, saw 6\\nSkipping line 1352: expected 4 fields, saw 6\\nSkipping line 1353: expected 4 fields, saw 6\\nSkipping line 1354: expected 4 fields, saw 6\\nSkipping line 1355: expected 4 fields, saw 6\\nSkipping line 1356: expected 4 fields, saw 6\\nSkipping line 1357: expected 4 fields, saw 6\\nSkipping line 1358: expected 4 fields, saw 6\\nSkipping line 1359: expected 4 fields, saw 6\\nSkipping line 1360: expected 4 fields, saw 6\\nSkipping line 1361: expected 4 fields, saw 6\\nSkipping line 1362: expected 4 fields, saw 6\\nSkipping line 1363: expected 4 fields, saw 6\\nSkipping line 1364: expected 4 fields, saw 6\\nSkipping line 1365: expected 4 fields, saw 6\\nSkipping line 1366: expected 4 fields, saw 6\\nSkipping line 1367: expected 4 fields, saw 6\\nSkipping line 1368: expected 4 fields, saw 6\\nSkipping line 1369: expected 4 fields, saw 6\\nSkipping line 1370: expected 4 fields, saw 6\\nSkipping line 1371: expected 4 fields, saw 6\\nSkipping line 1372: expected 4 fields, saw 6\\nSkipping line 1373: expected 4 fields, saw 6\\nSkipping line 1374: expected 4 fields, saw 6\\nSkipping line 1375: expected 4 fields, saw 6\\nSkipping line 1376: expected 4 fields, saw 6\\nSkipping line 1377: expected 4 fields, saw 6\\nSkipping line 1378: expected 4 fields, saw 6\\nSkipping line 1379: expected 4 fields, saw 6\\nSkipping line 1380: expected 4 fields, saw 6\\nSkipping line 1381: expected 4 fields, saw 6\\nSkipping line 1382: expected 4 fields, saw 6\\nSkipping line 1383: expected 4 fields, saw 6\\nSkipping line 1384: expected 4 fields, saw 6\\nSkipping line 1385: expected 4 fields, saw 6\\nSkipping line 1386: expected 4 fields, saw 6\\nSkipping line 1387: expected 4 fields, saw 6\\nSkipping line 1388: expected 4 fields, saw 6\\nSkipping line 1389: expected 4 fields, saw 6\\nSkipping line 1390: expected 4 fields, saw 6\\nSkipping line 1391: expected 4 fields, saw 6\\nSkipping line 1392: expected 4 fields, saw 6\\nSkipping line 1393: expected 4 fields, saw 6\\nSkipping line 1394: expected 4 fields, saw 6\\nSkipping line 1395: expected 4 fields, saw 6\\nSkipping line 1396: expected 4 fields, saw 6\\nSkipping line 1397: expected 4 fields, saw 6\\nSkipping line 1398: expected 4 fields, saw 6\\nSkipping line 1399: expected 4 fields, saw 6\\nSkipping line 1400: expected 4 fields, saw 6\\nSkipping line 1401: expected 4 fields, saw 6\\nSkipping line 1402: expected 4 fields, saw 6\\nSkipping line 1403: expected 4 fields, saw 6\\nSkipping line 1404: expected 4 fields, saw 6\\nSkipping line 1405: expected 4 fields, saw 6\\nSkipping line 1406: expected 4 fields, saw 6\\nSkipping line 1407: expected 4 fields, saw 6\\nSkipping line 1408: expected 4 fields, saw 6\\nSkipping line 1409: expected 4 fields, saw 6\\nSkipping line 1410: expected 4 fields, saw 6\\nSkipping line 1411: expected 4 fields, saw 6\\nSkipping line 1412: expected 4 fields, saw 6\\nSkipping line 1413: expected 4 fields, saw 6\\nSkipping line 1414: expected 4 fields, saw 6\\nSkipping line 1415: expected 4 fields, saw 6\\nSkipping line 1416: expected 4 fields, saw 6\\nSkipping line 1417: expected 4 fields, saw 6\\nSkipping line 1418: expected 4 fields, saw 6\\nSkipping line 1419: expected 4 fields, saw 6\\nSkipping line 1420: expected 4 fields, saw 6\\nSkipping line 1421: expected 4 fields, saw 6\\nSkipping line 1422: expected 4 fields, saw 6\\nSkipping line 1423: expected 4 fields, saw 6\\nSkipping line 1424: expected 4 fields, saw 6\\nSkipping line 1425: expected 4 fields, saw 6\\nSkipping line 1426: expected 4 fields, saw 6\\nSkipping line 1427: expected 4 fields, saw 6\\nSkipping line 1428: expected 4 fields, saw 6\\nSkipping line 1429: expected 4 fields, saw 6\\nSkipping line 1430: expected 4 fields, saw 6\\nSkipping line 1431: expected 4 fields, saw 6\\nSkipping line 1432: expected 4 fields, saw 6\\nSkipping line 1433: expected 4 fields, saw 6\\nSkipping line 1434: expected 4 fields, saw 6\\nSkipping line 1435: expected 4 fields, saw 6\\nSkipping line 1436: expected 4 fields, saw 6\\nSkipping line 1437: expected 4 fields, saw 6\\nSkipping line 1438: expected 4 fields, saw 6\\nSkipping line 1439: expected 4 fields, saw 6\\nSkipping line 1440: expected 4 fields, saw 6\\nSkipping line 1441: expected 4 fields, saw 6\\nSkipping line 1442: expected 4 fields, saw 6\\nSkipping line 1443: expected 4 fields, saw 6\\nSkipping line 1444: expected 4 fields, saw 6\\nSkipping line 1445: expected 4 fields, saw 6\\nSkipping line 1446: expected 4 fields, saw 6\\nSkipping line 1447: expected 4 fields, saw 6\\nSkipping line 1448: expected 4 fields, saw 6\\nSkipping line 1449: expected 4 fields, saw 6\\nSkipping line 1450: expected 4 fields, saw 6\\nSkipping line 1451: expected 4 fields, saw 6\\nSkipping line 1452: expected 4 fields, saw 6\\nSkipping line 1453: expected 4 fields, saw 6\\nSkipping line 1454: expected 4 fields, saw 6\\nSkipping line 1455: expected 4 fields, saw 6\\nSkipping line 1456: expected 4 fields, saw 6\\nSkipping line 1457: expected 4 fields, saw 6\\nSkipping line 1458: expected 4 fields, saw 6\\nSkipping line 1459: expected 4 fields, saw 6\\nSkipping line 1460: expected 4 fields, saw 6\\nSkipping line 1461: expected 4 fields, saw 6\\nSkipping line 1462: expected 4 fields, saw 6\\nSkipping line 1463: expected 4 fields, saw 6\\nSkipping line 1464: expected 4 fields, saw 6\\nSkipping line 1465: expected 4 fields, saw 6\\nSkipping line 1466: expected 4 fields, saw 6\\nSkipping line 1467: expected 4 fields, saw 6\\nSkipping line 1468: expected 4 fields, saw 6\\nSkipping line 1469: expected 4 fields, saw 6\\nSkipping line 1470: expected 4 fields, saw 6\\nSkipping line 1471: expected 4 fields, saw 6\\nSkipping line 1472: expected 4 fields, saw 6\\nSkipping line 1473: expected 4 fields, saw 6\\nSkipping line 1474: expected 4 fields, saw 6\\nSkipping line 1475: expected 4 fields, saw 6\\nSkipping line 1476: expected 4 fields, saw 6\\nSkipping line 1477: expected 4 fields, saw 6\\nSkipping line 1478: expected 4 fields, saw 6\\nSkipping line 1479: expected 4 fields, saw 6\\nSkipping line 1480: expected 4 fields, saw 6\\nSkipping line 1481: expected 4 fields, saw 6\\nSkipping line 1482: expected 4 fields, saw 6\\nSkipping line 1483: expected 4 fields, saw 6\\nSkipping line 1484: expected 4 fields, saw 6\\nSkipping line 1485: expected 4 fields, saw 6\\nSkipping line 1486: expected 4 fields, saw 6\\nSkipping line 1487: expected 4 fields, saw 6\\nSkipping line 1488: expected 4 fields, saw 6\\nSkipping line 1489: expected 4 fields, saw 6\\nSkipping line 1490: expected 4 fields, saw 6\\nSkipping line 1491: expected 4 fields, saw 6\\nSkipping line 1492: expected 4 fields, saw 6\\nSkipping line 1493: expected 4 fields, saw 6\\nSkipping line 1494: expected 4 fields, saw 6\\nSkipping line 1495: expected 4 fields, saw 6\\nSkipping line 1496: expected 4 fields, saw 6\\nSkipping line 1497: expected 4 fields, saw 6\\nSkipping line 1498: expected 4 fields, saw 6\\nSkipping line 1499: expected 4 fields, saw 6\\nSkipping line 1500: expected 4 fields, saw 6\\nSkipping line 1501: expected 4 fields, saw 6\\nSkipping line 1502: expected 4 fields, saw 6\\nSkipping line 1503: expected 4 fields, saw 6\\nSkipping line 1504: expected 4 fields, saw 6\\nSkipping line 1505: expected 4 fields, saw 6\\nSkipping line 1506: expected 4 fields, saw 6\\nSkipping line 1507: expected 4 fields, saw 6\\nSkipping line 1508: expected 4 fields, saw 6\\nSkipping line 1509: expected 4 fields, saw 6\\nSkipping line 1510: expected 4 fields, saw 6\\nSkipping line 1511: expected 4 fields, saw 6\\nSkipping line 1512: expected 4 fields, saw 6\\nSkipping line 1513: expected 4 fields, saw 6\\nSkipping line 1514: expected 4 fields, saw 6\\nSkipping line 1515: expected 4 fields, saw 6\\nSkipping line 1516: expected 4 fields, saw 6\\nSkipping line 1517: expected 4 fields, saw 6\\nSkipping line 1518: expected 4 fields, saw 6\\nSkipping line 1519: expected 4 fields, saw 6\\nSkipping line 1520: expected 4 fields, saw 6\\nSkipping line 1521: expected 4 fields, saw 6\\nSkipping line 1522: expected 4 fields, saw 6\\nSkipping line 1523: expected 4 fields, saw 6\\nSkipping line 1524: expected 4 fields, saw 6\\nSkipping line 1525: expected 4 fields, saw 6\\nSkipping line 1526: expected 4 fields, saw 6\\nSkipping line 1527: expected 4 fields, saw 6\\nSkipping line 1528: expected 4 fields, saw 6\\nSkipping line 1529: expected 4 fields, saw 6\\nSkipping line 1530: expected 4 fields, saw 6\\nSkipping line 1531: expected 4 fields, saw 6\\nSkipping line 1532: expected 4 fields, saw 6\\nSkipping line 1533: expected 4 fields, saw 6\\nSkipping line 1534: expected 4 fields, saw 6\\nSkipping line 1535: expected 4 fields, saw 6\\nSkipping line 1536: expected 4 fields, saw 6\\nSkipping line 1537: expected 4 fields, saw 6\\nSkipping line 1538: expected 4 fields, saw 6\\nSkipping line 1539: expected 4 fields, saw 6\\nSkipping line 1540: expected 4 fields, saw 6\\nSkipping line 1541: expected 4 fields, saw 6\\nSkipping line 1542: expected 4 fields, saw 6\\nSkipping line 1543: expected 4 fields, saw 6\\nSkipping line 1544: expected 4 fields, saw 6\\nSkipping line 1545: expected 4 fields, saw 6\\nSkipping line 1546: expected 4 fields, saw 6\\nSkipping line 1547: expected 4 fields, saw 6\\nSkipping line 1548: expected 4 fields, saw 6\\nSkipping line 1549: expected 4 fields, saw 6\\nSkipping line 1550: expected 4 fields, saw 6\\nSkipping line 1551: expected 4 fields, saw 6\\nSkipping line 1552: expected 4 fields, saw 6\\nSkipping line 1553: expected 4 fields, saw 6\\nSkipping line 1554: expected 4 fields, saw 6\\nSkipping line 1555: expected 4 fields, saw 6\\nSkipping line 1556: expected 4 fields, saw 6\\nSkipping line 1557: expected 4 fields, saw 6\\nSkipping line 1558: expected 4 fields, saw 6\\nSkipping line 1559: expected 4 fields, saw 6\\nSkipping line 1560: expected 4 fields, saw 6\\nSkipping line 1561: expected 4 fields, saw 6\\nSkipping line 1562: expected 4 fields, saw 6\\nSkipping line 1563: expected 4 fields, saw 6\\nSkipping line 1564: expected 4 fields, saw 6\\nSkipping line 1565: expected 4 fields, saw 6\\nSkipping line 1566: expected 4 fields, saw 6\\nSkipping line 1567: expected 4 fields, saw 6\\nSkipping line 1568: expected 4 fields, saw 6\\nSkipping line 1569: expected 4 fields, saw 6\\nSkipping line 1570: expected 4 fields, saw 6\\nSkipping line 1571: expected 4 fields, saw 6\\nSkipping line 1572: expected 4 fields, saw 6\\nSkipping line 1573: expected 4 fields, saw 6\\nSkipping line 1574: expected 4 fields, saw 6\\nSkipping line 1575: expected 4 fields, saw 6\\nSkipping line 1576: expected 4 fields, saw 6\\nSkipping line 1577: expected 4 fields, saw 6\\nSkipping line 1578: expected 4 fields, saw 6\\nSkipping line 1579: expected 4 fields, saw 6\\nSkipping line 1580: expected 4 fields, saw 6\\nSkipping line 1581: expected 4 fields, saw 6\\nSkipping line 1582: expected 4 fields, saw 6\\nSkipping line 1583: expected 4 fields, saw 6\\nSkipping line 1584: expected 4 fields, saw 6\\nSkipping line 1585: expected 4 fields, saw 6\\nSkipping line 1586: expected 4 fields, saw 6\\nSkipping line 1587: expected 4 fields, saw 6\\nSkipping line 1588: expected 4 fields, saw 6\\nSkipping line 1589: expected 4 fields, saw 6\\nSkipping line 1590: expected 4 fields, saw 6\\nSkipping line 1591: expected 4 fields, saw 6\\nSkipping line 1592: expected 4 fields, saw 6\\nSkipping line 1593: expected 4 fields, saw 6\\nSkipping line 1594: expected 4 fields, saw 6\\nSkipping line 1595: expected 4 fields, saw 6\\nSkipping line 1596: expected 4 fields, saw 6\\nSkipping line 1597: expected 4 fields, saw 6\\nSkipping line 1598: expected 4 fields, saw 6\\nSkipping line 1599: expected 4 fields, saw 6\\nSkipping line 1600: expected 4 fields, saw 6\\nSkipping line 1601: expected 4 fields, saw 6\\nSkipping line 1602: expected 4 fields, saw 6\\nSkipping line 1603: expected 4 fields, saw 6\\nSkipping line 1604: expected 4 fields, saw 6\\nSkipping line 1605: expected 4 fields, saw 6\\nSkipping line 1606: expected 4 fields, saw 6\\nSkipping line 1607: expected 4 fields, saw 6\\nSkipping line 1608: expected 4 fields, saw 6\\nSkipping line 1609: expected 4 fields, saw 6\\nSkipping line 1610: expected 4 fields, saw 6\\nSkipping line 1611: expected 4 fields, saw 6\\nSkipping line 1612: expected 4 fields, saw 6\\nSkipping line 1613: expected 4 fields, saw 6\\nSkipping line 1614: expected 4 fields, saw 6\\nSkipping line 1615: expected 4 fields, saw 6\\nSkipping line 1616: expected 4 fields, saw 6\\nSkipping line 1617: expected 4 fields, saw 6\\nSkipping line 1618: expected 4 fields, saw 6\\nSkipping line 1619: expected 4 fields, saw 6\\nSkipping line 1620: expected 4 fields, saw 6\\nSkipping line 1621: expected 4 fields, saw 6\\nSkipping line 1622: expected 4 fields, saw 6\\nSkipping line 1623: expected 4 fields, saw 6\\nSkipping line 1624: expected 4 fields, saw 6\\nSkipping line 1625: expected 4 fields, saw 6\\nSkipping line 1626: expected 4 fields, saw 6\\nSkipping line 1627: expected 4 fields, saw 6\\nSkipping line 1628: expected 4 fields, saw 6\\nSkipping line 1629: expected 4 fields, saw 6\\nSkipping line 1630: expected 4 fields, saw 6\\nSkipping line 1631: expected 4 fields, saw 6\\nSkipping line 1632: expected 4 fields, saw 6\\nSkipping line 1633: expected 4 fields, saw 6\\nSkipping line 1634: expected 4 fields, saw 6\\nSkipping line 1635: expected 4 fields, saw 6\\nSkipping line 1636: expected 4 fields, saw 6\\nSkipping line 1637: expected 4 fields, saw 6\\nSkipping line 1638: expected 4 fields, saw 6\\nSkipping line 1639: expected 4 fields, saw 6\\nSkipping line 1640: expected 4 fields, saw 6\\nSkipping line 1641: expected 4 fields, saw 6\\nSkipping line 1642: expected 4 fields, saw 6\\nSkipping line 1643: expected 4 fields, saw 6\\nSkipping line 1644: expected 4 fields, saw 6\\nSkipping line 1645: expected 4 fields, saw 6\\nSkipping line 1646: expected 4 fields, saw 6\\nSkipping line 1647: expected 4 fields, saw 6\\nSkipping line 1648: expected 4 fields, saw 6\\nSkipping line 1649: expected 4 fields, saw 6\\nSkipping line 1650: expected 4 fields, saw 6\\nSkipping line 1651: expected 4 fields, saw 6\\nSkipping line 1652: expected 4 fields, saw 6\\nSkipping line 1653: expected 4 fields, saw 6\\nSkipping line 1654: expected 4 fields, saw 6\\nSkipping line 1655: expected 4 fields, saw 6\\nSkipping line 1656: expected 4 fields, saw 6\\nSkipping line 1657: expected 4 fields, saw 6\\nSkipping line 1658: expected 4 fields, saw 6\\nSkipping line 1659: expected 4 fields, saw 6\\nSkipping line 1660: expected 4 fields, saw 6\\nSkipping line 1661: expected 4 fields, saw 6\\nSkipping line 1662: expected 4 fields, saw 6\\nSkipping line 1663: expected 4 fields, saw 6\\nSkipping line 1664: expected 4 fields, saw 6\\nSkipping line 1665: expected 4 fields, saw 6\\nSkipping line 1666: expected 4 fields, saw 6\\nSkipping line 1667: expected 4 fields, saw 6\\nSkipping line 1668: expected 4 fields, saw 6\\nSkipping line 1669: expected 4 fields, saw 6\\nSkipping line 1670: expected 4 fields, saw 6\\nSkipping line 1671: expected 4 fields, saw 6\\nSkipping line 1672: expected 4 fields, saw 6\\nSkipping line 1673: expected 4 fields, saw 6\\nSkipping line 1674: expected 4 fields, saw 6\\nSkipping line 1675: expected 4 fields, saw 6\\nSkipping line 1676: expected 4 fields, saw 6\\nSkipping line 1677: expected 4 fields, saw 6\\nSkipping line 1678: expected 4 fields, saw 6\\nSkipping line 1679: expected 4 fields, saw 6\\nSkipping line 1680: expected 4 fields, saw 6\\nSkipping line 1681: expected 4 fields, saw 6\\nSkipping line 1682: expected 4 fields, saw 6\\nSkipping line 1683: expected 4 fields, saw 6\\nSkipping line 1684: expected 4 fields, saw 6\\nSkipping line 1685: expected 4 fields, saw 6\\nSkipping line 1686: expected 4 fields, saw 6\\nSkipping line 1687: expected 4 fields, saw 6\\nSkipping line 1688: expected 4 fields, saw 6\\nSkipping line 1689: expected 4 fields, saw 6\\nSkipping line 1690: expected 4 fields, saw 6\\nSkipping line 1691: expected 4 fields, saw 6\\nSkipping line 1692: expected 4 fields, saw 6\\nSkipping line 1693: expected 4 fields, saw 6\\nSkipping line 1694: expected 4 fields, saw 6\\nSkipping line 1695: expected 4 fields, saw 6\\nSkipping line 1696: expected 4 fields, saw 6\\nSkipping line 1697: expected 4 fields, saw 6\\nSkipping line 1698: expected 4 fields, saw 6\\nSkipping line 1699: expected 4 fields, saw 6\\nSkipping line 1700: expected 4 fields, saw 6\\nSkipping line 1701: expected 4 fields, saw 6\\nSkipping line 1702: expected 4 fields, saw 6\\nSkipping line 1703: expected 4 fields, saw 6\\nSkipping line 1704: expected 4 fields, saw 6\\nSkipping line 1705: expected 4 fields, saw 6\\nSkipping line 1706: expected 4 fields, saw 6\\nSkipping line 1707: expected 4 fields, saw 6\\nSkipping line 1708: expected 4 fields, saw 6\\nSkipping line 1709: expected 4 fields, saw 6\\nSkipping line 1710: expected 4 fields, saw 6\\nSkipping line 1711: expected 4 fields, saw 6\\nSkipping line 1712: expected 4 fields, saw 6\\nSkipping line 1713: expected 4 fields, saw 6\\nSkipping line 1714: expected 4 fields, saw 6\\nSkipping line 1715: expected 4 fields, saw 6\\nSkipping line 1716: expected 4 fields, saw 6\\nSkipping line 1717: expected 4 fields, saw 6\\nSkipping line 1718: expected 4 fields, saw 6\\nSkipping line 1719: expected 4 fields, saw 6\\nSkipping line 1720: expected 4 fields, saw 6\\nSkipping line 1721: expected 4 fields, saw 6\\nSkipping line 1722: expected 4 fields, saw 6\\nSkipping line 1723: expected 4 fields, saw 6\\nSkipping line 1724: expected 4 fields, saw 6\\nSkipping line 1725: expected 4 fields, saw 6\\nSkipping line 1726: expected 4 fields, saw 6\\nSkipping line 1727: expected 4 fields, saw 6\\nSkipping line 1728: expected 4 fields, saw 6\\nSkipping line 1729: expected 4 fields, saw 6\\nSkipping line 1730: expected 4 fields, saw 6\\nSkipping line 1731: expected 4 fields, saw 6\\nSkipping line 1732: expected 4 fields, saw 6\\nSkipping line 1733: expected 4 fields, saw 6\\nSkipping line 1734: expected 4 fields, saw 6\\nSkipping line 1735: expected 4 fields, saw 6\\nSkipping line 1736: expected 4 fields, saw 6\\nSkipping line 1737: expected 4 fields, saw 6\\nSkipping line 1738: expected 4 fields, saw 6\\nSkipping line 1739: expected 4 fields, saw 6\\nSkipping line 1740: expected 4 fields, saw 6\\nSkipping line 1741: expected 4 fields, saw 6\\nSkipping line 1742: expected 4 fields, saw 6\\nSkipping line 1743: expected 4 fields, saw 6\\nSkipping line 1744: expected 4 fields, saw 6\\nSkipping line 1745: expected 4 fields, saw 6\\nSkipping line 1746: expected 4 fields, saw 6\\nSkipping line 1747: expected 4 fields, saw 6\\nSkipping line 1748: expected 4 fields, saw 6\\nSkipping line 1749: expected 4 fields, saw 6\\nSkipping line 1750: expected 4 fields, saw 6\\nSkipping line 1751: expected 4 fields, saw 6\\nSkipping line 1752: expected 4 fields, saw 6\\nSkipping line 1753: expected 4 fields, saw 6\\nSkipping line 1754: expected 4 fields, saw 6\\nSkipping line 1755: expected 4 fields, saw 6\\nSkipping line 1756: expected 4 fields, saw 6\\nSkipping line 1757: expected 4 fields, saw 6\\nSkipping line 1758: expected 4 fields, saw 6\\nSkipping line 1759: expected 4 fields, saw 6\\nSkipping line 1760: expected 4 fields, saw 6\\nSkipping line 1761: expected 4 fields, saw 6\\nSkipping line 1762: expected 4 fields, saw 6\\nSkipping line 1763: expected 4 fields, saw 6\\nSkipping line 1764: expected 4 fields, saw 6\\nSkipping line 1765: expected 4 fields, saw 6\\nSkipping line 1766: expected 4 fields, saw 6\\nSkipping line 1767: expected 4 fields, saw 6\\nSkipping line 1768: expected 4 fields, saw 6\\nSkipping line 1769: expected 4 fields, saw 6\\nSkipping line 1770: expected 4 fields, saw 6\\nSkipping line 1771: expected 4 fields, saw 6\\nSkipping line 1772: expected 4 fields, saw 6\\nSkipping line 1773: expected 4 fields, saw 6\\nSkipping line 1774: expected 4 fields, saw 6\\nSkipping line 1775: expected 4 fields, saw 6\\nSkipping line 1776: expected 4 fields, saw 6\\nSkipping line 1777: expected 4 fields, saw 6\\nSkipping line 1778: expected 4 fields, saw 6\\nSkipping line 1779: expected 4 fields, saw 6\\nSkipping line 1780: expected 4 fields, saw 6\\nSkipping line 1781: expected 4 fields, saw 6\\nSkipping line 1782: expected 4 fields, saw 6\\nSkipping line 1783: expected 4 fields, saw 6\\nSkipping line 1784: expected 4 fields, saw 6\\nSkipping line 1785: expected 4 fields, saw 6\\nSkipping line 1786: expected 4 fields, saw 6\\nSkipping line 1787: expected 4 fields, saw 6\\nSkipping line 1788: expected 4 fields, saw 6\\nSkipping line 1789: expected 4 fields, saw 6\\nSkipping line 1790: expected 4 fields, saw 6\\nSkipping line 1791: expected 4 fields, saw 6\\nSkipping line 1792: expected 4 fields, saw 6\\nSkipping line 1793: expected 4 fields, saw 6\\nSkipping line 1794: expected 4 fields, saw 6\\nSkipping line 1795: expected 4 fields, saw 6\\nSkipping line 1796: expected 4 fields, saw 6\\nSkipping line 1797: expected 4 fields, saw 6\\nSkipping line 1798: expected 4 fields, saw 6\\nSkipping line 1799: expected 4 fields, saw 6\\nSkipping line 1800: expected 4 fields, saw 6\\nSkipping line 1801: expected 4 fields, saw 6\\nSkipping line 1802: expected 4 fields, saw 6\\nSkipping line 1803: expected 4 fields, saw 6\\nSkipping line 1804: expected 4 fields, saw 6\\nSkipping line 1805: expected 4 fields, saw 6\\nSkipping line 1806: expected 4 fields, saw 6\\nSkipping line 1807: expected 4 fields, saw 6\\nSkipping line 1808: expected 4 fields, saw 6\\nSkipping line 1809: expected 4 fields, saw 6\\nSkipping line 1810: expected 4 fields, saw 6\\nSkipping line 1811: expected 4 fields, saw 6\\nSkipping line 1812: expected 4 fields, saw 6\\nSkipping line 1813: expected 4 fields, saw 6\\nSkipping line 1814: expected 4 fields, saw 6\\nSkipping line 1815: expected 4 fields, saw 6\\nSkipping line 1816: expected 4 fields, saw 6\\nSkipping line 1817: expected 4 fields, saw 6\\nSkipping line 1818: expected 4 fields, saw 6\\nSkipping line 1819: expected 4 fields, saw 6\\nSkipping line 1820: expected 4 fields, saw 6\\nSkipping line 1821: expected 4 fields, saw 6\\nSkipping line 1822: expected 4 fields, saw 6\\nSkipping line 1823: expected 4 fields, saw 6\\nSkipping line 1824: expected 4 fields, saw 6\\nSkipping line 1825: expected 4 fields, saw 6\\nSkipping line 1826: expected 4 fields, saw 6\\nSkipping line 1827: expected 4 fields, saw 6\\nSkipping line 1828: expected 4 fields, saw 6\\nSkipping line 1829: expected 4 fields, saw 6\\nSkipping line 1830: expected 4 fields, saw 6\\nSkipping line 1831: expected 4 fields, saw 6\\nSkipping line 1832: expected 4 fields, saw 6\\nSkipping line 1833: expected 4 fields, saw 6\\nSkipping line 1834: expected 4 fields, saw 6\\nSkipping line 1835: expected 4 fields, saw 6\\nSkipping line 1836: expected 4 fields, saw 6\\nSkipping line 1837: expected 4 fields, saw 6\\nSkipping line 1838: expected 4 fields, saw 6\\nSkipping line 1839: expected 4 fields, saw 6\\nSkipping line 1840: expected 4 fields, saw 6\\nSkipping line 1841: expected 4 fields, saw 6\\nSkipping line 1842: expected 4 fields, saw 6\\nSkipping line 1843: expected 4 fields, saw 6\\nSkipping line 1844: expected 4 fields, saw 6\\nSkipping line 1845: expected 4 fields, saw 6\\nSkipping line 1846: expected 4 fields, saw 6\\nSkipping line 1847: expected 4 fields, saw 6\\nSkipping line 1848: expected 4 fields, saw 6\\nSkipping line 1849: expected 4 fields, saw 6\\nSkipping line 1850: expected 4 fields, saw 6\\nSkipping line 1851: expected 4 fields, saw 6\\nSkipping line 1852: expected 4 fields, saw 6\\nSkipping line 1853: expected 4 fields, saw 6\\nSkipping line 1854: expected 4 fields, saw 6\\nSkipping line 1855: expected 4 fields, saw 6\\nSkipping line 1856: expected 4 fields, saw 6\\nSkipping line 1857: expected 4 fields, saw 6\\nSkipping line 1858: expected 4 fields, saw 6\\nSkipping line 1859: expected 4 fields, saw 6\\nSkipping line 1860: expected 4 fields, saw 6\\nSkipping line 1861: expected 4 fields, saw 6\\nSkipping line 1862: expected 4 fields, saw 6\\nSkipping line 1863: expected 4 fields, saw 6\\nSkipping line 1864: expected 4 fields, saw 6\\nSkipping line 1865: expected 4 fields, saw 6\\nSkipping line 1866: expected 4 fields, saw 6\\nSkipping line 1867: expected 4 fields, saw 6\\nSkipping line 1868: expected 4 fields, saw 6\\nSkipping line 1869: expected 4 fields, saw 6\\nSkipping line 1870: expected 4 fields, saw 6\\nSkipping line 1871: expected 4 fields, saw 6\\nSkipping line 1872: expected 4 fields, saw 6\\nSkipping line 1873: expected 4 fields, saw 6\\nSkipping line 1874: expected 4 fields, saw 6\\nSkipping line 1875: expected 4 fields, saw 6\\nSkipping line 1876: expected 4 fields, saw 6\\nSkipping line 1877: expected 4 fields, saw 6\\nSkipping line 1878: expected 4 fields, saw 6\\nSkipping line 1879: expected 4 fields, saw 6\\nSkipping line 1880: expected 4 fields, saw 6\\nSkipping line 1881: expected 4 fields, saw 6\\nSkipping line 1882: expected 4 fields, saw 6\\nSkipping line 1883: expected 4 fields, saw 6\\nSkipping line 1884: expected 4 fields, saw 6\\nSkipping line 1885: expected 4 fields, saw 6\\nSkipping line 1886: expected 4 fields, saw 6\\nSkipping line 1887: expected 4 fields, saw 6\\nSkipping line 1888: expected 4 fields, saw 6\\nSkipping line 1889: expected 4 fields, saw 6\\nSkipping line 1890: expected 4 fields, saw 6\\nSkipping line 1891: expected 4 fields, saw 6\\nSkipping line 1892: expected 4 fields, saw 6\\nSkipping line 1893: expected 4 fields, saw 6\\nSkipping line 1894: expected 4 fields, saw 6\\nSkipping line 1895: expected 4 fields, saw 6\\nSkipping line 1896: expected 4 fields, saw 6\\nSkipping line 1897: expected 4 fields, saw 6\\nSkipping line 1898: expected 4 fields, saw 6\\nSkipping line 1899: expected 4 fields, saw 6\\nSkipping line 1900: expected 4 fields, saw 6\\nSkipping line 1901: expected 4 fields, saw 6\\nSkipping line 1902: expected 4 fields, saw 6\\nSkipping line 1903: expected 4 fields, saw 6\\nSkipping line 1904: expected 4 fields, saw 6\\nSkipping line 1905: expected 4 fields, saw 6\\nSkipping line 1906: expected 4 fields, saw 6\\nSkipping line 1907: expected 4 fields, saw 6\\nSkipping line 1908: expected 4 fields, saw 6\\nSkipping line 1909: expected 4 fields, saw 6\\nSkipping line 1910: expected 4 fields, saw 6\\nSkipping line 1911: expected 4 fields, saw 6\\nSkipping line 1912: expected 4 fields, saw 6\\nSkipping line 1913: expected 4 fields, saw 6\\nSkipping line 1914: expected 4 fields, saw 6\\nSkipping line 1915: expected 4 fields, saw 6\\nSkipping line 1916: expected 4 fields, saw 6\\nSkipping line 1917: expected 4 fields, saw 6\\nSkipping line 1918: expected 4 fields, saw 6\\nSkipping line 1919: expected 4 fields, saw 6\\nSkipping line 1920: expected 4 fields, saw 6\\nSkipping line 1921: expected 4 fields, saw 6\\nSkipping line 1922: expected 4 fields, saw 6\\nSkipping line 1923: expected 4 fields, saw 6\\nSkipping line 1924: expected 4 fields, saw 6\\nSkipping line 1925: expected 4 fields, saw 6\\nSkipping line 1926: expected 4 fields, saw 6\\nSkipping line 1927: expected 4 fields, saw 6\\nSkipping line 1928: expected 4 fields, saw 6\\nSkipping line 1929: expected 4 fields, saw 6\\nSkipping line 1930: expected 4 fields, saw 6\\nSkipping line 1931: expected 4 fields, saw 6\\nSkipping line 1932: expected 4 fields, saw 6\\nSkipping line 1933: expected 4 fields, saw 6\\nSkipping line 1934: expected 4 fields, saw 6\\nSkipping line 1935: expected 4 fields, saw 6\\nSkipping line 1936: expected 4 fields, saw 6\\nSkipping line 1937: expected 4 fields, saw 6\\nSkipping line 1938: expected 4 fields, saw 6\\nSkipping line 1939: expected 4 fields, saw 6\\nSkipping line 1940: expected 4 fields, saw 6\\nSkipping line 1941: expected 4 fields, saw 6\\nSkipping line 1942: expected 4 fields, saw 6\\nSkipping line 1943: expected 4 fields, saw 6\\nSkipping line 1944: expected 4 fields, saw 6\\nSkipping line 1945: expected 4 fields, saw 6\\nSkipping line 1946: expected 4 fields, saw 6\\nSkipping line 1947: expected 4 fields, saw 6\\nSkipping line 1948: expected 4 fields, saw 6\\nSkipping line 1949: expected 4 fields, saw 6\\nSkipping line 1950: expected 4 fields, saw 6\\nSkipping line 1951: expected 4 fields, saw 6\\nSkipping line 1952: expected 4 fields, saw 6\\nSkipping line 1953: expected 4 fields, saw 6\\nSkipping line 1954: expected 4 fields, saw 6\\nSkipping line 1955: expected 4 fields, saw 6\\nSkipping line 1956: expected 4 fields, saw 6\\nSkipping line 1957: expected 4 fields, saw 6\\nSkipping line 1958: expected 4 fields, saw 6\\nSkipping line 1959: expected 4 fields, saw 6\\nSkipping line 1960: expected 4 fields, saw 6\\nSkipping line 1961: expected 4 fields, saw 6\\nSkipping line 1962: expected 4 fields, saw 6\\nSkipping line 1963: expected 4 fields, saw 6\\nSkipping line 1964: expected 4 fields, saw 6\\nSkipping line 1965: expected 4 fields, saw 6\\nSkipping line 1966: expected 4 fields, saw 6\\nSkipping line 1967: expected 4 fields, saw 6\\nSkipping line 1968: expected 4 fields, saw 6\\nSkipping line 1969: expected 4 fields, saw 6\\nSkipping line 1970: expected 4 fields, saw 6\\nSkipping line 1971: expected 4 fields, saw 6\\nSkipping line 1972: expected 4 fields, saw 6\\nSkipping line 1973: expected 4 fields, saw 6\\nSkipping line 1974: expected 4 fields, saw 6\\nSkipping line 1975: expected 4 fields, saw 6\\nSkipping line 1976: expected 4 fields, saw 6\\nSkipping line 1977: expected 4 fields, saw 6\\nSkipping line 1978: expected 4 fields, saw 6\\nSkipping line 1979: expected 4 fields, saw 6\\nSkipping line 1980: expected 4 fields, saw 6\\nSkipping line 1981: expected 4 fields, saw 6\\nSkipping line 1982: expected 4 fields, saw 6\\nSkipping line 1983: expected 4 fields, saw 6\\nSkipping line 1984: expected 4 fields, saw 6\\nSkipping line 1985: expected 4 fields, saw 6\\nSkipping line 1986: expected 4 fields, saw 6\\nSkipping line 1987: expected 4 fields, saw 6\\nSkipping line 1988: expected 4 fields, saw 6\\nSkipping line 1989: expected 4 fields, saw 6\\nSkipping line 1990: expected 4 fields, saw 6\\nSkipping line 1991: expected 4 fields, saw 6\\nSkipping line 1992: expected 4 fields, saw 6\\nSkipping line 1993: expected 4 fields, saw 6\\nSkipping line 1994: expected 4 fields, saw 6\\nSkipping line 1995: expected 4 fields, saw 6\\nSkipping line 1996: expected 4 fields, saw 6\\nSkipping line 1997: expected 4 fields, saw 6\\nSkipping line 1998: expected 4 fields, saw 6\\nSkipping line 1999: expected 4 fields, saw 6\\nSkipping line 2000: expected 4 fields, saw 6\\nSkipping line 2001: expected 4 fields, saw 6\\nSkipping line 2002: expected 4 fields, saw 6\\nSkipping line 2003: expected 4 fields, saw 6\\nSkipping line 2004: expected 4 fields, saw 6\\nSkipping line 2005: expected 4 fields, saw 6\\nSkipping line 2006: expected 4 fields, saw 6\\nSkipping line 2007: expected 4 fields, saw 6\\nSkipping line 2008: expected 4 fields, saw 6\\nSkipping line 2009: expected 4 fields, saw 6\\nSkipping line 2010: expected 4 fields, saw 6\\nSkipping line 2011: expected 4 fields, saw 6\\nSkipping line 2012: expected 4 fields, saw 6\\nSkipping line 2013: expected 4 fields, saw 6\\nSkipping line 2014: expected 4 fields, saw 6\\nSkipping line 2015: expected 4 fields, saw 6\\nSkipping line 2016: expected 4 fields, saw 6\\nSkipping line 2017: expected 4 fields, saw 6\\nSkipping line 2018: expected 4 fields, saw 6\\nSkipping line 2019: expected 4 fields, saw 6\\nSkipping line 2020: expected 4 fields, saw 6\\nSkipping line 2021: expected 4 fields, saw 6\\nSkipping line 2022: expected 4 fields, saw 6\\nSkipping line 2023: expected 4 fields, saw 6\\nSkipping line 2024: expected 4 fields, saw 6\\nSkipping line 2025: expected 4 fields, saw 6\\nSkipping line 2026: expected 4 fields, saw 6\\nSkipping line 2027: expected 4 fields, saw 6\\nSkipping line 2028: expected 4 fields, saw 6\\nSkipping line 2029: expected 4 fields, saw 6\\nSkipping line 2030: expected 4 fields, saw 6\\nSkipping line 2031: expected 4 fields, saw 6\\nSkipping line 2032: expected 4 fields, saw 6\\nSkipping line 2033: expected 4 fields, saw 6\\nSkipping line 2034: expected 4 fields, saw 6\\nSkipping line 2035: expected 4 fields, saw 6\\nSkipping line 2036: expected 4 fields, saw 6\\nSkipping line 2037: expected 4 fields, saw 6\\nSkipping line 2038: expected 4 fields, saw 6\\nSkipping line 2039: expected 4 fields, saw 6\\nSkipping line 2040: expected 4 fields, saw 6\\nSkipping line 2041: expected 4 fields, saw 6\\nSkipping line 2042: expected 4 fields, saw 6\\nSkipping line 2043: expected 4 fields, saw 6\\nSkipping line 2044: expected 4 fields, saw 6\\nSkipping line 2045: expected 4 fields, saw 6\\nSkipping line 2046: expected 4 fields, saw 6\\nSkipping line 2047: expected 4 fields, saw 6\\nSkipping line 2048: expected 4 fields, saw 6\\nSkipping line 2049: expected 4 fields, saw 6\\nSkipping line 2050: expected 4 fields, saw 6\\nSkipping line 2051: expected 4 fields, saw 6\\nSkipping line 2052: expected 4 fields, saw 6\\nSkipping line 2053: expected 4 fields, saw 6\\nSkipping line 2054: expected 4 fields, saw 6\\nSkipping line 2055: expected 4 fields, saw 6\\nSkipping line 2056: expected 4 fields, saw 6\\nSkipping line 2057: expected 4 fields, saw 6\\nSkipping line 2058: expected 4 fields, saw 6\\nSkipping line 2059: expected 4 fields, saw 6\\nSkipping line 2060: expected 4 fields, saw 6\\nSkipping line 2061: expected 4 fields, saw 6\\nSkipping line 2062: expected 4 fields, saw 6\\nSkipping line 2063: expected 4 fields, saw 6\\nSkipping line 2064: expected 4 fields, saw 6\\nSkipping line 2065: expected 4 fields, saw 6\\nSkipping line 2066: expected 4 fields, saw 6\\nSkipping line 2067: expected 4 fields, saw 6\\nSkipping line 2068: expected 4 fields, saw 6\\nSkipping line 2069: expected 4 fields, saw 6\\nSkipping line 2070: expected 4 fields, saw 6\\nSkipping line 2071: expected 4 fields, saw 6\\nSkipping line 2072: expected 4 fields, saw 6\\nSkipping line 2073: expected 4 fields, saw 6\\nSkipping line 2074: expected 4 fields, saw 6\\nSkipping line 2075: expected 4 fields, saw 6\\nSkipping line 2076: expected 4 fields, saw 6\\nSkipping line 2077: expected 4 fields, saw 6\\nSkipping line 2078: expected 4 fields, saw 6\\nSkipping line 2079: expected 4 fields, saw 6\\nSkipping line 2080: expected 4 fields, saw 6\\nSkipping line 2081: expected 4 fields, saw 6\\nSkipping line 2082: expected 4 fields, saw 6\\nSkipping line 2083: expected 4 fields, saw 6\\nSkipping line 2084: expected 4 fields, saw 6\\nSkipping line 2085: expected 4 fields, saw 6\\nSkipping line 2086: expected 4 fields, saw 6\\nSkipping line 2087: expected 4 fields, saw 6\\nSkipping line 2088: expected 4 fields, saw 6\\nSkipping line 2089: expected 4 fields, saw 6\\nSkipping line 2090: expected 4 fields, saw 6\\nSkipping line 2091: expected 4 fields, saw 6\\nSkipping line 2092: expected 4 fields, saw 6\\nSkipping line 2093: expected 4 fields, saw 6\\nSkipping line 2094: expected 4 fields, saw 6\\nSkipping line 2095: expected 4 fields, saw 6\\nSkipping line 2096: expected 4 fields, saw 6\\nSkipping line 2097: expected 4 fields, saw 6\\nSkipping line 2098: expected 4 fields, saw 6\\nSkipping line 2099: expected 4 fields, saw 6\\nSkipping line 2100: expected 4 fields, saw 6\\nSkipping line 2101: expected 4 fields, saw 6\\nSkipping line 2102: expected 4 fields, saw 6\\nSkipping line 2103: expected 4 fields, saw 6\\nSkipping line 2104: expected 4 fields, saw 6\\nSkipping line 2105: expected 4 fields, saw 6\\nSkipping line 2106: expected 4 fields, saw 6\\nSkipping line 2107: expected 4 fields, saw 6\\nSkipping line 2108: expected 4 fields, saw 6\\nSkipping line 2109: expected 4 fields, saw 6\\nSkipping line 2110: expected 4 fields, saw 6\\nSkipping line 2111: expected 4 fields, saw 6\\nSkipping line 2112: expected 4 fields, saw 6\\nSkipping line 2113: expected 4 fields, saw 6\\nSkipping line 2114: expected 4 fields, saw 6\\nSkipping line 2115: expected 4 fields, saw 6\\nSkipping line 2116: expected 4 fields, saw 6\\nSkipping line 2117: expected 4 fields, saw 6\\nSkipping line 2118: expected 4 fields, saw 6\\nSkipping line 2119: expected 4 fields, saw 6\\nSkipping line 2120: expected 4 fields, saw 6\\nSkipping line 2121: expected 4 fields, saw 6\\nSkipping line 2122: expected 4 fields, saw 6\\nSkipping line 2123: expected 4 fields, saw 6\\nSkipping line 2124: expected 4 fields, saw 6\\nSkipping line 2125: expected 4 fields, saw 6\\nSkipping line 2126: expected 4 fields, saw 6\\nSkipping line 2127: expected 4 fields, saw 6\\nSkipping line 2128: expected 4 fields, saw 6\\nSkipping line 2129: expected 4 fields, saw 6\\nSkipping line 2130: expected 4 fields, saw 6\\nSkipping line 2131: expected 4 fields, saw 6\\nSkipping line 2132: expected 4 fields, saw 6\\nSkipping line 2133: expected 4 fields, saw 6\\nSkipping line 2134: expected 4 fields, saw 6\\nSkipping line 2135: expected 4 fields, saw 6\\nSkipping line 2136: expected 4 fields, saw 6\\nSkipping line 2137: expected 4 fields, saw 6\\nSkipping line 2138: expected 4 fields, saw 6\\nSkipping line 2139: expected 4 fields, saw 6\\nSkipping line 2140: expected 4 fields, saw 6\\nSkipping line 2141: expected 4 fields, saw 6\\nSkipping line 2142: expected 4 fields, saw 6\\nSkipping line 2143: expected 4 fields, saw 6\\nSkipping line 2144: expected 4 fields, saw 6\\nSkipping line 2145: expected 4 fields, saw 6\\nSkipping line 2146: expected 4 fields, saw 6\\nSkipping line 2147: expected 4 fields, saw 6\\nSkipping line 2148: expected 4 fields, saw 6\\nSkipping line 2149: expected 4 fields, saw 6\\nSkipping line 2150: expected 4 fields, saw 6\\nSkipping line 2151: expected 4 fields, saw 6\\nSkipping line 2152: expected 4 fields, saw 6\\nSkipping line 2153: expected 4 fields, saw 6\\nSkipping line 2154: expected 4 fields, saw 6\\nSkipping line 2155: expected 4 fields, saw 6\\nSkipping line 2156: expected 4 fields, saw 6\\nSkipping line 2157: expected 4 fields, saw 6\\nSkipping line 2158: expected 4 fields, saw 6\\nSkipping line 2159: expected 4 fields, saw 6\\nSkipping line 2160: expected 4 fields, saw 6\\nSkipping line 2161: expected 4 fields, saw 6\\nSkipping line 2162: expected 4 fields, saw 6\\nSkipping line 2163: expected 4 fields, saw 6\\nSkipping line 2164: expected 4 fields, saw 6\\nSkipping line 2165: expected 4 fields, saw 6\\nSkipping line 2166: expected 4 fields, saw 6\\nSkipping line 2167: expected 4 fields, saw 6\\nSkipping line 2168: expected 4 fields, saw 6\\nSkipping line 2169: expected 4 fields, saw 6\\nSkipping line 2170: expected 4 fields, saw 6\\nSkipping line 2171: expected 4 fields, saw 6\\nSkipping line 2172: expected 4 fields, saw 6\\nSkipping line 2173: expected 4 fields, saw 6\\nSkipping line 2174: expected 4 fields, saw 6\\nSkipping line 2175: expected 4 fields, saw 6\\nSkipping line 2176: expected 4 fields, saw 6\\nSkipping line 2177: expected 4 fields, saw 6\\nSkipping line 2178: expected 4 fields, saw 6\\nSkipping line 2179: expected 4 fields, saw 6\\nSkipping line 2180: expected 4 fields, saw 6\\nSkipping line 2181: expected 4 fields, saw 6\\nSkipping line 2182: expected 4 fields, saw 6\\nSkipping line 2183: expected 4 fields, saw 6\\nSkipping line 2184: expected 4 fields, saw 6\\nSkipping line 2185: expected 4 fields, saw 6\\nSkipping line 2186: expected 4 fields, saw 6\\nSkipping line 2187: expected 4 fields, saw 6\\nSkipping line 2188: expected 4 fields, saw 6\\nSkipping line 2189: expected 4 fields, saw 6\\nSkipping line 2190: expected 4 fields, saw 6\\nSkipping line 2191: expected 4 fields, saw 6\\nSkipping line 2192: expected 4 fields, saw 6\\nSkipping line 2193: expected 4 fields, saw 6\\nSkipping line 2194: expected 4 fields, saw 6\\nSkipping line 2195: expected 4 fields, saw 6\\nSkipping line 2196: expected 4 fields, saw 6\\nSkipping line 2197: expected 4 fields, saw 6\\nSkipping line 2198: expected 4 fields, saw 6\\nSkipping line 2199: expected 4 fields, saw 6\\nSkipping line 2200: expected 4 fields, saw 6\\nSkipping line 2201: expected 4 fields, saw 6\\nSkipping line 2202: expected 4 fields, saw 6\\nSkipping line 2203: expected 4 fields, saw 6\\nSkipping line 2204: expected 4 fields, saw 6\\nSkipping line 2205: expected 4 fields, saw 6\\nSkipping line 2206: expected 4 fields, saw 6\\nSkipping line 2207: expected 4 fields, saw 6\\nSkipping line 2208: expected 4 fields, saw 6\\nSkipping line 2209: expected 4 fields, saw 6\\nSkipping line 2210: expected 4 fields, saw 6\\nSkipping line 2211: expected 4 fields, saw 6\\nSkipping line 2212: expected 4 fields, saw 6\\nSkipping line 2213: expected 4 fields, saw 6\\nSkipping line 2214: expected 4 fields, saw 6\\nSkipping line 2215: expected 4 fields, saw 6\\nSkipping line 2216: expected 4 fields, saw 6\\nSkipping line 2217: expected 4 fields, saw 6\\nSkipping line 2218: expected 4 fields, saw 6\\nSkipping line 2219: expected 4 fields, saw 6\\nSkipping line 2220: expected 4 fields, saw 6\\nSkipping line 2221: expected 4 fields, saw 6\\nSkipping line 2222: expected 4 fields, saw 6\\nSkipping line 2223: expected 4 fields, saw 6\\nSkipping line 2224: expected 4 fields, saw 6\\nSkipping line 2225: expected 4 fields, saw 6\\nSkipping line 2226: expected 4 fields, saw 6\\nSkipping line 2227: expected 4 fields, saw 6\\nSkipping line 2228: expected 4 fields, saw 6\\nSkipping line 2229: expected 4 fields, saw 6\\nSkipping line 2230: expected 4 fields, saw 6\\nSkipping line 2231: expected 4 fields, saw 6\\nSkipping line 2232: expected 4 fields, saw 6\\nSkipping line 2233: expected 4 fields, saw 6\\nSkipping line 2234: expected 4 fields, saw 6\\nSkipping line 2235: expected 4 fields, saw 6\\nSkipping line 2236: expected 4 fields, saw 6\\nSkipping line 2237: expected 4 fields, saw 6\\nSkipping line 2238: expected 4 fields, saw 6\\nSkipping line 2239: expected 4 fields, saw 6\\nSkipping line 2240: expected 4 fields, saw 6\\nSkipping line 2241: expected 4 fields, saw 6\\nSkipping line 2242: expected 4 fields, saw 6\\nSkipping line 2243: expected 4 fields, saw 6\\nSkipping line 2244: expected 4 fields, saw 6\\nSkipping line 2245: expected 4 fields, saw 6\\nSkipping line 2246: expected 4 fields, saw 6\\nSkipping line 2247: expected 4 fields, saw 6\\nSkipping line 2248: expected 4 fields, saw 6\\nSkipping line 2249: expected 4 fields, saw 6\\nSkipping line 2250: expected 4 fields, saw 6\\nSkipping line 2251: expected 4 fields, saw 6\\nSkipping line 2252: expected 4 fields, saw 6\\nSkipping line 2253: expected 4 fields, saw 6\\nSkipping line 2254: expected 4 fields, saw 6\\nSkipping line 2255: expected 4 fields, saw 6\\nSkipping line 2256: expected 4 fields, saw 6\\nSkipping line 2257: expected 4 fields, saw 6\\nSkipping line 2258: expected 4 fields, saw 6\\nSkipping line 2259: expected 4 fields, saw 6\\nSkipping line 2260: expected 4 fields, saw 6\\nSkipping line 2261: expected 4 fields, saw 6\\nSkipping line 2262: expected 4 fields, saw 6\\nSkipping line 2263: expected 4 fields, saw 6\\nSkipping line 2264: expected 4 fields, saw 6\\nSkipping line 2265: expected 4 fields, saw 6\\nSkipping line 2266: expected 4 fields, saw 6\\nSkipping line 2267: expected 4 fields, saw 6\\nSkipping line 2268: expected 4 fields, saw 6\\nSkipping line 2269: expected 4 fields, saw 6\\nSkipping line 2270: expected 4 fields, saw 6\\nSkipping line 2271: expected 4 fields, saw 6\\nSkipping line 2272: expected 4 fields, saw 6\\nSkipping line 2273: expected 4 fields, saw 6\\nSkipping line 2274: expected 4 fields, saw 6\\nSkipping line 2275: expected 4 fields, saw 6\\nSkipping line 2276: expected 4 fields, saw 6\\nSkipping line 2277: expected 4 fields, saw 6\\nSkipping line 2278: expected 4 fields, saw 6\\nSkipping line 2279: expected 4 fields, saw 6\\nSkipping line 2280: expected 4 fields, saw 6\\nSkipping line 2281: expected 4 fields, saw 6\\nSkipping line 2282: expected 4 fields, saw 6\\nSkipping line 2283: expected 4 fields, saw 6\\nSkipping line 2284: expected 4 fields, saw 6\\nSkipping line 2285: expected 4 fields, saw 6\\nSkipping line 2286: expected 4 fields, saw 6\\nSkipping line 2287: expected 4 fields, saw 6\\nSkipping line 2288: expected 4 fields, saw 6\\nSkipping line 2289: expected 4 fields, saw 6\\nSkipping line 2290: expected 4 fields, saw 6\\nSkipping line 2291: expected 4 fields, saw 6\\nSkipping line 2292: expected 4 fields, saw 6\\nSkipping line 2293: expected 4 fields, saw 6\\nSkipping line 2294: expected 4 fields, saw 6\\nSkipping line 2295: expected 4 fields, saw 6\\nSkipping line 2296: expected 4 fields, saw 6\\nSkipping line 2297: expected 4 fields, saw 6\\nSkipping line 2298: expected 4 fields, saw 6\\nSkipping line 2299: expected 4 fields, saw 6\\nSkipping line 2300: expected 4 fields, saw 6\\nSkipping line 2301: expected 4 fields, saw 6\\nSkipping line 2302: expected 4 fields, saw 6\\nSkipping line 2303: expected 4 fields, saw 6\\nSkipping line 2304: expected 4 fields, saw 6\\nSkipping line 2305: expected 4 fields, saw 6\\nSkipping line 2306: expected 4 fields, saw 6\\nSkipping line 2307: expected 4 fields, saw 6\\nSkipping line 2308: expected 4 fields, saw 6\\nSkipping line 2309: expected 4 fields, saw 6\\nSkipping line 2310: expected 4 fields, saw 6\\nSkipping line 2311: expected 4 fields, saw 6\\nSkipping line 2312: expected 4 fields, saw 6\\nSkipping line 2313: expected 4 fields, saw 6\\nSkipping line 2314: expected 4 fields, saw 6\\nSkipping line 2315: expected 4 fields, saw 6\\nSkipping line 2316: expected 4 fields, saw 6\\nSkipping line 2317: expected 4 fields, saw 6\\nSkipping line 2318: expected 4 fields, saw 6\\nSkipping line 2319: expected 4 fields, saw 6\\nSkipping line 2320: expected 4 fields, saw 6\\nSkipping line 2321: expected 4 fields, saw 6\\nSkipping line 2322: expected 4 fields, saw 6\\nSkipping line 2323: expected 4 fields, saw 6\\nSkipping line 2324: expected 4 fields, saw 6\\nSkipping line 2325: expected 4 fields, saw 6\\nSkipping line 2326: expected 4 fields, saw 6\\nSkipping line 2327: expected 4 fields, saw 6\\nSkipping line 2328: expected 4 fields, saw 6\\nSkipping line 2329: expected 4 fields, saw 6\\nSkipping line 2330: expected 4 fields, saw 6\\nSkipping line 2331: expected 4 fields, saw 6\\nSkipping line 2332: expected 4 fields, saw 6\\nSkipping line 2333: expected 4 fields, saw 6\\nSkipping line 2334: expected 4 fields, saw 6\\nSkipping line 2335: expected 4 fields, saw 6\\nSkipping line 2336: expected 4 fields, saw 6\\nSkipping line 2337: expected 4 fields, saw 6\\nSkipping line 2338: expected 4 fields, saw 6\\nSkipping line 2339: expected 4 fields, saw 6\\nSkipping line 2340: expected 4 fields, saw 6\\nSkipping line 2341: expected 4 fields, saw 6\\nSkipping line 2342: expected 4 fields, saw 6\\nSkipping line 2343: expected 4 fields, saw 6\\nSkipping line 2344: expected 4 fields, saw 6\\nSkipping line 2345: expected 4 fields, saw 6\\nSkipping line 2346: expected 4 fields, saw 6\\nSkipping line 2347: expected 4 fields, saw 6\\nSkipping line 2348: expected 4 fields, saw 6\\nSkipping line 2349: expected 4 fields, saw 6\\nSkipping line 2350: expected 4 fields, saw 6\\nSkipping line 2351: expected 4 fields, saw 6\\nSkipping line 2352: expected 4 fields, saw 6\\nSkipping line 2353: expected 4 fields, saw 6\\nSkipping line 2354: expected 4 fields, saw 6\\nSkipping line 2355: expected 4 fields, saw 6\\nSkipping line 2356: expected 4 fields, saw 6\\nSkipping line 2357: expected 4 fields, saw 6\\nSkipping line 2358: expected 4 fields, saw 6\\nSkipping line 2359: expected 4 fields, saw 6\\nSkipping line 2360: expected 4 fields, saw 6\\nSkipping line 2361: expected 4 fields, saw 6\\nSkipping line 2362: expected 4 fields, saw 6\\nSkipping line 2363: expected 4 fields, saw 6\\nSkipping line 2364: expected 4 fields, saw 6\\nSkipping line 2365: expected 4 fields, saw 6\\nSkipping line 2366: expected 4 fields, saw 6\\nSkipping line 2367: expected 4 fields, saw 6\\nSkipping line 2368: expected 4 fields, saw 6\\nSkipping line 2369: expected 4 fields, saw 6\\nSkipping line 2370: expected 4 fields, saw 6\\nSkipping line 2371: expected 4 fields, saw 6\\nSkipping line 2372: expected 4 fields, saw 6\\nSkipping line 2373: expected 4 fields, saw 6\\nSkipping line 2374: expected 4 fields, saw 6\\nSkipping line 2375: expected 4 fields, saw 6\\nSkipping line 2376: expected 4 fields, saw 6\\nSkipping line 2377: expected 4 fields, saw 6\\nSkipping line 2378: expected 4 fields, saw 6\\nSkipping line 2379: expected 4 fields, saw 6\\nSkipping line 2380: expected 4 fields, saw 6\\nSkipping line 2381: expected 4 fields, saw 6\\nSkipping line 2382: expected 4 fields, saw 6\\nSkipping line 2383: expected 4 fields, saw 6\\nSkipping line 2384: expected 4 fields, saw 6\\nSkipping line 2385: expected 4 fields, saw 6\\nSkipping line 2386: expected 4 fields, saw 6\\nSkipping line 2387: expected 4 fields, saw 6\\nSkipping line 2388: expected 4 fields, saw 6\\nSkipping line 2389: expected 4 fields, saw 6\\nSkipping line 2390: expected 4 fields, saw 6\\nSkipping line 2391: expected 4 fields, saw 6\\nSkipping line 2392: expected 4 fields, saw 6\\nSkipping line 2393: expected 4 fields, saw 6\\nSkipping line 2394: expected 4 fields, saw 6\\nSkipping line 2395: expected 4 fields, saw 6\\nSkipping line 2396: expected 4 fields, saw 6\\nSkipping line 2397: expected 4 fields, saw 6\\nSkipping line 2398: expected 4 fields, saw 6\\nSkipping line 2399: expected 4 fields, saw 6\\nSkipping line 2400: expected 4 fields, saw 6\\nSkipping line 2401: expected 4 fields, saw 6\\nSkipping line 2402: expected 4 fields, saw 6\\nSkipping line 2403: expected 4 fields, saw 6\\nSkipping line 2404: expected 4 fields, saw 6\\nSkipping line 2405: expected 4 fields, saw 6\\nSkipping line 2406: expected 4 fields, saw 6\\nSkipping line 2407: expected 4 fields, saw 6\\nSkipping line 2408: expected 4 fields, saw 6\\nSkipping line 2409: expected 4 fields, saw 6\\nSkipping line 2410: expected 4 fields, saw 6\\nSkipping line 2411: expected 4 fields, saw 6\\nSkipping line 2412: expected 4 fields, saw 6\\nSkipping line 2413: expected 4 fields, saw 6\\nSkipping line 2414: expected 4 fields, saw 6\\nSkipping line 2415: expected 4 fields, saw 6\\nSkipping line 2416: expected 4 fields, saw 6\\nSkipping line 2417: expected 4 fields, saw 6\\nSkipping line 2418: expected 4 fields, saw 6\\nSkipping line 2419: expected 4 fields, saw 6\\nSkipping line 2420: expected 4 fields, saw 6\\nSkipping line 2421: expected 4 fields, saw 6\\nSkipping line 2422: expected 4 fields, saw 6\\nSkipping line 2423: expected 4 fields, saw 6\\nSkipping line 2424: expected 4 fields, saw 6\\nSkipping line 2425: expected 4 fields, saw 6\\nSkipping line 2426: expected 4 fields, saw 6\\nSkipping line 2427: expected 4 fields, saw 6\\nSkipping line 2428: expected 4 fields, saw 6\\nSkipping line 2429: expected 4 fields, saw 6\\nSkipping line 2430: expected 4 fields, saw 6\\nSkipping line 2431: expected 4 fields, saw 6\\nSkipping line 2432: expected 4 fields, saw 6\\nSkipping line 2433: expected 4 fields, saw 6\\nSkipping line 2434: expected 4 fields, saw 6\\nSkipping line 2435: expected 4 fields, saw 6\\nSkipping line 2436: expected 4 fields, saw 6\\nSkipping line 2437: expected 4 fields, saw 6\\nSkipping line 2438: expected 4 fields, saw 6\\nSkipping line 2439: expected 4 fields, saw 6\\nSkipping line 2440: expected 4 fields, saw 6\\nSkipping line 2441: expected 4 fields, saw 6\\nSkipping line 2442: expected 4 fields, saw 6\\nSkipping line 2443: expected 4 fields, saw 6\\nSkipping line 2444: expected 4 fields, saw 6\\nSkipping line 2445: expected 4 fields, saw 6\\nSkipping line 2446: expected 4 fields, saw 6\\nSkipping line 2447: expected 4 fields, saw 6\\nSkipping line 2448: expected 4 fields, saw 6\\nSkipping line 2449: expected 4 fields, saw 6\\nSkipping line 2450: expected 4 fields, saw 6\\nSkipping line 2451: expected 4 fields, saw 6\\nSkipping line 2452: expected 4 fields, saw 6\\nSkipping line 2453: expected 4 fields, saw 6\\nSkipping line 2454: expected 4 fields, saw 6\\nSkipping line 2455: expected 4 fields, saw 6\\nSkipping line 2456: expected 4 fields, saw 6\\nSkipping line 2457: expected 4 fields, saw 6\\nSkipping line 2458: expected 4 fields, saw 6\\nSkipping line 2459: expected 4 fields, saw 6\\nSkipping line 2460: expected 4 fields, saw 6\\nSkipping line 2461: expected 4 fields, saw 6\\nSkipping line 2462: expected 4 fields, saw 6\\nSkipping line 2463: expected 4 fields, saw 6\\nSkipping line 2464: expected 4 fields, saw 6\\nSkipping line 2465: expected 4 fields, saw 6\\nSkipping line 2466: expected 4 fields, saw 6\\nSkipping line 2467: expected 4 fields, saw 6\\nSkipping line 2468: expected 4 fields, saw 6\\nSkipping line 2469: expected 4 fields, saw 6\\nSkipping line 2470: expected 4 fields, saw 6\\nSkipping line 2471: expected 4 fields, saw 6\\nSkipping line 2472: expected 4 fields, saw 6\\nSkipping line 2473: expected 4 fields, saw 6\\nSkipping line 2474: expected 4 fields, saw 6\\nSkipping line 2475: expected 4 fields, saw 6\\nSkipping line 2476: expected 4 fields, saw 6\\nSkipping line 2477: expected 4 fields, saw 6\\nSkipping line 2478: expected 4 fields, saw 6\\nSkipping line 2479: expected 4 fields, saw 6\\nSkipping line 2480: expected 4 fields, saw 6\\nSkipping line 2481: expected 4 fields, saw 6\\nSkipping line 2482: expected 4 fields, saw 6\\nSkipping line 2483: expected 4 fields, saw 6\\nSkipping line 2484: expected 4 fields, saw 6\\nSkipping line 2485: expected 4 fields, saw 6\\nSkipping line 2486: expected 4 fields, saw 6\\nSkipping line 2487: expected 4 fields, saw 6\\nSkipping line 2488: expected 4 fields, saw 6\\nSkipping line 2489: expected 4 fields, saw 6\\nSkipping line 2490: expected 4 fields, saw 6\\nSkipping line 2491: expected 4 fields, saw 6\\nSkipping line 2492: expected 4 fields, saw 6\\nSkipping line 2493: expected 4 fields, saw 6\\nSkipping line 2494: expected 4 fields, saw 6\\nSkipping line 2495: expected 4 fields, saw 6\\nSkipping line 2496: expected 4 fields, saw 6\\nSkipping line 2497: expected 4 fields, saw 6\\nSkipping line 2498: expected 4 fields, saw 6\\nSkipping line 2499: expected 4 fields, saw 6\\nSkipping line 2500: expected 4 fields, saw 6\\nSkipping line 2501: expected 4 fields, saw 6\\nSkipping line 2502: expected 4 fields, saw 6\\nSkipping line 2503: expected 4 fields, saw 6\\nSkipping line 2504: expected 4 fields, saw 6\\nSkipping line 2505: expected 4 fields, saw 6\\nSkipping line 2506: expected 4 fields, saw 6\\nSkipping line 2507: expected 4 fields, saw 6\\nSkipping line 2508: expected 4 fields, saw 6\\nSkipping line 2509: expected 4 fields, saw 6\\nSkipping line 2510: expected 4 fields, saw 6\\nSkipping line 2511: expected 4 fields, saw 6\\nSkipping line 2512: expected 4 fields, saw 6\\nSkipping line 2513: expected 4 fields, saw 6\\nSkipping line 2514: expected 4 fields, saw 6\\nSkipping line 2515: expected 4 fields, saw 6\\nSkipping line 2516: expected 4 fields, saw 6\\nSkipping line 2517: expected 4 fields, saw 6\\nSkipping line 2518: expected 4 fields, saw 6\\nSkipping line 2519: expected 4 fields, saw 6\\nSkipping line 2520: expected 4 fields, saw 6\\nSkipping line 2521: expected 4 fields, saw 6\\nSkipping line 2522: expected 4 fields, saw 6\\nSkipping line 2523: expected 4 fields, saw 6\\nSkipping line 2524: expected 4 fields, saw 6\\nSkipping line 2525: expected 4 fields, saw 6\\nSkipping line 2526: expected 4 fields, saw 6\\nSkipping line 2527: expected 4 fields, saw 6\\nSkipping line 2528: expected 4 fields, saw 6\\nSkipping line 2529: expected 4 fields, saw 6\\nSkipping line 2530: expected 4 fields, saw 6\\nSkipping line 2531: expected 4 fields, saw 6\\nSkipping line 2532: expected 4 fields, saw 6\\nSkipping line 2533: expected 4 fields, saw 6\\nSkipping line 2534: expected 4 fields, saw 6\\nSkipping line 2535: expected 4 fields, saw 6\\nSkipping line 2536: expected 4 fields, saw 6\\nSkipping line 2537: expected 4 fields, saw 6\\nSkipping line 2538: expected 4 fields, saw 6\\nSkipping line 2539: expected 4 fields, saw 6\\nSkipping line 2540: expected 4 fields, saw 6\\nSkipping line 2541: expected 4 fields, saw 6\\nSkipping line 2542: expected 4 fields, saw 6\\nSkipping line 2543: expected 4 fields, saw 6\\nSkipping line 2544: expected 4 fields, saw 6\\nSkipping line 2545: expected 4 fields, saw 6\\nSkipping line 2546: expected 4 fields, saw 6\\nSkipping line 2547: expected 4 fields, saw 6\\nSkipping line 2548: expected 4 fields, saw 6\\nSkipping line 2549: expected 4 fields, saw 6\\nSkipping line 2550: expected 4 fields, saw 6\\nSkipping line 2551: expected 4 fields, saw 6\\nSkipping line 2552: expected 4 fields, saw 6\\nSkipping line 2553: expected 4 fields, saw 6\\nSkipping line 2554: expected 4 fields, saw 6\\nSkipping line 2555: expected 4 fields, saw 6\\nSkipping line 2556: expected 4 fields, saw 6\\nSkipping line 2557: expected 4 fields, saw 6\\nSkipping line 2558: expected 4 fields, saw 6\\nSkipping line 2559: expected 4 fields, saw 6\\nSkipping line 2560: expected 4 fields, saw 6\\nSkipping line 2561: expected 4 fields, saw 6\\nSkipping line 2562: expected 4 fields, saw 6\\nSkipping line 2563: expected 4 fields, saw 6\\nSkipping line 2564: expected 4 fields, saw 6\\nSkipping line 2565: expected 4 fields, saw 6\\nSkipping line 2566: expected 4 fields, saw 6\\nSkipping line 2567: expected 4 fields, saw 6\\nSkipping line 2568: expected 4 fields, saw 6\\nSkipping line 2569: expected 4 fields, saw 6\\nSkipping line 2570: expected 4 fields, saw 6\\nSkipping line 2571: expected 4 fields, saw 6\\nSkipping line 2572: expected 4 fields, saw 6\\nSkipping line 2573: expected 4 fields, saw 6\\nSkipping line 2574: expected 4 fields, saw 6\\nSkipping line 2575: expected 4 fields, saw 6\\nSkipping line 2576: expected 4 fields, saw 6\\nSkipping line 2577: expected 4 fields, saw 6\\nSkipping line 2578: expected 4 fields, saw 6\\nSkipping line 2579: expected 4 fields, saw 6\\nSkipping line 2580: expected 4 fields, saw 6\\nSkipping line 2581: expected 4 fields, saw 6\\nSkipping line 2582: expected 4 fields, saw 6\\nSkipping line 2583: expected 4 fields, saw 6\\nSkipping line 2584: expected 4 fields, saw 6\\nSkipping line 2585: expected 4 fields, saw 6\\nSkipping line 2586: expected 4 fields, saw 6\\nSkipping line 2587: expected 4 fields, saw 6\\nSkipping line 2588: expected 4 fields, saw 6\\nSkipping line 2589: expected 4 fields, saw 6\\nSkipping line 2590: expected 4 fields, saw 6\\nSkipping line 2591: expected 4 fields, saw 6\\nSkipping line 2592: expected 4 fields, saw 6\\nSkipping line 2593: expected 4 fields, saw 6\\nSkipping line 2594: expected 4 fields, saw 6\\nSkipping line 2595: expected 4 fields, saw 6\\nSkipping line 2596: expected 4 fields, saw 6\\nSkipping line 2597: expected 4 fields, saw 6\\nSkipping line 2598: expected 4 fields, saw 6\\nSkipping line 2599: expected 4 fields, saw 6\\nSkipping line 2600: expected 4 fields, saw 6\\nSkipping line 2601: expected 4 fields, saw 6\\nSkipping line 2602: expected 4 fields, saw 6\\nSkipping line 2603: expected 4 fields, saw 6\\nSkipping line 2604: expected 4 fields, saw 6\\nSkipping line 2605: expected 4 fields, saw 6\\nSkipping line 2606: expected 4 fields, saw 6\\nSkipping line 2607: expected 4 fields, saw 6\\nSkipping line 2608: expected 4 fields, saw 6\\nSkipping line 2609: expected 4 fields, saw 6\\nSkipping line 2610: expected 4 fields, saw 6\\nSkipping line 2611: expected 4 fields, saw 6\\nSkipping line 2612: expected 4 fields, saw 6\\nSkipping line 2613: expected 4 fields, saw 6\\nSkipping line 2614: expected 4 fields, saw 6\\nSkipping line 2615: expected 4 fields, saw 6\\nSkipping line 2616: expected 4 fields, saw 6\\nSkipping line 2617: expected 4 fields, saw 6\\nSkipping line 2618: expected 4 fields, saw 6\\nSkipping line 2619: expected 4 fields, saw 6\\nSkipping line 2620: expected 4 fields, saw 6\\nSkipping line 2621: expected 4 fields, saw 6\\nSkipping line 2622: expected 4 fields, saw 6\\nSkipping line 2623: expected 4 fields, saw 6\\nSkipping line 2624: expected 4 fields, saw 6\\nSkipping line 2625: expected 4 fields, saw 6\\nSkipping line 2626: expected 4 fields, saw 6\\nSkipping line 2627: expected 4 fields, saw 6\\nSkipping line 2628: expected 4 fields, saw 6\\nSkipping line 2629: expected 4 fields, saw 6\\nSkipping line 2630: expected 4 fields, saw 6\\nSkipping line 2631: expected 4 fields, saw 6\\nSkipping line 2632: expected 4 fields, saw 6\\nSkipping line 2633: expected 4 fields, saw 6\\nSkipping line 2634: expected 4 fields, saw 6\\nSkipping line 2635: expected 4 fields, saw 6\\nSkipping line 2636: expected 4 fields, saw 6\\nSkipping line 2637: expected 4 fields, saw 6\\nSkipping line 2638: expected 4 fields, saw 6\\nSkipping line 2639: expected 4 fields, saw 6\\nSkipping line 2640: expected 4 fields, saw 6\\nSkipping line 2641: expected 4 fields, saw 6\\nSkipping line 2642: expected 4 fields, saw 6\\nSkipping line 2643: expected 4 fields, saw 6\\nSkipping line 2644: expected 4 fields, saw 6\\nSkipping line 2645: expected 4 fields, saw 6\\nSkipping line 2646: expected 4 fields, saw 6\\nSkipping line 2647: expected 4 fields, saw 6\\nSkipping line 2648: expected 4 fields, saw 6\\nSkipping line 2649: expected 4 fields, saw 6\\nSkipping line 2650: expected 4 fields, saw 6\\nSkipping line 2651: expected 4 fields, saw 6\\nSkipping line 2652: expected 4 fields, saw 6\\nSkipping line 2653: expected 4 fields, saw 6\\nSkipping line 2654: expected 4 fields, saw 6\\nSkipping line 2655: expected 4 fields, saw 6\\nSkipping line 2656: expected 4 fields, saw 6\\nSkipping line 2657: expected 4 fields, saw 6\\nSkipping line 2658: expected 4 fields, saw 6\\nSkipping line 2659: expected 4 fields, saw 6\\nSkipping line 2660: expected 4 fields, saw 6\\nSkipping line 2661: expected 4 fields, saw 6\\nSkipping line 2662: expected 4 fields, saw 6\\nSkipping line 2663: expected 4 fields, saw 6\\nSkipping line 2664: expected 4 fields, saw 6\\nSkipping line 2665: expected 4 fields, saw 6\\nSkipping line 2666: expected 4 fields, saw 6\\nSkipping line 2667: expected 4 fields, saw 6\\nSkipping line 2668: expected 4 fields, saw 6\\nSkipping line 2669: expected 4 fields, saw 6\\nSkipping line 2670: expected 4 fields, saw 6\\nSkipping line 2671: expected 4 fields, saw 6\\nSkipping line 2672: expected 4 fields, saw 6\\nSkipping line 2673: expected 4 fields, saw 6\\nSkipping line 2674: expected 4 fields, saw 6\\nSkipping line 2675: expected 4 fields, saw 6\\nSkipping line 2676: expected 4 fields, saw 6\\nSkipping line 2677: expected 4 fields, saw 6\\nSkipping line 2678: expected 4 fields, saw 6\\nSkipping line 2679: expected 4 fields, saw 6\\nSkipping line 2680: expected 4 fields, saw 6\\nSkipping line 2681: expected 4 fields, saw 6\\nSkipping line 2682: expected 4 fields, saw 6\\nSkipping line 2683: expected 4 fields, saw 6\\nSkipping line 2684: expected 4 fields, saw 6\\nSkipping line 2685: expected 4 fields, saw 6\\nSkipping line 2686: expected 4 fields, saw 6\\nSkipping line 2687: expected 4 fields, saw 6\\nSkipping line 2688: expected 4 fields, saw 6\\nSkipping line 2689: expected 4 fields, saw 6\\nSkipping line 2690: expected 4 fields, saw 6\\nSkipping line 2691: expected 4 fields, saw 6\\nSkipping line 2692: expected 4 fields, saw 6\\nSkipping line 2693: expected 4 fields, saw 6\\nSkipping line 2694: expected 4 fields, saw 6\\nSkipping line 2695: expected 4 fields, saw 6\\nSkipping line 2696: expected 4 fields, saw 6\\nSkipping line 2697: expected 4 fields, saw 6\\nSkipping line 2698: expected 4 fields, saw 6\\nSkipping line 2699: expected 4 fields, saw 6\\nSkipping line 2700: expected 4 fields, saw 6\\nSkipping line 2701: expected 4 fields, saw 6\\nSkipping line 2702: expected 4 fields, saw 6\\nSkipping line 2703: expected 4 fields, saw 6\\nSkipping line 2704: expected 4 fields, saw 6\\nSkipping line 2705: expected 4 fields, saw 6\\nSkipping line 2706: expected 4 fields, saw 6\\nSkipping line 2707: expected 4 fields, saw 6\\nSkipping line 2708: expected 4 fields, saw 6\\nSkipping line 2709: expected 4 fields, saw 6\\nSkipping line 2710: expected 4 fields, saw 6\\nSkipping line 2711: expected 4 fields, saw 6\\nSkipping line 2712: expected 4 fields, saw 6\\nSkipping line 2713: expected 4 fields, saw 6\\nSkipping line 2714: expected 4 fields, saw 6\\nSkipping line 2715: expected 4 fields, saw 6\\nSkipping line 2716: expected 4 fields, saw 6\\nSkipping line 2717: expected 4 fields, saw 6\\nSkipping line 2718: expected 4 fields, saw 6\\nSkipping line 2719: expected 4 fields, saw 6\\nSkipping line 2720: expected 4 fields, saw 6\\nSkipping line 2721: expected 4 fields, saw 6\\nSkipping line 2722: expected 4 fields, saw 6\\nSkipping line 2723: expected 4 fields, saw 6\\nSkipping line 2724: expected 4 fields, saw 6\\nSkipping line 2725: expected 4 fields, saw 6\\nSkipping line 2726: expected 4 fields, saw 6\\nSkipping line 2727: expected 4 fields, saw 6\\nSkipping line 2728: expected 4 fields, saw 6\\nSkipping line 2729: expected 4 fields, saw 6\\nSkipping line 2730: expected 4 fields, saw 6\\nSkipping line 2731: expected 4 fields, saw 6\\nSkipping line 2732: expected 4 fields, saw 6\\nSkipping line 2733: expected 4 fields, saw 6\\nSkipping line 2734: expected 4 fields, saw 6\\nSkipping line 2735: expected 4 fields, saw 6\\nSkipping line 2736: expected 4 fields, saw 6\\nSkipping line 2737: expected 4 fields, saw 6\\nSkipping line 2738: expected 4 fields, saw 6\\nSkipping line 2739: expected 4 fields, saw 6\\nSkipping line 2740: expected 4 fields, saw 6\\nSkipping line 2741: expected 4 fields, saw 6\\nSkipping line 2742: expected 4 fields, saw 6\\nSkipping line 2743: expected 4 fields, saw 6\\nSkipping line 2744: expected 4 fields, saw 6\\nSkipping line 2745: expected 4 fields, saw 6\\nSkipping line 2746: expected 4 fields, saw 6\\nSkipping line 2747: expected 4 fields, saw 6\\nSkipping line 2748: expected 4 fields, saw 6\\nSkipping line 2749: expected 4 fields, saw 6\\nSkipping line 2750: expected 4 fields, saw 6\\nSkipping line 2751: expected 4 fields, saw 6\\nSkipping line 2752: expected 4 fields, saw 6\\nSkipping line 2753: expected 4 fields, saw 6\\nSkipping line 2754: expected 4 fields, saw 6\\nSkipping line 2755: expected 4 fields, saw 6\\nSkipping line 2756: expected 4 fields, saw 6\\nSkipping line 2757: expected 4 fields, saw 6\\nSkipping line 2758: expected 4 fields, saw 6\\nSkipping line 2759: expected 4 fields, saw 6\\nSkipping line 2760: expected 4 fields, saw 6\\nSkipping line 2761: expected 4 fields, saw 6\\nSkipping line 2762: expected 4 fields, saw 6\\nSkipping line 2763: expected 4 fields, saw 6\\nSkipping line 2764: expected 4 fields, saw 6\\nSkipping line 2765: expected 4 fields, saw 6\\nSkipping line 2766: expected 4 fields, saw 6\\nSkipping line 2767: expected 4 fields, saw 6\\nSkipping line 2768: expected 4 fields, saw 6\\nSkipping line 2769: expected 4 fields, saw 6\\nSkipping line 2770: expected 4 fields, saw 6\\nSkipping line 2771: expected 4 fields, saw 6\\nSkipping line 2772: expected 4 fields, saw 6\\nSkipping line 2773: expected 4 fields, saw 6\\nSkipping line 2774: expected 4 fields, saw 6\\nSkipping line 2775: expected 4 fields, saw 6\\nSkipping line 2776: expected 4 fields, saw 6\\nSkipping line 2777: expected 4 fields, saw 6\\nSkipping line 2778: expected 4 fields, saw 6\\nSkipping line 2779: expected 4 fields, saw 6\\nSkipping line 2780: expected 4 fields, saw 6\\nSkipping line 2781: expected 4 fields, saw 6\\nSkipping line 2782: expected 4 fields, saw 6\\nSkipping line 2783: expected 4 fields, saw 6\\nSkipping line 2784: expected 4 fields, saw 6\\nSkipping line 2785: expected 4 fields, saw 6\\nSkipping line 2786: expected 4 fields, saw 6\\nSkipping line 2787: expected 4 fields, saw 6\\nSkipping line 2788: expected 4 fields, saw 6\\nSkipping line 2789: expected 4 fields, saw 6\\nSkipping line 2790: expected 4 fields, saw 6\\nSkipping line 2791: expected 4 fields, saw 6\\nSkipping line 2792: expected 4 fields, saw 6\\nSkipping line 2793: expected 4 fields, saw 6\\nSkipping line 2794: expected 4 fields, saw 6\\nSkipping line 2795: expected 4 fields, saw 6\\nSkipping line 2796: expected 4 fields, saw 6\\nSkipping line 2797: expected 4 fields, saw 6\\nSkipping line 2798: expected 4 fields, saw 6\\nSkipping line 2799: expected 4 fields, saw 6\\nSkipping line 2800: expected 4 fields, saw 6\\nSkipping line 2801: expected 4 fields, saw 6\\nSkipping line 2802: expected 4 fields, saw 6\\nSkipping line 2803: expected 4 fields, saw 6\\nSkipping line 2804: expected 4 fields, saw 6\\nSkipping line 2805: expected 4 fields, saw 6\\nSkipping line 2806: expected 4 fields, saw 6\\nSkipping line 2807: expected 4 fields, saw 6\\nSkipping line 2808: expected 4 fields, saw 6\\nSkipping line 2809: expected 4 fields, saw 6\\nSkipping line 2810: expected 4 fields, saw 6\\nSkipping line 2811: expected 4 fields, saw 6\\nSkipping line 2812: expected 4 fields, saw 6\\nSkipping line 2813: expected 4 fields, saw 6\\nSkipping line 2814: expected 4 fields, saw 6\\nSkipping line 2815: expected 4 fields, saw 6\\nSkipping line 2816: expected 4 fields, saw 6\\nSkipping line 2817: expected 4 fields, saw 6\\nSkipping line 2818: expected 4 fields, saw 6\\nSkipping line 2819: expected 4 fields, saw 6\\nSkipping line 2820: expected 4 fields, saw 6\\nSkipping line 2821: expected 4 fields, saw 6\\nSkipping line 2822: expected 4 fields, saw 6\\nSkipping line 2823: expected 4 fields, saw 6\\nSkipping line 2824: expected 4 fields, saw 6\\nSkipping line 2825: expected 4 fields, saw 6\\nSkipping line 2826: expected 4 fields, saw 6\\nSkipping line 2827: expected 4 fields, saw 6\\nSkipping line 2828: expected 4 fields, saw 6\\nSkipping line 2829: expected 4 fields, saw 6\\nSkipping line 2830: expected 4 fields, saw 6\\nSkipping line 2831: expected 4 fields, saw 6\\nSkipping line 2832: expected 4 fields, saw 6\\nSkipping line 2833: expected 4 fields, saw 6\\nSkipping line 2834: expected 4 fields, saw 6\\nSkipping line 2835: expected 4 fields, saw 6\\nSkipping line 2836: expected 4 fields, saw 6\\nSkipping line 2837: expected 4 fields, saw 6\\nSkipping line 2838: expected 4 fields, saw 6\\nSkipping line 2839: expected 4 fields, saw 6\\nSkipping line 2840: expected 4 fields, saw 6\\nSkipping line 2841: expected 4 fields, saw 6\\nSkipping line 2842: expected 4 fields, saw 6\\nSkipping line 2843: expected 4 fields, saw 6\\nSkipping line 2844: expected 4 fields, saw 6\\nSkipping line 2845: expected 4 fields, saw 6\\nSkipping line 2846: expected 4 fields, saw 6\\nSkipping line 2847: expected 4 fields, saw 6\\nSkipping line 2848: expected 4 fields, saw 6\\nSkipping line 2849: expected 4 fields, saw 6\\nSkipping line 2850: expected 4 fields, saw 6\\nSkipping line 2851: expected 4 fields, saw 6\\nSkipping line 2852: expected 4 fields, saw 6\\nSkipping line 2853: expected 4 fields, saw 6\\nSkipping line 2854: expected 4 fields, saw 6\\nSkipping line 2855: expected 4 fields, saw 6\\nSkipping line 2856: expected 4 fields, saw 6\\nSkipping line 2857: expected 4 fields, saw 6\\nSkipping line 2858: expected 4 fields, saw 6\\nSkipping line 2859: expected 4 fields, saw 6\\nSkipping line 2860: expected 4 fields, saw 6\\nSkipping line 2861: expected 4 fields, saw 6\\nSkipping line 2862: expected 4 fields, saw 6\\nSkipping line 2863: expected 4 fields, saw 6\\nSkipping line 2864: expected 4 fields, saw 6\\nSkipping line 2865: expected 4 fields, saw 6\\nSkipping line 2866: expected 4 fields, saw 6\\nSkipping line 2867: expected 4 fields, saw 6\\nSkipping line 2868: expected 4 fields, saw 6\\nSkipping line 2869: expected 4 fields, saw 6\\nSkipping line 2870: expected 4 fields, saw 6\\nSkipping line 2871: expected 4 fields, saw 6\\nSkipping line 2872: expected 4 fields, saw 6\\nSkipping line 2873: expected 4 fields, saw 6\\nSkipping line 2874: expected 4 fields, saw 6\\nSkipping line 2875: expected 4 fields, saw 6\\nSkipping line 2876: expected 4 fields, saw 6\\nSkipping line 2877: expected 4 fields, saw 6\\nSkipping line 2878: expected 4 fields, saw 6\\nSkipping line 2879: expected 4 fields, saw 6\\nSkipping line 2880: expected 4 fields, saw 6\\nSkipping line 2881: expected 4 fields, saw 6\\nSkipping line 2882: expected 4 fields, saw 6\\nSkipping line 2883: expected 4 fields, saw 6\\nSkipping line 2884: expected 4 fields, saw 6\\nSkipping line 2885: expected 4 fields, saw 6\\nSkipping line 2886: expected 4 fields, saw 6\\nSkipping line 2887: expected 4 fields, saw 6\\nSkipping line 2888: expected 4 fields, saw 6\\nSkipping line 2889: expected 4 fields, saw 6\\nSkipping line 2890: expected 4 fields, saw 6\\nSkipping line 2891: expected 4 fields, saw 6\\nSkipping line 2892: expected 4 fields, saw 6\\nSkipping line 2893: expected 4 fields, saw 6\\nSkipping line 2894: expected 4 fields, saw 6\\nSkipping line 2895: expected 4 fields, saw 6\\nSkipping line 2896: expected 4 fields, saw 6\\nSkipping line 2897: expected 4 fields, saw 6\\nSkipping line 2898: expected 4 fields, saw 6\\nSkipping line 2899: expected 4 fields, saw 6\\nSkipping line 2900: expected 4 fields, saw 6\\nSkipping line 2901: expected 4 fields, saw 6\\nSkipping line 2902: expected 4 fields, saw 6\\nSkipping line 2903: expected 4 fields, saw 6\\nSkipping line 2904: expected 4 fields, saw 6\\nSkipping line 2905: expected 4 fields, saw 6\\nSkipping line 2906: expected 4 fields, saw 6\\nSkipping line 2907: expected 4 fields, saw 6\\nSkipping line 2908: expected 4 fields, saw 6\\nSkipping line 2909: expected 4 fields, saw 6\\nSkipping line 2910: expected 4 fields, saw 6\\nSkipping line 2911: expected 4 fields, saw 6\\nSkipping line 2912: expected 4 fields, saw 6\\nSkipping line 2913: expected 4 fields, saw 6\\nSkipping line 2914: expected 4 fields, saw 6\\nSkipping line 2915: expected 4 fields, saw 6\\nSkipping line 2916: expected 4 fields, saw 6\\nSkipping line 2917: expected 4 fields, saw 6\\nSkipping line 2918: expected 4 fields, saw 6\\nSkipping line 2919: expected 4 fields, saw 6\\nSkipping line 2920: expected 4 fields, saw 6\\nSkipping line 2921: expected 4 fields, saw 6\\nSkipping line 2922: expected 4 fields, saw 6\\nSkipping line 2923: expected 4 fields, saw 6\\nSkipping line 2924: expected 4 fields, saw 6\\nSkipping line 2925: expected 4 fields, saw 6\\nSkipping line 2926: expected 4 fields, saw 6\\nSkipping line 2927: expected 4 fields, saw 6\\nSkipping line 2928: expected 4 fields, saw 6\\nSkipping line 2929: expected 4 fields, saw 6\\nSkipping line 2930: expected 4 fields, saw 6\\nSkipping line 2931: expected 4 fields, saw 6\\nSkipping line 2932: expected 4 fields, saw 6\\nSkipping line 2933: expected 4 fields, saw 6\\nSkipping line 2934: expected 4 fields, saw 6\\nSkipping line 2935: expected 4 fields, saw 6\\nSkipping line 2936: expected 4 fields, saw 6\\nSkipping line 2937: expected 4 fields, saw 6\\nSkipping line 2938: expected 4 fields, saw 6\\nSkipping line 2939: expected 4 fields, saw 6\\nSkipping line 2940: expected 4 fields, saw 6\\nSkipping line 2941: expected 4 fields, saw 6\\nSkipping line 2942: expected 4 fields, saw 6\\nSkipping line 2943: expected 4 fields, saw 6\\nSkipping line 2944: expected 4 fields, saw 6\\nSkipping line 2945: expected 4 fields, saw 6\\nSkipping line 2946: expected 4 fields, saw 6\\nSkipping line 2947: expected 4 fields, saw 6\\nSkipping line 2948: expected 4 fields, saw 6\\nSkipping line 2949: expected 4 fields, saw 6\\nSkipping line 2950: expected 4 fields, saw 6\\nSkipping line 2951: expected 4 fields, saw 6\\nSkipping line 2952: expected 4 fields, saw 6\\nSkipping line 2953: expected 4 fields, saw 6\\nSkipping line 2954: expected 4 fields, saw 6\\nSkipping line 2955: expected 4 fields, saw 6\\nSkipping line 2956: expected 4 fields, saw 6\\nSkipping line 2957: expected 4 fields, saw 6\\nSkipping line 2958: expected 4 fields, saw 6\\nSkipping line 2959: expected 4 fields, saw 6\\nSkipping line 2960: expected 4 fields, saw 6\\nSkipping line 2961: expected 4 fields, saw 6\\nSkipping line 2962: expected 4 fields, saw 6\\nSkipping line 2963: expected 4 fields, saw 6\\nSkipping line 2964: expected 4 fields, saw 6\\nSkipping line 2965: expected 4 fields, saw 6\\nSkipping line 2966: expected 4 fields, saw 6\\nSkipping line 2967: expected 4 fields, saw 6\\nSkipping line 2968: expected 4 fields, saw 6\\nSkipping line 2969: expected 4 fields, saw 6\\nSkipping line 2970: expected 4 fields, saw 6\\nSkipping line 2971: expected 4 fields, saw 6\\nSkipping line 2972: expected 4 fields, saw 6\\nSkipping line 2973: expected 4 fields, saw 6\\nSkipping line 2974: expected 4 fields, saw 6\\nSkipping line 2975: expected 4 fields, saw 6\\nSkipping line 2976: expected 4 fields, saw 6\\nSkipping line 2977: expected 4 fields, saw 6\\nSkipping line 2978: expected 4 fields, saw 6\\nSkipping line 2979: expected 4 fields, saw 6\\nSkipping line 2980: expected 4 fields, saw 6\\nSkipping line 2981: expected 4 fields, saw 6\\nSkipping line 2982: expected 4 fields, saw 6\\nSkipping line 2983: expected 4 fields, saw 6\\nSkipping line 2984: expected 4 fields, saw 6\\nSkipping line 2985: expected 4 fields, saw 6\\nSkipping line 2986: expected 4 fields, saw 6\\nSkipping line 2987: expected 4 fields, saw 6\\nSkipping line 2988: expected 4 fields, saw 6\\nSkipping line 2989: expected 4 fields, saw 6\\nSkipping line 2990: expected 4 fields, saw 6\\nSkipping line 2991: expected 4 fields, saw 6\\nSkipping line 2992: expected 4 fields, saw 6\\nSkipping line 2993: expected 4 fields, saw 6\\nSkipping line 2994: expected 4 fields, saw 6\\nSkipping line 2995: expected 4 fields, saw 6\\nSkipping line 2996: expected 4 fields, saw 6\\nSkipping line 2997: expected 4 fields, saw 6\\nSkipping line 2998: expected 4 fields, saw 6\\nSkipping line 2999: expected 4 fields, saw 6\\nSkipping line 3000: expected 4 fields, saw 6\\nSkipping line 3001: expected 4 fields, saw 6\\nSkipping line 3002: expected 4 fields, saw 6\\nSkipping line 3003: expected 4 fields, saw 6\\nSkipping line 3004: expected 4 fields, saw 6\\nSkipping line 3005: expected 4 fields, saw 6\\nSkipping line 3006: expected 4 fields, saw 6\\nSkipping line 3007: expected 4 fields, saw 6\\nSkipping line 3008: expected 4 fields, saw 6\\nSkipping line 3009: expected 4 fields, saw 6\\nSkipping line 3010: expected 4 fields, saw 6\\nSkipping line 3011: expected 4 fields, saw 6\\nSkipping line 3012: expected 4 fields, saw 6\\nSkipping line 3013: expected 4 fields, saw 6\\nSkipping line 3014: expected 4 fields, saw 6\\nSkipping line 3015: expected 4 fields, saw 6\\nSkipping line 3016: expected 4 fields, saw 6\\nSkipping line 3017: expected 4 fields, saw 6\\nSkipping line 3018: expected 4 fields, saw 6\\nSkipping line 3019: expected 4 fields, saw 6\\nSkipping line 3020: expected 4 fields, saw 6\\nSkipping line 3021: expected 4 fields, saw 6\\nSkipping line 3022: expected 4 fields, saw 6\\nSkipping line 3023: expected 4 fields, saw 6\\nSkipping line 3024: expected 4 fields, saw 6\\nSkipping line 3025: expected 4 fields, saw 6\\nSkipping line 3026: expected 4 fields, saw 6\\nSkipping line 3027: expected 4 fields, saw 6\\nSkipping line 3028: expected 4 fields, saw 6\\nSkipping line 3029: expected 4 fields, saw 6\\nSkipping line 3030: expected 4 fields, saw 6\\nSkipping line 3031: expected 4 fields, saw 6\\nSkipping line 3032: expected 4 fields, saw 6\\nSkipping line 3033: expected 4 fields, saw 6\\nSkipping line 3034: expected 4 fields, saw 6\\nSkipping line 3035: expected 4 fields, saw 6\\nSkipping line 3036: expected 4 fields, saw 6\\nSkipping line 3037: expected 4 fields, saw 6\\nSkipping line 3038: expected 4 fields, saw 6\\nSkipping line 3039: expected 4 fields, saw 6\\nSkipping line 3040: expected 4 fields, saw 6\\nSkipping line 3041: expected 4 fields, saw 6\\nSkipping line 3042: expected 4 fields, saw 6\\nSkipping line 3043: expected 4 fields, saw 6\\nSkipping line 3044: expected 4 fields, saw 6\\nSkipping line 3045: expected 4 fields, saw 6\\nSkipping line 3046: expected 4 fields, saw 6\\nSkipping line 3047: expected 4 fields, saw 6\\nSkipping line 3048: expected 4 fields, saw 6\\nSkipping line 3049: expected 4 fields, saw 6\\nSkipping line 3050: expected 4 fields, saw 6\\nSkipping line 3051: expected 4 fields, saw 6\\nSkipping line 3052: expected 4 fields, saw 6\\nSkipping line 3053: expected 4 fields, saw 6\\nSkipping line 3054: expected 4 fields, saw 6\\nSkipping line 3055: expected 4 fields, saw 6\\nSkipping line 3056: expected 4 fields, saw 6\\nSkipping line 3057: expected 4 fields, saw 6\\nSkipping line 3058: expected 4 fields, saw 6\\nSkipping line 3059: expected 4 fields, saw 6\\nSkipping line 3060: expected 4 fields, saw 6\\nSkipping line 3061: expected 4 fields, saw 6\\nSkipping line 3062: expected 4 fields, saw 6\\nSkipping line 3063: expected 4 fields, saw 6\\nSkipping line 3064: expected 4 fields, saw 6\\nSkipping line 3065: expected 4 fields, saw 6\\nSkipping line 3066: expected 4 fields, saw 6\\nSkipping line 3067: expected 4 fields, saw 6\\nSkipping line 3068: expected 4 fields, saw 6\\nSkipping line 3069: expected 4 fields, saw 6\\nSkipping line 3070: expected 4 fields, saw 6\\nSkipping line 3071: expected 4 fields, saw 6\\nSkipping line 3072: expected 4 fields, saw 6\\nSkipping line 3073: expected 4 fields, saw 6\\nSkipping line 3074: expected 4 fields, saw 6\\nSkipping line 3075: expected 4 fields, saw 6\\nSkipping line 3076: expected 4 fields, saw 6\\nSkipping line 3077: expected 4 fields, saw 6\\nSkipping line 3078: expected 4 fields, saw 6\\nSkipping line 3079: expected 4 fields, saw 6\\nSkipping line 3080: expected 4 fields, saw 6\\nSkipping line 3081: expected 4 fields, saw 6\\nSkipping line 3082: expected 4 fields, saw 6\\nSkipping line 3083: expected 4 fields, saw 6\\nSkipping line 3084: expected 4 fields, saw 6\\nSkipping line 3085: expected 4 fields, saw 6\\nSkipping line 3086: expected 4 fields, saw 6\\nSkipping line 3087: expected 4 fields, saw 6\\nSkipping line 3088: expected 4 fields, saw 6\\nSkipping line 3089: expected 4 fields, saw 6\\nSkipping line 3090: expected 4 fields, saw 6\\nSkipping line 3091: expected 4 fields, saw 6\\nSkipping line 3092: expected 4 fields, saw 6\\nSkipping line 3093: expected 4 fields, saw 6\\nSkipping line 3094: expected 4 fields, saw 6\\nSkipping line 3095: expected 4 fields, saw 6\\nSkipping line 3096: expected 4 fields, saw 6\\nSkipping line 3097: expected 4 fields, saw 6\\nSkipping line 3098: expected 4 fields, saw 6\\nSkipping line 3099: expected 4 fields, saw 6\\nSkipping line 3100: expected 4 fields, saw 6\\nSkipping line 3101: expected 4 fields, saw 6\\nSkipping line 3102: expected 4 fields, saw 6\\nSkipping line 3103: expected 4 fields, saw 6\\nSkipping line 3104: expected 4 fields, saw 6\\nSkipping line 3105: expected 4 fields, saw 6\\nSkipping line 3106: expected 4 fields, saw 6\\nSkipping line 3107: expected 4 fields, saw 6\\nSkipping line 3108: expected 4 fields, saw 6\\nSkipping line 3109: expected 4 fields, saw 6\\nSkipping line 3110: expected 4 fields, saw 6\\nSkipping line 3111: expected 4 fields, saw 6\\nSkipping line 3112: expected 4 fields, saw 6\\nSkipping line 3113: expected 4 fields, saw 6\\nSkipping line 3114: expected 4 fields, saw 6\\nSkipping line 3115: expected 4 fields, saw 6\\nSkipping line 3116: expected 4 fields, saw 6\\nSkipping line 3117: expected 4 fields, saw 6\\nSkipping line 3118: expected 4 fields, saw 6\\nSkipping line 3119: expected 4 fields, saw 6\\nSkipping line 3120: expected 4 fields, saw 6\\nSkipping line 3121: expected 4 fields, saw 6\\nSkipping line 3122: expected 4 fields, saw 6\\nSkipping line 3123: expected 4 fields, saw 6\\nSkipping line 3124: expected 4 fields, saw 6\\nSkipping line 3125: expected 4 fields, saw 6\\nSkipping line 3126: expected 4 fields, saw 6\\nSkipping line 3127: expected 4 fields, saw 6\\nSkipping line 3128: expected 4 fields, saw 6\\nSkipping line 3129: expected 4 fields, saw 6\\nSkipping line 3130: expected 4 fields, saw 6\\nSkipping line 3131: expected 4 fields, saw 6\\nSkipping line 3132: expected 4 fields, saw 6\\nSkipping line 3133: expected 4 fields, saw 6\\nSkipping line 3134: expected 4 fields, saw 6\\nSkipping line 3135: expected 4 fields, saw 6\\nSkipping line 3136: expected 4 fields, saw 6\\nSkipping line 3137: expected 4 fields, saw 6\\nSkipping line 3138: expected 4 fields, saw 6\\nSkipping line 3139: expected 4 fields, saw 6\\nSkipping line 3140: expected 4 fields, saw 6\\nSkipping line 3141: expected 4 fields, saw 6\\nSkipping line 3142: expected 4 fields, saw 6\\nSkipping line 3143: expected 4 fields, saw 6\\nSkipping line 3144: expected 4 fields, saw 6\\nSkipping line 3145: expected 4 fields, saw 6\\nSkipping line 3146: expected 4 fields, saw 6\\nSkipping line 3147: expected 4 fields, saw 6\\nSkipping line 3148: expected 4 fields, saw 6\\nSkipping line 3149: expected 4 fields, saw 6\\nSkipping line 3150: expected 4 fields, saw 6\\nSkipping line 3151: expected 4 fields, saw 6\\nSkipping line 3152: expected 4 fields, saw 6\\nSkipping line 3153: expected 4 fields, saw 6\\nSkipping line 3154: expected 4 fields, saw 6\\nSkipping line 3155: expected 4 fields, saw 6\\nSkipping line 3156: expected 4 fields, saw 6\\nSkipping line 3157: expected 4 fields, saw 6\\nSkipping line 3158: expected 4 fields, saw 6\\nSkipping line 3159: expected 4 fields, saw 6\\nSkipping line 3160: expected 4 fields, saw 6\\nSkipping line 3161: expected 4 fields, saw 6\\nSkipping line 3162: expected 4 fields, saw 6\\nSkipping line 3163: expected 4 fields, saw 6\\nSkipping line 3164: expected 4 fields, saw 6\\nSkipping line 3165: expected 4 fields, saw 6\\nSkipping line 3166: expected 4 fields, saw 6\\nSkipping line 3167: expected 4 fields, saw 6\\nSkipping line 3168: expected 4 fields, saw 6\\nSkipping line 3169: expected 4 fields, saw 6\\nSkipping line 3170: expected 4 fields, saw 6\\nSkipping line 3171: expected 4 fields, saw 6\\nSkipping line 3172: expected 4 fields, saw 6\\nSkipping line 3173: expected 4 fields, saw 6\\nSkipping line 3174: expected 4 fields, saw 6\\nSkipping line 3175: expected 4 fields, saw 6\\nSkipping line 3176: expected 4 fields, saw 6\\nSkipping line 3177: expected 4 fields, saw 6\\nSkipping line 3178: expected 4 fields, saw 6\\nSkipping line 3179: expected 4 fields, saw 6\\nSkipping line 3180: expected 4 fields, saw 6\\nSkipping line 3181: expected 4 fields, saw 6\\nSkipping line 3182: expected 4 fields, saw 6\\nSkipping line 3183: expected 4 fields, saw 6\\nSkipping line 3184: expected 4 fields, saw 6\\nSkipping line 3185: expected 4 fields, saw 6\\nSkipping line 3186: expected 4 fields, saw 6\\nSkipping line 3187: expected 4 fields, saw 6\\nSkipping line 3188: expected 4 fields, saw 6\\nSkipping line 3189: expected 4 fields, saw 6\\nSkipping line 3190: expected 4 fields, saw 6\\nSkipping line 3191: expected 4 fields, saw 6\\nSkipping line 3192: expected 4 fields, saw 6\\nSkipping line 3193: expected 4 fields, saw 6\\nSkipping line 3194: expected 4 fields, saw 6\\nSkipping line 3195: expected 4 fields, saw 6\\nSkipping line 3196: expected 4 fields, saw 6\\nSkipping line 3197: expected 4 fields, saw 6\\nSkipping line 3198: expected 4 fields, saw 6\\nSkipping line 3199: expected 4 fields, saw 6\\nSkipping line 3200: expected 4 fields, saw 6\\nSkipping line 3201: expected 4 fields, saw 6\\nSkipping line 3202: expected 4 fields, saw 6\\nSkipping line 3203: expected 4 fields, saw 6\\nSkipping line 3204: expected 4 fields, saw 6\\nSkipping line 3205: expected 4 fields, saw 6\\nSkipping line 3206: expected 4 fields, saw 6\\nSkipping line 3207: expected 4 fields, saw 6\\nSkipping line 3208: expected 4 fields, saw 6\\nSkipping line 3209: expected 4 fields, saw 6\\nSkipping line 3210: expected 4 fields, saw 6\\nSkipping line 3211: expected 4 fields, saw 6\\nSkipping line 3212: expected 4 fields, saw 6\\nSkipping line 3213: expected 4 fields, saw 6\\nSkipping line 3214: expected 4 fields, saw 6\\nSkipping line 3215: expected 4 fields, saw 6\\nSkipping line 3216: expected 4 fields, saw 6\\nSkipping line 3217: expected 4 fields, saw 6\\nSkipping line 3218: expected 4 fields, saw 6\\nSkipping line 3219: expected 4 fields, saw 6\\nSkipping line 3220: expected 4 fields, saw 6\\nSkipping line 3221: expected 4 fields, saw 6\\nSkipping line 3222: expected 4 fields, saw 6\\nSkipping line 3223: expected 4 fields, saw 6\\nSkipping line 3224: expected 4 fields, saw 6\\nSkipping line 3225: expected 4 fields, saw 6\\nSkipping line 3226: expected 4 fields, saw 6\\nSkipping line 3227: expected 4 fields, saw 6\\nSkipping line 3228: expected 4 fields, saw 6\\nSkipping line 3229: expected 4 fields, saw 6\\nSkipping line 3230: expected 4 fields, saw 6\\nSkipping line 3231: expected 4 fields, saw 6\\nSkipping line 3232: expected 4 fields, saw 6\\nSkipping line 3233: expected 4 fields, saw 6\\nSkipping line 3234: expected 4 fields, saw 6\\nSkipping line 3235: expected 4 fields, saw 6\\nSkipping line 3236: expected 4 fields, saw 6\\nSkipping line 3237: expected 4 fields, saw 6\\nSkipping line 3238: expected 4 fields, saw 6\\nSkipping line 3239: expected 4 fields, saw 6\\nSkipping line 3240: expected 4 fields, saw 6\\nSkipping line 3241: expected 4 fields, saw 6\\nSkipping line 3242: expected 4 fields, saw 6\\nSkipping line 3243: expected 4 fields, saw 6\\nSkipping line 3244: expected 4 fields, saw 6\\nSkipping line 3245: expected 4 fields, saw 6\\nSkipping line 3246: expected 4 fields, saw 6\\nSkipping line 3247: expected 4 fields, saw 6\\nSkipping line 3248: expected 4 fields, saw 6\\nSkipping line 3249: expected 4 fields, saw 6\\nSkipping line 3250: expected 4 fields, saw 6\\nSkipping line 3251: expected 4 fields, saw 6\\nSkipping line 3252: expected 4 fields, saw 6\\nSkipping line 3253: expected 4 fields, saw 6\\nSkipping line 3254: expected 4 fields, saw 6\\nSkipping line 3255: expected 4 fields, saw 6\\nSkipping line 3256: expected 4 fields, saw 6\\nSkipping line 3257: expected 4 fields, saw 6\\nSkipping line 3258: expected 4 fields, saw 6\\nSkipping line 3259: expected 4 fields, saw 6\\nSkipping line 3260: expected 4 fields, saw 6\\nSkipping line 3261: expected 4 fields, saw 6\\nSkipping line 3262: expected 4 fields, saw 6\\nSkipping line 3263: expected 4 fields, saw 6\\nSkipping line 3264: expected 4 fields, saw 6\\nSkipping line 3265: expected 4 fields, saw 6\\nSkipping line 3266: expected 4 fields, saw 6\\nSkipping line 3267: expected 4 fields, saw 6\\nSkipping line 3268: expected 4 fields, saw 6\\nSkipping line 3269: expected 4 fields, saw 6\\nSkipping line 3270: expected 4 fields, saw 6\\nSkipping line 3271: expected 4 fields, saw 6\\nSkipping line 3272: expected 4 fields, saw 6\\nSkipping line 3273: expected 4 fields, saw 6\\nSkipping line 3274: expected 4 fields, saw 6\\nSkipping line 3275: expected 4 fields, saw 6\\nSkipping line 3276: expected 4 fields, saw 6\\nSkipping line 3277: expected 4 fields, saw 6\\nSkipping line 3278: expected 4 fields, saw 6\\nSkipping line 3279: expected 4 fields, saw 6\\nSkipping line 3280: expected 4 fields, saw 6\\nSkipping line 3281: expected 4 fields, saw 6\\nSkipping line 3282: expected 4 fields, saw 6\\nSkipping line 3283: expected 4 fields, saw 6\\nSkipping line 3284: expected 4 fields, saw 6\\nSkipping line 3285: expected 4 fields, saw 6\\nSkipping line 3286: expected 4 fields, saw 6\\nSkipping line 3287: expected 4 fields, saw 6\\nSkipping line 3288: expected 4 fields, saw 6\\nSkipping line 3289: expected 4 fields, saw 6\\nSkipping line 3290: expected 4 fields, saw 6\\nSkipping line 3291: expected 4 fields, saw 6\\nSkipping line 3292: expected 4 fields, saw 6\\nSkipping line 3293: expected 4 fields, saw 6\\nSkipping line 3294: expected 4 fields, saw 6\\nSkipping line 3295: expected 4 fields, saw 6\\nSkipping line 3296: expected 4 fields, saw 6\\nSkipping line 3297: expected 4 fields, saw 6\\nSkipping line 3298: expected 4 fields, saw 6\\nSkipping line 3299: expected 4 fields, saw 6\\nSkipping line 3300: expected 4 fields, saw 6\\nSkipping line 3301: expected 4 fields, saw 6\\nSkipping line 3302: expected 4 fields, saw 6\\nSkipping line 3303: expected 4 fields, saw 6\\nSkipping line 3304: expected 4 fields, saw 6\\nSkipping line 3305: expected 4 fields, saw 6\\nSkipping line 3306: expected 4 fields, saw 6\\nSkipping line 3307: expected 4 fields, saw 6\\nSkipping line 3308: expected 4 fields, saw 6\\nSkipping line 3309: expected 4 fields, saw 6\\nSkipping line 3310: expected 4 fields, saw 6\\nSkipping line 3311: expected 4 fields, saw 6\\nSkipping line 3312: expected 4 fields, saw 6\\nSkipping line 3313: expected 4 fields, saw 6\\nSkipping line 3314: expected 4 fields, saw 6\\nSkipping line 3315: expected 4 fields, saw 6\\nSkipping line 3316: expected 4 fields, saw 6\\nSkipping line 3317: expected 4 fields, saw 6\\nSkipping line 3318: expected 4 fields, saw 6\\nSkipping line 3319: expected 4 fields, saw 6\\nSkipping line 3320: expected 4 fields, saw 6\\nSkipping line 3321: expected 4 fields, saw 6\\nSkipping line 3322: expected 4 fields, saw 6\\nSkipping line 3323: expected 4 fields, saw 6\\nSkipping line 3324: expected 4 fields, saw 6\\nSkipping line 3325: expected 4 fields, saw 6\\nSkipping line 3326: expected 4 fields, saw 6\\nSkipping line 3327: expected 4 fields, saw 6\\nSkipping line 3328: expected 4 fields, saw 6\\nSkipping line 3329: expected 4 fields, saw 6\\nSkipping line 3330: expected 4 fields, saw 6\\nSkipping line 3331: expected 4 fields, saw 6\\nSkipping line 3332: expected 4 fields, saw 6\\nSkipping line 3333: expected 4 fields, saw 6\\nSkipping line 3334: expected 4 fields, saw 6\\nSkipping line 3335: expected 4 fields, saw 6\\nSkipping line 3336: expected 4 fields, saw 6\\nSkipping line 3337: expected 4 fields, saw 6\\nSkipping line 3338: expected 4 fields, saw 6\\nSkipping line 3339: expected 4 fields, saw 6\\nSkipping line 3340: expected 4 fields, saw 6\\nSkipping line 3341: expected 4 fields, saw 6\\nSkipping line 3342: expected 4 fields, saw 6\\nSkipping line 3343: expected 4 fields, saw 6\\nSkipping line 3344: expected 4 fields, saw 6\\nSkipping line 3345: expected 4 fields, saw 6\\nSkipping line 3346: expected 4 fields, saw 6\\nSkipping line 3347: expected 4 fields, saw 6\\nSkipping line 3348: expected 4 fields, saw 6\\nSkipping line 3349: expected 4 fields, saw 6\\nSkipping line 3350: expected 4 fields, saw 6\\nSkipping line 3351: expected 4 fields, saw 6\\nSkipping line 3352: expected 4 fields, saw 6\\nSkipping line 3353: expected 4 fields, saw 6\\nSkipping line 3354: expected 4 fields, saw 6\\nSkipping line 3355: expected 4 fields, saw 6\\nSkipping line 3356: expected 4 fields, saw 6\\nSkipping line 3357: expected 4 fields, saw 6\\nSkipping line 3358: expected 4 fields, saw 6\\nSkipping line 3359: expected 4 fields, saw 6\\nSkipping line 3360: expected 4 fields, saw 6\\nSkipping line 3361: expected 4 fields, saw 6\\nSkipping line 3362: expected 4 fields, saw 6\\nSkipping line 3363: expected 4 fields, saw 6\\nSkipping line 3364: expected 4 fields, saw 6\\nSkipping line 3365: expected 4 fields, saw 6\\nSkipping line 3366: expected 4 fields, saw 6\\nSkipping line 3367: expected 4 fields, saw 6\\nSkipping line 3368: expected 4 fields, saw 6\\nSkipping line 3369: expected 4 fields, saw 6\\nSkipping line 3370: expected 4 fields, saw 6\\nSkipping line 3371: expected 4 fields, saw 6\\nSkipping line 3372: expected 4 fields, saw 6\\nSkipping line 3373: expected 4 fields, saw 6\\nSkipping line 3374: expected 4 fields, saw 6\\nSkipping line 3375: expected 4 fields, saw 6\\nSkipping line 3376: expected 4 fields, saw 6\\nSkipping line 3377: expected 4 fields, saw 6\\nSkipping line 3378: expected 4 fields, saw 6\\nSkipping line 3379: expected 4 fields, saw 6\\nSkipping line 3380: expected 4 fields, saw 6\\nSkipping line 3381: expected 4 fields, saw 6\\nSkipping line 3382: expected 4 fields, saw 6\\nSkipping line 3383: expected 4 fields, saw 6\\nSkipping line 3384: expected 4 fields, saw 6\\nSkipping line 3385: expected 4 fields, saw 6\\nSkipping line 3386: expected 4 fields, saw 6\\nSkipping line 3387: expected 4 fields, saw 6\\nSkipping line 3388: expected 4 fields, saw 6\\nSkipping line 3389: expected 4 fields, saw 6\\nSkipping line 3390: expected 4 fields, saw 6\\nSkipping line 3391: expected 4 fields, saw 6\\nSkipping line 3392: expected 4 fields, saw 6\\nSkipping line 3393: expected 4 fields, saw 6\\nSkipping line 3394: expected 4 fields, saw 6\\nSkipping line 3395: expected 4 fields, saw 6\\nSkipping line 3396: expected 4 fields, saw 6\\nSkipping line 3397: expected 4 fields, saw 6\\nSkipping line 3398: expected 4 fields, saw 6\\nSkipping line 3399: expected 4 fields, saw 6\\nSkipping line 3400: expected 4 fields, saw 6\\nSkipping line 3401: expected 4 fields, saw 6\\nSkipping line 3402: expected 4 fields, saw 6\\nSkipping line 3403: expected 4 fields, saw 6\\nSkipping line 3404: expected 4 fields, saw 6\\nSkipping line 3405: expected 4 fields, saw 6\\nSkipping line 3406: expected 4 fields, saw 6\\nSkipping line 3407: expected 4 fields, saw 6\\nSkipping line 3408: expected 4 fields, saw 6\\nSkipping line 3409: expected 4 fields, saw 6\\nSkipping line 3410: expected 4 fields, saw 6\\nSkipping line 3411: expected 4 fields, saw 6\\nSkipping line 3412: expected 4 fields, saw 6\\nSkipping line 3413: expected 4 fields, saw 6\\nSkipping line 3414: expected 4 fields, saw 6\\nSkipping line 3415: expected 4 fields, saw 6\\nSkipping line 3416: expected 4 fields, saw 6\\nSkipping line 3417: expected 4 fields, saw 6\\nSkipping line 3418: expected 4 fields, saw 6\\nSkipping line 3419: expected 4 fields, saw 6\\nSkipping line 3420: expected 4 fields, saw 6\\nSkipping line 3421: expected 4 fields, saw 6\\nSkipping line 3422: expected 4 fields, saw 6\\nSkipping line 3423: expected 4 fields, saw 6\\nSkipping line 3424: expected 4 fields, saw 6\\nSkipping line 3425: expected 4 fields, saw 6\\nSkipping line 3426: expected 4 fields, saw 6\\nSkipping line 3427: expected 4 fields, saw 6\\nSkipping line 3428: expected 4 fields, saw 6\\nSkipping line 3429: expected 4 fields, saw 6\\nSkipping line 3430: expected 4 fields, saw 6\\nSkipping line 3431: expected 4 fields, saw 6\\nSkipping line 3432: expected 4 fields, saw 6\\nSkipping line 3433: expected 4 fields, saw 6\\nSkipping line 3434: expected 4 fields, saw 6\\nSkipping line 3435: expected 4 fields, saw 6\\nSkipping line 3436: expected 4 fields, saw 6\\nSkipping line 3437: expected 4 fields, saw 6\\nSkipping line 3438: expected 4 fields, saw 6\\nSkipping line 3439: expected 4 fields, saw 6\\nSkipping line 3440: expected 4 fields, saw 6\\nSkipping line 3441: expected 4 fields, saw 6\\nSkipping line 3442: expected 4 fields, saw 6\\nSkipping line 3443: expected 4 fields, saw 6\\nSkipping line 3444: expected 4 fields, saw 6\\nSkipping line 3445: expected 4 fields, saw 6\\nSkipping line 3446: expected 4 fields, saw 6\\nSkipping line 3447: expected 4 fields, saw 6\\nSkipping line 3448: expected 4 fields, saw 6\\nSkipping line 3449: expected 4 fields, saw 6\\nSkipping line 3450: expected 4 fields, saw 6\\nSkipping line 3451: expected 4 fields, saw 6\\nSkipping line 3452: expected 4 fields, saw 6\\nSkipping line 3453: expected 4 fields, saw 6\\nSkipping line 3454: expected 4 fields, saw 6\\nSkipping line 3455: expected 4 fields, saw 6\\nSkipping line 3456: expected 4 fields, saw 6\\nSkipping line 3457: expected 4 fields, saw 6\\nSkipping line 3458: expected 4 fields, saw 6\\nSkipping line 3459: expected 4 fields, saw 6\\nSkipping line 3460: expected 4 fields, saw 6\\nSkipping line 3461: expected 4 fields, saw 6\\nSkipping line 3462: expected 4 fields, saw 6\\nSkipping line 3463: expected 4 fields, saw 6\\nSkipping line 3464: expected 4 fields, saw 6\\nSkipping line 3465: expected 4 fields, saw 6\\nSkipping line 3466: expected 4 fields, saw 6\\nSkipping line 3467: expected 4 fields, saw 6\\nSkipping line 3468: expected 4 fields, saw 6\\nSkipping line 3469: expected 4 fields, saw 6\\nSkipping line 3470: expected 4 fields, saw 6\\nSkipping line 3471: expected 4 fields, saw 6\\nSkipping line 3472: expected 4 fields, saw 6\\nSkipping line 3473: expected 4 fields, saw 6\\nSkipping line 3474: expected 4 fields, saw 6\\nSkipping line 3475: expected 4 fields, saw 6\\nSkipping line 3476: expected 4 fields, saw 6\\nSkipping line 3477: expected 4 fields, saw 6\\nSkipping line 3478: expected 4 fields, saw 6\\nSkipping line 3479: expected 4 fields, saw 6\\nSkipping line 3480: expected 4 fields, saw 6\\nSkipping line 3481: expected 4 fields, saw 6\\nSkipping line 3482: expected 4 fields, saw 6\\nSkipping line 3483: expected 4 fields, saw 6\\nSkipping line 3484: expected 4 fields, saw 6\\nSkipping line 3485: expected 4 fields, saw 6\\nSkipping line 3486: expected 4 fields, saw 6\\nSkipping line 3487: expected 4 fields, saw 6\\nSkipping line 3488: expected 4 fields, saw 6\\nSkipping line 3489: expected 4 fields, saw 6\\nSkipping line 3490: expected 4 fields, saw 6\\nSkipping line 3491: expected 4 fields, saw 6\\nSkipping line 3492: expected 4 fields, saw 6\\nSkipping line 3493: expected 4 fields, saw 6\\nSkipping line 3494: expected 4 fields, saw 6\\nSkipping line 3495: expected 4 fields, saw 6\\nSkipping line 3496: expected 4 fields, saw 6\\nSkipping line 3497: expected 4 fields, saw 6\\nSkipping line 3498: expected 4 fields, saw 6\\nSkipping line 3499: expected 4 fields, saw 6\\nSkipping line 3500: expected 4 fields, saw 6\\nSkipping line 3501: expected 4 fields, saw 6\\nSkipping line 3502: expected 4 fields, saw 6\\nSkipping line 3503: expected 4 fields, saw 6\\nSkipping line 3504: expected 4 fields, saw 6\\nSkipping line 3505: expected 4 fields, saw 6\\nSkipping line 3506: expected 4 fields, saw 6\\nSkipping line 3507: expected 4 fields, saw 6\\nSkipping line 3508: expected 4 fields, saw 6\\nSkipping line 3509: expected 4 fields, saw 6\\nSkipping line 3510: expected 4 fields, saw 6\\nSkipping line 3511: expected 4 fields, saw 6\\nSkipping line 3512: expected 4 fields, saw 6\\nSkipping line 3513: expected 4 fields, saw 6\\nSkipping line 3514: expected 4 fields, saw 6\\nSkipping line 3515: expected 4 fields, saw 6\\nSkipping line 3516: expected 4 fields, saw 6\\nSkipping line 3517: expected 4 fields, saw 6\\nSkipping line 3518: expected 4 fields, saw 6\\nSkipping line 3519: expected 4 fields, saw 6\\nSkipping line 3520: expected 4 fields, saw 6\\nSkipping line 3521: expected 4 fields, saw 6\\nSkipping line 3522: expected 4 fields, saw 6\\nSkipping line 3523: expected 4 fields, saw 6\\nSkipping line 3524: expected 4 fields, saw 6\\nSkipping line 3525: expected 4 fields, saw 6\\nSkipping line 3526: expected 4 fields, saw 6\\nSkipping line 3527: expected 4 fields, saw 6\\nSkipping line 3528: expected 4 fields, saw 6\\nSkipping line 3529: expected 4 fields, saw 6\\nSkipping line 3530: expected 4 fields, saw 6\\nSkipping line 3531: expected 4 fields, saw 6\\nSkipping line 3532: expected 4 fields, saw 6\\nSkipping line 3533: expected 4 fields, saw 6\\nSkipping line 3534: expected 4 fields, saw 6\\nSkipping line 3535: expected 4 fields, saw 6\\nSkipping line 3536: expected 4 fields, saw 6\\nSkipping line 3537: expected 4 fields, saw 6\\nSkipping line 3538: expected 4 fields, saw 6\\nSkipping line 3539: expected 4 fields, saw 6\\nSkipping line 3540: expected 4 fields, saw 6\\nSkipping line 3541: expected 4 fields, saw 6\\nSkipping line 3542: expected 4 fields, saw 6\\nSkipping line 3543: expected 4 fields, saw 6\\nSkipping line 3544: expected 4 fields, saw 6\\nSkipping line 3545: expected 4 fields, saw 6\\nSkipping line 3546: expected 4 fields, saw 6\\nSkipping line 3547: expected 4 fields, saw 6\\nSkipping line 3548: expected 4 fields, saw 6\\nSkipping line 3549: expected 4 fields, saw 6\\nSkipping line 3550: expected 4 fields, saw 6\\nSkipping line 3551: expected 4 fields, saw 6\\nSkipping line 3552: expected 4 fields, saw 6\\nSkipping line 3553: expected 4 fields, saw 6\\nSkipping line 3554: expected 4 fields, saw 6\\nSkipping line 3555: expected 4 fields, saw 6\\nSkipping line 3556: expected 4 fields, saw 6\\nSkipping line 3557: expected 4 fields, saw 6\\nSkipping line 3558: expected 4 fields, saw 6\\nSkipping line 3559: expected 4 fields, saw 6\\nSkipping line 3560: expected 4 fields, saw 6\\nSkipping line 3561: expected 4 fields, saw 6\\nSkipping line 3562: expected 4 fields, saw 6\\nSkipping line 3563: expected 4 fields, saw 6\\nSkipping line 3564: expected 4 fields, saw 6\\nSkipping line 3565: expected 4 fields, saw 6\\nSkipping line 3566: expected 4 fields, saw 6\\nSkipping line 3567: expected 4 fields, saw 6\\nSkipping line 3568: expected 4 fields, saw 6\\nSkipping line 3569: expected 4 fields, saw 6\\nSkipping line 3570: expected 4 fields, saw 6\\nSkipping line 3571: expected 4 fields, saw 6\\nSkipping line 3572: expected 4 fields, saw 6\\nSkipping line 3573: expected 4 fields, saw 6\\nSkipping line 3574: expected 4 fields, saw 6\\nSkipping line 3575: expected 4 fields, saw 6\\nSkipping line 3576: expected 4 fields, saw 6\\nSkipping line 3577: expected 4 fields, saw 6\\nSkipping line 3578: expected 4 fields, saw 6\\nSkipping line 3579: expected 4 fields, saw 6\\nSkipping line 3580: expected 4 fields, saw 6\\nSkipping line 3581: expected 4 fields, saw 6\\nSkipping line 3582: expected 4 fields, saw 6\\nSkipping line 3583: expected 4 fields, saw 6\\nSkipping line 3584: expected 4 fields, saw 6\\nSkipping line 3585: expected 4 fields, saw 6\\nSkipping line 3586: expected 4 fields, saw 6\\nSkipping line 3587: expected 4 fields, saw 6\\nSkipping line 3588: expected 4 fields, saw 6\\nSkipping line 3589: expected 4 fields, saw 6\\nSkipping line 3590: expected 4 fields, saw 6\\nSkipping line 3591: expected 4 fields, saw 6\\nSkipping line 3592: expected 4 fields, saw 6\\nSkipping line 3593: expected 4 fields, saw 6\\nSkipping line 3594: expected 4 fields, saw 6\\nSkipping line 3595: expected 4 fields, saw 6\\nSkipping line 3596: expected 4 fields, saw 6\\nSkipping line 3597: expected 4 fields, saw 6\\nSkipping line 3598: expected 4 fields, saw 6\\nSkipping line 3599: expected 4 fields, saw 6\\nSkipping line 3600: expected 4 fields, saw 6\\nSkipping line 3601: expected 4 fields, saw 6\\nSkipping line 3602: expected 4 fields, saw 6\\nSkipping line 3603: expected 4 fields, saw 6\\nSkipping line 3604: expected 4 fields, saw 6\\nSkipping line 3605: expected 4 fields, saw 6\\nSkipping line 3606: expected 4 fields, saw 6\\nSkipping line 3607: expected 4 fields, saw 6\\nSkipping line 3608: expected 4 fields, saw 6\\nSkipping line 3609: expected 4 fields, saw 6\\nSkipping line 3610: expected 4 fields, saw 6\\nSkipping line 3611: expected 4 fields, saw 6\\nSkipping line 3612: expected 4 fields, saw 6\\nSkipping line 3613: expected 4 fields, saw 6\\nSkipping line 3614: expected 4 fields, saw 6\\nSkipping line 3615: expected 4 fields, saw 6\\nSkipping line 3616: expected 4 fields, saw 6\\nSkipping line 3617: expected 4 fields, saw 6\\nSkipping line 3618: expected 4 fields, saw 6\\nSkipping line 3619: expected 4 fields, saw 6\\nSkipping line 3620: expected 4 fields, saw 6\\nSkipping line 3621: expected 4 fields, saw 6\\nSkipping line 3622: expected 4 fields, saw 6\\nSkipping line 3623: expected 4 fields, saw 6\\nSkipping line 3624: expected 4 fields, saw 6\\nSkipping line 3625: expected 4 fields, saw 6\\nSkipping line 3626: expected 4 fields, saw 6\\nSkipping line 3627: expected 4 fields, saw 6\\nSkipping line 3628: expected 4 fields, saw 6\\nSkipping line 3629: expected 4 fields, saw 6\\nSkipping line 3630: expected 4 fields, saw 6\\nSkipping line 3631: expected 4 fields, saw 6\\nSkipping line 3632: expected 4 fields, saw 6\\nSkipping line 3633: expected 4 fields, saw 6\\nSkipping line 3634: expected 4 fields, saw 6\\nSkipping line 3635: expected 4 fields, saw 6\\nSkipping line 3636: expected 4 fields, saw 6\\nSkipping line 3637: expected 4 fields, saw 6\\nSkipping line 3638: expected 4 fields, saw 6\\nSkipping line 3639: expected 4 fields, saw 6\\nSkipping line 3640: expected 4 fields, saw 6\\nSkipping line 3641: expected 4 fields, saw 6\\nSkipping line 3642: expected 4 fields, saw 6\\nSkipping line 3643: expected 4 fields, saw 6\\nSkipping line 3644: expected 4 fields, saw 6\\nSkipping line 3645: expected 4 fields, saw 6\\nSkipping line 3646: expected 4 fields, saw 6\\nSkipping line 3647: expected 4 fields, saw 6\\nSkipping line 3648: expected 4 fields, saw 6\\nSkipping line 3649: expected 4 fields, saw 6\\nSkipping line 3650: expected 4 fields, saw 6\\nSkipping line 3651: expected 4 fields, saw 6\\nSkipping line 3652: expected 4 fields, saw 6\\nSkipping line 3653: expected 4 fields, saw 6\\nSkipping line 3654: expected 4 fields, saw 6\\nSkipping line 3655: expected 4 fields, saw 6\\nSkipping line 3656: expected 4 fields, saw 6\\nSkipping line 3657: expected 4 fields, saw 6\\nSkipping line 3658: expected 4 fields, saw 6\\nSkipping line 3659: expected 4 fields, saw 6\\nSkipping line 3660: expected 4 fields, saw 6\\nSkipping line 3661: expected 4 fields, saw 6\\nSkipping line 3662: expected 4 fields, saw 6\\nSkipping line 3663: expected 4 fields, saw 6\\nSkipping line 3664: expected 4 fields, saw 6\\nSkipping line 3665: expected 4 fields, saw 6\\nSkipping line 3666: expected 4 fields, saw 6\\nSkipping line 3667: expected 4 fields, saw 6\\nSkipping line 3668: expected 4 fields, saw 6\\nSkipping line 3669: expected 4 fields, saw 6\\nSkipping line 3670: expected 4 fields, saw 6\\nSkipping line 3671: expected 4 fields, saw 6\\nSkipping line 3672: expected 4 fields, saw 6\\nSkipping line 3673: expected 4 fields, saw 6\\nSkipping line 3674: expected 4 fields, saw 6\\nSkipping line 3675: expected 4 fields, saw 6\\nSkipping line 3676: expected 4 fields, saw 6\\nSkipping line 3677: expected 4 fields, saw 6\\nSkipping line 3678: expected 4 fields, saw 6\\nSkipping line 3679: expected 4 fields, saw 6\\nSkipping line 3680: expected 4 fields, saw 6\\nSkipping line 3681: expected 4 fields, saw 6\\nSkipping line 3682: expected 4 fields, saw 6\\nSkipping line 3683: expected 4 fields, saw 6\\nSkipping line 3684: expected 4 fields, saw 6\\nSkipping line 3685: expected 4 fields, saw 6\\nSkipping line 3686: expected 4 fields, saw 6\\nSkipping line 3687: expected 4 fields, saw 6\\nSkipping line 3688: expected 4 fields, saw 6\\nSkipping line 3689: expected 4 fields, saw 6\\nSkipping line 3690: expected 4 fields, saw 6\\nSkipping line 3691: expected 4 fields, saw 6\\nSkipping line 3692: expected 4 fields, saw 6\\nSkipping line 3693: expected 4 fields, saw 6\\nSkipping line 3694: expected 4 fields, saw 6\\nSkipping line 3695: expected 4 fields, saw 6\\nSkipping line 3696: expected 4 fields, saw 6\\nSkipping line 3697: expected 4 fields, saw 6\\nSkipping line 3698: expected 4 fields, saw 6\\nSkipping line 3699: expected 4 fields, saw 6\\nSkipping line 3700: expected 4 fields, saw 6\\nSkipping line 3701: expected 4 fields, saw 6\\nSkipping line 3702: expected 4 fields, saw 6\\nSkipping line 3703: expected 4 fields, saw 6\\nSkipping line 3704: expected 4 fields, saw 6\\nSkipping line 3705: expected 4 fields, saw 6\\nSkipping line 3706: expected 4 fields, saw 6\\nSkipping line 3707: expected 4 fields, saw 6\\nSkipping line 3708: expected 4 fields, saw 6\\nSkipping line 3709: expected 4 fields, saw 6\\nSkipping line 3710: expected 4 fields, saw 6\\nSkipping line 3711: expected 4 fields, saw 6\\nSkipping line 3712: expected 4 fields, saw 6\\nSkipping line 3713: expected 4 fields, saw 6\\nSkipping line 3714: expected 4 fields, saw 6\\nSkipping line 3715: expected 4 fields, saw 6\\nSkipping line 3716: expected 4 fields, saw 6\\nSkipping line 3717: expected 4 fields, saw 6\\nSkipping line 3718: expected 4 fields, saw 6\\nSkipping line 3719: expected 4 fields, saw 6\\nSkipping line 3720: expected 4 fields, saw 6\\nSkipping line 3721: expected 4 fields, saw 6\\nSkipping line 3722: expected 4 fields, saw 6\\nSkipping line 3723: expected 4 fields, saw 6\\nSkipping line 3724: expected 4 fields, saw 6\\nSkipping line 3725: expected 4 fields, saw 6\\nSkipping line 3726: expected 4 fields, saw 6\\nSkipping line 3727: expected 4 fields, saw 6\\nSkipping line 3728: expected 4 fields, saw 6\\nSkipping line 3729: expected 4 fields, saw 6\\nSkipping line 3730: expected 4 fields, saw 6\\nSkipping line 3731: expected 4 fields, saw 6\\nSkipping line 3732: expected 4 fields, saw 6\\nSkipping line 3733: expected 4 fields, saw 6\\nSkipping line 3734: expected 4 fields, saw 6\\nSkipping line 3735: expected 4 fields, saw 6\\nSkipping line 3736: expected 4 fields, saw 6\\nSkipping line 3737: expected 4 fields, saw 6\\nSkipping line 3738: expected 4 fields, saw 6\\nSkipping line 3739: expected 4 fields, saw 6\\nSkipping line 3740: expected 4 fields, saw 6\\nSkipping line 3741: expected 4 fields, saw 6\\nSkipping line 3742: expected 4 fields, saw 6\\nSkipping line 3743: expected 4 fields, saw 6\\nSkipping line 3744: expected 4 fields, saw 6\\nSkipping line 3745: expected 4 fields, saw 6\\nSkipping line 3746: expected 4 fields, saw 6\\nSkipping line 3747: expected 4 fields, saw 6\\nSkipping line 3748: expected 4 fields, saw 6\\nSkipping line 3749: expected 4 fields, saw 6\\nSkipping line 3750: expected 4 fields, saw 6\\nSkipping line 3751: expected 4 fields, saw 6\\nSkipping line 3752: expected 4 fields, saw 6\\nSkipping line 3753: expected 4 fields, saw 6\\nSkipping line 3754: expected 4 fields, saw 6\\nSkipping line 3755: expected 4 fields, saw 6\\nSkipping line 3756: expected 4 fields, saw 6\\nSkipping line 3757: expected 4 fields, saw 6\\nSkipping line 3758: expected 4 fields, saw 6\\nSkipping line 3759: expected 4 fields, saw 6\\nSkipping line 3760: expected 4 fields, saw 6\\nSkipping line 3761: expected 4 fields, saw 6\\nSkipping line 3762: expected 4 fields, saw 6\\nSkipping line 3763: expected 4 fields, saw 6\\nSkipping line 3764: expected 4 fields, saw 6\\nSkipping line 3765: expected 4 fields, saw 6\\nSkipping line 3766: expected 4 fields, saw 6\\nSkipping line 3767: expected 4 fields, saw 6\\nSkipping line 3768: expected 4 fields, saw 6\\nSkipping line 3769: expected 4 fields, saw 6\\nSkipping line 3770: expected 4 fields, saw 6\\nSkipping line 3771: expected 4 fields, saw 6\\nSkipping line 3772: expected 4 fields, saw 6\\nSkipping line 3773: expected 4 fields, saw 6\\nSkipping line 3774: expected 4 fields, saw 6\\nSkipping line 3775: expected 4 fields, saw 6\\nSkipping line 3776: expected 4 fields, saw 6\\nSkipping line 3777: expected 4 fields, saw 6\\nSkipping line 3778: expected 4 fields, saw 6\\nSkipping line 3779: expected 4 fields, saw 6\\nSkipping line 3780: expected 4 fields, saw 6\\nSkipping line 3781: expected 4 fields, saw 6\\nSkipping line 3782: expected 4 fields, saw 6\\nSkipping line 3783: expected 4 fields, saw 6\\nSkipping line 3784: expected 4 fields, saw 6\\nSkipping line 3785: expected 4 fields, saw 6\\nSkipping line 3786: expected 4 fields, saw 6\\nSkipping line 3787: expected 4 fields, saw 6\\nSkipping line 3788: expected 4 fields, saw 6\\nSkipping line 3789: expected 4 fields, saw 6\\nSkipping line 3790: expected 4 fields, saw 6\\nSkipping line 3791: expected 4 fields, saw 6\\nSkipping line 3792: expected 4 fields, saw 6\\nSkipping line 3793: expected 4 fields, saw 6\\nSkipping line 3794: expected 4 fields, saw 6\\nSkipping line 3795: expected 4 fields, saw 6\\nSkipping line 3796: expected 4 fields, saw 6\\nSkipping line 3797: expected 4 fields, saw 6\\nSkipping line 3798: expected 4 fields, saw 6\\nSkipping line 3799: expected 4 fields, saw 6\\nSkipping line 3800: expected 4 fields, saw 6\\nSkipping line 3801: expected 4 fields, saw 6\\nSkipping line 3802: expected 4 fields, saw 6\\nSkipping line 3803: expected 4 fields, saw 6\\nSkipping line 3804: expected 4 fields, saw 6\\nSkipping line 3805: expected 4 fields, saw 6\\nSkipping line 3806: expected 4 fields, saw 6\\nSkipping line 3807: expected 4 fields, saw 6\\nSkipping line 3808: expected 4 fields, saw 6\\nSkipping line 3809: expected 4 fields, saw 6\\nSkipping line 3810: expected 4 fields, saw 6\\nSkipping line 3811: expected 4 fields, saw 6\\nSkipping line 3812: expected 4 fields, saw 6\\nSkipping line 3813: expected 4 fields, saw 6\\nSkipping line 3814: expected 4 fields, saw 6\\nSkipping line 3815: expected 4 fields, saw 6\\nSkipping line 3816: expected 4 fields, saw 6\\nSkipping line 3817: expected 4 fields, saw 6\\nSkipping line 3818: expected 4 fields, saw 6\\nSkipping line 3819: expected 4 fields, saw 6\\nSkipping line 3820: expected 4 fields, saw 6\\nSkipping line 3821: expected 4 fields, saw 6\\nSkipping line 3822: expected 4 fields, saw 6\\nSkipping line 3823: expected 4 fields, saw 6\\nSkipping line 3824: expected 4 fields, saw 6\\nSkipping line 3825: expected 4 fields, saw 6\\nSkipping line 3826: expected 4 fields, saw 6\\nSkipping line 3827: expected 4 fields, saw 6\\nSkipping line 3828: expected 4 fields, saw 6\\nSkipping line 3829: expected 4 fields, saw 6\\nSkipping line 3830: expected 4 fields, saw 6\\nSkipping line 3831: expected 4 fields, saw 6\\nSkipping line 3832: expected 4 fields, saw 6\\nSkipping line 3833: expected 4 fields, saw 6\\nSkipping line 3834: expected 4 fields, saw 6\\nSkipping line 3835: expected 4 fields, saw 6\\nSkipping line 3836: expected 4 fields, saw 6\\nSkipping line 3837: expected 4 fields, saw 6\\nSkipping line 3838: expected 4 fields, saw 6\\nSkipping line 3839: expected 4 fields, saw 6\\nSkipping line 3840: expected 4 fields, saw 6\\nSkipping line 3841: expected 4 fields, saw 6\\nSkipping line 3842: expected 4 fields, saw 6\\nSkipping line 3843: expected 4 fields, saw 6\\nSkipping line 3844: expected 4 fields, saw 6\\nSkipping line 3845: expected 4 fields, saw 6\\nSkipping line 3846: expected 4 fields, saw 6\\nSkipping line 3847: expected 4 fields, saw 6\\nSkipping line 3848: expected 4 fields, saw 6\\nSkipping line 3849: expected 4 fields, saw 6\\nSkipping line 3850: expected 4 fields, saw 6\\nSkipping line 3851: expected 4 fields, saw 6\\nSkipping line 3852: expected 4 fields, saw 6\\nSkipping line 3853: expected 4 fields, saw 6\\nSkipping line 3854: expected 4 fields, saw 6\\nSkipping line 3855: expected 4 fields, saw 6\\nSkipping line 3856: expected 4 fields, saw 6\\nSkipping line 3857: expected 4 fields, saw 6\\nSkipping line 3858: expected 4 fields, saw 6\\nSkipping line 3859: expected 4 fields, saw 6\\nSkipping line 3860: expected 4 fields, saw 6\\nSkipping line 3861: expected 4 fields, saw 6\\nSkipping line 3862: expected 4 fields, saw 6\\nSkipping line 3863: expected 4 fields, saw 6\\nSkipping line 3864: expected 4 fields, saw 6\\nSkipping line 3865: expected 4 fields, saw 6\\nSkipping line 3866: expected 4 fields, saw 6\\nSkipping line 3867: expected 4 fields, saw 6\\nSkipping line 3868: expected 4 fields, saw 6\\nSkipping line 3869: expected 4 fields, saw 6\\nSkipping line 3870: expected 4 fields, saw 6\\nSkipping line 3871: expected 4 fields, saw 6\\nSkipping line 3872: expected 4 fields, saw 6\\nSkipping line 3873: expected 4 fields, saw 6\\nSkipping line 3874: expected 4 fields, saw 6\\nSkipping line 3875: expected 4 fields, saw 6\\nSkipping line 3876: expected 4 fields, saw 6\\nSkipping line 3877: expected 4 fields, saw 6\\nSkipping line 3878: expected 4 fields, saw 6\\nSkipping line 3879: expected 4 fields, saw 6\\nSkipping line 3880: expected 4 fields, saw 6\\nSkipping line 3881: expected 4 fields, saw 6\\nSkipping line 3882: expected 4 fields, saw 6\\nSkipping line 3883: expected 4 fields, saw 6\\nSkipping line 3884: expected 4 fields, saw 6\\nSkipping line 3885: expected 4 fields, saw 6\\nSkipping line 3886: expected 4 fields, saw 6\\nSkipping line 3887: expected 4 fields, saw 6\\nSkipping line 3888: expected 4 fields, saw 6\\nSkipping line 3889: expected 4 fields, saw 6\\nSkipping line 3890: expected 4 fields, saw 6\\nSkipping line 3891: expected 4 fields, saw 6\\nSkipping line 3892: expected 4 fields, saw 6\\nSkipping line 3893: expected 4 fields, saw 6\\nSkipping line 3894: expected 4 fields, saw 6\\nSkipping line 3895: expected 4 fields, saw 6\\nSkipping line 3896: expected 4 fields, saw 6\\nSkipping line 3897: expected 4 fields, saw 6\\nSkipping line 3898: expected 4 fields, saw 6\\nSkipping line 3899: expected 4 fields, saw 6\\nSkipping line 3900: expected 4 fields, saw 6\\nSkipping line 3901: expected 4 fields, saw 6\\nSkipping line 3902: expected 4 fields, saw 6\\nSkipping line 3903: expected 4 fields, saw 6\\nSkipping line 3904: expected 4 fields, saw 6\\nSkipping line 3905: expected 4 fields, saw 6\\nSkipping line 3906: expected 4 fields, saw 6\\nSkipping line 3907: expected 4 fields, saw 6\\nSkipping line 3908: expected 4 fields, saw 6\\nSkipping line 3909: expected 4 fields, saw 6\\nSkipping line 3910: expected 4 fields, saw 6\\nSkipping line 3911: expected 4 fields, saw 6\\nSkipping line 3912: expected 4 fields, saw 6\\nSkipping line 3913: expected 4 fields, saw 6\\nSkipping line 3914: expected 4 fields, saw 6\\nSkipping line 3915: expected 4 fields, saw 6\\nSkipping line 3916: expected 4 fields, saw 6\\nSkipping line 3917: expected 4 fields, saw 6\\nSkipping line 3918: expected 4 fields, saw 6\\nSkipping line 3919: expected 4 fields, saw 6\\nSkipping line 3920: expected 4 fields, saw 6\\nSkipping line 3921: expected 4 fields, saw 6\\nSkipping line 3922: expected 4 fields, saw 6\\nSkipping line 3923: expected 4 fields, saw 6\\nSkipping line 3924: expected 4 fields, saw 6\\nSkipping line 3925: expected 4 fields, saw 6\\nSkipping line 3926: expected 4 fields, saw 6\\nSkipping line 3927: expected 4 fields, saw 6\\nSkipping line 3928: expected 4 fields, saw 6\\nSkipping line 3929: expected 4 fields, saw 6\\nSkipping line 3930: expected 4 fields, saw 6\\nSkipping line 3931: expected 4 fields, saw 6\\nSkipping line 3932: expected 4 fields, saw 6\\nSkipping line 3933: expected 4 fields, saw 6\\nSkipping line 3934: expected 4 fields, saw 6\\nSkipping line 3935: expected 4 fields, saw 6\\nSkipping line 3936: expected 4 fields, saw 6\\nSkipping line 3937: expected 4 fields, saw 6\\nSkipping line 3938: expected 4 fields, saw 6\\nSkipping line 3939: expected 4 fields, saw 6\\nSkipping line 3940: expected 4 fields, saw 6\\nSkipping line 3941: expected 4 fields, saw 6\\nSkipping line 3942: expected 4 fields, saw 6\\nSkipping line 3943: expected 4 fields, saw 6\\nSkipping line 3944: expected 4 fields, saw 6\\nSkipping line 3945: expected 4 fields, saw 6\\nSkipping line 3946: expected 4 fields, saw 6\\nSkipping line 3947: expected 4 fields, saw 6\\nSkipping line 3948: expected 4 fields, saw 6\\nSkipping line 3949: expected 4 fields, saw 6\\nSkipping line 3950: expected 4 fields, saw 6\\nSkipping line 3951: expected 4 fields, saw 6\\nSkipping line 3952: expected 4 fields, saw 6\\nSkipping line 3953: expected 4 fields, saw 6\\nSkipping line 3954: expected 4 fields, saw 6\\nSkipping line 3955: expected 4 fields, saw 6\\nSkipping line 3956: expected 4 fields, saw 6\\nSkipping line 3957: expected 4 fields, saw 6\\nSkipping line 3958: expected 4 fields, saw 6\\nSkipping line 3959: expected 4 fields, saw 6\\nSkipping line 3960: expected 4 fields, saw 6\\nSkipping line 3961: expected 4 fields, saw 6\\nSkipping line 3962: expected 4 fields, saw 6\\nSkipping line 3963: expected 4 fields, saw 6\\nSkipping line 3964: expected 4 fields, saw 6\\nSkipping line 3965: expected 4 fields, saw 6\\nSkipping line 3966: expected 4 fields, saw 6\\nSkipping line 3967: expected 4 fields, saw 6\\nSkipping line 3968: expected 4 fields, saw 6\\nSkipping line 3969: expected 4 fields, saw 6\\nSkipping line 3970: expected 4 fields, saw 6\\nSkipping line 3971: expected 4 fields, saw 6\\nSkipping line 3972: expected 4 fields, saw 6\\nSkipping line 3973: expected 4 fields, saw 6\\nSkipping line 3974: expected 4 fields, saw 6\\nSkipping line 3975: expected 4 fields, saw 6\\nSkipping line 3976: expected 4 fields, saw 6\\nSkipping line 3977: expected 4 fields, saw 6\\nSkipping line 3978: expected 4 fields, saw 6\\nSkipping line 3979: expected 4 fields, saw 6\\nSkipping line 3980: expected 4 fields, saw 6\\nSkipping line 3981: expected 4 fields, saw 6\\nSkipping line 3982: expected 4 fields, saw 6\\nSkipping line 3983: expected 4 fields, saw 6\\nSkipping line 3984: expected 4 fields, saw 6\\nSkipping line 3985: expected 4 fields, saw 6\\nSkipping line 3986: expected 4 fields, saw 6\\nSkipping line 3987: expected 4 fields, saw 6\\nSkipping line 3988: expected 4 fields, saw 6\\nSkipping line 3989: expected 4 fields, saw 6\\nSkipping line 3990: expected 4 fields, saw 6\\nSkipping line 3991: expected 4 fields, saw 6\\nSkipping line 3992: expected 4 fields, saw 6\\nSkipping line 3993: expected 4 fields, saw 6\\nSkipping line 3994: expected 4 fields, saw 6\\nSkipping line 3995: expected 4 fields, saw 6\\nSkipping line 3996: expected 4 fields, saw 6\\nSkipping line 3997: expected 4 fields, saw 6\\nSkipping line 3998: expected 4 fields, saw 6\\nSkipping line 3999: expected 4 fields, saw 6\\nSkipping line 4000: expected 4 fields, saw 6\\nSkipping line 4001: expected 4 fields, saw 6\\nSkipping line 4002: expected 4 fields, saw 6\\nSkipping line 4003: expected 4 fields, saw 6\\nSkipping line 4004: expected 4 fields, saw 6\\nSkipping line 4005: expected 4 fields, saw 6\\nSkipping line 4006: expected 4 fields, saw 6\\nSkipping line 4007: expected 4 fields, saw 6\\nSkipping line 4008: expected 4 fields, saw 6\\nSkipping line 4009: expected 4 fields, saw 6\\nSkipping line 4010: expected 4 fields, saw 6\\nSkipping line 4011: expected 4 fields, saw 6\\nSkipping line 4012: expected 4 fields, saw 6\\nSkipping line 4013: expected 4 fields, saw 6\\nSkipping line 4014: expected 4 fields, saw 6\\nSkipping line 4015: expected 4 fields, saw 6\\nSkipping line 4016: expected 4 fields, saw 6\\nSkipping line 4017: expected 4 fields, saw 6\\nSkipping line 4018: expected 4 fields, saw 6\\nSkipping line 4019: expected 4 fields, saw 6\\nSkipping line 4020: expected 4 fields, saw 6\\nSkipping line 4021: expected 4 fields, saw 6\\nSkipping line 4022: expected 4 fields, saw 6\\nSkipping line 4023: expected 4 fields, saw 6\\nSkipping line 4024: expected 4 fields, saw 6\\nSkipping line 4025: expected 4 fields, saw 6\\nSkipping line 4026: expected 4 fields, saw 6\\nSkipping line 4027: expected 4 fields, saw 6\\nSkipping line 4028: expected 4 fields, saw 6\\nSkipping line 4029: expected 4 fields, saw 6\\nSkipping line 4030: expected 4 fields, saw 6\\nSkipping line 4031: expected 4 fields, saw 6\\nSkipping line 4032: expected 4 fields, saw 6\\nSkipping line 4033: expected 4 fields, saw 6\\nSkipping line 4034: expected 4 fields, saw 6\\nSkipping line 4035: expected 4 fields, saw 6\\nSkipping line 4036: expected 4 fields, saw 6\\nSkipping line 4037: expected 4 fields, saw 6\\nSkipping line 4038: expected 4 fields, saw 6\\nSkipping line 4039: expected 4 fields, saw 6\\nSkipping line 4040: expected 4 fields, saw 6\\nSkipping line 4041: expected 4 fields, saw 6\\nSkipping line 4042: expected 4 fields, saw 6\\nSkipping line 4043: expected 4 fields, saw 6\\nSkipping line 4044: expected 4 fields, saw 6\\nSkipping line 4045: expected 4 fields, saw 6\\nSkipping line 4046: expected 4 fields, saw 6\\nSkipping line 4047: expected 4 fields, saw 6\\nSkipping line 4048: expected 4 fields, saw 6\\nSkipping line 4049: expected 4 fields, saw 6\\nSkipping line 4050: expected 4 fields, saw 6\\nSkipping line 4051: expected 4 fields, saw 6\\nSkipping line 4052: expected 4 fields, saw 6\\nSkipping line 4053: expected 4 fields, saw 6\\nSkipping line 4054: expected 4 fields, saw 6\\nSkipping line 4055: expected 4 fields, saw 6\\nSkipping line 4056: expected 4 fields, saw 6\\nSkipping line 4057: expected 4 fields, saw 6\\nSkipping line 4058: expected 4 fields, saw 6\\nSkipping line 4059: expected 4 fields, saw 6\\nSkipping line 4060: expected 4 fields, saw 6\\nSkipping line 4061: expected 4 fields, saw 6\\nSkipping line 4062: expected 4 fields, saw 6\\nSkipping line 4063: expected 4 fields, saw 6\\nSkipping line 4064: expected 4 fields, saw 6\\nSkipping line 4065: expected 4 fields, saw 6\\nSkipping line 4066: expected 4 fields, saw 6\\nSkipping line 4067: expected 4 fields, saw 6\\nSkipping line 4068: expected 4 fields, saw 6\\nSkipping line 4069: expected 4 fields, saw 6\\nSkipping line 4070: expected 4 fields, saw 6\\nSkipping line 4071: expected 4 fields, saw 6\\nSkipping line 4072: expected 4 fields, saw 6\\nSkipping line 4073: expected 4 fields, saw 6\\nSkipping line 4074: expected 4 fields, saw 6\\nSkipping line 4075: expected 4 fields, saw 6\\nSkipping line 4076: expected 4 fields, saw 6\\nSkipping line 4077: expected 4 fields, saw 6\\nSkipping line 4078: expected 4 fields, saw 6\\nSkipping line 4079: expected 4 fields, saw 6\\nSkipping line 4080: expected 4 fields, saw 6\\nSkipping line 4081: expected 4 fields, saw 6\\nSkipping line 4082: expected 4 fields, saw 6\\nSkipping line 4083: expected 4 fields, saw 6\\nSkipping line 4084: expected 4 fields, saw 6\\nSkipping line 4085: expected 4 fields, saw 6\\nSkipping line 4086: expected 4 fields, saw 6\\nSkipping line 4087: expected 4 fields, saw 6\\nSkipping line 4088: expected 4 fields, saw 6\\nSkipping line 4089: expected 4 fields, saw 6\\nSkipping line 4090: expected 4 fields, saw 6\\nSkipping line 4091: expected 4 fields, saw 6\\nSkipping line 4092: expected 4 fields, saw 6\\nSkipping line 4093: expected 4 fields, saw 6\\nSkipping line 4094: expected 4 fields, saw 6\\nSkipping line 4095: expected 4 fields, saw 6\\nSkipping line 4096: expected 4 fields, saw 6\\nSkipping line 4097: expected 4 fields, saw 6\\nSkipping line 4098: expected 4 fields, saw 6\\nSkipping line 4099: expected 4 fields, saw 6\\nSkipping line 4100: expected 4 fields, saw 6\\nSkipping line 4101: expected 4 fields, saw 6\\nSkipping line 4102: expected 4 fields, saw 6\\nSkipping line 4103: expected 4 fields, saw 6\\nSkipping line 4104: expected 4 fields, saw 6\\nSkipping line 4105: expected 4 fields, saw 6\\nSkipping line 4106: expected 4 fields, saw 6\\nSkipping line 4107: expected 4 fields, saw 6\\nSkipping line 4108: expected 4 fields, saw 6\\nSkipping line 4109: expected 4 fields, saw 6\\nSkipping line 4110: expected 4 fields, saw 6\\nSkipping line 4111: expected 4 fields, saw 6\\nSkipping line 4112: expected 4 fields, saw 6\\nSkipping line 4113: expected 4 fields, saw 6\\nSkipping line 4114: expected 4 fields, saw 6\\nSkipping line 4115: expected 4 fields, saw 6\\nSkipping line 4116: expected 4 fields, saw 6\\nSkipping line 4117: expected 4 fields, saw 6\\nSkipping line 4118: expected 4 fields, saw 6\\nSkipping line 4119: expected 4 fields, saw 6\\nSkipping line 4120: expected 4 fields, saw 6\\nSkipping line 4121: expected 4 fields, saw 6\\nSkipping line 4122: expected 4 fields, saw 6\\nSkipping line 4123: expected 4 fields, saw 6\\nSkipping line 4124: expected 4 fields, saw 6\\nSkipping line 4125: expected 4 fields, saw 6\\nSkipping line 4126: expected 4 fields, saw 6\\nSkipping line 4127: expected 4 fields, saw 6\\nSkipping line 4128: expected 4 fields, saw 6\\nSkipping line 4129: expected 4 fields, saw 6\\nSkipping line 4130: expected 4 fields, saw 6\\nSkipping line 4131: expected 4 fields, saw 6\\nSkipping line 4132: expected 4 fields, saw 6\\nSkipping line 4133: expected 4 fields, saw 6\\nSkipping line 4134: expected 4 fields, saw 6\\nSkipping line 4135: expected 4 fields, saw 6\\nSkipping line 4136: expected 4 fields, saw 6\\nSkipping line 4137: expected 4 fields, saw 6\\nSkipping line 4138: expected 4 fields, saw 6\\nSkipping line 4139: expected 4 fields, saw 6\\nSkipping line 4140: expected 4 fields, saw 6\\nSkipping line 4141: expected 4 fields, saw 6\\nSkipping line 4142: expected 4 fields, saw 6\\nSkipping line 4143: expected 4 fields, saw 6\\nSkipping line 4144: expected 4 fields, saw 6\\nSkipping line 4145: expected 4 fields, saw 6\\nSkipping line 4146: expected 4 fields, saw 6\\nSkipping line 4147: expected 4 fields, saw 6\\nSkipping line 4148: expected 4 fields, saw 6\\nSkipping line 4149: expected 4 fields, saw 6\\nSkipping line 4150: expected 4 fields, saw 6\\nSkipping line 4151: expected 4 fields, saw 6\\nSkipping line 4152: expected 4 fields, saw 6\\nSkipping line 4153: expected 4 fields, saw 6\\nSkipping line 4154: expected 4 fields, saw 6\\nSkipping line 4155: expected 4 fields, saw 6\\nSkipping line 4156: expected 4 fields, saw 6\\nSkipping line 4157: expected 4 fields, saw 6\\nSkipping line 4158: expected 4 fields, saw 6\\nSkipping line 4159: expected 4 fields, saw 6\\nSkipping line 4160: expected 4 fields, saw 6\\nSkipping line 4161: expected 4 fields, saw 6\\nSkipping line 4162: expected 4 fields, saw 6\\nSkipping line 4163: expected 4 fields, saw 6\\nSkipping line 4164: expected 4 fields, saw 6\\nSkipping line 4165: expected 4 fields, saw 6\\nSkipping line 4166: expected 4 fields, saw 6\\nSkipping line 4167: expected 4 fields, saw 6\\nSkipping line 4168: expected 4 fields, saw 6\\nSkipping line 4169: expected 4 fields, saw 6\\nSkipping line 4170: expected 4 fields, saw 6\\nSkipping line 4171: expected 4 fields, saw 6\\nSkipping line 4172: expected 4 fields, saw 6\\nSkipping line 4173: expected 4 fields, saw 6\\nSkipping line 4174: expected 4 fields, saw 6\\nSkipping line 4175: expected 4 fields, saw 6\\nSkipping line 4176: expected 4 fields, saw 6\\nSkipping line 4177: expected 4 fields, saw 6\\nSkipping line 4178: expected 4 fields, saw 6\\nSkipping line 4179: expected 4 fields, saw 6\\nSkipping line 4180: expected 4 fields, saw 6\\nSkipping line 4181: expected 4 fields, saw 6\\nSkipping line 4182: expected 4 fields, saw 6\\nSkipping line 4183: expected 4 fields, saw 6\\nSkipping line 4184: expected 4 fields, saw 6\\nSkipping line 4185: expected 4 fields, saw 6\\nSkipping line 4186: expected 4 fields, saw 6\\nSkipping line 4187: expected 4 fields, saw 6\\nSkipping line 4188: expected 4 fields, saw 6\\nSkipping line 4189: expected 4 fields, saw 6\\nSkipping line 4190: expected 4 fields, saw 6\\nSkipping line 4191: expected 4 fields, saw 6\\nSkipping line 4192: expected 4 fields, saw 6\\nSkipping line 4193: expected 4 fields, saw 6\\nSkipping line 4194: expected 4 fields, saw 6\\nSkipping line 4195: expected 4 fields, saw 6\\nSkipping line 4196: expected 4 fields, saw 6\\nSkipping line 4197: expected 4 fields, saw 6\\nSkipping line 4198: expected 4 fields, saw 6\\nSkipping line 4199: expected 4 fields, saw 6\\nSkipping line 4200: expected 4 fields, saw 6\\nSkipping line 4201: expected 4 fields, saw 6\\nSkipping line 4202: expected 4 fields, saw 6\\nSkipping line 4203: expected 4 fields, saw 6\\nSkipping line 4204: expected 4 fields, saw 6\\nSkipping line 4205: expected 4 fields, saw 6\\nSkipping line 4206: expected 4 fields, saw 6\\nSkipping line 4207: expected 4 fields, saw 6\\nSkipping line 4208: expected 4 fields, saw 6\\nSkipping line 4209: expected 4 fields, saw 6\\nSkipping line 4210: expected 4 fields, saw 6\\nSkipping line 4211: expected 4 fields, saw 6\\nSkipping line 4212: expected 4 fields, saw 6\\nSkipping line 4213: expected 4 fields, saw 6\\nSkipping line 4214: expected 4 fields, saw 6\\nSkipping line 4215: expected 4 fields, saw 6\\nSkipping line 4216: expected 4 fields, saw 6\\nSkipping line 4217: expected 4 fields, saw 6\\nSkipping line 4218: expected 4 fields, saw 6\\nSkipping line 4219: expected 4 fields, saw 6\\nSkipping line 4220: expected 4 fields, saw 6\\nSkipping line 4221: expected 4 fields, saw 6\\nSkipping line 4222: expected 4 fields, saw 6\\nSkipping line 4223: expected 4 fields, saw 6\\nSkipping line 4224: expected 4 fields, saw 6\\nSkipping line 4225: expected 4 fields, saw 6\\nSkipping line 4226: expected 4 fields, saw 6\\nSkipping line 4227: expected 4 fields, saw 6\\nSkipping line 4228: expected 4 fields, saw 6\\nSkipping line 4229: expected 4 fields, saw 6\\nSkipping line 4230: expected 4 fields, saw 6\\nSkipping line 4231: expected 4 fields, saw 6\\nSkipping line 4232: expected 4 fields, saw 6\\nSkipping line 4233: expected 4 fields, saw 6\\nSkipping line 4234: expected 4 fields, saw 6\\nSkipping line 4235: expected 4 fields, saw 6\\nSkipping line 4236: expected 4 fields, saw 6\\nSkipping line 4237: expected 4 fields, saw 6\\nSkipping line 4238: expected 4 fields, saw 6\\nSkipping line 4239: expected 4 fields, saw 6\\nSkipping line 4240: expected 4 fields, saw 6\\nSkipping line 4241: expected 4 fields, saw 6\\nSkipping line 4242: expected 4 fields, saw 6\\nSkipping line 4243: expected 4 fields, saw 6\\nSkipping line 4244: expected 4 fields, saw 6\\nSkipping line 4245: expected 4 fields, saw 6\\nSkipping line 4246: expected 4 fields, saw 6\\nSkipping line 4247: expected 4 fields, saw 6\\nSkipping line 4248: expected 4 fields, saw 6\\nSkipping line 4249: expected 4 fields, saw 6\\nSkipping line 4250: expected 4 fields, saw 6\\nSkipping line 4251: expected 4 fields, saw 6\\nSkipping line 4252: expected 4 fields, saw 6\\nSkipping line 4253: expected 4 fields, saw 6\\nSkipping line 4254: expected 4 fields, saw 6\\nSkipping line 4255: expected 4 fields, saw 6\\nSkipping line 4256: expected 4 fields, saw 6\\nSkipping line 4257: expected 4 fields, saw 6\\nSkipping line 4258: expected 4 fields, saw 6\\nSkipping line 4259: expected 4 fields, saw 6\\nSkipping line 4260: expected 4 fields, saw 6\\nSkipping line 4261: expected 4 fields, saw 6\\nSkipping line 4262: expected 4 fields, saw 6\\nSkipping line 4263: expected 4 fields, saw 6\\nSkipping line 4264: expected 4 fields, saw 6\\nSkipping line 4265: expected 4 fields, saw 6\\nSkipping line 4266: expected 4 fields, saw 6\\nSkipping line 4267: expected 4 fields, saw 6\\nSkipping line 4268: expected 4 fields, saw 6\\nSkipping line 4269: expected 4 fields, saw 6\\nSkipping line 4270: expected 4 fields, saw 6\\nSkipping line 4271: expected 4 fields, saw 6\\nSkipping line 4272: expected 4 fields, saw 6\\nSkipping line 4273: expected 4 fields, saw 6\\nSkipping line 4274: expected 4 fields, saw 6\\nSkipping line 4275: expected 4 fields, saw 6\\nSkipping line 4276: expected 4 fields, saw 6\\nSkipping line 4277: expected 4 fields, saw 6\\nSkipping line 4278: expected 4 fields, saw 6\\nSkipping line 4279: expected 4 fields, saw 6\\nSkipping line 4280: expected 4 fields, saw 6\\nSkipping line 4281: expected 4 fields, saw 6\\nSkipping line 4282: expected 4 fields, saw 6\\nSkipping line 4283: expected 4 fields, saw 6\\nSkipping line 4284: expected 4 fields, saw 6\\nSkipping line 4285: expected 4 fields, saw 6\\nSkipping line 4286: expected 4 fields, saw 6\\nSkipping line 4287: expected 4 fields, saw 6\\nSkipping line 4288: expected 4 fields, saw 6\\nSkipping line 4289: expected 4 fields, saw 6\\nSkipping line 4290: expected 4 fields, saw 6\\nSkipping line 4291: expected 4 fields, saw 6\\nSkipping line 4292: expected 4 fields, saw 6\\nSkipping line 4293: expected 4 fields, saw 6\\nSkipping line 4294: expected 4 fields, saw 6\\nSkipping line 4295: expected 4 fields, saw 6\\nSkipping line 4296: expected 4 fields, saw 6\\nSkipping line 4297: expected 4 fields, saw 6\\nSkipping line 4298: expected 4 fields, saw 6\\nSkipping line 4299: expected 4 fields, saw 6\\nSkipping line 4300: expected 4 fields, saw 6\\nSkipping line 4301: expected 4 fields, saw 6\\nSkipping line 4302: expected 4 fields, saw 6\\nSkipping line 4303: expected 4 fields, saw 6\\nSkipping line 4304: expected 4 fields, saw 6\\nSkipping line 4305: expected 4 fields, saw 6\\nSkipping line 4306: expected 4 fields, saw 6\\nSkipping line 4307: expected 4 fields, saw 6\\nSkipping line 4308: expected 4 fields, saw 6\\nSkipping line 4309: expected 4 fields, saw 6\\nSkipping line 4310: expected 4 fields, saw 6\\nSkipping line 4311: expected 4 fields, saw 6\\nSkipping line 4312: expected 4 fields, saw 6\\nSkipping line 4313: expected 4 fields, saw 6\\nSkipping line 4314: expected 4 fields, saw 6\\nSkipping line 4315: expected 4 fields, saw 6\\nSkipping line 4316: expected 4 fields, saw 6\\nSkipping line 4317: expected 4 fields, saw 6\\nSkipping line 4318: expected 4 fields, saw 6\\nSkipping line 4319: expected 4 fields, saw 6\\nSkipping line 4320: expected 4 fields, saw 6\\nSkipping line 4321: expected 4 fields, saw 6\\nSkipping line 4322: expected 4 fields, saw 6\\nSkipping line 4323: expected 4 fields, saw 6\\nSkipping line 4324: expected 4 fields, saw 6\\nSkipping line 4325: expected 4 fields, saw 6\\nSkipping line 4326: expected 4 fields, saw 6\\nSkipping line 4327: expected 4 fields, saw 6\\nSkipping line 4328: expected 4 fields, saw 6\\nSkipping line 4329: expected 4 fields, saw 6\\nSkipping line 4330: expected 4 fields, saw 6\\nSkipping line 4331: expected 4 fields, saw 6\\nSkipping line 4332: expected 4 fields, saw 6\\nSkipping line 4333: expected 4 fields, saw 6\\nSkipping line 4334: expected 4 fields, saw 6\\nSkipping line 4335: expected 4 fields, saw 6\\nSkipping line 4336: expected 4 fields, saw 6\\nSkipping line 4337: expected 4 fields, saw 6\\nSkipping line 4338: expected 4 fields, saw 6\\nSkipping line 4339: expected 4 fields, saw 6\\nSkipping line 4340: expected 4 fields, saw 6\\nSkipping line 4341: expected 4 fields, saw 6\\nSkipping line 4342: expected 4 fields, saw 6\\nSkipping line 4343: expected 4 fields, saw 6\\nSkipping line 4344: expected 4 fields, saw 6\\nSkipping line 4345: expected 4 fields, saw 6\\nSkipping line 4346: expected 4 fields, saw 6\\nSkipping line 4347: expected 4 fields, saw 6\\nSkipping line 4348: expected 4 fields, saw 6\\nSkipping line 4349: expected 4 fields, saw 6\\nSkipping line 4350: expected 4 fields, saw 6\\nSkipping line 4351: expected 4 fields, saw 6\\nSkipping line 4352: expected 4 fields, saw 6\\nSkipping line 4353: expected 4 fields, saw 6\\nSkipping line 4354: expected 4 fields, saw 6\\nSkipping line 4355: expected 4 fields, saw 6\\nSkipping line 4356: expected 4 fields, saw 6\\nSkipping line 4357: expected 4 fields, saw 6\\nSkipping line 4358: expected 4 fields, saw 6\\nSkipping line 4359: expected 4 fields, saw 6\\nSkipping line 4360: expected 4 fields, saw 6\\nSkipping line 4361: expected 4 fields, saw 6\\nSkipping line 4362: expected 4 fields, saw 6\\nSkipping line 4363: expected 4 fields, saw 6\\nSkipping line 4364: expected 4 fields, saw 6\\nSkipping line 4365: expected 4 fields, saw 6\\nSkipping line 4366: expected 4 fields, saw 6\\nSkipping line 4367: expected 4 fields, saw 6\\nSkipping line 4368: expected 4 fields, saw 6\\nSkipping line 4369: expected 4 fields, saw 6\\nSkipping line 4370: expected 4 fields, saw 6\\nSkipping line 4371: expected 4 fields, saw 6\\nSkipping line 4372: expected 4 fields, saw 6\\nSkipping line 4373: expected 4 fields, saw 6\\nSkipping line 4374: expected 4 fields, saw 6\\nSkipping line 4375: expected 4 fields, saw 6\\nSkipping line 4376: expected 4 fields, saw 6\\nSkipping line 4377: expected 4 fields, saw 6\\nSkipping line 4378: expected 4 fields, saw 6\\nSkipping line 4379: expected 4 fields, saw 6\\nSkipping line 4380: expected 4 fields, saw 6\\nSkipping line 4381: expected 4 fields, saw 6\\nSkipping line 4382: expected 4 fields, saw 6\\nSkipping line 4383: expected 4 fields, saw 6\\nSkipping line 4384: expected 4 fields, saw 6\\nSkipping line 4385: expected 4 fields, saw 6\\nSkipping line 4386: expected 4 fields, saw 6\\nSkipping line 4387: expected 4 fields, saw 6\\nSkipping line 4388: expected 4 fields, saw 6\\nSkipping line 4389: expected 4 fields, saw 6\\nSkipping line 4390: expected 4 fields, saw 6\\nSkipping line 4391: expected 4 fields, saw 6\\nSkipping line 4392: expected 4 fields, saw 6\\nSkipping line 4393: expected 4 fields, saw 6\\nSkipping line 4394: expected 4 fields, saw 6\\nSkipping line 4395: expected 4 fields, saw 6\\nSkipping line 4396: expected 4 fields, saw 6\\nSkipping line 4397: expected 4 fields, saw 6\\nSkipping line 4398: expected 4 fields, saw 6\\nSkipping line 4399: expected 4 fields, saw 6\\nSkipping line 4400: expected 4 fields, saw 6\\nSkipping line 4401: expected 4 fields, saw 6\\nSkipping line 4402: expected 4 fields, saw 6\\nSkipping line 4403: expected 4 fields, saw 6\\nSkipping line 4404: expected 4 fields, saw 6\\nSkipping line 4405: expected 4 fields, saw 6\\nSkipping line 4406: expected 4 fields, saw 6\\nSkipping line 4407: expected 4 fields, saw 6\\nSkipping line 4408: expected 4 fields, saw 6\\nSkipping line 4409: expected 4 fields, saw 6\\nSkipping line 4410: expected 4 fields, saw 6\\nSkipping line 4411: expected 4 fields, saw 6\\nSkipping line 4412: expected 4 fields, saw 6\\nSkipping line 4413: expected 4 fields, saw 6\\nSkipping line 4414: expected 4 fields, saw 6\\nSkipping line 4415: expected 4 fields, saw 6\\nSkipping line 4416: expected 4 fields, saw 6\\nSkipping line 4417: expected 4 fields, saw 6\\nSkipping line 4418: expected 4 fields, saw 6\\nSkipping line 4419: expected 4 fields, saw 6\\nSkipping line 4420: expected 4 fields, saw 6\\nSkipping line 4421: expected 4 fields, saw 6\\nSkipping line 4422: expected 4 fields, saw 6\\nSkipping line 4423: expected 4 fields, saw 6\\nSkipping line 4424: expected 4 fields, saw 6\\nSkipping line 4425: expected 4 fields, saw 6\\nSkipping line 4426: expected 4 fields, saw 6\\nSkipping line 4427: expected 4 fields, saw 6\\nSkipping line 4428: expected 4 fields, saw 6\\nSkipping line 4429: expected 4 fields, saw 6\\nSkipping line 4430: expected 4 fields, saw 6\\nSkipping line 4431: expected 4 fields, saw 6\\nSkipping line 4432: expected 4 fields, saw 6\\nSkipping line 4433: expected 4 fields, saw 6\\nSkipping line 4434: expected 4 fields, saw 6\\nSkipping line 4435: expected 4 fields, saw 6\\nSkipping line 4436: expected 4 fields, saw 6\\nSkipping line 4437: expected 4 fields, saw 6\\nSkipping line 4438: expected 4 fields, saw 6\\nSkipping line 4439: expected 4 fields, saw 6\\nSkipping line 4440: expected 4 fields, saw 6\\nSkipping line 4441: expected 4 fields, saw 6\\nSkipping line 4442: expected 4 fields, saw 6\\nSkipping line 4443: expected 4 fields, saw 6\\nSkipping line 4444: expected 4 fields, saw 6\\nSkipping line 4445: expected 4 fields, saw 6\\nSkipping line 4446: expected 4 fields, saw 6\\nSkipping line 4447: expected 4 fields, saw 6\\nSkipping line 4448: expected 4 fields, saw 6\\nSkipping line 4449: expected 4 fields, saw 6\\nSkipping line 4450: expected 4 fields, saw 6\\nSkipping line 4451: expected 4 fields, saw 6\\nSkipping line 4452: expected 4 fields, saw 6\\nSkipping line 4453: expected 4 fields, saw 6\\nSkipping line 4454: expected 4 fields, saw 6\\nSkipping line 4455: expected 4 fields, saw 6\\nSkipping line 4456: expected 4 fields, saw 6\\nSkipping line 4457: expected 4 fields, saw 6\\nSkipping line 4458: expected 4 fields, saw 6\\nSkipping line 4459: expected 4 fields, saw 6\\nSkipping line 4460: expected 4 fields, saw 6\\nSkipping line 4461: expected 4 fields, saw 6\\nSkipping line 4462: expected 4 fields, saw 6\\nSkipping line 4463: expected 4 fields, saw 6\\nSkipping line 4464: expected 4 fields, saw 6\\nSkipping line 4465: expected 4 fields, saw 6\\nSkipping line 4466: expected 4 fields, saw 6\\nSkipping line 4467: expected 4 fields, saw 6\\nSkipping line 4468: expected 4 fields, saw 6\\nSkipping line 4469: expected 4 fields, saw 6\\nSkipping line 4470: expected 4 fields, saw 6\\nSkipping line 4471: expected 4 fields, saw 6\\nSkipping line 4472: expected 4 fields, saw 6\\nSkipping line 4473: expected 4 fields, saw 6\\nSkipping line 4474: expected 4 fields, saw 6\\nSkipping line 4475: expected 4 fields, saw 6\\nSkipping line 4476: expected 4 fields, saw 6\\nSkipping line 4477: expected 4 fields, saw 6\\nSkipping line 4478: expected 4 fields, saw 6\\nSkipping line 4479: expected 4 fields, saw 6\\nSkipping line 4480: expected 4 fields, saw 6\\nSkipping line 4481: expected 4 fields, saw 6\\nSkipping line 4482: expected 4 fields, saw 6\\nSkipping line 4483: expected 4 fields, saw 6\\nSkipping line 4484: expected 4 fields, saw 6\\nSkipping line 4485: expected 4 fields, saw 6\\nSkipping line 4486: expected 4 fields, saw 6\\nSkipping line 4487: expected 4 fields, saw 6\\nSkipping line 4488: expected 4 fields, saw 6\\nSkipping line 4489: expected 4 fields, saw 6\\nSkipping line 4490: expected 4 fields, saw 6\\nSkipping line 4491: expected 4 fields, saw 6\\nSkipping line 4492: expected 4 fields, saw 6\\nSkipping line 4493: expected 4 fields, saw 6\\nSkipping line 4494: expected 4 fields, saw 6\\nSkipping line 4495: expected 4 fields, saw 6\\nSkipping line 4496: expected 4 fields, saw 6\\nSkipping line 4497: expected 4 fields, saw 6\\nSkipping line 4498: expected 4 fields, saw 6\\nSkipping line 4499: expected 4 fields, saw 6\\nSkipping line 4500: expected 4 fields, saw 6\\nSkipping line 4501: expected 4 fields, saw 6\\nSkipping line 4502: expected 4 fields, saw 6\\nSkipping line 4503: expected 4 fields, saw 6\\nSkipping line 4504: expected 4 fields, saw 6\\nSkipping line 4505: expected 4 fields, saw 6\\nSkipping line 4506: expected 4 fields, saw 6\\nSkipping line 4507: expected 4 fields, saw 6\\nSkipping line 4508: expected 4 fields, saw 6\\nSkipping line 4509: expected 4 fields, saw 6\\nSkipping line 4510: expected 4 fields, saw 6\\nSkipping line 4511: expected 4 fields, saw 6\\nSkipping line 4512: expected 4 fields, saw 6\\nSkipping line 4513: expected 4 fields, saw 6\\nSkipping line 4514: expected 4 fields, saw 6\\nSkipping line 4515: expected 4 fields, saw 6\\nSkipping line 4516: expected 4 fields, saw 6\\nSkipping line 4517: expected 4 fields, saw 6\\nSkipping line 4518: expected 4 fields, saw 6\\nSkipping line 4519: expected 4 fields, saw 6\\nSkipping line 4520: expected 4 fields, saw 6\\nSkipping line 4521: expected 4 fields, saw 6\\nSkipping line 4522: expected 4 fields, saw 6\\nSkipping line 4523: expected 4 fields, saw 6\\nSkipping line 4524: expected 4 fields, saw 6\\nSkipping line 4525: expected 4 fields, saw 6\\nSkipping line 4526: expected 4 fields, saw 6\\nSkipping line 4527: expected 4 fields, saw 6\\nSkipping line 4528: expected 4 fields, saw 6\\nSkipping line 4529: expected 4 fields, saw 6\\nSkipping line 4530: expected 4 fields, saw 6\\nSkipping line 4531: expected 4 fields, saw 6\\nSkipping line 4532: expected 4 fields, saw 6\\nSkipping line 4533: expected 4 fields, saw 6\\nSkipping line 4534: expected 4 fields, saw 6\\nSkipping line 4535: expected 4 fields, saw 6\\nSkipping line 4536: expected 4 fields, saw 6\\nSkipping line 4537: expected 4 fields, saw 6\\nSkipping line 4538: expected 4 fields, saw 6\\nSkipping line 4539: expected 4 fields, saw 6\\nSkipping line 4540: expected 4 fields, saw 6\\nSkipping line 4541: expected 4 fields, saw 6\\nSkipping line 4542: expected 4 fields, saw 6\\nSkipping line 4543: expected 4 fields, saw 6\\nSkipping line 4544: expected 4 fields, saw 6\\nSkipping line 4545: expected 4 fields, saw 6\\nSkipping line 4546: expected 4 fields, saw 6\\nSkipping line 4547: expected 4 fields, saw 6\\nSkipping line 4548: expected 4 fields, saw 6\\nSkipping line 4549: expected 4 fields, saw 6\\nSkipping line 4550: expected 4 fields, saw 6\\nSkipping line 4551: expected 4 fields, saw 6\\nSkipping line 4552: expected 4 fields, saw 6\\nSkipping line 4553: expected 4 fields, saw 6\\nSkipping line 4554: expected 4 fields, saw 6\\nSkipping line 4555: expected 4 fields, saw 6\\nSkipping line 4556: expected 4 fields, saw 6\\nSkipping line 4557: expected 4 fields, saw 6\\nSkipping line 4558: expected 4 fields, saw 6\\nSkipping line 4559: expected 4 fields, saw 6\\nSkipping line 4560: expected 4 fields, saw 6\\nSkipping line 4561: expected 4 fields, saw 6\\nSkipping line 4562: expected 4 fields, saw 6\\nSkipping line 4563: expected 4 fields, saw 6\\nSkipping line 4564: expected 4 fields, saw 6\\nSkipping line 4565: expected 4 fields, saw 6\\nSkipping line 4566: expected 4 fields, saw 6\\nSkipping line 4567: expected 4 fields, saw 6\\nSkipping line 4568: expected 4 fields, saw 6\\nSkipping line 4569: expected 4 fields, saw 6\\nSkipping line 4570: expected 4 fields, saw 6\\nSkipping line 4571: expected 4 fields, saw 6\\nSkipping line 4572: expected 4 fields, saw 6\\nSkipping line 4573: expected 4 fields, saw 6\\nSkipping line 4574: expected 4 fields, saw 6\\nSkipping line 4575: expected 4 fields, saw 6\\nSkipping line 4576: expected 4 fields, saw 6\\nSkipping line 4577: expected 4 fields, saw 6\\nSkipping line 4578: expected 4 fields, saw 6\\nSkipping line 4579: expected 4 fields, saw 6\\nSkipping line 4580: expected 4 fields, saw 6\\nSkipping line 4581: expected 4 fields, saw 6\\nSkipping line 4582: expected 4 fields, saw 6\\nSkipping line 4583: expected 4 fields, saw 6\\nSkipping line 4584: expected 4 fields, saw 6\\nSkipping line 4585: expected 4 fields, saw 6\\nSkipping line 4586: expected 4 fields, saw 6\\nSkipping line 4587: expected 4 fields, saw 6\\nSkipping line 4588: expected 4 fields, saw 6\\nSkipping line 4589: expected 4 fields, saw 6\\nSkipping line 4590: expected 4 fields, saw 6\\nSkipping line 4591: expected 4 fields, saw 6\\nSkipping line 4592: expected 4 fields, saw 6\\nSkipping line 4593: expected 4 fields, saw 6\\nSkipping line 4594: expected 4 fields, saw 6\\nSkipping line 4595: expected 4 fields, saw 6\\nSkipping line 4596: expected 4 fields, saw 6\\nSkipping line 4597: expected 4 fields, saw 6\\nSkipping line 4598: expected 4 fields, saw 6\\nSkipping line 4599: expected 4 fields, saw 6\\nSkipping line 4600: expected 4 fields, saw 6\\nSkipping line 4601: expected 4 fields, saw 6\\nSkipping line 4602: expected 4 fields, saw 6\\nSkipping line 4603: expected 4 fields, saw 6\\nSkipping line 4604: expected 4 fields, saw 6\\nSkipping line 4605: expected 4 fields, saw 6\\nSkipping line 4606: expected 4 fields, saw 6\\nSkipping line 4607: expected 4 fields, saw 6\\nSkipping line 4608: expected 4 fields, saw 6\\nSkipping line 4609: expected 4 fields, saw 6\\nSkipping line 4610: expected 4 fields, saw 6\\nSkipping line 4611: expected 4 fields, saw 6\\nSkipping line 4612: expected 4 fields, saw 6\\nSkipping line 4613: expected 4 fields, saw 6\\nSkipping line 4614: expected 4 fields, saw 6\\nSkipping line 4615: expected 4 fields, saw 6\\nSkipping line 4616: expected 4 fields, saw 6\\nSkipping line 4617: expected 4 fields, saw 6\\nSkipping line 4618: expected 4 fields, saw 6\\nSkipping line 4619: expected 4 fields, saw 6\\nSkipping line 4620: expected 4 fields, saw 6\\nSkipping line 4621: expected 4 fields, saw 6\\nSkipping line 4622: expected 4 fields, saw 6\\nSkipping line 4623: expected 4 fields, saw 6\\nSkipping line 4624: expected 4 fields, saw 6\\nSkipping line 4625: expected 4 fields, saw 6\\nSkipping line 4626: expected 4 fields, saw 6\\nSkipping line 4627: expected 4 fields, saw 6\\nSkipping line 4628: expected 4 fields, saw 6\\nSkipping line 4629: expected 4 fields, saw 6\\nSkipping line 4630: expected 4 fields, saw 6\\nSkipping line 4631: expected 4 fields, saw 6\\nSkipping line 4632: expected 4 fields, saw 6\\nSkipping line 4633: expected 4 fields, saw 6\\nSkipping line 4634: expected 4 fields, saw 6\\nSkipping line 4635: expected 4 fields, saw 6\\nSkipping line 4636: expected 4 fields, saw 6\\nSkipping line 4637: expected 4 fields, saw 6\\nSkipping line 4638: expected 4 fields, saw 6\\nSkipping line 4639: expected 4 fields, saw 6\\nSkipping line 4640: expected 4 fields, saw 6\\nSkipping line 4641: expected 4 fields, saw 6\\nSkipping line 4642: expected 4 fields, saw 6\\nSkipping line 4643: expected 4 fields, saw 6\\nSkipping line 4644: expected 4 fields, saw 6\\nSkipping line 4645: expected 4 fields, saw 6\\nSkipping line 4646: expected 4 fields, saw 6\\nSkipping line 4647: expected 4 fields, saw 6\\nSkipping line 4648: expected 4 fields, saw 6\\nSkipping line 4649: expected 4 fields, saw 6\\nSkipping line 4650: expected 4 fields, saw 6\\nSkipping line 4651: expected 4 fields, saw 6\\nSkipping line 4652: expected 4 fields, saw 6\\nSkipping line 4653: expected 4 fields, saw 6\\nSkipping line 4654: expected 4 fields, saw 6\\nSkipping line 4655: expected 4 fields, saw 6\\nSkipping line 4656: expected 4 fields, saw 6\\nSkipping line 4657: expected 4 fields, saw 6\\nSkipping line 4658: expected 4 fields, saw 6\\nSkipping line 4659: expected 4 fields, saw 6\\nSkipping line 4660: expected 4 fields, saw 6\\nSkipping line 4661: expected 4 fields, saw 6\\nSkipping line 4662: expected 4 fields, saw 6\\nSkipping line 4663: expected 4 fields, saw 6\\nSkipping line 4664: expected 4 fields, saw 6\\nSkipping line 4665: expected 4 fields, saw 6\\nSkipping line 4666: expected 4 fields, saw 6\\nSkipping line 4667: expected 4 fields, saw 6\\nSkipping line 4668: expected 4 fields, saw 6\\nSkipping line 4669: expected 4 fields, saw 6\\nSkipping line 4670: expected 4 fields, saw 6\\nSkipping line 4671: expected 4 fields, saw 6\\nSkipping line 4672: expected 4 fields, saw 6\\nSkipping line 4673: expected 4 fields, saw 6\\nSkipping line 4674: expected 4 fields, saw 6\\nSkipping line 4675: expected 4 fields, saw 6\\nSkipping line 4676: expected 4 fields, saw 6\\nSkipping line 4677: expected 4 fields, saw 6\\nSkipping line 4678: expected 4 fields, saw 6\\nSkipping line 4679: expected 4 fields, saw 6\\nSkipping line 4680: expected 4 fields, saw 6\\nSkipping line 4681: expected 4 fields, saw 6\\nSkipping line 4682: expected 4 fields, saw 6\\nSkipping line 4683: expected 4 fields, saw 6\\nSkipping line 4684: expected 4 fields, saw 6\\nSkipping line 4685: expected 4 fields, saw 6\\nSkipping line 4686: expected 4 fields, saw 6\\nSkipping line 4687: expected 4 fields, saw 6\\nSkipping line 4688: expected 4 fields, saw 6\\nSkipping line 4689: expected 4 fields, saw 6\\nSkipping line 4690: expected 4 fields, saw 6\\nSkipping line 4691: expected 4 fields, saw 6\\nSkipping line 4692: expected 4 fields, saw 6\\nSkipping line 4693: expected 4 fields, saw 6\\nSkipping line 4694: expected 4 fields, saw 6\\nSkipping line 4695: expected 4 fields, saw 6\\nSkipping line 4696: expected 4 fields, saw 6\\nSkipping line 4697: expected 4 fields, saw 6\\nSkipping line 4698: expected 4 fields, saw 6\\nSkipping line 4699: expected 4 fields, saw 6\\nSkipping line 4700: expected 4 fields, saw 6\\nSkipping line 4701: expected 4 fields, saw 6\\nSkipping line 4702: expected 4 fields, saw 6\\nSkipping line 4703: expected 4 fields, saw 6\\nSkipping line 4704: expected 4 fields, saw 6\\nSkipping line 4705: expected 4 fields, saw 6\\nSkipping line 4706: expected 4 fields, saw 6\\nSkipping line 4707: expected 4 fields, saw 6\\nSkipping line 4708: expected 4 fields, saw 6\\nSkipping line 4709: expected 4 fields, saw 6\\nSkipping line 4710: expected 4 fields, saw 6\\nSkipping line 4711: expected 4 fields, saw 6\\nSkipping line 4712: expected 4 fields, saw 6\\nSkipping line 4713: expected 4 fields, saw 6\\nSkipping line 4714: expected 4 fields, saw 6\\nSkipping line 4715: expected 4 fields, saw 6\\nSkipping line 4716: expected 4 fields, saw 6\\nSkipping line 4717: expected 4 fields, saw 6\\nSkipping line 4718: expected 4 fields, saw 6\\nSkipping line 4719: expected 4 fields, saw 6\\nSkipping line 4720: expected 4 fields, saw 6\\nSkipping line 4721: expected 4 fields, saw 6\\nSkipping line 4722: expected 4 fields, saw 6\\nSkipping line 4723: expected 4 fields, saw 6\\nSkipping line 4724: expected 4 fields, saw 6\\nSkipping line 4725: expected 4 fields, saw 6\\nSkipping line 4726: expected 4 fields, saw 6\\nSkipping line 4727: expected 4 fields, saw 6\\nSkipping line 4728: expected 4 fields, saw 6\\nSkipping line 4729: expected 4 fields, saw 6\\nSkipping line 4730: expected 4 fields, saw 6\\nSkipping line 4731: expected 4 fields, saw 6\\nSkipping line 4732: expected 4 fields, saw 6\\nSkipping line 4733: expected 4 fields, saw 6\\nSkipping line 4734: expected 4 fields, saw 6\\nSkipping line 4735: expected 4 fields, saw 6\\nSkipping line 4736: expected 4 fields, saw 6\\nSkipping line 4737: expected 4 fields, saw 6\\nSkipping line 4738: expected 4 fields, saw 6\\nSkipping line 4739: expected 4 fields, saw 6\\nSkipping line 4740: expected 4 fields, saw 6\\nSkipping line 4741: expected 4 fields, saw 6\\nSkipping line 4742: expected 4 fields, saw 6\\nSkipping line 4743: expected 4 fields, saw 6\\nSkipping line 4744: expected 4 fields, saw 6\\nSkipping line 4745: expected 4 fields, saw 6\\nSkipping line 4746: expected 4 fields, saw 6\\nSkipping line 4747: expected 4 fields, saw 6\\nSkipping line 4748: expected 4 fields, saw 6\\nSkipping line 4749: expected 4 fields, saw 6\\nSkipping line 4750: expected 4 fields, saw 6\\nSkipping line 4751: expected 4 fields, saw 6\\nSkipping line 4752: expected 4 fields, saw 6\\nSkipping line 4753: expected 4 fields, saw 6\\nSkipping line 4754: expected 4 fields, saw 6\\nSkipping line 4755: expected 4 fields, saw 6\\nSkipping line 4756: expected 4 fields, saw 6\\nSkipping line 4757: expected 4 fields, saw 6\\nSkipping line 4758: expected 4 fields, saw 6\\nSkipping line 4759: expected 4 fields, saw 6\\nSkipping line 4760: expected 4 fields, saw 6\\nSkipping line 4761: expected 4 fields, saw 6\\nSkipping line 4762: expected 4 fields, saw 6\\nSkipping line 4763: expected 4 fields, saw 6\\nSkipping line 4764: expected 4 fields, saw 6\\nSkipping line 4765: expected 4 fields, saw 6\\nSkipping line 4766: expected 4 fields, saw 6\\nSkipping line 4767: expected 4 fields, saw 6\\nSkipping line 4768: expected 4 fields, saw 6\\nSkipping line 4769: expected 4 fields, saw 6\\nSkipping line 4770: expected 4 fields, saw 6\\nSkipping line 4771: expected 4 fields, saw 6\\nSkipping line 4772: expected 4 fields, saw 6\\nSkipping line 4773: expected 4 fields, saw 6\\nSkipping line 4774: expected 4 fields, saw 6\\nSkipping line 4775: expected 4 fields, saw 6\\nSkipping line 4776: expected 4 fields, saw 6\\nSkipping line 4777: expected 4 fields, saw 6\\nSkipping line 4778: expected 4 fields, saw 6\\nSkipping line 4779: expected 4 fields, saw 6\\nSkipping line 4780: expected 4 fields, saw 6\\nSkipping line 4781: expected 4 fields, saw 6\\nSkipping line 4782: expected 4 fields, saw 6\\nSkipping line 4783: expected 4 fields, saw 6\\nSkipping line 4784: expected 4 fields, saw 6\\nSkipping line 4785: expected 4 fields, saw 6\\nSkipping line 4786: expected 4 fields, saw 6\\nSkipping line 4787: expected 4 fields, saw 6\\nSkipping line 4788: expected 4 fields, saw 6\\nSkipping line 4789: expected 4 fields, saw 6\\nSkipping line 4790: expected 4 fields, saw 6\\nSkipping line 4791: expected 4 fields, saw 6\\nSkipping line 4792: expected 4 fields, saw 6\\nSkipping line 4793: expected 4 fields, saw 6\\nSkipping line 4794: expected 4 fields, saw 6\\nSkipping line 4795: expected 4 fields, saw 6\\nSkipping line 4796: expected 4 fields, saw 6\\nSkipping line 4797: expected 4 fields, saw 6\\nSkipping line 4798: expected 4 fields, saw 6\\nSkipping line 4799: expected 4 fields, saw 6\\nSkipping line 4800: expected 4 fields, saw 6\\nSkipping line 4801: expected 4 fields, saw 6\\nSkipping line 4802: expected 4 fields, saw 6\\nSkipping line 4803: expected 4 fields, saw 6\\nSkipping line 4804: expected 4 fields, saw 6\\nSkipping line 4805: expected 4 fields, saw 6\\nSkipping line 4806: expected 4 fields, saw 6\\nSkipping line 4807: expected 4 fields, saw 6\\nSkipping line 4808: expected 4 fields, saw 6\\nSkipping line 4809: expected 4 fields, saw 6\\nSkipping line 4810: expected 4 fields, saw 6\\nSkipping line 4811: expected 4 fields, saw 6\\nSkipping line 4812: expected 4 fields, saw 6\\nSkipping line 4813: expected 4 fields, saw 6\\nSkipping line 4814: expected 4 fields, saw 6\\nSkipping line 4815: expected 4 fields, saw 6\\nSkipping line 4816: expected 4 fields, saw 6\\nSkipping line 4817: expected 4 fields, saw 6\\nSkipping line 4818: expected 4 fields, saw 6\\nSkipping line 4819: expected 4 fields, saw 6\\nSkipping line 4820: expected 4 fields, saw 6\\nSkipping line 4821: expected 4 fields, saw 6\\nSkipping line 4822: expected 4 fields, saw 6\\nSkipping line 4823: expected 4 fields, saw 6\\nSkipping line 4824: expected 4 fields, saw 6\\nSkipping line 4825: expected 4 fields, saw 6\\nSkipping line 4826: expected 4 fields, saw 6\\nSkipping line 4827: expected 4 fields, saw 6\\nSkipping line 4828: expected 4 fields, saw 6\\nSkipping line 4829: expected 4 fields, saw 6\\nSkipping line 4830: expected 4 fields, saw 6\\nSkipping line 4831: expected 4 fields, saw 6\\nSkipping line 4832: expected 4 fields, saw 6\\nSkipping line 4833: expected 4 fields, saw 6\\nSkipping line 4834: expected 4 fields, saw 6\\nSkipping line 4835: expected 4 fields, saw 6\\nSkipping line 4836: expected 4 fields, saw 6\\nSkipping line 4837: expected 4 fields, saw 6\\nSkipping line 4838: expected 4 fields, saw 6\\nSkipping line 4839: expected 4 fields, saw 6\\nSkipping line 4840: expected 4 fields, saw 6\\nSkipping line 4841: expected 4 fields, saw 6\\nSkipping line 4842: expected 4 fields, saw 6\\nSkipping line 4843: expected 4 fields, saw 6\\nSkipping line 4844: expected 4 fields, saw 6\\nSkipping line 4845: expected 4 fields, saw 6\\nSkipping line 4846: expected 4 fields, saw 6\\nSkipping line 4847: expected 4 fields, saw 6\\nSkipping line 4848: expected 4 fields, saw 6\\nSkipping line 4849: expected 4 fields, saw 6\\nSkipping line 4850: expected 4 fields, saw 6\\nSkipping line 4851: expected 4 fields, saw 6\\nSkipping line 4852: expected 4 fields, saw 6\\nSkipping line 4853: expected 4 fields, saw 6\\nSkipping line 4854: expected 4 fields, saw 6\\nSkipping line 4855: expected 4 fields, saw 6\\nSkipping line 4856: expected 4 fields, saw 6\\nSkipping line 4857: expected 4 fields, saw 6\\nSkipping line 4858: expected 4 fields, saw 6\\nSkipping line 4859: expected 4 fields, saw 6\\nSkipping line 4860: expected 4 fields, saw 6\\nSkipping line 4861: expected 4 fields, saw 6\\nSkipping line 4862: expected 4 fields, saw 6\\nSkipping line 4863: expected 4 fields, saw 6\\nSkipping line 4864: expected 4 fields, saw 6\\nSkipping line 4865: expected 4 fields, saw 6\\nSkipping line 4866: expected 4 fields, saw 6\\nSkipping line 4867: expected 4 fields, saw 6\\nSkipping line 4868: expected 4 fields, saw 6\\nSkipping line 4869: expected 4 fields, saw 6\\nSkipping line 4870: expected 4 fields, saw 6\\nSkipping line 4871: expected 4 fields, saw 6\\nSkipping line 4872: expected 4 fields, saw 6\\nSkipping line 4873: expected 4 fields, saw 6\\nSkipping line 4874: expected 4 fields, saw 6\\nSkipping line 4875: expected 4 fields, saw 6\\nSkipping line 4876: expected 4 fields, saw 6\\nSkipping line 4877: expected 4 fields, saw 6\\nSkipping line 4878: expected 4 fields, saw 6\\nSkipping line 4879: expected 4 fields, saw 6\\nSkipping line 4880: expected 4 fields, saw 6\\nSkipping line 4881: expected 4 fields, saw 6\\nSkipping line 4882: expected 4 fields, saw 6\\nSkipping line 4883: expected 4 fields, saw 6\\nSkipping line 4884: expected 4 fields, saw 6\\nSkipping line 4885: expected 4 fields, saw 6\\nSkipping line 4886: expected 4 fields, saw 6\\nSkipping line 4887: expected 4 fields, saw 6\\nSkipping line 4888: expected 4 fields, saw 6\\nSkipping line 4889: expected 4 fields, saw 6\\nSkipping line 4890: expected 4 fields, saw 6\\nSkipping line 4891: expected 4 fields, saw 6\\nSkipping line 4892: expected 4 fields, saw 6\\nSkipping line 4893: expected 4 fields, saw 6\\nSkipping line 4894: expected 4 fields, saw 6\\nSkipping line 4895: expected 4 fields, saw 6\\nSkipping line 4896: expected 4 fields, saw 6\\nSkipping line 4897: expected 4 fields, saw 6\\nSkipping line 4898: expected 4 fields, saw 6\\nSkipping line 4899: expected 4 fields, saw 6\\nSkipping line 4900: expected 4 fields, saw 6\\nSkipping line 4901: expected 4 fields, saw 6\\nSkipping line 4902: expected 4 fields, saw 6\\nSkipping line 4903: expected 4 fields, saw 6\\nSkipping line 4904: expected 4 fields, saw 6\\nSkipping line 4905: expected 4 fields, saw 6\\nSkipping line 4906: expected 4 fields, saw 6\\nSkipping line 4907: expected 4 fields, saw 6\\nSkipping line 4908: expected 4 fields, saw 6\\nSkipping line 4909: expected 4 fields, saw 6\\nSkipping line 4910: expected 4 fields, saw 6\\nSkipping line 4911: expected 4 fields, saw 6\\nSkipping line 4912: expected 4 fields, saw 6\\nSkipping line 4913: expected 4 fields, saw 6\\nSkipping line 4914: expected 4 fields, saw 6\\nSkipping line 4915: expected 4 fields, saw 6\\nSkipping line 4916: expected 4 fields, saw 6\\nSkipping line 4917: expected 4 fields, saw 6\\nSkipping line 4918: expected 4 fields, saw 6\\nSkipping line 4919: expected 4 fields, saw 6\\nSkipping line 4920: expected 4 fields, saw 6\\nSkipping line 4921: expected 4 fields, saw 6\\nSkipping line 4922: expected 4 fields, saw 6\\nSkipping line 4923: expected 4 fields, saw 6\\nSkipping line 4924: expected 4 fields, saw 6\\nSkipping line 4925: expected 4 fields, saw 6\\nSkipping line 4926: expected 4 fields, saw 6\\nSkipping line 4927: expected 4 fields, saw 6\\nSkipping line 4928: expected 4 fields, saw 6\\nSkipping line 4929: expected 4 fields, saw 6\\nSkipping line 4930: expected 4 fields, saw 6\\nSkipping line 4931: expected 4 fields, saw 6\\nSkipping line 4932: expected 4 fields, saw 6\\nSkipping line 4933: expected 4 fields, saw 6\\nSkipping line 4934: expected 4 fields, saw 6\\nSkipping line 4935: expected 4 fields, saw 6\\nSkipping line 4936: expected 4 fields, saw 6\\nSkipping line 4937: expected 4 fields, saw 6\\nSkipping line 4938: expected 4 fields, saw 6\\nSkipping line 4939: expected 4 fields, saw 6\\nSkipping line 4940: expected 4 fields, saw 6\\nSkipping line 4941: expected 4 fields, saw 6\\nSkipping line 4942: expected 4 fields, saw 6\\nSkipping line 4943: expected 4 fields, saw 6\\nSkipping line 4944: expected 4 fields, saw 6\\nSkipping line 4945: expected 4 fields, saw 6\\nSkipping line 4946: expected 4 fields, saw 6\\nSkipping line 4947: expected 4 fields, saw 6\\nSkipping line 4948: expected 4 fields, saw 6\\nSkipping line 4949: expected 4 fields, saw 6\\nSkipping line 4950: expected 4 fields, saw 6\\nSkipping line 4951: expected 4 fields, saw 6\\nSkipping line 4952: expected 4 fields, saw 6\\nSkipping line 4953: expected 4 fields, saw 6\\nSkipping line 4954: expected 4 fields, saw 6\\nSkipping line 4955: expected 4 fields, saw 6\\nSkipping line 4956: expected 4 fields, saw 6\\nSkipping line 4957: expected 4 fields, saw 6\\nSkipping line 4958: expected 4 fields, saw 6\\nSkipping line 4959: expected 4 fields, saw 6\\nSkipping line 4960: expected 4 fields, saw 6\\nSkipping line 4961: expected 4 fields, saw 6\\nSkipping line 4962: expected 4 fields, saw 6\\nSkipping line 4963: expected 4 fields, saw 6\\nSkipping line 4964: expected 4 fields, saw 6\\nSkipping line 4965: expected 4 fields, saw 6\\nSkipping line 4966: expected 4 fields, saw 6\\nSkipping line 4967: expected 4 fields, saw 6\\nSkipping line 4968: expected 4 fields, saw 6\\nSkipping line 4969: expected 4 fields, saw 6\\nSkipping line 4970: expected 4 fields, saw 6\\nSkipping line 4971: expected 4 fields, saw 6\\nSkipping line 4972: expected 4 fields, saw 6\\nSkipping line 4973: expected 4 fields, saw 6\\nSkipping line 4974: expected 4 fields, saw 6\\nSkipping line 4975: expected 4 fields, saw 6\\nSkipping line 4976: expected 4 fields, saw 6\\nSkipping line 4977: expected 4 fields, saw 6\\nSkipping line 4978: expected 4 fields, saw 6\\nSkipping line 4979: expected 4 fields, saw 6\\nSkipping line 4980: expected 4 fields, saw 6\\nSkipping line 4981: expected 4 fields, saw 6\\nSkipping line 4982: expected 4 fields, saw 6\\nSkipping line 4983: expected 4 fields, saw 6\\nSkipping line 4984: expected 4 fields, saw 6\\nSkipping line 4985: expected 4 fields, saw 6\\nSkipping line 4986: expected 4 fields, saw 6\\nSkipping line 4987: expected 4 fields, saw 6\\nSkipping line 4988: expected 4 fields, saw 6\\nSkipping line 4989: expected 4 fields, saw 6\\nSkipping line 4990: expected 4 fields, saw 6\\nSkipping line 4991: expected 4 fields, saw 6\\nSkipping line 4992: expected 4 fields, saw 6\\nSkipping line 4993: expected 4 fields, saw 6\\nSkipping line 4994: expected 4 fields, saw 6\\nSkipping line 4995: expected 4 fields, saw 6\\nSkipping line 4996: expected 4 fields, saw 6\\nSkipping line 4997: expected 4 fields, saw 6\\nSkipping line 4998: expected 4 fields, saw 6\\nSkipping line 4999: expected 4 fields, saw 6\\nSkipping line 5000: expected 4 fields, saw 6\\nSkipping line 5001: expected 4 fields, saw 6\\nSkipping line 5002: expected 4 fields, saw 6\\nSkipping line 5003: expected 4 fields, saw 6\\nSkipping line 5004: expected 4 fields, saw 6\\nSkipping line 5005: expected 4 fields, saw 6\\nSkipping line 5006: expected 4 fields, saw 6\\nSkipping line 5007: expected 4 fields, saw 6\\nSkipping line 5008: expected 4 fields, saw 6\\nSkipping line 5009: expected 4 fields, saw 6\\nSkipping line 5010: expected 4 fields, saw 6\\nSkipping line 5011: expected 4 fields, saw 6\\nSkipping line 5012: expected 4 fields, saw 6\\nSkipping line 5013: expected 4 fields, saw 6\\nSkipping line 5014: expected 4 fields, saw 6\\nSkipping line 5015: expected 4 fields, saw 6\\nSkipping line 5016: expected 4 fields, saw 6\\nSkipping line 5017: expected 4 fields, saw 6\\nSkipping line 5018: expected 4 fields, saw 6\\nSkipping line 5019: expected 4 fields, saw 6\\nSkipping line 5020: expected 4 fields, saw 6\\nSkipping line 5021: expected 4 fields, saw 6\\nSkipping line 5022: expected 4 fields, saw 6\\nSkipping line 5023: expected 4 fields, saw 6\\nSkipping line 5024: expected 4 fields, saw 6\\nSkipping line 5025: expected 4 fields, saw 6\\nSkipping line 5026: expected 4 fields, saw 6\\nSkipping line 5027: expected 4 fields, saw 6\\nSkipping line 5028: expected 4 fields, saw 6\\nSkipping line 5029: expected 4 fields, saw 6\\nSkipping line 5030: expected 4 fields, saw 6\\nSkipping line 5031: expected 4 fields, saw 6\\nSkipping line 5032: expected 4 fields, saw 6\\nSkipping line 5033: expected 4 fields, saw 6\\nSkipping line 5034: expected 4 fields, saw 6\\nSkipping line 5035: expected 4 fields, saw 6\\nSkipping line 5036: expected 4 fields, saw 6\\nSkipping line 5037: expected 4 fields, saw 6\\nSkipping line 5038: expected 4 fields, saw 6\\nSkipping line 5039: expected 4 fields, saw 6\\nSkipping line 5040: expected 4 fields, saw 6\\nSkipping line 5041: expected 4 fields, saw 6\\nSkipping line 5042: expected 4 fields, saw 6\\nSkipping line 5043: expected 4 fields, saw 6\\nSkipping line 5044: expected 4 fields, saw 6\\nSkipping line 5045: expected 4 fields, saw 6\\nSkipping line 5046: expected 4 fields, saw 6\\nSkipping line 5047: expected 4 fields, saw 6\\nSkipping line 5048: expected 4 fields, saw 6\\nSkipping line 5049: expected 4 fields, saw 6\\nSkipping line 5050: expected 4 fields, saw 6\\nSkipping line 5051: expected 4 fields, saw 6\\nSkipping line 5052: expected 4 fields, saw 6\\nSkipping line 5053: expected 4 fields, saw 6\\nSkipping line 5054: expected 4 fields, saw 6\\nSkipping line 5055: expected 4 fields, saw 6\\nSkipping line 5056: expected 4 fields, saw 6\\nSkipping line 5057: expected 4 fields, saw 6\\nSkipping line 5058: expected 4 fields, saw 6\\nSkipping line 5059: expected 4 fields, saw 6\\nSkipping line 5060: expected 4 fields, saw 6\\nSkipping line 5061: expected 4 fields, saw 6\\nSkipping line 5062: expected 4 fields, saw 6\\nSkipping line 5063: expected 4 fields, saw 6\\nSkipping line 5064: expected 4 fields, saw 6\\nSkipping line 5065: expected 4 fields, saw 6\\nSkipping line 5066: expected 4 fields, saw 6\\nSkipping line 5067: expected 4 fields, saw 6\\nSkipping line 5068: expected 4 fields, saw 6\\nSkipping line 5069: expected 4 fields, saw 6\\nSkipping line 5070: expected 4 fields, saw 6\\nSkipping line 5071: expected 4 fields, saw 6\\nSkipping line 5072: expected 4 fields, saw 6\\nSkipping line 5073: expected 4 fields, saw 6\\nSkipping line 5074: expected 4 fields, saw 6\\nSkipping line 5075: expected 4 fields, saw 6\\nSkipping line 5076: expected 4 fields, saw 6\\nSkipping line 5077: expected 4 fields, saw 6\\nSkipping line 5078: expected 4 fields, saw 6\\nSkipping line 5079: expected 4 fields, saw 6\\nSkipping line 5080: expected 4 fields, saw 6\\nSkipping line 5081: expected 4 fields, saw 6\\nSkipping line 5082: expected 4 fields, saw 6\\nSkipping line 5083: expected 4 fields, saw 6\\nSkipping line 5084: expected 4 fields, saw 6\\nSkipping line 5085: expected 4 fields, saw 6\\nSkipping line 5086: expected 4 fields, saw 6\\nSkipping line 5087: expected 4 fields, saw 6\\nSkipping line 5088: expected 4 fields, saw 6\\nSkipping line 5089: expected 4 fields, saw 6\\nSkipping line 5090: expected 4 fields, saw 6\\nSkipping line 5091: expected 4 fields, saw 6\\nSkipping line 5092: expected 4 fields, saw 6\\nSkipping line 5093: expected 4 fields, saw 6\\nSkipping line 5094: expected 4 fields, saw 6\\nSkipping line 5095: expected 4 fields, saw 6\\nSkipping line 5096: expected 4 fields, saw 6\\nSkipping line 5097: expected 4 fields, saw 6\\nSkipping line 5098: expected 4 fields, saw 6\\nSkipping line 5099: expected 4 fields, saw 6\\nSkipping line 5100: expected 4 fields, saw 6\\nSkipping line 5101: expected 4 fields, saw 6\\nSkipping line 5102: expected 4 fields, saw 6\\nSkipping line 5103: expected 4 fields, saw 6\\nSkipping line 5104: expected 4 fields, saw 6\\nSkipping line 5105: expected 4 fields, saw 6\\nSkipping line 5106: expected 4 fields, saw 6\\nSkipping line 5107: expected 4 fields, saw 6\\nSkipping line 5108: expected 4 fields, saw 6\\nSkipping line 5109: expected 4 fields, saw 6\\nSkipping line 5110: expected 4 fields, saw 6\\nSkipping line 5111: expected 4 fields, saw 6\\nSkipping line 5112: expected 4 fields, saw 6\\nSkipping line 5113: expected 4 fields, saw 6\\nSkipping line 5114: expected 4 fields, saw 6\\nSkipping line 5115: expected 4 fields, saw 6\\nSkipping line 5116: expected 4 fields, saw 6\\nSkipping line 5117: expected 4 fields, saw 6\\nSkipping line 5118: expected 4 fields, saw 6\\nSkipping line 5119: expected 4 fields, saw 6\\nSkipping line 5120: expected 4 fields, saw 6\\nSkipping line 5121: expected 4 fields, saw 6\\nSkipping line 5122: expected 4 fields, saw 6\\nSkipping line 5123: expected 4 fields, saw 6\\nSkipping line 5124: expected 4 fields, saw 6\\nSkipping line 5125: expected 4 fields, saw 6\\nSkipping line 5126: expected 4 fields, saw 6\\nSkipping line 5127: expected 4 fields, saw 6\\nSkipping line 5128: expected 4 fields, saw 6\\nSkipping line 5129: expected 4 fields, saw 6\\nSkipping line 5130: expected 4 fields, saw 6\\nSkipping line 5131: expected 4 fields, saw 6\\nSkipping line 5132: expected 4 fields, saw 6\\nSkipping line 5133: expected 4 fields, saw 6\\nSkipping line 5134: expected 4 fields, saw 6\\nSkipping line 5135: expected 4 fields, saw 6\\nSkipping line 5136: expected 4 fields, saw 6\\nSkipping line 5137: expected 4 fields, saw 6\\nSkipping line 5138: expected 4 fields, saw 6\\nSkipping line 5139: expected 4 fields, saw 6\\nSkipping line 5140: expected 4 fields, saw 6\\nSkipping line 5141: expected 4 fields, saw 6\\nSkipping line 5142: expected 4 fields, saw 6\\nSkipping line 5143: expected 4 fields, saw 6\\nSkipping line 5144: expected 4 fields, saw 6\\nSkipping line 5145: expected 4 fields, saw 6\\nSkipping line 5146: expected 4 fields, saw 6\\nSkipping line 5147: expected 4 fields, saw 6\\nSkipping line 5148: expected 4 fields, saw 6\\nSkipping line 5149: expected 4 fields, saw 6\\nSkipping line 5150: expected 4 fields, saw 6\\nSkipping line 5151: expected 4 fields, saw 6\\nSkipping line 5152: expected 4 fields, saw 6\\nSkipping line 5153: expected 4 fields, saw 6\\nSkipping line 5154: expected 4 fields, saw 6\\nSkipping line 5155: expected 4 fields, saw 6\\nSkipping line 5156: expected 4 fields, saw 6\\nSkipping line 5157: expected 4 fields, saw 6\\nSkipping line 5158: expected 4 fields, saw 6\\nSkipping line 5159: expected 4 fields, saw 6\\nSkipping line 5160: expected 4 fields, saw 6\\nSkipping line 5161: expected 4 fields, saw 6\\nSkipping line 5162: expected 4 fields, saw 6\\nSkipping line 5163: expected 4 fields, saw 6\\nSkipping line 5164: expected 4 fields, saw 6\\nSkipping line 5165: expected 4 fields, saw 6\\nSkipping line 5166: expected 4 fields, saw 6\\nSkipping line 5167: expected 4 fields, saw 6\\nSkipping line 5168: expected 4 fields, saw 6\\nSkipping line 5169: expected 4 fields, saw 6\\nSkipping line 5170: expected 4 fields, saw 6\\nSkipping line 5171: expected 4 fields, saw 6\\nSkipping line 5172: expected 4 fields, saw 6\\nSkipping line 5173: expected 4 fields, saw 6\\nSkipping line 5174: expected 4 fields, saw 6\\nSkipping line 5175: expected 4 fields, saw 6\\nSkipping line 5176: expected 4 fields, saw 6\\nSkipping line 5177: expected 4 fields, saw 6\\nSkipping line 5178: expected 4 fields, saw 6\\nSkipping line 5179: expected 4 fields, saw 6\\nSkipping line 5180: expected 4 fields, saw 6\\nSkipping line 5181: expected 4 fields, saw 6\\nSkipping line 5182: expected 4 fields, saw 6\\nSkipping line 5183: expected 4 fields, saw 6\\nSkipping line 5184: expected 4 fields, saw 6\\nSkipping line 5185: expected 4 fields, saw 6\\nSkipping line 5186: expected 4 fields, saw 6\\nSkipping line 5187: expected 4 fields, saw 6\\nSkipping line 5188: expected 4 fields, saw 6\\nSkipping line 5189: expected 4 fields, saw 6\\nSkipping line 5190: expected 4 fields, saw 6\\nSkipping line 5191: expected 4 fields, saw 6\\nSkipping line 5192: expected 4 fields, saw 6\\nSkipping line 5193: expected 4 fields, saw 6\\nSkipping line 5194: expected 4 fields, saw 6\\nSkipping line 5195: expected 4 fields, saw 6\\nSkipping line 5196: expected 4 fields, saw 6\\nSkipping line 5197: expected 4 fields, saw 6\\nSkipping line 5198: expected 4 fields, saw 6\\nSkipping line 5199: expected 4 fields, saw 6\\nSkipping line 5200: expected 4 fields, saw 6\\nSkipping line 5201: expected 4 fields, saw 6\\nSkipping line 5202: expected 4 fields, saw 6\\nSkipping line 5203: expected 4 fields, saw 6\\nSkipping line 5204: expected 4 fields, saw 6\\nSkipping line 5205: expected 4 fields, saw 6\\nSkipping line 5206: expected 4 fields, saw 6\\nSkipping line 5207: expected 4 fields, saw 6\\nSkipping line 5208: expected 4 fields, saw 6\\nSkipping line 5209: expected 4 fields, saw 6\\nSkipping line 5210: expected 4 fields, saw 6\\nSkipping line 5211: expected 4 fields, saw 6\\nSkipping line 5212: expected 4 fields, saw 6\\nSkipping line 5213: expected 4 fields, saw 6\\nSkipping line 5214: expected 4 fields, saw 6\\nSkipping line 5215: expected 4 fields, saw 6\\nSkipping line 5216: expected 4 fields, saw 6\\nSkipping line 5217: expected 4 fields, saw 6\\nSkipping line 5218: expected 4 fields, saw 6\\nSkipping line 5219: expected 4 fields, saw 6\\nSkipping line 5220: expected 4 fields, saw 6\\nSkipping line 5221: expected 4 fields, saw 6\\nSkipping line 5222: expected 4 fields, saw 6\\nSkipping line 5223: expected 4 fields, saw 6\\nSkipping line 5224: expected 4 fields, saw 6\\nSkipping line 5225: expected 4 fields, saw 6\\nSkipping line 5226: expected 4 fields, saw 6\\nSkipping line 5227: expected 4 fields, saw 6\\nSkipping line 5228: expected 4 fields, saw 6\\nSkipping line 5229: expected 4 fields, saw 6\\nSkipping line 5230: expected 4 fields, saw 6\\nSkipping line 5231: expected 4 fields, saw 6\\nSkipping line 5232: expected 4 fields, saw 6\\nSkipping line 5233: expected 4 fields, saw 6\\nSkipping line 5234: expected 4 fields, saw 6\\nSkipping line 5235: expected 4 fields, saw 6\\nSkipping line 5236: expected 4 fields, saw 6\\nSkipping line 5237: expected 4 fields, saw 6\\nSkipping line 5238: expected 4 fields, saw 6\\nSkipping line 5239: expected 4 fields, saw 6\\nSkipping line 5240: expected 4 fields, saw 6\\nSkipping line 5241: expected 4 fields, saw 6\\nSkipping line 5242: expected 4 fields, saw 6\\nSkipping line 5243: expected 4 fields, saw 6\\nSkipping line 5244: expected 4 fields, saw 6\\nSkipping line 5245: expected 4 fields, saw 6\\nSkipping line 5246: expected 4 fields, saw 6\\nSkipping line 5247: expected 4 fields, saw 6\\nSkipping line 5248: expected 4 fields, saw 6\\nSkipping line 5249: expected 4 fields, saw 6\\nSkipping line 5250: expected 4 fields, saw 6\\nSkipping line 5251: expected 4 fields, saw 6\\nSkipping line 5252: expected 4 fields, saw 6\\nSkipping line 5253: expected 4 fields, saw 6\\nSkipping line 5254: expected 4 fields, saw 6\\nSkipping line 5255: expected 4 fields, saw 6\\nSkipping line 5256: expected 4 fields, saw 6\\nSkipping line 5257: expected 4 fields, saw 6\\nSkipping line 5258: expected 4 fields, saw 6\\nSkipping line 5259: expected 4 fields, saw 6\\nSkipping line 5260: expected 4 fields, saw 6\\nSkipping line 5261: expected 4 fields, saw 6\\nSkipping line 5262: expected 4 fields, saw 6\\nSkipping line 5263: expected 4 fields, saw 6\\nSkipping line 5264: expected 4 fields, saw 6\\nSkipping line 5265: expected 4 fields, saw 6\\nSkipping line 5266: expected 4 fields, saw 6\\nSkipping line 5267: expected 4 fields, saw 6\\nSkipping line 5268: expected 4 fields, saw 6\\nSkipping line 5269: expected 4 fields, saw 6\\nSkipping line 5270: expected 4 fields, saw 6\\nSkipping line 5271: expected 4 fields, saw 6\\nSkipping line 5272: expected 4 fields, saw 6\\nSkipping line 5273: expected 4 fields, saw 6\\nSkipping line 5274: expected 4 fields, saw 6\\nSkipping line 5275: expected 4 fields, saw 6\\nSkipping line 5276: expected 4 fields, saw 6\\nSkipping line 5277: expected 4 fields, saw 6\\nSkipping line 5278: expected 4 fields, saw 6\\nSkipping line 5279: expected 4 fields, saw 6\\nSkipping line 5280: expected 4 fields, saw 6\\nSkipping line 5281: expected 4 fields, saw 6\\nSkipping line 5282: expected 4 fields, saw 6\\nSkipping line 5283: expected 4 fields, saw 6\\nSkipping line 5284: expected 4 fields, saw 6\\nSkipping line 5285: expected 4 fields, saw 6\\nSkipping line 5286: expected 4 fields, saw 6\\nSkipping line 5287: expected 4 fields, saw 6\\nSkipping line 5288: expected 4 fields, saw 6\\nSkipping line 5289: expected 4 fields, saw 6\\nSkipping line 5290: expected 4 fields, saw 6\\nSkipping line 5291: expected 4 fields, saw 6\\nSkipping line 5292: expected 4 fields, saw 6\\nSkipping line 5293: expected 4 fields, saw 6\\nSkipping line 5294: expected 4 fields, saw 6\\nSkipping line 5295: expected 4 fields, saw 6\\nSkipping line 5296: expected 4 fields, saw 6\\nSkipping line 5297: expected 4 fields, saw 6\\nSkipping line 5298: expected 4 fields, saw 6\\nSkipping line 5299: expected 4 fields, saw 6\\nSkipping line 5300: expected 4 fields, saw 6\\nSkipping line 5301: expected 4 fields, saw 6\\nSkipping line 5302: expected 4 fields, saw 6\\nSkipping line 5303: expected 4 fields, saw 6\\nSkipping line 5304: expected 4 fields, saw 6\\nSkipping line 5305: expected 4 fields, saw 6\\nSkipping line 5306: expected 4 fields, saw 6\\nSkipping line 5307: expected 4 fields, saw 6\\nSkipping line 5308: expected 4 fields, saw 6\\nSkipping line 5309: expected 4 fields, saw 6\\nSkipping line 5310: expected 4 fields, saw 6\\nSkipping line 5311: expected 4 fields, saw 6\\nSkipping line 5312: expected 4 fields, saw 6\\nSkipping line 5313: expected 4 fields, saw 6\\nSkipping line 5314: expected 4 fields, saw 6\\nSkipping line 5315: expected 4 fields, saw 6\\nSkipping line 5316: expected 4 fields, saw 6\\nSkipping line 5317: expected 4 fields, saw 6\\nSkipping line 5318: expected 4 fields, saw 6\\nSkipping line 5319: expected 4 fields, saw 6\\nSkipping line 5320: expected 4 fields, saw 6\\nSkipping line 5321: expected 4 fields, saw 6\\nSkipping line 5322: expected 4 fields, saw 6\\nSkipping line 5323: expected 4 fields, saw 6\\nSkipping line 5324: expected 4 fields, saw 6\\nSkipping line 5325: expected 4 fields, saw 6\\nSkipping line 5326: expected 4 fields, saw 6\\nSkipping line 5327: expected 4 fields, saw 6\\nSkipping line 5328: expected 4 fields, saw 6\\nSkipping line 5329: expected 4 fields, saw 6\\nSkipping line 5330: expected 4 fields, saw 6\\nSkipping line 5331: expected 4 fields, saw 6\\nSkipping line 5332: expected 4 fields, saw 6\\nSkipping line 5333: expected 4 fields, saw 6\\nSkipping line 5334: expected 4 fields, saw 6\\nSkipping line 5335: expected 4 fields, saw 6\\nSkipping line 5336: expected 4 fields, saw 6\\nSkipping line 5337: expected 4 fields, saw 6\\nSkipping line 5338: expected 4 fields, saw 6\\nSkipping line 5339: expected 4 fields, saw 6\\nSkipping line 5340: expected 4 fields, saw 6\\nSkipping line 5341: expected 4 fields, saw 6\\nSkipping line 5342: expected 4 fields, saw 6\\nSkipping line 5343: expected 4 fields, saw 6\\nSkipping line 5344: expected 4 fields, saw 6\\nSkipping line 5345: expected 4 fields, saw 6\\nSkipping line 5346: expected 4 fields, saw 6\\nSkipping line 5347: expected 4 fields, saw 6\\nSkipping line 5348: expected 4 fields, saw 6\\nSkipping line 5349: expected 4 fields, saw 6\\nSkipping line 5350: expected 4 fields, saw 6\\nSkipping line 5351: expected 4 fields, saw 6\\nSkipping line 5352: expected 4 fields, saw 6\\nSkipping line 5353: expected 4 fields, saw 6\\nSkipping line 5354: expected 4 fields, saw 6\\nSkipping line 5355: expected 4 fields, saw 6\\nSkipping line 5356: expected 4 fields, saw 6\\nSkipping line 5357: expected 4 fields, saw 6\\nSkipping line 5358: expected 4 fields, saw 6\\nSkipping line 5359: expected 4 fields, saw 6\\nSkipping line 5360: expected 4 fields, saw 6\\nSkipping line 5361: expected 4 fields, saw 6\\nSkipping line 5362: expected 4 fields, saw 6\\nSkipping line 5363: expected 4 fields, saw 6\\nSkipping line 5364: expected 4 fields, saw 6\\nSkipping line 5365: expected 4 fields, saw 6\\nSkipping line 5366: expected 4 fields, saw 6\\nSkipping line 5367: expected 4 fields, saw 6\\nSkipping line 5368: expected 4 fields, saw 6\\nSkipping line 5369: expected 4 fields, saw 6\\nSkipping line 5370: expected 4 fields, saw 6\\nSkipping line 5371: expected 4 fields, saw 6\\nSkipping line 5372: expected 4 fields, saw 6\\nSkipping line 5373: expected 4 fields, saw 6\\nSkipping line 5374: expected 4 fields, saw 6\\nSkipping line 5375: expected 4 fields, saw 6\\nSkipping line 5376: expected 4 fields, saw 6\\nSkipping line 5377: expected 4 fields, saw 6\\nSkipping line 5378: expected 4 fields, saw 6\\nSkipping line 5379: expected 4 fields, saw 6\\nSkipping line 5380: expected 4 fields, saw 6\\nSkipping line 5381: expected 4 fields, saw 6\\nSkipping line 5382: expected 4 fields, saw 6\\nSkipping line 5383: expected 4 fields, saw 6\\nSkipping line 5384: expected 4 fields, saw 6\\nSkipping line 5385: expected 4 fields, saw 6\\nSkipping line 5386: expected 4 fields, saw 6\\nSkipping line 5387: expected 4 fields, saw 6\\nSkipping line 5388: expected 4 fields, saw 6\\nSkipping line 5389: expected 4 fields, saw 6\\nSkipping line 5390: expected 4 fields, saw 6\\nSkipping line 5391: expected 4 fields, saw 6\\nSkipping line 5392: expected 4 fields, saw 6\\nSkipping line 5393: expected 4 fields, saw 6\\nSkipping line 5394: expected 4 fields, saw 6\\nSkipping line 5395: expected 4 fields, saw 6\\nSkipping line 5396: expected 4 fields, saw 6\\nSkipping line 5397: expected 4 fields, saw 6\\nSkipping line 5398: expected 4 fields, saw 6\\nSkipping line 5399: expected 4 fields, saw 6\\nSkipping line 5400: expected 4 fields, saw 6\\nSkipping line 5401: expected 4 fields, saw 6\\nSkipping line 5402: expected 4 fields, saw 6\\nSkipping line 5403: expected 4 fields, saw 6\\nSkipping line 5404: expected 4 fields, saw 6\\nSkipping line 5405: expected 4 fields, saw 6\\nSkipping line 5406: expected 4 fields, saw 6\\nSkipping line 5407: expected 4 fields, saw 6\\nSkipping line 5408: expected 4 fields, saw 6\\nSkipping line 5409: expected 4 fields, saw 6\\nSkipping line 5410: expected 4 fields, saw 6\\nSkipping line 5411: expected 4 fields, saw 6\\nSkipping line 5412: expected 4 fields, saw 6\\nSkipping line 5413: expected 4 fields, saw 6\\nSkipping line 5414: expected 4 fields, saw 6\\nSkipping line 5415: expected 4 fields, saw 6\\nSkipping line 5416: expected 4 fields, saw 6\\nSkipping line 5417: expected 4 fields, saw 6\\nSkipping line 5418: expected 4 fields, saw 6\\nSkipping line 5419: expected 4 fields, saw 6\\nSkipping line 5420: expected 4 fields, saw 6\\nSkipping line 5421: expected 4 fields, saw 6\\nSkipping line 5422: expected 4 fields, saw 6\\nSkipping line 5423: expected 4 fields, saw 6\\nSkipping line 5424: expected 4 fields, saw 6\\nSkipping line 5425: expected 4 fields, saw 6\\nSkipping line 5426: expected 4 fields, saw 6\\nSkipping line 5427: expected 4 fields, saw 6\\nSkipping line 5428: expected 4 fields, saw 6\\nSkipping line 5429: expected 4 fields, saw 6\\nSkipping line 5430: expected 4 fields, saw 6\\nSkipping line 5431: expected 4 fields, saw 6\\nSkipping line 5432: expected 4 fields, saw 6\\nSkipping line 5433: expected 4 fields, saw 6\\nSkipping line 5434: expected 4 fields, saw 6\\nSkipping line 5435: expected 4 fields, saw 6\\nSkipping line 5436: expected 4 fields, saw 6\\nSkipping line 5437: expected 4 fields, saw 6\\nSkipping line 5438: expected 4 fields, saw 6\\nSkipping line 5439: expected 4 fields, saw 6\\nSkipping line 5440: expected 4 fields, saw 6\\nSkipping line 5441: expected 4 fields, saw 6\\nSkipping line 5442: expected 4 fields, saw 6\\nSkipping line 5443: expected 4 fields, saw 6\\nSkipping line 5444: expected 4 fields, saw 6\\nSkipping line 5445: expected 4 fields, saw 6\\nSkipping line 5446: expected 4 fields, saw 6\\nSkipping line 5447: expected 4 fields, saw 6\\nSkipping line 5448: expected 4 fields, saw 6\\nSkipping line 5449: expected 4 fields, saw 6\\nSkipping line 5450: expected 4 fields, saw 6\\nSkipping line 5451: expected 4 fields, saw 6\\nSkipping line 5452: expected 4 fields, saw 6\\nSkipping line 5453: expected 4 fields, saw 6\\nSkipping line 5454: expected 4 fields, saw 6\\nSkipping line 5455: expected 4 fields, saw 6\\nSkipping line 5456: expected 4 fields, saw 6\\nSkipping line 5457: expected 4 fields, saw 6\\nSkipping line 5458: expected 4 fields, saw 6\\nSkipping line 5459: expected 4 fields, saw 6\\nSkipping line 5460: expected 4 fields, saw 6\\nSkipping line 5461: expected 4 fields, saw 6\\nSkipping line 5462: expected 4 fields, saw 6\\nSkipping line 5463: expected 4 fields, saw 6\\nSkipping line 5464: expected 4 fields, saw 6\\nSkipping line 5465: expected 4 fields, saw 6\\nSkipping line 5466: expected 4 fields, saw 6\\nSkipping line 5467: expected 4 fields, saw 6\\nSkipping line 5468: expected 4 fields, saw 6\\nSkipping line 5469: expected 4 fields, saw 6\\nSkipping line 5470: expected 4 fields, saw 6\\nSkipping line 5471: expected 4 fields, saw 6\\nSkipping line 5472: expected 4 fields, saw 6\\nSkipping line 5473: expected 4 fields, saw 6\\nSkipping line 5474: expected 4 fields, saw 6\\nSkipping line 5475: expected 4 fields, saw 6\\nSkipping line 5476: expected 4 fields, saw 6\\nSkipping line 5477: expected 4 fields, saw 6\\nSkipping line 5478: expected 4 fields, saw 6\\nSkipping line 5479: expected 4 fields, saw 6\\nSkipping line 5480: expected 4 fields, saw 6\\nSkipping line 5481: expected 4 fields, saw 6\\nSkipping line 5482: expected 4 fields, saw 6\\nSkipping line 5483: expected 4 fields, saw 6\\nSkipping line 5484: expected 4 fields, saw 6\\nSkipping line 5485: expected 4 fields, saw 6\\nSkipping line 5486: expected 4 fields, saw 6\\nSkipping line 5487: expected 4 fields, saw 6\\nSkipping line 5488: expected 4 fields, saw 6\\nSkipping line 5489: expected 4 fields, saw 6\\nSkipping line 5490: expected 4 fields, saw 6\\nSkipping line 5491: expected 4 fields, saw 6\\nSkipping line 5492: expected 4 fields, saw 6\\nSkipping line 5493: expected 4 fields, saw 6\\nSkipping line 5494: expected 4 fields, saw 6\\nSkipping line 5495: expected 4 fields, saw 6\\nSkipping line 5496: expected 4 fields, saw 6\\nSkipping line 5497: expected 4 fields, saw 6\\nSkipping line 5498: expected 4 fields, saw 6\\nSkipping line 5499: expected 4 fields, saw 6\\nSkipping line 5500: expected 4 fields, saw 6\\nSkipping line 5501: expected 4 fields, saw 6\\nSkipping line 5502: expected 4 fields, saw 6\\nSkipping line 5503: expected 4 fields, saw 6\\nSkipping line 5504: expected 4 fields, saw 6\\nSkipping line 5505: expected 4 fields, saw 6\\nSkipping line 5506: expected 4 fields, saw 6\\nSkipping line 5507: expected 4 fields, saw 6\\nSkipping line 5508: expected 4 fields, saw 6\\nSkipping line 5509: expected 4 fields, saw 6\\nSkipping line 5510: expected 4 fields, saw 6\\nSkipping line 5511: expected 4 fields, saw 6\\nSkipping line 5512: expected 4 fields, saw 6\\nSkipping line 5513: expected 4 fields, saw 6\\nSkipping line 5514: expected 4 fields, saw 6\\nSkipping line 5515: expected 4 fields, saw 6\\nSkipping line 5516: expected 4 fields, saw 6\\nSkipping line 5517: expected 4 fields, saw 6\\nSkipping line 5518: expected 4 fields, saw 6\\nSkipping line 5519: expected 4 fields, saw 6\\nSkipping line 5520: expected 4 fields, saw 6\\nSkipping line 5521: expected 4 fields, saw 6\\nSkipping line 5522: expected 4 fields, saw 6\\nSkipping line 5523: expected 4 fields, saw 6\\nSkipping line 5524: expected 4 fields, saw 6\\nSkipping line 5525: expected 4 fields, saw 6\\nSkipping line 5526: expected 4 fields, saw 6\\nSkipping line 5527: expected 4 fields, saw 6\\nSkipping line 5528: expected 4 fields, saw 6\\nSkipping line 5529: expected 4 fields, saw 6\\nSkipping line 5530: expected 4 fields, saw 6\\nSkipping line 5531: expected 4 fields, saw 6\\nSkipping line 5532: expected 4 fields, saw 6\\nSkipping line 5533: expected 4 fields, saw 6\\nSkipping line 5534: expected 4 fields, saw 6\\nSkipping line 5535: expected 4 fields, saw 6\\nSkipping line 5536: expected 4 fields, saw 6\\nSkipping line 5537: expected 4 fields, saw 6\\nSkipping line 5538: expected 4 fields, saw 6\\nSkipping line 5539: expected 4 fields, saw 6\\nSkipping line 5540: expected 4 fields, saw 6\\nSkipping line 5541: expected 4 fields, saw 6\\nSkipping line 5542: expected 4 fields, saw 6\\nSkipping line 5543: expected 4 fields, saw 6\\nSkipping line 5544: expected 4 fields, saw 6\\nSkipping line 5545: expected 4 fields, saw 6\\nSkipping line 5546: expected 4 fields, saw 6\\nSkipping line 5547: expected 4 fields, saw 6\\nSkipping line 5548: expected 4 fields, saw 6\\nSkipping line 5549: expected 4 fields, saw 6\\nSkipping line 5550: expected 4 fields, saw 6\\nSkipping line 5551: expected 4 fields, saw 6\\nSkipping line 5552: expected 4 fields, saw 6\\nSkipping line 5553: expected 4 fields, saw 6\\nSkipping line 5554: expected 4 fields, saw 6\\nSkipping line 5555: expected 4 fields, saw 6\\nSkipping line 5556: expected 4 fields, saw 6\\nSkipping line 5557: expected 4 fields, saw 6\\nSkipping line 5558: expected 4 fields, saw 6\\nSkipping line 5559: expected 4 fields, saw 6\\nSkipping line 5560: expected 4 fields, saw 6\\nSkipping line 5561: expected 4 fields, saw 6\\nSkipping line 5562: expected 4 fields, saw 6\\nSkipping line 5563: expected 4 fields, saw 6\\nSkipping line 5564: expected 4 fields, saw 6\\nSkipping line 5565: expected 4 fields, saw 6\\nSkipping line 5566: expected 4 fields, saw 6\\nSkipping line 5567: expected 4 fields, saw 6\\nSkipping line 5568: expected 4 fields, saw 6\\nSkipping line 5569: expected 4 fields, saw 6\\nSkipping line 5570: expected 4 fields, saw 6\\nSkipping line 5571: expected 4 fields, saw 6\\nSkipping line 5572: expected 4 fields, saw 6\\nSkipping line 5573: expected 4 fields, saw 6\\nSkipping line 5574: expected 4 fields, saw 6\\nSkipping line 5575: expected 4 fields, saw 6\\nSkipping line 5576: expected 4 fields, saw 6\\nSkipping line 5577: expected 4 fields, saw 6\\nSkipping line 5578: expected 4 fields, saw 6\\nSkipping line 5579: expected 4 fields, saw 6\\nSkipping line 5580: expected 4 fields, saw 6\\nSkipping line 5581: expected 4 fields, saw 6\\nSkipping line 5582: expected 4 fields, saw 6\\nSkipping line 5583: expected 4 fields, saw 6\\nSkipping line 5584: expected 4 fields, saw 6\\nSkipping line 5585: expected 4 fields, saw 6\\nSkipping line 5586: expected 4 fields, saw 6\\nSkipping line 5587: expected 4 fields, saw 6\\nSkipping line 5588: expected 4 fields, saw 6\\nSkipping line 5589: expected 4 fields, saw 6\\nSkipping line 5590: expected 4 fields, saw 6\\nSkipping line 5591: expected 4 fields, saw 6\\nSkipping line 5592: expected 4 fields, saw 6\\nSkipping line 5593: expected 4 fields, saw 6\\nSkipping line 5594: expected 4 fields, saw 6\\nSkipping line 5595: expected 4 fields, saw 6\\nSkipping line 5596: expected 4 fields, saw 6\\nSkipping line 5597: expected 4 fields, saw 6\\nSkipping line 5598: expected 4 fields, saw 6\\nSkipping line 5599: expected 4 fields, saw 6\\nSkipping line 5600: expected 4 fields, saw 6\\nSkipping line 5601: expected 4 fields, saw 6\\nSkipping line 5602: expected 4 fields, saw 6\\nSkipping line 5603: expected 4 fields, saw 6\\nSkipping line 5604: expected 4 fields, saw 6\\nSkipping line 5605: expected 4 fields, saw 6\\nSkipping line 5606: expected 4 fields, saw 6\\nSkipping line 5607: expected 4 fields, saw 6\\nSkipping line 5608: expected 4 fields, saw 6\\nSkipping line 5609: expected 4 fields, saw 6\\nSkipping line 5610: expected 4 fields, saw 6\\nSkipping line 5611: expected 4 fields, saw 6\\nSkipping line 5612: expected 4 fields, saw 6\\nSkipping line 5613: expected 4 fields, saw 6\\nSkipping line 5614: expected 4 fields, saw 6\\nSkipping line 5615: expected 4 fields, saw 6\\nSkipping line 5616: expected 4 fields, saw 6\\nSkipping line 5617: expected 4 fields, saw 6\\nSkipping line 5618: expected 4 fields, saw 6\\nSkipping line 5619: expected 4 fields, saw 6\\nSkipping line 5620: expected 4 fields, saw 6\\nSkipping line 5621: expected 4 fields, saw 6\\nSkipping line 5622: expected 4 fields, saw 6\\nSkipping line 5623: expected 4 fields, saw 6\\nSkipping line 5624: expected 4 fields, saw 6\\nSkipping line 5625: expected 4 fields, saw 6\\nSkipping line 5626: expected 4 fields, saw 6\\nSkipping line 5627: expected 4 fields, saw 6\\nSkipping line 5628: expected 4 fields, saw 6\\nSkipping line 5629: expected 4 fields, saw 6\\nSkipping line 5630: expected 4 fields, saw 6\\nSkipping line 5631: expected 4 fields, saw 6\\nSkipping line 5632: expected 4 fields, saw 6\\nSkipping line 5633: expected 4 fields, saw 6\\nSkipping line 5634: expected 4 fields, saw 6\\nSkipping line 5635: expected 4 fields, saw 6\\nSkipping line 5636: expected 4 fields, saw 6\\nSkipping line 5637: expected 4 fields, saw 6\\nSkipping line 5638: expected 4 fields, saw 6\\nSkipping line 5639: expected 4 fields, saw 6\\nSkipping line 5640: expected 4 fields, saw 6\\nSkipping line 5641: expected 4 fields, saw 6\\nSkipping line 5642: expected 4 fields, saw 6\\nSkipping line 5643: expected 4 fields, saw 6\\nSkipping line 5644: expected 4 fields, saw 6\\nSkipping line 5645: expected 4 fields, saw 6\\nSkipping line 5646: expected 4 fields, saw 6\\nSkipping line 5647: expected 4 fields, saw 6\\nSkipping line 5648: expected 4 fields, saw 6\\nSkipping line 5649: expected 4 fields, saw 6\\nSkipping line 5650: expected 4 fields, saw 6\\nSkipping line 5651: expected 4 fields, saw 6\\nSkipping line 5652: expected 4 fields, saw 6\\nSkipping line 5653: expected 4 fields, saw 6\\nSkipping line 5654: expected 4 fields, saw 6\\nSkipping line 5655: expected 4 fields, saw 6\\nSkipping line 5656: expected 4 fields, saw 6\\nSkipping line 5657: expected 4 fields, saw 6\\nSkipping line 5658: expected 4 fields, saw 6\\nSkipping line 5659: expected 4 fields, saw 6\\nSkipping line 5660: expected 4 fields, saw 6\\nSkipping line 5661: expected 4 fields, saw 6\\nSkipping line 5662: expected 4 fields, saw 6\\nSkipping line 5663: expected 4 fields, saw 6\\nSkipping line 5664: expected 4 fields, saw 6\\nSkipping line 5665: expected 4 fields, saw 6\\nSkipping line 5666: expected 4 fields, saw 6\\nSkipping line 5667: expected 4 fields, saw 6\\nSkipping line 5668: expected 4 fields, saw 6\\nSkipping line 5669: expected 4 fields, saw 6\\nSkipping line 5670: expected 4 fields, saw 6\\nSkipping line 5671: expected 4 fields, saw 6\\nSkipping line 5672: expected 4 fields, saw 6\\nSkipping line 5673: expected 4 fields, saw 6\\nSkipping line 5674: expected 4 fields, saw 6\\nSkipping line 5675: expected 4 fields, saw 6\\nSkipping line 5676: expected 4 fields, saw 6\\nSkipping line 5677: expected 4 fields, saw 6\\nSkipping line 5678: expected 4 fields, saw 6\\nSkipping line 5679: expected 4 fields, saw 6\\nSkipping line 5680: expected 4 fields, saw 6\\nSkipping line 5681: expected 4 fields, saw 6\\nSkipping line 5682: expected 4 fields, saw 6\\nSkipping line 5683: expected 4 fields, saw 6\\nSkipping line 5684: expected 4 fields, saw 6\\nSkipping line 5685: expected 4 fields, saw 6\\nSkipping line 5686: expected 4 fields, saw 6\\nSkipping line 5687: expected 4 fields, saw 6\\nSkipping line 5688: expected 4 fields, saw 6\\nSkipping line 5689: expected 4 fields, saw 6\\nSkipping line 5690: expected 4 fields, saw 6\\nSkipping line 5691: expected 4 fields, saw 6\\nSkipping line 5692: expected 4 fields, saw 6\\nSkipping line 5693: expected 4 fields, saw 6\\nSkipping line 5694: expected 4 fields, saw 6\\nSkipping line 5695: expected 4 fields, saw 6\\nSkipping line 5696: expected 4 fields, saw 6\\nSkipping line 5697: expected 4 fields, saw 6\\nSkipping line 5698: expected 4 fields, saw 6\\nSkipping line 5699: expected 4 fields, saw 6\\nSkipping line 5700: expected 4 fields, saw 6\\nSkipping line 5701: expected 4 fields, saw 6\\nSkipping line 5702: expected 4 fields, saw 6\\nSkipping line 5703: expected 4 fields, saw 6\\nSkipping line 5704: expected 4 fields, saw 6\\nSkipping line 5705: expected 4 fields, saw 6\\nSkipping line 5706: expected 4 fields, saw 6\\nSkipping line 5707: expected 4 fields, saw 6\\nSkipping line 5708: expected 4 fields, saw 6\\nSkipping line 5709: expected 4 fields, saw 6\\nSkipping line 5710: expected 4 fields, saw 6\\nSkipping line 5711: expected 4 fields, saw 6\\nSkipping line 5712: expected 4 fields, saw 6\\nSkipping line 5713: expected 4 fields, saw 6\\nSkipping line 5714: expected 4 fields, saw 6\\nSkipping line 5715: expected 4 fields, saw 6\\nSkipping line 5716: expected 4 fields, saw 6\\nSkipping line 5717: expected 4 fields, saw 6\\nSkipping line 5718: expected 4 fields, saw 6\\nSkipping line 5719: expected 4 fields, saw 6\\nSkipping line 5720: expected 4 fields, saw 6\\nSkipping line 5721: expected 4 fields, saw 6\\nSkipping line 5722: expected 4 fields, saw 6\\nSkipping line 5723: expected 4 fields, saw 6\\nSkipping line 5724: expected 4 fields, saw 6\\nSkipping line 5725: expected 4 fields, saw 6\\nSkipping line 5726: expected 4 fields, saw 6\\nSkipping line 5727: expected 4 fields, saw 6\\nSkipping line 5728: expected 4 fields, saw 6\\nSkipping line 5729: expected 4 fields, saw 6\\nSkipping line 5730: expected 4 fields, saw 6\\nSkipping line 5731: expected 4 fields, saw 6\\nSkipping line 5732: expected 4 fields, saw 6\\nSkipping line 5733: expected 4 fields, saw 6\\nSkipping line 5734: expected 4 fields, saw 6\\nSkipping line 5735: expected 4 fields, saw 6\\nSkipping line 5736: expected 4 fields, saw 6\\nSkipping line 5737: expected 4 fields, saw 6\\nSkipping line 5738: expected 4 fields, saw 6\\nSkipping line 5739: expected 4 fields, saw 6\\nSkipping line 5740: expected 4 fields, saw 6\\nSkipping line 5741: expected 4 fields, saw 6\\nSkipping line 5742: expected 4 fields, saw 6\\nSkipping line 5743: expected 4 fields, saw 6\\nSkipping line 5744: expected 4 fields, saw 6\\nSkipping line 5745: expected 4 fields, saw 6\\nSkipping line 5746: expected 4 fields, saw 6\\nSkipping line 5747: expected 4 fields, saw 6\\nSkipping line 5748: expected 4 fields, saw 6\\nSkipping line 5749: expected 4 fields, saw 6\\nSkipping line 5750: expected 4 fields, saw 6\\nSkipping line 5751: expected 4 fields, saw 6\\nSkipping line 5752: expected 4 fields, saw 6\\nSkipping line 5753: expected 4 fields, saw 6\\nSkipping line 5754: expected 4 fields, saw 6\\nSkipping line 5755: expected 4 fields, saw 6\\nSkipping line 5756: expected 4 fields, saw 6\\nSkipping line 5757: expected 4 fields, saw 6\\nSkipping line 5758: expected 4 fields, saw 6\\nSkipping line 5759: expected 4 fields, saw 6\\nSkipping line 5760: expected 4 fields, saw 6\\nSkipping line 5761: expected 4 fields, saw 6\\nSkipping line 5762: expected 4 fields, saw 6\\nSkipping line 5763: expected 4 fields, saw 6\\nSkipping line 5764: expected 4 fields, saw 6\\nSkipping line 5765: expected 4 fields, saw 6\\nSkipping line 5766: expected 4 fields, saw 6\\nSkipping line 5767: expected 4 fields, saw 6\\nSkipping line 5768: expected 4 fields, saw 6\\nSkipping line 5769: expected 4 fields, saw 6\\nSkipping line 5770: expected 4 fields, saw 6\\nSkipping line 5771: expected 4 fields, saw 6\\nSkipping line 5772: expected 4 fields, saw 6\\nSkipping line 5773: expected 4 fields, saw 6\\nSkipping line 5774: expected 4 fields, saw 6\\nSkipping line 5775: expected 4 fields, saw 6\\nSkipping line 5776: expected 4 fields, saw 6\\nSkipping line 5777: expected 4 fields, saw 6\\nSkipping line 5778: expected 4 fields, saw 6\\nSkipping line 5779: expected 4 fields, saw 6\\nSkipping line 5780: expected 4 fields, saw 6\\nSkipping line 5781: expected 4 fields, saw 6\\nSkipping line 5782: expected 4 fields, saw 6\\nSkipping line 5783: expected 4 fields, saw 6\\nSkipping line 5784: expected 4 fields, saw 6\\nSkipping line 5785: expected 4 fields, saw 6\\nSkipping line 5786: expected 4 fields, saw 6\\nSkipping line 5787: expected 4 fields, saw 6\\nSkipping line 5788: expected 4 fields, saw 6\\nSkipping line 5789: expected 4 fields, saw 6\\nSkipping line 5790: expected 4 fields, saw 6\\nSkipping line 5791: expected 4 fields, saw 6\\nSkipping line 5792: expected 4 fields, saw 6\\nSkipping line 5793: expected 4 fields, saw 6\\nSkipping line 5794: expected 4 fields, saw 6\\nSkipping line 5795: expected 4 fields, saw 6\\nSkipping line 5796: expected 4 fields, saw 6\\nSkipping line 5797: expected 4 fields, saw 6\\nSkipping line 5798: expected 4 fields, saw 6\\nSkipping line 5799: expected 4 fields, saw 6\\nSkipping line 5800: expected 4 fields, saw 6\\nSkipping line 5801: expected 4 fields, saw 6\\nSkipping line 5802: expected 4 fields, saw 6\\nSkipping line 5803: expected 4 fields, saw 6\\nSkipping line 5804: expected 4 fields, saw 6\\nSkipping line 5805: expected 4 fields, saw 6\\nSkipping line 5806: expected 4 fields, saw 6\\nSkipping line 5807: expected 4 fields, saw 6\\nSkipping line 5808: expected 4 fields, saw 6\\nSkipping line 5809: expected 4 fields, saw 6\\nSkipping line 5810: expected 4 fields, saw 6\\nSkipping line 5811: expected 4 fields, saw 6\\nSkipping line 5812: expected 4 fields, saw 6\\nSkipping line 5813: expected 4 fields, saw 6\\nSkipping line 5814: expected 4 fields, saw 6\\nSkipping line 5815: expected 4 fields, saw 6\\nSkipping line 5816: expected 4 fields, saw 6\\nSkipping line 5817: expected 4 fields, saw 6\\nSkipping line 5818: expected 4 fields, saw 6\\nSkipping line 5819: expected 4 fields, saw 6\\nSkipping line 5820: expected 4 fields, saw 6\\nSkipping line 5821: expected 4 fields, saw 6\\nSkipping line 5822: expected 4 fields, saw 6\\nSkipping line 5823: expected 4 fields, saw 6\\nSkipping line 5824: expected 4 fields, saw 6\\nSkipping line 5825: expected 4 fields, saw 6\\nSkipping line 5826: expected 4 fields, saw 6\\nSkipping line 5827: expected 4 fields, saw 6\\nSkipping line 5828: expected 4 fields, saw 6\\nSkipping line 5829: expected 4 fields, saw 6\\nSkipping line 5830: expected 4 fields, saw 6\\nSkipping line 5831: expected 4 fields, saw 6\\nSkipping line 5832: expected 4 fields, saw 6\\nSkipping line 5833: expected 4 fields, saw 6\\nSkipping line 5834: expected 4 fields, saw 6\\nSkipping line 5835: expected 4 fields, saw 6\\nSkipping line 5836: expected 4 fields, saw 6\\nSkipping line 5837: expected 4 fields, saw 6\\nSkipping line 5838: expected 4 fields, saw 6\\nSkipping line 5839: expected 4 fields, saw 6\\nSkipping line 5840: expected 4 fields, saw 6\\nSkipping line 5841: expected 4 fields, saw 6\\nSkipping line 5842: expected 4 fields, saw 6\\nSkipping line 5843: expected 4 fields, saw 6\\nSkipping line 5844: expected 4 fields, saw 6\\nSkipping line 5845: expected 4 fields, saw 6\\nSkipping line 5846: expected 4 fields, saw 6\\nSkipping line 5847: expected 4 fields, saw 6\\nSkipping line 5848: expected 4 fields, saw 6\\nSkipping line 5849: expected 4 fields, saw 6\\nSkipping line 5850: expected 4 fields, saw 6\\nSkipping line 5851: expected 4 fields, saw 6\\nSkipping line 5852: expected 4 fields, saw 6\\nSkipping line 5853: expected 4 fields, saw 6\\nSkipping line 5854: expected 4 fields, saw 6\\nSkipping line 5855: expected 4 fields, saw 6\\nSkipping line 5856: expected 4 fields, saw 6\\nSkipping line 5857: expected 4 fields, saw 6\\nSkipping line 5858: expected 4 fields, saw 6\\nSkipping line 5859: expected 4 fields, saw 6\\nSkipping line 5860: expected 4 fields, saw 6\\nSkipping line 5861: expected 4 fields, saw 6\\nSkipping line 5862: expected 4 fields, saw 6\\nSkipping line 5863: expected 4 fields, saw 6\\nSkipping line 5864: expected 4 fields, saw 6\\nSkipping line 5865: expected 4 fields, saw 6\\nSkipping line 5866: expected 4 fields, saw 6\\nSkipping line 5867: expected 4 fields, saw 6\\nSkipping line 5868: expected 4 fields, saw 6\\nSkipping line 5869: expected 4 fields, saw 6\\nSkipping line 5870: expected 4 fields, saw 6\\nSkipping line 5871: expected 4 fields, saw 6\\nSkipping line 5872: expected 4 fields, saw 6\\nSkipping line 5873: expected 4 fields, saw 6\\nSkipping line 5874: expected 4 fields, saw 6\\nSkipping line 5875: expected 4 fields, saw 6\\nSkipping line 5876: expected 4 fields, saw 6\\nSkipping line 5877: expected 4 fields, saw 6\\nSkipping line 5878: expected 4 fields, saw 6\\nSkipping line 5879: expected 4 fields, saw 6\\nSkipping line 5880: expected 4 fields, saw 6\\nSkipping line 5881: expected 4 fields, saw 6\\nSkipping line 5882: expected 4 fields, saw 6\\nSkipping line 5883: expected 4 fields, saw 6\\nSkipping line 5884: expected 4 fields, saw 6\\nSkipping line 5885: expected 4 fields, saw 6\\nSkipping line 5886: expected 4 fields, saw 6\\nSkipping line 5887: expected 4 fields, saw 6\\nSkipping line 5888: expected 4 fields, saw 6\\nSkipping line 5889: expected 4 fields, saw 6\\nSkipping line 5890: expected 4 fields, saw 6\\nSkipping line 5891: expected 4 fields, saw 6\\nSkipping line 5892: expected 4 fields, saw 6\\nSkipping line 5893: expected 4 fields, saw 6\\nSkipping line 5894: expected 4 fields, saw 6\\nSkipping line 5895: expected 4 fields, saw 6\\nSkipping line 5896: expected 4 fields, saw 6\\nSkipping line 5897: expected 4 fields, saw 6\\nSkipping line 5898: expected 4 fields, saw 6\\nSkipping line 5899: expected 4 fields, saw 6\\nSkipping line 5900: expected 4 fields, saw 6\\nSkipping line 5901: expected 4 fields, saw 6\\nSkipping line 5902: expected 4 fields, saw 6\\nSkipping line 5903: expected 4 fields, saw 6\\nSkipping line 5904: expected 4 fields, saw 6\\nSkipping line 5905: expected 4 fields, saw 6\\nSkipping line 5906: expected 4 fields, saw 6\\nSkipping line 5907: expected 4 fields, saw 6\\nSkipping line 5908: expected 4 fields, saw 6\\nSkipping line 5909: expected 4 fields, saw 6\\nSkipping line 5910: expected 4 fields, saw 6\\nSkipping line 5911: expected 4 fields, saw 6\\nSkipping line 5912: expected 4 fields, saw 6\\nSkipping line 5913: expected 4 fields, saw 6\\nSkipping line 5914: expected 4 fields, saw 6\\nSkipping line 5915: expected 4 fields, saw 6\\nSkipping line 5916: expected 4 fields, saw 6\\nSkipping line 5917: expected 4 fields, saw 6\\nSkipping line 5918: expected 4 fields, saw 6\\nSkipping line 5919: expected 4 fields, saw 6\\nSkipping line 5920: expected 4 fields, saw 6\\nSkipping line 5921: expected 4 fields, saw 6\\nSkipping line 5922: expected 4 fields, saw 6\\nSkipping line 5923: expected 4 fields, saw 6\\nSkipping line 5924: expected 4 fields, saw 6\\nSkipping line 5925: expected 4 fields, saw 6\\nSkipping line 5926: expected 4 fields, saw 6\\nSkipping line 5927: expected 4 fields, saw 6\\nSkipping line 5928: expected 4 fields, saw 6\\nSkipping line 5929: expected 4 fields, saw 6\\nSkipping line 5930: expected 4 fields, saw 6\\nSkipping line 5931: expected 4 fields, saw 6\\nSkipping line 5932: expected 4 fields, saw 6\\nSkipping line 5933: expected 4 fields, saw 6\\nSkipping line 5934: expected 4 fields, saw 6\\nSkipping line 5935: expected 4 fields, saw 6\\nSkipping line 5936: expected 4 fields, saw 6\\nSkipping line 5937: expected 4 fields, saw 6\\nSkipping line 5938: expected 4 fields, saw 6\\nSkipping line 5939: expected 4 fields, saw 6\\nSkipping line 5940: expected 4 fields, saw 6\\nSkipping line 5941: expected 4 fields, saw 6\\nSkipping line 5942: expected 4 fields, saw 6\\nSkipping line 5943: expected 4 fields, saw 6\\nSkipping line 5944: expected 4 fields, saw 6\\nSkipping line 5945: expected 4 fields, saw 6\\nSkipping line 5946: expected 4 fields, saw 6\\nSkipping line 5947: expected 4 fields, saw 6\\nSkipping line 5948: expected 4 fields, saw 6\\nSkipping line 5949: expected 4 fields, saw 6\\nSkipping line 5950: expected 4 fields, saw 6\\nSkipping line 5951: expected 4 fields, saw 6\\nSkipping line 5952: expected 4 fields, saw 6\\nSkipping line 5953: expected 4 fields, saw 6\\nSkipping line 5954: expected 4 fields, saw 6\\nSkipping line 5955: expected 4 fields, saw 6\\nSkipping line 5956: expected 4 fields, saw 6\\nSkipping line 5957: expected 4 fields, saw 6\\nSkipping line 5958: expected 4 fields, saw 6\\nSkipping line 5959: expected 4 fields, saw 6\\nSkipping line 5960: expected 4 fields, saw 6\\nSkipping line 5961: expected 4 fields, saw 6\\nSkipping line 5962: expected 4 fields, saw 6\\nSkipping line 5963: expected 4 fields, saw 6\\nSkipping line 5964: expected 4 fields, saw 6\\nSkipping line 5965: expected 4 fields, saw 6\\nSkipping line 5966: expected 4 fields, saw 6\\nSkipping line 5967: expected 4 fields, saw 6\\nSkipping line 5968: expected 4 fields, saw 6\\nSkipping line 5969: expected 4 fields, saw 6\\nSkipping line 5970: expected 4 fields, saw 6\\nSkipping line 5971: expected 4 fields, saw 6\\nSkipping line 5972: expected 4 fields, saw 6\\nSkipping line 5973: expected 4 fields, saw 6\\nSkipping line 5974: expected 4 fields, saw 6\\nSkipping line 5975: expected 4 fields, saw 6\\nSkipping line 5976: expected 4 fields, saw 6\\nSkipping line 5977: expected 4 fields, saw 6\\nSkipping line 5978: expected 4 fields, saw 6\\nSkipping line 5979: expected 4 fields, saw 6\\nSkipping line 5980: expected 4 fields, saw 6\\nSkipping line 5981: expected 4 fields, saw 6\\nSkipping line 5982: expected 4 fields, saw 6\\nSkipping line 5983: expected 4 fields, saw 6\\nSkipping line 5984: expected 4 fields, saw 6\\nSkipping line 5985: expected 4 fields, saw 6\\nSkipping line 5986: expected 4 fields, saw 6\\nSkipping line 5987: expected 4 fields, saw 6\\nSkipping line 5988: expected 4 fields, saw 6\\nSkipping line 5989: expected 4 fields, saw 6\\nSkipping line 5990: expected 4 fields, saw 6\\nSkipping line 5991: expected 4 fields, saw 6\\nSkipping line 5992: expected 4 fields, saw 6\\nSkipping line 5993: expected 4 fields, saw 6\\nSkipping line 5994: expected 4 fields, saw 6\\nSkipping line 5995: expected 4 fields, saw 6\\nSkipping line 5996: expected 4 fields, saw 6\\nSkipping line 5997: expected 4 fields, saw 6\\nSkipping line 5998: expected 4 fields, saw 6\\nSkipping line 5999: expected 4 fields, saw 6\\nSkipping line 6000: expected 4 fields, saw 6\\nSkipping line 6001: expected 4 fields, saw 6\\nSkipping line 6002: expected 4 fields, saw 6\\nSkipping line 6003: expected 4 fields, saw 6\\nSkipping line 6004: expected 4 fields, saw 6\\nSkipping line 6005: expected 4 fields, saw 6\\nSkipping line 6006: expected 4 fields, saw 6\\nSkipping line 6007: expected 4 fields, saw 6\\nSkipping line 6008: expected 4 fields, saw 6\\nSkipping line 6009: expected 4 fields, saw 6\\nSkipping line 6010: expected 4 fields, saw 6\\nSkipping line 6011: expected 4 fields, saw 6\\nSkipping line 6012: expected 4 fields, saw 6\\nSkipping line 6013: expected 4 fields, saw 6\\nSkipping line 6014: expected 4 fields, saw 6\\nSkipping line 6015: expected 4 fields, saw 6\\nSkipping line 6016: expected 4 fields, saw 6\\nSkipping line 6017: expected 4 fields, saw 6\\nSkipping line 6018: expected 4 fields, saw 6\\nSkipping line 6019: expected 4 fields, saw 6\\nSkipping line 6020: expected 4 fields, saw 6\\nSkipping line 6021: expected 4 fields, saw 6\\nSkipping line 6022: expected 4 fields, saw 6\\nSkipping line 6023: expected 4 fields, saw 6\\nSkipping line 6024: expected 4 fields, saw 6\\nSkipping line 6025: expected 4 fields, saw 6\\nSkipping line 6026: expected 4 fields, saw 6\\nSkipping line 6027: expected 4 fields, saw 6\\nSkipping line 6028: expected 4 fields, saw 6\\nSkipping line 6029: expected 4 fields, saw 6\\nSkipping line 6030: expected 4 fields, saw 6\\nSkipping line 6031: expected 4 fields, saw 6\\nSkipping line 6032: expected 4 fields, saw 6\\nSkipping line 6033: expected 4 fields, saw 6\\nSkipping line 6034: expected 4 fields, saw 6\\nSkipping line 6035: expected 4 fields, saw 6\\nSkipping line 6036: expected 4 fields, saw 6\\nSkipping line 6037: expected 4 fields, saw 6\\nSkipping line 6038: expected 4 fields, saw 6\\nSkipping line 6039: expected 4 fields, saw 6\\nSkipping line 6040: expected 4 fields, saw 6\\nSkipping line 6041: expected 4 fields, saw 6\\nSkipping line 6042: expected 4 fields, saw 6\\nSkipping line 6043: expected 4 fields, saw 6\\nSkipping line 6044: expected 4 fields, saw 6\\nSkipping line 6045: expected 4 fields, saw 6\\nSkipping line 6046: expected 4 fields, saw 6\\nSkipping line 6047: expected 4 fields, saw 6\\nSkipping line 6048: expected 4 fields, saw 6\\nSkipping line 6049: expected 4 fields, saw 6\\nSkipping line 6050: expected 4 fields, saw 6\\nSkipping line 6051: expected 4 fields, saw 6\\nSkipping line 6052: expected 4 fields, saw 6\\nSkipping line 6053: expected 4 fields, saw 6\\nSkipping line 6054: expected 4 fields, saw 6\\nSkipping line 6055: expected 4 fields, saw 6\\nSkipping line 6056: expected 4 fields, saw 6\\nSkipping line 6057: expected 4 fields, saw 6\\nSkipping line 6058: expected 4 fields, saw 6\\nSkipping line 6059: expected 4 fields, saw 6\\nSkipping line 6060: expected 4 fields, saw 6\\nSkipping line 6061: expected 4 fields, saw 6\\nSkipping line 6062: expected 4 fields, saw 6\\nSkipping line 6063: expected 4 fields, saw 6\\nSkipping line 6064: expected 4 fields, saw 6\\nSkipping line 6065: expected 4 fields, saw 6\\nSkipping line 6066: expected 4 fields, saw 6\\nSkipping line 6067: expected 4 fields, saw 6\\nSkipping line 6068: expected 4 fields, saw 6\\nSkipping line 6069: expected 4 fields, saw 6\\nSkipping line 6070: expected 4 fields, saw 6\\nSkipping line 6071: expected 4 fields, saw 6\\nSkipping line 6072: expected 4 fields, saw 6\\nSkipping line 6073: expected 4 fields, saw 6\\nSkipping line 6074: expected 4 fields, saw 6\\nSkipping line 6075: expected 4 fields, saw 6\\nSkipping line 6076: expected 4 fields, saw 6\\nSkipping line 6077: expected 4 fields, saw 6\\nSkipping line 6078: expected 4 fields, saw 6\\nSkipping line 6079: expected 4 fields, saw 6\\nSkipping line 6080: expected 4 fields, saw 6\\nSkipping line 6081: expected 4 fields, saw 6\\nSkipping line 6082: expected 4 fields, saw 6\\nSkipping line 6083: expected 4 fields, saw 6\\nSkipping line 6084: expected 4 fields, saw 6\\nSkipping line 6085: expected 4 fields, saw 6\\nSkipping line 6086: expected 4 fields, saw 6\\nSkipping line 6087: expected 4 fields, saw 6\\nSkipping line 6088: expected 4 fields, saw 6\\nSkipping line 6089: expected 4 fields, saw 6\\nSkipping line 6090: expected 4 fields, saw 6\\nSkipping line 6091: expected 4 fields, saw 6\\nSkipping line 6092: expected 4 fields, saw 6\\nSkipping line 6093: expected 4 fields, saw 6\\nSkipping line 6094: expected 4 fields, saw 6\\nSkipping line 6095: expected 4 fields, saw 6\\nSkipping line 6096: expected 4 fields, saw 6\\nSkipping line 6097: expected 4 fields, saw 6\\nSkipping line 6098: expected 4 fields, saw 6\\nSkipping line 6099: expected 4 fields, saw 6\\nSkipping line 6100: expected 4 fields, saw 6\\nSkipping line 6101: expected 4 fields, saw 6\\nSkipping line 6102: expected 4 fields, saw 6\\nSkipping line 6103: expected 4 fields, saw 6\\nSkipping line 6104: expected 4 fields, saw 6\\nSkipping line 6105: expected 4 fields, saw 6\\nSkipping line 6106: expected 4 fields, saw 6\\nSkipping line 6107: expected 4 fields, saw 6\\nSkipping line 6108: expected 4 fields, saw 6\\nSkipping line 6109: expected 4 fields, saw 6\\nSkipping line 6110: expected 4 fields, saw 6\\nSkipping line 6111: expected 4 fields, saw 6\\nSkipping line 6112: expected 4 fields, saw 6\\nSkipping line 6113: expected 4 fields, saw 6\\nSkipping line 6114: expected 4 fields, saw 6\\nSkipping line 6115: expected 4 fields, saw 6\\nSkipping line 6116: expected 4 fields, saw 6\\nSkipping line 6117: expected 4 fields, saw 6\\nSkipping line 6118: expected 4 fields, saw 6\\nSkipping line 6119: expected 4 fields, saw 6\\nSkipping line 6120: expected 4 fields, saw 6\\nSkipping line 6121: expected 4 fields, saw 6\\nSkipping line 6122: expected 4 fields, saw 6\\nSkipping line 6123: expected 4 fields, saw 6\\nSkipping line 6124: expected 4 fields, saw 6\\nSkipping line 6125: expected 4 fields, saw 6\\nSkipping line 6126: expected 4 fields, saw 6\\nSkipping line 6127: expected 4 fields, saw 6\\nSkipping line 6128: expected 4 fields, saw 6\\nSkipping line 6129: expected 4 fields, saw 6\\nSkipping line 6130: expected 4 fields, saw 6\\nSkipping line 6131: expected 4 fields, saw 6\\nSkipping line 6132: expected 4 fields, saw 6\\nSkipping line 6133: expected 4 fields, saw 6\\nSkipping line 6134: expected 4 fields, saw 6\\nSkipping line 6135: expected 4 fields, saw 6\\nSkipping line 6136: expected 4 fields, saw 6\\nSkipping line 6137: expected 4 fields, saw 6\\nSkipping line 6138: expected 4 fields, saw 6\\nSkipping line 6139: expected 4 fields, saw 6\\nSkipping line 6140: expected 4 fields, saw 6\\nSkipping line 6141: expected 4 fields, saw 6\\nSkipping line 6142: expected 4 fields, saw 6\\nSkipping line 6143: expected 4 fields, saw 6\\nSkipping line 6144: expected 4 fields, saw 6\\nSkipping line 6145: expected 4 fields, saw 6\\nSkipping line 6146: expected 4 fields, saw 6\\nSkipping line 6147: expected 4 fields, saw 6\\nSkipping line 6148: expected 4 fields, saw 6\\nSkipping line 6149: expected 4 fields, saw 6\\nSkipping line 6150: expected 4 fields, saw 6\\nSkipping line 6151: expected 4 fields, saw 6\\nSkipping line 6152: expected 4 fields, saw 6\\nSkipping line 6153: expected 4 fields, saw 6\\nSkipping line 6154: expected 4 fields, saw 6\\nSkipping line 6155: expected 4 fields, saw 6\\nSkipping line 6156: expected 4 fields, saw 6\\nSkipping line 6157: expected 4 fields, saw 6\\nSkipping line 6158: expected 4 fields, saw 6\\nSkipping line 6159: expected 4 fields, saw 6\\nSkipping line 6160: expected 4 fields, saw 6\\nSkipping line 6161: expected 4 fields, saw 6\\nSkipping line 6162: expected 4 fields, saw 6\\nSkipping line 6163: expected 4 fields, saw 6\\nSkipping line 6164: expected 4 fields, saw 6\\nSkipping line 6165: expected 4 fields, saw 6\\nSkipping line 6166: expected 4 fields, saw 6\\nSkipping line 6167: expected 4 fields, saw 6\\nSkipping line 6168: expected 4 fields, saw 6\\nSkipping line 6169: expected 4 fields, saw 6\\nSkipping line 6170: expected 4 fields, saw 6\\nSkipping line 6171: expected 4 fields, saw 6\\nSkipping line 6172: expected 4 fields, saw 6\\nSkipping line 6173: expected 4 fields, saw 6\\nSkipping line 6174: expected 4 fields, saw 6\\nSkipping line 6175: expected 4 fields, saw 6\\nSkipping line 6176: expected 4 fields, saw 6\\nSkipping line 6177: expected 4 fields, saw 6\\nSkipping line 6178: expected 4 fields, saw 6\\nSkipping line 6179: expected 4 fields, saw 6\\nSkipping line 6180: expected 4 fields, saw 6\\nSkipping line 6181: expected 4 fields, saw 6\\nSkipping line 6182: expected 4 fields, saw 6\\nSkipping line 6183: expected 4 fields, saw 6\\nSkipping line 6184: expected 4 fields, saw 6\\nSkipping line 6185: expected 4 fields, saw 6\\nSkipping line 6186: expected 4 fields, saw 6\\nSkipping line 6187: expected 4 fields, saw 6\\nSkipping line 6188: expected 4 fields, saw 6\\nSkipping line 6189: expected 4 fields, saw 6\\nSkipping line 6190: expected 4 fields, saw 6\\nSkipping line 6191: expected 4 fields, saw 6\\nSkipping line 6192: expected 4 fields, saw 6\\nSkipping line 6193: expected 4 fields, saw 6\\nSkipping line 6194: expected 4 fields, saw 6\\nSkipping line 6195: expected 4 fields, saw 6\\nSkipping line 6196: expected 4 fields, saw 6\\nSkipping line 6197: expected 4 fields, saw 6\\nSkipping line 6198: expected 4 fields, saw 6\\nSkipping line 6199: expected 4 fields, saw 6\\nSkipping line 6200: expected 4 fields, saw 6\\nSkipping line 6201: expected 4 fields, saw 6\\nSkipping line 6202: expected 4 fields, saw 6\\nSkipping line 6203: expected 4 fields, saw 6\\nSkipping line 6204: expected 4 fields, saw 6\\nSkipping line 6205: expected 4 fields, saw 6\\nSkipping line 6206: expected 4 fields, saw 6\\nSkipping line 6207: expected 4 fields, saw 6\\nSkipping line 6208: expected 4 fields, saw 6\\nSkipping line 6209: expected 4 fields, saw 6\\nSkipping line 6210: expected 4 fields, saw 6\\nSkipping line 6211: expected 4 fields, saw 6\\nSkipping line 6212: expected 4 fields, saw 6\\nSkipping line 6213: expected 4 fields, saw 6\\nSkipping line 6214: expected 4 fields, saw 6\\nSkipping line 6215: expected 4 fields, saw 6\\nSkipping line 6216: expected 4 fields, saw 6\\nSkipping line 6217: expected 4 fields, saw 6\\nSkipping line 6218: expected 4 fields, saw 6\\nSkipping line 6219: expected 4 fields, saw 6\\nSkipping line 6220: expected 4 fields, saw 6\\nSkipping line 6221: expected 4 fields, saw 6\\nSkipping line 6222: expected 4 fields, saw 6\\nSkipping line 6223: expected 4 fields, saw 6\\nSkipping line 6224: expected 4 fields, saw 6\\nSkipping line 6225: expected 4 fields, saw 6\\nSkipping line 6226: expected 4 fields, saw 6\\nSkipping line 6227: expected 4 fields, saw 6\\nSkipping line 6228: expected 4 fields, saw 6\\nSkipping line 6229: expected 4 fields, saw 6\\nSkipping line 6230: expected 4 fields, saw 6\\nSkipping line 6231: expected 4 fields, saw 6\\nSkipping line 6232: expected 4 fields, saw 6\\nSkipping line 6233: expected 4 fields, saw 6\\nSkipping line 6234: expected 4 fields, saw 6\\nSkipping line 6235: expected 4 fields, saw 6\\nSkipping line 6236: expected 4 fields, saw 6\\nSkipping line 6237: expected 4 fields, saw 6\\nSkipping line 6238: expected 4 fields, saw 6\\nSkipping line 6239: expected 4 fields, saw 6\\nSkipping line 6240: expected 4 fields, saw 6\\nSkipping line 6241: expected 4 fields, saw 6\\nSkipping line 6242: expected 4 fields, saw 6\\nSkipping line 6243: expected 4 fields, saw 6\\nSkipping line 6244: expected 4 fields, saw 6\\nSkipping line 6245: expected 4 fields, saw 6\\nSkipping line 6246: expected 4 fields, saw 6\\nSkipping line 6247: expected 4 fields, saw 6\\nSkipping line 6248: expected 4 fields, saw 6\\nSkipping line 6249: expected 4 fields, saw 6\\nSkipping line 6250: expected 4 fields, saw 6\\nSkipping line 6251: expected 4 fields, saw 6\\nSkipping line 6252: expected 4 fields, saw 6\\nSkipping line 6253: expected 4 fields, saw 6\\nSkipping line 6254: expected 4 fields, saw 6\\nSkipping line 6255: expected 4 fields, saw 6\\nSkipping line 6256: expected 4 fields, saw 6\\nSkipping line 6257: expected 4 fields, saw 6\\nSkipping line 6258: expected 4 fields, saw 6\\nSkipping line 6259: expected 4 fields, saw 6\\nSkipping line 6260: expected 4 fields, saw 6\\nSkipping line 6261: expected 4 fields, saw 6\\nSkipping line 6262: expected 4 fields, saw 6\\nSkipping line 6263: expected 4 fields, saw 6\\nSkipping line 6264: expected 4 fields, saw 6\\nSkipping line 6265: expected 4 fields, saw 6\\nSkipping line 6266: expected 4 fields, saw 6\\nSkipping line 6267: expected 4 fields, saw 6\\nSkipping line 6268: expected 4 fields, saw 6\\nSkipping line 6269: expected 4 fields, saw 6\\nSkipping line 6270: expected 4 fields, saw 6\\nSkipping line 6271: expected 4 fields, saw 6\\nSkipping line 6272: expected 4 fields, saw 6\\nSkipping line 6273: expected 4 fields, saw 6\\nSkipping line 6274: expected 4 fields, saw 6\\nSkipping line 6275: expected 4 fields, saw 6\\nSkipping line 6276: expected 4 fields, saw 6\\nSkipping line 6277: expected 4 fields, saw 6\\nSkipping line 6278: expected 4 fields, saw 6\\nSkipping line 6279: expected 4 fields, saw 6\\nSkipping line 6280: expected 4 fields, saw 6\\nSkipping line 6281: expected 4 fields, saw 6\\nSkipping line 6282: expected 4 fields, saw 6\\nSkipping line 6283: expected 4 fields, saw 6\\nSkipping line 6284: expected 4 fields, saw 6\\nSkipping line 6285: expected 4 fields, saw 6\\nSkipping line 6286: expected 4 fields, saw 6\\nSkipping line 6287: expected 4 fields, saw 6\\nSkipping line 6288: expected 4 fields, saw 6\\nSkipping line 6289: expected 4 fields, saw 6\\nSkipping line 6290: expected 4 fields, saw 6\\nSkipping line 6291: expected 4 fields, saw 6\\nSkipping line 6292: expected 4 fields, saw 6\\nSkipping line 6293: expected 4 fields, saw 6\\nSkipping line 6294: expected 4 fields, saw 6\\nSkipping line 6295: expected 4 fields, saw 6\\nSkipping line 6296: expected 4 fields, saw 6\\nSkipping line 6297: expected 4 fields, saw 6\\nSkipping line 6298: expected 4 fields, saw 6\\nSkipping line 6299: expected 4 fields, saw 6\\nSkipping line 6300: expected 4 fields, saw 6\\nSkipping line 6301: expected 4 fields, saw 6\\nSkipping line 6302: expected 4 fields, saw 6\\nSkipping line 6303: expected 4 fields, saw 6\\nSkipping line 6304: expected 4 fields, saw 6\\nSkipping line 6305: expected 4 fields, saw 6\\nSkipping line 6306: expected 4 fields, saw 6\\nSkipping line 6307: expected 4 fields, saw 6\\nSkipping line 6308: expected 4 fields, saw 6\\nSkipping line 6309: expected 4 fields, saw 6\\nSkipping line 6310: expected 4 fields, saw 6\\nSkipping line 6311: expected 4 fields, saw 6\\nSkipping line 6312: expected 4 fields, saw 6\\nSkipping line 6313: expected 4 fields, saw 6\\nSkipping line 6314: expected 4 fields, saw 6\\nSkipping line 6315: expected 4 fields, saw 6\\nSkipping line 6316: expected 4 fields, saw 6\\nSkipping line 6317: expected 4 fields, saw 6\\nSkipping line 6318: expected 4 fields, saw 6\\nSkipping line 6319: expected 4 fields, saw 6\\nSkipping line 6320: expected 4 fields, saw 6\\nSkipping line 6321: expected 4 fields, saw 6\\nSkipping line 6322: expected 4 fields, saw 6\\nSkipping line 6323: expected 4 fields, saw 6\\nSkipping line 6324: expected 4 fields, saw 6\\nSkipping line 6325: expected 4 fields, saw 6\\nSkipping line 6326: expected 4 fields, saw 6\\nSkipping line 6327: expected 4 fields, saw 6\\nSkipping line 6328: expected 4 fields, saw 6\\nSkipping line 6329: expected 4 fields, saw 6\\nSkipping line 6330: expected 4 fields, saw 6\\nSkipping line 6331: expected 4 fields, saw 6\\nSkipping line 6332: expected 4 fields, saw 6\\nSkipping line 6333: expected 4 fields, saw 6\\nSkipping line 6334: expected 4 fields, saw 6\\nSkipping line 6335: expected 4 fields, saw 6\\nSkipping line 6336: expected 4 fields, saw 6\\nSkipping line 6337: expected 4 fields, saw 6\\nSkipping line 6338: expected 4 fields, saw 6\\nSkipping line 6339: expected 4 fields, saw 6\\nSkipping line 6340: expected 4 fields, saw 6\\nSkipping line 6341: expected 4 fields, saw 6\\nSkipping line 6342: expected 4 fields, saw 6\\nSkipping line 6343: expected 4 fields, saw 6\\nSkipping line 6344: expected 4 fields, saw 6\\nSkipping line 6345: expected 4 fields, saw 6\\nSkipping line 6346: expected 4 fields, saw 6\\nSkipping line 6347: expected 4 fields, saw 6\\nSkipping line 6348: expected 4 fields, saw 6\\nSkipping line 6349: expected 4 fields, saw 6\\nSkipping line 6350: expected 4 fields, saw 6\\nSkipping line 6351: expected 4 fields, saw 6\\nSkipping line 6352: expected 4 fields, saw 6\\nSkipping line 6353: expected 4 fields, saw 6\\nSkipping line 6354: expected 4 fields, saw 6\\nSkipping line 6355: expected 4 fields, saw 6\\nSkipping line 6356: expected 4 fields, saw 6\\nSkipping line 6357: expected 4 fields, saw 6\\nSkipping line 6358: expected 4 fields, saw 6\\nSkipping line 6359: expected 4 fields, saw 6\\nSkipping line 6360: expected 4 fields, saw 6\\nSkipping line 6361: expected 4 fields, saw 6\\nSkipping line 6362: expected 4 fields, saw 6\\nSkipping line 6363: expected 4 fields, saw 6\\nSkipping line 6364: expected 4 fields, saw 6\\nSkipping line 6365: expected 4 fields, saw 6\\nSkipping line 6366: expected 4 fields, saw 6\\nSkipping line 6367: expected 4 fields, saw 6\\nSkipping line 6368: expected 4 fields, saw 6\\nSkipping line 6369: expected 4 fields, saw 6\\nSkipping line 6370: expected 4 fields, saw 6\\nSkipping line 6371: expected 4 fields, saw 6\\nSkipping line 6372: expected 4 fields, saw 6\\nSkipping line 6373: expected 4 fields, saw 6\\nSkipping line 6374: expected 4 fields, saw 6\\nSkipping line 6375: expected 4 fields, saw 6\\nSkipping line 6376: expected 4 fields, saw 6\\nSkipping line 6377: expected 4 fields, saw 6\\nSkipping line 6378: expected 4 fields, saw 6\\nSkipping line 6379: expected 4 fields, saw 6\\nSkipping line 6380: expected 4 fields, saw 6\\nSkipping line 6381: expected 4 fields, saw 6\\nSkipping line 6382: expected 4 fields, saw 6\\nSkipping line 6383: expected 4 fields, saw 6\\nSkipping line 6384: expected 4 fields, saw 6\\nSkipping line 6385: expected 4 fields, saw 6\\nSkipping line 6386: expected 4 fields, saw 6\\nSkipping line 6387: expected 4 fields, saw 6\\nSkipping line 6388: expected 4 fields, saw 6\\nSkipping line 6389: expected 4 fields, saw 6\\nSkipping line 6390: expected 4 fields, saw 6\\nSkipping line 6391: expected 4 fields, saw 6\\nSkipping line 6392: expected 4 fields, saw 6\\nSkipping line 6393: expected 4 fields, saw 6\\nSkipping line 6394: expected 4 fields, saw 6\\nSkipping line 6395: expected 4 fields, saw 6\\nSkipping line 6396: expected 4 fields, saw 6\\nSkipping line 6397: expected 4 fields, saw 6\\nSkipping line 6398: expected 4 fields, saw 6\\nSkipping line 6399: expected 4 fields, saw 6\\nSkipping line 6400: expected 4 fields, saw 6\\nSkipping line 6401: expected 4 fields, saw 6\\nSkipping line 6402: expected 4 fields, saw 6\\nSkipping line 6403: expected 4 fields, saw 6\\nSkipping line 6404: expected 4 fields, saw 6\\nSkipping line 6405: expected 4 fields, saw 6\\nSkipping line 6406: expected 4 fields, saw 6\\nSkipping line 6407: expected 4 fields, saw 6\\nSkipping line 6408: expected 4 fields, saw 6\\nSkipping line 6409: expected 4 fields, saw 6\\nSkipping line 6410: expected 4 fields, saw 6\\nSkipping line 6411: expected 4 fields, saw 6\\nSkipping line 6412: expected 4 fields, saw 6\\nSkipping line 6413: expected 4 fields, saw 6\\nSkipping line 6414: expected 4 fields, saw 6\\nSkipping line 6415: expected 4 fields, saw 6\\nSkipping line 6416: expected 4 fields, saw 6\\nSkipping line 6417: expected 4 fields, saw 6\\nSkipping line 6418: expected 4 fields, saw 6\\nSkipping line 6419: expected 4 fields, saw 6\\nSkipping line 6420: expected 4 fields, saw 6\\nSkipping line 6421: expected 4 fields, saw 6\\nSkipping line 6422: expected 4 fields, saw 6\\nSkipping line 6423: expected 4 fields, saw 6\\nSkipping line 6424: expected 4 fields, saw 6\\nSkipping line 6425: expected 4 fields, saw 6\\nSkipping line 6426: expected 4 fields, saw 6\\nSkipping line 6427: expected 4 fields, saw 6\\nSkipping line 6428: expected 4 fields, saw 6\\nSkipping line 6429: expected 4 fields, saw 6\\nSkipping line 6430: expected 4 fields, saw 6\\nSkipping line 6431: expected 4 fields, saw 6\\nSkipping line 6432: expected 4 fields, saw 6\\nSkipping line 6433: expected 4 fields, saw 6\\nSkipping line 6434: expected 4 fields, saw 6\\nSkipping line 6435: expected 4 fields, saw 6\\nSkipping line 6436: expected 4 fields, saw 6\\nSkipping line 6437: expected 4 fields, saw 6\\nSkipping line 6438: expected 4 fields, saw 6\\nSkipping line 6439: expected 4 fields, saw 6\\nSkipping line 6440: expected 4 fields, saw 6\\nSkipping line 6441: expected 4 fields, saw 6\\nSkipping line 6442: expected 4 fields, saw 6\\nSkipping line 6443: expected 4 fields, saw 6\\nSkipping line 6444: expected 4 fields, saw 6\\nSkipping line 6445: expected 4 fields, saw 6\\nSkipping line 6446: expected 4 fields, saw 6\\nSkipping line 6447: expected 4 fields, saw 6\\nSkipping line 6448: expected 4 fields, saw 6\\nSkipping line 6449: expected 4 fields, saw 6\\nSkipping line 6450: expected 4 fields, saw 6\\nSkipping line 6451: expected 4 fields, saw 6\\nSkipping line 6452: expected 4 fields, saw 6\\nSkipping line 6453: expected 4 fields, saw 6\\nSkipping line 6454: expected 4 fields, saw 6\\nSkipping line 6455: expected 4 fields, saw 6\\nSkipping line 6456: expected 4 fields, saw 6\\nSkipping line 6457: expected 4 fields, saw 6\\nSkipping line 6458: expected 4 fields, saw 6\\nSkipping line 6459: expected 4 fields, saw 6\\nSkipping line 6460: expected 4 fields, saw 6\\nSkipping line 6461: expected 4 fields, saw 6\\nSkipping line 6462: expected 4 fields, saw 6\\nSkipping line 6463: expected 4 fields, saw 6\\nSkipping line 6464: expected 4 fields, saw 6\\nSkipping line 6465: expected 4 fields, saw 6\\nSkipping line 6466: expected 4 fields, saw 6\\nSkipping line 6467: expected 4 fields, saw 6\\nSkipping line 6468: expected 4 fields, saw 6\\nSkipping line 6469: expected 4 fields, saw 6\\nSkipping line 6470: expected 4 fields, saw 6\\nSkipping line 6471: expected 4 fields, saw 6\\nSkipping line 6472: expected 4 fields, saw 6\\nSkipping line 6473: expected 4 fields, saw 6\\nSkipping line 6474: expected 4 fields, saw 6\\nSkipping line 6475: expected 4 fields, saw 6\\nSkipping line 6476: expected 4 fields, saw 6\\nSkipping line 6477: expected 4 fields, saw 6\\nSkipping line 6478: expected 4 fields, saw 6\\nSkipping line 6479: expected 4 fields, saw 6\\nSkipping line 6480: expected 4 fields, saw 6\\nSkipping line 6481: expected 4 fields, saw 6\\nSkipping line 6482: expected 4 fields, saw 6\\nSkipping line 6483: expected 4 fields, saw 6\\nSkipping line 6484: expected 4 fields, saw 6\\nSkipping line 6485: expected 4 fields, saw 6\\nSkipping line 6486: expected 4 fields, saw 6\\nSkipping line 6487: expected 4 fields, saw 6\\nSkipping line 6488: expected 4 fields, saw 6\\nSkipping line 6489: expected 4 fields, saw 6\\nSkipping line 6490: expected 4 fields, saw 6\\nSkipping line 6491: expected 4 fields, saw 6\\nSkipping line 6492: expected 4 fields, saw 6\\nSkipping line 6493: expected 4 fields, saw 6\\nSkipping line 6494: expected 4 fields, saw 6\\nSkipping line 6495: expected 4 fields, saw 6\\nSkipping line 6496: expected 4 fields, saw 6\\nSkipping line 6497: expected 4 fields, saw 6\\nSkipping line 6498: expected 4 fields, saw 6\\nSkipping line 6499: expected 4 fields, saw 6\\nSkipping line 6500: expected 4 fields, saw 6\\nSkipping line 6501: expected 4 fields, saw 6\\nSkipping line 6502: expected 4 fields, saw 6\\nSkipping line 6503: expected 4 fields, saw 6\\nSkipping line 6504: expected 4 fields, saw 6\\nSkipping line 6505: expected 4 fields, saw 6\\nSkipping line 6506: expected 4 fields, saw 6\\nSkipping line 6507: expected 4 fields, saw 6\\nSkipping line 6508: expected 4 fields, saw 6\\nSkipping line 6509: expected 4 fields, saw 6\\nSkipping line 6510: expected 4 fields, saw 6\\nSkipping line 6511: expected 4 fields, saw 6\\nSkipping line 6512: expected 4 fields, saw 6\\nSkipping line 6513: expected 4 fields, saw 6\\nSkipping line 6514: expected 4 fields, saw 6\\nSkipping line 6515: expected 4 fields, saw 6\\nSkipping line 6516: expected 4 fields, saw 6\\nSkipping line 6517: expected 4 fields, saw 6\\nSkipping line 6518: expected 4 fields, saw 6\\nSkipping line 6519: expected 4 fields, saw 6\\nSkipping line 6520: expected 4 fields, saw 6\\nSkipping line 6521: expected 4 fields, saw 6\\nSkipping line 6522: expected 4 fields, saw 6\\nSkipping line 6523: expected 4 fields, saw 6\\nSkipping line 6524: expected 4 fields, saw 6\\nSkipping line 6525: expected 4 fields, saw 6\\nSkipping line 6526: expected 4 fields, saw 6\\nSkipping line 6527: expected 4 fields, saw 6\\nSkipping line 6528: expected 4 fields, saw 6\\nSkipping line 6529: expected 4 fields, saw 6\\nSkipping line 6530: expected 4 fields, saw 6\\nSkipping line 6531: expected 4 fields, saw 6\\nSkipping line 6532: expected 4 fields, saw 6\\nSkipping line 6533: expected 4 fields, saw 6\\nSkipping line 6534: expected 4 fields, saw 6\\nSkipping line 6535: expected 4 fields, saw 6\\nSkipping line 6536: expected 4 fields, saw 6\\nSkipping line 6537: expected 4 fields, saw 6\\nSkipping line 6538: expected 4 fields, saw 6\\nSkipping line 6539: expected 4 fields, saw 6\\nSkipping line 6540: expected 4 fields, saw 6\\nSkipping line 6541: expected 4 fields, saw 6\\nSkipping line 6542: expected 4 fields, saw 6\\nSkipping line 6543: expected 4 fields, saw 6\\nSkipping line 6544: expected 4 fields, saw 6\\nSkipping line 6545: expected 4 fields, saw 6\\nSkipping line 6546: expected 4 fields, saw 6\\nSkipping line 6547: expected 4 fields, saw 6\\nSkipping line 6548: expected 4 fields, saw 6\\nSkipping line 6549: expected 4 fields, saw 6\\nSkipping line 6550: expected 4 fields, saw 6\\nSkipping line 6551: expected 4 fields, saw 6\\nSkipping line 6552: expected 4 fields, saw 6\\nSkipping line 6553: expected 4 fields, saw 6\\nSkipping line 6554: expected 4 fields, saw 6\\nSkipping line 6555: expected 4 fields, saw 6\\nSkipping line 6556: expected 4 fields, saw 6\\nSkipping line 6557: expected 4 fields, saw 6\\nSkipping line 6558: expected 4 fields, saw 6\\nSkipping line 6559: expected 4 fields, saw 6\\nSkipping line 6560: expected 4 fields, saw 6\\nSkipping line 6561: expected 4 fields, saw 6\\nSkipping line 6562: expected 4 fields, saw 6\\nSkipping line 6563: expected 4 fields, saw 6\\nSkipping line 6564: expected 4 fields, saw 6\\nSkipping line 6565: expected 4 fields, saw 6\\nSkipping line 6566: expected 4 fields, saw 6\\nSkipping line 6567: expected 4 fields, saw 6\\nSkipping line 6568: expected 4 fields, saw 6\\nSkipping line 6569: expected 4 fields, saw 6\\nSkipping line 6570: expected 4 fields, saw 6\\nSkipping line 6571: expected 4 fields, saw 6\\nSkipping line 6572: expected 4 fields, saw 6\\nSkipping line 6573: expected 4 fields, saw 6\\nSkipping line 6574: expected 4 fields, saw 6\\nSkipping line 6575: expected 4 fields, saw 6\\nSkipping line 6576: expected 4 fields, saw 6\\nSkipping line 6577: expected 4 fields, saw 6\\nSkipping line 6578: expected 4 fields, saw 6\\nSkipping line 6579: expected 4 fields, saw 6\\nSkipping line 6580: expected 4 fields, saw 6\\nSkipping line 6581: expected 4 fields, saw 6\\nSkipping line 6582: expected 4 fields, saw 6\\nSkipping line 6583: expected 4 fields, saw 6\\nSkipping line 6584: expected 4 fields, saw 6\\nSkipping line 6585: expected 4 fields, saw 6\\nSkipping line 6586: expected 4 fields, saw 6\\nSkipping line 6587: expected 4 fields, saw 6\\nSkipping line 6588: expected 4 fields, saw 6\\nSkipping line 6589: expected 4 fields, saw 6\\nSkipping line 6590: expected 4 fields, saw 6\\nSkipping line 6591: expected 4 fields, saw 6\\nSkipping line 6592: expected 4 fields, saw 6\\nSkipping line 6593: expected 4 fields, saw 6\\nSkipping line 6594: expected 4 fields, saw 6\\nSkipping line 6595: expected 4 fields, saw 6\\nSkipping line 6596: expected 4 fields, saw 6\\nSkipping line 6597: expected 4 fields, saw 6\\nSkipping line 6598: expected 4 fields, saw 6\\nSkipping line 6599: expected 4 fields, saw 6\\nSkipping line 6600: expected 4 fields, saw 6\\nSkipping line 6601: expected 4 fields, saw 6\\nSkipping line 6602: expected 4 fields, saw 6\\nSkipping line 6603: expected 4 fields, saw 6\\nSkipping line 6604: expected 4 fields, saw 6\\nSkipping line 6605: expected 4 fields, saw 6\\nSkipping line 6606: expected 4 fields, saw 6\\nSkipping line 6607: expected 4 fields, saw 6\\nSkipping line 6608: expected 4 fields, saw 6\\nSkipping line 6609: expected 4 fields, saw 6\\nSkipping line 6610: expected 4 fields, saw 6\\nSkipping line 6611: expected 4 fields, saw 6\\nSkipping line 6612: expected 4 fields, saw 6\\nSkipping line 6613: expected 4 fields, saw 6\\nSkipping line 6614: expected 4 fields, saw 6\\nSkipping line 6615: expected 4 fields, saw 6\\nSkipping line 6616: expected 4 fields, saw 6\\nSkipping line 6617: expected 4 fields, saw 6\\nSkipping line 6618: expected 4 fields, saw 6\\nSkipping line 6619: expected 4 fields, saw 6\\nSkipping line 6620: expected 4 fields, saw 6\\nSkipping line 6621: expected 4 fields, saw 6\\nSkipping line 6622: expected 4 fields, saw 6\\nSkipping line 6623: expected 4 fields, saw 6\\nSkipping line 6624: expected 4 fields, saw 6\\nSkipping line 6625: expected 4 fields, saw 6\\nSkipping line 6626: expected 4 fields, saw 6\\nSkipping line 6627: expected 4 fields, saw 6\\nSkipping line 6628: expected 4 fields, saw 6\\nSkipping line 6629: expected 4 fields, saw 6\\nSkipping line 6630: expected 4 fields, saw 6\\nSkipping line 6631: expected 4 fields, saw 6\\nSkipping line 6632: expected 4 fields, saw 6\\nSkipping line 6633: expected 4 fields, saw 6\\nSkipping line 6634: expected 4 fields, saw 6\\nSkipping line 6635: expected 4 fields, saw 6\\nSkipping line 6636: expected 4 fields, saw 6\\nSkipping line 6637: expected 4 fields, saw 6\\nSkipping line 6638: expected 4 fields, saw 6\\nSkipping line 6639: expected 4 fields, saw 6\\nSkipping line 6640: expected 4 fields, saw 6\\nSkipping line 6641: expected 4 fields, saw 6\\nSkipping line 6642: expected 4 fields, saw 6\\nSkipping line 6643: expected 4 fields, saw 6\\nSkipping line 6644: expected 4 fields, saw 6\\nSkipping line 6645: expected 4 fields, saw 6\\nSkipping line 6646: expected 4 fields, saw 6\\nSkipping line 6647: expected 4 fields, saw 6\\nSkipping line 6648: expected 4 fields, saw 6\\nSkipping line 6649: expected 4 fields, saw 6\\nSkipping line 6650: expected 4 fields, saw 6\\nSkipping line 6651: expected 4 fields, saw 6\\nSkipping line 6652: expected 4 fields, saw 6\\nSkipping line 6653: expected 4 fields, saw 6\\nSkipping line 6654: expected 4 fields, saw 6\\nSkipping line 6655: expected 4 fields, saw 6\\nSkipping line 6656: expected 4 fields, saw 6\\nSkipping line 6657: expected 4 fields, saw 6\\nSkipping line 6658: expected 4 fields, saw 6\\nSkipping line 6659: expected 4 fields, saw 6\\nSkipping line 6660: expected 4 fields, saw 6\\nSkipping line 6661: expected 4 fields, saw 6\\nSkipping line 6662: expected 4 fields, saw 6\\nSkipping line 6663: expected 4 fields, saw 6\\nSkipping line 6664: expected 4 fields, saw 6\\nSkipping line 6665: expected 4 fields, saw 6\\nSkipping line 6666: expected 4 fields, saw 6\\nSkipping line 6667: expected 4 fields, saw 6\\nSkipping line 6668: expected 4 fields, saw 6\\nSkipping line 6669: expected 4 fields, saw 6\\nSkipping line 6670: expected 4 fields, saw 6\\nSkipping line 6671: expected 4 fields, saw 6\\nSkipping line 6672: expected 4 fields, saw 6\\nSkipping line 6673: expected 4 fields, saw 6\\nSkipping line 6674: expected 4 fields, saw 6\\nSkipping line 6675: expected 4 fields, saw 6\\nSkipping line 6676: expected 4 fields, saw 6\\nSkipping line 6677: expected 4 fields, saw 6\\nSkipping line 6678: expected 4 fields, saw 6\\nSkipping line 6679: expected 4 fields, saw 6\\nSkipping line 6680: expected 4 fields, saw 6\\nSkipping line 6681: expected 4 fields, saw 6\\nSkipping line 6682: expected 4 fields, saw 6\\nSkipping line 6683: expected 4 fields, saw 6\\nSkipping line 6684: expected 4 fields, saw 6\\nSkipping line 6685: expected 4 fields, saw 6\\nSkipping line 6686: expected 4 fields, saw 6\\nSkipping line 6687: expected 4 fields, saw 6\\nSkipping line 6688: expected 4 fields, saw 6\\nSkipping line 6689: expected 4 fields, saw 6\\nSkipping line 6690: expected 4 fields, saw 6\\nSkipping line 6691: expected 4 fields, saw 6\\nSkipping line 6692: expected 4 fields, saw 6\\nSkipping line 6693: expected 4 fields, saw 6\\nSkipping line 6694: expected 4 fields, saw 6\\nSkipping line 6695: expected 4 fields, saw 6\\nSkipping line 6696: expected 4 fields, saw 6\\nSkipping line 6697: expected 4 fields, saw 6\\nSkipping line 6698: expected 4 fields, saw 6\\nSkipping line 6699: expected 4 fields, saw 6\\nSkipping line 6700: expected 4 fields, saw 6\\nSkipping line 6701: expected 4 fields, saw 6\\nSkipping line 6702: expected 4 fields, saw 6\\nSkipping line 6703: expected 4 fields, saw 6\\nSkipping line 6704: expected 4 fields, saw 6\\nSkipping line 6705: expected 4 fields, saw 6\\nSkipping line 6706: expected 4 fields, saw 6\\nSkipping line 6707: expected 4 fields, saw 6\\nSkipping line 6708: expected 4 fields, saw 6\\nSkipping line 6709: expected 4 fields, saw 6\\nSkipping line 6710: expected 4 fields, saw 6\\nSkipping line 6711: expected 4 fields, saw 6\\nSkipping line 6712: expected 4 fields, saw 6\\nSkipping line 6713: expected 4 fields, saw 6\\nSkipping line 6714: expected 4 fields, saw 6\\nSkipping line 6715: expected 4 fields, saw 6\\nSkipping line 6716: expected 4 fields, saw 6\\nSkipping line 6717: expected 4 fields, saw 6\\nSkipping line 6718: expected 4 fields, saw 6\\nSkipping line 6719: expected 4 fields, saw 6\\nSkipping line 6720: expected 4 fields, saw 6\\nSkipping line 6721: expected 4 fields, saw 6\\nSkipping line 6722: expected 4 fields, saw 6\\nSkipping line 6723: expected 4 fields, saw 6\\nSkipping line 6724: expected 4 fields, saw 6\\nSkipping line 6725: expected 4 fields, saw 6\\nSkipping line 6726: expected 4 fields, saw 6\\nSkipping line 6727: expected 4 fields, saw 6\\nSkipping line 6728: expected 4 fields, saw 6\\nSkipping line 6729: expected 4 fields, saw 6\\nSkipping line 6730: expected 4 fields, saw 6\\nSkipping line 6731: expected 4 fields, saw 6\\nSkipping line 6732: expected 4 fields, saw 6\\nSkipping line 6733: expected 4 fields, saw 6\\nSkipping line 6734: expected 4 fields, saw 6\\nSkipping line 6735: expected 4 fields, saw 6\\nSkipping line 6736: expected 4 fields, saw 6\\nSkipping line 6737: expected 4 fields, saw 6\\nSkipping line 6738: expected 4 fields, saw 6\\nSkipping line 6739: expected 4 fields, saw 6\\nSkipping line 6740: expected 4 fields, saw 6\\nSkipping line 6741: expected 4 fields, saw 6\\nSkipping line 6742: expected 4 fields, saw 6\\nSkipping line 6743: expected 4 fields, saw 6\\nSkipping line 6744: expected 4 fields, saw 6\\nSkipping line 6745: expected 4 fields, saw 6\\nSkipping line 6746: expected 4 fields, saw 6\\nSkipping line 6747: expected 4 fields, saw 6\\nSkipping line 6748: expected 4 fields, saw 6\\nSkipping line 6749: expected 4 fields, saw 6\\nSkipping line 6750: expected 4 fields, saw 6\\nSkipping line 6751: expected 4 fields, saw 6\\nSkipping line 6752: expected 4 fields, saw 6\\nSkipping line 6753: expected 4 fields, saw 6\\nSkipping line 6754: expected 4 fields, saw 6\\nSkipping line 6755: expected 4 fields, saw 6\\nSkipping line 6756: expected 4 fields, saw 6\\nSkipping line 6757: expected 4 fields, saw 6\\nSkipping line 6758: expected 4 fields, saw 6\\nSkipping line 6759: expected 4 fields, saw 6\\nSkipping line 6760: expected 4 fields, saw 6\\nSkipping line 6761: expected 4 fields, saw 6\\nSkipping line 6762: expected 4 fields, saw 6\\nSkipping line 6763: expected 4 fields, saw 6\\nSkipping line 6764: expected 4 fields, saw 6\\nSkipping line 6765: expected 4 fields, saw 6\\nSkipping line 6766: expected 4 fields, saw 6\\nSkipping line 6767: expected 4 fields, saw 6\\nSkipping line 6768: expected 4 fields, saw 6\\nSkipping line 6769: expected 4 fields, saw 6\\nSkipping line 6770: expected 4 fields, saw 6\\nSkipping line 6771: expected 4 fields, saw 6\\nSkipping line 6772: expected 4 fields, saw 6\\nSkipping line 6773: expected 4 fields, saw 6\\nSkipping line 6774: expected 4 fields, saw 6\\nSkipping line 6775: expected 4 fields, saw 6\\nSkipping line 6776: expected 4 fields, saw 6\\nSkipping line 6777: expected 4 fields, saw 6\\nSkipping line 6778: expected 4 fields, saw 6\\nSkipping line 6779: expected 4 fields, saw 6\\nSkipping line 6780: expected 4 fields, saw 6\\nSkipping line 6781: expected 4 fields, saw 6\\nSkipping line 6782: expected 4 fields, saw 6\\nSkipping line 6783: expected 4 fields, saw 6\\nSkipping line 6784: expected 4 fields, saw 6\\nSkipping line 6785: expected 4 fields, saw 6\\nSkipping line 6786: expected 4 fields, saw 6\\nSkipping line 6787: expected 4 fields, saw 6\\nSkipping line 6788: expected 4 fields, saw 6\\nSkipping line 6789: expected 4 fields, saw 6\\nSkipping line 6790: expected 4 fields, saw 6\\nSkipping line 6791: expected 4 fields, saw 6\\nSkipping line 6792: expected 4 fields, saw 6\\nSkipping line 6793: expected 4 fields, saw 6\\nSkipping line 6794: expected 4 fields, saw 6\\nSkipping line 6795: expected 4 fields, saw 6\\nSkipping line 6796: expected 4 fields, saw 6\\nSkipping line 6797: expected 4 fields, saw 6\\nSkipping line 6798: expected 4 fields, saw 6\\nSkipping line 6799: expected 4 fields, saw 6\\nSkipping line 6800: expected 4 fields, saw 6\\nSkipping line 6801: expected 4 fields, saw 6\\nSkipping line 6802: expected 4 fields, saw 6\\nSkipping line 6803: expected 4 fields, saw 6\\nSkipping line 6804: expected 4 fields, saw 6\\nSkipping line 6805: expected 4 fields, saw 6\\nSkipping line 6806: expected 4 fields, saw 6\\nSkipping line 6807: expected 4 fields, saw 6\\nSkipping line 6808: expected 4 fields, saw 6\\nSkipping line 6809: expected 4 fields, saw 6\\nSkipping line 6810: expected 4 fields, saw 6\\nSkipping line 6811: expected 4 fields, saw 6\\nSkipping line 6812: expected 4 fields, saw 6\\nSkipping line 6813: expected 4 fields, saw 6\\nSkipping line 6814: expected 4 fields, saw 6\\nSkipping line 6815: expected 4 fields, saw 6\\nSkipping line 6816: expected 4 fields, saw 6\\nSkipping line 6817: expected 4 fields, saw 6\\nSkipping line 6818: expected 4 fields, saw 6\\nSkipping line 6819: expected 4 fields, saw 6\\nSkipping line 6820: expected 4 fields, saw 6\\nSkipping line 6821: expected 4 fields, saw 6\\nSkipping line 6822: expected 4 fields, saw 6\\nSkipping line 6823: expected 4 fields, saw 6\\nSkipping line 6824: expected 4 fields, saw 6\\nSkipping line 6825: expected 4 fields, saw 6\\nSkipping line 6826: expected 4 fields, saw 6\\nSkipping line 6827: expected 4 fields, saw 6\\nSkipping line 6828: expected 4 fields, saw 6\\nSkipping line 6829: expected 4 fields, saw 6\\nSkipping line 6830: expected 4 fields, saw 6\\nSkipping line 6831: expected 4 fields, saw 6\\nSkipping line 6832: expected 4 fields, saw 6\\nSkipping line 6833: expected 4 fields, saw 6\\nSkipping line 6834: expected 4 fields, saw 6\\nSkipping line 6835: expected 4 fields, saw 6\\nSkipping line 6836: expected 4 fields, saw 6\\nSkipping line 6837: expected 4 fields, saw 6\\nSkipping line 6838: expected 4 fields, saw 6\\nSkipping line 6839: expected 4 fields, saw 6\\nSkipping line 6840: expected 4 fields, saw 6\\nSkipping line 6841: expected 4 fields, saw 6\\nSkipping line 6842: expected 4 fields, saw 6\\nSkipping line 6843: expected 4 fields, saw 6\\nSkipping line 6844: expected 4 fields, saw 6\\nSkipping line 6845: expected 4 fields, saw 6\\nSkipping line 6846: expected 4 fields, saw 6\\nSkipping line 6847: expected 4 fields, saw 6\\nSkipping line 6848: expected 4 fields, saw 6\\nSkipping line 6849: expected 4 fields, saw 6\\nSkipping line 6850: expected 4 fields, saw 6\\nSkipping line 6851: expected 4 fields, saw 6\\nSkipping line 6852: expected 4 fields, saw 6\\nSkipping line 6853: expected 4 fields, saw 6\\nSkipping line 6854: expected 4 fields, saw 6\\nSkipping line 6855: expected 4 fields, saw 6\\nSkipping line 6856: expected 4 fields, saw 6\\nSkipping line 6857: expected 4 fields, saw 6\\nSkipping line 6858: expected 4 fields, saw 6\\nSkipping line 6859: expected 4 fields, saw 6\\nSkipping line 6860: expected 4 fields, saw 6\\nSkipping line 6861: expected 4 fields, saw 6\\nSkipping line 6862: expected 4 fields, saw 6\\nSkipping line 6863: expected 4 fields, saw 6\\nSkipping line 6864: expected 4 fields, saw 6\\nSkipping line 6865: expected 4 fields, saw 6\\nSkipping line 6866: expected 4 fields, saw 6\\nSkipping line 6867: expected 4 fields, saw 6\\nSkipping line 6868: expected 4 fields, saw 6\\nSkipping line 6869: expected 4 fields, saw 6\\nSkipping line 6870: expected 4 fields, saw 6\\nSkipping line 6871: expected 4 fields, saw 6\\nSkipping line 6872: expected 4 fields, saw 6\\nSkipping line 6873: expected 4 fields, saw 6\\nSkipping line 6874: expected 4 fields, saw 6\\nSkipping line 6875: expected 4 fields, saw 6\\nSkipping line 6876: expected 4 fields, saw 6\\nSkipping line 6877: expected 4 fields, saw 6\\nSkipping line 6878: expected 4 fields, saw 6\\nSkipping line 6879: expected 4 fields, saw 6\\nSkipping line 6880: expected 4 fields, saw 6\\nSkipping line 6881: expected 4 fields, saw 6\\nSkipping line 6882: expected 4 fields, saw 6\\nSkipping line 6883: expected 4 fields, saw 6\\nSkipping line 6884: expected 4 fields, saw 6\\nSkipping line 6885: expected 4 fields, saw 6\\nSkipping line 6886: expected 4 fields, saw 6\\nSkipping line 6887: expected 4 fields, saw 6\\nSkipping line 6888: expected 4 fields, saw 6\\nSkipping line 6889: expected 4 fields, saw 6\\nSkipping line 6890: expected 4 fields, saw 6\\nSkipping line 6891: expected 4 fields, saw 6\\nSkipping line 6892: expected 4 fields, saw 6\\nSkipping line 6893: expected 4 fields, saw 6\\nSkipping line 6894: expected 4 fields, saw 6\\nSkipping line 6895: expected 4 fields, saw 6\\nSkipping line 6896: expected 4 fields, saw 6\\nSkipping line 6897: expected 4 fields, saw 6\\nSkipping line 6898: expected 4 fields, saw 6\\nSkipping line 6899: expected 4 fields, saw 6\\nSkipping line 6900: expected 4 fields, saw 6\\nSkipping line 6901: expected 4 fields, saw 6\\nSkipping line 6902: expected 4 fields, saw 6\\nSkipping line 6903: expected 4 fields, saw 6\\nSkipping line 6904: expected 4 fields, saw 6\\nSkipping line 6905: expected 4 fields, saw 6\\nSkipping line 6906: expected 4 fields, saw 6\\nSkipping line 6907: expected 4 fields, saw 6\\nSkipping line 6908: expected 4 fields, saw 6\\nSkipping line 6909: expected 4 fields, saw 6\\nSkipping line 6910: expected 4 fields, saw 6\\nSkipping line 6911: expected 4 fields, saw 6\\nSkipping line 6912: expected 4 fields, saw 6\\nSkipping line 6913: expected 4 fields, saw 6\\nSkipping line 6914: expected 4 fields, saw 6\\nSkipping line 6915: expected 4 fields, saw 6\\nSkipping line 6916: expected 4 fields, saw 6\\nSkipping line 6917: expected 4 fields, saw 6\\nSkipping line 6918: expected 4 fields, saw 6\\nSkipping line 6919: expected 4 fields, saw 6\\nSkipping line 6920: expected 4 fields, saw 6\\nSkipping line 6921: expected 4 fields, saw 6\\nSkipping line 6922: expected 4 fields, saw 6\\nSkipping line 6923: expected 4 fields, saw 6\\nSkipping line 6924: expected 4 fields, saw 6\\nSkipping line 6925: expected 4 fields, saw 6\\nSkipping line 6926: expected 4 fields, saw 6\\nSkipping line 6927: expected 4 fields, saw 6\\nSkipping line 6928: expected 4 fields, saw 6\\nSkipping line 6929: expected 4 fields, saw 6\\nSkipping line 6930: expected 4 fields, saw 6\\nSkipping line 6931: expected 4 fields, saw 6\\nSkipping line 6932: expected 4 fields, saw 6\\nSkipping line 6933: expected 4 fields, saw 6\\nSkipping line 6934: expected 4 fields, saw 6\\nSkipping line 6935: expected 4 fields, saw 6\\nSkipping line 6936: expected 4 fields, saw 6\\nSkipping line 6937: expected 4 fields, saw 6\\nSkipping line 6938: expected 4 fields, saw 6\\nSkipping line 6939: expected 4 fields, saw 6\\nSkipping line 6940: expected 4 fields, saw 6\\nSkipping line 6941: expected 4 fields, saw 6\\nSkipping line 6942: expected 4 fields, saw 6\\nSkipping line 6943: expected 4 fields, saw 6\\nSkipping line 6944: expected 4 fields, saw 6\\nSkipping line 6945: expected 4 fields, saw 6\\nSkipping line 6946: expected 4 fields, saw 6\\nSkipping line 6947: expected 4 fields, saw 6\\nSkipping line 6948: expected 4 fields, saw 6\\nSkipping line 6949: expected 4 fields, saw 6\\nSkipping line 6950: expected 4 fields, saw 6\\nSkipping line 6951: expected 4 fields, saw 6\\nSkipping line 6952: expected 4 fields, saw 6\\nSkipping line 6953: expected 4 fields, saw 6\\nSkipping line 6954: expected 4 fields, saw 6\\nSkipping line 6955: expected 4 fields, saw 6\\nSkipping line 6956: expected 4 fields, saw 6\\nSkipping line 6957: expected 4 fields, saw 6\\nSkipping line 6958: expected 4 fields, saw 6\\nSkipping line 6959: expected 4 fields, saw 6\\nSkipping line 6960: expected 4 fields, saw 6\\nSkipping line 6961: expected 4 fields, saw 6\\nSkipping line 6962: expected 4 fields, saw 6\\nSkipping line 6963: expected 4 fields, saw 6\\nSkipping line 6964: expected 4 fields, saw 6\\nSkipping line 6965: expected 4 fields, saw 6\\nSkipping line 6966: expected 4 fields, saw 6\\nSkipping line 6967: expected 4 fields, saw 6\\nSkipping line 6968: expected 4 fields, saw 6\\nSkipping line 6969: expected 4 fields, saw 6\\nSkipping line 6970: expected 4 fields, saw 6\\nSkipping line 6971: expected 4 fields, saw 6\\nSkipping line 6972: expected 4 fields, saw 6\\nSkipping line 6973: expected 4 fields, saw 6\\nSkipping line 6974: expected 4 fields, saw 6\\nSkipping line 6975: expected 4 fields, saw 6\\nSkipping line 6976: expected 4 fields, saw 6\\nSkipping line 6977: expected 4 fields, saw 6\\nSkipping line 6978: expected 4 fields, saw 6\\nSkipping line 6979: expected 4 fields, saw 6\\nSkipping line 6980: expected 4 fields, saw 6\\nSkipping line 6981: expected 4 fields, saw 6\\nSkipping line 6982: expected 4 fields, saw 6\\nSkipping line 6983: expected 4 fields, saw 6\\nSkipping line 6984: expected 4 fields, saw 6\\nSkipping line 6985: expected 4 fields, saw 6\\nSkipping line 6986: expected 4 fields, saw 6\\nSkipping line 6987: expected 4 fields, saw 6\\nSkipping line 6988: expected 4 fields, saw 6\\nSkipping line 6989: expected 4 fields, saw 6\\nSkipping line 6990: expected 4 fields, saw 6\\nSkipping line 6991: expected 4 fields, saw 6\\nSkipping line 6992: expected 4 fields, saw 6\\nSkipping line 6993: expected 4 fields, saw 6\\nSkipping line 6994: expected 4 fields, saw 6\\nSkipping line 6995: expected 4 fields, saw 6\\nSkipping line 6996: expected 4 fields, saw 6\\nSkipping line 6997: expected 4 fields, saw 6\\nSkipping line 6998: expected 4 fields, saw 6\\nSkipping line 6999: expected 4 fields, saw 6\\nSkipping line 7000: expected 4 fields, saw 6\\nSkipping line 7001: expected 4 fields, saw 6\\nSkipping line 7002: expected 4 fields, saw 6\\nSkipping line 7003: expected 4 fields, saw 6\\nSkipping line 7004: expected 4 fields, saw 6\\nSkipping line 7005: expected 4 fields, saw 6\\nSkipping line 7006: expected 4 fields, saw 6\\nSkipping line 7007: expected 4 fields, saw 6\\nSkipping line 7008: expected 4 fields, saw 6\\nSkipping line 7009: expected 4 fields, saw 6\\nSkipping line 7010: expected 4 fields, saw 6\\nSkipping line 7011: expected 4 fields, saw 6\\nSkipping line 7012: expected 4 fields, saw 6\\nSkipping line 7013: expected 4 fields, saw 6\\nSkipping line 7014: expected 4 fields, saw 6\\nSkipping line 7015: expected 4 fields, saw 6\\nSkipping line 7016: expected 4 fields, saw 6\\nSkipping line 7017: expected 4 fields, saw 6\\nSkipping line 7018: expected 4 fields, saw 6\\nSkipping line 7019: expected 4 fields, saw 6\\nSkipping line 7020: expected 4 fields, saw 6\\nSkipping line 7021: expected 4 fields, saw 6\\nSkipping line 7022: expected 4 fields, saw 6\\nSkipping line 7023: expected 4 fields, saw 6\\nSkipping line 7024: expected 4 fields, saw 6\\nSkipping line 7025: expected 4 fields, saw 6\\nSkipping line 7026: expected 4 fields, saw 6\\nSkipping line 7027: expected 4 fields, saw 6\\nSkipping line 7028: expected 4 fields, saw 6\\nSkipping line 7029: expected 4 fields, saw 6\\nSkipping line 7030: expected 4 fields, saw 6\\nSkipping line 7031: expected 4 fields, saw 6\\nSkipping line 7032: expected 4 fields, saw 6\\nSkipping line 7033: expected 4 fields, saw 6\\nSkipping line 7034: expected 4 fields, saw 6\\nSkipping line 7035: expected 4 fields, saw 6\\nSkipping line 7036: expected 4 fields, saw 6\\nSkipping line 7037: expected 4 fields, saw 6\\nSkipping line 7038: expected 4 fields, saw 6\\nSkipping line 7039: expected 4 fields, saw 6\\nSkipping line 7040: expected 4 fields, saw 6\\nSkipping line 7041: expected 4 fields, saw 6\\nSkipping line 7042: expected 4 fields, saw 6\\nSkipping line 7043: expected 4 fields, saw 6\\nSkipping line 7044: expected 4 fields, saw 6\\nSkipping line 7045: expected 4 fields, saw 6\\nSkipping line 7046: expected 4 fields, saw 6\\nSkipping line 7047: expected 4 fields, saw 6\\nSkipping line 7048: expected 4 fields, saw 6\\nSkipping line 7049: expected 4 fields, saw 6\\nSkipping line 7050: expected 4 fields, saw 6\\nSkipping line 7051: expected 4 fields, saw 6\\nSkipping line 7052: expected 4 fields, saw 6\\nSkipping line 7053: expected 4 fields, saw 6\\nSkipping line 7054: expected 4 fields, saw 6\\nSkipping line 7055: expected 4 fields, saw 6\\nSkipping line 7056: expected 4 fields, saw 6\\nSkipping line 7057: expected 4 fields, saw 6\\nSkipping line 7058: expected 4 fields, saw 6\\nSkipping line 7059: expected 4 fields, saw 6\\nSkipping line 7060: expected 4 fields, saw 6\\nSkipping line 7061: expected 4 fields, saw 6\\nSkipping line 7062: expected 4 fields, saw 6\\nSkipping line 7063: expected 4 fields, saw 6\\nSkipping line 7064: expected 4 fields, saw 6\\nSkipping line 7065: expected 4 fields, saw 6\\nSkipping line 7066: expected 4 fields, saw 6\\nSkipping line 7067: expected 4 fields, saw 6\\nSkipping line 7068: expected 4 fields, saw 6\\nSkipping line 7069: expected 4 fields, saw 6\\nSkipping line 7070: expected 4 fields, saw 6\\nSkipping line 7071: expected 4 fields, saw 6\\nSkipping line 7072: expected 4 fields, saw 6\\nSkipping line 7073: expected 4 fields, saw 6\\nSkipping line 7074: expected 4 fields, saw 6\\nSkipping line 7075: expected 4 fields, saw 6\\nSkipping line 7076: expected 4 fields, saw 6\\nSkipping line 7077: expected 4 fields, saw 6\\nSkipping line 7078: expected 4 fields, saw 6\\nSkipping line 7079: expected 4 fields, saw 6\\nSkipping line 7080: expected 4 fields, saw 6\\nSkipping line 7081: expected 4 fields, saw 6\\nSkipping line 7082: expected 4 fields, saw 6\\nSkipping line 7083: expected 4 fields, saw 6\\nSkipping line 7084: expected 4 fields, saw 6\\nSkipping line 7085: expected 4 fields, saw 6\\nSkipping line 7086: expected 4 fields, saw 6\\nSkipping line 7087: expected 4 fields, saw 6\\nSkipping line 7088: expected 4 fields, saw 6\\nSkipping line 7089: expected 4 fields, saw 6\\nSkipping line 7090: expected 4 fields, saw 6\\nSkipping line 7091: expected 4 fields, saw 6\\nSkipping line 7092: expected 4 fields, saw 6\\nSkipping line 7093: expected 4 fields, saw 6\\nSkipping line 7094: expected 4 fields, saw 6\\nSkipping line 7095: expected 4 fields, saw 6\\nSkipping line 7096: expected 4 fields, saw 6\\nSkipping line 7097: expected 4 fields, saw 6\\nSkipping line 7098: expected 4 fields, saw 6\\nSkipping line 7099: expected 4 fields, saw 6\\nSkipping line 7100: expected 4 fields, saw 6\\nSkipping line 7101: expected 4 fields, saw 6\\nSkipping line 7102: expected 4 fields, saw 6\\nSkipping line 7103: expected 4 fields, saw 6\\nSkipping line 7104: expected 4 fields, saw 6\\nSkipping line 7105: expected 4 fields, saw 6\\nSkipping line 7106: expected 4 fields, saw 6\\nSkipping line 7107: expected 4 fields, saw 6\\nSkipping line 7108: expected 4 fields, saw 6\\nSkipping line 7109: expected 4 fields, saw 6\\nSkipping line 7110: expected 4 fields, saw 6\\nSkipping line 7111: expected 4 fields, saw 6\\nSkipping line 7112: expected 4 fields, saw 6\\nSkipping line 7113: expected 4 fields, saw 6\\nSkipping line 7114: expected 4 fields, saw 6\\nSkipping line 7115: expected 4 fields, saw 6\\nSkipping line 7116: expected 4 fields, saw 6\\nSkipping line 7117: expected 4 fields, saw 6\\nSkipping line 7118: expected 4 fields, saw 6\\nSkipping line 7119: expected 4 fields, saw 6\\nSkipping line 7120: expected 4 fields, saw 6\\nSkipping line 7121: expected 4 fields, saw 6\\nSkipping line 7122: expected 4 fields, saw 6\\nSkipping line 7123: expected 4 fields, saw 6\\nSkipping line 7124: expected 4 fields, saw 6\\nSkipping line 7125: expected 4 fields, saw 6\\nSkipping line 7126: expected 4 fields, saw 6\\nSkipping line 7127: expected 4 fields, saw 6\\nSkipping line 7128: expected 4 fields, saw 6\\nSkipping line 7129: expected 4 fields, saw 6\\nSkipping line 7130: expected 4 fields, saw 6\\nSkipping line 7131: expected 4 fields, saw 6\\nSkipping line 7132: expected 4 fields, saw 6\\nSkipping line 7133: expected 4 fields, saw 6\\nSkipping line 7134: expected 4 fields, saw 6\\nSkipping line 7135: expected 4 fields, saw 6\\nSkipping line 7136: expected 4 fields, saw 6\\nSkipping line 7137: expected 4 fields, saw 6\\nSkipping line 7138: expected 4 fields, saw 6\\nSkipping line 7139: expected 4 fields, saw 6\\nSkipping line 7140: expected 4 fields, saw 6\\nSkipping line 7141: expected 4 fields, saw 6\\nSkipping line 7142: expected 4 fields, saw 6\\nSkipping line 7143: expected 4 fields, saw 6\\nSkipping line 7144: expected 4 fields, saw 6\\nSkipping line 7145: expected 4 fields, saw 6\\nSkipping line 7146: expected 4 fields, saw 6\\nSkipping line 7147: expected 4 fields, saw 6\\nSkipping line 7148: expected 4 fields, saw 6\\nSkipping line 7149: expected 4 fields, saw 6\\nSkipping line 7150: expected 4 fields, saw 6\\nSkipping line 7151: expected 4 fields, saw 6\\nSkipping line 7152: expected 4 fields, saw 6\\nSkipping line 7153: expected 4 fields, saw 6\\nSkipping line 7154: expected 4 fields, saw 6\\nSkipping line 7155: expected 4 fields, saw 6\\nSkipping line 7156: expected 4 fields, saw 6\\nSkipping line 7157: expected 4 fields, saw 6\\nSkipping line 7158: expected 4 fields, saw 6\\nSkipping line 7159: expected 4 fields, saw 6\\nSkipping line 7160: expected 4 fields, saw 6\\nSkipping line 7161: expected 4 fields, saw 6\\nSkipping line 7162: expected 4 fields, saw 6\\nSkipping line 7163: expected 4 fields, saw 6\\nSkipping line 7164: expected 4 fields, saw 6\\nSkipping line 7165: expected 4 fields, saw 6\\nSkipping line 7166: expected 4 fields, saw 6\\nSkipping line 7167: expected 4 fields, saw 6\\nSkipping line 7168: expected 4 fields, saw 6\\nSkipping line 7169: expected 4 fields, saw 6\\nSkipping line 7170: expected 4 fields, saw 6\\nSkipping line 7171: expected 4 fields, saw 6\\nSkipping line 7172: expected 4 fields, saw 6\\nSkipping line 7173: expected 4 fields, saw 6\\nSkipping line 7174: expected 4 fields, saw 6\\nSkipping line 7175: expected 4 fields, saw 6\\nSkipping line 7176: expected 4 fields, saw 6\\nSkipping line 7177: expected 4 fields, saw 6\\nSkipping line 7178: expected 4 fields, saw 6\\nSkipping line 7179: expected 4 fields, saw 6\\nSkipping line 7180: expected 4 fields, saw 6\\nSkipping line 7181: expected 4 fields, saw 6\\nSkipping line 7182: expected 4 fields, saw 6\\nSkipping line 7183: expected 4 fields, saw 6\\nSkipping line 7184: expected 4 fields, saw 6\\nSkipping line 7185: expected 4 fields, saw 6\\nSkipping line 7186: expected 4 fields, saw 6\\nSkipping line 7187: expected 4 fields, saw 6\\nSkipping line 7188: expected 4 fields, saw 6\\nSkipping line 7189: expected 4 fields, saw 6\\nSkipping line 7190: expected 4 fields, saw 6\\nSkipping line 7191: expected 4 fields, saw 6\\nSkipping line 7192: expected 4 fields, saw 6\\nSkipping line 7193: expected 4 fields, saw 6\\nSkipping line 7194: expected 4 fields, saw 6\\nSkipping line 7195: expected 4 fields, saw 6\\nSkipping line 7196: expected 4 fields, saw 6\\nSkipping line 7197: expected 4 fields, saw 6\\nSkipping line 7198: expected 4 fields, saw 6\\nSkipping line 7199: expected 4 fields, saw 6\\nSkipping line 7200: expected 4 fields, saw 6\\nSkipping line 7201: expected 4 fields, saw 6\\nSkipping line 7202: expected 4 fields, saw 6\\nSkipping line 7203: expected 4 fields, saw 6\\nSkipping line 7204: expected 4 fields, saw 6\\nSkipping line 7205: expected 4 fields, saw 6\\nSkipping line 7206: expected 4 fields, saw 6\\nSkipping line 7207: expected 4 fields, saw 6\\nSkipping line 7208: expected 4 fields, saw 6\\nSkipping line 7209: expected 4 fields, saw 6\\nSkipping line 7210: expected 4 fields, saw 6\\nSkipping line 7211: expected 4 fields, saw 6\\nSkipping line 7212: expected 4 fields, saw 6\\nSkipping line 7213: expected 4 fields, saw 6\\nSkipping line 7214: expected 4 fields, saw 6\\nSkipping line 7215: expected 4 fields, saw 6\\nSkipping line 7216: expected 4 fields, saw 6\\nSkipping line 7217: expected 4 fields, saw 6\\nSkipping line 7218: expected 4 fields, saw 6\\nSkipping line 7219: expected 4 fields, saw 6\\nSkipping line 7220: expected 4 fields, saw 6\\nSkipping line 7221: expected 4 fields, saw 6\\nSkipping line 7222: expected 4 fields, saw 6\\nSkipping line 7223: expected 4 fields, saw 6\\nSkipping line 7224: expected 4 fields, saw 6\\nSkipping line 7225: expected 4 fields, saw 6\\nSkipping line 7226: expected 4 fields, saw 6\\nSkipping line 7227: expected 4 fields, saw 6\\nSkipping line 7228: expected 4 fields, saw 6\\nSkipping line 7229: expected 4 fields, saw 6\\nSkipping line 7230: expected 4 fields, saw 6\\nSkipping line 7231: expected 4 fields, saw 6\\nSkipping line 7232: expected 4 fields, saw 6\\nSkipping line 7233: expected 4 fields, saw 6\\nSkipping line 7234: expected 4 fields, saw 6\\nSkipping line 7235: expected 4 fields, saw 6\\nSkipping line 7236: expected 4 fields, saw 6\\nSkipping line 7237: expected 4 fields, saw 6\\nSkipping line 7238: expected 4 fields, saw 6\\nSkipping line 7239: expected 4 fields, saw 6\\nSkipping line 7240: expected 4 fields, saw 6\\nSkipping line 7241: expected 4 fields, saw 6\\nSkipping line 7242: expected 4 fields, saw 6\\nSkipping line 7243: expected 4 fields, saw 6\\nSkipping line 7244: expected 4 fields, saw 6\\nSkipping line 7245: expected 4 fields, saw 6\\nSkipping line 7246: expected 4 fields, saw 6\\nSkipping line 7247: expected 4 fields, saw 6\\nSkipping line 7248: expected 4 fields, saw 6\\nSkipping line 7249: expected 4 fields, saw 6\\nSkipping line 7250: expected 4 fields, saw 6\\nSkipping line 7251: expected 4 fields, saw 6\\nSkipping line 7252: expected 4 fields, saw 6\\nSkipping line 7253: expected 4 fields, saw 6\\nSkipping line 7254: expected 4 fields, saw 6\\nSkipping line 7255: expected 4 fields, saw 6\\nSkipping line 7256: expected 4 fields, saw 6\\nSkipping line 7257: expected 4 fields, saw 6\\nSkipping line 7258: expected 4 fields, saw 6\\nSkipping line 7259: expected 4 fields, saw 6\\nSkipping line 7260: expected 4 fields, saw 6\\nSkipping line 7261: expected 4 fields, saw 6\\nSkipping line 7262: expected 4 fields, saw 6\\nSkipping line 7263: expected 4 fields, saw 6\\nSkipping line 7264: expected 4 fields, saw 6\\nSkipping line 7265: expected 4 fields, saw 6\\nSkipping line 7266: expected 4 fields, saw 6\\nSkipping line 7267: expected 4 fields, saw 6\\nSkipping line 7268: expected 4 fields, saw 6\\nSkipping line 7269: expected 4 fields, saw 6\\nSkipping line 7270: expected 4 fields, saw 6\\nSkipping line 7271: expected 4 fields, saw 6\\nSkipping line 7272: expected 4 fields, saw 6\\nSkipping line 7273: expected 4 fields, saw 6\\nSkipping line 7274: expected 4 fields, saw 6\\nSkipping line 7275: expected 4 fields, saw 6\\nSkipping line 7276: expected 4 fields, saw 6\\nSkipping line 7277: expected 4 fields, saw 6\\nSkipping line 7278: expected 4 fields, saw 6\\nSkipping line 7279: expected 4 fields, saw 6\\nSkipping line 7280: expected 4 fields, saw 6\\nSkipping line 7281: expected 4 fields, saw 6\\nSkipping line 7282: expected 4 fields, saw 6\\nSkipping line 7283: expected 4 fields, saw 6\\nSkipping line 7284: expected 4 fields, saw 6\\nSkipping line 7285: expected 4 fields, saw 6\\nSkipping line 7286: expected 4 fields, saw 6\\nSkipping line 7287: expected 4 fields, saw 6\\nSkipping line 7288: expected 4 fields, saw 6\\nSkipping line 7289: expected 4 fields, saw 6\\nSkipping line 7290: expected 4 fields, saw 6\\nSkipping line 7291: expected 4 fields, saw 6\\nSkipping line 7292: expected 4 fields, saw 6\\nSkipping line 7293: expected 4 fields, saw 6\\nSkipping line 7294: expected 4 fields, saw 6\\nSkipping line 7295: expected 4 fields, saw 6\\nSkipping line 7296: expected 4 fields, saw 6\\nSkipping line 7297: expected 4 fields, saw 6\\nSkipping line 7298: expected 4 fields, saw 6\\nSkipping line 7299: expected 4 fields, saw 6\\nSkipping line 7300: expected 4 fields, saw 6\\nSkipping line 7301: expected 4 fields, saw 6\\nSkipping line 7302: expected 4 fields, saw 6\\nSkipping line 7303: expected 4 fields, saw 6\\nSkipping line 7304: expected 4 fields, saw 6\\nSkipping line 7305: expected 4 fields, saw 6\\nSkipping line 7306: expected 4 fields, saw 6\\nSkipping line 7307: expected 4 fields, saw 6\\nSkipping line 7308: expected 4 fields, saw 6\\nSkipping line 7309: expected 4 fields, saw 6\\nSkipping line 7310: expected 4 fields, saw 6\\nSkipping line 7311: expected 4 fields, saw 6\\nSkipping line 7312: expected 4 fields, saw 6\\nSkipping line 7313: expected 4 fields, saw 6\\nSkipping line 7314: expected 4 fields, saw 6\\nSkipping line 7315: expected 4 fields, saw 6\\nSkipping line 7316: expected 4 fields, saw 6\\nSkipping line 7317: expected 4 fields, saw 6\\nSkipping line 7318: expected 4 fields, saw 6\\nSkipping line 7319: expected 4 fields, saw 6\\nSkipping line 7320: expected 4 fields, saw 6\\nSkipping line 7321: expected 4 fields, saw 6\\nSkipping line 7322: expected 4 fields, saw 6\\nSkipping line 7323: expected 4 fields, saw 6\\nSkipping line 7324: expected 4 fields, saw 6\\nSkipping line 7325: expected 4 fields, saw 6\\nSkipping line 7326: expected 4 fields, saw 6\\nSkipping line 7327: expected 4 fields, saw 6\\nSkipping line 7328: expected 4 fields, saw 6\\nSkipping line 7329: expected 4 fields, saw 6\\nSkipping line 7330: expected 4 fields, saw 6\\nSkipping line 7331: expected 4 fields, saw 6\\nSkipping line 7332: expected 4 fields, saw 6\\nSkipping line 7333: expected 4 fields, saw 6\\nSkipping line 7334: expected 4 fields, saw 6\\nSkipping line 7335: expected 4 fields, saw 6\\nSkipping line 7336: expected 4 fields, saw 6\\nSkipping line 7337: expected 4 fields, saw 6\\nSkipping line 7338: expected 4 fields, saw 6\\nSkipping line 7339: expected 4 fields, saw 6\\nSkipping line 7340: expected 4 fields, saw 6\\nSkipping line 7341: expected 4 fields, saw 6\\nSkipping line 7342: expected 4 fields, saw 6\\nSkipping line 7343: expected 4 fields, saw 6\\nSkipping line 7344: expected 4 fields, saw 6\\nSkipping line 7345: expected 4 fields, saw 6\\nSkipping line 7346: expected 4 fields, saw 6\\nSkipping line 7347: expected 4 fields, saw 6\\nSkipping line 7348: expected 4 fields, saw 6\\nSkipping line 7349: expected 4 fields, saw 6\\nSkipping line 7350: expected 4 fields, saw 6\\nSkipping line 7351: expected 4 fields, saw 6\\nSkipping line 7352: expected 4 fields, saw 6\\nSkipping line 7353: expected 4 fields, saw 6\\nSkipping line 7354: expected 4 fields, saw 6\\nSkipping line 7355: expected 4 fields, saw 6\\nSkipping line 7356: expected 4 fields, saw 6\\nSkipping line 7357: expected 4 fields, saw 6\\nSkipping line 7358: expected 4 fields, saw 6\\nSkipping line 7359: expected 4 fields, saw 6\\nSkipping line 7360: expected 4 fields, saw 6\\nSkipping line 7361: expected 4 fields, saw 6\\nSkipping line 7362: expected 4 fields, saw 6\\nSkipping line 7363: expected 4 fields, saw 6\\nSkipping line 7364: expected 4 fields, saw 6\\nSkipping line 7365: expected 4 fields, saw 6\\nSkipping line 7366: expected 4 fields, saw 6\\nSkipping line 7367: expected 4 fields, saw 6\\nSkipping line 7368: expected 4 fields, saw 6\\nSkipping line 7369: expected 4 fields, saw 6\\nSkipping line 7370: expected 4 fields, saw 6\\nSkipping line 7371: expected 4 fields, saw 6\\nSkipping line 7372: expected 4 fields, saw 6\\nSkipping line 7373: expected 4 fields, saw 6\\nSkipping line 7374: expected 4 fields, saw 6\\nSkipping line 7375: expected 4 fields, saw 6\\nSkipping line 7376: expected 4 fields, saw 6\\nSkipping line 7377: expected 4 fields, saw 6\\nSkipping line 7378: expected 4 fields, saw 6\\nSkipping line 7379: expected 4 fields, saw 6\\nSkipping line 7380: expected 4 fields, saw 6\\nSkipping line 7381: expected 4 fields, saw 6\\nSkipping line 7382: expected 4 fields, saw 6\\nSkipping line 7383: expected 4 fields, saw 6\\nSkipping line 7384: expected 4 fields, saw 6\\nSkipping line 7385: expected 4 fields, saw 6\\nSkipping line 7386: expected 4 fields, saw 6\\nSkipping line 7387: expected 4 fields, saw 6\\nSkipping line 7388: expected 4 fields, saw 6\\nSkipping line 7389: expected 4 fields, saw 6\\nSkipping line 7390: expected 4 fields, saw 6\\nSkipping line 7391: expected 4 fields, saw 6\\nSkipping line 7392: expected 4 fields, saw 6\\nSkipping line 7393: expected 4 fields, saw 6\\nSkipping line 7394: expected 4 fields, saw 6\\nSkipping line 7395: expected 4 fields, saw 6\\nSkipping line 7396: expected 4 fields, saw 6\\nSkipping line 7397: expected 4 fields, saw 6\\nSkipping line 7398: expected 4 fields, saw 6\\nSkipping line 7399: expected 4 fields, saw 6\\n'\n"
     ]
    },
    {
     "data": {
      "text/html": [
       "<div>\n",
       "<table border=\"1\" class=\"dataframe\">\n",
       "  <thead>\n",
       "    <tr style=\"text-align: right;\">\n",
       "      <th></th>\n",
       "      <th>ID</th>\n",
       "      <th>userID</th>\n",
       "      <th>logged</th>\n",
       "      <th>date</th>\n",
       "    </tr>\n",
       "  </thead>\n",
       "  <tbody>\n",
       "    <tr>\n",
       "      <th>0</th>\n",
       "      <td>110</td>\n",
       "      <td>169</td>\n",
       "      <td>99.228.120.154</td>\n",
       "      <td>1343825266</td>\n",
       "    </tr>\n",
       "    <tr>\n",
       "      <th>1</th>\n",
       "      <td>3</td>\n",
       "      <td>17</td>\n",
       "      <td>82.19.49.66</td>\n",
       "      <td>1343330476</td>\n",
       "    </tr>\n",
       "    <tr>\n",
       "      <th>2</th>\n",
       "      <td>643</td>\n",
       "      <td>123</td>\n",
       "      <td>66.249.85.58</td>\n",
       "      <td>1355352122</td>\n",
       "    </tr>\n",
       "    <tr>\n",
       "      <th>3</th>\n",
       "      <td>109</td>\n",
       "      <td>169</td>\n",
       "      <td>97.112.157.117</td>\n",
       "      <td>1343825035</td>\n",
       "    </tr>\n",
       "    <tr>\n",
       "      <th>4</th>\n",
       "      <td>108</td>\n",
       "      <td>169</td>\n",
       "      <td>98.127.42.196</td>\n",
       "      <td>1343824869</td>\n",
       "    </tr>\n",
       "    <tr>\n",
       "      <th>5</th>\n",
       "      <td>12</td>\n",
       "      <td>62</td>\n",
       "      <td>90.184.187.69</td>\n",
       "      <td>1343476825</td>\n",
       "    </tr>\n",
       "    <tr>\n",
       "      <th>6</th>\n",
       "      <td>13</td>\n",
       "      <td>62</td>\n",
       "      <td>62.107.45.66</td>\n",
       "      <td>1343481860</td>\n",
       "    </tr>\n",
       "    <tr>\n",
       "      <th>7</th>\n",
       "      <td>14</td>\n",
       "      <td>62</td>\n",
       "      <td>90.184.187.69</td>\n",
       "      <td>1343501958</td>\n",
       "    </tr>\n",
       "    <tr>\n",
       "      <th>8</th>\n",
       "      <td>15</td>\n",
       "      <td>62</td>\n",
       "      <td>90.184.187.69</td>\n",
       "      <td>1343501977</td>\n",
       "    </tr>\n",
       "    <tr>\n",
       "      <th>9</th>\n",
       "      <td>16</td>\n",
       "      <td>62</td>\n",
       "      <td>62.107.45.66</td>\n",
       "      <td>1343503107</td>\n",
       "    </tr>\n",
       "  </tbody>\n",
       "</table>\n",
       "</div>"
      ],
      "text/plain": [
       "    ID  userID          logged        date\n",
       "0  110     169  99.228.120.154  1343825266\n",
       "1    3      17     82.19.49.66  1343330476\n",
       "2  643     123    66.249.85.58  1355352122\n",
       "3  109     169  97.112.157.117  1343825035\n",
       "4  108     169   98.127.42.196  1343824869\n",
       "5   12      62   90.184.187.69  1343476825\n",
       "6   13      62    62.107.45.66  1343481860\n",
       "7   14      62   90.184.187.69  1343501958\n",
       "8   15      62   90.184.187.69  1343501977\n",
       "9   16      62    62.107.45.66  1343503107"
      ]
     },
     "execution_count": 29,
     "metadata": {},
     "output_type": "execute_result"
    }
   ],
   "source": [
    "tablename='logs'\n",
    "\n",
    "pd.read_csv(read_inserted_table(dumpfile, tablename),delimiter=\",\",error_bad_lines=False).head(10)"
   ]
  },
  {
   "cell_type": "markdown",
   "metadata": {},
   "source": [
    "#### Q1: Is this table different from other previous loaded table? YES \n",
    "#### Q2: Is this table similar to any table in the generic Booter database schema? YES\n",
    "    - This table looks like: logins\n",
    "#### Q3: Are there modifications required? \n",
    "    - On the table name: \n",
    "        o iplogs -> logins\n",
    "    - On the column type: \n",
    "        o date -> timestamp2datetime()\n",
    "    - On the column name:\n",
    "        o ID -> id\n",
    "        o userID -> userid\n",
    "        o logged -> userip\n",
    "        \n",
    "    - Add required columns:\n",
    "        o username \n",
    "   - Split columns:\n",
    "        o "
   ]
  },
  {
   "cell_type": "markdown",
   "metadata": {},
   "source": [
    "### Modifying table: 'logs'"
   ]
  },
  {
   "cell_type": "code",
   "execution_count": 28,
   "metadata": {
    "collapsed": false
   },
   "outputs": [
    {
     "data": {
      "text/html": [
       "<div>\n",
       "<table border=\"1\" class=\"dataframe\">\n",
       "  <thead>\n",
       "    <tr style=\"text-align: right;\">\n",
       "      <th></th>\n",
       "      <th>id</th>\n",
       "      <th>userid</th>\n",
       "      <th>userip</th>\n",
       "      <th>date</th>\n",
       "      <th>username</th>\n",
       "    </tr>\n",
       "  </thead>\n",
       "  <tbody>\n",
       "    <tr>\n",
       "      <th>0</th>\n",
       "      <td>110</td>\n",
       "      <td>169</td>\n",
       "      <td>99.228.120.154</td>\n",
       "      <td>2012-08-01 12:47:46</td>\n",
       "      <td>NaN</td>\n",
       "    </tr>\n",
       "    <tr>\n",
       "      <th>1</th>\n",
       "      <td>3</td>\n",
       "      <td>17</td>\n",
       "      <td>82.19.49.66</td>\n",
       "      <td>2012-07-26 19:21:16</td>\n",
       "      <td>NaN</td>\n",
       "    </tr>\n",
       "    <tr>\n",
       "      <th>2</th>\n",
       "      <td>643</td>\n",
       "      <td>123</td>\n",
       "      <td>66.249.85.58</td>\n",
       "      <td>2012-12-12 22:42:02</td>\n",
       "      <td>NaN</td>\n",
       "    </tr>\n",
       "    <tr>\n",
       "      <th>3</th>\n",
       "      <td>109</td>\n",
       "      <td>169</td>\n",
       "      <td>97.112.157.117</td>\n",
       "      <td>2012-08-01 12:43:55</td>\n",
       "      <td>NaN</td>\n",
       "    </tr>\n",
       "    <tr>\n",
       "      <th>4</th>\n",
       "      <td>108</td>\n",
       "      <td>169</td>\n",
       "      <td>98.127.42.196</td>\n",
       "      <td>2012-08-01 12:41:09</td>\n",
       "      <td>NaN</td>\n",
       "    </tr>\n",
       "    <tr>\n",
       "      <th>5</th>\n",
       "      <td>12</td>\n",
       "      <td>62</td>\n",
       "      <td>90.184.187.69</td>\n",
       "      <td>2012-07-28 12:00:25</td>\n",
       "      <td>NaN</td>\n",
       "    </tr>\n",
       "    <tr>\n",
       "      <th>6</th>\n",
       "      <td>13</td>\n",
       "      <td>62</td>\n",
       "      <td>62.107.45.66</td>\n",
       "      <td>2012-07-28 13:24:20</td>\n",
       "      <td>NaN</td>\n",
       "    </tr>\n",
       "    <tr>\n",
       "      <th>7</th>\n",
       "      <td>14</td>\n",
       "      <td>62</td>\n",
       "      <td>90.184.187.69</td>\n",
       "      <td>2012-07-28 18:59:18</td>\n",
       "      <td>NaN</td>\n",
       "    </tr>\n",
       "    <tr>\n",
       "      <th>8</th>\n",
       "      <td>15</td>\n",
       "      <td>62</td>\n",
       "      <td>90.184.187.69</td>\n",
       "      <td>2012-07-28 18:59:37</td>\n",
       "      <td>NaN</td>\n",
       "    </tr>\n",
       "    <tr>\n",
       "      <th>9</th>\n",
       "      <td>16</td>\n",
       "      <td>62</td>\n",
       "      <td>62.107.45.66</td>\n",
       "      <td>2012-07-28 19:18:27</td>\n",
       "      <td>NaN</td>\n",
       "    </tr>\n",
       "  </tbody>\n",
       "</table>\n",
       "</div>"
      ],
      "text/plain": [
       "    id  userid          userip                date  username\n",
       "0  110     169  99.228.120.154 2012-08-01 12:47:46       NaN\n",
       "1    3      17     82.19.49.66 2012-07-26 19:21:16       NaN\n",
       "2  643     123    66.249.85.58 2012-12-12 22:42:02       NaN\n",
       "3  109     169  97.112.157.117 2012-08-01 12:43:55       NaN\n",
       "4  108     169   98.127.42.196 2012-08-01 12:41:09       NaN\n",
       "5   12      62   90.184.187.69 2012-07-28 12:00:25       NaN\n",
       "6   13      62    62.107.45.66 2012-07-28 13:24:20       NaN\n",
       "7   14      62   90.184.187.69 2012-07-28 18:59:18       NaN\n",
       "8   15      62   90.184.187.69 2012-07-28 18:59:37       NaN\n",
       "9   16      62    62.107.45.66 2012-07-28 19:18:27       NaN"
      ]
     },
     "execution_count": 28,
     "metadata": {},
     "output_type": "execute_result"
    }
   ],
   "source": [
    "# Loading the correct table name\n",
    "df_logins = pd.read_csv(read_inserted_table(dumpfile, tablename),delimiter=\",\",error_bad_lines=False)\n",
    "\n",
    "# Converting columns\n",
    "df_logins['date']=timestamp2datetime(df_logins['date'])\n",
    "\n",
    "# Changing column names\n",
    "df_logins.rename(inplace=True, columns={'ID':'id',\n",
    "                                        'userID':'userid',\n",
    "                                        'logged':'userip'})\n",
    "# Adding missing columns\n",
    "df_logins['username']=np.nan\n",
    "\n",
    "# Showing some lines after adapt the table\n",
    "df_logins.head(10)"
   ]
  },
  {
   "cell_type": "markdown",
   "metadata": {},
   "source": [
    "## 6.6. Table: 'news'"
   ]
  },
  {
   "cell_type": "markdown",
   "metadata": {},
   "source": [
    "### How this table looks like without modification?"
   ]
  },
  {
   "cell_type": "code",
   "execution_count": 30,
   "metadata": {
    "collapsed": false
   },
   "outputs": [
    {
     "data": {
      "text/html": [
       "<div>\n",
       "<table border=\"1\" class=\"dataframe\">\n",
       "  <thead>\n",
       "    <tr style=\"text-align: right;\">\n",
       "      <th></th>\n",
       "      <th>ID</th>\n",
       "      <th>title</th>\n",
       "      <th>detail</th>\n",
       "      <th>date</th>\n",
       "    </tr>\n",
       "  </thead>\n",
       "  <tbody>\n",
       "    <tr>\n",
       "      <th>0</th>\n",
       "      <td>53</td>\n",
       "      <td>Update</td>\n",
       "      <td>We have gotten everything back on track. Booti...</td>\n",
       "      <td>1356981284</td>\n",
       "    </tr>\n",
       "  </tbody>\n",
       "</table>\n",
       "</div>"
      ],
      "text/plain": [
       "   ID   title                                             detail        date\n",
       "0  53  Update  We have gotten everything back on track. Booti...  1356981284"
      ]
     },
     "execution_count": 30,
     "metadata": {},
     "output_type": "execute_result"
    }
   ],
   "source": [
    "tablename='news'\n",
    "\n",
    "pd.read_csv(read_inserted_table(dumpfile, tablename),delimiter=\",\",error_bad_lines=False).head(10)"
   ]
  },
  {
   "cell_type": "markdown",
   "metadata": {},
   "source": [
    "#### Q1: Is this table different from other previous loaded table? YES \n",
    "#### Q2: Is this table similar to any table in the generic Booter database schema? NO\n",
    "    - This table looks like: \n",
    "#### Q3: Are there modifications required? \n",
    "    - On the table name: \n",
    "        o \n",
    "    - On the column type: \n",
    "        o \n",
    "    - On the column name:\n",
    "        o \n",
    "    - Add required columns:\n",
    "        o \n",
    "    - Split columns:\n",
    "        o "
   ]
  },
  {
   "cell_type": "markdown",
   "metadata": {},
   "source": [
    "## 6.7. Table: 'payments'"
   ]
  },
  {
   "cell_type": "markdown",
   "metadata": {},
   "source": [
    "### How this table looks like without modification?"
   ]
  },
  {
   "cell_type": "code",
   "execution_count": 36,
   "metadata": {
    "collapsed": false
   },
   "outputs": [
    {
     "data": {
      "text/html": [
       "<div>\n",
       "<table border=\"1\" class=\"dataframe\">\n",
       "  <thead>\n",
       "    <tr style=\"text-align: right;\">\n",
       "      <th></th>\n",
       "      <th>ID</th>\n",
       "      <th>paid</th>\n",
       "      <th>plan</th>\n",
       "      <th>user</th>\n",
       "      <th>email</th>\n",
       "      <th>tid</th>\n",
       "      <th>date</th>\n",
       "    </tr>\n",
       "  </thead>\n",
       "  <tbody>\n",
       "    <tr>\n",
       "      <th>0</th>\n",
       "      <td>300</td>\n",
       "      <td>10</td>\n",
       "      <td>32</td>\n",
       "      <td>281</td>\n",
       "      <td>gravitycinema321@gmail.com</td>\n",
       "      <td>2FS13971XX935894F</td>\n",
       "      <td>1356316439</td>\n",
       "    </tr>\n",
       "    <tr>\n",
       "      <th>1</th>\n",
       "      <td>301</td>\n",
       "      <td>30</td>\n",
       "      <td>36</td>\n",
       "      <td>282</td>\n",
       "      <td>lowassmorals@gmail.com</td>\n",
       "      <td>8DL92634LH306970G</td>\n",
       "      <td>1356317261</td>\n",
       "    </tr>\n",
       "    <tr>\n",
       "      <th>2</th>\n",
       "      <td>302</td>\n",
       "      <td>15</td>\n",
       "      <td>33</td>\n",
       "      <td>284</td>\n",
       "      <td>sergio_2000_2000_2000@hotmail.com</td>\n",
       "      <td>02P423249U1614842</td>\n",
       "      <td>1356319679</td>\n",
       "    </tr>\n",
       "    <tr>\n",
       "      <th>3</th>\n",
       "      <td>303</td>\n",
       "      <td>7</td>\n",
       "      <td>28</td>\n",
       "      <td>286</td>\n",
       "      <td>hunter-ely@live.com</td>\n",
       "      <td>3UE30696A1812553P</td>\n",
       "      <td>1356321715</td>\n",
       "    </tr>\n",
       "    <tr>\n",
       "      <th>4</th>\n",
       "      <td>304</td>\n",
       "      <td>10</td>\n",
       "      <td>32</td>\n",
       "      <td>287</td>\n",
       "      <td>msgoe@aol.com</td>\n",
       "      <td>5T0095761A623700E</td>\n",
       "      <td>1356327846</td>\n",
       "    </tr>\n",
       "    <tr>\n",
       "      <th>5</th>\n",
       "      <td>305</td>\n",
       "      <td>7</td>\n",
       "      <td>28</td>\n",
       "      <td>292</td>\n",
       "      <td>infectedkush@live.no</td>\n",
       "      <td>2E22084704129044M</td>\n",
       "      <td>1356359818</td>\n",
       "    </tr>\n",
       "    <tr>\n",
       "      <th>6</th>\n",
       "      <td>306</td>\n",
       "      <td>35</td>\n",
       "      <td>29</td>\n",
       "      <td>294</td>\n",
       "      <td>grass0269@gmail.com</td>\n",
       "      <td>3N3755352G049725N</td>\n",
       "      <td>1356374828</td>\n",
       "    </tr>\n",
       "    <tr>\n",
       "      <th>7</th>\n",
       "      <td>307</td>\n",
       "      <td>10</td>\n",
       "      <td>32</td>\n",
       "      <td>295</td>\n",
       "      <td>Games@live.com</td>\n",
       "      <td>0K138766RV7641630</td>\n",
       "      <td>1356377933</td>\n",
       "    </tr>\n",
       "    <tr>\n",
       "      <th>8</th>\n",
       "      <td>308</td>\n",
       "      <td>7</td>\n",
       "      <td>28</td>\n",
       "      <td>299</td>\n",
       "      <td>camturner97@hotmail.co.uk</td>\n",
       "      <td>6562747405417552T</td>\n",
       "      <td>1356382549</td>\n",
       "    </tr>\n",
       "    <tr>\n",
       "      <th>9</th>\n",
       "      <td>309</td>\n",
       "      <td>4</td>\n",
       "      <td>28</td>\n",
       "      <td>298</td>\n",
       "      <td>zdannyboi@hotmail.co.uk</td>\n",
       "      <td>16773081TY084493N</td>\n",
       "      <td>1356382696</td>\n",
       "    </tr>\n",
       "  </tbody>\n",
       "</table>\n",
       "</div>"
      ],
      "text/plain": [
       "    ID  paid  plan  user                              email  \\\n",
       "0  300    10    32   281         gravitycinema321@gmail.com   \n",
       "1  301    30    36   282             lowassmorals@gmail.com   \n",
       "2  302    15    33   284  sergio_2000_2000_2000@hotmail.com   \n",
       "3  303     7    28   286                hunter-ely@live.com   \n",
       "4  304    10    32   287                      msgoe@aol.com   \n",
       "5  305     7    28   292               infectedkush@live.no   \n",
       "6  306    35    29   294                grass0269@gmail.com   \n",
       "7  307    10    32   295                     Games@live.com   \n",
       "8  308     7    28   299          camturner97@hotmail.co.uk   \n",
       "9  309     4    28   298            zdannyboi@hotmail.co.uk   \n",
       "\n",
       "                 tid        date  \n",
       "0  2FS13971XX935894F  1356316439  \n",
       "1  8DL92634LH306970G  1356317261  \n",
       "2  02P423249U1614842  1356319679  \n",
       "3  3UE30696A1812553P  1356321715  \n",
       "4  5T0095761A623700E  1356327846  \n",
       "5  2E22084704129044M  1356359818  \n",
       "6  3N3755352G049725N  1356374828  \n",
       "7  0K138766RV7641630  1356377933  \n",
       "8  6562747405417552T  1356382549  \n",
       "9  16773081TY084493N  1356382696  "
      ]
     },
     "execution_count": 36,
     "metadata": {},
     "output_type": "execute_result"
    }
   ],
   "source": [
    "tablename='payments'\n",
    "\n",
    "pd.read_csv(read_inserted_table(dumpfile, tablename),delimiter=\",\",error_bad_lines=False).head(10)"
   ]
  },
  {
   "cell_type": "markdown",
   "metadata": {},
   "source": [
    "#### Q1: Is this table different from other previous loaded table? YES \n",
    "#### Q2: Is this table similar to any table in the generic Booter database schema? YES \n",
    "    - This table looks like: payments\n",
    "#### Q3: Are there modifications required? \n",
    "    - On the table name: \n",
    "        o \n",
    "    - On the column type: \n",
    "        o date -> timestamp2datetime()\n",
    "    - On the column name:\n",
    "        o ID -> id\n",
    "        o paid -> amountpaid\n",
    "        o plan ->planid\n",
    "        o user -> userid\n",
    "        o email -> paymentemail\n",
    "        \n",
    "    - Add required columns:\n",
    "        o username\n",
    "    - Split columns:\n",
    "        o "
   ]
  },
  {
   "cell_type": "markdown",
   "metadata": {},
   "source": [
    "### Modifying table: 'payments'"
   ]
  },
  {
   "cell_type": "code",
   "execution_count": 37,
   "metadata": {
    "collapsed": false
   },
   "outputs": [
    {
     "data": {
      "text/html": [
       "<div>\n",
       "<table border=\"1\" class=\"dataframe\">\n",
       "  <thead>\n",
       "    <tr style=\"text-align: right;\">\n",
       "      <th></th>\n",
       "      <th>id</th>\n",
       "      <th>amount</th>\n",
       "      <th>planid</th>\n",
       "      <th>userid</th>\n",
       "      <th>paymentemail</th>\n",
       "      <th>tid</th>\n",
       "      <th>date</th>\n",
       "      <th>username</th>\n",
       "    </tr>\n",
       "  </thead>\n",
       "  <tbody>\n",
       "    <tr>\n",
       "      <th>0</th>\n",
       "      <td>300</td>\n",
       "      <td>10</td>\n",
       "      <td>32</td>\n",
       "      <td>281</td>\n",
       "      <td>gravitycinema321@gmail.com</td>\n",
       "      <td>2FS13971XX935894F</td>\n",
       "      <td>2012-12-24 02:33:59</td>\n",
       "      <td>NaN</td>\n",
       "    </tr>\n",
       "    <tr>\n",
       "      <th>1</th>\n",
       "      <td>301</td>\n",
       "      <td>30</td>\n",
       "      <td>36</td>\n",
       "      <td>282</td>\n",
       "      <td>lowassmorals@gmail.com</td>\n",
       "      <td>8DL92634LH306970G</td>\n",
       "      <td>2012-12-24 02:47:41</td>\n",
       "      <td>NaN</td>\n",
       "    </tr>\n",
       "    <tr>\n",
       "      <th>2</th>\n",
       "      <td>302</td>\n",
       "      <td>15</td>\n",
       "      <td>33</td>\n",
       "      <td>284</td>\n",
       "      <td>sergio_2000_2000_2000@hotmail.com</td>\n",
       "      <td>02P423249U1614842</td>\n",
       "      <td>2012-12-24 03:27:59</td>\n",
       "      <td>NaN</td>\n",
       "    </tr>\n",
       "    <tr>\n",
       "      <th>3</th>\n",
       "      <td>303</td>\n",
       "      <td>7</td>\n",
       "      <td>28</td>\n",
       "      <td>286</td>\n",
       "      <td>hunter-ely@live.com</td>\n",
       "      <td>3UE30696A1812553P</td>\n",
       "      <td>2012-12-24 04:01:55</td>\n",
       "      <td>NaN</td>\n",
       "    </tr>\n",
       "    <tr>\n",
       "      <th>4</th>\n",
       "      <td>304</td>\n",
       "      <td>10</td>\n",
       "      <td>32</td>\n",
       "      <td>287</td>\n",
       "      <td>msgoe@aol.com</td>\n",
       "      <td>5T0095761A623700E</td>\n",
       "      <td>2012-12-24 05:44:06</td>\n",
       "      <td>NaN</td>\n",
       "    </tr>\n",
       "    <tr>\n",
       "      <th>5</th>\n",
       "      <td>305</td>\n",
       "      <td>7</td>\n",
       "      <td>28</td>\n",
       "      <td>292</td>\n",
       "      <td>infectedkush@live.no</td>\n",
       "      <td>2E22084704129044M</td>\n",
       "      <td>2012-12-24 14:36:58</td>\n",
       "      <td>NaN</td>\n",
       "    </tr>\n",
       "    <tr>\n",
       "      <th>6</th>\n",
       "      <td>306</td>\n",
       "      <td>35</td>\n",
       "      <td>29</td>\n",
       "      <td>294</td>\n",
       "      <td>grass0269@gmail.com</td>\n",
       "      <td>3N3755352G049725N</td>\n",
       "      <td>2012-12-24 18:47:08</td>\n",
       "      <td>NaN</td>\n",
       "    </tr>\n",
       "    <tr>\n",
       "      <th>7</th>\n",
       "      <td>307</td>\n",
       "      <td>10</td>\n",
       "      <td>32</td>\n",
       "      <td>295</td>\n",
       "      <td>Games@live.com</td>\n",
       "      <td>0K138766RV7641630</td>\n",
       "      <td>2012-12-24 19:38:53</td>\n",
       "      <td>NaN</td>\n",
       "    </tr>\n",
       "    <tr>\n",
       "      <th>8</th>\n",
       "      <td>308</td>\n",
       "      <td>7</td>\n",
       "      <td>28</td>\n",
       "      <td>299</td>\n",
       "      <td>camturner97@hotmail.co.uk</td>\n",
       "      <td>6562747405417552T</td>\n",
       "      <td>2012-12-24 20:55:49</td>\n",
       "      <td>NaN</td>\n",
       "    </tr>\n",
       "    <tr>\n",
       "      <th>9</th>\n",
       "      <td>309</td>\n",
       "      <td>4</td>\n",
       "      <td>28</td>\n",
       "      <td>298</td>\n",
       "      <td>zdannyboi@hotmail.co.uk</td>\n",
       "      <td>16773081TY084493N</td>\n",
       "      <td>2012-12-24 20:58:16</td>\n",
       "      <td>NaN</td>\n",
       "    </tr>\n",
       "  </tbody>\n",
       "</table>\n",
       "</div>"
      ],
      "text/plain": [
       "    id  amount  planid  userid                       paymentemail  \\\n",
       "0  300      10      32     281         gravitycinema321@gmail.com   \n",
       "1  301      30      36     282             lowassmorals@gmail.com   \n",
       "2  302      15      33     284  sergio_2000_2000_2000@hotmail.com   \n",
       "3  303       7      28     286                hunter-ely@live.com   \n",
       "4  304      10      32     287                      msgoe@aol.com   \n",
       "5  305       7      28     292               infectedkush@live.no   \n",
       "6  306      35      29     294                grass0269@gmail.com   \n",
       "7  307      10      32     295                     Games@live.com   \n",
       "8  308       7      28     299          camturner97@hotmail.co.uk   \n",
       "9  309       4      28     298            zdannyboi@hotmail.co.uk   \n",
       "\n",
       "                 tid                date  username  \n",
       "0  2FS13971XX935894F 2012-12-24 02:33:59       NaN  \n",
       "1  8DL92634LH306970G 2012-12-24 02:47:41       NaN  \n",
       "2  02P423249U1614842 2012-12-24 03:27:59       NaN  \n",
       "3  3UE30696A1812553P 2012-12-24 04:01:55       NaN  \n",
       "4  5T0095761A623700E 2012-12-24 05:44:06       NaN  \n",
       "5  2E22084704129044M 2012-12-24 14:36:58       NaN  \n",
       "6  3N3755352G049725N 2012-12-24 18:47:08       NaN  \n",
       "7  0K138766RV7641630 2012-12-24 19:38:53       NaN  \n",
       "8  6562747405417552T 2012-12-24 20:55:49       NaN  \n",
       "9  16773081TY084493N 2012-12-24 20:58:16       NaN  "
      ]
     },
     "execution_count": 37,
     "metadata": {},
     "output_type": "execute_result"
    }
   ],
   "source": [
    "# Loading the correct table name\n",
    "df_payments = pd.read_csv(read_inserted_table(dumpfile, tablename),delimiter=\",\",error_bad_lines=False)\n",
    "\n",
    "# Converting columns\n",
    "df_payments['date'] = timestamp2datetime(df_payments['date']) \n",
    "\n",
    "# Changing names of columns\n",
    "df_payments.rename(inplace=True, columns={'ID':'id',\n",
    "                                        'paid':'amount',\n",
    "                                         'plan':'planid',\n",
    "                                         'user':'userid',\n",
    "                                         'email':'paymentemail'})\n",
    "\n",
    "# Creating empty columns (with \"\" [for future string] or np.nan [for future float])\n",
    "df_payments['username']=np.nan\n",
    "\n",
    "# Showing some lines after adapt the table\n",
    "df_payments.head(10)"
   ]
  },
  {
   "cell_type": "markdown",
   "metadata": {},
   "source": [
    "## 6.8. Table: 'plans'"
   ]
  },
  {
   "cell_type": "markdown",
   "metadata": {},
   "source": [
    "### How this table looks like without modification?"
   ]
  },
  {
   "cell_type": "code",
   "execution_count": 38,
   "metadata": {
    "collapsed": false
   },
   "outputs": [
    {
     "data": {
      "text/html": [
       "<div>\n",
       "<table border=\"1\" class=\"dataframe\">\n",
       "  <thead>\n",
       "    <tr style=\"text-align: right;\">\n",
       "      <th></th>\n",
       "      <th>ID</th>\n",
       "      <th>name</th>\n",
       "      <th>description</th>\n",
       "      <th>mbt</th>\n",
       "      <th>unit</th>\n",
       "      <th>length</th>\n",
       "      <th>price</th>\n",
       "    </tr>\n",
       "  </thead>\n",
       "  <tbody>\n",
       "    <tr>\n",
       "      <th>0</th>\n",
       "      <td>39</td>\n",
       "      <td>Gym Leader - Lifetime</td>\n",
       "      <td>Max Boot Time: 1800 Seconds | Length of Licens...</td>\n",
       "      <td>1800</td>\n",
       "      <td>Years</td>\n",
       "      <td>10</td>\n",
       "      <td>80</td>\n",
       "    </tr>\n",
       "    <tr>\n",
       "      <th>1</th>\n",
       "      <td>40</td>\n",
       "      <td>Pokemon Master - Lifetime</td>\n",
       "      <td>Max Boot Time: 3600 Seconds | Length of Licens...</td>\n",
       "      <td>3600</td>\n",
       "      <td>Years</td>\n",
       "      <td>10</td>\n",
       "      <td>100</td>\n",
       "    </tr>\n",
       "    <tr>\n",
       "      <th>2</th>\n",
       "      <td>41</td>\n",
       "      <td>Pikachu - Lifetime</td>\n",
       "      <td>Max Boot Time: 5400 Seconds | Length of Licens...</td>\n",
       "      <td>5400</td>\n",
       "      <td>Years</td>\n",
       "      <td>10</td>\n",
       "      <td>120</td>\n",
       "    </tr>\n",
       "    <tr>\n",
       "      <th>3</th>\n",
       "      <td>38</td>\n",
       "      <td>PokeManiac - Lifetime</td>\n",
       "      <td>Max Boot Time: 1200 Seconds | Length of Licens...</td>\n",
       "      <td>1200</td>\n",
       "      <td>Years</td>\n",
       "      <td>10</td>\n",
       "      <td>60</td>\n",
       "    </tr>\n",
       "    <tr>\n",
       "      <th>4</th>\n",
       "      <td>28</td>\n",
       "      <td>Starter Trainer - Monthly</td>\n",
       "      <td>Max Boot Time: 300 Seconds | Length of License...</td>\n",
       "      <td>300</td>\n",
       "      <td>Months</td>\n",
       "      <td>2</td>\n",
       "      <td>7</td>\n",
       "    </tr>\n",
       "    <tr>\n",
       "      <th>5</th>\n",
       "      <td>29</td>\n",
       "      <td>Starter Trainer - Lifetime</td>\n",
       "      <td>Max Boot Time: 300 Seconds | Length of License...</td>\n",
       "      <td>300</td>\n",
       "      <td>Years</td>\n",
       "      <td>10</td>\n",
       "      <td>35</td>\n",
       "    </tr>\n",
       "    <tr>\n",
       "      <th>6</th>\n",
       "      <td>37</td>\n",
       "      <td>Junior Trainer - Lifetime</td>\n",
       "      <td>Max Boot Time: 600 Seconds | Length of License...</td>\n",
       "      <td>600</td>\n",
       "      <td>Years</td>\n",
       "      <td>10</td>\n",
       "      <td>45</td>\n",
       "    </tr>\n",
       "    <tr>\n",
       "      <th>7</th>\n",
       "      <td>32</td>\n",
       "      <td>Junior Trainer - Monthly</td>\n",
       "      <td>Max Boot Time: 600 Seconds | Length of License...</td>\n",
       "      <td>600</td>\n",
       "      <td>Months</td>\n",
       "      <td>2</td>\n",
       "      <td>10</td>\n",
       "    </tr>\n",
       "    <tr>\n",
       "      <th>8</th>\n",
       "      <td>33</td>\n",
       "      <td>PokeManiac - Monthly</td>\n",
       "      <td>Max Boot Time: 1200 Seconds | Length of Licens...</td>\n",
       "      <td>1200</td>\n",
       "      <td>Months</td>\n",
       "      <td>2</td>\n",
       "      <td>15</td>\n",
       "    </tr>\n",
       "    <tr>\n",
       "      <th>9</th>\n",
       "      <td>34</td>\n",
       "      <td>Gym Leader - Monthly</td>\n",
       "      <td>Max Boot Time: 1800 Seconds | Length of Licens...</td>\n",
       "      <td>1800</td>\n",
       "      <td>Months</td>\n",
       "      <td>2</td>\n",
       "      <td>20</td>\n",
       "    </tr>\n",
       "  </tbody>\n",
       "</table>\n",
       "</div>"
      ],
      "text/plain": [
       "   ID                        name  \\\n",
       "0  39       Gym Leader - Lifetime   \n",
       "1  40   Pokemon Master - Lifetime   \n",
       "2  41          Pikachu - Lifetime   \n",
       "3  38       PokeManiac - Lifetime   \n",
       "4  28   Starter Trainer - Monthly   \n",
       "5  29  Starter Trainer - Lifetime   \n",
       "6  37   Junior Trainer - Lifetime   \n",
       "7  32    Junior Trainer - Monthly   \n",
       "8  33        PokeManiac - Monthly   \n",
       "9  34        Gym Leader - Monthly   \n",
       "\n",
       "                                         description   mbt    unit  length  \\\n",
       "0  Max Boot Time: 1800 Seconds | Length of Licens...  1800   Years      10   \n",
       "1  Max Boot Time: 3600 Seconds | Length of Licens...  3600   Years      10   \n",
       "2  Max Boot Time: 5400 Seconds | Length of Licens...  5400   Years      10   \n",
       "3  Max Boot Time: 1200 Seconds | Length of Licens...  1200   Years      10   \n",
       "4  Max Boot Time: 300 Seconds | Length of License...   300  Months       2   \n",
       "5  Max Boot Time: 300 Seconds | Length of License...   300   Years      10   \n",
       "6  Max Boot Time: 600 Seconds | Length of License...   600   Years      10   \n",
       "7  Max Boot Time: 600 Seconds | Length of License...   600  Months       2   \n",
       "8  Max Boot Time: 1200 Seconds | Length of Licens...  1200  Months       2   \n",
       "9  Max Boot Time: 1800 Seconds | Length of Licens...  1800  Months       2   \n",
       "\n",
       "   price  \n",
       "0     80  \n",
       "1    100  \n",
       "2    120  \n",
       "3     60  \n",
       "4      7  \n",
       "5     35  \n",
       "6     45  \n",
       "7     10  \n",
       "8     15  \n",
       "9     20  "
      ]
     },
     "execution_count": 38,
     "metadata": {},
     "output_type": "execute_result"
    }
   ],
   "source": [
    "tablename='plans'\n",
    "\n",
    "pd.read_csv(read_inserted_table(dumpfile, tablename),delimiter=\",\",error_bad_lines=False).head(10)"
   ]
  },
  {
   "cell_type": "markdown",
   "metadata": {},
   "source": [
    "#### Q1: Is this table different from other previous loaded table? YES \n",
    "#### Q2: Is this table similar to any table in the generic Booter database schema? YES\n",
    "    - This table looks like: plans\n",
    "#### Q3: Are there modifications required? \n",
    "    - On the table name: \n",
    "        o \n",
    "    - On the column type: \n",
    "        o \n",
    "    - On the column name:\n",
    "        o ID -> planid\n",
    "        o name -> planname\n",
    "        o description -> plandescr\n",
    "        o mbt -> maxboottime\n",
    "    - Add required columns:\n",
    "        o concurrecy\n",
    "    - Split columns:\n",
    "        o "
   ]
  },
  {
   "cell_type": "markdown",
   "metadata": {},
   "source": [
    "### Modifying table: 'plans'"
   ]
  },
  {
   "cell_type": "code",
   "execution_count": 39,
   "metadata": {
    "collapsed": false
   },
   "outputs": [
    {
     "data": {
      "text/html": [
       "<div>\n",
       "<table border=\"1\" class=\"dataframe\">\n",
       "  <thead>\n",
       "    <tr style=\"text-align: right;\">\n",
       "      <th></th>\n",
       "      <th>planid</th>\n",
       "      <th>planname</th>\n",
       "      <th>plandescr</th>\n",
       "      <th>maxboottime</th>\n",
       "      <th>unit</th>\n",
       "      <th>length</th>\n",
       "      <th>price</th>\n",
       "      <th>concurrency</th>\n",
       "    </tr>\n",
       "  </thead>\n",
       "  <tbody>\n",
       "    <tr>\n",
       "      <th>0</th>\n",
       "      <td>39</td>\n",
       "      <td>Gym Leader - Lifetime</td>\n",
       "      <td>Max Boot Time: 1800 Seconds | Length of Licens...</td>\n",
       "      <td>1800</td>\n",
       "      <td>Years</td>\n",
       "      <td>10</td>\n",
       "      <td>80</td>\n",
       "      <td>NaN</td>\n",
       "    </tr>\n",
       "    <tr>\n",
       "      <th>1</th>\n",
       "      <td>40</td>\n",
       "      <td>Pokemon Master - Lifetime</td>\n",
       "      <td>Max Boot Time: 3600 Seconds | Length of Licens...</td>\n",
       "      <td>3600</td>\n",
       "      <td>Years</td>\n",
       "      <td>10</td>\n",
       "      <td>100</td>\n",
       "      <td>NaN</td>\n",
       "    </tr>\n",
       "    <tr>\n",
       "      <th>2</th>\n",
       "      <td>41</td>\n",
       "      <td>Pikachu - Lifetime</td>\n",
       "      <td>Max Boot Time: 5400 Seconds | Length of Licens...</td>\n",
       "      <td>5400</td>\n",
       "      <td>Years</td>\n",
       "      <td>10</td>\n",
       "      <td>120</td>\n",
       "      <td>NaN</td>\n",
       "    </tr>\n",
       "    <tr>\n",
       "      <th>3</th>\n",
       "      <td>38</td>\n",
       "      <td>PokeManiac - Lifetime</td>\n",
       "      <td>Max Boot Time: 1200 Seconds | Length of Licens...</td>\n",
       "      <td>1200</td>\n",
       "      <td>Years</td>\n",
       "      <td>10</td>\n",
       "      <td>60</td>\n",
       "      <td>NaN</td>\n",
       "    </tr>\n",
       "    <tr>\n",
       "      <th>4</th>\n",
       "      <td>28</td>\n",
       "      <td>Starter Trainer - Monthly</td>\n",
       "      <td>Max Boot Time: 300 Seconds | Length of License...</td>\n",
       "      <td>300</td>\n",
       "      <td>Months</td>\n",
       "      <td>2</td>\n",
       "      <td>7</td>\n",
       "      <td>NaN</td>\n",
       "    </tr>\n",
       "    <tr>\n",
       "      <th>5</th>\n",
       "      <td>29</td>\n",
       "      <td>Starter Trainer - Lifetime</td>\n",
       "      <td>Max Boot Time: 300 Seconds | Length of License...</td>\n",
       "      <td>300</td>\n",
       "      <td>Years</td>\n",
       "      <td>10</td>\n",
       "      <td>35</td>\n",
       "      <td>NaN</td>\n",
       "    </tr>\n",
       "    <tr>\n",
       "      <th>6</th>\n",
       "      <td>37</td>\n",
       "      <td>Junior Trainer - Lifetime</td>\n",
       "      <td>Max Boot Time: 600 Seconds | Length of License...</td>\n",
       "      <td>600</td>\n",
       "      <td>Years</td>\n",
       "      <td>10</td>\n",
       "      <td>45</td>\n",
       "      <td>NaN</td>\n",
       "    </tr>\n",
       "    <tr>\n",
       "      <th>7</th>\n",
       "      <td>32</td>\n",
       "      <td>Junior Trainer - Monthly</td>\n",
       "      <td>Max Boot Time: 600 Seconds | Length of License...</td>\n",
       "      <td>600</td>\n",
       "      <td>Months</td>\n",
       "      <td>2</td>\n",
       "      <td>10</td>\n",
       "      <td>NaN</td>\n",
       "    </tr>\n",
       "    <tr>\n",
       "      <th>8</th>\n",
       "      <td>33</td>\n",
       "      <td>PokeManiac - Monthly</td>\n",
       "      <td>Max Boot Time: 1200 Seconds | Length of Licens...</td>\n",
       "      <td>1200</td>\n",
       "      <td>Months</td>\n",
       "      <td>2</td>\n",
       "      <td>15</td>\n",
       "      <td>NaN</td>\n",
       "    </tr>\n",
       "    <tr>\n",
       "      <th>9</th>\n",
       "      <td>34</td>\n",
       "      <td>Gym Leader - Monthly</td>\n",
       "      <td>Max Boot Time: 1800 Seconds | Length of Licens...</td>\n",
       "      <td>1800</td>\n",
       "      <td>Months</td>\n",
       "      <td>2</td>\n",
       "      <td>20</td>\n",
       "      <td>NaN</td>\n",
       "    </tr>\n",
       "  </tbody>\n",
       "</table>\n",
       "</div>"
      ],
      "text/plain": [
       "   planid                    planname  \\\n",
       "0      39       Gym Leader - Lifetime   \n",
       "1      40   Pokemon Master - Lifetime   \n",
       "2      41          Pikachu - Lifetime   \n",
       "3      38       PokeManiac - Lifetime   \n",
       "4      28   Starter Trainer - Monthly   \n",
       "5      29  Starter Trainer - Lifetime   \n",
       "6      37   Junior Trainer - Lifetime   \n",
       "7      32    Junior Trainer - Monthly   \n",
       "8      33        PokeManiac - Monthly   \n",
       "9      34        Gym Leader - Monthly   \n",
       "\n",
       "                                           plandescr  maxboottime    unit  \\\n",
       "0  Max Boot Time: 1800 Seconds | Length of Licens...         1800   Years   \n",
       "1  Max Boot Time: 3600 Seconds | Length of Licens...         3600   Years   \n",
       "2  Max Boot Time: 5400 Seconds | Length of Licens...         5400   Years   \n",
       "3  Max Boot Time: 1200 Seconds | Length of Licens...         1200   Years   \n",
       "4  Max Boot Time: 300 Seconds | Length of License...          300  Months   \n",
       "5  Max Boot Time: 300 Seconds | Length of License...          300   Years   \n",
       "6  Max Boot Time: 600 Seconds | Length of License...          600   Years   \n",
       "7  Max Boot Time: 600 Seconds | Length of License...          600  Months   \n",
       "8  Max Boot Time: 1200 Seconds | Length of Licens...         1200  Months   \n",
       "9  Max Boot Time: 1800 Seconds | Length of Licens...         1800  Months   \n",
       "\n",
       "   length  price  concurrency  \n",
       "0      10     80          NaN  \n",
       "1      10    100          NaN  \n",
       "2      10    120          NaN  \n",
       "3      10     60          NaN  \n",
       "4       2      7          NaN  \n",
       "5      10     35          NaN  \n",
       "6      10     45          NaN  \n",
       "7       2     10          NaN  \n",
       "8       2     15          NaN  \n",
       "9       2     20          NaN  "
      ]
     },
     "execution_count": 39,
     "metadata": {},
     "output_type": "execute_result"
    }
   ],
   "source": [
    "# Loading the correct table name\n",
    "df_plans = pd.read_csv(read_inserted_table(dumpfile, tablename),delimiter=\",\",error_bad_lines=False)\n",
    "\n",
    "# Converting columns\n",
    "\n",
    "# Changing names of columns\n",
    "df_plans.rename(inplace=True, columns={'ID':'planid',\n",
    "                                         'name':'planname',\n",
    "                                         'description': 'plandescr',\n",
    "                                         'mbt':'maxboottime'})\n",
    "\n",
    "# Creating empty columns (with \"\" [for future string] or np.nan [for future float])\n",
    "df_plans['concurrency']=np.nan\n",
    "\n",
    "# Showing some lines after adapt the table\n",
    "df_plans.head(10)"
   ]
  },
  {
   "cell_type": "markdown",
   "metadata": {},
   "source": [
    "## 6.9. Table: 'users'"
   ]
  },
  {
   "cell_type": "markdown",
   "metadata": {},
   "source": [
    "### How this table looks like without modification?"
   ]
  },
  {
   "cell_type": "code",
   "execution_count": 44,
   "metadata": {
    "collapsed": false
   },
   "outputs": [
    {
     "data": {
      "text/html": [
       "<div>\n",
       "<table border=\"1\" class=\"dataframe\">\n",
       "  <thead>\n",
       "    <tr style=\"text-align: right;\">\n",
       "      <th></th>\n",
       "      <th>ID</th>\n",
       "      <th>username</th>\n",
       "      <th>password</th>\n",
       "      <th>email</th>\n",
       "      <th>rank</th>\n",
       "      <th>membership</th>\n",
       "      <th>expire</th>\n",
       "      <th>status</th>\n",
       "    </tr>\n",
       "  </thead>\n",
       "  <tbody>\n",
       "    <tr>\n",
       "      <th>0</th>\n",
       "      <td>1</td>\n",
       "      <td>Phenomenal</td>\n",
       "      <td>d745c4e4ff36c4106b8147ad957a8deffc7c0308</td>\n",
       "      <td>solace@love.com</td>\n",
       "      <td>1</td>\n",
       "      <td>41</td>\n",
       "      <td>1669844075</td>\n",
       "      <td>0</td>\n",
       "    </tr>\n",
       "    <tr>\n",
       "      <th>1</th>\n",
       "      <td>2</td>\n",
       "      <td>Sandshrew</td>\n",
       "      <td>9c35bcf7ad2513181aec38312a674aa1ffdf6403</td>\n",
       "      <td>Sandyshut@gmail.com</td>\n",
       "      <td>1</td>\n",
       "      <td>41</td>\n",
       "      <td>1670487699</td>\n",
       "      <td>0</td>\n",
       "    </tr>\n",
       "    <tr>\n",
       "      <th>2</th>\n",
       "      <td>4</td>\n",
       "      <td>Anarchy</td>\n",
       "      <td>3428c31326d9e7314dde6533f2d7c66085d0f4dd</td>\n",
       "      <td>rablaxman@gmail.com</td>\n",
       "      <td>0</td>\n",
       "      <td>32</td>\n",
       "      <td>1356663821</td>\n",
       "      <td>0</td>\n",
       "    </tr>\n",
       "    <tr>\n",
       "      <th>3</th>\n",
       "      <td>5</td>\n",
       "      <td>Courage</td>\n",
       "      <td>941c2e2a56b288fc200a277f23f5440f614c5f68</td>\n",
       "      <td>orangematt11@hotmail.com</td>\n",
       "      <td>0</td>\n",
       "      <td>0</td>\n",
       "      <td>0</td>\n",
       "      <td>0</td>\n",
       "    </tr>\n",
       "    <tr>\n",
       "      <th>4</th>\n",
       "      <td>6</td>\n",
       "      <td>Aurora</td>\n",
       "      <td>5baa61e4c9b93f3f0682250b6cf8331b7ee68fd8</td>\n",
       "      <td>pigwart@hotmail.com</td>\n",
       "      <td>0</td>\n",
       "      <td>32</td>\n",
       "      <td>1356760479</td>\n",
       "      <td>0</td>\n",
       "    </tr>\n",
       "    <tr>\n",
       "      <th>5</th>\n",
       "      <td>7</td>\n",
       "      <td>Ambyx</td>\n",
       "      <td>8f029be283595d64c48197fad27749add3e1ba66</td>\n",
       "      <td>NotARedPanda@gmail.com</td>\n",
       "      <td>0</td>\n",
       "      <td>33</td>\n",
       "      <td>1356814672</td>\n",
       "      <td>0</td>\n",
       "    </tr>\n",
       "    <tr>\n",
       "      <th>6</th>\n",
       "      <td>8</td>\n",
       "      <td>anetka</td>\n",
       "      <td>49e5e5afac2ccfe32f1638da4549280bbec89874</td>\n",
       "      <td>rome.64@gmail.com</td>\n",
       "      <td>0</td>\n",
       "      <td>0</td>\n",
       "      <td>0</td>\n",
       "      <td>0</td>\n",
       "    </tr>\n",
       "    <tr>\n",
       "      <th>7</th>\n",
       "      <td>9</td>\n",
       "      <td>brad</td>\n",
       "      <td>9233b6f5388d6867a2a7be14d8b4ba53c86cfde2</td>\n",
       "      <td>brad@yopmail.com</td>\n",
       "      <td>0</td>\n",
       "      <td>32</td>\n",
       "      <td>1356828677</td>\n",
       "      <td>0</td>\n",
       "    </tr>\n",
       "    <tr>\n",
       "      <th>8</th>\n",
       "      <td>10</td>\n",
       "      <td>JetFoil</td>\n",
       "      <td>6b8dbffff2f0388a8047ca4a0abf0a440cafac21</td>\n",
       "      <td>jacksonkoehne@hotmail.com</td>\n",
       "      <td>0</td>\n",
       "      <td>29</td>\n",
       "      <td>1670100037</td>\n",
       "      <td>0</td>\n",
       "    </tr>\n",
       "    <tr>\n",
       "      <th>9</th>\n",
       "      <td>11</td>\n",
       "      <td>plowwy</td>\n",
       "      <td>3c02078c95cf0c994919830a17ac03032f6c1395</td>\n",
       "      <td>rtaylormtc@gmail.com</td>\n",
       "      <td>0</td>\n",
       "      <td>0</td>\n",
       "      <td>1356841686</td>\n",
       "      <td>0</td>\n",
       "    </tr>\n",
       "  </tbody>\n",
       "</table>\n",
       "</div>"
      ],
      "text/plain": [
       "   ID    username                                  password  \\\n",
       "0   1  Phenomenal  d745c4e4ff36c4106b8147ad957a8deffc7c0308   \n",
       "1   2   Sandshrew  9c35bcf7ad2513181aec38312a674aa1ffdf6403   \n",
       "2   4     Anarchy  3428c31326d9e7314dde6533f2d7c66085d0f4dd   \n",
       "3   5     Courage  941c2e2a56b288fc200a277f23f5440f614c5f68   \n",
       "4   6      Aurora  5baa61e4c9b93f3f0682250b6cf8331b7ee68fd8   \n",
       "5   7       Ambyx  8f029be283595d64c48197fad27749add3e1ba66   \n",
       "6   8      anetka  49e5e5afac2ccfe32f1638da4549280bbec89874   \n",
       "7   9        brad  9233b6f5388d6867a2a7be14d8b4ba53c86cfde2   \n",
       "8  10     JetFoil  6b8dbffff2f0388a8047ca4a0abf0a440cafac21   \n",
       "9  11      plowwy  3c02078c95cf0c994919830a17ac03032f6c1395   \n",
       "\n",
       "                       email  rank  membership      expire  status  \n",
       "0            solace@love.com     1          41  1669844075       0  \n",
       "1        Sandyshut@gmail.com     1          41  1670487699       0  \n",
       "2        rablaxman@gmail.com     0          32  1356663821       0  \n",
       "3   orangematt11@hotmail.com     0           0           0       0  \n",
       "4        pigwart@hotmail.com     0          32  1356760479       0  \n",
       "5     NotARedPanda@gmail.com     0          33  1356814672       0  \n",
       "6          rome.64@gmail.com     0           0           0       0  \n",
       "7           brad@yopmail.com     0          32  1356828677       0  \n",
       "8  jacksonkoehne@hotmail.com     0          29  1670100037       0  \n",
       "9       rtaylormtc@gmail.com     0           0  1356841686       0  "
      ]
     },
     "execution_count": 44,
     "metadata": {},
     "output_type": "execute_result"
    }
   ],
   "source": [
    "tablename='users'\n",
    "\n",
    "pd.read_csv(read_inserted_table(dumpfile, tablename),delimiter=\",\",error_bad_lines=False).head(10)"
   ]
  },
  {
   "cell_type": "markdown",
   "metadata": {},
   "source": [
    "#### Q1: Is this table different from other previous loaded table? YES \n",
    "#### Q2: Is this table similar to any table in the generic Booter database schema? YES \n",
    "    - This table looks like: users\n",
    "#### Q3: Are there modifications required? \n",
    "    - On the table name: \n",
    "        o \n",
    "    - On the column type: \n",
    "        o expire -> timestamp2datetime()\n",
    "    - On the column name:\n",
    "        o ID -> userid\n",
    "        o email -> useremail \n",
    "        o membership -> planid        \n",
    "    - Add required columns:\n",
    "        o \n",
    "    - Split columns:\n",
    "        o "
   ]
  },
  {
   "cell_type": "markdown",
   "metadata": {},
   "source": [
    "### Modifying table: 'users'"
   ]
  },
  {
   "cell_type": "code",
   "execution_count": 41,
   "metadata": {
    "collapsed": false
   },
   "outputs": [
    {
     "data": {
      "text/html": [
       "<div>\n",
       "<table border=\"1\" class=\"dataframe\">\n",
       "  <thead>\n",
       "    <tr style=\"text-align: right;\">\n",
       "      <th></th>\n",
       "      <th>userid</th>\n",
       "      <th>username</th>\n",
       "      <th>password</th>\n",
       "      <th>useremail</th>\n",
       "      <th>rank</th>\n",
       "      <th>planid</th>\n",
       "      <th>expire</th>\n",
       "      <th>status</th>\n",
       "    </tr>\n",
       "  </thead>\n",
       "  <tbody>\n",
       "    <tr>\n",
       "      <th>0</th>\n",
       "      <td>1</td>\n",
       "      <td>Phenomenal</td>\n",
       "      <td>d745c4e4ff36c4106b8147ad957a8deffc7c0308</td>\n",
       "      <td>solace@love.com</td>\n",
       "      <td>1</td>\n",
       "      <td>41</td>\n",
       "      <td>2022-11-30 21:34:35</td>\n",
       "      <td>0</td>\n",
       "    </tr>\n",
       "    <tr>\n",
       "      <th>1</th>\n",
       "      <td>2</td>\n",
       "      <td>Sandshrew</td>\n",
       "      <td>9c35bcf7ad2513181aec38312a674aa1ffdf6403</td>\n",
       "      <td>Sandyshut@gmail.com</td>\n",
       "      <td>1</td>\n",
       "      <td>41</td>\n",
       "      <td>2022-12-08 08:21:39</td>\n",
       "      <td>0</td>\n",
       "    </tr>\n",
       "    <tr>\n",
       "      <th>2</th>\n",
       "      <td>4</td>\n",
       "      <td>Anarchy</td>\n",
       "      <td>3428c31326d9e7314dde6533f2d7c66085d0f4dd</td>\n",
       "      <td>rablaxman@gmail.com</td>\n",
       "      <td>0</td>\n",
       "      <td>32</td>\n",
       "      <td>2012-12-28 03:03:41</td>\n",
       "      <td>0</td>\n",
       "    </tr>\n",
       "    <tr>\n",
       "      <th>3</th>\n",
       "      <td>5</td>\n",
       "      <td>Courage</td>\n",
       "      <td>941c2e2a56b288fc200a277f23f5440f614c5f68</td>\n",
       "      <td>orangematt11@hotmail.com</td>\n",
       "      <td>0</td>\n",
       "      <td>0</td>\n",
       "      <td>1970-01-01 00:00:00</td>\n",
       "      <td>0</td>\n",
       "    </tr>\n",
       "    <tr>\n",
       "      <th>4</th>\n",
       "      <td>6</td>\n",
       "      <td>Aurora</td>\n",
       "      <td>5baa61e4c9b93f3f0682250b6cf8331b7ee68fd8</td>\n",
       "      <td>pigwart@hotmail.com</td>\n",
       "      <td>0</td>\n",
       "      <td>32</td>\n",
       "      <td>2012-12-29 05:54:39</td>\n",
       "      <td>0</td>\n",
       "    </tr>\n",
       "    <tr>\n",
       "      <th>5</th>\n",
       "      <td>7</td>\n",
       "      <td>Ambyx</td>\n",
       "      <td>8f029be283595d64c48197fad27749add3e1ba66</td>\n",
       "      <td>NotARedPanda@gmail.com</td>\n",
       "      <td>0</td>\n",
       "      <td>33</td>\n",
       "      <td>2012-12-29 20:57:52</td>\n",
       "      <td>0</td>\n",
       "    </tr>\n",
       "    <tr>\n",
       "      <th>6</th>\n",
       "      <td>8</td>\n",
       "      <td>anetka</td>\n",
       "      <td>49e5e5afac2ccfe32f1638da4549280bbec89874</td>\n",
       "      <td>rome.64@gmail.com</td>\n",
       "      <td>0</td>\n",
       "      <td>0</td>\n",
       "      <td>1970-01-01 00:00:00</td>\n",
       "      <td>0</td>\n",
       "    </tr>\n",
       "    <tr>\n",
       "      <th>7</th>\n",
       "      <td>9</td>\n",
       "      <td>brad</td>\n",
       "      <td>9233b6f5388d6867a2a7be14d8b4ba53c86cfde2</td>\n",
       "      <td>brad@yopmail.com</td>\n",
       "      <td>0</td>\n",
       "      <td>32</td>\n",
       "      <td>2012-12-30 00:51:17</td>\n",
       "      <td>0</td>\n",
       "    </tr>\n",
       "    <tr>\n",
       "      <th>8</th>\n",
       "      <td>10</td>\n",
       "      <td>JetFoil</td>\n",
       "      <td>6b8dbffff2f0388a8047ca4a0abf0a440cafac21</td>\n",
       "      <td>jacksonkoehne@hotmail.com</td>\n",
       "      <td>0</td>\n",
       "      <td>29</td>\n",
       "      <td>2022-12-03 20:40:37</td>\n",
       "      <td>0</td>\n",
       "    </tr>\n",
       "    <tr>\n",
       "      <th>9</th>\n",
       "      <td>11</td>\n",
       "      <td>plowwy</td>\n",
       "      <td>3c02078c95cf0c994919830a17ac03032f6c1395</td>\n",
       "      <td>rtaylormtc@gmail.com</td>\n",
       "      <td>0</td>\n",
       "      <td>0</td>\n",
       "      <td>2012-12-30 04:28:06</td>\n",
       "      <td>0</td>\n",
       "    </tr>\n",
       "  </tbody>\n",
       "</table>\n",
       "</div>"
      ],
      "text/plain": [
       "   userid    username                                  password  \\\n",
       "0       1  Phenomenal  d745c4e4ff36c4106b8147ad957a8deffc7c0308   \n",
       "1       2   Sandshrew  9c35bcf7ad2513181aec38312a674aa1ffdf6403   \n",
       "2       4     Anarchy  3428c31326d9e7314dde6533f2d7c66085d0f4dd   \n",
       "3       5     Courage  941c2e2a56b288fc200a277f23f5440f614c5f68   \n",
       "4       6      Aurora  5baa61e4c9b93f3f0682250b6cf8331b7ee68fd8   \n",
       "5       7       Ambyx  8f029be283595d64c48197fad27749add3e1ba66   \n",
       "6       8      anetka  49e5e5afac2ccfe32f1638da4549280bbec89874   \n",
       "7       9        brad  9233b6f5388d6867a2a7be14d8b4ba53c86cfde2   \n",
       "8      10     JetFoil  6b8dbffff2f0388a8047ca4a0abf0a440cafac21   \n",
       "9      11      plowwy  3c02078c95cf0c994919830a17ac03032f6c1395   \n",
       "\n",
       "                   useremail  rank  planid              expire  status  \n",
       "0            solace@love.com     1      41 2022-11-30 21:34:35       0  \n",
       "1        Sandyshut@gmail.com     1      41 2022-12-08 08:21:39       0  \n",
       "2        rablaxman@gmail.com     0      32 2012-12-28 03:03:41       0  \n",
       "3   orangematt11@hotmail.com     0       0 1970-01-01 00:00:00       0  \n",
       "4        pigwart@hotmail.com     0      32 2012-12-29 05:54:39       0  \n",
       "5     NotARedPanda@gmail.com     0      33 2012-12-29 20:57:52       0  \n",
       "6          rome.64@gmail.com     0       0 1970-01-01 00:00:00       0  \n",
       "7           brad@yopmail.com     0      32 2012-12-30 00:51:17       0  \n",
       "8  jacksonkoehne@hotmail.com     0      29 2022-12-03 20:40:37       0  \n",
       "9       rtaylormtc@gmail.com     0       0 2012-12-30 04:28:06       0  "
      ]
     },
     "execution_count": 41,
     "metadata": {},
     "output_type": "execute_result"
    }
   ],
   "source": [
    "# Loading the correct table name\n",
    "df_users = pd.read_csv(read_inserted_table(dumpfile, tablename),delimiter=\",\",error_bad_lines=False)\n",
    "\n",
    "# Converting columns\n",
    "df_users['expire'] = timestamp2datetime(df_users['expire']) \n",
    "\n",
    "# Changing names of columns\n",
    "df_users.rename(inplace=True, columns={'ID':'userid',\n",
    "                                         'email':'useremail',\n",
    "                                         'membership': 'planid'})\n",
    "\n",
    "# Creating empty columns (with \"\" [for future string] or np.nan [for future float])\n",
    "\n",
    "# Showing some lines after adapt the table\n",
    "df_users.head(10)"
   ]
  },
  {
   "cell_type": "markdown",
   "metadata": {},
   "source": [
    "## 6.9. Table: 'usersBackup'"
   ]
  },
  {
   "cell_type": "markdown",
   "metadata": {},
   "source": [
    "### How this table looks like without modification?"
   ]
  },
  {
   "cell_type": "code",
   "execution_count": 43,
   "metadata": {
    "collapsed": false
   },
   "outputs": [
    {
     "data": {
      "text/html": [
       "<div>\n",
       "<table border=\"1\" class=\"dataframe\">\n",
       "  <thead>\n",
       "    <tr style=\"text-align: right;\">\n",
       "      <th></th>\n",
       "      <th>ID</th>\n",
       "      <th>username</th>\n",
       "      <th>password</th>\n",
       "      <th>email</th>\n",
       "      <th>rank</th>\n",
       "      <th>membership</th>\n",
       "      <th>expire</th>\n",
       "      <th>status</th>\n",
       "    </tr>\n",
       "  </thead>\n",
       "  <tbody>\n",
       "    <tr>\n",
       "      <th>0</th>\n",
       "      <td>1</td>\n",
       "      <td>Phenomenal</td>\n",
       "      <td>d745c4e4ff36c4106b8147ad957a8deffc7c0308</td>\n",
       "      <td>solace@love.com</td>\n",
       "      <td>1</td>\n",
       "      <td>41</td>\n",
       "      <td>1669844075</td>\n",
       "      <td>0</td>\n",
       "    </tr>\n",
       "    <tr>\n",
       "      <th>1</th>\n",
       "      <td>2</td>\n",
       "      <td>Sandshrew</td>\n",
       "      <td>9c35bcf7ad2513181aec38312a674aa1ffdf6403</td>\n",
       "      <td>Sandyshut@gmail.com</td>\n",
       "      <td>1</td>\n",
       "      <td>36</td>\n",
       "      <td>1356662835</td>\n",
       "      <td>0</td>\n",
       "    </tr>\n",
       "    <tr>\n",
       "      <th>2</th>\n",
       "      <td>4</td>\n",
       "      <td>Anarchy</td>\n",
       "      <td>6774c747e1256b319783f88621feb2a461c0dbba</td>\n",
       "      <td>rablaxman@gmail.com</td>\n",
       "      <td>0</td>\n",
       "      <td>32</td>\n",
       "      <td>1356663821</td>\n",
       "      <td>0</td>\n",
       "    </tr>\n",
       "    <tr>\n",
       "      <th>3</th>\n",
       "      <td>5</td>\n",
       "      <td>Courage</td>\n",
       "      <td>941c2e2a56b288fc200a277f23f5440f614c5f68</td>\n",
       "      <td>orangematt11@hotmail.com</td>\n",
       "      <td>0</td>\n",
       "      <td>0</td>\n",
       "      <td>0</td>\n",
       "      <td>0</td>\n",
       "    </tr>\n",
       "    <tr>\n",
       "      <th>4</th>\n",
       "      <td>6</td>\n",
       "      <td>Aurora</td>\n",
       "      <td>5baa61e4c9b93f3f0682250b6cf8331b7ee68fd8</td>\n",
       "      <td>pigwart@hotmail.com</td>\n",
       "      <td>0</td>\n",
       "      <td>32</td>\n",
       "      <td>1356760479</td>\n",
       "      <td>0</td>\n",
       "    </tr>\n",
       "    <tr>\n",
       "      <th>5</th>\n",
       "      <td>7</td>\n",
       "      <td>Ambyx</td>\n",
       "      <td>8f029be283595d64c48197fad27749add3e1ba66</td>\n",
       "      <td>NotARedPanda@gmail.com</td>\n",
       "      <td>0</td>\n",
       "      <td>33</td>\n",
       "      <td>1356814672</td>\n",
       "      <td>0</td>\n",
       "    </tr>\n",
       "    <tr>\n",
       "      <th>6</th>\n",
       "      <td>8</td>\n",
       "      <td>anetka</td>\n",
       "      <td>49e5e5afac2ccfe32f1638da4549280bbec89874</td>\n",
       "      <td>rome.64@gmail.com</td>\n",
       "      <td>0</td>\n",
       "      <td>0</td>\n",
       "      <td>0</td>\n",
       "      <td>0</td>\n",
       "    </tr>\n",
       "    <tr>\n",
       "      <th>7</th>\n",
       "      <td>9</td>\n",
       "      <td>brad</td>\n",
       "      <td>9233b6f5388d6867a2a7be14d8b4ba53c86cfde2</td>\n",
       "      <td>brad@yopmail.com</td>\n",
       "      <td>0</td>\n",
       "      <td>32</td>\n",
       "      <td>1356828677</td>\n",
       "      <td>0</td>\n",
       "    </tr>\n",
       "    <tr>\n",
       "      <th>8</th>\n",
       "      <td>10</td>\n",
       "      <td>JetFoil</td>\n",
       "      <td>6b8dbffff2f0388a8047ca4a0abf0a440cafac21</td>\n",
       "      <td>jacksonkoehne@hotmail.com</td>\n",
       "      <td>0</td>\n",
       "      <td>29</td>\n",
       "      <td>1670100037</td>\n",
       "      <td>0</td>\n",
       "    </tr>\n",
       "    <tr>\n",
       "      <th>9</th>\n",
       "      <td>11</td>\n",
       "      <td>plowwy</td>\n",
       "      <td>2c0ece254e8bf2560ef9e8ff0a73685d44ba68d3</td>\n",
       "      <td>rtaylormtc@gmail.com</td>\n",
       "      <td>0</td>\n",
       "      <td>28</td>\n",
       "      <td>1356841686</td>\n",
       "      <td>0</td>\n",
       "    </tr>\n",
       "  </tbody>\n",
       "</table>\n",
       "</div>"
      ],
      "text/plain": [
       "   ID    username                                  password  \\\n",
       "0   1  Phenomenal  d745c4e4ff36c4106b8147ad957a8deffc7c0308   \n",
       "1   2   Sandshrew  9c35bcf7ad2513181aec38312a674aa1ffdf6403   \n",
       "2   4     Anarchy  6774c747e1256b319783f88621feb2a461c0dbba   \n",
       "3   5     Courage  941c2e2a56b288fc200a277f23f5440f614c5f68   \n",
       "4   6      Aurora  5baa61e4c9b93f3f0682250b6cf8331b7ee68fd8   \n",
       "5   7       Ambyx  8f029be283595d64c48197fad27749add3e1ba66   \n",
       "6   8      anetka  49e5e5afac2ccfe32f1638da4549280bbec89874   \n",
       "7   9        brad  9233b6f5388d6867a2a7be14d8b4ba53c86cfde2   \n",
       "8  10     JetFoil  6b8dbffff2f0388a8047ca4a0abf0a440cafac21   \n",
       "9  11      plowwy  2c0ece254e8bf2560ef9e8ff0a73685d44ba68d3   \n",
       "\n",
       "                       email  rank  membership      expire  status  \n",
       "0            solace@love.com     1          41  1669844075       0  \n",
       "1        Sandyshut@gmail.com     1          36  1356662835       0  \n",
       "2        rablaxman@gmail.com     0          32  1356663821       0  \n",
       "3   orangematt11@hotmail.com     0           0           0       0  \n",
       "4        pigwart@hotmail.com     0          32  1356760479       0  \n",
       "5     NotARedPanda@gmail.com     0          33  1356814672       0  \n",
       "6          rome.64@gmail.com     0           0           0       0  \n",
       "7           brad@yopmail.com     0          32  1356828677       0  \n",
       "8  jacksonkoehne@hotmail.com     0          29  1670100037       0  \n",
       "9       rtaylormtc@gmail.com     0          28  1356841686       0  "
      ]
     },
     "execution_count": 43,
     "metadata": {},
     "output_type": "execute_result"
    }
   ],
   "source": [
    "tablename='usersBackup'\n",
    "\n",
    "pd.read_csv(read_inserted_table(dumpfile, tablename),delimiter=\",\",error_bad_lines=False).head(10)"
   ]
  },
  {
   "cell_type": "markdown",
   "metadata": {},
   "source": [
    "#### Q1: Is this table different from other previous loaded table? YES \n",
    "#### Q2: Is this table similar to any table in the generic Booter database schema? YES \n",
    "    - This table looks like: users\n",
    "#### Q3: Are there modifications required? \n",
    "    - On the table name: \n",
    "        o \n",
    "    - On the column type: \n",
    "        o expire -> timestamp2datetime()\n",
    "    - On the column name:\n",
    "        o ID -> userid\n",
    "        o email -> useremail \n",
    "        o membership -> planid        \n",
    "    - Add required columns:\n",
    "        o \n",
    "    - Split columns:\n",
    "        o "
   ]
  },
  {
   "cell_type": "markdown",
   "metadata": {},
   "source": [
    "### Modifying table: 'users'"
   ]
  },
  {
   "cell_type": "code",
   "execution_count": 41,
   "metadata": {
    "collapsed": false
   },
   "outputs": [
    {
     "data": {
      "text/html": [
       "<div>\n",
       "<table border=\"1\" class=\"dataframe\">\n",
       "  <thead>\n",
       "    <tr style=\"text-align: right;\">\n",
       "      <th></th>\n",
       "      <th>userid</th>\n",
       "      <th>username</th>\n",
       "      <th>password</th>\n",
       "      <th>useremail</th>\n",
       "      <th>rank</th>\n",
       "      <th>planid</th>\n",
       "      <th>expire</th>\n",
       "      <th>status</th>\n",
       "    </tr>\n",
       "  </thead>\n",
       "  <tbody>\n",
       "    <tr>\n",
       "      <th>0</th>\n",
       "      <td>1</td>\n",
       "      <td>Phenomenal</td>\n",
       "      <td>d745c4e4ff36c4106b8147ad957a8deffc7c0308</td>\n",
       "      <td>solace@love.com</td>\n",
       "      <td>1</td>\n",
       "      <td>41</td>\n",
       "      <td>2022-11-30 21:34:35</td>\n",
       "      <td>0</td>\n",
       "    </tr>\n",
       "    <tr>\n",
       "      <th>1</th>\n",
       "      <td>2</td>\n",
       "      <td>Sandshrew</td>\n",
       "      <td>9c35bcf7ad2513181aec38312a674aa1ffdf6403</td>\n",
       "      <td>Sandyshut@gmail.com</td>\n",
       "      <td>1</td>\n",
       "      <td>41</td>\n",
       "      <td>2022-12-08 08:21:39</td>\n",
       "      <td>0</td>\n",
       "    </tr>\n",
       "    <tr>\n",
       "      <th>2</th>\n",
       "      <td>4</td>\n",
       "      <td>Anarchy</td>\n",
       "      <td>3428c31326d9e7314dde6533f2d7c66085d0f4dd</td>\n",
       "      <td>rablaxman@gmail.com</td>\n",
       "      <td>0</td>\n",
       "      <td>32</td>\n",
       "      <td>2012-12-28 03:03:41</td>\n",
       "      <td>0</td>\n",
       "    </tr>\n",
       "    <tr>\n",
       "      <th>3</th>\n",
       "      <td>5</td>\n",
       "      <td>Courage</td>\n",
       "      <td>941c2e2a56b288fc200a277f23f5440f614c5f68</td>\n",
       "      <td>orangematt11@hotmail.com</td>\n",
       "      <td>0</td>\n",
       "      <td>0</td>\n",
       "      <td>1970-01-01 00:00:00</td>\n",
       "      <td>0</td>\n",
       "    </tr>\n",
       "    <tr>\n",
       "      <th>4</th>\n",
       "      <td>6</td>\n",
       "      <td>Aurora</td>\n",
       "      <td>5baa61e4c9b93f3f0682250b6cf8331b7ee68fd8</td>\n",
       "      <td>pigwart@hotmail.com</td>\n",
       "      <td>0</td>\n",
       "      <td>32</td>\n",
       "      <td>2012-12-29 05:54:39</td>\n",
       "      <td>0</td>\n",
       "    </tr>\n",
       "    <tr>\n",
       "      <th>5</th>\n",
       "      <td>7</td>\n",
       "      <td>Ambyx</td>\n",
       "      <td>8f029be283595d64c48197fad27749add3e1ba66</td>\n",
       "      <td>NotARedPanda@gmail.com</td>\n",
       "      <td>0</td>\n",
       "      <td>33</td>\n",
       "      <td>2012-12-29 20:57:52</td>\n",
       "      <td>0</td>\n",
       "    </tr>\n",
       "    <tr>\n",
       "      <th>6</th>\n",
       "      <td>8</td>\n",
       "      <td>anetka</td>\n",
       "      <td>49e5e5afac2ccfe32f1638da4549280bbec89874</td>\n",
       "      <td>rome.64@gmail.com</td>\n",
       "      <td>0</td>\n",
       "      <td>0</td>\n",
       "      <td>1970-01-01 00:00:00</td>\n",
       "      <td>0</td>\n",
       "    </tr>\n",
       "    <tr>\n",
       "      <th>7</th>\n",
       "      <td>9</td>\n",
       "      <td>brad</td>\n",
       "      <td>9233b6f5388d6867a2a7be14d8b4ba53c86cfde2</td>\n",
       "      <td>brad@yopmail.com</td>\n",
       "      <td>0</td>\n",
       "      <td>32</td>\n",
       "      <td>2012-12-30 00:51:17</td>\n",
       "      <td>0</td>\n",
       "    </tr>\n",
       "    <tr>\n",
       "      <th>8</th>\n",
       "      <td>10</td>\n",
       "      <td>JetFoil</td>\n",
       "      <td>6b8dbffff2f0388a8047ca4a0abf0a440cafac21</td>\n",
       "      <td>jacksonkoehne@hotmail.com</td>\n",
       "      <td>0</td>\n",
       "      <td>29</td>\n",
       "      <td>2022-12-03 20:40:37</td>\n",
       "      <td>0</td>\n",
       "    </tr>\n",
       "    <tr>\n",
       "      <th>9</th>\n",
       "      <td>11</td>\n",
       "      <td>plowwy</td>\n",
       "      <td>3c02078c95cf0c994919830a17ac03032f6c1395</td>\n",
       "      <td>rtaylormtc@gmail.com</td>\n",
       "      <td>0</td>\n",
       "      <td>0</td>\n",
       "      <td>2012-12-30 04:28:06</td>\n",
       "      <td>0</td>\n",
       "    </tr>\n",
       "  </tbody>\n",
       "</table>\n",
       "</div>"
      ],
      "text/plain": [
       "   userid    username                                  password  \\\n",
       "0       1  Phenomenal  d745c4e4ff36c4106b8147ad957a8deffc7c0308   \n",
       "1       2   Sandshrew  9c35bcf7ad2513181aec38312a674aa1ffdf6403   \n",
       "2       4     Anarchy  3428c31326d9e7314dde6533f2d7c66085d0f4dd   \n",
       "3       5     Courage  941c2e2a56b288fc200a277f23f5440f614c5f68   \n",
       "4       6      Aurora  5baa61e4c9b93f3f0682250b6cf8331b7ee68fd8   \n",
       "5       7       Ambyx  8f029be283595d64c48197fad27749add3e1ba66   \n",
       "6       8      anetka  49e5e5afac2ccfe32f1638da4549280bbec89874   \n",
       "7       9        brad  9233b6f5388d6867a2a7be14d8b4ba53c86cfde2   \n",
       "8      10     JetFoil  6b8dbffff2f0388a8047ca4a0abf0a440cafac21   \n",
       "9      11      plowwy  3c02078c95cf0c994919830a17ac03032f6c1395   \n",
       "\n",
       "                   useremail  rank  planid              expire  status  \n",
       "0            solace@love.com     1      41 2022-11-30 21:34:35       0  \n",
       "1        Sandyshut@gmail.com     1      41 2022-12-08 08:21:39       0  \n",
       "2        rablaxman@gmail.com     0      32 2012-12-28 03:03:41       0  \n",
       "3   orangematt11@hotmail.com     0       0 1970-01-01 00:00:00       0  \n",
       "4        pigwart@hotmail.com     0      32 2012-12-29 05:54:39       0  \n",
       "5     NotARedPanda@gmail.com     0      33 2012-12-29 20:57:52       0  \n",
       "6          rome.64@gmail.com     0       0 1970-01-01 00:00:00       0  \n",
       "7           brad@yopmail.com     0      32 2012-12-30 00:51:17       0  \n",
       "8  jacksonkoehne@hotmail.com     0      29 2022-12-03 20:40:37       0  \n",
       "9       rtaylormtc@gmail.com     0       0 2012-12-30 04:28:06       0  "
      ]
     },
     "execution_count": 41,
     "metadata": {},
     "output_type": "execute_result"
    }
   ],
   "source": [
    "# Loading the correct table name\n",
    "df_users = pd.read_csv(read_inserted_table(dumpfile, tablename),delimiter=\",\",error_bad_lines=False)\n",
    "\n",
    "# Converting columns\n",
    "df_users['expire'] = timestamp2datetime(df_users['expire']) \n",
    "\n",
    "# Changing names of columns\n",
    "df_users.rename(inplace=True, columns={'ID':'userid',\n",
    "                                         'email':'useremail',\n",
    "                                         'membership': 'planid'})\n",
    "\n",
    "# Creating empty columns (with \"\" [for future string] or np.nan [for future float])\n",
    "\n",
    "# Showing some lines after adapt the table\n",
    "df_users.head(10)"
   ]
  },
  {
   "cell_type": "code",
   "execution_count": null,
   "metadata": {
    "collapsed": true
   },
   "outputs": [],
   "source": []
  },
  {
   "cell_type": "markdown",
   "metadata": {},
   "source": [
    "<h2 align='center'>======================================================================\n",
    "<br>Final step of the manual part\n",
    "======================================================================</h2>"
   ]
  },
  {
   "cell_type": "markdown",
   "metadata": {},
   "source": [
    "## 7. Adding missing tables accordingly to our generic Booter database "
   ]
  },
  {
   "cell_type": "code",
   "execution_count": null,
   "metadata": {
    "collapsed": false
   },
   "outputs": [],
   "source": [
    "df_attacks= pd.DataFrame(columns=['id','userid','username','targetip','targeturl','duration','port','type','date'])\n",
    "#df_blacklist=pd.DataFrame(columns=['id','ip','note'])\n",
    "#df_friendsenemies=pd.DataFrame(columns=['id','ip','note','userid','type'])\n",
    "#df_gateways=pd.DataFrame(columns=['email'])\n",
    "#df_logins=pd.DataFrame(columns=['id','userid','username','userip','date'])\n",
    "#df_payments=pd.DataFrame(columns=['id','userid','username','amountpaid','paymentemail','planid','tid','date'])\n",
    "df_plans=pd.DataFrame(columns=['planid','planname','plandescr','price','maxboottime','concurrency'])\n",
    "df_servers=pd.DataFrame(columns=['id','ip'])\n",
    "df_settings=pd.DataFrame(columns=['url','sitename','siteemail'])\n",
    "#df_users=pd.DataFrame(columns=['userid','username','useremail','password','expire','plan'])      \n",
    "df_webshells=pd.DataFrame(columns=['id','url','status','lastchecked','attacktype'])"
   ]
  },
  {
   "cell_type": "markdown",
   "metadata": {},
   "source": [
    "<h1 align=\"center\">\n",
    "!!!!!!!!!!!!!!!!!!!!!!!!!!!!!!!!!!!!!!!!!!!!!!!!!!!!!!!!!!!!!!!!!!!!!!!!!!!!!!!!!!!!!!!!!!!!!!!!!!!!!!!!!!!!!!!!!!!!!!!!!!!!!!!!!!!!!!!!!<br>\n",
    "STEP 2: Data Enrichment<br>\n",
    "!!!!!!!!!!!!!!!!!!!!!!!!!!!!!!!!!!!!!!!!!!!!!!!!!!!!!!!!!!!!!!!!!!!!!!!!!!!!!!!!!!!!!!!!!!!!!!!!!!!!!!!!!!!!!!!!!!!!!!!!!!!!!!!</h1> "
   ]
  },
  {
   "cell_type": "markdown",
   "metadata": {},
   "source": [
    "### * Depending of the size of the data, this part can take HOURS. I tested for both small and big datasets and it worked. Be pacient. This will pay-off!"
   ]
  },
  {
   "cell_type": "markdown",
   "metadata": {},
   "source": [
    "## * Libraries needed to retrieve information from external databases"
   ]
  },
  {
   "cell_type": "code",
   "execution_count": null,
   "metadata": {
    "collapsed": true
   },
   "outputs": [],
   "source": [
    "import subprocess\n",
    "import cfscrape\n",
    "from lxml import etree\n",
    "import os.path\n",
    "import random\n",
    "import time "
   ]
  },
  {
   "cell_type": "markdown",
   "metadata": {},
   "source": [
    "## * Function to enrich IP addresseswith AS information and country "
   ]
  },
  {
   "cell_type": "code",
   "execution_count": null,
   "metadata": {
    "collapsed": false
   },
   "outputs": [],
   "source": [
    "# THANKS TO: team-cymru.org\n",
    "def iptoasn(iplist_teamcymruformat_filelocation,outputfile):\n",
    "    cat = subprocess.Popen(['cat', iplist_teamcymruformat_filelocation], \n",
    "                            stdout=subprocess.PIPE)\n",
    "    \n",
    "    netcat = subprocess.Popen(['netcat', 'whois.cymru.com', '43'],\n",
    "                              stdin=cat.stdout,\n",
    "                              stdout=outputfile)\n",
    "    time.sleep(3) #for some reason the poll does not work! This was the way to overcome the waiting time.\n",
    "    \n",
    "    return netcat.stdout      "
   ]
  },
  {
   "cell_type": "markdown",
   "metadata": {},
   "source": [
    "## * Function to check if an IP address was Tor node in a given moment"
   ]
  },
  {
   "cell_type": "code",
   "execution_count": null,
   "metadata": {
    "collapsed": true
   },
   "outputs": [],
   "source": [
    "# THANKS TO: exonerator.torproject.org\n",
    "def WasTorNode(ip, date ):\n",
    "    url=\"https://exonerator.torproject.org/?ip=\"+ip+\"&timestamp=\"+date\n",
    "    scraper = cfscrape.create_scraper()\n",
    "    scraped_html=scraper.get(url).content    \n",
    "    html_tree = etree.HTML(scraped_html)\n",
    "    result=html_tree.xpath(\"//h3[@class='panel-title']/text()\") # I was looking for <h3 class=\"panel-title\">Result is positive</h3>\n",
    "    tor_node=True if result == ['Result is positive'] else False\n",
    "    return tor_node \n",
    "# 'date' MUST BE formated as: Year-month-day (2016-03-31)"
   ]
  },
  {
   "cell_type": "markdown",
   "metadata": {},
   "source": [
    "## * Discovering the middle date of the database"
   ]
  },
  {
   "cell_type": "code",
   "execution_count": null,
   "metadata": {
    "collapsed": false
   },
   "outputs": [],
   "source": [
    "try:\n",
    "    try:\n",
    "        middle_date=(min(df_attacks['date'])+((max(df_attacks['date'])-min(df_attacks['date']))/2))\n",
    "        raise\n",
    "    except Exception:\n",
    "        pass\n",
    "\n",
    "    try:\n",
    "        middle_date=(min(df_logins['date'])+((max(df_logins['date'])-min(df_logins['date']))/2))\n",
    "        raise\n",
    "    except Exception:\n",
    "        pass\n",
    "\n",
    "    try:\n",
    "        middle_date=(min(df_payments['date'])+((max(df_payments['date'])-min(df_payments['date']))/2))\n",
    "        raise\n",
    "    except:\n",
    "        pass\n",
    "except Exception:\n",
    "    print(\"There is no date in the entire dataset\")\n",
    "\n",
    "date_tor_check = middle_date.strftime('%Y-%m-%d')\n",
    "date_iptoasn_lookup= str(middle_date)\n",
    "print(date_tor_check)"
   ]
  },
  {
   "cell_type": "markdown",
   "metadata": {},
   "source": [
    "## * Preparing to Perform IP to ASN info"
   ]
  },
  {
   "cell_type": "code",
   "execution_count": null,
   "metadata": {
    "collapsed": false
   },
   "outputs": [],
   "source": [
    "df_logins['middledate']=date_iptoasn_lookup\n",
    "df_attacks['middledate']=date_iptoasn_lookup\n",
    "df_friendsenemies['middledate']=date_iptoasn_lookup\n",
    "df_blacklist['middledate']=date_iptoasn_lookup"
   ]
  },
  {
   "cell_type": "markdown",
   "metadata": {},
   "source": [
    "## 2.1.1  Lookup IP to ASN info of table: logins"
   ]
  },
  {
   "cell_type": "code",
   "execution_count": null,
   "metadata": {
    "collapsed": false
   },
   "outputs": [],
   "source": [
    "if (os.path.exists('enrichments/logins_iptoasn_out')== False):\n",
    "    logins_iptoasn_in = open('enrichments/logins_iptoasn_in', 'w+')\n",
    "    logins_iptoasn_in.write('begin\\nverbose\\n')\n",
    "    df_logins[['userip','middledate']].drop_duplicates().to_csv(logins_iptoasn_in,header=False,index=False,sep=\"\\t\") \n",
    "    logins_iptoasn_in.write('end')\n",
    "    logins_iptoasn_in.close()\n",
    "\n",
    "    logins_iptoasn_out = open('logins_iptoasn_out', 'w+')\n",
    "    iptoasn('logins_iptoasn_in',logins_iptoasn_out)\n",
    "    logins_iptoasn_out.close()\n",
    "else:\n",
    "    print(\"You already performed the lookup for this table\")"
   ]
  },
  {
   "cell_type": "code",
   "execution_count": null,
   "metadata": {
    "collapsed": false
   },
   "outputs": [],
   "source": [
    "df_logins_iptoasn = pd.read_csv('enrichments/logins_iptoasn_out',\\\n",
    "                                skiprows=1,\\\n",
    "                             delimiter=\"\\s+\\|\\s\",\\\n",
    "                             names = ['asn', 'ip', 'bgp_prefix', 'country','registry','info_date','info_request','as_name'])\n",
    "\n",
    "df_logins_extended= pd.merge(df_logins,\n",
    "                              df_logins_iptoasn,\n",
    "                              how = 'left',\n",
    "                              left_on = 'userip',\n",
    "                              right_on = 'ip')\n",
    "\n",
    "# Changing name of columns to avoid misunderstandings\n",
    "df_logins_extended.rename(columns={'asn':'srcasn', \n",
    "                                   'ip':'srcip', \n",
    "                                   'bgp_prefix':'srcbgp_prefix', \n",
    "                                   'country':'srccountry' ,\n",
    "                                   'registry':'srcregistry',\n",
    "                                   'info_date':'srcinfo_date',\n",
    "                                   'info_request':'srcinfo_request'},\n",
    "                         inplace=True)\n",
    "\n",
    "\n",
    "df_logins_extended.head(5)"
   ]
  },
  {
   "cell_type": "markdown",
   "metadata": {},
   "source": [
    "## 2.1.2  Lookup IP to ASN info of table: attacks"
   ]
  },
  {
   "cell_type": "code",
   "execution_count": null,
   "metadata": {
    "collapsed": false
   },
   "outputs": [],
   "source": [
    "if (os.path.exists('enrichments/attacks_iptoasn_out')== False):\n",
    "    attacks_iptoasn_in = open('enrichments/attacks_iptoasn_in', 'w+')\n",
    "    attacks_iptoasn_in.write('begin\\nverbose\\n')\n",
    "    df_attacks[['targetip','middledate']].drop_duplicates().to_csv(attacks_iptoasn_in,header=False,index=False,sep=\"\\t\") \n",
    "    attacks_iptoasn_in.write('end')\n",
    "    attacks_iptoasn_in.close()\n",
    "\n",
    "    attacks_iptoasn_out = open('attacks_iptoasn_out', 'w+')\n",
    "    iptoasn('attacks_iptoasn_in',attacks_iptoasn_out)\n",
    "    attacks_iptoasn_out.close()\n",
    "else:\n",
    "    print(\"You already performed the lookup for this table\")"
   ]
  },
  {
   "cell_type": "code",
   "execution_count": null,
   "metadata": {
    "collapsed": false
   },
   "outputs": [],
   "source": [
    "df_attacks_iptoasn = pd.read_csv('enrichments/attacks_iptoasn_out',\\\n",
    "                                skiprows=1,\\\n",
    "                             delimiter=\"\\s+\\|\\s\",\\\n",
    "                             names = ['asn', 'ip', 'bgp_prefix', 'country','registry','info_date','info_request','as_name'])\n",
    "\n",
    "# Merging the iptoasn with the queried column\n",
    "df_attacks_extended= pd.merge(df_attacks,\n",
    "                              df_attacks_iptoasn,\n",
    "                              how = 'left',\n",
    "                              left_on = 'targetip',\n",
    "                              right_on = 'ip')\n",
    "\n",
    "# Changing name of columns to avoid misunderstandings\n",
    "df_attacks_extended.rename(columns={'asn':'targetasn', \n",
    "                                   'ip_y':'targetip', \n",
    "                                   'bgp_prefix':'targetbgp_prefix', \n",
    "                                   'country_y':'targetcountry' ,\n",
    "                                   'registry':'targetregistry',\n",
    "                                   'info_date':'targetinfo_date',\n",
    "                                   'info_request':'targetinfo_request'},\n",
    "                         inplace=True)\n",
    "df_attacks_extended.head(5)"
   ]
  },
  {
   "cell_type": "markdown",
   "metadata": {},
   "source": [
    "## 2.1.3  Lookup IP to ASN info of table: friendsenemies"
   ]
  },
  {
   "cell_type": "code",
   "execution_count": null,
   "metadata": {
    "collapsed": false
   },
   "outputs": [],
   "source": [
    "if (os.path.exists('enrichments/friendsenemies_iptoasn_out')== False):\n",
    "    friendsenemies_iptoasn_in = open('enrichments/friendsenemies_iptoasn_in', 'w+')\n",
    "    friendsenemies_iptoasn_in.write('begin\\nverbose\\n')\n",
    "    df_friendsenemies[['ip','middledate']].drop_duplicates().to_csv(friendsenemies_iptoasn_in,header=False,index=False,sep=\"\\t\") \n",
    "    friendsenemies_iptoasn_in.write('end')\n",
    "    friendsenemies_iptoasn_in.close()\n",
    "\n",
    "    friendsenemies_iptoasn_out = open('friendsenemies_iptoasn_out', 'w+')\n",
    "    iptoasn('friendsenemies_iptoasn_in',friendsenemies_iptoasn_out)\n",
    "    friendsenemies_iptoasn_out.close()\n",
    "else:\n",
    "    print(\"You already performed the lookup for this table.\")"
   ]
  },
  {
   "cell_type": "code",
   "execution_count": null,
   "metadata": {
    "collapsed": false
   },
   "outputs": [],
   "source": [
    "df_friendsenemies_iptoasn = pd.read_csv('enrichments/friendsenemies_iptoasn_out',\\\n",
    "                                skiprows=1,\\\n",
    "                             delimiter=\"\\s+\\|\\s\",\\\n",
    "                             names = ['asn', 'ip', 'bgp_prefix', 'country','registry','info_date','info_request','as_name'])\n",
    "\n",
    "# Merging the iptoasn with the queried column\n",
    "df_friendsenemies_extended= pd.merge(df_friendsenemies,\n",
    "                              df_friendsenemies_iptoasn,\n",
    "                              how = 'left',\n",
    "                              left_on = 'ip',\n",
    "                              right_on = 'ip')\n",
    "\n",
    "# Changing name of columns to avoid misunderstandings\n",
    "df_friendsenemies_extended.rename(columns={'asn':'friendsenemiesasn', \n",
    "                                   'ip':'friendsenemiesip', \n",
    "                                   'bgp_prefix':'friendsenemiesbgp_prefix', \n",
    "                                   'country':'friendsenemiescountry' ,\n",
    "                                   'registry':'friendsenemiesregistry',\n",
    "                                   'info_date':'friendsenemiesinfo_date',\n",
    "                                   'info_request':'friendsenemiesinfo_request',\n",
    "                                   'as_name': 'friendsenemiesas_name'},\n",
    "                         inplace=True)"
   ]
  },
  {
   "cell_type": "markdown",
   "metadata": {},
   "source": [
    "## 2.1.4  Lookup IP to ASN info of table: blacklist"
   ]
  },
  {
   "cell_type": "code",
   "execution_count": null,
   "metadata": {
    "collapsed": false
   },
   "outputs": [],
   "source": [
    "if (os.path.exists('enrichments/blacklist_iptoasn_out')== False):\n",
    "    blacklist_iptoasn_in = open('enrichments/blacklist_iptoasn_in', 'w+')\n",
    "    blacklist_iptoasn_in.write('begin\\nverbose\\n')\n",
    "    df_blacklist[['ip','middledate']].drop_duplicates().to_csv(blacklist_iptoasn_in,header=False,index=False,sep=\"\\t\") \n",
    "    blacklist_iptoasn_in.write('end')\n",
    "    blacklist_iptoasn_in.close()\n",
    "\n",
    "    blacklist_iptoasn_out = open('blacklist_iptoasn_out', 'w+')\n",
    "    iptoasn('blacklist_iptoasn_in',blacklist_iptoasn_out)\n",
    "    blacklist_iptoasn_out.close()\n",
    "else:\n",
    "    print(\"You already performed the lookup for this table.\")"
   ]
  },
  {
   "cell_type": "code",
   "execution_count": null,
   "metadata": {
    "collapsed": false
   },
   "outputs": [],
   "source": [
    "df_blacklist_iptoasn = pd.read_csv('enrichments/blacklist_iptoasn_out',\\\n",
    "                                skiprows=1,\\\n",
    "                             delimiter=\"\\s+\\|\\s\",\\\n",
    "                             names = ['asn', 'ip', 'bgp_prefix', 'country','registry','info_date','info_request','as_name'])\n",
    "\n",
    "# Merging the iptoasn with the queried column\n",
    "df_blacklist_extended= pd.merge(df_blacklist,\n",
    "                              df_blacklist_iptoasn,\n",
    "                              how = 'left',\n",
    "                              left_on = 'ip',\n",
    "                              right_on = 'ip')\n",
    "\n",
    "# Changing name of columns to avoid misunderstandings\n",
    "df_blacklist_extended.rename(columns={'asn':'blacklistasn', \n",
    "                                   'ip':'blacklistip', \n",
    "                                   'bgp_prefix':'blacklistbgp_prefix', \n",
    "                                   'country':'blacklistcountry' ,\n",
    "                                   'registry':'blacklistregistry',\n",
    "                                   'info_date':'blacklistinfo_date',\n",
    "                                   'info_request':'blacklistinfo_request',\n",
    "                                   'as_name': 'blacklistas_name'},\n",
    "                         inplace=True)\n",
    "df_blacklist_extended.head(5)"
   ]
  },
  {
   "cell_type": "markdown",
   "metadata": {},
   "source": [
    "## 2.2.1. Check if IP was a TOR node for table: login"
   ]
  },
  {
   "cell_type": "code",
   "execution_count": null,
   "metadata": {
    "collapsed": false
   },
   "outputs": [],
   "source": [
    "date_tor_check"
   ]
  },
  {
   "cell_type": "code",
   "execution_count": null,
   "metadata": {
    "collapsed": false,
    "scrolled": true
   },
   "outputs": [],
   "source": [
    "if len(df_logins['userip'].unique())<1200:\n",
    "    if (os.path.exists('enrichments/logins_torcheck')== False):\n",
    "        print(\"Note: it can take a while to finish...\")\n",
    "        logins_torcheck = open('logins_torcheck', 'w+')\n",
    "        for i in df_logins['userip'].unique():\n",
    "            wasTor=WasTorNode(i,date_tor_check)\n",
    "            print(i, wasTor, file=logins_torcheck)\n",
    "    #         print(i, wasTor) #DEBUGING =D\n",
    "            time.sleep(random.randint(1,3)) #adding some random sleep time\n",
    "            logins_torcheck.flush()\n",
    "\n",
    "        logins_torcheck.close()\n",
    "    else:\n",
    "        print(\"The IP addresses from this table were already checked.\")\n",
    "else:\n",
    "        print(\"Aborted!!! It will take more than one hour to analyse!\")"
   ]
  },
  {
   "cell_type": "code",
   "execution_count": null,
   "metadata": {
    "collapsed": true
   },
   "outputs": [],
   "source": [
    "df_logins_torcheck = pd.read_csv('enrichments/logins_torcheck',\\\n",
    "                          delimiter=\"\\s+\",\\\n",
    "                          names = ['userip', 'tor'])"
   ]
  },
  {
   "cell_type": "markdown",
   "metadata": {},
   "source": [
    "## 2.2.2. Check if IP was a TOR node for table: attacks"
   ]
  },
  {
   "cell_type": "code",
   "execution_count": null,
   "metadata": {
    "collapsed": false,
    "scrolled": false
   },
   "outputs": [],
   "source": [
    "if len(df_attacks['targetip'].unique())<1200:\n",
    "    if (os.path.exists('enrichments/attacks_torcheck')== False):\n",
    "        print(\"Note: it can take a while to finish...\",len(df_attacks['targetip'].unique())*3,\"seconds (in the worst case).\")\n",
    "\n",
    "        attacks_torcheck = open('attacks_torcheck', 'w+')\n",
    "\n",
    "        for i in df_attacks['targetip'].unique():\n",
    "            wasTor=WasTorNode(i,date_tor_check)\n",
    "            print(i, wasTor, file=attacks_torcheck)\n",
    "            print(i, wasTor) #DEBUGING =D\n",
    "            time.sleep(random.randint(1,3)) #adding some random sleep time\n",
    "            attacks_torcheck.flush()\n",
    "\n",
    "        attacks_torcheck.close()\n",
    "    else:\n",
    "        print(\"The IP addresses from this table were already checked.\") \n",
    "else:\n",
    "        print(\"Aborted!!! It will take more than one hour to analyse!\")"
   ]
  },
  {
   "cell_type": "code",
   "execution_count": null,
   "metadata": {
    "collapsed": true
   },
   "outputs": [],
   "source": [
    "df_attacks_torcheck = pd.read_csv('enrichments/attacks_torcheck',\\\n",
    "                          delimiter=\"\\s+\",\\\n",
    "                          names = ['targetip', 'tor'])"
   ]
  },
  {
   "cell_type": "markdown",
   "metadata": {},
   "source": [
    "## 2.2.3. Check if IP was a TOR node for table: friendsenemies"
   ]
  },
  {
   "cell_type": "code",
   "execution_count": null,
   "metadata": {
    "collapsed": false
   },
   "outputs": [],
   "source": [
    "if len(df_friendsenemies['ip'].unique()) <1200:\n",
    "    if (os.path.exists('enrichments/friendsenemies_torcheck')== False):\n",
    "        print(\"Note: it can take a while to finish...\",len(df_friendsenemies['ip'].unique())*3,\"seconds (in the worst case).\")\n",
    "\n",
    "        friendsenemies_torcheck = open('enrichments/friendsenemies_torcheck', 'w+')\n",
    "\n",
    "        for i in df_friendsenemies['ip'].unique():\n",
    "            wasTor=WasTorNode(i,date_tor_check)\n",
    "            print(i, wasTor, file=friendsenemies_torcheck)\n",
    "        #     print(i, wasTor) #DEBUGING =D\n",
    "            time.sleep(random.randint(1,3)) #adding some random sleep time\n",
    "            friendsenemies_torcheck.flush()\n",
    "\n",
    "        friendsenemies_torcheck.close()\n",
    "    else:\n",
    "        print(\"The IP addresses from this table were already checked.\") \n",
    "else:\n",
    "        print(\"Aborted!!! It will take more than one hour to analyse!\")"
   ]
  },
  {
   "cell_type": "code",
   "execution_count": null,
   "metadata": {
    "collapsed": true
   },
   "outputs": [],
   "source": [
    "df_friendsenemies_torcheck = pd.read_csv('enrichments/friendsenemies_torcheck',\\\n",
    "                          delimiter=\"\\s+\",\\\n",
    "                          names = ['ip', 'tor'])"
   ]
  },
  {
   "cell_type": "markdown",
   "metadata": {},
   "source": [
    "## 2.2.4. Check if IP was a TOR node for table: blacklist"
   ]
  },
  {
   "cell_type": "code",
   "execution_count": null,
   "metadata": {
    "collapsed": false
   },
   "outputs": [],
   "source": [
    "if len(df_blacklist['ip'].unique()) < 1200:\n",
    "    if (os.path.exists('enrichments/blacklist_torcheck')== False):\n",
    "        print(\"Note: it can take a while to finish...\",len(df_blacklist['ip'].unique())*3,\"seconds (in the worst case).\")\n",
    "\n",
    "        blacklist_torcheck = open('enrichments/blacklist_torcheck', 'w+')\n",
    "\n",
    "        for i in df_blacklist['ip'].unique():\n",
    "            wasTor=WasTorNode(i,date_tor_check)\n",
    "            print(i, wasTor, file=blacklist_torcheck)\n",
    "    #         print(i, wasTor) #DEBUGING =D\n",
    "            time.sleep(random.randint(1,3)) #adding some random sleep time\n",
    "            blacklist_torcheck.flush()\n",
    "\n",
    "        blacklist_torcheck.close()\n",
    "    else:\n",
    "        print(\"The IP addresses from this table were already checked.\") \n",
    "else:\n",
    "        print(\"Aborted!!! It will take more than one hour to analyse!\")"
   ]
  },
  {
   "cell_type": "code",
   "execution_count": null,
   "metadata": {
    "collapsed": true
   },
   "outputs": [],
   "source": [
    "df_blacklist_torcheck = pd.read_csv('enrichments/blacklist_torcheck',\\\n",
    "                          delimiter=\"\\s+\",\\\n",
    "                          names = ['ip', 'tor'])"
   ]
  },
  {
   "cell_type": "markdown",
   "metadata": {},
   "source": [
    "## * Relation between Attack dates and Login dates"
   ]
  },
  {
   "cell_type": "code",
   "execution_count": null,
   "metadata": {
    "collapsed": true
   },
   "outputs": [],
   "source": [
    "def nearestDate(base_date, date_list):\n",
    "    nearest={}\n",
    "    for date in date_list:\n",
    "        if (base_date.timestamp() - date.timestamp())>=0:\n",
    "            nearest[base_date.timestamp() - date.timestamp()]= date\n",
    "    return nearest[min(nearest.keys())]"
   ]
  },
  {
   "cell_type": "code",
   "execution_count": null,
   "metadata": {
    "collapsed": false
   },
   "outputs": [],
   "source": [
    "#This is the TOTAL number records to be checks!!!!\n",
    "len(df_attacks)"
   ]
  },
  {
   "cell_type": "code",
   "execution_count": null,
   "metadata": {
    "collapsed": true
   },
   "outputs": [],
   "source": [
    "df_attacks['nearestlogin']=\"\"\n",
    "df_attacks['nearestlogin']=pd.to_datetime(df_attacks['nearestlogin'])\n",
    "    \n",
    "if len(df_attacks)>0 and len(df_logins)>0:\n",
    "    #When was the last login of the user that performed attacks\n",
    "    df_attacks['nearestlogin']=\"\"\n",
    "    df_attacks['nearestlogin']=pd.to_datetime(df_attacks['nearestlogin'])\n",
    "\n",
    "    for index, row in df_attacks.head(100).iterrows():\n",
    "        intermediate_df= df_logins[df_logins['username']==row['username']]\n",
    "        nearestlogindate= nearestDate(row['date'],intermediate_df['date'])\n",
    "        df_attacks.set_value(index, 'nearestlogin', nearestlogindate)\n",
    "\n",
    "        #DEBUGGING\n",
    "        if index % 1000 == 0:\n",
    "            print(index,\": +1000 records analysed\")"
   ]
  },
  {
   "cell_type": "code",
   "execution_count": null,
   "metadata": {
    "collapsed": false
   },
   "outputs": [],
   "source": [
    "if len(df_attacks['nearestlogin'].value_counts()) >1:\n",
    "    df_attacks_and_logins = pd.merge(df_attacks_extended,\n",
    "                                     df_logins_extended,\n",
    "                                     how = 'left',\n",
    "                                     left_on = ['username','nearestlogin'],\n",
    "                                     right_on = ['username','date'])\n",
    "else:\n",
    "    df_attacks_and_logins=\"\""
   ]
  },
  {
   "cell_type": "markdown",
   "metadata": {},
   "source": [
    "<h2 align=\"center\">\n",
    "!!!!!!!!!!!!!!!!!!!!!!!!!!!!!!!!!!!!!!!!!!!!!!!!!!!!!!!!!!!!!!!!!!!!!!!!!!!!!!!!!!!!!!!!!!!!!!!!!!!!!!!!!!!!!!!!!!!!!!!!!!!!!!!!!!!!!!!!!<br>\n",
    "STEP 3: Automatic Analysis\n",
    "<br>\n",
    "!!!!!!!!!!!!!!!!!!!!!!!!!!!!!!!!!!!!!!!!!!!!!!!!!!!!!!!!!!!!!!!!!!!!!!!!!!!!!!!!!!!!!!!!!!!!!!!!!!!!!!!!!!!!!!!!!!!!!!!!!!!!!!!</h3> "
   ]
  },
  {
   "cell_type": "markdown",
   "metadata": {},
   "source": [
    "## * Libraries that I use to plot figs"
   ]
  },
  {
   "cell_type": "code",
   "execution_count": null,
   "metadata": {
    "collapsed": true
   },
   "outputs": [],
   "source": [
    "import matplotlib.pyplot as plt\n",
    "from matplotlib_venn import *\n",
    "%matplotlib inline\n",
    "\n",
    "import seaborn as sns\n",
    "import itertools\n",
    "\n",
    "plt.style.use('seaborn-muted')\n",
    "# plt.rcParams['font.family'] = 'serif'\n",
    "# plt.rcParams['font.size'] = 12\n",
    "\n",
    "import warnings\n",
    "warnings.filterwarnings('ignore')"
   ]
  },
  {
   "cell_type": "markdown",
   "metadata": {},
   "source": [
    "## A.1. Number of records per table (part of the generic Booter database schema)"
   ]
  },
  {
   "cell_type": "code",
   "execution_count": null,
   "metadata": {
    "collapsed": false
   },
   "outputs": [],
   "source": [
    "len(df_users),len(df_logins),len(df_attacks),len(df_payments),len(df_settings),len(df_gateways), len(df_friendsenemies),len(df_blacklist),len(df_webshells),len(df_servers),len(df_plans)"
   ]
  },
  {
   "cell_type": "markdown",
   "metadata": {},
   "source": [
    "## A.2. Number of users, customers, attackers, and their intersection"
   ]
  },
  {
   "cell_type": "code",
   "execution_count": null,
   "metadata": {
    "collapsed": false
   },
   "outputs": [],
   "source": [
    "if len(set(df_users['userid'].unique())) > 1:\n",
    "    users_set=set(df_users['userid'].unique())\n",
    "else:\n",
    "    users_set=set(df_users['username'].unique())\n",
    "    \n",
    "if len(set(df_logins['userid'].unique())) > 1:\n",
    "    userslogin_set=set(df_logins['userid'].unique())\n",
    "else:\n",
    "    userslogin_set=set(df_logins['username'].unique())\n",
    "\n",
    "if len(set(df_payments['userid'].unique())) > 1:\n",
    "    customers_set=set(df_payments['userid'].unique())\n",
    "else:\n",
    "    customers_set=set(df_payments['username'].unique())\n",
    "\n",
    "if len(set(df_attacks['userid'].unique())) > 1:\n",
    "    attackers_set=set(df_attacks['userid'].unique())\n",
    "else:\n",
    "    attackers_set=set(df_attacks['username'].unique())\n",
    "\n",
    "intersec_customers_attacker=pd.Series(list(customers_set.intersection(attackers_set)))\n",
    "intersec_users_customers=pd.Series(list(users_set.intersection(customers_set)))\n",
    "intersec_users_attackers=pd.Series(list(users_set.intersection(attackers_set)))\n",
    "intersec_users_customers_attackers=pd.Series(list(users_set.intersection(customers_set).intersection(attackers_set)))"
   ]
  },
  {
   "cell_type": "code",
   "execution_count": null,
   "metadata": {
    "collapsed": false
   },
   "outputs": [],
   "source": [
    "len(users_set),len(userslogin_set),len(customers_set),len(attackers_set)"
   ]
  },
  {
   "cell_type": "code",
   "execution_count": null,
   "metadata": {
    "collapsed": false
   },
   "outputs": [],
   "source": [
    "fig = plt.figure(figsize=(4,3))\n",
    "fig.suptitle('Users, Customers & Attackers', fontsize=14)\n",
    "\n",
    "ax = plt.subplot2grid((1,1), (0,0))\n",
    "\n",
    "venn=venn3(ax=ax,subsets = {'001':len(attackers_set)-len(intersec_customers_attacker)-len(intersec_users_attackers)+len(intersec_users_customers_attackers), \n",
    "                            '010':len(customers_set)-len(intersec_users_customers)-len(intersec_customers_attacker)+len(intersec_users_customers_attackers), \n",
    "                            '011':len(intersec_customers_attacker)-len(intersec_users_customers_attackers),\n",
    "                            '100':len(users_set)-len(intersec_users_customers)-len(intersec_users_attackers)+len(intersec_users_customers_attackers),\n",
    "                            '101':len(intersec_users_attackers)-len(intersec_users_customers_attackers),\n",
    "                            '110':len(intersec_users_customers)-len(intersec_users_customers_attackers),\n",
    "                            '111':len(intersec_users_customers_attackers)},\\\n",
    "          set_labels = ('Users', 'Customers','Attackers'),\\\n",
    "          alpha=1)\n",
    "try:\n",
    "    venn.get_patch_by_id('100').set_color('#404096')\n",
    "except:\n",
    "    print(\"*Users set is empty!\")  \n",
    "    \n",
    "try:\n",
    "    venn.get_patch_by_id('110').set_color('#DEA73A')\n",
    "except:\n",
    "    print(\"*Customers set is empty!\")   \n",
    "\n",
    "try:\n",
    "    venn.get_patch_by_id('001').set_color('#D92120')\n",
    "except:\n",
    "    print(\"*Attackers set is empty!\")\n",
    "\n",
    "fig.show()\n",
    "# fig.savefig('../figs/timeseries_attacks.eps', format='eps', dpi=1200) "
   ]
  },
  {
   "cell_type": "markdown",
   "metadata": {},
   "source": [
    "## A.3. Distribution of login times per user"
   ]
  },
  {
   "cell_type": "code",
   "execution_count": null,
   "metadata": {
    "collapsed": false
   },
   "outputs": [],
   "source": [
    "if len(df_logins['userid'].value_counts()) > 0:\n",
    "    num_distinct_logins_per_user=df_logins['userid'].value_counts()\n",
    "else:\n",
    "    num_distinct_logins_per_user=df_logins['username'].value_counts()\n",
    "\n",
    "freq_distinct_logins_per_user=num_distinct_logins_per_user.value_counts()\n",
    "cum_dist_user_logins = np.linspace(0.,1.,len(num_distinct_logins_per_user))\n",
    "cdf_user_logins = pd.Series(cum_dist_user_logins, index=num_distinct_logins_per_user.sort_values())"
   ]
  },
  {
   "cell_type": "code",
   "execution_count": null,
   "metadata": {
    "collapsed": false
   },
   "outputs": [],
   "source": [
    "if len(num_distinct_logins_per_user)>0:\n",
    "    fig = plt.figure(figsize=(6, 3))\n",
    "    fig.suptitle('* Distribution of Login Times by Users:', fontsize=14, y=1.05,x=0.35)\n",
    "    \n",
    "    #Plot CDF\n",
    "    ax1 = plt.subplot2grid((1,2), (0,0))\n",
    "    ax1 = cdf_user_logins.plot(ax=ax1,lw=2, drawstyle='steps',legend=False)\n",
    "    ax1.set_xlabel(\"# logins\")\n",
    "    ax1.set_ylabel(\"CDF of Users\")\n",
    "    ax1.set_ylim(0,1.05)\n",
    "    ax1.set_title(\"\")\n",
    "    plt.setp(ax1.xaxis.get_majorticklabels(), rotation=45)\n",
    "\n",
    "    \n",
    "    ax2 = plt.subplot2grid((1,2), (0,1))\n",
    "    freq_distinct_logins_per_user.plot(ax=ax2,kind='pie', \n",
    "                                       labels=None, \n",
    "                                       legend=False,\n",
    "                                       startangle=270,\n",
    "#                                        colors=sns.color_palette()\n",
    "                                       )\n",
    "    ax2.set_ylabel(\"\")\n",
    "    \n",
    "    \n",
    "    \n",
    "    ####\n",
    "    # For Pie Chart Better Legend box\n",
    "    porcent = (100.*freq_distinct_logins_per_user.values)/(freq_distinct_logins_per_user.values.sum())\n",
    "    labels = ['{0} - {1:1.2f} %'.\\\n",
    "              format(i,j) for i,j in zip(freq_distinct_logins_per_user.index, porcent)]\n",
    "    # To Sort Legend (defaulf: keeps the same order)\n",
    "#     patches, labels, dummy =  zip(*sorted(zip(patches, labels, freq_distinct_logins_per_user.values),\n",
    "#                                           key=lambda x: x[2],\n",
    "#                                           reverse=True))\n",
    "    legend_show_top=10\n",
    "    ax2.legend(ax2.patches[0:legend_show_top], \n",
    "               labels[0:legend_show_top], \n",
    "               bbox_to_anchor=(1.5, 1.),\n",
    "               fontsize=10)\n",
    "    ####\n",
    "    \n",
    "    fig.tight_layout()\n",
    "    fig.show()\n",
    "    fig.savefig('figs/login_times.eps', bbox_inches='tight',format='eps', dpi=1200)\n",
    "else:\n",
    "    print(\"Unfortunately, there is no data available!\")\n"
   ]
  },
  {
   "cell_type": "markdown",
   "metadata": {},
   "source": [
    "## 5.3. Number of Users that Login via TOR"
   ]
  },
  {
   "cell_type": "code",
   "execution_count": null,
   "metadata": {
    "collapsed": false
   },
   "outputs": [],
   "source": [
    "len(df_logins_torcheck[df_logins_torcheck['tor']==True]['userip'].value_counts())"
   ]
  },
  {
   "cell_type": "markdown",
   "metadata": {},
   "source": [
    "## 5.4. Number of Distinct IP addresses by Users"
   ]
  },
  {
   "cell_type": "code",
   "execution_count": null,
   "metadata": {
    "collapsed": false
   },
   "outputs": [],
   "source": [
    "if len(df_logins.groupby(['userid','userip']).size().reset_index()['userid'].value_counts()) >0:\n",
    "    num_distinct_ips_per_user=df_logins.groupby(['userid','userip']).size().reset_index()['userid'].value_counts()\n",
    "else:\n",
    "    num_distinct_ips_per_user=df_logins.groupby(['username','userip']).size().reset_index()['username'].value_counts()\n",
    "    \n",
    "freq_distinct_ips_per_user=num_distinct_ips_per_user.value_counts()\n",
    "cum_dist_user_ips = np.linspace(0.,1.,len(num_distinct_ips_per_user))\n",
    "cdf_user_ips = pd.Series(cum_dist_user_ips, index=num_distinct_ips_per_user.sort_values())"
   ]
  },
  {
   "cell_type": "code",
   "execution_count": null,
   "metadata": {
    "collapsed": false
   },
   "outputs": [],
   "source": [
    "if len(num_distinct_ips_per_user)>0:\n",
    "    fig = plt.figure(figsize=(6, 3))\n",
    "    fig.suptitle('* Distribution of Distinct IP address used by Users:', fontsize=14, y=1.05, x=0.4)\n",
    "\n",
    "    ax1 = plt.subplot2grid((1,2), (0,0))\n",
    "    ax1 = cdf_user_ips.plot( ax=ax1,lw=2, drawstyle='steps',legend=False)\n",
    "    ax1.set_xlabel(\"# IPs\")\n",
    "    ax1.set_ylabel(\"CDF of Users\")\n",
    "    ax1.set_ylim(0,1.05)\n",
    "    plt.setp(ax1.xaxis.get_majorticklabels(), rotation=45)\n",
    "    \n",
    "    ax2 = plt.subplot2grid((1,2), (0,1))\n",
    "    freq_distinct_ips_per_user.plot(ax=ax2,kind='pie',\n",
    "                                    labels=None,legend=False,\n",
    "                                       startangle=270,\n",
    "#                                        colors=sns.color_palette()\n",
    "                                       )\n",
    "    ax2.set_ylabel(\"\")\n",
    "    ####\n",
    "    # For Pie Chart Better Legend box\n",
    "    porcent = (100.*freq_distinct_ips_per_user.values)/(freq_distinct_ips_per_user.values.sum())\n",
    "    labels = ['{0} - {1:1.2f} %'.\\\n",
    "              format(i,j) for i,j in zip(freq_distinct_ips_per_user.index, porcent)]\n",
    "    # To Sort Legend (defaulf: keeps the same order)\n",
    "#     patches, labels, dummy =  zip(*sorted(zip(patches, labels, freq_distinct_logins_per_user.values),\n",
    "#                                           key=lambda x: x[2],\n",
    "#                                           reverse=True))\n",
    "    legend_show_top=10\n",
    "    ax2.legend(ax2.patches[0:legend_show_top], \n",
    "               labels[0:legend_show_top], \n",
    "               bbox_to_anchor=(1.5, 1.),\n",
    "               fontsize=10)\n",
    "    ####\n",
    "    \n",
    "    fig.tight_layout()\n",
    "    fig.show()\n",
    "    fig.savefig('figs/num_ips_by_users.eps', bbox_inches='tight',format='eps', dpi=1200)\n",
    "else:\n",
    "    print(\"Unfortunately, there is no data available!\")\n"
   ]
  },
  {
   "cell_type": "markdown",
   "metadata": {},
   "source": [
    "## 5.5. Number of Payments by Users"
   ]
  },
  {
   "cell_type": "code",
   "execution_count": null,
   "metadata": {
    "collapsed": false
   },
   "outputs": [],
   "source": [
    "if len(df_payments['userid'].value_counts())>0:\n",
    "    num_distinct_payments_per_user=df_payments['userid'].value_counts()\n",
    "else:\n",
    "    num_distinct_payments_per_user=df_payments['username'].value_counts()\n",
    "\n",
    "freq_distinct_payments_per_user=num_distinct_payments_per_user.value_counts()\n",
    "cum_dist_user_payments = np.linspace(0.,1.,len(num_distinct_payments_per_user))\n",
    "cdf_user_payments = pd.Series(cum_dist_user_payments, index=num_distinct_payments_per_user.sort_values())"
   ]
  },
  {
   "cell_type": "code",
   "execution_count": null,
   "metadata": {
    "collapsed": false
   },
   "outputs": [],
   "source": [
    "if len(num_distinct_payments_per_user)>0:\n",
    "    fig = plt.figure(figsize=(6, 3))\n",
    "    fig.suptitle('* Distribution of Number of Payments by Users:', fontsize=14, y=1.05, x=0.4)\n",
    "\n",
    "    ax1 = plt.subplot2grid((1,2), (0,0))\n",
    "    ax1 = cdf_user_payments.plot( ax=ax1,lw=2, drawstyle='steps',legend=False)\n",
    "    ax1.set_xlabel(\"# Payment\")\n",
    "    ax1.set_ylabel(\"CDF of Users\")\n",
    "    ax1.set_ylim(0,1.05)\n",
    "    plt.setp(ax1.xaxis.get_majorticklabels(), rotation=45)\n",
    "    \n",
    "    ax2 = plt.subplot2grid((1,2), (0,1))\n",
    "    freq_distinct_payments_per_user.plot(ax=ax2,kind='pie', \n",
    "                                         labels=None,legend=False,\n",
    "                                         startangle=270)\n",
    "    ax2.set_ylabel(\"\")\n",
    "    ####\n",
    "    # For Pie Chart Better Legend box\n",
    "    porcent = (100.*freq_distinct_payments_per_user.values)/(freq_distinct_payments_per_user.values.sum())\n",
    "    labels = ['{0} - {1:1.2f} %'.\\\n",
    "              format(i,j) for i,j in zip(freq_distinct_payments_per_user.index, porcent)]\n",
    "    # To Sort Legend (defaulf: keeps the same order)\n",
    "#     patches, labels, dummy =  zip(*sorted(zip(patches, labels, freq_distinct_logins_per_user.values),\n",
    "#                                           key=lambda x: x[2],\n",
    "#                                           reverse=True))\n",
    "    legend_show_top=10\n",
    "    ax2.legend(ax2.patches[0:legend_show_top], \n",
    "               labels[0:legend_show_top], \n",
    "               bbox_to_anchor=(1.55, 1.),\n",
    "               fontsize=10)\n",
    "    ####\n",
    "    fig.tight_layout()\n",
    "    fig.show()\n",
    "    fig.savefig('figs/payments_distribution.eps', bbox_inches='tight',format='eps', dpi=1200)\n",
    "else:\n",
    "    print(\"Unfortunately, there is no data available!\")\n"
   ]
  },
  {
   "cell_type": "markdown",
   "metadata": {},
   "source": [
    "## 5.6. Total Amount of Money Earned"
   ]
  },
  {
   "cell_type": "code",
   "execution_count": null,
   "metadata": {
    "collapsed": false
   },
   "outputs": [],
   "source": [
    "if len(df_payments['amountpaid']) >0:\n",
    "    total_earned=df_payments['amountpaid'].values.sum()\n",
    "    'US$ {:,.2f}'.format(float(total_earned))\n",
    "else:\n",
    "    print(\"Unfortunately, there is no data available!\")"
   ]
  },
  {
   "cell_type": "markdown",
   "metadata": {},
   "source": [
    "## 5.7. Amount of Money Paid by Users"
   ]
  },
  {
   "cell_type": "code",
   "execution_count": null,
   "metadata": {
    "collapsed": true
   },
   "outputs": [],
   "source": [
    "num_distinct_payments_money_per_user=df_payments['amountpaid'].value_counts()\n",
    "freq_distinct_payments_money_per_user=num_distinct_payments_money_per_user.value_counts()\n",
    "cum_dist_user_payments_money = np.linspace(0.,1.,len(num_distinct_payments_money_per_user))\n",
    "cdf_user_payments_money = pd.Series(cum_dist_user_payments_money, index=num_distinct_payments_money_per_user.sort_values())"
   ]
  },
  {
   "cell_type": "code",
   "execution_count": null,
   "metadata": {
    "collapsed": false
   },
   "outputs": [],
   "source": [
    "if len(num_distinct_payments_money_per_user)>0:\n",
    "    fig = plt.figure(figsize=(6, 3))\n",
    "    fig.suptitle('* Distribution of Money Payments by Users:', fontsize=14, y=1.05, x=0.4)\n",
    "\n",
    "    ax1 = plt.subplot2grid((1,2), (0,0))\n",
    "    ax1 = cdf_user_payments_money.plot( ax=ax1,lw=2, drawstyle='steps',legend=False)\n",
    "    ax1.set_xlabel(\"$\")\n",
    "    ax1.set_ylabel(\"CDF of Users\")\n",
    "    ax1.set_ylim(0,1.05)\n",
    "    plt.setp(ax1.xaxis.get_majorticklabels(), rotation=45)\n",
    "\n",
    "    ax2 = plt.subplot2grid((1,2), (0,1))\n",
    "    freq_distinct_payments_money_per_user.plot(ax=ax2,kind='pie', \n",
    "                                               labels=None,legend=False,\n",
    "                                               startangle=270)\n",
    "    ax2.set_ylabel(\"\")\n",
    "    ####\n",
    "    # For Pie Chart Better Legend box\n",
    "    porcent = (100.*freq_distinct_payments_money_per_user.values)/(freq_distinct_payments_money_per_user.values.sum())\n",
    "    labels = ['${0:1.2f} - {1:1.2f} %'.\\\n",
    "              format(i,j) for i,j in zip(freq_distinct_payments_money_per_user.index, porcent)]\n",
    "    # To Sort Legend (defaulf: keeps the same order)\n",
    "#     patches, labels, dummy =  zip(*sorted(zip(patches, labels, freq_distinct_logins_per_user.values),\n",
    "#                                           key=lambda x: x[2],\n",
    "#                                           reverse=True))\n",
    "    legend_show_top=10\n",
    "    ax2.legend(ax2.patches[0:legend_show_top], \n",
    "               labels[0:legend_show_top], \n",
    "               bbox_to_anchor=(1.6, 1.),\n",
    "               fontsize=10)\n",
    "    ####\n",
    "    fig.tight_layout()\n",
    "    fig.show()\n",
    "    fig.savefig('figs/distribution_amount_paid.eps', bbox_inches='tight',format='eps', dpi=1200)\n",
    "else:\n",
    "    print(\"Unfortunately, there is no data available!\")\n"
   ]
  },
  {
   "cell_type": "markdown",
   "metadata": {
    "collapsed": false
   },
   "source": [
    "## 5.8. Countries from where Users Access Booters"
   ]
  },
  {
   "cell_type": "code",
   "execution_count": null,
   "metadata": {
    "collapsed": true
   },
   "outputs": [],
   "source": [
    "logins_country_distribution_sorted = df_logins_iptoasn['country'].value_counts(sort=True,ascending=True)\n",
    "logins_country_distribution = df_logins_iptoasn['country'].value_counts()"
   ]
  },
  {
   "cell_type": "code",
   "execution_count": null,
   "metadata": {
    "collapsed": false
   },
   "outputs": [],
   "source": [
    "if len(logins_country_distribution)>0:\n",
    "    fig = plt.figure(figsize=(6, 3))\n",
    "    fig.suptitle('* Users Accessing from Countries:', fontsize=14, y=1.05, x=0.28)\n",
    "\n",
    "    ax1 = plt.subplot2grid((1,2), (0,0))\n",
    "    logins_country_distribution_sorted.plot(ax=ax1,kind='barh')\n",
    "    ax1.set_ylabel(\"# access\")\n",
    "    ax1.set_xlabel(\"Country\")\n",
    "    plt.setp(ax1.xaxis.get_majorticklabels(), rotation=45)\n",
    "\n",
    "    ax2 = plt.subplot2grid((1,2), (0,1))\n",
    "    logins_country_distribution.plot(ax=ax2,kind='pie', \n",
    "                                     labels=None,legend=False,\n",
    "                                     startangle=270)\n",
    "    ax2.set_ylabel(\"\")\n",
    "    ####\n",
    "    # For Pie Chart Better Legend box\n",
    "    porcent = (100.*logins_country_distribution.values)/(logins_country_distribution.values.sum())\n",
    "    labels = ['{0} - {1:1.2f} %'.\\\n",
    "              format(i,j) for i,j in zip(logins_country_distribution.index, porcent)]\n",
    "    # To Sort Legend (defaulf: keeps the same order)\n",
    "#     patches, labels, dummy =  zip(*sorted(zip(patches, labels, freq_distinct_logins_per_user.values),\n",
    "#                                           key=lambda x: x[2],\n",
    "#                                           reverse=True))\n",
    "    legend_show_top=10\n",
    "    ax2.legend(ax2.patches[0:legend_show_top], \n",
    "               labels[0:legend_show_top], \n",
    "               bbox_to_anchor=(1.55, 1.),\n",
    "               fontsize=10)\n",
    "    ####\n",
    "    fig.tight_layout()\n",
    "    fig.show()\n",
    "    fig.savefig('figs/user_countries.eps', bbox_inches='tight',format='eps', dpi=1200)\n",
    "else:\n",
    "    print(\"Unfortunately, there is no data available!\")"
   ]
  },
  {
   "cell_type": "markdown",
   "metadata": {},
   "source": [
    "## 5.9. Countries of Blacklisted IPs"
   ]
  },
  {
   "cell_type": "code",
   "execution_count": null,
   "metadata": {
    "collapsed": true
   },
   "outputs": [],
   "source": [
    "blacklist_country_distribution=df_blacklist_iptoasn['country'].value_counts()\n",
    "blacklist_country_distribution_sorted=df_blacklist_iptoasn['country'].value_counts(sort=True,ascending=True)"
   ]
  },
  {
   "cell_type": "code",
   "execution_count": null,
   "metadata": {
    "collapsed": false
   },
   "outputs": [],
   "source": [
    "if len(blacklist_country_distribution)>0:\n",
    "    fig = plt.figure(figsize=(6, 3))\n",
    "    fig.suptitle('* Countries of blacklisted IPs', fontsize=14, y=1.05, x=0.28)\n",
    "\n",
    "    ax1 = plt.subplot2grid((1,2), (0,0))\n",
    "    blacklist_country_distribution_sorted.plot(ax=ax1,kind='barh')\n",
    "    ax1.set_ylabel(\"# Access\")\n",
    "    ax1.set_xlabel(\"Country\")\n",
    "    plt.setp(ax1.xaxis.get_majorticklabels(), rotation=45)\n",
    "\n",
    "    ax2 = plt.subplot2grid((1,2), (0,1))\n",
    "    blacklist_country_distribution.plot(ax=ax2,kind='pie', \n",
    "                                        labels=None,legend=False,\n",
    "                                        startangle=270)\n",
    "    ax2.set_ylabel(\"\")\n",
    "    ####\n",
    "    # For Pie Chart Better Legend box\n",
    "    porcent = (100.*blacklist_country_distribution.values)/(logins_country_distribution.values.sum())\n",
    "    labels = ['{0} - {1:1.2f} %'.\\\n",
    "              format(i,j) for i,j in zip(blacklist_country_distribution.index, porcent)]\n",
    "    # To Sort Legend (defaulf: keeps the same order)\n",
    "#     patches, labels, dummy =  zip(*sorted(zip(patches, labels, freq_distinct_logins_per_user.values),\n",
    "#                                           key=lambda x: x[2],\n",
    "#                                           reverse=True))\n",
    "    legend_show_top=10\n",
    "    ax2.legend(ax2.patches[0:legend_show_top], \n",
    "               labels[0:legend_show_top], \n",
    "               bbox_to_anchor=(1.55, 1.),\n",
    "               fontsize=10)\n",
    "    ####\n",
    "    fig.tight_layout()\n",
    "    fig.show()\n",
    "    fig.savefig('figs/blacklist_countries.eps', bbox_inches='tight',format='eps', dpi=1200)\n",
    "else:\n",
    "    print(\"Unfortunately, there is no data available!\")"
   ]
  },
  {
   "cell_type": "markdown",
   "metadata": {},
   "source": [
    "## 5.10. Countries of Target IPs"
   ]
  },
  {
   "cell_type": "code",
   "execution_count": null,
   "metadata": {
    "collapsed": true
   },
   "outputs": [],
   "source": [
    "attacks_country_distribution=df_attacks_iptoasn['country'].value_counts()"
   ]
  },
  {
   "cell_type": "code",
   "execution_count": null,
   "metadata": {
    "collapsed": false
   },
   "outputs": [],
   "source": [
    "if len(attacks_country_distribution)>0:\n",
    "    fig = plt.figure(figsize=(6, 3))\n",
    "    fig.suptitle('* Countries of target IPs', fontsize=14, y=1.05, x=0.28)\n",
    "\n",
    "    ax1 = plt.subplot2grid((1,2), (0,0))\n",
    "    attacks_country_distribution.plot(ax=ax1,kind='bar')\n",
    "    ax1.set_ylabel(\"# Access\")\n",
    "    ax1.set_xlabel(\"Country\")\n",
    "    plt.setp(ax1.xaxis.get_majorticklabels(), rotation=45)\n",
    "\n",
    "    ax2 = plt.subplot2grid((1,2), (0,1))\n",
    "    attacks_country_distribution.plot(ax=ax2,kind='pie', \n",
    "                                      labels=None,legend=False,\n",
    "                                      startangle=270)\n",
    "    ax2.set_ylabel(\"\")\n",
    "    ####\n",
    "    # For Pie Chart Better Legend box\n",
    "    porcent = (100.*attacks_country_distribution.values)/(attacks_country_distribution.values.sum())\n",
    "    labels = ['{0} - {1:1.2f} %'.\\\n",
    "              format(i,j) for i,j in zip(attacks_country_distribution.index, porcent)]\n",
    "    # To Sort Legend (defaulf: keeps the same order)\n",
    "#     patches, labels, dummy =  zip(*sorted(zip(patches, labels, freq_distinct_logins_per_user.values),\n",
    "#                                           key=lambda x: x[2],\n",
    "#                                           reverse=True))\n",
    "    legend_show_top=10\n",
    "    ax2.legend(ax2.patches[0:legend_show_top], \n",
    "               labels[0:legend_show_top], \n",
    "               bbox_to_anchor=(1.55, 1.),\n",
    "               fontsize=10)\n",
    "    ####\n",
    "    fig.tight_layout()\n",
    "    fig.show()\n",
    "    fig.savefig('figs/attack_countries_distribution.eps',bbox_inches='tight', format='eps', dpi=1200) \n",
    "else:\n",
    "    print(\"Unfortunately, there is no data available!\")"
   ]
  },
  {
   "cell_type": "markdown",
   "metadata": {},
   "source": [
    "## 5.12. Attacks on Same Target"
   ]
  },
  {
   "cell_type": "code",
   "execution_count": null,
   "metadata": {
    "collapsed": true
   },
   "outputs": [],
   "source": [
    "num_attacks_on_sametarget=df_attacks['targetip'].value_counts()\n",
    "\n",
    "freq_num_attacks_on_sametarget=num_attacks_on_sametarget.value_counts()\n",
    "cum_num_attacks_on_sametarget = np.linspace(0.,1.,len(num_attacks_on_sametarget))\n",
    "cdf_num_attacks_on_sametarget = pd.Series(cum_num_attacks_on_sametarget, index=num_attacks_on_sametarget.sort_values())"
   ]
  },
  {
   "cell_type": "code",
   "execution_count": null,
   "metadata": {
    "collapsed": false
   },
   "outputs": [],
   "source": [
    "if len(num_attacks_on_sametarget)>0:\n",
    "    fig = plt.figure(figsize=(6, 3))\n",
    "    fig.suptitle('* Attacks on Same Targets:', fontsize=14, y=1.05,x=0.28)\n",
    "\n",
    "    ax1 = plt.subplot2grid((1,2), (0,0))\n",
    "    ax1 = cdf_num_attacks_on_sametarget.plot( ax=ax1,lw=2, drawstyle='steps',legend=False)\n",
    "    ax1.set_xlabel(\"# IPs\")\n",
    "    ax1.set_ylabel(\"CDF of Users\")\n",
    "    ax1.set_ylim(0,1.05)\n",
    "    plt.setp(ax1.xaxis.get_majorticklabels(), rotation=45)\n",
    "\n",
    "    ax2 = plt.subplot2grid((1,2), (0,1))\n",
    "    freq_num_attacks_on_sametarget.plot(ax=ax2,kind='pie',\n",
    "                                        labels=None,legend=False,\n",
    "                                        startangle=270)\n",
    "    ax2.set_ylabel(\"\")\n",
    "    ####\n",
    "    # For Pie Chart Better Legend box\n",
    "    porcent = (100.*freq_num_attacks_on_sametarget.values)/(freq_num_attacks_on_sametarget.values.sum())\n",
    "    labels = ['{0} - {1:1.2f} %'.\\\n",
    "              format(i,j) for i,j in zip(freq_num_attacks_on_sametarget.index, porcent)]\n",
    "    # To Sort Legend (defaulf: keeps the same order)\n",
    "#     patches, labels, dummy =  zip(*sorted(zip(patches, labels, freq_distinct_logins_per_user.values),\n",
    "#                                           key=lambda x: x[2],\n",
    "#                                           reverse=True))\n",
    "    legend_show_top=10\n",
    "    ax2.legend(ax2.patches[0:legend_show_top], \n",
    "               labels[0:legend_show_top], \n",
    "               bbox_to_anchor=(1.55, 1.),\n",
    "               fontsize=10)\n",
    "    ####\n",
    "    fig.tight_layout()\n",
    "\n",
    "    fig.show()\n",
    "    fig.savefig('figs/attacks_on_same_target.eps', bbox_inches='tight',format='eps', dpi=1200)\n",
    "else:\n",
    "    print(\"Unfortunately, there is no data available!\")"
   ]
  },
  {
   "cell_type": "markdown",
   "metadata": {},
   "source": [
    "## 5.11. Attacks per day (timeseries) "
   ]
  },
  {
   "cell_type": "code",
   "execution_count": null,
   "metadata": {
    "collapsed": false
   },
   "outputs": [],
   "source": [
    "if len(df_attacks)>0:\n",
    "    attack_timeseries=df_attacks.set_index(['date']).groupby(pd.TimeGrouper(freq='D')).agg(['count'])['action']\n",
    "    attack_mean_perday=attack_timeseries.mean()\n",
    "    attack_median_perday=attack_timeseries.median()\n",
    "else:\n",
    "    attack_timeseries=\"\""
   ]
  },
  {
   "cell_type": "code",
   "execution_count": null,
   "metadata": {
    "collapsed": false
   },
   "outputs": [],
   "source": [
    "if len(attack_timeseries)>0:\n",
    "    fig = plt.figure(figsize=(6,3))\n",
    "\n",
    "    ax1 = plt.subplot2grid((1,1), (0,0), rowspan=2)\n",
    "    attack_timeseries.plot(ax=ax1,\n",
    "                           lw=2,\n",
    "                           legend=False,\n",
    "    #                        style='--'\n",
    "                          )\n",
    "\n",
    "    # X and Y Labels and Ticks\n",
    "    ax1.set_xlabel(\"Time (bin=day)\")\n",
    "    ax1.set_ylabel(\"# Attacks\")\n",
    "\n",
    "    ax1.annotate(str(int(attack_median_perday[0]))+' (median)', \n",
    "                 (min(df_attacks['date']), attack_median_perday),\n",
    "                 xytext=(350, -1), \n",
    "                 textcoords='offset points',\n",
    "                 color='black', \n",
    "                 arrowprops=dict(arrowstyle='-|>',\n",
    "                                 color='black'))\n",
    "    fig.savefig('figs/attacks_timeseries.eps', bbox_inches='tight',format='eps', dpi=1200)\n",
    "\n",
    "else:\n",
    "    print(\"Unfortunately, there is no data available!\")"
   ]
  },
  {
   "cell_type": "markdown",
   "metadata": {},
   "source": [
    "## 5.12. Time Between Logins and Attacks"
   ]
  },
  {
   "cell_type": "code",
   "execution_count": null,
   "metadata": {
    "collapsed": false
   },
   "outputs": [],
   "source": [
    "if len(df_attacks_and_logins)>0:\n",
    "    print(\"redo\")\n",
    "else:\n",
    "    print(\"Unfortunately, there is no data available!\")"
   ]
  },
  {
   "cell_type": "markdown",
   "metadata": {},
   "source": [
    "## 5.13. Who attack whom? (users on the country level)"
   ]
  },
  {
   "cell_type": "code",
   "execution_count": null,
   "metadata": {
    "collapsed": false
   },
   "outputs": [],
   "source": [
    "if len(df_attacks_extended)>0 and len(df_logins_extended)>0:\n",
    "    merged_attacks_logins = pd.merge(df_attacks_extended,\n",
    "                                  df_logins_extended,\n",
    "                                  how = 'left',\n",
    "                                  left_on = 'date',\n",
    "                                  right_on = 'date')[['targetcountry','srccountry']]\n",
    "\n",
    "    who_against_whom = merged_attacks_logins.groupby(['targetcountry','srccountry'])\\\n",
    "                            .size()\\\n",
    "                            .reset_index()\\\n",
    "                            .pivot('srccountry','targetcountry',0)\n",
    "else:\n",
    "    who_against_whom =\"\""
   ]
  },
  {
   "cell_type": "code",
   "execution_count": null,
   "metadata": {
    "collapsed": false
   },
   "outputs": [],
   "source": [
    "if len(who_against_whom)>0:\n",
    "    fig = plt.figure(figsize=(8,12))\n",
    "    fig.suptitle('Countries of Target IPs', fontsize=14, y=.92)\n",
    "\n",
    "    ax1 = plt.subplot2grid((1,1), (0,0))\n",
    "    sns.set()\n",
    "    sns.heatmap(who_against_whom,\n",
    "                ax=ax1,\n",
    "#                 cmap=\"YlGnBu\",\n",
    "    #             linewidths=.5,\n",
    "    #             annot=True\n",
    "                )\n",
    "\n",
    "    ax1.set_ylabel(\"Source Country\")\n",
    "    ax1.set_xlabel(\"Attack Target Country\")\n",
    "\n",
    "    fig.show()\n",
    "    fig.savefig('figs/who_attack_whom.eps', bbox_inches='tight',format='eps', dpi=1200)\n",
    "else:\n",
    "    print(\"Unfortunately, there is no data available!\")"
   ]
  },
  {
   "cell_type": "markdown",
   "metadata": {},
   "source": [
    "<h1 align=\"center\">!!!!!!!!!!!!!!!!!!!!!!!!!!!!!!!!!!!!!!!!!!!!!!!!!!!!!!!!!!!!!!!!!!!!!!!!!!!!!!!!!!!!!!!!!!!!!!!!!!!!!!!!!!!!!!!!!!!!!!!!!!!!!!!!!<br>\n",
    "FIFTH PART: Query Interface<br>\n",
    "!!!!!!!!!!!!!!!!!!!!!!!!!!!!!!!!!!!!!!!!!!!!!!!!!!!!!!!!!!!!!!!!!!!!!!!!!!!!!!!!!!!!!!!!!!!!!!!!!!!!!!!!!!!!!!!!!!!!!!!!!!!!!!!</h1> "
   ]
  },
  {
   "cell_type": "code",
   "execution_count": null,
   "metadata": {
    "collapsed": true
   },
   "outputs": [],
   "source": [
    "from ipywidgets import widgets, interact, Dropdown,HTML\n",
    "from IPython.display import display,clear_output"
   ]
  },
  {
   "cell_type": "code",
   "execution_count": null,
   "metadata": {
    "collapsed": false
   },
   "outputs": [],
   "source": [
    "def search_by_userid_submit(sender):\n",
    "    clear_output()\n",
    "    print(\"Searching by id =\",search_by_userid.value)\n",
    "    \n",
    "    if len(df_users[df_users['userid']== int(search_by_userid.value)])>0:\n",
    "        display(df_users[df_logins['userid']== int(search_by_userid.value)])\n",
    "    \n",
    "    if len(df_logins_extended[df_logins_extended['userid']== int(search_by_userid.value)])>0:\n",
    "        display(df_logins_extended[df_logins_extended['userid']== int(search_by_userid.value)])\n",
    "    \n",
    "    if len(df_attacks_extended[df_attacks_extended['userid']== int(search_by_userid.value)])>0:\n",
    "        display(df_attacks_extended[df_attacks_extended['userid']== int(search_by_userid.value)])\n",
    "    \n",
    "    if len(df_payments[df_payments['userid']== int(search_by_userid.value)])>0:\n",
    "        display(df_payments[df_payments['userid']== int(search_by_userid.value)])\n",
    "\n",
    "def search_by_username_submit(sender):\n",
    "    clear_output()\n",
    "    print(\"Searching by username =\",search_by_username.value,\"\\n\")\n",
    "    \n",
    "    if len(df_users[df_users['username']== search_by_username.value])>0:\n",
    "        print(\"Table df_users:\")\n",
    "        display(df_users[df_users['username']== search_by_username.value])\n",
    "    \n",
    "    if len(df_logins_extended[df_logins_extended['username']== search_by_username.value])>0:\n",
    "        print(\"Table df_logins:\")\n",
    "        display(df_logins_extended[df_logins_extended['username']== search_by_username.value])\n",
    "\n",
    "    if len(df_attacks_extended[df_attacks_extended['username']== search_by_username.value])>0:\n",
    "        print(\"Table df_attacks:\")\n",
    "        display(df_attacks_extended[df_attacks_extended['username']== search_by_username.value])\n",
    "    \n",
    "    if len(df_payments[df_payments['username']== search_by_username.value])>0:\n",
    "        print(\"Table df_payments:\")\n",
    "        display(df_payments[df_payments['username']== search_by_username.value])\n",
    "        \n",
    "def search_by_ip_submit(sender):\n",
    "    clear_output()\n",
    "    print(\"Searching by IP address =\",str(search_by_ip.value),\"\\n\")\n",
    "    \n",
    "    if len(df_logins_extended[df_logins_extended['userip']== str(search_by_ip.value)])>0:\n",
    "        print(\"Table df_logins (as ATTACKER:\")\n",
    "        display(df_logins_extended[df_logins_extended['userip']== str(search_by_ip.value)])\n",
    "     \n",
    "    if len(df_attacks_extended[df_attacks_extended['targetip']== str(search_by_ip.value)])>0:\n",
    "        print(\"Table df_attacks (as TARGET):\")\n",
    "        display(df_attacks_extended[df_attacks_extended['targetip']== str(search_by_ip.value)])  \n",
    "      \n",
    "       \n",
    "def search_by_asn_submit(sender):\n",
    "    clear_output()\n",
    "    print(\"Searching by Autonomous System Number (ASN) =\",search_by_asn.value,\"\\n\")\n",
    "    \n",
    "    if len(df_logins_extended[df_logins_extended['srcasn']== int(search_by_asn.value)])>0:\n",
    "        print(\"Table df_logins (as ATTACKER):\")\n",
    "        display(df_logins_extended[df_logins_extended['srcasn']== int(search_by_asn.value)])\n",
    "    \n",
    "    if len(df_attacks_extended[df_attacks_extended['targetasn']== str(search_by_asn.value)])>0:\n",
    "        print(\"Table df_attacks (as TARGET):\")\n",
    "        display(df_attacks_extended[df_attacks_extended['targetasn']== str(search_by_asn.value)])\n",
    "\n",
    "    if len(df_attacks_extended[df_attacks_extended['targetasn']== str(search_by_asn.value)])>0:\n",
    "        print(\"Table df_attacks (as TARGET):\")\n",
    "        display(df_attacks_extended[df_attacks_extended['targetasn']== str(search_by_asn.value)])\n",
    "\n",
    "        \n",
    "country_list=pd.read_csv('https://raw.githubusercontent.com/datasets/country-list/master/data.csv',delimiter=\",\",error_bad_lines=False)\n",
    "def search_by_country_submit():\n",
    "    country_code=country_list[country_list['Name']==search_by_country.value]['Code'].values[0]\n",
    "    clear_output()\n",
    "    print(\"Searching by Country =\",search_by_country.value,\"\\n\")\n",
    "    \n",
    "    if len(df_logins_extended[df_logins_extended['srccountry']== country_code])>0:\n",
    "        print(\"Table df_logins (as ATTACKER):\")\n",
    "        display(df_logins_extended[df_logins_extended['srccountry']== country_code])\n",
    "    \n",
    "    if len(df_attacks_extended[df_attacks_extended['targetcountry']== country_code])>0:\n",
    "        print(\"Table df_attacks (as TARGET):\")\n",
    "        display(df_attacks_extended[df_attacks_extended['targetcountry']== country_code])\n",
    "    "
   ]
  },
  {
   "cell_type": "code",
   "execution_count": null,
   "metadata": {
    "collapsed": false
   },
   "outputs": [],
   "source": [
    "display(HTML('<h3>*Search by (only) one field per time:</h3>'))\n",
    "\n",
    "search_by_username = widgets.Text(description=\"username\")\n",
    "display(search_by_username)\n",
    "search_by_username.on_submit(search_by_username_submit)\n",
    "\n",
    "search_by_userid = widgets.Text(description=\"userid\")\n",
    "display(search_by_userid)\n",
    "search_by_userid.on_submit(search_by_userid_submit)\n",
    "\n",
    "search_by_ip = widgets.Text(description=\"IP\")\n",
    "display(search_by_ip)\n",
    "search_by_ip.on_submit(search_by_ip_submit)\n",
    "\n",
    "search_by_asn = widgets.Text(description=\"ASN\")\n",
    "display(search_by_asn)\n",
    "search_by_asn.on_submit(search_by_asn_submit)\n",
    "\n",
    "search_by_country = Dropdown(description=\"Country\", options=country_list['Name'].tolist())\n",
    "search_by_country.on_trait_change(search_by_country_submit, name=\"value\")\n",
    "display(search_by_country)"
   ]
  },
  {
   "cell_type": "code",
   "execution_count": null,
   "metadata": {
    "collapsed": true
   },
   "outputs": [],
   "source": []
  }
 ],
 "metadata": {
  "kernelspec": {
   "display_name": "Python 3",
   "language": "python",
   "name": "python3"
  },
  "language_info": {
   "codemirror_mode": {
    "name": "ipython",
    "version": 3
   },
   "file_extension": ".py",
   "mimetype": "text/x-python",
   "name": "python",
   "nbconvert_exporter": "python",
   "pygments_lexer": "ipython3",
   "version": "3.5.1"
  },
  "widgets": {
   "state": {},
   "version": "1.1.2"
  }
 },
 "nbformat": 4,
 "nbformat_minor": 0
}
