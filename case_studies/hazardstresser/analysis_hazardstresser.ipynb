{
 "cells": [
  {
   "cell_type": "markdown",
   "metadata": {},
   "source": [
    "<h1 align=\"center\">\n",
    "!!!!!!!!!!!!!!!!!!!!!!!!!!!!!!!!!!!!!!!!!!!!!!!!!!!!!!!!!!!!!!!!!!!!!!!!!!!!!!!!!!!!!!!!!!!!!!!!!!!!!!!!!!!!!!!!!!!!!!!!!!!!!!!<br>\n",
    "Brief explanation on our Booter database analysis methodology: <br>\n",
    "!!!!!!!!!!!!!!!!!!!!!!!!!!!!!!!!!!!!!!!!!!!!!!!!!!!!!!!!!!!!!!!!!!!!!!!!!!!!!!!!!!!!!!!!!!!!!!!!!!!!!!!!!!!!!!!!!!!!!!!!!!!!!!!</h1> "
   ]
  },
  {
   "cell_type": "markdown",
   "metadata": {
    "deletable": true,
    "editable": true
   },
   "source": [
    "# Analysis of: hazardst_stress.sql\n",
    "#### File originally retrieved from: http://http://www.bitleak.net/Thread-Hazard-Stresser-Database-Dump"
   ]
  },
  {
   "cell_type": "markdown",
   "metadata": {
    "deletable": true,
    "editable": true
   },
   "source": [
    "## * Libraries that I use to analyse data"
   ]
  },
  {
   "cell_type": "code",
   "execution_count": 1,
   "metadata": {
    "collapsed": true,
    "deletable": true,
    "editable": true
   },
   "outputs": [],
   "source": [
    "import pandas as pd\n",
    "import numpy as np\n",
    "\n",
    "from io import StringIO\n",
    "import re\n",
    "\n",
    "from IPython.display import display,clear_output"
   ]
  },
  {
   "cell_type": "code",
   "execution_count": 2,
   "metadata": {
    "collapsed": false
   },
   "outputs": [
    {
     "name": "stdout",
     "output_type": "stream",
     "text": [
      " Functions loaded!!!!\n"
     ]
    }
   ],
   "source": [
    "%run '../booter_db_analysis_functions.ipynb'"
   ]
  },
  {
   "cell_type": "markdown",
   "metadata": {},
   "source": [
    "<h1 align=\"center\">\n",
    "!!!!!!!!!!!!!!!!!!!!!!!!!!!!!!!!!!!!!!!!!!!!!!!!!!!!!!!!!!!!!!!!!!!!!!!!!!!!!!!!!!!!!!!!!!!!!!!!!!!!!!!!!!!!!!!!!!!!!!!!!!!!!!!<br>\n",
    "STEP 0: Reading an input Booter database file<br>\n",
    "!!!!!!!!!!!!!!!!!!!!!!!!!!!!!!!!!!!!!!!!!!!!!!!!!!!!!!!!!!!!!!!!!!!!!!!!!!!!!!!!!!!!!!!!!!!!!!!!!!!!!!!!!!!!!!!!!!!!!!!!!!!!!!!</h1> "
   ]
  },
  {
   "cell_type": "markdown",
   "metadata": {
    "deletable": true,
    "editable": true
   },
   "source": [
    "## 1.1. Declaring the database dump file location "
   ]
  },
  {
   "cell_type": "code",
   "execution_count": 3,
   "metadata": {
    "collapsed": true,
    "deletable": true,
    "editable": true
   },
   "outputs": [],
   "source": [
    "dumpfile='hazardst_stress.sql'"
   ]
  },
  {
   "cell_type": "markdown",
   "metadata": {},
   "source": [
    "<h1 align=\"center\">\n",
    "!!!!!!!!!!!!!!!!!!!!!!!!!!!!!!!!!!!!!!!!!!!!!!!!!!!!!!!!!!!!!!!!!!!!!!!!!!!!!!!!!!!!!!!!!!!!!!!!!!!!!!!!!!!!!!!!!!!!!!!!!!!!!!!!!!!!!!!!!<br>\n",
    "STEP 1: Adaptation to our Booter database schema<br>\n",
    "!!!!!!!!!!!!!!!!!!!!!!!!!!!!!!!!!!!!!!!!!!!!!!!!!!!!!!!!!!!!!!!!!!!!!!!!!!!!!!!!!!!!!!!!!!!!!!!!!!!!!!!!!!!!!!!!!!!!!!!!!!!!!!!</h1> "
   ]
  },
  {
   "cell_type": "markdown",
   "metadata": {
    "deletable": true,
    "editable": true
   },
   "source": [
    "## 1. Taking a look on the raw dump file (first 100 lines)"
   ]
  },
  {
   "cell_type": "code",
   "execution_count": 4,
   "metadata": {
    "collapsed": false,
    "deletable": true,
    "editable": true,
    "scrolled": true
   },
   "outputs": [
    {
     "name": "stdout",
     "output_type": "stream",
     "text": [
      "-- phpMyAdmin SQL Dump\n",
      "-- version 3.5.5\n",
      "-- http://www.phpmyadmin.net\n",
      "--\n",
      "-- Host: localhost\n",
      "-- Generation Time: Apr 11, 2013 at 09:11 AM\n",
      "-- Server version: 5.1.68-cll\n",
      "-- PHP Version: 5.3.17\n",
      "\n",
      "SET SQL_MODE=\"NO_AUTO_VALUE_ON_ZERO\";\n",
      "SET time_zone = \"+00:00\";\n",
      "\n",
      "\n",
      "/*!40101 SET @OLD_CHARACTER_SET_CLIENT=@@CHARACTER_SET_CLIENT */;\n",
      "/*!40101 SET @OLD_CHARACTER_SET_RESULTS=@@CHARACTER_SET_RESULTS */;\n",
      "/*!40101 SET @OLD_COLLATION_CONNECTION=@@COLLATION_CONNECTION */;\n",
      "/*!40101 SET NAMES utf8 */;\n",
      "\n",
      "--\n",
      "-- Database: `hazardst_stress`\n",
      "--\n",
      "\n",
      "-- --------------------------------------------------------\n",
      "\n",
      "--\n",
      "-- Table structure for table `blacklist`\n",
      "--\n",
      "\n",
      "CREATE TABLE IF NOT EXISTS `blacklist` (\n",
      "`ID` int(11) NOT NULL AUTO_INCREMENT,\n",
      "`IP` varchar(15) NOT NULL,\n",
      "`note` text NOT NULL,\n",
      "PRIMARY KEY (`ID`)\n",
      ") ENGINE=MyISAM  DEFAULT CHARSET=latin1 AUTO_INCREMENT=51 ;\n",
      "\n",
      "--\n",
      "-- Dumping data for table `blacklist`\n",
      "--\n",
      "\n",
      "INSERT INTO `blacklist` (`ID`, `IP`, `note`) VALUES\n",
      "(41, '127.0.0.1', 'dont remove'),\n",
      "(42, '127.0.0.1', 'Localhost'),\n",
      "(43, '141.101.121.10', 'Hack forums'),\n",
      "(47, '72.21.81.85', 'FBI DO NOT REMOVE'),\n",
      "(48, '198.81.129.107', 'CIA');\n",
      "\n",
      "-- --------------------------------------------------------\n",
      "\n",
      "--\n",
      "-- Table structure for table `fe`\n",
      "--\n",
      "\n",
      "CREATE TABLE IF NOT EXISTS `fe` (\n",
      "`ID` int(11) NOT NULL AUTO_INCREMENT,\n",
      "`userID` int(11) NOT NULL,\n",
      "`type` varchar(1) NOT NULL,\n",
      "`ip` varchar(15) NOT NULL,\n",
      "`note` text NOT NULL,\n",
      "PRIMARY KEY (`ID`)\n",
      ") ENGINE=MyISAM  DEFAULT CHARSET=latin1 AUTO_INCREMENT=93 ;\n",
      "\n",
      "--\n",
      "-- Dumping data for table `fe`\n",
      "--\n",
      "\n",
      "INSERT INTO `fe` (`ID`, `userID`, `type`, `ip`, `note`) VALUES\n",
      "(6, 50, 'e', '74.197.70.58', 'DinosaurPhoneFaggot'),\n",
      "(40, 55473, 'e', '24.29.209.124', 'Rox Treats'),\n",
      "(8, 55408, 'f', '101.119.16.166', 'Brooke'),\n",
      "(9, 55408, 'f', '69.171.237.11', 'Lara'),\n",
      "(10, 55473, 'e', '173.168.120.50', 'tricks'),\n",
      "(11, 55473, 'e', '76.122.153.50', 'Nturl Blur'),\n",
      "(12, 55473, 'e', '68.47.220.26', 'Frost'),\n",
      "(13, 55510, 'f', '94.236.162.145', 'www.openmu.com'),\n",
      "(14, 55475, 'e', '108.13.167.70', ''),\n",
      "(15, 55547, 'f', '75.65.207.197', 'LANDON'),\n",
      "(62, 50, 'e', '68.57.20.191', ''),\n",
      "(17, 55546, 'f', '24.93.200.21', 'chris beatbox'),\n",
      "(18, 55547, 'e', '98.251.247.100', 'THUGGIE'),\n",
      "(19, 55547, 'e', '68.199.63.216', 'RANDOM'),\n",
      "(20, 55547, 'e', '75.37.18.95', 'RANDI'),\n",
      "(21, 55547, 'e', '68.185.82.192', 'RANDI'),\n",
      "(22, 57, 'f', '124.150.73.21', 'Troy\\\\''s m8'),\n",
      "(23, 55544, 'e', '24.50.125.102', 'Jay_K1ll3r'),\n",
      "(24, 57, 'e', '124.150.85.104', 'troys m8'),\n",
      "(25, 55544, 'e', '24.122.21.40', 'Sn0w RS'),\n",
      "(26, 55544, 'e', '184.161.38.33', 'Gorth merch \\r\\nskype: jcfailhard'),\n",
      "(27, 55544, 'e', '72.0.241.200', 'FuuZion QC - Skype: tombeaulieu27'),\n",
      "(28, 55547, 'f', '75.65.189.138', 'Austin'),\n",
      "(29, 55547, 'e', '75.65.188.249', 'vG Touch'),\n",
      "(30, 55547, 'e', '76.18.207.122', 'THUGGNIFFESENT'),\n",
      "(31, 55547, 'e', '99.123.224.21', 'Diamond '),\n",
      "(32, 55742, 'f', '24.13.250.5', 'Tom Perko'),\n",
      "(33, 55742, 'f', '98.215.168.74', 'Gomez'),\n",
      "(34, 55742, 'f', '71.201.1.215', 'Me'),\n",
      "(35, 55742, 'f', '71.201.1.215', 'Me'),\n",
      "(36, 55742, 'f', '67.167.117.228', 'Jacob Joseph'),\n",
      "(37, 55547, 'f', '75.65.189.249', 'Reuben'),\n",
      "(38, 55744, 'e', '88.190.225.204', ''),\n",
      "(39, 55748, 'e', '76.122.100.102', 'Limpton the fagot...'),\n"
     ]
    }
   ],
   "source": [
    "lines_to_read=100\n",
    "\n",
    "with open(dumpfile) as myfile:\n",
    "    firstlines=myfile.readlines()[0:lines_to_read] #put here the interval you want\n",
    "    for x in firstlines:\n",
    "        print(x.strip())"
   ]
  },
  {
   "cell_type": "markdown",
   "metadata": {
    "deletable": true,
    "editable": true
   },
   "source": [
    "## 2. Listing tables that have content inserted into the dump file"
   ]
  },
  {
   "cell_type": "code",
   "execution_count": 5,
   "metadata": {
    "collapsed": true,
    "deletable": true,
    "editable": true
   },
   "outputs": [],
   "source": [
    "def list_tables_with_insert(dumpfile):\n",
    "    tables = []\n",
    "    with open(dumpfile, 'rb') as f:\n",
    "        for line in f:\n",
    "            line = line.decode(\"utf-8\").strip()\n",
    "            if line.lower().startswith('insert'):\n",
    "                table = re.findall(r'`(.*?)`', line)\n",
    "                tables.append(table[0])\n",
    "    return tables"
   ]
  },
  {
   "cell_type": "code",
   "execution_count": 6,
   "metadata": {
    "collapsed": false,
    "deletable": true,
    "editable": true
   },
   "outputs": [
    {
     "name": "stdout",
     "output_type": "stream",
     "text": [
      "1 blacklist\n",
      "2 fe\n",
      "3 gateway\n",
      "4 iplogs\n",
      "5 logs\n",
      "6 lr\n",
      "7 news\n",
      "8 payments\n",
      "9 plans\n",
      "10 servers\n",
      "11 settings\n",
      "12 sitelink\n",
      "13 sitetheme\n",
      "14 skypeapi\n",
      "15 skype_logs\n",
      "16 users\n"
     ]
    }
   ],
   "source": [
    "tables=enumerate(list_tables_with_insert(dumpfile))\n",
    "\n",
    "for i, item in tables:\n",
    "    print(i+1,item)"
   ]
  },
  {
   "cell_type": "markdown",
   "metadata": {},
   "source": [
    "<h2 align='center'>======================================================================<br>\n",
    "If NOT well-formed SQL dump file then you must first do the following:\n",
    "======================================================================</h2>"
   ]
  },
  {
   "cell_type": "markdown",
   "metadata": {},
   "source": [
    "## 3. Removing lines that are not part of the actual content to be analysed"
   ]
  },
  {
   "cell_type": "markdown",
   "metadata": {},
   "source": [
    "## 4. Splitting and naming tables and columns"
   ]
  },
  {
   "cell_type": "markdown",
   "metadata": {},
   "source": [
    "<h2 align='center'>======================================================================\n",
    "Adapting EACH existing table\n",
    "======================================================================</h2>"
   ]
  },
  {
   "cell_type": "markdown",
   "metadata": {
    "deletable": true,
    "editable": true
   },
   "source": [
    "## 5.1. Table: 'blacklist'"
   ]
  },
  {
   "cell_type": "code",
   "execution_count": 7,
   "metadata": {
    "collapsed": false,
    "deletable": true,
    "editable": true,
    "scrolled": true
   },
   "outputs": [
    {
     "data": {
      "text/html": [
       "<div>\n",
       "<table border=\"1\" class=\"dataframe\">\n",
       "  <thead>\n",
       "    <tr style=\"text-align: right;\">\n",
       "      <th></th>\n",
       "      <th>ID</th>\n",
       "      <th>IP</th>\n",
       "      <th>note</th>\n",
       "    </tr>\n",
       "  </thead>\n",
       "  <tbody>\n",
       "    <tr>\n",
       "      <th>0</th>\n",
       "      <td>41</td>\n",
       "      <td>127.0.0.1</td>\n",
       "      <td>dont remove</td>\n",
       "    </tr>\n",
       "    <tr>\n",
       "      <th>1</th>\n",
       "      <td>42</td>\n",
       "      <td>127.0.0.1</td>\n",
       "      <td>Localhost</td>\n",
       "    </tr>\n",
       "    <tr>\n",
       "      <th>2</th>\n",
       "      <td>43</td>\n",
       "      <td>141.101.121.10</td>\n",
       "      <td>Hack forums</td>\n",
       "    </tr>\n",
       "    <tr>\n",
       "      <th>3</th>\n",
       "      <td>47</td>\n",
       "      <td>72.21.81.85</td>\n",
       "      <td>FBI DO NOT REMOVE</td>\n",
       "    </tr>\n",
       "    <tr>\n",
       "      <th>4</th>\n",
       "      <td>48</td>\n",
       "      <td>198.81.129.107</td>\n",
       "      <td>CIA</td>\n",
       "    </tr>\n",
       "  </tbody>\n",
       "</table>\n",
       "</div>"
      ],
      "text/plain": [
       "   ID              IP               note\n",
       "0  41       127.0.0.1        dont remove\n",
       "1  42       127.0.0.1          Localhost\n",
       "2  43  141.101.121.10        Hack forums\n",
       "3  47     72.21.81.85  FBI DO NOT REMOVE\n",
       "4  48  198.81.129.107                CIA"
      ]
     },
     "execution_count": 7,
     "metadata": {},
     "output_type": "execute_result"
    }
   ],
   "source": [
    "tablename='blacklist'\n",
    "\n",
    "pd.read_csv(read_inserted_table1(dumpfile, tablename),\n",
    "            delimiter=\",\",\n",
    "            error_bad_lines=False).head(10)"
   ]
  },
  {
   "cell_type": "markdown",
   "metadata": {
    "deletable": true,
    "editable": true
   },
   "source": [
    "#### Q1: Is this table different from other previous loaded table? YES\n",
    "#### Q2: Is this table similar to any table in the generic Booter database schema? YES\n",
    "    - This table looks like: blacklist\n",
    "    - The blacklist table must to have the columns: id, ip, and note\n",
    "#### Q3: Are there modifications required? YES\n",
    "    - On the table name: NO\n",
    "    - On the column type: NO\n",
    "    - On the column name:\n",
    "        o ID => id\n",
    "        o IP => ip\n",
    "    - Add required columns: NO"
   ]
  },
  {
   "cell_type": "markdown",
   "metadata": {
    "deletable": true,
    "editable": true
   },
   "source": [
    "## 5.1 Loading the modified table: 'blacklist'"
   ]
  },
  {
   "cell_type": "code",
   "execution_count": 8,
   "metadata": {
    "collapsed": false,
    "deletable": true,
    "editable": true
   },
   "outputs": [
    {
     "data": {
      "text/html": [
       "<div>\n",
       "<table border=\"1\" class=\"dataframe\">\n",
       "  <thead>\n",
       "    <tr style=\"text-align: right;\">\n",
       "      <th></th>\n",
       "      <th>id</th>\n",
       "      <th>ip</th>\n",
       "      <th>note</th>\n",
       "    </tr>\n",
       "  </thead>\n",
       "  <tbody>\n",
       "    <tr>\n",
       "      <th>0</th>\n",
       "      <td>41</td>\n",
       "      <td>127.0.0.1</td>\n",
       "      <td>dont remove</td>\n",
       "    </tr>\n",
       "    <tr>\n",
       "      <th>1</th>\n",
       "      <td>42</td>\n",
       "      <td>127.0.0.1</td>\n",
       "      <td>Localhost</td>\n",
       "    </tr>\n",
       "    <tr>\n",
       "      <th>2</th>\n",
       "      <td>43</td>\n",
       "      <td>141.101.121.10</td>\n",
       "      <td>Hack forums</td>\n",
       "    </tr>\n",
       "    <tr>\n",
       "      <th>3</th>\n",
       "      <td>47</td>\n",
       "      <td>72.21.81.85</td>\n",
       "      <td>FBI DO NOT REMOVE</td>\n",
       "    </tr>\n",
       "    <tr>\n",
       "      <th>4</th>\n",
       "      <td>48</td>\n",
       "      <td>198.81.129.107</td>\n",
       "      <td>CIA</td>\n",
       "    </tr>\n",
       "  </tbody>\n",
       "</table>\n",
       "</div>"
      ],
      "text/plain": [
       "   id              ip               note\n",
       "0  41       127.0.0.1        dont remove\n",
       "1  42       127.0.0.1          Localhost\n",
       "2  43  141.101.121.10        Hack forums\n",
       "3  47     72.21.81.85  FBI DO NOT REMOVE\n",
       "4  48  198.81.129.107                CIA"
      ]
     },
     "execution_count": 8,
     "metadata": {},
     "output_type": "execute_result"
    }
   ],
   "source": [
    "df_blacklist = pd.read_csv(read_inserted_table1(dumpfile, tablename),\n",
    "                           delimiter=\",\",\n",
    "                           error_bad_lines=False)\n",
    "\n",
    "df_blacklist.rename(columns = {'ID': 'id',\n",
    "                               'IP':'ip'},\n",
    "                    inplace=True)\n",
    "df_blacklist"
   ]
  },
  {
   "cell_type": "markdown",
   "metadata": {
    "deletable": true,
    "editable": true
   },
   "source": [
    "## 5.2. Table: 'fe'"
   ]
  },
  {
   "cell_type": "code",
   "execution_count": 9,
   "metadata": {
    "collapsed": false,
    "deletable": true,
    "editable": true,
    "scrolled": true
   },
   "outputs": [
    {
     "data": {
      "text/html": [
       "<div>\n",
       "<table border=\"1\" class=\"dataframe\">\n",
       "  <thead>\n",
       "    <tr style=\"text-align: right;\">\n",
       "      <th></th>\n",
       "      <th>ID</th>\n",
       "      <th>userID</th>\n",
       "      <th>type</th>\n",
       "      <th>ip</th>\n",
       "      <th>note</th>\n",
       "    </tr>\n",
       "  </thead>\n",
       "  <tbody>\n",
       "    <tr>\n",
       "      <th>0</th>\n",
       "      <td>6</td>\n",
       "      <td>50</td>\n",
       "      <td>e</td>\n",
       "      <td>74.197.70.58</td>\n",
       "      <td>DinosaurPhoneFaggot</td>\n",
       "    </tr>\n",
       "    <tr>\n",
       "      <th>1</th>\n",
       "      <td>40</td>\n",
       "      <td>55473</td>\n",
       "      <td>e</td>\n",
       "      <td>24.29.209.124</td>\n",
       "      <td>Rox Treats</td>\n",
       "    </tr>\n",
       "    <tr>\n",
       "      <th>2</th>\n",
       "      <td>8</td>\n",
       "      <td>55408</td>\n",
       "      <td>f</td>\n",
       "      <td>101.119.16.166</td>\n",
       "      <td>Brooke</td>\n",
       "    </tr>\n",
       "    <tr>\n",
       "      <th>3</th>\n",
       "      <td>9</td>\n",
       "      <td>55408</td>\n",
       "      <td>f</td>\n",
       "      <td>69.171.237.11</td>\n",
       "      <td>Lara</td>\n",
       "    </tr>\n",
       "    <tr>\n",
       "      <th>4</th>\n",
       "      <td>10</td>\n",
       "      <td>55473</td>\n",
       "      <td>e</td>\n",
       "      <td>173.168.120.50</td>\n",
       "      <td>tricks</td>\n",
       "    </tr>\n",
       "    <tr>\n",
       "      <th>5</th>\n",
       "      <td>11</td>\n",
       "      <td>55473</td>\n",
       "      <td>e</td>\n",
       "      <td>76.122.153.50</td>\n",
       "      <td>Nturl Blur</td>\n",
       "    </tr>\n",
       "    <tr>\n",
       "      <th>6</th>\n",
       "      <td>12</td>\n",
       "      <td>55473</td>\n",
       "      <td>e</td>\n",
       "      <td>68.47.220.26</td>\n",
       "      <td>Frost</td>\n",
       "    </tr>\n",
       "    <tr>\n",
       "      <th>7</th>\n",
       "      <td>13</td>\n",
       "      <td>55510</td>\n",
       "      <td>f</td>\n",
       "      <td>94.236.162.145</td>\n",
       "      <td>www.openmu.com</td>\n",
       "    </tr>\n",
       "    <tr>\n",
       "      <th>8</th>\n",
       "      <td>14</td>\n",
       "      <td>55475</td>\n",
       "      <td>e</td>\n",
       "      <td>108.13.167.70</td>\n",
       "      <td>NaN</td>\n",
       "    </tr>\n",
       "    <tr>\n",
       "      <th>9</th>\n",
       "      <td>15</td>\n",
       "      <td>55547</td>\n",
       "      <td>f</td>\n",
       "      <td>75.65.207.197</td>\n",
       "      <td>LANDON</td>\n",
       "    </tr>\n",
       "  </tbody>\n",
       "</table>\n",
       "</div>"
      ],
      "text/plain": [
       "   ID  userID type              ip                 note\n",
       "0   6      50    e    74.197.70.58  DinosaurPhoneFaggot\n",
       "1  40   55473    e   24.29.209.124           Rox Treats\n",
       "2   8   55408    f  101.119.16.166               Brooke\n",
       "3   9   55408    f   69.171.237.11                 Lara\n",
       "4  10   55473    e  173.168.120.50               tricks\n",
       "5  11   55473    e   76.122.153.50           Nturl Blur\n",
       "6  12   55473    e    68.47.220.26                Frost\n",
       "7  13   55510    f  94.236.162.145       www.openmu.com\n",
       "8  14   55475    e   108.13.167.70                  NaN\n",
       "9  15   55547    f   75.65.207.197               LANDON"
      ]
     },
     "execution_count": 9,
     "metadata": {},
     "output_type": "execute_result"
    }
   ],
   "source": [
    "tablename='fe'\n",
    "\n",
    "pd.read_csv(read_inserted_table1(dumpfile, tablename),\n",
    "            delimiter=\",\",\n",
    "            error_bad_lines=False).head(10)"
   ]
  },
  {
   "cell_type": "markdown",
   "metadata": {
    "deletable": true,
    "editable": true
   },
   "source": [
    "### Observations compared to generic Booter database schema\n",
    "    - This table looks like: friendsenemies\n",
    "    - The friendsenemies table must to have the columns: id, note, userid, and type\n",
    "### Modifications \n",
    "    - On the column name:\n",
    "        + ID changes to id, \n",
    "        + userID changes to userid;"
   ]
  },
  {
   "cell_type": "markdown",
   "metadata": {
    "deletable": true,
    "editable": true
   },
   "source": [
    "## Loading the modified table: 'fe'"
   ]
  },
  {
   "cell_type": "code",
   "execution_count": 10,
   "metadata": {
    "collapsed": false,
    "deletable": true,
    "editable": true
   },
   "outputs": [
    {
     "data": {
      "text/html": [
       "<div>\n",
       "<table border=\"1\" class=\"dataframe\">\n",
       "  <thead>\n",
       "    <tr style=\"text-align: right;\">\n",
       "      <th></th>\n",
       "      <th>id</th>\n",
       "      <th>userid</th>\n",
       "      <th>type</th>\n",
       "      <th>ip</th>\n",
       "      <th>note</th>\n",
       "    </tr>\n",
       "  </thead>\n",
       "  <tbody>\n",
       "    <tr>\n",
       "      <th>0</th>\n",
       "      <td>6</td>\n",
       "      <td>50</td>\n",
       "      <td>e</td>\n",
       "      <td>74.197.70.58</td>\n",
       "      <td>DinosaurPhoneFaggot</td>\n",
       "    </tr>\n",
       "    <tr>\n",
       "      <th>1</th>\n",
       "      <td>40</td>\n",
       "      <td>55473</td>\n",
       "      <td>e</td>\n",
       "      <td>24.29.209.124</td>\n",
       "      <td>Rox Treats</td>\n",
       "    </tr>\n",
       "    <tr>\n",
       "      <th>2</th>\n",
       "      <td>8</td>\n",
       "      <td>55408</td>\n",
       "      <td>f</td>\n",
       "      <td>101.119.16.166</td>\n",
       "      <td>Brooke</td>\n",
       "    </tr>\n",
       "    <tr>\n",
       "      <th>3</th>\n",
       "      <td>9</td>\n",
       "      <td>55408</td>\n",
       "      <td>f</td>\n",
       "      <td>69.171.237.11</td>\n",
       "      <td>Lara</td>\n",
       "    </tr>\n",
       "    <tr>\n",
       "      <th>4</th>\n",
       "      <td>10</td>\n",
       "      <td>55473</td>\n",
       "      <td>e</td>\n",
       "      <td>173.168.120.50</td>\n",
       "      <td>tricks</td>\n",
       "    </tr>\n",
       "    <tr>\n",
       "      <th>5</th>\n",
       "      <td>11</td>\n",
       "      <td>55473</td>\n",
       "      <td>e</td>\n",
       "      <td>76.122.153.50</td>\n",
       "      <td>Nturl Blur</td>\n",
       "    </tr>\n",
       "    <tr>\n",
       "      <th>6</th>\n",
       "      <td>12</td>\n",
       "      <td>55473</td>\n",
       "      <td>e</td>\n",
       "      <td>68.47.220.26</td>\n",
       "      <td>Frost</td>\n",
       "    </tr>\n",
       "    <tr>\n",
       "      <th>7</th>\n",
       "      <td>13</td>\n",
       "      <td>55510</td>\n",
       "      <td>f</td>\n",
       "      <td>94.236.162.145</td>\n",
       "      <td>www.openmu.com</td>\n",
       "    </tr>\n",
       "    <tr>\n",
       "      <th>8</th>\n",
       "      <td>14</td>\n",
       "      <td>55475</td>\n",
       "      <td>e</td>\n",
       "      <td>108.13.167.70</td>\n",
       "      <td>NaN</td>\n",
       "    </tr>\n",
       "    <tr>\n",
       "      <th>9</th>\n",
       "      <td>15</td>\n",
       "      <td>55547</td>\n",
       "      <td>f</td>\n",
       "      <td>75.65.207.197</td>\n",
       "      <td>LANDON</td>\n",
       "    </tr>\n",
       "  </tbody>\n",
       "</table>\n",
       "</div>"
      ],
      "text/plain": [
       "   id  userid type              ip                 note\n",
       "0   6      50    e    74.197.70.58  DinosaurPhoneFaggot\n",
       "1  40   55473    e   24.29.209.124           Rox Treats\n",
       "2   8   55408    f  101.119.16.166               Brooke\n",
       "3   9   55408    f   69.171.237.11                 Lara\n",
       "4  10   55473    e  173.168.120.50               tricks\n",
       "5  11   55473    e   76.122.153.50           Nturl Blur\n",
       "6  12   55473    e    68.47.220.26                Frost\n",
       "7  13   55510    f  94.236.162.145       www.openmu.com\n",
       "8  14   55475    e   108.13.167.70                  NaN\n",
       "9  15   55547    f   75.65.207.197               LANDON"
      ]
     },
     "execution_count": 10,
     "metadata": {},
     "output_type": "execute_result"
    }
   ],
   "source": [
    "df_friendsenemies = pd.read_csv(read_inserted_table1(dumpfile, tablename),\n",
    "                                delimiter=\",\",\n",
    "                                error_bad_lines=False)\n",
    "\n",
    "df_friendsenemies.rename(columns = {'ID': 'id',\n",
    "                               'userID':'userid'},\n",
    "                    inplace=True)\n",
    "\n",
    "df_friendsenemies.head(10)"
   ]
  },
  {
   "cell_type": "markdown",
   "metadata": {
    "deletable": true,
    "editable": true
   },
   "source": [
    "## 5.3. Table: 'gateway'"
   ]
  },
  {
   "cell_type": "code",
   "execution_count": 11,
   "metadata": {
    "collapsed": false,
    "deletable": true,
    "editable": true
   },
   "outputs": [
    {
     "data": {
      "text/html": [
       "<div>\n",
       "<table border=\"1\" class=\"dataframe\">\n",
       "  <thead>\n",
       "    <tr style=\"text-align: right;\">\n",
       "      <th></th>\n",
       "      <th>email</th>\n",
       "    </tr>\n",
       "  </thead>\n",
       "  <tbody>\n",
       "    <tr>\n",
       "      <th>0</th>\n",
       "      <td>misterp30@icloud.com</td>\n",
       "    </tr>\n",
       "  </tbody>\n",
       "</table>\n",
       "</div>"
      ],
      "text/plain": [
       "                  email\n",
       "0  misterp30@icloud.com"
      ]
     },
     "execution_count": 11,
     "metadata": {},
     "output_type": "execute_result"
    }
   ],
   "source": [
    "tablename='gateway'\n",
    "\n",
    "pd.read_csv(read_inserted_table1(dumpfile, tablename),\n",
    "            delimiter=\",\",\n",
    "            error_bad_lines=False).head(10)"
   ]
  },
  {
   "cell_type": "markdown",
   "metadata": {
    "deletable": true,
    "editable": true
   },
   "source": [
    "### Observations compared to generic Booter database schema\n",
    "    - This table looks like: gateways\n",
    "    - The gateways table must to have the columns: email\n",
    "### Modifications \n",
    "    - On the table name: gateway becomes gateways.\n",
    "    - On the column name: no modification requires."
   ]
  },
  {
   "cell_type": "markdown",
   "metadata": {
    "deletable": true,
    "editable": true
   },
   "source": [
    "## Loading the modified table: 'gateway'"
   ]
  },
  {
   "cell_type": "code",
   "execution_count": 12,
   "metadata": {
    "collapsed": false,
    "deletable": true,
    "editable": true
   },
   "outputs": [
    {
     "data": {
      "text/html": [
       "<div>\n",
       "<table border=\"1\" class=\"dataframe\">\n",
       "  <thead>\n",
       "    <tr style=\"text-align: right;\">\n",
       "      <th></th>\n",
       "      <th>email</th>\n",
       "    </tr>\n",
       "  </thead>\n",
       "  <tbody>\n",
       "    <tr>\n",
       "      <th>0</th>\n",
       "      <td>misterp30@icloud.com</td>\n",
       "    </tr>\n",
       "  </tbody>\n",
       "</table>\n",
       "</div>"
      ],
      "text/plain": [
       "                  email\n",
       "0  misterp30@icloud.com"
      ]
     },
     "execution_count": 12,
     "metadata": {},
     "output_type": "execute_result"
    }
   ],
   "source": [
    "df_gateways = pd.read_csv(read_inserted_table1(dumpfile, tablename),\n",
    "                                delimiter=\",\",\n",
    "                                error_bad_lines=False)\n",
    "\n",
    "df_gateways.head(10)"
   ]
  },
  {
   "cell_type": "markdown",
   "metadata": {
    "deletable": true,
    "editable": true
   },
   "source": [
    "## 5.4. Read the raw table: 'iplogs'"
   ]
  },
  {
   "cell_type": "code",
   "execution_count": 13,
   "metadata": {
    "collapsed": false,
    "deletable": true,
    "editable": true
   },
   "outputs": [
    {
     "data": {
      "text/html": [
       "<div>\n",
       "<table border=\"1\" class=\"dataframe\">\n",
       "  <thead>\n",
       "    <tr style=\"text-align: right;\">\n",
       "      <th></th>\n",
       "      <th>ID</th>\n",
       "      <th>userID</th>\n",
       "      <th>logged</th>\n",
       "      <th>date</th>\n",
       "    </tr>\n",
       "  </thead>\n",
       "  <tbody>\n",
       "    <tr>\n",
       "      <th>0</th>\n",
       "      <td>16</td>\n",
       "      <td>55388</td>\n",
       "      <td>77.126.24.144</td>\n",
       "      <td>1354474645</td>\n",
       "    </tr>\n",
       "    <tr>\n",
       "      <th>1</th>\n",
       "      <td>17</td>\n",
       "      <td>55388</td>\n",
       "      <td>77.126.24.144</td>\n",
       "      <td>1354474652</td>\n",
       "    </tr>\n",
       "    <tr>\n",
       "      <th>2</th>\n",
       "      <td>18</td>\n",
       "      <td>55408</td>\n",
       "      <td>69.171.237.11</td>\n",
       "      <td>1354688757</td>\n",
       "    </tr>\n",
       "    <tr>\n",
       "      <th>3</th>\n",
       "      <td>19</td>\n",
       "      <td>55408</td>\n",
       "      <td>211.30.228.242</td>\n",
       "      <td>1354688757</td>\n",
       "    </tr>\n",
       "    <tr>\n",
       "      <th>4</th>\n",
       "      <td>20</td>\n",
       "      <td>55408</td>\n",
       "      <td>101.119.16.166</td>\n",
       "      <td>1354688821</td>\n",
       "    </tr>\n",
       "    <tr>\n",
       "      <th>5</th>\n",
       "      <td>21</td>\n",
       "      <td>55408</td>\n",
       "      <td>101.119.16.166</td>\n",
       "      <td>1354688942</td>\n",
       "    </tr>\n",
       "    <tr>\n",
       "      <th>6</th>\n",
       "      <td>22</td>\n",
       "      <td>55408</td>\n",
       "      <td>122.106.80.6</td>\n",
       "      <td>1354689641</td>\n",
       "    </tr>\n",
       "    <tr>\n",
       "      <th>7</th>\n",
       "      <td>23</td>\n",
       "      <td>55408</td>\n",
       "      <td>122.106.80.6</td>\n",
       "      <td>1354689651</td>\n",
       "    </tr>\n",
       "    <tr>\n",
       "      <th>8</th>\n",
       "      <td>24</td>\n",
       "      <td>55408</td>\n",
       "      <td>122.106.80.6</td>\n",
       "      <td>1354689671</td>\n",
       "    </tr>\n",
       "    <tr>\n",
       "      <th>9</th>\n",
       "      <td>25</td>\n",
       "      <td>55408</td>\n",
       "      <td>49.2.16.250</td>\n",
       "      <td>1354689897</td>\n",
       "    </tr>\n",
       "  </tbody>\n",
       "</table>\n",
       "</div>"
      ],
      "text/plain": [
       "   ID  userID          logged        date\n",
       "0  16   55388   77.126.24.144  1354474645\n",
       "1  17   55388   77.126.24.144  1354474652\n",
       "2  18   55408   69.171.237.11  1354688757\n",
       "3  19   55408  211.30.228.242  1354688757\n",
       "4  20   55408  101.119.16.166  1354688821\n",
       "5  21   55408  101.119.16.166  1354688942\n",
       "6  22   55408    122.106.80.6  1354689641\n",
       "7  23   55408    122.106.80.6  1354689651\n",
       "8  24   55408    122.106.80.6  1354689671\n",
       "9  25   55408     49.2.16.250  1354689897"
      ]
     },
     "execution_count": 13,
     "metadata": {},
     "output_type": "execute_result"
    }
   ],
   "source": [
    "tablename='iplogs'\n",
    "\n",
    "pd.read_csv(read_inserted_table1(dumpfile, tablename),\n",
    "            delimiter=\",\",\n",
    "            error_bad_lines=False).head(10)"
   ]
  },
  {
   "cell_type": "markdown",
   "metadata": {
    "deletable": true,
    "editable": true
   },
   "source": [
    "*Is this table exactly the same as any other previous loaded table? NO\n",
    "### Observations compared to generic Booter database schema\n",
    "    - This table looks like: logins\n",
    "### Modifications \n",
    "    - On the table name: \n",
    "        o iplogs => logins\n",
    "    - Convert column:\n",
    "        o date => timestamp2datetime\n",
    "    - On the column name: \n",
    "        o ID => id\n",
    "        o userID => userid\n",
    "        o logged => userip"
   ]
  },
  {
   "cell_type": "markdown",
   "metadata": {
    "deletable": true,
    "editable": true
   },
   "source": [
    "## Loading the modified table: 'iplogs'"
   ]
  },
  {
   "cell_type": "code",
   "execution_count": 14,
   "metadata": {
    "collapsed": false,
    "deletable": true,
    "editable": true
   },
   "outputs": [
    {
     "data": {
      "text/html": [
       "<div>\n",
       "<table border=\"1\" class=\"dataframe\">\n",
       "  <thead>\n",
       "    <tr style=\"text-align: right;\">\n",
       "      <th></th>\n",
       "      <th>id</th>\n",
       "      <th>userid</th>\n",
       "      <th>userip</th>\n",
       "      <th>date</th>\n",
       "    </tr>\n",
       "  </thead>\n",
       "  <tbody>\n",
       "    <tr>\n",
       "      <th>0</th>\n",
       "      <td>16</td>\n",
       "      <td>55388</td>\n",
       "      <td>77.126.24.144</td>\n",
       "      <td>2012-12-02 18:57:25</td>\n",
       "    </tr>\n",
       "    <tr>\n",
       "      <th>1</th>\n",
       "      <td>17</td>\n",
       "      <td>55388</td>\n",
       "      <td>77.126.24.144</td>\n",
       "      <td>2012-12-02 18:57:32</td>\n",
       "    </tr>\n",
       "    <tr>\n",
       "      <th>2</th>\n",
       "      <td>18</td>\n",
       "      <td>55408</td>\n",
       "      <td>69.171.237.11</td>\n",
       "      <td>2012-12-05 06:25:57</td>\n",
       "    </tr>\n",
       "    <tr>\n",
       "      <th>3</th>\n",
       "      <td>19</td>\n",
       "      <td>55408</td>\n",
       "      <td>211.30.228.242</td>\n",
       "      <td>2012-12-05 06:25:57</td>\n",
       "    </tr>\n",
       "    <tr>\n",
       "      <th>4</th>\n",
       "      <td>20</td>\n",
       "      <td>55408</td>\n",
       "      <td>101.119.16.166</td>\n",
       "      <td>2012-12-05 06:27:01</td>\n",
       "    </tr>\n",
       "    <tr>\n",
       "      <th>5</th>\n",
       "      <td>21</td>\n",
       "      <td>55408</td>\n",
       "      <td>101.119.16.166</td>\n",
       "      <td>2012-12-05 06:29:02</td>\n",
       "    </tr>\n",
       "    <tr>\n",
       "      <th>6</th>\n",
       "      <td>22</td>\n",
       "      <td>55408</td>\n",
       "      <td>122.106.80.6</td>\n",
       "      <td>2012-12-05 06:40:41</td>\n",
       "    </tr>\n",
       "    <tr>\n",
       "      <th>7</th>\n",
       "      <td>23</td>\n",
       "      <td>55408</td>\n",
       "      <td>122.106.80.6</td>\n",
       "      <td>2012-12-05 06:40:51</td>\n",
       "    </tr>\n",
       "    <tr>\n",
       "      <th>8</th>\n",
       "      <td>24</td>\n",
       "      <td>55408</td>\n",
       "      <td>122.106.80.6</td>\n",
       "      <td>2012-12-05 06:41:11</td>\n",
       "    </tr>\n",
       "    <tr>\n",
       "      <th>9</th>\n",
       "      <td>25</td>\n",
       "      <td>55408</td>\n",
       "      <td>49.2.16.250</td>\n",
       "      <td>2012-12-05 06:44:57</td>\n",
       "    </tr>\n",
       "  </tbody>\n",
       "</table>\n",
       "</div>"
      ],
      "text/plain": [
       "   id  userid          userip                date\n",
       "0  16   55388   77.126.24.144 2012-12-02 18:57:25\n",
       "1  17   55388   77.126.24.144 2012-12-02 18:57:32\n",
       "2  18   55408   69.171.237.11 2012-12-05 06:25:57\n",
       "3  19   55408  211.30.228.242 2012-12-05 06:25:57\n",
       "4  20   55408  101.119.16.166 2012-12-05 06:27:01\n",
       "5  21   55408  101.119.16.166 2012-12-05 06:29:02\n",
       "6  22   55408    122.106.80.6 2012-12-05 06:40:41\n",
       "7  23   55408    122.106.80.6 2012-12-05 06:40:51\n",
       "8  24   55408    122.106.80.6 2012-12-05 06:41:11\n",
       "9  25   55408     49.2.16.250 2012-12-05 06:44:57"
      ]
     },
     "execution_count": 14,
     "metadata": {},
     "output_type": "execute_result"
    }
   ],
   "source": [
    "df_logins = pd.read_csv(read_inserted_table1(dumpfile, tablename),\n",
    "                                delimiter=\",\",\n",
    "                                error_bad_lines=False,\n",
    "                       converters = {'date':timestamp2datetime})\n",
    "\n",
    "df_logins.rename(columns = {'ID': 'id',\n",
    "                            'userID':'userid',\n",
    "                            'logged': 'userip'},\n",
    "                    inplace=True)\n",
    "\n",
    "df_logins.head(10)"
   ]
  },
  {
   "cell_type": "markdown",
   "metadata": {
    "deletable": true,
    "editable": true
   },
   "source": [
    "## 5.5. Read the raw table: 'logs'"
   ]
  },
  {
   "cell_type": "code",
   "execution_count": 15,
   "metadata": {
    "collapsed": false,
    "deletable": true,
    "editable": true
   },
   "outputs": [
    {
     "data": {
      "text/html": [
       "<div>\n",
       "<table border=\"1\" class=\"dataframe\">\n",
       "  <thead>\n",
       "    <tr style=\"text-align: right;\">\n",
       "      <th></th>\n",
       "      <th>ID</th>\n",
       "      <th>userID</th>\n",
       "      <th>logged</th>\n",
       "      <th>date</th>\n",
       "    </tr>\n",
       "  </thead>\n",
       "  <tbody>\n",
       "    <tr>\n",
       "      <th>0</th>\n",
       "      <td>16</td>\n",
       "      <td>55388</td>\n",
       "      <td>77.126.24.144</td>\n",
       "      <td>1354474645</td>\n",
       "    </tr>\n",
       "    <tr>\n",
       "      <th>1</th>\n",
       "      <td>17</td>\n",
       "      <td>55388</td>\n",
       "      <td>77.126.24.144</td>\n",
       "      <td>1354474652</td>\n",
       "    </tr>\n",
       "    <tr>\n",
       "      <th>2</th>\n",
       "      <td>18</td>\n",
       "      <td>55408</td>\n",
       "      <td>69.171.237.11</td>\n",
       "      <td>1354688757</td>\n",
       "    </tr>\n",
       "    <tr>\n",
       "      <th>3</th>\n",
       "      <td>19</td>\n",
       "      <td>55408</td>\n",
       "      <td>211.30.228.242</td>\n",
       "      <td>1354688757</td>\n",
       "    </tr>\n",
       "    <tr>\n",
       "      <th>4</th>\n",
       "      <td>20</td>\n",
       "      <td>55408</td>\n",
       "      <td>101.119.16.166</td>\n",
       "      <td>1354688821</td>\n",
       "    </tr>\n",
       "    <tr>\n",
       "      <th>5</th>\n",
       "      <td>21</td>\n",
       "      <td>55408</td>\n",
       "      <td>101.119.16.166</td>\n",
       "      <td>1354688942</td>\n",
       "    </tr>\n",
       "    <tr>\n",
       "      <th>6</th>\n",
       "      <td>22</td>\n",
       "      <td>55408</td>\n",
       "      <td>122.106.80.6</td>\n",
       "      <td>1354689641</td>\n",
       "    </tr>\n",
       "    <tr>\n",
       "      <th>7</th>\n",
       "      <td>23</td>\n",
       "      <td>55408</td>\n",
       "      <td>122.106.80.6</td>\n",
       "      <td>1354689651</td>\n",
       "    </tr>\n",
       "    <tr>\n",
       "      <th>8</th>\n",
       "      <td>24</td>\n",
       "      <td>55408</td>\n",
       "      <td>122.106.80.6</td>\n",
       "      <td>1354689671</td>\n",
       "    </tr>\n",
       "    <tr>\n",
       "      <th>9</th>\n",
       "      <td>25</td>\n",
       "      <td>55408</td>\n",
       "      <td>49.2.16.250</td>\n",
       "      <td>1354689897</td>\n",
       "    </tr>\n",
       "  </tbody>\n",
       "</table>\n",
       "</div>"
      ],
      "text/plain": [
       "   ID  userID          logged        date\n",
       "0  16   55388   77.126.24.144  1354474645\n",
       "1  17   55388   77.126.24.144  1354474652\n",
       "2  18   55408   69.171.237.11  1354688757\n",
       "3  19   55408  211.30.228.242  1354688757\n",
       "4  20   55408  101.119.16.166  1354688821\n",
       "5  21   55408  101.119.16.166  1354688942\n",
       "6  22   55408    122.106.80.6  1354689641\n",
       "7  23   55408    122.106.80.6  1354689651\n",
       "8  24   55408    122.106.80.6  1354689671\n",
       "9  25   55408     49.2.16.250  1354689897"
      ]
     },
     "execution_count": 15,
     "metadata": {},
     "output_type": "execute_result"
    }
   ],
   "source": [
    "tablename='logs'\n",
    "\n",
    "pd.read_csv(read_inserted_table1(dumpfile, tablename),\n",
    "            delimiter=\",\",\n",
    "            error_bad_lines=False).head(10)"
   ]
  },
  {
   "cell_type": "markdown",
   "metadata": {
    "deletable": true,
    "editable": true
   },
   "source": [
    "### Is this table exactly the same as any other previous loaded table? YES (iplogs)\n",
    "    * Do nothing!\n",
    "### Is this table similar to any table in the generic Booter database schema? \n",
    "    - This table looks like: \n",
    "    - The  table must to have the columns: -\n",
    "### Modifications \n",
    "    - On the table name: \n",
    "    - Convert column:\n",
    "    - On the column name: "
   ]
  },
  {
   "cell_type": "markdown",
   "metadata": {
    "deletable": true,
    "editable": true
   },
   "source": [
    "## 5.6. Read the raw table: 'lr'"
   ]
  },
  {
   "cell_type": "code",
   "execution_count": 16,
   "metadata": {
    "collapsed": false,
    "deletable": true,
    "editable": true
   },
   "outputs": [
    {
     "data": {
      "text/html": [
       "<div>\n",
       "<table border=\"1\" class=\"dataframe\">\n",
       "  <thead>\n",
       "    <tr style=\"text-align: right;\">\n",
       "      <th></th>\n",
       "      <th>storename</th>\n",
       "      <th>storepass</th>\n",
       "      <th>lrid</th>\n",
       "    </tr>\n",
       "  </thead>\n",
       "  <tbody>\n",
       "    <tr>\n",
       "      <th>0</th>\n",
       "      <td>Sly Stresser</td>\n",
       "      <td>phoenix310</td>\n",
       "      <td>U7700723</td>\n",
       "    </tr>\n",
       "  </tbody>\n",
       "</table>\n",
       "</div>"
      ],
      "text/plain": [
       "      storename   storepass      lrid\n",
       "0  Sly Stresser  phoenix310  U7700723"
      ]
     },
     "execution_count": 16,
     "metadata": {},
     "output_type": "execute_result"
    }
   ],
   "source": [
    "tablename='lr'\n",
    "\n",
    "pd.read_csv(read_inserted_table1(dumpfile, tablename),\n",
    "            delimiter=\",\",\n",
    "            error_bad_lines=False).head(10)"
   ]
  },
  {
   "cell_type": "markdown",
   "metadata": {
    "deletable": true,
    "editable": true
   },
   "source": [
    "### Is this table exactly the same as any other previous loaded table? YES\n",
    "### Is this table similar to any table in the generic Booter database schema? NO\n",
    "    - This table looks like: \n",
    "    - The  table must to have the columns: \n",
    "### Are there required adjustments? \n",
    "    - On the table name: \n",
    "    - On the column type:\n",
    "    - On the column name: "
   ]
  },
  {
   "cell_type": "markdown",
   "metadata": {
    "deletable": true,
    "editable": true
   },
   "source": [
    "## 5.7. Read the raw table: 'news'"
   ]
  },
  {
   "cell_type": "code",
   "execution_count": 17,
   "metadata": {
    "collapsed": false,
    "deletable": true,
    "editable": true
   },
   "outputs": [
    {
     "data": {
      "text/html": [
       "<div>\n",
       "<table border=\"1\" class=\"dataframe\">\n",
       "  <thead>\n",
       "    <tr style=\"text-align: right;\">\n",
       "      <th></th>\n",
       "      <th>ID</th>\n",
       "      <th>title</th>\n",
       "      <th>detail</th>\n",
       "      <th>date</th>\n",
       "    </tr>\n",
       "  </thead>\n",
       "  <tbody>\n",
       "    <tr>\n",
       "      <th>0</th>\n",
       "      <td>22</td>\n",
       "      <td>ToS (Terms of Service</td>\n",
       "      <td>1. No refunds. 2. No chargebacks</td>\n",
       "      <td>1365648068</td>\n",
       "    </tr>\n",
       "  </tbody>\n",
       "</table>\n",
       "</div>"
      ],
      "text/plain": [
       "   ID                  title                            detail        date\n",
       "0  22  ToS (Terms of Service  1. No refunds. 2. No chargebacks  1365648068"
      ]
     },
     "execution_count": 17,
     "metadata": {},
     "output_type": "execute_result"
    }
   ],
   "source": [
    "tablename='news'\n",
    "\n",
    "pd.read_csv(read_inserted_table1(dumpfile, tablename),\n",
    "            delimiter=\",\",\n",
    "            error_bad_lines=False).head(10)"
   ]
  },
  {
   "cell_type": "markdown",
   "metadata": {
    "deletable": true,
    "editable": true
   },
   "source": [
    "### Is this table different from any other previous loaded table? YES\n",
    "### Is this table similar to any table in the generic Booter database schema? NO \n",
    "    - This table looks like: -\n",
    "    - The  table must to have the columns: -\n",
    "### Are there modifications required?\n",
    "    - On the table name: \n",
    "    - On the column type:\n",
    "    - On the column name: "
   ]
  },
  {
   "cell_type": "markdown",
   "metadata": {
    "deletable": true,
    "editable": true
   },
   "source": [
    "## 5.8. Read the raw table: 'payments'"
   ]
  },
  {
   "cell_type": "code",
   "execution_count": 18,
   "metadata": {
    "collapsed": false,
    "deletable": true,
    "editable": true
   },
   "outputs": [
    {
     "data": {
      "text/html": [
       "<div>\n",
       "<table border=\"1\" class=\"dataframe\">\n",
       "  <thead>\n",
       "    <tr style=\"text-align: right;\">\n",
       "      <th></th>\n",
       "      <th>ID</th>\n",
       "      <th>paid</th>\n",
       "      <th>plan</th>\n",
       "      <th>user</th>\n",
       "      <th>email</th>\n",
       "      <th>tid</th>\n",
       "      <th>date</th>\n",
       "    </tr>\n",
       "  </thead>\n",
       "  <tbody>\n",
       "    <tr>\n",
       "      <th>0</th>\n",
       "      <td>1</td>\n",
       "      <td>2</td>\n",
       "      <td>25</td>\n",
       "      <td>55864</td>\n",
       "      <td>konradsenko@hotmail.com</td>\n",
       "      <td>730447104V3576257</td>\n",
       "      <td>1363038749</td>\n",
       "    </tr>\n",
       "    <tr>\n",
       "      <th>1</th>\n",
       "      <td>2</td>\n",
       "      <td>5</td>\n",
       "      <td>26</td>\n",
       "      <td>55860</td>\n",
       "      <td>michael120@live.nl</td>\n",
       "      <td>3M900294Y7261862G</td>\n",
       "      <td>1363042743</td>\n",
       "    </tr>\n",
       "    <tr>\n",
       "      <th>2</th>\n",
       "      <td>3</td>\n",
       "      <td>5</td>\n",
       "      <td>26</td>\n",
       "      <td>55875</td>\n",
       "      <td>crimewatchtt@gmail.com</td>\n",
       "      <td>2XR028731C564574Y</td>\n",
       "      <td>1363051326</td>\n",
       "    </tr>\n",
       "    <tr>\n",
       "      <th>3</th>\n",
       "      <td>4</td>\n",
       "      <td>5</td>\n",
       "      <td>26</td>\n",
       "      <td>55878</td>\n",
       "      <td>billing@hotservers.net</td>\n",
       "      <td>3JW09853GT390105Y</td>\n",
       "      <td>1363060180</td>\n",
       "    </tr>\n",
       "    <tr>\n",
       "      <th>4</th>\n",
       "      <td>5</td>\n",
       "      <td>20</td>\n",
       "      <td>27</td>\n",
       "      <td>55880</td>\n",
       "      <td>runescape0617@gmail.com</td>\n",
       "      <td>5WG75384XD256082W</td>\n",
       "      <td>1363065720</td>\n",
       "    </tr>\n",
       "    <tr>\n",
       "      <th>5</th>\n",
       "      <td>6</td>\n",
       "      <td>2</td>\n",
       "      <td>25</td>\n",
       "      <td>55882</td>\n",
       "      <td>PwNChocolaHD@gmail.com</td>\n",
       "      <td>11B593471U493523W</td>\n",
       "      <td>1363070417</td>\n",
       "    </tr>\n",
       "    <tr>\n",
       "      <th>6</th>\n",
       "      <td>7</td>\n",
       "      <td>2</td>\n",
       "      <td>25</td>\n",
       "      <td>55890</td>\n",
       "      <td>storm@ebomba.ro</td>\n",
       "      <td>2SG53730PR905211S</td>\n",
       "      <td>1363123642</td>\n",
       "    </tr>\n",
       "    <tr>\n",
       "      <th>7</th>\n",
       "      <td>8</td>\n",
       "      <td>30</td>\n",
       "      <td>33</td>\n",
       "      <td>55890</td>\n",
       "      <td>storm@ebomba.ro</td>\n",
       "      <td>27D205791C673071T</td>\n",
       "      <td>1363124779</td>\n",
       "    </tr>\n",
       "    <tr>\n",
       "      <th>8</th>\n",
       "      <td>9</td>\n",
       "      <td>5</td>\n",
       "      <td>26</td>\n",
       "      <td>55891</td>\n",
       "      <td>teflonjuan01@aol.com</td>\n",
       "      <td>4NP36572RX387190F</td>\n",
       "      <td>1363126981</td>\n",
       "    </tr>\n",
       "    <tr>\n",
       "      <th>9</th>\n",
       "      <td>10</td>\n",
       "      <td>12</td>\n",
       "      <td>28</td>\n",
       "      <td>55893</td>\n",
       "      <td>gl0zz3n@gmail.com</td>\n",
       "      <td>98J04628W32780214</td>\n",
       "      <td>1363137875</td>\n",
       "    </tr>\n",
       "  </tbody>\n",
       "</table>\n",
       "</div>"
      ],
      "text/plain": [
       "   ID  paid  plan   user                    email                tid  \\\n",
       "0   1     2    25  55864  konradsenko@hotmail.com  730447104V3576257   \n",
       "1   2     5    26  55860       michael120@live.nl  3M900294Y7261862G   \n",
       "2   3     5    26  55875   crimewatchtt@gmail.com  2XR028731C564574Y   \n",
       "3   4     5    26  55878   billing@hotservers.net  3JW09853GT390105Y   \n",
       "4   5    20    27  55880  runescape0617@gmail.com  5WG75384XD256082W   \n",
       "5   6     2    25  55882   PwNChocolaHD@gmail.com  11B593471U493523W   \n",
       "6   7     2    25  55890          storm@ebomba.ro  2SG53730PR905211S   \n",
       "7   8    30    33  55890          storm@ebomba.ro  27D205791C673071T   \n",
       "8   9     5    26  55891     teflonjuan01@aol.com  4NP36572RX387190F   \n",
       "9  10    12    28  55893        gl0zz3n@gmail.com  98J04628W32780214   \n",
       "\n",
       "         date  \n",
       "0  1363038749  \n",
       "1  1363042743  \n",
       "2  1363051326  \n",
       "3  1363060180  \n",
       "4  1363065720  \n",
       "5  1363070417  \n",
       "6  1363123642  \n",
       "7  1363124779  \n",
       "8  1363126981  \n",
       "9  1363137875  "
      ]
     },
     "execution_count": 18,
     "metadata": {},
     "output_type": "execute_result"
    }
   ],
   "source": [
    "tablename='payments'\n",
    "\n",
    "pd.read_csv(read_inserted_table1(dumpfile, tablename),\n",
    "            delimiter=\",\",\n",
    "            error_bad_lines=False).head(10)"
   ]
  },
  {
   "cell_type": "markdown",
   "metadata": {
    "deletable": true,
    "editable": true
   },
   "source": [
    "### Is this table completely different from any other previous loaded table? YES\n",
    "### Is this table similar to any table in the generic Booter database schema? YES\n",
    "    - This table looks like: payments\n",
    "    - The  table must to have the columns: id, userid, amountpaid, useremail, planid, tid, and date\n",
    "### Are there modifications required? YES\n",
    "    - On the table name: NO\n",
    "    - On the column type:\n",
    "        o date => timestamp2datetime\n",
    "    - On the column name: \n",
    "        o ID => id\n",
    "        o paid => amountpaid\n",
    "        o plan => planid\n",
    "        o user => userid\n",
    "        o email => paymentemail"
   ]
  },
  {
   "cell_type": "markdown",
   "metadata": {
    "deletable": true,
    "editable": true
   },
   "source": [
    "## Loading the modified table: 'payments'"
   ]
  },
  {
   "cell_type": "code",
   "execution_count": 19,
   "metadata": {
    "collapsed": false,
    "deletable": true,
    "editable": true
   },
   "outputs": [
    {
     "data": {
      "text/html": [
       "<div>\n",
       "<table border=\"1\" class=\"dataframe\">\n",
       "  <thead>\n",
       "    <tr style=\"text-align: right;\">\n",
       "      <th></th>\n",
       "      <th>id</th>\n",
       "      <th>amountpaid</th>\n",
       "      <th>planid</th>\n",
       "      <th>userid</th>\n",
       "      <th>paymentemail</th>\n",
       "      <th>tid</th>\n",
       "      <th>date</th>\n",
       "    </tr>\n",
       "  </thead>\n",
       "  <tbody>\n",
       "    <tr>\n",
       "      <th>0</th>\n",
       "      <td>1</td>\n",
       "      <td>2</td>\n",
       "      <td>25</td>\n",
       "      <td>55864</td>\n",
       "      <td>konradsenko@hotmail.com</td>\n",
       "      <td>730447104V3576257</td>\n",
       "      <td>2013-03-11 21:52:29</td>\n",
       "    </tr>\n",
       "    <tr>\n",
       "      <th>1</th>\n",
       "      <td>2</td>\n",
       "      <td>5</td>\n",
       "      <td>26</td>\n",
       "      <td>55860</td>\n",
       "      <td>michael120@live.nl</td>\n",
       "      <td>3M900294Y7261862G</td>\n",
       "      <td>2013-03-11 22:59:03</td>\n",
       "    </tr>\n",
       "    <tr>\n",
       "      <th>2</th>\n",
       "      <td>3</td>\n",
       "      <td>5</td>\n",
       "      <td>26</td>\n",
       "      <td>55875</td>\n",
       "      <td>crimewatchtt@gmail.com</td>\n",
       "      <td>2XR028731C564574Y</td>\n",
       "      <td>2013-03-12 01:22:06</td>\n",
       "    </tr>\n",
       "    <tr>\n",
       "      <th>3</th>\n",
       "      <td>4</td>\n",
       "      <td>5</td>\n",
       "      <td>26</td>\n",
       "      <td>55878</td>\n",
       "      <td>billing@hotservers.net</td>\n",
       "      <td>3JW09853GT390105Y</td>\n",
       "      <td>2013-03-12 03:49:40</td>\n",
       "    </tr>\n",
       "    <tr>\n",
       "      <th>4</th>\n",
       "      <td>5</td>\n",
       "      <td>20</td>\n",
       "      <td>27</td>\n",
       "      <td>55880</td>\n",
       "      <td>runescape0617@gmail.com</td>\n",
       "      <td>5WG75384XD256082W</td>\n",
       "      <td>2013-03-12 05:22:00</td>\n",
       "    </tr>\n",
       "    <tr>\n",
       "      <th>5</th>\n",
       "      <td>6</td>\n",
       "      <td>2</td>\n",
       "      <td>25</td>\n",
       "      <td>55882</td>\n",
       "      <td>PwNChocolaHD@gmail.com</td>\n",
       "      <td>11B593471U493523W</td>\n",
       "      <td>2013-03-12 06:40:17</td>\n",
       "    </tr>\n",
       "    <tr>\n",
       "      <th>6</th>\n",
       "      <td>7</td>\n",
       "      <td>2</td>\n",
       "      <td>25</td>\n",
       "      <td>55890</td>\n",
       "      <td>storm@ebomba.ro</td>\n",
       "      <td>2SG53730PR905211S</td>\n",
       "      <td>2013-03-12 21:27:22</td>\n",
       "    </tr>\n",
       "    <tr>\n",
       "      <th>7</th>\n",
       "      <td>8</td>\n",
       "      <td>30</td>\n",
       "      <td>33</td>\n",
       "      <td>55890</td>\n",
       "      <td>storm@ebomba.ro</td>\n",
       "      <td>27D205791C673071T</td>\n",
       "      <td>2013-03-12 21:46:19</td>\n",
       "    </tr>\n",
       "    <tr>\n",
       "      <th>8</th>\n",
       "      <td>9</td>\n",
       "      <td>5</td>\n",
       "      <td>26</td>\n",
       "      <td>55891</td>\n",
       "      <td>teflonjuan01@aol.com</td>\n",
       "      <td>4NP36572RX387190F</td>\n",
       "      <td>2013-03-12 22:23:01</td>\n",
       "    </tr>\n",
       "    <tr>\n",
       "      <th>9</th>\n",
       "      <td>10</td>\n",
       "      <td>12</td>\n",
       "      <td>28</td>\n",
       "      <td>55893</td>\n",
       "      <td>gl0zz3n@gmail.com</td>\n",
       "      <td>98J04628W32780214</td>\n",
       "      <td>2013-03-13 01:24:35</td>\n",
       "    </tr>\n",
       "  </tbody>\n",
       "</table>\n",
       "</div>"
      ],
      "text/plain": [
       "   id  amountpaid  planid  userid             paymentemail                tid  \\\n",
       "0   1           2      25   55864  konradsenko@hotmail.com  730447104V3576257   \n",
       "1   2           5      26   55860       michael120@live.nl  3M900294Y7261862G   \n",
       "2   3           5      26   55875   crimewatchtt@gmail.com  2XR028731C564574Y   \n",
       "3   4           5      26   55878   billing@hotservers.net  3JW09853GT390105Y   \n",
       "4   5          20      27   55880  runescape0617@gmail.com  5WG75384XD256082W   \n",
       "5   6           2      25   55882   PwNChocolaHD@gmail.com  11B593471U493523W   \n",
       "6   7           2      25   55890          storm@ebomba.ro  2SG53730PR905211S   \n",
       "7   8          30      33   55890          storm@ebomba.ro  27D205791C673071T   \n",
       "8   9           5      26   55891     teflonjuan01@aol.com  4NP36572RX387190F   \n",
       "9  10          12      28   55893        gl0zz3n@gmail.com  98J04628W32780214   \n",
       "\n",
       "                 date  \n",
       "0 2013-03-11 21:52:29  \n",
       "1 2013-03-11 22:59:03  \n",
       "2 2013-03-12 01:22:06  \n",
       "3 2013-03-12 03:49:40  \n",
       "4 2013-03-12 05:22:00  \n",
       "5 2013-03-12 06:40:17  \n",
       "6 2013-03-12 21:27:22  \n",
       "7 2013-03-12 21:46:19  \n",
       "8 2013-03-12 22:23:01  \n",
       "9 2013-03-13 01:24:35  "
      ]
     },
     "execution_count": 19,
     "metadata": {},
     "output_type": "execute_result"
    }
   ],
   "source": [
    "df_payments = pd.read_csv(read_inserted_table1(dumpfile, tablename),\n",
    "                                delimiter=\",\",\n",
    "                                error_bad_lines=False)\n",
    "\n",
    "df_payments['date']=timestamp2datetime(df_payments['date'])\n",
    "\n",
    "df_payments.rename(columns = {'ID': 'id',\n",
    "                            'paid':'amountpaid',\n",
    "                            'plan': 'planid',\n",
    "                             'user': 'userid',\n",
    "                             'email': 'paymentemail'},\n",
    "                    inplace=True)\n",
    "\n",
    "df_payments.head(10)"
   ]
  },
  {
   "cell_type": "markdown",
   "metadata": {
    "deletable": true,
    "editable": true
   },
   "source": [
    "## 5.9. Read the raw table: 'plans'"
   ]
  },
  {
   "cell_type": "code",
   "execution_count": 20,
   "metadata": {
    "collapsed": false,
    "deletable": true,
    "editable": true
   },
   "outputs": [
    {
     "data": {
      "text/html": [
       "<div>\n",
       "<table border=\"1\" class=\"dataframe\">\n",
       "  <thead>\n",
       "    <tr style=\"text-align: right;\">\n",
       "      <th></th>\n",
       "      <th>ID</th>\n",
       "      <th>name</th>\n",
       "      <th>description</th>\n",
       "      <th>mbt</th>\n",
       "      <th>unit</th>\n",
       "      <th>length</th>\n",
       "      <th>price</th>\n",
       "    </tr>\n",
       "  </thead>\n",
       "  <tbody>\n",
       "    <tr>\n",
       "      <th>0</th>\n",
       "      <td>32</td>\n",
       "      <td>Lifetime - 1200 Seconds</td>\n",
       "      <td>Lifetime - 1200 Seconds</td>\n",
       "      <td>1200</td>\n",
       "      <td>Years</td>\n",
       "      <td>20</td>\n",
       "      <td>42.0</td>\n",
       "    </tr>\n",
       "    <tr>\n",
       "      <th>1</th>\n",
       "      <td>28</td>\n",
       "      <td>2 Month\\\\s - 600 Seconds</td>\n",
       "      <td>2 Month\\\\s - 600 Seconds</td>\n",
       "      <td>600</td>\n",
       "      <td>Months</td>\n",
       "      <td>2</td>\n",
       "      <td>12.0</td>\n",
       "    </tr>\n",
       "    <tr>\n",
       "      <th>2</th>\n",
       "      <td>30</td>\n",
       "      <td>Lifetime  - 600 Seconds</td>\n",
       "      <td>Lifetime - 600 Seconds</td>\n",
       "      <td>600</td>\n",
       "      <td>Years</td>\n",
       "      <td>20</td>\n",
       "      <td>30.0</td>\n",
       "    </tr>\n",
       "    <tr>\n",
       "      <th>3</th>\n",
       "      <td>31</td>\n",
       "      <td>2 Month\\\\s - 1200 Seconds</td>\n",
       "      <td>2 Month\\\\s - 1200 Seconds</td>\n",
       "      <td>1200</td>\n",
       "      <td>Months</td>\n",
       "      <td>2</td>\n",
       "      <td>22.0</td>\n",
       "    </tr>\n",
       "    <tr>\n",
       "      <th>4</th>\n",
       "      <td>27</td>\n",
       "      <td>Lifetime - 300 Seconds</td>\n",
       "      <td>Lifetime - 300 Seconds</td>\n",
       "      <td>300</td>\n",
       "      <td>Years</td>\n",
       "      <td>20</td>\n",
       "      <td>20.0</td>\n",
       "    </tr>\n",
       "    <tr>\n",
       "      <th>5</th>\n",
       "      <td>25</td>\n",
       "      <td>300 Seconds - 1 Day</td>\n",
       "      <td>300 Seconds - 1 Day</td>\n",
       "      <td>300</td>\n",
       "      <td>Days</td>\n",
       "      <td>1</td>\n",
       "      <td>2.0</td>\n",
       "    </tr>\n",
       "    <tr>\n",
       "      <th>6</th>\n",
       "      <td>26</td>\n",
       "      <td>2 Month\\\\s - 300 Seconds</td>\n",
       "      <td>2 Month\\\\s - 300 Seconds</td>\n",
       "      <td>300</td>\n",
       "      <td>Months</td>\n",
       "      <td>2</td>\n",
       "      <td>5.0</td>\n",
       "    </tr>\n",
       "    <tr>\n",
       "      <th>7</th>\n",
       "      <td>33</td>\n",
       "      <td>2 Month\\\\s - 3600</td>\n",
       "      <td>2 Month\\\\s - 3600 Seconds</td>\n",
       "      <td>3600</td>\n",
       "      <td>Months</td>\n",
       "      <td>2</td>\n",
       "      <td>30.0</td>\n",
       "    </tr>\n",
       "    <tr>\n",
       "      <th>8</th>\n",
       "      <td>34</td>\n",
       "      <td>Lifetime - 3600 Seconds</td>\n",
       "      <td>Lifetime - 3600 Seconds</td>\n",
       "      <td>3600</td>\n",
       "      <td>Years</td>\n",
       "      <td>20</td>\n",
       "      <td>50.0</td>\n",
       "    </tr>\n",
       "    <tr>\n",
       "      <th>9</th>\n",
       "      <td>35</td>\n",
       "      <td>Contest Package ;</td>\n",
       "      <td>Do not buy this Package</td>\n",
       "      <td>4600</td>\n",
       "      <td>Years</td>\n",
       "      <td>10</td>\n",
       "      <td>10000000.0</td>\n",
       "    </tr>\n",
       "  </tbody>\n",
       "</table>\n",
       "</div>"
      ],
      "text/plain": [
       "   ID                       name                description   mbt    unit  \\\n",
       "0  32    Lifetime - 1200 Seconds    Lifetime - 1200 Seconds  1200   Years   \n",
       "1  28   2 Month\\\\s - 600 Seconds   2 Month\\\\s - 600 Seconds   600  Months   \n",
       "2  30    Lifetime  - 600 Seconds     Lifetime - 600 Seconds   600   Years   \n",
       "3  31  2 Month\\\\s - 1200 Seconds  2 Month\\\\s - 1200 Seconds  1200  Months   \n",
       "4  27     Lifetime - 300 Seconds     Lifetime - 300 Seconds   300   Years   \n",
       "5  25        300 Seconds - 1 Day        300 Seconds - 1 Day   300    Days   \n",
       "6  26   2 Month\\\\s - 300 Seconds   2 Month\\\\s - 300 Seconds   300  Months   \n",
       "7  33          2 Month\\\\s - 3600  2 Month\\\\s - 3600 Seconds  3600  Months   \n",
       "8  34    Lifetime - 3600 Seconds    Lifetime - 3600 Seconds  3600   Years   \n",
       "9  35          Contest Package ;    Do not buy this Package  4600   Years   \n",
       "\n",
       "   length       price  \n",
       "0      20        42.0  \n",
       "1       2        12.0  \n",
       "2      20        30.0  \n",
       "3       2        22.0  \n",
       "4      20        20.0  \n",
       "5       1         2.0  \n",
       "6       2         5.0  \n",
       "7       2        30.0  \n",
       "8      20        50.0  \n",
       "9      10  10000000.0  "
      ]
     },
     "execution_count": 20,
     "metadata": {},
     "output_type": "execute_result"
    }
   ],
   "source": [
    "tablename='plans'\n",
    "\n",
    "pd.read_csv(read_inserted_table1(dumpfile, tablename),\n",
    "            delimiter=\",\",\n",
    "            error_bad_lines=False).head(10)"
   ]
  },
  {
   "cell_type": "markdown",
   "metadata": {
    "deletable": true,
    "editable": true
   },
   "source": [
    "### Is this table different from any other previous loaded table? YES\n",
    "### Is this table similar to any table in the generic Booter database schema? YES\n",
    "    - This table looks like: plans\n",
    "    - The  table must to have the columns: planid, planname, plandescr, price, maxboottime, and concurrency\n",
    "### Are there modifications required? YES\n",
    "    - On the table name: NO\n",
    "    - On the column type:\n",
    "    - On the column name: \n",
    "        o ID => planid\n",
    "        o name => planname\n",
    "        o description => plandescr\n",
    "        o mbt => maxboottime\n",
    "        o length => concurrency"
   ]
  },
  {
   "cell_type": "markdown",
   "metadata": {
    "deletable": true,
    "editable": true
   },
   "source": [
    "## Loading the modified table: 'plans'"
   ]
  },
  {
   "cell_type": "code",
   "execution_count": 21,
   "metadata": {
    "collapsed": false,
    "deletable": true,
    "editable": true
   },
   "outputs": [
    {
     "data": {
      "text/html": [
       "<div>\n",
       "<table border=\"1\" class=\"dataframe\">\n",
       "  <thead>\n",
       "    <tr style=\"text-align: right;\">\n",
       "      <th></th>\n",
       "      <th>planid</th>\n",
       "      <th>planname</th>\n",
       "      <th>plandescr</th>\n",
       "      <th>maxboottime</th>\n",
       "      <th>unit</th>\n",
       "      <th>concurrency</th>\n",
       "      <th>price</th>\n",
       "    </tr>\n",
       "  </thead>\n",
       "  <tbody>\n",
       "    <tr>\n",
       "      <th>0</th>\n",
       "      <td>32</td>\n",
       "      <td>Lifetime - 1200 Seconds</td>\n",
       "      <td>Lifetime - 1200 Seconds</td>\n",
       "      <td>1200</td>\n",
       "      <td>Years</td>\n",
       "      <td>20</td>\n",
       "      <td>42.0</td>\n",
       "    </tr>\n",
       "    <tr>\n",
       "      <th>1</th>\n",
       "      <td>28</td>\n",
       "      <td>2 Month\\\\s - 600 Seconds</td>\n",
       "      <td>2 Month\\\\s - 600 Seconds</td>\n",
       "      <td>600</td>\n",
       "      <td>Months</td>\n",
       "      <td>2</td>\n",
       "      <td>12.0</td>\n",
       "    </tr>\n",
       "    <tr>\n",
       "      <th>2</th>\n",
       "      <td>30</td>\n",
       "      <td>Lifetime  - 600 Seconds</td>\n",
       "      <td>Lifetime - 600 Seconds</td>\n",
       "      <td>600</td>\n",
       "      <td>Years</td>\n",
       "      <td>20</td>\n",
       "      <td>30.0</td>\n",
       "    </tr>\n",
       "    <tr>\n",
       "      <th>3</th>\n",
       "      <td>31</td>\n",
       "      <td>2 Month\\\\s - 1200 Seconds</td>\n",
       "      <td>2 Month\\\\s - 1200 Seconds</td>\n",
       "      <td>1200</td>\n",
       "      <td>Months</td>\n",
       "      <td>2</td>\n",
       "      <td>22.0</td>\n",
       "    </tr>\n",
       "    <tr>\n",
       "      <th>4</th>\n",
       "      <td>27</td>\n",
       "      <td>Lifetime - 300 Seconds</td>\n",
       "      <td>Lifetime - 300 Seconds</td>\n",
       "      <td>300</td>\n",
       "      <td>Years</td>\n",
       "      <td>20</td>\n",
       "      <td>20.0</td>\n",
       "    </tr>\n",
       "    <tr>\n",
       "      <th>5</th>\n",
       "      <td>25</td>\n",
       "      <td>300 Seconds - 1 Day</td>\n",
       "      <td>300 Seconds - 1 Day</td>\n",
       "      <td>300</td>\n",
       "      <td>Days</td>\n",
       "      <td>1</td>\n",
       "      <td>2.0</td>\n",
       "    </tr>\n",
       "    <tr>\n",
       "      <th>6</th>\n",
       "      <td>26</td>\n",
       "      <td>2 Month\\\\s - 300 Seconds</td>\n",
       "      <td>2 Month\\\\s - 300 Seconds</td>\n",
       "      <td>300</td>\n",
       "      <td>Months</td>\n",
       "      <td>2</td>\n",
       "      <td>5.0</td>\n",
       "    </tr>\n",
       "    <tr>\n",
       "      <th>7</th>\n",
       "      <td>33</td>\n",
       "      <td>2 Month\\\\s - 3600</td>\n",
       "      <td>2 Month\\\\s - 3600 Seconds</td>\n",
       "      <td>3600</td>\n",
       "      <td>Months</td>\n",
       "      <td>2</td>\n",
       "      <td>30.0</td>\n",
       "    </tr>\n",
       "    <tr>\n",
       "      <th>8</th>\n",
       "      <td>34</td>\n",
       "      <td>Lifetime - 3600 Seconds</td>\n",
       "      <td>Lifetime - 3600 Seconds</td>\n",
       "      <td>3600</td>\n",
       "      <td>Years</td>\n",
       "      <td>20</td>\n",
       "      <td>50.0</td>\n",
       "    </tr>\n",
       "    <tr>\n",
       "      <th>9</th>\n",
       "      <td>35</td>\n",
       "      <td>Contest Package ;</td>\n",
       "      <td>Do not buy this Package</td>\n",
       "      <td>4600</td>\n",
       "      <td>Years</td>\n",
       "      <td>10</td>\n",
       "      <td>10000000.0</td>\n",
       "    </tr>\n",
       "  </tbody>\n",
       "</table>\n",
       "</div>"
      ],
      "text/plain": [
       "   planid                   planname                  plandescr  maxboottime  \\\n",
       "0      32    Lifetime - 1200 Seconds    Lifetime - 1200 Seconds         1200   \n",
       "1      28   2 Month\\\\s - 600 Seconds   2 Month\\\\s - 600 Seconds          600   \n",
       "2      30    Lifetime  - 600 Seconds     Lifetime - 600 Seconds          600   \n",
       "3      31  2 Month\\\\s - 1200 Seconds  2 Month\\\\s - 1200 Seconds         1200   \n",
       "4      27     Lifetime - 300 Seconds     Lifetime - 300 Seconds          300   \n",
       "5      25        300 Seconds - 1 Day        300 Seconds - 1 Day          300   \n",
       "6      26   2 Month\\\\s - 300 Seconds   2 Month\\\\s - 300 Seconds          300   \n",
       "7      33          2 Month\\\\s - 3600  2 Month\\\\s - 3600 Seconds         3600   \n",
       "8      34    Lifetime - 3600 Seconds    Lifetime - 3600 Seconds         3600   \n",
       "9      35          Contest Package ;    Do not buy this Package         4600   \n",
       "\n",
       "     unit  concurrency       price  \n",
       "0   Years           20        42.0  \n",
       "1  Months            2        12.0  \n",
       "2   Years           20        30.0  \n",
       "3  Months            2        22.0  \n",
       "4   Years           20        20.0  \n",
       "5    Days            1         2.0  \n",
       "6  Months            2         5.0  \n",
       "7  Months            2        30.0  \n",
       "8   Years           20        50.0  \n",
       "9   Years           10  10000000.0  "
      ]
     },
     "execution_count": 21,
     "metadata": {},
     "output_type": "execute_result"
    }
   ],
   "source": [
    "df_plans = pd.read_csv(read_inserted_table1(dumpfile, tablename),\n",
    "                                delimiter=\",\",\n",
    "                                error_bad_lines=False)\n",
    "\n",
    "df_plans.rename(columns = {'ID': 'planid',\n",
    "                            'name': 'planname',\n",
    "                          'description': 'plandescr',\n",
    "                          'mbt':'maxboottime',\n",
    "                          'length':'concurrency'},\n",
    "                    inplace=True)\n",
    "\n",
    "df_plans.head(10)"
   ]
  },
  {
   "cell_type": "markdown",
   "metadata": {
    "deletable": true,
    "editable": true
   },
   "source": [
    "## 5.10. Read the raw table: 'servers'"
   ]
  },
  {
   "cell_type": "code",
   "execution_count": 22,
   "metadata": {
    "collapsed": false,
    "deletable": true,
    "editable": true
   },
   "outputs": [
    {
     "data": {
      "text/html": [
       "<div>\n",
       "<table border=\"1\" class=\"dataframe\">\n",
       "  <thead>\n",
       "    <tr style=\"text-align: right;\">\n",
       "      <th></th>\n",
       "      <th>id</th>\n",
       "      <th>url</th>\n",
       "    </tr>\n",
       "  </thead>\n",
       "  <tbody>\n",
       "    <tr>\n",
       "      <th>0</th>\n",
       "      <td>71</td>\n",
       "      <td>http://respawnapi.com/send.php?host=&amp;port=&amp;tim...</td>\n",
       "    </tr>\n",
       "    <tr>\n",
       "      <th>1</th>\n",
       "      <td>69</td>\n",
       "      <td>http://31.3.227.80/Koala/api.php?key=X8c6Hv06f...</td>\n",
       "    </tr>\n",
       "  </tbody>\n",
       "</table>\n",
       "</div>"
      ],
      "text/plain": [
       "   id                                                url\n",
       "0  71  http://respawnapi.com/send.php?host=&port=&tim...\n",
       "1  69  http://31.3.227.80/Koala/api.php?key=X8c6Hv06f..."
      ]
     },
     "execution_count": 22,
     "metadata": {},
     "output_type": "execute_result"
    }
   ],
   "source": [
    "tablename='servers'\n",
    "\n",
    "pd.read_csv(read_inserted_table1(dumpfile, tablename),\n",
    "            delimiter=\",\",\n",
    "            error_bad_lines=False).head(10)"
   ]
  },
  {
   "cell_type": "markdown",
   "metadata": {
    "deletable": true,
    "editable": true
   },
   "source": [
    "### Is this table different from any other previous loaded table? YES\n",
    "### Is this table similar to any table in the generic Booter database schema? YES\n",
    "    - This table looks like: webshell\n",
    "    - The  table must to have the columns: id, url, status, lastchecked, and attacktype\n",
    "### Are there modifications required? YES\n",
    "    - On the table name: \n",
    "        o servers => webshells\n",
    "    - On the column type: -\n",
    "    - On the column name: - \n",
    "    - Add required columns:\n",
    "        o status, lastchecked, and attacktype"
   ]
  },
  {
   "cell_type": "markdown",
   "metadata": {
    "deletable": true,
    "editable": true
   },
   "source": [
    "## Loading the modified table: 'servers'"
   ]
  },
  {
   "cell_type": "code",
   "execution_count": 23,
   "metadata": {
    "collapsed": false,
    "deletable": true,
    "editable": true
   },
   "outputs": [
    {
     "data": {
      "text/html": [
       "<div>\n",
       "<table border=\"1\" class=\"dataframe\">\n",
       "  <thead>\n",
       "    <tr style=\"text-align: right;\">\n",
       "      <th></th>\n",
       "      <th>id</th>\n",
       "      <th>url</th>\n",
       "      <th>status</th>\n",
       "      <th>lastchecked</th>\n",
       "      <th>attacktype</th>\n",
       "    </tr>\n",
       "  </thead>\n",
       "  <tbody>\n",
       "    <tr>\n",
       "      <th>0</th>\n",
       "      <td>71</td>\n",
       "      <td>http://respawnapi.com/send.php?host=&amp;port=&amp;tim...</td>\n",
       "      <td>NaN</td>\n",
       "      <td>NaN</td>\n",
       "      <td>NaN</td>\n",
       "    </tr>\n",
       "    <tr>\n",
       "      <th>1</th>\n",
       "      <td>69</td>\n",
       "      <td>http://31.3.227.80/Koala/api.php?key=X8c6Hv06f...</td>\n",
       "      <td>NaN</td>\n",
       "      <td>NaN</td>\n",
       "      <td>NaN</td>\n",
       "    </tr>\n",
       "  </tbody>\n",
       "</table>\n",
       "</div>"
      ],
      "text/plain": [
       "   id                                                url  status  lastchecked  \\\n",
       "0  71  http://respawnapi.com/send.php?host=&port=&tim...     NaN          NaN   \n",
       "1  69  http://31.3.227.80/Koala/api.php?key=X8c6Hv06f...     NaN          NaN   \n",
       "\n",
       "   attacktype  \n",
       "0         NaN  \n",
       "1         NaN  "
      ]
     },
     "execution_count": 23,
     "metadata": {},
     "output_type": "execute_result"
    }
   ],
   "source": [
    "df_webshells = pd.read_csv(read_inserted_table1(dumpfile, tablename),\n",
    "                                delimiter=\",\",\n",
    "                                error_bad_lines=False)\n",
    "\n",
    "df_webshells['status'] = np.nan\n",
    "df_webshells['lastchecked'] = np.nan\n",
    "df_webshells['attacktype'] = np.nan\n",
    "\n",
    "df_webshells.head(10)"
   ]
  },
  {
   "cell_type": "markdown",
   "metadata": {
    "deletable": true,
    "editable": true
   },
   "source": [
    "## 5.11. Read the raw table: 'settings'"
   ]
  },
  {
   "cell_type": "code",
   "execution_count": 24,
   "metadata": {
    "collapsed": false,
    "deletable": true,
    "editable": true
   },
   "outputs": [
    {
     "data": {
      "text/html": [
       "<div>\n",
       "<table border=\"1\" class=\"dataframe\">\n",
       "  <thead>\n",
       "    <tr style=\"text-align: right;\">\n",
       "      <th></th>\n",
       "      <th>name</th>\n",
       "    </tr>\n",
       "  </thead>\n",
       "  <tbody>\n",
       "    <tr>\n",
       "      <th>0</th>\n",
       "      <td>Hazard Stresser</td>\n",
       "    </tr>\n",
       "  </tbody>\n",
       "</table>\n",
       "</div>"
      ],
      "text/plain": [
       "              name\n",
       "0  Hazard Stresser"
      ]
     },
     "execution_count": 24,
     "metadata": {},
     "output_type": "execute_result"
    }
   ],
   "source": [
    "tablename='settings'\n",
    "\n",
    "pd.read_csv(read_inserted_table1(dumpfile, tablename),\n",
    "            delimiter=\",\",\n",
    "            error_bad_lines=False).head(10)"
   ]
  },
  {
   "cell_type": "markdown",
   "metadata": {
    "deletable": true,
    "editable": true
   },
   "source": [
    "### Is this table different from any other previous loaded table? YES\n",
    "### Is this table similar to any table in the generic Booter database schema? YES\n",
    "    - This table looks like: settings\n",
    "    - The  table must to have the columns: url, sitename, and siteemail\n",
    "### Are there modifications required? YES\n",
    "    - On the table name: -\n",
    "    - On the column type: -\n",
    "    - On the column name:\n",
    "        o name => sitename\n",
    "    - Add required columns:\n",
    "        o url and siteemail"
   ]
  },
  {
   "cell_type": "markdown",
   "metadata": {
    "deletable": true,
    "editable": true
   },
   "source": [
    "## Loading the modified table: 'settings'"
   ]
  },
  {
   "cell_type": "code",
   "execution_count": 25,
   "metadata": {
    "collapsed": false,
    "deletable": true,
    "editable": true
   },
   "outputs": [
    {
     "data": {
      "text/html": [
       "<div>\n",
       "<table border=\"1\" class=\"dataframe\">\n",
       "  <thead>\n",
       "    <tr style=\"text-align: right;\">\n",
       "      <th></th>\n",
       "      <th>sitename</th>\n",
       "      <th>url</th>\n",
       "      <th>siteemail</th>\n",
       "    </tr>\n",
       "  </thead>\n",
       "  <tbody>\n",
       "    <tr>\n",
       "      <th>0</th>\n",
       "      <td>Hazard Stresser</td>\n",
       "      <td></td>\n",
       "      <td></td>\n",
       "    </tr>\n",
       "  </tbody>\n",
       "</table>\n",
       "</div>"
      ],
      "text/plain": [
       "          sitename url siteemail\n",
       "0  Hazard Stresser              "
      ]
     },
     "execution_count": 25,
     "metadata": {},
     "output_type": "execute_result"
    }
   ],
   "source": [
    "df_settings = pd.read_csv(read_inserted_table1(dumpfile, tablename),\n",
    "                                delimiter=\",\",\n",
    "                                error_bad_lines=False)\n",
    "#                        converters = {'date':timestamp2datetime})\n",
    "\n",
    "df_settings.rename(columns = {'name': 'sitename'},\n",
    "                    inplace=True)\n",
    "\n",
    "#Creating empty columns (with \"\" [for future string] or np.nan [for future float])\n",
    "df_settings['url'] = \"\"\n",
    "df_settings['siteemail'] = \"\"\n",
    "\n",
    "df_settings.head(10)"
   ]
  },
  {
   "cell_type": "markdown",
   "metadata": {
    "deletable": true,
    "editable": true
   },
   "source": [
    "## 5.12. Read the raw table: 'sitelink'"
   ]
  },
  {
   "cell_type": "code",
   "execution_count": 26,
   "metadata": {
    "collapsed": false,
    "deletable": true,
    "editable": true
   },
   "outputs": [
    {
     "data": {
      "text/html": [
       "<div>\n",
       "<table border=\"1\" class=\"dataframe\">\n",
       "  <thead>\n",
       "    <tr style=\"text-align: right;\">\n",
       "      <th></th>\n",
       "      <th>url</th>\n",
       "    </tr>\n",
       "  </thead>\n",
       "  <tbody>\n",
       "    <tr>\n",
       "      <th>0</th>\n",
       "      <td>http://hazardstresser.com/</td>\n",
       "    </tr>\n",
       "  </tbody>\n",
       "</table>\n",
       "</div>"
      ],
      "text/plain": [
       "                          url\n",
       "0  http://hazardstresser.com/"
      ]
     },
     "execution_count": 26,
     "metadata": {},
     "output_type": "execute_result"
    }
   ],
   "source": [
    "tablename='sitelink'\n",
    "\n",
    "pd.read_csv(read_inserted_table1(dumpfile, tablename),\n",
    "            delimiter=\",\",\n",
    "            error_bad_lines=False).head(10)"
   ]
  },
  {
   "cell_type": "markdown",
   "metadata": {
    "deletable": true,
    "editable": true
   },
   "source": [
    "### Is this table different from any other previous loaded table? NO\n",
    "    * It is part should be part of the settings table!!!\n",
    "### Is this table similar to any table in the generic Booter database schema? \n",
    "    - This table looks like: \n",
    "    - The  table must to have the columns: \n",
    "### Are there modifications required? \n",
    "    - On the table name: \n",
    "    - On the column type:\n",
    "    - On the column name:\n",
    "    - Add required columns:\n"
   ]
  },
  {
   "cell_type": "markdown",
   "metadata": {
    "deletable": true,
    "editable": true
   },
   "source": [
    "## Loading the modified table: 'sitelink'"
   ]
  },
  {
   "cell_type": "code",
   "execution_count": 27,
   "metadata": {
    "collapsed": false,
    "deletable": true,
    "editable": true
   },
   "outputs": [
    {
     "data": {
      "text/html": [
       "<div>\n",
       "<table border=\"1\" class=\"dataframe\">\n",
       "  <thead>\n",
       "    <tr style=\"text-align: right;\">\n",
       "      <th></th>\n",
       "      <th>sitename</th>\n",
       "      <th>url</th>\n",
       "      <th>siteemail</th>\n",
       "    </tr>\n",
       "  </thead>\n",
       "  <tbody>\n",
       "    <tr>\n",
       "      <th>0</th>\n",
       "      <td>Hazard Stresser</td>\n",
       "      <td>http://hazardstresser.com/</td>\n",
       "      <td></td>\n",
       "    </tr>\n",
       "  </tbody>\n",
       "</table>\n",
       "</div>"
      ],
      "text/plain": [
       "          sitename                         url siteemail\n",
       "0  Hazard Stresser  http://hazardstresser.com/          "
      ]
     },
     "execution_count": 27,
     "metadata": {},
     "output_type": "execute_result"
    }
   ],
   "source": [
    "## Moving the value of URL to the table settings!\n",
    "df_settings.set_value(0,'url',\n",
    "                      pd.read_csv(read_inserted_table1(dumpfile, tablename))['url'].iloc[0])"
   ]
  },
  {
   "cell_type": "markdown",
   "metadata": {
    "deletable": true,
    "editable": true
   },
   "source": [
    "## 5.13. Read the raw table: 'sitetheme'"
   ]
  },
  {
   "cell_type": "code",
   "execution_count": 28,
   "metadata": {
    "collapsed": false,
    "deletable": true,
    "editable": true
   },
   "outputs": [
    {
     "data": {
      "text/html": [
       "<div>\n",
       "<table border=\"1\" class=\"dataframe\">\n",
       "  <thead>\n",
       "    <tr style=\"text-align: right;\">\n",
       "      <th></th>\n",
       "      <th>theme</th>\n",
       "    </tr>\n",
       "  </thead>\n",
       "  <tbody>\n",
       "    <tr>\n",
       "      <th>0</th>\n",
       "      <td>strangeblue</td>\n",
       "    </tr>\n",
       "  </tbody>\n",
       "</table>\n",
       "</div>"
      ],
      "text/plain": [
       "         theme\n",
       "0  strangeblue"
      ]
     },
     "execution_count": 28,
     "metadata": {},
     "output_type": "execute_result"
    }
   ],
   "source": [
    "tablename='sitetheme'\n",
    "\n",
    "pd.read_csv(read_inserted_table1(dumpfile, tablename),\n",
    "            delimiter=\",\",\n",
    "            error_bad_lines=False).head(10)"
   ]
  },
  {
   "cell_type": "markdown",
   "metadata": {
    "deletable": true,
    "editable": true
   },
   "source": [
    "### Is this table different from any other previous loaded table? YES\n",
    "### Is this table similar to any table in the generic Booter database schema? NO\n",
    "    - This table looks like: \n",
    "    - The  table must to have the columns: \n",
    "### Are there modifications required? \n",
    "    - On the table name: \n",
    "    - On the column type:\n",
    "    - On the column name:\n",
    "    - Add required columns:"
   ]
  },
  {
   "cell_type": "markdown",
   "metadata": {
    "deletable": true,
    "editable": true
   },
   "source": [
    "## 5.14. Read the raw table: 'skypeapi'"
   ]
  },
  {
   "cell_type": "code",
   "execution_count": 29,
   "metadata": {
    "collapsed": false,
    "deletable": true,
    "editable": true
   },
   "outputs": [
    {
     "data": {
      "text/html": [
       "<div>\n",
       "<table border=\"1\" class=\"dataframe\">\n",
       "  <thead>\n",
       "    <tr style=\"text-align: right;\">\n",
       "      <th></th>\n",
       "      <th>link</th>\n",
       "    </tr>\n",
       "  </thead>\n",
       "  <tbody>\n",
       "    <tr>\n",
       "      <th>0</th>\n",
       "      <td>http://api.sonicb00m.com/api.php?key=koala&amp;name=</td>\n",
       "    </tr>\n",
       "  </tbody>\n",
       "</table>\n",
       "</div>"
      ],
      "text/plain": [
       "                                               link\n",
       "0  http://api.sonicb00m.com/api.php?key=koala&name="
      ]
     },
     "execution_count": 29,
     "metadata": {},
     "output_type": "execute_result"
    }
   ],
   "source": [
    "tablename='skypeapi'\n",
    "\n",
    "pd.read_csv(read_inserted_table1(dumpfile, tablename),\n",
    "            delimiter=\",\",\n",
    "            error_bad_lines=False).head(10)"
   ]
  },
  {
   "cell_type": "markdown",
   "metadata": {
    "deletable": true,
    "editable": true
   },
   "source": [
    "### Is this table different from any other previous loaded table? YES\n",
    "### Is this table similar to any table in the generic Booter database schema? NO\n",
    "### Are there modifications required? "
   ]
  },
  {
   "cell_type": "markdown",
   "metadata": {
    "deletable": true,
    "editable": true
   },
   "source": [
    "##  5.15. Read the raw table: 'skype_logs'"
   ]
  },
  {
   "cell_type": "code",
   "execution_count": 30,
   "metadata": {
    "collapsed": false,
    "deletable": true,
    "editable": true
   },
   "outputs": [
    {
     "data": {
      "text/html": [
       "<div>\n",
       "<table border=\"1\" class=\"dataframe\">\n",
       "  <thead>\n",
       "    <tr style=\"text-align: right;\">\n",
       "      <th></th>\n",
       "      <th>user</th>\n",
       "      <th>ip</th>\n",
       "      <th>searched</th>\n",
       "    </tr>\n",
       "  </thead>\n",
       "  <tbody>\n",
       "    <tr>\n",
       "      <th>0</th>\n",
       "      <td>gl0zz3n</td>\n",
       "      <td>Could not resolve skype username.</td>\n",
       "      <td>grimthegod</td>\n",
       "    </tr>\n",
       "    <tr>\n",
       "      <th>1</th>\n",
       "      <td>xbox12</td>\n",
       "      <td>Could not resolve skype username.</td>\n",
       "      <td>jacob campbell</td>\n",
       "    </tr>\n",
       "    <tr>\n",
       "      <th>2</th>\n",
       "      <td>xbox12</td>\n",
       "      <td>Could not resolve skype username.</td>\n",
       "      <td>jacob.campbell</td>\n",
       "    </tr>\n",
       "    <tr>\n",
       "      <th>3</th>\n",
       "      <td>xbox12</td>\n",
       "      <td>Could not resolve skype username.</td>\n",
       "      <td>jacob.campbell</td>\n",
       "    </tr>\n",
       "    <tr>\n",
       "      <th>4</th>\n",
       "      <td>xbox12</td>\n",
       "      <td>Could not resolve skype username.</td>\n",
       "      <td>jacob campbell</td>\n",
       "    </tr>\n",
       "    <tr>\n",
       "      <th>5</th>\n",
       "      <td>xbox12</td>\n",
       "      <td>72.222.142.254</td>\n",
       "      <td>googlemyweiner</td>\n",
       "    </tr>\n",
       "    <tr>\n",
       "      <th>6</th>\n",
       "      <td>xbox12</td>\n",
       "      <td>Could not resolve skype username.</td>\n",
       "      <td>austin.ozan</td>\n",
       "    </tr>\n",
       "    <tr>\n",
       "      <th>7</th>\n",
       "      <td>CorruptedTNC</td>\n",
       "      <td>65.33.98.82</td>\n",
       "      <td>blakesvengeance</td>\n",
       "    </tr>\n",
       "    <tr>\n",
       "      <th>8</th>\n",
       "      <td>baconback</td>\n",
       "      <td>80.192.255.210</td>\n",
       "      <td>joker16345</td>\n",
       "    </tr>\n",
       "    <tr>\n",
       "      <th>9</th>\n",
       "      <td>baconback</td>\n",
       "      <td>Could not resolve skype username.</td>\n",
       "      <td>mikeapaloosa</td>\n",
       "    </tr>\n",
       "  </tbody>\n",
       "</table>\n",
       "</div>"
      ],
      "text/plain": [
       "           user                                 ip         searched\n",
       "0       gl0zz3n  Could not resolve skype username.       grimthegod\n",
       "1        xbox12  Could not resolve skype username.   jacob campbell\n",
       "2        xbox12  Could not resolve skype username.   jacob.campbell\n",
       "3        xbox12  Could not resolve skype username.   jacob.campbell\n",
       "4        xbox12  Could not resolve skype username.   jacob campbell\n",
       "5        xbox12                     72.222.142.254   googlemyweiner\n",
       "6        xbox12  Could not resolve skype username.      austin.ozan\n",
       "7  CorruptedTNC                        65.33.98.82  blakesvengeance\n",
       "8     baconback                     80.192.255.210       joker16345\n",
       "9     baconback  Could not resolve skype username.     mikeapaloosa"
      ]
     },
     "execution_count": 30,
     "metadata": {},
     "output_type": "execute_result"
    }
   ],
   "source": [
    "tablename='skype_logs'\n",
    "\n",
    "pd.read_csv(read_inserted_table1(dumpfile, tablename),\n",
    "            delimiter=\",\",\n",
    "            error_bad_lines=False).head(10)"
   ]
  },
  {
   "cell_type": "markdown",
   "metadata": {
    "deletable": true,
    "editable": true
   },
   "source": [
    "### Is this table different from any other previous loaded table? YES\n",
    "### Is this table similar to any table in the generic Booter database schema? NO\n",
    "### Are there modifications required? "
   ]
  },
  {
   "cell_type": "markdown",
   "metadata": {
    "deletable": true,
    "editable": true
   },
   "source": [
    "## 5.16. Read the raw table: 'users'"
   ]
  },
  {
   "cell_type": "code",
   "execution_count": 31,
   "metadata": {
    "collapsed": false,
    "deletable": true,
    "editable": true
   },
   "outputs": [
    {
     "data": {
      "text/html": [
       "<div>\n",
       "<table border=\"1\" class=\"dataframe\">\n",
       "  <thead>\n",
       "    <tr style=\"text-align: right;\">\n",
       "      <th></th>\n",
       "      <th>ID</th>\n",
       "      <th>username</th>\n",
       "      <th>password</th>\n",
       "      <th>email</th>\n",
       "      <th>rank</th>\n",
       "      <th>membership</th>\n",
       "      <th>expire</th>\n",
       "      <th>status</th>\n",
       "    </tr>\n",
       "  </thead>\n",
       "  <tbody>\n",
       "    <tr>\n",
       "      <th>0</th>\n",
       "      <td>55945</td>\n",
       "      <td>xXEnvyUnknownXx</td>\n",
       "      <td>f865b53623b121fd34ee5426c792e5c33af8c227</td>\n",
       "      <td>course@live.com</td>\n",
       "      <td>0</td>\n",
       "      <td>34</td>\n",
       "      <td>1994563582</td>\n",
       "      <td>0</td>\n",
       "    </tr>\n",
       "    <tr>\n",
       "      <th>1</th>\n",
       "      <td>55944</td>\n",
       "      <td>Snooper</td>\n",
       "      <td>f4f5a044094964a68c9232041b117f7f9cebfbc5</td>\n",
       "      <td>froudrea@fakeinbox.com</td>\n",
       "      <td>0</td>\n",
       "      <td>26</td>\n",
       "      <td>1368671578</td>\n",
       "      <td>0</td>\n",
       "    </tr>\n",
       "    <tr>\n",
       "      <th>2</th>\n",
       "      <td>55943</td>\n",
       "      <td>cr3m3</td>\n",
       "      <td>a14b77b7d159a74da1454e7a60a59f8a27ac886d</td>\n",
       "      <td>cr3m3brul33@hotmail.com</td>\n",
       "      <td>0</td>\n",
       "      <td>28</td>\n",
       "      <td>1368667528</td>\n",
       "      <td>0</td>\n",
       "    </tr>\n",
       "    <tr>\n",
       "      <th>3</th>\n",
       "      <td>55942</td>\n",
       "      <td>JH450</td>\n",
       "      <td>bb4dd53303ea7bb0a6807a12f78ede4099782758</td>\n",
       "      <td>thebeast4564@aol.com</td>\n",
       "      <td>0</td>\n",
       "      <td>0</td>\n",
       "      <td>0</td>\n",
       "      <td>0</td>\n",
       "    </tr>\n",
       "    <tr>\n",
       "      <th>4</th>\n",
       "      <td>55941</td>\n",
       "      <td>aaronuk12</td>\n",
       "      <td>16732c08da90d4a96bdd249481411d4900e4b504</td>\n",
       "      <td>aaronuk12@hotmail.com</td>\n",
       "      <td>0</td>\n",
       "      <td>0</td>\n",
       "      <td>0</td>\n",
       "      <td>0</td>\n",
       "    </tr>\n",
       "    <tr>\n",
       "      <th>5</th>\n",
       "      <td>55940</td>\n",
       "      <td>Cr0NiX</td>\n",
       "      <td>25543c240eaccb98c28e57b67de518de53410da1</td>\n",
       "      <td>bonniedog96@gmail.com</td>\n",
       "      <td>0</td>\n",
       "      <td>25</td>\n",
       "      <td>1363467382</td>\n",
       "      <td>0</td>\n",
       "    </tr>\n",
       "    <tr>\n",
       "      <th>6</th>\n",
       "      <td>55939</td>\n",
       "      <td>n0mad315</td>\n",
       "      <td>93deb6737b2b5b9a1feaa82ef742cc6b52272bb7</td>\n",
       "      <td>idrees_d@hotmail.co.uk</td>\n",
       "      <td>0</td>\n",
       "      <td>34</td>\n",
       "      <td>1994519785</td>\n",
       "      <td>0</td>\n",
       "    </tr>\n",
       "    <tr>\n",
       "      <th>7</th>\n",
       "      <td>55938</td>\n",
       "      <td>Honeyz</td>\n",
       "      <td>c76b1da7fc4db39184bac03eaf1e31b113d25eb6</td>\n",
       "      <td>paixtouras2010@hotmail.com</td>\n",
       "      <td>0</td>\n",
       "      <td>0</td>\n",
       "      <td>0</td>\n",
       "      <td>0</td>\n",
       "    </tr>\n",
       "    <tr>\n",
       "      <th>8</th>\n",
       "      <td>55937</td>\n",
       "      <td>Dave</td>\n",
       "      <td>1ba00d2112e3c8f6ee5dc7eb5ed14d98764abf8a</td>\n",
       "      <td>team-escape@hotmail.com</td>\n",
       "      <td>0</td>\n",
       "      <td>0</td>\n",
       "      <td>0</td>\n",
       "      <td>0</td>\n",
       "    </tr>\n",
       "    <tr>\n",
       "      <th>9</th>\n",
       "      <td>55936</td>\n",
       "      <td>asdasd</td>\n",
       "      <td>85136c79cbf9fe36bb9d05d0639c70c265c18d37</td>\n",
       "      <td>asd@asd.com</td>\n",
       "      <td>0</td>\n",
       "      <td>0</td>\n",
       "      <td>0</td>\n",
       "      <td>0</td>\n",
       "    </tr>\n",
       "  </tbody>\n",
       "</table>\n",
       "</div>"
      ],
      "text/plain": [
       "      ID         username                                  password  \\\n",
       "0  55945  xXEnvyUnknownXx  f865b53623b121fd34ee5426c792e5c33af8c227   \n",
       "1  55944          Snooper  f4f5a044094964a68c9232041b117f7f9cebfbc5   \n",
       "2  55943            cr3m3  a14b77b7d159a74da1454e7a60a59f8a27ac886d   \n",
       "3  55942            JH450  bb4dd53303ea7bb0a6807a12f78ede4099782758   \n",
       "4  55941        aaronuk12  16732c08da90d4a96bdd249481411d4900e4b504   \n",
       "5  55940           Cr0NiX  25543c240eaccb98c28e57b67de518de53410da1   \n",
       "6  55939         n0mad315  93deb6737b2b5b9a1feaa82ef742cc6b52272bb7   \n",
       "7  55938           Honeyz  c76b1da7fc4db39184bac03eaf1e31b113d25eb6   \n",
       "8  55937             Dave  1ba00d2112e3c8f6ee5dc7eb5ed14d98764abf8a   \n",
       "9  55936           asdasd  85136c79cbf9fe36bb9d05d0639c70c265c18d37   \n",
       "\n",
       "                        email  rank  membership      expire  status  \n",
       "0             course@live.com     0          34  1994563582       0  \n",
       "1      froudrea@fakeinbox.com     0          26  1368671578       0  \n",
       "2     cr3m3brul33@hotmail.com     0          28  1368667528       0  \n",
       "3        thebeast4564@aol.com     0           0           0       0  \n",
       "4       aaronuk12@hotmail.com     0           0           0       0  \n",
       "5       bonniedog96@gmail.com     0          25  1363467382       0  \n",
       "6      idrees_d@hotmail.co.uk     0          34  1994519785       0  \n",
       "7  paixtouras2010@hotmail.com     0           0           0       0  \n",
       "8     team-escape@hotmail.com     0           0           0       0  \n",
       "9                 asd@asd.com     0           0           0       0  "
      ]
     },
     "execution_count": 31,
     "metadata": {},
     "output_type": "execute_result"
    }
   ],
   "source": [
    "tablename='users'\n",
    "\n",
    "pd.read_csv(read_inserted_table1(dumpfile, tablename),\n",
    "            delimiter=\",\",\n",
    "            error_bad_lines=False).head(10)"
   ]
  },
  {
   "cell_type": "markdown",
   "metadata": {
    "deletable": true,
    "editable": true
   },
   "source": [
    "### Is this table different from any other previous loaded table? YES\n",
    "### Is this table similar to any table in the generic Booter database schema? YES\n",
    "    - This table looks like: users\n",
    "    - The  table must to have the columns: userid, username, useremail, password, expire, and plan\n",
    "### Are there modifications required? \n",
    "    - On the table name: NO\n",
    "    - On the column type: \n",
    "        o expire => timestamp2datetime\n",
    "    - On the column name:\n",
    "        o ID => userid\n",
    "        o email => useremail\n",
    "        o membership => planid\n",
    "    - Add required columns: NO"
   ]
  },
  {
   "cell_type": "markdown",
   "metadata": {
    "deletable": true,
    "editable": true
   },
   "source": [
    "## Loading the modified table: 'users'"
   ]
  },
  {
   "cell_type": "code",
   "execution_count": 32,
   "metadata": {
    "collapsed": false,
    "deletable": true,
    "editable": true
   },
   "outputs": [
    {
     "data": {
      "text/html": [
       "<div>\n",
       "<table border=\"1\" class=\"dataframe\">\n",
       "  <thead>\n",
       "    <tr style=\"text-align: right;\">\n",
       "      <th></th>\n",
       "      <th>userid</th>\n",
       "      <th>username</th>\n",
       "      <th>password</th>\n",
       "      <th>useremail</th>\n",
       "      <th>rank</th>\n",
       "      <th>planid</th>\n",
       "      <th>expire</th>\n",
       "      <th>status</th>\n",
       "    </tr>\n",
       "  </thead>\n",
       "  <tbody>\n",
       "    <tr>\n",
       "      <th>0</th>\n",
       "      <td>55945</td>\n",
       "      <td>xxenvyunknownxx</td>\n",
       "      <td>f865b53623b121fd34ee5426c792e5c33af8c227</td>\n",
       "      <td>course@live.com</td>\n",
       "      <td>0</td>\n",
       "      <td>34</td>\n",
       "      <td>2033-03-16 05:26:22</td>\n",
       "      <td>0</td>\n",
       "    </tr>\n",
       "    <tr>\n",
       "      <th>1</th>\n",
       "      <td>55944</td>\n",
       "      <td>snooper</td>\n",
       "      <td>f4f5a044094964a68c9232041b117f7f9cebfbc5</td>\n",
       "      <td>froudrea@fakeinbox.com</td>\n",
       "      <td>0</td>\n",
       "      <td>26</td>\n",
       "      <td>2013-05-16 02:32:58</td>\n",
       "      <td>0</td>\n",
       "    </tr>\n",
       "    <tr>\n",
       "      <th>2</th>\n",
       "      <td>55943</td>\n",
       "      <td>cr3m3</td>\n",
       "      <td>a14b77b7d159a74da1454e7a60a59f8a27ac886d</td>\n",
       "      <td>cr3m3brul33@hotmail.com</td>\n",
       "      <td>0</td>\n",
       "      <td>28</td>\n",
       "      <td>2013-05-16 01:25:28</td>\n",
       "      <td>0</td>\n",
       "    </tr>\n",
       "    <tr>\n",
       "      <th>3</th>\n",
       "      <td>55942</td>\n",
       "      <td>jh450</td>\n",
       "      <td>bb4dd53303ea7bb0a6807a12f78ede4099782758</td>\n",
       "      <td>thebeast4564@aol.com</td>\n",
       "      <td>0</td>\n",
       "      <td>0</td>\n",
       "      <td>1970-01-01 00:00:00</td>\n",
       "      <td>0</td>\n",
       "    </tr>\n",
       "    <tr>\n",
       "      <th>4</th>\n",
       "      <td>55941</td>\n",
       "      <td>aaronuk12</td>\n",
       "      <td>16732c08da90d4a96bdd249481411d4900e4b504</td>\n",
       "      <td>aaronuk12@hotmail.com</td>\n",
       "      <td>0</td>\n",
       "      <td>0</td>\n",
       "      <td>1970-01-01 00:00:00</td>\n",
       "      <td>0</td>\n",
       "    </tr>\n",
       "    <tr>\n",
       "      <th>5</th>\n",
       "      <td>55940</td>\n",
       "      <td>cr0nix</td>\n",
       "      <td>25543c240eaccb98c28e57b67de518de53410da1</td>\n",
       "      <td>bonniedog96@gmail.com</td>\n",
       "      <td>0</td>\n",
       "      <td>25</td>\n",
       "      <td>2013-03-16 20:56:22</td>\n",
       "      <td>0</td>\n",
       "    </tr>\n",
       "    <tr>\n",
       "      <th>6</th>\n",
       "      <td>55939</td>\n",
       "      <td>n0mad315</td>\n",
       "      <td>93deb6737b2b5b9a1feaa82ef742cc6b52272bb7</td>\n",
       "      <td>idrees_d@hotmail.co.uk</td>\n",
       "      <td>0</td>\n",
       "      <td>34</td>\n",
       "      <td>2033-03-15 17:16:25</td>\n",
       "      <td>0</td>\n",
       "    </tr>\n",
       "    <tr>\n",
       "      <th>7</th>\n",
       "      <td>55938</td>\n",
       "      <td>honeyz</td>\n",
       "      <td>c76b1da7fc4db39184bac03eaf1e31b113d25eb6</td>\n",
       "      <td>paixtouras2010@hotmail.com</td>\n",
       "      <td>0</td>\n",
       "      <td>0</td>\n",
       "      <td>1970-01-01 00:00:00</td>\n",
       "      <td>0</td>\n",
       "    </tr>\n",
       "    <tr>\n",
       "      <th>8</th>\n",
       "      <td>55937</td>\n",
       "      <td>dave</td>\n",
       "      <td>1ba00d2112e3c8f6ee5dc7eb5ed14d98764abf8a</td>\n",
       "      <td>team-escape@hotmail.com</td>\n",
       "      <td>0</td>\n",
       "      <td>0</td>\n",
       "      <td>1970-01-01 00:00:00</td>\n",
       "      <td>0</td>\n",
       "    </tr>\n",
       "    <tr>\n",
       "      <th>9</th>\n",
       "      <td>55936</td>\n",
       "      <td>asdasd</td>\n",
       "      <td>85136c79cbf9fe36bb9d05d0639c70c265c18d37</td>\n",
       "      <td>asd@asd.com</td>\n",
       "      <td>0</td>\n",
       "      <td>0</td>\n",
       "      <td>1970-01-01 00:00:00</td>\n",
       "      <td>0</td>\n",
       "    </tr>\n",
       "  </tbody>\n",
       "</table>\n",
       "</div>"
      ],
      "text/plain": [
       "   userid         username                                  password  \\\n",
       "0   55945  xxenvyunknownxx  f865b53623b121fd34ee5426c792e5c33af8c227   \n",
       "1   55944          snooper  f4f5a044094964a68c9232041b117f7f9cebfbc5   \n",
       "2   55943            cr3m3  a14b77b7d159a74da1454e7a60a59f8a27ac886d   \n",
       "3   55942            jh450  bb4dd53303ea7bb0a6807a12f78ede4099782758   \n",
       "4   55941        aaronuk12  16732c08da90d4a96bdd249481411d4900e4b504   \n",
       "5   55940           cr0nix  25543c240eaccb98c28e57b67de518de53410da1   \n",
       "6   55939         n0mad315  93deb6737b2b5b9a1feaa82ef742cc6b52272bb7   \n",
       "7   55938           honeyz  c76b1da7fc4db39184bac03eaf1e31b113d25eb6   \n",
       "8   55937             dave  1ba00d2112e3c8f6ee5dc7eb5ed14d98764abf8a   \n",
       "9   55936           asdasd  85136c79cbf9fe36bb9d05d0639c70c265c18d37   \n",
       "\n",
       "                    useremail  rank  planid              expire  status  \n",
       "0             course@live.com     0      34 2033-03-16 05:26:22       0  \n",
       "1      froudrea@fakeinbox.com     0      26 2013-05-16 02:32:58       0  \n",
       "2     cr3m3brul33@hotmail.com     0      28 2013-05-16 01:25:28       0  \n",
       "3        thebeast4564@aol.com     0       0 1970-01-01 00:00:00       0  \n",
       "4       aaronuk12@hotmail.com     0       0 1970-01-01 00:00:00       0  \n",
       "5       bonniedog96@gmail.com     0      25 2013-03-16 20:56:22       0  \n",
       "6      idrees_d@hotmail.co.uk     0      34 2033-03-15 17:16:25       0  \n",
       "7  paixtouras2010@hotmail.com     0       0 1970-01-01 00:00:00       0  \n",
       "8     team-escape@hotmail.com     0       0 1970-01-01 00:00:00       0  \n",
       "9                 asd@asd.com     0       0 1970-01-01 00:00:00       0  "
      ]
     },
     "execution_count": 32,
     "metadata": {},
     "output_type": "execute_result"
    }
   ],
   "source": [
    "df_users = pd.read_csv(read_inserted_table1(dumpfile, tablename),\n",
    "                       delimiter=\",\",\n",
    "                       error_bad_lines=False)\n",
    "\n",
    "df_users['expire']=timestamp2datetime(df_users['expire'])\n",
    "df_users['username']=tolowercase(df_users['username'])\n",
    "\n",
    "df_users.rename(columns = {'ID': 'userid',\n",
    "                          'email':'useremail',\n",
    "                          'membership':'planid'},\n",
    "                    inplace=True)\n",
    "\n",
    "##Create blank columns (with either \"\" [for string] or np.nan [for float])\n",
    "# df_users['url'] = \"\"\n",
    "# df_users['siteemail'] = np.nan\n",
    "\n",
    "df_users.head(10)"
   ]
  },
  {
   "cell_type": "markdown",
   "metadata": {},
   "source": [
    "<h2 align='center'>======================================================================\n",
    "<br>Final step of the manual part\n",
    "======================================================================</h2>"
   ]
  },
  {
   "cell_type": "markdown",
   "metadata": {
    "deletable": true,
    "editable": true
   },
   "source": [
    "## 7. Adding missing tables accordingly to our generic Booter database "
   ]
  },
  {
   "cell_type": "code",
   "execution_count": 33,
   "metadata": {
    "collapsed": false,
    "deletable": true,
    "editable": true
   },
   "outputs": [],
   "source": [
    "df_attacks= pd.DataFrame(columns=['id','userid','username','targetip','targeturl','duration','port','type','date'])\n",
    "#df_blacklist=pd.DataFrame(columns=['id','ip','note'])\n",
    "#df_friendsenemies=pd.DataFrame(columns=['id','ip','note','userid','type'])\n",
    "#df_gateways=pd.DataFrame(columns=['email'])\n",
    "#df_logins=pd.DataFrame(columns=['id','userid','username','userip','date'])\n",
    "#df_payments=pd.DataFrame(columns=['id','userid','username','amountpaid','paymentemail','planid','tid','date'])\n",
    "#df_plans=pd.DataFrame(columns=['planid','planname','plandescr','price','maxboottime','concurrency'])\n",
    "#df_servers=pd.DataFrame(columns=['id','ip'])\n",
    "#df_settings=pd.DataFrame(columns=['url','sitename','siteemail'])\n",
    "#df_users=pd.DataFrame(columns=['userid','username','useremail','password','expire','plan'])      \n",
    "#df_webshells=pd.DataFrame(columns=['id','url','status','lastchecked','attacktype'])"
   ]
  },
  {
   "cell_type": "markdown",
   "metadata": {
    "deletable": true,
    "editable": true
   },
   "source": [
    "<h1 align=\"center\">\n",
    "!!!!!!!!!!!!!!!!!!!!!!!!!!!!!!!!!!!!!!!!!!!!!!!!!!!!!!!!!!!!!!!!!!!!!!!!!!!!!!!!!!!!!!!!!!!!!!!!!!!!!!!!!!!!!!!!!!!!!!!!!!!!!!!!!!!!!!!!!<br>\n",
    "STEP 2: Data Enrichment<br>\n",
    "!!!!!!!!!!!!!!!!!!!!!!!!!!!!!!!!!!!!!!!!!!!!!!!!!!!!!!!!!!!!!!!!!!!!!!!!!!!!!!!!!!!!!!!!!!!!!!!!!!!!!!!!!!!!!!!!!!!!!!!!!!!!!!!</h1> "
   ]
  },
  {
   "cell_type": "code",
   "execution_count": 62,
   "metadata": {
    "collapsed": false
   },
   "outputs": [
    {
     "name": "stdout",
     "output_type": "stream",
     "text": [
      "- Table logins enriched (IP to AS): df_logins_iptoasn\n",
      "- Table attacks enriched (IP to AS): df_attacks_iptoasn\n",
      "- Table friendsenemies enriched (IP to AS): df_friendsenemies_iptoasn\n",
      "- Table blacklist enriched (IP to AS): df_blacklist_iptoasn\n",
      "\n",
      "\n",
      "- Table logins enriched (Tor checked): df_logins_torcheck\n",
      "- Table attacks enriched (Tor checked): df_attacks_torcheck\n",
      "- Table friendsenemies enriched (Tor checked): df_friendsenemies_torcheck\n",
      "- Table blacklist enriched (Tor checked): df_blacklist_torcheck\n"
     ]
    }
   ],
   "source": [
    "%run '../data_enrichment.ipynb'"
   ]
  },
  {
   "cell_type": "markdown",
   "metadata": {
    "deletable": true,
    "editable": true
   },
   "source": [
    "<h2 align=\"center\">\n",
    "!!!!!!!!!!!!!!!!!!!!!!!!!!!!!!!!!!!!!!!!!!!!!!!!!!!!!!!!!!!!!!!!!!!!!!!!!!!!!!!!!!!!!!!!!!!!!!!!!!!!!!!!!!!!!!!!!!!!!!!!!!!!!!!!!!!!!!!!!<br>\n",
    "FOURTH PART: Automatic Analysis\n",
    "<br>\n",
    "!!!!!!!!!!!!!!!!!!!!!!!!!!!!!!!!!!!!!!!!!!!!!!!!!!!!!!!!!!!!!!!!!!!!!!!!!!!!!!!!!!!!!!!!!!!!!!!!!!!!!!!!!!!!!!!!!!!!!!!!!!!!!!!</h3> "
   ]
  },
  {
   "cell_type": "code",
   "execution_count": 189,
   "metadata": {
    "collapsed": false
   },
   "outputs": [
    {
     "name": "stdout",
     "output_type": "stream",
     "text": [
      "*Attackers set is empty!\n"
     ]
    },
    {
     "data": {
      "image/png": "[encoded data removed]",
      "text/plain": [
       "<matplotlib.figure.Figure at 0x1139446a0>"
      ]
     },
     "metadata": {},
     "output_type": "display_data"
    },
    {
     "name": "stdout",
     "output_type": "stream",
     "text": [
      "Caption: Intersection between users, customers and attackers.\n"
     ]
    },
    {
     "data": {
      "image/png": "[encoded data removed]",
      "text/plain": [
       "<matplotlib.figure.Figure at 0x113d6b630>"
      ]
     },
     "metadata": {},
     "output_type": "display_data"
    },
    {
     "name": "stdout",
     "output_type": "stream",
     "text": [
      "Caption: User login times\n"
     ]
    },
    {
     "data": {
      "image/png": "[encoded data removed]",
      "text/plain": [
       "<matplotlib.figure.Figure at 0x1138ecd68>"
      ]
     },
     "metadata": {},
     "output_type": "display_data"
    },
    {
     "name": "stdout",
     "output_type": "stream",
     "text": [
      "Caption: User distinct IP addresses\n"
     ]
    },
    {
     "data": {
      "image/png": "[encoded data removed]",
      "text/plain": [
       "<matplotlib.figure.Figure at 0x1135f3ba8>"
      ]
     },
     "metadata": {},
     "output_type": "display_data"
    },
    {
     "name": "stdout",
     "output_type": "stream",
     "text": [
      "Caption: User distinct payments\n"
     ]
    },
    {
     "data": {
      "image/png": "[encoded data removed]",
      "text/plain": [
       "<matplotlib.figure.Figure at 0x113d475c0>"
      ]
     },
     "metadata": {},
     "output_type": "display_data"
    },
    {
     "name": "stdout",
     "output_type": "stream",
     "text": [
      "Caption: Amount of money paid.\n",
      "\n",
      "\n",
      "The (estimated) amount of money earned by this Booter is equal to US$ 307.00\n",
      "\n",
      "\n"
     ]
    },
    {
     "data": {
      "image/png": "[encoded data removed]",
      "text/plain": [
       "<matplotlib.figure.Figure at 0x113e19940>"
      ]
     },
     "metadata": {},
     "output_type": "display_data"
    },
    {
     "name": "stdout",
     "output_type": "stream",
     "text": [
      "Caption: Countries from where users (IPs) accessed the Booter.\n"
     ]
    },
    {
     "data": {
      "image/png": "[encoded data removed]",
      "text/plain": [
       "<matplotlib.figure.Figure at 0x113859828>"
      ]
     },
     "metadata": {},
     "output_type": "display_data"
    },
    {
     "name": "stdout",
     "output_type": "stream",
     "text": [
      "Caption: Countries of blacklisted IPs.\n"
     ]
    }
   ],
   "source": [
    "%run '../automated_analysis.ipynb'"
   ]
  },
  {
   "cell_type": "code",
   "execution_count": null,
   "metadata": {
    "collapsed": true
   },
   "outputs": [],
   "source": []
  },
  {
   "cell_type": "markdown",
   "metadata": {
    "deletable": true,
    "editable": true
   },
   "source": [
    "<h2 align=\"center\">!!!!!!!!!!!!!!!!!!!!!!!!!!!!!!!!!!!!!!!!!!!!!!!!!!!!!!!!!!!!!!!!!!!!!!!!!!!!!!!!!!!!!!!!!!!!!!!!!!!!!!!!!!!!!!!!!!!!!!!!!!!!!!!!!<br>\n",
    "FIFTH PART: Query Interface<br>\n",
    "!!!!!!!!!!!!!!!!!!!!!!!!!!!!!!!!!!!!!!!!!!!!!!!!!!!!!!!!!!!!!!!!!!!!!!!!!!!!!!!!!!!!!!!!!!!!!!!!!!!!!!!!!!!!!!!!!!!!!!!!!!!!!!!</h2> "
   ]
  },
  {
   "cell_type": "code",
   "execution_count": 72,
   "metadata": {
    "collapsed": true,
    "deletable": true,
    "editable": true
   },
   "outputs": [],
   "source": [
    "from ipywidgets import widgets, interact\n",
    "from IPython.display import display,clear_output"
   ]
  },
  {
   "cell_type": "markdown",
   "metadata": {
    "deletable": true,
    "editable": true
   },
   "source": [
    "##  5.1. Search user by name or email"
   ]
  },
  {
   "cell_type": "code",
   "execution_count": 73,
   "metadata": {
    "collapsed": false,
    "deletable": true,
    "editable": true
   },
   "outputs": [],
   "source": [
    "def searchfor_username_submit(sender):\n",
    "    clear_output()\n",
    "    print(\"Searching for \\\"\",searchfor_username.value,\"\\\" in df_users:\")\n",
    "    display(df_users[df_users['username']== searchfor_username.value.lower()])\n",
    "\n",
    "def searchfor_useremail_submit(sender):\n",
    "    clear_output()\n",
    "    print(\"Searching for \\\"\",searchfor_useremail.value,\"\\\" in df_users:\")\n",
    "    display(df_users[df_users['useremail']== searchfor_useremail.value])\n",
    "    print(\"Searching for \\\"\",searchfor_useremail.value,\"\\\" in df_payment:\")\n",
    "    display(df_payments[df_payments['paymentemail']== searchfor_useremail.value])"
   ]
  },
  {
   "cell_type": "code",
   "execution_count": 74,
   "metadata": {
    "collapsed": false,
    "deletable": true,
    "editable": true
   },
   "outputs": [],
   "source": [
    "searchfor_username = widgets.Text(description=\"username\")\n",
    "display(searchfor_username)\n",
    "searchfor_username.on_submit(searchfor_username_submit)\n",
    "\n",
    "searchfor_useremail = widgets.Text(description=\"email\")\n",
    "display(searchfor_useremail)\n",
    "searchfor_useremail.on_submit(searchfor_useremail_submit)"
   ]
  },
  {
   "cell_type": "markdown",
   "metadata": {
    "deletable": true,
    "editable": true
   },
   "source": [
    "## 5.2. Search attacks by username or userid"
   ]
  },
  {
   "cell_type": "code",
   "execution_count": 75,
   "metadata": {
    "collapsed": true,
    "deletable": true,
    "editable": true
   },
   "outputs": [],
   "source": [
    "def searchfor_attacks_userid_submit(sender):\n",
    "    clear_output()\n",
    "    print(\"Searching for \\\"\",searchfor_attacks_userid.value,\"\\\" in df_attacks:\")\n",
    "    display(df_attacks[df_attacks['userid']== searchfor_attacks_userid.value])\n",
    "\n",
    "def searchfor_attacks_username_submit(sender):\n",
    "    clear_output()\n",
    "    print(\"Searching for \\\"\",searchfor_attacks_username.value,\"\\\" in df_attacks:\")\n",
    "    userid=df_users[df_users['username']==searchfor_attacks_username.value.lower()]['userid'].iloc[0]\n",
    "    display(df_attacks[df_attacks['userid']== userid])"
   ]
  },
  {
   "cell_type": "code",
   "execution_count": 76,
   "metadata": {
    "collapsed": false,
    "deletable": true,
    "editable": true
   },
   "outputs": [],
   "source": [
    "searchfor_attacks_username = widgets.Text(description=\"username\",)\n",
    "display(searchfor_attacks_username)\n",
    "searchfor_attacks_username.on_submit(searchfor_attacks_username_submit)\n",
    "\n",
    "searchfor_attacks_userid = widgets.Text(description=\"userid\")\n",
    "display(searchfor_attacks_userid)\n",
    "searchfor_attacks_userid.on_submit(searchfor_attacks_userid_submit)"
   ]
  },
  {
   "cell_type": "markdown",
   "metadata": {
    "deletable": true,
    "editable": true
   },
   "source": [
    "## 5.3. Search IP address by userid or username"
   ]
  },
  {
   "cell_type": "code",
   "execution_count": 77,
   "metadata": {
    "collapsed": false,
    "deletable": true,
    "editable": true
   },
   "outputs": [],
   "source": [
    "def search_ips_by_userid_submit(sender):\n",
    "    clear_output()\n",
    "    print(\"Searching for \\\"\",search_ips_by_userid.value,\"\\\" in df_logins:\")\n",
    "    display(df_logins[df_logins['userid']== int(search_ips_by_userid.value)])\n",
    "\n",
    "def search_ips_by_username_submit(sender):\n",
    "    clear_output()\n",
    "    print(\"Searching for \\\"\",search_ips_by_username.value,\"\\\" in df_logins:\")\n",
    "    userid=df_users[df_users['username']==search_ips_by_username.value.lower()]['userid'].iloc[0]\n",
    "    display(df_logins[df_logins['userid']== userid])"
   ]
  },
  {
   "cell_type": "code",
   "execution_count": 78,
   "metadata": {
    "collapsed": false,
    "deletable": true,
    "editable": true
   },
   "outputs": [],
   "source": [
    "search_ips_by_username = widgets.Text(description=\"username\")\n",
    "display(search_ips_by_username)\n",
    "search_ips_by_username.on_submit(search_ips_by_username_submit)\n",
    "\n",
    "search_ips_by_userid = widgets.Text(description=\"userid\")\n",
    "display(search_ips_by_userid)\n",
    "search_ips_by_userid.on_submit(search_ips_by_userid_submit)"
   ]
  }
 ],
 "metadata": {
  "kernelspec": {
   "display_name": "Python 3",
   "language": "python",
   "name": "python3"
  },
  "language_info": {
   "codemirror_mode": {
    "name": "ipython",
    "version": 3
   },
   "file_extension": ".py",
   "mimetype": "text/x-python",
   "name": "python",
   "nbconvert_exporter": "python",
   "pygments_lexer": "ipython3",
   "version": "3.5.1"
  },
  "widgets": {
   "state": {},
   "version": "1.1.2"
  }
 },
 "nbformat": 4,
 "nbformat_minor": 0
}
