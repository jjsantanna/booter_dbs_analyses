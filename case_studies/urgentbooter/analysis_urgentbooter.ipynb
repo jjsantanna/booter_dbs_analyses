{
 "cells": [
  {
   "cell_type": "markdown",
   "metadata": {
    "deletable": true,
    "editable": true
   },
   "source": [
    "<h1 align=\"center\">\n",
    "!!!!!!!!!!!!!!!!!!!!!!!!!!!!!!!!!!!!!!!!!!!!!!!!!!!!!!!!!!!!!!!!!!!!!!!!!!!!!!!!!!!!!!!!!!!!!!!!!!!!!!!!!!!!!!!!!!!!!!!!!!!!!!!<br>\n",
    "Brief explanation on our Booter database analysis methodology: <br>\n",
    "!!!!!!!!!!!!!!!!!!!!!!!!!!!!!!!!!!!!!!!!!!!!!!!!!!!!!!!!!!!!!!!!!!!!!!!!!!!!!!!!!!!!!!!!!!!!!!!!!!!!!!!!!!!!!!!!!!!!!!!!!!!!!!!</h1> "
   ]
  },
  {
   "cell_type": "markdown",
   "metadata": {
    "deletable": true,
    "editable": true
   },
   "source": [
    "# Analysis of: urgentbooter\n",
    "#### File originally retrieved from: http://4lz5rmnkd6f63tmm.onion/db/urgentbooter.sql"
   ]
  },
  {
   "cell_type": "markdown",
   "metadata": {
    "deletable": true,
    "editable": true
   },
   "source": [
    "## * Libraries that I use to analyse data"
   ]
  },
  {
   "cell_type": "code",
   "execution_count": 1,
   "metadata": {
    "collapsed": true,
    "deletable": true,
    "editable": true
   },
   "outputs": [],
   "source": [
    "import pandas as pd\n",
    "import numpy as np\n",
    "\n",
    "from io import StringIO\n",
    "import re\n",
    "\n",
    "from IPython.display import display,clear_output"
   ]
  },
  {
   "cell_type": "markdown",
   "metadata": {
    "deletable": true,
    "editable": true
   },
   "source": [
    "<h1 align=\"center\">\n",
    "!!!!!!!!!!!!!!!!!!!!!!!!!!!!!!!!!!!!!!!!!!!!!!!!!!!!!!!!!!!!!!!!!!!!!!!!!!!!!!!!!!!!!!!!!!!!!!!!!!!!!!!!!!!!!!!!!!!!!!!!!!!!!!!<br>\n",
    "STEP 0: Reading an input Booter database file<br>\n",
    "!!!!!!!!!!!!!!!!!!!!!!!!!!!!!!!!!!!!!!!!!!!!!!!!!!!!!!!!!!!!!!!!!!!!!!!!!!!!!!!!!!!!!!!!!!!!!!!!!!!!!!!!!!!!!!!!!!!!!!!!!!!!!!!</h1> "
   ]
  },
  {
   "cell_type": "code",
   "execution_count": 2,
   "metadata": {
    "collapsed": true,
    "deletable": true,
    "editable": true
   },
   "outputs": [],
   "source": [
    "dumpfile='urgentbooter.sql'"
   ]
  },
  {
   "cell_type": "markdown",
   "metadata": {
    "deletable": true,
    "editable": true
   },
   "source": [
    "<h1 align=\"center\">\n",
    "!!!!!!!!!!!!!!!!!!!!!!!!!!!!!!!!!!!!!!!!!!!!!!!!!!!!!!!!!!!!!!!!!!!!!!!!!!!!!!!!!!!!!!!!!!!!!!!!!!!!!!!!!!!!!!!!!!!!!!!!!!!!!!!!!!!!!!!!!<br>\n",
    "STEP 1: Adaptation to our Booter database schema<br>\n",
    "!!!!!!!!!!!!!!!!!!!!!!!!!!!!!!!!!!!!!!!!!!!!!!!!!!!!!!!!!!!!!!!!!!!!!!!!!!!!!!!!!!!!!!!!!!!!!!!!!!!!!!!!!!!!!!!!!!!!!!!!!!!!!!!</h1> "
   ]
  },
  {
   "cell_type": "markdown",
   "metadata": {
    "deletable": true,
    "editable": true
   },
   "source": [
    "## 1. Reading the first 'N' (100) lines of the input Booter database file"
   ]
  },
  {
   "cell_type": "code",
   "execution_count": 3,
   "metadata": {
    "collapsed": false,
    "deletable": true,
    "editable": true
   },
   "outputs": [
    {
     "name": "stdout",
     "output_type": "stream",
     "text": [
      "--\n",
      "-- because your full of lies\n",
      "--\n",
      "-- 1 - you cant takedown pastebin\n",
      "-- 2 - lifetime for 20dollars, yeah tons of shared apis and fake 3400 shells\n",
      "-- 3 - pure lie about everything\n",
      "--\n",
      "-- you had 1600 shells here, infact there were 36\n",
      "--\n",
      "-- Adminer 3.3.4 MySQL dump\n",
      "\n",
      "SET NAMES utf8;\n",
      "SET foreign_key_checks = 0;\n",
      "SET time_zone = 'SYSTEM';\n",
      "SET sql_mode = 'NO_AUTO_VALUE_ON_ZERO';\n",
      "\n",
      "DROP TABLE IF EXISTS `block_time`;\n",
      "CREATE TABLE `block_time` (\n",
      "`message2` varchar(100) NOT NULL\n",
      ") ENGINE=MyISAM DEFAULT CHARSET=latin1;\n",
      "\n",
      "INSERT INTO `block_time` (`message2`) VALUES\n",
      "('180');\n",
      "\n",
      "DROP TABLE IF EXISTS `block_time_gold`;\n",
      "CREATE TABLE `block_time_gold` (\n",
      "`message14` varchar(100) NOT NULL\n",
      ") ENGINE=MyISAM DEFAULT CHARSET=latin1;\n",
      "\n",
      "INSERT INTO `block_time_gold` (`message14`) VALUES\n",
      "('120');\n",
      "\n",
      "DROP TABLE IF EXISTS `boot_time`;\n",
      "CREATE TABLE `boot_time` (\n",
      "`message` varchar(100) NOT NULL\n",
      ") ENGINE=MyISAM DEFAULT CHARSET=latin1;\n",
      "\n",
      "INSERT INTO `boot_time` (`message`) VALUES\n",
      "('120');\n",
      "\n",
      "DROP TABLE IF EXISTS `boot_time_gold`;\n",
      "CREATE TABLE `boot_time_gold` (\n",
      "`message13` varchar(100) NOT NULL\n",
      ") ENGINE=MyISAM DEFAULT CHARSET=latin1;\n",
      "\n",
      "INSERT INTO `boot_time_gold` (`message13`) VALUES\n",
      "('180');\n",
      "\n",
      "DROP TABLE IF EXISTS `chat`;\n",
      "CREATE TABLE `chat` (\n",
      "`message8` varchar(100) NOT NULL\n",
      ") ENGINE=MyISAM DEFAULT CHARSET=latin1;\n",
      "\n",
      "INSERT INTO `chat` (`message8`) VALUES\n",
      "('at3661');\n",
      "\n",
      "DROP TABLE IF EXISTS `downloads`;\n",
      "CREATE TABLE `downloads` (\n",
      "`DownloadId` int(11) NOT NULL AUTO_INCREMENT,\n",
      "`DownloadName` varchar(100) NOT NULL DEFAULT 'none',\n",
      "`FileName` varchar(150) NOT NULL DEFAULT 'none',\n",
      "`DateAdded` datetime NOT NULL DEFAULT '0000-00-00 00:00:00',\n",
      "`DateModified` datetime NOT NULL DEFAULT '0000-00-00 00:00:00',\n",
      "`IsEnabled` tinyint(1) NOT NULL DEFAULT '0',\n",
      "`PremiumLevel` int(3) NOT NULL DEFAULT '1',\n",
      "PRIMARY KEY (`DownloadId`)\n",
      ") ENGINE=MyISAM DEFAULT CHARSET=utf8;\n",
      "\n",
      "\n",
      "DROP TABLE IF EXISTS `enemies`;\n",
      "CREATE TABLE `enemies` (\n",
      "`id` int(50) NOT NULL AUTO_INCREMENT,\n",
      "`ip` varchar(15) COLLATE latin1_general_ci NOT NULL,\n",
      "`notes` text COLLATE latin1_general_ci NOT NULL,\n",
      "`enemy` varchar(20) COLLATE latin1_general_ci NOT NULL,\n",
      "PRIMARY KEY (`id`)\n",
      ") ENGINE=MyISAM DEFAULT CHARSET=latin1 COLLATE=latin1_general_ci;\n",
      "\n",
      "INSERT INTO `enemies` (`id`, `ip`, `notes`, `enemy`) VALUES\n",
      "(11,\t'127.0.0.1',\t'He makes fun of me ALOT',\t'');\n",
      "\n",
      "DROP TABLE IF EXISTS `feedback_categories`;\n",
      "CREATE TABLE `feedback_categories` (\n",
      "`CategoryId` int(11) NOT NULL AUTO_INCREMENT,\n",
      "`CategoryName` varchar(100) NOT NULL,\n",
      "`IsEnabled` tinyint(1) NOT NULL DEFAULT '0',\n",
      "PRIMARY KEY (`CategoryId`)\n",
      ") ENGINE=MyISAM DEFAULT CHARSET=utf8;\n",
      "\n",
      "INSERT INTO `feedback_categories` (`CategoryId`, `CategoryName`, `IsEnabled`) VALUES\n",
      "(1,\t'Bug',\t1),\n",
      "(2,\t'Site Content',\t1),\n",
      "(3,\t'Suggestion',\t1),\n",
      "(4,\t'Compliment',\t1),\n",
      "(5,\t'Other',\t1);\n",
      "\n",
      "DROP TABLE IF EXISTS `feedback_page`;\n",
      "CREATE TABLE `feedback_page` (\n",
      "`PageId` int(11) NOT NULL AUTO_INCREMENT,\n",
      "`PageTitle` varchar(250) DEFAULT NULL,\n"
     ]
    }
   ],
   "source": [
    "lines_to_read=100\n",
    "\n",
    "with open(dumpfile) as myfile:\n",
    "    firstlines=myfile.readlines()[0:lines_to_read] #put here the interval you want\n",
    "    for x in firstlines:\n",
    "        print(x.strip())"
   ]
  },
  {
   "cell_type": "markdown",
   "metadata": {
    "deletable": true,
    "editable": true
   },
   "source": [
    "## 2. Listing tables that have content inserted into the dump file"
   ]
  },
  {
   "cell_type": "code",
   "execution_count": 4,
   "metadata": {
    "collapsed": true,
    "deletable": true,
    "editable": true
   },
   "outputs": [],
   "source": [
    "def list_tables_with_insert(dumpfile):\n",
    "    tables = []\n",
    "    with open(dumpfile, 'rb') as f:\n",
    "        for line in f:\n",
    "            line = line.decode(\"utf-8\").strip()\n",
    "            if line.lower().startswith('insert'):\n",
    "                table = re.findall(r'`(.*?)`', line)\n",
    "                tables.append(table[0])\n",
    "    return tables"
   ]
  },
  {
   "cell_type": "code",
   "execution_count": 7,
   "metadata": {
    "collapsed": false,
    "deletable": true,
    "editable": true
   },
   "outputs": [
    {
     "name": "stdout",
     "output_type": "stream",
     "text": [
      "1 block_time\n",
      "2 block_time_gold\n",
      "3 boot_time\n",
      "4 boot_time_gold\n",
      "5 chat\n",
      "6 enemies\n",
      "7 feedback_categories\n",
      "8 feedback_page\n",
      "9 feedback_subcategories\n",
      "10 friends\n",
      "11 log\n",
      "12 logs\n",
      "13 membership_coupons\n",
      "14 membership_rates\n",
      "15 membership_types\n",
      "16 menu_names\n",
      "17 menus\n",
      "18 news\n",
      "19 paypal_config\n",
      "20 paypal_payments\n",
      "21 postshells\n",
      "22 profiles\n",
      "23 roles\n",
      "24 shell_percent_gold\n",
      "25 shell_percent_silver\n",
      "26 shells\n",
      "27 users\n"
     ]
    }
   ],
   "source": [
    "tables=enumerate(list_tables_with_insert(dumpfile))\n",
    "\n",
    "for i, item in tables:\n",
    "    print(i+1,item)"
   ]
  },
  {
   "cell_type": "markdown",
   "metadata": {
    "deletable": true,
    "editable": true
   },
   "source": [
    "## How the list above looks like? "
   ]
  },
  {
   "cell_type": "markdown",
   "metadata": {
    "deletable": true,
    "editable": true
   },
   "source": [
    "<h2 align='center'>======================================================================\n",
    "If NOT well-formed SQL dump file then you must first do the following:\n",
    "======================================================================</h2>"
   ]
  },
  {
   "cell_type": "markdown",
   "metadata": {
    "deletable": true,
    "editable": true
   },
   "source": [
    "## 3. Removing lines that are not part of the actual content to be analysed"
   ]
  },
  {
   "cell_type": "markdown",
   "metadata": {
    "deletable": true,
    "editable": true
   },
   "source": [
    "## 4. Splitting and naming tables and columns"
   ]
  },
  {
   "cell_type": "markdown",
   "metadata": {
    "deletable": true,
    "editable": true
   },
   "source": [
    "<h2 align='center'>======================================================================\n",
    "Additional functions\n",
    "======================================================================</h2>"
   ]
  },
  {
   "cell_type": "markdown",
   "metadata": {
    "deletable": true,
    "editable": true
   },
   "source": [
    "## * Function to read tables from wel-formed SQL database dump"
   ]
  },
  {
   "cell_type": "code",
   "execution_count": 389,
   "metadata": {
    "collapsed": false,
    "deletable": true,
    "editable": true
   },
   "outputs": [],
   "source": [
    "# For well formed SQL database dumps!\n",
    "def read_inserted_table(dumpfile, target_table):\n",
    "    sio = StringIO()\n",
    "    fast_forward = True\n",
    "    with open(dumpfile, 'rb') as f:\n",
    "        for line in f:\n",
    "            line = line.decode(\"utf-8\").strip()\n",
    "            line = re.sub(\"(?!(([^']*'){2})*[^']*$)\\)\", '',line) #Step0:remove any \")\" from the content of columns\n",
    "            if line.lower().startswith('insert') and target_table in line:\n",
    "                fast_forward = False\n",
    "            if fast_forward:\n",
    "                continue\n",
    "            data = re.findall('\\([^\\)]*\\)', line) #Step1: get the content between parentesis (i.e., insert line)\n",
    "            try:\n",
    "                newline = data[0].strip('()') #Step2:remove parenthesis\n",
    "                newline=newline.replace('`','') #Step3: remove ` (usually in table names)\n",
    "                newline=re.sub(r'(?!(([^\\']*\\'){2})*[^\\']*$),','', newline) #Step4: remove commas from the content of columns\n",
    "                newline=newline.replace('\\'','') #Step5: remove single quotes\n",
    "                newline=newline.replace(', ', ',') #Step6: remove single spaces after comma (i.e., in the beginning of a column)\n",
    "                sio.write(newline)\n",
    "                sio.write(\"\\n\")\n",
    "            except IndexError:\n",
    "                pass\n",
    "            if line.endswith(';'):\n",
    "                break\n",
    "    sio.seek(0)\n",
    "    return sio"
   ]
  },
  {
   "cell_type": "code",
   "execution_count": 407,
   "metadata": {
    "collapsed": true,
    "deletable": true,
    "editable": true
   },
   "outputs": [],
   "source": [
    "# DO NOT consider the possibility of commas withing any table\n",
    "def read_inserted_table2(dumpfile, target_table):\n",
    "    sio = StringIO()\n",
    "    fast_forward = True\n",
    "    with open(dumpfile, 'rb') as f:\n",
    "        for line in f:\n",
    "            line = line.decode(\"utf-8\").strip()\n",
    "            line = re.sub(\"(?!(([^']*'){2})*[^']*$)\\)\", '',line) #Step0:remove any \")\" from the content of columns\n",
    "            if line.lower().startswith('insert') and target_table in line:\n",
    "                fast_forward = False\n",
    "            if fast_forward:\n",
    "                continue\n",
    "            data = re.findall('\\([^\\)]*\\)', line) #Step1: get the content between parentesis (i.e., insert line)\n",
    "            try:\n",
    "                newline = data[0].strip('()') #Step2:remove parenthesis\n",
    "                newline=newline.replace('`','') #Step3: remove ` (usually in table names)                 \n",
    "#                 newline=re.sub(r'(?!(([^\\']*\\'){2})*[^\\']*$),','', newline) #Step4: remove commas from the content of columns\n",
    "                newline=newline.replace('\\'','') #Step5: remove single quotes\n",
    "                newline=newline.replace(', ', ',') #Step6: remove single spaces after comma (i.e., in the beginning of a column)\n",
    "                sio.write(newline)\n",
    "                sio.write(\"\\n\")\n",
    "            except IndexError:\n",
    "                pass\n",
    "            if line.endswith(';'):\n",
    "                break\n",
    "    sio.seek(0)\n",
    "    return sio"
   ]
  },
  {
   "cell_type": "markdown",
   "metadata": {
    "deletable": true,
    "editable": true
   },
   "source": [
    "## * Converter functions for formatting content of columns\n",
    "Attention, it is better to perform the conversion based on a series than a string (http://stackoverflow.com/questions/42462906/pandas-read-csv-converters-performance-issue)"
   ]
  },
  {
   "cell_type": "code",
   "execution_count": 280,
   "metadata": {
    "collapsed": true,
    "deletable": true,
    "editable": true
   },
   "outputs": [],
   "source": [
    "def tolowercase(series):\n",
    "    return series.str.lower()"
   ]
  },
  {
   "cell_type": "code",
   "execution_count": 281,
   "metadata": {
    "collapsed": true,
    "deletable": true,
    "editable": true
   },
   "outputs": [],
   "source": [
    "def strip_singlequote(series):\n",
    "    return series.str.strip('\\'')"
   ]
  },
  {
   "cell_type": "code",
   "execution_count": 431,
   "metadata": {
    "collapsed": true,
    "deletable": true,
    "editable": true
   },
   "outputs": [],
   "source": [
    "def timestamp2datetime(series):\n",
    "    return  pd.to_datetime(series,unit='s',errors='coerce')"
   ]
  },
  {
   "cell_type": "code",
   "execution_count": 432,
   "metadata": {
    "collapsed": true,
    "deletable": true,
    "editable": true
   },
   "outputs": [],
   "source": [
    "def datetimestring2datetime(series):\n",
    "    return  pd.to_datetime(series, format='%d-%m-%Y %H:%M',errors='coerce')  "
   ]
  },
  {
   "cell_type": "code",
   "execution_count": 433,
   "metadata": {
    "collapsed": true,
    "deletable": true,
    "editable": true
   },
   "outputs": [],
   "source": [
    "def datetimeinvertedstring2datetime(series):\n",
    "    return pd.to_datetime(series, format='%Y-%m-%d %H:%M:%S',errors='coerce')"
   ]
  },
  {
   "cell_type": "code",
   "execution_count": 434,
   "metadata": {
    "collapsed": true,
    "deletable": true,
    "editable": true
   },
   "outputs": [],
   "source": [
    "def datetimeampm2datetime(series):\n",
    "    return  pd.to_datetime(series,format='%d-%m-%Y %I:%M:%S %p',errors='coerce')"
   ]
  },
  {
   "cell_type": "code",
   "execution_count": 435,
   "metadata": {
    "collapsed": true,
    "deletable": true,
    "editable": true
   },
   "outputs": [],
   "source": [
    "def datetimemdyampm2datetime(series):\n",
    "    return  pd.to_datetime(series, format='%m-%d-%Y %I:%M:%S %p',errors='coerce') "
   ]
  },
  {
   "cell_type": "code",
   "execution_count": 287,
   "metadata": {
    "collapsed": true,
    "deletable": true,
    "editable": true
   },
   "outputs": [],
   "source": [
    "def strip_parenthesisandsemicolon(series):\n",
    "    return series.str.strip(');')"
   ]
  },
  {
   "cell_type": "code",
   "execution_count": 288,
   "metadata": {
    "collapsed": true,
    "deletable": true,
    "editable": true
   },
   "outputs": [],
   "source": [
    "def strip_insertintologs(series):\n",
    "    return int(series.str.strip('INSERT INTO `logs` VALUES ('))"
   ]
  },
  {
   "cell_type": "code",
   "execution_count": 308,
   "metadata": {
    "collapsed": true,
    "deletable": true,
    "editable": true
   },
   "outputs": [],
   "source": [
    "def strip_tab(series):\n",
    "    return series.str.strip('\\t')"
   ]
  },
  {
   "cell_type": "markdown",
   "metadata": {
    "deletable": true,
    "editable": true
   },
   "source": [
    "<h2 align='center'>======================================================================\n",
    "Adapting EACH existing table\n",
    "======================================================================</h2>"
   ]
  },
  {
   "cell_type": "markdown",
   "metadata": {
    "deletable": true,
    "editable": true
   },
   "source": [
    "## 6.1. Table: 'block_time'"
   ]
  },
  {
   "cell_type": "markdown",
   "metadata": {
    "deletable": true,
    "editable": true
   },
   "source": [
    "### How this table looks like without modification?"
   ]
  },
  {
   "cell_type": "code",
   "execution_count": 290,
   "metadata": {
    "collapsed": false,
    "deletable": true,
    "editable": true
   },
   "outputs": [
    {
     "data": {
      "text/html": [
       "<div>\n",
       "<table border=\"1\" class=\"dataframe\">\n",
       "  <thead>\n",
       "    <tr style=\"text-align: right;\">\n",
       "      <th></th>\n",
       "      <th>message2</th>\n",
       "    </tr>\n",
       "  </thead>\n",
       "  <tbody>\n",
       "    <tr>\n",
       "      <th>0</th>\n",
       "      <td>180</td>\n",
       "    </tr>\n",
       "  </tbody>\n",
       "</table>\n",
       "</div>"
      ],
      "text/plain": [
       "   message2\n",
       "0       180"
      ]
     },
     "execution_count": 290,
     "metadata": {},
     "output_type": "execute_result"
    }
   ],
   "source": [
    "tablename='block_time'\n",
    "\n",
    "pd.read_csv(read_inserted_table(dumpfile, tablename),\n",
    "            delimiter=\",\",\n",
    "            error_bad_lines=False).head(10)"
   ]
  },
  {
   "cell_type": "markdown",
   "metadata": {
    "deletable": true,
    "editable": true
   },
   "source": [
    "#### Q1: Is this table different from other previous loaded table? YES\n",
    "#### Q2: Is this table similar to any table in the generic Booter database schema? NO\n",
    "    - This table looks like: \n",
    "    \n",
    "#### Q3: Are there modifications required? \n",
    "    - On the table name: \n",
    "        o \n",
    "    - On the column type/converter: \n",
    "        o \n",
    "    - On the column name:\n",
    "        o \n",
    "    - Split columns:\n",
    "        o \n",
    "    - Add required columns:\n",
    "        o "
   ]
  },
  {
   "cell_type": "markdown",
   "metadata": {
    "deletable": true,
    "editable": true
   },
   "source": [
    "## 6.2. Table: 'block_time_gold'"
   ]
  },
  {
   "cell_type": "markdown",
   "metadata": {
    "deletable": true,
    "editable": true
   },
   "source": [
    "### How this table looks like without modification?"
   ]
  },
  {
   "cell_type": "code",
   "execution_count": 291,
   "metadata": {
    "collapsed": false,
    "deletable": true,
    "editable": true
   },
   "outputs": [
    {
     "data": {
      "text/html": [
       "<div>\n",
       "<table border=\"1\" class=\"dataframe\">\n",
       "  <thead>\n",
       "    <tr style=\"text-align: right;\">\n",
       "      <th></th>\n",
       "      <th>message14</th>\n",
       "    </tr>\n",
       "  </thead>\n",
       "  <tbody>\n",
       "    <tr>\n",
       "      <th>0</th>\n",
       "      <td>120</td>\n",
       "    </tr>\n",
       "  </tbody>\n",
       "</table>\n",
       "</div>"
      ],
      "text/plain": [
       "   message14\n",
       "0        120"
      ]
     },
     "execution_count": 291,
     "metadata": {},
     "output_type": "execute_result"
    }
   ],
   "source": [
    "tablename='block_time_gold'\n",
    "\n",
    "pd.read_csv(read_inserted_table(dumpfile, tablename),\n",
    "            delimiter=\",\",\n",
    "            error_bad_lines=False).head(10)"
   ]
  },
  {
   "cell_type": "markdown",
   "metadata": {
    "deletable": true,
    "editable": true
   },
   "source": [
    "#### Q1: Is this table different from other previous loaded table? YES\n",
    "#### Q2: Is this table similar to any table in the generic Booter database schema? NO\n",
    "    - This table looks like: \n",
    "    \n",
    "#### Q3: Are there modifications required? \n",
    "    - On the table name: \n",
    "        o \n",
    "    - On the column type/converter: \n",
    "        o \n",
    "    - On the column name:\n",
    "        o \n",
    "    - Split columns:\n",
    "        o \n",
    "    - Add required columns:\n",
    "        o "
   ]
  },
  {
   "cell_type": "markdown",
   "metadata": {
    "deletable": true,
    "editable": true
   },
   "source": [
    "## 6.3. Table: 'boot_time'"
   ]
  },
  {
   "cell_type": "markdown",
   "metadata": {
    "deletable": true,
    "editable": true
   },
   "source": [
    "### How this table looks like without modification?"
   ]
  },
  {
   "cell_type": "code",
   "execution_count": 292,
   "metadata": {
    "collapsed": false,
    "deletable": true,
    "editable": true
   },
   "outputs": [
    {
     "data": {
      "text/html": [
       "<div>\n",
       "<table border=\"1\" class=\"dataframe\">\n",
       "  <thead>\n",
       "    <tr style=\"text-align: right;\">\n",
       "      <th></th>\n",
       "      <th>message</th>\n",
       "    </tr>\n",
       "  </thead>\n",
       "  <tbody>\n",
       "    <tr>\n",
       "      <th>0</th>\n",
       "      <td>120</td>\n",
       "    </tr>\n",
       "  </tbody>\n",
       "</table>\n",
       "</div>"
      ],
      "text/plain": [
       "   message\n",
       "0      120"
      ]
     },
     "execution_count": 292,
     "metadata": {},
     "output_type": "execute_result"
    }
   ],
   "source": [
    "tablename='boot_time'\n",
    "\n",
    "pd.read_csv(read_inserted_table(dumpfile, tablename),\n",
    "            delimiter=\",\",\n",
    "            error_bad_lines=False).head(10)"
   ]
  },
  {
   "cell_type": "markdown",
   "metadata": {
    "deletable": true,
    "editable": true
   },
   "source": [
    "#### Q1: Is this table different from other previous loaded table? YES\n",
    "#### Q2: Is this table similar to any table in the generic Booter database schema? NO\n",
    "    - This table looks like: \n",
    "    \n",
    "#### Q3: Are there modifications required? \n",
    "    - On the table name: \n",
    "        o \n",
    "    - On the column type/converter: \n",
    "        o \n",
    "    - On the column name:\n",
    "        o \n",
    "    - Split columns:\n",
    "        o \n",
    "    - Add required columns:\n",
    "        o "
   ]
  },
  {
   "cell_type": "markdown",
   "metadata": {
    "deletable": true,
    "editable": true
   },
   "source": [
    "## 6.4. Table: 'boot_time_gold'"
   ]
  },
  {
   "cell_type": "markdown",
   "metadata": {
    "deletable": true,
    "editable": true
   },
   "source": [
    "### How this table looks like without modification?"
   ]
  },
  {
   "cell_type": "code",
   "execution_count": 293,
   "metadata": {
    "collapsed": false,
    "deletable": true,
    "editable": true
   },
   "outputs": [
    {
     "data": {
      "text/html": [
       "<div>\n",
       "<table border=\"1\" class=\"dataframe\">\n",
       "  <thead>\n",
       "    <tr style=\"text-align: right;\">\n",
       "      <th></th>\n",
       "      <th>message13</th>\n",
       "    </tr>\n",
       "  </thead>\n",
       "  <tbody>\n",
       "    <tr>\n",
       "      <th>0</th>\n",
       "      <td>180</td>\n",
       "    </tr>\n",
       "  </tbody>\n",
       "</table>\n",
       "</div>"
      ],
      "text/plain": [
       "   message13\n",
       "0        180"
      ]
     },
     "execution_count": 293,
     "metadata": {},
     "output_type": "execute_result"
    }
   ],
   "source": [
    "tablename='boot_time_gold'\n",
    "\n",
    "pd.read_csv(read_inserted_table(dumpfile, tablename),\n",
    "            delimiter=\",\",\n",
    "            error_bad_lines=False).head(10)"
   ]
  },
  {
   "cell_type": "markdown",
   "metadata": {
    "deletable": true,
    "editable": true
   },
   "source": [
    "#### Q1: Is this table different from other previous loaded table? YES\n",
    "#### Q2: Is this table similar to any table in the generic Booter database schema? NO\n",
    "    - This table looks like: \n",
    "    \n",
    "#### Q3: Are there modifications required? \n",
    "    - On the table name: \n",
    "        o \n",
    "    - On the column type/converter: \n",
    "        o \n",
    "    - On the column name:\n",
    "        o \n",
    "    - Split columns:\n",
    "        o \n",
    "    - Add required columns:\n",
    "        o "
   ]
  },
  {
   "cell_type": "markdown",
   "metadata": {
    "deletable": true,
    "editable": true
   },
   "source": [
    "## 6.5. Table: 'chat'"
   ]
  },
  {
   "cell_type": "markdown",
   "metadata": {
    "deletable": true,
    "editable": true
   },
   "source": [
    "### How this table looks like without modification?"
   ]
  },
  {
   "cell_type": "code",
   "execution_count": 294,
   "metadata": {
    "collapsed": false,
    "deletable": true,
    "editable": true
   },
   "outputs": [
    {
     "data": {
      "text/html": [
       "<div>\n",
       "<table border=\"1\" class=\"dataframe\">\n",
       "  <thead>\n",
       "    <tr style=\"text-align: right;\">\n",
       "      <th></th>\n",
       "      <th>message8</th>\n",
       "    </tr>\n",
       "  </thead>\n",
       "  <tbody>\n",
       "    <tr>\n",
       "      <th>0</th>\n",
       "      <td>at3661</td>\n",
       "    </tr>\n",
       "  </tbody>\n",
       "</table>\n",
       "</div>"
      ],
      "text/plain": [
       "  message8\n",
       "0   at3661"
      ]
     },
     "execution_count": 294,
     "metadata": {},
     "output_type": "execute_result"
    }
   ],
   "source": [
    "tablename='chat'\n",
    "\n",
    "pd.read_csv(read_inserted_table(dumpfile, tablename),\n",
    "            delimiter=\",\",\n",
    "            error_bad_lines=False).head(10)"
   ]
  },
  {
   "cell_type": "markdown",
   "metadata": {
    "deletable": true,
    "editable": true
   },
   "source": [
    "#### Q1: Is this table different from other previous loaded table? YES\n",
    "#### Q2: Is this table similar to any table in the generic Booter database schema? NO\n",
    "    - This table looks like: \n",
    "    \n",
    "#### Q3: Are there modifications required? \n",
    "    - On the table name: \n",
    "        o \n",
    "    - On the column type/converter: \n",
    "        o \n",
    "    - On the column name:\n",
    "        o \n",
    "    - Split columns:\n",
    "        o \n",
    "    - Add required columns:\n",
    "        o "
   ]
  },
  {
   "cell_type": "markdown",
   "metadata": {
    "deletable": true,
    "editable": true
   },
   "source": [
    "## 6.6. Table: 'enemies'"
   ]
  },
  {
   "cell_type": "markdown",
   "metadata": {
    "deletable": true,
    "editable": true
   },
   "source": [
    "### How this table looks like without modification?"
   ]
  },
  {
   "cell_type": "code",
   "execution_count": 295,
   "metadata": {
    "collapsed": false,
    "deletable": true,
    "editable": true
   },
   "outputs": [
    {
     "data": {
      "text/html": [
       "<div>\n",
       "<table border=\"1\" class=\"dataframe\">\n",
       "  <thead>\n",
       "    <tr style=\"text-align: right;\">\n",
       "      <th></th>\n",
       "      <th>id</th>\n",
       "      <th>ip</th>\n",
       "      <th>notes</th>\n",
       "      <th>enemy</th>\n",
       "    </tr>\n",
       "  </thead>\n",
       "  <tbody>\n",
       "    <tr>\n",
       "      <th>0</th>\n",
       "      <td>11</td>\n",
       "      <td>\\t127.0.0.1</td>\n",
       "      <td>\\tHe makes fun of me ALOT</td>\n",
       "      <td>\\t</td>\n",
       "    </tr>\n",
       "  </tbody>\n",
       "</table>\n",
       "</div>"
      ],
      "text/plain": [
       "   id           ip                      notes enemy\n",
       "0  11  \\t127.0.0.1  \\tHe makes fun of me ALOT    \\t"
      ]
     },
     "execution_count": 295,
     "metadata": {},
     "output_type": "execute_result"
    }
   ],
   "source": [
    "tablename='enemies'\n",
    "\n",
    "pd.read_csv(read_inserted_table(dumpfile, tablename),\n",
    "            delimiter=\",\",\n",
    "            error_bad_lines=False).head(10)"
   ]
  },
  {
   "cell_type": "markdown",
   "metadata": {
    "deletable": true,
    "editable": true
   },
   "source": [
    "#### Q1: Is this table different from other previous loaded table? YES\n",
    "#### Q2: Is this table similar to any table in the generic Booter database schema? YES BUT append\n",
    "    - This table looks like: friendsenemies\n",
    "    \n",
    "#### Q3: Are there modifications required? \n",
    "    - On the table name: \n",
    "        o enemies -> friendsenemies\n",
    "    - On the column type/converter: \n",
    "        o \n",
    "    - On the column name:\n",
    "        o notes -> note\n",
    "    - Split columns:\n",
    "        o \n",
    "    - Add required columns:\n",
    "        o userid\n",
    "        o type = enemy"
   ]
  },
  {
   "cell_type": "markdown",
   "metadata": {
    "deletable": true,
    "editable": true
   },
   "source": [
    "### Modifying table: 'enemies'"
   ]
  },
  {
   "cell_type": "code",
   "execution_count": 310,
   "metadata": {
    "collapsed": false,
    "deletable": true,
    "editable": true
   },
   "outputs": [
    {
     "data": {
      "text/html": [
       "<div>\n",
       "<table border=\"1\" class=\"dataframe\">\n",
       "  <thead>\n",
       "    <tr style=\"text-align: right;\">\n",
       "      <th></th>\n",
       "      <th>id</th>\n",
       "      <th>ip</th>\n",
       "      <th>note</th>\n",
       "      <th>enemy</th>\n",
       "      <th>userid</th>\n",
       "      <th>type</th>\n",
       "    </tr>\n",
       "  </thead>\n",
       "  <tbody>\n",
       "    <tr>\n",
       "      <th>0</th>\n",
       "      <td>11</td>\n",
       "      <td>127.0.0.1</td>\n",
       "      <td>127.0.0.1</td>\n",
       "      <td>\\t</td>\n",
       "      <td>NaN</td>\n",
       "      <td>enemy</td>\n",
       "    </tr>\n",
       "  </tbody>\n",
       "</table>\n",
       "</div>"
      ],
      "text/plain": [
       "   id         ip       note enemy  userid   type\n",
       "0  11  127.0.0.1  127.0.0.1    \\t     NaN  enemy"
      ]
     },
     "execution_count": 310,
     "metadata": {},
     "output_type": "execute_result"
    }
   ],
   "source": [
    "# Loading table with the correct name\n",
    "df_friendsenemies = pd.read_csv(read_inserted_table(dumpfile, tablename),delimiter=\",\", error_bad_lines=False)\n",
    "                        \n",
    "# Applying converters on the columns of the table\n",
    "df_friendsenemies['ip']=strip_tab(df_friendsenemies['ip'])\n",
    "df_friendsenemies['notes']=strip_tab(df_friendsenemies['ip'])\n",
    "\n",
    "# Changing names of columns\n",
    "df_friendsenemies.rename(columns = {'notes': 'note'},\n",
    "                         inplace=True)\n",
    "\n",
    "# Creating empty columns (with \"\" [for future string] or np.nan [for future float])\n",
    "df_friendsenemies['userid'] = np.nan\n",
    "df_friendsenemies['type'] ='enemy'\n",
    "\n",
    "# Showing some lines after adapt the table\n",
    "df_friendsenemies.head(10)"
   ]
  },
  {
   "cell_type": "markdown",
   "metadata": {
    "deletable": true,
    "editable": true
   },
   "source": [
    "## 6.7. Table: 'feedback_categories'"
   ]
  },
  {
   "cell_type": "markdown",
   "metadata": {
    "deletable": true,
    "editable": true
   },
   "source": [
    "### How this table looks like without modification?"
   ]
  },
  {
   "cell_type": "code",
   "execution_count": 311,
   "metadata": {
    "collapsed": false,
    "deletable": true,
    "editable": true
   },
   "outputs": [
    {
     "data": {
      "text/html": [
       "<div>\n",
       "<table border=\"1\" class=\"dataframe\">\n",
       "  <thead>\n",
       "    <tr style=\"text-align: right;\">\n",
       "      <th></th>\n",
       "      <th>CategoryId</th>\n",
       "      <th>CategoryName</th>\n",
       "      <th>IsEnabled</th>\n",
       "    </tr>\n",
       "  </thead>\n",
       "  <tbody>\n",
       "    <tr>\n",
       "      <th>0</th>\n",
       "      <td>1</td>\n",
       "      <td>\\tBug</td>\n",
       "      <td>1</td>\n",
       "    </tr>\n",
       "    <tr>\n",
       "      <th>1</th>\n",
       "      <td>2</td>\n",
       "      <td>\\tSite Content</td>\n",
       "      <td>1</td>\n",
       "    </tr>\n",
       "    <tr>\n",
       "      <th>2</th>\n",
       "      <td>3</td>\n",
       "      <td>\\tSuggestion</td>\n",
       "      <td>1</td>\n",
       "    </tr>\n",
       "    <tr>\n",
       "      <th>3</th>\n",
       "      <td>4</td>\n",
       "      <td>\\tCompliment</td>\n",
       "      <td>1</td>\n",
       "    </tr>\n",
       "    <tr>\n",
       "      <th>4</th>\n",
       "      <td>5</td>\n",
       "      <td>\\tOther</td>\n",
       "      <td>1</td>\n",
       "    </tr>\n",
       "  </tbody>\n",
       "</table>\n",
       "</div>"
      ],
      "text/plain": [
       "   CategoryId    CategoryName  IsEnabled\n",
       "0           1           \\tBug          1\n",
       "1           2  \\tSite Content          1\n",
       "2           3    \\tSuggestion          1\n",
       "3           4    \\tCompliment          1\n",
       "4           5         \\tOther          1"
      ]
     },
     "execution_count": 311,
     "metadata": {},
     "output_type": "execute_result"
    }
   ],
   "source": [
    "tablename='feedback_categories'\n",
    "\n",
    "pd.read_csv(read_inserted_table(dumpfile, tablename),\n",
    "            delimiter=\",\",\n",
    "            error_bad_lines=False).head(10)"
   ]
  },
  {
   "cell_type": "markdown",
   "metadata": {
    "deletable": true,
    "editable": true
   },
   "source": [
    "#### Q1: Is this table different from other previous loaded table? YES\n",
    "#### Q2: Is this table similar to any table in the generic Booter database schema? NO\n",
    "    - This table looks like: \n",
    "    \n",
    "#### Q3: Are there modifications required? \n",
    "    - On the table name: \n",
    "        o \n",
    "    - On the column type/converter: \n",
    "        o \n",
    "    - On the column name:\n",
    "        o \n",
    "    - Split columns:\n",
    "        o \n",
    "    - Add required columns:\n",
    "        o "
   ]
  },
  {
   "cell_type": "markdown",
   "metadata": {
    "deletable": true,
    "editable": true
   },
   "source": [
    "## 6.8. Table: 'feedback_page'"
   ]
  },
  {
   "cell_type": "markdown",
   "metadata": {
    "deletable": true,
    "editable": true
   },
   "source": [
    "### How this table looks like without modification?"
   ]
  },
  {
   "cell_type": "code",
   "execution_count": 313,
   "metadata": {
    "collapsed": false,
    "deletable": true,
    "editable": true
   },
   "outputs": [
    {
     "data": {
      "text/html": [
       "<div>\n",
       "<table border=\"1\" class=\"dataframe\">\n",
       "  <thead>\n",
       "    <tr style=\"text-align: right;\">\n",
       "      <th></th>\n",
       "      <th>PageId</th>\n",
       "      <th>PageTitle</th>\n",
       "      <th>Subtitle</th>\n",
       "      <th>PageDescription</th>\n",
       "      <th>CompanyLogo</th>\n",
       "    </tr>\n",
       "  </thead>\n",
       "  <tbody>\n",
       "    <tr>\n",
       "      <th>0</th>\n",
       "      <td>1</td>\n",
       "      <td>\\tContact / User Feedback</td>\n",
       "      <td>\\tGreetings!</td>\n",
       "      <td>\\tPlease take a moment to fill out the feedbac...</td>\n",
       "      <td>\\t</td>\n",
       "    </tr>\n",
       "  </tbody>\n",
       "</table>\n",
       "</div>"
      ],
      "text/plain": [
       "   PageId                  PageTitle      Subtitle  \\\n",
       "0       1  \\tContact / User Feedback  \\tGreetings!   \n",
       "\n",
       "                                     PageDescription CompanyLogo  \n",
       "0  \\tPlease take a moment to fill out the feedbac...          \\t  "
      ]
     },
     "execution_count": 313,
     "metadata": {},
     "output_type": "execute_result"
    }
   ],
   "source": [
    "tablename='feedback_page'\n",
    "\n",
    "pd.read_csv(read_inserted_table(dumpfile, tablename),\n",
    "            delimiter=\",\",\n",
    "            error_bad_lines=False).head(10)"
   ]
  },
  {
   "cell_type": "markdown",
   "metadata": {
    "deletable": true,
    "editable": true
   },
   "source": [
    "#### Q1: Is this table different from other previous loaded table? YES\n",
    "#### Q2: Is this table similar to any table in the generic Booter database schema? NO\n",
    "    - This table looks like: \n",
    "    \n",
    "#### Q3: Are there modifications required? \n",
    "    - On the table name: \n",
    "        o \n",
    "    - On the column type/converter: \n",
    "        o \n",
    "    - On the column name:\n",
    "        o \n",
    "    - Split columns:\n",
    "        o \n",
    "    - Add required columns:\n",
    "        o "
   ]
  },
  {
   "cell_type": "markdown",
   "metadata": {
    "deletable": true,
    "editable": true
   },
   "source": [
    "## 6.9. Table: 'feedback_subcategories'"
   ]
  },
  {
   "cell_type": "markdown",
   "metadata": {
    "deletable": true,
    "editable": true
   },
   "source": [
    "### How this table looks like without modification?"
   ]
  },
  {
   "cell_type": "code",
   "execution_count": 314,
   "metadata": {
    "collapsed": false,
    "deletable": true,
    "editable": true
   },
   "outputs": [
    {
     "data": {
      "text/html": [
       "<div>\n",
       "<table border=\"1\" class=\"dataframe\">\n",
       "  <thead>\n",
       "    <tr style=\"text-align: right;\">\n",
       "      <th></th>\n",
       "      <th>SubcategoryId</th>\n",
       "      <th>CategoryId</th>\n",
       "      <th>SubcategoryName</th>\n",
       "      <th>CategoryName</th>\n",
       "      <th>IsEnabled</th>\n",
       "    </tr>\n",
       "  </thead>\n",
       "  <tbody>\n",
       "    <tr>\n",
       "      <th>0</th>\n",
       "      <td>1</td>\n",
       "      <td>\\t1</td>\n",
       "      <td>\\tBrowser not supported</td>\n",
       "      <td>\\tBug</td>\n",
       "      <td>1.0</td>\n",
       "    </tr>\n",
       "    <tr>\n",
       "      <th>1</th>\n",
       "      <td>2\\t1\\tCan\\t log in</td>\n",
       "      <td>\\tBug</td>\n",
       "      <td>\\t1</td>\n",
       "      <td>NaN</td>\n",
       "      <td>NaN</td>\n",
       "    </tr>\n",
       "    <tr>\n",
       "      <th>2</th>\n",
       "      <td>3</td>\n",
       "      <td>\\t1</td>\n",
       "      <td>\\tDisability enquiries</td>\n",
       "      <td>\\tBug</td>\n",
       "      <td>1.0</td>\n",
       "    </tr>\n",
       "    <tr>\n",
       "      <th>3</th>\n",
       "      <td>4</td>\n",
       "      <td>\\t1</td>\n",
       "      <td>\\tSite content</td>\n",
       "      <td>\\tBug</td>\n",
       "      <td>1.0</td>\n",
       "    </tr>\n",
       "    <tr>\n",
       "      <th>4</th>\n",
       "      <td>5</td>\n",
       "      <td>\\t1</td>\n",
       "      <td>\\tRegistration / Privacy</td>\n",
       "      <td>\\tBug</td>\n",
       "      <td>1.0</td>\n",
       "    </tr>\n",
       "    <tr>\n",
       "      <th>5</th>\n",
       "      <td>6</td>\n",
       "      <td>\\t1</td>\n",
       "      <td>\\tUsability and Design</td>\n",
       "      <td>\\tBug</td>\n",
       "      <td>1.0</td>\n",
       "    </tr>\n",
       "    <tr>\n",
       "      <th>6</th>\n",
       "      <td>7</td>\n",
       "      <td>\\t1</td>\n",
       "      <td>\\tObjectionable Content</td>\n",
       "      <td>\\tBug</td>\n",
       "      <td>1.0</td>\n",
       "    </tr>\n",
       "    <tr>\n",
       "      <th>7</th>\n",
       "      <td>8</td>\n",
       "      <td>\\t1</td>\n",
       "      <td>\\tOther</td>\n",
       "      <td>\\tBug</td>\n",
       "      <td>1.0</td>\n",
       "    </tr>\n",
       "    <tr>\n",
       "      <th>8</th>\n",
       "      <td>9</td>\n",
       "      <td>\\t2</td>\n",
       "      <td>\\tCopyright Violation</td>\n",
       "      <td>\\tSite Content</td>\n",
       "      <td>1.0</td>\n",
       "    </tr>\n",
       "    <tr>\n",
       "      <th>9</th>\n",
       "      <td>10</td>\n",
       "      <td>\\t2</td>\n",
       "      <td>\\tFraud Report</td>\n",
       "      <td>\\tSite Content</td>\n",
       "      <td>1.0</td>\n",
       "    </tr>\n",
       "  </tbody>\n",
       "</table>\n",
       "</div>"
      ],
      "text/plain": [
       "        SubcategoryId CategoryId           SubcategoryName    CategoryName  \\\n",
       "0                   1        \\t1   \\tBrowser not supported           \\tBug   \n",
       "1  2\\t1\\tCan\\t log in      \\tBug                       \\t1             NaN   \n",
       "2                   3        \\t1    \\tDisability enquiries           \\tBug   \n",
       "3                   4        \\t1            \\tSite content           \\tBug   \n",
       "4                   5        \\t1  \\tRegistration / Privacy           \\tBug   \n",
       "5                   6        \\t1    \\tUsability and Design           \\tBug   \n",
       "6                   7        \\t1   \\tObjectionable Content           \\tBug   \n",
       "7                   8        \\t1                   \\tOther           \\tBug   \n",
       "8                   9        \\t2     \\tCopyright Violation  \\tSite Content   \n",
       "9                  10        \\t2            \\tFraud Report  \\tSite Content   \n",
       "\n",
       "   IsEnabled  \n",
       "0        1.0  \n",
       "1        NaN  \n",
       "2        1.0  \n",
       "3        1.0  \n",
       "4        1.0  \n",
       "5        1.0  \n",
       "6        1.0  \n",
       "7        1.0  \n",
       "8        1.0  \n",
       "9        1.0  "
      ]
     },
     "execution_count": 314,
     "metadata": {},
     "output_type": "execute_result"
    }
   ],
   "source": [
    "tablename='feedback_subcategories'\n",
    "\n",
    "pd.read_csv(read_inserted_table(dumpfile, tablename),\n",
    "            delimiter=\",\",\n",
    "            error_bad_lines=False).head(10)"
   ]
  },
  {
   "cell_type": "markdown",
   "metadata": {
    "deletable": true,
    "editable": true
   },
   "source": [
    "#### Q1: Is this table different from other previous loaded table? YES\n",
    "#### Q2: Is this table similar to any table in the generic Booter database schema? NO\n",
    "    - This table looks like: \n",
    "    \n",
    "#### Q3: Are there modifications required? \n",
    "    - On the table name: \n",
    "        o \n",
    "    - On the column type/converter: \n",
    "        o \n",
    "    - On the column name:\n",
    "        o \n",
    "    - Split columns:\n",
    "        o \n",
    "    - Add required columns:\n",
    "        o "
   ]
  },
  {
   "cell_type": "markdown",
   "metadata": {
    "deletable": true,
    "editable": true
   },
   "source": [
    "## 6.10. Table: 'friends'"
   ]
  },
  {
   "cell_type": "markdown",
   "metadata": {
    "deletable": true,
    "editable": true
   },
   "source": [
    "### How this table looks like without modification?"
   ]
  },
  {
   "cell_type": "code",
   "execution_count": 315,
   "metadata": {
    "collapsed": false,
    "deletable": true,
    "editable": true
   },
   "outputs": [
    {
     "data": {
      "text/html": [
       "<div>\n",
       "<table border=\"1\" class=\"dataframe\">\n",
       "  <thead>\n",
       "    <tr style=\"text-align: right;\">\n",
       "      <th></th>\n",
       "      <th>id</th>\n",
       "      <th>ip</th>\n",
       "      <th>notes</th>\n",
       "      <th>friend</th>\n",
       "    </tr>\n",
       "  </thead>\n",
       "  <tbody>\n",
       "    <tr>\n",
       "      <th>0</th>\n",
       "      <td>6</td>\n",
       "      <td>\\t97.127.181.191</td>\n",
       "      <td>\\toh Beats</td>\n",
       "      <td>\\t</td>\n",
       "    </tr>\n",
       "    <tr>\n",
       "      <th>1</th>\n",
       "      <td>5</td>\n",
       "      <td>\\t70.181.91.70</td>\n",
       "      <td>\\tDxre</td>\n",
       "      <td>\\t</td>\n",
       "    </tr>\n",
       "  </tbody>\n",
       "</table>\n",
       "</div>"
      ],
      "text/plain": [
       "   id                ip       notes friend\n",
       "0   6  \\t97.127.181.191  \\toh Beats     \\t\n",
       "1   5    \\t70.181.91.70      \\tDxre     \\t"
      ]
     },
     "execution_count": 315,
     "metadata": {},
     "output_type": "execute_result"
    }
   ],
   "source": [
    "tablename='friends'\n",
    "\n",
    "pd.read_csv(read_inserted_table(dumpfile, tablename),\n",
    "            delimiter=\",\",\n",
    "            error_bad_lines=False).head(10)"
   ]
  },
  {
   "cell_type": "markdown",
   "metadata": {
    "deletable": true,
    "editable": true
   },
   "source": [
    "#### Q1: Is this table different from other previous loaded table? YES\n",
    "#### Q2: Is this table similar to any table in the generic Booter database schema? YES but append\n",
    "    - This table looks like: friendsenemies\n",
    "    \n",
    "#### Q3: Are there modifications required? \n",
    "    - On the table name: \n",
    "        o friends -> friendsenemies_temp\n",
    "    - On the column type/converter: \n",
    "        o \n",
    "    - On the column name:\n",
    "        o notes -> note\n",
    "    - Split columns:\n",
    "        o \n",
    "    - Add required columns:\n",
    "        o userid\n",
    "        o type = friend"
   ]
  },
  {
   "cell_type": "markdown",
   "metadata": {
    "deletable": true,
    "editable": true
   },
   "source": [
    "### Modifying table: 'friends'"
   ]
  },
  {
   "cell_type": "code",
   "execution_count": 316,
   "metadata": {
    "collapsed": false,
    "deletable": true,
    "editable": true
   },
   "outputs": [
    {
     "data": {
      "text/html": [
       "<div>\n",
       "<table border=\"1\" class=\"dataframe\">\n",
       "  <thead>\n",
       "    <tr style=\"text-align: right;\">\n",
       "      <th></th>\n",
       "      <th>id</th>\n",
       "      <th>ip</th>\n",
       "      <th>note</th>\n",
       "      <th>friend</th>\n",
       "      <th>userid</th>\n",
       "      <th>type</th>\n",
       "    </tr>\n",
       "  </thead>\n",
       "  <tbody>\n",
       "    <tr>\n",
       "      <th>0</th>\n",
       "      <td>6</td>\n",
       "      <td>97.127.181.191</td>\n",
       "      <td>oh Beats</td>\n",
       "      <td></td>\n",
       "      <td>NaN</td>\n",
       "      <td>friend</td>\n",
       "    </tr>\n",
       "    <tr>\n",
       "      <th>1</th>\n",
       "      <td>5</td>\n",
       "      <td>70.181.91.70</td>\n",
       "      <td>Dxre</td>\n",
       "      <td></td>\n",
       "      <td>NaN</td>\n",
       "      <td>friend</td>\n",
       "    </tr>\n",
       "  </tbody>\n",
       "</table>\n",
       "</div>"
      ],
      "text/plain": [
       "   id              ip      note friend  userid    type\n",
       "0   6  97.127.181.191  oh Beats            NaN  friend\n",
       "1   5    70.181.91.70      Dxre            NaN  friend"
      ]
     },
     "execution_count": 316,
     "metadata": {},
     "output_type": "execute_result"
    }
   ],
   "source": [
    "### Loading the column converting columns with predefined functions\n",
    "df_friendsenemies_temp = pd.read_csv(read_inserted_table(dumpfile, tablename),\n",
    "                        delimiter=\",\",\n",
    "                        error_bad_lines=False)\n",
    "\n",
    "# Converters                                     \n",
    "df_friendsenemies_temp['ip']=strip_tab(df_friendsenemies_temp['ip'])\n",
    "df_friendsenemies_temp['notes']=strip_tab(df_friendsenemies_temp['notes'])\n",
    "df_friendsenemies_temp['friend']=strip_tab(df_friendsenemies_temp['friend'])\n",
    "\n",
    "###Changing names of columns\n",
    "df_friendsenemies_temp.rename(columns = {   'notes': 'note'},\n",
    "                         inplace=True)\n",
    "\n",
    "###Creating empty columns (with \"\" [for future string] or np.nan [for future float])\n",
    "df_friendsenemies_temp['userid'] = np.nan\n",
    "df_friendsenemies_temp['type'] ='friend'\n",
    "\n",
    "###Showing some lines after adapt the table\n",
    "df_friendsenemies_temp.head(10)"
   ]
  },
  {
   "cell_type": "code",
   "execution_count": 317,
   "metadata": {
    "collapsed": false,
    "deletable": true,
    "editable": true
   },
   "outputs": [],
   "source": [
    "df_friendsenemies=df_friendsenemies.append(df_friendsenemies_temp)"
   ]
  },
  {
   "cell_type": "markdown",
   "metadata": {
    "deletable": true,
    "editable": true
   },
   "source": [
    "## 6.11. Table: 'log'"
   ]
  },
  {
   "cell_type": "markdown",
   "metadata": {
    "deletable": true,
    "editable": true
   },
   "source": [
    "### How this table looks like without modification?"
   ]
  },
  {
   "cell_type": "code",
   "execution_count": 318,
   "metadata": {
    "collapsed": false,
    "deletable": true,
    "editable": true
   },
   "outputs": [
    {
     "data": {
      "text/html": [
       "<div>\n",
       "<table border=\"1\" class=\"dataframe\">\n",
       "  <thead>\n",
       "    <tr style=\"text-align: right;\">\n",
       "      <th></th>\n",
       "      <th>ip</th>\n",
       "      <th>date</th>\n",
       "    </tr>\n",
       "  </thead>\n",
       "  <tbody>\n",
       "    <tr>\n",
       "      <th>0</th>\n",
       "      <td>173.245.55.76</td>\n",
       "      <td>\\tThursday 12th of April 2012 07:16:55 AM</td>\n",
       "    </tr>\n",
       "    <tr>\n",
       "      <th>1</th>\n",
       "      <td>173.245.55.76</td>\n",
       "      <td>\\tThursday 12th of April 2012 07:17:08 AM</td>\n",
       "    </tr>\n",
       "    <tr>\n",
       "      <th>2</th>\n",
       "      <td>173.245.55.76</td>\n",
       "      <td>\\tThursday 12th of April 2012 07:19:35 AM</td>\n",
       "    </tr>\n",
       "    <tr>\n",
       "      <th>3</th>\n",
       "      <td>173.245.55.76</td>\n",
       "      <td>\\tThursday 12th of April 2012 07:24:34 AM</td>\n",
       "    </tr>\n",
       "    <tr>\n",
       "      <th>4</th>\n",
       "      <td>173.245.55.76</td>\n",
       "      <td>\\tThursday 12th of April 2012 07:25:02 AM</td>\n",
       "    </tr>\n",
       "    <tr>\n",
       "      <th>5</th>\n",
       "      <td>173.245.55.76</td>\n",
       "      <td>\\tThursday 12th of April 2012 07:25:26 AM</td>\n",
       "    </tr>\n",
       "    <tr>\n",
       "      <th>6</th>\n",
       "      <td>173.245.55.76</td>\n",
       "      <td>\\tThursday 12th of April 2012 05:38:24 PM</td>\n",
       "    </tr>\n",
       "    <tr>\n",
       "      <th>7</th>\n",
       "      <td>74.125.16.85</td>\n",
       "      <td>\\tFriday 20th of April 2012 10:13:05 AM</td>\n",
       "    </tr>\n",
       "    <tr>\n",
       "      <th>8</th>\n",
       "      <td>58.28.211.196</td>\n",
       "      <td>\\tFriday 20th of April 2012 10:13:24 AM</td>\n",
       "    </tr>\n",
       "    <tr>\n",
       "      <th>9</th>\n",
       "      <td>88.114.167.33</td>\n",
       "      <td>\\tMonday 23rd of April 2012 10:03:09 PM</td>\n",
       "    </tr>\n",
       "  </tbody>\n",
       "</table>\n",
       "</div>"
      ],
      "text/plain": [
       "              ip                                       date\n",
       "0  173.245.55.76  \\tThursday 12th of April 2012 07:16:55 AM\n",
       "1  173.245.55.76  \\tThursday 12th of April 2012 07:17:08 AM\n",
       "2  173.245.55.76  \\tThursday 12th of April 2012 07:19:35 AM\n",
       "3  173.245.55.76  \\tThursday 12th of April 2012 07:24:34 AM\n",
       "4  173.245.55.76  \\tThursday 12th of April 2012 07:25:02 AM\n",
       "5  173.245.55.76  \\tThursday 12th of April 2012 07:25:26 AM\n",
       "6  173.245.55.76  \\tThursday 12th of April 2012 05:38:24 PM\n",
       "7   74.125.16.85    \\tFriday 20th of April 2012 10:13:05 AM\n",
       "8  58.28.211.196    \\tFriday 20th of April 2012 10:13:24 AM\n",
       "9  88.114.167.33    \\tMonday 23rd of April 2012 10:03:09 PM"
      ]
     },
     "execution_count": 318,
     "metadata": {},
     "output_type": "execute_result"
    }
   ],
   "source": [
    "tablename='log'\n",
    "\n",
    "# Only displaying the results\n",
    "pd.read_csv(read_inserted_table(dumpfile, tablename),\n",
    "            delimiter=\",\",\n",
    "            error_bad_lines=False).head(10)"
   ]
  },
  {
   "cell_type": "markdown",
   "metadata": {
    "deletable": true,
    "editable": true
   },
   "source": [
    "#### Q1: Is this table different from other previous loaded table? YES\n",
    "#### Q2: Is this table similar to any table in the generic Booter database schema? NO, it can be anything\n",
    "    - This table looks like: \n",
    "    \n",
    "#### Q3: Are there modifications required? \n",
    "    - On the table name: \n",
    "        o \n",
    "    - On the column type: \n",
    "        o    \n",
    "    - On the column name:\n",
    "        o \n",
    "    - Split columns:\n",
    "        o \n",
    "    - Add required columns:\n",
    "        o         "
   ]
  },
  {
   "cell_type": "markdown",
   "metadata": {
    "deletable": true,
    "editable": true
   },
   "source": [
    "## 6.12. Table: 'logs'"
   ]
  },
  {
   "cell_type": "markdown",
   "metadata": {
    "deletable": true,
    "editable": true
   },
   "source": [
    "### How this table looks like without modification?"
   ]
  },
  {
   "cell_type": "code",
   "execution_count": 319,
   "metadata": {
    "collapsed": false,
    "deletable": true,
    "editable": true
   },
   "outputs": [
    {
     "data": {
      "text/html": [
       "<div>\n",
       "<table border=\"1\" class=\"dataframe\">\n",
       "  <thead>\n",
       "    <tr style=\"text-align: right;\">\n",
       "      <th></th>\n",
       "      <th>username</th>\n",
       "      <th>ip</th>\n",
       "      <th>time</th>\n",
       "      <th>port</th>\n",
       "      <th>date</th>\n",
       "    </tr>\n",
       "  </thead>\n",
       "  <tbody>\n",
       "    <tr>\n",
       "      <th>0</th>\n",
       "      <td>theibel</td>\n",
       "      <td>\\t64.31.26.195</td>\n",
       "      <td>60</td>\n",
       "      <td>80</td>\n",
       "      <td>\\t04-24-2012 04:31:13 pm</td>\n",
       "    </tr>\n",
       "    <tr>\n",
       "      <th>1</th>\n",
       "      <td>theibel</td>\n",
       "      <td>\\t64.31.26.195</td>\n",
       "      <td>120</td>\n",
       "      <td>80</td>\n",
       "      <td>\\t04-24-2012 04:32:28 pm</td>\n",
       "    </tr>\n",
       "    <tr>\n",
       "      <th>2</th>\n",
       "      <td>theibel</td>\n",
       "      <td>\\t64.31.26.195</td>\n",
       "      <td>120</td>\n",
       "      <td>80</td>\n",
       "      <td>\\t04-24-2012 04:34:26 pm</td>\n",
       "    </tr>\n",
       "    <tr>\n",
       "      <th>3</th>\n",
       "      <td>ikaros</td>\n",
       "      <td>\\t122.149.144.156</td>\n",
       "      <td>60</td>\n",
       "      <td>3074</td>\n",
       "      <td>\\t04-24-2012 05:26:22 pm</td>\n",
       "    </tr>\n",
       "    <tr>\n",
       "      <th>4</th>\n",
       "      <td>ikaros</td>\n",
       "      <td>\\t122.149.144.156</td>\n",
       "      <td>60</td>\n",
       "      <td>3074</td>\n",
       "      <td>\\t04-24-2012 05:26:55 pm</td>\n",
       "    </tr>\n",
       "    <tr>\n",
       "      <th>5</th>\n",
       "      <td>ikaros</td>\n",
       "      <td>\\t75.134.113.125</td>\n",
       "      <td>30</td>\n",
       "      <td>3074</td>\n",
       "      <td>\\t04-24-2012 05:29:18 pm</td>\n",
       "    </tr>\n",
       "    <tr>\n",
       "      <th>6</th>\n",
       "      <td>ikaros</td>\n",
       "      <td>\\t75.134.113.125</td>\n",
       "      <td>30</td>\n",
       "      <td>80</td>\n",
       "      <td>\\t04-24-2012 05:29:52 pm</td>\n",
       "    </tr>\n",
       "    <tr>\n",
       "      <th>7</th>\n",
       "      <td>nokout</td>\n",
       "      <td>\\t208.110.86.101</td>\n",
       "      <td>120</td>\n",
       "      <td>25565</td>\n",
       "      <td>\\t04-24-2012 05:32:58 pm</td>\n",
       "    </tr>\n",
       "    <tr>\n",
       "      <th>8</th>\n",
       "      <td>nokout</td>\n",
       "      <td>\\t208.110.86.101</td>\n",
       "      <td>180</td>\n",
       "      <td>25565</td>\n",
       "      <td>\\t04-24-2012 05:39:36 pm</td>\n",
       "    </tr>\n",
       "    <tr>\n",
       "      <th>9</th>\n",
       "      <td>nokout</td>\n",
       "      <td>\\t208.110.86.101</td>\n",
       "      <td>160</td>\n",
       "      <td>25565</td>\n",
       "      <td>\\t04-24-2012 05:41:12 pm</td>\n",
       "    </tr>\n",
       "  </tbody>\n",
       "</table>\n",
       "</div>"
      ],
      "text/plain": [
       "  username                 ip  time   port                      date\n",
       "0  theibel     \\t64.31.26.195    60     80  \\t04-24-2012 04:31:13 pm\n",
       "1  theibel     \\t64.31.26.195   120     80  \\t04-24-2012 04:32:28 pm\n",
       "2  theibel     \\t64.31.26.195   120     80  \\t04-24-2012 04:34:26 pm\n",
       "3   ikaros  \\t122.149.144.156    60   3074  \\t04-24-2012 05:26:22 pm\n",
       "4   ikaros  \\t122.149.144.156    60   3074  \\t04-24-2012 05:26:55 pm\n",
       "5   ikaros   \\t75.134.113.125    30   3074  \\t04-24-2012 05:29:18 pm\n",
       "6   ikaros   \\t75.134.113.125    30     80  \\t04-24-2012 05:29:52 pm\n",
       "7   nokout   \\t208.110.86.101   120  25565  \\t04-24-2012 05:32:58 pm\n",
       "8   nokout   \\t208.110.86.101   180  25565  \\t04-24-2012 05:39:36 pm\n",
       "9   nokout   \\t208.110.86.101   160  25565  \\t04-24-2012 05:41:12 pm"
      ]
     },
     "execution_count": 319,
     "metadata": {},
     "output_type": "execute_result"
    }
   ],
   "source": [
    "tablename='logs'\n",
    "\n",
    "pd.read_csv(read_inserted_table(dumpfile, tablename),\n",
    "            delimiter=\",\",\n",
    "            error_bad_lines=False).head(10)"
   ]
  },
  {
   "cell_type": "markdown",
   "metadata": {
    "deletable": true,
    "editable": true
   },
   "source": [
    "#### Q1: Is this table different from other previous loaded table? YES\n",
    "#### Q2: Is this table similar to any table in the generic Booter database schema? YES\n",
    "    - This table looks like: attacks\n",
    "#### Q3: Are there modifications required? \n",
    "    - On the table name: \n",
    "        o logs => attacks\n",
    "    - On the column type: \n",
    "        o date -> datetimetabmdyampm2datetime() \n",
    "    - On the column name:\n",
    "        o ip -> targetip \n",
    "        o time -> duration \n",
    "    - Add required columns:\n",
    "        o id\n",
    "        o userid\n",
    "        o targeturl\n",
    "        o type\n",
    "    - Split columns:\n",
    "        o "
   ]
  },
  {
   "cell_type": "markdown",
   "metadata": {
    "deletable": true,
    "editable": true
   },
   "source": [
    "### Modifying table: 'logs'"
   ]
  },
  {
   "cell_type": "code",
   "execution_count": 321,
   "metadata": {
    "collapsed": false,
    "deletable": true,
    "editable": true
   },
   "outputs": [
    {
     "data": {
      "text/html": [
       "<div>\n",
       "<table border=\"1\" class=\"dataframe\">\n",
       "  <thead>\n",
       "    <tr style=\"text-align: right;\">\n",
       "      <th></th>\n",
       "      <th>username</th>\n",
       "      <th>targetip</th>\n",
       "      <th>duration</th>\n",
       "      <th>port</th>\n",
       "      <th>date</th>\n",
       "      <th>id</th>\n",
       "      <th>userid</th>\n",
       "      <th>type</th>\n",
       "      <th>targeturl</th>\n",
       "    </tr>\n",
       "  </thead>\n",
       "  <tbody>\n",
       "    <tr>\n",
       "      <th>0</th>\n",
       "      <td>theibel</td>\n",
       "      <td>64.31.26.195</td>\n",
       "      <td>60</td>\n",
       "      <td>80</td>\n",
       "      <td>2012-04-24 16:31:13</td>\n",
       "      <td>NaN</td>\n",
       "      <td>NaN</td>\n",
       "      <td></td>\n",
       "      <td></td>\n",
       "    </tr>\n",
       "    <tr>\n",
       "      <th>1</th>\n",
       "      <td>theibel</td>\n",
       "      <td>64.31.26.195</td>\n",
       "      <td>120</td>\n",
       "      <td>80</td>\n",
       "      <td>2012-04-24 16:32:28</td>\n",
       "      <td>NaN</td>\n",
       "      <td>NaN</td>\n",
       "      <td></td>\n",
       "      <td></td>\n",
       "    </tr>\n",
       "    <tr>\n",
       "      <th>2</th>\n",
       "      <td>theibel</td>\n",
       "      <td>64.31.26.195</td>\n",
       "      <td>120</td>\n",
       "      <td>80</td>\n",
       "      <td>2012-04-24 16:34:26</td>\n",
       "      <td>NaN</td>\n",
       "      <td>NaN</td>\n",
       "      <td></td>\n",
       "      <td></td>\n",
       "    </tr>\n",
       "    <tr>\n",
       "      <th>3</th>\n",
       "      <td>ikaros</td>\n",
       "      <td>122.149.144.156</td>\n",
       "      <td>60</td>\n",
       "      <td>3074</td>\n",
       "      <td>2012-04-24 17:26:22</td>\n",
       "      <td>NaN</td>\n",
       "      <td>NaN</td>\n",
       "      <td></td>\n",
       "      <td></td>\n",
       "    </tr>\n",
       "    <tr>\n",
       "      <th>4</th>\n",
       "      <td>ikaros</td>\n",
       "      <td>122.149.144.156</td>\n",
       "      <td>60</td>\n",
       "      <td>3074</td>\n",
       "      <td>2012-04-24 17:26:55</td>\n",
       "      <td>NaN</td>\n",
       "      <td>NaN</td>\n",
       "      <td></td>\n",
       "      <td></td>\n",
       "    </tr>\n",
       "    <tr>\n",
       "      <th>5</th>\n",
       "      <td>ikaros</td>\n",
       "      <td>75.134.113.125</td>\n",
       "      <td>30</td>\n",
       "      <td>3074</td>\n",
       "      <td>2012-04-24 17:29:18</td>\n",
       "      <td>NaN</td>\n",
       "      <td>NaN</td>\n",
       "      <td></td>\n",
       "      <td></td>\n",
       "    </tr>\n",
       "    <tr>\n",
       "      <th>6</th>\n",
       "      <td>ikaros</td>\n",
       "      <td>75.134.113.125</td>\n",
       "      <td>30</td>\n",
       "      <td>80</td>\n",
       "      <td>2012-04-24 17:29:52</td>\n",
       "      <td>NaN</td>\n",
       "      <td>NaN</td>\n",
       "      <td></td>\n",
       "      <td></td>\n",
       "    </tr>\n",
       "    <tr>\n",
       "      <th>7</th>\n",
       "      <td>nokout</td>\n",
       "      <td>208.110.86.101</td>\n",
       "      <td>120</td>\n",
       "      <td>25565</td>\n",
       "      <td>2012-04-24 17:32:58</td>\n",
       "      <td>NaN</td>\n",
       "      <td>NaN</td>\n",
       "      <td></td>\n",
       "      <td></td>\n",
       "    </tr>\n",
       "    <tr>\n",
       "      <th>8</th>\n",
       "      <td>nokout</td>\n",
       "      <td>208.110.86.101</td>\n",
       "      <td>180</td>\n",
       "      <td>25565</td>\n",
       "      <td>2012-04-24 17:39:36</td>\n",
       "      <td>NaN</td>\n",
       "      <td>NaN</td>\n",
       "      <td></td>\n",
       "      <td></td>\n",
       "    </tr>\n",
       "    <tr>\n",
       "      <th>9</th>\n",
       "      <td>nokout</td>\n",
       "      <td>208.110.86.101</td>\n",
       "      <td>160</td>\n",
       "      <td>25565</td>\n",
       "      <td>2012-04-24 17:41:12</td>\n",
       "      <td>NaN</td>\n",
       "      <td>NaN</td>\n",
       "      <td></td>\n",
       "      <td></td>\n",
       "    </tr>\n",
       "  </tbody>\n",
       "</table>\n",
       "</div>"
      ],
      "text/plain": [
       "  username         targetip  duration   port                date  id  userid  \\\n",
       "0  theibel     64.31.26.195        60     80 2012-04-24 16:31:13 NaN     NaN   \n",
       "1  theibel     64.31.26.195       120     80 2012-04-24 16:32:28 NaN     NaN   \n",
       "2  theibel     64.31.26.195       120     80 2012-04-24 16:34:26 NaN     NaN   \n",
       "3   ikaros  122.149.144.156        60   3074 2012-04-24 17:26:22 NaN     NaN   \n",
       "4   ikaros  122.149.144.156        60   3074 2012-04-24 17:26:55 NaN     NaN   \n",
       "5   ikaros   75.134.113.125        30   3074 2012-04-24 17:29:18 NaN     NaN   \n",
       "6   ikaros   75.134.113.125        30     80 2012-04-24 17:29:52 NaN     NaN   \n",
       "7   nokout   208.110.86.101       120  25565 2012-04-24 17:32:58 NaN     NaN   \n",
       "8   nokout   208.110.86.101       180  25565 2012-04-24 17:39:36 NaN     NaN   \n",
       "9   nokout   208.110.86.101       160  25565 2012-04-24 17:41:12 NaN     NaN   \n",
       "\n",
       "  type targeturl  \n",
       "0                 \n",
       "1                 \n",
       "2                 \n",
       "3                 \n",
       "4                 \n",
       "5                 \n",
       "6                 \n",
       "7                 \n",
       "8                 \n",
       "9                 "
      ]
     },
     "execution_count": 321,
     "metadata": {},
     "output_type": "execute_result"
    }
   ],
   "source": [
    "# Loading the correct table name\n",
    "df_attacks = pd.read_csv(read_inserted_table(dumpfile, tablename),delimiter=\",\",error_bad_lines=False)\n",
    "\n",
    "# Converting columns\n",
    "df_attacks['ip']=strip_tab(df_attacks['ip'])\n",
    "df_attacks['date']= datetimemdyampm2datetime(strip_tab(df_attacks['date']))\n",
    "\n",
    "# Changing column names\n",
    "df_attacks.rename(columns = {   'ip': 'targetip',\n",
    "                               'time':'duration'},\n",
    "                         inplace=True)\n",
    "\n",
    "# Adding missing columns (with \"\" [for future string] or np.nan [for future float])\n",
    "df_attacks['id'] = np.nan\n",
    "df_attacks['userid'] = np.nan\n",
    "df_attacks['type'] = \"\"\n",
    "df_attacks['targeturl'] = \"\"\n",
    "\n",
    "###Showing some lines after adapt the table\n",
    "df_attacks.head(10)"
   ]
  },
  {
   "cell_type": "markdown",
   "metadata": {
    "deletable": true,
    "editable": true
   },
   "source": [
    "## 6.13. Table: 'membership_coupons'"
   ]
  },
  {
   "cell_type": "markdown",
   "metadata": {
    "deletable": true,
    "editable": true
   },
   "source": [
    "### How this table looks like without modification?"
   ]
  },
  {
   "cell_type": "code",
   "execution_count": 322,
   "metadata": {
    "collapsed": false,
    "deletable": true,
    "editable": true
   },
   "outputs": [
    {
     "data": {
      "text/html": [
       "<div>\n",
       "<table border=\"1\" class=\"dataframe\">\n",
       "  <thead>\n",
       "    <tr style=\"text-align: right;\">\n",
       "      <th></th>\n",
       "      <th>CouponId</th>\n",
       "      <th>CouponCode</th>\n",
       "      <th>Discount</th>\n",
       "      <th>DateStart</th>\n",
       "      <th>DateEnd</th>\n",
       "      <th>DateAdded</th>\n",
       "      <th>IsEnabled</th>\n",
       "      <th>PremiumLevel</th>\n",
       "    </tr>\n",
       "  </thead>\n",
       "  <tbody>\n",
       "    <tr>\n",
       "      <th>0</th>\n",
       "      <td>6</td>\n",
       "      <td>\\tnuffnuffy&lt;3</td>\n",
       "      <td>60.0</td>\n",
       "      <td>\\t2012-04-22 00:00:00</td>\n",
       "      <td>\\t2012-04-24 00:00:00</td>\n",
       "      <td>\\t2012-04-23 04:22:17</td>\n",
       "      <td>1</td>\n",
       "      <td>2</td>\n",
       "    </tr>\n",
       "  </tbody>\n",
       "</table>\n",
       "</div>"
      ],
      "text/plain": [
       "   CouponId     CouponCode  Discount              DateStart  \\\n",
       "0         6  \\tnuffnuffy<3      60.0  \\t2012-04-22 00:00:00   \n",
       "\n",
       "                 DateEnd              DateAdded  IsEnabled  PremiumLevel  \n",
       "0  \\t2012-04-24 00:00:00  \\t2012-04-23 04:22:17          1             2  "
      ]
     },
     "execution_count": 322,
     "metadata": {},
     "output_type": "execute_result"
    }
   ],
   "source": [
    "tablename='membership_coupons'\n",
    "\n",
    "pd.read_csv(read_inserted_table(dumpfile, tablename),\n",
    "            delimiter=\",\",\n",
    "            error_bad_lines=False).head(10)"
   ]
  },
  {
   "cell_type": "markdown",
   "metadata": {
    "deletable": true,
    "editable": true
   },
   "source": [
    "#### Q1: Is this table different from other previous loaded table? YES \n",
    "#### Q2: Is this table similar to any table in the generic Booter database schema? NO\n",
    "    - This table looks like: \n",
    "#### Q3: Are there modifications required? \n",
    "    - On the table name: \n",
    "        o \n",
    "    - On the column type: \n",
    "        o  \n",
    "    - On the column name:\n",
    "        o \n",
    "    - Add required columns:\n",
    "        o \n",
    "    - Split columns:\n",
    "        o "
   ]
  },
  {
   "cell_type": "markdown",
   "metadata": {
    "deletable": true,
    "editable": true
   },
   "source": [
    "## 6.14. Table: 'membership_rates'"
   ]
  },
  {
   "cell_type": "markdown",
   "metadata": {
    "deletable": true,
    "editable": true
   },
   "source": [
    "### How this table looks like without modification?"
   ]
  },
  {
   "cell_type": "code",
   "execution_count": 323,
   "metadata": {
    "collapsed": false,
    "deletable": true,
    "editable": true
   },
   "outputs": [
    {
     "data": {
      "text/html": [
       "<div>\n",
       "<table border=\"1\" class=\"dataframe\">\n",
       "  <thead>\n",
       "    <tr style=\"text-align: right;\">\n",
       "      <th></th>\n",
       "      <th>RatesId</th>\n",
       "      <th>TypesId</th>\n",
       "      <th>Type</th>\n",
       "      <th>RateTitle</th>\n",
       "      <th>Description</th>\n",
       "      <th>IntervalLength</th>\n",
       "      <th>IntervalType</th>\n",
       "      <th>IsAutoRenew</th>\n",
       "      <th>AutoRenewTimes</th>\n",
       "      <th>IsTrial1</th>\n",
       "      <th>...</th>\n",
       "      <th>Trial1Length</th>\n",
       "      <th>Trial1Type</th>\n",
       "      <th>IsTrial2</th>\n",
       "      <th>Trial2Rate</th>\n",
       "      <th>Trial2Length</th>\n",
       "      <th>Trial2Type</th>\n",
       "      <th>MembershipFee</th>\n",
       "      <th>OrdinalPosition</th>\n",
       "      <th>IsEnabled</th>\n",
       "      <th>PremiumLevel</th>\n",
       "    </tr>\n",
       "  </thead>\n",
       "  <tbody>\n",
       "    <tr>\n",
       "      <th>0</th>\n",
       "      <td>48</td>\n",
       "      <td>2</td>\n",
       "      <td>\\tSilver Membership</td>\n",
       "      <td>\\t1 Day - USD .25</td>\n",
       "      <td>\\tp&gt;1 Day Subscription - USD .25&lt;/p&gt;</td>\n",
       "      <td>1</td>\n",
       "      <td>\\tD</td>\n",
       "      <td>0</td>\n",
       "      <td>2</td>\n",
       "      <td>0</td>\n",
       "      <td>...</td>\n",
       "      <td>1</td>\n",
       "      <td>\\tD</td>\n",
       "      <td>0</td>\n",
       "      <td>0.0</td>\n",
       "      <td>1</td>\n",
       "      <td>\\tD</td>\n",
       "      <td>0.25</td>\n",
       "      <td>1</td>\n",
       "      <td>1</td>\n",
       "      <td>1</td>\n",
       "    </tr>\n",
       "    <tr>\n",
       "      <th>1</th>\n",
       "      <td>50</td>\n",
       "      <td>2</td>\n",
       "      <td>\\tSilver Membership</td>\n",
       "      <td>\\tMonthly - USD 4.00</td>\n",
       "      <td>\\t&lt;p&gt;Monthly Subscription - USD 4.00&lt;/p&gt;</td>\n",
       "      <td>1</td>\n",
       "      <td>\\tM</td>\n",
       "      <td>0</td>\n",
       "      <td>2</td>\n",
       "      <td>0</td>\n",
       "      <td>...</td>\n",
       "      <td>1</td>\n",
       "      <td>\\tD</td>\n",
       "      <td>0</td>\n",
       "      <td>0.0</td>\n",
       "      <td>1</td>\n",
       "      <td>\\tD</td>\n",
       "      <td>4.00</td>\n",
       "      <td>3</td>\n",
       "      <td>1</td>\n",
       "      <td>1</td>\n",
       "    </tr>\n",
       "    <tr>\n",
       "      <th>2</th>\n",
       "      <td>51</td>\n",
       "      <td>2</td>\n",
       "      <td>\\tSilver Membership</td>\n",
       "      <td>\\t3 Months - USD 10.00</td>\n",
       "      <td>\\t&lt;p&gt;3 Month Subscription - USD 10.00&lt;/p&gt;</td>\n",
       "      <td>3</td>\n",
       "      <td>\\tM</td>\n",
       "      <td>0</td>\n",
       "      <td>2</td>\n",
       "      <td>0</td>\n",
       "      <td>...</td>\n",
       "      <td>1</td>\n",
       "      <td>\\tD</td>\n",
       "      <td>0</td>\n",
       "      <td>0.0</td>\n",
       "      <td>1</td>\n",
       "      <td>\\tD</td>\n",
       "      <td>10.00</td>\n",
       "      <td>4</td>\n",
       "      <td>1</td>\n",
       "      <td>1</td>\n",
       "    </tr>\n",
       "    <tr>\n",
       "      <th>3</th>\n",
       "      <td>52</td>\n",
       "      <td>2</td>\n",
       "      <td>\\tSilver Membership</td>\n",
       "      <td>\\tLifetime - USD 19.99</td>\n",
       "      <td>\\t&lt;p&gt;Lifetime Subscription - USD 19.99&lt;/p&gt;</td>\n",
       "      <td>5</td>\n",
       "      <td>\\tY</td>\n",
       "      <td>0</td>\n",
       "      <td>2</td>\n",
       "      <td>0</td>\n",
       "      <td>...</td>\n",
       "      <td>1</td>\n",
       "      <td>\\tD</td>\n",
       "      <td>0</td>\n",
       "      <td>0.0</td>\n",
       "      <td>1</td>\n",
       "      <td>\\tD</td>\n",
       "      <td>19.99</td>\n",
       "      <td>5</td>\n",
       "      <td>1</td>\n",
       "      <td>1</td>\n",
       "    </tr>\n",
       "    <tr>\n",
       "      <th>4</th>\n",
       "      <td>53</td>\n",
       "      <td>3</td>\n",
       "      <td>\\tGold Membership</td>\n",
       "      <td>\\tDaily - USD .50</td>\n",
       "      <td>\\t&lt;p&gt;Daily Subscription - USD .50&lt;/p&gt;</td>\n",
       "      <td>1</td>\n",
       "      <td>\\tD</td>\n",
       "      <td>0</td>\n",
       "      <td>2</td>\n",
       "      <td>0</td>\n",
       "      <td>...</td>\n",
       "      <td>1</td>\n",
       "      <td>\\tD</td>\n",
       "      <td>0</td>\n",
       "      <td>0.0</td>\n",
       "      <td>1</td>\n",
       "      <td>\\tD</td>\n",
       "      <td>0.50</td>\n",
       "      <td>6</td>\n",
       "      <td>1</td>\n",
       "      <td>2</td>\n",
       "    </tr>\n",
       "    <tr>\n",
       "      <th>5</th>\n",
       "      <td>61</td>\n",
       "      <td>3</td>\n",
       "      <td>\\tGold Membership</td>\n",
       "      <td>\\tMonthly - USD 5.00</td>\n",
       "      <td>\\t&lt;p&gt;Monthly Subscription - USD 5.00&lt;/p&gt;</td>\n",
       "      <td>1</td>\n",
       "      <td>\\tM</td>\n",
       "      <td>0</td>\n",
       "      <td>2</td>\n",
       "      <td>0</td>\n",
       "      <td>...</td>\n",
       "      <td>1</td>\n",
       "      <td>\\tD</td>\n",
       "      <td>0</td>\n",
       "      <td>0.0</td>\n",
       "      <td>1</td>\n",
       "      <td>\\tD</td>\n",
       "      <td>5.00</td>\n",
       "      <td>8</td>\n",
       "      <td>1</td>\n",
       "      <td>2</td>\n",
       "    </tr>\n",
       "    <tr>\n",
       "      <th>6</th>\n",
       "      <td>60</td>\n",
       "      <td>3</td>\n",
       "      <td>\\tGold Membership</td>\n",
       "      <td>\\tLifetime - USD 25.00</td>\n",
       "      <td>\\t&lt;p&gt;Lifetime Subscription - USD 25.00&lt;/p&gt;</td>\n",
       "      <td>5</td>\n",
       "      <td>\\tY</td>\n",
       "      <td>0</td>\n",
       "      <td>2</td>\n",
       "      <td>0</td>\n",
       "      <td>...</td>\n",
       "      <td>1</td>\n",
       "      <td>\\tD</td>\n",
       "      <td>0</td>\n",
       "      <td>0.0</td>\n",
       "      <td>1</td>\n",
       "      <td>\\tD</td>\n",
       "      <td>25.00</td>\n",
       "      <td>10</td>\n",
       "      <td>1</td>\n",
       "      <td>2</td>\n",
       "    </tr>\n",
       "    <tr>\n",
       "      <th>7</th>\n",
       "      <td>59</td>\n",
       "      <td>3</td>\n",
       "      <td>\\tGold Membership</td>\n",
       "      <td>\\t3 Months - USD 15.00</td>\n",
       "      <td>\\t&lt;p&gt;3 Monthy Subscription - USD 15.00&lt;/p&gt;</td>\n",
       "      <td>3</td>\n",
       "      <td>\\tM</td>\n",
       "      <td>0</td>\n",
       "      <td>2</td>\n",
       "      <td>0</td>\n",
       "      <td>...</td>\n",
       "      <td>1</td>\n",
       "      <td>\\tD</td>\n",
       "      <td>0</td>\n",
       "      <td>0.0</td>\n",
       "      <td>1</td>\n",
       "      <td>\\tD</td>\n",
       "      <td>15.00</td>\n",
       "      <td>9</td>\n",
       "      <td>1</td>\n",
       "      <td>2</td>\n",
       "    </tr>\n",
       "  </tbody>\n",
       "</table>\n",
       "<p>8 rows × 21 columns</p>\n",
       "</div>"
      ],
      "text/plain": [
       "   RatesId  TypesId                 Type               RateTitle  \\\n",
       "0       48        2  \\tSilver Membership       \\t1 Day - USD .25   \n",
       "1       50        2  \\tSilver Membership    \\tMonthly - USD 4.00   \n",
       "2       51        2  \\tSilver Membership  \\t3 Months - USD 10.00   \n",
       "3       52        2  \\tSilver Membership  \\tLifetime - USD 19.99   \n",
       "4       53        3    \\tGold Membership       \\tDaily - USD .50   \n",
       "5       61        3    \\tGold Membership    \\tMonthly - USD 5.00   \n",
       "6       60        3    \\tGold Membership  \\tLifetime - USD 25.00   \n",
       "7       59        3    \\tGold Membership  \\t3 Months - USD 15.00   \n",
       "\n",
       "                                  Description  IntervalLength IntervalType  \\\n",
       "0        \\tp>1 Day Subscription - USD .25</p>               1          \\tD   \n",
       "1    \\t<p>Monthly Subscription - USD 4.00</p>               1          \\tM   \n",
       "2   \\t<p>3 Month Subscription - USD 10.00</p>               3          \\tM   \n",
       "3  \\t<p>Lifetime Subscription - USD 19.99</p>               5          \\tY   \n",
       "4       \\t<p>Daily Subscription - USD .50</p>               1          \\tD   \n",
       "5    \\t<p>Monthly Subscription - USD 5.00</p>               1          \\tM   \n",
       "6  \\t<p>Lifetime Subscription - USD 25.00</p>               5          \\tY   \n",
       "7  \\t<p>3 Monthy Subscription - USD 15.00</p>               3          \\tM   \n",
       "\n",
       "   IsAutoRenew  AutoRenewTimes  IsTrial1      ...       Trial1Length  \\\n",
       "0            0               2         0      ...                  1   \n",
       "1            0               2         0      ...                  1   \n",
       "2            0               2         0      ...                  1   \n",
       "3            0               2         0      ...                  1   \n",
       "4            0               2         0      ...                  1   \n",
       "5            0               2         0      ...                  1   \n",
       "6            0               2         0      ...                  1   \n",
       "7            0               2         0      ...                  1   \n",
       "\n",
       "   Trial1Type IsTrial2  Trial2Rate  Trial2Length  Trial2Type MembershipFee  \\\n",
       "0         \\tD        0         0.0             1         \\tD          0.25   \n",
       "1         \\tD        0         0.0             1         \\tD          4.00   \n",
       "2         \\tD        0         0.0             1         \\tD         10.00   \n",
       "3         \\tD        0         0.0             1         \\tD         19.99   \n",
       "4         \\tD        0         0.0             1         \\tD          0.50   \n",
       "5         \\tD        0         0.0             1         \\tD          5.00   \n",
       "6         \\tD        0         0.0             1         \\tD         25.00   \n",
       "7         \\tD        0         0.0             1         \\tD         15.00   \n",
       "\n",
       "   OrdinalPosition  IsEnabled  PremiumLevel  \n",
       "0                1          1             1  \n",
       "1                3          1             1  \n",
       "2                4          1             1  \n",
       "3                5          1             1  \n",
       "4                6          1             2  \n",
       "5                8          1             2  \n",
       "6               10          1             2  \n",
       "7                9          1             2  \n",
       "\n",
       "[8 rows x 21 columns]"
      ]
     },
     "execution_count": 323,
     "metadata": {},
     "output_type": "execute_result"
    }
   ],
   "source": [
    "tablename='membership_rates'\n",
    "\n",
    "pd.read_csv(read_inserted_table(dumpfile, tablename),\n",
    "            delimiter=\",\",\n",
    "            error_bad_lines=False).head(10)"
   ]
  },
  {
   "cell_type": "markdown",
   "metadata": {
    "deletable": true,
    "editable": true
   },
   "source": [
    "#### Q1: Is this table different from other previous loaded table? YES \n",
    "#### Q2: Is this table similar to any table in the generic Booter database schema? YES\n",
    "    - This table looks like: plans\n",
    "#### Q3: Are there modifications required? \n",
    "    - On the table name: \n",
    "        o membership_rates -> plans\n",
    "    - On the column type: \n",
    "        o  \n",
    "    - On the column name:\n",
    "        o RatesId -> planid\n",
    "        o Type -> planname \n",
    "        o RateTitle -> plandescr\n",
    "        o MembershipFee -> price\n",
    "    - Add required columns:\n",
    "        o maxboottime\n",
    "        o concurrecy\n",
    "    - Split columns:\n",
    "        o "
   ]
  },
  {
   "cell_type": "markdown",
   "metadata": {
    "deletable": true,
    "editable": true
   },
   "source": [
    "### Modifying table: 'membership_rates'"
   ]
  },
  {
   "cell_type": "code",
   "execution_count": 327,
   "metadata": {
    "collapsed": false,
    "deletable": true,
    "editable": true
   },
   "outputs": [
    {
     "data": {
      "text/html": [
       "<div>\n",
       "<table border=\"1\" class=\"dataframe\">\n",
       "  <thead>\n",
       "    <tr style=\"text-align: right;\">\n",
       "      <th></th>\n",
       "      <th>planid</th>\n",
       "      <th>TypesId</th>\n",
       "      <th>planname</th>\n",
       "      <th>plandescr</th>\n",
       "      <th>Description</th>\n",
       "      <th>IntervalLength</th>\n",
       "      <th>IntervalType</th>\n",
       "      <th>IsAutoRenew</th>\n",
       "      <th>AutoRenewTimes</th>\n",
       "      <th>IsTrial1</th>\n",
       "      <th>...</th>\n",
       "      <th>IsTrial2</th>\n",
       "      <th>Trial2Rate</th>\n",
       "      <th>Trial2Length</th>\n",
       "      <th>Trial2Type</th>\n",
       "      <th>price</th>\n",
       "      <th>OrdinalPosition</th>\n",
       "      <th>IsEnabled</th>\n",
       "      <th>PremiumLevel</th>\n",
       "      <th>maxboottime</th>\n",
       "      <th>concurrency</th>\n",
       "    </tr>\n",
       "  </thead>\n",
       "  <tbody>\n",
       "    <tr>\n",
       "      <th>0</th>\n",
       "      <td>48</td>\n",
       "      <td>2</td>\n",
       "      <td>Silver Membership</td>\n",
       "      <td>1 Day - USD .25</td>\n",
       "      <td>\\tp&gt;1 Day Subscription - USD .25&lt;/p&gt;</td>\n",
       "      <td>1</td>\n",
       "      <td>\\tD</td>\n",
       "      <td>0</td>\n",
       "      <td>2</td>\n",
       "      <td>0</td>\n",
       "      <td>...</td>\n",
       "      <td>0</td>\n",
       "      <td>0.0</td>\n",
       "      <td>1</td>\n",
       "      <td>\\tD</td>\n",
       "      <td>0.25</td>\n",
       "      <td>1</td>\n",
       "      <td>1</td>\n",
       "      <td>1</td>\n",
       "      <td>NaN</td>\n",
       "      <td>NaN</td>\n",
       "    </tr>\n",
       "    <tr>\n",
       "      <th>1</th>\n",
       "      <td>50</td>\n",
       "      <td>2</td>\n",
       "      <td>Silver Membership</td>\n",
       "      <td>Monthly - USD 4.00</td>\n",
       "      <td>\\t&lt;p&gt;Monthly Subscription - USD 4.00&lt;/p&gt;</td>\n",
       "      <td>1</td>\n",
       "      <td>\\tM</td>\n",
       "      <td>0</td>\n",
       "      <td>2</td>\n",
       "      <td>0</td>\n",
       "      <td>...</td>\n",
       "      <td>0</td>\n",
       "      <td>0.0</td>\n",
       "      <td>1</td>\n",
       "      <td>\\tD</td>\n",
       "      <td>4.00</td>\n",
       "      <td>3</td>\n",
       "      <td>1</td>\n",
       "      <td>1</td>\n",
       "      <td>NaN</td>\n",
       "      <td>NaN</td>\n",
       "    </tr>\n",
       "    <tr>\n",
       "      <th>2</th>\n",
       "      <td>51</td>\n",
       "      <td>2</td>\n",
       "      <td>Silver Membership</td>\n",
       "      <td>3 Months - USD 10.00</td>\n",
       "      <td>\\t&lt;p&gt;3 Month Subscription - USD 10.00&lt;/p&gt;</td>\n",
       "      <td>3</td>\n",
       "      <td>\\tM</td>\n",
       "      <td>0</td>\n",
       "      <td>2</td>\n",
       "      <td>0</td>\n",
       "      <td>...</td>\n",
       "      <td>0</td>\n",
       "      <td>0.0</td>\n",
       "      <td>1</td>\n",
       "      <td>\\tD</td>\n",
       "      <td>10.00</td>\n",
       "      <td>4</td>\n",
       "      <td>1</td>\n",
       "      <td>1</td>\n",
       "      <td>NaN</td>\n",
       "      <td>NaN</td>\n",
       "    </tr>\n",
       "    <tr>\n",
       "      <th>3</th>\n",
       "      <td>52</td>\n",
       "      <td>2</td>\n",
       "      <td>Silver Membership</td>\n",
       "      <td>Lifetime - USD 19.99</td>\n",
       "      <td>\\t&lt;p&gt;Lifetime Subscription - USD 19.99&lt;/p&gt;</td>\n",
       "      <td>5</td>\n",
       "      <td>\\tY</td>\n",
       "      <td>0</td>\n",
       "      <td>2</td>\n",
       "      <td>0</td>\n",
       "      <td>...</td>\n",
       "      <td>0</td>\n",
       "      <td>0.0</td>\n",
       "      <td>1</td>\n",
       "      <td>\\tD</td>\n",
       "      <td>19.99</td>\n",
       "      <td>5</td>\n",
       "      <td>1</td>\n",
       "      <td>1</td>\n",
       "      <td>NaN</td>\n",
       "      <td>NaN</td>\n",
       "    </tr>\n",
       "    <tr>\n",
       "      <th>4</th>\n",
       "      <td>53</td>\n",
       "      <td>3</td>\n",
       "      <td>Gold Membership</td>\n",
       "      <td>Daily - USD .50</td>\n",
       "      <td>\\t&lt;p&gt;Daily Subscription - USD .50&lt;/p&gt;</td>\n",
       "      <td>1</td>\n",
       "      <td>\\tD</td>\n",
       "      <td>0</td>\n",
       "      <td>2</td>\n",
       "      <td>0</td>\n",
       "      <td>...</td>\n",
       "      <td>0</td>\n",
       "      <td>0.0</td>\n",
       "      <td>1</td>\n",
       "      <td>\\tD</td>\n",
       "      <td>0.50</td>\n",
       "      <td>6</td>\n",
       "      <td>1</td>\n",
       "      <td>2</td>\n",
       "      <td>NaN</td>\n",
       "      <td>NaN</td>\n",
       "    </tr>\n",
       "    <tr>\n",
       "      <th>5</th>\n",
       "      <td>61</td>\n",
       "      <td>3</td>\n",
       "      <td>Gold Membership</td>\n",
       "      <td>Monthly - USD 5.00</td>\n",
       "      <td>\\t&lt;p&gt;Monthly Subscription - USD 5.00&lt;/p&gt;</td>\n",
       "      <td>1</td>\n",
       "      <td>\\tM</td>\n",
       "      <td>0</td>\n",
       "      <td>2</td>\n",
       "      <td>0</td>\n",
       "      <td>...</td>\n",
       "      <td>0</td>\n",
       "      <td>0.0</td>\n",
       "      <td>1</td>\n",
       "      <td>\\tD</td>\n",
       "      <td>5.00</td>\n",
       "      <td>8</td>\n",
       "      <td>1</td>\n",
       "      <td>2</td>\n",
       "      <td>NaN</td>\n",
       "      <td>NaN</td>\n",
       "    </tr>\n",
       "    <tr>\n",
       "      <th>6</th>\n",
       "      <td>60</td>\n",
       "      <td>3</td>\n",
       "      <td>Gold Membership</td>\n",
       "      <td>Lifetime - USD 25.00</td>\n",
       "      <td>\\t&lt;p&gt;Lifetime Subscription - USD 25.00&lt;/p&gt;</td>\n",
       "      <td>5</td>\n",
       "      <td>\\tY</td>\n",
       "      <td>0</td>\n",
       "      <td>2</td>\n",
       "      <td>0</td>\n",
       "      <td>...</td>\n",
       "      <td>0</td>\n",
       "      <td>0.0</td>\n",
       "      <td>1</td>\n",
       "      <td>\\tD</td>\n",
       "      <td>25.00</td>\n",
       "      <td>10</td>\n",
       "      <td>1</td>\n",
       "      <td>2</td>\n",
       "      <td>NaN</td>\n",
       "      <td>NaN</td>\n",
       "    </tr>\n",
       "    <tr>\n",
       "      <th>7</th>\n",
       "      <td>59</td>\n",
       "      <td>3</td>\n",
       "      <td>Gold Membership</td>\n",
       "      <td>3 Months - USD 15.00</td>\n",
       "      <td>\\t&lt;p&gt;3 Monthy Subscription - USD 15.00&lt;/p&gt;</td>\n",
       "      <td>3</td>\n",
       "      <td>\\tM</td>\n",
       "      <td>0</td>\n",
       "      <td>2</td>\n",
       "      <td>0</td>\n",
       "      <td>...</td>\n",
       "      <td>0</td>\n",
       "      <td>0.0</td>\n",
       "      <td>1</td>\n",
       "      <td>\\tD</td>\n",
       "      <td>15.00</td>\n",
       "      <td>9</td>\n",
       "      <td>1</td>\n",
       "      <td>2</td>\n",
       "      <td>NaN</td>\n",
       "      <td>NaN</td>\n",
       "    </tr>\n",
       "  </tbody>\n",
       "</table>\n",
       "<p>8 rows × 23 columns</p>\n",
       "</div>"
      ],
      "text/plain": [
       "   planid  TypesId           planname             plandescr  \\\n",
       "0      48        2  Silver Membership       1 Day - USD .25   \n",
       "1      50        2  Silver Membership    Monthly - USD 4.00   \n",
       "2      51        2  Silver Membership  3 Months - USD 10.00   \n",
       "3      52        2  Silver Membership  Lifetime - USD 19.99   \n",
       "4      53        3    Gold Membership       Daily - USD .50   \n",
       "5      61        3    Gold Membership    Monthly - USD 5.00   \n",
       "6      60        3    Gold Membership  Lifetime - USD 25.00   \n",
       "7      59        3    Gold Membership  3 Months - USD 15.00   \n",
       "\n",
       "                                  Description  IntervalLength IntervalType  \\\n",
       "0        \\tp>1 Day Subscription - USD .25</p>               1          \\tD   \n",
       "1    \\t<p>Monthly Subscription - USD 4.00</p>               1          \\tM   \n",
       "2   \\t<p>3 Month Subscription - USD 10.00</p>               3          \\tM   \n",
       "3  \\t<p>Lifetime Subscription - USD 19.99</p>               5          \\tY   \n",
       "4       \\t<p>Daily Subscription - USD .50</p>               1          \\tD   \n",
       "5    \\t<p>Monthly Subscription - USD 5.00</p>               1          \\tM   \n",
       "6  \\t<p>Lifetime Subscription - USD 25.00</p>               5          \\tY   \n",
       "7  \\t<p>3 Monthy Subscription - USD 15.00</p>               3          \\tM   \n",
       "\n",
       "   IsAutoRenew  AutoRenewTimes  IsTrial1     ...       IsTrial2  Trial2Rate  \\\n",
       "0            0               2         0     ...              0         0.0   \n",
       "1            0               2         0     ...              0         0.0   \n",
       "2            0               2         0     ...              0         0.0   \n",
       "3            0               2         0     ...              0         0.0   \n",
       "4            0               2         0     ...              0         0.0   \n",
       "5            0               2         0     ...              0         0.0   \n",
       "6            0               2         0     ...              0         0.0   \n",
       "7            0               2         0     ...              0         0.0   \n",
       "\n",
       "  Trial2Length  Trial2Type  price  OrdinalPosition IsEnabled  PremiumLevel  \\\n",
       "0            1         \\tD   0.25                1         1             1   \n",
       "1            1         \\tD   4.00                3         1             1   \n",
       "2            1         \\tD  10.00                4         1             1   \n",
       "3            1         \\tD  19.99                5         1             1   \n",
       "4            1         \\tD   0.50                6         1             2   \n",
       "5            1         \\tD   5.00                8         1             2   \n",
       "6            1         \\tD  25.00               10         1             2   \n",
       "7            1         \\tD  15.00                9         1             2   \n",
       "\n",
       "   maxboottime  concurrency  \n",
       "0          NaN          NaN  \n",
       "1          NaN          NaN  \n",
       "2          NaN          NaN  \n",
       "3          NaN          NaN  \n",
       "4          NaN          NaN  \n",
       "5          NaN          NaN  \n",
       "6          NaN          NaN  \n",
       "7          NaN          NaN  \n",
       "\n",
       "[8 rows x 23 columns]"
      ]
     },
     "execution_count": 327,
     "metadata": {},
     "output_type": "execute_result"
    }
   ],
   "source": [
    "# Loading the correct table name\n",
    "df_plans = pd.read_csv(read_inserted_table(dumpfile, tablename),\n",
    "                                delimiter=\",\",\n",
    "                                error_bad_lines=False)\n",
    "\n",
    "# Converting columns\n",
    "df_plans['RateTitle']=strip_tab(df_plans['RateTitle'])\n",
    "df_plans['Type']=strip_tab(df_plans['Type'])\n",
    "\n",
    "# Changing column names\n",
    "df_plans.rename(columns = {'RatesId': 'planid',\n",
    "                           'RateTitle':'plandescr',\n",
    "                          'Type':'planname',\n",
    "                          'MembershipFee': 'price'},\n",
    "                         inplace=True)\n",
    "\n",
    "# Showing some lines after adapt the tabledf_plans['maxboottime'] = np.nan\n",
    "df_plans['concurrency'] = np.nan\n",
    "\n",
    "# Showing some lines after adapt the table\n",
    "df_plans.head(10)"
   ]
  },
  {
   "cell_type": "markdown",
   "metadata": {
    "deletable": true,
    "editable": true
   },
   "source": [
    "## 6.15. Table: 'membership_types'"
   ]
  },
  {
   "cell_type": "markdown",
   "metadata": {
    "deletable": true,
    "editable": true
   },
   "source": [
    "### How this table looks like without modification?"
   ]
  },
  {
   "cell_type": "code",
   "execution_count": 328,
   "metadata": {
    "collapsed": false,
    "deletable": true,
    "editable": true
   },
   "outputs": [
    {
     "data": {
      "text/html": [
       "<div>\n",
       "<table border=\"1\" class=\"dataframe\">\n",
       "  <thead>\n",
       "    <tr style=\"text-align: right;\">\n",
       "      <th></th>\n",
       "      <th>TypesId</th>\n",
       "      <th>Type</th>\n",
       "      <th>Description</th>\n",
       "      <th>OrdinalPosition</th>\n",
       "      <th>IsEnabled</th>\n",
       "    </tr>\n",
       "  </thead>\n",
       "  <tbody>\n",
       "    <tr>\n",
       "      <th>0</th>\n",
       "      <td>2</td>\n",
       "      <td>\\tSilver Membership</td>\n",
       "      <td>\\tPremium membership with some restrictions.</td>\n",
       "      <td>1</td>\n",
       "      <td>1</td>\n",
       "    </tr>\n",
       "    <tr>\n",
       "      <th>1</th>\n",
       "      <td>3</td>\n",
       "      <td>\\tGold Membership</td>\n",
       "      <td>\\tTop of the line membership access to all opt...</td>\n",
       "      <td>2</td>\n",
       "      <td>1</td>\n",
       "    </tr>\n",
       "  </tbody>\n",
       "</table>\n",
       "</div>"
      ],
      "text/plain": [
       "   TypesId                 Type  \\\n",
       "0        2  \\tSilver Membership   \n",
       "1        3    \\tGold Membership   \n",
       "\n",
       "                                         Description  OrdinalPosition  \\\n",
       "0       \\tPremium membership with some restrictions.                1   \n",
       "1  \\tTop of the line membership access to all opt...                2   \n",
       "\n",
       "   IsEnabled  \n",
       "0          1  \n",
       "1          1  "
      ]
     },
     "execution_count": 328,
     "metadata": {},
     "output_type": "execute_result"
    }
   ],
   "source": [
    "tablename='membership_types'\n",
    "\n",
    "pd.read_csv(read_inserted_table(dumpfile, tablename),\n",
    "            delimiter=\",\",\n",
    "            error_bad_lines=False).head(10)"
   ]
  },
  {
   "cell_type": "markdown",
   "metadata": {
    "deletable": true,
    "editable": true
   },
   "source": [
    "#### Q1: Is this table different from other previous loaded table? YES \n",
    "#### Q2: Is this table similar to any table in the generic Booter database schema? NO\n",
    "    - This table looks like: \n",
    "#### Q3: Are there modifications required? \n",
    "    - On the table name: \n",
    "        o \n",
    "    - On the column type: \n",
    "        o \n",
    "    - On the column name:\n",
    "        o \n",
    "    - Add required columns:\n",
    "        o \n",
    "    - Split columns:\n",
    "        o "
   ]
  },
  {
   "cell_type": "markdown",
   "metadata": {
    "deletable": true,
    "editable": true
   },
   "source": [
    "## 6.16. Table: 'menu_names'"
   ]
  },
  {
   "cell_type": "markdown",
   "metadata": {
    "deletable": true,
    "editable": true
   },
   "source": [
    "### How this table looks like without modification?"
   ]
  },
  {
   "cell_type": "code",
   "execution_count": 329,
   "metadata": {
    "collapsed": false,
    "deletable": true,
    "editable": true
   },
   "outputs": [
    {
     "data": {
      "text/html": [
       "<div>\n",
       "<table border=\"1\" class=\"dataframe\">\n",
       "  <thead>\n",
       "    <tr style=\"text-align: right;\">\n",
       "      <th></th>\n",
       "      <th>MenuNameId</th>\n",
       "      <th>MenuName</th>\n",
       "      <th>Description</th>\n",
       "    </tr>\n",
       "  </thead>\n",
       "  <tbody>\n",
       "    <tr>\n",
       "      <th>0</th>\n",
       "      <td>1</td>\n",
       "      <td>\\tuser dash</td>\n",
       "      <td>\\tnone</td>\n",
       "    </tr>\n",
       "    <tr>\n",
       "      <th>1</th>\n",
       "      <td>7</td>\n",
       "      <td>\\tTest</td>\n",
       "      <td>\\tTest Testing 12</td>\n",
       "    </tr>\n",
       "  </tbody>\n",
       "</table>\n",
       "</div>"
      ],
      "text/plain": [
       "   MenuNameId     MenuName        Description\n",
       "0           1  \\tuser dash             \\tnone\n",
       "1           7       \\tTest  \\tTest Testing 12"
      ]
     },
     "execution_count": 329,
     "metadata": {},
     "output_type": "execute_result"
    }
   ],
   "source": [
    "tablename='menu_names'\n",
    "\n",
    "pd.read_csv(read_inserted_table(dumpfile, tablename),\n",
    "            delimiter=\",\",\n",
    "            error_bad_lines=False).head(10)"
   ]
  },
  {
   "cell_type": "markdown",
   "metadata": {
    "deletable": true,
    "editable": true
   },
   "source": [
    "#### Q1: Is this table different from other previous loaded table? YES \n",
    "#### Q2: Is this table similar to any table in the generic Booter database schema? NO\n",
    "    - This table looks like: \n",
    "#### Q3: Are there modifications required? \n",
    "    - On the table name: \n",
    "        o \n",
    "    - On the column type: \n",
    "        o \n",
    "    - On the column name:\n",
    "        o \n",
    "    - Add required columns:\n",
    "        o \n",
    "    - Split columns:\n",
    "        o "
   ]
  },
  {
   "cell_type": "markdown",
   "metadata": {
    "deletable": true,
    "editable": true
   },
   "source": [
    "## 6.17. Table: 'menus"
   ]
  },
  {
   "cell_type": "markdown",
   "metadata": {
    "deletable": true,
    "editable": true
   },
   "source": [
    "### How this table looks like without modification?"
   ]
  },
  {
   "cell_type": "code",
   "execution_count": 330,
   "metadata": {
    "collapsed": false,
    "deletable": true,
    "editable": true
   },
   "outputs": [
    {
     "data": {
      "text/html": [
       "<div>\n",
       "<table border=\"1\" class=\"dataframe\">\n",
       "  <thead>\n",
       "    <tr style=\"text-align: right;\">\n",
       "      <th></th>\n",
       "      <th>MenuId</th>\n",
       "      <th>MenuName</th>\n",
       "      <th>Url</th>\n",
       "      <th>Target</th>\n",
       "      <th>Label</th>\n",
       "      <th>Title</th>\n",
       "      <th>Description</th>\n",
       "      <th>ParentId</th>\n",
       "      <th>ParentLabel</th>\n",
       "      <th>OrdinalPosition</th>\n",
       "      <th>IsEnabled</th>\n",
       "    </tr>\n",
       "  </thead>\n",
       "  <tbody>\n",
       "    <tr>\n",
       "      <th>0</th>\n",
       "      <td>1</td>\n",
       "      <td>\\tuser dash</td>\n",
       "      <td>\\tindex.php</td>\n",
       "      <td>\\t_self</td>\n",
       "      <td>\\tMy Account</td>\n",
       "      <td>\\tback to user dash home page</td>\n",
       "      <td>\\t</td>\n",
       "      <td>0</td>\n",
       "      <td>\\tMy Account</td>\n",
       "      <td>1</td>\n",
       "      <td>1</td>\n",
       "    </tr>\n",
       "  </tbody>\n",
       "</table>\n",
       "</div>"
      ],
      "text/plain": [
       "   MenuId     MenuName          Url   Target         Label  \\\n",
       "0       1  \\tuser dash  \\tindex.php  \\t_self  \\tMy Account   \n",
       "\n",
       "                           Title Description  ParentId   ParentLabel  \\\n",
       "0  \\tback to user dash home page          \\t         0  \\tMy Account   \n",
       "\n",
       "   OrdinalPosition  IsEnabled  \n",
       "0                1          1  "
      ]
     },
     "execution_count": 330,
     "metadata": {},
     "output_type": "execute_result"
    }
   ],
   "source": [
    "tablename='menus'\n",
    "\n",
    "pd.read_csv(read_inserted_table(dumpfile, tablename),\n",
    "            delimiter=\",\",\n",
    "            error_bad_lines=False).head(10)"
   ]
  },
  {
   "cell_type": "markdown",
   "metadata": {
    "deletable": true,
    "editable": true
   },
   "source": [
    "#### Q1: Is this table different from other previous loaded table? YES \n",
    "#### Q2: Is this table similar to any table in the generic Booter database schema? NO\n",
    "    - This table looks like: \n",
    "#### Q3: Are there modifications required? \n",
    "    - On the table name: \n",
    "        o \n",
    "    - On the column type: \n",
    "        o \n",
    "    - On the column name:\n",
    "        o \n",
    "    - Add required columns:\n",
    "        o \n",
    "    - Split columns:\n",
    "        o "
   ]
  },
  {
   "cell_type": "markdown",
   "metadata": {
    "deletable": true,
    "editable": true
   },
   "source": [
    "## 6.18. Table: 'news'"
   ]
  },
  {
   "cell_type": "markdown",
   "metadata": {
    "deletable": true,
    "editable": true
   },
   "source": [
    "### How this table looks like without modification?"
   ]
  },
  {
   "cell_type": "code",
   "execution_count": 331,
   "metadata": {
    "collapsed": false,
    "deletable": true,
    "editable": true
   },
   "outputs": [
    {
     "data": {
      "text/html": [
       "<div>\n",
       "<table border=\"1\" class=\"dataframe\">\n",
       "  <thead>\n",
       "    <tr style=\"text-align: right;\">\n",
       "      <th></th>\n",
       "      <th>message3</th>\n",
       "    </tr>\n",
       "  </thead>\n",
       "  <tbody>\n",
       "    <tr>\n",
       "      <th>0</th>\n",
       "      <td>If you haven\\t vouched vouch here: http://www....</td>\n",
       "    </tr>\n",
       "  </tbody>\n",
       "</table>\n",
       "</div>"
      ],
      "text/plain": [
       "                                            message3\n",
       "0  If you haven\\t vouched vouch here: http://www...."
      ]
     },
     "execution_count": 331,
     "metadata": {},
     "output_type": "execute_result"
    }
   ],
   "source": [
    "tablename='news'\n",
    "\n",
    "pd.read_csv(read_inserted_table(dumpfile, tablename),\n",
    "            delimiter=\",\",\n",
    "            error_bad_lines=False).head(10)"
   ]
  },
  {
   "cell_type": "markdown",
   "metadata": {
    "deletable": true,
    "editable": true
   },
   "source": [
    "#### Q1: Is this table different from other previous loaded table? YES \n",
    "#### Q2: Is this table similar to any table in the generic Booter database schema? NO\n",
    "    - This table looks like: \n",
    "#### Q3: Are there modifications required? \n",
    "    - On the table name: \n",
    "        o \n",
    "    - On the column type: \n",
    "        o \n",
    "    - On the column name:\n",
    "        o \n",
    "    - Add required columns:\n",
    "        o \n",
    "    - Split columns:\n",
    "        o "
   ]
  },
  {
   "cell_type": "markdown",
   "metadata": {
    "deletable": true,
    "editable": true
   },
   "source": [
    "## 6.19. Table: 'paypal_config'"
   ]
  },
  {
   "cell_type": "markdown",
   "metadata": {
    "deletable": true,
    "editable": true
   },
   "source": [
    "### How this table looks like without modification?"
   ]
  },
  {
   "cell_type": "code",
   "execution_count": 332,
   "metadata": {
    "collapsed": false,
    "deletable": true,
    "editable": true
   },
   "outputs": [
    {
     "data": {
      "text/html": [
       "<div>\n",
       "<table border=\"1\" class=\"dataframe\">\n",
       "  <thead>\n",
       "    <tr style=\"text-align: right;\">\n",
       "      <th></th>\n",
       "      <th>ConfigId</th>\n",
       "      <th>PaypalGateway</th>\n",
       "      <th>PaypalSandbox</th>\n",
       "      <th>MerchantAccountId</th>\n",
       "      <th>IsSandbox</th>\n",
       "      <th>PaypalCurrency</th>\n",
       "      <th>CurrencySymbol</th>\n",
       "      <th>SuccessURL</th>\n",
       "      <th>CancelURL</th>\n",
       "      <th>IpnURL</th>\n",
       "    </tr>\n",
       "  </thead>\n",
       "  <tbody>\n",
       "    <tr>\n",
       "      <th>0</th>\n",
       "      <td>1</td>\n",
       "      <td>\\thttps://www.paypal.com/cgi-bin/webscr</td>\n",
       "      <td>\\thttps://www.sandbox.paypal.com/cgi-bin/webscr</td>\n",
       "      <td>\\tshellytroyer@hotmail.com</td>\n",
       "      <td>0</td>\n",
       "      <td>\\tUSD</td>\n",
       "      <td>\\t$</td>\n",
       "      <td>http://www.urgentbooter.info/site/user/payment...</td>\n",
       "      <td>\\thttp://www.urgentbooter.info/site/user/payme...</td>\n",
       "      <td>http://www.urgentbooter.info/site/user/paypal_...</td>\n",
       "    </tr>\n",
       "  </tbody>\n",
       "</table>\n",
       "</div>"
      ],
      "text/plain": [
       "   ConfigId                            PaypalGateway  \\\n",
       "0         1  \\thttps://www.paypal.com/cgi-bin/webscr   \n",
       "\n",
       "                                     PaypalSandbox  \\\n",
       "0  \\thttps://www.sandbox.paypal.com/cgi-bin/webscr   \n",
       "\n",
       "            MerchantAccountId  IsSandbox PaypalCurrency CurrencySymbol  \\\n",
       "0  \\tshellytroyer@hotmail.com          0          \\tUSD            \\t$   \n",
       "\n",
       "                                          SuccessURL  \\\n",
       "0  http://www.urgentbooter.info/site/user/payment...   \n",
       "\n",
       "                                           CancelURL  \\\n",
       "0  \\thttp://www.urgentbooter.info/site/user/payme...   \n",
       "\n",
       "                                              IpnURL  \n",
       "0  http://www.urgentbooter.info/site/user/paypal_...  "
      ]
     },
     "execution_count": 332,
     "metadata": {},
     "output_type": "execute_result"
    }
   ],
   "source": [
    "tablename='paypal_config'\n",
    "\n",
    "pd.read_csv(read_inserted_table(dumpfile, tablename),\n",
    "            delimiter=\",\",\n",
    "            error_bad_lines=False).head(10)"
   ]
  },
  {
   "cell_type": "markdown",
   "metadata": {
    "deletable": true,
    "editable": true
   },
   "source": [
    "#### Q1: Is this table different from other previous loaded table? YES \n",
    "#### Q2: Is this table similar to any table in the generic Booter database schema? YES\n",
    "    - This table looks like: gateways\n",
    "#### Q3: Are there modifications required? \n",
    "    - On the table name: \n",
    "        o paypal_config -> gateways\n",
    "    - On the column type: \n",
    "        o \n",
    "    - On the column name:\n",
    "        o MerchantAccountId -> email\n",
    "    - Add required columns:\n",
    "        o \n",
    "    - Split columns:\n",
    "        o "
   ]
  },
  {
   "cell_type": "markdown",
   "metadata": {
    "deletable": true,
    "editable": true
   },
   "source": [
    "### Modifying table: 'paypal_config'"
   ]
  },
  {
   "cell_type": "code",
   "execution_count": 335,
   "metadata": {
    "collapsed": false,
    "deletable": true,
    "editable": true
   },
   "outputs": [
    {
     "data": {
      "text/html": [
       "<div>\n",
       "<table border=\"1\" class=\"dataframe\">\n",
       "  <thead>\n",
       "    <tr style=\"text-align: right;\">\n",
       "      <th></th>\n",
       "      <th>ConfigId</th>\n",
       "      <th>PaypalGateway</th>\n",
       "      <th>PaypalSandbox</th>\n",
       "      <th>email</th>\n",
       "      <th>IsSandbox</th>\n",
       "      <th>PaypalCurrency</th>\n",
       "      <th>CurrencySymbol</th>\n",
       "      <th>SuccessURL</th>\n",
       "      <th>CancelURL</th>\n",
       "      <th>IpnURL</th>\n",
       "    </tr>\n",
       "  </thead>\n",
       "  <tbody>\n",
       "    <tr>\n",
       "      <th>0</th>\n",
       "      <td>1</td>\n",
       "      <td>\\thttps://www.paypal.com/cgi-bin/webscr</td>\n",
       "      <td>\\thttps://www.sandbox.paypal.com/cgi-bin/webscr</td>\n",
       "      <td>shellytroyer@hotmail.com</td>\n",
       "      <td>0</td>\n",
       "      <td>\\tUSD</td>\n",
       "      <td>\\t$</td>\n",
       "      <td>http://www.urgentbooter.info/site/user/payment...</td>\n",
       "      <td>\\thttp://www.urgentbooter.info/site/user/payme...</td>\n",
       "      <td>http://www.urgentbooter.info/site/user/paypal_...</td>\n",
       "    </tr>\n",
       "  </tbody>\n",
       "</table>\n",
       "</div>"
      ],
      "text/plain": [
       "   ConfigId                            PaypalGateway  \\\n",
       "0         1  \\thttps://www.paypal.com/cgi-bin/webscr   \n",
       "\n",
       "                                     PaypalSandbox                     email  \\\n",
       "0  \\thttps://www.sandbox.paypal.com/cgi-bin/webscr  shellytroyer@hotmail.com   \n",
       "\n",
       "   IsSandbox PaypalCurrency CurrencySymbol  \\\n",
       "0          0          \\tUSD            \\t$   \n",
       "\n",
       "                                          SuccessURL  \\\n",
       "0  http://www.urgentbooter.info/site/user/payment...   \n",
       "\n",
       "                                           CancelURL  \\\n",
       "0  \\thttp://www.urgentbooter.info/site/user/payme...   \n",
       "\n",
       "                                              IpnURL  \n",
       "0  http://www.urgentbooter.info/site/user/paypal_...  "
      ]
     },
     "execution_count": 335,
     "metadata": {},
     "output_type": "execute_result"
    }
   ],
   "source": [
    "# Loading the correct table name\n",
    "df_gateways = pd.read_csv(read_inserted_table(dumpfile, tablename),delimiter=\",\",error_bad_lines=False)\n",
    "\n",
    "# Converting columns\n",
    "df_gateways['MerchantAccountId']=strip_tab(df_gateways['MerchantAccountId'])\n",
    "\n",
    "# Changing names of columns\n",
    "df_gateways.rename(columns = {'MerchantAccountId': 'email'},\n",
    "                   inplace=True)\n",
    "\n",
    "# Creating empty columns (with \"\" [for future string] or np.nan [for future float])\n",
    "\n",
    "# Showing some lines after adapt the table\n",
    "df_gateways.head(10)"
   ]
  },
  {
   "cell_type": "markdown",
   "metadata": {
    "deletable": true,
    "editable": true
   },
   "source": [
    "## 6.20. Table: 'paypal_payments'"
   ]
  },
  {
   "cell_type": "markdown",
   "metadata": {
    "deletable": true,
    "editable": true
   },
   "source": [
    "### How this table looks like without modification?"
   ]
  },
  {
   "cell_type": "code",
   "execution_count": 336,
   "metadata": {
    "collapsed": false,
    "deletable": true,
    "editable": true
   },
   "outputs": [
    {
     "data": {
      "text/html": [
       "<div>\n",
       "<table border=\"1\" class=\"dataframe\">\n",
       "  <thead>\n",
       "    <tr style=\"text-align: right;\">\n",
       "      <th></th>\n",
       "      <th>PaypalId</th>\n",
       "      <th>subscr_id</th>\n",
       "      <th>txn_id</th>\n",
       "      <th>txn_type</th>\n",
       "      <th>UserName</th>\n",
       "      <th>RatesId</th>\n",
       "      <th>custom</th>\n",
       "      <th>mc_gross</th>\n",
       "      <th>mc_fee</th>\n",
       "      <th>Trial1Amount</th>\n",
       "      <th>...</th>\n",
       "      <th>payment_currency</th>\n",
       "      <th>TransactionDate</th>\n",
       "      <th>ExpireDate</th>\n",
       "      <th>item_name</th>\n",
       "      <th>item_number</th>\n",
       "      <th>receiver_email</th>\n",
       "      <th>payer_email</th>\n",
       "      <th>payment_status</th>\n",
       "      <th>pending_reason</th>\n",
       "      <th>BadTransaction</th>\n",
       "    </tr>\n",
       "  </thead>\n",
       "  <tbody>\n",
       "    <tr>\n",
       "      <th>0</th>\n",
       "      <td>39</td>\n",
       "      <td>\\tI-9XP8V9VUGPW6</td>\n",
       "      <td>\\t9MF95294HC160013W</td>\n",
       "      <td>\\tsubscr_payment</td>\n",
       "      <td>\\tyinscape</td>\n",
       "      <td>53</td>\n",
       "      <td>\\tyinscape|53</td>\n",
       "      <td>0.5</td>\n",
       "      <td>0.31</td>\n",
       "      <td>0.0</td>\n",
       "      <td>...</td>\n",
       "      <td>\\tUSD</td>\n",
       "      <td>\\t2012-04-20 04:34:06</td>\n",
       "      <td>\\t0000-00-00 00:00:00</td>\n",
       "      <td>Gold Membership</td>\n",
       "      <td>\\tDaily - USD .50</td>\n",
       "      <td>\\tshellytroyer@hotmail.com</td>\n",
       "      <td>\\tyinchuichoy2@yahoo.com</td>\n",
       "      <td>\\tFailed</td>\n",
       "      <td>\\tnone</td>\n",
       "      <td>1</td>\n",
       "    </tr>\n",
       "    <tr>\n",
       "      <th>1</th>\n",
       "      <td>40</td>\n",
       "      <td>\\tI-9XP8V9VUGPW6</td>\n",
       "      <td>\\tnone</td>\n",
       "      <td>\\tsubscr_signup</td>\n",
       "      <td>\\tyinscape</td>\n",
       "      <td>53</td>\n",
       "      <td>\\tyinscape|53</td>\n",
       "      <td>0.0</td>\n",
       "      <td>0.00</td>\n",
       "      <td>0.0</td>\n",
       "      <td>...</td>\n",
       "      <td>\\tUSD</td>\n",
       "      <td>\\t2012-04-20 04:34:06</td>\n",
       "      <td>\\t0000-00-00 00:00:00</td>\n",
       "      <td>\\tGold Membership</td>\n",
       "      <td>Daily - USD .50</td>\n",
       "      <td>\\tshellytroyer@hotmail.com</td>\n",
       "      <td>\\tyinchuichoy2@yahoo.com</td>\n",
       "      <td>\\tFailed</td>\n",
       "      <td>\\tnone</td>\n",
       "      <td>1</td>\n",
       "    </tr>\n",
       "    <tr>\n",
       "      <th>2</th>\n",
       "      <td>41</td>\n",
       "      <td>\\tI-9XP8V9VUGPW6</td>\n",
       "      <td>\\tnone</td>\n",
       "      <td>\\tsubscr_eot</td>\n",
       "      <td>\\tyinscape</td>\n",
       "      <td>53</td>\n",
       "      <td>\\tyinscape|53</td>\n",
       "      <td>0.0</td>\n",
       "      <td>0.00</td>\n",
       "      <td>0.0</td>\n",
       "      <td>...</td>\n",
       "      <td>\\tUSD</td>\n",
       "      <td>\\t2012-04-20 04:34:13</td>\n",
       "      <td>\\t0000-00-00 00:00:00</td>\n",
       "      <td>\\tGold Membership</td>\n",
       "      <td>Daily - USD .50</td>\n",
       "      <td>\\tshellytroyer@hotmail.com</td>\n",
       "      <td>\\tyinchuichoy2@yahoo.com</td>\n",
       "      <td>\\tEnd Of Term</td>\n",
       "      <td>\\tnone</td>\n",
       "      <td>0</td>\n",
       "    </tr>\n",
       "    <tr>\n",
       "      <th>3</th>\n",
       "      <td>42</td>\n",
       "      <td>\\tI-1JF5B2HP90CB</td>\n",
       "      <td>\\tnone</td>\n",
       "      <td>\\tsubscr_signup</td>\n",
       "      <td>\\tnicksauser</td>\n",
       "      <td>53</td>\n",
       "      <td>\\tnicksauser|53</td>\n",
       "      <td>0.0</td>\n",
       "      <td>0.00</td>\n",
       "      <td>0.0</td>\n",
       "      <td>...</td>\n",
       "      <td>\\tUSD</td>\n",
       "      <td>\\t2012-04-20 05:14:47</td>\n",
       "      <td>\\t0000-00-00 00:00:00</td>\n",
       "      <td>\\tGold Membership</td>\n",
       "      <td>\\tDaily - USD .50</td>\n",
       "      <td>\\tshellytroyer@hotmail.com</td>\n",
       "      <td>\\tMaryann_Patron@Cargill.com</td>\n",
       "      <td>\\tFailed</td>\n",
       "      <td>\\tnone</td>\n",
       "      <td>1</td>\n",
       "    </tr>\n",
       "    <tr>\n",
       "      <th>4</th>\n",
       "      <td>43</td>\n",
       "      <td>\\tI-1JF5B2HP90CB</td>\n",
       "      <td>\\tnone</td>\n",
       "      <td>\\tsubscr_eot</td>\n",
       "      <td>\\tnicksauser</td>\n",
       "      <td>53</td>\n",
       "      <td>\\tnicksauser|53</td>\n",
       "      <td>0.0</td>\n",
       "      <td>0.00</td>\n",
       "      <td>0.0</td>\n",
       "      <td>...</td>\n",
       "      <td>\\tUSD</td>\n",
       "      <td>\\t2012-04-20 05:14:47</td>\n",
       "      <td>\\t0000-00-00 00:00:00</td>\n",
       "      <td>\\tGold Membership</td>\n",
       "      <td>Daily - USD .50</td>\n",
       "      <td>\\tshellytroyer@hotmail.com</td>\n",
       "      <td>\\tMaryann_Patron@Cargill.com</td>\n",
       "      <td>\\tEnd Of Term</td>\n",
       "      <td>\\tnone</td>\n",
       "      <td>0</td>\n",
       "    </tr>\n",
       "    <tr>\n",
       "      <th>5</th>\n",
       "      <td>44</td>\n",
       "      <td>\\tI-1JF5B2HP90CB</td>\n",
       "      <td>\\t0094673023753241E</td>\n",
       "      <td>\\tsubscr_payment</td>\n",
       "      <td>\\tnicksauser</td>\n",
       "      <td>53</td>\n",
       "      <td>\\tnicksauser|53</td>\n",
       "      <td>0.5</td>\n",
       "      <td>0.32</td>\n",
       "      <td>0.0</td>\n",
       "      <td>...</td>\n",
       "      <td>\\tUSD</td>\n",
       "      <td>\\t2012-04-20 05:14:53</td>\n",
       "      <td>\\t0000-00-00 00:00:00</td>\n",
       "      <td>Gold Membership</td>\n",
       "      <td>\\tDaily - USD .50</td>\n",
       "      <td>\\tshellytroyer@hotmail.com</td>\n",
       "      <td>\\tMaryann_Patron@Cargill.com</td>\n",
       "      <td>\\tFailed</td>\n",
       "      <td>\\tnone</td>\n",
       "      <td>1</td>\n",
       "    </tr>\n",
       "    <tr>\n",
       "      <th>6</th>\n",
       "      <td>45</td>\n",
       "      <td>\\tI-J50MH65YJ42G</td>\n",
       "      <td>\\t6JR4881950535024M</td>\n",
       "      <td>\\tsubscr_payment</td>\n",
       "      <td>\\td.mercelli</td>\n",
       "      <td>53</td>\n",
       "      <td>\\td.mercelli|53</td>\n",
       "      <td>0.5</td>\n",
       "      <td>0.32</td>\n",
       "      <td>0.0</td>\n",
       "      <td>...</td>\n",
       "      <td>\\tUSD</td>\n",
       "      <td>\\t2012-04-20 05:20:34</td>\n",
       "      <td>\\t0000-00-00 00:00:00</td>\n",
       "      <td>Gold Membership</td>\n",
       "      <td>\\tDaily - USD .50</td>\n",
       "      <td>\\tshellytroyer@hotmail.com</td>\n",
       "      <td>\\td.mercelli@gmail.com</td>\n",
       "      <td>\\tFailed</td>\n",
       "      <td>\\tnone</td>\n",
       "      <td>1</td>\n",
       "    </tr>\n",
       "    <tr>\n",
       "      <th>7</th>\n",
       "      <td>46</td>\n",
       "      <td>\\tI-J50MH65YJ42G</td>\n",
       "      <td>\\tnone</td>\n",
       "      <td>\\tsubscr_eot</td>\n",
       "      <td>\\td.mercelli</td>\n",
       "      <td>53</td>\n",
       "      <td>\\td.mercelli|53</td>\n",
       "      <td>0.0</td>\n",
       "      <td>0.00</td>\n",
       "      <td>0.0</td>\n",
       "      <td>...</td>\n",
       "      <td>\\tUSD</td>\n",
       "      <td>\\t2012-04-20 05:20:34</td>\n",
       "      <td>\\t0000-00-00 00:00:00</td>\n",
       "      <td>\\tGold Membership</td>\n",
       "      <td>Daily - USD .50</td>\n",
       "      <td>\\tshellytroyer@hotmail.com</td>\n",
       "      <td>\\td.mercelli@gmail.com</td>\n",
       "      <td>\\tEnd Of Term</td>\n",
       "      <td>\\tnone</td>\n",
       "      <td>0</td>\n",
       "    </tr>\n",
       "    <tr>\n",
       "      <th>8</th>\n",
       "      <td>47</td>\n",
       "      <td>\\tI-J50MH65YJ42G</td>\n",
       "      <td>\\tnone</td>\n",
       "      <td>\\tsubscr_signup</td>\n",
       "      <td>\\td.mercelli</td>\n",
       "      <td>53</td>\n",
       "      <td>\\td.mercelli|53</td>\n",
       "      <td>0.0</td>\n",
       "      <td>0.00</td>\n",
       "      <td>0.0</td>\n",
       "      <td>...</td>\n",
       "      <td>\\tUSD</td>\n",
       "      <td>\\t2012-04-20 05:20:38</td>\n",
       "      <td>\\t0000-00-00 00:00:00</td>\n",
       "      <td>\\tGold Membership</td>\n",
       "      <td>Daily - USD .50</td>\n",
       "      <td>\\tshellytroyer@hotmail.com</td>\n",
       "      <td>\\td.mercelli@gmail.com</td>\n",
       "      <td>\\tFailed</td>\n",
       "      <td>\\tnone</td>\n",
       "      <td>1</td>\n",
       "    </tr>\n",
       "    <tr>\n",
       "      <th>9</th>\n",
       "      <td>48</td>\n",
       "      <td>\\tI-M0WSXTSH6VRY</td>\n",
       "      <td>\\tnone</td>\n",
       "      <td>\\tsubscr_eot</td>\n",
       "      <td>\\txxmjxx</td>\n",
       "      <td>53</td>\n",
       "      <td>\\txxmjxx|53</td>\n",
       "      <td>0.0</td>\n",
       "      <td>0.00</td>\n",
       "      <td>0.0</td>\n",
       "      <td>...</td>\n",
       "      <td>\\tUSD</td>\n",
       "      <td>\\t2012-04-21 18:31:55</td>\n",
       "      <td>\\t0000-00-00 00:00:00</td>\n",
       "      <td>\\tGold Membership</td>\n",
       "      <td>\\tDaily - USD .50</td>\n",
       "      <td>\\tshellytroyer@hotmail.com</td>\n",
       "      <td>\\tHusain-bin3agool@hotmail.com</td>\n",
       "      <td>\\tEnd Of Term</td>\n",
       "      <td>\\tnone</td>\n",
       "      <td>0</td>\n",
       "    </tr>\n",
       "  </tbody>\n",
       "</table>\n",
       "<p>10 rows × 22 columns</p>\n",
       "</div>"
      ],
      "text/plain": [
       "   PaypalId         subscr_id               txn_id          txn_type  \\\n",
       "0        39  \\tI-9XP8V9VUGPW6  \\t9MF95294HC160013W  \\tsubscr_payment   \n",
       "1        40  \\tI-9XP8V9VUGPW6               \\tnone   \\tsubscr_signup   \n",
       "2        41  \\tI-9XP8V9VUGPW6               \\tnone      \\tsubscr_eot   \n",
       "3        42  \\tI-1JF5B2HP90CB               \\tnone   \\tsubscr_signup   \n",
       "4        43  \\tI-1JF5B2HP90CB               \\tnone      \\tsubscr_eot   \n",
       "5        44  \\tI-1JF5B2HP90CB  \\t0094673023753241E  \\tsubscr_payment   \n",
       "6        45  \\tI-J50MH65YJ42G  \\t6JR4881950535024M  \\tsubscr_payment   \n",
       "7        46  \\tI-J50MH65YJ42G               \\tnone      \\tsubscr_eot   \n",
       "8        47  \\tI-J50MH65YJ42G               \\tnone   \\tsubscr_signup   \n",
       "9        48  \\tI-M0WSXTSH6VRY               \\tnone      \\tsubscr_eot   \n",
       "\n",
       "       UserName  RatesId           custom  mc_gross  mc_fee  Trial1Amount  \\\n",
       "0    \\tyinscape       53    \\tyinscape|53       0.5    0.31           0.0   \n",
       "1    \\tyinscape       53    \\tyinscape|53       0.0    0.00           0.0   \n",
       "2    \\tyinscape       53    \\tyinscape|53       0.0    0.00           0.0   \n",
       "3  \\tnicksauser       53  \\tnicksauser|53       0.0    0.00           0.0   \n",
       "4  \\tnicksauser       53  \\tnicksauser|53       0.0    0.00           0.0   \n",
       "5  \\tnicksauser       53  \\tnicksauser|53       0.5    0.32           0.0   \n",
       "6  \\td.mercelli       53  \\td.mercelli|53       0.5    0.32           0.0   \n",
       "7  \\td.mercelli       53  \\td.mercelli|53       0.0    0.00           0.0   \n",
       "8  \\td.mercelli       53  \\td.mercelli|53       0.0    0.00           0.0   \n",
       "9      \\txxmjxx       53      \\txxmjxx|53       0.0    0.00           0.0   \n",
       "\n",
       "       ...        payment_currency        TransactionDate  \\\n",
       "0      ...                   \\tUSD  \\t2012-04-20 04:34:06   \n",
       "1      ...                   \\tUSD  \\t2012-04-20 04:34:06   \n",
       "2      ...                   \\tUSD  \\t2012-04-20 04:34:13   \n",
       "3      ...                   \\tUSD  \\t2012-04-20 05:14:47   \n",
       "4      ...                   \\tUSD  \\t2012-04-20 05:14:47   \n",
       "5      ...                   \\tUSD  \\t2012-04-20 05:14:53   \n",
       "6      ...                   \\tUSD  \\t2012-04-20 05:20:34   \n",
       "7      ...                   \\tUSD  \\t2012-04-20 05:20:34   \n",
       "8      ...                   \\tUSD  \\t2012-04-20 05:20:38   \n",
       "9      ...                   \\tUSD  \\t2012-04-21 18:31:55   \n",
       "\n",
       "              ExpireDate          item_name        item_number  \\\n",
       "0  \\t0000-00-00 00:00:00    Gold Membership  \\tDaily - USD .50   \n",
       "1  \\t0000-00-00 00:00:00  \\tGold Membership    Daily - USD .50   \n",
       "2  \\t0000-00-00 00:00:00  \\tGold Membership    Daily - USD .50   \n",
       "3  \\t0000-00-00 00:00:00  \\tGold Membership  \\tDaily - USD .50   \n",
       "4  \\t0000-00-00 00:00:00  \\tGold Membership    Daily - USD .50   \n",
       "5  \\t0000-00-00 00:00:00    Gold Membership  \\tDaily - USD .50   \n",
       "6  \\t0000-00-00 00:00:00    Gold Membership  \\tDaily - USD .50   \n",
       "7  \\t0000-00-00 00:00:00  \\tGold Membership    Daily - USD .50   \n",
       "8  \\t0000-00-00 00:00:00  \\tGold Membership    Daily - USD .50   \n",
       "9  \\t0000-00-00 00:00:00  \\tGold Membership  \\tDaily - USD .50   \n",
       "\n",
       "               receiver_email                     payer_email payment_status  \\\n",
       "0  \\tshellytroyer@hotmail.com        \\tyinchuichoy2@yahoo.com       \\tFailed   \n",
       "1  \\tshellytroyer@hotmail.com        \\tyinchuichoy2@yahoo.com       \\tFailed   \n",
       "2  \\tshellytroyer@hotmail.com        \\tyinchuichoy2@yahoo.com  \\tEnd Of Term   \n",
       "3  \\tshellytroyer@hotmail.com    \\tMaryann_Patron@Cargill.com       \\tFailed   \n",
       "4  \\tshellytroyer@hotmail.com    \\tMaryann_Patron@Cargill.com  \\tEnd Of Term   \n",
       "5  \\tshellytroyer@hotmail.com    \\tMaryann_Patron@Cargill.com       \\tFailed   \n",
       "6  \\tshellytroyer@hotmail.com          \\td.mercelli@gmail.com       \\tFailed   \n",
       "7  \\tshellytroyer@hotmail.com          \\td.mercelli@gmail.com  \\tEnd Of Term   \n",
       "8  \\tshellytroyer@hotmail.com          \\td.mercelli@gmail.com       \\tFailed   \n",
       "9  \\tshellytroyer@hotmail.com  \\tHusain-bin3agool@hotmail.com  \\tEnd Of Term   \n",
       "\n",
       "  pending_reason BadTransaction  \n",
       "0         \\tnone              1  \n",
       "1         \\tnone              1  \n",
       "2         \\tnone              0  \n",
       "3         \\tnone              1  \n",
       "4         \\tnone              0  \n",
       "5         \\tnone              1  \n",
       "6         \\tnone              1  \n",
       "7         \\tnone              0  \n",
       "8         \\tnone              1  \n",
       "9         \\tnone              0  \n",
       "\n",
       "[10 rows x 22 columns]"
      ]
     },
     "execution_count": 336,
     "metadata": {},
     "output_type": "execute_result"
    }
   ],
   "source": [
    "tablename='paypal_payments'\n",
    "\n",
    "pd.read_csv(read_inserted_table(dumpfile, tablename),\n",
    "            delimiter=\",\",\n",
    "            error_bad_lines=False).head(10)"
   ]
  },
  {
   "cell_type": "markdown",
   "metadata": {
    "deletable": true,
    "editable": true
   },
   "source": [
    "#### Q1: Is this table different from other previous loaded table? YES \n",
    "#### Q2: Is this table similar to any table in the generic Booter database schema? YES\n",
    "    - This table looks like: payments\n",
    "#### Q3: Are there modifications required? \n",
    "    - On the table name: \n",
    "        o paypal_payments -> payments\n",
    "    - On the column type: \n",
    "        o TransactionDate ->datetimeinvertedstring2datetime()\n",
    "    - On the column name:\n",
    "        o PaypallId -> id\n",
    "        o UserName -> username\n",
    "        o mc_gross -> amountpaid \n",
    "        o payer_email -> paymentemail\n",
    "        o RateId ->planid \n",
    "        o txn_id -> tid\n",
    "        o TransactionDate -> date\n",
    "    - Add required columns:\n",
    "        o userid\n",
    "    - Split columns:\n",
    "        o "
   ]
  },
  {
   "cell_type": "markdown",
   "metadata": {
    "deletable": true,
    "editable": true
   },
   "source": [
    "### Modifying table: 'paypal_payments'"
   ]
  },
  {
   "cell_type": "code",
   "execution_count": 340,
   "metadata": {
    "collapsed": false,
    "deletable": true,
    "editable": true
   },
   "outputs": [
    {
     "data": {
      "text/html": [
       "<div>\n",
       "<table border=\"1\" class=\"dataframe\">\n",
       "  <thead>\n",
       "    <tr style=\"text-align: right;\">\n",
       "      <th></th>\n",
       "      <th>PaypalId</th>\n",
       "      <th>subscr_id</th>\n",
       "      <th>tid</th>\n",
       "      <th>txn_type</th>\n",
       "      <th>username</th>\n",
       "      <th>RatesId</th>\n",
       "      <th>custom</th>\n",
       "      <th>amuntpaid</th>\n",
       "      <th>mc_fee</th>\n",
       "      <th>Trial1Amount</th>\n",
       "      <th>...</th>\n",
       "      <th>date</th>\n",
       "      <th>ExpireDate</th>\n",
       "      <th>item_name</th>\n",
       "      <th>item_number</th>\n",
       "      <th>receiver_email</th>\n",
       "      <th>paymentemail</th>\n",
       "      <th>payment_status</th>\n",
       "      <th>pending_reason</th>\n",
       "      <th>BadTransaction</th>\n",
       "      <th>userid</th>\n",
       "    </tr>\n",
       "  </thead>\n",
       "  <tbody>\n",
       "    <tr>\n",
       "      <th>0</th>\n",
       "      <td>39</td>\n",
       "      <td>\\tI-9XP8V9VUGPW6</td>\n",
       "      <td>9MF95294HC160013W</td>\n",
       "      <td>\\tsubscr_payment</td>\n",
       "      <td>yinscape</td>\n",
       "      <td>53</td>\n",
       "      <td>\\tyinscape|53</td>\n",
       "      <td>0.5</td>\n",
       "      <td>0.31</td>\n",
       "      <td>0.0</td>\n",
       "      <td>...</td>\n",
       "      <td>2012-04-20 04:34:06</td>\n",
       "      <td>\\t0000-00-00 00:00:00</td>\n",
       "      <td>Gold Membership</td>\n",
       "      <td>\\tDaily - USD .50</td>\n",
       "      <td>\\tshellytroyer@hotmail.com</td>\n",
       "      <td>yinchuichoy2@yahoo.com</td>\n",
       "      <td>\\tFailed</td>\n",
       "      <td>\\tnone</td>\n",
       "      <td>1</td>\n",
       "      <td></td>\n",
       "    </tr>\n",
       "    <tr>\n",
       "      <th>1</th>\n",
       "      <td>40</td>\n",
       "      <td>\\tI-9XP8V9VUGPW6</td>\n",
       "      <td>none</td>\n",
       "      <td>\\tsubscr_signup</td>\n",
       "      <td>yinscape</td>\n",
       "      <td>53</td>\n",
       "      <td>\\tyinscape|53</td>\n",
       "      <td>0.0</td>\n",
       "      <td>0.00</td>\n",
       "      <td>0.0</td>\n",
       "      <td>...</td>\n",
       "      <td>2012-04-20 04:34:06</td>\n",
       "      <td>\\t0000-00-00 00:00:00</td>\n",
       "      <td>\\tGold Membership</td>\n",
       "      <td>Daily - USD .50</td>\n",
       "      <td>\\tshellytroyer@hotmail.com</td>\n",
       "      <td>yinchuichoy2@yahoo.com</td>\n",
       "      <td>\\tFailed</td>\n",
       "      <td>\\tnone</td>\n",
       "      <td>1</td>\n",
       "      <td></td>\n",
       "    </tr>\n",
       "    <tr>\n",
       "      <th>2</th>\n",
       "      <td>41</td>\n",
       "      <td>\\tI-9XP8V9VUGPW6</td>\n",
       "      <td>none</td>\n",
       "      <td>\\tsubscr_eot</td>\n",
       "      <td>yinscape</td>\n",
       "      <td>53</td>\n",
       "      <td>\\tyinscape|53</td>\n",
       "      <td>0.0</td>\n",
       "      <td>0.00</td>\n",
       "      <td>0.0</td>\n",
       "      <td>...</td>\n",
       "      <td>2012-04-20 04:34:13</td>\n",
       "      <td>\\t0000-00-00 00:00:00</td>\n",
       "      <td>\\tGold Membership</td>\n",
       "      <td>Daily - USD .50</td>\n",
       "      <td>\\tshellytroyer@hotmail.com</td>\n",
       "      <td>yinchuichoy2@yahoo.com</td>\n",
       "      <td>\\tEnd Of Term</td>\n",
       "      <td>\\tnone</td>\n",
       "      <td>0</td>\n",
       "      <td></td>\n",
       "    </tr>\n",
       "    <tr>\n",
       "      <th>3</th>\n",
       "      <td>42</td>\n",
       "      <td>\\tI-1JF5B2HP90CB</td>\n",
       "      <td>none</td>\n",
       "      <td>\\tsubscr_signup</td>\n",
       "      <td>nicksauser</td>\n",
       "      <td>53</td>\n",
       "      <td>\\tnicksauser|53</td>\n",
       "      <td>0.0</td>\n",
       "      <td>0.00</td>\n",
       "      <td>0.0</td>\n",
       "      <td>...</td>\n",
       "      <td>2012-04-20 05:14:47</td>\n",
       "      <td>\\t0000-00-00 00:00:00</td>\n",
       "      <td>\\tGold Membership</td>\n",
       "      <td>\\tDaily - USD .50</td>\n",
       "      <td>\\tshellytroyer@hotmail.com</td>\n",
       "      <td>Maryann_Patron@Cargill.com</td>\n",
       "      <td>\\tFailed</td>\n",
       "      <td>\\tnone</td>\n",
       "      <td>1</td>\n",
       "      <td></td>\n",
       "    </tr>\n",
       "    <tr>\n",
       "      <th>4</th>\n",
       "      <td>43</td>\n",
       "      <td>\\tI-1JF5B2HP90CB</td>\n",
       "      <td>none</td>\n",
       "      <td>\\tsubscr_eot</td>\n",
       "      <td>nicksauser</td>\n",
       "      <td>53</td>\n",
       "      <td>\\tnicksauser|53</td>\n",
       "      <td>0.0</td>\n",
       "      <td>0.00</td>\n",
       "      <td>0.0</td>\n",
       "      <td>...</td>\n",
       "      <td>2012-04-20 05:14:47</td>\n",
       "      <td>\\t0000-00-00 00:00:00</td>\n",
       "      <td>\\tGold Membership</td>\n",
       "      <td>Daily - USD .50</td>\n",
       "      <td>\\tshellytroyer@hotmail.com</td>\n",
       "      <td>Maryann_Patron@Cargill.com</td>\n",
       "      <td>\\tEnd Of Term</td>\n",
       "      <td>\\tnone</td>\n",
       "      <td>0</td>\n",
       "      <td></td>\n",
       "    </tr>\n",
       "    <tr>\n",
       "      <th>5</th>\n",
       "      <td>44</td>\n",
       "      <td>\\tI-1JF5B2HP90CB</td>\n",
       "      <td>0094673023753241E</td>\n",
       "      <td>\\tsubscr_payment</td>\n",
       "      <td>nicksauser</td>\n",
       "      <td>53</td>\n",
       "      <td>\\tnicksauser|53</td>\n",
       "      <td>0.5</td>\n",
       "      <td>0.32</td>\n",
       "      <td>0.0</td>\n",
       "      <td>...</td>\n",
       "      <td>2012-04-20 05:14:53</td>\n",
       "      <td>\\t0000-00-00 00:00:00</td>\n",
       "      <td>Gold Membership</td>\n",
       "      <td>\\tDaily - USD .50</td>\n",
       "      <td>\\tshellytroyer@hotmail.com</td>\n",
       "      <td>Maryann_Patron@Cargill.com</td>\n",
       "      <td>\\tFailed</td>\n",
       "      <td>\\tnone</td>\n",
       "      <td>1</td>\n",
       "      <td></td>\n",
       "    </tr>\n",
       "    <tr>\n",
       "      <th>6</th>\n",
       "      <td>45</td>\n",
       "      <td>\\tI-J50MH65YJ42G</td>\n",
       "      <td>6JR4881950535024M</td>\n",
       "      <td>\\tsubscr_payment</td>\n",
       "      <td>d.mercelli</td>\n",
       "      <td>53</td>\n",
       "      <td>\\td.mercelli|53</td>\n",
       "      <td>0.5</td>\n",
       "      <td>0.32</td>\n",
       "      <td>0.0</td>\n",
       "      <td>...</td>\n",
       "      <td>2012-04-20 05:20:34</td>\n",
       "      <td>\\t0000-00-00 00:00:00</td>\n",
       "      <td>Gold Membership</td>\n",
       "      <td>\\tDaily - USD .50</td>\n",
       "      <td>\\tshellytroyer@hotmail.com</td>\n",
       "      <td>d.mercelli@gmail.com</td>\n",
       "      <td>\\tFailed</td>\n",
       "      <td>\\tnone</td>\n",
       "      <td>1</td>\n",
       "      <td></td>\n",
       "    </tr>\n",
       "    <tr>\n",
       "      <th>7</th>\n",
       "      <td>46</td>\n",
       "      <td>\\tI-J50MH65YJ42G</td>\n",
       "      <td>none</td>\n",
       "      <td>\\tsubscr_eot</td>\n",
       "      <td>d.mercelli</td>\n",
       "      <td>53</td>\n",
       "      <td>\\td.mercelli|53</td>\n",
       "      <td>0.0</td>\n",
       "      <td>0.00</td>\n",
       "      <td>0.0</td>\n",
       "      <td>...</td>\n",
       "      <td>2012-04-20 05:20:34</td>\n",
       "      <td>\\t0000-00-00 00:00:00</td>\n",
       "      <td>\\tGold Membership</td>\n",
       "      <td>Daily - USD .50</td>\n",
       "      <td>\\tshellytroyer@hotmail.com</td>\n",
       "      <td>d.mercelli@gmail.com</td>\n",
       "      <td>\\tEnd Of Term</td>\n",
       "      <td>\\tnone</td>\n",
       "      <td>0</td>\n",
       "      <td></td>\n",
       "    </tr>\n",
       "    <tr>\n",
       "      <th>8</th>\n",
       "      <td>47</td>\n",
       "      <td>\\tI-J50MH65YJ42G</td>\n",
       "      <td>none</td>\n",
       "      <td>\\tsubscr_signup</td>\n",
       "      <td>d.mercelli</td>\n",
       "      <td>53</td>\n",
       "      <td>\\td.mercelli|53</td>\n",
       "      <td>0.0</td>\n",
       "      <td>0.00</td>\n",
       "      <td>0.0</td>\n",
       "      <td>...</td>\n",
       "      <td>2012-04-20 05:20:38</td>\n",
       "      <td>\\t0000-00-00 00:00:00</td>\n",
       "      <td>\\tGold Membership</td>\n",
       "      <td>Daily - USD .50</td>\n",
       "      <td>\\tshellytroyer@hotmail.com</td>\n",
       "      <td>d.mercelli@gmail.com</td>\n",
       "      <td>\\tFailed</td>\n",
       "      <td>\\tnone</td>\n",
       "      <td>1</td>\n",
       "      <td></td>\n",
       "    </tr>\n",
       "    <tr>\n",
       "      <th>9</th>\n",
       "      <td>48</td>\n",
       "      <td>\\tI-M0WSXTSH6VRY</td>\n",
       "      <td>none</td>\n",
       "      <td>\\tsubscr_eot</td>\n",
       "      <td>xxmjxx</td>\n",
       "      <td>53</td>\n",
       "      <td>\\txxmjxx|53</td>\n",
       "      <td>0.0</td>\n",
       "      <td>0.00</td>\n",
       "      <td>0.0</td>\n",
       "      <td>...</td>\n",
       "      <td>2012-04-21 18:31:55</td>\n",
       "      <td>\\t0000-00-00 00:00:00</td>\n",
       "      <td>\\tGold Membership</td>\n",
       "      <td>\\tDaily - USD .50</td>\n",
       "      <td>\\tshellytroyer@hotmail.com</td>\n",
       "      <td>Husain-bin3agool@hotmail.com</td>\n",
       "      <td>\\tEnd Of Term</td>\n",
       "      <td>\\tnone</td>\n",
       "      <td>0</td>\n",
       "      <td></td>\n",
       "    </tr>\n",
       "  </tbody>\n",
       "</table>\n",
       "<p>10 rows × 23 columns</p>\n",
       "</div>"
      ],
      "text/plain": [
       "   PaypalId         subscr_id                tid          txn_type  \\\n",
       "0        39  \\tI-9XP8V9VUGPW6  9MF95294HC160013W  \\tsubscr_payment   \n",
       "1        40  \\tI-9XP8V9VUGPW6               none   \\tsubscr_signup   \n",
       "2        41  \\tI-9XP8V9VUGPW6               none      \\tsubscr_eot   \n",
       "3        42  \\tI-1JF5B2HP90CB               none   \\tsubscr_signup   \n",
       "4        43  \\tI-1JF5B2HP90CB               none      \\tsubscr_eot   \n",
       "5        44  \\tI-1JF5B2HP90CB  0094673023753241E  \\tsubscr_payment   \n",
       "6        45  \\tI-J50MH65YJ42G  6JR4881950535024M  \\tsubscr_payment   \n",
       "7        46  \\tI-J50MH65YJ42G               none      \\tsubscr_eot   \n",
       "8        47  \\tI-J50MH65YJ42G               none   \\tsubscr_signup   \n",
       "9        48  \\tI-M0WSXTSH6VRY               none      \\tsubscr_eot   \n",
       "\n",
       "     username  RatesId           custom  amuntpaid  mc_fee  Trial1Amount  \\\n",
       "0    yinscape       53    \\tyinscape|53        0.5    0.31           0.0   \n",
       "1    yinscape       53    \\tyinscape|53        0.0    0.00           0.0   \n",
       "2    yinscape       53    \\tyinscape|53        0.0    0.00           0.0   \n",
       "3  nicksauser       53  \\tnicksauser|53        0.0    0.00           0.0   \n",
       "4  nicksauser       53  \\tnicksauser|53        0.0    0.00           0.0   \n",
       "5  nicksauser       53  \\tnicksauser|53        0.5    0.32           0.0   \n",
       "6  d.mercelli       53  \\td.mercelli|53        0.5    0.32           0.0   \n",
       "7  d.mercelli       53  \\td.mercelli|53        0.0    0.00           0.0   \n",
       "8  d.mercelli       53  \\td.mercelli|53        0.0    0.00           0.0   \n",
       "9      xxmjxx       53      \\txxmjxx|53        0.0    0.00           0.0   \n",
       "\n",
       "   ...                  date             ExpireDate          item_name  \\\n",
       "0  ...   2012-04-20 04:34:06  \\t0000-00-00 00:00:00    Gold Membership   \n",
       "1  ...   2012-04-20 04:34:06  \\t0000-00-00 00:00:00  \\tGold Membership   \n",
       "2  ...   2012-04-20 04:34:13  \\t0000-00-00 00:00:00  \\tGold Membership   \n",
       "3  ...   2012-04-20 05:14:47  \\t0000-00-00 00:00:00  \\tGold Membership   \n",
       "4  ...   2012-04-20 05:14:47  \\t0000-00-00 00:00:00  \\tGold Membership   \n",
       "5  ...   2012-04-20 05:14:53  \\t0000-00-00 00:00:00    Gold Membership   \n",
       "6  ...   2012-04-20 05:20:34  \\t0000-00-00 00:00:00    Gold Membership   \n",
       "7  ...   2012-04-20 05:20:34  \\t0000-00-00 00:00:00  \\tGold Membership   \n",
       "8  ...   2012-04-20 05:20:38  \\t0000-00-00 00:00:00  \\tGold Membership   \n",
       "9  ...   2012-04-21 18:31:55  \\t0000-00-00 00:00:00  \\tGold Membership   \n",
       "\n",
       "         item_number              receiver_email  \\\n",
       "0  \\tDaily - USD .50  \\tshellytroyer@hotmail.com   \n",
       "1    Daily - USD .50  \\tshellytroyer@hotmail.com   \n",
       "2    Daily - USD .50  \\tshellytroyer@hotmail.com   \n",
       "3  \\tDaily - USD .50  \\tshellytroyer@hotmail.com   \n",
       "4    Daily - USD .50  \\tshellytroyer@hotmail.com   \n",
       "5  \\tDaily - USD .50  \\tshellytroyer@hotmail.com   \n",
       "6  \\tDaily - USD .50  \\tshellytroyer@hotmail.com   \n",
       "7    Daily - USD .50  \\tshellytroyer@hotmail.com   \n",
       "8    Daily - USD .50  \\tshellytroyer@hotmail.com   \n",
       "9  \\tDaily - USD .50  \\tshellytroyer@hotmail.com   \n",
       "\n",
       "                   paymentemail payment_status pending_reason BadTransaction  \\\n",
       "0        yinchuichoy2@yahoo.com       \\tFailed         \\tnone              1   \n",
       "1        yinchuichoy2@yahoo.com       \\tFailed         \\tnone              1   \n",
       "2        yinchuichoy2@yahoo.com  \\tEnd Of Term         \\tnone              0   \n",
       "3    Maryann_Patron@Cargill.com       \\tFailed         \\tnone              1   \n",
       "4    Maryann_Patron@Cargill.com  \\tEnd Of Term         \\tnone              0   \n",
       "5    Maryann_Patron@Cargill.com       \\tFailed         \\tnone              1   \n",
       "6          d.mercelli@gmail.com       \\tFailed         \\tnone              1   \n",
       "7          d.mercelli@gmail.com  \\tEnd Of Term         \\tnone              0   \n",
       "8          d.mercelli@gmail.com       \\tFailed         \\tnone              1   \n",
       "9  Husain-bin3agool@hotmail.com  \\tEnd Of Term         \\tnone              0   \n",
       "\n",
       "  userid  \n",
       "0         \n",
       "1         \n",
       "2         \n",
       "3         \n",
       "4         \n",
       "5         \n",
       "6         \n",
       "7         \n",
       "8         \n",
       "9         \n",
       "\n",
       "[10 rows x 23 columns]"
      ]
     },
     "execution_count": 340,
     "metadata": {},
     "output_type": "execute_result"
    }
   ],
   "source": [
    "# Loading the correct table name\n",
    "df_gateways = pd.read_csv(read_inserted_table(dumpfile, tablename),\n",
    "                                delimiter=\",\",\n",
    "                                error_bad_lines=False)\n",
    "\n",
    "# Converting columns\n",
    "df_gateways['UserName']=strip_tab(df_gateways['UserName'])\n",
    "df_gateways['payer_email']=strip_tab(df_gateways['payer_email'])\n",
    "df_gateways['txn_id']=strip_tab(df_gateways['txn_id'])\n",
    "df_gateways['TransactionDate']=datetimeinvertedstring2datetime(strip_tab(df_gateways['TransactionDate']))\n",
    "\n",
    "# Changing names of columns\n",
    "df_gateways.rename(columns = {'PaypallId': 'id',\n",
    "                             'UserName': 'username',\n",
    "                             'mc_gross':'amuntpaid',\n",
    "                             'payer_email': 'paymentemail',\n",
    "                             'RateId':'planid',\n",
    "                             'txn_id':'tid',\n",
    "                             'TransactionDate': 'date'},\n",
    "                         inplace=True)\n",
    "\n",
    "# Creating empty columns (with \"\" [for future string] or np.nan [for future float])\n",
    "df_gateways['userid']=\"\"\n",
    "\n",
    "# Showing some lines after adapt the table\n",
    "df_gateways.head(10)"
   ]
  },
  {
   "cell_type": "markdown",
   "metadata": {
    "deletable": true,
    "editable": true
   },
   "source": [
    "## 6.21. Table: 'postshells'"
   ]
  },
  {
   "cell_type": "markdown",
   "metadata": {
    "deletable": true,
    "editable": true
   },
   "source": [
    "### How this table looks like without modification?"
   ]
  },
  {
   "cell_type": "code",
   "execution_count": 341,
   "metadata": {
    "collapsed": false,
    "deletable": true,
    "editable": true
   },
   "outputs": [
    {
     "data": {
      "text/html": [
       "<div>\n",
       "<table border=\"1\" class=\"dataframe\">\n",
       "  <thead>\n",
       "    <tr style=\"text-align: right;\">\n",
       "      <th></th>\n",
       "      <th>URL</th>\n",
       "      <th>online</th>\n",
       "      <th>lastChecked</th>\n",
       "    </tr>\n",
       "  </thead>\n",
       "  <tbody>\n",
       "    <tr>\n",
       "      <th>0</th>\n",
       "      <td>NaN</td>\n",
       "      <td>0</td>\n",
       "      <td>0</td>\n",
       "    </tr>\n",
       "  </tbody>\n",
       "</table>\n",
       "</div>"
      ],
      "text/plain": [
       "   URL  online  lastChecked\n",
       "0  NaN       0            0"
      ]
     },
     "execution_count": 341,
     "metadata": {},
     "output_type": "execute_result"
    }
   ],
   "source": [
    "tablename='postshells'\n",
    "\n",
    "pd.read_csv(read_inserted_table(dumpfile, tablename),\n",
    "            delimiter=\",\",\n",
    "            error_bad_lines=False).head(10)"
   ]
  },
  {
   "cell_type": "markdown",
   "metadata": {
    "deletable": true,
    "editable": true
   },
   "source": [
    "#### Q1: Is this table different from other previous loaded table? YES \n",
    "#### Q2: Is this table similar to any table in the generic Booter database schema? YES\n",
    "    - This table looks like: webshells\n",
    "#### Q3: Are there modifications required? \n",
    "    - On the table name: \n",
    "        o postshells -> webshells\n",
    "    - On the column type: \n",
    "        o \n",
    "    - On the column name:\n",
    "        o URL ->url\n",
    "        o online -> status\n",
    "        o lastChecked -> lastchecked\n",
    "    - Add required columns:\n",
    "        o id\n",
    "        o attacktype = 'POST'\n",
    "    - Split columns:\n",
    "        o "
   ]
  },
  {
   "cell_type": "markdown",
   "metadata": {
    "deletable": true,
    "editable": true
   },
   "source": [
    "### Modifying table: 'paypal_payments'"
   ]
  },
  {
   "cell_type": "code",
   "execution_count": 344,
   "metadata": {
    "collapsed": false,
    "deletable": true,
    "editable": true
   },
   "outputs": [
    {
     "data": {
      "text/html": [
       "<div>\n",
       "<table border=\"1\" class=\"dataframe\">\n",
       "  <thead>\n",
       "    <tr style=\"text-align: right;\">\n",
       "      <th></th>\n",
       "      <th>url</th>\n",
       "      <th>status</th>\n",
       "      <th>lastChecked</th>\n",
       "      <th>id</th>\n",
       "      <th>attacktype</th>\n",
       "    </tr>\n",
       "  </thead>\n",
       "  <tbody>\n",
       "    <tr>\n",
       "      <th>0</th>\n",
       "      <td>NaN</td>\n",
       "      <td>0</td>\n",
       "      <td>0</td>\n",
       "      <td>NaN</td>\n",
       "      <td>POST</td>\n",
       "    </tr>\n",
       "  </tbody>\n",
       "</table>\n",
       "</div>"
      ],
      "text/plain": [
       "   url  status  lastChecked  id attacktype\n",
       "0  NaN       0            0 NaN       POST"
      ]
     },
     "execution_count": 344,
     "metadata": {},
     "output_type": "execute_result"
    }
   ],
   "source": [
    "# Loading the correct table name\n",
    "df_webshells = pd.read_csv(read_inserted_table(dumpfile, tablename),\n",
    "                                delimiter=\",\",\n",
    "                                error_bad_lines=False)\n",
    "\n",
    "# Converting columns\n",
    "\n",
    "# Changing names of columns\n",
    "df_webshells.rename(columns = {'URL':'url',\n",
    "                             'online':'status',\n",
    "                             'lastCheked':'lastchecked'},\n",
    "                         inplace=True)\n",
    "\n",
    "# Creating empty columns (with \"\" [for future string] or np.nan [for future float])\n",
    "df_webshells['id']=np.nan\n",
    "df_webshells['attacktype']=\"POST\"\n",
    "\n",
    "# Showing some lines after adapt the table\n",
    "df_webshells.head(10)"
   ]
  },
  {
   "cell_type": "markdown",
   "metadata": {
    "deletable": true,
    "editable": true
   },
   "source": [
    "## 6.22. Table: 'profiles'"
   ]
  },
  {
   "cell_type": "markdown",
   "metadata": {
    "deletable": true,
    "editable": true
   },
   "source": [
    "### How this table looks like without modification?"
   ]
  },
  {
   "cell_type": "code",
   "execution_count": 345,
   "metadata": {
    "collapsed": false,
    "deletable": true,
    "editable": true
   },
   "outputs": [
    {
     "data": {
      "text/html": [
       "<div>\n",
       "<table border=\"1\" class=\"dataframe\">\n",
       "  <thead>\n",
       "    <tr style=\"text-align: right;\">\n",
       "      <th></th>\n",
       "      <th>ProfileId</th>\n",
       "      <th>UserId</th>\n",
       "      <th>UserName</th>\n",
       "      <th>FirstName</th>\n",
       "      <th>LastName</th>\n",
       "      <th>CompanyName</th>\n",
       "      <th>WebsiteUrl</th>\n",
       "      <th>ProfileTitle</th>\n",
       "      <th>ProfileText</th>\n",
       "      <th>Phone</th>\n",
       "      <th>Address</th>\n",
       "      <th>Street</th>\n",
       "      <th>City</th>\n",
       "      <th>State</th>\n",
       "      <th>Zip</th>\n",
       "      <th>Country</th>\n",
       "      <th>AvatarImage</th>\n",
       "      <th>Newsletter</th>\n",
       "      <th>Promotion</th>\n",
       "    </tr>\n",
       "  </thead>\n",
       "  <tbody>\n",
       "    <tr>\n",
       "      <th>0</th>\n",
       "      <td>21</td>\n",
       "      <td>16</td>\n",
       "      <td>\\txbreeezyii</td>\n",
       "      <td>\\t</td>\n",
       "      <td>\\t</td>\n",
       "      <td>\\tNULL</td>\n",
       "      <td>\\tNULL</td>\n",
       "      <td>\\tNULL</td>\n",
       "      <td>\\tNULL</td>\n",
       "      <td>\\tNULL</td>\n",
       "      <td>\\tNULL</td>\n",
       "      <td>\\tNULL</td>\n",
       "      <td>\\tNULL</td>\n",
       "      <td>\\tNULL</td>\n",
       "      <td>\\tNULL</td>\n",
       "      <td>\\tNULL</td>\n",
       "      <td>\\thttp://www.urgentbooter.info/site/user/uploa...</td>\n",
       "      <td>0</td>\n",
       "      <td>0</td>\n",
       "    </tr>\n",
       "    <tr>\n",
       "      <th>1</th>\n",
       "      <td>22</td>\n",
       "      <td>94</td>\n",
       "      <td>\\tsomething99</td>\n",
       "      <td>\\t</td>\n",
       "      <td>\\t</td>\n",
       "      <td>\\tNULL</td>\n",
       "      <td>\\tNULL</td>\n",
       "      <td>\\tNULL</td>\n",
       "      <td>\\tNULL</td>\n",
       "      <td>\\tNULL</td>\n",
       "      <td>\\tNULL</td>\n",
       "      <td>\\tNULL</td>\n",
       "      <td>\\tNULL</td>\n",
       "      <td>\\tNULL</td>\n",
       "      <td>\\tNULL</td>\n",
       "      <td>\\tNULL</td>\n",
       "      <td>\\thttp://urgentbooter.info/site/user/uploads/a...</td>\n",
       "      <td>0</td>\n",
       "      <td>0</td>\n",
       "    </tr>\n",
       "  </tbody>\n",
       "</table>\n",
       "</div>"
      ],
      "text/plain": [
       "   ProfileId  UserId       UserName FirstName LastName CompanyName WebsiteUrl  \\\n",
       "0         21      16   \\txbreeezyii        \\t       \\t      \\tNULL     \\tNULL   \n",
       "1         22      94  \\tsomething99        \\t       \\t      \\tNULL     \\tNULL   \n",
       "\n",
       "  ProfileTitle ProfileText   Phone Address  Street    City   State     Zip  \\\n",
       "0       \\tNULL      \\tNULL  \\tNULL  \\tNULL  \\tNULL  \\tNULL  \\tNULL  \\tNULL   \n",
       "1       \\tNULL      \\tNULL  \\tNULL  \\tNULL  \\tNULL  \\tNULL  \\tNULL  \\tNULL   \n",
       "\n",
       "  Country                                        AvatarImage  Newsletter  \\\n",
       "0  \\tNULL  \\thttp://www.urgentbooter.info/site/user/uploa...           0   \n",
       "1  \\tNULL  \\thttp://urgentbooter.info/site/user/uploads/a...           0   \n",
       "\n",
       "   Promotion  \n",
       "0          0  \n",
       "1          0  "
      ]
     },
     "execution_count": 345,
     "metadata": {},
     "output_type": "execute_result"
    }
   ],
   "source": [
    "tablename='profiles'\n",
    "\n",
    "pd.read_csv(read_inserted_table(dumpfile, tablename),\n",
    "            delimiter=\",\",\n",
    "            error_bad_lines=False).head(10)"
   ]
  },
  {
   "cell_type": "markdown",
   "metadata": {
    "deletable": true,
    "editable": true
   },
   "source": [
    "#### Q1: Is this table different from other previous loaded table? YES \n",
    "#### Q2: Is this table similar to any table in the generic Booter database schema? NO\n",
    "    - This table looks like: \n",
    "#### Q3: Are there modifications required? \n",
    "    - On the table name: \n",
    "        o \n",
    "    - On the column type: \n",
    "        o \n",
    "    - On the column name:\n",
    "        o \n",
    "    - Add required columns:\n",
    "        o \n",
    "    - Split columns:\n",
    "        o "
   ]
  },
  {
   "cell_type": "markdown",
   "metadata": {
    "deletable": true,
    "editable": true
   },
   "source": [
    "## 6.23. Table: 'roles'"
   ]
  },
  {
   "cell_type": "markdown",
   "metadata": {
    "deletable": true,
    "editable": true
   },
   "source": [
    "### How this table looks like without modification?"
   ]
  },
  {
   "cell_type": "code",
   "execution_count": 346,
   "metadata": {
    "collapsed": false,
    "deletable": true,
    "editable": true
   },
   "outputs": [
    {
     "data": {
      "text/html": [
       "<div>\n",
       "<table border=\"1\" class=\"dataframe\">\n",
       "  <thead>\n",
       "    <tr style=\"text-align: right;\">\n",
       "      <th></th>\n",
       "      <th>RoleId</th>\n",
       "      <th>RoleName</th>\n",
       "      <th>Description</th>\n",
       "    </tr>\n",
       "  </thead>\n",
       "  <tbody>\n",
       "    <tr>\n",
       "      <th>0</th>\n",
       "      <td>1</td>\n",
       "      <td>\\towner</td>\n",
       "      <td>\\tPriority 1 - Role with HIGHEST privileges - ...</td>\n",
       "    </tr>\n",
       "    <tr>\n",
       "      <th>1</th>\n",
       "      <td>2</td>\n",
       "      <td>\\tsuperadmin</td>\n",
       "      <td>\\tPriority 2 - Role with 2nd. HIGHEST privileges</td>\n",
       "    </tr>\n",
       "    <tr>\n",
       "      <th>2</th>\n",
       "      <td>3</td>\n",
       "      <td>\\tadministrator</td>\n",
       "      <td>\\tPriority 3 - Role with 3rd. HIGHEST privileges</td>\n",
       "    </tr>\n",
       "    <tr>\n",
       "      <th>3</th>\n",
       "      <td>4</td>\n",
       "      <td>\\tmember</td>\n",
       "      <td>\\tPriority 4 - Privileges are one step above \\...</td>\n",
       "    </tr>\n",
       "    <tr>\n",
       "      <th>4</th>\n",
       "      <td>5</td>\n",
       "      <td>\\tuser</td>\n",
       "      <td>\\tPriority 5 - Role with LOWEST privileges - T...</td>\n",
       "    </tr>\n",
       "  </tbody>\n",
       "</table>\n",
       "</div>"
      ],
      "text/plain": [
       "   RoleId         RoleName                                        Description\n",
       "0       1          \\towner  \\tPriority 1 - Role with HIGHEST privileges - ...\n",
       "1       2     \\tsuperadmin   \\tPriority 2 - Role with 2nd. HIGHEST privileges\n",
       "2       3  \\tadministrator   \\tPriority 3 - Role with 3rd. HIGHEST privileges\n",
       "3       4         \\tmember  \\tPriority 4 - Privileges are one step above \\...\n",
       "4       5           \\tuser  \\tPriority 5 - Role with LOWEST privileges - T..."
      ]
     },
     "execution_count": 346,
     "metadata": {},
     "output_type": "execute_result"
    }
   ],
   "source": [
    "tablename='roles'\n",
    "\n",
    "pd.read_csv(read_inserted_table(dumpfile, tablename),\n",
    "            delimiter=\",\",\n",
    "            error_bad_lines=False).head(10)"
   ]
  },
  {
   "cell_type": "markdown",
   "metadata": {
    "deletable": true,
    "editable": true
   },
   "source": [
    "#### Q1: Is this table different from other previous loaded table? YES \n",
    "#### Q2: Is this table similar to any table in the generic Booter database schema? NO\n",
    "    - This table looks like: \n",
    "#### Q3: Are there modifications required? \n",
    "    - On the table name: \n",
    "        o \n",
    "    - On the column type: \n",
    "        o \n",
    "    - On the column name:\n",
    "        o \n",
    "    - Add required columns:\n",
    "        o \n",
    "    - Split columns:\n",
    "        o "
   ]
  },
  {
   "cell_type": "markdown",
   "metadata": {
    "deletable": true,
    "editable": true
   },
   "source": [
    "## 6.24. Table: 'shell_percent_gold'"
   ]
  },
  {
   "cell_type": "markdown",
   "metadata": {
    "deletable": true,
    "editable": true
   },
   "source": [
    "### How this table looks like without modification?"
   ]
  },
  {
   "cell_type": "code",
   "execution_count": 347,
   "metadata": {
    "collapsed": false,
    "deletable": true,
    "editable": true
   },
   "outputs": [
    {
     "data": {
      "text/html": [
       "<div>\n",
       "<table border=\"1\" class=\"dataframe\">\n",
       "  <thead>\n",
       "    <tr style=\"text-align: right;\">\n",
       "      <th></th>\n",
       "      <th>message4</th>\n",
       "    </tr>\n",
       "  </thead>\n",
       "  <tbody>\n",
       "    <tr>\n",
       "      <th>0</th>\n",
       "      <td>100</td>\n",
       "    </tr>\n",
       "  </tbody>\n",
       "</table>\n",
       "</div>"
      ],
      "text/plain": [
       "   message4\n",
       "0       100"
      ]
     },
     "execution_count": 347,
     "metadata": {},
     "output_type": "execute_result"
    }
   ],
   "source": [
    "tablename='shell_percent_gold'\n",
    "\n",
    "pd.read_csv(read_inserted_table(dumpfile, tablename),\n",
    "            delimiter=\",\",\n",
    "            error_bad_lines=False).head(10)"
   ]
  },
  {
   "cell_type": "markdown",
   "metadata": {
    "deletable": true,
    "editable": true
   },
   "source": [
    "#### Q1: Is this table different from other previous loaded table? YES \n",
    "#### Q2: Is this table similar to any table in the generic Booter database schema? NO\n",
    "    - This table looks like: \n",
    "#### Q3: Are there modifications required? \n",
    "    - On the table name: \n",
    "        o \n",
    "    - On the column type: \n",
    "        o \n",
    "    - On the column name:\n",
    "        o \n",
    "    - Add required columns:\n",
    "        o \n",
    "    - Split columns:\n",
    "        o "
   ]
  },
  {
   "cell_type": "markdown",
   "metadata": {
    "deletable": true,
    "editable": true
   },
   "source": [
    "## 6.25. Table: 'shell_percent_silver'"
   ]
  },
  {
   "cell_type": "markdown",
   "metadata": {
    "deletable": true,
    "editable": true
   },
   "source": [
    "### How this table looks like without modification?"
   ]
  },
  {
   "cell_type": "code",
   "execution_count": 348,
   "metadata": {
    "collapsed": false,
    "deletable": true,
    "editable": true
   },
   "outputs": [
    {
     "data": {
      "text/html": [
       "<div>\n",
       "<table border=\"1\" class=\"dataframe\">\n",
       "  <thead>\n",
       "    <tr style=\"text-align: right;\">\n",
       "      <th></th>\n",
       "      <th>message5</th>\n",
       "    </tr>\n",
       "  </thead>\n",
       "  <tbody>\n",
       "    <tr>\n",
       "      <th>0</th>\n",
       "      <td>85</td>\n",
       "    </tr>\n",
       "  </tbody>\n",
       "</table>\n",
       "</div>"
      ],
      "text/plain": [
       "   message5\n",
       "0        85"
      ]
     },
     "execution_count": 348,
     "metadata": {},
     "output_type": "execute_result"
    }
   ],
   "source": [
    "tablename='shell_percent_silver'\n",
    "\n",
    "pd.read_csv(read_inserted_table(dumpfile, tablename),\n",
    "            delimiter=\",\",\n",
    "            error_bad_lines=False).head(10)"
   ]
  },
  {
   "cell_type": "markdown",
   "metadata": {
    "deletable": true,
    "editable": true
   },
   "source": [
    "#### Q1: Is this table different from other previous loaded table? YES \n",
    "#### Q2: Is this table similar to any table in the generic Booter database schema? NO\n",
    "    - This table looks like: \n",
    "#### Q3: Are there modifications required? \n",
    "    - On the table name: \n",
    "        o \n",
    "    - On the column type: \n",
    "        o \n",
    "    - On the column name:\n",
    "        o \n",
    "    - Add required columns:\n",
    "        o \n",
    "    - Split columns:\n",
    "        o "
   ]
  },
  {
   "cell_type": "markdown",
   "metadata": {
    "deletable": true,
    "editable": true
   },
   "source": [
    "## 6.26. Table: 'shells'"
   ]
  },
  {
   "cell_type": "markdown",
   "metadata": {
    "deletable": true,
    "editable": true
   },
   "source": [
    "### How this table looks like without modification?"
   ]
  },
  {
   "cell_type": "code",
   "execution_count": 349,
   "metadata": {
    "collapsed": false,
    "deletable": true,
    "editable": true
   },
   "outputs": [
    {
     "data": {
      "text/html": [
       "<div>\n",
       "<table border=\"1\" class=\"dataframe\">\n",
       "  <thead>\n",
       "    <tr style=\"text-align: right;\">\n",
       "      <th></th>\n",
       "      <th>URL</th>\n",
       "      <th>online</th>\n",
       "      <th>lastChecked</th>\n",
       "    </tr>\n",
       "  </thead>\n",
       "  <tbody>\n",
       "    <tr>\n",
       "      <th>0</th>\n",
       "      <td>NaN</td>\n",
       "      <td>0</td>\n",
       "      <td>0</td>\n",
       "    </tr>\n",
       "  </tbody>\n",
       "</table>\n",
       "</div>"
      ],
      "text/plain": [
       "   URL  online  lastChecked\n",
       "0  NaN       0            0"
      ]
     },
     "execution_count": 349,
     "metadata": {},
     "output_type": "execute_result"
    }
   ],
   "source": [
    "tablename='shells'\n",
    "\n",
    "pd.read_csv(read_inserted_table(dumpfile, tablename),\n",
    "            delimiter=\",\",\n",
    "            error_bad_lines=False).head(10)"
   ]
  },
  {
   "cell_type": "markdown",
   "metadata": {
    "deletable": true,
    "editable": true
   },
   "source": [
    "#### Q1: Is this table different from other previous loaded table? YES \n",
    "#### Q2: Is this table similar to any table in the generic Booter database schema? NO\n",
    "    - This table looks like: \n",
    "#### Q3: Are there modifications required? \n",
    "    - On the table name: \n",
    "        o \n",
    "    - On the column type: \n",
    "        o \n",
    "    - On the column name:\n",
    "        o \n",
    "    - Add required columns:\n",
    "        o \n",
    "    - Split columns:\n",
    "        o "
   ]
  },
  {
   "cell_type": "markdown",
   "metadata": {
    "deletable": true,
    "editable": true
   },
   "source": [
    "## 6.27. Table: 'users'"
   ]
  },
  {
   "cell_type": "markdown",
   "metadata": {
    "deletable": true,
    "editable": true
   },
   "source": [
    "### How this table looks like without modification?"
   ]
  },
  {
   "cell_type": "code",
   "execution_count": 437,
   "metadata": {
    "collapsed": false,
    "deletable": true,
    "editable": true
   },
   "outputs": [
    {
     "data": {
      "text/html": [
       "<div>\n",
       "<table border=\"1\" class=\"dataframe\">\n",
       "  <thead>\n",
       "    <tr style=\"text-align: right;\">\n",
       "      <th></th>\n",
       "      <th>UserId</th>\n",
       "      <th>UserName</th>\n",
       "      <th>Password</th>\n",
       "      <th>PasswordQuestion</th>\n",
       "      <th>PasswordAnswer</th>\n",
       "      <th>Email</th>\n",
       "      <th>myAttacks</th>\n",
       "      <th>attacks</th>\n",
       "      <th>notepad</th>\n",
       "      <th>IsApproved</th>\n",
       "      <th>...</th>\n",
       "      <th>PremiumStartDate</th>\n",
       "      <th>PremiumEndDate</th>\n",
       "      <th>PremiumAmount</th>\n",
       "      <th>IsCancelled</th>\n",
       "      <th>CancelledDate</th>\n",
       "      <th>IsEndOfTerm</th>\n",
       "      <th>EndOfTermDate</th>\n",
       "      <th>IsPending</th>\n",
       "      <th>PendingDate</th>\n",
       "      <th>PremiumLevel</th>\n",
       "    </tr>\n",
       "  </thead>\n",
       "  <tbody>\n",
       "    <tr>\n",
       "      <th>0</th>\n",
       "      <td>1</td>\n",
       "      <td>\\tadmin</td>\n",
       "      <td>\\t94fd897ce1fa5acb0439c1e7ec4cb6257758cf7d</td>\n",
       "      <td>\\tyes</td>\n",
       "      <td>\\tno</td>\n",
       "      <td>\\tmomentsjunk@gmail.com</td>\n",
       "      <td>0</td>\n",
       "      <td>\\t</td>\n",
       "      <td>\\t</td>\n",
       "      <td>1</td>\n",
       "      <td>...</td>\n",
       "      <td>\\t2011-01-01 00:00:00</td>\n",
       "      <td>\\t2030-01-01 00:00:00</td>\n",
       "      <td>5.00</td>\n",
       "      <td>1</td>\n",
       "      <td>\\t0000-00-00 00:00:00</td>\n",
       "      <td>0</td>\n",
       "      <td>\\t0000-00-00 00:00:00</td>\n",
       "      <td>0</td>\n",
       "      <td>\\t0000-00-00 00:00:00</td>\n",
       "      <td>2</td>\n",
       "    </tr>\n",
       "    <tr>\n",
       "      <th>1</th>\n",
       "      <td>9</td>\n",
       "      <td>\\tgod</td>\n",
       "      <td>\\t94fd897ce1fa5acb0439c1e7ec4cb6257758cf7d</td>\n",
       "      <td>\\tsdasd</td>\n",
       "      <td>\\tsdasd</td>\n",
       "      <td>\\taksdjklad@gmail.com</td>\n",
       "      <td>0</td>\n",
       "      <td>\\t</td>\n",
       "      <td>\\t</td>\n",
       "      <td>1</td>\n",
       "      <td>...</td>\n",
       "      <td>\\t0000-00-00 00:00:00</td>\n",
       "      <td>\\t0000-00-00 00:00:00</td>\n",
       "      <td>0.00</td>\n",
       "      <td>0</td>\n",
       "      <td>\\t0000-00-00 00:00:00</td>\n",
       "      <td>0</td>\n",
       "      <td>\\t0000-00-00 00:00:00</td>\n",
       "      <td>0</td>\n",
       "      <td>\\t0000-00-00 00:00:00</td>\n",
       "      <td>0</td>\n",
       "    </tr>\n",
       "    <tr>\n",
       "      <th>2</th>\n",
       "      <td>3</td>\n",
       "      <td>\\tblurreffectog</td>\n",
       "      <td>\\t84cce396b8674cf25c894ca1e67231563868f9ac</td>\n",
       "      <td>\\tIdk</td>\n",
       "      <td>\\tidkeither</td>\n",
       "      <td>\\togdox@live.ca</td>\n",
       "      <td>0</td>\n",
       "      <td>\\t</td>\n",
       "      <td>\\t</td>\n",
       "      <td>1</td>\n",
       "      <td>...</td>\n",
       "      <td>\\t0000-00-00 00:00:00</td>\n",
       "      <td>\\t0000-00-00 00:00:00</td>\n",
       "      <td>0.00</td>\n",
       "      <td>0</td>\n",
       "      <td>\\t0000-00-00 00:00:00</td>\n",
       "      <td>0</td>\n",
       "      <td>\\t0000-00-00 00:00:00</td>\n",
       "      <td>0</td>\n",
       "      <td>\\t0000-00-00 00:00:00</td>\n",
       "      <td>0</td>\n",
       "    </tr>\n",
       "    <tr>\n",
       "      <th>3</th>\n",
       "      <td>4</td>\n",
       "      <td>\\ttropicks</td>\n",
       "      <td>\\te53ab9ec74a2a703351d316bf7504a07ad00fdaf</td>\n",
       "      <td>\\tIdgaf</td>\n",
       "      <td>\\tDywtd</td>\n",
       "      <td>\\tjerry.jennings13@yahoo.com</td>\n",
       "      <td>0</td>\n",
       "      <td>\\t</td>\n",
       "      <td>\\t</td>\n",
       "      <td>1</td>\n",
       "      <td>...</td>\n",
       "      <td>\\t2012-04-10 00:00:00</td>\n",
       "      <td>\\t3000-04-10 00:00:00</td>\n",
       "      <td>0.00</td>\n",
       "      <td>0</td>\n",
       "      <td>\\t0000-00-00 00:00:00</td>\n",
       "      <td>0</td>\n",
       "      <td>\\t0000-00-00 00:00:00</td>\n",
       "      <td>0</td>\n",
       "      <td>\\t0000-00-00 00:00:00</td>\n",
       "      <td>0</td>\n",
       "    </tr>\n",
       "    <tr>\n",
       "      <th>4</th>\n",
       "      <td>5</td>\n",
       "      <td>\\tmoments</td>\n",
       "      <td>\\t894946ce4d08e1053b88a272f0a42c944719edc0</td>\n",
       "      <td>\\tWhat\\\\\\\\\\\\\\\\\\\\\\\\\\\\\\s your fav song?</td>\n",
       "      <td>\\tHow to love</td>\n",
       "      <td>\\tatroyer36@gmail.com</td>\n",
       "      <td>60</td>\n",
       "      <td>\\t88.80.12.46--1335224668::</td>\n",
       "      <td>Rates: http://gyazo.com/f28825cfe41fdd339f0376...</td>\n",
       "      <td>1</td>\n",
       "      <td>...</td>\n",
       "      <td>\\t2012-04-10 00:00:00</td>\n",
       "      <td>\\t3000-08-03 00:00:00</td>\n",
       "      <td>0.25</td>\n",
       "      <td>0</td>\n",
       "      <td>\\t0000-00-00 00:00:00</td>\n",
       "      <td>0</td>\n",
       "      <td>\\t0000-00-00 00:00:00</td>\n",
       "      <td>0</td>\n",
       "      <td>\\t0000-00-00 00:00:00</td>\n",
       "      <td>2</td>\n",
       "    </tr>\n",
       "    <tr>\n",
       "      <th>5</th>\n",
       "      <td>6</td>\n",
       "      <td>\\talex</td>\n",
       "      <td>\\t10d2f31e298455a42788fe927700f83c70633b20</td>\n",
       "      <td>\\tWhat is your first name?</td>\n",
       "      <td>\\tAlex</td>\n",
       "      <td>\\taltroyer@hotmail.com</td>\n",
       "      <td>54</td>\n",
       "      <td>\\t97.87.106.58--1335232443::</td>\n",
       "      <td>\\t</td>\n",
       "      <td>1</td>\n",
       "      <td>...</td>\n",
       "      <td>\\t2012-04-10 00:00:00</td>\n",
       "      <td>\\t3000-10-18 00:00:00</td>\n",
       "      <td>0.00</td>\n",
       "      <td>0</td>\n",
       "      <td>\\t0000-00-00 00:00:00</td>\n",
       "      <td>0</td>\n",
       "      <td>\\t0000-00-00 00:00:00</td>\n",
       "      <td>0</td>\n",
       "      <td>\\t0000-00-00 00:00:00</td>\n",
       "      <td>2</td>\n",
       "    </tr>\n",
       "    <tr>\n",
       "      <th>6</th>\n",
       "      <td>10</td>\n",
       "      <td>\\txgenastros</td>\n",
       "      <td>\\t91677b8ef1d23b1f55274cb683e314214579b40c</td>\n",
       "      <td>\\tWhere were you born?</td>\n",
       "      <td>\\tMichigan</td>\n",
       "      <td>\\tnickk54@live.com</td>\n",
       "      <td>0</td>\n",
       "      <td>\\t</td>\n",
       "      <td>\\t</td>\n",
       "      <td>1</td>\n",
       "      <td>...</td>\n",
       "      <td>\\t0000-00-00 00:00:00</td>\n",
       "      <td>\\t0000-00-00 00:00:00</td>\n",
       "      <td>0.00</td>\n",
       "      <td>0</td>\n",
       "      <td>\\t0000-00-00 00:00:00</td>\n",
       "      <td>0</td>\n",
       "      <td>\\t0000-00-00 00:00:00</td>\n",
       "      <td>0</td>\n",
       "      <td>\\t0000-00-00 00:00:00</td>\n",
       "      <td>0</td>\n",
       "    </tr>\n",
       "    <tr>\n",
       "      <th>7</th>\n",
       "      <td>11</td>\n",
       "      <td>\\taaron</td>\n",
       "      <td>\\ta98d114c5520559433b9d409e6e60eedf8b278a9</td>\n",
       "      <td>\\tWhats a ddoser?</td>\n",
       "      <td>\\tDick</td>\n",
       "      <td>\\tspaceage94@hotmail.com</td>\n",
       "      <td>0</td>\n",
       "      <td>\\t</td>\n",
       "      <td>\\t</td>\n",
       "      <td>1</td>\n",
       "      <td>...</td>\n",
       "      <td>\\t0000-00-00 00:00:00</td>\n",
       "      <td>\\t0000-00-00 00:00:00</td>\n",
       "      <td>0.00</td>\n",
       "      <td>0</td>\n",
       "      <td>\\t0000-00-00 00:00:00</td>\n",
       "      <td>0</td>\n",
       "      <td>\\t0000-00-00 00:00:00</td>\n",
       "      <td>0</td>\n",
       "      <td>\\t0000-00-00 00:00:00</td>\n",
       "      <td>0</td>\n",
       "    </tr>\n",
       "    <tr>\n",
       "      <th>8</th>\n",
       "      <td>12</td>\n",
       "      <td>\\tcustomhabbo</td>\n",
       "      <td>\\t470d0a7c1f75531adaef55effcd0b6a732a09c75</td>\n",
       "      <td>\\tHow old are you?</td>\n",
       "      <td>\\t2</td>\n",
       "      <td>\\tcustomhabbo@hotmail.com</td>\n",
       "      <td>0</td>\n",
       "      <td>\\t</td>\n",
       "      <td>\\t</td>\n",
       "      <td>1</td>\n",
       "      <td>...</td>\n",
       "      <td>\\t0000-00-00 00:00:00</td>\n",
       "      <td>\\t0000-00-00 00:00:00</td>\n",
       "      <td>0.00</td>\n",
       "      <td>0</td>\n",
       "      <td>\\t0000-00-00 00:00:00</td>\n",
       "      <td>0</td>\n",
       "      <td>\\t0000-00-00 00:00:00</td>\n",
       "      <td>0</td>\n",
       "      <td>\\t0000-00-00 00:00:00</td>\n",
       "      <td>0</td>\n",
       "    </tr>\n",
       "    <tr>\n",
       "      <th>9</th>\n",
       "      <td>13</td>\n",
       "      <td>\\tbilliam</td>\n",
       "      <td>\\t73bf8422f58c52cc0e252829f2c47889af186b3f</td>\n",
       "      <td>\\tWhere were you born</td>\n",
       "      <td>\\tsingapore</td>\n",
       "      <td>\\tl3gitmlgpro1@yahoo.com</td>\n",
       "      <td>0</td>\n",
       "      <td>\\t</td>\n",
       "      <td>\\t</td>\n",
       "      <td>1</td>\n",
       "      <td>...</td>\n",
       "      <td>\\t2012-04-11 00:00:00</td>\n",
       "      <td>\\t3000-08-03 00:00:00</td>\n",
       "      <td>0.00</td>\n",
       "      <td>0</td>\n",
       "      <td>\\t0000-00-00 00:00:00</td>\n",
       "      <td>0</td>\n",
       "      <td>\\t0000-00-00 00:00:00</td>\n",
       "      <td>0</td>\n",
       "      <td>\\t0000-00-00 00:00:00</td>\n",
       "      <td>2</td>\n",
       "    </tr>\n",
       "  </tbody>\n",
       "</table>\n",
       "<p>10 rows × 35 columns</p>\n",
       "</div>"
      ],
      "text/plain": [
       "   UserId         UserName                                    Password  \\\n",
       "0       1          \\tadmin  \\t94fd897ce1fa5acb0439c1e7ec4cb6257758cf7d   \n",
       "1       9            \\tgod  \\t94fd897ce1fa5acb0439c1e7ec4cb6257758cf7d   \n",
       "2       3  \\tblurreffectog  \\t84cce396b8674cf25c894ca1e67231563868f9ac   \n",
       "3       4       \\ttropicks  \\te53ab9ec74a2a703351d316bf7504a07ad00fdaf   \n",
       "4       5        \\tmoments  \\t894946ce4d08e1053b88a272f0a42c944719edc0   \n",
       "5       6           \\talex  \\t10d2f31e298455a42788fe927700f83c70633b20   \n",
       "6      10     \\txgenastros  \\t91677b8ef1d23b1f55274cb683e314214579b40c   \n",
       "7      11          \\taaron  \\ta98d114c5520559433b9d409e6e60eedf8b278a9   \n",
       "8      12    \\tcustomhabbo  \\t470d0a7c1f75531adaef55effcd0b6a732a09c75   \n",
       "9      13        \\tbilliam  \\t73bf8422f58c52cc0e252829f2c47889af186b3f   \n",
       "\n",
       "                        PasswordQuestion PasswordAnswer  \\\n",
       "0                                  \\tyes           \\tno   \n",
       "1                                \\tsdasd        \\tsdasd   \n",
       "2                                  \\tIdk    \\tidkeither   \n",
       "3                                \\tIdgaf        \\tDywtd   \n",
       "4  \\tWhat\\\\\\\\\\\\\\\\\\\\\\\\\\\\\\s your fav song?  \\tHow to love   \n",
       "5             \\tWhat is your first name?         \\tAlex   \n",
       "6                 \\tWhere were you born?     \\tMichigan   \n",
       "7                      \\tWhats a ddoser?         \\tDick   \n",
       "8                     \\tHow old are you?            \\t2   \n",
       "9                  \\tWhere were you born    \\tsingapore   \n",
       "\n",
       "                          Email  myAttacks                       attacks  \\\n",
       "0       \\tmomentsjunk@gmail.com          0                            \\t   \n",
       "1         \\taksdjklad@gmail.com          0                            \\t   \n",
       "2               \\togdox@live.ca          0                            \\t   \n",
       "3  \\tjerry.jennings13@yahoo.com          0                            \\t   \n",
       "4         \\tatroyer36@gmail.com         60   \\t88.80.12.46--1335224668::   \n",
       "5        \\taltroyer@hotmail.com         54  \\t97.87.106.58--1335232443::   \n",
       "6            \\tnickk54@live.com          0                            \\t   \n",
       "7      \\tspaceage94@hotmail.com          0                            \\t   \n",
       "8     \\tcustomhabbo@hotmail.com          0                            \\t   \n",
       "9      \\tl3gitmlgpro1@yahoo.com          0                            \\t   \n",
       "\n",
       "                                             notepad  IsApproved     ...       \\\n",
       "0                                                 \\t           1     ...        \n",
       "1                                                 \\t           1     ...        \n",
       "2                                                 \\t           1     ...        \n",
       "3                                                 \\t           1     ...        \n",
       "4  Rates: http://gyazo.com/f28825cfe41fdd339f0376...           1     ...        \n",
       "5                                                 \\t           1     ...        \n",
       "6                                                 \\t           1     ...        \n",
       "7                                                 \\t           1     ...        \n",
       "8                                                 \\t           1     ...        \n",
       "9                                                 \\t           1     ...        \n",
       "\n",
       "        PremiumStartDate         PremiumEndDate PremiumAmount IsCancelled  \\\n",
       "0  \\t2011-01-01 00:00:00  \\t2030-01-01 00:00:00          5.00           1   \n",
       "1  \\t0000-00-00 00:00:00  \\t0000-00-00 00:00:00          0.00           0   \n",
       "2  \\t0000-00-00 00:00:00  \\t0000-00-00 00:00:00          0.00           0   \n",
       "3  \\t2012-04-10 00:00:00  \\t3000-04-10 00:00:00          0.00           0   \n",
       "4  \\t2012-04-10 00:00:00  \\t3000-08-03 00:00:00          0.25           0   \n",
       "5  \\t2012-04-10 00:00:00  \\t3000-10-18 00:00:00          0.00           0   \n",
       "6  \\t0000-00-00 00:00:00  \\t0000-00-00 00:00:00          0.00           0   \n",
       "7  \\t0000-00-00 00:00:00  \\t0000-00-00 00:00:00          0.00           0   \n",
       "8  \\t0000-00-00 00:00:00  \\t0000-00-00 00:00:00          0.00           0   \n",
       "9  \\t2012-04-11 00:00:00  \\t3000-08-03 00:00:00          0.00           0   \n",
       "\n",
       "           CancelledDate IsEndOfTerm          EndOfTermDate IsPending  \\\n",
       "0  \\t0000-00-00 00:00:00           0  \\t0000-00-00 00:00:00         0   \n",
       "1  \\t0000-00-00 00:00:00           0  \\t0000-00-00 00:00:00         0   \n",
       "2  \\t0000-00-00 00:00:00           0  \\t0000-00-00 00:00:00         0   \n",
       "3  \\t0000-00-00 00:00:00           0  \\t0000-00-00 00:00:00         0   \n",
       "4  \\t0000-00-00 00:00:00           0  \\t0000-00-00 00:00:00         0   \n",
       "5  \\t0000-00-00 00:00:00           0  \\t0000-00-00 00:00:00         0   \n",
       "6  \\t0000-00-00 00:00:00           0  \\t0000-00-00 00:00:00         0   \n",
       "7  \\t0000-00-00 00:00:00           0  \\t0000-00-00 00:00:00         0   \n",
       "8  \\t0000-00-00 00:00:00           0  \\t0000-00-00 00:00:00         0   \n",
       "9  \\t0000-00-00 00:00:00           0  \\t0000-00-00 00:00:00         0   \n",
       "\n",
       "             PendingDate PremiumLevel  \n",
       "0  \\t0000-00-00 00:00:00            2  \n",
       "1  \\t0000-00-00 00:00:00            0  \n",
       "2  \\t0000-00-00 00:00:00            0  \n",
       "3  \\t0000-00-00 00:00:00            0  \n",
       "4  \\t0000-00-00 00:00:00            2  \n",
       "5  \\t0000-00-00 00:00:00            2  \n",
       "6  \\t0000-00-00 00:00:00            0  \n",
       "7  \\t0000-00-00 00:00:00            0  \n",
       "8  \\t0000-00-00 00:00:00            0  \n",
       "9  \\t0000-00-00 00:00:00            2  \n",
       "\n",
       "[10 rows x 35 columns]"
      ]
     },
     "execution_count": 437,
     "metadata": {},
     "output_type": "execute_result"
    }
   ],
   "source": [
    "tablename='users'\n",
    "\n",
    "pd.read_csv(read_inserted_table2(dumpfile, tablename),delimiter=\",\",error_bad_lines=False).head(10)"
   ]
  },
  {
   "cell_type": "markdown",
   "metadata": {
    "deletable": true,
    "editable": true
   },
   "source": [
    "#### Q1: Is this table different from other previous loaded table? YES\n",
    "#### Q2: Is this table similar to any table in the generic Booter database schema? YES\n",
    "    - This table looks like: users\n",
    "    \n",
    "#### Q3: Are there modifications required? \n",
    "    - On the table name: \n",
    "        o \n",
    "    - On the column type: \n",
    "        o EndOfTermDate -> datetimeinvertedstring2datetime()\n",
    "    - On the column name:\n",
    "        o UserId -> userid\n",
    "        o UserName -> username \n",
    "        o Email -> useremail \n",
    "        o Password -> password \n",
    "        o EndOfTermDate -> expire\n",
    "    - Add required columns:\n",
    "        o planid\n",
    "    - Split columns:\n",
    "        o "
   ]
  },
  {
   "cell_type": "markdown",
   "metadata": {
    "deletable": true,
    "editable": true
   },
   "source": [
    "### Modifying table: 'users'"
   ]
  },
  {
   "cell_type": "code",
   "execution_count": 438,
   "metadata": {
    "collapsed": false,
    "deletable": true,
    "editable": true
   },
   "outputs": [
    {
     "data": {
      "text/html": [
       "<div>\n",
       "<table border=\"1\" class=\"dataframe\">\n",
       "  <thead>\n",
       "    <tr style=\"text-align: right;\">\n",
       "      <th></th>\n",
       "      <th>userid</th>\n",
       "      <th>username</th>\n",
       "      <th>password</th>\n",
       "      <th>PasswordQuestion</th>\n",
       "      <th>PasswordAnswer</th>\n",
       "      <th>useremail</th>\n",
       "      <th>myAttacks</th>\n",
       "      <th>attacks</th>\n",
       "      <th>notepad</th>\n",
       "      <th>IsApproved</th>\n",
       "      <th>...</th>\n",
       "      <th>PremiumEndDate</th>\n",
       "      <th>PremiumAmount</th>\n",
       "      <th>IsCancelled</th>\n",
       "      <th>CancelledDate</th>\n",
       "      <th>IsEndOfTerm</th>\n",
       "      <th>expire</th>\n",
       "      <th>IsPending</th>\n",
       "      <th>PendingDate</th>\n",
       "      <th>PremiumLevel</th>\n",
       "      <th>planid</th>\n",
       "    </tr>\n",
       "  </thead>\n",
       "  <tbody>\n",
       "    <tr>\n",
       "      <th>0</th>\n",
       "      <td>1</td>\n",
       "      <td>admin</td>\n",
       "      <td>94fd897ce1fa5acb0439c1e7ec4cb6257758cf7d</td>\n",
       "      <td>\\tyes</td>\n",
       "      <td>\\tno</td>\n",
       "      <td>momentsjunk@gmail.com</td>\n",
       "      <td>0</td>\n",
       "      <td>\\t</td>\n",
       "      <td>\\t</td>\n",
       "      <td>1</td>\n",
       "      <td>...</td>\n",
       "      <td>\\t2030-01-01 00:00:00</td>\n",
       "      <td>5.00</td>\n",
       "      <td>1</td>\n",
       "      <td>\\t0000-00-00 00:00:00</td>\n",
       "      <td>0</td>\n",
       "      <td>NaT</td>\n",
       "      <td>0</td>\n",
       "      <td>\\t0000-00-00 00:00:00</td>\n",
       "      <td>2</td>\n",
       "      <td></td>\n",
       "    </tr>\n",
       "    <tr>\n",
       "      <th>1</th>\n",
       "      <td>9</td>\n",
       "      <td>god</td>\n",
       "      <td>94fd897ce1fa5acb0439c1e7ec4cb6257758cf7d</td>\n",
       "      <td>\\tsdasd</td>\n",
       "      <td>\\tsdasd</td>\n",
       "      <td>aksdjklad@gmail.com</td>\n",
       "      <td>0</td>\n",
       "      <td>\\t</td>\n",
       "      <td>\\t</td>\n",
       "      <td>1</td>\n",
       "      <td>...</td>\n",
       "      <td>\\t0000-00-00 00:00:00</td>\n",
       "      <td>0.00</td>\n",
       "      <td>0</td>\n",
       "      <td>\\t0000-00-00 00:00:00</td>\n",
       "      <td>0</td>\n",
       "      <td>NaT</td>\n",
       "      <td>0</td>\n",
       "      <td>\\t0000-00-00 00:00:00</td>\n",
       "      <td>0</td>\n",
       "      <td></td>\n",
       "    </tr>\n",
       "    <tr>\n",
       "      <th>2</th>\n",
       "      <td>3</td>\n",
       "      <td>blurreffectog</td>\n",
       "      <td>84cce396b8674cf25c894ca1e67231563868f9ac</td>\n",
       "      <td>\\tIdk</td>\n",
       "      <td>\\tidkeither</td>\n",
       "      <td>ogdox@live.ca</td>\n",
       "      <td>0</td>\n",
       "      <td>\\t</td>\n",
       "      <td>\\t</td>\n",
       "      <td>1</td>\n",
       "      <td>...</td>\n",
       "      <td>\\t0000-00-00 00:00:00</td>\n",
       "      <td>0.00</td>\n",
       "      <td>0</td>\n",
       "      <td>\\t0000-00-00 00:00:00</td>\n",
       "      <td>0</td>\n",
       "      <td>NaT</td>\n",
       "      <td>0</td>\n",
       "      <td>\\t0000-00-00 00:00:00</td>\n",
       "      <td>0</td>\n",
       "      <td></td>\n",
       "    </tr>\n",
       "    <tr>\n",
       "      <th>3</th>\n",
       "      <td>4</td>\n",
       "      <td>tropicks</td>\n",
       "      <td>e53ab9ec74a2a703351d316bf7504a07ad00fdaf</td>\n",
       "      <td>\\tIdgaf</td>\n",
       "      <td>\\tDywtd</td>\n",
       "      <td>jerry.jennings13@yahoo.com</td>\n",
       "      <td>0</td>\n",
       "      <td>\\t</td>\n",
       "      <td>\\t</td>\n",
       "      <td>1</td>\n",
       "      <td>...</td>\n",
       "      <td>\\t3000-04-10 00:00:00</td>\n",
       "      <td>0.00</td>\n",
       "      <td>0</td>\n",
       "      <td>\\t0000-00-00 00:00:00</td>\n",
       "      <td>0</td>\n",
       "      <td>NaT</td>\n",
       "      <td>0</td>\n",
       "      <td>\\t0000-00-00 00:00:00</td>\n",
       "      <td>0</td>\n",
       "      <td></td>\n",
       "    </tr>\n",
       "    <tr>\n",
       "      <th>4</th>\n",
       "      <td>5</td>\n",
       "      <td>moments</td>\n",
       "      <td>894946ce4d08e1053b88a272f0a42c944719edc0</td>\n",
       "      <td>\\tWhat\\\\\\\\\\\\\\\\\\\\\\\\\\\\\\s your fav song?</td>\n",
       "      <td>\\tHow to love</td>\n",
       "      <td>atroyer36@gmail.com</td>\n",
       "      <td>60</td>\n",
       "      <td>\\t88.80.12.46--1335224668::</td>\n",
       "      <td>Rates: http://gyazo.com/f28825cfe41fdd339f0376...</td>\n",
       "      <td>1</td>\n",
       "      <td>...</td>\n",
       "      <td>\\t3000-08-03 00:00:00</td>\n",
       "      <td>0.25</td>\n",
       "      <td>0</td>\n",
       "      <td>\\t0000-00-00 00:00:00</td>\n",
       "      <td>0</td>\n",
       "      <td>NaT</td>\n",
       "      <td>0</td>\n",
       "      <td>\\t0000-00-00 00:00:00</td>\n",
       "      <td>2</td>\n",
       "      <td></td>\n",
       "    </tr>\n",
       "    <tr>\n",
       "      <th>5</th>\n",
       "      <td>6</td>\n",
       "      <td>alex</td>\n",
       "      <td>10d2f31e298455a42788fe927700f83c70633b20</td>\n",
       "      <td>\\tWhat is your first name?</td>\n",
       "      <td>\\tAlex</td>\n",
       "      <td>altroyer@hotmail.com</td>\n",
       "      <td>54</td>\n",
       "      <td>\\t97.87.106.58--1335232443::</td>\n",
       "      <td>\\t</td>\n",
       "      <td>1</td>\n",
       "      <td>...</td>\n",
       "      <td>\\t3000-10-18 00:00:00</td>\n",
       "      <td>0.00</td>\n",
       "      <td>0</td>\n",
       "      <td>\\t0000-00-00 00:00:00</td>\n",
       "      <td>0</td>\n",
       "      <td>NaT</td>\n",
       "      <td>0</td>\n",
       "      <td>\\t0000-00-00 00:00:00</td>\n",
       "      <td>2</td>\n",
       "      <td></td>\n",
       "    </tr>\n",
       "    <tr>\n",
       "      <th>6</th>\n",
       "      <td>10</td>\n",
       "      <td>xgenastros</td>\n",
       "      <td>91677b8ef1d23b1f55274cb683e314214579b40c</td>\n",
       "      <td>\\tWhere were you born?</td>\n",
       "      <td>\\tMichigan</td>\n",
       "      <td>nickk54@live.com</td>\n",
       "      <td>0</td>\n",
       "      <td>\\t</td>\n",
       "      <td>\\t</td>\n",
       "      <td>1</td>\n",
       "      <td>...</td>\n",
       "      <td>\\t0000-00-00 00:00:00</td>\n",
       "      <td>0.00</td>\n",
       "      <td>0</td>\n",
       "      <td>\\t0000-00-00 00:00:00</td>\n",
       "      <td>0</td>\n",
       "      <td>NaT</td>\n",
       "      <td>0</td>\n",
       "      <td>\\t0000-00-00 00:00:00</td>\n",
       "      <td>0</td>\n",
       "      <td></td>\n",
       "    </tr>\n",
       "    <tr>\n",
       "      <th>7</th>\n",
       "      <td>11</td>\n",
       "      <td>aaron</td>\n",
       "      <td>a98d114c5520559433b9d409e6e60eedf8b278a9</td>\n",
       "      <td>\\tWhats a ddoser?</td>\n",
       "      <td>\\tDick</td>\n",
       "      <td>spaceage94@hotmail.com</td>\n",
       "      <td>0</td>\n",
       "      <td>\\t</td>\n",
       "      <td>\\t</td>\n",
       "      <td>1</td>\n",
       "      <td>...</td>\n",
       "      <td>\\t0000-00-00 00:00:00</td>\n",
       "      <td>0.00</td>\n",
       "      <td>0</td>\n",
       "      <td>\\t0000-00-00 00:00:00</td>\n",
       "      <td>0</td>\n",
       "      <td>NaT</td>\n",
       "      <td>0</td>\n",
       "      <td>\\t0000-00-00 00:00:00</td>\n",
       "      <td>0</td>\n",
       "      <td></td>\n",
       "    </tr>\n",
       "    <tr>\n",
       "      <th>8</th>\n",
       "      <td>12</td>\n",
       "      <td>customhabbo</td>\n",
       "      <td>470d0a7c1f75531adaef55effcd0b6a732a09c75</td>\n",
       "      <td>\\tHow old are you?</td>\n",
       "      <td>\\t2</td>\n",
       "      <td>customhabbo@hotmail.com</td>\n",
       "      <td>0</td>\n",
       "      <td>\\t</td>\n",
       "      <td>\\t</td>\n",
       "      <td>1</td>\n",
       "      <td>...</td>\n",
       "      <td>\\t0000-00-00 00:00:00</td>\n",
       "      <td>0.00</td>\n",
       "      <td>0</td>\n",
       "      <td>\\t0000-00-00 00:00:00</td>\n",
       "      <td>0</td>\n",
       "      <td>NaT</td>\n",
       "      <td>0</td>\n",
       "      <td>\\t0000-00-00 00:00:00</td>\n",
       "      <td>0</td>\n",
       "      <td></td>\n",
       "    </tr>\n",
       "    <tr>\n",
       "      <th>9</th>\n",
       "      <td>13</td>\n",
       "      <td>billiam</td>\n",
       "      <td>73bf8422f58c52cc0e252829f2c47889af186b3f</td>\n",
       "      <td>\\tWhere were you born</td>\n",
       "      <td>\\tsingapore</td>\n",
       "      <td>l3gitmlgpro1@yahoo.com</td>\n",
       "      <td>0</td>\n",
       "      <td>\\t</td>\n",
       "      <td>\\t</td>\n",
       "      <td>1</td>\n",
       "      <td>...</td>\n",
       "      <td>\\t3000-08-03 00:00:00</td>\n",
       "      <td>0.00</td>\n",
       "      <td>0</td>\n",
       "      <td>\\t0000-00-00 00:00:00</td>\n",
       "      <td>0</td>\n",
       "      <td>NaT</td>\n",
       "      <td>0</td>\n",
       "      <td>\\t0000-00-00 00:00:00</td>\n",
       "      <td>2</td>\n",
       "      <td></td>\n",
       "    </tr>\n",
       "  </tbody>\n",
       "</table>\n",
       "<p>10 rows × 36 columns</p>\n",
       "</div>"
      ],
      "text/plain": [
       "   userid       username                                  password  \\\n",
       "0       1          admin  94fd897ce1fa5acb0439c1e7ec4cb6257758cf7d   \n",
       "1       9            god  94fd897ce1fa5acb0439c1e7ec4cb6257758cf7d   \n",
       "2       3  blurreffectog  84cce396b8674cf25c894ca1e67231563868f9ac   \n",
       "3       4       tropicks  e53ab9ec74a2a703351d316bf7504a07ad00fdaf   \n",
       "4       5        moments  894946ce4d08e1053b88a272f0a42c944719edc0   \n",
       "5       6           alex  10d2f31e298455a42788fe927700f83c70633b20   \n",
       "6      10     xgenastros  91677b8ef1d23b1f55274cb683e314214579b40c   \n",
       "7      11          aaron  a98d114c5520559433b9d409e6e60eedf8b278a9   \n",
       "8      12    customhabbo  470d0a7c1f75531adaef55effcd0b6a732a09c75   \n",
       "9      13        billiam  73bf8422f58c52cc0e252829f2c47889af186b3f   \n",
       "\n",
       "                        PasswordQuestion PasswordAnswer  \\\n",
       "0                                  \\tyes           \\tno   \n",
       "1                                \\tsdasd        \\tsdasd   \n",
       "2                                  \\tIdk    \\tidkeither   \n",
       "3                                \\tIdgaf        \\tDywtd   \n",
       "4  \\tWhat\\\\\\\\\\\\\\\\\\\\\\\\\\\\\\s your fav song?  \\tHow to love   \n",
       "5             \\tWhat is your first name?         \\tAlex   \n",
       "6                 \\tWhere were you born?     \\tMichigan   \n",
       "7                      \\tWhats a ddoser?         \\tDick   \n",
       "8                     \\tHow old are you?            \\t2   \n",
       "9                  \\tWhere were you born    \\tsingapore   \n",
       "\n",
       "                    useremail  myAttacks                       attacks  \\\n",
       "0       momentsjunk@gmail.com          0                            \\t   \n",
       "1         aksdjklad@gmail.com          0                            \\t   \n",
       "2               ogdox@live.ca          0                            \\t   \n",
       "3  jerry.jennings13@yahoo.com          0                            \\t   \n",
       "4         atroyer36@gmail.com         60   \\t88.80.12.46--1335224668::   \n",
       "5        altroyer@hotmail.com         54  \\t97.87.106.58--1335232443::   \n",
       "6            nickk54@live.com          0                            \\t   \n",
       "7      spaceage94@hotmail.com          0                            \\t   \n",
       "8     customhabbo@hotmail.com          0                            \\t   \n",
       "9      l3gitmlgpro1@yahoo.com          0                            \\t   \n",
       "\n",
       "                                             notepad  IsApproved  ...    \\\n",
       "0                                                 \\t           1  ...     \n",
       "1                                                 \\t           1  ...     \n",
       "2                                                 \\t           1  ...     \n",
       "3                                                 \\t           1  ...     \n",
       "4  Rates: http://gyazo.com/f28825cfe41fdd339f0376...           1  ...     \n",
       "5                                                 \\t           1  ...     \n",
       "6                                                 \\t           1  ...     \n",
       "7                                                 \\t           1  ...     \n",
       "8                                                 \\t           1  ...     \n",
       "9                                                 \\t           1  ...     \n",
       "\n",
       "          PremiumEndDate  PremiumAmount IsCancelled          CancelledDate  \\\n",
       "0  \\t2030-01-01 00:00:00           5.00           1  \\t0000-00-00 00:00:00   \n",
       "1  \\t0000-00-00 00:00:00           0.00           0  \\t0000-00-00 00:00:00   \n",
       "2  \\t0000-00-00 00:00:00           0.00           0  \\t0000-00-00 00:00:00   \n",
       "3  \\t3000-04-10 00:00:00           0.00           0  \\t0000-00-00 00:00:00   \n",
       "4  \\t3000-08-03 00:00:00           0.25           0  \\t0000-00-00 00:00:00   \n",
       "5  \\t3000-10-18 00:00:00           0.00           0  \\t0000-00-00 00:00:00   \n",
       "6  \\t0000-00-00 00:00:00           0.00           0  \\t0000-00-00 00:00:00   \n",
       "7  \\t0000-00-00 00:00:00           0.00           0  \\t0000-00-00 00:00:00   \n",
       "8  \\t0000-00-00 00:00:00           0.00           0  \\t0000-00-00 00:00:00   \n",
       "9  \\t3000-08-03 00:00:00           0.00           0  \\t0000-00-00 00:00:00   \n",
       "\n",
       "  IsEndOfTerm expire IsPending            PendingDate PremiumLevel planid  \n",
       "0           0    NaT         0  \\t0000-00-00 00:00:00            2         \n",
       "1           0    NaT         0  \\t0000-00-00 00:00:00            0         \n",
       "2           0    NaT         0  \\t0000-00-00 00:00:00            0         \n",
       "3           0    NaT         0  \\t0000-00-00 00:00:00            0         \n",
       "4           0    NaT         0  \\t0000-00-00 00:00:00            2         \n",
       "5           0    NaT         0  \\t0000-00-00 00:00:00            2         \n",
       "6           0    NaT         0  \\t0000-00-00 00:00:00            0         \n",
       "7           0    NaT         0  \\t0000-00-00 00:00:00            0         \n",
       "8           0    NaT         0  \\t0000-00-00 00:00:00            0         \n",
       "9           0    NaT         0  \\t0000-00-00 00:00:00            2         \n",
       "\n",
       "[10 rows x 36 columns]"
      ]
     },
     "execution_count": 438,
     "metadata": {},
     "output_type": "execute_result"
    }
   ],
   "source": [
    "### Loading the column converting columns with predefined functions\n",
    "df_users = pd.read_csv(read_inserted_table2(dumpfile, tablename),delimiter=\",\",error_bad_lines=False)\n",
    "                    \n",
    "df_users['UserName']=strip_tab(df_users['UserName'])\n",
    "df_users['Email']=strip_tab(df_users['Email'])\n",
    "df_users['Password']=strip_tab(df_users['Password'])\n",
    "df_users['EndOfTermDate']=datetimeinvertedstring2datetime(strip_tab(df_users['EndOfTermDate']))\n",
    "\n",
    "###Changing names of columns\n",
    "df_users.rename(columns = {'UserId': 'userid',\n",
    "                          'UserName': 'username',\n",
    "                          'Email':'useremail',\n",
    "                          'Password':'password',\n",
    "                          'EndOfTermDate': 'expire'},\n",
    "                         inplace=True)\n",
    "\n",
    "###Creating empty columns (with \"\" [for future string] or np.nan [for future float])\n",
    "df_users['planid'] = \"\"\n",
    "\n",
    "###Showing some lines after adapt the table\n",
    "df_users.head(10)"
   ]
  },
  {
   "cell_type": "markdown",
   "metadata": {
    "deletable": true,
    "editable": true
   },
   "source": [
    "<h2 align='center'>======================================================================\n",
    "<br>Final step of the manual part\n",
    "======================================================================</h2>"
   ]
  },
  {
   "cell_type": "markdown",
   "metadata": {
    "deletable": true,
    "editable": true
   },
   "source": [
    "## 7. Adding missing tables accordingly to our generic Booter database "
   ]
  },
  {
   "cell_type": "code",
   "execution_count": 439,
   "metadata": {
    "collapsed": false,
    "deletable": true,
    "editable": true
   },
   "outputs": [],
   "source": [
    "# df_attacks= pd.DataFrame(columns=['id','userid','username','targetip','targeturl','duration','port','type','date'])\n",
    "df_blacklist=pd.DataFrame(columns=['id','ip','note'])\n",
    "# df_friendsenemies=pd.DataFrame(columns=['id','ip','note','userid','type'])\n",
    "# df_gateways=pd.DataFrame(columns=['email'])\n",
    "df_logins=pd.DataFrame(columns=['id','userid','username','userip','date'])\n",
    "df_payments=pd.DataFrame(columns=['id','userid','username','amountpaid','paymentemail','planid','tid','date'])\n",
    "# df_plans=pd.DataFrame(columns=['planid','planname','plandescr','price','maxboottime','concurrency'])\n",
    "df_servers=pd.DataFrame(columns=['id','ip'])\n",
    "df_settings=pd.DataFrame(columns=['url','sitename','siteemail'])\n",
    "# df_users=pd.DataFrame(columns=['userid','username','useremail','password','expire','plan'])      \n",
    "# df_webshells=pd.DataFrame(columns=['id','url','status','lastchecked','attacktype'])"
   ]
  },
  {
   "cell_type": "markdown",
   "metadata": {
    "deletable": true,
    "editable": true
   },
   "source": [
    "<h1 align=\"center\">\n",
    "!!!!!!!!!!!!!!!!!!!!!!!!!!!!!!!!!!!!!!!!!!!!!!!!!!!!!!!!!!!!!!!!!!!!!!!!!!!!!!!!!!!!!!!!!!!!!!!!!!!!!!!!!!!!!!!!!!!!!!!!!!!!!!!!!!!!!!!!!<br>\n",
    "STEP 2: Data Enrichment<br>\n",
    "!!!!!!!!!!!!!!!!!!!!!!!!!!!!!!!!!!!!!!!!!!!!!!!!!!!!!!!!!!!!!!!!!!!!!!!!!!!!!!!!!!!!!!!!!!!!!!!!!!!!!!!!!!!!!!!!!!!!!!!!!!!!!!!</h1> "
   ]
  },
  {
   "cell_type": "markdown",
   "metadata": {
    "deletable": true,
    "editable": true
   },
   "source": [
    "### * Depending of the size of the data, this part can take HOURS. I tested for both small and big datasets and it worked. Be pacient. This will pay-off!"
   ]
  },
  {
   "cell_type": "markdown",
   "metadata": {
    "deletable": true,
    "editable": true
   },
   "source": [
    "## * Libraries needed to retrieve information from external databases"
   ]
  },
  {
   "cell_type": "code",
   "execution_count": null,
   "metadata": {
    "collapsed": true,
    "deletable": true,
    "editable": true
   },
   "outputs": [],
   "source": [
    "import subprocess\n",
    "import cfscrape\n",
    "from lxml import etree\n",
    "import os.path\n",
    "import random\n",
    "import time "
   ]
  },
  {
   "cell_type": "markdown",
   "metadata": {
    "deletable": true,
    "editable": true
   },
   "source": [
    "## * Function to enrich IP addresseswith AS information and country "
   ]
  },
  {
   "cell_type": "code",
   "execution_count": null,
   "metadata": {
    "collapsed": false,
    "deletable": true,
    "editable": true
   },
   "outputs": [],
   "source": [
    "# THANKS TO: team-cymru.org\n",
    "def iptoasn(iplist_teamcymruformat_filelocation,outputfile):\n",
    "    cat = subprocess.Popen(['cat', iplist_teamcymruformat_filelocation], \n",
    "                            stdout=subprocess.PIPE)\n",
    "    \n",
    "    netcat = subprocess.Popen(['netcat', 'whois.cymru.com', '43'],\n",
    "                              stdin=cat.stdout,\n",
    "                              stdout=outputfile)\n",
    "    time.sleep(3) #for some reason the poll does not work! This was the way to overcome the waiting time.\n",
    "    \n",
    "    return netcat.stdout      "
   ]
  },
  {
   "cell_type": "markdown",
   "metadata": {
    "deletable": true,
    "editable": true
   },
   "source": [
    "## * Function to check if an IP address was Tor node in a given moment"
   ]
  },
  {
   "cell_type": "code",
   "execution_count": null,
   "metadata": {
    "collapsed": true,
    "deletable": true,
    "editable": true
   },
   "outputs": [],
   "source": [
    "# THANKS TO: exonerator.torproject.org\n",
    "def WasTorNode(ip, date ):\n",
    "    url=\"https://exonerator.torproject.org/?ip=\"+ip+\"&timestamp=\"+date\n",
    "    scraper = cfscrape.create_scraper()\n",
    "    scraped_html=scraper.get(url).content    \n",
    "    html_tree = etree.HTML(scraped_html)\n",
    "    result=html_tree.xpath(\"//h3[@class='panel-title']/text()\") # I was looking for <h3 class=\"panel-title\">Result is positive</h3>\n",
    "    tor_node=True if result == ['Result is positive'] else False\n",
    "    return tor_node \n",
    "# 'date' MUST BE formated as: Year-month-day (2016-03-31)"
   ]
  },
  {
   "cell_type": "markdown",
   "metadata": {
    "deletable": true,
    "editable": true
   },
   "source": [
    "## * Discovering the middle date of the database"
   ]
  },
  {
   "cell_type": "code",
   "execution_count": null,
   "metadata": {
    "collapsed": false,
    "deletable": true,
    "editable": true
   },
   "outputs": [],
   "source": [
    "try:\n",
    "    try:\n",
    "        middle_date=(min(df_attacks['date'])+((max(df_attacks['date'])-min(df_attacks['date']))/2))\n",
    "        raise\n",
    "    except Exception:\n",
    "        pass\n",
    "\n",
    "    try:\n",
    "        middle_date=(min(df_logins['date'])+((max(df_logins['date'])-min(df_logins['date']))/2))\n",
    "        raise\n",
    "    except Exception:\n",
    "        pass\n",
    "\n",
    "    try:\n",
    "        middle_date=(min(df_payments['date'])+((max(df_payments['date'])-min(df_payments['date']))/2))\n",
    "        raise\n",
    "    except:\n",
    "        pass\n",
    "except Exception:\n",
    "    print(\"There is no date in the entire dataset\")\n",
    "\n",
    "date_tor_check = middle_date.strftime('%Y-%m-%d')\n",
    "date_iptoasn_lookup= str(middle_date)\n",
    "print(date_tor_check)"
   ]
  },
  {
   "cell_type": "markdown",
   "metadata": {
    "deletable": true,
    "editable": true
   },
   "source": [
    "## * Preparing to Perform IP to ASN info"
   ]
  },
  {
   "cell_type": "code",
   "execution_count": null,
   "metadata": {
    "collapsed": false,
    "deletable": true,
    "editable": true
   },
   "outputs": [],
   "source": [
    "df_logins['middledate']=date_iptoasn_lookup\n",
    "df_attacks['middledate']=date_iptoasn_lookup\n",
    "df_friendsenemies['middledate']=date_iptoasn_lookup\n",
    "df_blacklist['middledate']=date_iptoasn_lookup"
   ]
  },
  {
   "cell_type": "markdown",
   "metadata": {
    "deletable": true,
    "editable": true
   },
   "source": [
    "## 2.1.1  Lookup IP to ASN info of table: logins"
   ]
  },
  {
   "cell_type": "code",
   "execution_count": null,
   "metadata": {
    "collapsed": false,
    "deletable": true,
    "editable": true
   },
   "outputs": [],
   "source": [
    "if (os.path.exists('enrichments/logins_iptoasn_out')== False):\n",
    "    logins_iptoasn_in = open('enrichments/logins_iptoasn_in', 'w+')\n",
    "    logins_iptoasn_in.write('begin\\nverbose\\n')\n",
    "    df_logins[['userip','middledate']].drop_duplicates().to_csv(logins_iptoasn_in,header=False,index=False,sep=\"\\t\") \n",
    "    logins_iptoasn_in.write('end')\n",
    "    logins_iptoasn_in.close()\n",
    "\n",
    "    logins_iptoasn_out = open('logins_iptoasn_out', 'w+')\n",
    "    iptoasn('logins_iptoasn_in',logins_iptoasn_out)\n",
    "    logins_iptoasn_out.close()\n",
    "else:\n",
    "    print(\"You already performed the lookup for this table\")"
   ]
  },
  {
   "cell_type": "code",
   "execution_count": null,
   "metadata": {
    "collapsed": false,
    "deletable": true,
    "editable": true
   },
   "outputs": [],
   "source": [
    "df_logins_iptoasn = pd.read_csv('enrichments/logins_iptoasn_out',\\\n",
    "                                skiprows=1,\\\n",
    "                             delimiter=\"\\s+\\|\\s\",\\\n",
    "                             names = ['asn', 'ip', 'bgp_prefix', 'country','registry','info_date','info_request','as_name'])\n",
    "\n",
    "df_logins_extended= pd.merge(df_logins,\n",
    "                              df_logins_iptoasn,\n",
    "                              how = 'left',\n",
    "                              left_on = 'userip',\n",
    "                              right_on = 'ip')\n",
    "\n",
    "# Changing name of columns to avoid misunderstandings\n",
    "df_logins_extended.rename(columns={'asn':'srcasn', \n",
    "                                   'ip':'srcip', \n",
    "                                   'bgp_prefix':'srcbgp_prefix', \n",
    "                                   'country':'srccountry' ,\n",
    "                                   'registry':'srcregistry',\n",
    "                                   'info_date':'srcinfo_date',\n",
    "                                   'info_request':'srcinfo_request'},\n",
    "                         inplace=True)\n",
    "\n",
    "\n",
    "df_logins_extended.head(5)"
   ]
  },
  {
   "cell_type": "markdown",
   "metadata": {
    "deletable": true,
    "editable": true
   },
   "source": [
    "## 2.1.2  Lookup IP to ASN info of table: attacks"
   ]
  },
  {
   "cell_type": "code",
   "execution_count": null,
   "metadata": {
    "collapsed": false,
    "deletable": true,
    "editable": true
   },
   "outputs": [],
   "source": [
    "if (os.path.exists('enrichments/attacks_iptoasn_out')== False):\n",
    "    attacks_iptoasn_in = open('enrichments/attacks_iptoasn_in', 'w+')\n",
    "    attacks_iptoasn_in.write('begin\\nverbose\\n')\n",
    "    df_attacks[['targetip','middledate']].drop_duplicates().to_csv(attacks_iptoasn_in,header=False,index=False,sep=\"\\t\") \n",
    "    attacks_iptoasn_in.write('end')\n",
    "    attacks_iptoasn_in.close()\n",
    "\n",
    "    attacks_iptoasn_out = open('attacks_iptoasn_out', 'w+')\n",
    "    iptoasn('attacks_iptoasn_in',attacks_iptoasn_out)\n",
    "    attacks_iptoasn_out.close()\n",
    "else:\n",
    "    print(\"You already performed the lookup for this table\")"
   ]
  },
  {
   "cell_type": "code",
   "execution_count": null,
   "metadata": {
    "collapsed": false,
    "deletable": true,
    "editable": true
   },
   "outputs": [],
   "source": [
    "df_attacks_iptoasn = pd.read_csv('enrichments/attacks_iptoasn_out',\\\n",
    "                                skiprows=1,\\\n",
    "                             delimiter=\"\\s+\\|\\s\",\\\n",
    "                             names = ['asn', 'ip', 'bgp_prefix', 'country','registry','info_date','info_request','as_name'])\n",
    "\n",
    "# Merging the iptoasn with the queried column\n",
    "df_attacks_extended= pd.merge(df_attacks,\n",
    "                              df_attacks_iptoasn,\n",
    "                              how = 'left',\n",
    "                              left_on = 'targetip',\n",
    "                              right_on = 'ip')\n",
    "\n",
    "# Changing name of columns to avoid misunderstandings\n",
    "df_attacks_extended.rename(columns={'asn':'targetasn', \n",
    "                                   'ip_y':'targetip', \n",
    "                                   'bgp_prefix':'targetbgp_prefix', \n",
    "                                   'country_y':'targetcountry' ,\n",
    "                                   'registry':'targetregistry',\n",
    "                                   'info_date':'targetinfo_date',\n",
    "                                   'info_request':'targetinfo_request'},\n",
    "                         inplace=True)\n",
    "df_attacks_extended.head(5)"
   ]
  },
  {
   "cell_type": "markdown",
   "metadata": {
    "deletable": true,
    "editable": true
   },
   "source": [
    "## 2.1.3  Lookup IP to ASN info of table: friendsenemies"
   ]
  },
  {
   "cell_type": "code",
   "execution_count": null,
   "metadata": {
    "collapsed": false,
    "deletable": true,
    "editable": true
   },
   "outputs": [],
   "source": [
    "if (os.path.exists('enrichments/friendsenemies_iptoasn_out')== False):\n",
    "    friendsenemies_iptoasn_in = open('enrichments/friendsenemies_iptoasn_in', 'w+')\n",
    "    friendsenemies_iptoasn_in.write('begin\\nverbose\\n')\n",
    "    df_friendsenemies[['ip','middledate']].drop_duplicates().to_csv(friendsenemies_iptoasn_in,header=False,index=False,sep=\"\\t\") \n",
    "    friendsenemies_iptoasn_in.write('end')\n",
    "    friendsenemies_iptoasn_in.close()\n",
    "\n",
    "    friendsenemies_iptoasn_out = open('friendsenemies_iptoasn_out', 'w+')\n",
    "    iptoasn('friendsenemies_iptoasn_in',friendsenemies_iptoasn_out)\n",
    "    friendsenemies_iptoasn_out.close()\n",
    "else:\n",
    "    print(\"You already performed the lookup for this table.\")"
   ]
  },
  {
   "cell_type": "code",
   "execution_count": null,
   "metadata": {
    "collapsed": false,
    "deletable": true,
    "editable": true
   },
   "outputs": [],
   "source": [
    "df_friendsenemies_iptoasn = pd.read_csv('enrichments/friendsenemies_iptoasn_out',\\\n",
    "                                skiprows=1,\\\n",
    "                             delimiter=\"\\s+\\|\\s\",\\\n",
    "                             names = ['asn', 'ip', 'bgp_prefix', 'country','registry','info_date','info_request','as_name'])\n",
    "\n",
    "# Merging the iptoasn with the queried column\n",
    "df_friendsenemies_extended= pd.merge(df_friendsenemies,\n",
    "                              df_friendsenemies_iptoasn,\n",
    "                              how = 'left',\n",
    "                              left_on = 'ip',\n",
    "                              right_on = 'ip')\n",
    "\n",
    "# Changing name of columns to avoid misunderstandings\n",
    "df_friendsenemies_extended.rename(columns={'asn':'friendsenemiesasn', \n",
    "                                   'ip':'friendsenemiesip', \n",
    "                                   'bgp_prefix':'friendsenemiesbgp_prefix', \n",
    "                                   'country':'friendsenemiescountry' ,\n",
    "                                   'registry':'friendsenemiesregistry',\n",
    "                                   'info_date':'friendsenemiesinfo_date',\n",
    "                                   'info_request':'friendsenemiesinfo_request',\n",
    "                                   'as_name': 'friendsenemiesas_name'},\n",
    "                         inplace=True)"
   ]
  },
  {
   "cell_type": "markdown",
   "metadata": {
    "deletable": true,
    "editable": true
   },
   "source": [
    "## 2.1.4  Lookup IP to ASN info of table: blacklist"
   ]
  },
  {
   "cell_type": "code",
   "execution_count": null,
   "metadata": {
    "collapsed": false,
    "deletable": true,
    "editable": true
   },
   "outputs": [],
   "source": [
    "if (os.path.exists('enrichments/blacklist_iptoasn_out')== False):\n",
    "    blacklist_iptoasn_in = open('enrichments/blacklist_iptoasn_in', 'w+')\n",
    "    blacklist_iptoasn_in.write('begin\\nverbose\\n')\n",
    "    df_blacklist[['ip','middledate']].drop_duplicates().to_csv(blacklist_iptoasn_in,header=False,index=False,sep=\"\\t\") \n",
    "    blacklist_iptoasn_in.write('end')\n",
    "    blacklist_iptoasn_in.close()\n",
    "\n",
    "    blacklist_iptoasn_out = open('blacklist_iptoasn_out', 'w+')\n",
    "    iptoasn('blacklist_iptoasn_in',blacklist_iptoasn_out)\n",
    "    blacklist_iptoasn_out.close()\n",
    "else:\n",
    "    print(\"You already performed the lookup for this table.\")"
   ]
  },
  {
   "cell_type": "code",
   "execution_count": null,
   "metadata": {
    "collapsed": false,
    "deletable": true,
    "editable": true
   },
   "outputs": [],
   "source": [
    "df_blacklist_iptoasn = pd.read_csv('enrichments/blacklist_iptoasn_out',\\\n",
    "                                skiprows=1,\\\n",
    "                             delimiter=\"\\s+\\|\\s\",\\\n",
    "                             names = ['asn', 'ip', 'bgp_prefix', 'country','registry','info_date','info_request','as_name'])\n",
    "\n",
    "# Merging the iptoasn with the queried column\n",
    "df_blacklist_extended= pd.merge(df_blacklist,\n",
    "                              df_blacklist_iptoasn,\n",
    "                              how = 'left',\n",
    "                              left_on = 'ip',\n",
    "                              right_on = 'ip')\n",
    "\n",
    "# Changing name of columns to avoid misunderstandings\n",
    "df_blacklist_extended.rename(columns={'asn':'blacklistasn', \n",
    "                                   'ip':'blacklistip', \n",
    "                                   'bgp_prefix':'blacklistbgp_prefix', \n",
    "                                   'country':'blacklistcountry' ,\n",
    "                                   'registry':'blacklistregistry',\n",
    "                                   'info_date':'blacklistinfo_date',\n",
    "                                   'info_request':'blacklistinfo_request',\n",
    "                                   'as_name': 'blacklistas_name'},\n",
    "                         inplace=True)\n",
    "df_blacklist_extended.head(5)"
   ]
  },
  {
   "cell_type": "markdown",
   "metadata": {
    "deletable": true,
    "editable": true
   },
   "source": [
    "## 2.2.1. Check if IP was a TOR node for table: login"
   ]
  },
  {
   "cell_type": "code",
   "execution_count": null,
   "metadata": {
    "collapsed": false,
    "deletable": true,
    "editable": true
   },
   "outputs": [],
   "source": [
    "date_tor_check"
   ]
  },
  {
   "cell_type": "code",
   "execution_count": null,
   "metadata": {
    "collapsed": false,
    "deletable": true,
    "editable": true,
    "scrolled": true
   },
   "outputs": [],
   "source": [
    "if len(df_logins['userip'].unique())<1200:\n",
    "    if (os.path.exists('enrichments/logins_torcheck')== False):\n",
    "        print(\"Note: it can take a while to finish...\")\n",
    "        logins_torcheck = open('logins_torcheck', 'w+')\n",
    "        for i in df_logins['userip'].unique():\n",
    "            wasTor=WasTorNode(i,date_tor_check)\n",
    "            print(i, wasTor, file=logins_torcheck)\n",
    "    #         print(i, wasTor) #DEBUGING =D\n",
    "            time.sleep(random.randint(1,3)) #adding some random sleep time\n",
    "            logins_torcheck.flush()\n",
    "\n",
    "        logins_torcheck.close()\n",
    "    else:\n",
    "        print(\"The IP addresses from this table were already checked.\")\n",
    "else:\n",
    "        print(\"Aborted!!! It will take more than one hour to analyse!\")"
   ]
  },
  {
   "cell_type": "code",
   "execution_count": null,
   "metadata": {
    "collapsed": true,
    "deletable": true,
    "editable": true
   },
   "outputs": [],
   "source": [
    "df_logins_torcheck = pd.read_csv('enrichments/logins_torcheck',\\\n",
    "                          delimiter=\"\\s+\",\\\n",
    "                          names = ['userip', 'tor'])"
   ]
  },
  {
   "cell_type": "markdown",
   "metadata": {
    "deletable": true,
    "editable": true
   },
   "source": [
    "## 2.2.2. Check if IP was a TOR node for table: attacks"
   ]
  },
  {
   "cell_type": "code",
   "execution_count": null,
   "metadata": {
    "collapsed": false,
    "deletable": true,
    "editable": true,
    "scrolled": false
   },
   "outputs": [],
   "source": [
    "if len(df_attacks['targetip'].unique())<1200:\n",
    "    if (os.path.exists('enrichments/attacks_torcheck')== False):\n",
    "        print(\"Note: it can take a while to finish...\",len(df_attacks['targetip'].unique())*3,\"seconds (in the worst case).\")\n",
    "\n",
    "        attacks_torcheck = open('attacks_torcheck', 'w+')\n",
    "\n",
    "        for i in df_attacks['targetip'].unique():\n",
    "            wasTor=WasTorNode(i,date_tor_check)\n",
    "            print(i, wasTor, file=attacks_torcheck)\n",
    "            print(i, wasTor) #DEBUGING =D\n",
    "            time.sleep(random.randint(1,3)) #adding some random sleep time\n",
    "            attacks_torcheck.flush()\n",
    "\n",
    "        attacks_torcheck.close()\n",
    "    else:\n",
    "        print(\"The IP addresses from this table were already checked.\") \n",
    "else:\n",
    "        print(\"Aborted!!! It will take more than one hour to analyse!\")"
   ]
  },
  {
   "cell_type": "code",
   "execution_count": null,
   "metadata": {
    "collapsed": true,
    "deletable": true,
    "editable": true
   },
   "outputs": [],
   "source": [
    "df_attacks_torcheck = pd.read_csv('enrichments/attacks_torcheck',\\\n",
    "                          delimiter=\"\\s+\",\\\n",
    "                          names = ['targetip', 'tor'])"
   ]
  },
  {
   "cell_type": "markdown",
   "metadata": {
    "deletable": true,
    "editable": true
   },
   "source": [
    "## 2.2.3. Check if IP was a TOR node for table: friendsenemies"
   ]
  },
  {
   "cell_type": "code",
   "execution_count": null,
   "metadata": {
    "collapsed": false,
    "deletable": true,
    "editable": true
   },
   "outputs": [],
   "source": [
    "if len(df_friendsenemies['ip'].unique()) <1200:\n",
    "    if (os.path.exists('enrichments/friendsenemies_torcheck')== False):\n",
    "        print(\"Note: it can take a while to finish...\",len(df_friendsenemies['ip'].unique())*3,\"seconds (in the worst case).\")\n",
    "\n",
    "        friendsenemies_torcheck = open('enrichments/friendsenemies_torcheck', 'w+')\n",
    "\n",
    "        for i in df_friendsenemies['ip'].unique():\n",
    "            wasTor=WasTorNode(i,date_tor_check)\n",
    "            print(i, wasTor, file=friendsenemies_torcheck)\n",
    "        #     print(i, wasTor) #DEBUGING =D\n",
    "            time.sleep(random.randint(1,3)) #adding some random sleep time\n",
    "            friendsenemies_torcheck.flush()\n",
    "\n",
    "        friendsenemies_torcheck.close()\n",
    "    else:\n",
    "        print(\"The IP addresses from this table were already checked.\") \n",
    "else:\n",
    "        print(\"Aborted!!! It will take more than one hour to analyse!\")"
   ]
  },
  {
   "cell_type": "code",
   "execution_count": null,
   "metadata": {
    "collapsed": true,
    "deletable": true,
    "editable": true
   },
   "outputs": [],
   "source": [
    "df_friendsenemies_torcheck = pd.read_csv('enrichments/friendsenemies_torcheck',\\\n",
    "                          delimiter=\"\\s+\",\\\n",
    "                          names = ['ip', 'tor'])"
   ]
  },
  {
   "cell_type": "markdown",
   "metadata": {
    "deletable": true,
    "editable": true
   },
   "source": [
    "## 2.2.4. Check if IP was a TOR node for table: blacklist"
   ]
  },
  {
   "cell_type": "code",
   "execution_count": null,
   "metadata": {
    "collapsed": false,
    "deletable": true,
    "editable": true
   },
   "outputs": [],
   "source": [
    "if len(df_blacklist['ip'].unique()) < 1200:\n",
    "    if (os.path.exists('enrichments/blacklist_torcheck')== False):\n",
    "        print(\"Note: it can take a while to finish...\",len(df_blacklist['ip'].unique())*3,\"seconds (in the worst case).\")\n",
    "\n",
    "        blacklist_torcheck = open('enrichments/blacklist_torcheck', 'w+')\n",
    "\n",
    "        for i in df_blacklist['ip'].unique():\n",
    "            wasTor=WasTorNode(i,date_tor_check)\n",
    "            print(i, wasTor, file=blacklist_torcheck)\n",
    "    #         print(i, wasTor) #DEBUGING =D\n",
    "            time.sleep(random.randint(1,3)) #adding some random sleep time\n",
    "            blacklist_torcheck.flush()\n",
    "\n",
    "        blacklist_torcheck.close()\n",
    "    else:\n",
    "        print(\"The IP addresses from this table were already checked.\") \n",
    "else:\n",
    "        print(\"Aborted!!! It will take more than one hour to analyse!\")"
   ]
  },
  {
   "cell_type": "code",
   "execution_count": null,
   "metadata": {
    "collapsed": true,
    "deletable": true,
    "editable": true
   },
   "outputs": [],
   "source": [
    "df_blacklist_torcheck = pd.read_csv('enrichments/blacklist_torcheck',\\\n",
    "                          delimiter=\"\\s+\",\\\n",
    "                          names = ['ip', 'tor'])"
   ]
  },
  {
   "cell_type": "markdown",
   "metadata": {
    "deletable": true,
    "editable": true
   },
   "source": [
    "## * Relation between Attack dates and Login dates"
   ]
  },
  {
   "cell_type": "code",
   "execution_count": null,
   "metadata": {
    "collapsed": true,
    "deletable": true,
    "editable": true
   },
   "outputs": [],
   "source": [
    "def nearestDate(base_date, date_list):\n",
    "    nearest={}\n",
    "    for date in date_list:\n",
    "        if (base_date.timestamp() - date.timestamp())>=0:\n",
    "            nearest[base_date.timestamp() - date.timestamp()]= date\n",
    "    return nearest[min(nearest.keys())]"
   ]
  },
  {
   "cell_type": "code",
   "execution_count": null,
   "metadata": {
    "collapsed": false,
    "deletable": true,
    "editable": true
   },
   "outputs": [],
   "source": [
    "#This is the TOTAL number records to be checks!!!!\n",
    "len(df_attacks)"
   ]
  },
  {
   "cell_type": "code",
   "execution_count": null,
   "metadata": {
    "collapsed": true,
    "deletable": true,
    "editable": true
   },
   "outputs": [],
   "source": [
    "df_attacks['nearestlogin']=\"\"\n",
    "df_attacks['nearestlogin']=pd.to_datetime(df_attacks['nearestlogin'])\n",
    "    \n",
    "if len(df_attacks)>0 and len(df_logins)>0:\n",
    "    #When was the last login of the user that performed attacks\n",
    "    df_attacks['nearestlogin']=\"\"\n",
    "    df_attacks['nearestlogin']=pd.to_datetime(df_attacks['nearestlogin'])\n",
    "\n",
    "    for index, row in df_attacks.head(100).iterrows():\n",
    "        intermediate_df= df_logins[df_logins['username']==row['username']]\n",
    "        nearestlogindate= nearestDate(row['date'],intermediate_df['date'])\n",
    "        df_attacks.set_value(index, 'nearestlogin', nearestlogindate)\n",
    "\n",
    "        #DEBUGGING\n",
    "        if index % 1000 == 0:\n",
    "            print(index,\": +1000 records analysed\")"
   ]
  },
  {
   "cell_type": "code",
   "execution_count": null,
   "metadata": {
    "collapsed": false,
    "deletable": true,
    "editable": true
   },
   "outputs": [],
   "source": [
    "if len(df_attacks['nearestlogin'].value_counts()) >1:\n",
    "    df_attacks_and_logins = pd.merge(df_attacks_extended,\n",
    "                                     df_logins_extended,\n",
    "                                     how = 'left',\n",
    "                                     left_on = ['username','nearestlogin'],\n",
    "                                     right_on = ['username','date'])\n",
    "else:\n",
    "    df_attacks_and_logins=\"\""
   ]
  },
  {
   "cell_type": "markdown",
   "metadata": {
    "deletable": true,
    "editable": true
   },
   "source": [
    "<h2 align=\"center\">\n",
    "!!!!!!!!!!!!!!!!!!!!!!!!!!!!!!!!!!!!!!!!!!!!!!!!!!!!!!!!!!!!!!!!!!!!!!!!!!!!!!!!!!!!!!!!!!!!!!!!!!!!!!!!!!!!!!!!!!!!!!!!!!!!!!!!!!!!!!!!!<br>\n",
    "STEP 3: Automatic Analysis\n",
    "<br>\n",
    "!!!!!!!!!!!!!!!!!!!!!!!!!!!!!!!!!!!!!!!!!!!!!!!!!!!!!!!!!!!!!!!!!!!!!!!!!!!!!!!!!!!!!!!!!!!!!!!!!!!!!!!!!!!!!!!!!!!!!!!!!!!!!!!</h3> "
   ]
  },
  {
   "cell_type": "markdown",
   "metadata": {
    "deletable": true,
    "editable": true
   },
   "source": [
    "## * Libraries that I use to plot figs"
   ]
  },
  {
   "cell_type": "code",
   "execution_count": null,
   "metadata": {
    "collapsed": true,
    "deletable": true,
    "editable": true
   },
   "outputs": [],
   "source": [
    "import matplotlib.pyplot as plt\n",
    "from matplotlib_venn import *\n",
    "%matplotlib inline\n",
    "\n",
    "import seaborn as sns\n",
    "import itertools\n",
    "\n",
    "plt.style.use('seaborn-muted')\n",
    "# plt.rcParams['font.family'] = 'serif'\n",
    "# plt.rcParams['font.size'] = 12\n",
    "\n",
    "import warnings\n",
    "warnings.filterwarnings('ignore')"
   ]
  },
  {
   "cell_type": "markdown",
   "metadata": {
    "deletable": true,
    "editable": true
   },
   "source": [
    "## A.1. Number of records per table (part of the generic Booter database schema)"
   ]
  },
  {
   "cell_type": "code",
   "execution_count": null,
   "metadata": {
    "collapsed": false,
    "deletable": true,
    "editable": true
   },
   "outputs": [],
   "source": [
    "len(df_users),len(df_logins),len(df_attacks),len(df_payments),len(df_settings),len(df_gateways), len(df_friendsenemies),len(df_blacklist),len(df_webshells),len(df_servers),len(df_plans)"
   ]
  },
  {
   "cell_type": "markdown",
   "metadata": {
    "deletable": true,
    "editable": true
   },
   "source": [
    "## A.2. Number of users, customers, attackers, and their intersection"
   ]
  },
  {
   "cell_type": "code",
   "execution_count": null,
   "metadata": {
    "collapsed": false,
    "deletable": true,
    "editable": true
   },
   "outputs": [],
   "source": [
    "if len(set(df_users['userid'].unique())) > 1:\n",
    "    users_set=set(df_users['userid'].unique())\n",
    "else:\n",
    "    users_set=set(df_users['username'].unique())\n",
    "    \n",
    "if len(set(df_logins['userid'].unique())) > 1:\n",
    "    userslogin_set=set(df_logins['userid'].unique())\n",
    "else:\n",
    "    userslogin_set=set(df_logins['username'].unique())\n",
    "\n",
    "if len(set(df_payments['userid'].unique())) > 1:\n",
    "    customers_set=set(df_payments['userid'].unique())\n",
    "else:\n",
    "    customers_set=set(df_payments['username'].unique())\n",
    "\n",
    "if len(set(df_attacks['userid'].unique())) > 1:\n",
    "    attackers_set=set(df_attacks['userid'].unique())\n",
    "else:\n",
    "    attackers_set=set(df_attacks['username'].unique())\n",
    "\n",
    "intersec_customers_attacker=pd.Series(list(customers_set.intersection(attackers_set)))\n",
    "intersec_users_customers=pd.Series(list(users_set.intersection(customers_set)))\n",
    "intersec_users_attackers=pd.Series(list(users_set.intersection(attackers_set)))\n",
    "intersec_users_customers_attackers=pd.Series(list(users_set.intersection(customers_set).intersection(attackers_set)))"
   ]
  },
  {
   "cell_type": "code",
   "execution_count": null,
   "metadata": {
    "collapsed": false,
    "deletable": true,
    "editable": true
   },
   "outputs": [],
   "source": [
    "len(users_set),len(userslogin_set),len(customers_set),len(attackers_set)"
   ]
  },
  {
   "cell_type": "code",
   "execution_count": null,
   "metadata": {
    "collapsed": false,
    "deletable": true,
    "editable": true
   },
   "outputs": [],
   "source": [
    "fig = plt.figure(figsize=(4,3))\n",
    "fig.suptitle('Users, Customers & Attackers', fontsize=14)\n",
    "\n",
    "ax = plt.subplot2grid((1,1), (0,0))\n",
    "\n",
    "venn=venn3(ax=ax,subsets = {'001':len(attackers_set)-len(intersec_customers_attacker)-len(intersec_users_attackers)+len(intersec_users_customers_attackers), \n",
    "                            '010':len(customers_set)-len(intersec_users_customers)-len(intersec_customers_attacker)+len(intersec_users_customers_attackers), \n",
    "                            '011':len(intersec_customers_attacker)-len(intersec_users_customers_attackers),\n",
    "                            '100':len(users_set)-len(intersec_users_customers)-len(intersec_users_attackers)+len(intersec_users_customers_attackers),\n",
    "                            '101':len(intersec_users_attackers)-len(intersec_users_customers_attackers),\n",
    "                            '110':len(intersec_users_customers)-len(intersec_users_customers_attackers),\n",
    "                            '111':len(intersec_users_customers_attackers)},\\\n",
    "          set_labels = ('Users', 'Customers','Attackers'),\\\n",
    "          alpha=1)\n",
    "try:\n",
    "    venn.get_patch_by_id('100').set_color('#404096')\n",
    "except:\n",
    "    print(\"*Users set is empty!\")  \n",
    "    \n",
    "try:\n",
    "    venn.get_patch_by_id('110').set_color('#DEA73A')\n",
    "except:\n",
    "    print(\"*Customers set is empty!\")   \n",
    "\n",
    "try:\n",
    "    venn.get_patch_by_id('001').set_color('#D92120')\n",
    "except:\n",
    "    print(\"*Attackers set is empty!\")\n",
    "\n",
    "fig.show()\n",
    "# fig.savefig('../figs/timeseries_attacks.eps', format='eps', dpi=1200) "
   ]
  },
  {
   "cell_type": "markdown",
   "metadata": {
    "deletable": true,
    "editable": true
   },
   "source": [
    "## A.3. Distribution of login times per user"
   ]
  },
  {
   "cell_type": "code",
   "execution_count": null,
   "metadata": {
    "collapsed": false,
    "deletable": true,
    "editable": true
   },
   "outputs": [],
   "source": [
    "if len(df_logins['userid'].value_counts()) > 0:\n",
    "    num_distinct_logins_per_user=df_logins['userid'].value_counts()\n",
    "else:\n",
    "    num_distinct_logins_per_user=df_logins['username'].value_counts()\n",
    "\n",
    "freq_distinct_logins_per_user=num_distinct_logins_per_user.value_counts()\n",
    "cum_dist_user_logins = np.linspace(0.,1.,len(num_distinct_logins_per_user))\n",
    "cdf_user_logins = pd.Series(cum_dist_user_logins, index=num_distinct_logins_per_user.sort_values())"
   ]
  },
  {
   "cell_type": "code",
   "execution_count": null,
   "metadata": {
    "collapsed": false,
    "deletable": true,
    "editable": true
   },
   "outputs": [],
   "source": [
    "if len(num_distinct_logins_per_user)>0:\n",
    "    fig = plt.figure(figsize=(6, 3))\n",
    "    fig.suptitle('* Distribution of Login Times by Users:', fontsize=14, y=1.05,x=0.35)\n",
    "    \n",
    "    #Plot CDF\n",
    "    ax1 = plt.subplot2grid((1,2), (0,0))\n",
    "    ax1 = cdf_user_logins.plot(ax=ax1,lw=2, drawstyle='steps',legend=False)\n",
    "    ax1.set_xlabel(\"# logins\")\n",
    "    ax1.set_ylabel(\"CDF of Users\")\n",
    "    ax1.set_ylim(0,1.05)\n",
    "    ax1.set_title(\"\")\n",
    "    plt.setp(ax1.xaxis.get_majorticklabels(), rotation=45)\n",
    "\n",
    "    \n",
    "    ax2 = plt.subplot2grid((1,2), (0,1))\n",
    "    freq_distinct_logins_per_user.plot(ax=ax2,kind='pie', \n",
    "                                       labels=None, \n",
    "                                       legend=False,\n",
    "                                       startangle=270,\n",
    "#                                        colors=sns.color_palette()\n",
    "                                       )\n",
    "    ax2.set_ylabel(\"\")\n",
    "    \n",
    "    \n",
    "    \n",
    "    ####\n",
    "    # For Pie Chart Better Legend box\n",
    "    porcent = (100.*freq_distinct_logins_per_user.values)/(freq_distinct_logins_per_user.values.sum())\n",
    "    labels = ['{0} - {1:1.2f} %'.\\\n",
    "              format(i,j) for i,j in zip(freq_distinct_logins_per_user.index, porcent)]\n",
    "    # To Sort Legend (defaulf: keeps the same order)\n",
    "#     patches, labels, dummy =  zip(*sorted(zip(patches, labels, freq_distinct_logins_per_user.values),\n",
    "#                                           key=lambda x: x[2],\n",
    "#                                           reverse=True))\n",
    "    legend_show_top=10\n",
    "    ax2.legend(ax2.patches[0:legend_show_top], \n",
    "               labels[0:legend_show_top], \n",
    "               bbox_to_anchor=(1.5, 1.),\n",
    "               fontsize=10)\n",
    "    ####\n",
    "    \n",
    "    fig.tight_layout()\n",
    "    fig.show()\n",
    "    fig.savefig('figs/login_times.eps', bbox_inches='tight',format='eps', dpi=1200)\n",
    "else:\n",
    "    print(\"Unfortunately, there is no data available!\")\n"
   ]
  },
  {
   "cell_type": "markdown",
   "metadata": {
    "deletable": true,
    "editable": true
   },
   "source": [
    "## 5.3. Number of Users that Login via TOR"
   ]
  },
  {
   "cell_type": "code",
   "execution_count": null,
   "metadata": {
    "collapsed": false,
    "deletable": true,
    "editable": true
   },
   "outputs": [],
   "source": [
    "len(df_logins_torcheck[df_logins_torcheck['tor']==True]['userip'].value_counts())"
   ]
  },
  {
   "cell_type": "markdown",
   "metadata": {
    "deletable": true,
    "editable": true
   },
   "source": [
    "## 5.4. Number of Distinct IP addresses by Users"
   ]
  },
  {
   "cell_type": "code",
   "execution_count": null,
   "metadata": {
    "collapsed": false,
    "deletable": true,
    "editable": true
   },
   "outputs": [],
   "source": [
    "if len(df_logins.groupby(['userid','userip']).size().reset_index()['userid'].value_counts()) >0:\n",
    "    num_distinct_ips_per_user=df_logins.groupby(['userid','userip']).size().reset_index()['userid'].value_counts()\n",
    "else:\n",
    "    num_distinct_ips_per_user=df_logins.groupby(['username','userip']).size().reset_index()['username'].value_counts()\n",
    "    \n",
    "freq_distinct_ips_per_user=num_distinct_ips_per_user.value_counts()\n",
    "cum_dist_user_ips = np.linspace(0.,1.,len(num_distinct_ips_per_user))\n",
    "cdf_user_ips = pd.Series(cum_dist_user_ips, index=num_distinct_ips_per_user.sort_values())"
   ]
  },
  {
   "cell_type": "code",
   "execution_count": null,
   "metadata": {
    "collapsed": false,
    "deletable": true,
    "editable": true
   },
   "outputs": [],
   "source": [
    "if len(num_distinct_ips_per_user)>0:\n",
    "    fig = plt.figure(figsize=(6, 3))\n",
    "    fig.suptitle('* Distribution of Distinct IP address used by Users:', fontsize=14, y=1.05, x=0.4)\n",
    "\n",
    "    ax1 = plt.subplot2grid((1,2), (0,0))\n",
    "    ax1 = cdf_user_ips.plot( ax=ax1,lw=2, drawstyle='steps',legend=False)\n",
    "    ax1.set_xlabel(\"# IPs\")\n",
    "    ax1.set_ylabel(\"CDF of Users\")\n",
    "    ax1.set_ylim(0,1.05)\n",
    "    plt.setp(ax1.xaxis.get_majorticklabels(), rotation=45)\n",
    "    \n",
    "    ax2 = plt.subplot2grid((1,2), (0,1))\n",
    "    freq_distinct_ips_per_user.plot(ax=ax2,kind='pie',\n",
    "                                    labels=None,legend=False,\n",
    "                                       startangle=270,\n",
    "#                                        colors=sns.color_palette()\n",
    "                                       )\n",
    "    ax2.set_ylabel(\"\")\n",
    "    ####\n",
    "    # For Pie Chart Better Legend box\n",
    "    porcent = (100.*freq_distinct_ips_per_user.values)/(freq_distinct_ips_per_user.values.sum())\n",
    "    labels = ['{0} - {1:1.2f} %'.\\\n",
    "              format(i,j) for i,j in zip(freq_distinct_ips_per_user.index, porcent)]\n",
    "    # To Sort Legend (defaulf: keeps the same order)\n",
    "#     patches, labels, dummy =  zip(*sorted(zip(patches, labels, freq_distinct_logins_per_user.values),\n",
    "#                                           key=lambda x: x[2],\n",
    "#                                           reverse=True))\n",
    "    legend_show_top=10\n",
    "    ax2.legend(ax2.patches[0:legend_show_top], \n",
    "               labels[0:legend_show_top], \n",
    "               bbox_to_anchor=(1.5, 1.),\n",
    "               fontsize=10)\n",
    "    ####\n",
    "    \n",
    "    fig.tight_layout()\n",
    "    fig.show()\n",
    "    fig.savefig('figs/num_ips_by_users.eps', bbox_inches='tight',format='eps', dpi=1200)\n",
    "else:\n",
    "    print(\"Unfortunately, there is no data available!\")\n"
   ]
  },
  {
   "cell_type": "markdown",
   "metadata": {
    "deletable": true,
    "editable": true
   },
   "source": [
    "## 5.5. Number of Payments by Users"
   ]
  },
  {
   "cell_type": "code",
   "execution_count": null,
   "metadata": {
    "collapsed": false,
    "deletable": true,
    "editable": true
   },
   "outputs": [],
   "source": [
    "if len(df_payments['userid'].value_counts())>0:\n",
    "    num_distinct_payments_per_user=df_payments['userid'].value_counts()\n",
    "else:\n",
    "    num_distinct_payments_per_user=df_payments['username'].value_counts()\n",
    "\n",
    "freq_distinct_payments_per_user=num_distinct_payments_per_user.value_counts()\n",
    "cum_dist_user_payments = np.linspace(0.,1.,len(num_distinct_payments_per_user))\n",
    "cdf_user_payments = pd.Series(cum_dist_user_payments, index=num_distinct_payments_per_user.sort_values())"
   ]
  },
  {
   "cell_type": "code",
   "execution_count": null,
   "metadata": {
    "collapsed": false,
    "deletable": true,
    "editable": true
   },
   "outputs": [],
   "source": [
    "if len(num_distinct_payments_per_user)>0:\n",
    "    fig = plt.figure(figsize=(6, 3))\n",
    "    fig.suptitle('* Distribution of Number of Payments by Users:', fontsize=14, y=1.05, x=0.4)\n",
    "\n",
    "    ax1 = plt.subplot2grid((1,2), (0,0))\n",
    "    ax1 = cdf_user_payments.plot( ax=ax1,lw=2, drawstyle='steps',legend=False)\n",
    "    ax1.set_xlabel(\"# Payment\")\n",
    "    ax1.set_ylabel(\"CDF of Users\")\n",
    "    ax1.set_ylim(0,1.05)\n",
    "    plt.setp(ax1.xaxis.get_majorticklabels(), rotation=45)\n",
    "    \n",
    "    ax2 = plt.subplot2grid((1,2), (0,1))\n",
    "    freq_distinct_payments_per_user.plot(ax=ax2,kind='pie', \n",
    "                                         labels=None,legend=False,\n",
    "                                         startangle=270)\n",
    "    ax2.set_ylabel(\"\")\n",
    "    ####\n",
    "    # For Pie Chart Better Legend box\n",
    "    porcent = (100.*freq_distinct_payments_per_user.values)/(freq_distinct_payments_per_user.values.sum())\n",
    "    labels = ['{0} - {1:1.2f} %'.\\\n",
    "              format(i,j) for i,j in zip(freq_distinct_payments_per_user.index, porcent)]\n",
    "    # To Sort Legend (defaulf: keeps the same order)\n",
    "#     patches, labels, dummy =  zip(*sorted(zip(patches, labels, freq_distinct_logins_per_user.values),\n",
    "#                                           key=lambda x: x[2],\n",
    "#                                           reverse=True))\n",
    "    legend_show_top=10\n",
    "    ax2.legend(ax2.patches[0:legend_show_top], \n",
    "               labels[0:legend_show_top], \n",
    "               bbox_to_anchor=(1.55, 1.),\n",
    "               fontsize=10)\n",
    "    ####\n",
    "    fig.tight_layout()\n",
    "    fig.show()\n",
    "    fig.savefig('figs/payments_distribution.eps', bbox_inches='tight',format='eps', dpi=1200)\n",
    "else:\n",
    "    print(\"Unfortunately, there is no data available!\")\n"
   ]
  },
  {
   "cell_type": "markdown",
   "metadata": {
    "deletable": true,
    "editable": true
   },
   "source": [
    "## 5.6. Total Amount of Money Earned"
   ]
  },
  {
   "cell_type": "code",
   "execution_count": null,
   "metadata": {
    "collapsed": false,
    "deletable": true,
    "editable": true
   },
   "outputs": [],
   "source": [
    "if len(df_payments['amountpaid']) >0:\n",
    "    total_earned=df_payments['amountpaid'].values.sum()\n",
    "    'US$ {:,.2f}'.format(float(total_earned))\n",
    "else:\n",
    "    print(\"Unfortunately, there is no data available!\")"
   ]
  },
  {
   "cell_type": "markdown",
   "metadata": {
    "deletable": true,
    "editable": true
   },
   "source": [
    "## 5.7. Amount of Money Paid by Users"
   ]
  },
  {
   "cell_type": "code",
   "execution_count": null,
   "metadata": {
    "collapsed": true,
    "deletable": true,
    "editable": true
   },
   "outputs": [],
   "source": [
    "num_distinct_payments_money_per_user=df_payments['amountpaid'].value_counts()\n",
    "freq_distinct_payments_money_per_user=num_distinct_payments_money_per_user.value_counts()\n",
    "cum_dist_user_payments_money = np.linspace(0.,1.,len(num_distinct_payments_money_per_user))\n",
    "cdf_user_payments_money = pd.Series(cum_dist_user_payments_money, index=num_distinct_payments_money_per_user.sort_values())"
   ]
  },
  {
   "cell_type": "code",
   "execution_count": null,
   "metadata": {
    "collapsed": false,
    "deletable": true,
    "editable": true
   },
   "outputs": [],
   "source": [
    "if len(num_distinct_payments_money_per_user)>0:\n",
    "    fig = plt.figure(figsize=(6, 3))\n",
    "    fig.suptitle('* Distribution of Money Payments by Users:', fontsize=14, y=1.05, x=0.4)\n",
    "\n",
    "    ax1 = plt.subplot2grid((1,2), (0,0))\n",
    "    ax1 = cdf_user_payments_money.plot( ax=ax1,lw=2, drawstyle='steps',legend=False)\n",
    "    ax1.set_xlabel(\"$\")\n",
    "    ax1.set_ylabel(\"CDF of Users\")\n",
    "    ax1.set_ylim(0,1.05)\n",
    "    plt.setp(ax1.xaxis.get_majorticklabels(), rotation=45)\n",
    "\n",
    "    ax2 = plt.subplot2grid((1,2), (0,1))\n",
    "    freq_distinct_payments_money_per_user.plot(ax=ax2,kind='pie', \n",
    "                                               labels=None,legend=False,\n",
    "                                               startangle=270)\n",
    "    ax2.set_ylabel(\"\")\n",
    "    ####\n",
    "    # For Pie Chart Better Legend box\n",
    "    porcent = (100.*freq_distinct_payments_money_per_user.values)/(freq_distinct_payments_money_per_user.values.sum())\n",
    "    labels = ['${0:1.2f} - {1:1.2f} %'.\\\n",
    "              format(i,j) for i,j in zip(freq_distinct_payments_money_per_user.index, porcent)]\n",
    "    # To Sort Legend (defaulf: keeps the same order)\n",
    "#     patches, labels, dummy =  zip(*sorted(zip(patches, labels, freq_distinct_logins_per_user.values),\n",
    "#                                           key=lambda x: x[2],\n",
    "#                                           reverse=True))\n",
    "    legend_show_top=10\n",
    "    ax2.legend(ax2.patches[0:legend_show_top], \n",
    "               labels[0:legend_show_top], \n",
    "               bbox_to_anchor=(1.6, 1.),\n",
    "               fontsize=10)\n",
    "    ####\n",
    "    fig.tight_layout()\n",
    "    fig.show()\n",
    "    fig.savefig('figs/distribution_amount_paid.eps', bbox_inches='tight',format='eps', dpi=1200)\n",
    "else:\n",
    "    print(\"Unfortunately, there is no data available!\")\n"
   ]
  },
  {
   "cell_type": "markdown",
   "metadata": {
    "collapsed": false,
    "deletable": true,
    "editable": true
   },
   "source": [
    "## 5.8. Countries from where Users Access Booters"
   ]
  },
  {
   "cell_type": "code",
   "execution_count": null,
   "metadata": {
    "collapsed": true,
    "deletable": true,
    "editable": true
   },
   "outputs": [],
   "source": [
    "logins_country_distribution_sorted = df_logins_iptoasn['country'].value_counts(sort=True,ascending=True)\n",
    "logins_country_distribution = df_logins_iptoasn['country'].value_counts()"
   ]
  },
  {
   "cell_type": "code",
   "execution_count": null,
   "metadata": {
    "collapsed": false,
    "deletable": true,
    "editable": true
   },
   "outputs": [],
   "source": [
    "if len(logins_country_distribution)>0:\n",
    "    fig = plt.figure(figsize=(6, 3))\n",
    "    fig.suptitle('* Users Accessing from Countries:', fontsize=14, y=1.05, x=0.28)\n",
    "\n",
    "    ax1 = plt.subplot2grid((1,2), (0,0))\n",
    "    logins_country_distribution_sorted.plot(ax=ax1,kind='barh')\n",
    "    ax1.set_ylabel(\"# access\")\n",
    "    ax1.set_xlabel(\"Country\")\n",
    "    plt.setp(ax1.xaxis.get_majorticklabels(), rotation=45)\n",
    "\n",
    "    ax2 = plt.subplot2grid((1,2), (0,1))\n",
    "    logins_country_distribution.plot(ax=ax2,kind='pie', \n",
    "                                     labels=None,legend=False,\n",
    "                                     startangle=270)\n",
    "    ax2.set_ylabel(\"\")\n",
    "    ####\n",
    "    # For Pie Chart Better Legend box\n",
    "    porcent = (100.*logins_country_distribution.values)/(logins_country_distribution.values.sum())\n",
    "    labels = ['{0} - {1:1.2f} %'.\\\n",
    "              format(i,j) for i,j in zip(logins_country_distribution.index, porcent)]\n",
    "    # To Sort Legend (defaulf: keeps the same order)\n",
    "#     patches, labels, dummy =  zip(*sorted(zip(patches, labels, freq_distinct_logins_per_user.values),\n",
    "#                                           key=lambda x: x[2],\n",
    "#                                           reverse=True))\n",
    "    legend_show_top=10\n",
    "    ax2.legend(ax2.patches[0:legend_show_top], \n",
    "               labels[0:legend_show_top], \n",
    "               bbox_to_anchor=(1.55, 1.),\n",
    "               fontsize=10)\n",
    "    ####\n",
    "    fig.tight_layout()\n",
    "    fig.show()\n",
    "    fig.savefig('figs/user_countries.eps', bbox_inches='tight',format='eps', dpi=1200)\n",
    "else:\n",
    "    print(\"Unfortunately, there is no data available!\")"
   ]
  },
  {
   "cell_type": "markdown",
   "metadata": {
    "deletable": true,
    "editable": true
   },
   "source": [
    "## 5.9. Countries of Blacklisted IPs"
   ]
  },
  {
   "cell_type": "code",
   "execution_count": null,
   "metadata": {
    "collapsed": true,
    "deletable": true,
    "editable": true
   },
   "outputs": [],
   "source": [
    "blacklist_country_distribution=df_blacklist_iptoasn['country'].value_counts()\n",
    "blacklist_country_distribution_sorted=df_blacklist_iptoasn['country'].value_counts(sort=True,ascending=True)"
   ]
  },
  {
   "cell_type": "code",
   "execution_count": null,
   "metadata": {
    "collapsed": false,
    "deletable": true,
    "editable": true
   },
   "outputs": [],
   "source": [
    "if len(blacklist_country_distribution)>0:\n",
    "    fig = plt.figure(figsize=(6, 3))\n",
    "    fig.suptitle('* Countries of blacklisted IPs', fontsize=14, y=1.05, x=0.28)\n",
    "\n",
    "    ax1 = plt.subplot2grid((1,2), (0,0))\n",
    "    blacklist_country_distribution_sorted.plot(ax=ax1,kind='barh')\n",
    "    ax1.set_ylabel(\"# Access\")\n",
    "    ax1.set_xlabel(\"Country\")\n",
    "    plt.setp(ax1.xaxis.get_majorticklabels(), rotation=45)\n",
    "\n",
    "    ax2 = plt.subplot2grid((1,2), (0,1))\n",
    "    blacklist_country_distribution.plot(ax=ax2,kind='pie', \n",
    "                                        labels=None,legend=False,\n",
    "                                        startangle=270)\n",
    "    ax2.set_ylabel(\"\")\n",
    "    ####\n",
    "    # For Pie Chart Better Legend box\n",
    "    porcent = (100.*blacklist_country_distribution.values)/(logins_country_distribution.values.sum())\n",
    "    labels = ['{0} - {1:1.2f} %'.\\\n",
    "              format(i,j) for i,j in zip(blacklist_country_distribution.index, porcent)]\n",
    "    # To Sort Legend (defaulf: keeps the same order)\n",
    "#     patches, labels, dummy =  zip(*sorted(zip(patches, labels, freq_distinct_logins_per_user.values),\n",
    "#                                           key=lambda x: x[2],\n",
    "#                                           reverse=True))\n",
    "    legend_show_top=10\n",
    "    ax2.legend(ax2.patches[0:legend_show_top], \n",
    "               labels[0:legend_show_top], \n",
    "               bbox_to_anchor=(1.55, 1.),\n",
    "               fontsize=10)\n",
    "    ####\n",
    "    fig.tight_layout()\n",
    "    fig.show()\n",
    "    fig.savefig('figs/blacklist_countries.eps', bbox_inches='tight',format='eps', dpi=1200)\n",
    "else:\n",
    "    print(\"Unfortunately, there is no data available!\")"
   ]
  },
  {
   "cell_type": "markdown",
   "metadata": {
    "deletable": true,
    "editable": true
   },
   "source": [
    "## 5.10. Countries of Target IPs"
   ]
  },
  {
   "cell_type": "code",
   "execution_count": null,
   "metadata": {
    "collapsed": true,
    "deletable": true,
    "editable": true
   },
   "outputs": [],
   "source": [
    "attacks_country_distribution=df_attacks_iptoasn['country'].value_counts()"
   ]
  },
  {
   "cell_type": "code",
   "execution_count": null,
   "metadata": {
    "collapsed": false,
    "deletable": true,
    "editable": true
   },
   "outputs": [],
   "source": [
    "if len(attacks_country_distribution)>0:\n",
    "    fig = plt.figure(figsize=(6, 3))\n",
    "    fig.suptitle('* Countries of target IPs', fontsize=14, y=1.05, x=0.28)\n",
    "\n",
    "    ax1 = plt.subplot2grid((1,2), (0,0))\n",
    "    attacks_country_distribution.plot(ax=ax1,kind='bar')\n",
    "    ax1.set_ylabel(\"# Access\")\n",
    "    ax1.set_xlabel(\"Country\")\n",
    "    plt.setp(ax1.xaxis.get_majorticklabels(), rotation=45)\n",
    "\n",
    "    ax2 = plt.subplot2grid((1,2), (0,1))\n",
    "    attacks_country_distribution.plot(ax=ax2,kind='pie', \n",
    "                                      labels=None,legend=False,\n",
    "                                      startangle=270)\n",
    "    ax2.set_ylabel(\"\")\n",
    "    ####\n",
    "    # For Pie Chart Better Legend box\n",
    "    porcent = (100.*attacks_country_distribution.values)/(attacks_country_distribution.values.sum())\n",
    "    labels = ['{0} - {1:1.2f} %'.\\\n",
    "              format(i,j) for i,j in zip(attacks_country_distribution.index, porcent)]\n",
    "    # To Sort Legend (defaulf: keeps the same order)\n",
    "#     patches, labels, dummy =  zip(*sorted(zip(patches, labels, freq_distinct_logins_per_user.values),\n",
    "#                                           key=lambda x: x[2],\n",
    "#                                           reverse=True))\n",
    "    legend_show_top=10\n",
    "    ax2.legend(ax2.patches[0:legend_show_top], \n",
    "               labels[0:legend_show_top], \n",
    "               bbox_to_anchor=(1.55, 1.),\n",
    "               fontsize=10)\n",
    "    ####\n",
    "    fig.tight_layout()\n",
    "    fig.show()\n",
    "    fig.savefig('figs/attack_countries_distribution.eps',bbox_inches='tight', format='eps', dpi=1200) \n",
    "else:\n",
    "    print(\"Unfortunately, there is no data available!\")"
   ]
  },
  {
   "cell_type": "markdown",
   "metadata": {
    "deletable": true,
    "editable": true
   },
   "source": [
    "## 5.12. Attacks on Same Target"
   ]
  },
  {
   "cell_type": "code",
   "execution_count": null,
   "metadata": {
    "collapsed": true,
    "deletable": true,
    "editable": true
   },
   "outputs": [],
   "source": [
    "num_attacks_on_sametarget=df_attacks['targetip'].value_counts()\n",
    "\n",
    "freq_num_attacks_on_sametarget=num_attacks_on_sametarget.value_counts()\n",
    "cum_num_attacks_on_sametarget = np.linspace(0.,1.,len(num_attacks_on_sametarget))\n",
    "cdf_num_attacks_on_sametarget = pd.Series(cum_num_attacks_on_sametarget, index=num_attacks_on_sametarget.sort_values())"
   ]
  },
  {
   "cell_type": "code",
   "execution_count": null,
   "metadata": {
    "collapsed": false,
    "deletable": true,
    "editable": true
   },
   "outputs": [],
   "source": [
    "if len(num_attacks_on_sametarget)>0:\n",
    "    fig = plt.figure(figsize=(6, 3))\n",
    "    fig.suptitle('* Attacks on Same Targets:', fontsize=14, y=1.05,x=0.28)\n",
    "\n",
    "    ax1 = plt.subplot2grid((1,2), (0,0))\n",
    "    ax1 = cdf_num_attacks_on_sametarget.plot( ax=ax1,lw=2, drawstyle='steps',legend=False)\n",
    "    ax1.set_xlabel(\"# IPs\")\n",
    "    ax1.set_ylabel(\"CDF of Users\")\n",
    "    ax1.set_ylim(0,1.05)\n",
    "    plt.setp(ax1.xaxis.get_majorticklabels(), rotation=45)\n",
    "\n",
    "    ax2 = plt.subplot2grid((1,2), (0,1))\n",
    "    freq_num_attacks_on_sametarget.plot(ax=ax2,kind='pie',\n",
    "                                        labels=None,legend=False,\n",
    "                                        startangle=270)\n",
    "    ax2.set_ylabel(\"\")\n",
    "    ####\n",
    "    # For Pie Chart Better Legend box\n",
    "    porcent = (100.*freq_num_attacks_on_sametarget.values)/(freq_num_attacks_on_sametarget.values.sum())\n",
    "    labels = ['{0} - {1:1.2f} %'.\\\n",
    "              format(i,j) for i,j in zip(freq_num_attacks_on_sametarget.index, porcent)]\n",
    "    # To Sort Legend (defaulf: keeps the same order)\n",
    "#     patches, labels, dummy =  zip(*sorted(zip(patches, labels, freq_distinct_logins_per_user.values),\n",
    "#                                           key=lambda x: x[2],\n",
    "#                                           reverse=True))\n",
    "    legend_show_top=10\n",
    "    ax2.legend(ax2.patches[0:legend_show_top], \n",
    "               labels[0:legend_show_top], \n",
    "               bbox_to_anchor=(1.55, 1.),\n",
    "               fontsize=10)\n",
    "    ####\n",
    "    fig.tight_layout()\n",
    "\n",
    "    fig.show()\n",
    "    fig.savefig('figs/attacks_on_same_target.eps', bbox_inches='tight',format='eps', dpi=1200)\n",
    "else:\n",
    "    print(\"Unfortunately, there is no data available!\")"
   ]
  },
  {
   "cell_type": "markdown",
   "metadata": {
    "deletable": true,
    "editable": true
   },
   "source": [
    "## 5.11. Attacks per day (timeseries) "
   ]
  },
  {
   "cell_type": "code",
   "execution_count": null,
   "metadata": {
    "collapsed": false,
    "deletable": true,
    "editable": true
   },
   "outputs": [],
   "source": [
    "if len(df_attacks)>0:\n",
    "    attack_timeseries=df_attacks.set_index(['date']).groupby(pd.TimeGrouper(freq='D')).agg(['count'])['action']\n",
    "    attack_mean_perday=attack_timeseries.mean()\n",
    "    attack_median_perday=attack_timeseries.median()\n",
    "else:\n",
    "    attack_timeseries=\"\""
   ]
  },
  {
   "cell_type": "code",
   "execution_count": null,
   "metadata": {
    "collapsed": false,
    "deletable": true,
    "editable": true
   },
   "outputs": [],
   "source": [
    "if len(attack_timeseries)>0:\n",
    "    fig = plt.figure(figsize=(6,3))\n",
    "\n",
    "    ax1 = plt.subplot2grid((1,1), (0,0), rowspan=2)\n",
    "    attack_timeseries.plot(ax=ax1,\n",
    "                           lw=2,\n",
    "                           legend=False,\n",
    "    #                        style='--'\n",
    "                          )\n",
    "\n",
    "    # X and Y Labels and Ticks\n",
    "    ax1.set_xlabel(\"Time (bin=day)\")\n",
    "    ax1.set_ylabel(\"# Attacks\")\n",
    "\n",
    "    ax1.annotate(str(int(attack_median_perday[0]))+' (median)', \n",
    "                 (min(df_attacks['date']), attack_median_perday),\n",
    "                 xytext=(350, -1), \n",
    "                 textcoords='offset points',\n",
    "                 color='black', \n",
    "                 arrowprops=dict(arrowstyle='-|>',\n",
    "                                 color='black'))\n",
    "    fig.savefig('figs/attacks_timeseries.eps', bbox_inches='tight',format='eps', dpi=1200)\n",
    "\n",
    "else:\n",
    "    print(\"Unfortunately, there is no data available!\")"
   ]
  },
  {
   "cell_type": "markdown",
   "metadata": {
    "deletable": true,
    "editable": true
   },
   "source": [
    "## 5.12. Time Between Logins and Attacks"
   ]
  },
  {
   "cell_type": "code",
   "execution_count": null,
   "metadata": {
    "collapsed": false,
    "deletable": true,
    "editable": true
   },
   "outputs": [],
   "source": [
    "if len(df_attacks_and_logins)>0:\n",
    "    print(\"redo\")\n",
    "else:\n",
    "    print(\"Unfortunately, there is no data available!\")"
   ]
  },
  {
   "cell_type": "markdown",
   "metadata": {
    "deletable": true,
    "editable": true
   },
   "source": [
    "## 5.13. Who attack whom? (users on the country level)"
   ]
  },
  {
   "cell_type": "code",
   "execution_count": null,
   "metadata": {
    "collapsed": false,
    "deletable": true,
    "editable": true
   },
   "outputs": [],
   "source": [
    "if len(df_attacks_extended)>0 and len(df_logins_extended)>0:\n",
    "    merged_attacks_logins = pd.merge(df_attacks_extended,\n",
    "                                  df_logins_extended,\n",
    "                                  how = 'left',\n",
    "                                  left_on = 'date',\n",
    "                                  right_on = 'date')[['targetcountry','srccountry']]\n",
    "\n",
    "    who_against_whom = merged_attacks_logins.groupby(['targetcountry','srccountry'])\\\n",
    "                            .size()\\\n",
    "                            .reset_index()\\\n",
    "                            .pivot('srccountry','targetcountry',0)\n",
    "else:\n",
    "    who_against_whom =\"\""
   ]
  },
  {
   "cell_type": "code",
   "execution_count": null,
   "metadata": {
    "collapsed": false,
    "deletable": true,
    "editable": true
   },
   "outputs": [],
   "source": [
    "if len(who_against_whom)>0:\n",
    "    fig = plt.figure(figsize=(8,12))\n",
    "    fig.suptitle('Countries of Target IPs', fontsize=14, y=.92)\n",
    "\n",
    "    ax1 = plt.subplot2grid((1,1), (0,0))\n",
    "    sns.set()\n",
    "    sns.heatmap(who_against_whom,\n",
    "                ax=ax1,\n",
    "#                 cmap=\"YlGnBu\",\n",
    "    #             linewidths=.5,\n",
    "    #             annot=True\n",
    "                )\n",
    "\n",
    "    ax1.set_ylabel(\"Source Country\")\n",
    "    ax1.set_xlabel(\"Attack Target Country\")\n",
    "\n",
    "    fig.show()\n",
    "    fig.savefig('figs/who_attack_whom.eps', bbox_inches='tight',format='eps', dpi=1200)\n",
    "else:\n",
    "    print(\"Unfortunately, there is no data available!\")"
   ]
  },
  {
   "cell_type": "markdown",
   "metadata": {
    "deletable": true,
    "editable": true
   },
   "source": [
    "<h1 align=\"center\">!!!!!!!!!!!!!!!!!!!!!!!!!!!!!!!!!!!!!!!!!!!!!!!!!!!!!!!!!!!!!!!!!!!!!!!!!!!!!!!!!!!!!!!!!!!!!!!!!!!!!!!!!!!!!!!!!!!!!!!!!!!!!!!!!<br>\n",
    "FIFTH PART: Query Interface<br>\n",
    "!!!!!!!!!!!!!!!!!!!!!!!!!!!!!!!!!!!!!!!!!!!!!!!!!!!!!!!!!!!!!!!!!!!!!!!!!!!!!!!!!!!!!!!!!!!!!!!!!!!!!!!!!!!!!!!!!!!!!!!!!!!!!!!</h1> "
   ]
  },
  {
   "cell_type": "code",
   "execution_count": null,
   "metadata": {
    "collapsed": true,
    "deletable": true,
    "editable": true
   },
   "outputs": [],
   "source": [
    "from ipywidgets import widgets, interact, Dropdown,HTML\n",
    "from IPython.display import display,clear_output"
   ]
  },
  {
   "cell_type": "code",
   "execution_count": null,
   "metadata": {
    "collapsed": false,
    "deletable": true,
    "editable": true
   },
   "outputs": [],
   "source": [
    "def search_by_userid_submit(sender):\n",
    "    clear_output()\n",
    "    print(\"Searching by id =\",search_by_userid.value)\n",
    "    \n",
    "    if len(df_users[df_users['userid']== int(search_by_userid.value)])>0:\n",
    "        display(df_users[df_logins['userid']== int(search_by_userid.value)])\n",
    "    \n",
    "    if len(df_logins_extended[df_logins_extended['userid']== int(search_by_userid.value)])>0:\n",
    "        display(df_logins_extended[df_logins_extended['userid']== int(search_by_userid.value)])\n",
    "    \n",
    "    if len(df_attacks_extended[df_attacks_extended['userid']== int(search_by_userid.value)])>0:\n",
    "        display(df_attacks_extended[df_attacks_extended['userid']== int(search_by_userid.value)])\n",
    "    \n",
    "    if len(df_payments[df_payments['userid']== int(search_by_userid.value)])>0:\n",
    "        display(df_payments[df_payments['userid']== int(search_by_userid.value)])\n",
    "\n",
    "def search_by_username_submit(sender):\n",
    "    clear_output()\n",
    "    print(\"Searching by username =\",search_by_username.value,\"\\n\")\n",
    "    \n",
    "    if len(df_users[df_users['username']== search_by_username.value])>0:\n",
    "        print(\"Table df_users:\")\n",
    "        display(df_users[df_users['username']== search_by_username.value])\n",
    "    \n",
    "    if len(df_logins_extended[df_logins_extended['username']== search_by_username.value])>0:\n",
    "        print(\"Table df_logins:\")\n",
    "        display(df_logins_extended[df_logins_extended['username']== search_by_username.value])\n",
    "\n",
    "    if len(df_attacks_extended[df_attacks_extended['username']== search_by_username.value])>0:\n",
    "        print(\"Table df_attacks:\")\n",
    "        display(df_attacks_extended[df_attacks_extended['username']== search_by_username.value])\n",
    "    \n",
    "    if len(df_payments[df_payments['username']== search_by_username.value])>0:\n",
    "        print(\"Table df_payments:\")\n",
    "        display(df_payments[df_payments['username']== search_by_username.value])\n",
    "        \n",
    "def search_by_ip_submit(sender):\n",
    "    clear_output()\n",
    "    print(\"Searching by IP address =\",str(search_by_ip.value),\"\\n\")\n",
    "    \n",
    "    if len(df_logins_extended[df_logins_extended['userip']== str(search_by_ip.value)])>0:\n",
    "        print(\"Table df_logins (as ATTACKER:\")\n",
    "        display(df_logins_extended[df_logins_extended['userip']== str(search_by_ip.value)])\n",
    "     \n",
    "    if len(df_attacks_extended[df_attacks_extended['targetip']== str(search_by_ip.value)])>0:\n",
    "        print(\"Table df_attacks (as TARGET):\")\n",
    "        display(df_attacks_extended[df_attacks_extended['targetip']== str(search_by_ip.value)])  \n",
    "      \n",
    "       \n",
    "def search_by_asn_submit(sender):\n",
    "    clear_output()\n",
    "    print(\"Searching by Autonomous System Number (ASN) =\",search_by_asn.value,\"\\n\")\n",
    "    \n",
    "    if len(df_logins_extended[df_logins_extended['srcasn']== int(search_by_asn.value)])>0:\n",
    "        print(\"Table df_logins (as ATTACKER):\")\n",
    "        display(df_logins_extended[df_logins_extended['srcasn']== int(search_by_asn.value)])\n",
    "    \n",
    "    if len(df_attacks_extended[df_attacks_extended['targetasn']== str(search_by_asn.value)])>0:\n",
    "        print(\"Table df_attacks (as TARGET):\")\n",
    "        display(df_attacks_extended[df_attacks_extended['targetasn']== str(search_by_asn.value)])\n",
    "\n",
    "    if len(df_attacks_extended[df_attacks_extended['targetasn']== str(search_by_asn.value)])>0:\n",
    "        print(\"Table df_attacks (as TARGET):\")\n",
    "        display(df_attacks_extended[df_attacks_extended['targetasn']== str(search_by_asn.value)])\n",
    "\n",
    "        \n",
    "country_list=pd.read_csv('https://raw.githubusercontent.com/datasets/country-list/master/data.csv',delimiter=\",\",error_bad_lines=False)\n",
    "def search_by_country_submit():\n",
    "    country_code=country_list[country_list['Name']==search_by_country.value]['Code'].values[0]\n",
    "    clear_output()\n",
    "    print(\"Searching by Country =\",search_by_country.value,\"\\n\")\n",
    "    \n",
    "    if len(df_logins_extended[df_logins_extended['srccountry']== country_code])>0:\n",
    "        print(\"Table df_logins (as ATTACKER):\")\n",
    "        display(df_logins_extended[df_logins_extended['srccountry']== country_code])\n",
    "    \n",
    "    if len(df_attacks_extended[df_attacks_extended['targetcountry']== country_code])>0:\n",
    "        print(\"Table df_attacks (as TARGET):\")\n",
    "        display(df_attacks_extended[df_attacks_extended['targetcountry']== country_code])\n",
    "    "
   ]
  },
  {
   "cell_type": "code",
   "execution_count": null,
   "metadata": {
    "collapsed": false,
    "deletable": true,
    "editable": true
   },
   "outputs": [],
   "source": [
    "display(HTML('<h3>*Search by (only) one field per time:</h3>'))\n",
    "\n",
    "search_by_username = widgets.Text(description=\"username\")\n",
    "display(search_by_username)\n",
    "search_by_username.on_submit(search_by_username_submit)\n",
    "\n",
    "search_by_userid = widgets.Text(description=\"userid\")\n",
    "display(search_by_userid)\n",
    "search_by_userid.on_submit(search_by_userid_submit)\n",
    "\n",
    "search_by_ip = widgets.Text(description=\"IP\")\n",
    "display(search_by_ip)\n",
    "search_by_ip.on_submit(search_by_ip_submit)\n",
    "\n",
    "search_by_asn = widgets.Text(description=\"ASN\")\n",
    "display(search_by_asn)\n",
    "search_by_asn.on_submit(search_by_asn_submit)\n",
    "\n",
    "search_by_country = Dropdown(description=\"Country\", options=country_list['Name'].tolist())\n",
    "search_by_country.on_trait_change(search_by_country_submit, name=\"value\")\n",
    "display(search_by_country)"
   ]
  },
  {
   "cell_type": "code",
   "execution_count": null,
   "metadata": {
    "collapsed": true,
    "deletable": true,
    "editable": true
   },
   "outputs": [],
   "source": []
  }
 ],
 "metadata": {
  "kernelspec": {
   "display_name": "Python 3",
   "language": "python",
   "name": "python3"
  },
  "language_info": {
   "codemirror_mode": {
    "name": "ipython",
    "version": 3
   },
   "file_extension": ".py",
   "mimetype": "text/x-python",
   "name": "python",
   "nbconvert_exporter": "python",
   "pygments_lexer": "ipython3",
   "version": "3.5.2"
  },
  "widgets": {
   "state": {},
   "version": "1.1.2"
  }
 },
 "nbformat": 4,
 "nbformat_minor": 0
}
