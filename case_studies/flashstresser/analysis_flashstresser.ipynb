{
 "cells": [
  {
   "cell_type": "markdown",
   "metadata": {},
   "source": [
    "<h1 align=\"center\">\n",
    "!!!!!!!!!!!!!!!!!!!!!!!!!!!!!!!!!!!!!!!!!!!!!!!!!!!!!!!!!!!!!!!!!!!!!!!!!!!!!!!!!!!!!!!!!!!!!!!!!!!!!!!!!!!!!!!!!!!!!!!!!!!!!!!<br>\n",
    "Brief explanation on our Booter database analysis methodology: <br>\n",
    "!!!!!!!!!!!!!!!!!!!!!!!!!!!!!!!!!!!!!!!!!!!!!!!!!!!!!!!!!!!!!!!!!!!!!!!!!!!!!!!!!!!!!!!!!!!!!!!!!!!!!!!!!!!!!!!!!!!!!!!!!!!!!!!</h1> "
   ]
  },
  {
   "cell_type": "markdown",
   "metadata": {},
   "source": [
    "# Analysis of: flashstresser\n",
    "#### File originally retrieved from: http://4lz5rmnkd6f63tmm.onion/db/flashstresser.sql"
   ]
  },
  {
   "cell_type": "markdown",
   "metadata": {},
   "source": [
    "## * Libraries that I use to analyse data"
   ]
  },
  {
   "cell_type": "code",
   "execution_count": 7,
   "metadata": {
    "collapsed": true
   },
   "outputs": [],
   "source": [
    "import pandas as pd\n",
    "import numpy as np\n",
    "\n",
    "from io import StringIO\n",
    "import re\n",
    "\n",
    "from IPython.display import display,clear_output"
   ]
  },
  {
   "cell_type": "markdown",
   "metadata": {},
   "source": [
    "<h1 align=\"center\">\n",
    "!!!!!!!!!!!!!!!!!!!!!!!!!!!!!!!!!!!!!!!!!!!!!!!!!!!!!!!!!!!!!!!!!!!!!!!!!!!!!!!!!!!!!!!!!!!!!!!!!!!!!!!!!!!!!!!!!!!!!!!!!!!!!!!<br>\n",
    "STEP 0: Reading an input Booter database file<br>\n",
    "!!!!!!!!!!!!!!!!!!!!!!!!!!!!!!!!!!!!!!!!!!!!!!!!!!!!!!!!!!!!!!!!!!!!!!!!!!!!!!!!!!!!!!!!!!!!!!!!!!!!!!!!!!!!!!!!!!!!!!!!!!!!!!!</h1> "
   ]
  },
  {
   "cell_type": "code",
   "execution_count": 8,
   "metadata": {
    "collapsed": true
   },
   "outputs": [],
   "source": [
    "dumpfile='flashstresser.sql'"
   ]
  },
  {
   "cell_type": "markdown",
   "metadata": {},
   "source": [
    "<h1 align=\"center\">\n",
    "!!!!!!!!!!!!!!!!!!!!!!!!!!!!!!!!!!!!!!!!!!!!!!!!!!!!!!!!!!!!!!!!!!!!!!!!!!!!!!!!!!!!!!!!!!!!!!!!!!!!!!!!!!!!!!!!!!!!!!!!!!!!!!!!!!!!!!!!!<br>\n",
    "STEP 1: Adaptation to our Booter database schema<br>\n",
    "!!!!!!!!!!!!!!!!!!!!!!!!!!!!!!!!!!!!!!!!!!!!!!!!!!!!!!!!!!!!!!!!!!!!!!!!!!!!!!!!!!!!!!!!!!!!!!!!!!!!!!!!!!!!!!!!!!!!!!!!!!!!!!!</h1> "
   ]
  },
  {
   "cell_type": "markdown",
   "metadata": {},
   "source": [
    "## 1. Reading the first 'N' (100) lines of the input Booter database file"
   ]
  },
  {
   "cell_type": "code",
   "execution_count": 9,
   "metadata": {
    "collapsed": false
   },
   "outputs": [
    {
     "name": "stdout",
     "output_type": "stream",
     "text": [
      "-- phpMyAdmin SQL Dump\n",
      "-- version 3.5.5\n",
      "-- http://www.phpmyadmin.net\n",
      "--\n",
      "-- Host: localhost\n",
      "-- Generation Time: May 26, 2013 at 07:12 AM\n",
      "-- Server version: 5.1.68-cll\n",
      "-- PHP Version: 5.3.17\n",
      "\n",
      "SET SQL_MODE=\"NO_AUTO_VALUE_ON_ZERO\"; SET time_zone = \"+00:00\";\n",
      "/*!40101 SET @OLD_CHARACTER_SET_CLIENT=@@CHARACTER_SET_CLIENT */;\n",
      "/*!40101 SET @OLD_CHARACTER_SET_RESULTS=@@CHARACTER_SET_RESULTS */;\n",
      "/*!40101 SET @OLD_COLLATION_CONNECTION=@@COLLATION_CONNECTION */;\n",
      "/*!40101 SET NAMES utf8 */;\n",
      "\n",
      "--\n",
      "-- --------------------------------------------------------\n",
      "--\n",
      "-- Table structure for table `API`\n",
      "--\n",
      "\n",
      "CREATE TABLE IF NOT EXISTS `API` ( `UDP` text NOT NULL ) ENGINE=MyISAM DEFAULT CHARSET=latin1;\n",
      "--\n",
      "-- Dumping data for table `API`\n",
      "--\n",
      "INSERT INTO `API` (`UDP`) VALUES ('http://82.196.3.101/send.php?host=[host]&time=[time]&port=[port]&key=ras&user=ras&method=[method] http://bestbooter.com/send.php?key=335rifrt5&host=[host]&time=[time]&port=[port] http://missiontech.us/API/send.php?key=2844459ti59&host=[host]&time=[time]&port=[port] http://zstress.info/revenge.php?key=revenge&host=[host]&port=[port]&time=[time]&method=[method] http://api5.powerapi.net/api/send.php?key=PowerAPI&host=[host]&port=[port]&time=[time]&method=[method] http://api6.powerapi.net/api/send.php?key=PowerAPI&host=[host]&port=[port]&time=[time]&method=[method] http://api7.powerapi.net/api/send.php?key=PowerAPI&host=[host]&port=[port]&time=[time]&method=[method]');\n",
      "-- --------------------------------------------------------\n",
      "--\n",
      "-- Table structure for table `blacklist`\n",
      "--\n",
      "CREATE TABLE IF NOT EXISTS `blacklist` ( `ID` int(11) NOT NULL AUTO_INCREMENT, `IP` varchar(15) NOT NULL, `note` text NOT NULL, PRIMARY KEY (`ID`) ) ENGINE=MyISAM DEFAULT CHARSET=latin1 AUTO_INCREMENT=15 ;\n",
      "--\n",
      "-- Dumping data for table `blacklist`\n",
      "--\n",
      "INSERT INTO `blacklist` (`ID`, `IP`, `note`) VALUES\n",
      "(10, '127.0.0.1', 'fuckstick'),\n",
      "(6, '68.58.13.198', 'Classified'),\n",
      "(8, '37.221.170.105', ''),\n",
      "(9, '72.21.81.85', ''),\n",
      "(11, '72.21.81.85', 'FBI'),\n",
      "(13, '198.81.129.107', 'CIA'),\n",
      "(14, '178.33.198.208', 'cakes dick');\n",
      "-- --------------------------------------------------------\n",
      "--\n",
      "-- Table structure for table `fe`\n",
      "--\n",
      "CREATE TABLE IF NOT EXISTS `fe` ( `ID` int(11) NOT NULL AUTO_INCREMENT, `userID` int(11) NOT NULL, `type` varchar(1) NOT NULL, `ip` varchar(15) NOT NULL, `note` text NOT NULL, PRIMARY KEY (`ID`) ) ENGINE=MyISAM DEFAULT CHARSET=latin1 AUTO_INCREMENT=96 ;\n",
      "--\n",
      "-- Dumping data for table `fe`\n",
      "--\n",
      "INSERT INTO `fe` (`ID`, `userID`, `type`, `ip`, `note`) VALUES\n",
      "(1, 11, 'f', '99.7.66.252', 'Afri'),\n",
      "(3, 21, 'e', '184.151.63.185', 'nevertrapx'),\n",
      "(5, 21, 'e', '174.29.111.208', 'neversacx'),\n",
      "(10, 8, 'f', '92.21.192.90', 'luke\\r\\n'),\n",
      "(11, 8, 'e', '88.89.219.61', 'weeD?\\r\\n'),\n",
      "(12, 115, 'f', '86.186.237.65', 'Ryan Don\\\\''t Touch!'),\n",
      "(13, 66, 'f', '173.245.56.177', 'MayoDwarf'),\n",
      "(15, 66, 'f', '99.247.212.76', 'DXColdFusionXD'),\n",
      "(16, 139, 'f', '50.142.160.74', 'Charlene.!<3'),\n",
      "(17, 134, 'e', '202.124.96.151', 'SANTA'),\n",
      "(18, 169, 'e', '184.156.219.5', 'PROFAGSKI'),\n",
      "(19, 163, 'f', '74.199.94.248', 'Friend,dont u dare fucking ddos,getting and email if u do and blocked'),\n",
      "(20, 186, 'f', '173.189.14.59', ''),\n",
      "(21, 186, 'f', '71.59.229.31', ''),\n",
      "(22, 186, 'f', '98.230.56.167', ''),\n",
      "(23, 199, 'f', '142.167.158.252', 'Jonathan'),\n",
      "(24, 199, 'f', '142.239.254.19', 'Ammar'),\n",
      "(25, 199, 'e', '72.92.223.231', 'Kobi borden\\r\\n\\r\\nrsn: Kobi69'),\n",
      "(26, 199, 'e', '174.236.33.210', '0T3 FC owner'),\n",
      "(27, 199, 'f', '216.218.29.212', 'Sumit'),\n",
      "(28, 199, 'e', '142.68.226.83', 'Majed Edrisi'),\n",
      "(29, 203, 'e', '208.255.153.10', 'SHMS'),\n",
      "(30, 26, 'e', '168.62.23.92', 'host'),\n",
      "(33, 376, 'f', '127.0.0.1', 'fagg<>'),\n",
      "(32, 373, 'f', '216.38.7.227', ':)'),\n",
      "(34, 376, 'e', '127.0.0.2', 'fagg2<>'),\n",
      "(35, 378, 'f', '95.141.40.14', 'EMS only nuke'),\n",
      "(36, 378, 'e', '95.141.40.57', 'Server SWF'),\n",
      "(37, 375, 'e', '95.241.103.150', 'Connessione Scuola.'),\n",
      "(38, 8, 'e', '109.156.20.239', 'kingyo\\r\\n'),\n",
      "(47, 427, 'e', '67.84.177.227', 'this kid needs to be hit'),\n",
      "(45, 405, 'f', '130.180.80.43', 'Kucki'),\n",
      "(46, 427, 'e', '69.74.165.132', 'this needs to be taken down'),\n",
      "(43, 375, 'e', '109.168.106.107', 'Mumble GameHosting'),\n",
      "(44, 152, 'f', '67.8.172.133', 'luis'),\n",
      "(48, 405, 'f', '93.14.54.144', 'Nexor'),\n",
      "(49, 405, 'f', '109.193.180.157', 'Failzor'),\n",
      "(50, 405, 'f', '95.208.240.174', 'Steven'),\n",
      "(51, 405, 'e', '109.208.169.160', 'Eleven'),\n",
      "(52, 449, 'e', '69.74.165.132', 'School '),\n",
      "(53, 66, 'e', '74.75.63.101', 'Dominik the fag'),\n",
      "(54, 747, 'f', '184.190.66.160', 'Friend'),\n",
      "(55, 446, 'e', '37.59.50.34', 'Port: 25570\\r\\nDrama''s Server\\r\\nSSYN attack.'),\n",
      "(56, 446, 'e', '46.4.81.41', 'Port: 25704\\r\\nAde''s Server\\r\\nUDP attack.'),\n",
      "(57, 385, 'e', '108.80.144.211', 'brody'),\n",
      "(58, 812, 'e', '79.0.166.217', 'Dossare Sempre'),\n",
      "(59, 812, 'e', '77.111.194.119', ''),\n",
      "(60, 800, 'e', '68.207.210.116', 'bama1411'),\n",
      "(61, 815, 'e', '95.141.32.114', ''),\n"
     ]
    }
   ],
   "source": [
    "lines_to_read=100\n",
    "\n",
    "with open(dumpfile) as myfile:\n",
    "    firstlines=myfile.readlines()[0:lines_to_read] #put here the interval you want\n",
    "    for x in firstlines:\n",
    "        print(x.strip())"
   ]
  },
  {
   "cell_type": "markdown",
   "metadata": {},
   "source": [
    "## 2. Listing tables that have content inserted into the dump file"
   ]
  },
  {
   "cell_type": "code",
   "execution_count": 10,
   "metadata": {
    "collapsed": true
   },
   "outputs": [],
   "source": [
    "def list_tables_with_insert(dumpfile):\n",
    "    tables = []\n",
    "    with open(dumpfile, 'rb') as f:\n",
    "        for line in f:\n",
    "            line = line.decode(\"utf-8\").strip()\n",
    "            if line.lower().startswith('insert'):\n",
    "                table = re.findall(r'`(.*?)`', line)\n",
    "                tables.append(table[0])\n",
    "    return tables"
   ]
  },
  {
   "cell_type": "code",
   "execution_count": 11,
   "metadata": {
    "collapsed": false
   },
   "outputs": [
    {
     "name": "stdout",
     "output_type": "stream",
     "text": [
      "1 API\n",
      "2 blacklist\n",
      "3 fe\n",
      "4 gateway\n",
      "5 iplogs\n",
      "6 loginlogs\n",
      "7 loginlogs\n",
      "8 loginlogs\n",
      "9 loginlogs\n",
      "10 loginlogs\n",
      "11 logs\n",
      "12 messages\n",
      "13 news\n",
      "14 payments\n",
      "15 plans\n",
      "16 tickets\n",
      "17 users\n",
      "18 users\n"
     ]
    }
   ],
   "source": [
    "tables=enumerate(list_tables_with_insert(dumpfile))\n",
    "\n",
    "for i, item in tables:\n",
    "    print(i+1,item)"
   ]
  },
  {
   "cell_type": "markdown",
   "metadata": {},
   "source": [
    "## How the list above looks like? "
   ]
  },
  {
   "cell_type": "markdown",
   "metadata": {},
   "source": [
    "<h2 align='center'>======================================================================\n",
    "If NOT well-formed SQL dump file then you must first do the following:\n",
    "======================================================================</h2>"
   ]
  },
  {
   "cell_type": "markdown",
   "metadata": {},
   "source": [
    "## 3. Removing lines that are not part of the actual content to be analysed"
   ]
  },
  {
   "cell_type": "markdown",
   "metadata": {},
   "source": [
    "## 4. Splitting and naming tables and columns"
   ]
  },
  {
   "cell_type": "markdown",
   "metadata": {},
   "source": [
    "<h2 align='center'>======================================================================\n",
    "Additional functions\n",
    "======================================================================</h2>"
   ]
  },
  {
   "cell_type": "markdown",
   "metadata": {},
   "source": [
    "## * Function to read tables from wel-formed SQL database dump"
   ]
  },
  {
   "cell_type": "code",
   "execution_count": 12,
   "metadata": {
    "collapsed": false
   },
   "outputs": [],
   "source": [
    "# For well formed SQL database dumps!\n",
    "def read_inserted_table(dumpfile, target_table):\n",
    "    sio = StringIO()\n",
    "    fast_forward = True\n",
    "    already_header = False\n",
    "    with open(dumpfile, 'rb') as f:\n",
    "        for line in f:\n",
    "            line = line.decode(\"utf-8\").strip()\n",
    "            line = re.sub(\"(?!(([^']*'){2})*[^']*$)\\)\", '',line) #Step0:remove any \")\" from the content of columns\n",
    "            if line.lower().startswith('insert') and target_table in line:\n",
    "                fast_forward = False\n",
    "                if already_header:\n",
    "                    continue\n",
    "            if fast_forward:\n",
    "                continue\n",
    "            \n",
    "            data = re.findall('\\([^\\)]*\\)', line) #Step1: get the content between parentesis (i.e., insert line)\n",
    "            try:\n",
    "                newline = data[0].strip('()') #Step2:remove parenthesis\n",
    "                newline=newline.replace('`','') #Step3: remove ` (usually in table names)\n",
    "                newline=re.sub(r'(?!(([^\\']*\\'){2})*[^\\']*$),','', newline) #Step4: remove commas from the content of columns\n",
    "                newline=newline.replace('\\'','') #Step5: remove single quotes\n",
    "                newline=newline.replace(', ', ',') #Step6: remove single spaces after comma (i.e., in the beginning of a column)\n",
    "                sio.write(newline)\n",
    "                sio.write(\"\\n\")\n",
    "            except IndexError:\n",
    "                pass\n",
    "            if line.endswith(';'):\n",
    "                fast_forward = True\n",
    "                already_header = True\n",
    "    sio.seek(0)\n",
    "    return sio"
   ]
  },
  {
   "cell_type": "markdown",
   "metadata": {},
   "source": [
    "## * Converter functions for formatting content of columns\n",
    "Attention, it is better to perform the conversion based on a series than a string (http://stackoverflow.com/questions/42462906/pandas-read-csv-converters-performance-issue)"
   ]
  },
  {
   "cell_type": "code",
   "execution_count": 13,
   "metadata": {
    "collapsed": true
   },
   "outputs": [],
   "source": [
    "def tolowercase(series):\n",
    "    return series.str.lower()"
   ]
  },
  {
   "cell_type": "code",
   "execution_count": 14,
   "metadata": {
    "collapsed": true
   },
   "outputs": [],
   "source": [
    "def strip_singlequote(series):\n",
    "    return series.str.strip('\\'')"
   ]
  },
  {
   "cell_type": "code",
   "execution_count": 15,
   "metadata": {
    "collapsed": true
   },
   "outputs": [],
   "source": [
    "def timestamp2datetime(series):\n",
    "    return  pd.to_datetime(series,unit='s',errors='coerce')"
   ]
  },
  {
   "cell_type": "code",
   "execution_count": 16,
   "metadata": {
    "collapsed": true
   },
   "outputs": [],
   "source": [
    "def datetimestring2datetime(series):\n",
    "    return  pd.to_datetime(series, format='%d-%m-%Y %H:%M',errors='coerce')  "
   ]
  },
  {
   "cell_type": "code",
   "execution_count": 17,
   "metadata": {
    "collapsed": true
   },
   "outputs": [],
   "source": [
    "def datetimeinvertedstring2datetime(series):\n",
    "    return pd.to_datetime(series, format='%Y-%m-%d %H:%M:%S',errors='coerce')"
   ]
  },
  {
   "cell_type": "code",
   "execution_count": 18,
   "metadata": {
    "collapsed": true
   },
   "outputs": [],
   "source": [
    "def datetimeampm2datetime(series):\n",
    "    return  pd.to_datetime(series,format='%d-%m-%Y %I:%M:%S %p',errors='coerce')"
   ]
  },
  {
   "cell_type": "code",
   "execution_count": 19,
   "metadata": {
    "collapsed": true
   },
   "outputs": [],
   "source": [
    "def datetimemdyampm2datetime(series):\n",
    "    return  pd.to_datetime(series, format='%m-%d-%Y %I:%M:%S %p',errors='coerce') "
   ]
  },
  {
   "cell_type": "code",
   "execution_count": 20,
   "metadata": {
    "collapsed": true
   },
   "outputs": [],
   "source": [
    "def strip_parenthesisandsemicolon(series):\n",
    "    return series.str.strip(');')"
   ]
  },
  {
   "cell_type": "code",
   "execution_count": 21,
   "metadata": {
    "collapsed": true
   },
   "outputs": [],
   "source": [
    "def strip_insertintologs(series):\n",
    "    return int(series.str.strip('INSERT INTO `logs` VALUES ('))"
   ]
  },
  {
   "cell_type": "code",
   "execution_count": 22,
   "metadata": {
    "collapsed": true
   },
   "outputs": [],
   "source": [
    "def strip_tab(series):\n",
    "    return series.str.strip('\\t')"
   ]
  },
  {
   "cell_type": "code",
   "execution_count": 23,
   "metadata": {
    "collapsed": false
   },
   "outputs": [],
   "source": [
    "def friendsenemies_type(series):\n",
    "    return series.str.replace('f','friend').replace('e','enemy')\n",
    "    "
   ]
  },
  {
   "cell_type": "markdown",
   "metadata": {},
   "source": [
    "<h2 align='center'>======================================================================\n",
    "Adapting EACH existing table\n",
    "======================================================================</h2>"
   ]
  },
  {
   "cell_type": "markdown",
   "metadata": {},
   "source": [
    "## 6.1. Table: 'API'"
   ]
  },
  {
   "cell_type": "markdown",
   "metadata": {},
   "source": [
    "### How this table looks like without modification?"
   ]
  },
  {
   "cell_type": "code",
   "execution_count": 24,
   "metadata": {
    "collapsed": false
   },
   "outputs": [
    {
     "data": {
      "text/html": [
       "<div>\n",
       "<table border=\"1\" class=\"dataframe\">\n",
       "  <thead>\n",
       "    <tr style=\"text-align: right;\">\n",
       "      <th></th>\n",
       "      <th>UDP</th>\n",
       "    </tr>\n",
       "  </thead>\n",
       "  <tbody>\n",
       "  </tbody>\n",
       "</table>\n",
       "</div>"
      ],
      "text/plain": [
       "Empty DataFrame\n",
       "Columns: [UDP]\n",
       "Index: []"
      ]
     },
     "execution_count": 24,
     "metadata": {},
     "output_type": "execute_result"
    }
   ],
   "source": [
    "tablename='API'\n",
    "\n",
    "pd.read_csv(read_inserted_table(dumpfile,tablename),delimiter=\",\",error_bad_lines=False)"
   ]
  },
  {
   "cell_type": "markdown",
   "metadata": {},
   "source": [
    "#### Q1: Is this table different from other previous loaded table? YES\n",
    "#### Q2: Is this table similar to any table in the generic Booter database schema? NO\n",
    "    - This table looks like: \n",
    "    \n",
    "#### Q3: Are there modifications required? \n",
    "    - On the table name: \n",
    "        o \n",
    "    - On the column type/converter: \n",
    "        o \n",
    "    - On the column name:\n",
    "        o \n",
    "    - Split columns:\n",
    "        o \n",
    "    - Add required columns:\n",
    "        o "
   ]
  },
  {
   "cell_type": "markdown",
   "metadata": {},
   "source": [
    "## 6.2. Table: 'blacklist'"
   ]
  },
  {
   "cell_type": "markdown",
   "metadata": {},
   "source": [
    "### How this table looks like without modification?"
   ]
  },
  {
   "cell_type": "code",
   "execution_count": 25,
   "metadata": {
    "collapsed": false
   },
   "outputs": [
    {
     "data": {
      "text/html": [
       "<div>\n",
       "<table border=\"1\" class=\"dataframe\">\n",
       "  <thead>\n",
       "    <tr style=\"text-align: right;\">\n",
       "      <th></th>\n",
       "      <th>ID</th>\n",
       "      <th>IP</th>\n",
       "      <th>note</th>\n",
       "    </tr>\n",
       "  </thead>\n",
       "  <tbody>\n",
       "    <tr>\n",
       "      <th>0</th>\n",
       "      <td>10</td>\n",
       "      <td>127.0.0.1</td>\n",
       "      <td>fuckstick</td>\n",
       "    </tr>\n",
       "    <tr>\n",
       "      <th>1</th>\n",
       "      <td>6</td>\n",
       "      <td>68.58.13.198</td>\n",
       "      <td>Classified</td>\n",
       "    </tr>\n",
       "    <tr>\n",
       "      <th>2</th>\n",
       "      <td>8</td>\n",
       "      <td>37.221.170.105</td>\n",
       "      <td>NaN</td>\n",
       "    </tr>\n",
       "    <tr>\n",
       "      <th>3</th>\n",
       "      <td>9</td>\n",
       "      <td>72.21.81.85</td>\n",
       "      <td>NaN</td>\n",
       "    </tr>\n",
       "    <tr>\n",
       "      <th>4</th>\n",
       "      <td>11</td>\n",
       "      <td>72.21.81.85</td>\n",
       "      <td>FBI</td>\n",
       "    </tr>\n",
       "    <tr>\n",
       "      <th>5</th>\n",
       "      <td>13</td>\n",
       "      <td>198.81.129.107</td>\n",
       "      <td>CIA</td>\n",
       "    </tr>\n",
       "    <tr>\n",
       "      <th>6</th>\n",
       "      <td>14</td>\n",
       "      <td>178.33.198.208</td>\n",
       "      <td>cakes dick</td>\n",
       "    </tr>\n",
       "  </tbody>\n",
       "</table>\n",
       "</div>"
      ],
      "text/plain": [
       "   ID              IP        note\n",
       "0  10       127.0.0.1   fuckstick\n",
       "1   6    68.58.13.198  Classified\n",
       "2   8  37.221.170.105         NaN\n",
       "3   9     72.21.81.85         NaN\n",
       "4  11     72.21.81.85         FBI\n",
       "5  13  198.81.129.107         CIA\n",
       "6  14  178.33.198.208  cakes dick"
      ]
     },
     "execution_count": 25,
     "metadata": {},
     "output_type": "execute_result"
    }
   ],
   "source": [
    "tablename='blacklist'\n",
    "\n",
    "pd.read_csv(read_inserted_table(dumpfile, tablename),delimiter=\",\",error_bad_lines=False).head(10)"
   ]
  },
  {
   "cell_type": "markdown",
   "metadata": {},
   "source": [
    "#### Q1: Is this table different from other previous loaded table? YES\n",
    "#### Q2: Is this table similar to any table in the generic Booter database schema? YES\n",
    "    - This table looks like: blacklist\n",
    "#### Q3: Are there modifications required? \n",
    "    - On the table name: \n",
    "        o \n",
    "    - On the column type: \n",
    "        o \n",
    "    - On the column name:\n",
    "        o ID -> id\n",
    "        o IP -> ip\n",
    "    - Add required columns:\n",
    "        o  \n",
    "    - Split columns:\n",
    "        o "
   ]
  },
  {
   "cell_type": "markdown",
   "metadata": {},
   "source": [
    "### Modifying table: 'blacklist'"
   ]
  },
  {
   "cell_type": "code",
   "execution_count": 26,
   "metadata": {
    "collapsed": false
   },
   "outputs": [
    {
     "data": {
      "text/html": [
       "<div>\n",
       "<table border=\"1\" class=\"dataframe\">\n",
       "  <thead>\n",
       "    <tr style=\"text-align: right;\">\n",
       "      <th></th>\n",
       "      <th>id</th>\n",
       "      <th>ip</th>\n",
       "      <th>note</th>\n",
       "    </tr>\n",
       "  </thead>\n",
       "  <tbody>\n",
       "    <tr>\n",
       "      <th>0</th>\n",
       "      <td>10</td>\n",
       "      <td>127.0.0.1</td>\n",
       "      <td>fuckstick</td>\n",
       "    </tr>\n",
       "    <tr>\n",
       "      <th>1</th>\n",
       "      <td>6</td>\n",
       "      <td>68.58.13.198</td>\n",
       "      <td>Classified</td>\n",
       "    </tr>\n",
       "    <tr>\n",
       "      <th>2</th>\n",
       "      <td>8</td>\n",
       "      <td>37.221.170.105</td>\n",
       "      <td>NaN</td>\n",
       "    </tr>\n",
       "    <tr>\n",
       "      <th>3</th>\n",
       "      <td>9</td>\n",
       "      <td>72.21.81.85</td>\n",
       "      <td>NaN</td>\n",
       "    </tr>\n",
       "    <tr>\n",
       "      <th>4</th>\n",
       "      <td>11</td>\n",
       "      <td>72.21.81.85</td>\n",
       "      <td>FBI</td>\n",
       "    </tr>\n",
       "    <tr>\n",
       "      <th>5</th>\n",
       "      <td>13</td>\n",
       "      <td>198.81.129.107</td>\n",
       "      <td>CIA</td>\n",
       "    </tr>\n",
       "    <tr>\n",
       "      <th>6</th>\n",
       "      <td>14</td>\n",
       "      <td>178.33.198.208</td>\n",
       "      <td>cakes dick</td>\n",
       "    </tr>\n",
       "  </tbody>\n",
       "</table>\n",
       "</div>"
      ],
      "text/plain": [
       "   id              ip        note\n",
       "0  10       127.0.0.1   fuckstick\n",
       "1   6    68.58.13.198  Classified\n",
       "2   8  37.221.170.105         NaN\n",
       "3   9     72.21.81.85         NaN\n",
       "4  11     72.21.81.85         FBI\n",
       "5  13  198.81.129.107         CIA\n",
       "6  14  178.33.198.208  cakes dick"
      ]
     },
     "execution_count": 26,
     "metadata": {},
     "output_type": "execute_result"
    }
   ],
   "source": [
    "# Loading the correct table name\n",
    "df_blacklist = pd.read_csv(read_inserted_table(dumpfile, tablename),delimiter=\",\",error_bad_lines=False)\n",
    "\n",
    "# Converting columns\n",
    "\n",
    "# Changing column names\n",
    "df_blacklist.rename(inplace=True, columns = {'ID': 'id',\n",
    "                                            'IP':'ip'})\n",
    "\n",
    "# Adding missing columns (with \"\" [for future string] or np.nan [for future float])\n",
    "\n",
    "###Showing some lines after adapt the table\n",
    "df_blacklist.head(10)"
   ]
  },
  {
   "cell_type": "markdown",
   "metadata": {},
   "source": [
    "## 6.3. Table: 'fe'"
   ]
  },
  {
   "cell_type": "markdown",
   "metadata": {},
   "source": [
    "### How this table looks like without modification?"
   ]
  },
  {
   "cell_type": "code",
   "execution_count": 27,
   "metadata": {
    "collapsed": false
   },
   "outputs": [
    {
     "data": {
      "text/html": [
       "<div>\n",
       "<table border=\"1\" class=\"dataframe\">\n",
       "  <thead>\n",
       "    <tr style=\"text-align: right;\">\n",
       "      <th></th>\n",
       "      <th>ID</th>\n",
       "      <th>userID</th>\n",
       "      <th>type</th>\n",
       "      <th>ip</th>\n",
       "      <th>note</th>\n",
       "    </tr>\n",
       "  </thead>\n",
       "  <tbody>\n",
       "    <tr>\n",
       "      <th>0</th>\n",
       "      <td>1</td>\n",
       "      <td>11</td>\n",
       "      <td>f</td>\n",
       "      <td>99.7.66.252</td>\n",
       "      <td>Afri</td>\n",
       "    </tr>\n",
       "    <tr>\n",
       "      <th>1</th>\n",
       "      <td>3</td>\n",
       "      <td>21</td>\n",
       "      <td>e</td>\n",
       "      <td>184.151.63.185</td>\n",
       "      <td>nevertrapx</td>\n",
       "    </tr>\n",
       "    <tr>\n",
       "      <th>2</th>\n",
       "      <td>5</td>\n",
       "      <td>21</td>\n",
       "      <td>e</td>\n",
       "      <td>174.29.111.208</td>\n",
       "      <td>neversacx</td>\n",
       "    </tr>\n",
       "    <tr>\n",
       "      <th>3</th>\n",
       "      <td>10</td>\n",
       "      <td>8</td>\n",
       "      <td>f</td>\n",
       "      <td>92.21.192.90</td>\n",
       "      <td>luke\\r\\n</td>\n",
       "    </tr>\n",
       "    <tr>\n",
       "      <th>4</th>\n",
       "      <td>11</td>\n",
       "      <td>8</td>\n",
       "      <td>e</td>\n",
       "      <td>88.89.219.61</td>\n",
       "      <td>weeD?\\r\\n</td>\n",
       "    </tr>\n",
       "    <tr>\n",
       "      <th>5</th>\n",
       "      <td>12</td>\n",
       "      <td>115</td>\n",
       "      <td>f</td>\n",
       "      <td>86.186.237.65</td>\n",
       "      <td>Ryan Don\\\\t Touch!</td>\n",
       "    </tr>\n",
       "    <tr>\n",
       "      <th>6</th>\n",
       "      <td>13</td>\n",
       "      <td>66</td>\n",
       "      <td>f</td>\n",
       "      <td>173.245.56.177</td>\n",
       "      <td>MayoDwarf</td>\n",
       "    </tr>\n",
       "    <tr>\n",
       "      <th>7</th>\n",
       "      <td>15</td>\n",
       "      <td>66</td>\n",
       "      <td>f</td>\n",
       "      <td>99.247.212.76</td>\n",
       "      <td>DXColdFusionXD</td>\n",
       "    </tr>\n",
       "    <tr>\n",
       "      <th>8</th>\n",
       "      <td>16</td>\n",
       "      <td>139</td>\n",
       "      <td>f</td>\n",
       "      <td>50.142.160.74</td>\n",
       "      <td>Charlene.!&lt;3</td>\n",
       "    </tr>\n",
       "    <tr>\n",
       "      <th>9</th>\n",
       "      <td>17</td>\n",
       "      <td>134</td>\n",
       "      <td>e</td>\n",
       "      <td>202.124.96.151</td>\n",
       "      <td>SANTA</td>\n",
       "    </tr>\n",
       "  </tbody>\n",
       "</table>\n",
       "</div>"
      ],
      "text/plain": [
       "   ID  userID type              ip                note\n",
       "0   1      11    f     99.7.66.252                Afri\n",
       "1   3      21    e  184.151.63.185          nevertrapx\n",
       "2   5      21    e  174.29.111.208           neversacx\n",
       "3  10       8    f    92.21.192.90            luke\\r\\n\n",
       "4  11       8    e    88.89.219.61           weeD?\\r\\n\n",
       "5  12     115    f   86.186.237.65  Ryan Don\\\\t Touch!\n",
       "6  13      66    f  173.245.56.177           MayoDwarf\n",
       "7  15      66    f   99.247.212.76      DXColdFusionXD\n",
       "8  16     139    f   50.142.160.74        Charlene.!<3\n",
       "9  17     134    e  202.124.96.151               SANTA"
      ]
     },
     "execution_count": 27,
     "metadata": {},
     "output_type": "execute_result"
    }
   ],
   "source": [
    "tablename='fe'\n",
    "\n",
    "pd.read_csv(read_inserted_table(dumpfile, tablename),delimiter=\",\",error_bad_lines=False).head(10)"
   ]
  },
  {
   "cell_type": "markdown",
   "metadata": {},
   "source": [
    "#### Q1: Is this table different from other previous loaded table? YES \n",
    "#### Q2: Is this table similar to any table in the generic Booter database schema? YES\n",
    "    - This table looks like: friendsenemies\n",
    "#### Q3: Are there modifications required? \n",
    "    - On the table name: \n",
    "        o fe -> friendsenemies\n",
    "    - On the column type: \n",
    "        o type -> friendsenemies_type() \n",
    "    - On the column name:\n",
    "        o ID -> id\n",
    "        o userID -> userid\n",
    "    - Add required columns:\n",
    "        o \n",
    "    - Split columns:\n",
    "        o "
   ]
  },
  {
   "cell_type": "markdown",
   "metadata": {},
   "source": [
    "### Modifying table: 'fe'"
   ]
  },
  {
   "cell_type": "code",
   "execution_count": 28,
   "metadata": {
    "collapsed": false
   },
   "outputs": [
    {
     "data": {
      "text/html": [
       "<div>\n",
       "<table border=\"1\" class=\"dataframe\">\n",
       "  <thead>\n",
       "    <tr style=\"text-align: right;\">\n",
       "      <th></th>\n",
       "      <th>id</th>\n",
       "      <th>userid</th>\n",
       "      <th>type</th>\n",
       "      <th>ip</th>\n",
       "      <th>note</th>\n",
       "    </tr>\n",
       "  </thead>\n",
       "  <tbody>\n",
       "    <tr>\n",
       "      <th>0</th>\n",
       "      <td>1</td>\n",
       "      <td>11</td>\n",
       "      <td>friend</td>\n",
       "      <td>99.7.66.252</td>\n",
       "      <td>Afri</td>\n",
       "    </tr>\n",
       "    <tr>\n",
       "      <th>1</th>\n",
       "      <td>3</td>\n",
       "      <td>21</td>\n",
       "      <td>enemy</td>\n",
       "      <td>184.151.63.185</td>\n",
       "      <td>nevertrapx</td>\n",
       "    </tr>\n",
       "    <tr>\n",
       "      <th>2</th>\n",
       "      <td>5</td>\n",
       "      <td>21</td>\n",
       "      <td>enemy</td>\n",
       "      <td>174.29.111.208</td>\n",
       "      <td>neversacx</td>\n",
       "    </tr>\n",
       "    <tr>\n",
       "      <th>3</th>\n",
       "      <td>10</td>\n",
       "      <td>8</td>\n",
       "      <td>friend</td>\n",
       "      <td>92.21.192.90</td>\n",
       "      <td>luke\\r\\n</td>\n",
       "    </tr>\n",
       "    <tr>\n",
       "      <th>4</th>\n",
       "      <td>11</td>\n",
       "      <td>8</td>\n",
       "      <td>enemy</td>\n",
       "      <td>88.89.219.61</td>\n",
       "      <td>weeD?\\r\\n</td>\n",
       "    </tr>\n",
       "    <tr>\n",
       "      <th>5</th>\n",
       "      <td>12</td>\n",
       "      <td>115</td>\n",
       "      <td>friend</td>\n",
       "      <td>86.186.237.65</td>\n",
       "      <td>Ryan Don\\\\t Touch!</td>\n",
       "    </tr>\n",
       "    <tr>\n",
       "      <th>6</th>\n",
       "      <td>13</td>\n",
       "      <td>66</td>\n",
       "      <td>friend</td>\n",
       "      <td>173.245.56.177</td>\n",
       "      <td>MayoDwarf</td>\n",
       "    </tr>\n",
       "    <tr>\n",
       "      <th>7</th>\n",
       "      <td>15</td>\n",
       "      <td>66</td>\n",
       "      <td>friend</td>\n",
       "      <td>99.247.212.76</td>\n",
       "      <td>DXColdFusionXD</td>\n",
       "    </tr>\n",
       "    <tr>\n",
       "      <th>8</th>\n",
       "      <td>16</td>\n",
       "      <td>139</td>\n",
       "      <td>friend</td>\n",
       "      <td>50.142.160.74</td>\n",
       "      <td>Charlene.!&lt;3</td>\n",
       "    </tr>\n",
       "    <tr>\n",
       "      <th>9</th>\n",
       "      <td>17</td>\n",
       "      <td>134</td>\n",
       "      <td>enemy</td>\n",
       "      <td>202.124.96.151</td>\n",
       "      <td>SANTA</td>\n",
       "    </tr>\n",
       "  </tbody>\n",
       "</table>\n",
       "</div>"
      ],
      "text/plain": [
       "   id  userid    type              ip                note\n",
       "0   1      11  friend     99.7.66.252                Afri\n",
       "1   3      21   enemy  184.151.63.185          nevertrapx\n",
       "2   5      21   enemy  174.29.111.208           neversacx\n",
       "3  10       8  friend    92.21.192.90            luke\\r\\n\n",
       "4  11       8   enemy    88.89.219.61           weeD?\\r\\n\n",
       "5  12     115  friend   86.186.237.65  Ryan Don\\\\t Touch!\n",
       "6  13      66  friend  173.245.56.177           MayoDwarf\n",
       "7  15      66  friend   99.247.212.76      DXColdFusionXD\n",
       "8  16     139  friend   50.142.160.74        Charlene.!<3\n",
       "9  17     134   enemy  202.124.96.151               SANTA"
      ]
     },
     "execution_count": 28,
     "metadata": {},
     "output_type": "execute_result"
    }
   ],
   "source": [
    "# Loading the correct table name\n",
    "df_friendenemies = pd.read_csv(read_inserted_table(dumpfile, tablename),delimiter=\",\",error_bad_lines=False)\n",
    "\n",
    "# Converting columns\n",
    "df_friendenemies['type']=friendsenemies_type(df_friendenemies['type'])\n",
    "\n",
    "# Changing column names\n",
    "df_friendenemies.rename(inplace=True, columns = {'ID': 'id',\n",
    "                                            'userID':'userid'})\n",
    "\n",
    "# Adding missing columns (with \"\" [for future string] or np.nan [for future float])\n",
    "\n",
    "###Showing some lines after adapt the table\n",
    "df_friendenemies.head(10)"
   ]
  },
  {
   "cell_type": "markdown",
   "metadata": {},
   "source": [
    "## 6.4. Table: 'gateway'"
   ]
  },
  {
   "cell_type": "markdown",
   "metadata": {},
   "source": [
    "### How this table looks like without modification?"
   ]
  },
  {
   "cell_type": "code",
   "execution_count": 29,
   "metadata": {
    "collapsed": false
   },
   "outputs": [
    {
     "data": {
      "text/html": [
       "<div>\n",
       "<table border=\"1\" class=\"dataframe\">\n",
       "  <thead>\n",
       "    <tr style=\"text-align: right;\">\n",
       "      <th></th>\n",
       "      <th>email</th>\n",
       "    </tr>\n",
       "  </thead>\n",
       "  <tbody>\n",
       "  </tbody>\n",
       "</table>\n",
       "</div>"
      ],
      "text/plain": [
       "Empty DataFrame\n",
       "Columns: [email]\n",
       "Index: []"
      ]
     },
     "execution_count": 29,
     "metadata": {},
     "output_type": "execute_result"
    }
   ],
   "source": [
    "tablename='gateway'\n",
    "\n",
    "pd.read_csv(read_inserted_table(dumpfile, tablename),delimiter=\",\",error_bad_lines=False).head(10)"
   ]
  },
  {
   "cell_type": "markdown",
   "metadata": {},
   "source": [
    "#### Q1: Is this table different from other previous loaded table? YES \n",
    "#### Q2: Is this table similar to any table in the generic Booter database schema? YES\n",
    "    - This table looks like: gateways\n",
    "#### Q3: Are there modifications required? \n",
    "    - On the table name: \n",
    "        o gateway -> gateways\n",
    "    - On the column type: \n",
    "        o  \n",
    "    - On the column name:\n",
    "        o \n",
    "    - Add required columns:\n",
    "        o \n",
    "    - Split columns:\n",
    "        o "
   ]
  },
  {
   "cell_type": "markdown",
   "metadata": {},
   "source": [
    "### Modifying table: 'gateway'"
   ]
  },
  {
   "cell_type": "code",
   "execution_count": 30,
   "metadata": {
    "collapsed": false
   },
   "outputs": [
    {
     "data": {
      "text/html": [
       "<div>\n",
       "<table border=\"1\" class=\"dataframe\">\n",
       "  <thead>\n",
       "    <tr style=\"text-align: right;\">\n",
       "      <th></th>\n",
       "      <th>email</th>\n",
       "    </tr>\n",
       "  </thead>\n",
       "  <tbody>\n",
       "  </tbody>\n",
       "</table>\n",
       "</div>"
      ],
      "text/plain": [
       "Empty DataFrame\n",
       "Columns: [email]\n",
       "Index: []"
      ]
     },
     "execution_count": 30,
     "metadata": {},
     "output_type": "execute_result"
    }
   ],
   "source": [
    "# Loading the correct table name\n",
    "df_gateways = pd.read_csv(read_inserted_table(dumpfile, tablename),delimiter=\",\",error_bad_lines=False)\n",
    "\n",
    "# Converting columns\n",
    "\n",
    "# Changing column names\n",
    "\n",
    "# Showing some lines after adapt the tabledf_plans['maxboottime'] = np.nan\n",
    "\n",
    "# Showing some lines after adapt the table\n",
    "df_gateways.head(10)"
   ]
  },
  {
   "cell_type": "markdown",
   "metadata": {},
   "source": [
    "## 6.5. Table: 'iplogs'"
   ]
  },
  {
   "cell_type": "markdown",
   "metadata": {},
   "source": [
    "### How this table looks like without modification?"
   ]
  },
  {
   "cell_type": "code",
   "execution_count": 31,
   "metadata": {
    "collapsed": false
   },
   "outputs": [
    {
     "data": {
      "text/html": [
       "<div>\n",
       "<table border=\"1\" class=\"dataframe\">\n",
       "  <thead>\n",
       "    <tr style=\"text-align: right;\">\n",
       "      <th></th>\n",
       "      <th>ID</th>\n",
       "      <th>userID</th>\n",
       "      <th>logged</th>\n",
       "      <th>date</th>\n",
       "    </tr>\n",
       "  </thead>\n",
       "  <tbody>\n",
       "    <tr>\n",
       "      <th>0</th>\n",
       "      <td>1</td>\n",
       "      <td>27</td>\n",
       "      <td>123.243.160.138</td>\n",
       "      <td>1362335704</td>\n",
       "    </tr>\n",
       "    <tr>\n",
       "      <th>1</th>\n",
       "      <td>2</td>\n",
       "      <td>843</td>\n",
       "      <td>199.21.99.80</td>\n",
       "      <td>1362338690</td>\n",
       "    </tr>\n",
       "    <tr>\n",
       "      <th>2</th>\n",
       "      <td>3</td>\n",
       "      <td>18</td>\n",
       "      <td>174.108.22.149</td>\n",
       "      <td>1362369409</td>\n",
       "    </tr>\n",
       "    <tr>\n",
       "      <th>3</th>\n",
       "      <td>4</td>\n",
       "      <td>8</td>\n",
       "      <td>81.205.42.137</td>\n",
       "      <td>1362419514</td>\n",
       "    </tr>\n",
       "    <tr>\n",
       "      <th>4</th>\n",
       "      <td>5</td>\n",
       "      <td>8</td>\n",
       "      <td>46.129.74.73</td>\n",
       "      <td>1362419524</td>\n",
       "    </tr>\n",
       "    <tr>\n",
       "      <th>5</th>\n",
       "      <td>6</td>\n",
       "      <td>8</td>\n",
       "      <td>86.186.3.202</td>\n",
       "      <td>1362419525</td>\n",
       "    </tr>\n",
       "    <tr>\n",
       "      <th>6</th>\n",
       "      <td>7</td>\n",
       "      <td>8</td>\n",
       "      <td>46.129.74.73</td>\n",
       "      <td>1362419529</td>\n",
       "    </tr>\n",
       "    <tr>\n",
       "      <th>7</th>\n",
       "      <td>8</td>\n",
       "      <td>8</td>\n",
       "      <td>46.129.74.73</td>\n",
       "      <td>1362419554</td>\n",
       "    </tr>\n",
       "    <tr>\n",
       "      <th>8</th>\n",
       "      <td>9</td>\n",
       "      <td>8</td>\n",
       "      <td>46.129.74.73</td>\n",
       "      <td>1362419559</td>\n",
       "    </tr>\n",
       "    <tr>\n",
       "      <th>9</th>\n",
       "      <td>10</td>\n",
       "      <td>8</td>\n",
       "      <td>208.94.145.108</td>\n",
       "      <td>1362419589</td>\n",
       "    </tr>\n",
       "  </tbody>\n",
       "</table>\n",
       "</div>"
      ],
      "text/plain": [
       "   ID  userID           logged        date\n",
       "0   1      27  123.243.160.138  1362335704\n",
       "1   2     843     199.21.99.80  1362338690\n",
       "2   3      18   174.108.22.149  1362369409\n",
       "3   4       8    81.205.42.137  1362419514\n",
       "4   5       8     46.129.74.73  1362419524\n",
       "5   6       8     86.186.3.202  1362419525\n",
       "6   7       8     46.129.74.73  1362419529\n",
       "7   8       8     46.129.74.73  1362419554\n",
       "8   9       8     46.129.74.73  1362419559\n",
       "9  10       8   208.94.145.108  1362419589"
      ]
     },
     "execution_count": 31,
     "metadata": {},
     "output_type": "execute_result"
    }
   ],
   "source": [
    "tablename='iplogs'\n",
    "\n",
    "pd.read_csv(read_inserted_table(dumpfile, tablename),delimiter=\",\",error_bad_lines=False).head(10)"
   ]
  },
  {
   "cell_type": "markdown",
   "metadata": {},
   "source": [
    "#### Q1: Is this table different from other previous loaded table? YES \n",
    "#### Q2: Is this table similar to any table in the generic Booter database schema? YES\n",
    "    - This table looks like: logins\n",
    "#### Q3: Are there modifications required? \n",
    "    - On the table name: \n",
    "        o \n",
    "    - On the column type: \n",
    "        o date -> timestamp2datetime()\n",
    "    - On the column name:\n",
    "        o ID -> id\n",
    "        o userID -> userid\n",
    "        o logged -> userip\n",
    "    - Add required columns:\n",
    "        o username\n",
    "    - Split columns:\n",
    "        o "
   ]
  },
  {
   "cell_type": "markdown",
   "metadata": {},
   "source": [
    "### Modifying table: 'iplogs'"
   ]
  },
  {
   "cell_type": "code",
   "execution_count": 32,
   "metadata": {
    "collapsed": false
   },
   "outputs": [
    {
     "data": {
      "text/html": [
       "<div>\n",
       "<table border=\"1\" class=\"dataframe\">\n",
       "  <thead>\n",
       "    <tr style=\"text-align: right;\">\n",
       "      <th></th>\n",
       "      <th>id</th>\n",
       "      <th>userid</th>\n",
       "      <th>userip</th>\n",
       "      <th>date</th>\n",
       "      <th>username</th>\n",
       "    </tr>\n",
       "  </thead>\n",
       "  <tbody>\n",
       "    <tr>\n",
       "      <th>0</th>\n",
       "      <td>1</td>\n",
       "      <td>27</td>\n",
       "      <td>123.243.160.138</td>\n",
       "      <td>2013-03-03 18:35:04</td>\n",
       "      <td></td>\n",
       "    </tr>\n",
       "    <tr>\n",
       "      <th>1</th>\n",
       "      <td>2</td>\n",
       "      <td>843</td>\n",
       "      <td>199.21.99.80</td>\n",
       "      <td>2013-03-03 19:24:50</td>\n",
       "      <td></td>\n",
       "    </tr>\n",
       "    <tr>\n",
       "      <th>2</th>\n",
       "      <td>3</td>\n",
       "      <td>18</td>\n",
       "      <td>174.108.22.149</td>\n",
       "      <td>2013-03-04 03:56:49</td>\n",
       "      <td></td>\n",
       "    </tr>\n",
       "    <tr>\n",
       "      <th>3</th>\n",
       "      <td>4</td>\n",
       "      <td>8</td>\n",
       "      <td>81.205.42.137</td>\n",
       "      <td>2013-03-04 17:51:54</td>\n",
       "      <td></td>\n",
       "    </tr>\n",
       "    <tr>\n",
       "      <th>4</th>\n",
       "      <td>5</td>\n",
       "      <td>8</td>\n",
       "      <td>46.129.74.73</td>\n",
       "      <td>2013-03-04 17:52:04</td>\n",
       "      <td></td>\n",
       "    </tr>\n",
       "    <tr>\n",
       "      <th>5</th>\n",
       "      <td>6</td>\n",
       "      <td>8</td>\n",
       "      <td>86.186.3.202</td>\n",
       "      <td>2013-03-04 17:52:05</td>\n",
       "      <td></td>\n",
       "    </tr>\n",
       "    <tr>\n",
       "      <th>6</th>\n",
       "      <td>7</td>\n",
       "      <td>8</td>\n",
       "      <td>46.129.74.73</td>\n",
       "      <td>2013-03-04 17:52:09</td>\n",
       "      <td></td>\n",
       "    </tr>\n",
       "    <tr>\n",
       "      <th>7</th>\n",
       "      <td>8</td>\n",
       "      <td>8</td>\n",
       "      <td>46.129.74.73</td>\n",
       "      <td>2013-03-04 17:52:34</td>\n",
       "      <td></td>\n",
       "    </tr>\n",
       "    <tr>\n",
       "      <th>8</th>\n",
       "      <td>9</td>\n",
       "      <td>8</td>\n",
       "      <td>46.129.74.73</td>\n",
       "      <td>2013-03-04 17:52:39</td>\n",
       "      <td></td>\n",
       "    </tr>\n",
       "    <tr>\n",
       "      <th>9</th>\n",
       "      <td>10</td>\n",
       "      <td>8</td>\n",
       "      <td>208.94.145.108</td>\n",
       "      <td>2013-03-04 17:53:09</td>\n",
       "      <td></td>\n",
       "    </tr>\n",
       "  </tbody>\n",
       "</table>\n",
       "</div>"
      ],
      "text/plain": [
       "   id  userid           userip                date username\n",
       "0   1      27  123.243.160.138 2013-03-03 18:35:04         \n",
       "1   2     843     199.21.99.80 2013-03-03 19:24:50         \n",
       "2   3      18   174.108.22.149 2013-03-04 03:56:49         \n",
       "3   4       8    81.205.42.137 2013-03-04 17:51:54         \n",
       "4   5       8     46.129.74.73 2013-03-04 17:52:04         \n",
       "5   6       8     86.186.3.202 2013-03-04 17:52:05         \n",
       "6   7       8     46.129.74.73 2013-03-04 17:52:09         \n",
       "7   8       8     46.129.74.73 2013-03-04 17:52:34         \n",
       "8   9       8     46.129.74.73 2013-03-04 17:52:39         \n",
       "9  10       8   208.94.145.108 2013-03-04 17:53:09         "
      ]
     },
     "execution_count": 32,
     "metadata": {},
     "output_type": "execute_result"
    }
   ],
   "source": [
    "# Loading the correct table name\n",
    "df_logins = pd.read_csv(read_inserted_table(dumpfile, tablename),delimiter=\",\",error_bad_lines=False)\n",
    "\n",
    "# Converting columns\n",
    "df_logins['date'] = timestamp2datetime(df_logins['date']) \n",
    "\n",
    "# Changing names of columns\n",
    "df_logins.rename(inplace=True, columns = {'ID': 'id',\n",
    "                                         'userID': 'userid',\n",
    "                                         'logged':'userip'})\n",
    "\n",
    "# Creating empty columns (with \"\" [for future string] or np.nan [for future float])\n",
    "df_logins['username']=''\n",
    "\n",
    "\n",
    "# Showing some lines after adapt the table\n",
    "df_logins.head(10)"
   ]
  },
  {
   "cell_type": "markdown",
   "metadata": {},
   "source": [
    "## 6.8. Table: 'loginlogs'"
   ]
  },
  {
   "cell_type": "markdown",
   "metadata": {},
   "source": [
    "### How this table looks like without modification?"
   ]
  },
  {
   "cell_type": "code",
   "execution_count": 33,
   "metadata": {
    "collapsed": false
   },
   "outputs": [
    {
     "data": {
      "text/html": [
       "<div>\n",
       "<table border=\"1\" class=\"dataframe\">\n",
       "  <thead>\n",
       "    <tr style=\"text-align: right;\">\n",
       "      <th></th>\n",
       "      <th>username</th>\n",
       "      <th>ip</th>\n",
       "      <th>date</th>\n",
       "    </tr>\n",
       "  </thead>\n",
       "  <tbody>\n",
       "    <tr>\n",
       "      <th>0</th>\n",
       "      <td>admin</td>\n",
       "      <td>99.229.169.138</td>\n",
       "      <td>1362249359</td>\n",
       "    </tr>\n",
       "    <tr>\n",
       "      <th>1</th>\n",
       "      <td>mastery</td>\n",
       "      <td>142.134.44.232</td>\n",
       "      <td>1362249431</td>\n",
       "    </tr>\n",
       "    <tr>\n",
       "      <th>2</th>\n",
       "      <td>Poppe</td>\n",
       "      <td>90.229.239.18</td>\n",
       "      <td>1362250950</td>\n",
       "    </tr>\n",
       "    <tr>\n",
       "      <th>3</th>\n",
       "      <td>google</td>\n",
       "      <td>99.164.164.252</td>\n",
       "      <td>1362251377</td>\n",
       "    </tr>\n",
       "    <tr>\n",
       "      <th>4</th>\n",
       "      <td>Mewtu</td>\n",
       "      <td>85.245.62.109</td>\n",
       "      <td>1362251799</td>\n",
       "    </tr>\n",
       "    <tr>\n",
       "      <th>5</th>\n",
       "      <td>ycie</td>\n",
       "      <td>81.205.42.137</td>\n",
       "      <td>1362251912</td>\n",
       "    </tr>\n",
       "    <tr>\n",
       "      <th>6</th>\n",
       "      <td>madhawk</td>\n",
       "      <td>123.236.189.171</td>\n",
       "      <td>1362252484</td>\n",
       "    </tr>\n",
       "    <tr>\n",
       "      <th>7</th>\n",
       "      <td>Poppe</td>\n",
       "      <td>90.229.239.18</td>\n",
       "      <td>1362255695</td>\n",
       "    </tr>\n",
       "    <tr>\n",
       "      <th>8</th>\n",
       "      <td>Nyanbot</td>\n",
       "      <td>122.57.224.195</td>\n",
       "      <td>1362256133</td>\n",
       "    </tr>\n",
       "    <tr>\n",
       "      <th>9</th>\n",
       "      <td>Help</td>\n",
       "      <td>204.14.79.111</td>\n",
       "      <td>1362257770</td>\n",
       "    </tr>\n",
       "  </tbody>\n",
       "</table>\n",
       "</div>"
      ],
      "text/plain": [
       "  username               ip        date\n",
       "0    admin   99.229.169.138  1362249359\n",
       "1  mastery   142.134.44.232  1362249431\n",
       "2    Poppe    90.229.239.18  1362250950\n",
       "3   google   99.164.164.252  1362251377\n",
       "4    Mewtu    85.245.62.109  1362251799\n",
       "5     ycie    81.205.42.137  1362251912\n",
       "6  madhawk  123.236.189.171  1362252484\n",
       "7    Poppe    90.229.239.18  1362255695\n",
       "8  Nyanbot   122.57.224.195  1362256133\n",
       "9     Help    204.14.79.111  1362257770"
      ]
     },
     "execution_count": 33,
     "metadata": {},
     "output_type": "execute_result"
    }
   ],
   "source": [
    "tablename='loginlogs'\n",
    "\n",
    "pd.read_csv(read_inserted_table(dumpfile, tablename),delimiter=\",\",error_bad_lines=False).head(10)"
   ]
  },
  {
   "cell_type": "markdown",
   "metadata": {},
   "source": [
    "#### Q1: Is this table different from other previous loaded table? YES \n",
    "#### Q2: Is this table similar to any table in the generic Booter database schema? YES  and APPEND\n",
    "    - This table looks like: logins\n",
    "#### Q3: Are there modifications required? \n",
    "    - On the table name: \n",
    "        o loginlogs -> logins_temp\n",
    "    - On the column type: \n",
    "        o date -> timestamp2datetime()\n",
    "    - On the column name:\n",
    "        o ip -> userip\n",
    "    - Add required columns:\n",
    "        o id\n",
    "        o userid\n",
    "    - Split columns:\n",
    "        o "
   ]
  },
  {
   "cell_type": "markdown",
   "metadata": {},
   "source": [
    "### Modifying table: 'loginlogs'"
   ]
  },
  {
   "cell_type": "code",
   "execution_count": 34,
   "metadata": {
    "collapsed": false
   },
   "outputs": [
    {
     "data": {
      "text/html": [
       "<div>\n",
       "<table border=\"1\" class=\"dataframe\">\n",
       "  <thead>\n",
       "    <tr style=\"text-align: right;\">\n",
       "      <th></th>\n",
       "      <th>username</th>\n",
       "      <th>userip</th>\n",
       "      <th>date</th>\n",
       "      <th>id</th>\n",
       "      <th>userid</th>\n",
       "    </tr>\n",
       "  </thead>\n",
       "  <tbody>\n",
       "    <tr>\n",
       "      <th>0</th>\n",
       "      <td>admin</td>\n",
       "      <td>99.229.169.138</td>\n",
       "      <td>2013-03-02 18:35:59</td>\n",
       "      <td></td>\n",
       "      <td></td>\n",
       "    </tr>\n",
       "    <tr>\n",
       "      <th>1</th>\n",
       "      <td>mastery</td>\n",
       "      <td>142.134.44.232</td>\n",
       "      <td>2013-03-02 18:37:11</td>\n",
       "      <td></td>\n",
       "      <td></td>\n",
       "    </tr>\n",
       "    <tr>\n",
       "      <th>2</th>\n",
       "      <td>Poppe</td>\n",
       "      <td>90.229.239.18</td>\n",
       "      <td>2013-03-02 19:02:30</td>\n",
       "      <td></td>\n",
       "      <td></td>\n",
       "    </tr>\n",
       "    <tr>\n",
       "      <th>3</th>\n",
       "      <td>google</td>\n",
       "      <td>99.164.164.252</td>\n",
       "      <td>2013-03-02 19:09:37</td>\n",
       "      <td></td>\n",
       "      <td></td>\n",
       "    </tr>\n",
       "    <tr>\n",
       "      <th>4</th>\n",
       "      <td>Mewtu</td>\n",
       "      <td>85.245.62.109</td>\n",
       "      <td>2013-03-02 19:16:39</td>\n",
       "      <td></td>\n",
       "      <td></td>\n",
       "    </tr>\n",
       "    <tr>\n",
       "      <th>5</th>\n",
       "      <td>ycie</td>\n",
       "      <td>81.205.42.137</td>\n",
       "      <td>2013-03-02 19:18:32</td>\n",
       "      <td></td>\n",
       "      <td></td>\n",
       "    </tr>\n",
       "    <tr>\n",
       "      <th>6</th>\n",
       "      <td>madhawk</td>\n",
       "      <td>123.236.189.171</td>\n",
       "      <td>2013-03-02 19:28:04</td>\n",
       "      <td></td>\n",
       "      <td></td>\n",
       "    </tr>\n",
       "    <tr>\n",
       "      <th>7</th>\n",
       "      <td>Poppe</td>\n",
       "      <td>90.229.239.18</td>\n",
       "      <td>2013-03-02 20:21:35</td>\n",
       "      <td></td>\n",
       "      <td></td>\n",
       "    </tr>\n",
       "    <tr>\n",
       "      <th>8</th>\n",
       "      <td>Nyanbot</td>\n",
       "      <td>122.57.224.195</td>\n",
       "      <td>2013-03-02 20:28:53</td>\n",
       "      <td></td>\n",
       "      <td></td>\n",
       "    </tr>\n",
       "    <tr>\n",
       "      <th>9</th>\n",
       "      <td>Help</td>\n",
       "      <td>204.14.79.111</td>\n",
       "      <td>2013-03-02 20:56:10</td>\n",
       "      <td></td>\n",
       "      <td></td>\n",
       "    </tr>\n",
       "  </tbody>\n",
       "</table>\n",
       "</div>"
      ],
      "text/plain": [
       "  username           userip                date id userid\n",
       "0    admin   99.229.169.138 2013-03-02 18:35:59          \n",
       "1  mastery   142.134.44.232 2013-03-02 18:37:11          \n",
       "2    Poppe    90.229.239.18 2013-03-02 19:02:30          \n",
       "3   google   99.164.164.252 2013-03-02 19:09:37          \n",
       "4    Mewtu    85.245.62.109 2013-03-02 19:16:39          \n",
       "5     ycie    81.205.42.137 2013-03-02 19:18:32          \n",
       "6  madhawk  123.236.189.171 2013-03-02 19:28:04          \n",
       "7    Poppe    90.229.239.18 2013-03-02 20:21:35          \n",
       "8  Nyanbot   122.57.224.195 2013-03-02 20:28:53          \n",
       "9     Help    204.14.79.111 2013-03-02 20:56:10          "
      ]
     },
     "execution_count": 34,
     "metadata": {},
     "output_type": "execute_result"
    }
   ],
   "source": [
    "# Loading the correct table name\n",
    "df_logins_temp = pd.read_csv(read_inserted_table(dumpfile, tablename),delimiter=\",\",error_bad_lines=False)\n",
    "\n",
    "# Converting columns\n",
    "df_logins_temp['date'] = timestamp2datetime(df_logins_temp['date']) \n",
    "\n",
    "# Changing names of columns\n",
    "df_logins_temp.rename(inplace=True, columns = {'ip':'userip'})\n",
    "\n",
    "# Creating empty columns (with \"\" [for future string] or np.nan [for future float])\n",
    "df_logins_temp['id']=''\n",
    "df_logins_temp['userid']=''\n",
    "\n",
    "\n",
    "# Showing some lines after adapt the table\n",
    "df_logins_temp.head(10)"
   ]
  },
  {
   "cell_type": "code",
   "execution_count": 35,
   "metadata": {
    "collapsed": true
   },
   "outputs": [],
   "source": [
    "df_logins=df_logins.append(df_logins_temp)"
   ]
  },
  {
   "cell_type": "markdown",
   "metadata": {},
   "source": [
    "## 6.9. Table: 'logs'"
   ]
  },
  {
   "cell_type": "markdown",
   "metadata": {},
   "source": [
    "### How this table looks like without modification?"
   ]
  },
  {
   "cell_type": "code",
   "execution_count": 39,
   "metadata": {
    "collapsed": false
   },
   "outputs": [
    {
     "name": "stderr",
     "output_type": "stream",
     "text": [
      "b'Skipping line 6503: expected 4 fields, saw 6\\nSkipping line 6504: expected 4 fields, saw 6\\nSkipping line 6505: expected 4 fields, saw 6\\nSkipping line 6506: expected 4 fields, saw 6\\nSkipping line 6507: expected 4 fields, saw 6\\nSkipping line 6508: expected 4 fields, saw 6\\nSkipping line 6509: expected 4 fields, saw 6\\nSkipping line 6510: expected 4 fields, saw 6\\nSkipping line 6511: expected 4 fields, saw 6\\nSkipping line 6512: expected 4 fields, saw 6\\nSkipping line 6513: expected 4 fields, saw 6\\nSkipping line 6514: expected 4 fields, saw 6\\nSkipping line 6515: expected 4 fields, saw 6\\nSkipping line 6516: expected 4 fields, saw 6\\nSkipping line 6517: expected 4 fields, saw 6\\nSkipping line 6518: expected 4 fields, saw 6\\nSkipping line 6519: expected 4 fields, saw 6\\nSkipping line 6520: expected 4 fields, saw 6\\nSkipping line 6521: expected 4 fields, saw 6\\nSkipping line 6522: expected 4 fields, saw 6\\nSkipping line 6523: expected 4 fields, saw 6\\nSkipping line 6524: expected 4 fields, saw 6\\nSkipping line 6525: expected 4 fields, saw 6\\nSkipping line 6526: expected 4 fields, saw 6\\nSkipping line 6527: expected 4 fields, saw 6\\nSkipping line 6528: expected 4 fields, saw 6\\nSkipping line 6529: expected 4 fields, saw 6\\nSkipping line 6530: expected 4 fields, saw 6\\nSkipping line 6531: expected 4 fields, saw 6\\nSkipping line 6532: expected 4 fields, saw 6\\nSkipping line 6533: expected 4 fields, saw 6\\nSkipping line 6534: expected 4 fields, saw 6\\nSkipping line 6535: expected 4 fields, saw 6\\nSkipping line 6536: expected 4 fields, saw 6\\nSkipping line 6537: expected 4 fields, saw 6\\nSkipping line 6538: expected 4 fields, saw 6\\nSkipping line 6539: expected 4 fields, saw 6\\nSkipping line 6540: expected 4 fields, saw 6\\nSkipping line 6541: expected 4 fields, saw 6\\nSkipping line 6542: expected 4 fields, saw 6\\nSkipping line 6543: expected 4 fields, saw 6\\nSkipping line 6544: expected 4 fields, saw 6\\nSkipping line 6545: expected 4 fields, saw 6\\nSkipping line 6546: expected 4 fields, saw 6\\nSkipping line 6547: expected 4 fields, saw 6\\nSkipping line 6548: expected 4 fields, saw 6\\nSkipping line 6549: expected 4 fields, saw 6\\nSkipping line 6550: expected 4 fields, saw 6\\nSkipping line 6551: expected 4 fields, saw 6\\nSkipping line 6552: expected 4 fields, saw 6\\nSkipping line 6553: expected 4 fields, saw 6\\nSkipping line 6554: expected 4 fields, saw 6\\nSkipping line 6555: expected 4 fields, saw 6\\nSkipping line 6556: expected 4 fields, saw 6\\nSkipping line 6557: expected 4 fields, saw 6\\nSkipping line 6558: expected 4 fields, saw 6\\nSkipping line 6559: expected 4 fields, saw 6\\nSkipping line 6560: expected 4 fields, saw 6\\nSkipping line 6561: expected 4 fields, saw 6\\nSkipping line 6562: expected 4 fields, saw 6\\nSkipping line 6563: expected 4 fields, saw 6\\nSkipping line 6564: expected 4 fields, saw 6\\nSkipping line 6565: expected 4 fields, saw 6\\nSkipping line 6566: expected 4 fields, saw 6\\nSkipping line 6567: expected 4 fields, saw 6\\nSkipping line 6568: expected 4 fields, saw 6\\nSkipping line 6569: expected 4 fields, saw 6\\nSkipping line 6570: expected 4 fields, saw 6\\nSkipping line 6571: expected 4 fields, saw 6\\nSkipping line 6572: expected 4 fields, saw 6\\nSkipping line 6573: expected 4 fields, saw 6\\nSkipping line 6574: expected 4 fields, saw 6\\nSkipping line 6575: expected 4 fields, saw 6\\nSkipping line 6576: expected 4 fields, saw 6\\nSkipping line 6577: expected 4 fields, saw 6\\nSkipping line 6578: expected 4 fields, saw 6\\nSkipping line 6579: expected 4 fields, saw 6\\nSkipping line 6580: expected 4 fields, saw 6\\nSkipping line 6581: expected 4 fields, saw 6\\nSkipping line 6582: expected 4 fields, saw 6\\nSkipping line 6583: expected 4 fields, saw 6\\nSkipping line 6584: expected 4 fields, saw 6\\nSkipping line 6585: expected 4 fields, saw 6\\nSkipping line 6586: expected 4 fields, saw 6\\nSkipping line 6587: expected 4 fields, saw 6\\nSkipping line 6588: expected 4 fields, saw 6\\nSkipping line 6589: expected 4 fields, saw 6\\nSkipping line 6590: expected 4 fields, saw 6\\nSkipping line 6591: expected 4 fields, saw 6\\nSkipping line 6592: expected 4 fields, saw 6\\nSkipping line 6593: expected 4 fields, saw 6\\nSkipping line 6594: expected 4 fields, saw 6\\nSkipping line 6595: expected 4 fields, saw 6\\nSkipping line 6596: expected 4 fields, saw 6\\nSkipping line 6597: expected 4 fields, saw 6\\nSkipping line 6598: expected 4 fields, saw 6\\nSkipping line 6599: expected 4 fields, saw 6\\nSkipping line 6600: expected 4 fields, saw 6\\nSkipping line 6601: expected 4 fields, saw 6\\nSkipping line 6602: expected 4 fields, saw 6\\nSkipping line 6603: expected 4 fields, saw 6\\nSkipping line 6604: expected 4 fields, saw 6\\nSkipping line 6605: expected 4 fields, saw 6\\nSkipping line 6606: expected 4 fields, saw 6\\nSkipping line 6607: expected 4 fields, saw 6\\nSkipping line 6608: expected 4 fields, saw 6\\nSkipping line 6609: expected 4 fields, saw 6\\nSkipping line 6610: expected 4 fields, saw 6\\nSkipping line 6611: expected 4 fields, saw 6\\nSkipping line 6612: expected 4 fields, saw 6\\nSkipping line 6613: expected 4 fields, saw 6\\nSkipping line 6614: expected 4 fields, saw 6\\nSkipping line 6615: expected 4 fields, saw 6\\nSkipping line 6616: expected 4 fields, saw 6\\nSkipping line 6617: expected 4 fields, saw 6\\nSkipping line 6618: expected 4 fields, saw 6\\nSkipping line 6619: expected 4 fields, saw 6\\nSkipping line 6620: expected 4 fields, saw 6\\nSkipping line 6621: expected 4 fields, saw 6\\nSkipping line 6622: expected 4 fields, saw 6\\nSkipping line 6623: expected 4 fields, saw 6\\nSkipping line 6624: expected 4 fields, saw 6\\nSkipping line 6625: expected 4 fields, saw 6\\nSkipping line 6626: expected 4 fields, saw 6\\nSkipping line 6627: expected 4 fields, saw 6\\nSkipping line 6628: expected 4 fields, saw 6\\nSkipping line 6629: expected 4 fields, saw 6\\nSkipping line 6630: expected 4 fields, saw 6\\nSkipping line 6631: expected 4 fields, saw 6\\nSkipping line 6632: expected 4 fields, saw 6\\nSkipping line 6633: expected 4 fields, saw 6\\nSkipping line 6634: expected 4 fields, saw 6\\nSkipping line 6635: expected 4 fields, saw 6\\nSkipping line 6636: expected 4 fields, saw 6\\nSkipping line 6637: expected 4 fields, saw 6\\nSkipping line 6638: expected 4 fields, saw 6\\nSkipping line 6639: expected 4 fields, saw 6\\nSkipping line 6640: expected 4 fields, saw 6\\nSkipping line 6641: expected 4 fields, saw 6\\nSkipping line 6642: expected 4 fields, saw 6\\nSkipping line 6643: expected 4 fields, saw 6\\nSkipping line 6644: expected 4 fields, saw 6\\nSkipping line 6645: expected 4 fields, saw 6\\nSkipping line 6646: expected 4 fields, saw 6\\nSkipping line 6647: expected 4 fields, saw 6\\nSkipping line 6648: expected 4 fields, saw 6\\nSkipping line 6649: expected 4 fields, saw 6\\nSkipping line 6650: expected 4 fields, saw 6\\nSkipping line 6651: expected 4 fields, saw 6\\nSkipping line 6652: expected 4 fields, saw 6\\nSkipping line 6653: expected 4 fields, saw 6\\nSkipping line 6654: expected 4 fields, saw 6\\nSkipping line 6655: expected 4 fields, saw 6\\nSkipping line 6656: expected 4 fields, saw 6\\nSkipping line 6657: expected 4 fields, saw 6\\nSkipping line 6658: expected 4 fields, saw 6\\nSkipping line 6659: expected 4 fields, saw 6\\nSkipping line 6660: expected 4 fields, saw 6\\nSkipping line 6661: expected 4 fields, saw 6\\nSkipping line 6662: expected 4 fields, saw 6\\nSkipping line 6663: expected 4 fields, saw 6\\nSkipping line 6664: expected 4 fields, saw 6\\nSkipping line 6665: expected 4 fields, saw 6\\nSkipping line 6666: expected 4 fields, saw 6\\nSkipping line 6667: expected 4 fields, saw 6\\nSkipping line 6668: expected 4 fields, saw 6\\nSkipping line 6669: expected 4 fields, saw 6\\nSkipping line 6670: expected 4 fields, saw 6\\nSkipping line 6671: expected 4 fields, saw 6\\nSkipping line 6672: expected 4 fields, saw 6\\nSkipping line 6673: expected 4 fields, saw 6\\nSkipping line 6674: expected 4 fields, saw 6\\nSkipping line 6675: expected 4 fields, saw 6\\nSkipping line 6676: expected 4 fields, saw 6\\nSkipping line 6677: expected 4 fields, saw 6\\nSkipping line 6678: expected 4 fields, saw 6\\nSkipping line 6679: expected 4 fields, saw 6\\nSkipping line 6680: expected 4 fields, saw 6\\nSkipping line 6681: expected 4 fields, saw 6\\nSkipping line 6682: expected 4 fields, saw 6\\nSkipping line 6683: expected 4 fields, saw 6\\nSkipping line 6684: expected 4 fields, saw 6\\nSkipping line 6685: expected 4 fields, saw 6\\nSkipping line 6686: expected 4 fields, saw 6\\nSkipping line 6687: expected 4 fields, saw 6\\nSkipping line 6688: expected 4 fields, saw 6\\nSkipping line 6689: expected 4 fields, saw 6\\nSkipping line 6690: expected 4 fields, saw 6\\nSkipping line 6691: expected 4 fields, saw 6\\nSkipping line 6692: expected 4 fields, saw 6\\nSkipping line 6693: expected 4 fields, saw 6\\nSkipping line 6694: expected 4 fields, saw 6\\nSkipping line 6695: expected 4 fields, saw 6\\nSkipping line 6696: expected 4 fields, saw 6\\nSkipping line 6697: expected 4 fields, saw 6\\nSkipping line 6698: expected 4 fields, saw 6\\nSkipping line 6699: expected 4 fields, saw 6\\nSkipping line 6700: expected 4 fields, saw 6\\nSkipping line 6701: expected 4 fields, saw 6\\nSkipping line 6702: expected 4 fields, saw 6\\nSkipping line 6703: expected 4 fields, saw 6\\nSkipping line 6704: expected 4 fields, saw 6\\nSkipping line 6705: expected 4 fields, saw 6\\nSkipping line 6706: expected 4 fields, saw 6\\nSkipping line 6707: expected 4 fields, saw 6\\nSkipping line 6708: expected 4 fields, saw 6\\nSkipping line 6709: expected 4 fields, saw 6\\nSkipping line 6710: expected 4 fields, saw 6\\nSkipping line 6711: expected 4 fields, saw 6\\nSkipping line 6712: expected 4 fields, saw 6\\nSkipping line 6713: expected 4 fields, saw 6\\nSkipping line 6714: expected 4 fields, saw 6\\nSkipping line 6715: expected 4 fields, saw 6\\nSkipping line 6716: expected 4 fields, saw 6\\nSkipping line 6717: expected 4 fields, saw 6\\nSkipping line 6718: expected 4 fields, saw 6\\nSkipping line 6719: expected 4 fields, saw 6\\nSkipping line 6720: expected 4 fields, saw 6\\nSkipping line 6721: expected 4 fields, saw 6\\nSkipping line 6722: expected 4 fields, saw 6\\nSkipping line 6723: expected 4 fields, saw 6\\nSkipping line 6724: expected 4 fields, saw 6\\nSkipping line 6725: expected 4 fields, saw 6\\nSkipping line 6726: expected 4 fields, saw 6\\nSkipping line 6727: expected 4 fields, saw 6\\nSkipping line 6728: expected 4 fields, saw 6\\nSkipping line 6729: expected 4 fields, saw 6\\nSkipping line 6730: expected 4 fields, saw 6\\nSkipping line 6731: expected 4 fields, saw 6\\nSkipping line 6732: expected 4 fields, saw 6\\nSkipping line 6733: expected 4 fields, saw 6\\nSkipping line 6734: expected 4 fields, saw 6\\nSkipping line 6735: expected 4 fields, saw 6\\nSkipping line 6736: expected 4 fields, saw 6\\nSkipping line 6737: expected 4 fields, saw 6\\nSkipping line 6738: expected 4 fields, saw 6\\nSkipping line 6739: expected 4 fields, saw 6\\nSkipping line 6740: expected 4 fields, saw 6\\nSkipping line 6741: expected 4 fields, saw 6\\nSkipping line 6742: expected 4 fields, saw 6\\nSkipping line 6743: expected 4 fields, saw 6\\nSkipping line 6744: expected 4 fields, saw 6\\nSkipping line 6745: expected 4 fields, saw 6\\nSkipping line 6746: expected 4 fields, saw 6\\nSkipping line 6747: expected 4 fields, saw 6\\nSkipping line 6748: expected 4 fields, saw 6\\nSkipping line 6749: expected 4 fields, saw 6\\nSkipping line 6750: expected 4 fields, saw 6\\nSkipping line 6751: expected 4 fields, saw 6\\nSkipping line 6752: expected 4 fields, saw 6\\nSkipping line 6753: expected 4 fields, saw 6\\nSkipping line 6754: expected 4 fields, saw 6\\nSkipping line 6755: expected 4 fields, saw 6\\nSkipping line 6756: expected 4 fields, saw 6\\nSkipping line 6757: expected 4 fields, saw 6\\nSkipping line 6758: expected 4 fields, saw 6\\nSkipping line 6759: expected 4 fields, saw 6\\nSkipping line 6760: expected 4 fields, saw 6\\nSkipping line 6761: expected 4 fields, saw 6\\nSkipping line 6762: expected 4 fields, saw 6\\nSkipping line 6763: expected 4 fields, saw 6\\nSkipping line 6764: expected 4 fields, saw 6\\nSkipping line 6765: expected 4 fields, saw 6\\nSkipping line 6766: expected 4 fields, saw 6\\nSkipping line 6767: expected 4 fields, saw 6\\nSkipping line 6768: expected 4 fields, saw 6\\nSkipping line 6769: expected 4 fields, saw 6\\nSkipping line 6770: expected 4 fields, saw 6\\nSkipping line 6771: expected 4 fields, saw 6\\nSkipping line 6772: expected 4 fields, saw 6\\nSkipping line 6773: expected 4 fields, saw 6\\nSkipping line 6774: expected 4 fields, saw 6\\nSkipping line 6775: expected 4 fields, saw 6\\nSkipping line 6776: expected 4 fields, saw 6\\nSkipping line 6777: expected 4 fields, saw 6\\nSkipping line 6778: expected 4 fields, saw 6\\nSkipping line 6779: expected 4 fields, saw 6\\nSkipping line 6780: expected 4 fields, saw 6\\nSkipping line 6781: expected 4 fields, saw 6\\nSkipping line 6782: expected 4 fields, saw 6\\nSkipping line 6783: expected 4 fields, saw 6\\nSkipping line 6784: expected 4 fields, saw 6\\nSkipping line 6785: expected 4 fields, saw 6\\nSkipping line 6786: expected 4 fields, saw 6\\nSkipping line 6787: expected 4 fields, saw 6\\nSkipping line 6788: expected 4 fields, saw 6\\nSkipping line 6789: expected 4 fields, saw 6\\nSkipping line 6790: expected 4 fields, saw 6\\nSkipping line 6791: expected 4 fields, saw 6\\nSkipping line 6792: expected 4 fields, saw 6\\nSkipping line 6793: expected 4 fields, saw 6\\nSkipping line 6794: expected 4 fields, saw 6\\nSkipping line 6795: expected 4 fields, saw 6\\nSkipping line 6796: expected 4 fields, saw 6\\nSkipping line 6797: expected 4 fields, saw 6\\nSkipping line 6798: expected 4 fields, saw 6\\nSkipping line 6799: expected 4 fields, saw 6\\nSkipping line 6800: expected 4 fields, saw 6\\nSkipping line 6801: expected 4 fields, saw 6\\nSkipping line 6802: expected 4 fields, saw 6\\nSkipping line 6803: expected 4 fields, saw 6\\nSkipping line 6804: expected 4 fields, saw 6\\nSkipping line 6805: expected 4 fields, saw 6\\nSkipping line 6806: expected 4 fields, saw 6\\nSkipping line 6807: expected 4 fields, saw 6\\nSkipping line 6808: expected 4 fields, saw 6\\nSkipping line 6809: expected 4 fields, saw 6\\nSkipping line 6810: expected 4 fields, saw 6\\nSkipping line 6811: expected 4 fields, saw 6\\nSkipping line 6812: expected 4 fields, saw 6\\nSkipping line 6813: expected 4 fields, saw 6\\nSkipping line 6814: expected 4 fields, saw 6\\nSkipping line 6815: expected 4 fields, saw 6\\nSkipping line 6816: expected 4 fields, saw 6\\nSkipping line 6817: expected 4 fields, saw 6\\nSkipping line 6818: expected 4 fields, saw 6\\nSkipping line 6819: expected 4 fields, saw 6\\nSkipping line 6820: expected 4 fields, saw 6\\nSkipping line 6821: expected 4 fields, saw 6\\nSkipping line 6822: expected 4 fields, saw 6\\nSkipping line 6823: expected 4 fields, saw 6\\nSkipping line 6824: expected 4 fields, saw 6\\nSkipping line 6825: expected 4 fields, saw 6\\nSkipping line 6826: expected 4 fields, saw 6\\nSkipping line 6827: expected 4 fields, saw 6\\nSkipping line 6828: expected 4 fields, saw 6\\nSkipping line 6829: expected 4 fields, saw 6\\nSkipping line 6830: expected 4 fields, saw 6\\nSkipping line 6831: expected 4 fields, saw 6\\nSkipping line 6832: expected 4 fields, saw 6\\nSkipping line 6833: expected 4 fields, saw 6\\nSkipping line 6834: expected 4 fields, saw 6\\nSkipping line 6835: expected 4 fields, saw 6\\nSkipping line 6836: expected 4 fields, saw 6\\nSkipping line 6837: expected 4 fields, saw 6\\nSkipping line 6838: expected 4 fields, saw 6\\nSkipping line 6839: expected 4 fields, saw 6\\nSkipping line 6840: expected 4 fields, saw 6\\nSkipping line 6841: expected 4 fields, saw 6\\nSkipping line 6842: expected 4 fields, saw 6\\nSkipping line 6843: expected 4 fields, saw 6\\nSkipping line 6844: expected 4 fields, saw 6\\nSkipping line 6845: expected 4 fields, saw 6\\nSkipping line 6846: expected 4 fields, saw 6\\nSkipping line 6847: expected 4 fields, saw 6\\nSkipping line 6848: expected 4 fields, saw 6\\nSkipping line 6849: expected 4 fields, saw 6\\nSkipping line 6850: expected 4 fields, saw 6\\nSkipping line 6851: expected 4 fields, saw 6\\nSkipping line 6852: expected 4 fields, saw 6\\nSkipping line 6853: expected 4 fields, saw 6\\nSkipping line 6854: expected 4 fields, saw 6\\nSkipping line 6855: expected 4 fields, saw 6\\nSkipping line 6856: expected 4 fields, saw 6\\nSkipping line 6857: expected 4 fields, saw 6\\nSkipping line 6858: expected 4 fields, saw 6\\nSkipping line 6859: expected 4 fields, saw 6\\nSkipping line 6860: expected 4 fields, saw 6\\nSkipping line 6861: expected 4 fields, saw 6\\nSkipping line 6862: expected 4 fields, saw 6\\nSkipping line 6863: expected 4 fields, saw 6\\nSkipping line 6864: expected 4 fields, saw 6\\nSkipping line 6865: expected 4 fields, saw 6\\nSkipping line 6866: expected 4 fields, saw 6\\nSkipping line 6867: expected 4 fields, saw 6\\nSkipping line 6868: expected 4 fields, saw 6\\nSkipping line 6869: expected 4 fields, saw 6\\nSkipping line 6870: expected 4 fields, saw 6\\nSkipping line 6871: expected 4 fields, saw 6\\nSkipping line 6872: expected 4 fields, saw 6\\nSkipping line 6873: expected 4 fields, saw 6\\nSkipping line 6874: expected 4 fields, saw 6\\nSkipping line 6875: expected 4 fields, saw 6\\nSkipping line 6876: expected 4 fields, saw 6\\nSkipping line 6877: expected 4 fields, saw 6\\nSkipping line 6878: expected 4 fields, saw 6\\nSkipping line 6879: expected 4 fields, saw 6\\nSkipping line 6880: expected 4 fields, saw 6\\nSkipping line 6881: expected 4 fields, saw 6\\nSkipping line 6882: expected 4 fields, saw 6\\nSkipping line 6883: expected 4 fields, saw 6\\nSkipping line 6884: expected 4 fields, saw 6\\nSkipping line 6885: expected 4 fields, saw 6\\nSkipping line 6886: expected 4 fields, saw 6\\nSkipping line 6887: expected 4 fields, saw 6\\nSkipping line 6888: expected 4 fields, saw 6\\nSkipping line 6889: expected 4 fields, saw 6\\nSkipping line 6890: expected 4 fields, saw 6\\nSkipping line 6891: expected 4 fields, saw 6\\nSkipping line 6892: expected 4 fields, saw 6\\nSkipping line 6893: expected 4 fields, saw 6\\nSkipping line 6894: expected 4 fields, saw 6\\nSkipping line 6895: expected 4 fields, saw 6\\nSkipping line 6896: expected 4 fields, saw 6\\nSkipping line 6897: expected 4 fields, saw 6\\nSkipping line 6898: expected 4 fields, saw 6\\nSkipping line 6899: expected 4 fields, saw 6\\nSkipping line 6900: expected 4 fields, saw 6\\nSkipping line 6901: expected 4 fields, saw 6\\nSkipping line 6902: expected 4 fields, saw 6\\nSkipping line 6903: expected 4 fields, saw 6\\nSkipping line 6904: expected 4 fields, saw 6\\nSkipping line 6905: expected 4 fields, saw 6\\nSkipping line 6906: expected 4 fields, saw 6\\nSkipping line 6907: expected 4 fields, saw 6\\nSkipping line 6908: expected 4 fields, saw 6\\nSkipping line 6909: expected 4 fields, saw 6\\nSkipping line 6910: expected 4 fields, saw 6\\nSkipping line 6911: expected 4 fields, saw 6\\nSkipping line 6912: expected 4 fields, saw 6\\nSkipping line 6913: expected 4 fields, saw 6\\nSkipping line 6914: expected 4 fields, saw 6\\nSkipping line 6915: expected 4 fields, saw 6\\nSkipping line 6916: expected 4 fields, saw 6\\nSkipping line 6917: expected 4 fields, saw 6\\nSkipping line 6918: expected 4 fields, saw 6\\nSkipping line 6919: expected 4 fields, saw 6\\nSkipping line 6920: expected 4 fields, saw 6\\nSkipping line 6921: expected 4 fields, saw 6\\nSkipping line 6922: expected 4 fields, saw 6\\nSkipping line 6923: expected 4 fields, saw 6\\nSkipping line 6924: expected 4 fields, saw 6\\nSkipping line 6925: expected 4 fields, saw 6\\nSkipping line 6926: expected 4 fields, saw 6\\nSkipping line 6927: expected 4 fields, saw 6\\nSkipping line 6928: expected 4 fields, saw 6\\nSkipping line 6929: expected 4 fields, saw 6\\nSkipping line 6930: expected 4 fields, saw 6\\nSkipping line 6931: expected 4 fields, saw 6\\nSkipping line 6932: expected 4 fields, saw 6\\nSkipping line 6933: expected 4 fields, saw 6\\nSkipping line 6934: expected 4 fields, saw 6\\nSkipping line 6935: expected 4 fields, saw 6\\nSkipping line 6936: expected 4 fields, saw 6\\nSkipping line 6937: expected 4 fields, saw 6\\nSkipping line 6938: expected 4 fields, saw 6\\nSkipping line 6939: expected 4 fields, saw 6\\nSkipping line 6940: expected 4 fields, saw 6\\nSkipping line 6941: expected 4 fields, saw 6\\nSkipping line 6942: expected 4 fields, saw 6\\nSkipping line 6943: expected 4 fields, saw 6\\nSkipping line 6944: expected 4 fields, saw 6\\nSkipping line 6945: expected 4 fields, saw 6\\nSkipping line 6946: expected 4 fields, saw 6\\nSkipping line 6947: expected 4 fields, saw 6\\nSkipping line 6948: expected 4 fields, saw 6\\nSkipping line 6949: expected 4 fields, saw 6\\nSkipping line 6950: expected 4 fields, saw 6\\nSkipping line 6951: expected 4 fields, saw 6\\nSkipping line 6952: expected 4 fields, saw 6\\nSkipping line 6953: expected 4 fields, saw 6\\nSkipping line 6954: expected 4 fields, saw 6\\nSkipping line 6955: expected 4 fields, saw 6\\nSkipping line 6956: expected 4 fields, saw 6\\nSkipping line 6957: expected 4 fields, saw 6\\nSkipping line 6958: expected 4 fields, saw 6\\nSkipping line 6959: expected 4 fields, saw 6\\nSkipping line 6960: expected 4 fields, saw 6\\nSkipping line 6961: expected 4 fields, saw 6\\nSkipping line 6962: expected 4 fields, saw 6\\nSkipping line 6963: expected 4 fields, saw 6\\nSkipping line 6964: expected 4 fields, saw 6\\nSkipping line 6965: expected 4 fields, saw 6\\nSkipping line 6966: expected 4 fields, saw 6\\nSkipping line 6967: expected 4 fields, saw 6\\nSkipping line 6968: expected 4 fields, saw 6\\nSkipping line 6969: expected 4 fields, saw 6\\nSkipping line 6970: expected 4 fields, saw 6\\nSkipping line 6971: expected 4 fields, saw 6\\nSkipping line 6972: expected 4 fields, saw 6\\nSkipping line 6973: expected 4 fields, saw 6\\nSkipping line 6974: expected 4 fields, saw 6\\nSkipping line 6975: expected 4 fields, saw 6\\nSkipping line 6976: expected 4 fields, saw 6\\nSkipping line 6977: expected 4 fields, saw 6\\nSkipping line 6978: expected 4 fields, saw 6\\nSkipping line 6979: expected 4 fields, saw 6\\nSkipping line 6980: expected 4 fields, saw 6\\nSkipping line 6981: expected 4 fields, saw 6\\nSkipping line 6982: expected 4 fields, saw 6\\nSkipping line 6983: expected 4 fields, saw 6\\nSkipping line 6984: expected 4 fields, saw 6\\nSkipping line 6985: expected 4 fields, saw 6\\nSkipping line 6986: expected 4 fields, saw 6\\nSkipping line 6987: expected 4 fields, saw 6\\nSkipping line 6988: expected 4 fields, saw 6\\nSkipping line 6989: expected 4 fields, saw 6\\nSkipping line 6990: expected 4 fields, saw 6\\nSkipping line 6991: expected 4 fields, saw 6\\nSkipping line 6992: expected 4 fields, saw 6\\nSkipping line 6993: expected 4 fields, saw 6\\nSkipping line 6994: expected 4 fields, saw 6\\nSkipping line 6995: expected 4 fields, saw 6\\nSkipping line 6996: expected 4 fields, saw 6\\nSkipping line 6997: expected 4 fields, saw 6\\nSkipping line 6998: expected 4 fields, saw 6\\nSkipping line 6999: expected 4 fields, saw 6\\nSkipping line 7000: expected 4 fields, saw 6\\nSkipping line 7001: expected 4 fields, saw 6\\nSkipping line 7002: expected 4 fields, saw 6\\nSkipping line 7003: expected 4 fields, saw 6\\nSkipping line 7004: expected 4 fields, saw 6\\nSkipping line 7005: expected 4 fields, saw 6\\nSkipping line 7006: expected 4 fields, saw 6\\nSkipping line 7007: expected 4 fields, saw 6\\nSkipping line 7008: expected 4 fields, saw 6\\nSkipping line 7009: expected 4 fields, saw 6\\nSkipping line 7010: expected 4 fields, saw 6\\nSkipping line 7011: expected 4 fields, saw 6\\nSkipping line 7012: expected 4 fields, saw 6\\nSkipping line 7013: expected 4 fields, saw 6\\nSkipping line 7014: expected 4 fields, saw 6\\nSkipping line 7015: expected 4 fields, saw 6\\nSkipping line 7016: expected 4 fields, saw 6\\nSkipping line 7017: expected 4 fields, saw 6\\nSkipping line 7018: expected 4 fields, saw 6\\nSkipping line 7019: expected 4 fields, saw 6\\nSkipping line 7020: expected 4 fields, saw 6\\nSkipping line 7021: expected 4 fields, saw 6\\nSkipping line 7022: expected 4 fields, saw 6\\nSkipping line 7023: expected 4 fields, saw 6\\nSkipping line 7024: expected 4 fields, saw 6\\nSkipping line 7025: expected 4 fields, saw 6\\nSkipping line 7026: expected 4 fields, saw 6\\nSkipping line 7027: expected 4 fields, saw 6\\nSkipping line 7028: expected 4 fields, saw 6\\nSkipping line 7029: expected 4 fields, saw 6\\nSkipping line 7030: expected 4 fields, saw 6\\nSkipping line 7031: expected 4 fields, saw 6\\nSkipping line 7032: expected 4 fields, saw 6\\nSkipping line 7033: expected 4 fields, saw 6\\nSkipping line 7034: expected 4 fields, saw 6\\nSkipping line 7035: expected 4 fields, saw 6\\nSkipping line 7036: expected 4 fields, saw 6\\nSkipping line 7037: expected 4 fields, saw 6\\nSkipping line 7038: expected 4 fields, saw 6\\nSkipping line 7039: expected 4 fields, saw 6\\nSkipping line 7040: expected 4 fields, saw 6\\nSkipping line 7041: expected 4 fields, saw 6\\nSkipping line 7042: expected 4 fields, saw 6\\nSkipping line 7043: expected 4 fields, saw 6\\nSkipping line 7044: expected 4 fields, saw 6\\nSkipping line 7045: expected 4 fields, saw 6\\nSkipping line 7046: expected 4 fields, saw 6\\nSkipping line 7047: expected 4 fields, saw 6\\nSkipping line 7048: expected 4 fields, saw 6\\nSkipping line 7049: expected 4 fields, saw 6\\nSkipping line 7050: expected 4 fields, saw 6\\nSkipping line 7051: expected 4 fields, saw 6\\nSkipping line 7052: expected 4 fields, saw 6\\nSkipping line 7053: expected 4 fields, saw 6\\nSkipping line 7054: expected 4 fields, saw 6\\nSkipping line 7055: expected 4 fields, saw 6\\nSkipping line 7056: expected 4 fields, saw 6\\nSkipping line 7057: expected 4 fields, saw 6\\nSkipping line 7058: expected 4 fields, saw 6\\nSkipping line 7059: expected 4 fields, saw 6\\nSkipping line 7060: expected 4 fields, saw 6\\nSkipping line 7061: expected 4 fields, saw 6\\nSkipping line 7062: expected 4 fields, saw 6\\nSkipping line 7063: expected 4 fields, saw 6\\nSkipping line 7064: expected 4 fields, saw 6\\nSkipping line 7065: expected 4 fields, saw 6\\nSkipping line 7066: expected 4 fields, saw 6\\nSkipping line 7067: expected 4 fields, saw 6\\nSkipping line 7068: expected 4 fields, saw 6\\nSkipping line 7069: expected 4 fields, saw 6\\nSkipping line 7070: expected 4 fields, saw 6\\nSkipping line 7071: expected 4 fields, saw 6\\nSkipping line 7072: expected 4 fields, saw 6\\nSkipping line 7073: expected 4 fields, saw 6\\nSkipping line 7074: expected 4 fields, saw 6\\nSkipping line 7075: expected 4 fields, saw 6\\nSkipping line 7076: expected 4 fields, saw 6\\nSkipping line 7077: expected 4 fields, saw 6\\nSkipping line 7078: expected 4 fields, saw 6\\nSkipping line 7079: expected 4 fields, saw 6\\nSkipping line 7080: expected 4 fields, saw 6\\nSkipping line 7081: expected 4 fields, saw 6\\nSkipping line 7082: expected 4 fields, saw 6\\n'\n"
     ]
    },
    {
     "data": {
      "text/html": [
       "<div>\n",
       "<table border=\"1\" class=\"dataframe\">\n",
       "  <thead>\n",
       "    <tr style=\"text-align: right;\">\n",
       "      <th></th>\n",
       "      <th>ID</th>\n",
       "      <th>userID</th>\n",
       "      <th>logged</th>\n",
       "      <th>date</th>\n",
       "    </tr>\n",
       "  </thead>\n",
       "  <tbody>\n",
       "    <tr>\n",
       "      <th>0</th>\n",
       "      <td>1</td>\n",
       "      <td>27</td>\n",
       "      <td>123.243.160.138</td>\n",
       "      <td>1.362336e+09</td>\n",
       "    </tr>\n",
       "    <tr>\n",
       "      <th>1</th>\n",
       "      <td>2</td>\n",
       "      <td>843</td>\n",
       "      <td>199.21.99.80</td>\n",
       "      <td>1.362339e+09</td>\n",
       "    </tr>\n",
       "    <tr>\n",
       "      <th>2</th>\n",
       "      <td>3</td>\n",
       "      <td>18</td>\n",
       "      <td>174.108.22.149</td>\n",
       "      <td>1.362369e+09</td>\n",
       "    </tr>\n",
       "    <tr>\n",
       "      <th>3</th>\n",
       "      <td>4</td>\n",
       "      <td>8</td>\n",
       "      <td>81.205.42.137</td>\n",
       "      <td>1.362420e+09</td>\n",
       "    </tr>\n",
       "    <tr>\n",
       "      <th>4</th>\n",
       "      <td>5</td>\n",
       "      <td>8</td>\n",
       "      <td>46.129.74.73</td>\n",
       "      <td>1.362420e+09</td>\n",
       "    </tr>\n",
       "    <tr>\n",
       "      <th>5</th>\n",
       "      <td>6</td>\n",
       "      <td>8</td>\n",
       "      <td>86.186.3.202</td>\n",
       "      <td>1.362420e+09</td>\n",
       "    </tr>\n",
       "    <tr>\n",
       "      <th>6</th>\n",
       "      <td>7</td>\n",
       "      <td>8</td>\n",
       "      <td>46.129.74.73</td>\n",
       "      <td>1.362420e+09</td>\n",
       "    </tr>\n",
       "    <tr>\n",
       "      <th>7</th>\n",
       "      <td>8</td>\n",
       "      <td>8</td>\n",
       "      <td>46.129.74.73</td>\n",
       "      <td>1.362420e+09</td>\n",
       "    </tr>\n",
       "    <tr>\n",
       "      <th>8</th>\n",
       "      <td>9</td>\n",
       "      <td>8</td>\n",
       "      <td>46.129.74.73</td>\n",
       "      <td>1.362420e+09</td>\n",
       "    </tr>\n",
       "    <tr>\n",
       "      <th>9</th>\n",
       "      <td>10</td>\n",
       "      <td>8</td>\n",
       "      <td>208.94.145.108</td>\n",
       "      <td>1.362420e+09</td>\n",
       "    </tr>\n",
       "    <tr>\n",
       "      <th>10</th>\n",
       "      <td>11</td>\n",
       "      <td>8</td>\n",
       "      <td>81.205.42.137</td>\n",
       "      <td>1.362420e+09</td>\n",
       "    </tr>\n",
       "    <tr>\n",
       "      <th>11</th>\n",
       "      <td>12</td>\n",
       "      <td>8</td>\n",
       "      <td>208.94.145.108</td>\n",
       "      <td>1.362420e+09</td>\n",
       "    </tr>\n",
       "    <tr>\n",
       "      <th>12</th>\n",
       "      <td>13</td>\n",
       "      <td>8</td>\n",
       "      <td>86.142.195.43</td>\n",
       "      <td>1.362420e+09</td>\n",
       "    </tr>\n",
       "    <tr>\n",
       "      <th>13</th>\n",
       "      <td>14</td>\n",
       "      <td>8</td>\n",
       "      <td>85.237.197.217</td>\n",
       "      <td>1.362421e+09</td>\n",
       "    </tr>\n",
       "    <tr>\n",
       "      <th>14</th>\n",
       "      <td>15</td>\n",
       "      <td>843</td>\n",
       "      <td>199.21.99.109</td>\n",
       "      <td>1.362507e+09</td>\n",
       "    </tr>\n",
       "    <tr>\n",
       "      <th>15</th>\n",
       "      <td>16</td>\n",
       "      <td>843</td>\n",
       "      <td>64.246.165.140</td>\n",
       "      <td>1.362564e+09</td>\n",
       "    </tr>\n",
       "    <tr>\n",
       "      <th>16</th>\n",
       "      <td>17</td>\n",
       "      <td>49</td>\n",
       "      <td>46.229.224.253</td>\n",
       "      <td>1.362569e+09</td>\n",
       "    </tr>\n",
       "    <tr>\n",
       "      <th>17</th>\n",
       "      <td>18</td>\n",
       "      <td>59</td>\n",
       "      <td>67.173.25.191</td>\n",
       "      <td>1.362593e+09</td>\n",
       "    </tr>\n",
       "    <tr>\n",
       "      <th>18</th>\n",
       "      <td>19</td>\n",
       "      <td>843</td>\n",
       "      <td>199.21.99.109</td>\n",
       "      <td>1.362654e+09</td>\n",
       "    </tr>\n",
       "    <tr>\n",
       "      <th>19</th>\n",
       "      <td>20</td>\n",
       "      <td>843</td>\n",
       "      <td>23.22.235.227</td>\n",
       "      <td>1.362659e+09</td>\n",
       "    </tr>\n",
       "    <tr>\n",
       "      <th>20</th>\n",
       "      <td>21</td>\n",
       "      <td>8</td>\n",
       "      <td>64.62.243.85</td>\n",
       "      <td>1.362711e+09</td>\n",
       "    </tr>\n",
       "    <tr>\n",
       "      <th>21</th>\n",
       "      <td>22</td>\n",
       "      <td>49</td>\n",
       "      <td>192.84.170.139</td>\n",
       "      <td>1.363006e+09</td>\n",
       "    </tr>\n",
       "    <tr>\n",
       "      <th>22</th>\n",
       "      <td>76</td>\n",
       "      <td>189</td>\n",
       "      <td>71.68.51.138</td>\n",
       "      <td>1.365907e+09</td>\n",
       "    </tr>\n",
       "    <tr>\n",
       "      <th>23</th>\n",
       "      <td>1148</td>\n",
       "      <td>134</td>\n",
       "      <td>70.70.155.13</td>\n",
       "      <td>1.369452e+09</td>\n",
       "    </tr>\n",
       "    <tr>\n",
       "      <th>24</th>\n",
       "      <td>1147</td>\n",
       "      <td>134</td>\n",
       "      <td>207.81.37.223</td>\n",
       "      <td>1.369452e+09</td>\n",
       "    </tr>\n",
       "    <tr>\n",
       "      <th>25</th>\n",
       "      <td>1146</td>\n",
       "      <td>134</td>\n",
       "      <td>70.70.155.13</td>\n",
       "      <td>1.369452e+09</td>\n",
       "    </tr>\n",
       "    <tr>\n",
       "      <th>26</th>\n",
       "      <td>1145</td>\n",
       "      <td>134</td>\n",
       "      <td>207.81.37.223</td>\n",
       "      <td>1.369452e+09</td>\n",
       "    </tr>\n",
       "    <tr>\n",
       "      <th>27</th>\n",
       "      <td>1144</td>\n",
       "      <td>134</td>\n",
       "      <td>50.33.175.246</td>\n",
       "      <td>1.369452e+09</td>\n",
       "    </tr>\n",
       "    <tr>\n",
       "      <th>28</th>\n",
       "      <td>75</td>\n",
       "      <td>158</td>\n",
       "      <td>68.102.9.37</td>\n",
       "      <td>1.365820e+09</td>\n",
       "    </tr>\n",
       "    <tr>\n",
       "      <th>29</th>\n",
       "      <td>74</td>\n",
       "      <td>158</td>\n",
       "      <td>68.102.9.37</td>\n",
       "      <td>1.365820e+09</td>\n",
       "    </tr>\n",
       "    <tr>\n",
       "      <th>...</th>\n",
       "      <td>...</td>\n",
       "      <td>...</td>\n",
       "      <td>...</td>\n",
       "      <td>...</td>\n",
       "    </tr>\n",
       "    <tr>\n",
       "      <th>6471</th>\n",
       "      <td>wmj11</td>\n",
       "      <td>68.189.4.87</td>\n",
       "      <td>1369529669</td>\n",
       "      <td>NaN</td>\n",
       "    </tr>\n",
       "    <tr>\n",
       "      <th>6472</th>\n",
       "      <td>admin</td>\n",
       "      <td>99.229.169.138</td>\n",
       "      <td>1369529771</td>\n",
       "      <td>NaN</td>\n",
       "    </tr>\n",
       "    <tr>\n",
       "      <th>6473</th>\n",
       "      <td>america2007a</td>\n",
       "      <td>184.90.26.235</td>\n",
       "      <td>1369529846</td>\n",
       "      <td>NaN</td>\n",
       "    </tr>\n",
       "    <tr>\n",
       "      <th>6474</th>\n",
       "      <td>america2007a</td>\n",
       "      <td>184.90.26.235</td>\n",
       "      <td>1369529855</td>\n",
       "      <td>NaN</td>\n",
       "    </tr>\n",
       "    <tr>\n",
       "      <th>6475</th>\n",
       "      <td>RaphaSande</td>\n",
       "      <td>189.102.13.4</td>\n",
       "      <td>1369530806</td>\n",
       "      <td>NaN</td>\n",
       "    </tr>\n",
       "    <tr>\n",
       "      <th>6476</th>\n",
       "      <td>stematic</td>\n",
       "      <td>195.138.241.6</td>\n",
       "      <td>1369531643</td>\n",
       "      <td>NaN</td>\n",
       "    </tr>\n",
       "    <tr>\n",
       "      <th>6477</th>\n",
       "      <td>Userpass</td>\n",
       "      <td>90.224.62.57</td>\n",
       "      <td>1369531673</td>\n",
       "      <td>NaN</td>\n",
       "    </tr>\n",
       "    <tr>\n",
       "      <th>6478</th>\n",
       "      <td>admin</td>\n",
       "      <td>216.38.7.227</td>\n",
       "      <td>1369532533</td>\n",
       "      <td>NaN</td>\n",
       "    </tr>\n",
       "    <tr>\n",
       "      <th>6479</th>\n",
       "      <td>rulz</td>\n",
       "      <td>87.222.150.222</td>\n",
       "      <td>1369532625</td>\n",
       "      <td>NaN</td>\n",
       "    </tr>\n",
       "    <tr>\n",
       "      <th>6480</th>\n",
       "      <td>admin</td>\n",
       "      <td>89.248.161.155</td>\n",
       "      <td>1369532669</td>\n",
       "      <td>NaN</td>\n",
       "    </tr>\n",
       "    <tr>\n",
       "      <th>6481</th>\n",
       "      <td>qNxX1</td>\n",
       "      <td>213.211.234.182</td>\n",
       "      <td>1369533680</td>\n",
       "      <td>NaN</td>\n",
       "    </tr>\n",
       "    <tr>\n",
       "      <th>6482</th>\n",
       "      <td>qNxX1</td>\n",
       "      <td>213.211.234.182</td>\n",
       "      <td>1369533738</td>\n",
       "      <td>NaN</td>\n",
       "    </tr>\n",
       "    <tr>\n",
       "      <th>6483</th>\n",
       "      <td>bread</td>\n",
       "      <td>173.242.121.199</td>\n",
       "      <td>1369534098</td>\n",
       "      <td>NaN</td>\n",
       "    </tr>\n",
       "    <tr>\n",
       "      <th>6484</th>\n",
       "      <td>EpicWolf88</td>\n",
       "      <td>65.78.104.25</td>\n",
       "      <td>1369534547</td>\n",
       "      <td>NaN</td>\n",
       "    </tr>\n",
       "    <tr>\n",
       "      <th>6485</th>\n",
       "      <td>zilogical</td>\n",
       "      <td>50.10.151.65</td>\n",
       "      <td>1369534565</td>\n",
       "      <td>NaN</td>\n",
       "    </tr>\n",
       "    <tr>\n",
       "      <th>6486</th>\n",
       "      <td>MonstaR</td>\n",
       "      <td>108.94.68.67</td>\n",
       "      <td>1369534570</td>\n",
       "      <td>NaN</td>\n",
       "    </tr>\n",
       "    <tr>\n",
       "      <th>6487</th>\n",
       "      <td>SolDram</td>\n",
       "      <td>68.88.125.234</td>\n",
       "      <td>1369535018</td>\n",
       "      <td>NaN</td>\n",
       "    </tr>\n",
       "    <tr>\n",
       "      <th>6488</th>\n",
       "      <td>stematic</td>\n",
       "      <td>195.138.241.6</td>\n",
       "      <td>1369535370</td>\n",
       "      <td>NaN</td>\n",
       "    </tr>\n",
       "    <tr>\n",
       "      <th>6489</th>\n",
       "      <td>bread</td>\n",
       "      <td>69.120.154.53</td>\n",
       "      <td>1369535570</td>\n",
       "      <td>NaN</td>\n",
       "    </tr>\n",
       "    <tr>\n",
       "      <th>6490</th>\n",
       "      <td>Jackings</td>\n",
       "      <td>66.177.101.216</td>\n",
       "      <td>1369535739</td>\n",
       "      <td>NaN</td>\n",
       "    </tr>\n",
       "    <tr>\n",
       "      <th>6491</th>\n",
       "      <td>RaphaSande</td>\n",
       "      <td>189.102.13.4</td>\n",
       "      <td>1369535897</td>\n",
       "      <td>NaN</td>\n",
       "    </tr>\n",
       "    <tr>\n",
       "      <th>6492</th>\n",
       "      <td>vDronez</td>\n",
       "      <td>101.175.212.145</td>\n",
       "      <td>1369536395</td>\n",
       "      <td>NaN</td>\n",
       "    </tr>\n",
       "    <tr>\n",
       "      <th>6493</th>\n",
       "      <td>bread</td>\n",
       "      <td>173.242.121.199</td>\n",
       "      <td>1369537440</td>\n",
       "      <td>NaN</td>\n",
       "    </tr>\n",
       "    <tr>\n",
       "      <th>6494</th>\n",
       "      <td>kinect</td>\n",
       "      <td>71.93.116.78</td>\n",
       "      <td>1369538296</td>\n",
       "      <td>NaN</td>\n",
       "    </tr>\n",
       "    <tr>\n",
       "      <th>6495</th>\n",
       "      <td>EpicWolf88</td>\n",
       "      <td>65.78.104.25</td>\n",
       "      <td>1369538865</td>\n",
       "      <td>NaN</td>\n",
       "    </tr>\n",
       "    <tr>\n",
       "      <th>6496</th>\n",
       "      <td>sirmattlage</td>\n",
       "      <td>76.189.84.10</td>\n",
       "      <td>1369539851</td>\n",
       "      <td>NaN</td>\n",
       "    </tr>\n",
       "    <tr>\n",
       "      <th>6497</th>\n",
       "      <td>sirmattlage</td>\n",
       "      <td>76.189.84.10</td>\n",
       "      <td>1369539859</td>\n",
       "      <td>NaN</td>\n",
       "    </tr>\n",
       "    <tr>\n",
       "      <th>6498</th>\n",
       "      <td>admin</td>\n",
       "      <td>96.44.189.100</td>\n",
       "      <td>1369540265</td>\n",
       "      <td>NaN</td>\n",
       "    </tr>\n",
       "    <tr>\n",
       "      <th>6499</th>\n",
       "      <td>admin</td>\n",
       "      <td>31.172.30.3</td>\n",
       "      <td>1369540575</td>\n",
       "      <td>NaN</td>\n",
       "    </tr>\n",
       "    <tr>\n",
       "      <th>6500</th>\n",
       "      <td>Jarful</td>\n",
       "      <td>70.181.28.58</td>\n",
       "      <td>1369541428</td>\n",
       "      <td>NaN</td>\n",
       "    </tr>\n",
       "  </tbody>\n",
       "</table>\n",
       "<p>6501 rows × 4 columns</p>\n",
       "</div>"
      ],
      "text/plain": [
       "                ID           userID           logged          date\n",
       "0                1               27  123.243.160.138  1.362336e+09\n",
       "1                2              843     199.21.99.80  1.362339e+09\n",
       "2                3               18   174.108.22.149  1.362369e+09\n",
       "3                4                8    81.205.42.137  1.362420e+09\n",
       "4                5                8     46.129.74.73  1.362420e+09\n",
       "5                6                8     86.186.3.202  1.362420e+09\n",
       "6                7                8     46.129.74.73  1.362420e+09\n",
       "7                8                8     46.129.74.73  1.362420e+09\n",
       "8                9                8     46.129.74.73  1.362420e+09\n",
       "9               10                8   208.94.145.108  1.362420e+09\n",
       "10              11                8    81.205.42.137  1.362420e+09\n",
       "11              12                8   208.94.145.108  1.362420e+09\n",
       "12              13                8    86.142.195.43  1.362420e+09\n",
       "13              14                8   85.237.197.217  1.362421e+09\n",
       "14              15              843    199.21.99.109  1.362507e+09\n",
       "15              16              843   64.246.165.140  1.362564e+09\n",
       "16              17               49   46.229.224.253  1.362569e+09\n",
       "17              18               59    67.173.25.191  1.362593e+09\n",
       "18              19              843    199.21.99.109  1.362654e+09\n",
       "19              20              843    23.22.235.227  1.362659e+09\n",
       "20              21                8     64.62.243.85  1.362711e+09\n",
       "21              22               49   192.84.170.139  1.363006e+09\n",
       "22              76              189     71.68.51.138  1.365907e+09\n",
       "23            1148              134     70.70.155.13  1.369452e+09\n",
       "24            1147              134    207.81.37.223  1.369452e+09\n",
       "25            1146              134     70.70.155.13  1.369452e+09\n",
       "26            1145              134    207.81.37.223  1.369452e+09\n",
       "27            1144              134    50.33.175.246  1.369452e+09\n",
       "28              75              158      68.102.9.37  1.365820e+09\n",
       "29              74              158      68.102.9.37  1.365820e+09\n",
       "...            ...              ...              ...           ...\n",
       "6471         wmj11      68.189.4.87       1369529669           NaN\n",
       "6472         admin   99.229.169.138       1369529771           NaN\n",
       "6473  america2007a    184.90.26.235       1369529846           NaN\n",
       "6474  america2007a    184.90.26.235       1369529855           NaN\n",
       "6475    RaphaSande     189.102.13.4       1369530806           NaN\n",
       "6476      stematic    195.138.241.6       1369531643           NaN\n",
       "6477      Userpass     90.224.62.57       1369531673           NaN\n",
       "6478         admin     216.38.7.227       1369532533           NaN\n",
       "6479          rulz   87.222.150.222       1369532625           NaN\n",
       "6480         admin   89.248.161.155       1369532669           NaN\n",
       "6481         qNxX1  213.211.234.182       1369533680           NaN\n",
       "6482         qNxX1  213.211.234.182       1369533738           NaN\n",
       "6483         bread  173.242.121.199       1369534098           NaN\n",
       "6484    EpicWolf88     65.78.104.25       1369534547           NaN\n",
       "6485     zilogical     50.10.151.65       1369534565           NaN\n",
       "6486       MonstaR     108.94.68.67       1369534570           NaN\n",
       "6487       SolDram    68.88.125.234       1369535018           NaN\n",
       "6488      stematic    195.138.241.6       1369535370           NaN\n",
       "6489         bread    69.120.154.53       1369535570           NaN\n",
       "6490      Jackings   66.177.101.216       1369535739           NaN\n",
       "6491    RaphaSande     189.102.13.4       1369535897           NaN\n",
       "6492       vDronez  101.175.212.145       1369536395           NaN\n",
       "6493         bread  173.242.121.199       1369537440           NaN\n",
       "6494        kinect     71.93.116.78       1369538296           NaN\n",
       "6495    EpicWolf88     65.78.104.25       1369538865           NaN\n",
       "6496   sirmattlage     76.189.84.10       1369539851           NaN\n",
       "6497   sirmattlage     76.189.84.10       1369539859           NaN\n",
       "6498         admin    96.44.189.100       1369540265           NaN\n",
       "6499         admin      31.172.30.3       1369540575           NaN\n",
       "6500        Jarful     70.181.28.58       1369541428           NaN\n",
       "\n",
       "[6501 rows x 4 columns]"
      ]
     },
     "execution_count": 39,
     "metadata": {},
     "output_type": "execute_result"
    }
   ],
   "source": [
    "tablename='logs'\n",
    "\n",
    "pd.read_csv(read_inserted_table(dumpfile, tablename),delimiter=\",\",error_bad_lines=False)"
   ]
  },
  {
   "cell_type": "markdown",
   "metadata": {},
   "source": [
    "#### Q1: Is this table different from other previous loaded table? YES \n",
    "#### Q2: Is this table similar to any table in the generic Booter database schema? NO\n",
    "    - This table looks like: users\n",
    "#### Q3: Are there modifications required? \n",
    "    - On the table name: \n",
    "        o \n",
    "    - On the column type: \n",
    "        o \n",
    "    - On the column name:\n",
    "        o email -> useremail \n",
    "        o membership -> planid\n",
    "    - Add required columns:\n",
    "        o userid\n",
    "        o expire\n",
    "    - Split columns:\n",
    "        o df_logins['username']=df_users['username']\n",
    "        o df_logins['userip']=df_users['ip']\n",
    "        o df_logins['date']=timestamp2datetime(df_users['lastlogin'])"
   ]
  },
  {
   "cell_type": "markdown",
   "metadata": {},
   "source": [
    "## 6.10. Table: 'messages'"
   ]
  },
  {
   "cell_type": "markdown",
   "metadata": {},
   "source": [
    "### How this table looks like without modification?"
   ]
  },
  {
   "cell_type": "code",
   "execution_count": 40,
   "metadata": {
    "collapsed": false
   },
   "outputs": [
    {
     "data": {
      "text/html": [
       "<div>\n",
       "<table border=\"1\" class=\"dataframe\">\n",
       "  <thead>\n",
       "    <tr style=\"text-align: right;\">\n",
       "      <th></th>\n",
       "      <th>messageid</th>\n",
       "      <th>ticketid</th>\n",
       "      <th>content</th>\n",
       "      <th>sender</th>\n",
       "    </tr>\n",
       "  </thead>\n",
       "  <tbody>\n",
       "    <tr>\n",
       "      <th>0</th>\n",
       "      <td>1</td>\n",
       "      <td>1</td>\n",
       "      <td>Working.</td>\n",
       "      <td>Admin</td>\n",
       "    </tr>\n",
       "    <tr>\n",
       "      <th>1</th>\n",
       "      <td>2</td>\n",
       "      <td>2</td>\n",
       "      <td>dsfrdg</td>\n",
       "      <td>Admin</td>\n",
       "    </tr>\n",
       "    <tr>\n",
       "      <th>2</th>\n",
       "      <td>3</td>\n",
       "      <td>3</td>\n",
       "      <td>Hey whats up</td>\n",
       "      <td>Admin</td>\n",
       "    </tr>\n",
       "    <tr>\n",
       "      <th>3</th>\n",
       "      <td>4</td>\n",
       "      <td>4</td>\n",
       "      <td>Yes the Steam Resolver does not work Steam res...</td>\n",
       "      <td>Admin</td>\n",
       "    </tr>\n",
       "    <tr>\n",
       "      <th>4</th>\n",
       "      <td>5</td>\n",
       "      <td>5</td>\n",
       "      <td>It\\\\s hitting like a truck atm try again.</td>\n",
       "      <td>Admin</td>\n",
       "    </tr>\n",
       "    <tr>\n",
       "      <th>5</th>\n",
       "      <td>6</td>\n",
       "      <td>6</td>\n",
       "      <td>Currently no although we will work on a featur...</td>\n",
       "      <td>Admin</td>\n",
       "    </tr>\n",
       "    <tr>\n",
       "      <th>6</th>\n",
       "      <td>7</td>\n",
       "      <td>7</td>\n",
       "      <td>fffgfh</td>\n",
       "      <td>Admin</td>\n",
       "    </tr>\n",
       "    <tr>\n",
       "      <th>7</th>\n",
       "      <td>8</td>\n",
       "      <td>10</td>\n",
       "      <td>I have updated you.</td>\n",
       "      <td>Admin</td>\n",
       "    </tr>\n",
       "    <tr>\n",
       "      <th>8</th>\n",
       "      <td>9</td>\n",
       "      <td>11</td>\n",
       "      <td>I\\\\m bronze lifetime member. Could log in just...</td>\n",
       "      <td>Client</td>\n",
       "    </tr>\n",
       "    <tr>\n",
       "      <th>9</th>\n",
       "      <td>10</td>\n",
       "      <td>12</td>\n",
       "      <td>You would have Platinum Lifetime here can you ...</td>\n",
       "      <td>Admin</td>\n",
       "    </tr>\n",
       "  </tbody>\n",
       "</table>\n",
       "</div>"
      ],
      "text/plain": [
       "   messageid  ticketid                                            content  \\\n",
       "0          1         1                                           Working.   \n",
       "1          2         2                                             dsfrdg   \n",
       "2          3         3                                       Hey whats up   \n",
       "3          4         4  Yes the Steam Resolver does not work Steam res...   \n",
       "4          5         5          It\\\\s hitting like a truck atm try again.   \n",
       "5          6         6  Currently no although we will work on a featur...   \n",
       "6          7         7                                             fffgfh   \n",
       "7          8        10                                I have updated you.   \n",
       "8          9        11  I\\\\m bronze lifetime member. Could log in just...   \n",
       "9         10        12  You would have Platinum Lifetime here can you ...   \n",
       "\n",
       "   sender  \n",
       "0   Admin  \n",
       "1   Admin  \n",
       "2   Admin  \n",
       "3   Admin  \n",
       "4   Admin  \n",
       "5   Admin  \n",
       "6   Admin  \n",
       "7   Admin  \n",
       "8  Client  \n",
       "9   Admin  "
      ]
     },
     "execution_count": 40,
     "metadata": {},
     "output_type": "execute_result"
    }
   ],
   "source": [
    "tablename='messages'\n",
    "\n",
    "pd.read_csv(read_inserted_table(dumpfile, tablename),delimiter=\",\",error_bad_lines=False).head(10)"
   ]
  },
  {
   "cell_type": "markdown",
   "metadata": {},
   "source": [
    "#### Q1: Is this table different from other previous loaded table? YES \n",
    "#### Q2: Is this table similar to any table in the generic Booter database schema? NO\n",
    "    - This table looks like: \n",
    "#### Q3: Are there modifications required? \n",
    "    - On the table name: \n",
    "        o \n",
    "    - On the column type: \n",
    "        o \n",
    "    - On the column name:\n",
    "        o \n",
    "    - Add required columns:\n",
    "        o \n",
    "    - Split columns:\n",
    "        o "
   ]
  },
  {
   "cell_type": "markdown",
   "metadata": {},
   "source": [
    "## 6.11. Table: 'news'"
   ]
  },
  {
   "cell_type": "markdown",
   "metadata": {},
   "source": [
    "### How this table looks like without modification?"
   ]
  },
  {
   "cell_type": "code",
   "execution_count": 41,
   "metadata": {
    "collapsed": false
   },
   "outputs": [
    {
     "data": {
      "text/html": [
       "<div>\n",
       "<table border=\"1\" class=\"dataframe\">\n",
       "  <thead>\n",
       "    <tr style=\"text-align: right;\">\n",
       "      <th></th>\n",
       "      <th>ID</th>\n",
       "      <th>title</th>\n",
       "      <th>detail</th>\n",
       "      <th>date</th>\n",
       "    </tr>\n",
       "  </thead>\n",
       "  <tbody>\n",
       "  </tbody>\n",
       "</table>\n",
       "</div>"
      ],
      "text/plain": [
       "Empty DataFrame\n",
       "Columns: [ID, title, detail, date]\n",
       "Index: []"
      ]
     },
     "execution_count": 41,
     "metadata": {},
     "output_type": "execute_result"
    }
   ],
   "source": [
    "tablename='news'\n",
    "\n",
    "pd.read_csv(read_inserted_table(dumpfile, tablename),delimiter=\",\",error_bad_lines=False).head(10)"
   ]
  },
  {
   "cell_type": "markdown",
   "metadata": {},
   "source": [
    "#### Q1: Is this table different from other previous loaded table? YES \n",
    "#### Q2: Is this table similar to any table in the generic Booter database schema? NO\n",
    "    - This table looks like: \n",
    "#### Q3: Are there modifications required? \n",
    "    - On the table name: \n",
    "        o \n",
    "    - On the column type: \n",
    "        o \n",
    "    - On the column name:\n",
    "        o \n",
    "    - Add required columns:\n",
    "        o \n",
    "    - Split columns:\n",
    "        o "
   ]
  },
  {
   "cell_type": "markdown",
   "metadata": {},
   "source": [
    "## 6.12. Table: 'payments'"
   ]
  },
  {
   "cell_type": "markdown",
   "metadata": {},
   "source": [
    "### How this table looks like without modification?"
   ]
  },
  {
   "cell_type": "code",
   "execution_count": 42,
   "metadata": {
    "collapsed": false
   },
   "outputs": [
    {
     "data": {
      "text/html": [
       "<div>\n",
       "<table border=\"1\" class=\"dataframe\">\n",
       "  <thead>\n",
       "    <tr style=\"text-align: right;\">\n",
       "      <th></th>\n",
       "      <th>ID</th>\n",
       "      <th>paid</th>\n",
       "      <th>plan</th>\n",
       "      <th>user</th>\n",
       "      <th>email</th>\n",
       "      <th>tid</th>\n",
       "      <th>date</th>\n",
       "    </tr>\n",
       "  </thead>\n",
       "  <tbody>\n",
       "    <tr>\n",
       "      <th>0</th>\n",
       "      <td>1</td>\n",
       "      <td>0.05</td>\n",
       "      <td>80</td>\n",
       "      <td>920</td>\n",
       "      <td>hf.diamond@yahoo.com</td>\n",
       "      <td>75J4505810889372S</td>\n",
       "      <td>1369430055</td>\n",
       "    </tr>\n",
       "    <tr>\n",
       "      <th>1</th>\n",
       "      <td>2</td>\n",
       "      <td>5.00</td>\n",
       "      <td>66</td>\n",
       "      <td>922</td>\n",
       "      <td>opietros3@gmail.com</td>\n",
       "      <td>3SP599764G888202C</td>\n",
       "      <td>1369431344</td>\n",
       "    </tr>\n",
       "    <tr>\n",
       "      <th>2</th>\n",
       "      <td>3</td>\n",
       "      <td>15.00</td>\n",
       "      <td>67</td>\n",
       "      <td>826</td>\n",
       "      <td>AluAir95@gmail.com</td>\n",
       "      <td>6588089194246584A</td>\n",
       "      <td>1369434707</td>\n",
       "    </tr>\n",
       "    <tr>\n",
       "      <th>3</th>\n",
       "      <td>4</td>\n",
       "      <td>15.00</td>\n",
       "      <td>67</td>\n",
       "      <td>907</td>\n",
       "      <td>joannminor9471@yahoo.com</td>\n",
       "      <td>6EL234543D167345L</td>\n",
       "      <td>1369443250</td>\n",
       "    </tr>\n",
       "    <tr>\n",
       "      <th>4</th>\n",
       "      <td>5</td>\n",
       "      <td>25.00</td>\n",
       "      <td>72</td>\n",
       "      <td>931</td>\n",
       "      <td>zach.j.smith@gmail.com</td>\n",
       "      <td>59B19714W7154672B</td>\n",
       "      <td>1369450757</td>\n",
       "    </tr>\n",
       "    <tr>\n",
       "      <th>5</th>\n",
       "      <td>6</td>\n",
       "      <td>30.00</td>\n",
       "      <td>69</td>\n",
       "      <td>880</td>\n",
       "      <td>kleemartin@t-online.de</td>\n",
       "      <td>00H78920PK528422Y</td>\n",
       "      <td>1369476182</td>\n",
       "    </tr>\n",
       "    <tr>\n",
       "      <th>6</th>\n",
       "      <td>7</td>\n",
       "      <td>5.00</td>\n",
       "      <td>66</td>\n",
       "      <td>937</td>\n",
       "      <td>lory-ermejo@live.it</td>\n",
       "      <td>9BW51169NP3184444</td>\n",
       "      <td>1369476375</td>\n",
       "    </tr>\n",
       "    <tr>\n",
       "      <th>7</th>\n",
       "      <td>8</td>\n",
       "      <td>10.00</td>\n",
       "      <td>68</td>\n",
       "      <td>939</td>\n",
       "      <td>andreas_kavouri@hotmail.com</td>\n",
       "      <td>50V7141949681860K</td>\n",
       "      <td>1369481022</td>\n",
       "    </tr>\n",
       "    <tr>\n",
       "      <th>8</th>\n",
       "      <td>9</td>\n",
       "      <td>5.00</td>\n",
       "      <td>66</td>\n",
       "      <td>884</td>\n",
       "      <td>ngoj3000@gmail.com</td>\n",
       "      <td>3U41391264641894C</td>\n",
       "      <td>1369482720</td>\n",
       "    </tr>\n",
       "    <tr>\n",
       "      <th>9</th>\n",
       "      <td>10</td>\n",
       "      <td>5.00</td>\n",
       "      <td>66</td>\n",
       "      <td>924</td>\n",
       "      <td>brunetto-angioni@tiscali.it</td>\n",
       "      <td>0L086667KV695845A</td>\n",
       "      <td>1369487839</td>\n",
       "    </tr>\n",
       "  </tbody>\n",
       "</table>\n",
       "</div>"
      ],
      "text/plain": [
       "   ID   paid  plan  user                        email                tid  \\\n",
       "0   1   0.05    80   920         hf.diamond@yahoo.com  75J4505810889372S   \n",
       "1   2   5.00    66   922          opietros3@gmail.com  3SP599764G888202C   \n",
       "2   3  15.00    67   826           AluAir95@gmail.com  6588089194246584A   \n",
       "3   4  15.00    67   907     joannminor9471@yahoo.com  6EL234543D167345L   \n",
       "4   5  25.00    72   931       zach.j.smith@gmail.com  59B19714W7154672B   \n",
       "5   6  30.00    69   880       kleemartin@t-online.de  00H78920PK528422Y   \n",
       "6   7   5.00    66   937          lory-ermejo@live.it  9BW51169NP3184444   \n",
       "7   8  10.00    68   939  andreas_kavouri@hotmail.com  50V7141949681860K   \n",
       "8   9   5.00    66   884           ngoj3000@gmail.com  3U41391264641894C   \n",
       "9  10   5.00    66   924  brunetto-angioni@tiscali.it  0L086667KV695845A   \n",
       "\n",
       "         date  \n",
       "0  1369430055  \n",
       "1  1369431344  \n",
       "2  1369434707  \n",
       "3  1369443250  \n",
       "4  1369450757  \n",
       "5  1369476182  \n",
       "6  1369476375  \n",
       "7  1369481022  \n",
       "8  1369482720  \n",
       "9  1369487839  "
      ]
     },
     "execution_count": 42,
     "metadata": {},
     "output_type": "execute_result"
    }
   ],
   "source": [
    "tablename='payments'\n",
    "\n",
    "pd.read_csv(read_inserted_table(dumpfile, tablename),delimiter=\",\",error_bad_lines=False).head(10)"
   ]
  },
  {
   "cell_type": "markdown",
   "metadata": {},
   "source": [
    "#### Q1: Is this table different from other previous loaded table? YES \n",
    "#### Q2: Is this table similar to any table in the generic Booter database schema? YES \n",
    "    - This table looks like: payments\n",
    "#### Q3: Are there modifications required? \n",
    "    - On the table name: \n",
    "        o \n",
    "    - On the column type: \n",
    "        o date -> timestamp2datetime()\n",
    "    - On the column name:\n",
    "        o ID -> id\n",
    "        o user -> userid\n",
    "        o paid -> amountpaid \n",
    "        o email -> paymentemail \n",
    "        o plan -> planid\n",
    "    - Add required columns:\n",
    "        o username\n",
    "    - Split columns:\n",
    "        o "
   ]
  },
  {
   "cell_type": "markdown",
   "metadata": {},
   "source": [
    "### Modifying table: 'payments'"
   ]
  },
  {
   "cell_type": "code",
   "execution_count": 43,
   "metadata": {
    "collapsed": false
   },
   "outputs": [
    {
     "data": {
      "text/html": [
       "<div>\n",
       "<table border=\"1\" class=\"dataframe\">\n",
       "  <thead>\n",
       "    <tr style=\"text-align: right;\">\n",
       "      <th></th>\n",
       "      <th>id</th>\n",
       "      <th>amountpaid</th>\n",
       "      <th>planid</th>\n",
       "      <th>userid</th>\n",
       "      <th>paymentemail</th>\n",
       "      <th>tid</th>\n",
       "      <th>date</th>\n",
       "      <th>username</th>\n",
       "    </tr>\n",
       "  </thead>\n",
       "  <tbody>\n",
       "    <tr>\n",
       "      <th>0</th>\n",
       "      <td>1</td>\n",
       "      <td>0.05</td>\n",
       "      <td>80</td>\n",
       "      <td>920</td>\n",
       "      <td>hf.diamond@yahoo.com</td>\n",
       "      <td>75J4505810889372S</td>\n",
       "      <td>2013-05-24 21:14:15</td>\n",
       "      <td></td>\n",
       "    </tr>\n",
       "    <tr>\n",
       "      <th>1</th>\n",
       "      <td>2</td>\n",
       "      <td>5.00</td>\n",
       "      <td>66</td>\n",
       "      <td>922</td>\n",
       "      <td>opietros3@gmail.com</td>\n",
       "      <td>3SP599764G888202C</td>\n",
       "      <td>2013-05-24 21:35:44</td>\n",
       "      <td></td>\n",
       "    </tr>\n",
       "    <tr>\n",
       "      <th>2</th>\n",
       "      <td>3</td>\n",
       "      <td>15.00</td>\n",
       "      <td>67</td>\n",
       "      <td>826</td>\n",
       "      <td>AluAir95@gmail.com</td>\n",
       "      <td>6588089194246584A</td>\n",
       "      <td>2013-05-24 22:31:47</td>\n",
       "      <td></td>\n",
       "    </tr>\n",
       "    <tr>\n",
       "      <th>3</th>\n",
       "      <td>4</td>\n",
       "      <td>15.00</td>\n",
       "      <td>67</td>\n",
       "      <td>907</td>\n",
       "      <td>joannminor9471@yahoo.com</td>\n",
       "      <td>6EL234543D167345L</td>\n",
       "      <td>2013-05-25 00:54:10</td>\n",
       "      <td></td>\n",
       "    </tr>\n",
       "    <tr>\n",
       "      <th>4</th>\n",
       "      <td>5</td>\n",
       "      <td>25.00</td>\n",
       "      <td>72</td>\n",
       "      <td>931</td>\n",
       "      <td>zach.j.smith@gmail.com</td>\n",
       "      <td>59B19714W7154672B</td>\n",
       "      <td>2013-05-25 02:59:17</td>\n",
       "      <td></td>\n",
       "    </tr>\n",
       "    <tr>\n",
       "      <th>5</th>\n",
       "      <td>6</td>\n",
       "      <td>30.00</td>\n",
       "      <td>69</td>\n",
       "      <td>880</td>\n",
       "      <td>kleemartin@t-online.de</td>\n",
       "      <td>00H78920PK528422Y</td>\n",
       "      <td>2013-05-25 10:03:02</td>\n",
       "      <td></td>\n",
       "    </tr>\n",
       "    <tr>\n",
       "      <th>6</th>\n",
       "      <td>7</td>\n",
       "      <td>5.00</td>\n",
       "      <td>66</td>\n",
       "      <td>937</td>\n",
       "      <td>lory-ermejo@live.it</td>\n",
       "      <td>9BW51169NP3184444</td>\n",
       "      <td>2013-05-25 10:06:15</td>\n",
       "      <td></td>\n",
       "    </tr>\n",
       "    <tr>\n",
       "      <th>7</th>\n",
       "      <td>8</td>\n",
       "      <td>10.00</td>\n",
       "      <td>68</td>\n",
       "      <td>939</td>\n",
       "      <td>andreas_kavouri@hotmail.com</td>\n",
       "      <td>50V7141949681860K</td>\n",
       "      <td>2013-05-25 11:23:42</td>\n",
       "      <td></td>\n",
       "    </tr>\n",
       "    <tr>\n",
       "      <th>8</th>\n",
       "      <td>9</td>\n",
       "      <td>5.00</td>\n",
       "      <td>66</td>\n",
       "      <td>884</td>\n",
       "      <td>ngoj3000@gmail.com</td>\n",
       "      <td>3U41391264641894C</td>\n",
       "      <td>2013-05-25 11:52:00</td>\n",
       "      <td></td>\n",
       "    </tr>\n",
       "    <tr>\n",
       "      <th>9</th>\n",
       "      <td>10</td>\n",
       "      <td>5.00</td>\n",
       "      <td>66</td>\n",
       "      <td>924</td>\n",
       "      <td>brunetto-angioni@tiscali.it</td>\n",
       "      <td>0L086667KV695845A</td>\n",
       "      <td>2013-05-25 13:17:19</td>\n",
       "      <td></td>\n",
       "    </tr>\n",
       "  </tbody>\n",
       "</table>\n",
       "</div>"
      ],
      "text/plain": [
       "   id  amountpaid  planid  userid                 paymentemail  \\\n",
       "0   1        0.05      80     920         hf.diamond@yahoo.com   \n",
       "1   2        5.00      66     922          opietros3@gmail.com   \n",
       "2   3       15.00      67     826           AluAir95@gmail.com   \n",
       "3   4       15.00      67     907     joannminor9471@yahoo.com   \n",
       "4   5       25.00      72     931       zach.j.smith@gmail.com   \n",
       "5   6       30.00      69     880       kleemartin@t-online.de   \n",
       "6   7        5.00      66     937          lory-ermejo@live.it   \n",
       "7   8       10.00      68     939  andreas_kavouri@hotmail.com   \n",
       "8   9        5.00      66     884           ngoj3000@gmail.com   \n",
       "9  10        5.00      66     924  brunetto-angioni@tiscali.it   \n",
       "\n",
       "                 tid                date username  \n",
       "0  75J4505810889372S 2013-05-24 21:14:15           \n",
       "1  3SP599764G888202C 2013-05-24 21:35:44           \n",
       "2  6588089194246584A 2013-05-24 22:31:47           \n",
       "3  6EL234543D167345L 2013-05-25 00:54:10           \n",
       "4  59B19714W7154672B 2013-05-25 02:59:17           \n",
       "5  00H78920PK528422Y 2013-05-25 10:03:02           \n",
       "6  9BW51169NP3184444 2013-05-25 10:06:15           \n",
       "7  50V7141949681860K 2013-05-25 11:23:42           \n",
       "8  3U41391264641894C 2013-05-25 11:52:00           \n",
       "9  0L086667KV695845A 2013-05-25 13:17:19           "
      ]
     },
     "execution_count": 43,
     "metadata": {},
     "output_type": "execute_result"
    }
   ],
   "source": [
    "# Loading the correct table name\n",
    "df_payments = pd.read_csv(read_inserted_table(dumpfile, tablename),delimiter=\",\",error_bad_lines=False)\n",
    "\n",
    "# Converting columns\n",
    "df_payments['date'] = timestamp2datetime(df_payments['date']) \n",
    "\n",
    "# Changing names of columns\n",
    "df_payments.rename(inplace=True, columns = {'ID':'id',\n",
    "                                           'user':'userid',\n",
    "                                           'paid': 'amountpaid',\n",
    "                                           'email': 'paymentemail',\n",
    "                                           'plan':'planid'})\n",
    "\n",
    "# Creating empty columns (with \"\" [for future string] or np.nan [for future float])\n",
    "df_payments['username']=''\n",
    "\n",
    "\n",
    "# Showing some lines after adapt the table\n",
    "df_payments.head(10)"
   ]
  },
  {
   "cell_type": "markdown",
   "metadata": {},
   "source": [
    "## 6.12. Table: 'tickets'"
   ]
  },
  {
   "cell_type": "markdown",
   "metadata": {},
   "source": [
    "### How this table looks like without modification?"
   ]
  },
  {
   "cell_type": "code",
   "execution_count": 44,
   "metadata": {
    "collapsed": false
   },
   "outputs": [
    {
     "data": {
      "text/html": [
       "<div>\n",
       "<table border=\"1\" class=\"dataframe\">\n",
       "  <thead>\n",
       "    <tr style=\"text-align: right;\">\n",
       "      <th></th>\n",
       "      <th>id</th>\n",
       "      <th>subject</th>\n",
       "      <th>content</th>\n",
       "      <th>status</th>\n",
       "      <th>username</th>\n",
       "    </tr>\n",
       "  </thead>\n",
       "  <tbody>\n",
       "    <tr>\n",
       "      <th>0</th>\n",
       "      <td>1</td>\n",
       "      <td>Test</td>\n",
       "      <td>Test</td>\n",
       "      <td>Closed</td>\n",
       "      <td>Mastery</td>\n",
       "    </tr>\n",
       "    <tr>\n",
       "      <th>1</th>\n",
       "      <td>2</td>\n",
       "      <td>fggg</td>\n",
       "      <td>fg</td>\n",
       "      <td>Closed</td>\n",
       "      <td>Admin</td>\n",
       "    </tr>\n",
       "    <tr>\n",
       "      <th>2</th>\n",
       "      <td>3</td>\n",
       "      <td>Test 2</td>\n",
       "      <td>Testing to see if this works.</td>\n",
       "      <td>Closed</td>\n",
       "      <td>Mastery</td>\n",
       "    </tr>\n",
       "    <tr>\n",
       "      <th>3</th>\n",
       "      <td>4</td>\n",
       "      <td>Steam Resolver</td>\n",
       "      <td>Everytime I use the steam resolver I input the...</td>\n",
       "      <td>Waiting for user response</td>\n",
       "      <td>lm0drevil</td>\n",
       "    </tr>\n",
       "    <tr>\n",
       "      <th>4</th>\n",
       "      <td>5</td>\n",
       "      <td>Doesn\\\\t hit!</td>\n",
       "      <td>Hey bro I am excited about your booter and hav...</td>\n",
       "      <td>Waiting for user response</td>\n",
       "      <td>american</td>\n",
       "    </tr>\n",
       "    <tr>\n",
       "      <th>5</th>\n",
       "      <td>6</td>\n",
       "      <td>IP Logger</td>\n",
       "      <td>Can we make the link for the IP Logger differe...</td>\n",
       "      <td>Waiting for user response</td>\n",
       "      <td>DXColdFusionXD</td>\n",
       "    </tr>\n",
       "    <tr>\n",
       "      <th>6</th>\n",
       "      <td>7</td>\n",
       "      <td>fgfg</td>\n",
       "      <td>Enter your message here!fffff</td>\n",
       "      <td>Closed</td>\n",
       "      <td>Admin</td>\n",
       "    </tr>\n",
       "    <tr>\n",
       "      <th>7</th>\n",
       "      <td>10</td>\n",
       "      <td>900 seconds instead of 3600</td>\n",
       "      <td>Hello\\r\\n\\r\\nI bought the 3600 lifetime packag...</td>\n",
       "      <td>Waiting for user response</td>\n",
       "      <td>domi</td>\n",
       "    </tr>\n",
       "    <tr>\n",
       "      <th>8</th>\n",
       "      <td>14</td>\n",
       "      <td>skype resolver</td>\n",
       "      <td>hello my skype ip resolver has not been workin...</td>\n",
       "      <td>Waiting for user response</td>\n",
       "      <td>gunner3349</td>\n",
       "    </tr>\n",
       "    <tr>\n",
       "      <th>9</th>\n",
       "      <td>15</td>\n",
       "      <td>Hitting Power atm?</td>\n",
       "      <td>Hello my Question are what are the actually hi...</td>\n",
       "      <td>Waiting for user response</td>\n",
       "      <td>Karlo</td>\n",
       "    </tr>\n",
       "  </tbody>\n",
       "</table>\n",
       "</div>"
      ],
      "text/plain": [
       "   id                      subject  \\\n",
       "0   1                         Test   \n",
       "1   2                         fggg   \n",
       "2   3                       Test 2   \n",
       "3   4               Steam Resolver   \n",
       "4   5                Doesn\\\\t hit!   \n",
       "5   6                    IP Logger   \n",
       "6   7                         fgfg   \n",
       "7  10  900 seconds instead of 3600   \n",
       "8  14               skype resolver   \n",
       "9  15           Hitting Power atm?   \n",
       "\n",
       "                                             content  \\\n",
       "0                                               Test   \n",
       "1                                                 fg   \n",
       "2                      Testing to see if this works.   \n",
       "3  Everytime I use the steam resolver I input the...   \n",
       "4  Hey bro I am excited about your booter and hav...   \n",
       "5  Can we make the link for the IP Logger differe...   \n",
       "6                      Enter your message here!fffff   \n",
       "7  Hello\\r\\n\\r\\nI bought the 3600 lifetime packag...   \n",
       "8  hello my skype ip resolver has not been workin...   \n",
       "9  Hello my Question are what are the actually hi...   \n",
       "\n",
       "                      status        username  \n",
       "0                     Closed         Mastery  \n",
       "1                     Closed           Admin  \n",
       "2                     Closed         Mastery  \n",
       "3  Waiting for user response       lm0drevil  \n",
       "4  Waiting for user response        american  \n",
       "5  Waiting for user response  DXColdFusionXD  \n",
       "6                     Closed           Admin  \n",
       "7  Waiting for user response            domi  \n",
       "8  Waiting for user response      gunner3349  \n",
       "9  Waiting for user response           Karlo  "
      ]
     },
     "execution_count": 44,
     "metadata": {},
     "output_type": "execute_result"
    }
   ],
   "source": [
    "tablename='tickets'\n",
    "\n",
    "pd.read_csv(read_inserted_table(dumpfile, tablename),delimiter=\",\",error_bad_lines=False).head(10)"
   ]
  },
  {
   "cell_type": "markdown",
   "metadata": {},
   "source": [
    "#### Q1: Is this table different from other previous loaded table? YES \n",
    "#### Q2: Is this table similar to any table in the generic Booter database schema? NO\n",
    "    - This table looks like: \n",
    "#### Q3: Are there modifications required? \n",
    "    - On the table name: \n",
    "        o \n",
    "    - On the column type: \n",
    "        o \n",
    "    - On the column name:\n",
    "        o \n",
    "    - Add required columns:\n",
    "        o \n",
    "    - Split columns:\n",
    "        o "
   ]
  },
  {
   "cell_type": "markdown",
   "metadata": {},
   "source": [
    "## 6.13. Table: 'users'"
   ]
  },
  {
   "cell_type": "markdown",
   "metadata": {},
   "source": [
    "### How this table looks like without modification?"
   ]
  },
  {
   "cell_type": "code",
   "execution_count": 45,
   "metadata": {
    "collapsed": false
   },
   "outputs": [
    {
     "data": {
      "text/html": [
       "<div>\n",
       "<table border=\"1\" class=\"dataframe\">\n",
       "  <thead>\n",
       "    <tr style=\"text-align: right;\">\n",
       "      <th></th>\n",
       "      <th>ID</th>\n",
       "      <th>username</th>\n",
       "      <th>password</th>\n",
       "      <th>email</th>\n",
       "      <th>rank</th>\n",
       "      <th>membership</th>\n",
       "      <th>expire</th>\n",
       "      <th>status</th>\n",
       "    </tr>\n",
       "  </thead>\n",
       "  <tbody>\n",
       "    <tr>\n",
       "      <th>0</th>\n",
       "      <td>4</td>\n",
       "      <td>Poppe</td>\n",
       "      <td>3f706ce3b63dfcfab8835acfcfee1f0bb5d95ecc</td>\n",
       "      <td>negatr00n@gmail.com</td>\n",
       "      <td>0</td>\n",
       "      <td>57</td>\n",
       "      <td>1364930514</td>\n",
       "      <td>0</td>\n",
       "    </tr>\n",
       "    <tr>\n",
       "      <th>1</th>\n",
       "      <td>5</td>\n",
       "      <td>tec1</td>\n",
       "      <td>1adc8691f8805276baa2b36862d63ea208dcc940</td>\n",
       "      <td>rockwings00@gmail.com</td>\n",
       "      <td>0</td>\n",
       "      <td>71</td>\n",
       "      <td>1526587038</td>\n",
       "      <td>0</td>\n",
       "    </tr>\n",
       "    <tr>\n",
       "      <th>2</th>\n",
       "      <td>6</td>\n",
       "      <td>google</td>\n",
       "      <td>759730a97e4373f3a0ee12805db065e3a4a649a5</td>\n",
       "      <td>googlepops@gmail.com</td>\n",
       "      <td>0</td>\n",
       "      <td>0</td>\n",
       "      <td>0</td>\n",
       "      <td>0</td>\n",
       "    </tr>\n",
       "    <tr>\n",
       "      <th>3</th>\n",
       "      <td>7</td>\n",
       "      <td>Mewtu</td>\n",
       "      <td>24ee40936359b9a1f241ab8d3135149aa53a12b2</td>\n",
       "      <td>jorgegodinho3@gmail.com</td>\n",
       "      <td>0</td>\n",
       "      <td>0</td>\n",
       "      <td>0</td>\n",
       "      <td>0</td>\n",
       "    </tr>\n",
       "    <tr>\n",
       "      <th>4</th>\n",
       "      <td>8</td>\n",
       "      <td>ycie</td>\n",
       "      <td>141248fa91c52a213353d0bba6b7e827e8472ba6</td>\n",
       "      <td>ycie@live.nl</td>\n",
       "      <td>0</td>\n",
       "      <td>73</td>\n",
       "      <td>1524698518</td>\n",
       "      <td>0</td>\n",
       "    </tr>\n",
       "    <tr>\n",
       "      <th>5</th>\n",
       "      <td>9</td>\n",
       "      <td>madhawk</td>\n",
       "      <td>10e6d337c871aab90e191da78a8338addf52ce12</td>\n",
       "      <td>tmkcama@gmail.com</td>\n",
       "      <td>0</td>\n",
       "      <td>0</td>\n",
       "      <td>0</td>\n",
       "      <td>0</td>\n",
       "    </tr>\n",
       "    <tr>\n",
       "      <th>6</th>\n",
       "      <td>127</td>\n",
       "      <td>lukesanchezz</td>\n",
       "      <td>d14b17a9f0dd009b5eee643f1bd2103f7542fa6e</td>\n",
       "      <td>lukee2121@gmail.com</td>\n",
       "      <td>0</td>\n",
       "      <td>0</td>\n",
       "      <td>0</td>\n",
       "      <td>0</td>\n",
       "    </tr>\n",
       "    <tr>\n",
       "      <th>7</th>\n",
       "      <td>11</td>\n",
       "      <td>Help</td>\n",
       "      <td>cf7d73bb6ed704cf1c5d23f3bd537d07a85b95e2</td>\n",
       "      <td>helpscreations@gmail.com</td>\n",
       "      <td>0</td>\n",
       "      <td>61</td>\n",
       "      <td>1520024959</td>\n",
       "      <td>0</td>\n",
       "    </tr>\n",
       "    <tr>\n",
       "      <th>8</th>\n",
       "      <td>12</td>\n",
       "      <td>DarkComet</td>\n",
       "      <td>80718abd1d4604e1d0f68aa116f0dfa0c4a14f36</td>\n",
       "      <td>darkcometderp333@gmail.com</td>\n",
       "      <td>0</td>\n",
       "      <td>0</td>\n",
       "      <td>1364944965</td>\n",
       "      <td>0</td>\n",
       "    </tr>\n",
       "    <tr>\n",
       "      <th>9</th>\n",
       "      <td>13</td>\n",
       "      <td>yahtalksucks</td>\n",
       "      <td>8473d7d363baa4cea898d9c0752ff0fc8ef425cc</td>\n",
       "      <td>phatbeatz___@hotmail.com</td>\n",
       "      <td>0</td>\n",
       "      <td>0</td>\n",
       "      <td>0</td>\n",
       "      <td>0</td>\n",
       "    </tr>\n",
       "  </tbody>\n",
       "</table>\n",
       "</div>"
      ],
      "text/plain": [
       "    ID      username                                  password  \\\n",
       "0    4         Poppe  3f706ce3b63dfcfab8835acfcfee1f0bb5d95ecc   \n",
       "1    5          tec1  1adc8691f8805276baa2b36862d63ea208dcc940   \n",
       "2    6        google  759730a97e4373f3a0ee12805db065e3a4a649a5   \n",
       "3    7         Mewtu  24ee40936359b9a1f241ab8d3135149aa53a12b2   \n",
       "4    8          ycie  141248fa91c52a213353d0bba6b7e827e8472ba6   \n",
       "5    9       madhawk  10e6d337c871aab90e191da78a8338addf52ce12   \n",
       "6  127  lukesanchezz  d14b17a9f0dd009b5eee643f1bd2103f7542fa6e   \n",
       "7   11          Help  cf7d73bb6ed704cf1c5d23f3bd537d07a85b95e2   \n",
       "8   12     DarkComet  80718abd1d4604e1d0f68aa116f0dfa0c4a14f36   \n",
       "9   13  yahtalksucks  8473d7d363baa4cea898d9c0752ff0fc8ef425cc   \n",
       "\n",
       "                        email  rank  membership      expire  status  \n",
       "0         negatr00n@gmail.com     0          57  1364930514       0  \n",
       "1       rockwings00@gmail.com     0          71  1526587038       0  \n",
       "2        googlepops@gmail.com     0           0           0       0  \n",
       "3     jorgegodinho3@gmail.com     0           0           0       0  \n",
       "4                ycie@live.nl     0          73  1524698518       0  \n",
       "5           tmkcama@gmail.com     0           0           0       0  \n",
       "6         lukee2121@gmail.com     0           0           0       0  \n",
       "7    helpscreations@gmail.com     0          61  1520024959       0  \n",
       "8  darkcometderp333@gmail.com     0           0  1364944965       0  \n",
       "9    phatbeatz___@hotmail.com     0           0           0       0  "
      ]
     },
     "execution_count": 45,
     "metadata": {},
     "output_type": "execute_result"
    }
   ],
   "source": [
    "tablename='users'\n",
    "\n",
    "pd.read_csv(read_inserted_table(dumpfile, tablename),delimiter=\",\",error_bad_lines=False).head(10)"
   ]
  },
  {
   "cell_type": "markdown",
   "metadata": {},
   "source": [
    "#### Q1: Is this table different from other previous loaded table? YES \n",
    "#### Q2: Is this table similar to any table in the generic Booter database schema? YES \n",
    "    - This table looks like: users\n",
    "#### Q3: Are there modifications required? \n",
    "    - On the table name: \n",
    "        o \n",
    "    - On the column type: \n",
    "        o expire -> timestamp2datetime()\n",
    "    - On the column name:\n",
    "        o ID -> userid\n",
    "        o email -> useremail \n",
    "        o membership -> planid\n",
    "    - Add required columns:\n",
    "        o \n",
    "    - Split columns:\n",
    "        o "
   ]
  },
  {
   "cell_type": "markdown",
   "metadata": {},
   "source": [
    "### Modifying table: 'users'"
   ]
  },
  {
   "cell_type": "code",
   "execution_count": 46,
   "metadata": {
    "collapsed": false
   },
   "outputs": [
    {
     "data": {
      "text/html": [
       "<div>\n",
       "<table border=\"1\" class=\"dataframe\">\n",
       "  <thead>\n",
       "    <tr style=\"text-align: right;\">\n",
       "      <th></th>\n",
       "      <th>userid</th>\n",
       "      <th>username</th>\n",
       "      <th>password</th>\n",
       "      <th>useremail</th>\n",
       "      <th>rank</th>\n",
       "      <th>planid</th>\n",
       "      <th>expire</th>\n",
       "      <th>status</th>\n",
       "    </tr>\n",
       "  </thead>\n",
       "  <tbody>\n",
       "    <tr>\n",
       "      <th>0</th>\n",
       "      <td>4</td>\n",
       "      <td>Poppe</td>\n",
       "      <td>3f706ce3b63dfcfab8835acfcfee1f0bb5d95ecc</td>\n",
       "      <td>negatr00n@gmail.com</td>\n",
       "      <td>0</td>\n",
       "      <td>57</td>\n",
       "      <td>2013-04-02 19:21:54</td>\n",
       "      <td>0</td>\n",
       "    </tr>\n",
       "    <tr>\n",
       "      <th>1</th>\n",
       "      <td>5</td>\n",
       "      <td>tec1</td>\n",
       "      <td>1adc8691f8805276baa2b36862d63ea208dcc940</td>\n",
       "      <td>rockwings00@gmail.com</td>\n",
       "      <td>0</td>\n",
       "      <td>71</td>\n",
       "      <td>2018-05-17 19:57:18</td>\n",
       "      <td>0</td>\n",
       "    </tr>\n",
       "    <tr>\n",
       "      <th>2</th>\n",
       "      <td>6</td>\n",
       "      <td>google</td>\n",
       "      <td>759730a97e4373f3a0ee12805db065e3a4a649a5</td>\n",
       "      <td>googlepops@gmail.com</td>\n",
       "      <td>0</td>\n",
       "      <td>0</td>\n",
       "      <td>1970-01-01 00:00:00</td>\n",
       "      <td>0</td>\n",
       "    </tr>\n",
       "    <tr>\n",
       "      <th>3</th>\n",
       "      <td>7</td>\n",
       "      <td>Mewtu</td>\n",
       "      <td>24ee40936359b9a1f241ab8d3135149aa53a12b2</td>\n",
       "      <td>jorgegodinho3@gmail.com</td>\n",
       "      <td>0</td>\n",
       "      <td>0</td>\n",
       "      <td>1970-01-01 00:00:00</td>\n",
       "      <td>0</td>\n",
       "    </tr>\n",
       "    <tr>\n",
       "      <th>4</th>\n",
       "      <td>8</td>\n",
       "      <td>ycie</td>\n",
       "      <td>141248fa91c52a213353d0bba6b7e827e8472ba6</td>\n",
       "      <td>ycie@live.nl</td>\n",
       "      <td>0</td>\n",
       "      <td>73</td>\n",
       "      <td>2018-04-25 23:21:58</td>\n",
       "      <td>0</td>\n",
       "    </tr>\n",
       "    <tr>\n",
       "      <th>5</th>\n",
       "      <td>9</td>\n",
       "      <td>madhawk</td>\n",
       "      <td>10e6d337c871aab90e191da78a8338addf52ce12</td>\n",
       "      <td>tmkcama@gmail.com</td>\n",
       "      <td>0</td>\n",
       "      <td>0</td>\n",
       "      <td>1970-01-01 00:00:00</td>\n",
       "      <td>0</td>\n",
       "    </tr>\n",
       "    <tr>\n",
       "      <th>6</th>\n",
       "      <td>127</td>\n",
       "      <td>lukesanchezz</td>\n",
       "      <td>d14b17a9f0dd009b5eee643f1bd2103f7542fa6e</td>\n",
       "      <td>lukee2121@gmail.com</td>\n",
       "      <td>0</td>\n",
       "      <td>0</td>\n",
       "      <td>1970-01-01 00:00:00</td>\n",
       "      <td>0</td>\n",
       "    </tr>\n",
       "    <tr>\n",
       "      <th>7</th>\n",
       "      <td>11</td>\n",
       "      <td>Help</td>\n",
       "      <td>cf7d73bb6ed704cf1c5d23f3bd537d07a85b95e2</td>\n",
       "      <td>helpscreations@gmail.com</td>\n",
       "      <td>0</td>\n",
       "      <td>61</td>\n",
       "      <td>2018-03-02 21:09:19</td>\n",
       "      <td>0</td>\n",
       "    </tr>\n",
       "    <tr>\n",
       "      <th>8</th>\n",
       "      <td>12</td>\n",
       "      <td>DarkComet</td>\n",
       "      <td>80718abd1d4604e1d0f68aa116f0dfa0c4a14f36</td>\n",
       "      <td>darkcometderp333@gmail.com</td>\n",
       "      <td>0</td>\n",
       "      <td>0</td>\n",
       "      <td>2013-04-02 23:22:45</td>\n",
       "      <td>0</td>\n",
       "    </tr>\n",
       "    <tr>\n",
       "      <th>9</th>\n",
       "      <td>13</td>\n",
       "      <td>yahtalksucks</td>\n",
       "      <td>8473d7d363baa4cea898d9c0752ff0fc8ef425cc</td>\n",
       "      <td>phatbeatz___@hotmail.com</td>\n",
       "      <td>0</td>\n",
       "      <td>0</td>\n",
       "      <td>1970-01-01 00:00:00</td>\n",
       "      <td>0</td>\n",
       "    </tr>\n",
       "  </tbody>\n",
       "</table>\n",
       "</div>"
      ],
      "text/plain": [
       "   userid      username                                  password  \\\n",
       "0       4         Poppe  3f706ce3b63dfcfab8835acfcfee1f0bb5d95ecc   \n",
       "1       5          tec1  1adc8691f8805276baa2b36862d63ea208dcc940   \n",
       "2       6        google  759730a97e4373f3a0ee12805db065e3a4a649a5   \n",
       "3       7         Mewtu  24ee40936359b9a1f241ab8d3135149aa53a12b2   \n",
       "4       8          ycie  141248fa91c52a213353d0bba6b7e827e8472ba6   \n",
       "5       9       madhawk  10e6d337c871aab90e191da78a8338addf52ce12   \n",
       "6     127  lukesanchezz  d14b17a9f0dd009b5eee643f1bd2103f7542fa6e   \n",
       "7      11          Help  cf7d73bb6ed704cf1c5d23f3bd537d07a85b95e2   \n",
       "8      12     DarkComet  80718abd1d4604e1d0f68aa116f0dfa0c4a14f36   \n",
       "9      13  yahtalksucks  8473d7d363baa4cea898d9c0752ff0fc8ef425cc   \n",
       "\n",
       "                    useremail  rank  planid              expire  status  \n",
       "0         negatr00n@gmail.com     0      57 2013-04-02 19:21:54       0  \n",
       "1       rockwings00@gmail.com     0      71 2018-05-17 19:57:18       0  \n",
       "2        googlepops@gmail.com     0       0 1970-01-01 00:00:00       0  \n",
       "3     jorgegodinho3@gmail.com     0       0 1970-01-01 00:00:00       0  \n",
       "4                ycie@live.nl     0      73 2018-04-25 23:21:58       0  \n",
       "5           tmkcama@gmail.com     0       0 1970-01-01 00:00:00       0  \n",
       "6         lukee2121@gmail.com     0       0 1970-01-01 00:00:00       0  \n",
       "7    helpscreations@gmail.com     0      61 2018-03-02 21:09:19       0  \n",
       "8  darkcometderp333@gmail.com     0       0 2013-04-02 23:22:45       0  \n",
       "9    phatbeatz___@hotmail.com     0       0 1970-01-01 00:00:00       0  "
      ]
     },
     "execution_count": 46,
     "metadata": {},
     "output_type": "execute_result"
    }
   ],
   "source": [
    "# Loading the correct table name\n",
    "df_users = pd.read_csv(read_inserted_table(dumpfile, tablename),delimiter=\",\",error_bad_lines=False)\n",
    "\n",
    "# Converting columns\n",
    "df_users['expire'] = timestamp2datetime(df_users['expire']) \n",
    "\n",
    "# Changing names of columns\n",
    "df_users.rename(inplace=True, columns = {'ID':'userid',\n",
    "                                           'email':'useremail',\n",
    "                                           'membership': 'planid'})\n",
    "\n",
    "# Creating empty columns (with \"\" [for future string] or np.nan [for future float])\n",
    "\n",
    "# Showing some lines after adapt the table\n",
    "df_users.head(10)"
   ]
  },
  {
   "cell_type": "markdown",
   "metadata": {},
   "source": [
    "<h2 align='center'>======================================================================\n",
    "<br>Final step of the manual part\n",
    "======================================================================</h2>"
   ]
  },
  {
   "cell_type": "markdown",
   "metadata": {},
   "source": [
    "## 7. Adding missing tables accordingly to our generic Booter database "
   ]
  },
  {
   "cell_type": "code",
   "execution_count": 47,
   "metadata": {
    "collapsed": false
   },
   "outputs": [],
   "source": [
    "df_attacks= pd.DataFrame(columns=['id','userid','username','targetip','targeturl','duration','port','type','date'])\n",
    "#df_blacklist=pd.DataFrame(columns=['id','ip','note'])\n",
    "#df_friendsenemies=pd.DataFrame(columns=['id','ip','note','userid','type'])\n",
    "#df_gateways=pd.DataFrame(columns=['email'])\n",
    "#df_logins=pd.DataFrame(columns=['id','userid','username','userip','date'])\n",
    "#df_payments=pd.DataFrame(columns=['id','userid','username','amountpaid','paymentemail','planid','tid','date'])\n",
    "df_plans=pd.DataFrame(columns=['planid','planname','plandescr','price','maxboottime','concurrency'])\n",
    "df_servers=pd.DataFrame(columns=['id','ip'])\n",
    "df_settings=pd.DataFrame(columns=['url','sitename','siteemail'])\n",
    "#df_users=pd.DataFrame(columns=['userid','username','useremail','password','expire','plan'])      \n",
    "df_webshells=pd.DataFrame(columns=['id','url','status','lastchecked','attacktype'])"
   ]
  },
  {
   "cell_type": "markdown",
   "metadata": {},
   "source": [
    "<h1 align=\"center\">\n",
    "!!!!!!!!!!!!!!!!!!!!!!!!!!!!!!!!!!!!!!!!!!!!!!!!!!!!!!!!!!!!!!!!!!!!!!!!!!!!!!!!!!!!!!!!!!!!!!!!!!!!!!!!!!!!!!!!!!!!!!!!!!!!!!!!!!!!!!!!!<br>\n",
    "STEP 2: Data Enrichment<br>\n",
    "!!!!!!!!!!!!!!!!!!!!!!!!!!!!!!!!!!!!!!!!!!!!!!!!!!!!!!!!!!!!!!!!!!!!!!!!!!!!!!!!!!!!!!!!!!!!!!!!!!!!!!!!!!!!!!!!!!!!!!!!!!!!!!!</h1> "
   ]
  },
  {
   "cell_type": "markdown",
   "metadata": {},
   "source": [
    "### * Depending of the size of the data, this part can take HOURS. I tested for both small and big datasets and it worked. Be pacient. This will pay-off!"
   ]
  },
  {
   "cell_type": "markdown",
   "metadata": {},
   "source": [
    "## * Libraries needed to retrieve information from external databases"
   ]
  },
  {
   "cell_type": "code",
   "execution_count": null,
   "metadata": {
    "collapsed": true
   },
   "outputs": [],
   "source": [
    "import subprocess\n",
    "import cfscrape\n",
    "from lxml import etree\n",
    "import os.path\n",
    "import random\n",
    "import time "
   ]
  },
  {
   "cell_type": "markdown",
   "metadata": {},
   "source": [
    "## * Function to enrich IP addresseswith AS information and country "
   ]
  },
  {
   "cell_type": "code",
   "execution_count": null,
   "metadata": {
    "collapsed": false
   },
   "outputs": [],
   "source": [
    "# THANKS TO: team-cymru.org\n",
    "def iptoasn(iplist_teamcymruformat_filelocation,outputfile):\n",
    "    cat = subprocess.Popen(['cat', iplist_teamcymruformat_filelocation], \n",
    "                            stdout=subprocess.PIPE)\n",
    "    \n",
    "    netcat = subprocess.Popen(['netcat', 'whois.cymru.com', '43'],\n",
    "                              stdin=cat.stdout,\n",
    "                              stdout=outputfile)\n",
    "    time.sleep(3) #for some reason the poll does not work! This was the way to overcome the waiting time.\n",
    "    \n",
    "    return netcat.stdout      "
   ]
  },
  {
   "cell_type": "markdown",
   "metadata": {},
   "source": [
    "## * Function to check if an IP address was Tor node in a given moment"
   ]
  },
  {
   "cell_type": "code",
   "execution_count": null,
   "metadata": {
    "collapsed": true
   },
   "outputs": [],
   "source": [
    "# THANKS TO: exonerator.torproject.org\n",
    "def WasTorNode(ip, date ):\n",
    "    url=\"https://exonerator.torproject.org/?ip=\"+ip+\"&timestamp=\"+date\n",
    "    scraper = cfscrape.create_scraper()\n",
    "    scraped_html=scraper.get(url).content    \n",
    "    html_tree = etree.HTML(scraped_html)\n",
    "    result=html_tree.xpath(\"//h3[@class='panel-title']/text()\") # I was looking for <h3 class=\"panel-title\">Result is positive</h3>\n",
    "    tor_node=True if result == ['Result is positive'] else False\n",
    "    return tor_node \n",
    "# 'date' MUST BE formated as: Year-month-day (2016-03-31)"
   ]
  },
  {
   "cell_type": "markdown",
   "metadata": {},
   "source": [
    "## * Discovering the middle date of the database"
   ]
  },
  {
   "cell_type": "code",
   "execution_count": null,
   "metadata": {
    "collapsed": false
   },
   "outputs": [],
   "source": [
    "try:\n",
    "    try:\n",
    "        middle_date=(min(df_attacks['date'])+((max(df_attacks['date'])-min(df_attacks['date']))/2))\n",
    "        raise\n",
    "    except Exception:\n",
    "        pass\n",
    "\n",
    "    try:\n",
    "        middle_date=(min(df_logins['date'])+((max(df_logins['date'])-min(df_logins['date']))/2))\n",
    "        raise\n",
    "    except Exception:\n",
    "        pass\n",
    "\n",
    "    try:\n",
    "        middle_date=(min(df_payments['date'])+((max(df_payments['date'])-min(df_payments['date']))/2))\n",
    "        raise\n",
    "    except:\n",
    "        pass\n",
    "except Exception:\n",
    "    print(\"There is no date in the entire dataset\")\n",
    "\n",
    "date_tor_check = middle_date.strftime('%Y-%m-%d')\n",
    "date_iptoasn_lookup= str(middle_date)\n",
    "print(date_tor_check)"
   ]
  },
  {
   "cell_type": "markdown",
   "metadata": {},
   "source": [
    "## * Preparing to Perform IP to ASN info"
   ]
  },
  {
   "cell_type": "code",
   "execution_count": null,
   "metadata": {
    "collapsed": false
   },
   "outputs": [],
   "source": [
    "df_logins['middledate']=date_iptoasn_lookup\n",
    "df_attacks['middledate']=date_iptoasn_lookup\n",
    "df_friendsenemies['middledate']=date_iptoasn_lookup\n",
    "df_blacklist['middledate']=date_iptoasn_lookup"
   ]
  },
  {
   "cell_type": "markdown",
   "metadata": {},
   "source": [
    "## 2.1.1  Lookup IP to ASN info of table: logins"
   ]
  },
  {
   "cell_type": "code",
   "execution_count": null,
   "metadata": {
    "collapsed": false
   },
   "outputs": [],
   "source": [
    "if (os.path.exists('enrichments/logins_iptoasn_out')== False):\n",
    "    logins_iptoasn_in = open('enrichments/logins_iptoasn_in', 'w+')\n",
    "    logins_iptoasn_in.write('begin\\nverbose\\n')\n",
    "    df_logins[['userip','middledate']].drop_duplicates().to_csv(logins_iptoasn_in,header=False,index=False,sep=\"\\t\") \n",
    "    logins_iptoasn_in.write('end')\n",
    "    logins_iptoasn_in.close()\n",
    "\n",
    "    logins_iptoasn_out = open('logins_iptoasn_out', 'w+')\n",
    "    iptoasn('logins_iptoasn_in',logins_iptoasn_out)\n",
    "    logins_iptoasn_out.close()\n",
    "else:\n",
    "    print(\"You already performed the lookup for this table\")"
   ]
  },
  {
   "cell_type": "code",
   "execution_count": null,
   "metadata": {
    "collapsed": false
   },
   "outputs": [],
   "source": [
    "df_logins_iptoasn = pd.read_csv('enrichments/logins_iptoasn_out',\\\n",
    "                                skiprows=1,\\\n",
    "                             delimiter=\"\\s+\\|\\s\",\\\n",
    "                             names = ['asn', 'ip', 'bgp_prefix', 'country','registry','info_date','info_request','as_name'])\n",
    "\n",
    "df_logins_extended= pd.merge(df_logins,\n",
    "                              df_logins_iptoasn,\n",
    "                              how = 'left',\n",
    "                              left_on = 'userip',\n",
    "                              right_on = 'ip')\n",
    "\n",
    "# Changing name of columns to avoid misunderstandings\n",
    "df_logins_extended.rename(columns={'asn':'srcasn', \n",
    "                                   'ip':'srcip', \n",
    "                                   'bgp_prefix':'srcbgp_prefix', \n",
    "                                   'country':'srccountry' ,\n",
    "                                   'registry':'srcregistry',\n",
    "                                   'info_date':'srcinfo_date',\n",
    "                                   'info_request':'srcinfo_request'},\n",
    "                         inplace=True)\n",
    "\n",
    "\n",
    "df_logins_extended.head(5)"
   ]
  },
  {
   "cell_type": "markdown",
   "metadata": {},
   "source": [
    "## 2.1.2  Lookup IP to ASN info of table: attacks"
   ]
  },
  {
   "cell_type": "code",
   "execution_count": null,
   "metadata": {
    "collapsed": false
   },
   "outputs": [],
   "source": [
    "if (os.path.exists('enrichments/attacks_iptoasn_out')== False):\n",
    "    attacks_iptoasn_in = open('enrichments/attacks_iptoasn_in', 'w+')\n",
    "    attacks_iptoasn_in.write('begin\\nverbose\\n')\n",
    "    df_attacks[['targetip','middledate']].drop_duplicates().to_csv(attacks_iptoasn_in,header=False,index=False,sep=\"\\t\") \n",
    "    attacks_iptoasn_in.write('end')\n",
    "    attacks_iptoasn_in.close()\n",
    "\n",
    "    attacks_iptoasn_out = open('attacks_iptoasn_out', 'w+')\n",
    "    iptoasn('attacks_iptoasn_in',attacks_iptoasn_out)\n",
    "    attacks_iptoasn_out.close()\n",
    "else:\n",
    "    print(\"You already performed the lookup for this table\")"
   ]
  },
  {
   "cell_type": "code",
   "execution_count": null,
   "metadata": {
    "collapsed": false
   },
   "outputs": [],
   "source": [
    "df_attacks_iptoasn = pd.read_csv('enrichments/attacks_iptoasn_out',\\\n",
    "                                skiprows=1,\\\n",
    "                             delimiter=\"\\s+\\|\\s\",\\\n",
    "                             names = ['asn', 'ip', 'bgp_prefix', 'country','registry','info_date','info_request','as_name'])\n",
    "\n",
    "# Merging the iptoasn with the queried column\n",
    "df_attacks_extended= pd.merge(df_attacks,\n",
    "                              df_attacks_iptoasn,\n",
    "                              how = 'left',\n",
    "                              left_on = 'targetip',\n",
    "                              right_on = 'ip')\n",
    "\n",
    "# Changing name of columns to avoid misunderstandings\n",
    "df_attacks_extended.rename(columns={'asn':'targetasn', \n",
    "                                   'ip_y':'targetip', \n",
    "                                   'bgp_prefix':'targetbgp_prefix', \n",
    "                                   'country_y':'targetcountry' ,\n",
    "                                   'registry':'targetregistry',\n",
    "                                   'info_date':'targetinfo_date',\n",
    "                                   'info_request':'targetinfo_request'},\n",
    "                         inplace=True)\n",
    "df_attacks_extended.head(5)"
   ]
  },
  {
   "cell_type": "markdown",
   "metadata": {},
   "source": [
    "## 2.1.3  Lookup IP to ASN info of table: friendsenemies"
   ]
  },
  {
   "cell_type": "code",
   "execution_count": null,
   "metadata": {
    "collapsed": false
   },
   "outputs": [],
   "source": [
    "if (os.path.exists('enrichments/friendsenemies_iptoasn_out')== False):\n",
    "    friendsenemies_iptoasn_in = open('enrichments/friendsenemies_iptoasn_in', 'w+')\n",
    "    friendsenemies_iptoasn_in.write('begin\\nverbose\\n')\n",
    "    df_friendsenemies[['ip','middledate']].drop_duplicates().to_csv(friendsenemies_iptoasn_in,header=False,index=False,sep=\"\\t\") \n",
    "    friendsenemies_iptoasn_in.write('end')\n",
    "    friendsenemies_iptoasn_in.close()\n",
    "\n",
    "    friendsenemies_iptoasn_out = open('friendsenemies_iptoasn_out', 'w+')\n",
    "    iptoasn('friendsenemies_iptoasn_in',friendsenemies_iptoasn_out)\n",
    "    friendsenemies_iptoasn_out.close()\n",
    "else:\n",
    "    print(\"You already performed the lookup for this table.\")"
   ]
  },
  {
   "cell_type": "code",
   "execution_count": null,
   "metadata": {
    "collapsed": false
   },
   "outputs": [],
   "source": [
    "df_friendsenemies_iptoasn = pd.read_csv('enrichments/friendsenemies_iptoasn_out',\\\n",
    "                                skiprows=1,\\\n",
    "                             delimiter=\"\\s+\\|\\s\",\\\n",
    "                             names = ['asn', 'ip', 'bgp_prefix', 'country','registry','info_date','info_request','as_name'])\n",
    "\n",
    "# Merging the iptoasn with the queried column\n",
    "df_friendsenemies_extended= pd.merge(df_friendsenemies,\n",
    "                              df_friendsenemies_iptoasn,\n",
    "                              how = 'left',\n",
    "                              left_on = 'ip',\n",
    "                              right_on = 'ip')\n",
    "\n",
    "# Changing name of columns to avoid misunderstandings\n",
    "df_friendsenemies_extended.rename(columns={'asn':'friendsenemiesasn', \n",
    "                                   'ip':'friendsenemiesip', \n",
    "                                   'bgp_prefix':'friendsenemiesbgp_prefix', \n",
    "                                   'country':'friendsenemiescountry' ,\n",
    "                                   'registry':'friendsenemiesregistry',\n",
    "                                   'info_date':'friendsenemiesinfo_date',\n",
    "                                   'info_request':'friendsenemiesinfo_request',\n",
    "                                   'as_name': 'friendsenemiesas_name'},\n",
    "                         inplace=True)"
   ]
  },
  {
   "cell_type": "markdown",
   "metadata": {},
   "source": [
    "## 2.1.4  Lookup IP to ASN info of table: blacklist"
   ]
  },
  {
   "cell_type": "code",
   "execution_count": null,
   "metadata": {
    "collapsed": false
   },
   "outputs": [],
   "source": [
    "if (os.path.exists('enrichments/blacklist_iptoasn_out')== False):\n",
    "    blacklist_iptoasn_in = open('enrichments/blacklist_iptoasn_in', 'w+')\n",
    "    blacklist_iptoasn_in.write('begin\\nverbose\\n')\n",
    "    df_blacklist[['ip','middledate']].drop_duplicates().to_csv(blacklist_iptoasn_in,header=False,index=False,sep=\"\\t\") \n",
    "    blacklist_iptoasn_in.write('end')\n",
    "    blacklist_iptoasn_in.close()\n",
    "\n",
    "    blacklist_iptoasn_out = open('blacklist_iptoasn_out', 'w+')\n",
    "    iptoasn('blacklist_iptoasn_in',blacklist_iptoasn_out)\n",
    "    blacklist_iptoasn_out.close()\n",
    "else:\n",
    "    print(\"You already performed the lookup for this table.\")"
   ]
  },
  {
   "cell_type": "code",
   "execution_count": null,
   "metadata": {
    "collapsed": false
   },
   "outputs": [],
   "source": [
    "df_blacklist_iptoasn = pd.read_csv('enrichments/blacklist_iptoasn_out',\\\n",
    "                                skiprows=1,\\\n",
    "                             delimiter=\"\\s+\\|\\s\",\\\n",
    "                             names = ['asn', 'ip', 'bgp_prefix', 'country','registry','info_date','info_request','as_name'])\n",
    "\n",
    "# Merging the iptoasn with the queried column\n",
    "df_blacklist_extended= pd.merge(df_blacklist,\n",
    "                              df_blacklist_iptoasn,\n",
    "                              how = 'left',\n",
    "                              left_on = 'ip',\n",
    "                              right_on = 'ip')\n",
    "\n",
    "# Changing name of columns to avoid misunderstandings\n",
    "df_blacklist_extended.rename(columns={'asn':'blacklistasn', \n",
    "                                   'ip':'blacklistip', \n",
    "                                   'bgp_prefix':'blacklistbgp_prefix', \n",
    "                                   'country':'blacklistcountry' ,\n",
    "                                   'registry':'blacklistregistry',\n",
    "                                   'info_date':'blacklistinfo_date',\n",
    "                                   'info_request':'blacklistinfo_request',\n",
    "                                   'as_name': 'blacklistas_name'},\n",
    "                         inplace=True)\n",
    "df_blacklist_extended.head(5)"
   ]
  },
  {
   "cell_type": "markdown",
   "metadata": {},
   "source": [
    "## 2.2.1. Check if IP was a TOR node for table: login"
   ]
  },
  {
   "cell_type": "code",
   "execution_count": null,
   "metadata": {
    "collapsed": false
   },
   "outputs": [],
   "source": [
    "date_tor_check"
   ]
  },
  {
   "cell_type": "code",
   "execution_count": null,
   "metadata": {
    "collapsed": false,
    "scrolled": true
   },
   "outputs": [],
   "source": [
    "if len(df_logins['userip'].unique())<1200:\n",
    "    if (os.path.exists('enrichments/logins_torcheck')== False):\n",
    "        print(\"Note: it can take a while to finish...\")\n",
    "        logins_torcheck = open('logins_torcheck', 'w+')\n",
    "        for i in df_logins['userip'].unique():\n",
    "            wasTor=WasTorNode(i,date_tor_check)\n",
    "            print(i, wasTor, file=logins_torcheck)\n",
    "    #         print(i, wasTor) #DEBUGING =D\n",
    "            time.sleep(random.randint(1,3)) #adding some random sleep time\n",
    "            logins_torcheck.flush()\n",
    "\n",
    "        logins_torcheck.close()\n",
    "    else:\n",
    "        print(\"The IP addresses from this table were already checked.\")\n",
    "else:\n",
    "        print(\"Aborted!!! It will take more than one hour to analyse!\")"
   ]
  },
  {
   "cell_type": "code",
   "execution_count": null,
   "metadata": {
    "collapsed": true
   },
   "outputs": [],
   "source": [
    "df_logins_torcheck = pd.read_csv('enrichments/logins_torcheck',\\\n",
    "                          delimiter=\"\\s+\",\\\n",
    "                          names = ['userip', 'tor'])"
   ]
  },
  {
   "cell_type": "markdown",
   "metadata": {},
   "source": [
    "## 2.2.2. Check if IP was a TOR node for table: attacks"
   ]
  },
  {
   "cell_type": "code",
   "execution_count": null,
   "metadata": {
    "collapsed": false,
    "scrolled": false
   },
   "outputs": [],
   "source": [
    "if len(df_attacks['targetip'].unique())<1200:\n",
    "    if (os.path.exists('enrichments/attacks_torcheck')== False):\n",
    "        print(\"Note: it can take a while to finish...\",len(df_attacks['targetip'].unique())*3,\"seconds (in the worst case).\")\n",
    "\n",
    "        attacks_torcheck = open('attacks_torcheck', 'w+')\n",
    "\n",
    "        for i in df_attacks['targetip'].unique():\n",
    "            wasTor=WasTorNode(i,date_tor_check)\n",
    "            print(i, wasTor, file=attacks_torcheck)\n",
    "            print(i, wasTor) #DEBUGING =D\n",
    "            time.sleep(random.randint(1,3)) #adding some random sleep time\n",
    "            attacks_torcheck.flush()\n",
    "\n",
    "        attacks_torcheck.close()\n",
    "    else:\n",
    "        print(\"The IP addresses from this table were already checked.\") \n",
    "else:\n",
    "        print(\"Aborted!!! It will take more than one hour to analyse!\")"
   ]
  },
  {
   "cell_type": "code",
   "execution_count": null,
   "metadata": {
    "collapsed": true
   },
   "outputs": [],
   "source": [
    "df_attacks_torcheck = pd.read_csv('enrichments/attacks_torcheck',\\\n",
    "                          delimiter=\"\\s+\",\\\n",
    "                          names = ['targetip', 'tor'])"
   ]
  },
  {
   "cell_type": "markdown",
   "metadata": {},
   "source": [
    "## 2.2.3. Check if IP was a TOR node for table: friendsenemies"
   ]
  },
  {
   "cell_type": "code",
   "execution_count": null,
   "metadata": {
    "collapsed": false
   },
   "outputs": [],
   "source": [
    "if len(df_friendsenemies['ip'].unique()) <1200:\n",
    "    if (os.path.exists('enrichments/friendsenemies_torcheck')== False):\n",
    "        print(\"Note: it can take a while to finish...\",len(df_friendsenemies['ip'].unique())*3,\"seconds (in the worst case).\")\n",
    "\n",
    "        friendsenemies_torcheck = open('enrichments/friendsenemies_torcheck', 'w+')\n",
    "\n",
    "        for i in df_friendsenemies['ip'].unique():\n",
    "            wasTor=WasTorNode(i,date_tor_check)\n",
    "            print(i, wasTor, file=friendsenemies_torcheck)\n",
    "        #     print(i, wasTor) #DEBUGING =D\n",
    "            time.sleep(random.randint(1,3)) #adding some random sleep time\n",
    "            friendsenemies_torcheck.flush()\n",
    "\n",
    "        friendsenemies_torcheck.close()\n",
    "    else:\n",
    "        print(\"The IP addresses from this table were already checked.\") \n",
    "else:\n",
    "        print(\"Aborted!!! It will take more than one hour to analyse!\")"
   ]
  },
  {
   "cell_type": "code",
   "execution_count": null,
   "metadata": {
    "collapsed": true
   },
   "outputs": [],
   "source": [
    "df_friendsenemies_torcheck = pd.read_csv('enrichments/friendsenemies_torcheck',\\\n",
    "                          delimiter=\"\\s+\",\\\n",
    "                          names = ['ip', 'tor'])"
   ]
  },
  {
   "cell_type": "markdown",
   "metadata": {},
   "source": [
    "## 2.2.4. Check if IP was a TOR node for table: blacklist"
   ]
  },
  {
   "cell_type": "code",
   "execution_count": null,
   "metadata": {
    "collapsed": false
   },
   "outputs": [],
   "source": [
    "if len(df_blacklist['ip'].unique()) < 1200:\n",
    "    if (os.path.exists('enrichments/blacklist_torcheck')== False):\n",
    "        print(\"Note: it can take a while to finish...\",len(df_blacklist['ip'].unique())*3,\"seconds (in the worst case).\")\n",
    "\n",
    "        blacklist_torcheck = open('enrichments/blacklist_torcheck', 'w+')\n",
    "\n",
    "        for i in df_blacklist['ip'].unique():\n",
    "            wasTor=WasTorNode(i,date_tor_check)\n",
    "            print(i, wasTor, file=blacklist_torcheck)\n",
    "    #         print(i, wasTor) #DEBUGING =D\n",
    "            time.sleep(random.randint(1,3)) #adding some random sleep time\n",
    "            blacklist_torcheck.flush()\n",
    "\n",
    "        blacklist_torcheck.close()\n",
    "    else:\n",
    "        print(\"The IP addresses from this table were already checked.\") \n",
    "else:\n",
    "        print(\"Aborted!!! It will take more than one hour to analyse!\")"
   ]
  },
  {
   "cell_type": "code",
   "execution_count": null,
   "metadata": {
    "collapsed": true
   },
   "outputs": [],
   "source": [
    "df_blacklist_torcheck = pd.read_csv('enrichments/blacklist_torcheck',\\\n",
    "                          delimiter=\"\\s+\",\\\n",
    "                          names = ['ip', 'tor'])"
   ]
  },
  {
   "cell_type": "markdown",
   "metadata": {},
   "source": [
    "## * Relation between Attack dates and Login dates"
   ]
  },
  {
   "cell_type": "code",
   "execution_count": null,
   "metadata": {
    "collapsed": true
   },
   "outputs": [],
   "source": [
    "def nearestDate(base_date, date_list):\n",
    "    nearest={}\n",
    "    for date in date_list:\n",
    "        if (base_date.timestamp() - date.timestamp())>=0:\n",
    "            nearest[base_date.timestamp() - date.timestamp()]= date\n",
    "    return nearest[min(nearest.keys())]"
   ]
  },
  {
   "cell_type": "code",
   "execution_count": null,
   "metadata": {
    "collapsed": false
   },
   "outputs": [],
   "source": [
    "#This is the TOTAL number records to be checks!!!!\n",
    "len(df_attacks)"
   ]
  },
  {
   "cell_type": "code",
   "execution_count": null,
   "metadata": {
    "collapsed": true
   },
   "outputs": [],
   "source": [
    "df_attacks['nearestlogin']=\"\"\n",
    "df_attacks['nearestlogin']=pd.to_datetime(df_attacks['nearestlogin'])\n",
    "    \n",
    "if len(df_attacks)>0 and len(df_logins)>0:\n",
    "    #When was the last login of the user that performed attacks\n",
    "    df_attacks['nearestlogin']=\"\"\n",
    "    df_attacks['nearestlogin']=pd.to_datetime(df_attacks['nearestlogin'])\n",
    "\n",
    "    for index, row in df_attacks.head(100).iterrows():\n",
    "        intermediate_df= df_logins[df_logins['username']==row['username']]\n",
    "        nearestlogindate= nearestDate(row['date'],intermediate_df['date'])\n",
    "        df_attacks.set_value(index, 'nearestlogin', nearestlogindate)\n",
    "\n",
    "        #DEBUGGING\n",
    "        if index % 1000 == 0:\n",
    "            print(index,\": +1000 records analysed\")"
   ]
  },
  {
   "cell_type": "code",
   "execution_count": null,
   "metadata": {
    "collapsed": false
   },
   "outputs": [],
   "source": [
    "if len(df_attacks['nearestlogin'].value_counts()) >1:\n",
    "    df_attacks_and_logins = pd.merge(df_attacks_extended,\n",
    "                                     df_logins_extended,\n",
    "                                     how = 'left',\n",
    "                                     left_on = ['username','nearestlogin'],\n",
    "                                     right_on = ['username','date'])\n",
    "else:\n",
    "    df_attacks_and_logins=\"\""
   ]
  },
  {
   "cell_type": "markdown",
   "metadata": {},
   "source": [
    "<h2 align=\"center\">\n",
    "!!!!!!!!!!!!!!!!!!!!!!!!!!!!!!!!!!!!!!!!!!!!!!!!!!!!!!!!!!!!!!!!!!!!!!!!!!!!!!!!!!!!!!!!!!!!!!!!!!!!!!!!!!!!!!!!!!!!!!!!!!!!!!!!!!!!!!!!!<br>\n",
    "STEP 3: Automatic Analysis\n",
    "<br>\n",
    "!!!!!!!!!!!!!!!!!!!!!!!!!!!!!!!!!!!!!!!!!!!!!!!!!!!!!!!!!!!!!!!!!!!!!!!!!!!!!!!!!!!!!!!!!!!!!!!!!!!!!!!!!!!!!!!!!!!!!!!!!!!!!!!</h3> "
   ]
  },
  {
   "cell_type": "markdown",
   "metadata": {},
   "source": [
    "## * Libraries that I use to plot figs"
   ]
  },
  {
   "cell_type": "code",
   "execution_count": null,
   "metadata": {
    "collapsed": true
   },
   "outputs": [],
   "source": [
    "import matplotlib.pyplot as plt\n",
    "from matplotlib_venn import *\n",
    "%matplotlib inline\n",
    "\n",
    "import seaborn as sns\n",
    "import itertools\n",
    "\n",
    "plt.style.use('seaborn-muted')\n",
    "# plt.rcParams['font.family'] = 'serif'\n",
    "# plt.rcParams['font.size'] = 12\n",
    "\n",
    "import warnings\n",
    "warnings.filterwarnings('ignore')"
   ]
  },
  {
   "cell_type": "markdown",
   "metadata": {},
   "source": [
    "## A.1. Number of records per table (part of the generic Booter database schema)"
   ]
  },
  {
   "cell_type": "code",
   "execution_count": null,
   "metadata": {
    "collapsed": false
   },
   "outputs": [],
   "source": [
    "len(df_users),len(df_logins),len(df_attacks),len(df_payments),len(df_settings),len(df_gateways), len(df_friendsenemies),len(df_blacklist),len(df_webshells),len(df_servers),len(df_plans)"
   ]
  },
  {
   "cell_type": "markdown",
   "metadata": {},
   "source": [
    "## A.2. Number of users, customers, attackers, and their intersection"
   ]
  },
  {
   "cell_type": "code",
   "execution_count": null,
   "metadata": {
    "collapsed": false
   },
   "outputs": [],
   "source": [
    "if len(set(df_users['userid'].unique())) > 1:\n",
    "    users_set=set(df_users['userid'].unique())\n",
    "else:\n",
    "    users_set=set(df_users['username'].unique())\n",
    "    \n",
    "if len(set(df_logins['userid'].unique())) > 1:\n",
    "    userslogin_set=set(df_logins['userid'].unique())\n",
    "else:\n",
    "    userslogin_set=set(df_logins['username'].unique())\n",
    "\n",
    "if len(set(df_payments['userid'].unique())) > 1:\n",
    "    customers_set=set(df_payments['userid'].unique())\n",
    "else:\n",
    "    customers_set=set(df_payments['username'].unique())\n",
    "\n",
    "if len(set(df_attacks['userid'].unique())) > 1:\n",
    "    attackers_set=set(df_attacks['userid'].unique())\n",
    "else:\n",
    "    attackers_set=set(df_attacks['username'].unique())\n",
    "\n",
    "intersec_customers_attacker=pd.Series(list(customers_set.intersection(attackers_set)))\n",
    "intersec_users_customers=pd.Series(list(users_set.intersection(customers_set)))\n",
    "intersec_users_attackers=pd.Series(list(users_set.intersection(attackers_set)))\n",
    "intersec_users_customers_attackers=pd.Series(list(users_set.intersection(customers_set).intersection(attackers_set)))"
   ]
  },
  {
   "cell_type": "code",
   "execution_count": null,
   "metadata": {
    "collapsed": false
   },
   "outputs": [],
   "source": [
    "len(users_set),len(userslogin_set),len(customers_set),len(attackers_set)"
   ]
  },
  {
   "cell_type": "code",
   "execution_count": null,
   "metadata": {
    "collapsed": false
   },
   "outputs": [],
   "source": [
    "fig = plt.figure(figsize=(4,3))\n",
    "fig.suptitle('Users, Customers & Attackers', fontsize=14)\n",
    "\n",
    "ax = plt.subplot2grid((1,1), (0,0))\n",
    "\n",
    "venn=venn3(ax=ax,subsets = {'001':len(attackers_set)-len(intersec_customers_attacker)-len(intersec_users_attackers)+len(intersec_users_customers_attackers), \n",
    "                            '010':len(customers_set)-len(intersec_users_customers)-len(intersec_customers_attacker)+len(intersec_users_customers_attackers), \n",
    "                            '011':len(intersec_customers_attacker)-len(intersec_users_customers_attackers),\n",
    "                            '100':len(users_set)-len(intersec_users_customers)-len(intersec_users_attackers)+len(intersec_users_customers_attackers),\n",
    "                            '101':len(intersec_users_attackers)-len(intersec_users_customers_attackers),\n",
    "                            '110':len(intersec_users_customers)-len(intersec_users_customers_attackers),\n",
    "                            '111':len(intersec_users_customers_attackers)},\\\n",
    "          set_labels = ('Users', 'Customers','Attackers'),\\\n",
    "          alpha=1)\n",
    "try:\n",
    "    venn.get_patch_by_id('100').set_color('#404096')\n",
    "except:\n",
    "    print(\"*Users set is empty!\")  \n",
    "    \n",
    "try:\n",
    "    venn.get_patch_by_id('110').set_color('#DEA73A')\n",
    "except:\n",
    "    print(\"*Customers set is empty!\")   \n",
    "\n",
    "try:\n",
    "    venn.get_patch_by_id('001').set_color('#D92120')\n",
    "except:\n",
    "    print(\"*Attackers set is empty!\")\n",
    "\n",
    "fig.show()\n",
    "# fig.savefig('../figs/timeseries_attacks.eps', format='eps', dpi=1200) "
   ]
  },
  {
   "cell_type": "markdown",
   "metadata": {},
   "source": [
    "## A.3. Distribution of login times per user"
   ]
  },
  {
   "cell_type": "code",
   "execution_count": null,
   "metadata": {
    "collapsed": false
   },
   "outputs": [],
   "source": [
    "if len(df_logins['userid'].value_counts()) > 0:\n",
    "    num_distinct_logins_per_user=df_logins['userid'].value_counts()\n",
    "else:\n",
    "    num_distinct_logins_per_user=df_logins['username'].value_counts()\n",
    "\n",
    "freq_distinct_logins_per_user=num_distinct_logins_per_user.value_counts()\n",
    "cum_dist_user_logins = np.linspace(0.,1.,len(num_distinct_logins_per_user))\n",
    "cdf_user_logins = pd.Series(cum_dist_user_logins, index=num_distinct_logins_per_user.sort_values())"
   ]
  },
  {
   "cell_type": "code",
   "execution_count": null,
   "metadata": {
    "collapsed": false
   },
   "outputs": [],
   "source": [
    "if len(num_distinct_logins_per_user)>0:\n",
    "    fig = plt.figure(figsize=(6, 3))\n",
    "    fig.suptitle('* Distribution of Login Times by Users:', fontsize=14, y=1.05,x=0.35)\n",
    "    \n",
    "    #Plot CDF\n",
    "    ax1 = plt.subplot2grid((1,2), (0,0))\n",
    "    ax1 = cdf_user_logins.plot(ax=ax1,lw=2, drawstyle='steps',legend=False)\n",
    "    ax1.set_xlabel(\"# logins\")\n",
    "    ax1.set_ylabel(\"CDF of Users\")\n",
    "    ax1.set_ylim(0,1.05)\n",
    "    ax1.set_title(\"\")\n",
    "    plt.setp(ax1.xaxis.get_majorticklabels(), rotation=45)\n",
    "\n",
    "    \n",
    "    ax2 = plt.subplot2grid((1,2), (0,1))\n",
    "    freq_distinct_logins_per_user.plot(ax=ax2,kind='pie', \n",
    "                                       labels=None, \n",
    "                                       legend=False,\n",
    "                                       startangle=270,\n",
    "#                                        colors=sns.color_palette()\n",
    "                                       )\n",
    "    ax2.set_ylabel(\"\")\n",
    "    \n",
    "    \n",
    "    \n",
    "    ####\n",
    "    # For Pie Chart Better Legend box\n",
    "    porcent = (100.*freq_distinct_logins_per_user.values)/(freq_distinct_logins_per_user.values.sum())\n",
    "    labels = ['{0} - {1:1.2f} %'.\\\n",
    "              format(i,j) for i,j in zip(freq_distinct_logins_per_user.index, porcent)]\n",
    "    # To Sort Legend (defaulf: keeps the same order)\n",
    "#     patches, labels, dummy =  zip(*sorted(zip(patches, labels, freq_distinct_logins_per_user.values),\n",
    "#                                           key=lambda x: x[2],\n",
    "#                                           reverse=True))\n",
    "    legend_show_top=10\n",
    "    ax2.legend(ax2.patches[0:legend_show_top], \n",
    "               labels[0:legend_show_top], \n",
    "               bbox_to_anchor=(1.5, 1.),\n",
    "               fontsize=10)\n",
    "    ####\n",
    "    \n",
    "    fig.tight_layout()\n",
    "    fig.show()\n",
    "    fig.savefig('figs/login_times.eps', bbox_inches='tight',format='eps', dpi=1200)\n",
    "else:\n",
    "    print(\"Unfortunately, there is no data available!\")\n"
   ]
  },
  {
   "cell_type": "markdown",
   "metadata": {},
   "source": [
    "## 5.3. Number of Users that Login via TOR"
   ]
  },
  {
   "cell_type": "code",
   "execution_count": null,
   "metadata": {
    "collapsed": false
   },
   "outputs": [],
   "source": [
    "len(df_logins_torcheck[df_logins_torcheck['tor']==True]['userip'].value_counts())"
   ]
  },
  {
   "cell_type": "markdown",
   "metadata": {},
   "source": [
    "## 5.4. Number of Distinct IP addresses by Users"
   ]
  },
  {
   "cell_type": "code",
   "execution_count": null,
   "metadata": {
    "collapsed": false
   },
   "outputs": [],
   "source": [
    "if len(df_logins.groupby(['userid','userip']).size().reset_index()['userid'].value_counts()) >0:\n",
    "    num_distinct_ips_per_user=df_logins.groupby(['userid','userip']).size().reset_index()['userid'].value_counts()\n",
    "else:\n",
    "    num_distinct_ips_per_user=df_logins.groupby(['username','userip']).size().reset_index()['username'].value_counts()\n",
    "    \n",
    "freq_distinct_ips_per_user=num_distinct_ips_per_user.value_counts()\n",
    "cum_dist_user_ips = np.linspace(0.,1.,len(num_distinct_ips_per_user))\n",
    "cdf_user_ips = pd.Series(cum_dist_user_ips, index=num_distinct_ips_per_user.sort_values())"
   ]
  },
  {
   "cell_type": "code",
   "execution_count": null,
   "metadata": {
    "collapsed": false
   },
   "outputs": [],
   "source": [
    "if len(num_distinct_ips_per_user)>0:\n",
    "    fig = plt.figure(figsize=(6, 3))\n",
    "    fig.suptitle('* Distribution of Distinct IP address used by Users:', fontsize=14, y=1.05, x=0.4)\n",
    "\n",
    "    ax1 = plt.subplot2grid((1,2), (0,0))\n",
    "    ax1 = cdf_user_ips.plot( ax=ax1,lw=2, drawstyle='steps',legend=False)\n",
    "    ax1.set_xlabel(\"# IPs\")\n",
    "    ax1.set_ylabel(\"CDF of Users\")\n",
    "    ax1.set_ylim(0,1.05)\n",
    "    plt.setp(ax1.xaxis.get_majorticklabels(), rotation=45)\n",
    "    \n",
    "    ax2 = plt.subplot2grid((1,2), (0,1))\n",
    "    freq_distinct_ips_per_user.plot(ax=ax2,kind='pie',\n",
    "                                    labels=None,legend=False,\n",
    "                                       startangle=270,\n",
    "#                                        colors=sns.color_palette()\n",
    "                                       )\n",
    "    ax2.set_ylabel(\"\")\n",
    "    ####\n",
    "    # For Pie Chart Better Legend box\n",
    "    porcent = (100.*freq_distinct_ips_per_user.values)/(freq_distinct_ips_per_user.values.sum())\n",
    "    labels = ['{0} - {1:1.2f} %'.\\\n",
    "              format(i,j) for i,j in zip(freq_distinct_ips_per_user.index, porcent)]\n",
    "    # To Sort Legend (defaulf: keeps the same order)\n",
    "#     patches, labels, dummy =  zip(*sorted(zip(patches, labels, freq_distinct_logins_per_user.values),\n",
    "#                                           key=lambda x: x[2],\n",
    "#                                           reverse=True))\n",
    "    legend_show_top=10\n",
    "    ax2.legend(ax2.patches[0:legend_show_top], \n",
    "               labels[0:legend_show_top], \n",
    "               bbox_to_anchor=(1.5, 1.),\n",
    "               fontsize=10)\n",
    "    ####\n",
    "    \n",
    "    fig.tight_layout()\n",
    "    fig.show()\n",
    "    fig.savefig('figs/num_ips_by_users.eps', bbox_inches='tight',format='eps', dpi=1200)\n",
    "else:\n",
    "    print(\"Unfortunately, there is no data available!\")\n"
   ]
  },
  {
   "cell_type": "markdown",
   "metadata": {},
   "source": [
    "## 5.5. Number of Payments by Users"
   ]
  },
  {
   "cell_type": "code",
   "execution_count": null,
   "metadata": {
    "collapsed": false
   },
   "outputs": [],
   "source": [
    "if len(df_payments['userid'].value_counts())>0:\n",
    "    num_distinct_payments_per_user=df_payments['userid'].value_counts()\n",
    "else:\n",
    "    num_distinct_payments_per_user=df_payments['username'].value_counts()\n",
    "\n",
    "freq_distinct_payments_per_user=num_distinct_payments_per_user.value_counts()\n",
    "cum_dist_user_payments = np.linspace(0.,1.,len(num_distinct_payments_per_user))\n",
    "cdf_user_payments = pd.Series(cum_dist_user_payments, index=num_distinct_payments_per_user.sort_values())"
   ]
  },
  {
   "cell_type": "code",
   "execution_count": null,
   "metadata": {
    "collapsed": false
   },
   "outputs": [],
   "source": [
    "if len(num_distinct_payments_per_user)>0:\n",
    "    fig = plt.figure(figsize=(6, 3))\n",
    "    fig.suptitle('* Distribution of Number of Payments by Users:', fontsize=14, y=1.05, x=0.4)\n",
    "\n",
    "    ax1 = plt.subplot2grid((1,2), (0,0))\n",
    "    ax1 = cdf_user_payments.plot( ax=ax1,lw=2, drawstyle='steps',legend=False)\n",
    "    ax1.set_xlabel(\"# Payment\")\n",
    "    ax1.set_ylabel(\"CDF of Users\")\n",
    "    ax1.set_ylim(0,1.05)\n",
    "    plt.setp(ax1.xaxis.get_majorticklabels(), rotation=45)\n",
    "    \n",
    "    ax2 = plt.subplot2grid((1,2), (0,1))\n",
    "    freq_distinct_payments_per_user.plot(ax=ax2,kind='pie', \n",
    "                                         labels=None,legend=False,\n",
    "                                         startangle=270)\n",
    "    ax2.set_ylabel(\"\")\n",
    "    ####\n",
    "    # For Pie Chart Better Legend box\n",
    "    porcent = (100.*freq_distinct_payments_per_user.values)/(freq_distinct_payments_per_user.values.sum())\n",
    "    labels = ['{0} - {1:1.2f} %'.\\\n",
    "              format(i,j) for i,j in zip(freq_distinct_payments_per_user.index, porcent)]\n",
    "    # To Sort Legend (defaulf: keeps the same order)\n",
    "#     patches, labels, dummy =  zip(*sorted(zip(patches, labels, freq_distinct_logins_per_user.values),\n",
    "#                                           key=lambda x: x[2],\n",
    "#                                           reverse=True))\n",
    "    legend_show_top=10\n",
    "    ax2.legend(ax2.patches[0:legend_show_top], \n",
    "               labels[0:legend_show_top], \n",
    "               bbox_to_anchor=(1.55, 1.),\n",
    "               fontsize=10)\n",
    "    ####\n",
    "    fig.tight_layout()\n",
    "    fig.show()\n",
    "    fig.savefig('figs/payments_distribution.eps', bbox_inches='tight',format='eps', dpi=1200)\n",
    "else:\n",
    "    print(\"Unfortunately, there is no data available!\")\n"
   ]
  },
  {
   "cell_type": "markdown",
   "metadata": {},
   "source": [
    "## 5.6. Total Amount of Money Earned"
   ]
  },
  {
   "cell_type": "code",
   "execution_count": null,
   "metadata": {
    "collapsed": false
   },
   "outputs": [],
   "source": [
    "if len(df_payments['amountpaid']) >0:\n",
    "    total_earned=df_payments['amountpaid'].values.sum()\n",
    "    'US$ {:,.2f}'.format(float(total_earned))\n",
    "else:\n",
    "    print(\"Unfortunately, there is no data available!\")"
   ]
  },
  {
   "cell_type": "markdown",
   "metadata": {},
   "source": [
    "## 5.7. Amount of Money Paid by Users"
   ]
  },
  {
   "cell_type": "code",
   "execution_count": null,
   "metadata": {
    "collapsed": true
   },
   "outputs": [],
   "source": [
    "num_distinct_payments_money_per_user=df_payments['amountpaid'].value_counts()\n",
    "freq_distinct_payments_money_per_user=num_distinct_payments_money_per_user.value_counts()\n",
    "cum_dist_user_payments_money = np.linspace(0.,1.,len(num_distinct_payments_money_per_user))\n",
    "cdf_user_payments_money = pd.Series(cum_dist_user_payments_money, index=num_distinct_payments_money_per_user.sort_values())"
   ]
  },
  {
   "cell_type": "code",
   "execution_count": null,
   "metadata": {
    "collapsed": false
   },
   "outputs": [],
   "source": [
    "if len(num_distinct_payments_money_per_user)>0:\n",
    "    fig = plt.figure(figsize=(6, 3))\n",
    "    fig.suptitle('* Distribution of Money Payments by Users:', fontsize=14, y=1.05, x=0.4)\n",
    "\n",
    "    ax1 = plt.subplot2grid((1,2), (0,0))\n",
    "    ax1 = cdf_user_payments_money.plot( ax=ax1,lw=2, drawstyle='steps',legend=False)\n",
    "    ax1.set_xlabel(\"$\")\n",
    "    ax1.set_ylabel(\"CDF of Users\")\n",
    "    ax1.set_ylim(0,1.05)\n",
    "    plt.setp(ax1.xaxis.get_majorticklabels(), rotation=45)\n",
    "\n",
    "    ax2 = plt.subplot2grid((1,2), (0,1))\n",
    "    freq_distinct_payments_money_per_user.plot(ax=ax2,kind='pie', \n",
    "                                               labels=None,legend=False,\n",
    "                                               startangle=270)\n",
    "    ax2.set_ylabel(\"\")\n",
    "    ####\n",
    "    # For Pie Chart Better Legend box\n",
    "    porcent = (100.*freq_distinct_payments_money_per_user.values)/(freq_distinct_payments_money_per_user.values.sum())\n",
    "    labels = ['${0:1.2f} - {1:1.2f} %'.\\\n",
    "              format(i,j) for i,j in zip(freq_distinct_payments_money_per_user.index, porcent)]\n",
    "    # To Sort Legend (defaulf: keeps the same order)\n",
    "#     patches, labels, dummy =  zip(*sorted(zip(patches, labels, freq_distinct_logins_per_user.values),\n",
    "#                                           key=lambda x: x[2],\n",
    "#                                           reverse=True))\n",
    "    legend_show_top=10\n",
    "    ax2.legend(ax2.patches[0:legend_show_top], \n",
    "               labels[0:legend_show_top], \n",
    "               bbox_to_anchor=(1.6, 1.),\n",
    "               fontsize=10)\n",
    "    ####\n",
    "    fig.tight_layout()\n",
    "    fig.show()\n",
    "    fig.savefig('figs/distribution_amount_paid.eps', bbox_inches='tight',format='eps', dpi=1200)\n",
    "else:\n",
    "    print(\"Unfortunately, there is no data available!\")\n"
   ]
  },
  {
   "cell_type": "markdown",
   "metadata": {
    "collapsed": false
   },
   "source": [
    "## 5.8. Countries from where Users Access Booters"
   ]
  },
  {
   "cell_type": "code",
   "execution_count": null,
   "metadata": {
    "collapsed": true
   },
   "outputs": [],
   "source": [
    "logins_country_distribution_sorted = df_logins_iptoasn['country'].value_counts(sort=True,ascending=True)\n",
    "logins_country_distribution = df_logins_iptoasn['country'].value_counts()"
   ]
  },
  {
   "cell_type": "code",
   "execution_count": null,
   "metadata": {
    "collapsed": false
   },
   "outputs": [],
   "source": [
    "if len(logins_country_distribution)>0:\n",
    "    fig = plt.figure(figsize=(6, 3))\n",
    "    fig.suptitle('* Users Accessing from Countries:', fontsize=14, y=1.05, x=0.28)\n",
    "\n",
    "    ax1 = plt.subplot2grid((1,2), (0,0))\n",
    "    logins_country_distribution_sorted.plot(ax=ax1,kind='barh')\n",
    "    ax1.set_ylabel(\"# access\")\n",
    "    ax1.set_xlabel(\"Country\")\n",
    "    plt.setp(ax1.xaxis.get_majorticklabels(), rotation=45)\n",
    "\n",
    "    ax2 = plt.subplot2grid((1,2), (0,1))\n",
    "    logins_country_distribution.plot(ax=ax2,kind='pie', \n",
    "                                     labels=None,legend=False,\n",
    "                                     startangle=270)\n",
    "    ax2.set_ylabel(\"\")\n",
    "    ####\n",
    "    # For Pie Chart Better Legend box\n",
    "    porcent = (100.*logins_country_distribution.values)/(logins_country_distribution.values.sum())\n",
    "    labels = ['{0} - {1:1.2f} %'.\\\n",
    "              format(i,j) for i,j in zip(logins_country_distribution.index, porcent)]\n",
    "    # To Sort Legend (defaulf: keeps the same order)\n",
    "#     patches, labels, dummy =  zip(*sorted(zip(patches, labels, freq_distinct_logins_per_user.values),\n",
    "#                                           key=lambda x: x[2],\n",
    "#                                           reverse=True))\n",
    "    legend_show_top=10\n",
    "    ax2.legend(ax2.patches[0:legend_show_top], \n",
    "               labels[0:legend_show_top], \n",
    "               bbox_to_anchor=(1.55, 1.),\n",
    "               fontsize=10)\n",
    "    ####\n",
    "    fig.tight_layout()\n",
    "    fig.show()\n",
    "    fig.savefig('figs/user_countries.eps', bbox_inches='tight',format='eps', dpi=1200)\n",
    "else:\n",
    "    print(\"Unfortunately, there is no data available!\")"
   ]
  },
  {
   "cell_type": "markdown",
   "metadata": {},
   "source": [
    "## 5.9. Countries of Blacklisted IPs"
   ]
  },
  {
   "cell_type": "code",
   "execution_count": null,
   "metadata": {
    "collapsed": true
   },
   "outputs": [],
   "source": [
    "blacklist_country_distribution=df_blacklist_iptoasn['country'].value_counts()\n",
    "blacklist_country_distribution_sorted=df_blacklist_iptoasn['country'].value_counts(sort=True,ascending=True)"
   ]
  },
  {
   "cell_type": "code",
   "execution_count": null,
   "metadata": {
    "collapsed": false
   },
   "outputs": [],
   "source": [
    "if len(blacklist_country_distribution)>0:\n",
    "    fig = plt.figure(figsize=(6, 3))\n",
    "    fig.suptitle('* Countries of blacklisted IPs', fontsize=14, y=1.05, x=0.28)\n",
    "\n",
    "    ax1 = plt.subplot2grid((1,2), (0,0))\n",
    "    blacklist_country_distribution_sorted.plot(ax=ax1,kind='barh')\n",
    "    ax1.set_ylabel(\"# Access\")\n",
    "    ax1.set_xlabel(\"Country\")\n",
    "    plt.setp(ax1.xaxis.get_majorticklabels(), rotation=45)\n",
    "\n",
    "    ax2 = plt.subplot2grid((1,2), (0,1))\n",
    "    blacklist_country_distribution.plot(ax=ax2,kind='pie', \n",
    "                                        labels=None,legend=False,\n",
    "                                        startangle=270)\n",
    "    ax2.set_ylabel(\"\")\n",
    "    ####\n",
    "    # For Pie Chart Better Legend box\n",
    "    porcent = (100.*blacklist_country_distribution.values)/(logins_country_distribution.values.sum())\n",
    "    labels = ['{0} - {1:1.2f} %'.\\\n",
    "              format(i,j) for i,j in zip(blacklist_country_distribution.index, porcent)]\n",
    "    # To Sort Legend (defaulf: keeps the same order)\n",
    "#     patches, labels, dummy =  zip(*sorted(zip(patches, labels, freq_distinct_logins_per_user.values),\n",
    "#                                           key=lambda x: x[2],\n",
    "#                                           reverse=True))\n",
    "    legend_show_top=10\n",
    "    ax2.legend(ax2.patches[0:legend_show_top], \n",
    "               labels[0:legend_show_top], \n",
    "               bbox_to_anchor=(1.55, 1.),\n",
    "               fontsize=10)\n",
    "    ####\n",
    "    fig.tight_layout()\n",
    "    fig.show()\n",
    "    fig.savefig('figs/blacklist_countries.eps', bbox_inches='tight',format='eps', dpi=1200)\n",
    "else:\n",
    "    print(\"Unfortunately, there is no data available!\")"
   ]
  },
  {
   "cell_type": "markdown",
   "metadata": {},
   "source": [
    "## 5.10. Countries of Target IPs"
   ]
  },
  {
   "cell_type": "code",
   "execution_count": null,
   "metadata": {
    "collapsed": true
   },
   "outputs": [],
   "source": [
    "attacks_country_distribution=df_attacks_iptoasn['country'].value_counts()"
   ]
  },
  {
   "cell_type": "code",
   "execution_count": null,
   "metadata": {
    "collapsed": false
   },
   "outputs": [],
   "source": [
    "if len(attacks_country_distribution)>0:\n",
    "    fig = plt.figure(figsize=(6, 3))\n",
    "    fig.suptitle('* Countries of target IPs', fontsize=14, y=1.05, x=0.28)\n",
    "\n",
    "    ax1 = plt.subplot2grid((1,2), (0,0))\n",
    "    attacks_country_distribution.plot(ax=ax1,kind='bar')\n",
    "    ax1.set_ylabel(\"# Access\")\n",
    "    ax1.set_xlabel(\"Country\")\n",
    "    plt.setp(ax1.xaxis.get_majorticklabels(), rotation=45)\n",
    "\n",
    "    ax2 = plt.subplot2grid((1,2), (0,1))\n",
    "    attacks_country_distribution.plot(ax=ax2,kind='pie', \n",
    "                                      labels=None,legend=False,\n",
    "                                      startangle=270)\n",
    "    ax2.set_ylabel(\"\")\n",
    "    ####\n",
    "    # For Pie Chart Better Legend box\n",
    "    porcent = (100.*attacks_country_distribution.values)/(attacks_country_distribution.values.sum())\n",
    "    labels = ['{0} - {1:1.2f} %'.\\\n",
    "              format(i,j) for i,j in zip(attacks_country_distribution.index, porcent)]\n",
    "    # To Sort Legend (defaulf: keeps the same order)\n",
    "#     patches, labels, dummy =  zip(*sorted(zip(patches, labels, freq_distinct_logins_per_user.values),\n",
    "#                                           key=lambda x: x[2],\n",
    "#                                           reverse=True))\n",
    "    legend_show_top=10\n",
    "    ax2.legend(ax2.patches[0:legend_show_top], \n",
    "               labels[0:legend_show_top], \n",
    "               bbox_to_anchor=(1.55, 1.),\n",
    "               fontsize=10)\n",
    "    ####\n",
    "    fig.tight_layout()\n",
    "    fig.show()\n",
    "    fig.savefig('figs/attack_countries_distribution.eps',bbox_inches='tight', format='eps', dpi=1200) \n",
    "else:\n",
    "    print(\"Unfortunately, there is no data available!\")"
   ]
  },
  {
   "cell_type": "markdown",
   "metadata": {},
   "source": [
    "## 5.12. Attacks on Same Target"
   ]
  },
  {
   "cell_type": "code",
   "execution_count": null,
   "metadata": {
    "collapsed": true
   },
   "outputs": [],
   "source": [
    "num_attacks_on_sametarget=df_attacks['targetip'].value_counts()\n",
    "\n",
    "freq_num_attacks_on_sametarget=num_attacks_on_sametarget.value_counts()\n",
    "cum_num_attacks_on_sametarget = np.linspace(0.,1.,len(num_attacks_on_sametarget))\n",
    "cdf_num_attacks_on_sametarget = pd.Series(cum_num_attacks_on_sametarget, index=num_attacks_on_sametarget.sort_values())"
   ]
  },
  {
   "cell_type": "code",
   "execution_count": null,
   "metadata": {
    "collapsed": false
   },
   "outputs": [],
   "source": [
    "if len(num_attacks_on_sametarget)>0:\n",
    "    fig = plt.figure(figsize=(6, 3))\n",
    "    fig.suptitle('* Attacks on Same Targets:', fontsize=14, y=1.05,x=0.28)\n",
    "\n",
    "    ax1 = plt.subplot2grid((1,2), (0,0))\n",
    "    ax1 = cdf_num_attacks_on_sametarget.plot( ax=ax1,lw=2, drawstyle='steps',legend=False)\n",
    "    ax1.set_xlabel(\"# IPs\")\n",
    "    ax1.set_ylabel(\"CDF of Users\")\n",
    "    ax1.set_ylim(0,1.05)\n",
    "    plt.setp(ax1.xaxis.get_majorticklabels(), rotation=45)\n",
    "\n",
    "    ax2 = plt.subplot2grid((1,2), (0,1))\n",
    "    freq_num_attacks_on_sametarget.plot(ax=ax2,kind='pie',\n",
    "                                        labels=None,legend=False,\n",
    "                                        startangle=270)\n",
    "    ax2.set_ylabel(\"\")\n",
    "    ####\n",
    "    # For Pie Chart Better Legend box\n",
    "    porcent = (100.*freq_num_attacks_on_sametarget.values)/(freq_num_attacks_on_sametarget.values.sum())\n",
    "    labels = ['{0} - {1:1.2f} %'.\\\n",
    "              format(i,j) for i,j in zip(freq_num_attacks_on_sametarget.index, porcent)]\n",
    "    # To Sort Legend (defaulf: keeps the same order)\n",
    "#     patches, labels, dummy =  zip(*sorted(zip(patches, labels, freq_distinct_logins_per_user.values),\n",
    "#                                           key=lambda x: x[2],\n",
    "#                                           reverse=True))\n",
    "    legend_show_top=10\n",
    "    ax2.legend(ax2.patches[0:legend_show_top], \n",
    "               labels[0:legend_show_top], \n",
    "               bbox_to_anchor=(1.55, 1.),\n",
    "               fontsize=10)\n",
    "    ####\n",
    "    fig.tight_layout()\n",
    "\n",
    "    fig.show()\n",
    "    fig.savefig('figs/attacks_on_same_target.eps', bbox_inches='tight',format='eps', dpi=1200)\n",
    "else:\n",
    "    print(\"Unfortunately, there is no data available!\")"
   ]
  },
  {
   "cell_type": "markdown",
   "metadata": {},
   "source": [
    "## 5.11. Attacks per day (timeseries) "
   ]
  },
  {
   "cell_type": "code",
   "execution_count": null,
   "metadata": {
    "collapsed": false
   },
   "outputs": [],
   "source": [
    "if len(df_attacks)>0:\n",
    "    attack_timeseries=df_attacks.set_index(['date']).groupby(pd.TimeGrouper(freq='D')).agg(['count'])['action']\n",
    "    attack_mean_perday=attack_timeseries.mean()\n",
    "    attack_median_perday=attack_timeseries.median()\n",
    "else:\n",
    "    attack_timeseries=\"\""
   ]
  },
  {
   "cell_type": "code",
   "execution_count": null,
   "metadata": {
    "collapsed": false
   },
   "outputs": [],
   "source": [
    "if len(attack_timeseries)>0:\n",
    "    fig = plt.figure(figsize=(6,3))\n",
    "\n",
    "    ax1 = plt.subplot2grid((1,1), (0,0), rowspan=2)\n",
    "    attack_timeseries.plot(ax=ax1,\n",
    "                           lw=2,\n",
    "                           legend=False,\n",
    "    #                        style='--'\n",
    "                          )\n",
    "\n",
    "    # X and Y Labels and Ticks\n",
    "    ax1.set_xlabel(\"Time (bin=day)\")\n",
    "    ax1.set_ylabel(\"# Attacks\")\n",
    "\n",
    "    ax1.annotate(str(int(attack_median_perday[0]))+' (median)', \n",
    "                 (min(df_attacks['date']), attack_median_perday),\n",
    "                 xytext=(350, -1), \n",
    "                 textcoords='offset points',\n",
    "                 color='black', \n",
    "                 arrowprops=dict(arrowstyle='-|>',\n",
    "                                 color='black'))\n",
    "    fig.savefig('figs/attacks_timeseries.eps', bbox_inches='tight',format='eps', dpi=1200)\n",
    "\n",
    "else:\n",
    "    print(\"Unfortunately, there is no data available!\")"
   ]
  },
  {
   "cell_type": "markdown",
   "metadata": {},
   "source": [
    "## 5.12. Time Between Logins and Attacks"
   ]
  },
  {
   "cell_type": "code",
   "execution_count": null,
   "metadata": {
    "collapsed": false
   },
   "outputs": [],
   "source": [
    "if len(df_attacks_and_logins)>0:\n",
    "    print(\"redo\")\n",
    "else:\n",
    "    print(\"Unfortunately, there is no data available!\")"
   ]
  },
  {
   "cell_type": "markdown",
   "metadata": {},
   "source": [
    "## 5.13. Who attack whom? (users on the country level)"
   ]
  },
  {
   "cell_type": "code",
   "execution_count": null,
   "metadata": {
    "collapsed": false
   },
   "outputs": [],
   "source": [
    "if len(df_attacks_extended)>0 and len(df_logins_extended)>0:\n",
    "    merged_attacks_logins = pd.merge(df_attacks_extended,\n",
    "                                  df_logins_extended,\n",
    "                                  how = 'left',\n",
    "                                  left_on = 'date',\n",
    "                                  right_on = 'date')[['targetcountry','srccountry']]\n",
    "\n",
    "    who_against_whom = merged_attacks_logins.groupby(['targetcountry','srccountry'])\\\n",
    "                            .size()\\\n",
    "                            .reset_index()\\\n",
    "                            .pivot('srccountry','targetcountry',0)\n",
    "else:\n",
    "    who_against_whom =\"\""
   ]
  },
  {
   "cell_type": "code",
   "execution_count": null,
   "metadata": {
    "collapsed": false
   },
   "outputs": [],
   "source": [
    "if len(who_against_whom)>0:\n",
    "    fig = plt.figure(figsize=(8,12))\n",
    "    fig.suptitle('Countries of Target IPs', fontsize=14, y=.92)\n",
    "\n",
    "    ax1 = plt.subplot2grid((1,1), (0,0))\n",
    "    sns.set()\n",
    "    sns.heatmap(who_against_whom,\n",
    "                ax=ax1,\n",
    "#                 cmap=\"YlGnBu\",\n",
    "    #             linewidths=.5,\n",
    "    #             annot=True\n",
    "                )\n",
    "\n",
    "    ax1.set_ylabel(\"Source Country\")\n",
    "    ax1.set_xlabel(\"Attack Target Country\")\n",
    "\n",
    "    fig.show()\n",
    "    fig.savefig('figs/who_attack_whom.eps', bbox_inches='tight',format='eps', dpi=1200)\n",
    "else:\n",
    "    print(\"Unfortunately, there is no data available!\")"
   ]
  },
  {
   "cell_type": "markdown",
   "metadata": {},
   "source": [
    "<h1 align=\"center\">!!!!!!!!!!!!!!!!!!!!!!!!!!!!!!!!!!!!!!!!!!!!!!!!!!!!!!!!!!!!!!!!!!!!!!!!!!!!!!!!!!!!!!!!!!!!!!!!!!!!!!!!!!!!!!!!!!!!!!!!!!!!!!!!!<br>\n",
    "FIFTH PART: Query Interface<br>\n",
    "!!!!!!!!!!!!!!!!!!!!!!!!!!!!!!!!!!!!!!!!!!!!!!!!!!!!!!!!!!!!!!!!!!!!!!!!!!!!!!!!!!!!!!!!!!!!!!!!!!!!!!!!!!!!!!!!!!!!!!!!!!!!!!!</h1> "
   ]
  },
  {
   "cell_type": "code",
   "execution_count": null,
   "metadata": {
    "collapsed": true
   },
   "outputs": [],
   "source": [
    "from ipywidgets import widgets, interact, Dropdown,HTML\n",
    "from IPython.display import display,clear_output"
   ]
  },
  {
   "cell_type": "code",
   "execution_count": null,
   "metadata": {
    "collapsed": false
   },
   "outputs": [],
   "source": [
    "def search_by_userid_submit(sender):\n",
    "    clear_output()\n",
    "    print(\"Searching by id =\",search_by_userid.value)\n",
    "    \n",
    "    if len(df_users[df_users['userid']== int(search_by_userid.value)])>0:\n",
    "        display(df_users[df_logins['userid']== int(search_by_userid.value)])\n",
    "    \n",
    "    if len(df_logins_extended[df_logins_extended['userid']== int(search_by_userid.value)])>0:\n",
    "        display(df_logins_extended[df_logins_extended['userid']== int(search_by_userid.value)])\n",
    "    \n",
    "    if len(df_attacks_extended[df_attacks_extended['userid']== int(search_by_userid.value)])>0:\n",
    "        display(df_attacks_extended[df_attacks_extended['userid']== int(search_by_userid.value)])\n",
    "    \n",
    "    if len(df_payments[df_payments['userid']== int(search_by_userid.value)])>0:\n",
    "        display(df_payments[df_payments['userid']== int(search_by_userid.value)])\n",
    "\n",
    "def search_by_username_submit(sender):\n",
    "    clear_output()\n",
    "    print(\"Searching by username =\",search_by_username.value,\"\\n\")\n",
    "    \n",
    "    if len(df_users[df_users['username']== search_by_username.value])>0:\n",
    "        print(\"Table df_users:\")\n",
    "        display(df_users[df_users['username']== search_by_username.value])\n",
    "    \n",
    "    if len(df_logins_extended[df_logins_extended['username']== search_by_username.value])>0:\n",
    "        print(\"Table df_logins:\")\n",
    "        display(df_logins_extended[df_logins_extended['username']== search_by_username.value])\n",
    "\n",
    "    if len(df_attacks_extended[df_attacks_extended['username']== search_by_username.value])>0:\n",
    "        print(\"Table df_attacks:\")\n",
    "        display(df_attacks_extended[df_attacks_extended['username']== search_by_username.value])\n",
    "    \n",
    "    if len(df_payments[df_payments['username']== search_by_username.value])>0:\n",
    "        print(\"Table df_payments:\")\n",
    "        display(df_payments[df_payments['username']== search_by_username.value])\n",
    "        \n",
    "def search_by_ip_submit(sender):\n",
    "    clear_output()\n",
    "    print(\"Searching by IP address =\",str(search_by_ip.value),\"\\n\")\n",
    "    \n",
    "    if len(df_logins_extended[df_logins_extended['userip']== str(search_by_ip.value)])>0:\n",
    "        print(\"Table df_logins (as ATTACKER:\")\n",
    "        display(df_logins_extended[df_logins_extended['userip']== str(search_by_ip.value)])\n",
    "     \n",
    "    if len(df_attacks_extended[df_attacks_extended['targetip']== str(search_by_ip.value)])>0:\n",
    "        print(\"Table df_attacks (as TARGET):\")\n",
    "        display(df_attacks_extended[df_attacks_extended['targetip']== str(search_by_ip.value)])  \n",
    "      \n",
    "       \n",
    "def search_by_asn_submit(sender):\n",
    "    clear_output()\n",
    "    print(\"Searching by Autonomous System Number (ASN) =\",search_by_asn.value,\"\\n\")\n",
    "    \n",
    "    if len(df_logins_extended[df_logins_extended['srcasn']== int(search_by_asn.value)])>0:\n",
    "        print(\"Table df_logins (as ATTACKER):\")\n",
    "        display(df_logins_extended[df_logins_extended['srcasn']== int(search_by_asn.value)])\n",
    "    \n",
    "    if len(df_attacks_extended[df_attacks_extended['targetasn']== str(search_by_asn.value)])>0:\n",
    "        print(\"Table df_attacks (as TARGET):\")\n",
    "        display(df_attacks_extended[df_attacks_extended['targetasn']== str(search_by_asn.value)])\n",
    "\n",
    "    if len(df_attacks_extended[df_attacks_extended['targetasn']== str(search_by_asn.value)])>0:\n",
    "        print(\"Table df_attacks (as TARGET):\")\n",
    "        display(df_attacks_extended[df_attacks_extended['targetasn']== str(search_by_asn.value)])\n",
    "\n",
    "        \n",
    "country_list=pd.read_csv('https://raw.githubusercontent.com/datasets/country-list/master/data.csv',delimiter=\",\",error_bad_lines=False)\n",
    "def search_by_country_submit():\n",
    "    country_code=country_list[country_list['Name']==search_by_country.value]['Code'].values[0]\n",
    "    clear_output()\n",
    "    print(\"Searching by Country =\",search_by_country.value,\"\\n\")\n",
    "    \n",
    "    if len(df_logins_extended[df_logins_extended['srccountry']== country_code])>0:\n",
    "        print(\"Table df_logins (as ATTACKER):\")\n",
    "        display(df_logins_extended[df_logins_extended['srccountry']== country_code])\n",
    "    \n",
    "    if len(df_attacks_extended[df_attacks_extended['targetcountry']== country_code])>0:\n",
    "        print(\"Table df_attacks (as TARGET):\")\n",
    "        display(df_attacks_extended[df_attacks_extended['targetcountry']== country_code])\n",
    "    "
   ]
  },
  {
   "cell_type": "code",
   "execution_count": null,
   "metadata": {
    "collapsed": false
   },
   "outputs": [],
   "source": [
    "display(HTML('<h3>*Search by (only) one field per time:</h3>'))\n",
    "\n",
    "search_by_username = widgets.Text(description=\"username\")\n",
    "display(search_by_username)\n",
    "search_by_username.on_submit(search_by_username_submit)\n",
    "\n",
    "search_by_userid = widgets.Text(description=\"userid\")\n",
    "display(search_by_userid)\n",
    "search_by_userid.on_submit(search_by_userid_submit)\n",
    "\n",
    "search_by_ip = widgets.Text(description=\"IP\")\n",
    "display(search_by_ip)\n",
    "search_by_ip.on_submit(search_by_ip_submit)\n",
    "\n",
    "search_by_asn = widgets.Text(description=\"ASN\")\n",
    "display(search_by_asn)\n",
    "search_by_asn.on_submit(search_by_asn_submit)\n",
    "\n",
    "search_by_country = Dropdown(description=\"Country\", options=country_list['Name'].tolist())\n",
    "search_by_country.on_trait_change(search_by_country_submit, name=\"value\")\n",
    "display(search_by_country)"
   ]
  },
  {
   "cell_type": "code",
   "execution_count": null,
   "metadata": {
    "collapsed": true
   },
   "outputs": [],
   "source": []
  }
 ],
 "metadata": {
  "kernelspec": {
   "display_name": "Python 3",
   "language": "python",
   "name": "python3"
  },
  "language_info": {
   "codemirror_mode": {
    "name": "ipython",
    "version": 3
   },
   "file_extension": ".py",
   "mimetype": "text/x-python",
   "name": "python",
   "nbconvert_exporter": "python",
   "pygments_lexer": "ipython3",
   "version": "3.5.1"
  },
  "widgets": {
   "state": {},
   "version": "1.1.2"
  }
 },
 "nbformat": 4,
 "nbformat_minor": 0
}
