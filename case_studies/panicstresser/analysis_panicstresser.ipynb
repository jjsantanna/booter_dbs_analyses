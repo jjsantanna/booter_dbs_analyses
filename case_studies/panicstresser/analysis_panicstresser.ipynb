{
 "cells": [
  {
   "cell_type": "markdown",
   "metadata": {},
   "source": [
    "<h1 align=\"center\">\n",
    "!!!!!!!!!!!!!!!!!!!!!!!!!!!!!!!!!!!!!!!!!!!!!!!!!!!!!!!!!!!!!!!!!!!!!!!!!!!!!!!!!!!!!!!!!!!!!!!!!!!!!!!!!!!!!!!!!!!!!!!!!!!!!!!<br>\n",
    "Brief explanation on our Booter database analysis methodology: <br>\n",
    "!!!!!!!!!!!!!!!!!!!!!!!!!!!!!!!!!!!!!!!!!!!!!!!!!!!!!!!!!!!!!!!!!!!!!!!!!!!!!!!!!!!!!!!!!!!!!!!!!!!!!!!!!!!!!!!!!!!!!!!!!!!!!!!</h1> "
   ]
  },
  {
   "cell_type": "markdown",
   "metadata": {},
   "source": [
    "# Analysis of: panicstresser\n",
    "#### File originally retrieved from: http://4lz5rmnkd6f63tmm.onion/db/panicstresser.sql"
   ]
  },
  {
   "cell_type": "markdown",
   "metadata": {},
   "source": [
    "## * Libraries that I use to analyse data"
   ]
  },
  {
   "cell_type": "code",
   "execution_count": 1,
   "metadata": {
    "collapsed": true
   },
   "outputs": [],
   "source": [
    "import pandas as pd\n",
    "import numpy as np\n",
    "\n",
    "from io import StringIO\n",
    "import re\n",
    "\n",
    "from IPython.display import display,clear_output"
   ]
  },
  {
   "cell_type": "markdown",
   "metadata": {},
   "source": [
    "<h1 align=\"center\">\n",
    "!!!!!!!!!!!!!!!!!!!!!!!!!!!!!!!!!!!!!!!!!!!!!!!!!!!!!!!!!!!!!!!!!!!!!!!!!!!!!!!!!!!!!!!!!!!!!!!!!!!!!!!!!!!!!!!!!!!!!!!!!!!!!!!<br>\n",
    "STEP 0: Reading an input Booter database file<br>\n",
    "!!!!!!!!!!!!!!!!!!!!!!!!!!!!!!!!!!!!!!!!!!!!!!!!!!!!!!!!!!!!!!!!!!!!!!!!!!!!!!!!!!!!!!!!!!!!!!!!!!!!!!!!!!!!!!!!!!!!!!!!!!!!!!!</h1> "
   ]
  },
  {
   "cell_type": "code",
   "execution_count": 2,
   "metadata": {
    "collapsed": true
   },
   "outputs": [],
   "source": [
    "dumpfile='panicstresser.sql'"
   ]
  },
  {
   "cell_type": "markdown",
   "metadata": {},
   "source": [
    "<h1 align=\"center\">\n",
    "!!!!!!!!!!!!!!!!!!!!!!!!!!!!!!!!!!!!!!!!!!!!!!!!!!!!!!!!!!!!!!!!!!!!!!!!!!!!!!!!!!!!!!!!!!!!!!!!!!!!!!!!!!!!!!!!!!!!!!!!!!!!!!!!!!!!!!!!!<br>\n",
    "STEP 1: Adaptation to our Booter database schema<br>\n",
    "!!!!!!!!!!!!!!!!!!!!!!!!!!!!!!!!!!!!!!!!!!!!!!!!!!!!!!!!!!!!!!!!!!!!!!!!!!!!!!!!!!!!!!!!!!!!!!!!!!!!!!!!!!!!!!!!!!!!!!!!!!!!!!!</h1> "
   ]
  },
  {
   "cell_type": "markdown",
   "metadata": {},
   "source": [
    "## 1. Reading the first 'N' (100) lines of the input Booter database file"
   ]
  },
  {
   "cell_type": "code",
   "execution_count": 3,
   "metadata": {
    "collapsed": false
   },
   "outputs": [
    {
     "name": "stdout",
     "output_type": "stream",
     "text": [
      "-- phpMyAdmin SQL Dump\n",
      "-- version 3.4.10.1\n",
      "-- http://www.phpmyadmin.net\n",
      "--\n",
      "-- Host: localhost\n",
      "-- Generation Time: Jul 30, 2012 at 01:47 PM\n",
      "-- Server version: 5.5.24\n",
      "-- PHP Version: 5.2.6\n",
      "\n",
      "SET SQL_MODE=\"NO_AUTO_VALUE_ON_ZERO\";\n",
      "SET time_zone = \"+00:00\";\n",
      "\n",
      "\n",
      "/*!40101 SET @OLD_CHARACTER_SET_CLIENT=@@CHARACTER_SET_CLIENT */;\n",
      "/*!40101 SET @OLD_CHARACTER_SET_RESULTS=@@CHARACTER_SET_RESULTS */;\n",
      "/*!40101 SET @OLD_COLLATION_CONNECTION=@@COLLATION_CONNECTION */;\n",
      "/*!40101 SET NAMES utf8 */;\n",
      "\n",
      "--\n",
      "-- Database: `panic_stresser`\n",
      "--\n",
      "\n",
      "-- --------------------------------------------------------\n",
      "\n",
      "--\n",
      "-- Table structure for table `admin-settings`\n",
      "--\n",
      "\n",
      "CREATE TABLE IF NOT EXISTS `admin-settings` (\n",
      "`name` varchar(60) NOT NULL,\n",
      "`value` varchar(300) NOT NULL,\n",
      "UNIQUE KEY `name` (`name`)\n",
      ") ENGINE=MyISAM DEFAULT CHARSET=latin1;\n",
      "\n",
      "--\n",
      "-- Dumping data for table `admin-settings`\n",
      "--\n",
      "\n",
      "INSERT INTO `admin-settings` (`name`, `value`) VALUES\n",
      "('boot_status', 'online'),\n",
      "('cur_url', 'http://panicboot.info/'),\n",
      "('paypal_email', '');\n",
      "\n",
      "-- --------------------------------------------------------\n",
      "\n",
      "--\n",
      "-- Table structure for table `boot-log`\n",
      "--\n",
      "\n",
      "CREATE TABLE IF NOT EXISTS `boot-log` (\n",
      "`id` int(11) NOT NULL AUTO_INCREMENT,\n",
      "`uid` int(11) NOT NULL,\n",
      "`host` varchar(80) NOT NULL,\n",
      "`port` int(11) NOT NULL,\n",
      "`time` int(20) NOT NULL,\n",
      "`date` varchar(16) NOT NULL,\n",
      "PRIMARY KEY (`id`)\n",
      ") ENGINE=MyISAM  DEFAULT CHARSET=latin1 AUTO_INCREMENT=210 ;\n",
      "\n",
      "--\n",
      "-- Dumping data for table `boot-log`\n",
      "--\n",
      "\n",
      "INSERT INTO `boot-log` (`id`, `uid`, `host`, `port`, `time`, `date`) VALUES\n",
      "(1, 195, '71.0.106.215', 3074, 210, '1343616757'),\n",
      "(2, 5, '80.162.234.191', 80, 300, '1343623684'),\n",
      "(3, 5, '80.162.234.191', 80, 300, '1343624045'),\n",
      "(4, 370, '76.108.97.119', 80, 450, '1343625370'),\n",
      "(5, 262, '217.23.10.201', 80, 300, '1343625764'),\n",
      "(6, 262, '131.165.91.30', 80, 300, '1343626141'),\n",
      "(7, 5, '168.144.98.30', 80, 290, '1343626160'),\n",
      "(8, 302, '212.179.42.18', 80, 50, '1343626985'),\n",
      "(9, 1, '174.24.156.177', 3074, 100, '1343629461'),\n",
      "(10, 395, '91.48.183.141', 80, 290, '1343629971'),\n",
      "(11, 395, '91.48.183.141', 80, 300, '1343630341'),\n",
      "(12, 6, '194.105.152.194', 27015, 150, '1343630377'),\n",
      "(13, 2, '89.152.199.127', 80, 180, '1343630560'),\n",
      "(14, 6, '90.231.5.158', 27015, 600, '1343630765'),\n",
      "(15, 2, '89.152.199.127', 80, 180, '1343630978'),\n",
      "(16, 41, '87.179.196.49', 80, 120, '1343631281'),\n",
      "(17, 6, '194.105.152.194', 27015, 500, '1343631374'),\n",
      "(18, 388, '78.146.111.133', 80, 130, '1343631951'),\n",
      "(19, 388, '82.31.136.229', 80, 120, '1343632104'),\n",
      "(20, 370, '76.108.97.119', 80, 450, '1343632803'),\n",
      "(21, 283, '71.30.236.150', 3074, 110, '1343632892'),\n",
      "(22, 283, '96.235.26.184', 3074, 110, '1343633137'),\n",
      "(23, 283, '98.217.175.50', 3074, 110, '1343633284'),\n",
      "(24, 283, '76.26.210.78', 3074, 110, '1343633745'),\n",
      "(25, 262, '87.104.6.84', 80, 300, '1343634342'),\n",
      "(26, 6, '90.231.5.158', 80, 400, '1343634389'),\n",
      "(27, 32, '76.118.213.64', 80, 500, '1343634455'),\n",
      "(28, 283, '24.109.43.212', 3074, 110, '1343635749'),\n",
      "(29, 283, '24.109.46.47', 3074, 110, '1343635864'),\n",
      "(30, 283, '2.220.38.101', 3074, 110, '1343636060'),\n",
      "(31, 283, '65.191.121.232', 3074, 110, '1343636245'),\n",
      "(32, 283, '65.191.125.101', 3074, 110, '1343636405'),\n",
      "(33, 41, '75.39.236.116', 80, 300, '1343636407'),\n",
      "(34, 32, '96.228.167.204', 80, 500, '1343636611'),\n",
      "(35, 262, '173.194.41.98', 80, 300, '1343636803'),\n",
      "(36, 283, '24.228.205.136', 3074, 110, '1343637028'),\n"
     ]
    }
   ],
   "source": [
    "lines_to_read=100\n",
    "\n",
    "with open(dumpfile) as myfile:\n",
    "    firstlines=myfile.readlines()[0:lines_to_read] #put here the interval you want\n",
    "    for x in firstlines:\n",
    "        print(x.strip())"
   ]
  },
  {
   "cell_type": "markdown",
   "metadata": {},
   "source": [
    "## 2. Listing tables that have content inserted into the dump file"
   ]
  },
  {
   "cell_type": "code",
   "execution_count": 4,
   "metadata": {
    "collapsed": true
   },
   "outputs": [],
   "source": [
    "def list_tables_with_insert(dumpfile):\n",
    "    tables = []\n",
    "    with open(dumpfile, 'rb') as f:\n",
    "        for line in f:\n",
    "            line = line.decode(\"utf-8\").strip()\n",
    "            if line.lower().startswith('insert'):\n",
    "                table = re.findall(r'`(.*?)`', line)\n",
    "                tables.append(table[0])\n",
    "    return tables"
   ]
  },
  {
   "cell_type": "code",
   "execution_count": 5,
   "metadata": {
    "collapsed": false
   },
   "outputs": [
    {
     "name": "stdout",
     "output_type": "stream",
     "text": [
      "1 admin-settings\n",
      "2 boot-log\n",
      "3 friend-list\n",
      "4 memberships\n",
      "5 news\n",
      "6 paypal-purchases\n",
      "7 shells\n",
      "8 specialmemberships\n",
      "9 users\n",
      "10 users\n"
     ]
    }
   ],
   "source": [
    "tables=enumerate(list_tables_with_insert(dumpfile))\n",
    "\n",
    "for i, item in tables:\n",
    "    print(i+1,item)"
   ]
  },
  {
   "cell_type": "markdown",
   "metadata": {},
   "source": [
    "## How the list above looks like? "
   ]
  },
  {
   "cell_type": "markdown",
   "metadata": {},
   "source": [
    "<h2 align='center'>======================================================================\n",
    "If NOT well-formed SQL dump file then you must first do the following:\n",
    "======================================================================</h2>"
   ]
  },
  {
   "cell_type": "markdown",
   "metadata": {},
   "source": [
    "## 3. Removing lines that are not part of the actual content to be analysed"
   ]
  },
  {
   "cell_type": "markdown",
   "metadata": {},
   "source": [
    "## 4. Splitting and naming tables and columns"
   ]
  },
  {
   "cell_type": "markdown",
   "metadata": {},
   "source": [
    "<h2 align='center'>======================================================================\n",
    "Additional functions\n",
    "======================================================================</h2>"
   ]
  },
  {
   "cell_type": "markdown",
   "metadata": {},
   "source": [
    "## * Function to read tables from wel-formed SQL database dump"
   ]
  },
  {
   "cell_type": "code",
   "execution_count": 89,
   "metadata": {
    "collapsed": false
   },
   "outputs": [],
   "source": [
    "# For well formed SQL database dumps!\n",
    "def read_inserted_table(dumpfile, target_table):\n",
    "    sio = StringIO()\n",
    "    fast_forward = True\n",
    "    already_header = False\n",
    "    with open(dumpfile, 'rb') as f:\n",
    "        for line in f:\n",
    "            line = line.decode(\"utf-8\").strip()\n",
    "            line = re.sub(\"(?!(([^']*'){2})*[^']*$)\\)\", '',line) #Step0:remove any \")\" from the content of columns\n",
    "            if line.lower().startswith('insert') and target_table in line:\n",
    "                fast_forward = False\n",
    "                if already_header:\n",
    "                    continue\n",
    "            if fast_forward:\n",
    "                continue\n",
    "            \n",
    "            data = re.findall('\\([^\\)]*\\)', line) #Step1: get the content between parentesis (i.e., insert line)\n",
    "            try:\n",
    "                newline = data[0].strip('()') #Step2:remove parenthesis\n",
    "                newline=newline.replace('`','') #Step3: remove ` (usually in table names)\n",
    "                newline=re.sub(r'(?!(([^\\']*\\'){2})*[^\\']*$),','', newline) #Step4: remove commas from the content of columns\n",
    "                newline=newline.replace('\\'','') #Step5: remove single quotes\n",
    "                newline=newline.replace(', ', ',') #Step6: remove single spaces after comma (i.e., in the beginning of a column)\n",
    "                sio.write(newline)\n",
    "                sio.write(\"\\n\")\n",
    "            except IndexError:\n",
    "                pass\n",
    "            if line.endswith(';'):\n",
    "                fast_forward = True\n",
    "                already_header = True\n",
    "    sio.seek(0)\n",
    "    return sio"
   ]
  },
  {
   "cell_type": "markdown",
   "metadata": {},
   "source": [
    "## * Converter functions for formatting content of columns\n",
    "Attention, it is better to perform the conversion based on a series than a string (http://stackoverflow.com/questions/42462906/pandas-read-csv-converters-performance-issue)"
   ]
  },
  {
   "cell_type": "code",
   "execution_count": 90,
   "metadata": {
    "collapsed": true
   },
   "outputs": [],
   "source": [
    "def tolowercase(series):\n",
    "    return series.str.lower()"
   ]
  },
  {
   "cell_type": "code",
   "execution_count": 91,
   "metadata": {
    "collapsed": true
   },
   "outputs": [],
   "source": [
    "def strip_singlequote(series):\n",
    "    return series.str.strip('\\'')"
   ]
  },
  {
   "cell_type": "code",
   "execution_count": 93,
   "metadata": {
    "collapsed": true
   },
   "outputs": [],
   "source": [
    "def timestamp2datetime(series):\n",
    "    return  pd.to_datetime(series,unit='s',errors='coerce')"
   ]
  },
  {
   "cell_type": "code",
   "execution_count": 94,
   "metadata": {
    "collapsed": true
   },
   "outputs": [],
   "source": [
    "def datetimestring2datetime(series):\n",
    "    return  pd.to_datetime(series, format='%d-%m-%Y %H:%M',errors='coerce')  "
   ]
  },
  {
   "cell_type": "code",
   "execution_count": 95,
   "metadata": {
    "collapsed": true
   },
   "outputs": [],
   "source": [
    "def datetimeinvertedstring2datetime(series):\n",
    "    return pd.to_datetime(series, format='%Y-%m-%d %H:%M:%S',errors='coerce')"
   ]
  },
  {
   "cell_type": "code",
   "execution_count": 96,
   "metadata": {
    "collapsed": true
   },
   "outputs": [],
   "source": [
    "def datetimeampm2datetime(series):\n",
    "    return  pd.to_datetime(series,format='%d-%m-%Y %I:%M:%S %p',errors='coerce')"
   ]
  },
  {
   "cell_type": "code",
   "execution_count": 97,
   "metadata": {
    "collapsed": true
   },
   "outputs": [],
   "source": [
    "def datetimemdyampm2datetime(series):\n",
    "    return  pd.to_datetime(series, format='%m-%d-%Y %I:%M:%S %p',errors='coerce') "
   ]
  },
  {
   "cell_type": "code",
   "execution_count": 98,
   "metadata": {
    "collapsed": true
   },
   "outputs": [],
   "source": [
    "def strip_parenthesisandsemicolon(series):\n",
    "    return series.str.strip(');')"
   ]
  },
  {
   "cell_type": "code",
   "execution_count": 99,
   "metadata": {
    "collapsed": true
   },
   "outputs": [],
   "source": [
    "def strip_insertintologs(series):\n",
    "    return int(series.str.strip('INSERT INTO `logs` VALUES ('))"
   ]
  },
  {
   "cell_type": "code",
   "execution_count": 100,
   "metadata": {
    "collapsed": true
   },
   "outputs": [],
   "source": [
    "def strip_tab(series):\n",
    "    return series.str.strip('\\t')"
   ]
  },
  {
   "cell_type": "markdown",
   "metadata": {},
   "source": [
    "<h2 align='center'>======================================================================\n",
    "Adapting EACH existing table\n",
    "======================================================================</h2>"
   ]
  },
  {
   "cell_type": "markdown",
   "metadata": {},
   "source": [
    "## 6.1. Table: 'admin-settings'"
   ]
  },
  {
   "cell_type": "markdown",
   "metadata": {},
   "source": [
    "### How this table looks like without modification?"
   ]
  },
  {
   "cell_type": "code",
   "execution_count": 83,
   "metadata": {
    "collapsed": false
   },
   "outputs": [
    {
     "data": {
      "text/html": [
       "<div>\n",
       "<table border=\"1\" class=\"dataframe\">\n",
       "  <thead>\n",
       "    <tr style=\"text-align: right;\">\n",
       "      <th></th>\n",
       "      <th>name</th>\n",
       "      <th>value</th>\n",
       "    </tr>\n",
       "  </thead>\n",
       "  <tbody>\n",
       "    <tr>\n",
       "      <th>0</th>\n",
       "      <td>boot_status</td>\n",
       "      <td>online</td>\n",
       "    </tr>\n",
       "    <tr>\n",
       "      <th>1</th>\n",
       "      <td>cur_url</td>\n",
       "      <td>http://panicboot.info/</td>\n",
       "    </tr>\n",
       "    <tr>\n",
       "      <th>2</th>\n",
       "      <td>paypal_email</td>\n",
       "      <td>NaN</td>\n",
       "    </tr>\n",
       "  </tbody>\n",
       "</table>\n",
       "</div>"
      ],
      "text/plain": [
       "           name                   value\n",
       "0   boot_status                  online\n",
       "1       cur_url  http://panicboot.info/\n",
       "2  paypal_email                     NaN"
      ]
     },
     "execution_count": 83,
     "metadata": {},
     "output_type": "execute_result"
    }
   ],
   "source": [
    "tablename='admin-settings'\n",
    "\n",
    "pd.read_csv(read_inserted_table(dumpfile,tablename),delimiter=\",\",error_bad_lines=False)"
   ]
  },
  {
   "cell_type": "markdown",
   "metadata": {},
   "source": [
    "#### Q1: Is this table different from other previous loaded table? YES\n",
    "#### Q2: Is this table similar to any table in the generic Booter database schema? YES\n",
    "    - This table looks like: settings\n",
    "    \n",
    "#### Q3: Are there modifications required? \n",
    "    - On the table name: \n",
    "        o admin-settings -> settings\n",
    "    - On the column type/converter: \n",
    "        o \n",
    "    - On the column name:\n",
    "        o value -> url\n",
    "        o name -> sitename\n",
    "    - Split columns:\n",
    "        o \n",
    "    - Add required columns:\n",
    "        o siteemail"
   ]
  },
  {
   "cell_type": "markdown",
   "metadata": {},
   "source": [
    "### Modifying table: 'admin-settings'"
   ]
  },
  {
   "cell_type": "code",
   "execution_count": 84,
   "metadata": {
    "collapsed": false
   },
   "outputs": [
    {
     "data": {
      "text/html": [
       "<div>\n",
       "<table border=\"1\" class=\"dataframe\">\n",
       "  <thead>\n",
       "    <tr style=\"text-align: right;\">\n",
       "      <th></th>\n",
       "      <th>sitename</th>\n",
       "      <th>url</th>\n",
       "      <th>siteemail</th>\n",
       "    </tr>\n",
       "  </thead>\n",
       "  <tbody>\n",
       "    <tr>\n",
       "      <th>0</th>\n",
       "      <td>boot_status</td>\n",
       "      <td>online</td>\n",
       "      <td></td>\n",
       "    </tr>\n",
       "    <tr>\n",
       "      <th>1</th>\n",
       "      <td>cur_url</td>\n",
       "      <td>http://panicboot.info/</td>\n",
       "      <td></td>\n",
       "    </tr>\n",
       "    <tr>\n",
       "      <th>2</th>\n",
       "      <td>paypal_email</td>\n",
       "      <td>NaN</td>\n",
       "      <td></td>\n",
       "    </tr>\n",
       "  </tbody>\n",
       "</table>\n",
       "</div>"
      ],
      "text/plain": [
       "       sitename                     url siteemail\n",
       "0   boot_status                  online          \n",
       "1       cur_url  http://panicboot.info/          \n",
       "2  paypal_email                     NaN          "
      ]
     },
     "execution_count": 84,
     "metadata": {},
     "output_type": "execute_result"
    }
   ],
   "source": [
    "# Loading table with the correct name\n",
    "df_settings = pd.read_csv(read_inserted_table(dumpfile, tablename),delimiter=\",\", error_bad_lines=False)\n",
    "                        \n",
    "# Applying converters on the columns of the table\n",
    "\n",
    "# Changing names of columns\n",
    "df_settings.rename(inplace=True,columns = {'value': 'url',\n",
    "                                          'name':'sitename'})\n",
    "\n",
    "# Creating empty columns (with \"\" [for future string] or np.nan [for future float])\n",
    "df_settings['siteemail'] = ''\n",
    "\n",
    "# Showing some lines after adapt the table\n",
    "df_settings.head(10)"
   ]
  },
  {
   "cell_type": "markdown",
   "metadata": {},
   "source": [
    "## 6.2. Table: 'boot-log'"
   ]
  },
  {
   "cell_type": "markdown",
   "metadata": {},
   "source": [
    "### How this table looks like without modification?"
   ]
  },
  {
   "cell_type": "code",
   "execution_count": 85,
   "metadata": {
    "collapsed": false
   },
   "outputs": [
    {
     "data": {
      "text/html": [
       "<div>\n",
       "<table border=\"1\" class=\"dataframe\">\n",
       "  <thead>\n",
       "    <tr style=\"text-align: right;\">\n",
       "      <th></th>\n",
       "      <th>id</th>\n",
       "      <th>uid</th>\n",
       "      <th>host</th>\n",
       "      <th>port</th>\n",
       "      <th>time</th>\n",
       "      <th>date</th>\n",
       "    </tr>\n",
       "  </thead>\n",
       "  <tbody>\n",
       "    <tr>\n",
       "      <th>0</th>\n",
       "      <td>1</td>\n",
       "      <td>195</td>\n",
       "      <td>71.0.106.215</td>\n",
       "      <td>3074</td>\n",
       "      <td>210</td>\n",
       "      <td>1343616757</td>\n",
       "    </tr>\n",
       "    <tr>\n",
       "      <th>1</th>\n",
       "      <td>2</td>\n",
       "      <td>5</td>\n",
       "      <td>80.162.234.191</td>\n",
       "      <td>80</td>\n",
       "      <td>300</td>\n",
       "      <td>1343623684</td>\n",
       "    </tr>\n",
       "    <tr>\n",
       "      <th>2</th>\n",
       "      <td>3</td>\n",
       "      <td>5</td>\n",
       "      <td>80.162.234.191</td>\n",
       "      <td>80</td>\n",
       "      <td>300</td>\n",
       "      <td>1343624045</td>\n",
       "    </tr>\n",
       "    <tr>\n",
       "      <th>3</th>\n",
       "      <td>4</td>\n",
       "      <td>370</td>\n",
       "      <td>76.108.97.119</td>\n",
       "      <td>80</td>\n",
       "      <td>450</td>\n",
       "      <td>1343625370</td>\n",
       "    </tr>\n",
       "    <tr>\n",
       "      <th>4</th>\n",
       "      <td>5</td>\n",
       "      <td>262</td>\n",
       "      <td>217.23.10.201</td>\n",
       "      <td>80</td>\n",
       "      <td>300</td>\n",
       "      <td>1343625764</td>\n",
       "    </tr>\n",
       "    <tr>\n",
       "      <th>5</th>\n",
       "      <td>6</td>\n",
       "      <td>262</td>\n",
       "      <td>131.165.91.30</td>\n",
       "      <td>80</td>\n",
       "      <td>300</td>\n",
       "      <td>1343626141</td>\n",
       "    </tr>\n",
       "    <tr>\n",
       "      <th>6</th>\n",
       "      <td>7</td>\n",
       "      <td>5</td>\n",
       "      <td>168.144.98.30</td>\n",
       "      <td>80</td>\n",
       "      <td>290</td>\n",
       "      <td>1343626160</td>\n",
       "    </tr>\n",
       "    <tr>\n",
       "      <th>7</th>\n",
       "      <td>8</td>\n",
       "      <td>302</td>\n",
       "      <td>212.179.42.18</td>\n",
       "      <td>80</td>\n",
       "      <td>50</td>\n",
       "      <td>1343626985</td>\n",
       "    </tr>\n",
       "    <tr>\n",
       "      <th>8</th>\n",
       "      <td>9</td>\n",
       "      <td>1</td>\n",
       "      <td>174.24.156.177</td>\n",
       "      <td>3074</td>\n",
       "      <td>100</td>\n",
       "      <td>1343629461</td>\n",
       "    </tr>\n",
       "    <tr>\n",
       "      <th>9</th>\n",
       "      <td>10</td>\n",
       "      <td>395</td>\n",
       "      <td>91.48.183.141</td>\n",
       "      <td>80</td>\n",
       "      <td>290</td>\n",
       "      <td>1343629971</td>\n",
       "    </tr>\n",
       "  </tbody>\n",
       "</table>\n",
       "</div>"
      ],
      "text/plain": [
       "   id  uid            host  port  time        date\n",
       "0   1  195    71.0.106.215  3074   210  1343616757\n",
       "1   2    5  80.162.234.191    80   300  1343623684\n",
       "2   3    5  80.162.234.191    80   300  1343624045\n",
       "3   4  370   76.108.97.119    80   450  1343625370\n",
       "4   5  262   217.23.10.201    80   300  1343625764\n",
       "5   6  262   131.165.91.30    80   300  1343626141\n",
       "6   7    5   168.144.98.30    80   290  1343626160\n",
       "7   8  302   212.179.42.18    80    50  1343626985\n",
       "8   9    1  174.24.156.177  3074   100  1343629461\n",
       "9  10  395   91.48.183.141    80   290  1343629971"
      ]
     },
     "execution_count": 85,
     "metadata": {},
     "output_type": "execute_result"
    }
   ],
   "source": [
    "tablename='boot-log'\n",
    "\n",
    "pd.read_csv(read_inserted_table(dumpfile, tablename),delimiter=\",\",error_bad_lines=False).head(10)"
   ]
  },
  {
   "cell_type": "markdown",
   "metadata": {},
   "source": [
    "#### Q1: Is this table different from other previous loaded table? YES\n",
    "#### Q2: Is this table similar to any table in the generic Booter database schema? YES \n",
    "    - This table looks like: attacks\n",
    "    \n",
    "#### Q3: Are there modifications required? \n",
    "    - On the table name: \n",
    "        o boot-log -> attacks\n",
    "    - On the column type/converter: \n",
    "        o date -> timestamp2datetime()\n",
    "    - On the column name:\n",
    "        o uid -> userid\n",
    "        o host -> targetip\n",
    "        o time -> duration\n",
    "\n",
    "    - Split columns:\n",
    "        o \n",
    "    - Add required columns:\n",
    "        o username\n",
    "        o targeturl\n",
    "        o type"
   ]
  },
  {
   "cell_type": "markdown",
   "metadata": {},
   "source": [
    "### Modifying table: 'boot-log'"
   ]
  },
  {
   "cell_type": "code",
   "execution_count": 101,
   "metadata": {
    "collapsed": false
   },
   "outputs": [
    {
     "data": {
      "text/html": [
       "<div>\n",
       "<table border=\"1\" class=\"dataframe\">\n",
       "  <thead>\n",
       "    <tr style=\"text-align: right;\">\n",
       "      <th></th>\n",
       "      <th>id</th>\n",
       "      <th>userid</th>\n",
       "      <th>targetip</th>\n",
       "      <th>port</th>\n",
       "      <th>duration</th>\n",
       "      <th>date</th>\n",
       "      <th>username</th>\n",
       "      <th>targeturl</th>\n",
       "      <th>type</th>\n",
       "    </tr>\n",
       "  </thead>\n",
       "  <tbody>\n",
       "    <tr>\n",
       "      <th>0</th>\n",
       "      <td>1</td>\n",
       "      <td>195</td>\n",
       "      <td>71.0.106.215</td>\n",
       "      <td>3074</td>\n",
       "      <td>210</td>\n",
       "      <td>2012-07-30 02:52:37</td>\n",
       "      <td></td>\n",
       "      <td></td>\n",
       "      <td></td>\n",
       "    </tr>\n",
       "    <tr>\n",
       "      <th>1</th>\n",
       "      <td>2</td>\n",
       "      <td>5</td>\n",
       "      <td>80.162.234.191</td>\n",
       "      <td>80</td>\n",
       "      <td>300</td>\n",
       "      <td>2012-07-30 04:48:04</td>\n",
       "      <td></td>\n",
       "      <td></td>\n",
       "      <td></td>\n",
       "    </tr>\n",
       "    <tr>\n",
       "      <th>2</th>\n",
       "      <td>3</td>\n",
       "      <td>5</td>\n",
       "      <td>80.162.234.191</td>\n",
       "      <td>80</td>\n",
       "      <td>300</td>\n",
       "      <td>2012-07-30 04:54:05</td>\n",
       "      <td></td>\n",
       "      <td></td>\n",
       "      <td></td>\n",
       "    </tr>\n",
       "    <tr>\n",
       "      <th>3</th>\n",
       "      <td>4</td>\n",
       "      <td>370</td>\n",
       "      <td>76.108.97.119</td>\n",
       "      <td>80</td>\n",
       "      <td>450</td>\n",
       "      <td>2012-07-30 05:16:10</td>\n",
       "      <td></td>\n",
       "      <td></td>\n",
       "      <td></td>\n",
       "    </tr>\n",
       "    <tr>\n",
       "      <th>4</th>\n",
       "      <td>5</td>\n",
       "      <td>262</td>\n",
       "      <td>217.23.10.201</td>\n",
       "      <td>80</td>\n",
       "      <td>300</td>\n",
       "      <td>2012-07-30 05:22:44</td>\n",
       "      <td></td>\n",
       "      <td></td>\n",
       "      <td></td>\n",
       "    </tr>\n",
       "    <tr>\n",
       "      <th>5</th>\n",
       "      <td>6</td>\n",
       "      <td>262</td>\n",
       "      <td>131.165.91.30</td>\n",
       "      <td>80</td>\n",
       "      <td>300</td>\n",
       "      <td>2012-07-30 05:29:01</td>\n",
       "      <td></td>\n",
       "      <td></td>\n",
       "      <td></td>\n",
       "    </tr>\n",
       "    <tr>\n",
       "      <th>6</th>\n",
       "      <td>7</td>\n",
       "      <td>5</td>\n",
       "      <td>168.144.98.30</td>\n",
       "      <td>80</td>\n",
       "      <td>290</td>\n",
       "      <td>2012-07-30 05:29:20</td>\n",
       "      <td></td>\n",
       "      <td></td>\n",
       "      <td></td>\n",
       "    </tr>\n",
       "    <tr>\n",
       "      <th>7</th>\n",
       "      <td>8</td>\n",
       "      <td>302</td>\n",
       "      <td>212.179.42.18</td>\n",
       "      <td>80</td>\n",
       "      <td>50</td>\n",
       "      <td>2012-07-30 05:43:05</td>\n",
       "      <td></td>\n",
       "      <td></td>\n",
       "      <td></td>\n",
       "    </tr>\n",
       "    <tr>\n",
       "      <th>8</th>\n",
       "      <td>9</td>\n",
       "      <td>1</td>\n",
       "      <td>174.24.156.177</td>\n",
       "      <td>3074</td>\n",
       "      <td>100</td>\n",
       "      <td>2012-07-30 06:24:21</td>\n",
       "      <td></td>\n",
       "      <td></td>\n",
       "      <td></td>\n",
       "    </tr>\n",
       "    <tr>\n",
       "      <th>9</th>\n",
       "      <td>10</td>\n",
       "      <td>395</td>\n",
       "      <td>91.48.183.141</td>\n",
       "      <td>80</td>\n",
       "      <td>290</td>\n",
       "      <td>2012-07-30 06:32:51</td>\n",
       "      <td></td>\n",
       "      <td></td>\n",
       "      <td></td>\n",
       "    </tr>\n",
       "  </tbody>\n",
       "</table>\n",
       "</div>"
      ],
      "text/plain": [
       "   id  userid        targetip  port  duration                date username  \\\n",
       "0   1     195    71.0.106.215  3074       210 2012-07-30 02:52:37            \n",
       "1   2       5  80.162.234.191    80       300 2012-07-30 04:48:04            \n",
       "2   3       5  80.162.234.191    80       300 2012-07-30 04:54:05            \n",
       "3   4     370   76.108.97.119    80       450 2012-07-30 05:16:10            \n",
       "4   5     262   217.23.10.201    80       300 2012-07-30 05:22:44            \n",
       "5   6     262   131.165.91.30    80       300 2012-07-30 05:29:01            \n",
       "6   7       5   168.144.98.30    80       290 2012-07-30 05:29:20            \n",
       "7   8     302   212.179.42.18    80        50 2012-07-30 05:43:05            \n",
       "8   9       1  174.24.156.177  3074       100 2012-07-30 06:24:21            \n",
       "9  10     395   91.48.183.141    80       290 2012-07-30 06:32:51            \n",
       "\n",
       "  targeturl type  \n",
       "0                 \n",
       "1                 \n",
       "2                 \n",
       "3                 \n",
       "4                 \n",
       "5                 \n",
       "6                 \n",
       "7                 \n",
       "8                 \n",
       "9                 "
      ]
     },
     "execution_count": 101,
     "metadata": {},
     "output_type": "execute_result"
    }
   ],
   "source": [
    "# Loading the column converting columns with predefined functions\n",
    "df_attacks = pd.read_csv(read_inserted_table(dumpfile, tablename),delimiter=\",\",error_bad_lines=False)\n",
    "\n",
    "# Converters                                     \n",
    "df_attacks['date']=timestamp2datetime(df_attacks['date'])\n",
    "\n",
    "# Changing names of columns\n",
    "df_attacks.rename(inplace=True,columns = {'uid': 'userid',\n",
    "                                         'host': 'targetip',\n",
    "                                         'time': 'duration'})\n",
    "\n",
    "# Creating empty columns (with \"\" [for future string] or np.nan [for future float])\n",
    "df_attacks['username'] = ''\n",
    "df_attacks['targeturl'] = ''\n",
    "df_attacks['type'] = ''\n",
    "\n",
    "# Showing some lines after adapt the table\n",
    "df_attacks.head(10)"
   ]
  },
  {
   "cell_type": "markdown",
   "metadata": {},
   "source": [
    "## 6.3. Table: 'friend-list'"
   ]
  },
  {
   "cell_type": "markdown",
   "metadata": {},
   "source": [
    "### How this table looks like without modification?"
   ]
  },
  {
   "cell_type": "code",
   "execution_count": 103,
   "metadata": {
    "collapsed": false
   },
   "outputs": [
    {
     "data": {
      "text/html": [
       "<div>\n",
       "<table border=\"1\" class=\"dataframe\">\n",
       "  <thead>\n",
       "    <tr style=\"text-align: right;\">\n",
       "      <th></th>\n",
       "      <th>id</th>\n",
       "      <th>uid</th>\n",
       "      <th>host</th>\n",
       "      <th>name</th>\n",
       "    </tr>\n",
       "  </thead>\n",
       "  <tbody>\n",
       "    <tr>\n",
       "      <th>0</th>\n",
       "      <td>7</td>\n",
       "      <td>30</td>\n",
       "      <td>68.82.250.68</td>\n",
       "      <td>BoomFireProductions</td>\n",
       "    </tr>\n",
       "    <tr>\n",
       "      <th>1</th>\n",
       "      <td>29</td>\n",
       "      <td>30</td>\n",
       "      <td>31.110.102.168</td>\n",
       "      <td>TehModdah</td>\n",
       "    </tr>\n",
       "    <tr>\n",
       "      <th>2</th>\n",
       "      <td>5</td>\n",
       "      <td>30</td>\n",
       "      <td>86.27.70.195</td>\n",
       "      <td>Cobby</td>\n",
       "    </tr>\n",
       "    <tr>\n",
       "      <th>3</th>\n",
       "      <td>114</td>\n",
       "      <td>78</td>\n",
       "      <td>98.213.93.116</td>\n",
       "      <td>DeathGodz</td>\n",
       "    </tr>\n",
       "    <tr>\n",
       "      <th>4</th>\n",
       "      <td>10</td>\n",
       "      <td>30</td>\n",
       "      <td>68.54.72.236</td>\n",
       "      <td>Guilty Trex</td>\n",
       "    </tr>\n",
       "    <tr>\n",
       "      <th>5</th>\n",
       "      <td>14</td>\n",
       "      <td>30</td>\n",
       "      <td>2.125.18.131</td>\n",
       "      <td>GamingConsolesUK</td>\n",
       "    </tr>\n",
       "    <tr>\n",
       "      <th>6</th>\n",
       "      <td>13</td>\n",
       "      <td>30</td>\n",
       "      <td>174.111.70.2</td>\n",
       "      <td>PcFreak30</td>\n",
       "    </tr>\n",
       "    <tr>\n",
       "      <th>7</th>\n",
       "      <td>15</td>\n",
       "      <td>38</td>\n",
       "      <td>99.242.38.212</td>\n",
       "      <td>RAMI/MOE</td>\n",
       "    </tr>\n",
       "    <tr>\n",
       "      <th>8</th>\n",
       "      <td>16</td>\n",
       "      <td>78</td>\n",
       "      <td>74.128.149.51</td>\n",
       "      <td>griff112 and Cytosine51</td>\n",
       "    </tr>\n",
       "    <tr>\n",
       "      <th>9</th>\n",
       "      <td>17</td>\n",
       "      <td>78</td>\n",
       "      <td>108.84.78.118</td>\n",
       "      <td>Crudit</td>\n",
       "    </tr>\n",
       "  </tbody>\n",
       "</table>\n",
       "</div>"
      ],
      "text/plain": [
       "    id  uid            host                     name\n",
       "0    7   30    68.82.250.68      BoomFireProductions\n",
       "1   29   30  31.110.102.168                TehModdah\n",
       "2    5   30    86.27.70.195                    Cobby\n",
       "3  114   78   98.213.93.116                DeathGodz\n",
       "4   10   30    68.54.72.236              Guilty Trex\n",
       "5   14   30    2.125.18.131         GamingConsolesUK\n",
       "6   13   30    174.111.70.2                PcFreak30\n",
       "7   15   38   99.242.38.212                 RAMI/MOE\n",
       "8   16   78   74.128.149.51  griff112 and Cytosine51\n",
       "9   17   78   108.84.78.118                   Crudit"
      ]
     },
     "execution_count": 103,
     "metadata": {},
     "output_type": "execute_result"
    }
   ],
   "source": [
    "tablename='friend-list'\n",
    "\n",
    "pd.read_csv(read_inserted_table(dumpfile, tablename),delimiter=\",\",error_bad_lines=False).head(10)"
   ]
  },
  {
   "cell_type": "markdown",
   "metadata": {},
   "source": [
    "#### Q1: Is this table different from other previous loaded table? YES\n",
    "#### Q2: Is this table similar to any table in the generic Booter database schema? YES\n",
    "    - This table looks like: friendsenemies\n",
    "    \n",
    "#### Q3: Are there modifications required? \n",
    "    - On the table name: \n",
    "        o friend-list ->friendsenemies\n",
    "    - On the column type: \n",
    "        o    \n",
    "    - On the column name:\n",
    "        o host -> ip\n",
    "        o name -> note\n",
    "        o uid -> userid \n",
    "    - Split columns:\n",
    "        o \n",
    "    - Add required columns:\n",
    "        o type = friend      "
   ]
  },
  {
   "cell_type": "markdown",
   "metadata": {},
   "source": [
    "### Modifying table: 'friend-list'"
   ]
  },
  {
   "cell_type": "code",
   "execution_count": 104,
   "metadata": {
    "collapsed": false
   },
   "outputs": [
    {
     "data": {
      "text/html": [
       "<div>\n",
       "<table border=\"1\" class=\"dataframe\">\n",
       "  <thead>\n",
       "    <tr style=\"text-align: right;\">\n",
       "      <th></th>\n",
       "      <th>id</th>\n",
       "      <th>userid</th>\n",
       "      <th>ip</th>\n",
       "      <th>note</th>\n",
       "      <th>type</th>\n",
       "    </tr>\n",
       "  </thead>\n",
       "  <tbody>\n",
       "    <tr>\n",
       "      <th>0</th>\n",
       "      <td>7</td>\n",
       "      <td>30</td>\n",
       "      <td>68.82.250.68</td>\n",
       "      <td>BoomFireProductions</td>\n",
       "      <td>friend</td>\n",
       "    </tr>\n",
       "    <tr>\n",
       "      <th>1</th>\n",
       "      <td>29</td>\n",
       "      <td>30</td>\n",
       "      <td>31.110.102.168</td>\n",
       "      <td>TehModdah</td>\n",
       "      <td>friend</td>\n",
       "    </tr>\n",
       "    <tr>\n",
       "      <th>2</th>\n",
       "      <td>5</td>\n",
       "      <td>30</td>\n",
       "      <td>86.27.70.195</td>\n",
       "      <td>Cobby</td>\n",
       "      <td>friend</td>\n",
       "    </tr>\n",
       "    <tr>\n",
       "      <th>3</th>\n",
       "      <td>114</td>\n",
       "      <td>78</td>\n",
       "      <td>98.213.93.116</td>\n",
       "      <td>DeathGodz</td>\n",
       "      <td>friend</td>\n",
       "    </tr>\n",
       "    <tr>\n",
       "      <th>4</th>\n",
       "      <td>10</td>\n",
       "      <td>30</td>\n",
       "      <td>68.54.72.236</td>\n",
       "      <td>Guilty Trex</td>\n",
       "      <td>friend</td>\n",
       "    </tr>\n",
       "    <tr>\n",
       "      <th>5</th>\n",
       "      <td>14</td>\n",
       "      <td>30</td>\n",
       "      <td>2.125.18.131</td>\n",
       "      <td>GamingConsolesUK</td>\n",
       "      <td>friend</td>\n",
       "    </tr>\n",
       "    <tr>\n",
       "      <th>6</th>\n",
       "      <td>13</td>\n",
       "      <td>30</td>\n",
       "      <td>174.111.70.2</td>\n",
       "      <td>PcFreak30</td>\n",
       "      <td>friend</td>\n",
       "    </tr>\n",
       "    <tr>\n",
       "      <th>7</th>\n",
       "      <td>15</td>\n",
       "      <td>38</td>\n",
       "      <td>99.242.38.212</td>\n",
       "      <td>RAMI/MOE</td>\n",
       "      <td>friend</td>\n",
       "    </tr>\n",
       "    <tr>\n",
       "      <th>8</th>\n",
       "      <td>16</td>\n",
       "      <td>78</td>\n",
       "      <td>74.128.149.51</td>\n",
       "      <td>griff112 and Cytosine51</td>\n",
       "      <td>friend</td>\n",
       "    </tr>\n",
       "    <tr>\n",
       "      <th>9</th>\n",
       "      <td>17</td>\n",
       "      <td>78</td>\n",
       "      <td>108.84.78.118</td>\n",
       "      <td>Crudit</td>\n",
       "      <td>friend</td>\n",
       "    </tr>\n",
       "  </tbody>\n",
       "</table>\n",
       "</div>"
      ],
      "text/plain": [
       "    id  userid              ip                     note    type\n",
       "0    7      30    68.82.250.68      BoomFireProductions  friend\n",
       "1   29      30  31.110.102.168                TehModdah  friend\n",
       "2    5      30    86.27.70.195                    Cobby  friend\n",
       "3  114      78   98.213.93.116                DeathGodz  friend\n",
       "4   10      30    68.54.72.236              Guilty Trex  friend\n",
       "5   14      30    2.125.18.131         GamingConsolesUK  friend\n",
       "6   13      30    174.111.70.2                PcFreak30  friend\n",
       "7   15      38   99.242.38.212                 RAMI/MOE  friend\n",
       "8   16      78   74.128.149.51  griff112 and Cytosine51  friend\n",
       "9   17      78   108.84.78.118                   Crudit  friend"
      ]
     },
     "execution_count": 104,
     "metadata": {},
     "output_type": "execute_result"
    }
   ],
   "source": [
    "# Loading the column converting columns with predefined functions\n",
    "df_friendsenemies = pd.read_csv(read_inserted_table(dumpfile, tablename),delimiter=\",\",error_bad_lines=False)\n",
    "\n",
    "# Converters                                     \n",
    "\n",
    "# Changing names of columns\n",
    "df_friendsenemies.rename(inplace=True,columns = {'host':'ip',\n",
    "                                                'name':'note',\n",
    "                                                'uid':'userid'})\n",
    "\n",
    "# Creating empty columns (with \"\" [for future string] or np.nan [for future float])\n",
    "df_friendsenemies['type'] = 'friend'\n",
    "\n",
    "\n",
    "# Showing some lines after adapt the table\n",
    "df_friendsenemies.head(10)"
   ]
  },
  {
   "cell_type": "markdown",
   "metadata": {},
   "source": [
    "## 6.4. Table: 'memberships'"
   ]
  },
  {
   "cell_type": "markdown",
   "metadata": {},
   "source": [
    "### How this table looks like without modification?"
   ]
  },
  {
   "cell_type": "code",
   "execution_count": 105,
   "metadata": {
    "collapsed": false
   },
   "outputs": [
    {
     "data": {
      "text/html": [
       "<div>\n",
       "<table border=\"1\" class=\"dataframe\">\n",
       "  <thead>\n",
       "    <tr style=\"text-align: right;\">\n",
       "      <th></th>\n",
       "      <th>id</th>\n",
       "      <th>name</th>\n",
       "      <th>price</th>\n",
       "      <th>recurring</th>\n",
       "      <th>boot</th>\n",
       "    </tr>\n",
       "  </thead>\n",
       "  <tbody>\n",
       "    <tr>\n",
       "      <th>0</th>\n",
       "      <td>bronzemonthly</td>\n",
       "      <td>Bronze Monthly</td>\n",
       "      <td>5.00</td>\n",
       "      <td>1</td>\n",
       "      <td>300</td>\n",
       "    </tr>\n",
       "    <tr>\n",
       "      <th>1</th>\n",
       "      <td>silvermonthly</td>\n",
       "      <td>Silver Monthly</td>\n",
       "      <td>10.00</td>\n",
       "      <td>1</td>\n",
       "      <td>450</td>\n",
       "    </tr>\n",
       "    <tr>\n",
       "      <th>2</th>\n",
       "      <td>goldmonthly</td>\n",
       "      <td>Gold Monthly</td>\n",
       "      <td>15.00</td>\n",
       "      <td>1</td>\n",
       "      <td>600</td>\n",
       "    </tr>\n",
       "    <tr>\n",
       "      <th>3</th>\n",
       "      <td>platinummonthly</td>\n",
       "      <td>Platinum Monthly</td>\n",
       "      <td>20.00</td>\n",
       "      <td>1</td>\n",
       "      <td>1000</td>\n",
       "    </tr>\n",
       "    <tr>\n",
       "      <th>4</th>\n",
       "      <td>bronzelifetime</td>\n",
       "      <td>Bronze Lifetime</td>\n",
       "      <td>20.00</td>\n",
       "      <td>0</td>\n",
       "      <td>300</td>\n",
       "    </tr>\n",
       "    <tr>\n",
       "      <th>5</th>\n",
       "      <td>silverlifetime</td>\n",
       "      <td>Silver Lifetime</td>\n",
       "      <td>30.00</td>\n",
       "      <td>0</td>\n",
       "      <td>450</td>\n",
       "    </tr>\n",
       "    <tr>\n",
       "      <th>6</th>\n",
       "      <td>goldlifetime</td>\n",
       "      <td>Gold Lifetime</td>\n",
       "      <td>40.00</td>\n",
       "      <td>0</td>\n",
       "      <td>600</td>\n",
       "    </tr>\n",
       "    <tr>\n",
       "      <th>7</th>\n",
       "      <td>platinumlifetime</td>\n",
       "      <td>Platinum Lifetime</td>\n",
       "      <td>50.00</td>\n",
       "      <td>0</td>\n",
       "      <td>1000</td>\n",
       "    </tr>\n",
       "    <tr>\n",
       "      <th>8</th>\n",
       "      <td>ultimatemonthly</td>\n",
       "      <td>Ultimate Monthly</td>\n",
       "      <td>50.00</td>\n",
       "      <td>1</td>\n",
       "      <td>3600</td>\n",
       "    </tr>\n",
       "    <tr>\n",
       "      <th>9</th>\n",
       "      <td>ultimatelifetime</td>\n",
       "      <td>Ultimate Lifetime</td>\n",
       "      <td>200.00</td>\n",
       "      <td>0</td>\n",
       "      <td>3600</td>\n",
       "    </tr>\n",
       "  </tbody>\n",
       "</table>\n",
       "</div>"
      ],
      "text/plain": [
       "                 id               name   price  recurring  boot\n",
       "0     bronzemonthly     Bronze Monthly    5.00          1   300\n",
       "1     silvermonthly     Silver Monthly   10.00          1   450\n",
       "2       goldmonthly       Gold Monthly   15.00          1   600\n",
       "3   platinummonthly   Platinum Monthly   20.00          1  1000\n",
       "4    bronzelifetime    Bronze Lifetime   20.00          0   300\n",
       "5    silverlifetime    Silver Lifetime   30.00          0   450\n",
       "6      goldlifetime      Gold Lifetime   40.00          0   600\n",
       "7  platinumlifetime  Platinum Lifetime   50.00          0  1000\n",
       "8   ultimatemonthly   Ultimate Monthly   50.00          1  3600\n",
       "9  ultimatelifetime  Ultimate Lifetime  200.00          0  3600"
      ]
     },
     "execution_count": 105,
     "metadata": {},
     "output_type": "execute_result"
    }
   ],
   "source": [
    "tablename='memberships'\n",
    "\n",
    "pd.read_csv(read_inserted_table(dumpfile, tablename),delimiter=\",\",error_bad_lines=False).head(10)"
   ]
  },
  {
   "cell_type": "markdown",
   "metadata": {},
   "source": [
    "#### Q1: Is this table different from other previous loaded table? YES\n",
    "#### Q2: Is this table similar to any table in the generic Booter database schema? YES\n",
    "    - This table looks like: plans\n",
    "#### Q3: Are there modifications required? \n",
    "    - On the table name: \n",
    "        o memberships => plans\n",
    "    - On the column type: \n",
    "        o \n",
    "    - On the column name:\n",
    "        o id -> planid\n",
    "        o name -> planname \n",
    "        o boot -> maxboottime \n",
    "        o recurring -> concurrecy\n",
    "    - Add required columns:\n",
    "        o  plandescr\n",
    "    - Split columns:\n",
    "        o "
   ]
  },
  {
   "cell_type": "markdown",
   "metadata": {},
   "source": [
    "### Modifying table: 'memberships'"
   ]
  },
  {
   "cell_type": "code",
   "execution_count": 106,
   "metadata": {
    "collapsed": false
   },
   "outputs": [
    {
     "data": {
      "text/html": [
       "<div>\n",
       "<table border=\"1\" class=\"dataframe\">\n",
       "  <thead>\n",
       "    <tr style=\"text-align: right;\">\n",
       "      <th></th>\n",
       "      <th>planid</th>\n",
       "      <th>planname</th>\n",
       "      <th>price</th>\n",
       "      <th>concurrency</th>\n",
       "      <th>maxboottime</th>\n",
       "      <th>plandescr</th>\n",
       "    </tr>\n",
       "  </thead>\n",
       "  <tbody>\n",
       "    <tr>\n",
       "      <th>0</th>\n",
       "      <td>bronzemonthly</td>\n",
       "      <td>Bronze Monthly</td>\n",
       "      <td>5.00</td>\n",
       "      <td>1</td>\n",
       "      <td>300</td>\n",
       "      <td></td>\n",
       "    </tr>\n",
       "    <tr>\n",
       "      <th>1</th>\n",
       "      <td>silvermonthly</td>\n",
       "      <td>Silver Monthly</td>\n",
       "      <td>10.00</td>\n",
       "      <td>1</td>\n",
       "      <td>450</td>\n",
       "      <td></td>\n",
       "    </tr>\n",
       "    <tr>\n",
       "      <th>2</th>\n",
       "      <td>goldmonthly</td>\n",
       "      <td>Gold Monthly</td>\n",
       "      <td>15.00</td>\n",
       "      <td>1</td>\n",
       "      <td>600</td>\n",
       "      <td></td>\n",
       "    </tr>\n",
       "    <tr>\n",
       "      <th>3</th>\n",
       "      <td>platinummonthly</td>\n",
       "      <td>Platinum Monthly</td>\n",
       "      <td>20.00</td>\n",
       "      <td>1</td>\n",
       "      <td>1000</td>\n",
       "      <td></td>\n",
       "    </tr>\n",
       "    <tr>\n",
       "      <th>4</th>\n",
       "      <td>bronzelifetime</td>\n",
       "      <td>Bronze Lifetime</td>\n",
       "      <td>20.00</td>\n",
       "      <td>0</td>\n",
       "      <td>300</td>\n",
       "      <td></td>\n",
       "    </tr>\n",
       "    <tr>\n",
       "      <th>5</th>\n",
       "      <td>silverlifetime</td>\n",
       "      <td>Silver Lifetime</td>\n",
       "      <td>30.00</td>\n",
       "      <td>0</td>\n",
       "      <td>450</td>\n",
       "      <td></td>\n",
       "    </tr>\n",
       "    <tr>\n",
       "      <th>6</th>\n",
       "      <td>goldlifetime</td>\n",
       "      <td>Gold Lifetime</td>\n",
       "      <td>40.00</td>\n",
       "      <td>0</td>\n",
       "      <td>600</td>\n",
       "      <td></td>\n",
       "    </tr>\n",
       "    <tr>\n",
       "      <th>7</th>\n",
       "      <td>platinumlifetime</td>\n",
       "      <td>Platinum Lifetime</td>\n",
       "      <td>50.00</td>\n",
       "      <td>0</td>\n",
       "      <td>1000</td>\n",
       "      <td></td>\n",
       "    </tr>\n",
       "    <tr>\n",
       "      <th>8</th>\n",
       "      <td>ultimatemonthly</td>\n",
       "      <td>Ultimate Monthly</td>\n",
       "      <td>50.00</td>\n",
       "      <td>1</td>\n",
       "      <td>3600</td>\n",
       "      <td></td>\n",
       "    </tr>\n",
       "    <tr>\n",
       "      <th>9</th>\n",
       "      <td>ultimatelifetime</td>\n",
       "      <td>Ultimate Lifetime</td>\n",
       "      <td>200.00</td>\n",
       "      <td>0</td>\n",
       "      <td>3600</td>\n",
       "      <td></td>\n",
       "    </tr>\n",
       "  </tbody>\n",
       "</table>\n",
       "</div>"
      ],
      "text/plain": [
       "             planid           planname   price  concurrency maxboottime  \\\n",
       "0     bronzemonthly     Bronze Monthly    5.00            1         300   \n",
       "1     silvermonthly     Silver Monthly   10.00            1         450   \n",
       "2       goldmonthly       Gold Monthly   15.00            1         600   \n",
       "3   platinummonthly   Platinum Monthly   20.00            1        1000   \n",
       "4    bronzelifetime    Bronze Lifetime   20.00            0         300   \n",
       "5    silverlifetime    Silver Lifetime   30.00            0         450   \n",
       "6      goldlifetime      Gold Lifetime   40.00            0         600   \n",
       "7  platinumlifetime  Platinum Lifetime   50.00            0        1000   \n",
       "8   ultimatemonthly   Ultimate Monthly   50.00            1        3600   \n",
       "9  ultimatelifetime  Ultimate Lifetime  200.00            0        3600   \n",
       "\n",
       "  plandescr  \n",
       "0            \n",
       "1            \n",
       "2            \n",
       "3            \n",
       "4            \n",
       "5            \n",
       "6            \n",
       "7            \n",
       "8            \n",
       "9            "
      ]
     },
     "execution_count": 106,
     "metadata": {},
     "output_type": "execute_result"
    }
   ],
   "source": [
    "# Loading the correct table name\n",
    "df_plans = pd.read_csv(read_inserted_table(dumpfile, tablename),delimiter=\",\",error_bad_lines=False)\n",
    "\n",
    "# Converting columns\n",
    "\n",
    "# Changing column names\n",
    "df_plans.rename(inplace=True, columns = {'id':'planid',\n",
    "                                         'name':'planname',\n",
    "                                         'boot':'maxboottime',\n",
    "                                         'recurring':'concurrency'})\n",
    "\n",
    "# Adding missing columns (with \"\" [for future string] or np.nan [for future float])\n",
    "df_plans['plandescr'] = ''\n",
    "\n",
    "###Showing some lines after adapt the table\n",
    "df_plans.head(10)"
   ]
  },
  {
   "cell_type": "markdown",
   "metadata": {},
   "source": [
    "## 6.5. Table: 'news'"
   ]
  },
  {
   "cell_type": "markdown",
   "metadata": {},
   "source": [
    "### How this table looks like without modification?"
   ]
  },
  {
   "cell_type": "code",
   "execution_count": 108,
   "metadata": {
    "collapsed": false
   },
   "outputs": [
    {
     "data": {
      "text/html": [
       "<div>\n",
       "<table border=\"1\" class=\"dataframe\">\n",
       "  <thead>\n",
       "    <tr style=\"text-align: right;\">\n",
       "      <th></th>\n",
       "      <th>id</th>\n",
       "      <th>message</th>\n",
       "      <th>date</th>\n",
       "    </tr>\n",
       "  </thead>\n",
       "  <tbody>\n",
       "    <tr>\n",
       "      <th>0</th>\n",
       "      <td>1</td>\n",
       "      <td>All members please resign up with same informa...</td>\n",
       "      <td>1341892848</td>\n",
       "    </tr>\n",
       "    <tr>\n",
       "      <th>1</th>\n",
       "      <td>2</td>\n",
       "      <td>Hey everyone got a new thread on HF \\r\\nhttp:/...</td>\n",
       "      <td>1342732597</td>\n",
       "    </tr>\n",
       "    <tr>\n",
       "      <th>2</th>\n",
       "      <td>3</td>\n",
       "      <td>Skype resolver will be u soon i contacted DaL3...</td>\n",
       "      <td>1343431842</td>\n",
       "    </tr>\n",
       "  </tbody>\n",
       "</table>\n",
       "</div>"
      ],
      "text/plain": [
       "   id                                            message        date\n",
       "0   1  All members please resign up with same informa...  1341892848\n",
       "1   2  Hey everyone got a new thread on HF \\r\\nhttp:/...  1342732597\n",
       "2   3  Skype resolver will be u soon i contacted DaL3...  1343431842"
      ]
     },
     "execution_count": 108,
     "metadata": {},
     "output_type": "execute_result"
    }
   ],
   "source": [
    "tablename='news'\n",
    "\n",
    "pd.read_csv(read_inserted_table(dumpfile, tablename),delimiter=\",\",error_bad_lines=False).head(10)"
   ]
  },
  {
   "cell_type": "markdown",
   "metadata": {},
   "source": [
    "#### Q1: Is this table different from other previous loaded table? YES \n",
    "#### Q2: Is this table similar to any table in the generic Booter database schema? NO\n",
    "    - This table looks like: \n",
    "#### Q3: Are there modifications required? \n",
    "    - On the table name: \n",
    "        o \n",
    "    - On the column type: \n",
    "        o  \n",
    "    - On the column name:\n",
    "        o \n",
    "    - Add required columns:\n",
    "        o \n",
    "    - Split columns:\n",
    "        o "
   ]
  },
  {
   "cell_type": "markdown",
   "metadata": {},
   "source": [
    "## 6.6. Table: 'paypal-purchases'"
   ]
  },
  {
   "cell_type": "markdown",
   "metadata": {},
   "source": [
    "### How this table looks like without modification?"
   ]
  },
  {
   "cell_type": "code",
   "execution_count": 111,
   "metadata": {
    "collapsed": false
   },
   "outputs": [
    {
     "data": {
      "text/html": [
       "<div>\n",
       "<table border=\"1\" class=\"dataframe\">\n",
       "  <thead>\n",
       "    <tr style=\"text-align: right;\">\n",
       "      <th></th>\n",
       "      <th>id</th>\n",
       "      <th>uid</th>\n",
       "      <th>email</th>\n",
       "      <th>item</th>\n",
       "      <th>amount</th>\n",
       "    </tr>\n",
       "  </thead>\n",
       "  <tbody>\n",
       "    <tr>\n",
       "      <th>0</th>\n",
       "      <td>1</td>\n",
       "      <td>245</td>\n",
       "      <td>ybarra.debra@yahoo.com</td>\n",
       "      <td>Bronze Monthly</td>\n",
       "      <td>5.0</td>\n",
       "    </tr>\n",
       "    <tr>\n",
       "      <th>1</th>\n",
       "      <td>2</td>\n",
       "      <td>250</td>\n",
       "      <td>cody.d.hudson@Gmail.com</td>\n",
       "      <td>Bronze Monthly</td>\n",
       "      <td>5.0</td>\n",
       "    </tr>\n",
       "    <tr>\n",
       "      <th>2</th>\n",
       "      <td>3</td>\n",
       "      <td>252</td>\n",
       "      <td>garycooke12345@hotmail.co.uk</td>\n",
       "      <td>Bronze Monthly</td>\n",
       "      <td>5.0</td>\n",
       "    </tr>\n",
       "    <tr>\n",
       "      <th>3</th>\n",
       "      <td>4</td>\n",
       "      <td>255</td>\n",
       "      <td>peder.carola@mail.se</td>\n",
       "      <td>Bronze Monthly</td>\n",
       "      <td>5.0</td>\n",
       "    </tr>\n",
       "    <tr>\n",
       "      <th>4</th>\n",
       "      <td>5</td>\n",
       "      <td>259</td>\n",
       "      <td>anthony.pacheco13@gmail.com</td>\n",
       "      <td>Bronze Monthly</td>\n",
       "      <td>5.0</td>\n",
       "    </tr>\n",
       "    <tr>\n",
       "      <th>5</th>\n",
       "      <td>6</td>\n",
       "      <td>260</td>\n",
       "      <td>tannerhacks@live.com</td>\n",
       "      <td>Bronze Monthly</td>\n",
       "      <td>5.0</td>\n",
       "    </tr>\n",
       "    <tr>\n",
       "      <th>6</th>\n",
       "      <td>7</td>\n",
       "      <td>262</td>\n",
       "      <td>tunny1234@live.dk</td>\n",
       "      <td>Bronze Monthly</td>\n",
       "      <td>5.0</td>\n",
       "    </tr>\n",
       "    <tr>\n",
       "      <th>7</th>\n",
       "      <td>8</td>\n",
       "      <td>264</td>\n",
       "      <td>corrodedmagnum@yahoo.com</td>\n",
       "      <td>Bronze Lifetime</td>\n",
       "      <td>20.0</td>\n",
       "    </tr>\n",
       "    <tr>\n",
       "      <th>8</th>\n",
       "      <td>9</td>\n",
       "      <td>265</td>\n",
       "      <td>djelias92@gmail.com</td>\n",
       "      <td>Bronze Monthly</td>\n",
       "      <td>5.0</td>\n",
       "    </tr>\n",
       "    <tr>\n",
       "      <th>9</th>\n",
       "      <td>10</td>\n",
       "      <td>268</td>\n",
       "      <td>johnellison89@sky.com</td>\n",
       "      <td>Bronze Monthly</td>\n",
       "      <td>5.0</td>\n",
       "    </tr>\n",
       "  </tbody>\n",
       "</table>\n",
       "</div>"
      ],
      "text/plain": [
       "   id  uid                         email             item  amount\n",
       "0   1  245        ybarra.debra@yahoo.com   Bronze Monthly     5.0\n",
       "1   2  250       cody.d.hudson@Gmail.com   Bronze Monthly     5.0\n",
       "2   3  252  garycooke12345@hotmail.co.uk   Bronze Monthly     5.0\n",
       "3   4  255          peder.carola@mail.se   Bronze Monthly     5.0\n",
       "4   5  259   anthony.pacheco13@gmail.com   Bronze Monthly     5.0\n",
       "5   6  260          tannerhacks@live.com   Bronze Monthly     5.0\n",
       "6   7  262             tunny1234@live.dk   Bronze Monthly     5.0\n",
       "7   8  264      corrodedmagnum@yahoo.com  Bronze Lifetime    20.0\n",
       "8   9  265           djelias92@gmail.com   Bronze Monthly     5.0\n",
       "9  10  268         johnellison89@sky.com   Bronze Monthly     5.0"
      ]
     },
     "execution_count": 111,
     "metadata": {},
     "output_type": "execute_result"
    }
   ],
   "source": [
    "tablename='paypal-purchases'\n",
    "\n",
    "pd.read_csv(read_inserted_table(dumpfile, tablename),delimiter=\",\",error_bad_lines=False).head(10)"
   ]
  },
  {
   "cell_type": "markdown",
   "metadata": {},
   "source": [
    "#### Q1: Is this table different from other previous loaded table? YES \n",
    "#### Q2: Is this table similar to any table in the generic Booter database schema? YES\n",
    "    - This table looks like: payments\n",
    "#### Q3: Are there modifications required? \n",
    "    - On the table name: \n",
    "        o paypal-purchases -> payments\n",
    "    - On the column type: \n",
    "        o  \n",
    "    - On the column name:\n",
    "        o uid -> userid\n",
    "        o email -> paymentemail\n",
    "        o amount -> amountpaid\n",
    "    - Add required columns:\n",
    "        o username\n",
    "        o planid\n",
    "        o tid\n",
    "        o date\n",
    "    - Split columns:\n",
    "        o "
   ]
  },
  {
   "cell_type": "markdown",
   "metadata": {},
   "source": [
    "### Modifying table: 'paypal-purchases'"
   ]
  },
  {
   "cell_type": "code",
   "execution_count": 112,
   "metadata": {
    "collapsed": false
   },
   "outputs": [
    {
     "data": {
      "text/html": [
       "<div>\n",
       "<table border=\"1\" class=\"dataframe\">\n",
       "  <thead>\n",
       "    <tr style=\"text-align: right;\">\n",
       "      <th></th>\n",
       "      <th>id</th>\n",
       "      <th>userid</th>\n",
       "      <th>paymentemail</th>\n",
       "      <th>item</th>\n",
       "      <th>amountpaid</th>\n",
       "      <th>username</th>\n",
       "      <th>planid</th>\n",
       "      <th>tid</th>\n",
       "      <th>date</th>\n",
       "    </tr>\n",
       "  </thead>\n",
       "  <tbody>\n",
       "    <tr>\n",
       "      <th>0</th>\n",
       "      <td>1</td>\n",
       "      <td>245</td>\n",
       "      <td>ybarra.debra@yahoo.com</td>\n",
       "      <td>Bronze Monthly</td>\n",
       "      <td>5.0</td>\n",
       "      <td></td>\n",
       "      <td>NaN</td>\n",
       "      <td>NaN</td>\n",
       "      <td></td>\n",
       "    </tr>\n",
       "    <tr>\n",
       "      <th>1</th>\n",
       "      <td>2</td>\n",
       "      <td>250</td>\n",
       "      <td>cody.d.hudson@Gmail.com</td>\n",
       "      <td>Bronze Monthly</td>\n",
       "      <td>5.0</td>\n",
       "      <td></td>\n",
       "      <td>NaN</td>\n",
       "      <td>NaN</td>\n",
       "      <td></td>\n",
       "    </tr>\n",
       "    <tr>\n",
       "      <th>2</th>\n",
       "      <td>3</td>\n",
       "      <td>252</td>\n",
       "      <td>garycooke12345@hotmail.co.uk</td>\n",
       "      <td>Bronze Monthly</td>\n",
       "      <td>5.0</td>\n",
       "      <td></td>\n",
       "      <td>NaN</td>\n",
       "      <td>NaN</td>\n",
       "      <td></td>\n",
       "    </tr>\n",
       "    <tr>\n",
       "      <th>3</th>\n",
       "      <td>4</td>\n",
       "      <td>255</td>\n",
       "      <td>peder.carola@mail.se</td>\n",
       "      <td>Bronze Monthly</td>\n",
       "      <td>5.0</td>\n",
       "      <td></td>\n",
       "      <td>NaN</td>\n",
       "      <td>NaN</td>\n",
       "      <td></td>\n",
       "    </tr>\n",
       "    <tr>\n",
       "      <th>4</th>\n",
       "      <td>5</td>\n",
       "      <td>259</td>\n",
       "      <td>anthony.pacheco13@gmail.com</td>\n",
       "      <td>Bronze Monthly</td>\n",
       "      <td>5.0</td>\n",
       "      <td></td>\n",
       "      <td>NaN</td>\n",
       "      <td>NaN</td>\n",
       "      <td></td>\n",
       "    </tr>\n",
       "    <tr>\n",
       "      <th>5</th>\n",
       "      <td>6</td>\n",
       "      <td>260</td>\n",
       "      <td>tannerhacks@live.com</td>\n",
       "      <td>Bronze Monthly</td>\n",
       "      <td>5.0</td>\n",
       "      <td></td>\n",
       "      <td>NaN</td>\n",
       "      <td>NaN</td>\n",
       "      <td></td>\n",
       "    </tr>\n",
       "    <tr>\n",
       "      <th>6</th>\n",
       "      <td>7</td>\n",
       "      <td>262</td>\n",
       "      <td>tunny1234@live.dk</td>\n",
       "      <td>Bronze Monthly</td>\n",
       "      <td>5.0</td>\n",
       "      <td></td>\n",
       "      <td>NaN</td>\n",
       "      <td>NaN</td>\n",
       "      <td></td>\n",
       "    </tr>\n",
       "    <tr>\n",
       "      <th>7</th>\n",
       "      <td>8</td>\n",
       "      <td>264</td>\n",
       "      <td>corrodedmagnum@yahoo.com</td>\n",
       "      <td>Bronze Lifetime</td>\n",
       "      <td>20.0</td>\n",
       "      <td></td>\n",
       "      <td>NaN</td>\n",
       "      <td>NaN</td>\n",
       "      <td></td>\n",
       "    </tr>\n",
       "    <tr>\n",
       "      <th>8</th>\n",
       "      <td>9</td>\n",
       "      <td>265</td>\n",
       "      <td>djelias92@gmail.com</td>\n",
       "      <td>Bronze Monthly</td>\n",
       "      <td>5.0</td>\n",
       "      <td></td>\n",
       "      <td>NaN</td>\n",
       "      <td>NaN</td>\n",
       "      <td></td>\n",
       "    </tr>\n",
       "    <tr>\n",
       "      <th>9</th>\n",
       "      <td>10</td>\n",
       "      <td>268</td>\n",
       "      <td>johnellison89@sky.com</td>\n",
       "      <td>Bronze Monthly</td>\n",
       "      <td>5.0</td>\n",
       "      <td></td>\n",
       "      <td>NaN</td>\n",
       "      <td>NaN</td>\n",
       "      <td></td>\n",
       "    </tr>\n",
       "  </tbody>\n",
       "</table>\n",
       "</div>"
      ],
      "text/plain": [
       "   id  userid                  paymentemail             item  amountpaid  \\\n",
       "0   1     245        ybarra.debra@yahoo.com   Bronze Monthly         5.0   \n",
       "1   2     250       cody.d.hudson@Gmail.com   Bronze Monthly         5.0   \n",
       "2   3     252  garycooke12345@hotmail.co.uk   Bronze Monthly         5.0   \n",
       "3   4     255          peder.carola@mail.se   Bronze Monthly         5.0   \n",
       "4   5     259   anthony.pacheco13@gmail.com   Bronze Monthly         5.0   \n",
       "5   6     260          tannerhacks@live.com   Bronze Monthly         5.0   \n",
       "6   7     262             tunny1234@live.dk   Bronze Monthly         5.0   \n",
       "7   8     264      corrodedmagnum@yahoo.com  Bronze Lifetime        20.0   \n",
       "8   9     265           djelias92@gmail.com   Bronze Monthly         5.0   \n",
       "9  10     268         johnellison89@sky.com   Bronze Monthly         5.0   \n",
       "\n",
       "  username  planid  tid date  \n",
       "0              NaN  NaN       \n",
       "1              NaN  NaN       \n",
       "2              NaN  NaN       \n",
       "3              NaN  NaN       \n",
       "4              NaN  NaN       \n",
       "5              NaN  NaN       \n",
       "6              NaN  NaN       \n",
       "7              NaN  NaN       \n",
       "8              NaN  NaN       \n",
       "9              NaN  NaN       "
      ]
     },
     "execution_count": 112,
     "metadata": {},
     "output_type": "execute_result"
    }
   ],
   "source": [
    "# Loading the correct table name\n",
    "df_payments = pd.read_csv(read_inserted_table(dumpfile, tablename),delimiter=\",\",error_bad_lines=False)\n",
    "\n",
    "# Converting columns\n",
    "\n",
    "# Changing column names\n",
    "df_payments.rename(inplace=True, columns = {'uid':'userid',\n",
    "                                           'email': 'paymentemail',\n",
    "                                           'amount': 'amountpaid'})\n",
    "\n",
    "# Showing some lines after adapt the tabledf_plans['maxboottime'] = np.nan\n",
    "df_payments['username'] = ''\n",
    "df_payments['planid'] = np.nan\n",
    "df_payments['tid'] = np.nan\n",
    "df_payments['date'] = ''\n",
    "\n",
    "# Showing some lines after adapt the table\n",
    "df_payments.head(10)"
   ]
  },
  {
   "cell_type": "markdown",
   "metadata": {},
   "source": [
    "## 6.7. Table: 'shells'"
   ]
  },
  {
   "cell_type": "markdown",
   "metadata": {},
   "source": [
    "### How this table looks like without modification?"
   ]
  },
  {
   "cell_type": "code",
   "execution_count": 113,
   "metadata": {
    "collapsed": false
   },
   "outputs": [
    {
     "data": {
      "text/html": [
       "<div>\n",
       "<table border=\"1\" class=\"dataframe\">\n",
       "  <thead>\n",
       "    <tr style=\"text-align: right;\">\n",
       "      <th></th>\n",
       "      <th>id</th>\n",
       "      <th>url</th>\n",
       "      <th>special</th>\n",
       "    </tr>\n",
       "  </thead>\n",
       "  <tbody>\n",
       "    <tr>\n",
       "      <th>0</th>\n",
       "      <td>1</td>\n",
       "      <td>http://206.72.206.150/ass.php</td>\n",
       "      <td>0</td>\n",
       "    </tr>\n",
       "    <tr>\n",
       "      <th>1</th>\n",
       "      <td>2</td>\n",
       "      <td>http://46.166.147.121/udp.php</td>\n",
       "      <td>0</td>\n",
       "    </tr>\n",
       "    <tr>\n",
       "      <th>2</th>\n",
       "      <td>3</td>\n",
       "      <td>http://46.166.147.121/ssyn.php</td>\n",
       "      <td>0</td>\n",
       "    </tr>\n",
       "    <tr>\n",
       "      <th>3</th>\n",
       "      <td>4</td>\n",
       "      <td>http://46.166.147.121/csyn.php</td>\n",
       "      <td>0</td>\n",
       "    </tr>\n",
       "  </tbody>\n",
       "</table>\n",
       "</div>"
      ],
      "text/plain": [
       "   id                             url  special\n",
       "0   1   http://206.72.206.150/ass.php        0\n",
       "1   2   http://46.166.147.121/udp.php        0\n",
       "2   3  http://46.166.147.121/ssyn.php        0\n",
       "3   4  http://46.166.147.121/csyn.php        0"
      ]
     },
     "execution_count": 113,
     "metadata": {},
     "output_type": "execute_result"
    }
   ],
   "source": [
    "tablename='shells'\n",
    "\n",
    "pd.read_csv(read_inserted_table(dumpfile, tablename),delimiter=\",\",error_bad_lines=False).head(10)"
   ]
  },
  {
   "cell_type": "markdown",
   "metadata": {},
   "source": [
    "#### Q1: Is this table different from other previous loaded table? YES \n",
    "#### Q2: Is this table similar to any table in the generic Booter database schema? YES\n",
    "    - This table looks like: webshells\n",
    "#### Q3: Are there modifications required? \n",
    "    - On the table name: \n",
    "        o \n",
    "    - On the column type: \n",
    "        o \n",
    "    - On the column name:\n",
    "        o \n",
    "    - Add required columns:\n",
    "        o status\n",
    "        o lastchecked \n",
    "        o attacktype\n",
    "    - Split columns:\n",
    "        o "
   ]
  },
  {
   "cell_type": "markdown",
   "metadata": {},
   "source": [
    "### Modifying table: 'shells'"
   ]
  },
  {
   "cell_type": "code",
   "execution_count": 114,
   "metadata": {
    "collapsed": false
   },
   "outputs": [
    {
     "data": {
      "text/html": [
       "<div>\n",
       "<table border=\"1\" class=\"dataframe\">\n",
       "  <thead>\n",
       "    <tr style=\"text-align: right;\">\n",
       "      <th></th>\n",
       "      <th>id</th>\n",
       "      <th>url</th>\n",
       "      <th>special</th>\n",
       "      <th>status</th>\n",
       "      <th>lastchecked</th>\n",
       "      <th>attacktype</th>\n",
       "    </tr>\n",
       "  </thead>\n",
       "  <tbody>\n",
       "    <tr>\n",
       "      <th>0</th>\n",
       "      <td>1</td>\n",
       "      <td>http://206.72.206.150/ass.php</td>\n",
       "      <td>0</td>\n",
       "      <td></td>\n",
       "      <td></td>\n",
       "      <td></td>\n",
       "    </tr>\n",
       "    <tr>\n",
       "      <th>1</th>\n",
       "      <td>2</td>\n",
       "      <td>http://46.166.147.121/udp.php</td>\n",
       "      <td>0</td>\n",
       "      <td></td>\n",
       "      <td></td>\n",
       "      <td></td>\n",
       "    </tr>\n",
       "    <tr>\n",
       "      <th>2</th>\n",
       "      <td>3</td>\n",
       "      <td>http://46.166.147.121/ssyn.php</td>\n",
       "      <td>0</td>\n",
       "      <td></td>\n",
       "      <td></td>\n",
       "      <td></td>\n",
       "    </tr>\n",
       "    <tr>\n",
       "      <th>3</th>\n",
       "      <td>4</td>\n",
       "      <td>http://46.166.147.121/csyn.php</td>\n",
       "      <td>0</td>\n",
       "      <td></td>\n",
       "      <td></td>\n",
       "      <td></td>\n",
       "    </tr>\n",
       "  </tbody>\n",
       "</table>\n",
       "</div>"
      ],
      "text/plain": [
       "   id                             url  special status lastchecked attacktype\n",
       "0   1   http://206.72.206.150/ass.php        0                              \n",
       "1   2   http://46.166.147.121/udp.php        0                              \n",
       "2   3  http://46.166.147.121/ssyn.php        0                              \n",
       "3   4  http://46.166.147.121/csyn.php        0                              "
      ]
     },
     "execution_count": 114,
     "metadata": {},
     "output_type": "execute_result"
    }
   ],
   "source": [
    "# Loading the correct table name\n",
    "df_webshells = pd.read_csv(read_inserted_table(dumpfile, tablename),delimiter=\",\",error_bad_lines=False)\n",
    "\n",
    "# Converting columns\n",
    "\n",
    "# Changing names of columns\n",
    "\n",
    "# Creating empty columns (with \"\" [for future string] or np.nan [for future float])\n",
    "df_webshells['status']=''\n",
    "df_webshells['lastchecked']=''\n",
    "df_webshells['attacktype']=''\n",
    "\n",
    "# Showing some lines after adapt the table\n",
    "df_webshells.head(10)"
   ]
  },
  {
   "cell_type": "markdown",
   "metadata": {},
   "source": [
    "## 6.8. Table: 'specialmemberships'"
   ]
  },
  {
   "cell_type": "markdown",
   "metadata": {},
   "source": [
    "### How this table looks like without modification?"
   ]
  },
  {
   "cell_type": "code",
   "execution_count": 115,
   "metadata": {
    "collapsed": false
   },
   "outputs": [
    {
     "data": {
      "text/html": [
       "<div>\n",
       "<table border=\"1\" class=\"dataframe\">\n",
       "  <thead>\n",
       "    <tr style=\"text-align: right;\">\n",
       "      <th></th>\n",
       "      <th>id</th>\n",
       "      <th>uid</th>\n",
       "      <th>membership</th>\n",
       "      <th>price</th>\n",
       "      <th>coupon</th>\n",
       "    </tr>\n",
       "  </thead>\n",
       "  <tbody>\n",
       "    <tr>\n",
       "      <th>0</th>\n",
       "      <td>2</td>\n",
       "      <td>1</td>\n",
       "      <td>bronzemonthly</td>\n",
       "      <td>4</td>\n",
       "      <td>avpjfunmpmjev56yq1</td>\n",
       "    </tr>\n",
       "    <tr>\n",
       "      <th>1</th>\n",
       "      <td>4</td>\n",
       "      <td>1</td>\n",
       "      <td>ultimatelifetime</td>\n",
       "      <td>0</td>\n",
       "      <td>vhx2dziwi6514d426w</td>\n",
       "    </tr>\n",
       "  </tbody>\n",
       "</table>\n",
       "</div>"
      ],
      "text/plain": [
       "   id  uid        membership  price              coupon\n",
       "0   2    1     bronzemonthly      4  avpjfunmpmjev56yq1\n",
       "1   4    1  ultimatelifetime      0  vhx2dziwi6514d426w"
      ]
     },
     "execution_count": 115,
     "metadata": {},
     "output_type": "execute_result"
    }
   ],
   "source": [
    "tablename='specialmemberships'\n",
    "\n",
    "pd.read_csv(read_inserted_table(dumpfile, tablename),delimiter=\",\",error_bad_lines=False).head(10)"
   ]
  },
  {
   "cell_type": "markdown",
   "metadata": {},
   "source": [
    "#### Q1: Is this table different from other previous loaded table? YES \n",
    "#### Q2: Is this table similar to any table in the generic Booter database schema? NO\n",
    "    - This table looks like: \n",
    "#### Q3: Are there modifications required? \n",
    "    - On the table name: \n",
    "        o \n",
    "    - On the column type: \n",
    "        o \n",
    "    - On the column name:\n",
    "        o \n",
    "    - Add required columns:\n",
    "        o \n",
    "    - Split columns:\n",
    "        o "
   ]
  },
  {
   "cell_type": "markdown",
   "metadata": {},
   "source": [
    "## 6.9. Table: 'users'"
   ]
  },
  {
   "cell_type": "markdown",
   "metadata": {},
   "source": [
    "### How this table looks like without modification?"
   ]
  },
  {
   "cell_type": "code",
   "execution_count": 117,
   "metadata": {
    "collapsed": false
   },
   "outputs": [
    {
     "data": {
      "text/html": [
       "<div>\n",
       "<table border=\"1\" class=\"dataframe\">\n",
       "  <thead>\n",
       "    <tr style=\"text-align: right;\">\n",
       "      <th></th>\n",
       "      <th>id</th>\n",
       "      <th>username</th>\n",
       "      <th>password</th>\n",
       "      <th>salt</th>\n",
       "      <th>email</th>\n",
       "      <th>ip</th>\n",
       "      <th>lastact</th>\n",
       "      <th>token</th>\n",
       "      <th>usergroup</th>\n",
       "      <th>subdays</th>\n",
       "      <th>lastboot</th>\n",
       "      <th>cooldown</th>\n",
       "      <th>banned</th>\n",
       "      <th>membership</th>\n",
       "      <th>lastlogin</th>\n",
       "      <th>tos</th>\n",
       "    </tr>\n",
       "  </thead>\n",
       "  <tbody>\n",
       "    <tr>\n",
       "      <th>0</th>\n",
       "      <td>1</td>\n",
       "      <td>EKNOZ</td>\n",
       "      <td>3jujb4ortkp10ft0zx83a97ebcf19013d5111732c420e6...</td>\n",
       "      <td>3jujb4ortkp10ft0zx</td>\n",
       "      <td>eknoz@live.com</td>\n",
       "      <td>24.92.81.234</td>\n",
       "      <td>1.343630e+09</td>\n",
       "      <td>x9749il5citu</td>\n",
       "      <td>1</td>\n",
       "      <td>0</td>\n",
       "      <td>1.343629e+09</td>\n",
       "      <td>50</td>\n",
       "      <td>0</td>\n",
       "      <td>ultimatelifetime</td>\n",
       "      <td>1.343629e+09</td>\n",
       "      <td>agree</td>\n",
       "    </tr>\n",
       "    <tr>\n",
       "      <th>1</th>\n",
       "      <td>2</td>\n",
       "      <td>Connerrr</td>\n",
       "      <td>td31jl6lo1kcgchx8s836d282c92e191fa93948e48c37b...</td>\n",
       "      <td>td31jl6lo1kcgchx8s</td>\n",
       "      <td>conz2012@hotmail.co.uk</td>\n",
       "      <td>2.100.40.59</td>\n",
       "      <td>1.343652e+09</td>\n",
       "      <td>9mch1bbdsagu</td>\n",
       "      <td>0</td>\n",
       "      <td>12</td>\n",
       "      <td>1.343631e+09</td>\n",
       "      <td>180</td>\n",
       "      <td>0</td>\n",
       "      <td>bronzemonthly</td>\n",
       "      <td>1.343650e+09</td>\n",
       "      <td>agree</td>\n",
       "    </tr>\n",
       "    <tr>\n",
       "      <th>2</th>\n",
       "      <td>3</td>\n",
       "      <td>TaylorGang</td>\n",
       "      <td>wjlq25zxikgy65wgvh352b8928dfc34f267cf4592dd1e3...</td>\n",
       "      <td>wjlq25zxikgy65wgvh</td>\n",
       "      <td>tgsgaming@live.com</td>\n",
       "      <td>208.38.66.32</td>\n",
       "      <td>1.343371e+09</td>\n",
       "      <td>ikepeyxnc284</td>\n",
       "      <td>0</td>\n",
       "      <td>18</td>\n",
       "      <td>1.343369e+09</td>\n",
       "      <td>60</td>\n",
       "      <td>0</td>\n",
       "      <td>silvermonthly</td>\n",
       "      <td>1.343366e+09</td>\n",
       "      <td>agree</td>\n",
       "    </tr>\n",
       "    <tr>\n",
       "      <th>3</th>\n",
       "      <td>4</td>\n",
       "      <td>jztmanyl</td>\n",
       "      <td>r00bj0uit72ebf34nlec8a34e9002da6fbd854e1818e5c...</td>\n",
       "      <td>r00bj0uit72ebf34nl</td>\n",
       "      <td>maxtheawsome@hotmail.se</td>\n",
       "      <td>95.209.100.228</td>\n",
       "      <td>1.342104e+09</td>\n",
       "      <td>8v0uh66htyhc</td>\n",
       "      <td>0</td>\n",
       "      <td>5</td>\n",
       "      <td>1.342104e+09</td>\n",
       "      <td>200</td>\n",
       "      <td>0</td>\n",
       "      <td>bronzemonthly</td>\n",
       "      <td>1.342104e+09</td>\n",
       "      <td>agree</td>\n",
       "    </tr>\n",
       "    <tr>\n",
       "      <th>4</th>\n",
       "      <td>5</td>\n",
       "      <td>Delshad</td>\n",
       "      <td>s3h9vxt57ir95o0ppdb02518639936171d3c569a9db898...</td>\n",
       "      <td>s3h9vxt57ir95o0ppd</td>\n",
       "      <td>habnu@hotmail.dk</td>\n",
       "      <td>87.57.129.218</td>\n",
       "      <td>1.343631e+09</td>\n",
       "      <td>tygmaa6rmzyw</td>\n",
       "      <td>0</td>\n",
       "      <td>15</td>\n",
       "      <td>1.343626e+09</td>\n",
       "      <td>290</td>\n",
       "      <td>0</td>\n",
       "      <td>bronzemonthly</td>\n",
       "      <td>1.343631e+09</td>\n",
       "      <td>agree</td>\n",
       "    </tr>\n",
       "    <tr>\n",
       "      <th>5</th>\n",
       "      <td>6</td>\n",
       "      <td>ihasnousername</td>\n",
       "      <td>m52txbzxkm3uuitvj8856b6aaa2dda3e19331aad7401cf...</td>\n",
       "      <td>m52txbzxkm3uuitvj8</td>\n",
       "      <td>jztmanyl@gmail.com</td>\n",
       "      <td>95.209.100.228</td>\n",
       "      <td>1.343639e+09</td>\n",
       "      <td>e4a6selpi6p7</td>\n",
       "      <td>0</td>\n",
       "      <td>0</td>\n",
       "      <td>1.343639e+09</td>\n",
       "      <td>100</td>\n",
       "      <td>0</td>\n",
       "      <td>platinumlifetime</td>\n",
       "      <td>1.343639e+09</td>\n",
       "      <td>agree</td>\n",
       "    </tr>\n",
       "    <tr>\n",
       "      <th>6</th>\n",
       "      <td>7</td>\n",
       "      <td>syjuntan</td>\n",
       "      <td>3r1xoh3cdqieagc1k71ddf93f9ff99d1f110b7a3b14839...</td>\n",
       "      <td>3r1xoh3cdqieagc1k7</td>\n",
       "      <td>max.nylander@live.se</td>\n",
       "      <td>95.209.100.228</td>\n",
       "      <td>1.342104e+09</td>\n",
       "      <td>b3ub4l83eqfh</td>\n",
       "      <td>0</td>\n",
       "      <td>7</td>\n",
       "      <td>NaN</td>\n",
       "      <td>0</td>\n",
       "      <td>0</td>\n",
       "      <td>bronzemonthly</td>\n",
       "      <td>1.342104e+09</td>\n",
       "      <td>agree</td>\n",
       "    </tr>\n",
       "    <tr>\n",
       "      <th>7</th>\n",
       "      <td>8</td>\n",
       "      <td>zestia</td>\n",
       "      <td>j8u7goc9bywr1ujpohea5966e75fdff1e6936bd9390a0b...</td>\n",
       "      <td>j8u7goc9bywr1ujpoh</td>\n",
       "      <td>zestiahd@gmail.com</td>\n",
       "      <td>188.114.162.177</td>\n",
       "      <td>1.343571e+09</td>\n",
       "      <td>ut6sxoewj78l</td>\n",
       "      <td>0</td>\n",
       "      <td>0</td>\n",
       "      <td>1.343571e+09</td>\n",
       "      <td>100</td>\n",
       "      <td>0</td>\n",
       "      <td>bronzelifetime</td>\n",
       "      <td>1.343571e+09</td>\n",
       "      <td>agree</td>\n",
       "    </tr>\n",
       "    <tr>\n",
       "      <th>8</th>\n",
       "      <td>9</td>\n",
       "      <td>rangefluid</td>\n",
       "      <td>tvmsc7j9gupubmaaok22452a5d7b5ce95f7cd2e8e9e1e2...</td>\n",
       "      <td>tvmsc7j9gupubmaaok</td>\n",
       "      <td>steelersfan4377@yahoo.com</td>\n",
       "      <td>99.72.194.104</td>\n",
       "      <td>1.343667e+09</td>\n",
       "      <td>pvv5j4s4y2vt</td>\n",
       "      <td>0</td>\n",
       "      <td>0</td>\n",
       "      <td>1.343183e+09</td>\n",
       "      <td>300</td>\n",
       "      <td>0</td>\n",
       "      <td>bronzelifetime</td>\n",
       "      <td>1.343667e+09</td>\n",
       "      <td>agree</td>\n",
       "    </tr>\n",
       "    <tr>\n",
       "      <th>9</th>\n",
       "      <td>10</td>\n",
       "      <td>tc4waza</td>\n",
       "      <td>bc8m286mywj5dkh52zce777cf9f6db95d1736d1da884fa...</td>\n",
       "      <td>bc8m286mywj5dkh52z</td>\n",
       "      <td>velez@gmx.us</td>\n",
       "      <td>98.253.169.154</td>\n",
       "      <td>1.343450e+09</td>\n",
       "      <td>f2b6iqgii77u</td>\n",
       "      <td>0</td>\n",
       "      <td>0</td>\n",
       "      <td>1.343450e+09</td>\n",
       "      <td>100</td>\n",
       "      <td>0</td>\n",
       "      <td>bronzelifetime</td>\n",
       "      <td>1.343450e+09</td>\n",
       "      <td>agree</td>\n",
       "    </tr>\n",
       "  </tbody>\n",
       "</table>\n",
       "</div>"
      ],
      "text/plain": [
       "   id        username                                           password  \\\n",
       "0   1           EKNOZ  3jujb4ortkp10ft0zx83a97ebcf19013d5111732c420e6...   \n",
       "1   2        Connerrr  td31jl6lo1kcgchx8s836d282c92e191fa93948e48c37b...   \n",
       "2   3      TaylorGang  wjlq25zxikgy65wgvh352b8928dfc34f267cf4592dd1e3...   \n",
       "3   4        jztmanyl  r00bj0uit72ebf34nlec8a34e9002da6fbd854e1818e5c...   \n",
       "4   5         Delshad  s3h9vxt57ir95o0ppdb02518639936171d3c569a9db898...   \n",
       "5   6  ihasnousername  m52txbzxkm3uuitvj8856b6aaa2dda3e19331aad7401cf...   \n",
       "6   7        syjuntan  3r1xoh3cdqieagc1k71ddf93f9ff99d1f110b7a3b14839...   \n",
       "7   8          zestia  j8u7goc9bywr1ujpohea5966e75fdff1e6936bd9390a0b...   \n",
       "8   9      rangefluid  tvmsc7j9gupubmaaok22452a5d7b5ce95f7cd2e8e9e1e2...   \n",
       "9  10         tc4waza  bc8m286mywj5dkh52zce777cf9f6db95d1736d1da884fa...   \n",
       "\n",
       "                 salt                      email               ip  \\\n",
       "0  3jujb4ortkp10ft0zx             eknoz@live.com     24.92.81.234   \n",
       "1  td31jl6lo1kcgchx8s     conz2012@hotmail.co.uk      2.100.40.59   \n",
       "2  wjlq25zxikgy65wgvh         tgsgaming@live.com     208.38.66.32   \n",
       "3  r00bj0uit72ebf34nl    maxtheawsome@hotmail.se   95.209.100.228   \n",
       "4  s3h9vxt57ir95o0ppd           habnu@hotmail.dk    87.57.129.218   \n",
       "5  m52txbzxkm3uuitvj8         jztmanyl@gmail.com   95.209.100.228   \n",
       "6  3r1xoh3cdqieagc1k7       max.nylander@live.se   95.209.100.228   \n",
       "7  j8u7goc9bywr1ujpoh         zestiahd@gmail.com  188.114.162.177   \n",
       "8  tvmsc7j9gupubmaaok  steelersfan4377@yahoo.com    99.72.194.104   \n",
       "9  bc8m286mywj5dkh52z               velez@gmx.us   98.253.169.154   \n",
       "\n",
       "        lastact         token  usergroup  subdays      lastboot  cooldown  \\\n",
       "0  1.343630e+09  x9749il5citu          1        0  1.343629e+09        50   \n",
       "1  1.343652e+09  9mch1bbdsagu          0       12  1.343631e+09       180   \n",
       "2  1.343371e+09  ikepeyxnc284          0       18  1.343369e+09        60   \n",
       "3  1.342104e+09  8v0uh66htyhc          0        5  1.342104e+09       200   \n",
       "4  1.343631e+09  tygmaa6rmzyw          0       15  1.343626e+09       290   \n",
       "5  1.343639e+09  e4a6selpi6p7          0        0  1.343639e+09       100   \n",
       "6  1.342104e+09  b3ub4l83eqfh          0        7           NaN         0   \n",
       "7  1.343571e+09  ut6sxoewj78l          0        0  1.343571e+09       100   \n",
       "8  1.343667e+09  pvv5j4s4y2vt          0        0  1.343183e+09       300   \n",
       "9  1.343450e+09  f2b6iqgii77u          0        0  1.343450e+09       100   \n",
       "\n",
       "   banned        membership     lastlogin    tos  \n",
       "0       0  ultimatelifetime  1.343629e+09  agree  \n",
       "1       0     bronzemonthly  1.343650e+09  agree  \n",
       "2       0     silvermonthly  1.343366e+09  agree  \n",
       "3       0     bronzemonthly  1.342104e+09  agree  \n",
       "4       0     bronzemonthly  1.343631e+09  agree  \n",
       "5       0  platinumlifetime  1.343639e+09  agree  \n",
       "6       0     bronzemonthly  1.342104e+09  agree  \n",
       "7       0    bronzelifetime  1.343571e+09  agree  \n",
       "8       0    bronzelifetime  1.343667e+09  agree  \n",
       "9       0    bronzelifetime  1.343450e+09  agree  "
      ]
     },
     "execution_count": 117,
     "metadata": {},
     "output_type": "execute_result"
    }
   ],
   "source": [
    "tablename='users'\n",
    "\n",
    "pd.read_csv(read_inserted_table(dumpfile, tablename),delimiter=\",\",error_bad_lines=False).head(10)"
   ]
  },
  {
   "cell_type": "markdown",
   "metadata": {},
   "source": [
    "#### Q1: Is this table different from other previous loaded table? YES \n",
    "#### Q2: Is this table similar to any table in the generic Booter database schema? YES\n",
    "    - This table looks like: users\n",
    "#### Q3: Are there modifications required? \n",
    "    - On the table name: \n",
    "        o \n",
    "    - On the column type: \n",
    "        o \n",
    "    - On the column name:\n",
    "        o email -> useremail \n",
    "        o membership -> planid\n",
    "    - Add required columns:\n",
    "        o userid\n",
    "        o expire\n",
    "    - Split columns:\n",
    "        o df_logins['username']=df_users['username']\n",
    "        o df_logins['userip']=df_users['ip']\n",
    "        o df_logins['date']=timestamp2datetime(df_users['lastlogin'])"
   ]
  },
  {
   "cell_type": "markdown",
   "metadata": {},
   "source": [
    "### Modifying table: 'paypal_payments'"
   ]
  },
  {
   "cell_type": "code",
   "execution_count": 119,
   "metadata": {
    "collapsed": false
   },
   "outputs": [
    {
     "data": {
      "text/html": [
       "<div>\n",
       "<table border=\"1\" class=\"dataframe\">\n",
       "  <thead>\n",
       "    <tr style=\"text-align: right;\">\n",
       "      <th></th>\n",
       "      <th>id</th>\n",
       "      <th>username</th>\n",
       "      <th>password</th>\n",
       "      <th>salt</th>\n",
       "      <th>useremail</th>\n",
       "      <th>ip</th>\n",
       "      <th>lastact</th>\n",
       "      <th>token</th>\n",
       "      <th>usergroup</th>\n",
       "      <th>subdays</th>\n",
       "      <th>lastboot</th>\n",
       "      <th>cooldown</th>\n",
       "      <th>banned</th>\n",
       "      <th>planid</th>\n",
       "      <th>lastlogin</th>\n",
       "      <th>tos</th>\n",
       "      <th>userid</th>\n",
       "      <th>expire</th>\n",
       "    </tr>\n",
       "  </thead>\n",
       "  <tbody>\n",
       "    <tr>\n",
       "      <th>0</th>\n",
       "      <td>1</td>\n",
       "      <td>EKNOZ</td>\n",
       "      <td>3jujb4ortkp10ft0zx83a97ebcf19013d5111732c420e6...</td>\n",
       "      <td>3jujb4ortkp10ft0zx</td>\n",
       "      <td>eknoz@live.com</td>\n",
       "      <td>24.92.81.234</td>\n",
       "      <td>1.343630e+09</td>\n",
       "      <td>x9749il5citu</td>\n",
       "      <td>1</td>\n",
       "      <td>0</td>\n",
       "      <td>1.343629e+09</td>\n",
       "      <td>50</td>\n",
       "      <td>0</td>\n",
       "      <td>ultimatelifetime</td>\n",
       "      <td>1.343629e+09</td>\n",
       "      <td>agree</td>\n",
       "      <td>NaN</td>\n",
       "      <td></td>\n",
       "    </tr>\n",
       "    <tr>\n",
       "      <th>1</th>\n",
       "      <td>2</td>\n",
       "      <td>Connerrr</td>\n",
       "      <td>td31jl6lo1kcgchx8s836d282c92e191fa93948e48c37b...</td>\n",
       "      <td>td31jl6lo1kcgchx8s</td>\n",
       "      <td>conz2012@hotmail.co.uk</td>\n",
       "      <td>2.100.40.59</td>\n",
       "      <td>1.343652e+09</td>\n",
       "      <td>9mch1bbdsagu</td>\n",
       "      <td>0</td>\n",
       "      <td>12</td>\n",
       "      <td>1.343631e+09</td>\n",
       "      <td>180</td>\n",
       "      <td>0</td>\n",
       "      <td>bronzemonthly</td>\n",
       "      <td>1.343650e+09</td>\n",
       "      <td>agree</td>\n",
       "      <td>NaN</td>\n",
       "      <td></td>\n",
       "    </tr>\n",
       "    <tr>\n",
       "      <th>2</th>\n",
       "      <td>3</td>\n",
       "      <td>TaylorGang</td>\n",
       "      <td>wjlq25zxikgy65wgvh352b8928dfc34f267cf4592dd1e3...</td>\n",
       "      <td>wjlq25zxikgy65wgvh</td>\n",
       "      <td>tgsgaming@live.com</td>\n",
       "      <td>208.38.66.32</td>\n",
       "      <td>1.343371e+09</td>\n",
       "      <td>ikepeyxnc284</td>\n",
       "      <td>0</td>\n",
       "      <td>18</td>\n",
       "      <td>1.343369e+09</td>\n",
       "      <td>60</td>\n",
       "      <td>0</td>\n",
       "      <td>silvermonthly</td>\n",
       "      <td>1.343366e+09</td>\n",
       "      <td>agree</td>\n",
       "      <td>NaN</td>\n",
       "      <td></td>\n",
       "    </tr>\n",
       "    <tr>\n",
       "      <th>3</th>\n",
       "      <td>4</td>\n",
       "      <td>jztmanyl</td>\n",
       "      <td>r00bj0uit72ebf34nlec8a34e9002da6fbd854e1818e5c...</td>\n",
       "      <td>r00bj0uit72ebf34nl</td>\n",
       "      <td>maxtheawsome@hotmail.se</td>\n",
       "      <td>95.209.100.228</td>\n",
       "      <td>1.342104e+09</td>\n",
       "      <td>8v0uh66htyhc</td>\n",
       "      <td>0</td>\n",
       "      <td>5</td>\n",
       "      <td>1.342104e+09</td>\n",
       "      <td>200</td>\n",
       "      <td>0</td>\n",
       "      <td>bronzemonthly</td>\n",
       "      <td>1.342104e+09</td>\n",
       "      <td>agree</td>\n",
       "      <td>NaN</td>\n",
       "      <td></td>\n",
       "    </tr>\n",
       "    <tr>\n",
       "      <th>4</th>\n",
       "      <td>5</td>\n",
       "      <td>Delshad</td>\n",
       "      <td>s3h9vxt57ir95o0ppdb02518639936171d3c569a9db898...</td>\n",
       "      <td>s3h9vxt57ir95o0ppd</td>\n",
       "      <td>habnu@hotmail.dk</td>\n",
       "      <td>87.57.129.218</td>\n",
       "      <td>1.343631e+09</td>\n",
       "      <td>tygmaa6rmzyw</td>\n",
       "      <td>0</td>\n",
       "      <td>15</td>\n",
       "      <td>1.343626e+09</td>\n",
       "      <td>290</td>\n",
       "      <td>0</td>\n",
       "      <td>bronzemonthly</td>\n",
       "      <td>1.343631e+09</td>\n",
       "      <td>agree</td>\n",
       "      <td>NaN</td>\n",
       "      <td></td>\n",
       "    </tr>\n",
       "    <tr>\n",
       "      <th>5</th>\n",
       "      <td>6</td>\n",
       "      <td>ihasnousername</td>\n",
       "      <td>m52txbzxkm3uuitvj8856b6aaa2dda3e19331aad7401cf...</td>\n",
       "      <td>m52txbzxkm3uuitvj8</td>\n",
       "      <td>jztmanyl@gmail.com</td>\n",
       "      <td>95.209.100.228</td>\n",
       "      <td>1.343639e+09</td>\n",
       "      <td>e4a6selpi6p7</td>\n",
       "      <td>0</td>\n",
       "      <td>0</td>\n",
       "      <td>1.343639e+09</td>\n",
       "      <td>100</td>\n",
       "      <td>0</td>\n",
       "      <td>platinumlifetime</td>\n",
       "      <td>1.343639e+09</td>\n",
       "      <td>agree</td>\n",
       "      <td>NaN</td>\n",
       "      <td></td>\n",
       "    </tr>\n",
       "    <tr>\n",
       "      <th>6</th>\n",
       "      <td>7</td>\n",
       "      <td>syjuntan</td>\n",
       "      <td>3r1xoh3cdqieagc1k71ddf93f9ff99d1f110b7a3b14839...</td>\n",
       "      <td>3r1xoh3cdqieagc1k7</td>\n",
       "      <td>max.nylander@live.se</td>\n",
       "      <td>95.209.100.228</td>\n",
       "      <td>1.342104e+09</td>\n",
       "      <td>b3ub4l83eqfh</td>\n",
       "      <td>0</td>\n",
       "      <td>7</td>\n",
       "      <td>NaN</td>\n",
       "      <td>0</td>\n",
       "      <td>0</td>\n",
       "      <td>bronzemonthly</td>\n",
       "      <td>1.342104e+09</td>\n",
       "      <td>agree</td>\n",
       "      <td>NaN</td>\n",
       "      <td></td>\n",
       "    </tr>\n",
       "    <tr>\n",
       "      <th>7</th>\n",
       "      <td>8</td>\n",
       "      <td>zestia</td>\n",
       "      <td>j8u7goc9bywr1ujpohea5966e75fdff1e6936bd9390a0b...</td>\n",
       "      <td>j8u7goc9bywr1ujpoh</td>\n",
       "      <td>zestiahd@gmail.com</td>\n",
       "      <td>188.114.162.177</td>\n",
       "      <td>1.343571e+09</td>\n",
       "      <td>ut6sxoewj78l</td>\n",
       "      <td>0</td>\n",
       "      <td>0</td>\n",
       "      <td>1.343571e+09</td>\n",
       "      <td>100</td>\n",
       "      <td>0</td>\n",
       "      <td>bronzelifetime</td>\n",
       "      <td>1.343571e+09</td>\n",
       "      <td>agree</td>\n",
       "      <td>NaN</td>\n",
       "      <td></td>\n",
       "    </tr>\n",
       "    <tr>\n",
       "      <th>8</th>\n",
       "      <td>9</td>\n",
       "      <td>rangefluid</td>\n",
       "      <td>tvmsc7j9gupubmaaok22452a5d7b5ce95f7cd2e8e9e1e2...</td>\n",
       "      <td>tvmsc7j9gupubmaaok</td>\n",
       "      <td>steelersfan4377@yahoo.com</td>\n",
       "      <td>99.72.194.104</td>\n",
       "      <td>1.343667e+09</td>\n",
       "      <td>pvv5j4s4y2vt</td>\n",
       "      <td>0</td>\n",
       "      <td>0</td>\n",
       "      <td>1.343183e+09</td>\n",
       "      <td>300</td>\n",
       "      <td>0</td>\n",
       "      <td>bronzelifetime</td>\n",
       "      <td>1.343667e+09</td>\n",
       "      <td>agree</td>\n",
       "      <td>NaN</td>\n",
       "      <td></td>\n",
       "    </tr>\n",
       "    <tr>\n",
       "      <th>9</th>\n",
       "      <td>10</td>\n",
       "      <td>tc4waza</td>\n",
       "      <td>bc8m286mywj5dkh52zce777cf9f6db95d1736d1da884fa...</td>\n",
       "      <td>bc8m286mywj5dkh52z</td>\n",
       "      <td>velez@gmx.us</td>\n",
       "      <td>98.253.169.154</td>\n",
       "      <td>1.343450e+09</td>\n",
       "      <td>f2b6iqgii77u</td>\n",
       "      <td>0</td>\n",
       "      <td>0</td>\n",
       "      <td>1.343450e+09</td>\n",
       "      <td>100</td>\n",
       "      <td>0</td>\n",
       "      <td>bronzelifetime</td>\n",
       "      <td>1.343450e+09</td>\n",
       "      <td>agree</td>\n",
       "      <td>NaN</td>\n",
       "      <td></td>\n",
       "    </tr>\n",
       "  </tbody>\n",
       "</table>\n",
       "</div>"
      ],
      "text/plain": [
       "   id        username                                           password  \\\n",
       "0   1           EKNOZ  3jujb4ortkp10ft0zx83a97ebcf19013d5111732c420e6...   \n",
       "1   2        Connerrr  td31jl6lo1kcgchx8s836d282c92e191fa93948e48c37b...   \n",
       "2   3      TaylorGang  wjlq25zxikgy65wgvh352b8928dfc34f267cf4592dd1e3...   \n",
       "3   4        jztmanyl  r00bj0uit72ebf34nlec8a34e9002da6fbd854e1818e5c...   \n",
       "4   5         Delshad  s3h9vxt57ir95o0ppdb02518639936171d3c569a9db898...   \n",
       "5   6  ihasnousername  m52txbzxkm3uuitvj8856b6aaa2dda3e19331aad7401cf...   \n",
       "6   7        syjuntan  3r1xoh3cdqieagc1k71ddf93f9ff99d1f110b7a3b14839...   \n",
       "7   8          zestia  j8u7goc9bywr1ujpohea5966e75fdff1e6936bd9390a0b...   \n",
       "8   9      rangefluid  tvmsc7j9gupubmaaok22452a5d7b5ce95f7cd2e8e9e1e2...   \n",
       "9  10         tc4waza  bc8m286mywj5dkh52zce777cf9f6db95d1736d1da884fa...   \n",
       "\n",
       "                 salt                  useremail               ip  \\\n",
       "0  3jujb4ortkp10ft0zx             eknoz@live.com     24.92.81.234   \n",
       "1  td31jl6lo1kcgchx8s     conz2012@hotmail.co.uk      2.100.40.59   \n",
       "2  wjlq25zxikgy65wgvh         tgsgaming@live.com     208.38.66.32   \n",
       "3  r00bj0uit72ebf34nl    maxtheawsome@hotmail.se   95.209.100.228   \n",
       "4  s3h9vxt57ir95o0ppd           habnu@hotmail.dk    87.57.129.218   \n",
       "5  m52txbzxkm3uuitvj8         jztmanyl@gmail.com   95.209.100.228   \n",
       "6  3r1xoh3cdqieagc1k7       max.nylander@live.se   95.209.100.228   \n",
       "7  j8u7goc9bywr1ujpoh         zestiahd@gmail.com  188.114.162.177   \n",
       "8  tvmsc7j9gupubmaaok  steelersfan4377@yahoo.com    99.72.194.104   \n",
       "9  bc8m286mywj5dkh52z               velez@gmx.us   98.253.169.154   \n",
       "\n",
       "        lastact         token  usergroup  subdays      lastboot  cooldown  \\\n",
       "0  1.343630e+09  x9749il5citu          1        0  1.343629e+09        50   \n",
       "1  1.343652e+09  9mch1bbdsagu          0       12  1.343631e+09       180   \n",
       "2  1.343371e+09  ikepeyxnc284          0       18  1.343369e+09        60   \n",
       "3  1.342104e+09  8v0uh66htyhc          0        5  1.342104e+09       200   \n",
       "4  1.343631e+09  tygmaa6rmzyw          0       15  1.343626e+09       290   \n",
       "5  1.343639e+09  e4a6selpi6p7          0        0  1.343639e+09       100   \n",
       "6  1.342104e+09  b3ub4l83eqfh          0        7           NaN         0   \n",
       "7  1.343571e+09  ut6sxoewj78l          0        0  1.343571e+09       100   \n",
       "8  1.343667e+09  pvv5j4s4y2vt          0        0  1.343183e+09       300   \n",
       "9  1.343450e+09  f2b6iqgii77u          0        0  1.343450e+09       100   \n",
       "\n",
       "   banned            planid     lastlogin    tos  userid expire  \n",
       "0       0  ultimatelifetime  1.343629e+09  agree     NaN         \n",
       "1       0     bronzemonthly  1.343650e+09  agree     NaN         \n",
       "2       0     silvermonthly  1.343366e+09  agree     NaN         \n",
       "3       0     bronzemonthly  1.342104e+09  agree     NaN         \n",
       "4       0     bronzemonthly  1.343631e+09  agree     NaN         \n",
       "5       0  platinumlifetime  1.343639e+09  agree     NaN         \n",
       "6       0     bronzemonthly  1.342104e+09  agree     NaN         \n",
       "7       0    bronzelifetime  1.343571e+09  agree     NaN         \n",
       "8       0    bronzelifetime  1.343667e+09  agree     NaN         \n",
       "9       0    bronzelifetime  1.343450e+09  agree     NaN         "
      ]
     },
     "execution_count": 119,
     "metadata": {},
     "output_type": "execute_result"
    }
   ],
   "source": [
    "# Loading the correct table name\n",
    "df_users = pd.read_csv(read_inserted_table(dumpfile, tablename),delimiter=\",\",error_bad_lines=False)\n",
    "\n",
    "# Converting columns\n",
    "\n",
    "# Changing names of columns\n",
    "df_users.rename(inplace=True, columns = {'email':'useremail',\n",
    "                                        'membership': 'planid'})\n",
    "\n",
    "# Creating empty columns (with \"\" [for future string] or np.nan [for future float])\n",
    "df_users['userid']=np.nan\n",
    "df_users['expire']=''\n",
    "\n",
    "# Showing some lines after adapt the table\n",
    "df_users.head(10)"
   ]
  },
  {
   "cell_type": "code",
   "execution_count": 125,
   "metadata": {
    "collapsed": false
   },
   "outputs": [
    {
     "data": {
      "text/html": [
       "<div>\n",
       "<table border=\"1\" class=\"dataframe\">\n",
       "  <thead>\n",
       "    <tr style=\"text-align: right;\">\n",
       "      <th></th>\n",
       "      <th>username</th>\n",
       "      <th>userip</th>\n",
       "      <th>date</th>\n",
       "      <th>id</th>\n",
       "      <th>userid</th>\n",
       "    </tr>\n",
       "  </thead>\n",
       "  <tbody>\n",
       "    <tr>\n",
       "      <th>0</th>\n",
       "      <td>EKNOZ</td>\n",
       "      <td>24.92.81.234</td>\n",
       "      <td>2012-07-30 06:23:29</td>\n",
       "      <td></td>\n",
       "      <td></td>\n",
       "    </tr>\n",
       "    <tr>\n",
       "      <th>1</th>\n",
       "      <td>Connerrr</td>\n",
       "      <td>2.100.40.59</td>\n",
       "      <td>2012-07-30 12:10:52</td>\n",
       "      <td></td>\n",
       "      <td></td>\n",
       "    </tr>\n",
       "    <tr>\n",
       "      <th>2</th>\n",
       "      <td>TaylorGang</td>\n",
       "      <td>208.38.66.32</td>\n",
       "      <td>2012-07-27 05:18:06</td>\n",
       "      <td></td>\n",
       "      <td></td>\n",
       "    </tr>\n",
       "    <tr>\n",
       "      <th>3</th>\n",
       "      <td>jztmanyl</td>\n",
       "      <td>95.209.100.228</td>\n",
       "      <td>2012-07-12 14:41:47</td>\n",
       "      <td></td>\n",
       "      <td></td>\n",
       "    </tr>\n",
       "    <tr>\n",
       "      <th>4</th>\n",
       "      <td>Delshad</td>\n",
       "      <td>87.57.129.218</td>\n",
       "      <td>2012-07-30 06:46:56</td>\n",
       "      <td></td>\n",
       "      <td></td>\n",
       "    </tr>\n",
       "  </tbody>\n",
       "</table>\n",
       "</div>"
      ],
      "text/plain": [
       "     username          userip                date id userid\n",
       "0       EKNOZ    24.92.81.234 2012-07-30 06:23:29          \n",
       "1    Connerrr     2.100.40.59 2012-07-30 12:10:52          \n",
       "2  TaylorGang    208.38.66.32 2012-07-27 05:18:06          \n",
       "3    jztmanyl  95.209.100.228 2012-07-12 14:41:47          \n",
       "4     Delshad   87.57.129.218 2012-07-30 06:46:56          "
      ]
     },
     "execution_count": 125,
     "metadata": {},
     "output_type": "execute_result"
    }
   ],
   "source": [
    "df_logins=pd.DataFrame()\n",
    "df_logins['username']=df_users['username']\n",
    "df_logins['userip']=df_users['ip']\n",
    "df_logins['date']=timestamp2datetime(df_users['lastlogin'])\n",
    "\n",
    "df_logins['id']=''\n",
    "df_logins['userid']=''\n",
    "\n",
    "df_logins.head()"
   ]
  },
  {
   "cell_type": "markdown",
   "metadata": {},
   "source": [
    "<h2 align='center'>======================================================================\n",
    "<br>Final step of the manual part\n",
    "======================================================================</h2>"
   ]
  },
  {
   "cell_type": "markdown",
   "metadata": {},
   "source": [
    "## 7. Adding missing tables accordingly to our generic Booter database "
   ]
  },
  {
   "cell_type": "code",
   "execution_count": 126,
   "metadata": {
    "collapsed": false
   },
   "outputs": [],
   "source": [
    "#df_attacks= pd.DataFrame(columns=['id','userid','username','targetip','targeturl','duration','port','type','date'])\n",
    "df_blacklist=pd.DataFrame(columns=['id','ip','note'])\n",
    "#df_friendsenemies=pd.DataFrame(columns=['id','ip','note','userid','type'])\n",
    "df_gateways=pd.DataFrame(columns=['email'])\n",
    "#df_logins=pd.DataFrame(columns=['id','userid','username','userip','date'])\n",
    "#df_payments=pd.DataFrame(columns=['id','userid','username','amountpaid','paymentemail','planid','tid','date'])\n",
    "#df_plans=pd.DataFrame(columns=['planid','planname','plandescr','price','maxboottime','concurrency'])\n",
    "df_servers=pd.DataFrame(columns=['id','ip'])\n",
    "#df_settings=pd.DataFrame(columns=['url','sitename','siteemail'])\n",
    "#df_users=pd.DataFrame(columns=['userid','username','useremail','password','expire','plan'])      \n",
    "#df_webshells=pd.DataFrame(columns=['id','url','status','lastchecked','attacktype'])"
   ]
  },
  {
   "cell_type": "markdown",
   "metadata": {},
   "source": [
    "<h1 align=\"center\">\n",
    "!!!!!!!!!!!!!!!!!!!!!!!!!!!!!!!!!!!!!!!!!!!!!!!!!!!!!!!!!!!!!!!!!!!!!!!!!!!!!!!!!!!!!!!!!!!!!!!!!!!!!!!!!!!!!!!!!!!!!!!!!!!!!!!!!!!!!!!!!<br>\n",
    "STEP 2: Data Enrichment<br>\n",
    "!!!!!!!!!!!!!!!!!!!!!!!!!!!!!!!!!!!!!!!!!!!!!!!!!!!!!!!!!!!!!!!!!!!!!!!!!!!!!!!!!!!!!!!!!!!!!!!!!!!!!!!!!!!!!!!!!!!!!!!!!!!!!!!</h1> "
   ]
  },
  {
   "cell_type": "markdown",
   "metadata": {},
   "source": [
    "### * Depending of the size of the data, this part can take HOURS. I tested for both small and big datasets and it worked. Be pacient. This will pay-off!"
   ]
  },
  {
   "cell_type": "markdown",
   "metadata": {},
   "source": [
    "## * Libraries needed to retrieve information from external databases"
   ]
  },
  {
   "cell_type": "code",
   "execution_count": null,
   "metadata": {
    "collapsed": true
   },
   "outputs": [],
   "source": [
    "import subprocess\n",
    "import cfscrape\n",
    "from lxml import etree\n",
    "import os.path\n",
    "import random\n",
    "import time "
   ]
  },
  {
   "cell_type": "markdown",
   "metadata": {},
   "source": [
    "## * Function to enrich IP addresseswith AS information and country "
   ]
  },
  {
   "cell_type": "code",
   "execution_count": null,
   "metadata": {
    "collapsed": false
   },
   "outputs": [],
   "source": [
    "# THANKS TO: team-cymru.org\n",
    "def iptoasn(iplist_teamcymruformat_filelocation,outputfile):\n",
    "    cat = subprocess.Popen(['cat', iplist_teamcymruformat_filelocation], \n",
    "                            stdout=subprocess.PIPE)\n",
    "    \n",
    "    netcat = subprocess.Popen(['netcat', 'whois.cymru.com', '43'],\n",
    "                              stdin=cat.stdout,\n",
    "                              stdout=outputfile)\n",
    "    time.sleep(3) #for some reason the poll does not work! This was the way to overcome the waiting time.\n",
    "    \n",
    "    return netcat.stdout      "
   ]
  },
  {
   "cell_type": "markdown",
   "metadata": {},
   "source": [
    "## * Function to check if an IP address was Tor node in a given moment"
   ]
  },
  {
   "cell_type": "code",
   "execution_count": null,
   "metadata": {
    "collapsed": true
   },
   "outputs": [],
   "source": [
    "# THANKS TO: exonerator.torproject.org\n",
    "def WasTorNode(ip, date ):\n",
    "    url=\"https://exonerator.torproject.org/?ip=\"+ip+\"&timestamp=\"+date\n",
    "    scraper = cfscrape.create_scraper()\n",
    "    scraped_html=scraper.get(url).content    \n",
    "    html_tree = etree.HTML(scraped_html)\n",
    "    result=html_tree.xpath(\"//h3[@class='panel-title']/text()\") # I was looking for <h3 class=\"panel-title\">Result is positive</h3>\n",
    "    tor_node=True if result == ['Result is positive'] else False\n",
    "    return tor_node \n",
    "# 'date' MUST BE formated as: Year-month-day (2016-03-31)"
   ]
  },
  {
   "cell_type": "markdown",
   "metadata": {},
   "source": [
    "## * Discovering the middle date of the database"
   ]
  },
  {
   "cell_type": "code",
   "execution_count": null,
   "metadata": {
    "collapsed": false
   },
   "outputs": [],
   "source": [
    "try:\n",
    "    try:\n",
    "        middle_date=(min(df_attacks['date'])+((max(df_attacks['date'])-min(df_attacks['date']))/2))\n",
    "        raise\n",
    "    except Exception:\n",
    "        pass\n",
    "\n",
    "    try:\n",
    "        middle_date=(min(df_logins['date'])+((max(df_logins['date'])-min(df_logins['date']))/2))\n",
    "        raise\n",
    "    except Exception:\n",
    "        pass\n",
    "\n",
    "    try:\n",
    "        middle_date=(min(df_payments['date'])+((max(df_payments['date'])-min(df_payments['date']))/2))\n",
    "        raise\n",
    "    except:\n",
    "        pass\n",
    "except Exception:\n",
    "    print(\"There is no date in the entire dataset\")\n",
    "\n",
    "date_tor_check = middle_date.strftime('%Y-%m-%d')\n",
    "date_iptoasn_lookup= str(middle_date)\n",
    "print(date_tor_check)"
   ]
  },
  {
   "cell_type": "markdown",
   "metadata": {},
   "source": [
    "## * Preparing to Perform IP to ASN info"
   ]
  },
  {
   "cell_type": "code",
   "execution_count": null,
   "metadata": {
    "collapsed": false
   },
   "outputs": [],
   "source": [
    "df_logins['middledate']=date_iptoasn_lookup\n",
    "df_attacks['middledate']=date_iptoasn_lookup\n",
    "df_friendsenemies['middledate']=date_iptoasn_lookup\n",
    "df_blacklist['middledate']=date_iptoasn_lookup"
   ]
  },
  {
   "cell_type": "markdown",
   "metadata": {},
   "source": [
    "## 2.1.1  Lookup IP to ASN info of table: logins"
   ]
  },
  {
   "cell_type": "code",
   "execution_count": null,
   "metadata": {
    "collapsed": false
   },
   "outputs": [],
   "source": [
    "if (os.path.exists('enrichments/logins_iptoasn_out')== False):\n",
    "    logins_iptoasn_in = open('enrichments/logins_iptoasn_in', 'w+')\n",
    "    logins_iptoasn_in.write('begin\\nverbose\\n')\n",
    "    df_logins[['userip','middledate']].drop_duplicates().to_csv(logins_iptoasn_in,header=False,index=False,sep=\"\\t\") \n",
    "    logins_iptoasn_in.write('end')\n",
    "    logins_iptoasn_in.close()\n",
    "\n",
    "    logins_iptoasn_out = open('logins_iptoasn_out', 'w+')\n",
    "    iptoasn('logins_iptoasn_in',logins_iptoasn_out)\n",
    "    logins_iptoasn_out.close()\n",
    "else:\n",
    "    print(\"You already performed the lookup for this table\")"
   ]
  },
  {
   "cell_type": "code",
   "execution_count": null,
   "metadata": {
    "collapsed": false
   },
   "outputs": [],
   "source": [
    "df_logins_iptoasn = pd.read_csv('enrichments/logins_iptoasn_out',\\\n",
    "                                skiprows=1,\\\n",
    "                             delimiter=\"\\s+\\|\\s\",\\\n",
    "                             names = ['asn', 'ip', 'bgp_prefix', 'country','registry','info_date','info_request','as_name'])\n",
    "\n",
    "df_logins_extended= pd.merge(df_logins,\n",
    "                              df_logins_iptoasn,\n",
    "                              how = 'left',\n",
    "                              left_on = 'userip',\n",
    "                              right_on = 'ip')\n",
    "\n",
    "# Changing name of columns to avoid misunderstandings\n",
    "df_logins_extended.rename(columns={'asn':'srcasn', \n",
    "                                   'ip':'srcip', \n",
    "                                   'bgp_prefix':'srcbgp_prefix', \n",
    "                                   'country':'srccountry' ,\n",
    "                                   'registry':'srcregistry',\n",
    "                                   'info_date':'srcinfo_date',\n",
    "                                   'info_request':'srcinfo_request'},\n",
    "                         inplace=True)\n",
    "\n",
    "\n",
    "df_logins_extended.head(5)"
   ]
  },
  {
   "cell_type": "markdown",
   "metadata": {},
   "source": [
    "## 2.1.2  Lookup IP to ASN info of table: attacks"
   ]
  },
  {
   "cell_type": "code",
   "execution_count": null,
   "metadata": {
    "collapsed": false
   },
   "outputs": [],
   "source": [
    "if (os.path.exists('enrichments/attacks_iptoasn_out')== False):\n",
    "    attacks_iptoasn_in = open('enrichments/attacks_iptoasn_in', 'w+')\n",
    "    attacks_iptoasn_in.write('begin\\nverbose\\n')\n",
    "    df_attacks[['targetip','middledate']].drop_duplicates().to_csv(attacks_iptoasn_in,header=False,index=False,sep=\"\\t\") \n",
    "    attacks_iptoasn_in.write('end')\n",
    "    attacks_iptoasn_in.close()\n",
    "\n",
    "    attacks_iptoasn_out = open('attacks_iptoasn_out', 'w+')\n",
    "    iptoasn('attacks_iptoasn_in',attacks_iptoasn_out)\n",
    "    attacks_iptoasn_out.close()\n",
    "else:\n",
    "    print(\"You already performed the lookup for this table\")"
   ]
  },
  {
   "cell_type": "code",
   "execution_count": null,
   "metadata": {
    "collapsed": false
   },
   "outputs": [],
   "source": [
    "df_attacks_iptoasn = pd.read_csv('enrichments/attacks_iptoasn_out',\\\n",
    "                                skiprows=1,\\\n",
    "                             delimiter=\"\\s+\\|\\s\",\\\n",
    "                             names = ['asn', 'ip', 'bgp_prefix', 'country','registry','info_date','info_request','as_name'])\n",
    "\n",
    "# Merging the iptoasn with the queried column\n",
    "df_attacks_extended= pd.merge(df_attacks,\n",
    "                              df_attacks_iptoasn,\n",
    "                              how = 'left',\n",
    "                              left_on = 'targetip',\n",
    "                              right_on = 'ip')\n",
    "\n",
    "# Changing name of columns to avoid misunderstandings\n",
    "df_attacks_extended.rename(columns={'asn':'targetasn', \n",
    "                                   'ip_y':'targetip', \n",
    "                                   'bgp_prefix':'targetbgp_prefix', \n",
    "                                   'country_y':'targetcountry' ,\n",
    "                                   'registry':'targetregistry',\n",
    "                                   'info_date':'targetinfo_date',\n",
    "                                   'info_request':'targetinfo_request'},\n",
    "                         inplace=True)\n",
    "df_attacks_extended.head(5)"
   ]
  },
  {
   "cell_type": "markdown",
   "metadata": {},
   "source": [
    "## 2.1.3  Lookup IP to ASN info of table: friendsenemies"
   ]
  },
  {
   "cell_type": "code",
   "execution_count": null,
   "metadata": {
    "collapsed": false
   },
   "outputs": [],
   "source": [
    "if (os.path.exists('enrichments/friendsenemies_iptoasn_out')== False):\n",
    "    friendsenemies_iptoasn_in = open('enrichments/friendsenemies_iptoasn_in', 'w+')\n",
    "    friendsenemies_iptoasn_in.write('begin\\nverbose\\n')\n",
    "    df_friendsenemies[['ip','middledate']].drop_duplicates().to_csv(friendsenemies_iptoasn_in,header=False,index=False,sep=\"\\t\") \n",
    "    friendsenemies_iptoasn_in.write('end')\n",
    "    friendsenemies_iptoasn_in.close()\n",
    "\n",
    "    friendsenemies_iptoasn_out = open('friendsenemies_iptoasn_out', 'w+')\n",
    "    iptoasn('friendsenemies_iptoasn_in',friendsenemies_iptoasn_out)\n",
    "    friendsenemies_iptoasn_out.close()\n",
    "else:\n",
    "    print(\"You already performed the lookup for this table.\")"
   ]
  },
  {
   "cell_type": "code",
   "execution_count": null,
   "metadata": {
    "collapsed": false
   },
   "outputs": [],
   "source": [
    "df_friendsenemies_iptoasn = pd.read_csv('enrichments/friendsenemies_iptoasn_out',\\\n",
    "                                skiprows=1,\\\n",
    "                             delimiter=\"\\s+\\|\\s\",\\\n",
    "                             names = ['asn', 'ip', 'bgp_prefix', 'country','registry','info_date','info_request','as_name'])\n",
    "\n",
    "# Merging the iptoasn with the queried column\n",
    "df_friendsenemies_extended= pd.merge(df_friendsenemies,\n",
    "                              df_friendsenemies_iptoasn,\n",
    "                              how = 'left',\n",
    "                              left_on = 'ip',\n",
    "                              right_on = 'ip')\n",
    "\n",
    "# Changing name of columns to avoid misunderstandings\n",
    "df_friendsenemies_extended.rename(columns={'asn':'friendsenemiesasn', \n",
    "                                   'ip':'friendsenemiesip', \n",
    "                                   'bgp_prefix':'friendsenemiesbgp_prefix', \n",
    "                                   'country':'friendsenemiescountry' ,\n",
    "                                   'registry':'friendsenemiesregistry',\n",
    "                                   'info_date':'friendsenemiesinfo_date',\n",
    "                                   'info_request':'friendsenemiesinfo_request',\n",
    "                                   'as_name': 'friendsenemiesas_name'},\n",
    "                         inplace=True)"
   ]
  },
  {
   "cell_type": "markdown",
   "metadata": {},
   "source": [
    "## 2.1.4  Lookup IP to ASN info of table: blacklist"
   ]
  },
  {
   "cell_type": "code",
   "execution_count": null,
   "metadata": {
    "collapsed": false
   },
   "outputs": [],
   "source": [
    "if (os.path.exists('enrichments/blacklist_iptoasn_out')== False):\n",
    "    blacklist_iptoasn_in = open('enrichments/blacklist_iptoasn_in', 'w+')\n",
    "    blacklist_iptoasn_in.write('begin\\nverbose\\n')\n",
    "    df_blacklist[['ip','middledate']].drop_duplicates().to_csv(blacklist_iptoasn_in,header=False,index=False,sep=\"\\t\") \n",
    "    blacklist_iptoasn_in.write('end')\n",
    "    blacklist_iptoasn_in.close()\n",
    "\n",
    "    blacklist_iptoasn_out = open('blacklist_iptoasn_out', 'w+')\n",
    "    iptoasn('blacklist_iptoasn_in',blacklist_iptoasn_out)\n",
    "    blacklist_iptoasn_out.close()\n",
    "else:\n",
    "    print(\"You already performed the lookup for this table.\")"
   ]
  },
  {
   "cell_type": "code",
   "execution_count": null,
   "metadata": {
    "collapsed": false
   },
   "outputs": [],
   "source": [
    "df_blacklist_iptoasn = pd.read_csv('enrichments/blacklist_iptoasn_out',\\\n",
    "                                skiprows=1,\\\n",
    "                             delimiter=\"\\s+\\|\\s\",\\\n",
    "                             names = ['asn', 'ip', 'bgp_prefix', 'country','registry','info_date','info_request','as_name'])\n",
    "\n",
    "# Merging the iptoasn with the queried column\n",
    "df_blacklist_extended= pd.merge(df_blacklist,\n",
    "                              df_blacklist_iptoasn,\n",
    "                              how = 'left',\n",
    "                              left_on = 'ip',\n",
    "                              right_on = 'ip')\n",
    "\n",
    "# Changing name of columns to avoid misunderstandings\n",
    "df_blacklist_extended.rename(columns={'asn':'blacklistasn', \n",
    "                                   'ip':'blacklistip', \n",
    "                                   'bgp_prefix':'blacklistbgp_prefix', \n",
    "                                   'country':'blacklistcountry' ,\n",
    "                                   'registry':'blacklistregistry',\n",
    "                                   'info_date':'blacklistinfo_date',\n",
    "                                   'info_request':'blacklistinfo_request',\n",
    "                                   'as_name': 'blacklistas_name'},\n",
    "                         inplace=True)\n",
    "df_blacklist_extended.head(5)"
   ]
  },
  {
   "cell_type": "markdown",
   "metadata": {},
   "source": [
    "## 2.2.1. Check if IP was a TOR node for table: login"
   ]
  },
  {
   "cell_type": "code",
   "execution_count": null,
   "metadata": {
    "collapsed": false
   },
   "outputs": [],
   "source": [
    "date_tor_check"
   ]
  },
  {
   "cell_type": "code",
   "execution_count": null,
   "metadata": {
    "collapsed": false,
    "scrolled": true
   },
   "outputs": [],
   "source": [
    "if len(df_logins['userip'].unique())<1200:\n",
    "    if (os.path.exists('enrichments/logins_torcheck')== False):\n",
    "        print(\"Note: it can take a while to finish...\")\n",
    "        logins_torcheck = open('logins_torcheck', 'w+')\n",
    "        for i in df_logins['userip'].unique():\n",
    "            wasTor=WasTorNode(i,date_tor_check)\n",
    "            print(i, wasTor, file=logins_torcheck)\n",
    "    #         print(i, wasTor) #DEBUGING =D\n",
    "            time.sleep(random.randint(1,3)) #adding some random sleep time\n",
    "            logins_torcheck.flush()\n",
    "\n",
    "        logins_torcheck.close()\n",
    "    else:\n",
    "        print(\"The IP addresses from this table were already checked.\")\n",
    "else:\n",
    "        print(\"Aborted!!! It will take more than one hour to analyse!\")"
   ]
  },
  {
   "cell_type": "code",
   "execution_count": null,
   "metadata": {
    "collapsed": true
   },
   "outputs": [],
   "source": [
    "df_logins_torcheck = pd.read_csv('enrichments/logins_torcheck',\\\n",
    "                          delimiter=\"\\s+\",\\\n",
    "                          names = ['userip', 'tor'])"
   ]
  },
  {
   "cell_type": "markdown",
   "metadata": {},
   "source": [
    "## 2.2.2. Check if IP was a TOR node for table: attacks"
   ]
  },
  {
   "cell_type": "code",
   "execution_count": null,
   "metadata": {
    "collapsed": false,
    "scrolled": false
   },
   "outputs": [],
   "source": [
    "if len(df_attacks['targetip'].unique())<1200:\n",
    "    if (os.path.exists('enrichments/attacks_torcheck')== False):\n",
    "        print(\"Note: it can take a while to finish...\",len(df_attacks['targetip'].unique())*3,\"seconds (in the worst case).\")\n",
    "\n",
    "        attacks_torcheck = open('attacks_torcheck', 'w+')\n",
    "\n",
    "        for i in df_attacks['targetip'].unique():\n",
    "            wasTor=WasTorNode(i,date_tor_check)\n",
    "            print(i, wasTor, file=attacks_torcheck)\n",
    "            print(i, wasTor) #DEBUGING =D\n",
    "            time.sleep(random.randint(1,3)) #adding some random sleep time\n",
    "            attacks_torcheck.flush()\n",
    "\n",
    "        attacks_torcheck.close()\n",
    "    else:\n",
    "        print(\"The IP addresses from this table were already checked.\") \n",
    "else:\n",
    "        print(\"Aborted!!! It will take more than one hour to analyse!\")"
   ]
  },
  {
   "cell_type": "code",
   "execution_count": null,
   "metadata": {
    "collapsed": true
   },
   "outputs": [],
   "source": [
    "df_attacks_torcheck = pd.read_csv('enrichments/attacks_torcheck',\\\n",
    "                          delimiter=\"\\s+\",\\\n",
    "                          names = ['targetip', 'tor'])"
   ]
  },
  {
   "cell_type": "markdown",
   "metadata": {},
   "source": [
    "## 2.2.3. Check if IP was a TOR node for table: friendsenemies"
   ]
  },
  {
   "cell_type": "code",
   "execution_count": null,
   "metadata": {
    "collapsed": false
   },
   "outputs": [],
   "source": [
    "if len(df_friendsenemies['ip'].unique()) <1200:\n",
    "    if (os.path.exists('enrichments/friendsenemies_torcheck')== False):\n",
    "        print(\"Note: it can take a while to finish...\",len(df_friendsenemies['ip'].unique())*3,\"seconds (in the worst case).\")\n",
    "\n",
    "        friendsenemies_torcheck = open('enrichments/friendsenemies_torcheck', 'w+')\n",
    "\n",
    "        for i in df_friendsenemies['ip'].unique():\n",
    "            wasTor=WasTorNode(i,date_tor_check)\n",
    "            print(i, wasTor, file=friendsenemies_torcheck)\n",
    "        #     print(i, wasTor) #DEBUGING =D\n",
    "            time.sleep(random.randint(1,3)) #adding some random sleep time\n",
    "            friendsenemies_torcheck.flush()\n",
    "\n",
    "        friendsenemies_torcheck.close()\n",
    "    else:\n",
    "        print(\"The IP addresses from this table were already checked.\") \n",
    "else:\n",
    "        print(\"Aborted!!! It will take more than one hour to analyse!\")"
   ]
  },
  {
   "cell_type": "code",
   "execution_count": null,
   "metadata": {
    "collapsed": true
   },
   "outputs": [],
   "source": [
    "df_friendsenemies_torcheck = pd.read_csv('enrichments/friendsenemies_torcheck',\\\n",
    "                          delimiter=\"\\s+\",\\\n",
    "                          names = ['ip', 'tor'])"
   ]
  },
  {
   "cell_type": "markdown",
   "metadata": {},
   "source": [
    "## 2.2.4. Check if IP was a TOR node for table: blacklist"
   ]
  },
  {
   "cell_type": "code",
   "execution_count": null,
   "metadata": {
    "collapsed": false
   },
   "outputs": [],
   "source": [
    "if len(df_blacklist['ip'].unique()) < 1200:\n",
    "    if (os.path.exists('enrichments/blacklist_torcheck')== False):\n",
    "        print(\"Note: it can take a while to finish...\",len(df_blacklist['ip'].unique())*3,\"seconds (in the worst case).\")\n",
    "\n",
    "        blacklist_torcheck = open('enrichments/blacklist_torcheck', 'w+')\n",
    "\n",
    "        for i in df_blacklist['ip'].unique():\n",
    "            wasTor=WasTorNode(i,date_tor_check)\n",
    "            print(i, wasTor, file=blacklist_torcheck)\n",
    "    #         print(i, wasTor) #DEBUGING =D\n",
    "            time.sleep(random.randint(1,3)) #adding some random sleep time\n",
    "            blacklist_torcheck.flush()\n",
    "\n",
    "        blacklist_torcheck.close()\n",
    "    else:\n",
    "        print(\"The IP addresses from this table were already checked.\") \n",
    "else:\n",
    "        print(\"Aborted!!! It will take more than one hour to analyse!\")"
   ]
  },
  {
   "cell_type": "code",
   "execution_count": null,
   "metadata": {
    "collapsed": true
   },
   "outputs": [],
   "source": [
    "df_blacklist_torcheck = pd.read_csv('enrichments/blacklist_torcheck',\\\n",
    "                          delimiter=\"\\s+\",\\\n",
    "                          names = ['ip', 'tor'])"
   ]
  },
  {
   "cell_type": "markdown",
   "metadata": {},
   "source": [
    "## * Relation between Attack dates and Login dates"
   ]
  },
  {
   "cell_type": "code",
   "execution_count": null,
   "metadata": {
    "collapsed": true
   },
   "outputs": [],
   "source": [
    "def nearestDate(base_date, date_list):\n",
    "    nearest={}\n",
    "    for date in date_list:\n",
    "        if (base_date.timestamp() - date.timestamp())>=0:\n",
    "            nearest[base_date.timestamp() - date.timestamp()]= date\n",
    "    return nearest[min(nearest.keys())]"
   ]
  },
  {
   "cell_type": "code",
   "execution_count": null,
   "metadata": {
    "collapsed": false
   },
   "outputs": [],
   "source": [
    "#This is the TOTAL number records to be checks!!!!\n",
    "len(df_attacks)"
   ]
  },
  {
   "cell_type": "code",
   "execution_count": null,
   "metadata": {
    "collapsed": true
   },
   "outputs": [],
   "source": [
    "df_attacks['nearestlogin']=\"\"\n",
    "df_attacks['nearestlogin']=pd.to_datetime(df_attacks['nearestlogin'])\n",
    "    \n",
    "if len(df_attacks)>0 and len(df_logins)>0:\n",
    "    #When was the last login of the user that performed attacks\n",
    "    df_attacks['nearestlogin']=\"\"\n",
    "    df_attacks['nearestlogin']=pd.to_datetime(df_attacks['nearestlogin'])\n",
    "\n",
    "    for index, row in df_attacks.head(100).iterrows():\n",
    "        intermediate_df= df_logins[df_logins['username']==row['username']]\n",
    "        nearestlogindate= nearestDate(row['date'],intermediate_df['date'])\n",
    "        df_attacks.set_value(index, 'nearestlogin', nearestlogindate)\n",
    "\n",
    "        #DEBUGGING\n",
    "        if index % 1000 == 0:\n",
    "            print(index,\": +1000 records analysed\")"
   ]
  },
  {
   "cell_type": "code",
   "execution_count": null,
   "metadata": {
    "collapsed": false
   },
   "outputs": [],
   "source": [
    "if len(df_attacks['nearestlogin'].value_counts()) >1:\n",
    "    df_attacks_and_logins = pd.merge(df_attacks_extended,\n",
    "                                     df_logins_extended,\n",
    "                                     how = 'left',\n",
    "                                     left_on = ['username','nearestlogin'],\n",
    "                                     right_on = ['username','date'])\n",
    "else:\n",
    "    df_attacks_and_logins=\"\""
   ]
  },
  {
   "cell_type": "markdown",
   "metadata": {},
   "source": [
    "<h2 align=\"center\">\n",
    "!!!!!!!!!!!!!!!!!!!!!!!!!!!!!!!!!!!!!!!!!!!!!!!!!!!!!!!!!!!!!!!!!!!!!!!!!!!!!!!!!!!!!!!!!!!!!!!!!!!!!!!!!!!!!!!!!!!!!!!!!!!!!!!!!!!!!!!!!<br>\n",
    "STEP 3: Automatic Analysis\n",
    "<br>\n",
    "!!!!!!!!!!!!!!!!!!!!!!!!!!!!!!!!!!!!!!!!!!!!!!!!!!!!!!!!!!!!!!!!!!!!!!!!!!!!!!!!!!!!!!!!!!!!!!!!!!!!!!!!!!!!!!!!!!!!!!!!!!!!!!!</h3> "
   ]
  },
  {
   "cell_type": "markdown",
   "metadata": {},
   "source": [
    "## * Libraries that I use to plot figs"
   ]
  },
  {
   "cell_type": "code",
   "execution_count": null,
   "metadata": {
    "collapsed": true
   },
   "outputs": [],
   "source": [
    "import matplotlib.pyplot as plt\n",
    "from matplotlib_venn import *\n",
    "%matplotlib inline\n",
    "\n",
    "import seaborn as sns\n",
    "import itertools\n",
    "\n",
    "plt.style.use('seaborn-muted')\n",
    "# plt.rcParams['font.family'] = 'serif'\n",
    "# plt.rcParams['font.size'] = 12\n",
    "\n",
    "import warnings\n",
    "warnings.filterwarnings('ignore')"
   ]
  },
  {
   "cell_type": "markdown",
   "metadata": {},
   "source": [
    "## A.1. Number of records per table (part of the generic Booter database schema)"
   ]
  },
  {
   "cell_type": "code",
   "execution_count": null,
   "metadata": {
    "collapsed": false
   },
   "outputs": [],
   "source": [
    "len(df_users),len(df_logins),len(df_attacks),len(df_payments),len(df_settings),len(df_gateways), len(df_friendsenemies),len(df_blacklist),len(df_webshells),len(df_servers),len(df_plans)"
   ]
  },
  {
   "cell_type": "markdown",
   "metadata": {},
   "source": [
    "## A.2. Number of users, customers, attackers, and their intersection"
   ]
  },
  {
   "cell_type": "code",
   "execution_count": null,
   "metadata": {
    "collapsed": false
   },
   "outputs": [],
   "source": [
    "if len(set(df_users['userid'].unique())) > 1:\n",
    "    users_set=set(df_users['userid'].unique())\n",
    "else:\n",
    "    users_set=set(df_users['username'].unique())\n",
    "    \n",
    "if len(set(df_logins['userid'].unique())) > 1:\n",
    "    userslogin_set=set(df_logins['userid'].unique())\n",
    "else:\n",
    "    userslogin_set=set(df_logins['username'].unique())\n",
    "\n",
    "if len(set(df_payments['userid'].unique())) > 1:\n",
    "    customers_set=set(df_payments['userid'].unique())\n",
    "else:\n",
    "    customers_set=set(df_payments['username'].unique())\n",
    "\n",
    "if len(set(df_attacks['userid'].unique())) > 1:\n",
    "    attackers_set=set(df_attacks['userid'].unique())\n",
    "else:\n",
    "    attackers_set=set(df_attacks['username'].unique())\n",
    "\n",
    "intersec_customers_attacker=pd.Series(list(customers_set.intersection(attackers_set)))\n",
    "intersec_users_customers=pd.Series(list(users_set.intersection(customers_set)))\n",
    "intersec_users_attackers=pd.Series(list(users_set.intersection(attackers_set)))\n",
    "intersec_users_customers_attackers=pd.Series(list(users_set.intersection(customers_set).intersection(attackers_set)))"
   ]
  },
  {
   "cell_type": "code",
   "execution_count": null,
   "metadata": {
    "collapsed": false
   },
   "outputs": [],
   "source": [
    "len(users_set),len(userslogin_set),len(customers_set),len(attackers_set)"
   ]
  },
  {
   "cell_type": "code",
   "execution_count": null,
   "metadata": {
    "collapsed": false
   },
   "outputs": [],
   "source": [
    "fig = plt.figure(figsize=(4,3))\n",
    "fig.suptitle('Users, Customers & Attackers', fontsize=14)\n",
    "\n",
    "ax = plt.subplot2grid((1,1), (0,0))\n",
    "\n",
    "venn=venn3(ax=ax,subsets = {'001':len(attackers_set)-len(intersec_customers_attacker)-len(intersec_users_attackers)+len(intersec_users_customers_attackers), \n",
    "                            '010':len(customers_set)-len(intersec_users_customers)-len(intersec_customers_attacker)+len(intersec_users_customers_attackers), \n",
    "                            '011':len(intersec_customers_attacker)-len(intersec_users_customers_attackers),\n",
    "                            '100':len(users_set)-len(intersec_users_customers)-len(intersec_users_attackers)+len(intersec_users_customers_attackers),\n",
    "                            '101':len(intersec_users_attackers)-len(intersec_users_customers_attackers),\n",
    "                            '110':len(intersec_users_customers)-len(intersec_users_customers_attackers),\n",
    "                            '111':len(intersec_users_customers_attackers)},\\\n",
    "          set_labels = ('Users', 'Customers','Attackers'),\\\n",
    "          alpha=1)\n",
    "try:\n",
    "    venn.get_patch_by_id('100').set_color('#404096')\n",
    "except:\n",
    "    print(\"*Users set is empty!\")  \n",
    "    \n",
    "try:\n",
    "    venn.get_patch_by_id('110').set_color('#DEA73A')\n",
    "except:\n",
    "    print(\"*Customers set is empty!\")   \n",
    "\n",
    "try:\n",
    "    venn.get_patch_by_id('001').set_color('#D92120')\n",
    "except:\n",
    "    print(\"*Attackers set is empty!\")\n",
    "\n",
    "fig.show()\n",
    "# fig.savefig('../figs/timeseries_attacks.eps', format='eps', dpi=1200) "
   ]
  },
  {
   "cell_type": "markdown",
   "metadata": {},
   "source": [
    "## A.3. Distribution of login times per user"
   ]
  },
  {
   "cell_type": "code",
   "execution_count": null,
   "metadata": {
    "collapsed": false
   },
   "outputs": [],
   "source": [
    "if len(df_logins['userid'].value_counts()) > 0:\n",
    "    num_distinct_logins_per_user=df_logins['userid'].value_counts()\n",
    "else:\n",
    "    num_distinct_logins_per_user=df_logins['username'].value_counts()\n",
    "\n",
    "freq_distinct_logins_per_user=num_distinct_logins_per_user.value_counts()\n",
    "cum_dist_user_logins = np.linspace(0.,1.,len(num_distinct_logins_per_user))\n",
    "cdf_user_logins = pd.Series(cum_dist_user_logins, index=num_distinct_logins_per_user.sort_values())"
   ]
  },
  {
   "cell_type": "code",
   "execution_count": null,
   "metadata": {
    "collapsed": false
   },
   "outputs": [],
   "source": [
    "if len(num_distinct_logins_per_user)>0:\n",
    "    fig = plt.figure(figsize=(6, 3))\n",
    "    fig.suptitle('* Distribution of Login Times by Users:', fontsize=14, y=1.05,x=0.35)\n",
    "    \n",
    "    #Plot CDF\n",
    "    ax1 = plt.subplot2grid((1,2), (0,0))\n",
    "    ax1 = cdf_user_logins.plot(ax=ax1,lw=2, drawstyle='steps',legend=False)\n",
    "    ax1.set_xlabel(\"# logins\")\n",
    "    ax1.set_ylabel(\"CDF of Users\")\n",
    "    ax1.set_ylim(0,1.05)\n",
    "    ax1.set_title(\"\")\n",
    "    plt.setp(ax1.xaxis.get_majorticklabels(), rotation=45)\n",
    "\n",
    "    \n",
    "    ax2 = plt.subplot2grid((1,2), (0,1))\n",
    "    freq_distinct_logins_per_user.plot(ax=ax2,kind='pie', \n",
    "                                       labels=None, \n",
    "                                       legend=False,\n",
    "                                       startangle=270,\n",
    "#                                        colors=sns.color_palette()\n",
    "                                       )\n",
    "    ax2.set_ylabel(\"\")\n",
    "    \n",
    "    \n",
    "    \n",
    "    ####\n",
    "    # For Pie Chart Better Legend box\n",
    "    porcent = (100.*freq_distinct_logins_per_user.values)/(freq_distinct_logins_per_user.values.sum())\n",
    "    labels = ['{0} - {1:1.2f} %'.\\\n",
    "              format(i,j) for i,j in zip(freq_distinct_logins_per_user.index, porcent)]\n",
    "    # To Sort Legend (defaulf: keeps the same order)\n",
    "#     patches, labels, dummy =  zip(*sorted(zip(patches, labels, freq_distinct_logins_per_user.values),\n",
    "#                                           key=lambda x: x[2],\n",
    "#                                           reverse=True))\n",
    "    legend_show_top=10\n",
    "    ax2.legend(ax2.patches[0:legend_show_top], \n",
    "               labels[0:legend_show_top], \n",
    "               bbox_to_anchor=(1.5, 1.),\n",
    "               fontsize=10)\n",
    "    ####\n",
    "    \n",
    "    fig.tight_layout()\n",
    "    fig.show()\n",
    "    fig.savefig('figs/login_times.eps', bbox_inches='tight',format='eps', dpi=1200)\n",
    "else:\n",
    "    print(\"Unfortunately, there is no data available!\")\n"
   ]
  },
  {
   "cell_type": "markdown",
   "metadata": {},
   "source": [
    "## 5.3. Number of Users that Login via TOR"
   ]
  },
  {
   "cell_type": "code",
   "execution_count": null,
   "metadata": {
    "collapsed": false
   },
   "outputs": [],
   "source": [
    "len(df_logins_torcheck[df_logins_torcheck['tor']==True]['userip'].value_counts())"
   ]
  },
  {
   "cell_type": "markdown",
   "metadata": {},
   "source": [
    "## 5.4. Number of Distinct IP addresses by Users"
   ]
  },
  {
   "cell_type": "code",
   "execution_count": null,
   "metadata": {
    "collapsed": false
   },
   "outputs": [],
   "source": [
    "if len(df_logins.groupby(['userid','userip']).size().reset_index()['userid'].value_counts()) >0:\n",
    "    num_distinct_ips_per_user=df_logins.groupby(['userid','userip']).size().reset_index()['userid'].value_counts()\n",
    "else:\n",
    "    num_distinct_ips_per_user=df_logins.groupby(['username','userip']).size().reset_index()['username'].value_counts()\n",
    "    \n",
    "freq_distinct_ips_per_user=num_distinct_ips_per_user.value_counts()\n",
    "cum_dist_user_ips = np.linspace(0.,1.,len(num_distinct_ips_per_user))\n",
    "cdf_user_ips = pd.Series(cum_dist_user_ips, index=num_distinct_ips_per_user.sort_values())"
   ]
  },
  {
   "cell_type": "code",
   "execution_count": null,
   "metadata": {
    "collapsed": false
   },
   "outputs": [],
   "source": [
    "if len(num_distinct_ips_per_user)>0:\n",
    "    fig = plt.figure(figsize=(6, 3))\n",
    "    fig.suptitle('* Distribution of Distinct IP address used by Users:', fontsize=14, y=1.05, x=0.4)\n",
    "\n",
    "    ax1 = plt.subplot2grid((1,2), (0,0))\n",
    "    ax1 = cdf_user_ips.plot( ax=ax1,lw=2, drawstyle='steps',legend=False)\n",
    "    ax1.set_xlabel(\"# IPs\")\n",
    "    ax1.set_ylabel(\"CDF of Users\")\n",
    "    ax1.set_ylim(0,1.05)\n",
    "    plt.setp(ax1.xaxis.get_majorticklabels(), rotation=45)\n",
    "    \n",
    "    ax2 = plt.subplot2grid((1,2), (0,1))\n",
    "    freq_distinct_ips_per_user.plot(ax=ax2,kind='pie',\n",
    "                                    labels=None,legend=False,\n",
    "                                       startangle=270,\n",
    "#                                        colors=sns.color_palette()\n",
    "                                       )\n",
    "    ax2.set_ylabel(\"\")\n",
    "    ####\n",
    "    # For Pie Chart Better Legend box\n",
    "    porcent = (100.*freq_distinct_ips_per_user.values)/(freq_distinct_ips_per_user.values.sum())\n",
    "    labels = ['{0} - {1:1.2f} %'.\\\n",
    "              format(i,j) for i,j in zip(freq_distinct_ips_per_user.index, porcent)]\n",
    "    # To Sort Legend (defaulf: keeps the same order)\n",
    "#     patches, labels, dummy =  zip(*sorted(zip(patches, labels, freq_distinct_logins_per_user.values),\n",
    "#                                           key=lambda x: x[2],\n",
    "#                                           reverse=True))\n",
    "    legend_show_top=10\n",
    "    ax2.legend(ax2.patches[0:legend_show_top], \n",
    "               labels[0:legend_show_top], \n",
    "               bbox_to_anchor=(1.5, 1.),\n",
    "               fontsize=10)\n",
    "    ####\n",
    "    \n",
    "    fig.tight_layout()\n",
    "    fig.show()\n",
    "    fig.savefig('figs/num_ips_by_users.eps', bbox_inches='tight',format='eps', dpi=1200)\n",
    "else:\n",
    "    print(\"Unfortunately, there is no data available!\")\n"
   ]
  },
  {
   "cell_type": "markdown",
   "metadata": {},
   "source": [
    "## 5.5. Number of Payments by Users"
   ]
  },
  {
   "cell_type": "code",
   "execution_count": null,
   "metadata": {
    "collapsed": false
   },
   "outputs": [],
   "source": [
    "if len(df_payments['userid'].value_counts())>0:\n",
    "    num_distinct_payments_per_user=df_payments['userid'].value_counts()\n",
    "else:\n",
    "    num_distinct_payments_per_user=df_payments['username'].value_counts()\n",
    "\n",
    "freq_distinct_payments_per_user=num_distinct_payments_per_user.value_counts()\n",
    "cum_dist_user_payments = np.linspace(0.,1.,len(num_distinct_payments_per_user))\n",
    "cdf_user_payments = pd.Series(cum_dist_user_payments, index=num_distinct_payments_per_user.sort_values())"
   ]
  },
  {
   "cell_type": "code",
   "execution_count": null,
   "metadata": {
    "collapsed": false
   },
   "outputs": [],
   "source": [
    "if len(num_distinct_payments_per_user)>0:\n",
    "    fig = plt.figure(figsize=(6, 3))\n",
    "    fig.suptitle('* Distribution of Number of Payments by Users:', fontsize=14, y=1.05, x=0.4)\n",
    "\n",
    "    ax1 = plt.subplot2grid((1,2), (0,0))\n",
    "    ax1 = cdf_user_payments.plot( ax=ax1,lw=2, drawstyle='steps',legend=False)\n",
    "    ax1.set_xlabel(\"# Payment\")\n",
    "    ax1.set_ylabel(\"CDF of Users\")\n",
    "    ax1.set_ylim(0,1.05)\n",
    "    plt.setp(ax1.xaxis.get_majorticklabels(), rotation=45)\n",
    "    \n",
    "    ax2 = plt.subplot2grid((1,2), (0,1))\n",
    "    freq_distinct_payments_per_user.plot(ax=ax2,kind='pie', \n",
    "                                         labels=None,legend=False,\n",
    "                                         startangle=270)\n",
    "    ax2.set_ylabel(\"\")\n",
    "    ####\n",
    "    # For Pie Chart Better Legend box\n",
    "    porcent = (100.*freq_distinct_payments_per_user.values)/(freq_distinct_payments_per_user.values.sum())\n",
    "    labels = ['{0} - {1:1.2f} %'.\\\n",
    "              format(i,j) for i,j in zip(freq_distinct_payments_per_user.index, porcent)]\n",
    "    # To Sort Legend (defaulf: keeps the same order)\n",
    "#     patches, labels, dummy =  zip(*sorted(zip(patches, labels, freq_distinct_logins_per_user.values),\n",
    "#                                           key=lambda x: x[2],\n",
    "#                                           reverse=True))\n",
    "    legend_show_top=10\n",
    "    ax2.legend(ax2.patches[0:legend_show_top], \n",
    "               labels[0:legend_show_top], \n",
    "               bbox_to_anchor=(1.55, 1.),\n",
    "               fontsize=10)\n",
    "    ####\n",
    "    fig.tight_layout()\n",
    "    fig.show()\n",
    "    fig.savefig('figs/payments_distribution.eps', bbox_inches='tight',format='eps', dpi=1200)\n",
    "else:\n",
    "    print(\"Unfortunately, there is no data available!\")\n"
   ]
  },
  {
   "cell_type": "markdown",
   "metadata": {},
   "source": [
    "## 5.6. Total Amount of Money Earned"
   ]
  },
  {
   "cell_type": "code",
   "execution_count": null,
   "metadata": {
    "collapsed": false
   },
   "outputs": [],
   "source": [
    "if len(df_payments['amountpaid']) >0:\n",
    "    total_earned=df_payments['amountpaid'].values.sum()\n",
    "    'US$ {:,.2f}'.format(float(total_earned))\n",
    "else:\n",
    "    print(\"Unfortunately, there is no data available!\")"
   ]
  },
  {
   "cell_type": "markdown",
   "metadata": {},
   "source": [
    "## 5.7. Amount of Money Paid by Users"
   ]
  },
  {
   "cell_type": "code",
   "execution_count": null,
   "metadata": {
    "collapsed": true
   },
   "outputs": [],
   "source": [
    "num_distinct_payments_money_per_user=df_payments['amountpaid'].value_counts()\n",
    "freq_distinct_payments_money_per_user=num_distinct_payments_money_per_user.value_counts()\n",
    "cum_dist_user_payments_money = np.linspace(0.,1.,len(num_distinct_payments_money_per_user))\n",
    "cdf_user_payments_money = pd.Series(cum_dist_user_payments_money, index=num_distinct_payments_money_per_user.sort_values())"
   ]
  },
  {
   "cell_type": "code",
   "execution_count": null,
   "metadata": {
    "collapsed": false
   },
   "outputs": [],
   "source": [
    "if len(num_distinct_payments_money_per_user)>0:\n",
    "    fig = plt.figure(figsize=(6, 3))\n",
    "    fig.suptitle('* Distribution of Money Payments by Users:', fontsize=14, y=1.05, x=0.4)\n",
    "\n",
    "    ax1 = plt.subplot2grid((1,2), (0,0))\n",
    "    ax1 = cdf_user_payments_money.plot( ax=ax1,lw=2, drawstyle='steps',legend=False)\n",
    "    ax1.set_xlabel(\"$\")\n",
    "    ax1.set_ylabel(\"CDF of Users\")\n",
    "    ax1.set_ylim(0,1.05)\n",
    "    plt.setp(ax1.xaxis.get_majorticklabels(), rotation=45)\n",
    "\n",
    "    ax2 = plt.subplot2grid((1,2), (0,1))\n",
    "    freq_distinct_payments_money_per_user.plot(ax=ax2,kind='pie', \n",
    "                                               labels=None,legend=False,\n",
    "                                               startangle=270)\n",
    "    ax2.set_ylabel(\"\")\n",
    "    ####\n",
    "    # For Pie Chart Better Legend box\n",
    "    porcent = (100.*freq_distinct_payments_money_per_user.values)/(freq_distinct_payments_money_per_user.values.sum())\n",
    "    labels = ['${0:1.2f} - {1:1.2f} %'.\\\n",
    "              format(i,j) for i,j in zip(freq_distinct_payments_money_per_user.index, porcent)]\n",
    "    # To Sort Legend (defaulf: keeps the same order)\n",
    "#     patches, labels, dummy =  zip(*sorted(zip(patches, labels, freq_distinct_logins_per_user.values),\n",
    "#                                           key=lambda x: x[2],\n",
    "#                                           reverse=True))\n",
    "    legend_show_top=10\n",
    "    ax2.legend(ax2.patches[0:legend_show_top], \n",
    "               labels[0:legend_show_top], \n",
    "               bbox_to_anchor=(1.6, 1.),\n",
    "               fontsize=10)\n",
    "    ####\n",
    "    fig.tight_layout()\n",
    "    fig.show()\n",
    "    fig.savefig('figs/distribution_amount_paid.eps', bbox_inches='tight',format='eps', dpi=1200)\n",
    "else:\n",
    "    print(\"Unfortunately, there is no data available!\")\n"
   ]
  },
  {
   "cell_type": "markdown",
   "metadata": {
    "collapsed": false
   },
   "source": [
    "## 5.8. Countries from where Users Access Booters"
   ]
  },
  {
   "cell_type": "code",
   "execution_count": null,
   "metadata": {
    "collapsed": true
   },
   "outputs": [],
   "source": [
    "logins_country_distribution_sorted = df_logins_iptoasn['country'].value_counts(sort=True,ascending=True)\n",
    "logins_country_distribution = df_logins_iptoasn['country'].value_counts()"
   ]
  },
  {
   "cell_type": "code",
   "execution_count": null,
   "metadata": {
    "collapsed": false
   },
   "outputs": [],
   "source": [
    "if len(logins_country_distribution)>0:\n",
    "    fig = plt.figure(figsize=(6, 3))\n",
    "    fig.suptitle('* Users Accessing from Countries:', fontsize=14, y=1.05, x=0.28)\n",
    "\n",
    "    ax1 = plt.subplot2grid((1,2), (0,0))\n",
    "    logins_country_distribution_sorted.plot(ax=ax1,kind='barh')\n",
    "    ax1.set_ylabel(\"# access\")\n",
    "    ax1.set_xlabel(\"Country\")\n",
    "    plt.setp(ax1.xaxis.get_majorticklabels(), rotation=45)\n",
    "\n",
    "    ax2 = plt.subplot2grid((1,2), (0,1))\n",
    "    logins_country_distribution.plot(ax=ax2,kind='pie', \n",
    "                                     labels=None,legend=False,\n",
    "                                     startangle=270)\n",
    "    ax2.set_ylabel(\"\")\n",
    "    ####\n",
    "    # For Pie Chart Better Legend box\n",
    "    porcent = (100.*logins_country_distribution.values)/(logins_country_distribution.values.sum())\n",
    "    labels = ['{0} - {1:1.2f} %'.\\\n",
    "              format(i,j) for i,j in zip(logins_country_distribution.index, porcent)]\n",
    "    # To Sort Legend (defaulf: keeps the same order)\n",
    "#     patches, labels, dummy =  zip(*sorted(zip(patches, labels, freq_distinct_logins_per_user.values),\n",
    "#                                           key=lambda x: x[2],\n",
    "#                                           reverse=True))\n",
    "    legend_show_top=10\n",
    "    ax2.legend(ax2.patches[0:legend_show_top], \n",
    "               labels[0:legend_show_top], \n",
    "               bbox_to_anchor=(1.55, 1.),\n",
    "               fontsize=10)\n",
    "    ####\n",
    "    fig.tight_layout()\n",
    "    fig.show()\n",
    "    fig.savefig('figs/user_countries.eps', bbox_inches='tight',format='eps', dpi=1200)\n",
    "else:\n",
    "    print(\"Unfortunately, there is no data available!\")"
   ]
  },
  {
   "cell_type": "markdown",
   "metadata": {},
   "source": [
    "## 5.9. Countries of Blacklisted IPs"
   ]
  },
  {
   "cell_type": "code",
   "execution_count": null,
   "metadata": {
    "collapsed": true
   },
   "outputs": [],
   "source": [
    "blacklist_country_distribution=df_blacklist_iptoasn['country'].value_counts()\n",
    "blacklist_country_distribution_sorted=df_blacklist_iptoasn['country'].value_counts(sort=True,ascending=True)"
   ]
  },
  {
   "cell_type": "code",
   "execution_count": null,
   "metadata": {
    "collapsed": false
   },
   "outputs": [],
   "source": [
    "if len(blacklist_country_distribution)>0:\n",
    "    fig = plt.figure(figsize=(6, 3))\n",
    "    fig.suptitle('* Countries of blacklisted IPs', fontsize=14, y=1.05, x=0.28)\n",
    "\n",
    "    ax1 = plt.subplot2grid((1,2), (0,0))\n",
    "    blacklist_country_distribution_sorted.plot(ax=ax1,kind='barh')\n",
    "    ax1.set_ylabel(\"# Access\")\n",
    "    ax1.set_xlabel(\"Country\")\n",
    "    plt.setp(ax1.xaxis.get_majorticklabels(), rotation=45)\n",
    "\n",
    "    ax2 = plt.subplot2grid((1,2), (0,1))\n",
    "    blacklist_country_distribution.plot(ax=ax2,kind='pie', \n",
    "                                        labels=None,legend=False,\n",
    "                                        startangle=270)\n",
    "    ax2.set_ylabel(\"\")\n",
    "    ####\n",
    "    # For Pie Chart Better Legend box\n",
    "    porcent = (100.*blacklist_country_distribution.values)/(logins_country_distribution.values.sum())\n",
    "    labels = ['{0} - {1:1.2f} %'.\\\n",
    "              format(i,j) for i,j in zip(blacklist_country_distribution.index, porcent)]\n",
    "    # To Sort Legend (defaulf: keeps the same order)\n",
    "#     patches, labels, dummy =  zip(*sorted(zip(patches, labels, freq_distinct_logins_per_user.values),\n",
    "#                                           key=lambda x: x[2],\n",
    "#                                           reverse=True))\n",
    "    legend_show_top=10\n",
    "    ax2.legend(ax2.patches[0:legend_show_top], \n",
    "               labels[0:legend_show_top], \n",
    "               bbox_to_anchor=(1.55, 1.),\n",
    "               fontsize=10)\n",
    "    ####\n",
    "    fig.tight_layout()\n",
    "    fig.show()\n",
    "    fig.savefig('figs/blacklist_countries.eps', bbox_inches='tight',format='eps', dpi=1200)\n",
    "else:\n",
    "    print(\"Unfortunately, there is no data available!\")"
   ]
  },
  {
   "cell_type": "markdown",
   "metadata": {},
   "source": [
    "## 5.10. Countries of Target IPs"
   ]
  },
  {
   "cell_type": "code",
   "execution_count": null,
   "metadata": {
    "collapsed": true
   },
   "outputs": [],
   "source": [
    "attacks_country_distribution=df_attacks_iptoasn['country'].value_counts()"
   ]
  },
  {
   "cell_type": "code",
   "execution_count": null,
   "metadata": {
    "collapsed": false
   },
   "outputs": [],
   "source": [
    "if len(attacks_country_distribution)>0:\n",
    "    fig = plt.figure(figsize=(6, 3))\n",
    "    fig.suptitle('* Countries of target IPs', fontsize=14, y=1.05, x=0.28)\n",
    "\n",
    "    ax1 = plt.subplot2grid((1,2), (0,0))\n",
    "    attacks_country_distribution.plot(ax=ax1,kind='bar')\n",
    "    ax1.set_ylabel(\"# Access\")\n",
    "    ax1.set_xlabel(\"Country\")\n",
    "    plt.setp(ax1.xaxis.get_majorticklabels(), rotation=45)\n",
    "\n",
    "    ax2 = plt.subplot2grid((1,2), (0,1))\n",
    "    attacks_country_distribution.plot(ax=ax2,kind='pie', \n",
    "                                      labels=None,legend=False,\n",
    "                                      startangle=270)\n",
    "    ax2.set_ylabel(\"\")\n",
    "    ####\n",
    "    # For Pie Chart Better Legend box\n",
    "    porcent = (100.*attacks_country_distribution.values)/(attacks_country_distribution.values.sum())\n",
    "    labels = ['{0} - {1:1.2f} %'.\\\n",
    "              format(i,j) for i,j in zip(attacks_country_distribution.index, porcent)]\n",
    "    # To Sort Legend (defaulf: keeps the same order)\n",
    "#     patches, labels, dummy =  zip(*sorted(zip(patches, labels, freq_distinct_logins_per_user.values),\n",
    "#                                           key=lambda x: x[2],\n",
    "#                                           reverse=True))\n",
    "    legend_show_top=10\n",
    "    ax2.legend(ax2.patches[0:legend_show_top], \n",
    "               labels[0:legend_show_top], \n",
    "               bbox_to_anchor=(1.55, 1.),\n",
    "               fontsize=10)\n",
    "    ####\n",
    "    fig.tight_layout()\n",
    "    fig.show()\n",
    "    fig.savefig('figs/attack_countries_distribution.eps',bbox_inches='tight', format='eps', dpi=1200) \n",
    "else:\n",
    "    print(\"Unfortunately, there is no data available!\")"
   ]
  },
  {
   "cell_type": "markdown",
   "metadata": {},
   "source": [
    "## 5.12. Attacks on Same Target"
   ]
  },
  {
   "cell_type": "code",
   "execution_count": null,
   "metadata": {
    "collapsed": true
   },
   "outputs": [],
   "source": [
    "num_attacks_on_sametarget=df_attacks['targetip'].value_counts()\n",
    "\n",
    "freq_num_attacks_on_sametarget=num_attacks_on_sametarget.value_counts()\n",
    "cum_num_attacks_on_sametarget = np.linspace(0.,1.,len(num_attacks_on_sametarget))\n",
    "cdf_num_attacks_on_sametarget = pd.Series(cum_num_attacks_on_sametarget, index=num_attacks_on_sametarget.sort_values())"
   ]
  },
  {
   "cell_type": "code",
   "execution_count": null,
   "metadata": {
    "collapsed": false
   },
   "outputs": [],
   "source": [
    "if len(num_attacks_on_sametarget)>0:\n",
    "    fig = plt.figure(figsize=(6, 3))\n",
    "    fig.suptitle('* Attacks on Same Targets:', fontsize=14, y=1.05,x=0.28)\n",
    "\n",
    "    ax1 = plt.subplot2grid((1,2), (0,0))\n",
    "    ax1 = cdf_num_attacks_on_sametarget.plot( ax=ax1,lw=2, drawstyle='steps',legend=False)\n",
    "    ax1.set_xlabel(\"# IPs\")\n",
    "    ax1.set_ylabel(\"CDF of Users\")\n",
    "    ax1.set_ylim(0,1.05)\n",
    "    plt.setp(ax1.xaxis.get_majorticklabels(), rotation=45)\n",
    "\n",
    "    ax2 = plt.subplot2grid((1,2), (0,1))\n",
    "    freq_num_attacks_on_sametarget.plot(ax=ax2,kind='pie',\n",
    "                                        labels=None,legend=False,\n",
    "                                        startangle=270)\n",
    "    ax2.set_ylabel(\"\")\n",
    "    ####\n",
    "    # For Pie Chart Better Legend box\n",
    "    porcent = (100.*freq_num_attacks_on_sametarget.values)/(freq_num_attacks_on_sametarget.values.sum())\n",
    "    labels = ['{0} - {1:1.2f} %'.\\\n",
    "              format(i,j) for i,j in zip(freq_num_attacks_on_sametarget.index, porcent)]\n",
    "    # To Sort Legend (defaulf: keeps the same order)\n",
    "#     patches, labels, dummy =  zip(*sorted(zip(patches, labels, freq_distinct_logins_per_user.values),\n",
    "#                                           key=lambda x: x[2],\n",
    "#                                           reverse=True))\n",
    "    legend_show_top=10\n",
    "    ax2.legend(ax2.patches[0:legend_show_top], \n",
    "               labels[0:legend_show_top], \n",
    "               bbox_to_anchor=(1.55, 1.),\n",
    "               fontsize=10)\n",
    "    ####\n",
    "    fig.tight_layout()\n",
    "\n",
    "    fig.show()\n",
    "    fig.savefig('figs/attacks_on_same_target.eps', bbox_inches='tight',format='eps', dpi=1200)\n",
    "else:\n",
    "    print(\"Unfortunately, there is no data available!\")"
   ]
  },
  {
   "cell_type": "markdown",
   "metadata": {},
   "source": [
    "## 5.11. Attacks per day (timeseries) "
   ]
  },
  {
   "cell_type": "code",
   "execution_count": null,
   "metadata": {
    "collapsed": false
   },
   "outputs": [],
   "source": [
    "if len(df_attacks)>0:\n",
    "    attack_timeseries=df_attacks.set_index(['date']).groupby(pd.TimeGrouper(freq='D')).agg(['count'])['action']\n",
    "    attack_mean_perday=attack_timeseries.mean()\n",
    "    attack_median_perday=attack_timeseries.median()\n",
    "else:\n",
    "    attack_timeseries=\"\""
   ]
  },
  {
   "cell_type": "code",
   "execution_count": null,
   "metadata": {
    "collapsed": false
   },
   "outputs": [],
   "source": [
    "if len(attack_timeseries)>0:\n",
    "    fig = plt.figure(figsize=(6,3))\n",
    "\n",
    "    ax1 = plt.subplot2grid((1,1), (0,0), rowspan=2)\n",
    "    attack_timeseries.plot(ax=ax1,\n",
    "                           lw=2,\n",
    "                           legend=False,\n",
    "    #                        style='--'\n",
    "                          )\n",
    "\n",
    "    # X and Y Labels and Ticks\n",
    "    ax1.set_xlabel(\"Time (bin=day)\")\n",
    "    ax1.set_ylabel(\"# Attacks\")\n",
    "\n",
    "    ax1.annotate(str(int(attack_median_perday[0]))+' (median)', \n",
    "                 (min(df_attacks['date']), attack_median_perday),\n",
    "                 xytext=(350, -1), \n",
    "                 textcoords='offset points',\n",
    "                 color='black', \n",
    "                 arrowprops=dict(arrowstyle='-|>',\n",
    "                                 color='black'))\n",
    "    fig.savefig('figs/attacks_timeseries.eps', bbox_inches='tight',format='eps', dpi=1200)\n",
    "\n",
    "else:\n",
    "    print(\"Unfortunately, there is no data available!\")"
   ]
  },
  {
   "cell_type": "markdown",
   "metadata": {},
   "source": [
    "## 5.12. Time Between Logins and Attacks"
   ]
  },
  {
   "cell_type": "code",
   "execution_count": null,
   "metadata": {
    "collapsed": false
   },
   "outputs": [],
   "source": [
    "if len(df_attacks_and_logins)>0:\n",
    "    print(\"redo\")\n",
    "else:\n",
    "    print(\"Unfortunately, there is no data available!\")"
   ]
  },
  {
   "cell_type": "markdown",
   "metadata": {},
   "source": [
    "## 5.13. Who attack whom? (users on the country level)"
   ]
  },
  {
   "cell_type": "code",
   "execution_count": null,
   "metadata": {
    "collapsed": false
   },
   "outputs": [],
   "source": [
    "if len(df_attacks_extended)>0 and len(df_logins_extended)>0:\n",
    "    merged_attacks_logins = pd.merge(df_attacks_extended,\n",
    "                                  df_logins_extended,\n",
    "                                  how = 'left',\n",
    "                                  left_on = 'date',\n",
    "                                  right_on = 'date')[['targetcountry','srccountry']]\n",
    "\n",
    "    who_against_whom = merged_attacks_logins.groupby(['targetcountry','srccountry'])\\\n",
    "                            .size()\\\n",
    "                            .reset_index()\\\n",
    "                            .pivot('srccountry','targetcountry',0)\n",
    "else:\n",
    "    who_against_whom =\"\""
   ]
  },
  {
   "cell_type": "code",
   "execution_count": null,
   "metadata": {
    "collapsed": false
   },
   "outputs": [],
   "source": [
    "if len(who_against_whom)>0:\n",
    "    fig = plt.figure(figsize=(8,12))\n",
    "    fig.suptitle('Countries of Target IPs', fontsize=14, y=.92)\n",
    "\n",
    "    ax1 = plt.subplot2grid((1,1), (0,0))\n",
    "    sns.set()\n",
    "    sns.heatmap(who_against_whom,\n",
    "                ax=ax1,\n",
    "#                 cmap=\"YlGnBu\",\n",
    "    #             linewidths=.5,\n",
    "    #             annot=True\n",
    "                )\n",
    "\n",
    "    ax1.set_ylabel(\"Source Country\")\n",
    "    ax1.set_xlabel(\"Attack Target Country\")\n",
    "\n",
    "    fig.show()\n",
    "    fig.savefig('figs/who_attack_whom.eps', bbox_inches='tight',format='eps', dpi=1200)\n",
    "else:\n",
    "    print(\"Unfortunately, there is no data available!\")"
   ]
  },
  {
   "cell_type": "markdown",
   "metadata": {},
   "source": [
    "<h1 align=\"center\">!!!!!!!!!!!!!!!!!!!!!!!!!!!!!!!!!!!!!!!!!!!!!!!!!!!!!!!!!!!!!!!!!!!!!!!!!!!!!!!!!!!!!!!!!!!!!!!!!!!!!!!!!!!!!!!!!!!!!!!!!!!!!!!!!<br>\n",
    "FIFTH PART: Query Interface<br>\n",
    "!!!!!!!!!!!!!!!!!!!!!!!!!!!!!!!!!!!!!!!!!!!!!!!!!!!!!!!!!!!!!!!!!!!!!!!!!!!!!!!!!!!!!!!!!!!!!!!!!!!!!!!!!!!!!!!!!!!!!!!!!!!!!!!</h1> "
   ]
  },
  {
   "cell_type": "code",
   "execution_count": null,
   "metadata": {
    "collapsed": true
   },
   "outputs": [],
   "source": [
    "from ipywidgets import widgets, interact, Dropdown,HTML\n",
    "from IPython.display import display,clear_output"
   ]
  },
  {
   "cell_type": "code",
   "execution_count": null,
   "metadata": {
    "collapsed": false
   },
   "outputs": [],
   "source": [
    "def search_by_userid_submit(sender):\n",
    "    clear_output()\n",
    "    print(\"Searching by id =\",search_by_userid.value)\n",
    "    \n",
    "    if len(df_users[df_users['userid']== int(search_by_userid.value)])>0:\n",
    "        display(df_users[df_logins['userid']== int(search_by_userid.value)])\n",
    "    \n",
    "    if len(df_logins_extended[df_logins_extended['userid']== int(search_by_userid.value)])>0:\n",
    "        display(df_logins_extended[df_logins_extended['userid']== int(search_by_userid.value)])\n",
    "    \n",
    "    if len(df_attacks_extended[df_attacks_extended['userid']== int(search_by_userid.value)])>0:\n",
    "        display(df_attacks_extended[df_attacks_extended['userid']== int(search_by_userid.value)])\n",
    "    \n",
    "    if len(df_payments[df_payments['userid']== int(search_by_userid.value)])>0:\n",
    "        display(df_payments[df_payments['userid']== int(search_by_userid.value)])\n",
    "\n",
    "def search_by_username_submit(sender):\n",
    "    clear_output()\n",
    "    print(\"Searching by username =\",search_by_username.value,\"\\n\")\n",
    "    \n",
    "    if len(df_users[df_users['username']== search_by_username.value])>0:\n",
    "        print(\"Table df_users:\")\n",
    "        display(df_users[df_users['username']== search_by_username.value])\n",
    "    \n",
    "    if len(df_logins_extended[df_logins_extended['username']== search_by_username.value])>0:\n",
    "        print(\"Table df_logins:\")\n",
    "        display(df_logins_extended[df_logins_extended['username']== search_by_username.value])\n",
    "\n",
    "    if len(df_attacks_extended[df_attacks_extended['username']== search_by_username.value])>0:\n",
    "        print(\"Table df_attacks:\")\n",
    "        display(df_attacks_extended[df_attacks_extended['username']== search_by_username.value])\n",
    "    \n",
    "    if len(df_payments[df_payments['username']== search_by_username.value])>0:\n",
    "        print(\"Table df_payments:\")\n",
    "        display(df_payments[df_payments['username']== search_by_username.value])\n",
    "        \n",
    "def search_by_ip_submit(sender):\n",
    "    clear_output()\n",
    "    print(\"Searching by IP address =\",str(search_by_ip.value),\"\\n\")\n",
    "    \n",
    "    if len(df_logins_extended[df_logins_extended['userip']== str(search_by_ip.value)])>0:\n",
    "        print(\"Table df_logins (as ATTACKER:\")\n",
    "        display(df_logins_extended[df_logins_extended['userip']== str(search_by_ip.value)])\n",
    "     \n",
    "    if len(df_attacks_extended[df_attacks_extended['targetip']== str(search_by_ip.value)])>0:\n",
    "        print(\"Table df_attacks (as TARGET):\")\n",
    "        display(df_attacks_extended[df_attacks_extended['targetip']== str(search_by_ip.value)])  \n",
    "      \n",
    "       \n",
    "def search_by_asn_submit(sender):\n",
    "    clear_output()\n",
    "    print(\"Searching by Autonomous System Number (ASN) =\",search_by_asn.value,\"\\n\")\n",
    "    \n",
    "    if len(df_logins_extended[df_logins_extended['srcasn']== int(search_by_asn.value)])>0:\n",
    "        print(\"Table df_logins (as ATTACKER):\")\n",
    "        display(df_logins_extended[df_logins_extended['srcasn']== int(search_by_asn.value)])\n",
    "    \n",
    "    if len(df_attacks_extended[df_attacks_extended['targetasn']== str(search_by_asn.value)])>0:\n",
    "        print(\"Table df_attacks (as TARGET):\")\n",
    "        display(df_attacks_extended[df_attacks_extended['targetasn']== str(search_by_asn.value)])\n",
    "\n",
    "    if len(df_attacks_extended[df_attacks_extended['targetasn']== str(search_by_asn.value)])>0:\n",
    "        print(\"Table df_attacks (as TARGET):\")\n",
    "        display(df_attacks_extended[df_attacks_extended['targetasn']== str(search_by_asn.value)])\n",
    "\n",
    "        \n",
    "country_list=pd.read_csv('https://raw.githubusercontent.com/datasets/country-list/master/data.csv',delimiter=\",\",error_bad_lines=False)\n",
    "def search_by_country_submit():\n",
    "    country_code=country_list[country_list['Name']==search_by_country.value]['Code'].values[0]\n",
    "    clear_output()\n",
    "    print(\"Searching by Country =\",search_by_country.value,\"\\n\")\n",
    "    \n",
    "    if len(df_logins_extended[df_logins_extended['srccountry']== country_code])>0:\n",
    "        print(\"Table df_logins (as ATTACKER):\")\n",
    "        display(df_logins_extended[df_logins_extended['srccountry']== country_code])\n",
    "    \n",
    "    if len(df_attacks_extended[df_attacks_extended['targetcountry']== country_code])>0:\n",
    "        print(\"Table df_attacks (as TARGET):\")\n",
    "        display(df_attacks_extended[df_attacks_extended['targetcountry']== country_code])\n",
    "    "
   ]
  },
  {
   "cell_type": "code",
   "execution_count": null,
   "metadata": {
    "collapsed": false
   },
   "outputs": [],
   "source": [
    "display(HTML('<h3>*Search by (only) one field per time:</h3>'))\n",
    "\n",
    "search_by_username = widgets.Text(description=\"username\")\n",
    "display(search_by_username)\n",
    "search_by_username.on_submit(search_by_username_submit)\n",
    "\n",
    "search_by_userid = widgets.Text(description=\"userid\")\n",
    "display(search_by_userid)\n",
    "search_by_userid.on_submit(search_by_userid_submit)\n",
    "\n",
    "search_by_ip = widgets.Text(description=\"IP\")\n",
    "display(search_by_ip)\n",
    "search_by_ip.on_submit(search_by_ip_submit)\n",
    "\n",
    "search_by_asn = widgets.Text(description=\"ASN\")\n",
    "display(search_by_asn)\n",
    "search_by_asn.on_submit(search_by_asn_submit)\n",
    "\n",
    "search_by_country = Dropdown(description=\"Country\", options=country_list['Name'].tolist())\n",
    "search_by_country.on_trait_change(search_by_country_submit, name=\"value\")\n",
    "display(search_by_country)"
   ]
  },
  {
   "cell_type": "code",
   "execution_count": null,
   "metadata": {
    "collapsed": true
   },
   "outputs": [],
   "source": []
  }
 ],
 "metadata": {
  "kernelspec": {
   "display_name": "Python 3",
   "language": "python",
   "name": "python3"
  },
  "language_info": {
   "codemirror_mode": {
    "name": "ipython",
    "version": 3
   },
   "file_extension": ".py",
   "mimetype": "text/x-python",
   "name": "python",
   "nbconvert_exporter": "python",
   "pygments_lexer": "ipython3",
   "version": "3.5.1"
  },
  "widgets": {
   "state": {},
   "version": "1.1.2"
  }
 },
 "nbformat": 4,
 "nbformat_minor": 0
}
