{
 "cells": [
  {
   "cell_type": "markdown",
   "metadata": {},
   "source": [
    "<h1 align=\"center\">\n",
    "!!!!!!!!!!!!!!!!!!!!!!!!!!!!!!!!!!!!!!!!!!!!!!!!!!!!!!!!!!!!!!!!!!!!!!!!!!!!!!!!!!!!!!!!!!!!!!!!!!!!!!!!!!!!!!!!!!!!!!!!!!!!!!!<br>\n",
    "Brief explanation on our Booter database analysis methodology: <br>\n",
    "!!!!!!!!!!!!!!!!!!!!!!!!!!!!!!!!!!!!!!!!!!!!!!!!!!!!!!!!!!!!!!!!!!!!!!!!!!!!!!!!!!!!!!!!!!!!!!!!!!!!!!!!!!!!!!!!!!!!!!!!!!!!!!!</h1> "
   ]
  },
  {
   "cell_type": "markdown",
   "metadata": {},
   "source": [
    "# Analysis of: pandabooter2\n",
    "#### File originally retrieved from: http://pastebin.com/0Vddej44"
   ]
  },
  {
   "cell_type": "markdown",
   "metadata": {},
   "source": [
    "## * Libraries that I use to analyse data"
   ]
  },
  {
   "cell_type": "code",
   "execution_count": 2,
   "metadata": {
    "collapsed": true
   },
   "outputs": [],
   "source": [
    "import pandas as pd\n",
    "import numpy as np\n",
    "\n",
    "from io import StringIO\n",
    "import re\n",
    "\n",
    "from IPython.display import display,clear_output"
   ]
  },
  {
   "cell_type": "markdown",
   "metadata": {},
   "source": [
    "<h1 align=\"center\">\n",
    "!!!!!!!!!!!!!!!!!!!!!!!!!!!!!!!!!!!!!!!!!!!!!!!!!!!!!!!!!!!!!!!!!!!!!!!!!!!!!!!!!!!!!!!!!!!!!!!!!!!!!!!!!!!!!!!!!!!!!!!!!!!!!!!<br>\n",
    "STEP 0: Reading an input Booter database file<br>\n",
    "!!!!!!!!!!!!!!!!!!!!!!!!!!!!!!!!!!!!!!!!!!!!!!!!!!!!!!!!!!!!!!!!!!!!!!!!!!!!!!!!!!!!!!!!!!!!!!!!!!!!!!!!!!!!!!!!!!!!!!!!!!!!!!!</h1> "
   ]
  },
  {
   "cell_type": "code",
   "execution_count": 3,
   "metadata": {
    "collapsed": true
   },
   "outputs": [],
   "source": [
    "dumpfile='pandabooter2.sql'"
   ]
  },
  {
   "cell_type": "markdown",
   "metadata": {},
   "source": [
    "<h1 align=\"center\">\n",
    "!!!!!!!!!!!!!!!!!!!!!!!!!!!!!!!!!!!!!!!!!!!!!!!!!!!!!!!!!!!!!!!!!!!!!!!!!!!!!!!!!!!!!!!!!!!!!!!!!!!!!!!!!!!!!!!!!!!!!!!!!!!!!!!!!!!!!!!!!<br>\n",
    "STEP 1: Adaptation to our Booter database schema<br>\n",
    "!!!!!!!!!!!!!!!!!!!!!!!!!!!!!!!!!!!!!!!!!!!!!!!!!!!!!!!!!!!!!!!!!!!!!!!!!!!!!!!!!!!!!!!!!!!!!!!!!!!!!!!!!!!!!!!!!!!!!!!!!!!!!!!</h1> "
   ]
  },
  {
   "cell_type": "markdown",
   "metadata": {},
   "source": [
    "## 1. Reading the first 'N' (100) lines of the input Booter database file"
   ]
  },
  {
   "cell_type": "code",
   "execution_count": 7,
   "metadata": {
    "collapsed": false
   },
   "outputs": [
    {
     "name": "stdout",
     "output_type": "stream",
     "text": [
      "CREATE TABLE `email_templates` (\n",
      "`id` int(5) NOT NULL AUTO_INCREMENT,\n",
      "`name` varchar(200) NOT NULL,\n",
      "`subject` varchar(255) NOT NULL,\n",
      "`help` text,\n",
      "`body` text,\n",
      "PRIMARY KEY (`id`)\n",
      ") ENGINE=MyISAM AUTO_INCREMENT=15 DEFAULT CHARSET=utf8;\n",
      "INSERT INTO `email_templates` (`id`, `name`, `subject`, `help`, `body`) VALUES\n",
      "(1, 'Registration Email', 'Please verify your email', 'This template is used to send Registration Verification Email, when Configuration->Registration Verification is set to YES', '<div align=\"center\">\\n<table cellspacing=\"5\" cellpadding=\"5\" border=\"0\" width=\"600\" style=\"background: none repeat scroll 0% 0% rgb(244, 244, 244); border: 1px solid rgb(102, 102, 102);\">\\n    <tbody>\\n        <tr>\\n            <th style=\"background-color: rgb(204, 204, 204);\">Welcome [NAME]! Thanks for registering.</th>\\n        </tr>\\n        <tr>\\n            <td valign=\"top\" style=\"text-align: left;\">Hello,<br/>\\n            <br/>\\n            You\\'re now a member of [SITE_NAME].<br/>\\n            <br/>\\n            Here are your login details. Please keep them in a safe place:<br/>\\n            <br/>\\n            Username: <strong>[USERNAME]</strong><br/>\\n            Password: <strong>[PASSWORD]</strong>         <hr/>\\n            The administrator of this site has requested all new accounts<br/>\\n            to be activated by the users who created them thus your account<br/>\\n            is currently inactive. To activate your account,<br/>\\n            please visit the link below and enter the following:<hr/>\\n            Token: <strong>[TOKEN]</strong><br/>\\n            Email: <strong>[EMAIL]</strong>         <hr/>\\n            <a href=\"[LINK]\">Click here to activate tour account</a></td>\\n        </tr>\\n        <tr>\\n            <td style=\"text-align: left;\"><em>Thanks,<br/>\\n            [SITE_NAME] Team<br/>\\n            <a href=\"[URL]\">[URL]</a></em></td>\\n        </tr>\\n    </tbody>\\n</table>\\n</div>')\n",
      ",(2, 'Forgot Password Email', 'Password Reset', 'This template is used for retrieving lost user password', '<div align=\"center\">\\n<table width=\"600\" cellspacing=\"5\" cellpadding=\"5\" border=\"0\" style=\"background: none repeat scroll 0% 0% rgb(244, 244, 244); border: 1px solid rgb(102, 102, 102);\">\\n    <tbody>\\n        <tr>\\n            <th style=\"background-color: rgb(204, 204, 204);\">New password reset from [SITE_NAME]!</th>\\n        </tr>\\n        <tr>\\n            <td valign=\"top\" style=\"text-align: left;\">Hello, <strong>[USERNAME]</strong><br />\\n            <br />\\n            It seems that you or someone requested a new password for you.<br />\\n            We have generated a new password, as requested:<br />\\n            <br />\\n            Your new password: <strong>[PASSWORD]</strong><br />\\n            <br />\\n            To use the new password you need to activate it. To do this click the link provided below and login with your new password.<br />\\n            <a href=\"[LINK]\">[LINK]</a><br />\\n            <br />\\n            You can change your password after you sign in.<hr />\\n            Password requested from IP: [IP]</td>\\n        </tr>\\n        <tr>\\n            <td style=\"text-align: left;\"><em>Thanks,<br />\\n            [SITE_NAME] Team<br />\\n            <a href=\"[URL]\">[URL]</a></em></td>\\n        </tr>\\n    </tbody>\\n</table>\\n</div>')\n",
      ",(3, 'Welcome Mail From Admin', 'You have been registered', 'This template is used to send welcome email, when user is added by administrator', '<div align=\"center\">\\n<table cellspacing=\"5\" cellpadding=\"5\" border=\"0\" width=\"600\" style=\"background: none repeat scroll 0% 0% rgb(244, 244, 244); border: 1px solid rgb(102, 102, 102);\">\\n    <tbody>\\n        <tr>\\n            <th style=\"background-color: rgb(204, 204, 204);\">Welcome [NAME]! You have been Registered.</th>\\n        </tr>\\n        <tr>\\n            <td style=\"text-align: left;\">Hello,<br />\\n            <br />\\n            You\\'re now a member of [SITE_NAME].<br />\\n            <br />\\n            Here are your login details. Please keep them in a safe place:<br />\\n            <br />\\n            Username: <strong>[USERNAME]</strong><br />\\n            Password: <strong>[PASSWORD]</strong></td>\\n        </tr>\\n        <tr>\\n            <td style=\"text-align: left;\"><em>Thanks,<br />\\n            [SITE_NAME] Team<br />\\n            <a href=\"[URL]\">[URL]</a></em></td>\\n        </tr>\\n    </tbody>\\n</table>\\n</div>')\n",
      ",(4, 'Default Newsletter', 'Newsletter', 'This is a default newsletter template', '<div align=\"center\">\\n<table width=\"600\" cellspacing=\"5\" cellpadding=\"5\" border=\"0\" style=\"background: none repeat scroll 0% 0% rgb(244, 244, 244); border: 1px solid rgb(102, 102, 102);\">\\n    <tbody>\\n        <tr>\\n            <th style=\"background-color: rgb(204, 204, 204);\">Hello [NAME]!</th>\\n        </tr>\\n        <tr>\\n            <td valign=\"top\" style=\"text-align: left;\">You are receiving this email as a part of your newsletter subscription.         <hr />\\n            Here goes your newsletter content         <hr />\\n            </td>\\n        </tr>\\n        <tr>\\n            <td style=\"text-align: left;\"><em>Thanks,<br />\\n            [SITE_NAME] Team<br />\\n            <a href=\"[URL]\">[URL]</a></em>         <hr />\\n            <span style=\"font-size: 11px;\"><em>To stop receiving future newsletters please login into your account         and uncheck newsletter subscription box.</em></span></td>\\n        </tr>\\n    </tbody>\\n</table>\\n</div>')\n",
      ",(5, 'Transaction Completed', 'Payment Completed', 'This template is used to notify administrator on successful payment transaction', '<div align=\"center\">\\n<table width=\"600\" cellspacing=\"5\" cellpadding=\"5\" border=\"0\" style=\"background: none repeat scroll 0% 0% rgb(244, 244, 244); border: 1px solid rgb(102, 102, 102);\">\\n    <tbody>\\n        <tr>\\n            <th style=\"background-color: rgb(204, 204, 204);\">Hello, Admin</th>\\n        </tr>\\n        <tr>\\n            <td valign=\"top\" style=\"text-align: left;\">You have received new payment following:<br />\\n            <br />\\n            Username: <strong>[USERNAME]</strong><br />\\n            Membership: <strong>[ITEMNAME]</strong><br />\\n            Price: <strong>[PRICE]</strong><br />\\n            Status: <strong>[STATUS] </strong><br />\\r\\n            Processor: <strong>[PP] </strong><br />\\n            IP: <strong>[IP] </strong></td>\\n        </tr>\\n        <tr>\\n            <td valign=\"top\" style=\"text-align: left;\"><em>You can view this transaction from your admin panel</em></td>\\n        </tr>\\n    </tbody>\\n</table>\\n</div>')\n",
      ",(6, 'Transaction Suspicious', 'Suspicious Transaction', 'This template is used to notify administrator on failed/suspicious payment transaction', '<div align=\"center\">\\n<table width=\"600\" cellspacing=\"5\" cellpadding=\"5\" border=\"0\" style=\"background: none repeat scroll 0% 0% rgb(244, 244, 244); border: 1px solid rgb(102, 102, 102);\">\\n    <tbody>\\n        <tr>\\n            <th style=\"background-color:#ccc\">Hello, Admin</th>\\n        </tr>\\n        <tr>\\n            <td valign=\"top\" style=\"text-align:left\">The following transaction has been disabled due to suspicious activity:<br />\\n            <br />\\n            Buyer: <strong>[USERNAME]</strong><br />\\n            Item: <strong>[ITEM]</strong><br />\\n            Price: <strong>[PRICE]</strong><br />\\n            Status: <strong>[STATUS]</strong></td>\\r\\n            Processor: <strong>[PP] </strong><br />\\n        </tr>\\n        <tr>\\n            <td style=\"text-align:left\"><em>Please verify this transaction is correct. If it is, please activate it in the transaction section of your site\\'s <br />\\n            administration control panel. If not, it appears that someone tried to fraudulently obtain products from your site.</em></td>\\n        </tr>\\n    </tbody>\\n</table>\\n</div>')\n",
      ",(7, 'Welcome Email', 'Welcome', 'This template is used to welcome newly registered user when Configuration->Registration Verification and Configuration->Auto Registration are both set to YES', '<div align=\"center\">\\n<table width=\"600\" cellspacing=\"5\" cellpadding=\"5\" border=\"0\" style=\"background: none repeat scroll 0% 0% rgb(244, 244, 244); border: 1px solid rgb(102, 102, 102);\">\\n    <tbody>\\n        <tr>\\n            <th style=\"background-color: rgb(204, 204, 204);\">Welcome [NAME]! Thanks for registering.</th>\\n        </tr>\\n        <tr>\\n            <td style=\"text-align: left;\">Hello,<br />\\n            <br />\\n            You\\'re now a member of [SITE_NAME].<br />\\n            <br />\\n            Here are your login details. Please keep them in a safe place:<br />\\n            <br />\\n            Username: <strong>[USERNAME]</strong><br />\\n            Password: <strong>[PASSWORD]</strong></td>\\n        </tr>\\n        <tr>\\n            <td style=\"text-align: left;\"><em>Thanks,<br />\\n            [SITE_NAME] Team<br />\\n            <a href=\"[URL]\">[URL]</a></em></td>\\n        </tr>\\n    </tbody>\\n</table>\\n</div>')\n",
      ",(8, 'Membership Expire 7 days', 'Your membership will expire in 7 days', 'This template is used to remind user that membership will expire in 7 days', '<div align=\"center\">\\n<table cellspacing=\"5\" cellpadding=\"5\" border=\"0\" width=\"600\" style=\"background: none repeat scroll 0% 0% rgb(244, 244, 244); border: 1px solid rgb(102, 102, 102);\">\\n    <tbody>\\n        <tr>\\n            <th style=\"background-color: rgb(204, 204, 204);\">Hello, [NAME]</th>\\n        </tr>\\n        <tr>\\n            <td valign=\"top\" style=\"text-align: left;\">\\n            <h2 style=\"color: rgb(255, 0, 0);\">Your current membership will expire in 7 days</h2>\\n            Please login to your user panel to extend or upgrade your membership.</td>\\n        </tr>\\n        <tr>\\n            <td style=\"text-align: left;\"><em>Thanks,<br />\\n            [SITE_NAME] Team<br />\\n            <a href=\"[URL]\">[URL]</a></em></td>\\n        </tr>\\n    </tbody>\\n</table>\\n</div>')\n",
      ",(9, 'Membership Expired Today', 'Your membership has expired', 'This template is used to remind user that membership had expired', '<div align=\"center\">\\n<table width=\"600\" cellspacing=\"5\" cellpadding=\"5\" border=\"0\" style=\"background: none repeat scroll 0% 0% rgb(244, 244, 244); border: 1px solid rgb(102, 102, 102);\">\\n    <tbody>\\n        <tr>\\n            <th style=\"background-color: rgb(204, 204, 204);\">Hello, [NAME]</th>\\n        </tr>\\n        <tr>\\n            <td valign=\"top\" style=\"text-align: left;\">\\n            <h2 style=\"color: rgb(255, 0, 0);\">Your current membership has expired!</h2>\\n            Please login to your user panel to extend or upgrade your membership.</td>\\n        </tr>\\n        <tr>\\n            <td style=\"text-align: left;\"><em>Thanks,<br />\\n            [SITE_NAME] Team<br />\\n            <a href=\"[URL]\">[URL]</a></em></td>\\n        </tr>\\n    </tbody>\\n</table>\\n</div>')\n",
      ",(10, 'Contact Request', 'Contact Inquiry', 'This template is used to send default Contact Request Form', '<div align=\"center\">\\n<table width=\"600\" cellspacing=\"5\" cellpadding=\"5\" border=\"0\" style=\"background: none repeat scroll 0% 0% rgb(244, 244, 244); border: 1px solid rgb(102, 102, 102);\">\\n    <tbody>\\n        <tr>\\n            <th style=\"background-color: rgb(204, 204, 204);\">Hello Admin</th>\\n        </tr>\\n        <tr>\\n            <td valign=\"top\" style=\"text-align: left;\">You have a new contact request:         <hr />\\n            [MESSAGE]         <hr />\\n            From: <strong>[SENDER] - [NAME]</strong><br />\\n            Subject: <strong>[MAILSUBJECT]</strong><br />\\n            Senders IP: <strong>[IP]</strong></td>\\n        </tr>\\n    </tbody>\\n</table>\\n</div>')\n",
      ",(12, 'Single Email', 'Single User Email', 'This template is used to email single user', '<div align=\"center\">\\n  <table width=\"600\" cellspacing=\"5\" cellpadding=\"5\" border=\"0\" style=\"background: none repeat scroll 0% 0% rgb(244, 244, 244); border: 1px solid rgb(102, 102, 102);\">\\n    <tbody>\\n      <tr>\\n        <th style=\"background-color:#ccc\">Hello [NAME]</th>\\n      </tr>\\n      <tr>\\n        <td valign=\"top\" style=\"text-align:left\">Your message goes here...</td>\\n      </tr>\\n      <tr>\\n        <td style=\"text-align:left\"><em>Thanks,<br />\\n          [SITE_NAME] Team<br />\\n          <a href=\"[URL]\">[URL]</a></em></td>\\n      </tr>\\n    </tbody>\\n  </table>\\n</div>')\n",
      ",(13, 'Notify Admin', 'New User Registration', 'This template is used to notify admin of new registration when Configuration->Registration Notification is set to YES', '<div align=\"center\">\\n<table cellspacing=\"5\" cellpadding=\"5\" border=\"0\" width=\"600\" style=\"background: none repeat scroll 0% 0% rgb(244, 244, 244); border: 1px solid rgb(102, 102, 102);\">\\n    <tbody>\\n        <tr>\\n            <th style=\"background-color: rgb(204, 204, 204);\">Hello Admin</th>\\n        </tr>\\n        <tr>\\n            <td valign=\"top\" style=\"text-align: left;\">You have a new user registration. You can login into your admin panel to view details:<hr />\\n            Username: <strong>[USERNAME]</strong><br />\\n            Name: <strong>[NAME]</strong><br />\\n            IP: <strong>[IP]</strong></td>\\n        </tr>\\n    </tbody>\\n</table>\\n</div>')\n",
      ",(14, 'Registration Pending', 'Registration Verification Pending', 'This template is used to send Registration Verification Email, when Configuration->Auto Registration is set to NO', '<div align=\"center\">\\n<table cellspacing=\"5\" cellpadding=\"5\" border=\"0\" width=\"600\" style=\"background: none repeat scroll 0% 0% rgb(244, 244, 244); border: 1px solid rgb(102, 102, 102);\">\\n    <tbody>\\n        <tr>\\n            <th style=\"background-color: rgb(204, 204, 204);\">Welcome [NAME]! Thanks for registering.</th>\\n        </tr>\\n        <tr>\\n            <td valign=\"top\" style=\"text-align: left;\">Hello,<br />\\n            <br />\\n            You\\'re now a member of [SITE_NAME].<br />\\n            <br />\\n            Here are your login details. Please keep them in a safe place:<br />\\n            <br />\\n            Username: <strong>[USERNAME]</strong><br />\\n            Password: <strong>[PASSWORD]</strong>         <hr />\\n            The administrator of this site has requested all new accounts<br />\\n            to be activated by the users who created them thus your account<br />\\n            is currently pending verification process.</td>\\n        </tr>\\n        <tr>\\n            <td style=\"text-align: left;\"><em>Thanks,<br />\\n            [SITE_NAME] Team<br />\\n            <a href=\"[URL]\">[URL]</a></em></td>\\n        </tr>\\n    </tbody>\\n</table>\\n</div>');\n",
      "\n",
      "CREATE TABLE `gateways` (\n",
      "`id` int(11) NOT NULL AUTO_INCREMENT,\n",
      "`name` varchar(255) NOT NULL,\n",
      "`displayname` varchar(255) NOT NULL,\n",
      "`dir` varchar(255) NOT NULL,\n",
      "`demo` tinyint(1) NOT NULL DEFAULT '1',\n",
      "`extra_txt` varchar(255) NOT NULL,\n",
      "`extra_txt2` varchar(255) NOT NULL,\n",
      "`extra_txt3` varchar(255) DEFAULT NULL,\n",
      "`extra` varchar(255) NOT NULL,\n",
      "`extra2` varchar(255) NOT NULL,\n",
      "`extra3` varchar(255) DEFAULT NULL,\n",
      "`is_recurring` tinyint(1) NOT NULL DEFAULT '0',\n",
      "`active` tinyint(1) NOT NULL DEFAULT '1',\n",
      "PRIMARY KEY (`id`)\n",
      ") ENGINE=MyISAM AUTO_INCREMENT=3 DEFAULT CHARSET=utf8;\n",
      "INSERT INTO `gateways` (`id`, `name`, `displayname`, `dir`, `demo`, `extra_txt`, `extra_txt2`, `extra_txt3`, `extra`, `extra2`, `extra3`, `is_recurring`, `active`) VALUES\n",
      "(1, 'paypal', 'PayPal', 'paypal', 1, 'Paypal Email Address', 'Currency Code', 'Not in Use', 'r.evenge@aol.com', 'USD', NULL, 1, 1)\n",
      ",(2, 'moneybookers', 'MoneyBookers', 'moneybookers', 1, 'MoneyBookers Email Address', 'Currency Code', 'Secret Passphrase', 'PandaHaxor@gmail.com', 'USD', 'pandahax', 1, 1);\n",
      "\n",
      "CREATE TABLE `getshells` (\n",
      "`URL` varchar(1000) NOT NULL,\n",
      "`online` int(1) NOT NULL DEFAULT '0',\n",
      "`lastChecked` int(10) NOT NULL DEFAULT '0'\n",
      ") ENGINE=MyISAM DEFAULT CHARSET=latin1;\n",
      "INSERT INTO `getshells` (`URL`, `online`, `lastChecked`) VALUES\n",
      "('http://www.filbanken.nu/awstats/awstats/UDP.php', 0, 0)\n",
      ",('http://www.indianethicalhacker.blackapplehost.com/xoep.php?', 0, 0)\n",
      ",('http://www.indianethicalhacker.blackapplehost.com/xoep.php ', 0, 0)\n",
      ",('http://www.indianethicalhacker.blackapplehost.com/xoep.php    ', 0, 0)\n",
      ",('http://163.178.170.74/webdav/greenshell.php', 0, 0)\n",
      ",('http://mapi.co.kr/zb41pl7/bbs/data/mapi_bbs/settings.php', 0, 0)\n",
      ",('http://indianethicalhacker.blackapplehost.com/xoep.php?act=phptools&host=/', 0, 0)\n",
      ",('http://theresahackforthat.webs.com/shell.php', 0, 0)\n",
      ",('http://www.ecofilms.gr/search_gr.asp', 0, 0)\n",
      ",('http://mmx1.webs.com/shell.php', 0, 0)\n",
      ",('http://mmx2.webs.com/shell.php', 0, 0)\n",
      ",('http://www.ecofilms.gr/search_gr.asp        ', 0, 0)\n",
      ",('http://gfdgdfgfdgfd.co.cc/shell.php', 0, 0)\n",
      ",('http://localhostr.t35.com/udp/    ', 0, 0)\n",
      ",('http://shells.red-pill.eu', 0, 0)\n",
      ",('http://shells.red-pill.eu/', 0, 0)\n",
      ",('http://204.191.9.89/webdav/shell16182.php', 0, 0)\n",
      ",('http://www.ecofilms.gr/search_gr.asp?', 0, 0)\n",
      ",('http://www.theresahackforthat.webs.com/shell.php', 0, 0)\n",
      ",('http://www.gfdgdfgfdgfd.co.cc/shell.php', 0, 0)\n",
      ",('http://www.ecofilms.gr/search_gr.asp?act=phptools&.../', 0, 0)\n",
      ",('http://www.ecofilms.gr/search_gr.asp?act...ols', 0, 0)\n",
      ",('http://82.114.168.38/webdav/greenshell.php', 0, 0)\n",
      ",('http://www.indianethicalhacker.blackapplehost.com/xoep.php', 0, 0)\n",
      ",('http://www.indianethicalhacker.blackapplehost.com/xoep.php?act=phptools&host=/', 0, 0)\n",
      ",('http://www.ecofilms.gr/search_gr.asp?act...ols&host=/', 0, 0)\n",
      ",('http://www.ecofilms.gr/search_gr.asp?act=phptools&...', 0, 0)\n",
      ",('http://shells.red-pill.eu/ ', 0, 0)\n",
      ",('http://115.111.3.241/webdav/test.php', 0, 0)\n",
      ",('http://www.windowsecurity.com/faqs/Trojans/', 0, 0)\n",
      ",('http://www.ecofilms.gr/search_gr.asp?act=phptools', 0, 0)\n",
      ",('http://www.ecofilms.gr/search_gr.asp ', 0, 0)\n",
      ",(' http://82.114.168.38/webdav/greenshell.php', 0, 0)\n",
      ",('http://www.ecofilms.gr/search_gr.asp    ', 0, 0)\n",
      ",('http://212.41.203.123/webdav/...php', 0, 0)\n",
      ",('http://www.offensive-security.com/metasploit-unleashed/Antivirus_Bypass', 0, 0)\n",
      ",(' http://www.indianethicalhacker.blackapplehost.com/xoep.php', 0, 0)\n",
      ",('http://www.ecofilms.gr/search_gr.asp?act=phptools/', 0, 0)\n",
      ",('http://212.182.69.18/webdav/panel.php', 0, 0)\n",
      ",('http://217.92.11.24/webdav/.....php', 0, 0)\n",
      ",('http://88.37.32.82/webdav/shell.php', 0, 0)\n",
      ",('http://88.37.32.86/webdav/shell.php', 0, 0)\n",
      ",('http://82.114.168.38/webdav/greenshell.php?act=phptools&host=/', 0, 0)\n",
      ",('http://208.105.232.221/webdav/sectorx/udp.php', 0, 0)\n",
      ",('http://laentrada.com.mx/images/laentrada/0x.php', 0, 0)\n",
      ",('http://www.sargodhanews.com/ads/0x.php', 0, 0)\n",
      ",('http://94.76.206.41/~mega/pek/0x.php', 0, 0)\n",
      ",('http://www.pakistaniscandals.com/ads/0x.php', 0, 0)\n",
      ",('http://spicyscandals.com/posts/0x.php', 0, 0)\n",
      ",('http://johnbaptistchurch.org/0x.php', 0, 0)\n",
      ",('http://www.starwelfare.org/banners/0x.php', 0, 0)\n"
     ]
    }
   ],
   "source": [
    "lines_to_read=100\n",
    "\n",
    "with open(dumpfile) as myfile:\n",
    "    firstlines=myfile.readlines()[0:lines_to_read] #put here the interval you want\n",
    "    for x in firstlines:\n",
    "        print(x.strip())"
   ]
  },
  {
   "cell_type": "markdown",
   "metadata": {},
   "source": [
    "## 2. Listing tables that have content inserted into the dump file"
   ]
  },
  {
   "cell_type": "code",
   "execution_count": 8,
   "metadata": {
    "collapsed": true
   },
   "outputs": [],
   "source": [
    "def list_tables_with_insert(dumpfile):\n",
    "    tables = []\n",
    "    with open(dumpfile, 'rb') as f:\n",
    "        for line in f:\n",
    "            line = line.decode(\"utf-8\").strip()\n",
    "            if line.lower().startswith('insert'):\n",
    "                table = re.findall(r'`(.*?)`', line)\n",
    "                tables.append(table[0])\n",
    "    return tables"
   ]
  },
  {
   "cell_type": "code",
   "execution_count": 10,
   "metadata": {
    "collapsed": false
   },
   "outputs": [
    {
     "name": "stdout",
     "output_type": "stream",
     "text": [
      "1 email_templates\n",
      "2 gateways\n",
      "3 getshells\n",
      "4 logs\n",
      "5 memberships\n",
      "6 news\n",
      "7 postshells\n",
      "8 settings\n",
      "9 users\n"
     ]
    }
   ],
   "source": [
    "tables=enumerate(list_tables_with_insert(dumpfile))\n",
    "\n",
    "for i, item in tables:\n",
    "    print(i+1,item)"
   ]
  },
  {
   "cell_type": "markdown",
   "metadata": {},
   "source": [
    "## How the list above looks like? "
   ]
  },
  {
   "cell_type": "markdown",
   "metadata": {},
   "source": [
    "<h2 align='center'>======================================================================\n",
    "If NOT well-formed SQL dump file then you must first do the following:\n",
    "======================================================================</h2>"
   ]
  },
  {
   "cell_type": "markdown",
   "metadata": {},
   "source": [
    "## 3. Removing lines that are not part of the actual content to be analysed"
   ]
  },
  {
   "cell_type": "markdown",
   "metadata": {},
   "source": [
    "## 4. Splitting and naming tables and columns"
   ]
  },
  {
   "cell_type": "markdown",
   "metadata": {},
   "source": [
    "<h2 align='center'>======================================================================\n",
    "Additional functions\n",
    "======================================================================</h2>"
   ]
  },
  {
   "cell_type": "markdown",
   "metadata": {},
   "source": [
    "## * Function to read tables from wel-formed SQL database dump"
   ]
  },
  {
   "cell_type": "code",
   "execution_count": 11,
   "metadata": {
    "collapsed": false
   },
   "outputs": [],
   "source": [
    "# For well formed SQL database dumps!\n",
    "def read_inserted_table(dumpfile, target_table):\n",
    "    sio = StringIO()\n",
    "    fast_forward = True\n",
    "    with open(dumpfile, 'rb') as f:\n",
    "        for line in f:\n",
    "            line = line.decode(\"utf-8\").strip()\n",
    "            line = re.sub(\"(?!(([^']*'){2})*[^']*$)\\)\", '',line) #Step0:remove any \")\" from the content of columns\n",
    "            if line.lower().startswith('insert') and target_table in line:\n",
    "                fast_forward = False\n",
    "            if fast_forward:\n",
    "                continue\n",
    "            data = re.findall('\\([^\\)]*\\)', line) #Step1: get the content between parentesis (i.e., insert line)\n",
    "            try:\n",
    "                newline = data[0].strip('()') #Step2:remove parenthesis\n",
    "                newline=newline.replace('`','') #Step3: remove ` (usually in table names)\n",
    "                newline=re.sub(r'(?!(([^\\']*\\'){2})*[^\\']*$),', '', newline) #Step4: remove commas from the content of columns\n",
    "                newline=newline.replace('\\'','') #Step5: remove single quotes\n",
    "                newline=newline.replace(', ', ',') #Step6: remove single spaces after comma (i.e., in the beginning of a column)\n",
    "                sio.write(newline)\n",
    "                sio.write(\"\\n\")\n",
    "            except IndexError:\n",
    "                pass\n",
    "            if line.endswith(';'):\n",
    "                break\n",
    "    sio.seek(0)\n",
    "    return sio"
   ]
  },
  {
   "cell_type": "markdown",
   "metadata": {},
   "source": [
    "## * Converter functions for formatting content of columns"
   ]
  },
  {
   "cell_type": "code",
   "execution_count": 12,
   "metadata": {
    "collapsed": true
   },
   "outputs": [],
   "source": [
    "def tolowercase(text):\n",
    "    try:\n",
    "        return text.lower()\n",
    "    except AttributeError:\n",
    "        return text "
   ]
  },
  {
   "cell_type": "code",
   "execution_count": 13,
   "metadata": {
    "collapsed": true
   },
   "outputs": [],
   "source": [
    "def strip_singlequote(text):\n",
    "    try:\n",
    "        return text.strip('\\'')\n",
    "    except AttributeError:\n",
    "        return text"
   ]
  },
  {
   "cell_type": "code",
   "execution_count": 14,
   "metadata": {
    "collapsed": true
   },
   "outputs": [],
   "source": [
    "def timestamp2datetime(timestamp):\n",
    "    try:\n",
    "        return  pd.to_datetime(timestamp,unit='s')\n",
    "    except AttributeError:\n",
    "        return timestamp "
   ]
  },
  {
   "cell_type": "code",
   "execution_count": 15,
   "metadata": {
    "collapsed": true
   },
   "outputs": [],
   "source": [
    "def datetimestring2datetime(text):\n",
    "    try:\n",
    "        return  pd.to_datetime(text,format='%d-%m-%Y %H:%M')\n",
    "    except AttributeError:\n",
    "        return text "
   ]
  },
  {
   "cell_type": "code",
   "execution_count": 16,
   "metadata": {
    "collapsed": true
   },
   "outputs": [],
   "source": [
    "def datetimeinvertedstring2datetime(text):\n",
    "    try:\n",
    "        return  pd.to_datetime(text,format='%Y-%m-%d %H:%M:%S')\n",
    "    except AttributeError:\n",
    "        return text "
   ]
  },
  {
   "cell_type": "code",
   "execution_count": 17,
   "metadata": {
    "collapsed": true
   },
   "outputs": [],
   "source": [
    "def datetimeampm2datetime(text):\n",
    "    try:\n",
    "        return  pd.to_datetime(text,format='%d-%m-%Y %I:%M:%S %p')\n",
    "    except AttributeError:\n",
    "        return text "
   ]
  },
  {
   "cell_type": "code",
   "execution_count": 18,
   "metadata": {
    "collapsed": true
   },
   "outputs": [],
   "source": [
    "def datetimemdyampm2datetime(text):\n",
    "    try:\n",
    "        return  pd.to_datetime(text,format='%m-%d-%Y %I:%M:%S %p')\n",
    "    except AttributeError:\n",
    "        return text "
   ]
  },
  {
   "cell_type": "code",
   "execution_count": 19,
   "metadata": {
    "collapsed": true
   },
   "outputs": [],
   "source": [
    "def strip_singlequote_and_tolowercase(text):\n",
    "    try:\n",
    "        return text.strip('\\'').lower()\n",
    "    except AttributeError:\n",
    "        return text "
   ]
  },
  {
   "cell_type": "code",
   "execution_count": 20,
   "metadata": {
    "collapsed": true
   },
   "outputs": [],
   "source": [
    "def strip_singlequote_and_dateformat2datetime(text):\n",
    "    try:\n",
    "        return  pd.to_datetime(text.strip('\\''),format='%d-%m-%Y %H:%M')\n",
    "    except AttributeError:\n",
    "        return text "
   ]
  },
  {
   "cell_type": "code",
   "execution_count": 21,
   "metadata": {
    "collapsed": true
   },
   "outputs": [],
   "source": [
    "def strip_parenthesisandsemicolon(text):\n",
    "    try:\n",
    "        return text.replace(');',\"\")\n",
    "    except AttributeError:\n",
    "        return text "
   ]
  },
  {
   "cell_type": "code",
   "execution_count": 22,
   "metadata": {
    "collapsed": true
   },
   "outputs": [],
   "source": [
    "def strip_insertintologs(text):\n",
    "    try:\n",
    "        return int(text.replace('INSERT INTO `logs` VALUES (',\"\"))\n",
    "    except AttributeError:\n",
    "        return text "
   ]
  },
  {
   "cell_type": "markdown",
   "metadata": {},
   "source": [
    "<h2 align='center'>======================================================================\n",
    "Adapting EACH existing table\n",
    "======================================================================</h2>"
   ]
  },
  {
   "cell_type": "markdown",
   "metadata": {},
   "source": [
    "## 6.1. Table: 'email_templates'"
   ]
  },
  {
   "cell_type": "markdown",
   "metadata": {},
   "source": [
    "### How this table looks like without modification?"
   ]
  },
  {
   "cell_type": "code",
   "execution_count": 23,
   "metadata": {
    "collapsed": false
   },
   "outputs": [
    {
     "data": {
      "text/html": [
       "<div>\n",
       "<table border=\"1\" class=\"dataframe\">\n",
       "  <thead>\n",
       "    <tr style=\"text-align: right;\">\n",
       "      <th></th>\n",
       "      <th>id</th>\n",
       "      <th>name</th>\n",
       "      <th>subject</th>\n",
       "      <th>help</th>\n",
       "      <th>body</th>\n",
       "    </tr>\n",
       "  </thead>\n",
       "  <tbody>\n",
       "    <tr>\n",
       "      <th>0</th>\n",
       "      <td>1 Registration Email Please verify your email ...</td>\n",
       "      <td>when Configuration-&gt;Registration Verification ...</td>\n",
       "      <td>244</td>\n",
       "      <td>244</td>\n",
       "      <td>NaN</td>\n",
       "    </tr>\n",
       "    <tr>\n",
       "      <th>1</th>\n",
       "      <td>2</td>\n",
       "      <td>Forgot Password Email</td>\n",
       "      <td>Password Reset</td>\n",
       "      <td>This template is used for retrieving lost user...</td>\n",
       "      <td>&lt;div align=\"center\"&gt;\\n&lt;table width=\"600\" cells...</td>\n",
       "    </tr>\n",
       "    <tr>\n",
       "      <th>2</th>\n",
       "      <td>3 Welcome Mail From Admin You have been regist...</td>\n",
       "      <td>when user is added by administrator &lt;div align...</td>\n",
       "      <td>244</td>\n",
       "      <td>244</td>\n",
       "      <td>NaN</td>\n",
       "    </tr>\n",
       "    <tr>\n",
       "      <th>3</th>\n",
       "      <td>4</td>\n",
       "      <td>Default Newsletter</td>\n",
       "      <td>Newsletter</td>\n",
       "      <td>This is a default newsletter template</td>\n",
       "      <td>&lt;div align=\"center\"&gt;\\n&lt;table width=\"600\" cells...</td>\n",
       "    </tr>\n",
       "    <tr>\n",
       "      <th>4</th>\n",
       "      <td>5</td>\n",
       "      <td>Transaction Completed</td>\n",
       "      <td>Payment Completed</td>\n",
       "      <td>This template is used to notify administrator ...</td>\n",
       "      <td>&lt;div align=\"center\"&gt;\\n&lt;table width=\"600\" cells...</td>\n",
       "    </tr>\n",
       "    <tr>\n",
       "      <th>5</th>\n",
       "      <td>6 Transaction Suspicious Suspicious Transactio...</td>\n",
       "      <td>244</td>\n",
       "      <td>244</td>\n",
       "      <td>NaN</td>\n",
       "      <td>NaN</td>\n",
       "    </tr>\n",
       "    <tr>\n",
       "      <th>6</th>\n",
       "      <td>7 Welcome Email Welcome This template is used ...</td>\n",
       "      <td>244</td>\n",
       "      <td>244</td>\n",
       "      <td>NaN</td>\n",
       "      <td>NaN</td>\n",
       "    </tr>\n",
       "    <tr>\n",
       "      <th>7</th>\n",
       "      <td>8</td>\n",
       "      <td>Membership Expire 7 days</td>\n",
       "      <td>Your membership will expire in 7 days</td>\n",
       "      <td>This template is used to remind user that memb...</td>\n",
       "      <td>&lt;div align=\"center\"&gt;\\n&lt;table cellspacing=\"5\" c...</td>\n",
       "    </tr>\n",
       "    <tr>\n",
       "      <th>8</th>\n",
       "      <td>9</td>\n",
       "      <td>Membership Expired Today</td>\n",
       "      <td>Your membership has expired</td>\n",
       "      <td>This template is used to remind user that memb...</td>\n",
       "      <td>&lt;div align=\"center\"&gt;\\n&lt;table width=\"600\" cells...</td>\n",
       "    </tr>\n",
       "    <tr>\n",
       "      <th>9</th>\n",
       "      <td>10</td>\n",
       "      <td>Contact Request</td>\n",
       "      <td>Contact Inquiry</td>\n",
       "      <td>This template is used to send default Contact ...</td>\n",
       "      <td>&lt;div align=\"center\"&gt;\\n&lt;table width=\"600\" cells...</td>\n",
       "    </tr>\n",
       "  </tbody>\n",
       "</table>\n",
       "</div>"
      ],
      "text/plain": [
       "                                                  id  \\\n",
       "0  1 Registration Email Please verify your email ...   \n",
       "1                                                  2   \n",
       "2  3 Welcome Mail From Admin You have been regist...   \n",
       "3                                                  4   \n",
       "4                                                  5   \n",
       "5  6 Transaction Suspicious Suspicious Transactio...   \n",
       "6  7 Welcome Email Welcome This template is used ...   \n",
       "7                                                  8   \n",
       "8                                                  9   \n",
       "9                                                 10   \n",
       "\n",
       "                                                name  \\\n",
       "0  when Configuration->Registration Verification ...   \n",
       "1                              Forgot Password Email   \n",
       "2  when user is added by administrator <div align...   \n",
       "3                                 Default Newsletter   \n",
       "4                              Transaction Completed   \n",
       "5                                                244   \n",
       "6                                                244   \n",
       "7                           Membership Expire 7 days   \n",
       "8                           Membership Expired Today   \n",
       "9                                    Contact Request   \n",
       "\n",
       "                                 subject  \\\n",
       "0                                    244   \n",
       "1                         Password Reset   \n",
       "2                                    244   \n",
       "3                             Newsletter   \n",
       "4                      Payment Completed   \n",
       "5                                    244   \n",
       "6                                    244   \n",
       "7  Your membership will expire in 7 days   \n",
       "8            Your membership has expired   \n",
       "9                        Contact Inquiry   \n",
       "\n",
       "                                                help  \\\n",
       "0                                                244   \n",
       "1  This template is used for retrieving lost user...   \n",
       "2                                                244   \n",
       "3              This is a default newsletter template   \n",
       "4  This template is used to notify administrator ...   \n",
       "5                                                NaN   \n",
       "6                                                NaN   \n",
       "7  This template is used to remind user that memb...   \n",
       "8  This template is used to remind user that memb...   \n",
       "9  This template is used to send default Contact ...   \n",
       "\n",
       "                                                body  \n",
       "0                                                NaN  \n",
       "1  <div align=\"center\">\\n<table width=\"600\" cells...  \n",
       "2                                                NaN  \n",
       "3  <div align=\"center\">\\n<table width=\"600\" cells...  \n",
       "4  <div align=\"center\">\\n<table width=\"600\" cells...  \n",
       "5                                                NaN  \n",
       "6                                                NaN  \n",
       "7  <div align=\"center\">\\n<table cellspacing=\"5\" c...  \n",
       "8  <div align=\"center\">\\n<table width=\"600\" cells...  \n",
       "9  <div align=\"center\">\\n<table width=\"600\" cells...  "
      ]
     },
     "execution_count": 23,
     "metadata": {},
     "output_type": "execute_result"
    }
   ],
   "source": [
    "tablename='email_templates'\n",
    "\n",
    "pd.read_csv(read_inserted_table(dumpfile, tablename),\n",
    "            delimiter=\",\",\n",
    "            error_bad_lines=False).head(10)"
   ]
  },
  {
   "cell_type": "markdown",
   "metadata": {},
   "source": [
    "#### Q1: Is this table different from other previous loaded table? YES\n",
    "#### Q2: Is this table similar to any table in the generic Booter database schema? NO\n",
    "    - This table looks like: \n",
    "    \n",
    "#### Q3: Are there modifications required? \n",
    "    - On the table name: \n",
    "        o \n",
    "    - On the column type/converter: \n",
    "        o    \n",
    "    - On the column name:\n",
    "        o  \n",
    "    - Split columns:\n",
    "        o \n",
    "    - Add required columns:\n",
    "        o "
   ]
  },
  {
   "cell_type": "markdown",
   "metadata": {},
   "source": [
    "## 6.2. Table: 'gateways'"
   ]
  },
  {
   "cell_type": "markdown",
   "metadata": {},
   "source": [
    "### How this table looks like without modification?"
   ]
  },
  {
   "cell_type": "code",
   "execution_count": 24,
   "metadata": {
    "collapsed": false
   },
   "outputs": [
    {
     "data": {
      "text/html": [
       "<div>\n",
       "<table border=\"1\" class=\"dataframe\">\n",
       "  <thead>\n",
       "    <tr style=\"text-align: right;\">\n",
       "      <th></th>\n",
       "      <th>id</th>\n",
       "      <th>name</th>\n",
       "      <th>displayname</th>\n",
       "      <th>dir</th>\n",
       "      <th>demo</th>\n",
       "      <th>extra_txt</th>\n",
       "      <th>extra_txt2</th>\n",
       "      <th>extra_txt3</th>\n",
       "      <th>extra</th>\n",
       "      <th>extra2</th>\n",
       "      <th>extra3</th>\n",
       "      <th>is_recurring</th>\n",
       "      <th>active</th>\n",
       "    </tr>\n",
       "  </thead>\n",
       "  <tbody>\n",
       "    <tr>\n",
       "      <th>0</th>\n",
       "      <td>1</td>\n",
       "      <td>paypal</td>\n",
       "      <td>PayPal</td>\n",
       "      <td>paypal</td>\n",
       "      <td>1</td>\n",
       "      <td>Paypal Email Address</td>\n",
       "      <td>Currency Code</td>\n",
       "      <td>Not in Use</td>\n",
       "      <td>r.evenge@aol.com</td>\n",
       "      <td>USD</td>\n",
       "      <td>NaN</td>\n",
       "      <td>1</td>\n",
       "      <td>1</td>\n",
       "    </tr>\n",
       "    <tr>\n",
       "      <th>1</th>\n",
       "      <td>2</td>\n",
       "      <td>moneybookers</td>\n",
       "      <td>MoneyBookers</td>\n",
       "      <td>moneybookers</td>\n",
       "      <td>1</td>\n",
       "      <td>MoneyBookers Email Address</td>\n",
       "      <td>Currency Code</td>\n",
       "      <td>Secret Passphrase</td>\n",
       "      <td>PandaHaxor@gmail.com</td>\n",
       "      <td>USD</td>\n",
       "      <td>pandahax</td>\n",
       "      <td>1</td>\n",
       "      <td>1</td>\n",
       "    </tr>\n",
       "  </tbody>\n",
       "</table>\n",
       "</div>"
      ],
      "text/plain": [
       "   id          name   displayname           dir  demo  \\\n",
       "0   1        paypal        PayPal        paypal     1   \n",
       "1   2  moneybookers  MoneyBookers  moneybookers     1   \n",
       "\n",
       "                    extra_txt     extra_txt2         extra_txt3  \\\n",
       "0        Paypal Email Address  Currency Code         Not in Use   \n",
       "1  MoneyBookers Email Address  Currency Code  Secret Passphrase   \n",
       "\n",
       "                  extra extra2    extra3  is_recurring  active  \n",
       "0      r.evenge@aol.com    USD       NaN             1       1  \n",
       "1  PandaHaxor@gmail.com    USD  pandahax             1       1  "
      ]
     },
     "execution_count": 24,
     "metadata": {},
     "output_type": "execute_result"
    }
   ],
   "source": [
    "tablename='gateways'\n",
    "\n",
    "# Only displaying the results\n",
    "pd.read_csv(read_inserted_table(dumpfile, tablename),\n",
    "            delimiter=\",\",\n",
    "            error_bad_lines=False).head(10)"
   ]
  },
  {
   "cell_type": "markdown",
   "metadata": {},
   "source": [
    "#### Q1: Is this table different from other previous loaded table? YES\n",
    "#### Q2: Is this table similar to any table in the generic Booter database schema? YES\n",
    "    - This table looks like: gateways\n",
    "    \n",
    "#### Q3: Are there modifications required? \n",
    "    - On the table name: \n",
    "        o \n",
    "    - On the column type: \n",
    "        o    \n",
    "    - On the column name:\n",
    "        o extra => email\n",
    "    - Split columns:\n",
    "        o \n",
    "    - Add required columns:\n",
    "        o         "
   ]
  },
  {
   "cell_type": "markdown",
   "metadata": {},
   "source": [
    "### Modifying table: 'gateways'"
   ]
  },
  {
   "cell_type": "code",
   "execution_count": 25,
   "metadata": {
    "collapsed": false
   },
   "outputs": [
    {
     "data": {
      "text/html": [
       "<div>\n",
       "<table border=\"1\" class=\"dataframe\">\n",
       "  <thead>\n",
       "    <tr style=\"text-align: right;\">\n",
       "      <th></th>\n",
       "      <th>id</th>\n",
       "      <th>name</th>\n",
       "      <th>displayname</th>\n",
       "      <th>dir</th>\n",
       "      <th>demo</th>\n",
       "      <th>extra_txt</th>\n",
       "      <th>extra_txt2</th>\n",
       "      <th>extra_txt3</th>\n",
       "      <th>email</th>\n",
       "      <th>extra2</th>\n",
       "      <th>extra3</th>\n",
       "      <th>is_recurring</th>\n",
       "      <th>active</th>\n",
       "    </tr>\n",
       "  </thead>\n",
       "  <tbody>\n",
       "    <tr>\n",
       "      <th>0</th>\n",
       "      <td>1</td>\n",
       "      <td>paypal</td>\n",
       "      <td>PayPal</td>\n",
       "      <td>paypal</td>\n",
       "      <td>1</td>\n",
       "      <td>Paypal Email Address</td>\n",
       "      <td>Currency Code</td>\n",
       "      <td>Not in Use</td>\n",
       "      <td>r.evenge@aol.com</td>\n",
       "      <td>USD</td>\n",
       "      <td>NaN</td>\n",
       "      <td>1</td>\n",
       "      <td>1</td>\n",
       "    </tr>\n",
       "    <tr>\n",
       "      <th>1</th>\n",
       "      <td>2</td>\n",
       "      <td>moneybookers</td>\n",
       "      <td>MoneyBookers</td>\n",
       "      <td>moneybookers</td>\n",
       "      <td>1</td>\n",
       "      <td>MoneyBookers Email Address</td>\n",
       "      <td>Currency Code</td>\n",
       "      <td>Secret Passphrase</td>\n",
       "      <td>PandaHaxor@gmail.com</td>\n",
       "      <td>USD</td>\n",
       "      <td>pandahax</td>\n",
       "      <td>1</td>\n",
       "      <td>1</td>\n",
       "    </tr>\n",
       "  </tbody>\n",
       "</table>\n",
       "</div>"
      ],
      "text/plain": [
       "   id          name   displayname           dir  demo  \\\n",
       "0   1        paypal        PayPal        paypal     1   \n",
       "1   2  moneybookers  MoneyBookers  moneybookers     1   \n",
       "\n",
       "                    extra_txt     extra_txt2         extra_txt3  \\\n",
       "0        Paypal Email Address  Currency Code         Not in Use   \n",
       "1  MoneyBookers Email Address  Currency Code  Secret Passphrase   \n",
       "\n",
       "                  email extra2    extra3  is_recurring  active  \n",
       "0      r.evenge@aol.com    USD       NaN             1       1  \n",
       "1  PandaHaxor@gmail.com    USD  pandahax             1       1  "
      ]
     },
     "execution_count": 25,
     "metadata": {},
     "output_type": "execute_result"
    }
   ],
   "source": [
    "df_gateways = pd.read_csv(read_inserted_table(dumpfile, tablename),\n",
    "                                delimiter=\",\",\n",
    "                                error_bad_lines=False)\n",
    "\n",
    "###Changing names of columns\n",
    "df_gateways.rename(columns = {'extra': 'email'},\n",
    "                         inplace=True)\n",
    "\n",
    "###Showing some lines after adapt the table\n",
    "df_gateways.head(10)"
   ]
  },
  {
   "cell_type": "markdown",
   "metadata": {},
   "source": [
    "## 6.3. Table: 'getshells'"
   ]
  },
  {
   "cell_type": "markdown",
   "metadata": {},
   "source": [
    "### How this table looks like without modification?"
   ]
  },
  {
   "cell_type": "code",
   "execution_count": 26,
   "metadata": {
    "collapsed": false
   },
   "outputs": [
    {
     "data": {
      "text/html": [
       "<div>\n",
       "<table border=\"1\" class=\"dataframe\">\n",
       "  <thead>\n",
       "    <tr style=\"text-align: right;\">\n",
       "      <th></th>\n",
       "      <th>URL</th>\n",
       "      <th>online</th>\n",
       "      <th>lastChecked</th>\n",
       "    </tr>\n",
       "  </thead>\n",
       "  <tbody>\n",
       "    <tr>\n",
       "      <th>0</th>\n",
       "      <td>http://www.filbanken.nu/awstats/awstats/UDP.php</td>\n",
       "      <td>0</td>\n",
       "      <td>0</td>\n",
       "    </tr>\n",
       "    <tr>\n",
       "      <th>1</th>\n",
       "      <td>http://www.indianethicalhacker.blackapplehost....</td>\n",
       "      <td>0</td>\n",
       "      <td>0</td>\n",
       "    </tr>\n",
       "    <tr>\n",
       "      <th>2</th>\n",
       "      <td>http://www.indianethicalhacker.blackapplehost....</td>\n",
       "      <td>0</td>\n",
       "      <td>0</td>\n",
       "    </tr>\n",
       "    <tr>\n",
       "      <th>3</th>\n",
       "      <td>http://www.indianethicalhacker.blackapplehost....</td>\n",
       "      <td>0</td>\n",
       "      <td>0</td>\n",
       "    </tr>\n",
       "    <tr>\n",
       "      <th>4</th>\n",
       "      <td>http://163.178.170.74/webdav/greenshell.php</td>\n",
       "      <td>0</td>\n",
       "      <td>0</td>\n",
       "    </tr>\n",
       "    <tr>\n",
       "      <th>5</th>\n",
       "      <td>http://mapi.co.kr/zb41pl7/bbs/data/mapi_bbs/se...</td>\n",
       "      <td>0</td>\n",
       "      <td>0</td>\n",
       "    </tr>\n",
       "    <tr>\n",
       "      <th>6</th>\n",
       "      <td>http://indianethicalhacker.blackapplehost.com/...</td>\n",
       "      <td>0</td>\n",
       "      <td>0</td>\n",
       "    </tr>\n",
       "    <tr>\n",
       "      <th>7</th>\n",
       "      <td>http://theresahackforthat.webs.com/shell.php</td>\n",
       "      <td>0</td>\n",
       "      <td>0</td>\n",
       "    </tr>\n",
       "    <tr>\n",
       "      <th>8</th>\n",
       "      <td>http://www.ecofilms.gr/search_gr.asp</td>\n",
       "      <td>0</td>\n",
       "      <td>0</td>\n",
       "    </tr>\n",
       "    <tr>\n",
       "      <th>9</th>\n",
       "      <td>http://mmx1.webs.com/shell.php</td>\n",
       "      <td>0</td>\n",
       "      <td>0</td>\n",
       "    </tr>\n",
       "  </tbody>\n",
       "</table>\n",
       "</div>"
      ],
      "text/plain": [
       "                                                 URL  online  lastChecked\n",
       "0    http://www.filbanken.nu/awstats/awstats/UDP.php       0            0\n",
       "1  http://www.indianethicalhacker.blackapplehost....       0            0\n",
       "2  http://www.indianethicalhacker.blackapplehost....       0            0\n",
       "3  http://www.indianethicalhacker.blackapplehost....       0            0\n",
       "4        http://163.178.170.74/webdav/greenshell.php       0            0\n",
       "5  http://mapi.co.kr/zb41pl7/bbs/data/mapi_bbs/se...       0            0\n",
       "6  http://indianethicalhacker.blackapplehost.com/...       0            0\n",
       "7       http://theresahackforthat.webs.com/shell.php       0            0\n",
       "8               http://www.ecofilms.gr/search_gr.asp       0            0\n",
       "9                     http://mmx1.webs.com/shell.php       0            0"
      ]
     },
     "execution_count": 26,
     "metadata": {},
     "output_type": "execute_result"
    }
   ],
   "source": [
    "tablename='getshells'\n",
    "\n",
    "pd.read_csv(read_inserted_table(dumpfile, tablename),\n",
    "            delimiter=\",\",\n",
    "            error_bad_lines=False).head(10)"
   ]
  },
  {
   "cell_type": "markdown",
   "metadata": {},
   "source": [
    "#### Q1: Is this table different from other previous loaded table? YES\n",
    "#### Q2: Is this table similar to any table in the generic Booter database schema? YES\n",
    "    - This table looks like: 'webshells'\n",
    "    \n",
    "#### Q3: Are there modifications required? \n",
    "    - On the table name: \n",
    "        o getshells => webshells\n",
    "    - On the column type: \n",
    "    - On the column name:\n",
    "        o URL => url\n",
    "        o online => status\n",
    "        o lastChecked => lastchecked\n",
    "    - Add required columns:\n",
    "        o attacktype = \"GET\"\n",
    "    - Split columns:\n",
    "        o "
   ]
  },
  {
   "cell_type": "markdown",
   "metadata": {},
   "source": [
    "### Modifying table: 'getshells'"
   ]
  },
  {
   "cell_type": "code",
   "execution_count": 27,
   "metadata": {
    "collapsed": false
   },
   "outputs": [
    {
     "data": {
      "text/html": [
       "<div>\n",
       "<table border=\"1\" class=\"dataframe\">\n",
       "  <thead>\n",
       "    <tr style=\"text-align: right;\">\n",
       "      <th></th>\n",
       "      <th>url</th>\n",
       "      <th>status</th>\n",
       "      <th>lastchecked</th>\n",
       "      <th>attacktype</th>\n",
       "    </tr>\n",
       "  </thead>\n",
       "  <tbody>\n",
       "    <tr>\n",
       "      <th>0</th>\n",
       "      <td>http://www.filbanken.nu/awstats/awstats/UDP.php</td>\n",
       "      <td>0</td>\n",
       "      <td>0</td>\n",
       "      <td>GET</td>\n",
       "    </tr>\n",
       "    <tr>\n",
       "      <th>1</th>\n",
       "      <td>http://www.indianethicalhacker.blackapplehost....</td>\n",
       "      <td>0</td>\n",
       "      <td>0</td>\n",
       "      <td>GET</td>\n",
       "    </tr>\n",
       "    <tr>\n",
       "      <th>2</th>\n",
       "      <td>http://www.indianethicalhacker.blackapplehost....</td>\n",
       "      <td>0</td>\n",
       "      <td>0</td>\n",
       "      <td>GET</td>\n",
       "    </tr>\n",
       "    <tr>\n",
       "      <th>3</th>\n",
       "      <td>http://www.indianethicalhacker.blackapplehost....</td>\n",
       "      <td>0</td>\n",
       "      <td>0</td>\n",
       "      <td>GET</td>\n",
       "    </tr>\n",
       "    <tr>\n",
       "      <th>4</th>\n",
       "      <td>http://163.178.170.74/webdav/greenshell.php</td>\n",
       "      <td>0</td>\n",
       "      <td>0</td>\n",
       "      <td>GET</td>\n",
       "    </tr>\n",
       "    <tr>\n",
       "      <th>5</th>\n",
       "      <td>http://mapi.co.kr/zb41pl7/bbs/data/mapi_bbs/se...</td>\n",
       "      <td>0</td>\n",
       "      <td>0</td>\n",
       "      <td>GET</td>\n",
       "    </tr>\n",
       "    <tr>\n",
       "      <th>6</th>\n",
       "      <td>http://indianethicalhacker.blackapplehost.com/...</td>\n",
       "      <td>0</td>\n",
       "      <td>0</td>\n",
       "      <td>GET</td>\n",
       "    </tr>\n",
       "    <tr>\n",
       "      <th>7</th>\n",
       "      <td>http://theresahackforthat.webs.com/shell.php</td>\n",
       "      <td>0</td>\n",
       "      <td>0</td>\n",
       "      <td>GET</td>\n",
       "    </tr>\n",
       "    <tr>\n",
       "      <th>8</th>\n",
       "      <td>http://www.ecofilms.gr/search_gr.asp</td>\n",
       "      <td>0</td>\n",
       "      <td>0</td>\n",
       "      <td>GET</td>\n",
       "    </tr>\n",
       "    <tr>\n",
       "      <th>9</th>\n",
       "      <td>http://mmx1.webs.com/shell.php</td>\n",
       "      <td>0</td>\n",
       "      <td>0</td>\n",
       "      <td>GET</td>\n",
       "    </tr>\n",
       "  </tbody>\n",
       "</table>\n",
       "</div>"
      ],
      "text/plain": [
       "                                                 url  status  lastchecked  \\\n",
       "0    http://www.filbanken.nu/awstats/awstats/UDP.php       0            0   \n",
       "1  http://www.indianethicalhacker.blackapplehost....       0            0   \n",
       "2  http://www.indianethicalhacker.blackapplehost....       0            0   \n",
       "3  http://www.indianethicalhacker.blackapplehost....       0            0   \n",
       "4        http://163.178.170.74/webdav/greenshell.php       0            0   \n",
       "5  http://mapi.co.kr/zb41pl7/bbs/data/mapi_bbs/se...       0            0   \n",
       "6  http://indianethicalhacker.blackapplehost.com/...       0            0   \n",
       "7       http://theresahackforthat.webs.com/shell.php       0            0   \n",
       "8               http://www.ecofilms.gr/search_gr.asp       0            0   \n",
       "9                     http://mmx1.webs.com/shell.php       0            0   \n",
       "\n",
       "  attacktype  \n",
       "0        GET  \n",
       "1        GET  \n",
       "2        GET  \n",
       "3        GET  \n",
       "4        GET  \n",
       "5        GET  \n",
       "6        GET  \n",
       "7        GET  \n",
       "8        GET  \n",
       "9        GET  "
      ]
     },
     "execution_count": 27,
     "metadata": {},
     "output_type": "execute_result"
    }
   ],
   "source": [
    "### Loading the column converting columns with predefined functions\n",
    "df_webshells = pd.read_csv(read_inserted_table(dumpfile, tablename),\n",
    "                                delimiter=\",\",\n",
    "                                error_bad_lines=False)\n",
    "\n",
    "###Changing names of columns\n",
    "df_webshells.rename(columns = {'URL': 'url',\n",
    "                               'online': 'status',\n",
    "                               'lastChecked': 'lastchecked'},\n",
    "                         inplace=True)\n",
    "\n",
    "##Creating empty columns (with \"\" [for future string] or np.nan [for future float])\n",
    "df_webshells['attacktype'] = \"GET\"\n",
    "\n",
    "###Showing some lines after adapt the table\n",
    "df_webshells.head(10)"
   ]
  },
  {
   "cell_type": "markdown",
   "metadata": {},
   "source": [
    "## 6.4. Table: 'logs'"
   ]
  },
  {
   "cell_type": "markdown",
   "metadata": {},
   "source": [
    "### How this table looks like without modification?"
   ]
  },
  {
   "cell_type": "code",
   "execution_count": 28,
   "metadata": {
    "collapsed": false
   },
   "outputs": [
    {
     "data": {
      "text/html": [
       "<div>\n",
       "<table border=\"1\" class=\"dataframe\">\n",
       "  <thead>\n",
       "    <tr style=\"text-align: right;\">\n",
       "      <th></th>\n",
       "      <th>username</th>\n",
       "      <th>ip</th>\n",
       "      <th>time</th>\n",
       "      <th>port</th>\n",
       "      <th>date</th>\n",
       "    </tr>\n",
       "  </thead>\n",
       "  <tbody>\n",
       "    <tr>\n",
       "      <th>0</th>\n",
       "      <td>Deceive</td>\n",
       "      <td>174.143.55.236</td>\n",
       "      <td>120</td>\n",
       "      <td>80</td>\n",
       "      <td>09-05-2011 06:57:38 am</td>\n",
       "    </tr>\n",
       "    <tr>\n",
       "      <th>1</th>\n",
       "      <td>Deceive</td>\n",
       "      <td>71.85.210.57</td>\n",
       "      <td>10</td>\n",
       "      <td>80</td>\n",
       "      <td>09-05-2011 06:58:47 am</td>\n",
       "    </tr>\n",
       "    <tr>\n",
       "      <th>2</th>\n",
       "      <td>Deceive</td>\n",
       "      <td>71.85.210.57</td>\n",
       "      <td>30</td>\n",
       "      <td>80</td>\n",
       "      <td>09-05-2011 07:02:59 am</td>\n",
       "    </tr>\n",
       "    <tr>\n",
       "      <th>3</th>\n",
       "      <td>Deceive</td>\n",
       "      <td>71.85.210.57</td>\n",
       "      <td>10</td>\n",
       "      <td>80</td>\n",
       "      <td>09-05-2011 07:05:59 am</td>\n",
       "    </tr>\n",
       "    <tr>\n",
       "      <th>4</th>\n",
       "      <td>Deceive</td>\n",
       "      <td>71.85.210.57</td>\n",
       "      <td>30</td>\n",
       "      <td>80</td>\n",
       "      <td>09-05-2011 07:10:56 am</td>\n",
       "    </tr>\n",
       "    <tr>\n",
       "      <th>5</th>\n",
       "      <td>Deceive</td>\n",
       "      <td>71.85.212.244</td>\n",
       "      <td>30</td>\n",
       "      <td>80</td>\n",
       "      <td>09-06-2011 12:55:50 am</td>\n",
       "    </tr>\n",
       "    <tr>\n",
       "      <th>6</th>\n",
       "      <td>MrdoPii</td>\n",
       "      <td>184.27.173.69</td>\n",
       "      <td>30</td>\n",
       "      <td>80</td>\n",
       "      <td>09-06-2011 01:08:06 am</td>\n",
       "    </tr>\n",
       "    <tr>\n",
       "      <th>7</th>\n",
       "      <td>MrdoPii</td>\n",
       "      <td>70.95.48.252</td>\n",
       "      <td>30</td>\n",
       "      <td>80</td>\n",
       "      <td>09-06-2011 01:17:43 am</td>\n",
       "    </tr>\n",
       "    <tr>\n",
       "      <th>8</th>\n",
       "      <td>MrdoPii</td>\n",
       "      <td>68.231.155.71</td>\n",
       "      <td>30</td>\n",
       "      <td>80</td>\n",
       "      <td>09-06-2011 01:22:05 am</td>\n",
       "    </tr>\n",
       "    <tr>\n",
       "      <th>9</th>\n",
       "      <td>MrdoPii</td>\n",
       "      <td>96.2.25.88</td>\n",
       "      <td>30</td>\n",
       "      <td>80</td>\n",
       "      <td>09-06-2011 01:24:32 am</td>\n",
       "    </tr>\n",
       "  </tbody>\n",
       "</table>\n",
       "</div>"
      ],
      "text/plain": [
       "  username              ip  time  port                    date\n",
       "0  Deceive  174.143.55.236   120    80  09-05-2011 06:57:38 am\n",
       "1  Deceive    71.85.210.57    10    80  09-05-2011 06:58:47 am\n",
       "2  Deceive    71.85.210.57    30    80  09-05-2011 07:02:59 am\n",
       "3  Deceive    71.85.210.57    10    80  09-05-2011 07:05:59 am\n",
       "4  Deceive    71.85.210.57    30    80  09-05-2011 07:10:56 am\n",
       "5  Deceive   71.85.212.244    30    80  09-06-2011 12:55:50 am\n",
       "6  MrdoPii   184.27.173.69    30    80  09-06-2011 01:08:06 am\n",
       "7  MrdoPii    70.95.48.252    30    80  09-06-2011 01:17:43 am\n",
       "8  MrdoPii   68.231.155.71    30    80  09-06-2011 01:22:05 am\n",
       "9  MrdoPii      96.2.25.88    30    80  09-06-2011 01:24:32 am"
      ]
     },
     "execution_count": 28,
     "metadata": {},
     "output_type": "execute_result"
    }
   ],
   "source": [
    "tablename='logs'\n",
    "\n",
    "pd.read_csv(read_inserted_table(dumpfile, tablename),\n",
    "            delimiter=\",\",\n",
    "            error_bad_lines=False).head(10)"
   ]
  },
  {
   "cell_type": "markdown",
   "metadata": {},
   "source": [
    "#### Q1: Is this table different from other previous loaded table? YES\n",
    "#### Q2: Is this table similar to any table in the generic Booter database schema? YES\n",
    "    - This table looks like: attacks\n",
    "#### Q3: Are there modifications required? \n",
    "    - On the table name: \n",
    "        o logs => attacks\n",
    "    - On the column type: \n",
    "        o date => datetimemdyampm2datetime()  \n",
    "    - On the column name:\n",
    "        o ip => targetip\n",
    "        o time => duration\n",
    "    - Add required columns:\n",
    "        o id\n",
    "        o userid\n",
    "        o targeturl\n",
    "    - Split columns:\n",
    "        o "
   ]
  },
  {
   "cell_type": "markdown",
   "metadata": {},
   "source": [
    "### Modifying table: 'logs'"
   ]
  },
  {
   "cell_type": "code",
   "execution_count": 29,
   "metadata": {
    "collapsed": false
   },
   "outputs": [
    {
     "data": {
      "text/html": [
       "<div>\n",
       "<table border=\"1\" class=\"dataframe\">\n",
       "  <thead>\n",
       "    <tr style=\"text-align: right;\">\n",
       "      <th></th>\n",
       "      <th>username</th>\n",
       "      <th>targetip</th>\n",
       "      <th>duration</th>\n",
       "      <th>port</th>\n",
       "      <th>date</th>\n",
       "      <th>id</th>\n",
       "      <th>userid</th>\n",
       "      <th>targeturl</th>\n",
       "    </tr>\n",
       "  </thead>\n",
       "  <tbody>\n",
       "    <tr>\n",
       "      <th>0</th>\n",
       "      <td>Deceive</td>\n",
       "      <td>174.143.55.236</td>\n",
       "      <td>120</td>\n",
       "      <td>80</td>\n",
       "      <td>2011-09-05 06:57:38</td>\n",
       "      <td>NaN</td>\n",
       "      <td>NaN</td>\n",
       "      <td></td>\n",
       "    </tr>\n",
       "    <tr>\n",
       "      <th>1</th>\n",
       "      <td>Deceive</td>\n",
       "      <td>71.85.210.57</td>\n",
       "      <td>10</td>\n",
       "      <td>80</td>\n",
       "      <td>2011-09-05 06:58:47</td>\n",
       "      <td>NaN</td>\n",
       "      <td>NaN</td>\n",
       "      <td></td>\n",
       "    </tr>\n",
       "    <tr>\n",
       "      <th>2</th>\n",
       "      <td>Deceive</td>\n",
       "      <td>71.85.210.57</td>\n",
       "      <td>30</td>\n",
       "      <td>80</td>\n",
       "      <td>2011-09-05 07:02:59</td>\n",
       "      <td>NaN</td>\n",
       "      <td>NaN</td>\n",
       "      <td></td>\n",
       "    </tr>\n",
       "    <tr>\n",
       "      <th>3</th>\n",
       "      <td>Deceive</td>\n",
       "      <td>71.85.210.57</td>\n",
       "      <td>10</td>\n",
       "      <td>80</td>\n",
       "      <td>2011-09-05 07:05:59</td>\n",
       "      <td>NaN</td>\n",
       "      <td>NaN</td>\n",
       "      <td></td>\n",
       "    </tr>\n",
       "    <tr>\n",
       "      <th>4</th>\n",
       "      <td>Deceive</td>\n",
       "      <td>71.85.210.57</td>\n",
       "      <td>30</td>\n",
       "      <td>80</td>\n",
       "      <td>2011-09-05 07:10:56</td>\n",
       "      <td>NaN</td>\n",
       "      <td>NaN</td>\n",
       "      <td></td>\n",
       "    </tr>\n",
       "    <tr>\n",
       "      <th>5</th>\n",
       "      <td>Deceive</td>\n",
       "      <td>71.85.212.244</td>\n",
       "      <td>30</td>\n",
       "      <td>80</td>\n",
       "      <td>2011-09-06 00:55:50</td>\n",
       "      <td>NaN</td>\n",
       "      <td>NaN</td>\n",
       "      <td></td>\n",
       "    </tr>\n",
       "    <tr>\n",
       "      <th>6</th>\n",
       "      <td>MrdoPii</td>\n",
       "      <td>184.27.173.69</td>\n",
       "      <td>30</td>\n",
       "      <td>80</td>\n",
       "      <td>2011-09-06 01:08:06</td>\n",
       "      <td>NaN</td>\n",
       "      <td>NaN</td>\n",
       "      <td></td>\n",
       "    </tr>\n",
       "    <tr>\n",
       "      <th>7</th>\n",
       "      <td>MrdoPii</td>\n",
       "      <td>70.95.48.252</td>\n",
       "      <td>30</td>\n",
       "      <td>80</td>\n",
       "      <td>2011-09-06 01:17:43</td>\n",
       "      <td>NaN</td>\n",
       "      <td>NaN</td>\n",
       "      <td></td>\n",
       "    </tr>\n",
       "    <tr>\n",
       "      <th>8</th>\n",
       "      <td>MrdoPii</td>\n",
       "      <td>68.231.155.71</td>\n",
       "      <td>30</td>\n",
       "      <td>80</td>\n",
       "      <td>2011-09-06 01:22:05</td>\n",
       "      <td>NaN</td>\n",
       "      <td>NaN</td>\n",
       "      <td></td>\n",
       "    </tr>\n",
       "    <tr>\n",
       "      <th>9</th>\n",
       "      <td>MrdoPii</td>\n",
       "      <td>96.2.25.88</td>\n",
       "      <td>30</td>\n",
       "      <td>80</td>\n",
       "      <td>2011-09-06 01:24:32</td>\n",
       "      <td>NaN</td>\n",
       "      <td>NaN</td>\n",
       "      <td></td>\n",
       "    </tr>\n",
       "  </tbody>\n",
       "</table>\n",
       "</div>"
      ],
      "text/plain": [
       "  username        targetip  duration  port                date  id  userid  \\\n",
       "0  Deceive  174.143.55.236       120    80 2011-09-05 06:57:38 NaN     NaN   \n",
       "1  Deceive    71.85.210.57        10    80 2011-09-05 06:58:47 NaN     NaN   \n",
       "2  Deceive    71.85.210.57        30    80 2011-09-05 07:02:59 NaN     NaN   \n",
       "3  Deceive    71.85.210.57        10    80 2011-09-05 07:05:59 NaN     NaN   \n",
       "4  Deceive    71.85.210.57        30    80 2011-09-05 07:10:56 NaN     NaN   \n",
       "5  Deceive   71.85.212.244        30    80 2011-09-06 00:55:50 NaN     NaN   \n",
       "6  MrdoPii   184.27.173.69        30    80 2011-09-06 01:08:06 NaN     NaN   \n",
       "7  MrdoPii    70.95.48.252        30    80 2011-09-06 01:17:43 NaN     NaN   \n",
       "8  MrdoPii   68.231.155.71        30    80 2011-09-06 01:22:05 NaN     NaN   \n",
       "9  MrdoPii      96.2.25.88        30    80 2011-09-06 01:24:32 NaN     NaN   \n",
       "\n",
       "  targeturl  \n",
       "0            \n",
       "1            \n",
       "2            \n",
       "3            \n",
       "4            \n",
       "5            \n",
       "6            \n",
       "7            \n",
       "8            \n",
       "9            "
      ]
     },
     "execution_count": 29,
     "metadata": {},
     "output_type": "execute_result"
    }
   ],
   "source": [
    "### Loading the column converting columns with predefined functions\n",
    "df_attacks = pd.read_csv(read_inserted_table(dumpfile, tablename),\n",
    "                                delimiter=\",\",\n",
    "                                error_bad_lines=False,\n",
    "                       converters = {'date':datetimemdyampm2datetime})\n",
    "\n",
    "###Changing names of columns\n",
    "df_attacks.rename(columns = {'ip': 'targetip',\n",
    "                                    'time': 'duration'},\n",
    "                         inplace=True)\n",
    "\n",
    "###Creating empty columns (with \"\" [for future string] or np.nan [for future float])\n",
    "df_attacks['id'] = np.nan\n",
    "df_attacks['userid'] = np.nan\n",
    "df_attacks['targeturl'] = \"\"\n",
    "\n",
    "###Showing some lines after adapt the table\n",
    "df_attacks.head(10)"
   ]
  },
  {
   "cell_type": "markdown",
   "metadata": {},
   "source": [
    "## 6.5 Table: 'memberships'"
   ]
  },
  {
   "cell_type": "markdown",
   "metadata": {},
   "source": [
    "### How this table looks like without modification?"
   ]
  },
  {
   "cell_type": "code",
   "execution_count": 30,
   "metadata": {
    "collapsed": false
   },
   "outputs": [
    {
     "data": {
      "text/html": [
       "<div>\n",
       "<table border=\"1\" class=\"dataframe\">\n",
       "  <thead>\n",
       "    <tr style=\"text-align: right;\">\n",
       "      <th></th>\n",
       "      <th>id</th>\n",
       "      <th>title</th>\n",
       "      <th>description</th>\n",
       "      <th>price</th>\n",
       "      <th>days</th>\n",
       "      <th>period</th>\n",
       "      <th>trial</th>\n",
       "      <th>recurring</th>\n",
       "      <th>private</th>\n",
       "      <th>active</th>\n",
       "    </tr>\n",
       "  </thead>\n",
       "  <tbody>\n",
       "    <tr>\n",
       "      <th>0</th>\n",
       "      <td>11</td>\n",
       "      <td>1 Day</td>\n",
       "      <td>NaN</td>\n",
       "      <td>1.0</td>\n",
       "      <td>1</td>\n",
       "      <td>D</td>\n",
       "      <td>0</td>\n",
       "      <td>1</td>\n",
       "      <td>0</td>\n",
       "      <td>1</td>\n",
       "    </tr>\n",
       "    <tr>\n",
       "      <th>1</th>\n",
       "      <td>12</td>\n",
       "      <td>Lifetime</td>\n",
       "      <td>NaN</td>\n",
       "      <td>20.0</td>\n",
       "      <td>2</td>\n",
       "      <td>Y</td>\n",
       "      <td>0</td>\n",
       "      <td>1</td>\n",
       "      <td>0</td>\n",
       "      <td>1</td>\n",
       "    </tr>\n",
       "    <tr>\n",
       "      <th>2</th>\n",
       "      <td>13</td>\n",
       "      <td>1 Month</td>\n",
       "      <td>NaN</td>\n",
       "      <td>9.0</td>\n",
       "      <td>1</td>\n",
       "      <td>M</td>\n",
       "      <td>0</td>\n",
       "      <td>1</td>\n",
       "      <td>0</td>\n",
       "      <td>1</td>\n",
       "    </tr>\n",
       "    <tr>\n",
       "      <th>3</th>\n",
       "      <td>14</td>\n",
       "      <td>3 Month</td>\n",
       "      <td>NaN</td>\n",
       "      <td>13.0</td>\n",
       "      <td>3</td>\n",
       "      <td>M</td>\n",
       "      <td>0</td>\n",
       "      <td>1</td>\n",
       "      <td>0</td>\n",
       "      <td>1</td>\n",
       "    </tr>\n",
       "  </tbody>\n",
       "</table>\n",
       "</div>"
      ],
      "text/plain": [
       "   id     title  description  price  days period  trial  recurring  private  \\\n",
       "0  11     1 Day          NaN    1.0     1      D      0          1        0   \n",
       "1  12  Lifetime          NaN   20.0     2      Y      0          1        0   \n",
       "2  13   1 Month          NaN    9.0     1      M      0          1        0   \n",
       "3  14   3 Month          NaN   13.0     3      M      0          1        0   \n",
       "\n",
       "   active  \n",
       "0       1  \n",
       "1       1  \n",
       "2       1  \n",
       "3       1  "
      ]
     },
     "execution_count": 30,
     "metadata": {},
     "output_type": "execute_result"
    }
   ],
   "source": [
    "tablename='memberships'\n",
    "\n",
    "pd.read_csv(read_inserted_table(dumpfile, tablename),\n",
    "            delimiter=\",\",\n",
    "            error_bad_lines=False).head(10)"
   ]
  },
  {
   "cell_type": "markdown",
   "metadata": {},
   "source": [
    "#### Q1: Is this table different from other previous loaded table? YES\n",
    "#### Q2: Is this table similar to any table in the generic Booter database schema? YES\n",
    "    - This table looks like: plans\n",
    "    \n",
    "#### Q3: Are there modifications required? \n",
    "    - On the table name: \n",
    "        o memberships => plans\n",
    "    - On the column type: \n",
    "    - On the column name:\n",
    "        o id => planid\n",
    "        o title => planname \n",
    "        o description => plandescr\n",
    "        o recurring => concurrecy\n",
    "    - Add required columns:\n",
    "        o maxboottime \n",
    "    - Split columns:\n",
    "        o "
   ]
  },
  {
   "cell_type": "markdown",
   "metadata": {},
   "source": [
    "### Modifying table: 'memberships'"
   ]
  },
  {
   "cell_type": "code",
   "execution_count": 31,
   "metadata": {
    "collapsed": false
   },
   "outputs": [
    {
     "data": {
      "text/html": [
       "<div>\n",
       "<table border=\"1\" class=\"dataframe\">\n",
       "  <thead>\n",
       "    <tr style=\"text-align: right;\">\n",
       "      <th></th>\n",
       "      <th>planid</th>\n",
       "      <th>planname</th>\n",
       "      <th>plandescr</th>\n",
       "      <th>price</th>\n",
       "      <th>days</th>\n",
       "      <th>period</th>\n",
       "      <th>trial</th>\n",
       "      <th>concurrency</th>\n",
       "      <th>private</th>\n",
       "      <th>active</th>\n",
       "      <th>maxboottime</th>\n",
       "    </tr>\n",
       "  </thead>\n",
       "  <tbody>\n",
       "    <tr>\n",
       "      <th>0</th>\n",
       "      <td>11</td>\n",
       "      <td>1 Day</td>\n",
       "      <td>NaN</td>\n",
       "      <td>1.0</td>\n",
       "      <td>1</td>\n",
       "      <td>D</td>\n",
       "      <td>0</td>\n",
       "      <td>1</td>\n",
       "      <td>0</td>\n",
       "      <td>1</td>\n",
       "      <td>NaN</td>\n",
       "    </tr>\n",
       "    <tr>\n",
       "      <th>1</th>\n",
       "      <td>12</td>\n",
       "      <td>Lifetime</td>\n",
       "      <td>NaN</td>\n",
       "      <td>20.0</td>\n",
       "      <td>2</td>\n",
       "      <td>Y</td>\n",
       "      <td>0</td>\n",
       "      <td>1</td>\n",
       "      <td>0</td>\n",
       "      <td>1</td>\n",
       "      <td>NaN</td>\n",
       "    </tr>\n",
       "    <tr>\n",
       "      <th>2</th>\n",
       "      <td>13</td>\n",
       "      <td>1 Month</td>\n",
       "      <td>NaN</td>\n",
       "      <td>9.0</td>\n",
       "      <td>1</td>\n",
       "      <td>M</td>\n",
       "      <td>0</td>\n",
       "      <td>1</td>\n",
       "      <td>0</td>\n",
       "      <td>1</td>\n",
       "      <td>NaN</td>\n",
       "    </tr>\n",
       "    <tr>\n",
       "      <th>3</th>\n",
       "      <td>14</td>\n",
       "      <td>3 Month</td>\n",
       "      <td>NaN</td>\n",
       "      <td>13.0</td>\n",
       "      <td>3</td>\n",
       "      <td>M</td>\n",
       "      <td>0</td>\n",
       "      <td>1</td>\n",
       "      <td>0</td>\n",
       "      <td>1</td>\n",
       "      <td>NaN</td>\n",
       "    </tr>\n",
       "  </tbody>\n",
       "</table>\n",
       "</div>"
      ],
      "text/plain": [
       "   planid  planname  plandescr  price  days period  trial  concurrency  \\\n",
       "0      11     1 Day        NaN    1.0     1      D      0            1   \n",
       "1      12  Lifetime        NaN   20.0     2      Y      0            1   \n",
       "2      13   1 Month        NaN    9.0     1      M      0            1   \n",
       "3      14   3 Month        NaN   13.0     3      M      0            1   \n",
       "\n",
       "   private  active  maxboottime  \n",
       "0        0       1          NaN  \n",
       "1        0       1          NaN  \n",
       "2        0       1          NaN  \n",
       "3        0       1          NaN  "
      ]
     },
     "execution_count": 31,
     "metadata": {},
     "output_type": "execute_result"
    }
   ],
   "source": [
    "### Loading the column converting columns with predefined functions\n",
    "df_plans = pd.read_csv(read_inserted_table(dumpfile, tablename),\n",
    "                                delimiter=\",\",\n",
    "                                error_bad_lines=False)\n",
    "\n",
    "###Changing names of columns\n",
    "df_plans.rename(columns = {'id': 'planid',\n",
    "                                    'title': 'planname',\n",
    "                           'description':'plandescr',\n",
    "                          'recurring':'concurrency'},\n",
    "                         inplace=True)\n",
    "\n",
    "###Creating empty columns (with \"\" [for future string] or np.nan [for future float])\n",
    "df_plans['maxboottime'] = np.nan\n",
    "\n",
    "###Showing some lines after adapt the table\n",
    "df_plans.head(10)"
   ]
  },
  {
   "cell_type": "markdown",
   "metadata": {},
   "source": [
    "## 6.6. Table: 'news'"
   ]
  },
  {
   "cell_type": "markdown",
   "metadata": {},
   "source": [
    "### How this table looks like without modification?"
   ]
  },
  {
   "cell_type": "code",
   "execution_count": 32,
   "metadata": {
    "collapsed": false
   },
   "outputs": [
    {
     "data": {
      "text/html": [
       "<div>\n",
       "<table border=\"1\" class=\"dataframe\">\n",
       "  <thead>\n",
       "    <tr style=\"text-align: right;\">\n",
       "      <th></th>\n",
       "      <th>id</th>\n",
       "      <th>title</th>\n",
       "      <th>body</th>\n",
       "      <th>author</th>\n",
       "      <th>created</th>\n",
       "      <th>active</th>\n",
       "    </tr>\n",
       "  </thead>\n",
       "  <tbody>\n",
       "    <tr>\n",
       "      <th>0</th>\n",
       "      <td>1</td>\n",
       "      <td>Welcome to our Client Area!</td>\n",
       "      <td>&lt;p&gt;We are pleased to announce the new release ...</td>\n",
       "      <td>Yahh Daddy Panda</td>\n",
       "      <td>0000-00-00</td>\n",
       "      <td>0.0</td>\n",
       "    </tr>\n",
       "    <tr>\n",
       "      <th>1</th>\n",
       "      <td>2 Please Vouch / Donate I am currently getting...</td>\n",
       "      <td>and with that being said I will not be able to...</td>\n",
       "      <td>Panda</td>\n",
       "      <td>2012-05-18</td>\n",
       "      <td>1</td>\n",
       "      <td>NaN</td>\n",
       "    </tr>\n",
       "  </tbody>\n",
       "</table>\n",
       "</div>"
      ],
      "text/plain": [
       "                                                  id  \\\n",
       "0                                                  1   \n",
       "1  2 Please Vouch / Donate I am currently getting...   \n",
       "\n",
       "                                               title  \\\n",
       "0                        Welcome to our Client Area!   \n",
       "1  and with that being said I will not be able to...   \n",
       "\n",
       "                                                body            author  \\\n",
       "0  <p>We are pleased to announce the new release ...  Yahh Daddy Panda   \n",
       "1                                              Panda        2012-05-18   \n",
       "\n",
       "      created  active  \n",
       "0  0000-00-00     0.0  \n",
       "1           1     NaN  "
      ]
     },
     "execution_count": 32,
     "metadata": {},
     "output_type": "execute_result"
    }
   ],
   "source": [
    "tablename='news'\n",
    "\n",
    "pd.read_csv(read_inserted_table(dumpfile, tablename),\n",
    "            delimiter=\",\",\n",
    "            error_bad_lines=False).head(10)"
   ]
  },
  {
   "cell_type": "markdown",
   "metadata": {},
   "source": [
    "#### Q1: Is this table different from other previous loaded table? YES\n",
    "#### Q2: Is this table similar to any table in the generic Booter database schema? NO\n",
    "#### Q3: Are there modifications required? \n",
    "    - On the table name: \n",
    "        o \n",
    "    - On the column type: \n",
    "        o    \n",
    "    - On the column name:\n",
    "        o  \n",
    "    - Add required columns:\n",
    "        o \n",
    "    - Split columns:\n",
    "        o "
   ]
  },
  {
   "cell_type": "markdown",
   "metadata": {},
   "source": [
    "## 6.7. Table: 'postshells'"
   ]
  },
  {
   "cell_type": "markdown",
   "metadata": {},
   "source": [
    "### How this table looks like without modification?"
   ]
  },
  {
   "cell_type": "code",
   "execution_count": 33,
   "metadata": {
    "collapsed": false
   },
   "outputs": [
    {
     "data": {
      "text/html": [
       "<div>\n",
       "<table border=\"1\" class=\"dataframe\">\n",
       "  <thead>\n",
       "    <tr style=\"text-align: right;\">\n",
       "      <th></th>\n",
       "      <th>URL</th>\n",
       "      <th>online</th>\n",
       "      <th>lastChecked</th>\n",
       "    </tr>\n",
       "  </thead>\n",
       "  <tbody>\n",
       "    <tr>\n",
       "      <th>0</th>\n",
       "      <td>http://feeds2.feedburner.com/alivingtruth/DRwH</td>\n",
       "      <td>0</td>\n",
       "      <td>0</td>\n",
       "    </tr>\n",
       "    <tr>\n",
       "      <th>1</th>\n",
       "      <td>http://d-dos.50webs.com/ddos.php</td>\n",
       "      <td>0</td>\n",
       "      <td>0</td>\n",
       "    </tr>\n",
       "    <tr>\n",
       "      <th>2</th>\n",
       "      <td>http://belakshell.50webs.com/index.php</td>\n",
       "      <td>0</td>\n",
       "      <td>0</td>\n",
       "    </tr>\n",
       "    <tr>\n",
       "      <th>3</th>\n",
       "      <td>http://reksa.indonesianhacker.com/php_dos/</td>\n",
       "      <td>0</td>\n",
       "      <td>0</td>\n",
       "    </tr>\n",
       "    <tr>\n",
       "      <th>4</th>\n",
       "      <td>http://yogeshmehra1987.110mb.com/index.php</td>\n",
       "      <td>0</td>\n",
       "      <td>0</td>\n",
       "    </tr>\n",
       "    <tr>\n",
       "      <th>5</th>\n",
       "      <td>http://kala13.110mb.com/dos/</td>\n",
       "      <td>0</td>\n",
       "      <td>0</td>\n",
       "    </tr>\n",
       "    <tr>\n",
       "      <th>6</th>\n",
       "      <td>http://urmybest.110mb.com/phpdos.php</td>\n",
       "      <td>0</td>\n",
       "      <td>0</td>\n",
       "    </tr>\n",
       "    <tr>\n",
       "      <th>7</th>\n",
       "      <td>http://urmybest.110mb.com/phpdos.php</td>\n",
       "      <td>0</td>\n",
       "      <td>0</td>\n",
       "    </tr>\n",
       "    <tr>\n",
       "      <th>8</th>\n",
       "      <td>http://yogeshmehra1987.110mb.com/index.php</td>\n",
       "      <td>0</td>\n",
       "      <td>0</td>\n",
       "    </tr>\n",
       "    <tr>\n",
       "      <th>9</th>\n",
       "      <td>http://firman-mannte.blogspot.com/2011_04_01_a...</td>\n",
       "      <td>0</td>\n",
       "      <td>0</td>\n",
       "    </tr>\n",
       "  </tbody>\n",
       "</table>\n",
       "</div>"
      ],
      "text/plain": [
       "                                                 URL  online  lastChecked\n",
       "0     http://feeds2.feedburner.com/alivingtruth/DRwH       0            0\n",
       "1                   http://d-dos.50webs.com/ddos.php       0            0\n",
       "2             http://belakshell.50webs.com/index.php       0            0\n",
       "3         http://reksa.indonesianhacker.com/php_dos/       0            0\n",
       "4         http://yogeshmehra1987.110mb.com/index.php       0            0\n",
       "5                       http://kala13.110mb.com/dos/       0            0\n",
       "6               http://urmybest.110mb.com/phpdos.php       0            0\n",
       "7              http://urmybest.110mb.com/phpdos.php        0            0\n",
       "8        http://yogeshmehra1987.110mb.com/index.php        0            0\n",
       "9  http://firman-mannte.blogspot.com/2011_04_01_a...       0            0"
      ]
     },
     "execution_count": 33,
     "metadata": {},
     "output_type": "execute_result"
    }
   ],
   "source": [
    "tablename='postshells'\n",
    "\n",
    "pd.read_csv(read_inserted_table(dumpfile, tablename),\n",
    "            delimiter=\",\",\n",
    "            error_bad_lines=False).head(10)"
   ]
  },
  {
   "cell_type": "markdown",
   "metadata": {},
   "source": [
    "#### Q1: Is this table different from other previous loaded table? YES, although very similar APPEND!!!!\n",
    "#### Q2: Is this table similar to any table in the generic Booter database schema? YES\n",
    "    - This table looks like: webshells\n",
    "#### Q3: Are there modifications required? \n",
    "    - On the table name: \n",
    "        o postshells => webshells_temp THEN append with webshell\n",
    "    - On the column type: \n",
    "        o    \n",
    "    - On the column name:\n",
    "        o URL => url\n",
    "        o online => status\n",
    "        o lastChecked => lastchecked \n",
    "    - Add required columns:\n",
    "        o id\n",
    "        o attacktype = 'POST'\n",
    "    - Split columns:\n",
    "        o "
   ]
  },
  {
   "cell_type": "markdown",
   "metadata": {},
   "source": [
    "### Modifying table: 'postshells'"
   ]
  },
  {
   "cell_type": "code",
   "execution_count": 34,
   "metadata": {
    "collapsed": false
   },
   "outputs": [
    {
     "data": {
      "text/html": [
       "<div>\n",
       "<table border=\"1\" class=\"dataframe\">\n",
       "  <thead>\n",
       "    <tr style=\"text-align: right;\">\n",
       "      <th></th>\n",
       "      <th>url</th>\n",
       "      <th>status</th>\n",
       "      <th>lastchecked</th>\n",
       "      <th>attacktype</th>\n",
       "    </tr>\n",
       "  </thead>\n",
       "  <tbody>\n",
       "    <tr>\n",
       "      <th>0</th>\n",
       "      <td>http://feeds2.feedburner.com/alivingtruth/DRwH</td>\n",
       "      <td>0</td>\n",
       "      <td>0</td>\n",
       "      <td>POST</td>\n",
       "    </tr>\n",
       "    <tr>\n",
       "      <th>1</th>\n",
       "      <td>http://d-dos.50webs.com/ddos.php</td>\n",
       "      <td>0</td>\n",
       "      <td>0</td>\n",
       "      <td>POST</td>\n",
       "    </tr>\n",
       "    <tr>\n",
       "      <th>2</th>\n",
       "      <td>http://belakshell.50webs.com/index.php</td>\n",
       "      <td>0</td>\n",
       "      <td>0</td>\n",
       "      <td>POST</td>\n",
       "    </tr>\n",
       "    <tr>\n",
       "      <th>3</th>\n",
       "      <td>http://reksa.indonesianhacker.com/php_dos/</td>\n",
       "      <td>0</td>\n",
       "      <td>0</td>\n",
       "      <td>POST</td>\n",
       "    </tr>\n",
       "    <tr>\n",
       "      <th>4</th>\n",
       "      <td>http://yogeshmehra1987.110mb.com/index.php</td>\n",
       "      <td>0</td>\n",
       "      <td>0</td>\n",
       "      <td>POST</td>\n",
       "    </tr>\n",
       "    <tr>\n",
       "      <th>5</th>\n",
       "      <td>http://kala13.110mb.com/dos/</td>\n",
       "      <td>0</td>\n",
       "      <td>0</td>\n",
       "      <td>POST</td>\n",
       "    </tr>\n",
       "    <tr>\n",
       "      <th>6</th>\n",
       "      <td>http://urmybest.110mb.com/phpdos.php</td>\n",
       "      <td>0</td>\n",
       "      <td>0</td>\n",
       "      <td>POST</td>\n",
       "    </tr>\n",
       "    <tr>\n",
       "      <th>7</th>\n",
       "      <td>http://urmybest.110mb.com/phpdos.php</td>\n",
       "      <td>0</td>\n",
       "      <td>0</td>\n",
       "      <td>POST</td>\n",
       "    </tr>\n",
       "    <tr>\n",
       "      <th>8</th>\n",
       "      <td>http://yogeshmehra1987.110mb.com/index.php</td>\n",
       "      <td>0</td>\n",
       "      <td>0</td>\n",
       "      <td>POST</td>\n",
       "    </tr>\n",
       "    <tr>\n",
       "      <th>9</th>\n",
       "      <td>http://firman-mannte.blogspot.com/2011_04_01_a...</td>\n",
       "      <td>0</td>\n",
       "      <td>0</td>\n",
       "      <td>POST</td>\n",
       "    </tr>\n",
       "  </tbody>\n",
       "</table>\n",
       "</div>"
      ],
      "text/plain": [
       "                                                 url  status  lastchecked  \\\n",
       "0     http://feeds2.feedburner.com/alivingtruth/DRwH       0            0   \n",
       "1                   http://d-dos.50webs.com/ddos.php       0            0   \n",
       "2             http://belakshell.50webs.com/index.php       0            0   \n",
       "3         http://reksa.indonesianhacker.com/php_dos/       0            0   \n",
       "4         http://yogeshmehra1987.110mb.com/index.php       0            0   \n",
       "5                       http://kala13.110mb.com/dos/       0            0   \n",
       "6               http://urmybest.110mb.com/phpdos.php       0            0   \n",
       "7              http://urmybest.110mb.com/phpdos.php        0            0   \n",
       "8        http://yogeshmehra1987.110mb.com/index.php        0            0   \n",
       "9  http://firman-mannte.blogspot.com/2011_04_01_a...       0            0   \n",
       "\n",
       "  attacktype  \n",
       "0       POST  \n",
       "1       POST  \n",
       "2       POST  \n",
       "3       POST  \n",
       "4       POST  \n",
       "5       POST  \n",
       "6       POST  \n",
       "7       POST  \n",
       "8       POST  \n",
       "9       POST  "
      ]
     },
     "execution_count": 34,
     "metadata": {},
     "output_type": "execute_result"
    }
   ],
   "source": [
    "### Loading the column converting columns with predefined functions\n",
    "df_webshells_temp = pd.read_csv(read_inserted_table(dumpfile, tablename),\n",
    "                                delimiter=\",\",\n",
    "                                error_bad_lines=False)\n",
    "\n",
    "###Changing names of columns\n",
    "df_webshells_temp.rename(columns = {'URL': 'url',\n",
    "                               'online': 'status',\n",
    "                               'lastChecked': 'lastchecked'},\n",
    "                         inplace=True)\n",
    "\n",
    "##Creating empty columns (with \"\" [for future string] or np.nan [for future float])\n",
    "df_webshells_temp['attacktype'] = \"POST\"\n",
    "\n",
    "###Showing some lines after adapt the table\n",
    "df_webshells_temp.head(10)"
   ]
  },
  {
   "cell_type": "code",
   "execution_count": 35,
   "metadata": {
    "collapsed": false
   },
   "outputs": [],
   "source": [
    "df_webshells = df_webshells.append(df_webshells_temp)"
   ]
  },
  {
   "cell_type": "markdown",
   "metadata": {},
   "source": [
    "## 6.8. Table: 'settings'"
   ]
  },
  {
   "cell_type": "markdown",
   "metadata": {},
   "source": [
    "### How this table looks like without modification?"
   ]
  },
  {
   "cell_type": "code",
   "execution_count": 36,
   "metadata": {
    "collapsed": false
   },
   "outputs": [
    {
     "data": {
      "text/html": [
       "<div>\n",
       "<table border=\"1\" class=\"dataframe\">\n",
       "  <thead>\n",
       "    <tr style=\"text-align: right;\">\n",
       "      <th></th>\n",
       "      <th>site_name</th>\n",
       "      <th>site_email</th>\n",
       "      <th>site_url</th>\n",
       "      <th>reg_allowed</th>\n",
       "      <th>user_limit</th>\n",
       "      <th>reg_verify</th>\n",
       "      <th>notify_admin</th>\n",
       "      <th>auto_verify</th>\n",
       "      <th>user_perpage</th>\n",
       "      <th>thumb_w</th>\n",
       "      <th>thumb_h</th>\n",
       "      <th>backup</th>\n",
       "      <th>currency</th>\n",
       "      <th>cur_symbol</th>\n",
       "      <th>mailer</th>\n",
       "      <th>smtp_host</th>\n",
       "      <th>smtp_user</th>\n",
       "      <th>smtp_pass</th>\n",
       "      <th>smtp_port</th>\n",
       "      <th>version</th>\n",
       "    </tr>\n",
       "  </thead>\n",
       "  <tbody>\n",
       "    <tr>\n",
       "      <th>0</th>\n",
       "      <td>Panda Booter | Webbased Edition</td>\n",
       "      <td>PandaHaxor@Gmail.com</td>\n",
       "      <td>http://46.166.148.212/~pandabo1/</td>\n",
       "      <td>1</td>\n",
       "      <td>30</td>\n",
       "      <td>0</td>\n",
       "      <td>1</td>\n",
       "      <td>1</td>\n",
       "      <td>10</td>\n",
       "      <td>100</td>\n",
       "      <td>100</td>\n",
       "      <td>NaN</td>\n",
       "      <td>USD</td>\n",
       "      <td>$</td>\n",
       "      <td>PHP</td>\n",
       "      <td>NaN</td>\n",
       "      <td>NaN</td>\n",
       "      <td>NaN</td>\n",
       "      <td>0</td>\n",
       "      <td>2.0</td>\n",
       "    </tr>\n",
       "  </tbody>\n",
       "</table>\n",
       "</div>"
      ],
      "text/plain": [
       "                         site_name            site_email  \\\n",
       "0  Panda Booter | Webbased Edition  PandaHaxor@Gmail.com   \n",
       "\n",
       "                           site_url  reg_allowed  user_limit  reg_verify  \\\n",
       "0  http://46.166.148.212/~pandabo1/            1          30           0   \n",
       "\n",
       "   notify_admin  auto_verify  user_perpage  thumb_w  thumb_h  backup currency  \\\n",
       "0             1            1            10      100      100     NaN      USD   \n",
       "\n",
       "  cur_symbol mailer  smtp_host  smtp_user  smtp_pass  smtp_port  version  \n",
       "0          $    PHP        NaN        NaN        NaN          0      2.0  "
      ]
     },
     "execution_count": 36,
     "metadata": {},
     "output_type": "execute_result"
    }
   ],
   "source": [
    "tablename='settings'\n",
    "\n",
    "pd.read_csv(read_inserted_table(dumpfile, tablename),\n",
    "            delimiter=\",\",\n",
    "            error_bad_lines=False).head(10)"
   ]
  },
  {
   "cell_type": "markdown",
   "metadata": {},
   "source": [
    "#### Q1: Is this table different from other previous loaded table? YES\n",
    "#### Q2: Is this table similar to any table in the generic Booter database schema? YES\n",
    "    - This table looks like: settings\n",
    "#### Q3: Are there modifications required? \n",
    "    - On the table name: \n",
    "        o \n",
    "    - On the column type: \n",
    "        o    \n",
    "    - On the column name:\n",
    "        o site_url => url \n",
    "        o site_name =>sitename\n",
    "        o site_email => siteemail\n",
    "    - Add required columns:\n",
    "        o \n",
    "    - Split columns:\n",
    "        o "
   ]
  },
  {
   "cell_type": "markdown",
   "metadata": {},
   "source": [
    "### Modifying table: 'settings'"
   ]
  },
  {
   "cell_type": "code",
   "execution_count": 37,
   "metadata": {
    "collapsed": false
   },
   "outputs": [
    {
     "data": {
      "text/html": [
       "<div>\n",
       "<table border=\"1\" class=\"dataframe\">\n",
       "  <thead>\n",
       "    <tr style=\"text-align: right;\">\n",
       "      <th></th>\n",
       "      <th>sitename</th>\n",
       "      <th>siteemail</th>\n",
       "      <th>url</th>\n",
       "      <th>reg_allowed</th>\n",
       "      <th>user_limit</th>\n",
       "      <th>reg_verify</th>\n",
       "      <th>notify_admin</th>\n",
       "      <th>auto_verify</th>\n",
       "      <th>user_perpage</th>\n",
       "      <th>thumb_w</th>\n",
       "      <th>thumb_h</th>\n",
       "      <th>backup</th>\n",
       "      <th>currency</th>\n",
       "      <th>cur_symbol</th>\n",
       "      <th>mailer</th>\n",
       "      <th>smtp_host</th>\n",
       "      <th>smtp_user</th>\n",
       "      <th>smtp_pass</th>\n",
       "      <th>smtp_port</th>\n",
       "      <th>version</th>\n",
       "    </tr>\n",
       "  </thead>\n",
       "  <tbody>\n",
       "    <tr>\n",
       "      <th>0</th>\n",
       "      <td>Panda Booter | Webbased Edition</td>\n",
       "      <td>PandaHaxor@Gmail.com</td>\n",
       "      <td>http://46.166.148.212/~pandabo1/</td>\n",
       "      <td>1</td>\n",
       "      <td>30</td>\n",
       "      <td>0</td>\n",
       "      <td>1</td>\n",
       "      <td>1</td>\n",
       "      <td>10</td>\n",
       "      <td>100</td>\n",
       "      <td>100</td>\n",
       "      <td>NaN</td>\n",
       "      <td>USD</td>\n",
       "      <td>$</td>\n",
       "      <td>PHP</td>\n",
       "      <td>NaN</td>\n",
       "      <td>NaN</td>\n",
       "      <td>NaN</td>\n",
       "      <td>0</td>\n",
       "      <td>2.0</td>\n",
       "    </tr>\n",
       "  </tbody>\n",
       "</table>\n",
       "</div>"
      ],
      "text/plain": [
       "                          sitename             siteemail  \\\n",
       "0  Panda Booter | Webbased Edition  PandaHaxor@Gmail.com   \n",
       "\n",
       "                                url  reg_allowed  user_limit  reg_verify  \\\n",
       "0  http://46.166.148.212/~pandabo1/            1          30           0   \n",
       "\n",
       "   notify_admin  auto_verify  user_perpage  thumb_w  thumb_h  backup currency  \\\n",
       "0             1            1            10      100      100     NaN      USD   \n",
       "\n",
       "  cur_symbol mailer  smtp_host  smtp_user  smtp_pass  smtp_port  version  \n",
       "0          $    PHP        NaN        NaN        NaN          0      2.0  "
      ]
     },
     "execution_count": 37,
     "metadata": {},
     "output_type": "execute_result"
    }
   ],
   "source": [
    "### Loading the column converting columns with predefined functions\n",
    "df_settings = pd.read_csv(read_inserted_table(dumpfile, tablename),\n",
    "                                delimiter=\",\",\n",
    "                                error_bad_lines=False)\n",
    "\n",
    "###Changing names of columns\n",
    "df_settings.rename(columns = {'site_url': 'url',\n",
    "                              'site_name':'sitename',\n",
    "                              'site_email': 'siteemail'},\n",
    "                         inplace=True)\n",
    "\n",
    "###Showing some lines after adapt the table\n",
    "df_settings.head(10)"
   ]
  },
  {
   "cell_type": "markdown",
   "metadata": {},
   "source": [
    "## 6.9. Table: 'users'"
   ]
  },
  {
   "cell_type": "markdown",
   "metadata": {},
   "source": [
    "### How this table looks like without modification?"
   ]
  },
  {
   "cell_type": "code",
   "execution_count": 38,
   "metadata": {
    "collapsed": false
   },
   "outputs": [
    {
     "data": {
      "text/html": [
       "<div>\n",
       "<table border=\"1\" class=\"dataframe\">\n",
       "  <thead>\n",
       "    <tr style=\"text-align: right;\">\n",
       "      <th></th>\n",
       "      <th>id</th>\n",
       "      <th>username</th>\n",
       "      <th>password</th>\n",
       "      <th>membership_id</th>\n",
       "      <th>mem_expire</th>\n",
       "      <th>trial_used</th>\n",
       "      <th>email</th>\n",
       "      <th>fname</th>\n",
       "      <th>lname</th>\n",
       "      <th>token</th>\n",
       "      <th>newsletter</th>\n",
       "      <th>userlevel</th>\n",
       "      <th>created</th>\n",
       "      <th>lastlogin</th>\n",
       "      <th>lastip</th>\n",
       "      <th>avatar</th>\n",
       "      <th>active</th>\n",
       "      <th>myAttacks</th>\n",
       "    </tr>\n",
       "  </thead>\n",
       "  <tbody>\n",
       "    <tr>\n",
       "      <th>0</th>\n",
       "      <td>15</td>\n",
       "      <td>Assassinator980</td>\n",
       "      <td>d55bcc6b455abc01e8939d970168101a16f11898</td>\n",
       "      <td>12</td>\n",
       "      <td>2014-05-17 11:19:19</td>\n",
       "      <td>0</td>\n",
       "      <td>zingcraft@hotmail.com</td>\n",
       "      <td>Liam</td>\n",
       "      <td>Edwards</td>\n",
       "      <td>e936c4a8e5b6230ed915a46a0009fe5e78ce8693</td>\n",
       "      <td>0</td>\n",
       "      <td>1</td>\n",
       "      <td>2012-05-17 10:47:23</td>\n",
       "      <td>2012-05-20 10:44:11</td>\n",
       "      <td>58.106.28.31</td>\n",
       "      <td>NaN</td>\n",
       "      <td>y</td>\n",
       "      <td>12.0</td>\n",
       "    </tr>\n",
       "    <tr>\n",
       "      <th>1</th>\n",
       "      <td>17</td>\n",
       "      <td>Failedattempt</td>\n",
       "      <td>56c37153fc1d06d3a198a39f82bdf8e17023669f</td>\n",
       "      <td>12</td>\n",
       "      <td>2014-05-17 11:30:54</td>\n",
       "      <td>0</td>\n",
       "      <td>jolliffboy98@hotmail.com</td>\n",
       "      <td>Gary</td>\n",
       "      <td>J</td>\n",
       "      <td>0</td>\n",
       "      <td>0</td>\n",
       "      <td>1</td>\n",
       "      <td>2012-05-17 11:23:31</td>\n",
       "      <td>2012-05-18 12:56:55</td>\n",
       "      <td>184.10.176.32</td>\n",
       "      <td>NaN</td>\n",
       "      <td>y</td>\n",
       "      <td>2.0</td>\n",
       "    </tr>\n",
       "    <tr>\n",
       "      <th>2</th>\n",
       "      <td>20</td>\n",
       "      <td>I nfizr</td>\n",
       "      <td>d361c77d5fc37c45b35f1883d2b2b2127fcd3a25</td>\n",
       "      <td>12</td>\n",
       "      <td>2014-05-17 14:36:56</td>\n",
       "      <td>0</td>\n",
       "      <td>mauricekleijwegt@hotmail.com</td>\n",
       "      <td>maurice</td>\n",
       "      <td>kleijwegt</td>\n",
       "      <td>0</td>\n",
       "      <td>0</td>\n",
       "      <td>1</td>\n",
       "      <td>2012-05-17 14:32:24</td>\n",
       "      <td>2012-05-17 17:27:59</td>\n",
       "      <td>84.84.176.106</td>\n",
       "      <td>IMG_1DD90F-1340AD-B16D6E-2D199F-54CF7B-C84F1F.jpg</td>\n",
       "      <td>y</td>\n",
       "      <td>2.0</td>\n",
       "    </tr>\n",
       "    <tr>\n",
       "      <th>3</th>\n",
       "      <td>12</td>\n",
       "      <td>Cudd</td>\n",
       "      <td>7325e5b55758a26264dd7615be4157363bf46f39</td>\n",
       "      <td>11</td>\n",
       "      <td>2012-05-18 10:33:21</td>\n",
       "      <td>0</td>\n",
       "      <td>allano123@hotmail.dk</td>\n",
       "      <td>Joseph</td>\n",
       "      <td>Mariuana</td>\n",
       "      <td>f479f0b33757950b0c002e44bbee9ce411a6120c</td>\n",
       "      <td>0</td>\n",
       "      <td>1</td>\n",
       "      <td>2012-05-17 10:32:08</td>\n",
       "      <td>2012-05-17 10:36:44</td>\n",
       "      <td>188.177.190.110</td>\n",
       "      <td>NaN</td>\n",
       "      <td>y</td>\n",
       "      <td>1.0</td>\n",
       "    </tr>\n",
       "    <tr>\n",
       "      <th>4</th>\n",
       "      <td>11</td>\n",
       "      <td>Panda</td>\n",
       "      <td>0716b9029d0818cbabd7c69aa55d01c877982b54</td>\n",
       "      <td>12</td>\n",
       "      <td>2014-05-17 10:39:12</td>\n",
       "      <td>0</td>\n",
       "      <td>pandahaxor@gmail.com</td>\n",
       "      <td>Panda</td>\n",
       "      <td>Admin</td>\n",
       "      <td>3d6db250cb14beeae5648bc57b2479751471d660</td>\n",
       "      <td>1</td>\n",
       "      <td>9</td>\n",
       "      <td>2012-05-17 10:03:10</td>\n",
       "      <td>2012-05-20 12:13:53</td>\n",
       "      <td>93.36.195.32</td>\n",
       "      <td>IMG_AF98D6-320F74-69A004-8C09A0-F13C43-CF0B26.png</td>\n",
       "      <td>y</td>\n",
       "      <td>6.0</td>\n",
       "    </tr>\n",
       "    <tr>\n",
       "      <th>5</th>\n",
       "      <td>18</td>\n",
       "      <td>Green</td>\n",
       "      <td>5b0f274aa43672b66d5587baf63cf6d9354956bc</td>\n",
       "      <td>12</td>\n",
       "      <td>2014-05-17 11:30:40</td>\n",
       "      <td>0</td>\n",
       "      <td>Presee@hotmail.co.uk</td>\n",
       "      <td>Mike</td>\n",
       "      <td>Rw</td>\n",
       "      <td>0</td>\n",
       "      <td>0</td>\n",
       "      <td>1</td>\n",
       "      <td>2012-05-17 11:24:55</td>\n",
       "      <td>2012-05-18 22:18:09</td>\n",
       "      <td>86.133.207.153</td>\n",
       "      <td>NaN</td>\n",
       "      <td>y</td>\n",
       "      <td>5.0</td>\n",
       "    </tr>\n",
       "    <tr>\n",
       "      <th>6</th>\n",
       "      <td>19</td>\n",
       "      <td>DutchConquer</td>\n",
       "      <td>da7a3c650e218272c37e387104a571a8b374bb6a</td>\n",
       "      <td>0</td>\n",
       "      <td>0000-00-00 00:00:00</td>\n",
       "      <td>0</td>\n",
       "      <td>dutchconquerhf@hotmail.com</td>\n",
       "      <td>Martin</td>\n",
       "      <td>L</td>\n",
       "      <td>0</td>\n",
       "      <td>0</td>\n",
       "      <td>1</td>\n",
       "      <td>2012-05-17 13:44:15</td>\n",
       "      <td>0000-00-00 00:00:00</td>\n",
       "      <td>0</td>\n",
       "      <td>NaN</td>\n",
       "      <td>y</td>\n",
       "      <td>NaN</td>\n",
       "    </tr>\n",
       "    <tr>\n",
       "      <th>7</th>\n",
       "      <td>21</td>\n",
       "      <td>wisdom</td>\n",
       "      <td>27d769673277ad1659a3342e8c92ca84a95c4166</td>\n",
       "      <td>12</td>\n",
       "      <td>2014-05-17 18:21:38</td>\n",
       "      <td>0</td>\n",
       "      <td>b3t4_01@yahoo.com</td>\n",
       "      <td>budi</td>\n",
       "      <td>santoso</td>\n",
       "      <td>0</td>\n",
       "      <td>0</td>\n",
       "      <td>1</td>\n",
       "      <td>2012-05-17 14:37:43</td>\n",
       "      <td>2012-05-17 14:40:44</td>\n",
       "      <td>110.138.209.45</td>\n",
       "      <td>NaN</td>\n",
       "      <td>y</td>\n",
       "      <td>NaN</td>\n",
       "    </tr>\n",
       "    <tr>\n",
       "      <th>8</th>\n",
       "      <td>22</td>\n",
       "      <td>Booti23</td>\n",
       "      <td>55e663cb3685e142cdafe723776ded5a9d84b140</td>\n",
       "      <td>12</td>\n",
       "      <td>2014-05-17 18:07:51</td>\n",
       "      <td>0</td>\n",
       "      <td>tara.od@hotmail.com</td>\n",
       "      <td>Tara</td>\n",
       "      <td>Power</td>\n",
       "      <td>0</td>\n",
       "      <td>0</td>\n",
       "      <td>1</td>\n",
       "      <td>2012-05-17 15:26:55</td>\n",
       "      <td>2012-05-19 01:02:53</td>\n",
       "      <td>212.7.208.75</td>\n",
       "      <td>NaN</td>\n",
       "      <td>y</td>\n",
       "      <td>8.0</td>\n",
       "    </tr>\n",
       "    <tr>\n",
       "      <th>9</th>\n",
       "      <td>24</td>\n",
       "      <td>MarkFortune</td>\n",
       "      <td>83a4a122db5812134055dcccfbdf31bf5dacfe62</td>\n",
       "      <td>12</td>\n",
       "      <td>2014-05-18 18:27:55</td>\n",
       "      <td>0</td>\n",
       "      <td>Marksfortune4@gmail.com</td>\n",
       "      <td>Mark</td>\n",
       "      <td>Fortune</td>\n",
       "      <td>0</td>\n",
       "      <td>0</td>\n",
       "      <td>9</td>\n",
       "      <td>2012-05-17 18:20:22</td>\n",
       "      <td>2012-05-19 03:34:45</td>\n",
       "      <td>72.91.100.167</td>\n",
       "      <td>NaN</td>\n",
       "      <td>y</td>\n",
       "      <td>3.0</td>\n",
       "    </tr>\n",
       "  </tbody>\n",
       "</table>\n",
       "</div>"
      ],
      "text/plain": [
       "   id         username                                  password  \\\n",
       "0  15  Assassinator980  d55bcc6b455abc01e8939d970168101a16f11898   \n",
       "1  17    Failedattempt  56c37153fc1d06d3a198a39f82bdf8e17023669f   \n",
       "2  20          I nfizr  d361c77d5fc37c45b35f1883d2b2b2127fcd3a25   \n",
       "3  12             Cudd  7325e5b55758a26264dd7615be4157363bf46f39   \n",
       "4  11            Panda  0716b9029d0818cbabd7c69aa55d01c877982b54   \n",
       "5  18            Green  5b0f274aa43672b66d5587baf63cf6d9354956bc   \n",
       "6  19     DutchConquer  da7a3c650e218272c37e387104a571a8b374bb6a   \n",
       "7  21           wisdom  27d769673277ad1659a3342e8c92ca84a95c4166   \n",
       "8  22          Booti23  55e663cb3685e142cdafe723776ded5a9d84b140   \n",
       "9  24      MarkFortune  83a4a122db5812134055dcccfbdf31bf5dacfe62   \n",
       "\n",
       "   membership_id           mem_expire  trial_used  \\\n",
       "0             12  2014-05-17 11:19:19           0   \n",
       "1             12  2014-05-17 11:30:54           0   \n",
       "2             12  2014-05-17 14:36:56           0   \n",
       "3             11  2012-05-18 10:33:21           0   \n",
       "4             12  2014-05-17 10:39:12           0   \n",
       "5             12  2014-05-17 11:30:40           0   \n",
       "6              0  0000-00-00 00:00:00           0   \n",
       "7             12  2014-05-17 18:21:38           0   \n",
       "8             12  2014-05-17 18:07:51           0   \n",
       "9             12  2014-05-18 18:27:55           0   \n",
       "\n",
       "                          email    fname      lname  \\\n",
       "0         zingcraft@hotmail.com     Liam    Edwards   \n",
       "1      jolliffboy98@hotmail.com     Gary          J   \n",
       "2  mauricekleijwegt@hotmail.com  maurice  kleijwegt   \n",
       "3          allano123@hotmail.dk   Joseph   Mariuana   \n",
       "4          pandahaxor@gmail.com    Panda      Admin   \n",
       "5          Presee@hotmail.co.uk     Mike         Rw   \n",
       "6    dutchconquerhf@hotmail.com   Martin          L   \n",
       "7             b3t4_01@yahoo.com     budi    santoso   \n",
       "8           tara.od@hotmail.com     Tara      Power   \n",
       "9       Marksfortune4@gmail.com     Mark    Fortune   \n",
       "\n",
       "                                      token  newsletter  userlevel  \\\n",
       "0  e936c4a8e5b6230ed915a46a0009fe5e78ce8693           0          1   \n",
       "1                                         0           0          1   \n",
       "2                                         0           0          1   \n",
       "3  f479f0b33757950b0c002e44bbee9ce411a6120c           0          1   \n",
       "4  3d6db250cb14beeae5648bc57b2479751471d660           1          9   \n",
       "5                                         0           0          1   \n",
       "6                                         0           0          1   \n",
       "7                                         0           0          1   \n",
       "8                                         0           0          1   \n",
       "9                                         0           0          9   \n",
       "\n",
       "               created            lastlogin           lastip  \\\n",
       "0  2012-05-17 10:47:23  2012-05-20 10:44:11     58.106.28.31   \n",
       "1  2012-05-17 11:23:31  2012-05-18 12:56:55    184.10.176.32   \n",
       "2  2012-05-17 14:32:24  2012-05-17 17:27:59    84.84.176.106   \n",
       "3  2012-05-17 10:32:08  2012-05-17 10:36:44  188.177.190.110   \n",
       "4  2012-05-17 10:03:10  2012-05-20 12:13:53     93.36.195.32   \n",
       "5  2012-05-17 11:24:55  2012-05-18 22:18:09   86.133.207.153   \n",
       "6  2012-05-17 13:44:15  0000-00-00 00:00:00                0   \n",
       "7  2012-05-17 14:37:43  2012-05-17 14:40:44   110.138.209.45   \n",
       "8  2012-05-17 15:26:55  2012-05-19 01:02:53     212.7.208.75   \n",
       "9  2012-05-17 18:20:22  2012-05-19 03:34:45    72.91.100.167   \n",
       "\n",
       "                                              avatar active  myAttacks  \n",
       "0                                                NaN      y       12.0  \n",
       "1                                                NaN      y        2.0  \n",
       "2  IMG_1DD90F-1340AD-B16D6E-2D199F-54CF7B-C84F1F.jpg      y        2.0  \n",
       "3                                                NaN      y        1.0  \n",
       "4  IMG_AF98D6-320F74-69A004-8C09A0-F13C43-CF0B26.png      y        6.0  \n",
       "5                                                NaN      y        5.0  \n",
       "6                                                NaN      y        NaN  \n",
       "7                                                NaN      y        NaN  \n",
       "8                                                NaN      y        8.0  \n",
       "9                                                NaN      y        3.0  "
      ]
     },
     "execution_count": 38,
     "metadata": {},
     "output_type": "execute_result"
    }
   ],
   "source": [
    "tablename='users'\n",
    "\n",
    "pd.read_csv(read_inserted_table(dumpfile, tablename),\n",
    "            delimiter=\",\",\n",
    "            error_bad_lines=False).head(10)"
   ]
  },
  {
   "cell_type": "markdown",
   "metadata": {},
   "source": [
    "#### Q1: Is this table different from other previous loaded table? YES\n",
    "#### Q2: Is this table similar to any table in the generic Booter database schema? YES\n",
    "    - This table looks like: users\n",
    "    \n",
    "#### Q3: Are there modifications required? \n",
    "    - On the table name: \n",
    "        o \n",
    "    - On the column type: \n",
    "        o mem_expire => datetimestringinverted2datetime \n",
    "        o lastlogin => datetimestringinverted2datetime\n",
    "    - On the column name:\n",
    "        o id => userid\n",
    "        o email => useremail \n",
    "        o mem_expire => expire\n",
    "        o membership_id => planid\n",
    "    - Add required columns:\n",
    "        o \n",
    "    - Split columns:\n",
    "        o \n",
    "        \n",
    "    - Split columns to create new table:\n",
    "    df_logins = df_users[['userid','username','lastlogin','lastip']]\n",
    "    then change:\n",
    "    lastlogin => date\n",
    "    lastip => userip"
   ]
  },
  {
   "cell_type": "markdown",
   "metadata": {},
   "source": [
    "### Modifying table: 'users'"
   ]
  },
  {
   "cell_type": "code",
   "execution_count": 39,
   "metadata": {
    "collapsed": false
   },
   "outputs": [
    {
     "data": {
      "text/html": [
       "<div>\n",
       "<table border=\"1\" class=\"dataframe\">\n",
       "  <thead>\n",
       "    <tr style=\"text-align: right;\">\n",
       "      <th></th>\n",
       "      <th>userid</th>\n",
       "      <th>username</th>\n",
       "      <th>password</th>\n",
       "      <th>planid</th>\n",
       "      <th>expire</th>\n",
       "      <th>trial_used</th>\n",
       "      <th>useremail</th>\n",
       "      <th>fname</th>\n",
       "      <th>lname</th>\n",
       "      <th>token</th>\n",
       "      <th>newsletter</th>\n",
       "      <th>userlevel</th>\n",
       "      <th>created</th>\n",
       "      <th>lastlogin</th>\n",
       "      <th>lastip</th>\n",
       "      <th>avatar</th>\n",
       "      <th>active</th>\n",
       "      <th>myAttacks</th>\n",
       "    </tr>\n",
       "  </thead>\n",
       "  <tbody>\n",
       "    <tr>\n",
       "      <th>0</th>\n",
       "      <td>15</td>\n",
       "      <td>Assassinator980</td>\n",
       "      <td>d55bcc6b455abc01e8939d970168101a16f11898</td>\n",
       "      <td>12</td>\n",
       "      <td>2014-05-17 11:19:19</td>\n",
       "      <td>0</td>\n",
       "      <td>zingcraft@hotmail.com</td>\n",
       "      <td>Liam</td>\n",
       "      <td>Edwards</td>\n",
       "      <td>e936c4a8e5b6230ed915a46a0009fe5e78ce8693</td>\n",
       "      <td>0</td>\n",
       "      <td>1</td>\n",
       "      <td>2012-05-17 10:47:23</td>\n",
       "      <td>2012-05-20 10:44:11</td>\n",
       "      <td>58.106.28.31</td>\n",
       "      <td>NaN</td>\n",
       "      <td>y</td>\n",
       "      <td>12.0</td>\n",
       "    </tr>\n",
       "    <tr>\n",
       "      <th>1</th>\n",
       "      <td>17</td>\n",
       "      <td>Failedattempt</td>\n",
       "      <td>56c37153fc1d06d3a198a39f82bdf8e17023669f</td>\n",
       "      <td>12</td>\n",
       "      <td>2014-05-17 11:30:54</td>\n",
       "      <td>0</td>\n",
       "      <td>jolliffboy98@hotmail.com</td>\n",
       "      <td>Gary</td>\n",
       "      <td>J</td>\n",
       "      <td>0</td>\n",
       "      <td>0</td>\n",
       "      <td>1</td>\n",
       "      <td>2012-05-17 11:23:31</td>\n",
       "      <td>2012-05-18 12:56:55</td>\n",
       "      <td>184.10.176.32</td>\n",
       "      <td>NaN</td>\n",
       "      <td>y</td>\n",
       "      <td>2.0</td>\n",
       "    </tr>\n",
       "    <tr>\n",
       "      <th>2</th>\n",
       "      <td>20</td>\n",
       "      <td>I nfizr</td>\n",
       "      <td>d361c77d5fc37c45b35f1883d2b2b2127fcd3a25</td>\n",
       "      <td>12</td>\n",
       "      <td>2014-05-17 14:36:56</td>\n",
       "      <td>0</td>\n",
       "      <td>mauricekleijwegt@hotmail.com</td>\n",
       "      <td>maurice</td>\n",
       "      <td>kleijwegt</td>\n",
       "      <td>0</td>\n",
       "      <td>0</td>\n",
       "      <td>1</td>\n",
       "      <td>2012-05-17 14:32:24</td>\n",
       "      <td>2012-05-17 17:27:59</td>\n",
       "      <td>84.84.176.106</td>\n",
       "      <td>IMG_1DD90F-1340AD-B16D6E-2D199F-54CF7B-C84F1F.jpg</td>\n",
       "      <td>y</td>\n",
       "      <td>2.0</td>\n",
       "    </tr>\n",
       "    <tr>\n",
       "      <th>3</th>\n",
       "      <td>12</td>\n",
       "      <td>Cudd</td>\n",
       "      <td>7325e5b55758a26264dd7615be4157363bf46f39</td>\n",
       "      <td>11</td>\n",
       "      <td>2012-05-18 10:33:21</td>\n",
       "      <td>0</td>\n",
       "      <td>allano123@hotmail.dk</td>\n",
       "      <td>Joseph</td>\n",
       "      <td>Mariuana</td>\n",
       "      <td>f479f0b33757950b0c002e44bbee9ce411a6120c</td>\n",
       "      <td>0</td>\n",
       "      <td>1</td>\n",
       "      <td>2012-05-17 10:32:08</td>\n",
       "      <td>2012-05-17 10:36:44</td>\n",
       "      <td>188.177.190.110</td>\n",
       "      <td>NaN</td>\n",
       "      <td>y</td>\n",
       "      <td>1.0</td>\n",
       "    </tr>\n",
       "    <tr>\n",
       "      <th>4</th>\n",
       "      <td>11</td>\n",
       "      <td>Panda</td>\n",
       "      <td>0716b9029d0818cbabd7c69aa55d01c877982b54</td>\n",
       "      <td>12</td>\n",
       "      <td>2014-05-17 10:39:12</td>\n",
       "      <td>0</td>\n",
       "      <td>pandahaxor@gmail.com</td>\n",
       "      <td>Panda</td>\n",
       "      <td>Admin</td>\n",
       "      <td>3d6db250cb14beeae5648bc57b2479751471d660</td>\n",
       "      <td>1</td>\n",
       "      <td>9</td>\n",
       "      <td>2012-05-17 10:03:10</td>\n",
       "      <td>2012-05-20 12:13:53</td>\n",
       "      <td>93.36.195.32</td>\n",
       "      <td>IMG_AF98D6-320F74-69A004-8C09A0-F13C43-CF0B26.png</td>\n",
       "      <td>y</td>\n",
       "      <td>6.0</td>\n",
       "    </tr>\n",
       "    <tr>\n",
       "      <th>5</th>\n",
       "      <td>18</td>\n",
       "      <td>Green</td>\n",
       "      <td>5b0f274aa43672b66d5587baf63cf6d9354956bc</td>\n",
       "      <td>12</td>\n",
       "      <td>2014-05-17 11:30:40</td>\n",
       "      <td>0</td>\n",
       "      <td>Presee@hotmail.co.uk</td>\n",
       "      <td>Mike</td>\n",
       "      <td>Rw</td>\n",
       "      <td>0</td>\n",
       "      <td>0</td>\n",
       "      <td>1</td>\n",
       "      <td>2012-05-17 11:24:55</td>\n",
       "      <td>2012-05-18 22:18:09</td>\n",
       "      <td>86.133.207.153</td>\n",
       "      <td>NaN</td>\n",
       "      <td>y</td>\n",
       "      <td>5.0</td>\n",
       "    </tr>\n",
       "    <tr>\n",
       "      <th>6</th>\n",
       "      <td>19</td>\n",
       "      <td>DutchConquer</td>\n",
       "      <td>da7a3c650e218272c37e387104a571a8b374bb6a</td>\n",
       "      <td>0</td>\n",
       "      <td>0000-00-00 00:00:00</td>\n",
       "      <td>0</td>\n",
       "      <td>dutchconquerhf@hotmail.com</td>\n",
       "      <td>Martin</td>\n",
       "      <td>L</td>\n",
       "      <td>0</td>\n",
       "      <td>0</td>\n",
       "      <td>1</td>\n",
       "      <td>2012-05-17 13:44:15</td>\n",
       "      <td>0000-00-00 00:00:00</td>\n",
       "      <td>0</td>\n",
       "      <td>NaN</td>\n",
       "      <td>y</td>\n",
       "      <td>NaN</td>\n",
       "    </tr>\n",
       "    <tr>\n",
       "      <th>7</th>\n",
       "      <td>21</td>\n",
       "      <td>wisdom</td>\n",
       "      <td>27d769673277ad1659a3342e8c92ca84a95c4166</td>\n",
       "      <td>12</td>\n",
       "      <td>2014-05-17 18:21:38</td>\n",
       "      <td>0</td>\n",
       "      <td>b3t4_01@yahoo.com</td>\n",
       "      <td>budi</td>\n",
       "      <td>santoso</td>\n",
       "      <td>0</td>\n",
       "      <td>0</td>\n",
       "      <td>1</td>\n",
       "      <td>2012-05-17 14:37:43</td>\n",
       "      <td>2012-05-17 14:40:44</td>\n",
       "      <td>110.138.209.45</td>\n",
       "      <td>NaN</td>\n",
       "      <td>y</td>\n",
       "      <td>NaN</td>\n",
       "    </tr>\n",
       "    <tr>\n",
       "      <th>8</th>\n",
       "      <td>22</td>\n",
       "      <td>Booti23</td>\n",
       "      <td>55e663cb3685e142cdafe723776ded5a9d84b140</td>\n",
       "      <td>12</td>\n",
       "      <td>2014-05-17 18:07:51</td>\n",
       "      <td>0</td>\n",
       "      <td>tara.od@hotmail.com</td>\n",
       "      <td>Tara</td>\n",
       "      <td>Power</td>\n",
       "      <td>0</td>\n",
       "      <td>0</td>\n",
       "      <td>1</td>\n",
       "      <td>2012-05-17 15:26:55</td>\n",
       "      <td>2012-05-19 01:02:53</td>\n",
       "      <td>212.7.208.75</td>\n",
       "      <td>NaN</td>\n",
       "      <td>y</td>\n",
       "      <td>8.0</td>\n",
       "    </tr>\n",
       "    <tr>\n",
       "      <th>9</th>\n",
       "      <td>24</td>\n",
       "      <td>MarkFortune</td>\n",
       "      <td>83a4a122db5812134055dcccfbdf31bf5dacfe62</td>\n",
       "      <td>12</td>\n",
       "      <td>2014-05-18 18:27:55</td>\n",
       "      <td>0</td>\n",
       "      <td>Marksfortune4@gmail.com</td>\n",
       "      <td>Mark</td>\n",
       "      <td>Fortune</td>\n",
       "      <td>0</td>\n",
       "      <td>0</td>\n",
       "      <td>9</td>\n",
       "      <td>2012-05-17 18:20:22</td>\n",
       "      <td>2012-05-19 03:34:45</td>\n",
       "      <td>72.91.100.167</td>\n",
       "      <td>NaN</td>\n",
       "      <td>y</td>\n",
       "      <td>3.0</td>\n",
       "    </tr>\n",
       "  </tbody>\n",
       "</table>\n",
       "</div>"
      ],
      "text/plain": [
       "   userid         username                                  password  planid  \\\n",
       "0      15  Assassinator980  d55bcc6b455abc01e8939d970168101a16f11898      12   \n",
       "1      17    Failedattempt  56c37153fc1d06d3a198a39f82bdf8e17023669f      12   \n",
       "2      20          I nfizr  d361c77d5fc37c45b35f1883d2b2b2127fcd3a25      12   \n",
       "3      12             Cudd  7325e5b55758a26264dd7615be4157363bf46f39      11   \n",
       "4      11            Panda  0716b9029d0818cbabd7c69aa55d01c877982b54      12   \n",
       "5      18            Green  5b0f274aa43672b66d5587baf63cf6d9354956bc      12   \n",
       "6      19     DutchConquer  da7a3c650e218272c37e387104a571a8b374bb6a       0   \n",
       "7      21           wisdom  27d769673277ad1659a3342e8c92ca84a95c4166      12   \n",
       "8      22          Booti23  55e663cb3685e142cdafe723776ded5a9d84b140      12   \n",
       "9      24      MarkFortune  83a4a122db5812134055dcccfbdf31bf5dacfe62      12   \n",
       "\n",
       "                expire  trial_used                     useremail    fname  \\\n",
       "0  2014-05-17 11:19:19           0         zingcraft@hotmail.com     Liam   \n",
       "1  2014-05-17 11:30:54           0      jolliffboy98@hotmail.com     Gary   \n",
       "2  2014-05-17 14:36:56           0  mauricekleijwegt@hotmail.com  maurice   \n",
       "3  2012-05-18 10:33:21           0          allano123@hotmail.dk   Joseph   \n",
       "4  2014-05-17 10:39:12           0          pandahaxor@gmail.com    Panda   \n",
       "5  2014-05-17 11:30:40           0          Presee@hotmail.co.uk     Mike   \n",
       "6  0000-00-00 00:00:00           0    dutchconquerhf@hotmail.com   Martin   \n",
       "7  2014-05-17 18:21:38           0             b3t4_01@yahoo.com     budi   \n",
       "8  2014-05-17 18:07:51           0           tara.od@hotmail.com     Tara   \n",
       "9  2014-05-18 18:27:55           0       Marksfortune4@gmail.com     Mark   \n",
       "\n",
       "       lname                                     token  newsletter  userlevel  \\\n",
       "0    Edwards  e936c4a8e5b6230ed915a46a0009fe5e78ce8693           0          1   \n",
       "1          J                                         0           0          1   \n",
       "2  kleijwegt                                         0           0          1   \n",
       "3   Mariuana  f479f0b33757950b0c002e44bbee9ce411a6120c           0          1   \n",
       "4      Admin  3d6db250cb14beeae5648bc57b2479751471d660           1          9   \n",
       "5         Rw                                         0           0          1   \n",
       "6          L                                         0           0          1   \n",
       "7    santoso                                         0           0          1   \n",
       "8      Power                                         0           0          1   \n",
       "9    Fortune                                         0           0          9   \n",
       "\n",
       "               created            lastlogin           lastip  \\\n",
       "0  2012-05-17 10:47:23  2012-05-20 10:44:11     58.106.28.31   \n",
       "1  2012-05-17 11:23:31  2012-05-18 12:56:55    184.10.176.32   \n",
       "2  2012-05-17 14:32:24  2012-05-17 17:27:59    84.84.176.106   \n",
       "3  2012-05-17 10:32:08  2012-05-17 10:36:44  188.177.190.110   \n",
       "4  2012-05-17 10:03:10  2012-05-20 12:13:53     93.36.195.32   \n",
       "5  2012-05-17 11:24:55  2012-05-18 22:18:09   86.133.207.153   \n",
       "6  2012-05-17 13:44:15  0000-00-00 00:00:00                0   \n",
       "7  2012-05-17 14:37:43  2012-05-17 14:40:44   110.138.209.45   \n",
       "8  2012-05-17 15:26:55  2012-05-19 01:02:53     212.7.208.75   \n",
       "9  2012-05-17 18:20:22  2012-05-19 03:34:45    72.91.100.167   \n",
       "\n",
       "                                              avatar active  myAttacks  \n",
       "0                                                NaN      y       12.0  \n",
       "1                                                NaN      y        2.0  \n",
       "2  IMG_1DD90F-1340AD-B16D6E-2D199F-54CF7B-C84F1F.jpg      y        2.0  \n",
       "3                                                NaN      y        1.0  \n",
       "4  IMG_AF98D6-320F74-69A004-8C09A0-F13C43-CF0B26.png      y        6.0  \n",
       "5                                                NaN      y        5.0  \n",
       "6                                                NaN      y        NaN  \n",
       "7                                                NaN      y        NaN  \n",
       "8                                                NaN      y        8.0  \n",
       "9                                                NaN      y        3.0  "
      ]
     },
     "execution_count": 39,
     "metadata": {},
     "output_type": "execute_result"
    }
   ],
   "source": [
    "### Loading the column converting columns with predefined functions\n",
    "df_users = pd.read_csv(read_inserted_table(dumpfile, tablename),\n",
    "                                delimiter=\",\",\n",
    "                                error_bad_lines=False)\n",
    "\n",
    "###Changing names of columns\n",
    "df_users.rename(columns = {'id': 'userid',\n",
    "                          'email': 'useremail',\n",
    "                          'mem_expire': 'expire',\n",
    "                          'membership_id': 'planid'},\n",
    "                         inplace=True)\n",
    "\n",
    "###Showing some lines after adapt the table\n",
    "df_users.head(10)"
   ]
  },
  {
   "cell_type": "markdown",
   "metadata": {},
   "source": [
    "## Creating table logins from table users"
   ]
  },
  {
   "cell_type": "code",
   "execution_count": 42,
   "metadata": {
    "collapsed": false
   },
   "outputs": [
    {
     "name": "stderr",
     "output_type": "stream",
     "text": [
      "/usr/local/lib/python3.5/site-packages/pandas/core/frame.py:2754: SettingWithCopyWarning: \n",
      "A value is trying to be set on a copy of a slice from a DataFrame\n",
      "\n",
      "See the caveats in the documentation: http://pandas.pydata.org/pandas-docs/stable/indexing.html#indexing-view-versus-copy\n",
      "  **kwargs)\n"
     ]
    },
    {
     "data": {
      "text/html": [
       "<div>\n",
       "<table border=\"1\" class=\"dataframe\">\n",
       "  <thead>\n",
       "    <tr style=\"text-align: right;\">\n",
       "      <th></th>\n",
       "      <th>userid</th>\n",
       "      <th>username</th>\n",
       "      <th>date</th>\n",
       "      <th>userip</th>\n",
       "    </tr>\n",
       "  </thead>\n",
       "  <tbody>\n",
       "    <tr>\n",
       "      <th>0</th>\n",
       "      <td>15</td>\n",
       "      <td>Assassinator980</td>\n",
       "      <td>2012-05-20 10:44:11</td>\n",
       "      <td>58.106.28.31</td>\n",
       "    </tr>\n",
       "    <tr>\n",
       "      <th>1</th>\n",
       "      <td>17</td>\n",
       "      <td>Failedattempt</td>\n",
       "      <td>2012-05-18 12:56:55</td>\n",
       "      <td>184.10.176.32</td>\n",
       "    </tr>\n",
       "    <tr>\n",
       "      <th>2</th>\n",
       "      <td>20</td>\n",
       "      <td>I nfizr</td>\n",
       "      <td>2012-05-17 17:27:59</td>\n",
       "      <td>84.84.176.106</td>\n",
       "    </tr>\n",
       "    <tr>\n",
       "      <th>3</th>\n",
       "      <td>12</td>\n",
       "      <td>Cudd</td>\n",
       "      <td>2012-05-17 10:36:44</td>\n",
       "      <td>188.177.190.110</td>\n",
       "    </tr>\n",
       "    <tr>\n",
       "      <th>4</th>\n",
       "      <td>11</td>\n",
       "      <td>Panda</td>\n",
       "      <td>2012-05-20 12:13:53</td>\n",
       "      <td>93.36.195.32</td>\n",
       "    </tr>\n",
       "    <tr>\n",
       "      <th>5</th>\n",
       "      <td>18</td>\n",
       "      <td>Green</td>\n",
       "      <td>2012-05-18 22:18:09</td>\n",
       "      <td>86.133.207.153</td>\n",
       "    </tr>\n",
       "    <tr>\n",
       "      <th>6</th>\n",
       "      <td>19</td>\n",
       "      <td>DutchConquer</td>\n",
       "      <td>0000-00-00 00:00:00</td>\n",
       "      <td>0</td>\n",
       "    </tr>\n",
       "    <tr>\n",
       "      <th>7</th>\n",
       "      <td>21</td>\n",
       "      <td>wisdom</td>\n",
       "      <td>2012-05-17 14:40:44</td>\n",
       "      <td>110.138.209.45</td>\n",
       "    </tr>\n",
       "    <tr>\n",
       "      <th>8</th>\n",
       "      <td>22</td>\n",
       "      <td>Booti23</td>\n",
       "      <td>2012-05-19 01:02:53</td>\n",
       "      <td>212.7.208.75</td>\n",
       "    </tr>\n",
       "    <tr>\n",
       "      <th>9</th>\n",
       "      <td>24</td>\n",
       "      <td>MarkFortune</td>\n",
       "      <td>2012-05-19 03:34:45</td>\n",
       "      <td>72.91.100.167</td>\n",
       "    </tr>\n",
       "  </tbody>\n",
       "</table>\n",
       "</div>"
      ],
      "text/plain": [
       "   userid         username                 date           userip\n",
       "0      15  Assassinator980  2012-05-20 10:44:11     58.106.28.31\n",
       "1      17    Failedattempt  2012-05-18 12:56:55    184.10.176.32\n",
       "2      20          I nfizr  2012-05-17 17:27:59    84.84.176.106\n",
       "3      12             Cudd  2012-05-17 10:36:44  188.177.190.110\n",
       "4      11            Panda  2012-05-20 12:13:53     93.36.195.32\n",
       "5      18            Green  2012-05-18 22:18:09   86.133.207.153\n",
       "6      19     DutchConquer  0000-00-00 00:00:00                0\n",
       "7      21           wisdom  2012-05-17 14:40:44   110.138.209.45\n",
       "8      22          Booti23  2012-05-19 01:02:53     212.7.208.75\n",
       "9      24      MarkFortune  2012-05-19 03:34:45    72.91.100.167"
      ]
     },
     "execution_count": 42,
     "metadata": {},
     "output_type": "execute_result"
    }
   ],
   "source": [
    "df_logins = df_users[['userid','username','lastlogin','lastip']]\n",
    "\n",
    "df_logins.rename(columns = {'lastlogin': 'date',\n",
    "                          'lastip': 'userip'},\n",
    "                         inplace=True)\n",
    "\n",
    "df_logins.head(10)"
   ]
  },
  {
   "cell_type": "markdown",
   "metadata": {},
   "source": [
    "<h2 align='center'>======================================================================\n",
    "<br>Final step of the manual part\n",
    "======================================================================</h2>"
   ]
  },
  {
   "cell_type": "markdown",
   "metadata": {},
   "source": [
    "## 7. Adding missing tables accordingly to our generic Booter database "
   ]
  },
  {
   "cell_type": "code",
   "execution_count": 43,
   "metadata": {
    "collapsed": false
   },
   "outputs": [],
   "source": [
    "df_attacks= pd.DataFrame(columns=['id','userid','username','targetip','targeturl','duration','port','type','date'])\n",
    "df_blacklist=pd.DataFrame(columns=['id','ip','note'])\n",
    "df_friendsenemies=pd.DataFrame(columns=['id','ip','note','userid','type'])\n",
    "# df_gateways=pd.DataFrame(columns=['email'])\n",
    "# df_logins=pd.DataFrame(columns=['id','userid','username','userip','date'])\n",
    "df_payments=pd.DataFrame(columns=['id','userid','username','amountpaid','paymentemail','planid','tid','date'])\n",
    "df_plans=pd.DataFrame(columns=['planid','planname','plandescr','price','maxboottime','concurrency'])\n",
    "df_servers=pd.DataFrame(columns=['id','ip'])\n",
    "# df_settings=pd.DataFrame(columns=['url','sitename','siteemail'])\n",
    "# df_users=pd.DataFrame(columns=['userid','username','useremail','password','expire','plan'])      \n",
    "# df_webshells=pd.DataFrame(columns=['id','url','status','lastchecked','attacktype'])"
   ]
  },
  {
   "cell_type": "markdown",
   "metadata": {},
   "source": [
    "<h1 align=\"center\">\n",
    "!!!!!!!!!!!!!!!!!!!!!!!!!!!!!!!!!!!!!!!!!!!!!!!!!!!!!!!!!!!!!!!!!!!!!!!!!!!!!!!!!!!!!!!!!!!!!!!!!!!!!!!!!!!!!!!!!!!!!!!!!!!!!!!!!!!!!!!!!<br>\n",
    "STEP 2: Data Enrichment<br>\n",
    "!!!!!!!!!!!!!!!!!!!!!!!!!!!!!!!!!!!!!!!!!!!!!!!!!!!!!!!!!!!!!!!!!!!!!!!!!!!!!!!!!!!!!!!!!!!!!!!!!!!!!!!!!!!!!!!!!!!!!!!!!!!!!!!</h1> "
   ]
  },
  {
   "cell_type": "markdown",
   "metadata": {},
   "source": [
    "### * Depending of the size of the data, this part can take HOURS. I tested for both small and big datasets and it worked. Be pacient. This will pay-off!"
   ]
  },
  {
   "cell_type": "markdown",
   "metadata": {},
   "source": [
    "## * Libraries needed to retrieve information from external databases"
   ]
  },
  {
   "cell_type": "code",
   "execution_count": null,
   "metadata": {
    "collapsed": true
   },
   "outputs": [],
   "source": [
    "import subprocess\n",
    "import cfscrape\n",
    "from lxml import etree\n",
    "import os.path\n",
    "import random\n",
    "import time "
   ]
  },
  {
   "cell_type": "markdown",
   "metadata": {},
   "source": [
    "## * Function to enrich IP addresseswith AS information and country "
   ]
  },
  {
   "cell_type": "code",
   "execution_count": null,
   "metadata": {
    "collapsed": false
   },
   "outputs": [],
   "source": [
    "# THANKS TO: team-cymru.org\n",
    "def iptoasn(iplist_teamcymruformat_filelocation,outputfile):\n",
    "    cat = subprocess.Popen(['cat', iplist_teamcymruformat_filelocation], \n",
    "                            stdout=subprocess.PIPE)\n",
    "    \n",
    "    netcat = subprocess.Popen(['netcat', 'whois.cymru.com', '43'],\n",
    "                              stdin=cat.stdout,\n",
    "                              stdout=outputfile)\n",
    "    time.sleep(3) #for some reason the poll does not work! This was the way to overcome the waiting time.\n",
    "    \n",
    "    return netcat.stdout      "
   ]
  },
  {
   "cell_type": "markdown",
   "metadata": {},
   "source": [
    "## * Function to check if an IP address was Tor node in a given moment"
   ]
  },
  {
   "cell_type": "code",
   "execution_count": null,
   "metadata": {
    "collapsed": true
   },
   "outputs": [],
   "source": [
    "# THANKS TO: exonerator.torproject.org\n",
    "def WasTorNode(ip, date ):\n",
    "    url=\"https://exonerator.torproject.org/?ip=\"+ip+\"&timestamp=\"+date\n",
    "    scraper = cfscrape.create_scraper()\n",
    "    scraped_html=scraper.get(url).content    \n",
    "    html_tree = etree.HTML(scraped_html)\n",
    "    result=html_tree.xpath(\"//h3[@class='panel-title']/text()\") # I was looking for <h3 class=\"panel-title\">Result is positive</h3>\n",
    "    tor_node=True if result == ['Result is positive'] else False\n",
    "    return tor_node \n",
    "# 'date' MUST BE formated as: Year-month-day (2016-03-31)"
   ]
  },
  {
   "cell_type": "markdown",
   "metadata": {},
   "source": [
    "## * Discovering the middle date of the database"
   ]
  },
  {
   "cell_type": "code",
   "execution_count": null,
   "metadata": {
    "collapsed": false
   },
   "outputs": [],
   "source": [
    "try:\n",
    "    try:\n",
    "        middle_date=(min(df_attacks['date'])+((max(df_attacks['date'])-min(df_attacks['date']))/2))\n",
    "        raise\n",
    "    except Exception:\n",
    "        pass\n",
    "\n",
    "    try:\n",
    "        middle_date=(min(df_logins['date'])+((max(df_logins['date'])-min(df_logins['date']))/2))\n",
    "        raise\n",
    "    except Exception:\n",
    "        pass\n",
    "\n",
    "    try:\n",
    "        middle_date=(min(df_payments['date'])+((max(df_payments['date'])-min(df_payments['date']))/2))\n",
    "        raise\n",
    "    except:\n",
    "        pass\n",
    "except Exception:\n",
    "    print(\"There is no date in the entire dataset\")\n",
    "\n",
    "date_tor_check = middle_date.strftime('%Y-%m-%d')\n",
    "date_iptoasn_lookup= str(middle_date)\n",
    "print(date_tor_check)"
   ]
  },
  {
   "cell_type": "markdown",
   "metadata": {},
   "source": [
    "## * Preparing to Perform IP to ASN info"
   ]
  },
  {
   "cell_type": "code",
   "execution_count": null,
   "metadata": {
    "collapsed": false
   },
   "outputs": [],
   "source": [
    "df_logins['middledate']=date_iptoasn_lookup\n",
    "df_attacks['middledate']=date_iptoasn_lookup\n",
    "df_friendsenemies['middledate']=date_iptoasn_lookup\n",
    "df_blacklist['middledate']=date_iptoasn_lookup"
   ]
  },
  {
   "cell_type": "markdown",
   "metadata": {},
   "source": [
    "## 2.1.1  Lookup IP to ASN info of table: logins"
   ]
  },
  {
   "cell_type": "code",
   "execution_count": null,
   "metadata": {
    "collapsed": false
   },
   "outputs": [],
   "source": [
    "if (os.path.exists('enrichments/logins_iptoasn_out')== False):\n",
    "    logins_iptoasn_in = open('enrichments/logins_iptoasn_in', 'w+')\n",
    "    logins_iptoasn_in.write('begin\\nverbose\\n')\n",
    "    df_logins[['userip','middledate']].drop_duplicates().to_csv(logins_iptoasn_in,header=False,index=False,sep=\"\\t\") \n",
    "    logins_iptoasn_in.write('end')\n",
    "    logins_iptoasn_in.close()\n",
    "\n",
    "    logins_iptoasn_out = open('logins_iptoasn_out', 'w+')\n",
    "    iptoasn('logins_iptoasn_in',logins_iptoasn_out)\n",
    "    logins_iptoasn_out.close()\n",
    "else:\n",
    "    print(\"You already performed the lookup for this table\")"
   ]
  },
  {
   "cell_type": "code",
   "execution_count": null,
   "metadata": {
    "collapsed": false
   },
   "outputs": [],
   "source": [
    "df_logins_iptoasn = pd.read_csv('enrichments/logins_iptoasn_out',\\\n",
    "                                skiprows=1,\\\n",
    "                             delimiter=\"\\s+\\|\\s\",\\\n",
    "                             names = ['asn', 'ip', 'bgp_prefix', 'country','registry','info_date','info_request','as_name'])\n",
    "\n",
    "df_logins_extended= pd.merge(df_logins,\n",
    "                              df_logins_iptoasn,\n",
    "                              how = 'left',\n",
    "                              left_on = 'userip',\n",
    "                              right_on = 'ip')\n",
    "\n",
    "# Changing name of columns to avoid misunderstandings\n",
    "df_logins_extended.rename(columns={'asn':'srcasn', \n",
    "                                   'ip':'srcip', \n",
    "                                   'bgp_prefix':'srcbgp_prefix', \n",
    "                                   'country':'srccountry' ,\n",
    "                                   'registry':'srcregistry',\n",
    "                                   'info_date':'srcinfo_date',\n",
    "                                   'info_request':'srcinfo_request'},\n",
    "                         inplace=True)\n",
    "\n",
    "\n",
    "df_logins_extended.head(5)"
   ]
  },
  {
   "cell_type": "markdown",
   "metadata": {},
   "source": [
    "## 2.1.2  Lookup IP to ASN info of table: attacks"
   ]
  },
  {
   "cell_type": "code",
   "execution_count": null,
   "metadata": {
    "collapsed": false
   },
   "outputs": [],
   "source": [
    "if (os.path.exists('enrichments/attacks_iptoasn_out')== False):\n",
    "    attacks_iptoasn_in = open('enrichments/attacks_iptoasn_in', 'w+')\n",
    "    attacks_iptoasn_in.write('begin\\nverbose\\n')\n",
    "    df_attacks[['targetip','middledate']].drop_duplicates().to_csv(attacks_iptoasn_in,header=False,index=False,sep=\"\\t\") \n",
    "    attacks_iptoasn_in.write('end')\n",
    "    attacks_iptoasn_in.close()\n",
    "\n",
    "    attacks_iptoasn_out = open('attacks_iptoasn_out', 'w+')\n",
    "    iptoasn('attacks_iptoasn_in',attacks_iptoasn_out)\n",
    "    attacks_iptoasn_out.close()\n",
    "else:\n",
    "    print(\"You already performed the lookup for this table\")"
   ]
  },
  {
   "cell_type": "code",
   "execution_count": null,
   "metadata": {
    "collapsed": false
   },
   "outputs": [],
   "source": [
    "df_attacks_iptoasn = pd.read_csv('enrichments/attacks_iptoasn_out',\\\n",
    "                                skiprows=1,\\\n",
    "                             delimiter=\"\\s+\\|\\s\",\\\n",
    "                             names = ['asn', 'ip', 'bgp_prefix', 'country','registry','info_date','info_request','as_name'])\n",
    "\n",
    "# Merging the iptoasn with the queried column\n",
    "df_attacks_extended= pd.merge(df_attacks,\n",
    "                              df_attacks_iptoasn,\n",
    "                              how = 'left',\n",
    "                              left_on = 'targetip',\n",
    "                              right_on = 'ip')\n",
    "\n",
    "# Changing name of columns to avoid misunderstandings\n",
    "df_attacks_extended.rename(columns={'asn':'targetasn', \n",
    "                                   'ip_y':'targetip', \n",
    "                                   'bgp_prefix':'targetbgp_prefix', \n",
    "                                   'country_y':'targetcountry' ,\n",
    "                                   'registry':'targetregistry',\n",
    "                                   'info_date':'targetinfo_date',\n",
    "                                   'info_request':'targetinfo_request'},\n",
    "                         inplace=True)\n",
    "df_attacks_extended.head(5)"
   ]
  },
  {
   "cell_type": "markdown",
   "metadata": {},
   "source": [
    "## 2.1.3  Lookup IP to ASN info of table: friendsenemies"
   ]
  },
  {
   "cell_type": "code",
   "execution_count": null,
   "metadata": {
    "collapsed": false
   },
   "outputs": [],
   "source": [
    "if (os.path.exists('enrichments/friendsenemies_iptoasn_out')== False):\n",
    "    friendsenemies_iptoasn_in = open('enrichments/friendsenemies_iptoasn_in', 'w+')\n",
    "    friendsenemies_iptoasn_in.write('begin\\nverbose\\n')\n",
    "    df_friendsenemies[['ip','middledate']].drop_duplicates().to_csv(friendsenemies_iptoasn_in,header=False,index=False,sep=\"\\t\") \n",
    "    friendsenemies_iptoasn_in.write('end')\n",
    "    friendsenemies_iptoasn_in.close()\n",
    "\n",
    "    friendsenemies_iptoasn_out = open('friendsenemies_iptoasn_out', 'w+')\n",
    "    iptoasn('friendsenemies_iptoasn_in',friendsenemies_iptoasn_out)\n",
    "    friendsenemies_iptoasn_out.close()\n",
    "else:\n",
    "    print(\"You already performed the lookup for this table.\")"
   ]
  },
  {
   "cell_type": "code",
   "execution_count": null,
   "metadata": {
    "collapsed": false
   },
   "outputs": [],
   "source": [
    "df_friendsenemies_iptoasn = pd.read_csv('enrichments/friendsenemies_iptoasn_out',\\\n",
    "                                skiprows=1,\\\n",
    "                             delimiter=\"\\s+\\|\\s\",\\\n",
    "                             names = ['asn', 'ip', 'bgp_prefix', 'country','registry','info_date','info_request','as_name'])\n",
    "\n",
    "# Merging the iptoasn with the queried column\n",
    "df_friendsenemies_extended= pd.merge(df_friendsenemies,\n",
    "                              df_friendsenemies_iptoasn,\n",
    "                              how = 'left',\n",
    "                              left_on = 'ip',\n",
    "                              right_on = 'ip')\n",
    "\n",
    "# Changing name of columns to avoid misunderstandings\n",
    "df_friendsenemies_extended.rename(columns={'asn':'friendsenemiesasn', \n",
    "                                   'ip':'friendsenemiesip', \n",
    "                                   'bgp_prefix':'friendsenemiesbgp_prefix', \n",
    "                                   'country':'friendsenemiescountry' ,\n",
    "                                   'registry':'friendsenemiesregistry',\n",
    "                                   'info_date':'friendsenemiesinfo_date',\n",
    "                                   'info_request':'friendsenemiesinfo_request',\n",
    "                                   'as_name': 'friendsenemiesas_name'},\n",
    "                         inplace=True)"
   ]
  },
  {
   "cell_type": "markdown",
   "metadata": {},
   "source": [
    "## 2.1.4  Lookup IP to ASN info of table: blacklist"
   ]
  },
  {
   "cell_type": "code",
   "execution_count": null,
   "metadata": {
    "collapsed": false
   },
   "outputs": [],
   "source": [
    "if (os.path.exists('enrichments/blacklist_iptoasn_out')== False):\n",
    "    blacklist_iptoasn_in = open('enrichments/blacklist_iptoasn_in', 'w+')\n",
    "    blacklist_iptoasn_in.write('begin\\nverbose\\n')\n",
    "    df_blacklist[['ip','middledate']].drop_duplicates().to_csv(blacklist_iptoasn_in,header=False,index=False,sep=\"\\t\") \n",
    "    blacklist_iptoasn_in.write('end')\n",
    "    blacklist_iptoasn_in.close()\n",
    "\n",
    "    blacklist_iptoasn_out = open('blacklist_iptoasn_out', 'w+')\n",
    "    iptoasn('blacklist_iptoasn_in',blacklist_iptoasn_out)\n",
    "    blacklist_iptoasn_out.close()\n",
    "else:\n",
    "    print(\"You already performed the lookup for this table.\")"
   ]
  },
  {
   "cell_type": "code",
   "execution_count": null,
   "metadata": {
    "collapsed": false
   },
   "outputs": [],
   "source": [
    "df_blacklist_iptoasn = pd.read_csv('enrichments/blacklist_iptoasn_out',\\\n",
    "                                skiprows=1,\\\n",
    "                             delimiter=\"\\s+\\|\\s\",\\\n",
    "                             names = ['asn', 'ip', 'bgp_prefix', 'country','registry','info_date','info_request','as_name'])\n",
    "\n",
    "# Merging the iptoasn with the queried column\n",
    "df_blacklist_extended= pd.merge(df_blacklist,\n",
    "                              df_blacklist_iptoasn,\n",
    "                              how = 'left',\n",
    "                              left_on = 'ip',\n",
    "                              right_on = 'ip')\n",
    "\n",
    "# Changing name of columns to avoid misunderstandings\n",
    "df_blacklist_extended.rename(columns={'asn':'blacklistasn', \n",
    "                                   'ip':'blacklistip', \n",
    "                                   'bgp_prefix':'blacklistbgp_prefix', \n",
    "                                   'country':'blacklistcountry' ,\n",
    "                                   'registry':'blacklistregistry',\n",
    "                                   'info_date':'blacklistinfo_date',\n",
    "                                   'info_request':'blacklistinfo_request',\n",
    "                                   'as_name': 'blacklistas_name'},\n",
    "                         inplace=True)\n",
    "df_blacklist_extended.head(5)"
   ]
  },
  {
   "cell_type": "markdown",
   "metadata": {},
   "source": [
    "## 2.2.1. Check if IP was a TOR node for table: login"
   ]
  },
  {
   "cell_type": "code",
   "execution_count": null,
   "metadata": {
    "collapsed": false
   },
   "outputs": [],
   "source": [
    "date_tor_check"
   ]
  },
  {
   "cell_type": "code",
   "execution_count": null,
   "metadata": {
    "collapsed": false,
    "scrolled": true
   },
   "outputs": [],
   "source": [
    "if len(df_logins['userip'].unique())<1200:\n",
    "    if (os.path.exists('enrichments/logins_torcheck')== False):\n",
    "        print(\"Note: it can take a while to finish...\")\n",
    "        logins_torcheck = open('logins_torcheck', 'w+')\n",
    "        for i in df_logins['userip'].unique():\n",
    "            wasTor=WasTorNode(i,date_tor_check)\n",
    "            print(i, wasTor, file=logins_torcheck)\n",
    "    #         print(i, wasTor) #DEBUGING =D\n",
    "            time.sleep(random.randint(1,3)) #adding some random sleep time\n",
    "            logins_torcheck.flush()\n",
    "\n",
    "        logins_torcheck.close()\n",
    "    else:\n",
    "        print(\"The IP addresses from this table were already checked.\")\n",
    "else:\n",
    "        print(\"Aborted!!! It will take more than one hour to analyse!\")"
   ]
  },
  {
   "cell_type": "code",
   "execution_count": null,
   "metadata": {
    "collapsed": true
   },
   "outputs": [],
   "source": [
    "df_logins_torcheck = pd.read_csv('enrichments/logins_torcheck',\\\n",
    "                          delimiter=\"\\s+\",\\\n",
    "                          names = ['userip', 'tor'])"
   ]
  },
  {
   "cell_type": "markdown",
   "metadata": {},
   "source": [
    "## 2.2.2. Check if IP was a TOR node for table: attacks"
   ]
  },
  {
   "cell_type": "code",
   "execution_count": null,
   "metadata": {
    "collapsed": false,
    "scrolled": false
   },
   "outputs": [],
   "source": [
    "if len(df_attacks['targetip'].unique())<1200:\n",
    "    if (os.path.exists('enrichments/attacks_torcheck')== False):\n",
    "        print(\"Note: it can take a while to finish...\",len(df_attacks['targetip'].unique())*3,\"seconds (in the worst case).\")\n",
    "\n",
    "        attacks_torcheck = open('attacks_torcheck', 'w+')\n",
    "\n",
    "        for i in df_attacks['targetip'].unique():\n",
    "            wasTor=WasTorNode(i,date_tor_check)\n",
    "            print(i, wasTor, file=attacks_torcheck)\n",
    "            print(i, wasTor) #DEBUGING =D\n",
    "            time.sleep(random.randint(1,3)) #adding some random sleep time\n",
    "            attacks_torcheck.flush()\n",
    "\n",
    "        attacks_torcheck.close()\n",
    "    else:\n",
    "        print(\"The IP addresses from this table were already checked.\") \n",
    "else:\n",
    "        print(\"Aborted!!! It will take more than one hour to analyse!\")"
   ]
  },
  {
   "cell_type": "code",
   "execution_count": null,
   "metadata": {
    "collapsed": true
   },
   "outputs": [],
   "source": [
    "df_attacks_torcheck = pd.read_csv('enrichments/attacks_torcheck',\\\n",
    "                          delimiter=\"\\s+\",\\\n",
    "                          names = ['targetip', 'tor'])"
   ]
  },
  {
   "cell_type": "markdown",
   "metadata": {},
   "source": [
    "## 2.2.3. Check if IP was a TOR node for table: friendsenemies"
   ]
  },
  {
   "cell_type": "code",
   "execution_count": null,
   "metadata": {
    "collapsed": false
   },
   "outputs": [],
   "source": [
    "if len(df_friendsenemies['ip'].unique()) <1200:\n",
    "    if (os.path.exists('enrichments/friendsenemies_torcheck')== False):\n",
    "        print(\"Note: it can take a while to finish...\",len(df_friendsenemies['ip'].unique())*3,\"seconds (in the worst case).\")\n",
    "\n",
    "        friendsenemies_torcheck = open('enrichments/friendsenemies_torcheck', 'w+')\n",
    "\n",
    "        for i in df_friendsenemies['ip'].unique():\n",
    "            wasTor=WasTorNode(i,date_tor_check)\n",
    "            print(i, wasTor, file=friendsenemies_torcheck)\n",
    "        #     print(i, wasTor) #DEBUGING =D\n",
    "            time.sleep(random.randint(1,3)) #adding some random sleep time\n",
    "            friendsenemies_torcheck.flush()\n",
    "\n",
    "        friendsenemies_torcheck.close()\n",
    "    else:\n",
    "        print(\"The IP addresses from this table were already checked.\") \n",
    "else:\n",
    "        print(\"Aborted!!! It will take more than one hour to analyse!\")"
   ]
  },
  {
   "cell_type": "code",
   "execution_count": null,
   "metadata": {
    "collapsed": true
   },
   "outputs": [],
   "source": [
    "df_friendsenemies_torcheck = pd.read_csv('enrichments/friendsenemies_torcheck',\\\n",
    "                          delimiter=\"\\s+\",\\\n",
    "                          names = ['ip', 'tor'])"
   ]
  },
  {
   "cell_type": "markdown",
   "metadata": {},
   "source": [
    "## 2.2.4. Check if IP was a TOR node for table: blacklist"
   ]
  },
  {
   "cell_type": "code",
   "execution_count": null,
   "metadata": {
    "collapsed": false
   },
   "outputs": [],
   "source": [
    "if len(df_blacklist['ip'].unique()) < 1200:\n",
    "    if (os.path.exists('enrichments/blacklist_torcheck')== False):\n",
    "        print(\"Note: it can take a while to finish...\",len(df_blacklist['ip'].unique())*3,\"seconds (in the worst case).\")\n",
    "\n",
    "        blacklist_torcheck = open('enrichments/blacklist_torcheck', 'w+')\n",
    "\n",
    "        for i in df_blacklist['ip'].unique():\n",
    "            wasTor=WasTorNode(i,date_tor_check)\n",
    "            print(i, wasTor, file=blacklist_torcheck)\n",
    "    #         print(i, wasTor) #DEBUGING =D\n",
    "            time.sleep(random.randint(1,3)) #adding some random sleep time\n",
    "            blacklist_torcheck.flush()\n",
    "\n",
    "        blacklist_torcheck.close()\n",
    "    else:\n",
    "        print(\"The IP addresses from this table were already checked.\") \n",
    "else:\n",
    "        print(\"Aborted!!! It will take more than one hour to analyse!\")"
   ]
  },
  {
   "cell_type": "code",
   "execution_count": null,
   "metadata": {
    "collapsed": true
   },
   "outputs": [],
   "source": [
    "df_blacklist_torcheck = pd.read_csv('enrichments/blacklist_torcheck',\\\n",
    "                          delimiter=\"\\s+\",\\\n",
    "                          names = ['ip', 'tor'])"
   ]
  },
  {
   "cell_type": "markdown",
   "metadata": {},
   "source": [
    "## * Relation between Attack dates and Login dates"
   ]
  },
  {
   "cell_type": "code",
   "execution_count": null,
   "metadata": {
    "collapsed": true
   },
   "outputs": [],
   "source": [
    "def nearestDate(base_date, date_list):\n",
    "    nearest={}\n",
    "    for date in date_list:\n",
    "        if (base_date.timestamp() - date.timestamp())>=0:\n",
    "            nearest[base_date.timestamp() - date.timestamp()]= date\n",
    "    return nearest[min(nearest.keys())]"
   ]
  },
  {
   "cell_type": "code",
   "execution_count": null,
   "metadata": {
    "collapsed": false
   },
   "outputs": [],
   "source": [
    "#This is the TOTAL number records to be checks!!!!\n",
    "len(df_attacks)"
   ]
  },
  {
   "cell_type": "code",
   "execution_count": null,
   "metadata": {
    "collapsed": true
   },
   "outputs": [],
   "source": [
    "df_attacks['nearestlogin']=\"\"\n",
    "df_attacks['nearestlogin']=pd.to_datetime(df_attacks['nearestlogin'])\n",
    "    \n",
    "if len(df_attacks)>0 and len(df_logins)>0:\n",
    "    #When was the last login of the user that performed attacks\n",
    "    df_attacks['nearestlogin']=\"\"\n",
    "    df_attacks['nearestlogin']=pd.to_datetime(df_attacks['nearestlogin'])\n",
    "\n",
    "    for index, row in df_attacks.head(100).iterrows():\n",
    "        intermediate_df= df_logins[df_logins['username']==row['username']]\n",
    "        nearestlogindate= nearestDate(row['date'],intermediate_df['date'])\n",
    "        df_attacks.set_value(index, 'nearestlogin', nearestlogindate)\n",
    "\n",
    "        #DEBUGGING\n",
    "        if index % 1000 == 0:\n",
    "            print(index,\": +1000 records analysed\")"
   ]
  },
  {
   "cell_type": "code",
   "execution_count": null,
   "metadata": {
    "collapsed": false
   },
   "outputs": [],
   "source": [
    "if len(df_attacks['nearestlogin'].value_counts()) >1:\n",
    "    df_attacks_and_logins = pd.merge(df_attacks_extended,\n",
    "                                     df_logins_extended,\n",
    "                                     how = 'left',\n",
    "                                     left_on = ['username','nearestlogin'],\n",
    "                                     right_on = ['username','date'])\n",
    "else:\n",
    "    df_attacks_and_logins=\"\""
   ]
  },
  {
   "cell_type": "markdown",
   "metadata": {},
   "source": [
    "<h2 align=\"center\">\n",
    "!!!!!!!!!!!!!!!!!!!!!!!!!!!!!!!!!!!!!!!!!!!!!!!!!!!!!!!!!!!!!!!!!!!!!!!!!!!!!!!!!!!!!!!!!!!!!!!!!!!!!!!!!!!!!!!!!!!!!!!!!!!!!!!!!!!!!!!!!<br>\n",
    "STEP 3: Automatic Analysis\n",
    "<br>\n",
    "!!!!!!!!!!!!!!!!!!!!!!!!!!!!!!!!!!!!!!!!!!!!!!!!!!!!!!!!!!!!!!!!!!!!!!!!!!!!!!!!!!!!!!!!!!!!!!!!!!!!!!!!!!!!!!!!!!!!!!!!!!!!!!!</h3> "
   ]
  },
  {
   "cell_type": "markdown",
   "metadata": {},
   "source": [
    "## * Libraries that I use to plot figs"
   ]
  },
  {
   "cell_type": "code",
   "execution_count": null,
   "metadata": {
    "collapsed": true
   },
   "outputs": [],
   "source": [
    "import matplotlib.pyplot as plt\n",
    "from matplotlib_venn import *\n",
    "%matplotlib inline\n",
    "\n",
    "import seaborn as sns\n",
    "import itertools\n",
    "\n",
    "plt.style.use('seaborn-muted')\n",
    "# plt.rcParams['font.family'] = 'serif'\n",
    "# plt.rcParams['font.size'] = 12\n",
    "\n",
    "import warnings\n",
    "warnings.filterwarnings('ignore')"
   ]
  },
  {
   "cell_type": "markdown",
   "metadata": {},
   "source": [
    "## A.1. Number of records per table (part of the generic Booter database schema)"
   ]
  },
  {
   "cell_type": "code",
   "execution_count": null,
   "metadata": {
    "collapsed": false
   },
   "outputs": [],
   "source": [
    "len(df_users),len(df_logins),len(df_attacks),len(df_payments),len(df_settings),len(df_gateways), len(df_friendsenemies),len(df_blacklist),len(df_webshells),len(df_servers),len(df_plans)"
   ]
  },
  {
   "cell_type": "markdown",
   "metadata": {},
   "source": [
    "## A.2. Number of users, customers, attackers, and their intersection"
   ]
  },
  {
   "cell_type": "code",
   "execution_count": null,
   "metadata": {
    "collapsed": false
   },
   "outputs": [],
   "source": [
    "if len(set(df_users['userid'].unique())) > 1:\n",
    "    users_set=set(df_users['userid'].unique())\n",
    "else:\n",
    "    users_set=set(df_users['username'].unique())\n",
    "    \n",
    "if len(set(df_logins['userid'].unique())) > 1:\n",
    "    userslogin_set=set(df_logins['userid'].unique())\n",
    "else:\n",
    "    userslogin_set=set(df_logins['username'].unique())\n",
    "\n",
    "if len(set(df_payments['userid'].unique())) > 1:\n",
    "    customers_set=set(df_payments['userid'].unique())\n",
    "else:\n",
    "    customers_set=set(df_payments['username'].unique())\n",
    "\n",
    "if len(set(df_attacks['userid'].unique())) > 1:\n",
    "    attackers_set=set(df_attacks['userid'].unique())\n",
    "else:\n",
    "    attackers_set=set(df_attacks['username'].unique())\n",
    "\n",
    "intersec_customers_attacker=pd.Series(list(customers_set.intersection(attackers_set)))\n",
    "intersec_users_customers=pd.Series(list(users_set.intersection(customers_set)))\n",
    "intersec_users_attackers=pd.Series(list(users_set.intersection(attackers_set)))\n",
    "intersec_users_customers_attackers=pd.Series(list(users_set.intersection(customers_set).intersection(attackers_set)))"
   ]
  },
  {
   "cell_type": "code",
   "execution_count": null,
   "metadata": {
    "collapsed": false
   },
   "outputs": [],
   "source": [
    "len(users_set),len(userslogin_set),len(customers_set),len(attackers_set)"
   ]
  },
  {
   "cell_type": "code",
   "execution_count": null,
   "metadata": {
    "collapsed": false
   },
   "outputs": [],
   "source": [
    "fig = plt.figure(figsize=(4,3))\n",
    "fig.suptitle('Users, Customers & Attackers', fontsize=14)\n",
    "\n",
    "ax = plt.subplot2grid((1,1), (0,0))\n",
    "\n",
    "venn=venn3(ax=ax,subsets = {'001':len(attackers_set)-len(intersec_customers_attacker)-len(intersec_users_attackers)+len(intersec_users_customers_attackers), \n",
    "                            '010':len(customers_set)-len(intersec_users_customers)-len(intersec_customers_attacker)+len(intersec_users_customers_attackers), \n",
    "                            '011':len(intersec_customers_attacker)-len(intersec_users_customers_attackers),\n",
    "                            '100':len(users_set)-len(intersec_users_customers)-len(intersec_users_attackers)+len(intersec_users_customers_attackers),\n",
    "                            '101':len(intersec_users_attackers)-len(intersec_users_customers_attackers),\n",
    "                            '110':len(intersec_users_customers)-len(intersec_users_customers_attackers),\n",
    "                            '111':len(intersec_users_customers_attackers)},\\\n",
    "          set_labels = ('Users', 'Customers','Attackers'),\\\n",
    "          alpha=1)\n",
    "try:\n",
    "    venn.get_patch_by_id('100').set_color('#404096')\n",
    "except:\n",
    "    print(\"*Users set is empty!\")  \n",
    "    \n",
    "try:\n",
    "    venn.get_patch_by_id('110').set_color('#DEA73A')\n",
    "except:\n",
    "    print(\"*Customers set is empty!\")   \n",
    "\n",
    "try:\n",
    "    venn.get_patch_by_id('001').set_color('#D92120')\n",
    "except:\n",
    "    print(\"*Attackers set is empty!\")\n",
    "\n",
    "fig.show()\n",
    "# fig.savefig('../figs/timeseries_attacks.eps', format='eps', dpi=1200) "
   ]
  },
  {
   "cell_type": "markdown",
   "metadata": {},
   "source": [
    "## A.3. Distribution of login times per user"
   ]
  },
  {
   "cell_type": "code",
   "execution_count": null,
   "metadata": {
    "collapsed": false
   },
   "outputs": [],
   "source": [
    "if len(df_logins['userid'].value_counts()) > 0:\n",
    "    num_distinct_logins_per_user=df_logins['userid'].value_counts()\n",
    "else:\n",
    "    num_distinct_logins_per_user=df_logins['username'].value_counts()\n",
    "\n",
    "freq_distinct_logins_per_user=num_distinct_logins_per_user.value_counts()\n",
    "cum_dist_user_logins = np.linspace(0.,1.,len(num_distinct_logins_per_user))\n",
    "cdf_user_logins = pd.Series(cum_dist_user_logins, index=num_distinct_logins_per_user.sort_values())"
   ]
  },
  {
   "cell_type": "code",
   "execution_count": null,
   "metadata": {
    "collapsed": false
   },
   "outputs": [],
   "source": [
    "if len(num_distinct_logins_per_user)>0:\n",
    "    fig = plt.figure(figsize=(6, 3))\n",
    "    fig.suptitle('* Distribution of Login Times by Users:', fontsize=14, y=1.05,x=0.35)\n",
    "    \n",
    "    #Plot CDF\n",
    "    ax1 = plt.subplot2grid((1,2), (0,0))\n",
    "    ax1 = cdf_user_logins.plot(ax=ax1,lw=2, drawstyle='steps',legend=False)\n",
    "    ax1.set_xlabel(\"# logins\")\n",
    "    ax1.set_ylabel(\"CDF of Users\")\n",
    "    ax1.set_ylim(0,1.05)\n",
    "    ax1.set_title(\"\")\n",
    "    plt.setp(ax1.xaxis.get_majorticklabels(), rotation=45)\n",
    "\n",
    "    \n",
    "    ax2 = plt.subplot2grid((1,2), (0,1))\n",
    "    freq_distinct_logins_per_user.plot(ax=ax2,kind='pie', \n",
    "                                       labels=None, \n",
    "                                       legend=False,\n",
    "                                       startangle=270,\n",
    "#                                        colors=sns.color_palette()\n",
    "                                       )\n",
    "    ax2.set_ylabel(\"\")\n",
    "    \n",
    "    \n",
    "    \n",
    "    ####\n",
    "    # For Pie Chart Better Legend box\n",
    "    porcent = (100.*freq_distinct_logins_per_user.values)/(freq_distinct_logins_per_user.values.sum())\n",
    "    labels = ['{0} - {1:1.2f} %'.\\\n",
    "              format(i,j) for i,j in zip(freq_distinct_logins_per_user.index, porcent)]\n",
    "    # To Sort Legend (defaulf: keeps the same order)\n",
    "#     patches, labels, dummy =  zip(*sorted(zip(patches, labels, freq_distinct_logins_per_user.values),\n",
    "#                                           key=lambda x: x[2],\n",
    "#                                           reverse=True))\n",
    "    legend_show_top=10\n",
    "    ax2.legend(ax2.patches[0:legend_show_top], \n",
    "               labels[0:legend_show_top], \n",
    "               bbox_to_anchor=(1.5, 1.),\n",
    "               fontsize=10)\n",
    "    ####\n",
    "    \n",
    "    fig.tight_layout()\n",
    "    fig.show()\n",
    "    fig.savefig('figs/login_times.eps', bbox_inches='tight',format='eps', dpi=1200)\n",
    "else:\n",
    "    print(\"Unfortunately, there is no data available!\")\n"
   ]
  },
  {
   "cell_type": "markdown",
   "metadata": {},
   "source": [
    "## 5.3. Number of Users that Login via TOR"
   ]
  },
  {
   "cell_type": "code",
   "execution_count": null,
   "metadata": {
    "collapsed": false
   },
   "outputs": [],
   "source": [
    "len(df_logins_torcheck[df_logins_torcheck['tor']==True]['userip'].value_counts())"
   ]
  },
  {
   "cell_type": "markdown",
   "metadata": {},
   "source": [
    "## 5.4. Number of Distinct IP addresses by Users"
   ]
  },
  {
   "cell_type": "code",
   "execution_count": null,
   "metadata": {
    "collapsed": false
   },
   "outputs": [],
   "source": [
    "if len(df_logins.groupby(['userid','userip']).size().reset_index()['userid'].value_counts()) >0:\n",
    "    num_distinct_ips_per_user=df_logins.groupby(['userid','userip']).size().reset_index()['userid'].value_counts()\n",
    "else:\n",
    "    num_distinct_ips_per_user=df_logins.groupby(['username','userip']).size().reset_index()['username'].value_counts()\n",
    "    \n",
    "freq_distinct_ips_per_user=num_distinct_ips_per_user.value_counts()\n",
    "cum_dist_user_ips = np.linspace(0.,1.,len(num_distinct_ips_per_user))\n",
    "cdf_user_ips = pd.Series(cum_dist_user_ips, index=num_distinct_ips_per_user.sort_values())"
   ]
  },
  {
   "cell_type": "code",
   "execution_count": null,
   "metadata": {
    "collapsed": false
   },
   "outputs": [],
   "source": [
    "if len(num_distinct_ips_per_user)>0:\n",
    "    fig = plt.figure(figsize=(6, 3))\n",
    "    fig.suptitle('* Distribution of Distinct IP address used by Users:', fontsize=14, y=1.05, x=0.4)\n",
    "\n",
    "    ax1 = plt.subplot2grid((1,2), (0,0))\n",
    "    ax1 = cdf_user_ips.plot( ax=ax1,lw=2, drawstyle='steps',legend=False)\n",
    "    ax1.set_xlabel(\"# IPs\")\n",
    "    ax1.set_ylabel(\"CDF of Users\")\n",
    "    ax1.set_ylim(0,1.05)\n",
    "    plt.setp(ax1.xaxis.get_majorticklabels(), rotation=45)\n",
    "    \n",
    "    ax2 = plt.subplot2grid((1,2), (0,1))\n",
    "    freq_distinct_ips_per_user.plot(ax=ax2,kind='pie',\n",
    "                                    labels=None,legend=False,\n",
    "                                       startangle=270,\n",
    "#                                        colors=sns.color_palette()\n",
    "                                       )\n",
    "    ax2.set_ylabel(\"\")\n",
    "    ####\n",
    "    # For Pie Chart Better Legend box\n",
    "    porcent = (100.*freq_distinct_ips_per_user.values)/(freq_distinct_ips_per_user.values.sum())\n",
    "    labels = ['{0} - {1:1.2f} %'.\\\n",
    "              format(i,j) for i,j in zip(freq_distinct_ips_per_user.index, porcent)]\n",
    "    # To Sort Legend (defaulf: keeps the same order)\n",
    "#     patches, labels, dummy =  zip(*sorted(zip(patches, labels, freq_distinct_logins_per_user.values),\n",
    "#                                           key=lambda x: x[2],\n",
    "#                                           reverse=True))\n",
    "    legend_show_top=10\n",
    "    ax2.legend(ax2.patches[0:legend_show_top], \n",
    "               labels[0:legend_show_top], \n",
    "               bbox_to_anchor=(1.5, 1.),\n",
    "               fontsize=10)\n",
    "    ####\n",
    "    \n",
    "    fig.tight_layout()\n",
    "    fig.show()\n",
    "    fig.savefig('figs/num_ips_by_users.eps', bbox_inches='tight',format='eps', dpi=1200)\n",
    "else:\n",
    "    print(\"Unfortunately, there is no data available!\")\n"
   ]
  },
  {
   "cell_type": "markdown",
   "metadata": {},
   "source": [
    "## 5.5. Number of Payments by Users"
   ]
  },
  {
   "cell_type": "code",
   "execution_count": null,
   "metadata": {
    "collapsed": false
   },
   "outputs": [],
   "source": [
    "if len(df_payments['userid'].value_counts())>0:\n",
    "    num_distinct_payments_per_user=df_payments['userid'].value_counts()\n",
    "else:\n",
    "    num_distinct_payments_per_user=df_payments['username'].value_counts()\n",
    "\n",
    "freq_distinct_payments_per_user=num_distinct_payments_per_user.value_counts()\n",
    "cum_dist_user_payments = np.linspace(0.,1.,len(num_distinct_payments_per_user))\n",
    "cdf_user_payments = pd.Series(cum_dist_user_payments, index=num_distinct_payments_per_user.sort_values())"
   ]
  },
  {
   "cell_type": "code",
   "execution_count": null,
   "metadata": {
    "collapsed": false
   },
   "outputs": [],
   "source": [
    "if len(num_distinct_payments_per_user)>0:\n",
    "    fig = plt.figure(figsize=(6, 3))\n",
    "    fig.suptitle('* Distribution of Number of Payments by Users:', fontsize=14, y=1.05, x=0.4)\n",
    "\n",
    "    ax1 = plt.subplot2grid((1,2), (0,0))\n",
    "    ax1 = cdf_user_payments.plot( ax=ax1,lw=2, drawstyle='steps',legend=False)\n",
    "    ax1.set_xlabel(\"# Payment\")\n",
    "    ax1.set_ylabel(\"CDF of Users\")\n",
    "    ax1.set_ylim(0,1.05)\n",
    "    plt.setp(ax1.xaxis.get_majorticklabels(), rotation=45)\n",
    "    \n",
    "    ax2 = plt.subplot2grid((1,2), (0,1))\n",
    "    freq_distinct_payments_per_user.plot(ax=ax2,kind='pie', \n",
    "                                         labels=None,legend=False,\n",
    "                                         startangle=270)\n",
    "    ax2.set_ylabel(\"\")\n",
    "    ####\n",
    "    # For Pie Chart Better Legend box\n",
    "    porcent = (100.*freq_distinct_payments_per_user.values)/(freq_distinct_payments_per_user.values.sum())\n",
    "    labels = ['{0} - {1:1.2f} %'.\\\n",
    "              format(i,j) for i,j in zip(freq_distinct_payments_per_user.index, porcent)]\n",
    "    # To Sort Legend (defaulf: keeps the same order)\n",
    "#     patches, labels, dummy =  zip(*sorted(zip(patches, labels, freq_distinct_logins_per_user.values),\n",
    "#                                           key=lambda x: x[2],\n",
    "#                                           reverse=True))\n",
    "    legend_show_top=10\n",
    "    ax2.legend(ax2.patches[0:legend_show_top], \n",
    "               labels[0:legend_show_top], \n",
    "               bbox_to_anchor=(1.55, 1.),\n",
    "               fontsize=10)\n",
    "    ####\n",
    "    fig.tight_layout()\n",
    "    fig.show()\n",
    "    fig.savefig('figs/payments_distribution.eps', bbox_inches='tight',format='eps', dpi=1200)\n",
    "else:\n",
    "    print(\"Unfortunately, there is no data available!\")\n"
   ]
  },
  {
   "cell_type": "markdown",
   "metadata": {},
   "source": [
    "## 5.6. Total Amount of Money Earned"
   ]
  },
  {
   "cell_type": "code",
   "execution_count": null,
   "metadata": {
    "collapsed": false
   },
   "outputs": [],
   "source": [
    "if len(df_payments['amountpaid']) >0:\n",
    "    total_earned=df_payments['amountpaid'].values.sum()\n",
    "    'US$ {:,.2f}'.format(float(total_earned))\n",
    "else:\n",
    "    print(\"Unfortunately, there is no data available!\")"
   ]
  },
  {
   "cell_type": "markdown",
   "metadata": {},
   "source": [
    "## 5.7. Amount of Money Paid by Users"
   ]
  },
  {
   "cell_type": "code",
   "execution_count": null,
   "metadata": {
    "collapsed": true
   },
   "outputs": [],
   "source": [
    "num_distinct_payments_money_per_user=df_payments['amountpaid'].value_counts()\n",
    "freq_distinct_payments_money_per_user=num_distinct_payments_money_per_user.value_counts()\n",
    "cum_dist_user_payments_money = np.linspace(0.,1.,len(num_distinct_payments_money_per_user))\n",
    "cdf_user_payments_money = pd.Series(cum_dist_user_payments_money, index=num_distinct_payments_money_per_user.sort_values())"
   ]
  },
  {
   "cell_type": "code",
   "execution_count": null,
   "metadata": {
    "collapsed": false
   },
   "outputs": [],
   "source": [
    "if len(num_distinct_payments_money_per_user)>0:\n",
    "    fig = plt.figure(figsize=(6, 3))\n",
    "    fig.suptitle('* Distribution of Money Payments by Users:', fontsize=14, y=1.05, x=0.4)\n",
    "\n",
    "    ax1 = plt.subplot2grid((1,2), (0,0))\n",
    "    ax1 = cdf_user_payments_money.plot( ax=ax1,lw=2, drawstyle='steps',legend=False)\n",
    "    ax1.set_xlabel(\"$\")\n",
    "    ax1.set_ylabel(\"CDF of Users\")\n",
    "    ax1.set_ylim(0,1.05)\n",
    "    plt.setp(ax1.xaxis.get_majorticklabels(), rotation=45)\n",
    "\n",
    "    ax2 = plt.subplot2grid((1,2), (0,1))\n",
    "    freq_distinct_payments_money_per_user.plot(ax=ax2,kind='pie', \n",
    "                                               labels=None,legend=False,\n",
    "                                               startangle=270)\n",
    "    ax2.set_ylabel(\"\")\n",
    "    ####\n",
    "    # For Pie Chart Better Legend box\n",
    "    porcent = (100.*freq_distinct_payments_money_per_user.values)/(freq_distinct_payments_money_per_user.values.sum())\n",
    "    labels = ['${0:1.2f} - {1:1.2f} %'.\\\n",
    "              format(i,j) for i,j in zip(freq_distinct_payments_money_per_user.index, porcent)]\n",
    "    # To Sort Legend (defaulf: keeps the same order)\n",
    "#     patches, labels, dummy =  zip(*sorted(zip(patches, labels, freq_distinct_logins_per_user.values),\n",
    "#                                           key=lambda x: x[2],\n",
    "#                                           reverse=True))\n",
    "    legend_show_top=10\n",
    "    ax2.legend(ax2.patches[0:legend_show_top], \n",
    "               labels[0:legend_show_top], \n",
    "               bbox_to_anchor=(1.6, 1.),\n",
    "               fontsize=10)\n",
    "    ####\n",
    "    fig.tight_layout()\n",
    "    fig.show()\n",
    "    fig.savefig('figs/distribution_amount_paid.eps', bbox_inches='tight',format='eps', dpi=1200)\n",
    "else:\n",
    "    print(\"Unfortunately, there is no data available!\")\n"
   ]
  },
  {
   "cell_type": "markdown",
   "metadata": {
    "collapsed": false
   },
   "source": [
    "## 5.8. Countries from where Users Access Booters"
   ]
  },
  {
   "cell_type": "code",
   "execution_count": null,
   "metadata": {
    "collapsed": true
   },
   "outputs": [],
   "source": [
    "logins_country_distribution_sorted = df_logins_iptoasn['country'].value_counts(sort=True,ascending=True)\n",
    "logins_country_distribution = df_logins_iptoasn['country'].value_counts()"
   ]
  },
  {
   "cell_type": "code",
   "execution_count": null,
   "metadata": {
    "collapsed": false
   },
   "outputs": [],
   "source": [
    "if len(logins_country_distribution)>0:\n",
    "    fig = plt.figure(figsize=(6, 3))\n",
    "    fig.suptitle('* Users Accessing from Countries:', fontsize=14, y=1.05, x=0.28)\n",
    "\n",
    "    ax1 = plt.subplot2grid((1,2), (0,0))\n",
    "    logins_country_distribution_sorted.plot(ax=ax1,kind='barh')\n",
    "    ax1.set_ylabel(\"# access\")\n",
    "    ax1.set_xlabel(\"Country\")\n",
    "    plt.setp(ax1.xaxis.get_majorticklabels(), rotation=45)\n",
    "\n",
    "    ax2 = plt.subplot2grid((1,2), (0,1))\n",
    "    logins_country_distribution.plot(ax=ax2,kind='pie', \n",
    "                                     labels=None,legend=False,\n",
    "                                     startangle=270)\n",
    "    ax2.set_ylabel(\"\")\n",
    "    ####\n",
    "    # For Pie Chart Better Legend box\n",
    "    porcent = (100.*logins_country_distribution.values)/(logins_country_distribution.values.sum())\n",
    "    labels = ['{0} - {1:1.2f} %'.\\\n",
    "              format(i,j) for i,j in zip(logins_country_distribution.index, porcent)]\n",
    "    # To Sort Legend (defaulf: keeps the same order)\n",
    "#     patches, labels, dummy =  zip(*sorted(zip(patches, labels, freq_distinct_logins_per_user.values),\n",
    "#                                           key=lambda x: x[2],\n",
    "#                                           reverse=True))\n",
    "    legend_show_top=10\n",
    "    ax2.legend(ax2.patches[0:legend_show_top], \n",
    "               labels[0:legend_show_top], \n",
    "               bbox_to_anchor=(1.55, 1.),\n",
    "               fontsize=10)\n",
    "    ####\n",
    "    fig.tight_layout()\n",
    "    fig.show()\n",
    "    fig.savefig('figs/user_countries.eps', bbox_inches='tight',format='eps', dpi=1200)\n",
    "else:\n",
    "    print(\"Unfortunately, there is no data available!\")"
   ]
  },
  {
   "cell_type": "markdown",
   "metadata": {},
   "source": [
    "## 5.9. Countries of Blacklisted IPs"
   ]
  },
  {
   "cell_type": "code",
   "execution_count": null,
   "metadata": {
    "collapsed": true
   },
   "outputs": [],
   "source": [
    "blacklist_country_distribution=df_blacklist_iptoasn['country'].value_counts()\n",
    "blacklist_country_distribution_sorted=df_blacklist_iptoasn['country'].value_counts(sort=True,ascending=True)"
   ]
  },
  {
   "cell_type": "code",
   "execution_count": null,
   "metadata": {
    "collapsed": false
   },
   "outputs": [],
   "source": [
    "if len(blacklist_country_distribution)>0:\n",
    "    fig = plt.figure(figsize=(6, 3))\n",
    "    fig.suptitle('* Countries of blacklisted IPs', fontsize=14, y=1.05, x=0.28)\n",
    "\n",
    "    ax1 = plt.subplot2grid((1,2), (0,0))\n",
    "    blacklist_country_distribution_sorted.plot(ax=ax1,kind='barh')\n",
    "    ax1.set_ylabel(\"# Access\")\n",
    "    ax1.set_xlabel(\"Country\")\n",
    "    plt.setp(ax1.xaxis.get_majorticklabels(), rotation=45)\n",
    "\n",
    "    ax2 = plt.subplot2grid((1,2), (0,1))\n",
    "    blacklist_country_distribution.plot(ax=ax2,kind='pie', \n",
    "                                        labels=None,legend=False,\n",
    "                                        startangle=270)\n",
    "    ax2.set_ylabel(\"\")\n",
    "    ####\n",
    "    # For Pie Chart Better Legend box\n",
    "    porcent = (100.*blacklist_country_distribution.values)/(logins_country_distribution.values.sum())\n",
    "    labels = ['{0} - {1:1.2f} %'.\\\n",
    "              format(i,j) for i,j in zip(blacklist_country_distribution.index, porcent)]\n",
    "    # To Sort Legend (defaulf: keeps the same order)\n",
    "#     patches, labels, dummy =  zip(*sorted(zip(patches, labels, freq_distinct_logins_per_user.values),\n",
    "#                                           key=lambda x: x[2],\n",
    "#                                           reverse=True))\n",
    "    legend_show_top=10\n",
    "    ax2.legend(ax2.patches[0:legend_show_top], \n",
    "               labels[0:legend_show_top], \n",
    "               bbox_to_anchor=(1.55, 1.),\n",
    "               fontsize=10)\n",
    "    ####\n",
    "    fig.tight_layout()\n",
    "    fig.show()\n",
    "    fig.savefig('figs/blacklist_countries.eps', bbox_inches='tight',format='eps', dpi=1200)\n",
    "else:\n",
    "    print(\"Unfortunately, there is no data available!\")"
   ]
  },
  {
   "cell_type": "markdown",
   "metadata": {},
   "source": [
    "## 5.10. Countries of Target IPs"
   ]
  },
  {
   "cell_type": "code",
   "execution_count": null,
   "metadata": {
    "collapsed": true
   },
   "outputs": [],
   "source": [
    "attacks_country_distribution=df_attacks_iptoasn['country'].value_counts()"
   ]
  },
  {
   "cell_type": "code",
   "execution_count": null,
   "metadata": {
    "collapsed": false
   },
   "outputs": [],
   "source": [
    "if len(attacks_country_distribution)>0:\n",
    "    fig = plt.figure(figsize=(6, 3))\n",
    "    fig.suptitle('* Countries of target IPs', fontsize=14, y=1.05, x=0.28)\n",
    "\n",
    "    ax1 = plt.subplot2grid((1,2), (0,0))\n",
    "    attacks_country_distribution.plot(ax=ax1,kind='bar')\n",
    "    ax1.set_ylabel(\"# Access\")\n",
    "    ax1.set_xlabel(\"Country\")\n",
    "    plt.setp(ax1.xaxis.get_majorticklabels(), rotation=45)\n",
    "\n",
    "    ax2 = plt.subplot2grid((1,2), (0,1))\n",
    "    attacks_country_distribution.plot(ax=ax2,kind='pie', \n",
    "                                      labels=None,legend=False,\n",
    "                                      startangle=270)\n",
    "    ax2.set_ylabel(\"\")\n",
    "    ####\n",
    "    # For Pie Chart Better Legend box\n",
    "    porcent = (100.*attacks_country_distribution.values)/(attacks_country_distribution.values.sum())\n",
    "    labels = ['{0} - {1:1.2f} %'.\\\n",
    "              format(i,j) for i,j in zip(attacks_country_distribution.index, porcent)]\n",
    "    # To Sort Legend (defaulf: keeps the same order)\n",
    "#     patches, labels, dummy =  zip(*sorted(zip(patches, labels, freq_distinct_logins_per_user.values),\n",
    "#                                           key=lambda x: x[2],\n",
    "#                                           reverse=True))\n",
    "    legend_show_top=10\n",
    "    ax2.legend(ax2.patches[0:legend_show_top], \n",
    "               labels[0:legend_show_top], \n",
    "               bbox_to_anchor=(1.55, 1.),\n",
    "               fontsize=10)\n",
    "    ####\n",
    "    fig.tight_layout()\n",
    "    fig.show()\n",
    "    fig.savefig('figs/attack_countries_distribution.eps',bbox_inches='tight', format='eps', dpi=1200) \n",
    "else:\n",
    "    print(\"Unfortunately, there is no data available!\")"
   ]
  },
  {
   "cell_type": "markdown",
   "metadata": {},
   "source": [
    "## 5.12. Attacks on Same Target"
   ]
  },
  {
   "cell_type": "code",
   "execution_count": null,
   "metadata": {
    "collapsed": true
   },
   "outputs": [],
   "source": [
    "num_attacks_on_sametarget=df_attacks['targetip'].value_counts()\n",
    "\n",
    "freq_num_attacks_on_sametarget=num_attacks_on_sametarget.value_counts()\n",
    "cum_num_attacks_on_sametarget = np.linspace(0.,1.,len(num_attacks_on_sametarget))\n",
    "cdf_num_attacks_on_sametarget = pd.Series(cum_num_attacks_on_sametarget, index=num_attacks_on_sametarget.sort_values())"
   ]
  },
  {
   "cell_type": "code",
   "execution_count": null,
   "metadata": {
    "collapsed": false
   },
   "outputs": [],
   "source": [
    "if len(num_attacks_on_sametarget)>0:\n",
    "    fig = plt.figure(figsize=(6, 3))\n",
    "    fig.suptitle('* Attacks on Same Targets:', fontsize=14, y=1.05,x=0.28)\n",
    "\n",
    "    ax1 = plt.subplot2grid((1,2), (0,0))\n",
    "    ax1 = cdf_num_attacks_on_sametarget.plot( ax=ax1,lw=2, drawstyle='steps',legend=False)\n",
    "    ax1.set_xlabel(\"# IPs\")\n",
    "    ax1.set_ylabel(\"CDF of Users\")\n",
    "    ax1.set_ylim(0,1.05)\n",
    "    plt.setp(ax1.xaxis.get_majorticklabels(), rotation=45)\n",
    "\n",
    "    ax2 = plt.subplot2grid((1,2), (0,1))\n",
    "    freq_num_attacks_on_sametarget.plot(ax=ax2,kind='pie',\n",
    "                                        labels=None,legend=False,\n",
    "                                        startangle=270)\n",
    "    ax2.set_ylabel(\"\")\n",
    "    ####\n",
    "    # For Pie Chart Better Legend box\n",
    "    porcent = (100.*freq_num_attacks_on_sametarget.values)/(freq_num_attacks_on_sametarget.values.sum())\n",
    "    labels = ['{0} - {1:1.2f} %'.\\\n",
    "              format(i,j) for i,j in zip(freq_num_attacks_on_sametarget.index, porcent)]\n",
    "    # To Sort Legend (defaulf: keeps the same order)\n",
    "#     patches, labels, dummy =  zip(*sorted(zip(patches, labels, freq_distinct_logins_per_user.values),\n",
    "#                                           key=lambda x: x[2],\n",
    "#                                           reverse=True))\n",
    "    legend_show_top=10\n",
    "    ax2.legend(ax2.patches[0:legend_show_top], \n",
    "               labels[0:legend_show_top], \n",
    "               bbox_to_anchor=(1.55, 1.),\n",
    "               fontsize=10)\n",
    "    ####\n",
    "    fig.tight_layout()\n",
    "\n",
    "    fig.show()\n",
    "    fig.savefig('figs/attacks_on_same_target.eps', bbox_inches='tight',format='eps', dpi=1200)\n",
    "else:\n",
    "    print(\"Unfortunately, there is no data available!\")"
   ]
  },
  {
   "cell_type": "markdown",
   "metadata": {},
   "source": [
    "## 5.11. Attacks per day (timeseries) "
   ]
  },
  {
   "cell_type": "code",
   "execution_count": null,
   "metadata": {
    "collapsed": false
   },
   "outputs": [],
   "source": [
    "if len(df_attacks)>0:\n",
    "    attack_timeseries=df_attacks.set_index(['date']).groupby(pd.TimeGrouper(freq='D')).agg(['count'])['action']\n",
    "    attack_mean_perday=attack_timeseries.mean()\n",
    "    attack_median_perday=attack_timeseries.median()\n",
    "else:\n",
    "    attack_timeseries=\"\""
   ]
  },
  {
   "cell_type": "code",
   "execution_count": null,
   "metadata": {
    "collapsed": false
   },
   "outputs": [],
   "source": [
    "if len(attack_timeseries)>0:\n",
    "    fig = plt.figure(figsize=(6,3))\n",
    "\n",
    "    ax1 = plt.subplot2grid((1,1), (0,0), rowspan=2)\n",
    "    attack_timeseries.plot(ax=ax1,\n",
    "                           lw=2,\n",
    "                           legend=False,\n",
    "    #                        style='--'\n",
    "                          )\n",
    "\n",
    "    # X and Y Labels and Ticks\n",
    "    ax1.set_xlabel(\"Time (bin=day)\")\n",
    "    ax1.set_ylabel(\"# Attacks\")\n",
    "\n",
    "    ax1.annotate(str(int(attack_median_perday[0]))+' (median)', \n",
    "                 (min(df_attacks['date']), attack_median_perday),\n",
    "                 xytext=(350, -1), \n",
    "                 textcoords='offset points',\n",
    "                 color='black', \n",
    "                 arrowprops=dict(arrowstyle='-|>',\n",
    "                                 color='black'))\n",
    "    fig.savefig('figs/attacks_timeseries.eps', bbox_inches='tight',format='eps', dpi=1200)\n",
    "\n",
    "else:\n",
    "    print(\"Unfortunately, there is no data available!\")"
   ]
  },
  {
   "cell_type": "markdown",
   "metadata": {},
   "source": [
    "## 5.12. Time Between Logins and Attacks"
   ]
  },
  {
   "cell_type": "code",
   "execution_count": null,
   "metadata": {
    "collapsed": false
   },
   "outputs": [],
   "source": [
    "if len(df_attacks_and_logins)>0:\n",
    "    print(\"redo\")\n",
    "else:\n",
    "    print(\"Unfortunately, there is no data available!\")"
   ]
  },
  {
   "cell_type": "markdown",
   "metadata": {},
   "source": [
    "## 5.13. Who attack whom? (users on the country level)"
   ]
  },
  {
   "cell_type": "code",
   "execution_count": null,
   "metadata": {
    "collapsed": false
   },
   "outputs": [],
   "source": [
    "if len(df_attacks_extended)>0 and len(df_logins_extended)>0:\n",
    "    merged_attacks_logins = pd.merge(df_attacks_extended,\n",
    "                                  df_logins_extended,\n",
    "                                  how = 'left',\n",
    "                                  left_on = 'date',\n",
    "                                  right_on = 'date')[['targetcountry','srccountry']]\n",
    "\n",
    "    who_against_whom = merged_attacks_logins.groupby(['targetcountry','srccountry'])\\\n",
    "                            .size()\\\n",
    "                            .reset_index()\\\n",
    "                            .pivot('srccountry','targetcountry',0)\n",
    "else:\n",
    "    who_against_whom =\"\""
   ]
  },
  {
   "cell_type": "code",
   "execution_count": null,
   "metadata": {
    "collapsed": false
   },
   "outputs": [],
   "source": [
    "if len(who_against_whom)>0:\n",
    "    fig = plt.figure(figsize=(8,12))\n",
    "    fig.suptitle('Countries of Target IPs', fontsize=14, y=.92)\n",
    "\n",
    "    ax1 = plt.subplot2grid((1,1), (0,0))\n",
    "    sns.set()\n",
    "    sns.heatmap(who_against_whom,\n",
    "                ax=ax1,\n",
    "#                 cmap=\"YlGnBu\",\n",
    "    #             linewidths=.5,\n",
    "    #             annot=True\n",
    "                )\n",
    "\n",
    "    ax1.set_ylabel(\"Source Country\")\n",
    "    ax1.set_xlabel(\"Attack Target Country\")\n",
    "\n",
    "    fig.show()\n",
    "    fig.savefig('figs/who_attack_whom.eps', bbox_inches='tight',format='eps', dpi=1200)\n",
    "else:\n",
    "    print(\"Unfortunately, there is no data available!\")"
   ]
  },
  {
   "cell_type": "markdown",
   "metadata": {},
   "source": [
    "<h1 align=\"center\">!!!!!!!!!!!!!!!!!!!!!!!!!!!!!!!!!!!!!!!!!!!!!!!!!!!!!!!!!!!!!!!!!!!!!!!!!!!!!!!!!!!!!!!!!!!!!!!!!!!!!!!!!!!!!!!!!!!!!!!!!!!!!!!!!<br>\n",
    "FIFTH PART: Query Interface<br>\n",
    "!!!!!!!!!!!!!!!!!!!!!!!!!!!!!!!!!!!!!!!!!!!!!!!!!!!!!!!!!!!!!!!!!!!!!!!!!!!!!!!!!!!!!!!!!!!!!!!!!!!!!!!!!!!!!!!!!!!!!!!!!!!!!!!</h1> "
   ]
  },
  {
   "cell_type": "code",
   "execution_count": null,
   "metadata": {
    "collapsed": true
   },
   "outputs": [],
   "source": [
    "from ipywidgets import widgets, interact, Dropdown,HTML\n",
    "from IPython.display import display,clear_output"
   ]
  },
  {
   "cell_type": "code",
   "execution_count": null,
   "metadata": {
    "collapsed": false
   },
   "outputs": [],
   "source": [
    "def search_by_userid_submit(sender):\n",
    "    clear_output()\n",
    "    print(\"Searching by id =\",search_by_userid.value)\n",
    "    \n",
    "    if len(df_users[df_users['userid']== int(search_by_userid.value)])>0:\n",
    "        display(df_users[df_logins['userid']== int(search_by_userid.value)])\n",
    "    \n",
    "    if len(df_logins_extended[df_logins_extended['userid']== int(search_by_userid.value)])>0:\n",
    "        display(df_logins_extended[df_logins_extended['userid']== int(search_by_userid.value)])\n",
    "    \n",
    "    if len(df_attacks_extended[df_attacks_extended['userid']== int(search_by_userid.value)])>0:\n",
    "        display(df_attacks_extended[df_attacks_extended['userid']== int(search_by_userid.value)])\n",
    "    \n",
    "    if len(df_payments[df_payments['userid']== int(search_by_userid.value)])>0:\n",
    "        display(df_payments[df_payments['userid']== int(search_by_userid.value)])\n",
    "\n",
    "def search_by_username_submit(sender):\n",
    "    clear_output()\n",
    "    print(\"Searching by username =\",search_by_username.value,\"\\n\")\n",
    "    \n",
    "    if len(df_users[df_users['username']== search_by_username.value])>0:\n",
    "        print(\"Table df_users:\")\n",
    "        display(df_users[df_users['username']== search_by_username.value])\n",
    "    \n",
    "    if len(df_logins_extended[df_logins_extended['username']== search_by_username.value])>0:\n",
    "        print(\"Table df_logins:\")\n",
    "        display(df_logins_extended[df_logins_extended['username']== search_by_username.value])\n",
    "\n",
    "    if len(df_attacks_extended[df_attacks_extended['username']== search_by_username.value])>0:\n",
    "        print(\"Table df_attacks:\")\n",
    "        display(df_attacks_extended[df_attacks_extended['username']== search_by_username.value])\n",
    "    \n",
    "    if len(df_payments[df_payments['username']== search_by_username.value])>0:\n",
    "        print(\"Table df_payments:\")\n",
    "        display(df_payments[df_payments['username']== search_by_username.value])\n",
    "        \n",
    "def search_by_ip_submit(sender):\n",
    "    clear_output()\n",
    "    print(\"Searching by IP address =\",str(search_by_ip.value),\"\\n\")\n",
    "    \n",
    "    if len(df_logins_extended[df_logins_extended['userip']== str(search_by_ip.value)])>0:\n",
    "        print(\"Table df_logins (as ATTACKER:\")\n",
    "        display(df_logins_extended[df_logins_extended['userip']== str(search_by_ip.value)])\n",
    "     \n",
    "    if len(df_attacks_extended[df_attacks_extended['targetip']== str(search_by_ip.value)])>0:\n",
    "        print(\"Table df_attacks (as TARGET):\")\n",
    "        display(df_attacks_extended[df_attacks_extended['targetip']== str(search_by_ip.value)])  \n",
    "      \n",
    "       \n",
    "def search_by_asn_submit(sender):\n",
    "    clear_output()\n",
    "    print(\"Searching by Autonomous System Number (ASN) =\",search_by_asn.value,\"\\n\")\n",
    "    \n",
    "    if len(df_logins_extended[df_logins_extended['srcasn']== int(search_by_asn.value)])>0:\n",
    "        print(\"Table df_logins (as ATTACKER):\")\n",
    "        display(df_logins_extended[df_logins_extended['srcasn']== int(search_by_asn.value)])\n",
    "    \n",
    "    if len(df_attacks_extended[df_attacks_extended['targetasn']== str(search_by_asn.value)])>0:\n",
    "        print(\"Table df_attacks (as TARGET):\")\n",
    "        display(df_attacks_extended[df_attacks_extended['targetasn']== str(search_by_asn.value)])\n",
    "\n",
    "    if len(df_attacks_extended[df_attacks_extended['targetasn']== str(search_by_asn.value)])>0:\n",
    "        print(\"Table df_attacks (as TARGET):\")\n",
    "        display(df_attacks_extended[df_attacks_extended['targetasn']== str(search_by_asn.value)])\n",
    "\n",
    "        \n",
    "country_list=pd.read_csv('https://raw.githubusercontent.com/datasets/country-list/master/data.csv',delimiter=\",\",error_bad_lines=False)\n",
    "def search_by_country_submit():\n",
    "    country_code=country_list[country_list['Name']==search_by_country.value]['Code'].values[0]\n",
    "    clear_output()\n",
    "    print(\"Searching by Country =\",search_by_country.value,\"\\n\")\n",
    "    \n",
    "    if len(df_logins_extended[df_logins_extended['srccountry']== country_code])>0:\n",
    "        print(\"Table df_logins (as ATTACKER):\")\n",
    "        display(df_logins_extended[df_logins_extended['srccountry']== country_code])\n",
    "    \n",
    "    if len(df_attacks_extended[df_attacks_extended['targetcountry']== country_code])>0:\n",
    "        print(\"Table df_attacks (as TARGET):\")\n",
    "        display(df_attacks_extended[df_attacks_extended['targetcountry']== country_code])\n",
    "    "
   ]
  },
  {
   "cell_type": "code",
   "execution_count": null,
   "metadata": {
    "collapsed": false
   },
   "outputs": [],
   "source": [
    "display(HTML('<h3>*Search by (only) one field per time:</h3>'))\n",
    "\n",
    "search_by_username = widgets.Text(description=\"username\")\n",
    "display(search_by_username)\n",
    "search_by_username.on_submit(search_by_username_submit)\n",
    "\n",
    "search_by_userid = widgets.Text(description=\"userid\")\n",
    "display(search_by_userid)\n",
    "search_by_userid.on_submit(search_by_userid_submit)\n",
    "\n",
    "search_by_ip = widgets.Text(description=\"IP\")\n",
    "display(search_by_ip)\n",
    "search_by_ip.on_submit(search_by_ip_submit)\n",
    "\n",
    "search_by_asn = widgets.Text(description=\"ASN\")\n",
    "display(search_by_asn)\n",
    "search_by_asn.on_submit(search_by_asn_submit)\n",
    "\n",
    "search_by_country = Dropdown(description=\"Country\", options=country_list['Name'].tolist())\n",
    "search_by_country.on_trait_change(search_by_country_submit, name=\"value\")\n",
    "display(search_by_country)"
   ]
  },
  {
   "cell_type": "code",
   "execution_count": null,
   "metadata": {
    "collapsed": true
   },
   "outputs": [],
   "source": []
  }
 ],
 "metadata": {
  "kernelspec": {
   "display_name": "Python 3",
   "language": "python",
   "name": "python3"
  },
  "widgets": {
   "state": {},
   "version": "1.1.2"
  }
 },
 "nbformat": 4,
 "nbformat_minor": 0
}
