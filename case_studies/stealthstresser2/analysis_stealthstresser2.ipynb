{
 "cells": [
  {
   "cell_type": "markdown",
   "metadata": {},
   "source": [
    "<h1 align=\"center\">\n",
    "!!!!!!!!!!!!!!!!!!!!!!!!!!!!!!!!!!!!!!!!!!!!!!!!!!!!!!!!!!!!!!!!!!!!!!!!!!!!!!!!!!!!!!!!!!!!!!!!!!!!!!!!!!!!!!!!!!!!!!!!!!!!!!!<br>\n",
    "Brief explanation on our Booter database analysis methodology: <br>\n",
    "!!!!!!!!!!!!!!!!!!!!!!!!!!!!!!!!!!!!!!!!!!!!!!!!!!!!!!!!!!!!!!!!!!!!!!!!!!!!!!!!!!!!!!!!!!!!!!!!!!!!!!!!!!!!!!!!!!!!!!!!!!!!!!!</h1> "
   ]
  },
  {
   "cell_type": "markdown",
   "metadata": {},
   "source": [
    "# Analysis of: stealthstresser2\n",
    "#### File originally retrieved from: http://4lz5rmnkd6f63tmm.onion/db/stealthstresser.sql"
   ]
  },
  {
   "cell_type": "markdown",
   "metadata": {},
   "source": [
    "## * Libraries that I use to analyse data"
   ]
  },
  {
   "cell_type": "code",
   "execution_count": 1,
   "metadata": {
    "collapsed": true
   },
   "outputs": [],
   "source": [
    "import pandas as pd\n",
    "import numpy as np\n",
    "\n",
    "from io import StringIO\n",
    "import re\n",
    "\n",
    "from IPython.display import display,clear_output"
   ]
  },
  {
   "cell_type": "markdown",
   "metadata": {},
   "source": [
    "<h1 align=\"center\">\n",
    "!!!!!!!!!!!!!!!!!!!!!!!!!!!!!!!!!!!!!!!!!!!!!!!!!!!!!!!!!!!!!!!!!!!!!!!!!!!!!!!!!!!!!!!!!!!!!!!!!!!!!!!!!!!!!!!!!!!!!!!!!!!!!!!<br>\n",
    "STEP 0: Reading an input Booter database file<br>\n",
    "!!!!!!!!!!!!!!!!!!!!!!!!!!!!!!!!!!!!!!!!!!!!!!!!!!!!!!!!!!!!!!!!!!!!!!!!!!!!!!!!!!!!!!!!!!!!!!!!!!!!!!!!!!!!!!!!!!!!!!!!!!!!!!!</h1> "
   ]
  },
  {
   "cell_type": "code",
   "execution_count": 2,
   "metadata": {
    "collapsed": true
   },
   "outputs": [],
   "source": [
    "dumpfile='stealthstresser.sql'"
   ]
  },
  {
   "cell_type": "markdown",
   "metadata": {},
   "source": [
    "<h1 align=\"center\">\n",
    "!!!!!!!!!!!!!!!!!!!!!!!!!!!!!!!!!!!!!!!!!!!!!!!!!!!!!!!!!!!!!!!!!!!!!!!!!!!!!!!!!!!!!!!!!!!!!!!!!!!!!!!!!!!!!!!!!!!!!!!!!!!!!!!!!!!!!!!!!<br>\n",
    "STEP 1: Adaptation to our Booter database schema<br>\n",
    "!!!!!!!!!!!!!!!!!!!!!!!!!!!!!!!!!!!!!!!!!!!!!!!!!!!!!!!!!!!!!!!!!!!!!!!!!!!!!!!!!!!!!!!!!!!!!!!!!!!!!!!!!!!!!!!!!!!!!!!!!!!!!!!</h1> "
   ]
  },
  {
   "cell_type": "markdown",
   "metadata": {},
   "source": [
    "## 1. Reading the first 'N' (100) lines of the input Booter database file"
   ]
  },
  {
   "cell_type": "code",
   "execution_count": 3,
   "metadata": {
    "collapsed": false
   },
   "outputs": [
    {
     "name": "stdout",
     "output_type": "stream",
     "text": [
      "-- phpMiniAdmin dump 1.8.120510\n",
      "-- Datetime: 2013-09-07 04:43:18\n",
      "-- Host: Knock8351.db.11414902.hostedresource.com\n",
      "-- Database: Knock8351\n",
      "\n",
      "/*!40030 SET NAMES utf8 */;\n",
      "/*!40030 SET GLOBAL max_allowed_packet=16777216 */;\n",
      "\n",
      "DROP TABLE IF EXISTS `API`;\n",
      "CREATE TABLE `API` (\n",
      "`UDP` text NOT NULL\n",
      ") ENGINE=MyISAM DEFAULT CHARSET=latin1;\n",
      "\n",
      "/*!40000 ALTER TABLE `API` DISABLE KEYS */;\n",
      "INSERT INTO `API` VALUES ('http://212-hosting.net/send.php?key=sad21ad(@*nand&host=[host]&time=[time]&port=[port] http://212-hosting.net/send.php?key=792013&host=[host]&time=[time]&port=[port]');\n",
      "/*!40000 ALTER TABLE `API` ENABLE KEYS */;\n",
      "\n",
      "DROP TABLE IF EXISTS `blacklist`;\n",
      "CREATE TABLE `blacklist` (\n",
      "`ID` int(11) NOT NULL auto_increment,\n",
      "`IP` varchar(15) NOT NULL,\n",
      "`note` text NOT NULL,\n",
      "PRIMARY KEY  (`ID`)\n",
      ") ENGINE=MyISAM AUTO_INCREMENT=16 DEFAULT CHARSET=latin1;\n",
      "\n",
      "/*!40000 ALTER TABLE `blacklist` DISABLE KEYS */;\n",
      "INSERT INTO `blacklist` VALUES ('10','96.61.18.81','magic_marathon'),('11','69.131.10.247','bitch'),('12','69.131.16.144','bitch'),('13','69.131.23.212','bitch'),('14','69.131.5.130','you suck dick');\n",
      "/*!40000 ALTER TABLE `blacklist` ENABLE KEYS */;\n",
      "\n",
      "DROP TABLE IF EXISTS `fe`;\n",
      "CREATE TABLE `fe` (\n",
      "`ID` int(11) NOT NULL auto_increment,\n",
      "`userID` int(11) NOT NULL,\n",
      "`type` varchar(1) NOT NULL,\n",
      "`ip` varchar(15) NOT NULL,\n",
      "`note` text NOT NULL,\n",
      "PRIMARY KEY  (`ID`)\n",
      ") ENGINE=MyISAM AUTO_INCREMENT=217 DEFAULT CHARSET=latin1;\n",
      "\n",
      "/*!40000 ALTER TABLE `fe` DISABLE KEYS */;\n",
      "INSERT INTO `fe` VALUES ('1','12','e','110.175.100.136','Auspride018'),('2','13','e','94.197.11.24',''),('3','8','f','50.138.30.101','Nely'),('4','8','f','50.55.247.24','Brittany'),('5','8','f','98.94.78.64','channa'),('6','8','f','108.210.196.40','Hector'),('7','8','f','70.100.180.240','Kimmie'),('8','8','f','50.33.227.18','Karissa'),('9','8','f','108.214.117.105','Lilla'),('10','26','e','85.229.8.249','Jimman'),('11','26','e','213.114.138.6','dillen'),('12','26','e','213.114.143.227','Krisse'),('13','44','e','37.59.157.235','Jebbo'),('14','44','e','216.59.17.230','slabbix'),('15','61','f','173.245.60.160','My server'),('16','57','e','189.82.10.42','mods'),('17','57','e','108.56.51.173',' i dont like her'),('18','61','e','142.4.46.82','AREISCRAFT'),('19','36','e','97.90.128.61','Keyzer'),('20','36','f','65.103.130.186','Lazers'),('21','36','f','74.137.218.194','Aixyz'),('22','82','e','74.92.235.110','TANNA IP'),('23','82','e','68.43.120.93','AL TOTV'),('24','82','e','100.2.109.12','GRANDHUSTLE IP'),('170','797','e','50.33.214.38','JestiPro '),('26','61','f','5.9.93.71','My server\\r\\n'),('27','113','e','77.111.239.207',''),('28','127','e','91.227.221.73','VEntrilo vg'),('29','114','e','81.242.190.138','V E N G E '),('30','114','f','213.105.87.104','Abs daen'),('31','114','e','75.94.228.92','xomoor'),('32','57','e','98.206.178.172','garbe talk'),('33','114','f','77.110.214.68','magnus einvold'),('34','114','e','81.132.200.105','leo'),('35','114','f','77.72.100.126','bambi'),('36','114','f','81.229.85.191','BambiV2'),('37','114','e','90.212.253.199','Hayden smyth'),('38','142','e','76.100.230.129','Douche bag Minecraft server. Admins abuse. Staff is really really rude to new comers. And just Grade A Douchbags.'),('39','114','e','98.77.66.17','fronkie the retard'),('41','38','e','184.75.170.188','Yoville'),('42','38','e','184.154.33.108','Yorehab'),('43','38','e','188.138.38.195','Yopriceville'),('44','57','e','68.50.11.79','originaltrouble ip'),('45','57','e','108.56.13.142','oringinalmsbossy ip'),('46','28','e','69.177.224.54','tbm'),('48','142','e','184.88.238.76','Faggot'),('49','114','e','31.51.216.108','this is leos new ip address jakob u thick twat'),('122','377','e','180.216.68.206','Steven Gregory LOL'),('55','142','e','108.195.64.203','Extra'),('123','377','f','58.7.129.133','CONNOR'),('57','82','f','108.40.47.121','MONTANNA IP'),('58','82','f','173.30.158.249','SPENCE IP'),('103','28','e','100.40.43.120','SupremetrollHD'),('61','156','f','178.191.151.146','Random Thomas / Sinnlos'),('62','156','f','81.190.99.200','Dawka'),('63','156','f','189.47.29.237','Leticia Healer / viinihtn'),('64','156','f','159.205.207.222','Prezes Soli'),('65','156','f','87.119.30.83','Karol Maktigast'),('66','156','f','77.65.105.187','Kremuwkowy Kardynal'),('68','57','f','69.40.95.87','g kush s'),('69','57','e','67.140.76.104','  2yung ip'),('70','237','e','84.112.62.21','Bur'),('71','38','e','97.96.254.27','Eric'),('72','251','e','68.41.143.245','Dis nigga domadorrr'),('73','251','f','68.41.143.7','patrick'),('74','251','f','69.246.10.114','Shahabul'),('75','237','e','84.112.23.220','Nerv'),('76','237','e','91.115.174.198','Shurl'),('77','114','f','78.3.24.233','shobbbzy'),('78','156','f','177.83.198.239','Eduardo Ternura: edu.lucas1'),('79','156','f','213.47.41.156','Neevu [374]: killmii22'),('82','251','e','70.31.79.149','Dis nigga Tony'),('85','156','f','177.83.199.219','Eduardo Ternura: edu.lucas1'),('84','156','f','177.47.44.40','Xited / pedrolp5'),('86','82','f','98.203.102.44','RINA IP'),('89','114','e','216.251.193.226','gfdfgd'),('88','35','e','107.194.73.10','Frankie the baser'),('90','142','e','99.245.170.102','Homicide5'),('92','249','e','99.229.169.138','Chlaskida'),('93','249','f','76.242.105.96','Mikey <3'),('94','52','e','93.161.47.242','Carlmagi skype.'),('95','52','e','80.162.35.27','Epic.host = Preben'),('96','52','e','88.85.58.240','leivur.e = Lee Padoq'),('97','52','e','87.58.95.70','Jawad-2g = Jawad'),('98','142','e','2.121.8.153','Hacker'),('99','246','f','69.5.145.107','no hit'),('100','114','e','109.154.2.122','abdullah m8t'),('101','156','f','64.62.243.88','Mage Undead Cine (ElderDruid, Xerena) by the user felipinhow'),('102','156','f','187.39.135.34','Magic Luan: vinaum_rm'),('104','207','e','108.225.4.116','Douche Bag'),('105','336','e','62.78.178.184','Bleax ip'),('106','336','e','184.173.232.11','sparta ip'),('107','336','e','75.180.229.204','travis ip'),('108','336','e','76.219.105.225','mac ip'),('109','336','e','70.53.127.26','sqwash ip'),('113','337','f','84.215.83.153','Ola =)'),('111','354','e','85.165.123.93','Tim Fuckings Isaksen'),('112','337','e','85.165.123.93','Tim homo'),('114','337','f','79.161.147.69','Sondre godiis'),('115','68','f','67.87.80.23','Will'),('118','156','f','189.121.52.151','skype:udpisback / Silkster Powerfull / Fran Kenstein / Fruith Forthixy / Tyx Golas'),('119','156','f','177.178.67.69','skype:Jogopkrox / Mario Ekovysks'),('121','377','e','203.14.52.95','School, those bastards!'),('124','393','f','85.165.123.93','tim isaksen'),('125','393','f','88.88.216.75','Andres Haukaas'),('127','393','e','213.173.196.35','Markus drange'),('128','234','e','83.200.207.230','A bitch'),('129','393','f','88.90.209.112','jim blystad'),('143','192','e','184.173.232.11','sparta ip'),('144','192','e','62.78.178.184','blex'),('145','192','e','77.96.251.147','lee'),('146','192','e','50.8.215.59','99strfail'),('135','171','e','87.65.70.107','Tremx'),('136','171','e','90.17.209.110','Loe'),('137','393','f','109.247.166.236','Marit'),('138','393','e','83.108.81.238','Zaron christer'),('147','192','e','74.114.172.21','sqwash ip'),('140','171','e','86.70.123.21','SliDe'),('142','377','e','50.116.85.117','Dara Mactire Website'),('148','58','e','99.12.185.204',''),('149','58','e','134.129.52.215','Fawster'),('150','58','e','24.21.175.87','Live'),('151','454','e','207.210.254.69','defcraft'),('152','454','e','108.61.54.138','25570,'),('153','454','e','199.26.86.128','apex'),('154','454','e','50.53.175.183','SPAM'),('155','58','e','24.130.76.107','Best Kid Online'),('156','251','e','76.94.39.205','annoying ass bucket'),('157','204','e','173.162.64.133','lawl'),('159','204','e','210.195.108.206','darkos'),('161','565','e','37.59.51.211','25585'),('162','573','e','110.174.34.224',''),('163','584','f','110.33.22.232',''),('164','563','e','205.129.7.210','RR'),('165','766','e','93.155.151.195','Ddos all teh time'),('166','783','f','69.123.33.104','jon'),('171','801','e','75.65.136.73','Was Soulfully'),('168','798','e','24.95.65.24','Smashing IP'),('169','803','f','2.125.228.162','Solar Fresh'),('175','813','e','99.52.73.81','Blovin'),('173','813','e','168.61.144.13','AeRo Brave'),('174','813','e','72.241.226.104','Titan'),('176','813','e','173.191.130.62','Zeal Hero'),('177','813','e','72.191.0.156','Obey Trip'),('178','813','e','137.116.32.32','SLB Scar'),('179','793','e','168.63.125.125','Harrison'),('180','819','e','72.230.96.44','L3THAL TaCTiCZz'),('181','824','f','71.228.141.253','Torn Hanso'),('193','824','f','172.249.122.3','FIASKO'),('183','824','e','72.241.226.104','Titan'),('184','819','e','74.203.166.165','BWA Lakes'),('185','824','f','24.107.1.186','BabyDee oF'),('186','832','e','107.206.62.202','Vxetz'),('187','832','e','69.120.158.140','Avenge Hispanic'),('188','832','e','24.214.17.65','Tezo zF'),('189','832','e','68.50.110.112','Mix master mike'),('194','824','e','68.108.106.31','Fanboy Acourn'),('195','832','e','99.104.234.81','Dylan B'),('196','824','f','74.89.197.81','Zono'),('197','824','e','69.118.185.2','Scar'),('198','793','f','173.219.54.66','Herbert'),('202','842','e','212.242.151.227','Mikkel'),('200','824','e','75.167.155.222','Satan Ab'),('201','824','e','75.174.115.141','Creativ8 Hulk'),('203','824','e','99.65.181.0','Frezuhm'),('204','824','e','108.231.240.238','Zaruh'),('205','824','e','24.6.112.179','Torque'),('206','824','f','108.185.99.31','Fukzie'),('207','824','f','24.251.34.108','Luxio'),('208','824','e','68.83.32.136','Biotic'),('209','865','e','108.128.160.234',''),('210','824','e','68.63.200.72','Goldie'),('211','824','f','8.19.237.35','Arxzo'),('213','824','e','75.118.182.236','HIT IF YOU SEE AWAKENCE'),('214','824','e','71.91.180.216','Zypeir'),('215','824','e','69.250.222.88','Rezera'),('216','1473','f','68.114.29.4','iEvilDoG');\n",
      "/*!40000 ALTER TABLE `fe` ENABLE KEYS */;\n",
      "\n",
      "DROP TABLE IF EXISTS `gateway`;\n",
      "CREATE TABLE `gateway` (\n",
      "`email` varchar(1024) NOT NULL\n",
      ") ENGINE=MyISAM DEFAULT CHARSET=latin1;\n",
      "\n",
      "/*!40000 ALTER TABLE `gateway` DISABLE KEYS */;\n",
      "INSERT INTO `gateway` VALUES ('separk6112@inha.ac.kr');\n",
      "/*!40000 ALTER TABLE `gateway` ENABLE KEYS */;\n",
      "\n",
      "DROP TABLE IF EXISTS `iplogs`;\n",
      "CREATE TABLE `iplogs` (\n",
      "`ID` int(11) NOT NULL auto_increment,\n",
      "`userID` int(11) NOT NULL,\n",
      "`logged` varchar(15) NOT NULL,\n",
      "`date` int(11) NOT NULL,\n",
      "PRIMARY KEY  (`ID`),\n",
      "KEY `ID` (`ID`)\n",
      ") ENGINE=MyISAM AUTO_INCREMENT=439 DEFAULT CHARSET=latin1;\n",
      "\n",
      "/*!40000 ALTER TABLE `iplogs` DISABLE KEYS */;\n",
      "/*!40000 ALTER TABLE `iplogs` ENABLE KEYS */;\n",
      "\n",
      "DROP TABLE IF EXISTS `logs`;\n",
      "CREATE TABLE `logs` (\n",
      "`user` varchar(15) NOT NULL,\n",
      "`ip` varchar(15) NOT NULL,\n",
      "`port` int(11) NOT NULL,\n",
      "`time` int(11) NOT NULL,\n",
      "`method` varchar(10) NOT NULL,\n",
      "`date` int(11) NOT NULL\n",
      ") ENGINE=MyISAM DEFAULT CHARSET=latin1;\n",
      "\n",
      "/*!40000 ALTER TABLE `logs` DISABLE KEYS */;\n",
      "INSERT INTO `logs` VALUES\n",
      "('dominerd','99.109.176.129','8080','70','CHARGEN','1378262797'),('dominerd','107.2.198.58','8080','400','DRDOS','1378263237'),('Rigour','123.211.154.254','80','0','DRDOS','1378307552'),('Rigour','198.27.75.55','25565','0','DRDOS','1378326488'),('Rigour','82.45.73.76','53','0','DRDOS','1378334408'),('Rigour','178.33.143.97','80','0','DRDOS','1378343669'),('Rigour','198.20.101.120','80','0','DRDOS','1378404967'),('Rigour','213.107.159.172','53','0','DRDOS','1378413383'),('Rigour','198.27.75.55','25565','0','DRDOS','1378416760'),('Rigour','213.107.159.172','53','0','DRDOS','1378419772'),('Rigour','199.83.50.45','25565','3600','DRDOS','1378422239'),('Rigour','5.135.144.137','9987','3600','DRDOS','1378435698'),('brett','92.234.80.154','80','0','DRDOS','1378516273'),('brett','92.234.80.154','80','0','DRDOS','1378516295'),('brett','74.103.218.113','80','0','DRDOS','1378519604'),('brett','74.103.218.113','80','0','DRDOS','1378519629'),('brett','74.103.218.113','80','0','DRDOS','1378520237'),('brett','74.103.218.113','80','900','DRDOS','1378520283'),('brett','74.103.218.113','80','1200','DRDOS','1378522179');\n",
      "/*!40000 ALTER TABLE `logs` ENABLE KEYS */;\n",
      "\n",
      "DROP TABLE IF EXISTS `news`;\n",
      "CREATE TABLE `news` (\n",
      "`ID` int(11) NOT NULL auto_increment,\n",
      "`title` varchar(50) NOT NULL,\n",
      "`detail` text NOT NULL,\n",
      "`date` int(11) NOT NULL,\n",
      "PRIMARY KEY  (`ID`)\n",
      ") ENGINE=MyISAM AUTO_INCREMENT=50 DEFAULT CHARSET=latin1;\n",
      "\n",
      "/*!40000 ALTER TABLE `news` DISABLE KEYS */;\n",
      "INSERT INTO `news` VALUES ('29','ToS ( Terms of Service)','1) By purchasing Stealth Stresser you agree to our ToS.<br> 2) We are not responsible for how ever you use this stresser<br> 3) You may not share your account, if you will, your account will be closed!<br> 4) We have the right to close any account we want or shut down the project at any time.<br> 5)No Refunds or chargebacks , All sales are final.<br> 6)We have the right to change the ToS anytime we want.<br>Disrespect will result in no more support & no more updates. You\\'ve been warned. <br> <br> <br> <br> <br> <br> <br>','1353597966'),('36','Later on the stresser will hit harder','We are going to add a dedicated server soon so if its hitting it will hit harder when we add that server.','1373527742'),('39','It should hit alot hard now','We have added a 1GBPS dedicated server so it should hit harder.','1373910351'),('46','READ','Hi everybody my api that I got off my friend doesnt even work now so I need to wait till he replys so I can resolve this or something. So in result it wont hit till I get it fixed.','1375985926'),('47','READ','Api is working now the power is back up and running.','1375988481'),('49','ToS ( Terms of Service)','1) By purchasing Stealth Stresser you agree to our ToS.<br> 2) We are not responsible for how ever you use this stresser<br> 3) You may not share your account, if you will, your account will be closed!<br> 4) We have the right to close any account we want or shut down the project at any time.<br> 5)No Refunds or chargebacks , All sales are final.<br> 6)We have the right to change the ToS anytime we want.<br>Disrespect will result in no more support & no more updates. You\\\\\\'ve been warned. <br> <br> <br> <br> <br> <br> <br>','1376468084');\n",
      "/*!40000 ALTER TABLE `news` ENABLE KEYS */;\n",
      "\n",
      "DROP TABLE IF EXISTS `payments`;\n",
      "CREATE TABLE `payments` (\n",
      "`ID` int(11) NOT NULL auto_increment,\n",
      "`paid` float NOT NULL,\n",
      "`plan` int(11) NOT NULL,\n",
      "`user` int(15) NOT NULL,\n",
      "`email` varchar(60) NOT NULL,\n"
     ]
    }
   ],
   "source": [
    "lines_to_read=100\n",
    "\n",
    "with open(dumpfile) as myfile:\n",
    "    firstlines=myfile.readlines()[0:lines_to_read] #put here the interval you want\n",
    "    for x in firstlines:\n",
    "        print(x.strip())"
   ]
  },
  {
   "cell_type": "markdown",
   "metadata": {},
   "source": [
    "## 2. Listing tables that have content inserted into the dump file"
   ]
  },
  {
   "cell_type": "code",
   "execution_count": 4,
   "metadata": {
    "collapsed": true
   },
   "outputs": [],
   "source": [
    "def list_tables_with_insert(dumpfile):\n",
    "    tables = []\n",
    "    with open(dumpfile, 'rb') as f:\n",
    "        for line in f:\n",
    "            line = line.decode(\"utf-8\").strip()\n",
    "            if line.lower().startswith('insert'):\n",
    "                table = re.findall(r'`(.*?)`', line)\n",
    "                tables.append(table[0])\n",
    "    return tables"
   ]
  },
  {
   "cell_type": "code",
   "execution_count": 5,
   "metadata": {
    "collapsed": false
   },
   "outputs": [
    {
     "name": "stdout",
     "output_type": "stream",
     "text": [
      "1 API\n",
      "2 blacklist\n",
      "3 fe\n",
      "4 gateway\n",
      "5 logs\n",
      "6 news\n",
      "7 payments\n",
      "8 plans\n",
      "9 skype_api\n",
      "10 users\n"
     ]
    }
   ],
   "source": [
    "tables=enumerate(list_tables_with_insert(dumpfile))\n",
    "\n",
    "for i, item in tables:\n",
    "    print(i+1,item)"
   ]
  },
  {
   "cell_type": "markdown",
   "metadata": {},
   "source": [
    "## How the list above looks like? "
   ]
  },
  {
   "cell_type": "markdown",
   "metadata": {},
   "source": [
    "<h2 align='center'>======================================================================\n",
    "If NOT well-formed SQL dump file then you must first do the following:\n",
    "======================================================================</h2>"
   ]
  },
  {
   "cell_type": "markdown",
   "metadata": {},
   "source": [
    "## 3. Removing lines that are not part of the actual content to be analysed"
   ]
  },
  {
   "cell_type": "markdown",
   "metadata": {},
   "source": [
    "## 4. Splitting and naming tables and columns"
   ]
  },
  {
   "cell_type": "markdown",
   "metadata": {},
   "source": [
    "<h2 align='center'>======================================================================\n",
    "Additional functions\n",
    "======================================================================</h2>"
   ]
  },
  {
   "cell_type": "markdown",
   "metadata": {},
   "source": [
    "## * Function to read tables from wel-formed SQL database dump"
   ]
  },
  {
   "cell_type": "code",
   "execution_count": 6,
   "metadata": {
    "collapsed": false
   },
   "outputs": [],
   "source": [
    "# For well formed SQL database dumps!\n",
    "def read_inserted_table(dumpfile, target_table):\n",
    "    sio = StringIO()\n",
    "    fast_forward = True\n",
    "    already_header = False\n",
    "    with open(dumpfile, 'rb') as f:\n",
    "        for line in f:\n",
    "            line = line.decode(\"utf-8\").strip()\n",
    "            line = re.sub(\"(?!(([^']*'){2})*[^']*$)\\)\", '',line) #Step0:remove any \")\" from the content of columns\n",
    "            if line.lower().startswith('insert') and target_table in line:\n",
    "                fast_forward = False\n",
    "                if already_header:\n",
    "                    continue\n",
    "            if fast_forward:\n",
    "                continue\n",
    "            \n",
    "            data = re.findall('\\([^\\)]*\\)', line) #Step1: get the content between parentesis (i.e., insert line)\n",
    "            try:\n",
    "                newline = data[0].strip('()') #Step2:remove parenthesis\n",
    "                newline=newline.replace('`','') #Step3: remove ` (usually in table names)\n",
    "                newline=re.sub(r'(?!(([^\\']*\\'){2})*[^\\']*$),','', newline) #Step4: remove commas from the content of columns\n",
    "                newline=newline.replace('\\'','') #Step5: remove single quotes\n",
    "                newline=newline.replace(', ', ',') #Step6: remove single spaces after comma (i.e., in the beginning of a column)\n",
    "                sio.write(newline)\n",
    "                sio.write(\"\\n\")\n",
    "            except IndexError:\n",
    "                pass\n",
    "            if line.endswith(';'):\n",
    "                fast_forward = True\n",
    "                already_header = True\n",
    "    sio.seek(0)\n",
    "    return sio"
   ]
  },
  {
   "cell_type": "code",
   "execution_count": 7,
   "metadata": {
    "collapsed": true
   },
   "outputs": [],
   "source": [
    "# For well formed SQL database dumps!\n",
    "def read_inserted_table_entirein1line(dumpfile, target_table):\n",
    "    sio = StringIO()\n",
    "    fast_forward = True\n",
    "    already_header = False\n",
    "    with open(dumpfile, 'rb') as f:\n",
    "        for line in f:\n",
    "            line = line.decode(\"utf-8\").strip()\n",
    "            line = re.sub(\"(?!(([^']*'){2})*[^']*$)\\)\", '',line) #Step0:remove any \")\" from the content of columns\n",
    "            if line.lower().startswith('insert') and target_table in line:\n",
    "                fast_forward = False\n",
    "                if already_header:\n",
    "                    continue\n",
    "            if fast_forward:\n",
    "                continue\n",
    "            \n",
    "            data = re.findall('\\([^\\)]*\\)', line) #Step1: get the content between parentesis (i.e., insert operation)\n",
    "            \n",
    "            for record in data:\n",
    "                try:\n",
    "                    newline = record.strip('()') #Step2:remove parenthesis\n",
    "                    newline=newline.replace('`','') #Step3: remove ` (usually in table names)\n",
    "                    newline=re.sub(r'(?!(([^\\']*\\'){2})*[^\\']*$),','', newline) #Step4: remove commas from the content of columns\n",
    "                    newline=newline.replace('\\'','') #Step5: remove single quotes\n",
    "                    newline=newline.replace(', ', ',') #Step6: remove single spaces after comma (i.e., in the beginning of a column)\n",
    "                    sio.write(newline)\n",
    "                    sio.write(\"\\n\")\n",
    "                except IndexError:\n",
    "                    pass\n",
    "                \n",
    "            if line.endswith(';'):\n",
    "                fast_forward = True\n",
    "                already_header = True\n",
    "    sio.seek(0)\n",
    "    return sio"
   ]
  },
  {
   "cell_type": "markdown",
   "metadata": {},
   "source": [
    "## * Converter functions for formatting content of columns\n",
    "Attention, it is better to perform the conversion based on a series than a string (http://stackoverflow.com/questions/42462906/pandas-read-csv-converters-performance-issue)"
   ]
  },
  {
   "cell_type": "code",
   "execution_count": 8,
   "metadata": {
    "collapsed": true
   },
   "outputs": [],
   "source": [
    "def tolowercase(series):\n",
    "    return series.str.lower()"
   ]
  },
  {
   "cell_type": "code",
   "execution_count": 9,
   "metadata": {
    "collapsed": true
   },
   "outputs": [],
   "source": [
    "def strip_singlequote(series):\n",
    "    return series.str.strip('\\'')"
   ]
  },
  {
   "cell_type": "code",
   "execution_count": 10,
   "metadata": {
    "collapsed": true
   },
   "outputs": [],
   "source": [
    "def timestamp2datetime(series):\n",
    "    return  pd.to_datetime(series,unit='s',errors='coerce')"
   ]
  },
  {
   "cell_type": "code",
   "execution_count": 11,
   "metadata": {
    "collapsed": true
   },
   "outputs": [],
   "source": [
    "def datetimestring2datetime(series):\n",
    "    return  pd.to_datetime(series, format='%d-%m-%Y %H:%M',errors='coerce')  "
   ]
  },
  {
   "cell_type": "code",
   "execution_count": 12,
   "metadata": {
    "collapsed": true
   },
   "outputs": [],
   "source": [
    "def datetimeinvertedstring2datetime(series):\n",
    "    return pd.to_datetime(series, format='%Y-%m-%d %H:%M:%S',errors='coerce')"
   ]
  },
  {
   "cell_type": "code",
   "execution_count": 13,
   "metadata": {
    "collapsed": true
   },
   "outputs": [],
   "source": [
    "def datetimeampm2datetime(series):\n",
    "    return  pd.to_datetime(series,format='%d-%m-%Y %I:%M:%S %p',errors='coerce')"
   ]
  },
  {
   "cell_type": "code",
   "execution_count": 14,
   "metadata": {
    "collapsed": true
   },
   "outputs": [],
   "source": [
    "def datetimemdyampm2datetime(series):\n",
    "    return  pd.to_datetime(series, format='%m-%d-%Y %I:%M:%S %p',errors='coerce') "
   ]
  },
  {
   "cell_type": "code",
   "execution_count": 15,
   "metadata": {
    "collapsed": true
   },
   "outputs": [],
   "source": [
    "def strip_parenthesisandsemicolon(series):\n",
    "    return series.str.strip(');')"
   ]
  },
  {
   "cell_type": "code",
   "execution_count": 16,
   "metadata": {
    "collapsed": true
   },
   "outputs": [],
   "source": [
    "def strip_insertintologs(series):\n",
    "    return int(series.str.strip('INSERT INTO `logs` VALUES ('))"
   ]
  },
  {
   "cell_type": "code",
   "execution_count": 17,
   "metadata": {
    "collapsed": true
   },
   "outputs": [],
   "source": [
    "def strip_tab(series):\n",
    "    return series.str.strip('\\t')"
   ]
  },
  {
   "cell_type": "code",
   "execution_count": 18,
   "metadata": {
    "collapsed": false
   },
   "outputs": [],
   "source": [
    "def friendsenemies_type(series):\n",
    "    return series.str.replace('f','friend').replace('e','enemy')\n",
    "    "
   ]
  },
  {
   "cell_type": "markdown",
   "metadata": {},
   "source": [
    "<h2 align='center'>======================================================================\n",
    "Adapting EACH existing table\n",
    "======================================================================</h2>"
   ]
  },
  {
   "cell_type": "markdown",
   "metadata": {},
   "source": [
    "## 6.1. Table: 'API'"
   ]
  },
  {
   "cell_type": "markdown",
   "metadata": {},
   "source": [
    "### How this table looks like without modification?"
   ]
  },
  {
   "cell_type": "code",
   "execution_count": 19,
   "metadata": {
    "collapsed": false
   },
   "outputs": [
    {
     "data": {
      "text/html": [
       "<div>\n",
       "<table border=\"1\" class=\"dataframe\">\n",
       "  <thead>\n",
       "    <tr style=\"text-align: right;\">\n",
       "      <th></th>\n",
       "      <th>http://212-hosting.net/send.php?key=sad21ad(@*nand&amp;host=[host]&amp;time=[time]&amp;port=[port] http://212-hosting.net/send.php?key=792013&amp;host=[host]&amp;time=[time]&amp;port=[port]</th>\n",
       "    </tr>\n",
       "  </thead>\n",
       "  <tbody>\n",
       "  </tbody>\n",
       "</table>\n",
       "</div>"
      ],
      "text/plain": [
       "Empty DataFrame\n",
       "Columns: [http://212-hosting.net/send.php?key=sad21ad(@*nand&host=[host]&time=[time]&port=[port] http://212-hosting.net/send.php?key=792013&host=[host]&time=[time]&port=[port]]\n",
       "Index: []"
      ]
     },
     "execution_count": 19,
     "metadata": {},
     "output_type": "execute_result"
    }
   ],
   "source": [
    "tablename='API'\n",
    "\n",
    "pd.read_csv(read_inserted_table_entirein1line(dumpfile,tablename),delimiter=\",\",error_bad_lines=False)"
   ]
  },
  {
   "cell_type": "markdown",
   "metadata": {},
   "source": [
    "#### Q1: Is this table different from other previous loaded table? YES\n",
    "#### Q2: Is this table similar to any table in the generic Booter database schema? NO\n",
    "    - This table looks like: \n",
    "    \n",
    "#### Q3: Are there modifications required? \n",
    "    - On the table name: \n",
    "        o \n",
    "    - On the column type/converter: \n",
    "        o \n",
    "    - On the column name:\n",
    "        o \n",
    "    - Split columns:\n",
    "        o \n",
    "    - Add required columns:\n",
    "        o "
   ]
  },
  {
   "cell_type": "markdown",
   "metadata": {},
   "source": [
    "## 6.2. Table: 'blacklist'"
   ]
  },
  {
   "cell_type": "markdown",
   "metadata": {},
   "source": [
    "### How this table looks like without modification?"
   ]
  },
  {
   "cell_type": "code",
   "execution_count": 20,
   "metadata": {
    "collapsed": false
   },
   "outputs": [
    {
     "data": {
      "text/html": [
       "<div>\n",
       "<table border=\"1\" class=\"dataframe\">\n",
       "  <thead>\n",
       "    <tr style=\"text-align: right;\">\n",
       "      <th></th>\n",
       "      <th>10</th>\n",
       "      <th>96.61.18.81</th>\n",
       "      <th>magic_marathon</th>\n",
       "    </tr>\n",
       "  </thead>\n",
       "  <tbody>\n",
       "    <tr>\n",
       "      <th>0</th>\n",
       "      <td>11</td>\n",
       "      <td>69.131.10.247</td>\n",
       "      <td>bitch</td>\n",
       "    </tr>\n",
       "    <tr>\n",
       "      <th>1</th>\n",
       "      <td>12</td>\n",
       "      <td>69.131.16.144</td>\n",
       "      <td>bitch</td>\n",
       "    </tr>\n",
       "    <tr>\n",
       "      <th>2</th>\n",
       "      <td>13</td>\n",
       "      <td>69.131.23.212</td>\n",
       "      <td>bitch</td>\n",
       "    </tr>\n",
       "    <tr>\n",
       "      <th>3</th>\n",
       "      <td>14</td>\n",
       "      <td>69.131.5.130</td>\n",
       "      <td>you suck dick</td>\n",
       "    </tr>\n",
       "  </tbody>\n",
       "</table>\n",
       "</div>"
      ],
      "text/plain": [
       "   10    96.61.18.81 magic_marathon\n",
       "0  11  69.131.10.247          bitch\n",
       "1  12  69.131.16.144          bitch\n",
       "2  13  69.131.23.212          bitch\n",
       "3  14   69.131.5.130  you suck dick"
      ]
     },
     "execution_count": 20,
     "metadata": {},
     "output_type": "execute_result"
    }
   ],
   "source": [
    "tablename='blacklist'\n",
    "\n",
    "pd.read_csv(read_inserted_table_entirein1line(dumpfile, tablename),delimiter=\",\",error_bad_lines=False).head(10)"
   ]
  },
  {
   "cell_type": "markdown",
   "metadata": {},
   "source": [
    "#### Q1: Is this table different from other previous loaded table? YES\n",
    "#### Q2: Is this table similar to any table in the generic Booter database schema? YES\n",
    "    - This table looks like: blacklist\n",
    "#### Q3: Are there modifications required? \n",
    "    - On the table name: \n",
    "        o \n",
    "    - On the column type: \n",
    "        o \n",
    "    - On the column name:\n",
    "        o \n",
    "    - Add required columns:\n",
    "        o id\n",
    "        o ip\n",
    "        o note\n",
    "    - Split columns:\n",
    "        o "
   ]
  },
  {
   "cell_type": "markdown",
   "metadata": {},
   "source": [
    "### Modifying table: 'blacklist'"
   ]
  },
  {
   "cell_type": "code",
   "execution_count": 21,
   "metadata": {
    "collapsed": false
   },
   "outputs": [
    {
     "data": {
      "text/html": [
       "<div>\n",
       "<table border=\"1\" class=\"dataframe\">\n",
       "  <thead>\n",
       "    <tr style=\"text-align: right;\">\n",
       "      <th></th>\n",
       "      <th>id</th>\n",
       "      <th>ip</th>\n",
       "      <th>note</th>\n",
       "    </tr>\n",
       "  </thead>\n",
       "  <tbody>\n",
       "    <tr>\n",
       "      <th>0</th>\n",
       "      <td>10</td>\n",
       "      <td>96.61.18.81</td>\n",
       "      <td>magic_marathon</td>\n",
       "    </tr>\n",
       "    <tr>\n",
       "      <th>1</th>\n",
       "      <td>11</td>\n",
       "      <td>69.131.10.247</td>\n",
       "      <td>bitch</td>\n",
       "    </tr>\n",
       "    <tr>\n",
       "      <th>2</th>\n",
       "      <td>12</td>\n",
       "      <td>69.131.16.144</td>\n",
       "      <td>bitch</td>\n",
       "    </tr>\n",
       "    <tr>\n",
       "      <th>3</th>\n",
       "      <td>13</td>\n",
       "      <td>69.131.23.212</td>\n",
       "      <td>bitch</td>\n",
       "    </tr>\n",
       "    <tr>\n",
       "      <th>4</th>\n",
       "      <td>14</td>\n",
       "      <td>69.131.5.130</td>\n",
       "      <td>you suck dick</td>\n",
       "    </tr>\n",
       "  </tbody>\n",
       "</table>\n",
       "</div>"
      ],
      "text/plain": [
       "   id             ip            note\n",
       "0  10    96.61.18.81  magic_marathon\n",
       "1  11  69.131.10.247           bitch\n",
       "2  12  69.131.16.144           bitch\n",
       "3  13  69.131.23.212           bitch\n",
       "4  14   69.131.5.130   you suck dick"
      ]
     },
     "execution_count": 21,
     "metadata": {},
     "output_type": "execute_result"
    }
   ],
   "source": [
    "# Loading the correct table name\n",
    "columns = ['id','ip','note']\n",
    "df_blacklist = pd.read_csv(read_inserted_table_entirein1line(dumpfile, tablename),delimiter=\",\",error_bad_lines=False, names=columns)\n",
    "\n",
    "# Converting columns\n",
    "\n",
    "# Changing column names\n",
    "\n",
    "# Adding missing columns (with \"\" [for future string] or np.nan [for future float])\n",
    "\n",
    "###Showing some lines after adapt the table\n",
    "df_blacklist.head(10)"
   ]
  },
  {
   "cell_type": "markdown",
   "metadata": {},
   "source": [
    "## 6.3. Table: 'fe'"
   ]
  },
  {
   "cell_type": "markdown",
   "metadata": {},
   "source": [
    "### How this table looks like without modification?"
   ]
  },
  {
   "cell_type": "code",
   "execution_count": 22,
   "metadata": {
    "collapsed": false
   },
   "outputs": [
    {
     "data": {
      "text/html": [
       "<div>\n",
       "<table border=\"1\" class=\"dataframe\">\n",
       "  <thead>\n",
       "    <tr style=\"text-align: right;\">\n",
       "      <th></th>\n",
       "      <th>1</th>\n",
       "      <th>12</th>\n",
       "      <th>e</th>\n",
       "      <th>110.175.100.136</th>\n",
       "      <th>Auspride018</th>\n",
       "    </tr>\n",
       "  </thead>\n",
       "  <tbody>\n",
       "    <tr>\n",
       "      <th>0</th>\n",
       "      <td>2</td>\n",
       "      <td>13</td>\n",
       "      <td>e</td>\n",
       "      <td>94.197.11.24</td>\n",
       "      <td>NaN</td>\n",
       "    </tr>\n",
       "    <tr>\n",
       "      <th>1</th>\n",
       "      <td>3</td>\n",
       "      <td>8</td>\n",
       "      <td>f</td>\n",
       "      <td>50.138.30.101</td>\n",
       "      <td>Nely</td>\n",
       "    </tr>\n",
       "    <tr>\n",
       "      <th>2</th>\n",
       "      <td>4</td>\n",
       "      <td>8</td>\n",
       "      <td>f</td>\n",
       "      <td>50.55.247.24</td>\n",
       "      <td>Brittany</td>\n",
       "    </tr>\n",
       "    <tr>\n",
       "      <th>3</th>\n",
       "      <td>5</td>\n",
       "      <td>8</td>\n",
       "      <td>f</td>\n",
       "      <td>98.94.78.64</td>\n",
       "      <td>channa</td>\n",
       "    </tr>\n",
       "    <tr>\n",
       "      <th>4</th>\n",
       "      <td>6</td>\n",
       "      <td>8</td>\n",
       "      <td>f</td>\n",
       "      <td>108.210.196.40</td>\n",
       "      <td>Hector</td>\n",
       "    </tr>\n",
       "    <tr>\n",
       "      <th>5</th>\n",
       "      <td>7</td>\n",
       "      <td>8</td>\n",
       "      <td>f</td>\n",
       "      <td>70.100.180.240</td>\n",
       "      <td>Kimmie</td>\n",
       "    </tr>\n",
       "    <tr>\n",
       "      <th>6</th>\n",
       "      <td>8</td>\n",
       "      <td>8</td>\n",
       "      <td>f</td>\n",
       "      <td>50.33.227.18</td>\n",
       "      <td>Karissa</td>\n",
       "    </tr>\n",
       "    <tr>\n",
       "      <th>7</th>\n",
       "      <td>9</td>\n",
       "      <td>8</td>\n",
       "      <td>f</td>\n",
       "      <td>108.214.117.105</td>\n",
       "      <td>Lilla</td>\n",
       "    </tr>\n",
       "    <tr>\n",
       "      <th>8</th>\n",
       "      <td>10</td>\n",
       "      <td>26</td>\n",
       "      <td>e</td>\n",
       "      <td>85.229.8.249</td>\n",
       "      <td>Jimman</td>\n",
       "    </tr>\n",
       "    <tr>\n",
       "      <th>9</th>\n",
       "      <td>11</td>\n",
       "      <td>26</td>\n",
       "      <td>e</td>\n",
       "      <td>213.114.138.6</td>\n",
       "      <td>dillen</td>\n",
       "    </tr>\n",
       "  </tbody>\n",
       "</table>\n",
       "</div>"
      ],
      "text/plain": [
       "    1  12  e  110.175.100.136 Auspride018\n",
       "0   2  13  e     94.197.11.24         NaN\n",
       "1   3   8  f    50.138.30.101        Nely\n",
       "2   4   8  f     50.55.247.24    Brittany\n",
       "3   5   8  f      98.94.78.64      channa\n",
       "4   6   8  f   108.210.196.40      Hector\n",
       "5   7   8  f   70.100.180.240      Kimmie\n",
       "6   8   8  f     50.33.227.18     Karissa\n",
       "7   9   8  f  108.214.117.105       Lilla\n",
       "8  10  26  e     85.229.8.249      Jimman\n",
       "9  11  26  e    213.114.138.6      dillen"
      ]
     },
     "execution_count": 22,
     "metadata": {},
     "output_type": "execute_result"
    }
   ],
   "source": [
    "tablename='fe'\n",
    "\n",
    "pd.read_csv(read_inserted_table_entirein1line(dumpfile, tablename),delimiter=\",\",error_bad_lines=False).head(10)"
   ]
  },
  {
   "cell_type": "markdown",
   "metadata": {},
   "source": [
    "#### Q1: Is this table different from other previous loaded table? YES \n",
    "#### Q2: Is this table similar to any table in the generic Booter database schema? YES\n",
    "    - This table looks like: friendsenemies\n",
    "#### Q3: Are there modifications required? \n",
    "    - On the table name: \n",
    "        o fe -> friendsenemies\n",
    "    - On the column type: \n",
    "        o type -> friendsenemies_type() \n",
    "    - On the column name:\n",
    "        o \n",
    "    - Add required columns:\n",
    "        o id\n",
    "        o ip\n",
    "        o note\n",
    "        o userid \n",
    "        o type\n",
    "    - Split columns:\n",
    "        o "
   ]
  },
  {
   "cell_type": "markdown",
   "metadata": {},
   "source": [
    "### Modifying table: 'fe'"
   ]
  },
  {
   "cell_type": "code",
   "execution_count": 23,
   "metadata": {
    "collapsed": false
   },
   "outputs": [
    {
     "data": {
      "text/html": [
       "<div>\n",
       "<table border=\"1\" class=\"dataframe\">\n",
       "  <thead>\n",
       "    <tr style=\"text-align: right;\">\n",
       "      <th></th>\n",
       "      <th>id</th>\n",
       "      <th>userid</th>\n",
       "      <th>type</th>\n",
       "      <th>ip</th>\n",
       "      <th>note</th>\n",
       "    </tr>\n",
       "  </thead>\n",
       "  <tbody>\n",
       "    <tr>\n",
       "      <th>0</th>\n",
       "      <td>1</td>\n",
       "      <td>12</td>\n",
       "      <td>enemy</td>\n",
       "      <td>110.175.100.136</td>\n",
       "      <td>Auspride018</td>\n",
       "    </tr>\n",
       "    <tr>\n",
       "      <th>1</th>\n",
       "      <td>2</td>\n",
       "      <td>13</td>\n",
       "      <td>enemy</td>\n",
       "      <td>94.197.11.24</td>\n",
       "      <td>NaN</td>\n",
       "    </tr>\n",
       "    <tr>\n",
       "      <th>2</th>\n",
       "      <td>3</td>\n",
       "      <td>8</td>\n",
       "      <td>friend</td>\n",
       "      <td>50.138.30.101</td>\n",
       "      <td>Nely</td>\n",
       "    </tr>\n",
       "    <tr>\n",
       "      <th>3</th>\n",
       "      <td>4</td>\n",
       "      <td>8</td>\n",
       "      <td>friend</td>\n",
       "      <td>50.55.247.24</td>\n",
       "      <td>Brittany</td>\n",
       "    </tr>\n",
       "    <tr>\n",
       "      <th>4</th>\n",
       "      <td>5</td>\n",
       "      <td>8</td>\n",
       "      <td>friend</td>\n",
       "      <td>98.94.78.64</td>\n",
       "      <td>channa</td>\n",
       "    </tr>\n",
       "    <tr>\n",
       "      <th>5</th>\n",
       "      <td>6</td>\n",
       "      <td>8</td>\n",
       "      <td>friend</td>\n",
       "      <td>108.210.196.40</td>\n",
       "      <td>Hector</td>\n",
       "    </tr>\n",
       "    <tr>\n",
       "      <th>6</th>\n",
       "      <td>7</td>\n",
       "      <td>8</td>\n",
       "      <td>friend</td>\n",
       "      <td>70.100.180.240</td>\n",
       "      <td>Kimmie</td>\n",
       "    </tr>\n",
       "    <tr>\n",
       "      <th>7</th>\n",
       "      <td>8</td>\n",
       "      <td>8</td>\n",
       "      <td>friend</td>\n",
       "      <td>50.33.227.18</td>\n",
       "      <td>Karissa</td>\n",
       "    </tr>\n",
       "    <tr>\n",
       "      <th>8</th>\n",
       "      <td>9</td>\n",
       "      <td>8</td>\n",
       "      <td>friend</td>\n",
       "      <td>108.214.117.105</td>\n",
       "      <td>Lilla</td>\n",
       "    </tr>\n",
       "    <tr>\n",
       "      <th>9</th>\n",
       "      <td>10</td>\n",
       "      <td>26</td>\n",
       "      <td>enemy</td>\n",
       "      <td>85.229.8.249</td>\n",
       "      <td>Jimman</td>\n",
       "    </tr>\n",
       "  </tbody>\n",
       "</table>\n",
       "</div>"
      ],
      "text/plain": [
       "   id  userid    type               ip         note\n",
       "0   1      12   enemy  110.175.100.136  Auspride018\n",
       "1   2      13   enemy     94.197.11.24          NaN\n",
       "2   3       8  friend    50.138.30.101         Nely\n",
       "3   4       8  friend     50.55.247.24     Brittany\n",
       "4   5       8  friend      98.94.78.64       channa\n",
       "5   6       8  friend   108.210.196.40       Hector\n",
       "6   7       8  friend   70.100.180.240       Kimmie\n",
       "7   8       8  friend     50.33.227.18      Karissa\n",
       "8   9       8  friend  108.214.117.105        Lilla\n",
       "9  10      26   enemy     85.229.8.249       Jimman"
      ]
     },
     "execution_count": 23,
     "metadata": {},
     "output_type": "execute_result"
    }
   ],
   "source": [
    "# Loading the correct table name\n",
    "columns=['id','userid','type','ip','note']\n",
    "df_friendenemies = pd.read_csv(read_inserted_table_entirein1line(dumpfile, tablename),delimiter=\",\",error_bad_lines=False,names=columns)\n",
    "\n",
    "# Converting columns\n",
    "df_friendenemies['type']=friendsenemies_type(df_friendenemies['type'])\n",
    "\n",
    "# Changing column names\n",
    "\n",
    "# Adding missing columns (with \"\" [for future string] or np.nan [for future float])\n",
    "\n",
    "###Showing some lines after adapt the table\n",
    "df_friendenemies.head(10)"
   ]
  },
  {
   "cell_type": "markdown",
   "metadata": {},
   "source": [
    "## 6.4. Table: 'gateway'"
   ]
  },
  {
   "cell_type": "markdown",
   "metadata": {},
   "source": [
    "### How this table looks like without modification?"
   ]
  },
  {
   "cell_type": "code",
   "execution_count": 24,
   "metadata": {
    "collapsed": false
   },
   "outputs": [
    {
     "data": {
      "text/html": [
       "<div>\n",
       "<table border=\"1\" class=\"dataframe\">\n",
       "  <thead>\n",
       "    <tr style=\"text-align: right;\">\n",
       "      <th></th>\n",
       "      <th>separk6112@inha.ac.kr</th>\n",
       "    </tr>\n",
       "  </thead>\n",
       "  <tbody>\n",
       "  </tbody>\n",
       "</table>\n",
       "</div>"
      ],
      "text/plain": [
       "Empty DataFrame\n",
       "Columns: [separk6112@inha.ac.kr]\n",
       "Index: []"
      ]
     },
     "execution_count": 24,
     "metadata": {},
     "output_type": "execute_result"
    }
   ],
   "source": [
    "tablename='gateway'\n",
    "\n",
    "pd.read_csv(read_inserted_table_entirein1line(dumpfile, tablename),delimiter=\",\",error_bad_lines=False).head(10)"
   ]
  },
  {
   "cell_type": "markdown",
   "metadata": {},
   "source": [
    "#### Q1: Is this table different from other previous loaded table? YES \n",
    "#### Q2: Is this table similar to any table in the generic Booter database schema? YES\n",
    "    - This table looks like: gateways\n",
    "#### Q3: Are there modifications required? \n",
    "    - On the table name: \n",
    "        o gateway -> gateways\n",
    "    - On the column type: \n",
    "        o  \n",
    "    - On the column name:\n",
    "        o \n",
    "    - Add required columns:\n",
    "        o \n",
    "    - Split columns:\n",
    "        o "
   ]
  },
  {
   "cell_type": "markdown",
   "metadata": {},
   "source": [
    "### Modifying table: 'gateway'"
   ]
  },
  {
   "cell_type": "code",
   "execution_count": 25,
   "metadata": {
    "collapsed": false
   },
   "outputs": [
    {
     "data": {
      "text/html": [
       "<div>\n",
       "<table border=\"1\" class=\"dataframe\">\n",
       "  <thead>\n",
       "    <tr style=\"text-align: right;\">\n",
       "      <th></th>\n",
       "      <th>email</th>\n",
       "    </tr>\n",
       "  </thead>\n",
       "  <tbody>\n",
       "    <tr>\n",
       "      <th>0</th>\n",
       "      <td>separk6112@inha.ac.kr</td>\n",
       "    </tr>\n",
       "  </tbody>\n",
       "</table>\n",
       "</div>"
      ],
      "text/plain": [
       "                   email\n",
       "0  separk6112@inha.ac.kr"
      ]
     },
     "execution_count": 25,
     "metadata": {},
     "output_type": "execute_result"
    }
   ],
   "source": [
    "# Loading the correct table name\n",
    "columns=['email']\n",
    "df_gateways = pd.read_csv(read_inserted_table_entirein1line(dumpfile, tablename),delimiter=\",\",error_bad_lines=False,names=columns)\n",
    "\n",
    "# Converting columns\n",
    "\n",
    "# Changing column names\n",
    "\n",
    "# Showing some lines after adapt the table\n",
    "df_gateways.head(10)"
   ]
  },
  {
   "cell_type": "markdown",
   "metadata": {},
   "source": [
    "## 6.5. Table: 'logs'"
   ]
  },
  {
   "cell_type": "markdown",
   "metadata": {},
   "source": [
    "### How this table looks like without modification?"
   ]
  },
  {
   "cell_type": "code",
   "execution_count": 26,
   "metadata": {
    "collapsed": false
   },
   "outputs": [
    {
     "data": {
      "text/html": [
       "<div>\n",
       "<table border=\"1\" class=\"dataframe\">\n",
       "  <thead>\n",
       "    <tr style=\"text-align: right;\">\n",
       "      <th></th>\n",
       "      <th>dominerd</th>\n",
       "      <th>99.109.176.129</th>\n",
       "      <th>8080</th>\n",
       "      <th>70</th>\n",
       "      <th>CHARGEN</th>\n",
       "      <th>1378262797</th>\n",
       "    </tr>\n",
       "  </thead>\n",
       "  <tbody>\n",
       "    <tr>\n",
       "      <th>0</th>\n",
       "      <td>dominerd</td>\n",
       "      <td>107.2.198.58</td>\n",
       "      <td>8080</td>\n",
       "      <td>400</td>\n",
       "      <td>DRDOS</td>\n",
       "      <td>1378263237</td>\n",
       "    </tr>\n",
       "    <tr>\n",
       "      <th>1</th>\n",
       "      <td>Rigour</td>\n",
       "      <td>123.211.154.254</td>\n",
       "      <td>80</td>\n",
       "      <td>0</td>\n",
       "      <td>DRDOS</td>\n",
       "      <td>1378307552</td>\n",
       "    </tr>\n",
       "    <tr>\n",
       "      <th>2</th>\n",
       "      <td>Rigour</td>\n",
       "      <td>198.27.75.55</td>\n",
       "      <td>25565</td>\n",
       "      <td>0</td>\n",
       "      <td>DRDOS</td>\n",
       "      <td>1378326488</td>\n",
       "    </tr>\n",
       "    <tr>\n",
       "      <th>3</th>\n",
       "      <td>Rigour</td>\n",
       "      <td>82.45.73.76</td>\n",
       "      <td>53</td>\n",
       "      <td>0</td>\n",
       "      <td>DRDOS</td>\n",
       "      <td>1378334408</td>\n",
       "    </tr>\n",
       "    <tr>\n",
       "      <th>4</th>\n",
       "      <td>Rigour</td>\n",
       "      <td>178.33.143.97</td>\n",
       "      <td>80</td>\n",
       "      <td>0</td>\n",
       "      <td>DRDOS</td>\n",
       "      <td>1378343669</td>\n",
       "    </tr>\n",
       "    <tr>\n",
       "      <th>5</th>\n",
       "      <td>Rigour</td>\n",
       "      <td>198.20.101.120</td>\n",
       "      <td>80</td>\n",
       "      <td>0</td>\n",
       "      <td>DRDOS</td>\n",
       "      <td>1378404967</td>\n",
       "    </tr>\n",
       "    <tr>\n",
       "      <th>6</th>\n",
       "      <td>Rigour</td>\n",
       "      <td>213.107.159.172</td>\n",
       "      <td>53</td>\n",
       "      <td>0</td>\n",
       "      <td>DRDOS</td>\n",
       "      <td>1378413383</td>\n",
       "    </tr>\n",
       "    <tr>\n",
       "      <th>7</th>\n",
       "      <td>Rigour</td>\n",
       "      <td>198.27.75.55</td>\n",
       "      <td>25565</td>\n",
       "      <td>0</td>\n",
       "      <td>DRDOS</td>\n",
       "      <td>1378416760</td>\n",
       "    </tr>\n",
       "    <tr>\n",
       "      <th>8</th>\n",
       "      <td>Rigour</td>\n",
       "      <td>213.107.159.172</td>\n",
       "      <td>53</td>\n",
       "      <td>0</td>\n",
       "      <td>DRDOS</td>\n",
       "      <td>1378419772</td>\n",
       "    </tr>\n",
       "    <tr>\n",
       "      <th>9</th>\n",
       "      <td>Rigour</td>\n",
       "      <td>199.83.50.45</td>\n",
       "      <td>25565</td>\n",
       "      <td>3600</td>\n",
       "      <td>DRDOS</td>\n",
       "      <td>1378422239</td>\n",
       "    </tr>\n",
       "    <tr>\n",
       "      <th>10</th>\n",
       "      <td>Rigour</td>\n",
       "      <td>5.135.144.137</td>\n",
       "      <td>9987</td>\n",
       "      <td>3600</td>\n",
       "      <td>DRDOS</td>\n",
       "      <td>1378435698</td>\n",
       "    </tr>\n",
       "    <tr>\n",
       "      <th>11</th>\n",
       "      <td>brett</td>\n",
       "      <td>92.234.80.154</td>\n",
       "      <td>80</td>\n",
       "      <td>0</td>\n",
       "      <td>DRDOS</td>\n",
       "      <td>1378516273</td>\n",
       "    </tr>\n",
       "    <tr>\n",
       "      <th>12</th>\n",
       "      <td>brett</td>\n",
       "      <td>92.234.80.154</td>\n",
       "      <td>80</td>\n",
       "      <td>0</td>\n",
       "      <td>DRDOS</td>\n",
       "      <td>1378516295</td>\n",
       "    </tr>\n",
       "    <tr>\n",
       "      <th>13</th>\n",
       "      <td>brett</td>\n",
       "      <td>74.103.218.113</td>\n",
       "      <td>80</td>\n",
       "      <td>0</td>\n",
       "      <td>DRDOS</td>\n",
       "      <td>1378519604</td>\n",
       "    </tr>\n",
       "    <tr>\n",
       "      <th>14</th>\n",
       "      <td>brett</td>\n",
       "      <td>74.103.218.113</td>\n",
       "      <td>80</td>\n",
       "      <td>0</td>\n",
       "      <td>DRDOS</td>\n",
       "      <td>1378519629</td>\n",
       "    </tr>\n",
       "    <tr>\n",
       "      <th>15</th>\n",
       "      <td>brett</td>\n",
       "      <td>74.103.218.113</td>\n",
       "      <td>80</td>\n",
       "      <td>0</td>\n",
       "      <td>DRDOS</td>\n",
       "      <td>1378520237</td>\n",
       "    </tr>\n",
       "    <tr>\n",
       "      <th>16</th>\n",
       "      <td>brett</td>\n",
       "      <td>74.103.218.113</td>\n",
       "      <td>80</td>\n",
       "      <td>900</td>\n",
       "      <td>DRDOS</td>\n",
       "      <td>1378520283</td>\n",
       "    </tr>\n",
       "    <tr>\n",
       "      <th>17</th>\n",
       "      <td>brett</td>\n",
       "      <td>74.103.218.113</td>\n",
       "      <td>80</td>\n",
       "      <td>1200</td>\n",
       "      <td>DRDOS</td>\n",
       "      <td>1378522179</td>\n",
       "    </tr>\n",
       "  </tbody>\n",
       "</table>\n",
       "</div>"
      ],
      "text/plain": [
       "    dominerd   99.109.176.129   8080    70 CHARGEN  1378262797\n",
       "0   dominerd     107.2.198.58   8080   400   DRDOS  1378263237\n",
       "1     Rigour  123.211.154.254     80     0   DRDOS  1378307552\n",
       "2     Rigour     198.27.75.55  25565     0   DRDOS  1378326488\n",
       "3     Rigour      82.45.73.76     53     0   DRDOS  1378334408\n",
       "4     Rigour    178.33.143.97     80     0   DRDOS  1378343669\n",
       "5     Rigour   198.20.101.120     80     0   DRDOS  1378404967\n",
       "6     Rigour  213.107.159.172     53     0   DRDOS  1378413383\n",
       "7     Rigour     198.27.75.55  25565     0   DRDOS  1378416760\n",
       "8     Rigour  213.107.159.172     53     0   DRDOS  1378419772\n",
       "9     Rigour     199.83.50.45  25565  3600   DRDOS  1378422239\n",
       "10    Rigour    5.135.144.137   9987  3600   DRDOS  1378435698\n",
       "11     brett    92.234.80.154     80     0   DRDOS  1378516273\n",
       "12     brett    92.234.80.154     80     0   DRDOS  1378516295\n",
       "13     brett   74.103.218.113     80     0   DRDOS  1378519604\n",
       "14     brett   74.103.218.113     80     0   DRDOS  1378519629\n",
       "15     brett   74.103.218.113     80     0   DRDOS  1378520237\n",
       "16     brett   74.103.218.113     80   900   DRDOS  1378520283\n",
       "17     brett   74.103.218.113     80  1200   DRDOS  1378522179"
      ]
     },
     "execution_count": 26,
     "metadata": {},
     "output_type": "execute_result"
    }
   ],
   "source": [
    "tablename='logs'\n",
    "\n",
    "pd.read_csv(read_inserted_table_entirein1line(dumpfile, tablename),delimiter=\",\",error_bad_lines=False)"
   ]
  },
  {
   "cell_type": "markdown",
   "metadata": {},
   "source": [
    "#### Q1: Is this table different from other previous loaded table? YES \n",
    "#### Q2: Is this table similar to any table in the generic Booter database schema? YES\n",
    "    - This table looks like: attacks\n",
    "#### Q3: Are there modifications required? \n",
    "    - On the table name: \n",
    "        o logs -> attacks\n",
    "    - On the column type: \n",
    "        o date -> timestamp2datetime()\n",
    "    - On the column name:\n",
    "        o \n",
    "    - Add required columns:\n",
    "        o username\n",
    "        o targetip\n",
    "        o port\n",
    "        o duration\n",
    "        o type\n",
    "        o date\n",
    "\n",
    "        o id\n",
    "        o userid\n",
    "        o targeturl\n",
    "        \n",
    "\n",
    "    - Split columns:\n",
    "        o "
   ]
  },
  {
   "cell_type": "markdown",
   "metadata": {},
   "source": [
    "### Modifying table: 'logs'"
   ]
  },
  {
   "cell_type": "code",
   "execution_count": 27,
   "metadata": {
    "collapsed": false
   },
   "outputs": [
    {
     "data": {
      "text/html": [
       "<div>\n",
       "<table border=\"1\" class=\"dataframe\">\n",
       "  <thead>\n",
       "    <tr style=\"text-align: right;\">\n",
       "      <th></th>\n",
       "      <th>username</th>\n",
       "      <th>targetip</th>\n",
       "      <th>port</th>\n",
       "      <th>duration</th>\n",
       "      <th>type</th>\n",
       "      <th>date</th>\n",
       "      <th>id</th>\n",
       "      <th>userid</th>\n",
       "      <th>targeturl</th>\n",
       "    </tr>\n",
       "  </thead>\n",
       "  <tbody>\n",
       "    <tr>\n",
       "      <th>0</th>\n",
       "      <td>dominerd</td>\n",
       "      <td>99.109.176.129</td>\n",
       "      <td>8080</td>\n",
       "      <td>70</td>\n",
       "      <td>CHARGEN</td>\n",
       "      <td>2013-09-04 02:46:37</td>\n",
       "      <td>NaN</td>\n",
       "      <td>NaN</td>\n",
       "      <td></td>\n",
       "    </tr>\n",
       "    <tr>\n",
       "      <th>1</th>\n",
       "      <td>dominerd</td>\n",
       "      <td>107.2.198.58</td>\n",
       "      <td>8080</td>\n",
       "      <td>400</td>\n",
       "      <td>DRDOS</td>\n",
       "      <td>2013-09-04 02:53:57</td>\n",
       "      <td>NaN</td>\n",
       "      <td>NaN</td>\n",
       "      <td></td>\n",
       "    </tr>\n",
       "    <tr>\n",
       "      <th>2</th>\n",
       "      <td>Rigour</td>\n",
       "      <td>123.211.154.254</td>\n",
       "      <td>80</td>\n",
       "      <td>0</td>\n",
       "      <td>DRDOS</td>\n",
       "      <td>2013-09-04 15:12:32</td>\n",
       "      <td>NaN</td>\n",
       "      <td>NaN</td>\n",
       "      <td></td>\n",
       "    </tr>\n",
       "    <tr>\n",
       "      <th>3</th>\n",
       "      <td>Rigour</td>\n",
       "      <td>198.27.75.55</td>\n",
       "      <td>25565</td>\n",
       "      <td>0</td>\n",
       "      <td>DRDOS</td>\n",
       "      <td>2013-09-04 20:28:08</td>\n",
       "      <td>NaN</td>\n",
       "      <td>NaN</td>\n",
       "      <td></td>\n",
       "    </tr>\n",
       "    <tr>\n",
       "      <th>4</th>\n",
       "      <td>Rigour</td>\n",
       "      <td>82.45.73.76</td>\n",
       "      <td>53</td>\n",
       "      <td>0</td>\n",
       "      <td>DRDOS</td>\n",
       "      <td>2013-09-04 22:40:08</td>\n",
       "      <td>NaN</td>\n",
       "      <td>NaN</td>\n",
       "      <td></td>\n",
       "    </tr>\n",
       "    <tr>\n",
       "      <th>5</th>\n",
       "      <td>Rigour</td>\n",
       "      <td>178.33.143.97</td>\n",
       "      <td>80</td>\n",
       "      <td>0</td>\n",
       "      <td>DRDOS</td>\n",
       "      <td>2013-09-05 01:14:29</td>\n",
       "      <td>NaN</td>\n",
       "      <td>NaN</td>\n",
       "      <td></td>\n",
       "    </tr>\n",
       "    <tr>\n",
       "      <th>6</th>\n",
       "      <td>Rigour</td>\n",
       "      <td>198.20.101.120</td>\n",
       "      <td>80</td>\n",
       "      <td>0</td>\n",
       "      <td>DRDOS</td>\n",
       "      <td>2013-09-05 18:16:07</td>\n",
       "      <td>NaN</td>\n",
       "      <td>NaN</td>\n",
       "      <td></td>\n",
       "    </tr>\n",
       "    <tr>\n",
       "      <th>7</th>\n",
       "      <td>Rigour</td>\n",
       "      <td>213.107.159.172</td>\n",
       "      <td>53</td>\n",
       "      <td>0</td>\n",
       "      <td>DRDOS</td>\n",
       "      <td>2013-09-05 20:36:23</td>\n",
       "      <td>NaN</td>\n",
       "      <td>NaN</td>\n",
       "      <td></td>\n",
       "    </tr>\n",
       "    <tr>\n",
       "      <th>8</th>\n",
       "      <td>Rigour</td>\n",
       "      <td>198.27.75.55</td>\n",
       "      <td>25565</td>\n",
       "      <td>0</td>\n",
       "      <td>DRDOS</td>\n",
       "      <td>2013-09-05 21:32:40</td>\n",
       "      <td>NaN</td>\n",
       "      <td>NaN</td>\n",
       "      <td></td>\n",
       "    </tr>\n",
       "    <tr>\n",
       "      <th>9</th>\n",
       "      <td>Rigour</td>\n",
       "      <td>213.107.159.172</td>\n",
       "      <td>53</td>\n",
       "      <td>0</td>\n",
       "      <td>DRDOS</td>\n",
       "      <td>2013-09-05 22:22:52</td>\n",
       "      <td>NaN</td>\n",
       "      <td>NaN</td>\n",
       "      <td></td>\n",
       "    </tr>\n",
       "  </tbody>\n",
       "</table>\n",
       "</div>"
      ],
      "text/plain": [
       "   username         targetip   port  duration     type                date  \\\n",
       "0  dominerd   99.109.176.129   8080        70  CHARGEN 2013-09-04 02:46:37   \n",
       "1  dominerd     107.2.198.58   8080       400    DRDOS 2013-09-04 02:53:57   \n",
       "2    Rigour  123.211.154.254     80         0    DRDOS 2013-09-04 15:12:32   \n",
       "3    Rigour     198.27.75.55  25565         0    DRDOS 2013-09-04 20:28:08   \n",
       "4    Rigour      82.45.73.76     53         0    DRDOS 2013-09-04 22:40:08   \n",
       "5    Rigour    178.33.143.97     80         0    DRDOS 2013-09-05 01:14:29   \n",
       "6    Rigour   198.20.101.120     80         0    DRDOS 2013-09-05 18:16:07   \n",
       "7    Rigour  213.107.159.172     53         0    DRDOS 2013-09-05 20:36:23   \n",
       "8    Rigour     198.27.75.55  25565         0    DRDOS 2013-09-05 21:32:40   \n",
       "9    Rigour  213.107.159.172     53         0    DRDOS 2013-09-05 22:22:52   \n",
       "\n",
       "   id  userid targeturl  \n",
       "0 NaN     NaN            \n",
       "1 NaN     NaN            \n",
       "2 NaN     NaN            \n",
       "3 NaN     NaN            \n",
       "4 NaN     NaN            \n",
       "5 NaN     NaN            \n",
       "6 NaN     NaN            \n",
       "7 NaN     NaN            \n",
       "8 NaN     NaN            \n",
       "9 NaN     NaN            "
      ]
     },
     "execution_count": 27,
     "metadata": {},
     "output_type": "execute_result"
    }
   ],
   "source": [
    "# Loading the correct table name\n",
    "columns=['username','targetip','port','duration', 'type', 'date']\n",
    "df_attacks = pd.read_csv(read_inserted_table_entirein1line(dumpfile, tablename),delimiter=\",\",error_bad_lines=False,names=columns)\n",
    "\n",
    "# Converting columns\n",
    "df_attacks['date']=timestamp2datetime(df_attacks['date'])\n",
    "\n",
    "# Changing column names\n",
    "\n",
    "# Adding missing columns\n",
    "df_attacks['id']=np.nan\n",
    "df_attacks['userid']=np.nan\n",
    "df_attacks['targeturl']=''\n",
    "\n",
    "# Showing some lines after adapt the table\n",
    "df_attacks.head(10)"
   ]
  },
  {
   "cell_type": "markdown",
   "metadata": {},
   "source": [
    "## 6.6. Table: 'news'"
   ]
  },
  {
   "cell_type": "markdown",
   "metadata": {},
   "source": [
    "### How this table looks like without modification?"
   ]
  },
  {
   "cell_type": "code",
   "execution_count": 28,
   "metadata": {
    "collapsed": false
   },
   "outputs": [
    {
     "data": {
      "text/html": [
       "<div>\n",
       "<table border=\"1\" class=\"dataframe\">\n",
       "  <thead>\n",
       "    <tr style=\"text-align: right;\">\n",
       "      <th></th>\n",
       "      <th>29</th>\n",
       "      <th>ToS ( Terms of Service</th>\n",
       "      <th>1 By purchasing Stealth Stresser you agree to our ToS.&lt;br&gt; 2 We are not responsible for how ever you use this stresser&lt;br&gt; 3 You may not share your account if you will your account will be closed!&lt;br&gt; 4 We have the right to close any account we want or shut down the project at any time.&lt;br&gt; 5No Refunds or chargebacks  All sales are final.&lt;br&gt; 6We have the right to change the ToS anytime we want.&lt;br&gt;Disrespect will result in no more support &amp; no more updates. You\\ve been warned. &lt;br&gt; &lt;br&gt; &lt;br&gt; &lt;br&gt; &lt;br&gt; &lt;br&gt; &lt;br&gt;1353597966(36Later on the stresser will hit harderWe are going to add a dedicated server soon so if its hitting it will hit harder when we add that server.1373527742(39It should hit alot hard nowWe have added a 1GBPS dedicated server so it should hit harder.1373910351(46READHi everybody my api that I got off my friend doesnt even work now so I need to wait till he replys so I can resolve this or something. So in result it wont hit till I get it fixed.1375985926(47READApi is working now the power is back up and running.1375988481(49ToS ( Terms of Service</th>\n",
       "    </tr>\n",
       "  </thead>\n",
       "  <tbody>\n",
       "  </tbody>\n",
       "</table>\n",
       "</div>"
      ],
      "text/plain": [
       "Empty DataFrame\n",
       "Columns: [29, ToS ( Terms of Service, 1 By purchasing Stealth Stresser you agree to our ToS.<br> 2 We are not responsible for how ever you use this stresser<br> 3 You may not share your account if you will your account will be closed!<br> 4 We have the right to close any account we want or shut down the project at any time.<br> 5No Refunds or chargebacks  All sales are final.<br> 6We have the right to change the ToS anytime we want.<br>Disrespect will result in no more support & no more updates. You\\ve been warned. <br> <br> <br> <br> <br> <br> <br>1353597966(36Later on the stresser will hit harderWe are going to add a dedicated server soon so if its hitting it will hit harder when we add that server.1373527742(39It should hit alot hard nowWe have added a 1GBPS dedicated server so it should hit harder.1373910351(46READHi everybody my api that I got off my friend doesnt even work now so I need to wait till he replys so I can resolve this or something. So in result it wont hit till I get it fixed.1375985926(47READApi is working now the power is back up and running.1375988481(49ToS ( Terms of Service]\n",
       "Index: []"
      ]
     },
     "execution_count": 28,
     "metadata": {},
     "output_type": "execute_result"
    }
   ],
   "source": [
    "tablename='news'\n",
    "\n",
    "pd.read_csv(read_inserted_table_entirein1line(dumpfile, tablename),delimiter=\",\",error_bad_lines=False).head(10)"
   ]
  },
  {
   "cell_type": "markdown",
   "metadata": {},
   "source": [
    "#### Q1: Is this table different from other previous loaded table? YES \n",
    "#### Q2: Is this table similar to any table in the generic Booter database schema? NO\n",
    "    - This table looks like: \n",
    "#### Q3: Are there modifications required? \n",
    "    - On the table name: \n",
    "        o \n",
    "    - On the column type: \n",
    "        o \n",
    "    - On the column name:\n",
    "        o \n",
    "    - Add required columns:\n",
    "        o \n",
    "    - Split columns:\n",
    "        o "
   ]
  },
  {
   "cell_type": "markdown",
   "metadata": {},
   "source": [
    "## 6.7. Table: 'payments'"
   ]
  },
  {
   "cell_type": "markdown",
   "metadata": {},
   "source": [
    "### How this table looks like without modification?"
   ]
  },
  {
   "cell_type": "code",
   "execution_count": 30,
   "metadata": {
    "collapsed": false
   },
   "outputs": [
    {
     "data": {
      "text/html": [
       "<div>\n",
       "<table border=\"1\" class=\"dataframe\">\n",
       "  <thead>\n",
       "    <tr style=\"text-align: right;\">\n",
       "      <th></th>\n",
       "      <th>1</th>\n",
       "      <th>18</th>\n",
       "      <th>49</th>\n",
       "      <th>824</th>\n",
       "      <th>dowley.Trevor@Yahoo.com</th>\n",
       "      <th>2SW7239274641070A</th>\n",
       "      <th>1374076531</th>\n",
       "    </tr>\n",
       "  </thead>\n",
       "  <tbody>\n",
       "    <tr>\n",
       "      <th>0</th>\n",
       "      <td>2</td>\n",
       "      <td>2</td>\n",
       "      <td>38</td>\n",
       "      <td>832</td>\n",
       "      <td>lccentore@gmail.com</td>\n",
       "      <td>2PG62971JF453412L</td>\n",
       "      <td>1374124380</td>\n",
       "    </tr>\n",
       "    <tr>\n",
       "      <th>1</th>\n",
       "      <td>3</td>\n",
       "      <td>2</td>\n",
       "      <td>38</td>\n",
       "      <td>842</td>\n",
       "      <td>mw3clan27@gmail.com</td>\n",
       "      <td>50585789JY281032A</td>\n",
       "      <td>1374436073</td>\n",
       "    </tr>\n",
       "    <tr>\n",
       "      <th>2</th>\n",
       "      <td>4</td>\n",
       "      <td>7</td>\n",
       "      <td>41</td>\n",
       "      <td>865</td>\n",
       "      <td>aliciastrick01@hotmail.com</td>\n",
       "      <td>7KE93157UM496071B</td>\n",
       "      <td>1374689128</td>\n",
       "    </tr>\n",
       "    <tr>\n",
       "      <th>3</th>\n",
       "      <td>5</td>\n",
       "      <td>45</td>\n",
       "      <td>52</td>\n",
       "      <td>1473</td>\n",
       "      <td>tagsalestorect@gmail.com</td>\n",
       "      <td>4TY36479KC5592700</td>\n",
       "      <td>1378146737</td>\n",
       "    </tr>\n",
       "  </tbody>\n",
       "</table>\n",
       "</div>"
      ],
      "text/plain": [
       "   1  18  49   824     dowley.Trevor@Yahoo.com  2SW7239274641070A  1374076531\n",
       "0  2   2  38   832         lccentore@gmail.com  2PG62971JF453412L  1374124380\n",
       "1  3   2  38   842         mw3clan27@gmail.com  50585789JY281032A  1374436073\n",
       "2  4   7  41   865  aliciastrick01@hotmail.com  7KE93157UM496071B  1374689128\n",
       "3  5  45  52  1473    tagsalestorect@gmail.com  4TY36479KC5592700  1378146737"
      ]
     },
     "execution_count": 30,
     "metadata": {},
     "output_type": "execute_result"
    }
   ],
   "source": [
    "tablename='payments'\n",
    "\n",
    "pd.read_csv(read_inserted_table_entirein1line(dumpfile, tablename),delimiter=\",\",error_bad_lines=False).head(30)"
   ]
  },
  {
   "cell_type": "markdown",
   "metadata": {},
   "source": [
    "#### Q1: Is this table different from other previous loaded table? YES \n",
    "#### Q2: Is this table similar to any table in the generic Booter database schema? YES \n",
    "    - This table looks like: payments\n",
    "#### Q3: Are there modifications required? \n",
    "    - On the table name: \n",
    "        o \n",
    "    - On the column type: \n",
    "        o date -> timestamp2datetime()\n",
    "    - On the column name:\n",
    "        o \n",
    "    - Add required columns:\n",
    "        o id\n",
    "        o amountpaid\n",
    "        o planid\n",
    "        o userid\n",
    "        o paymentemail\n",
    "        o tid\n",
    "        -\n",
    "        o username\n",
    "    - Split columns:\n",
    "        o "
   ]
  },
  {
   "cell_type": "markdown",
   "metadata": {},
   "source": [
    "### Modifying table: 'payments'"
   ]
  },
  {
   "cell_type": "code",
   "execution_count": 33,
   "metadata": {
    "collapsed": false
   },
   "outputs": [
    {
     "data": {
      "text/html": [
       "<div>\n",
       "<table border=\"1\" class=\"dataframe\">\n",
       "  <thead>\n",
       "    <tr style=\"text-align: right;\">\n",
       "      <th></th>\n",
       "      <th>id</th>\n",
       "      <th>amountpaid</th>\n",
       "      <th>planid</th>\n",
       "      <th>userid</th>\n",
       "      <th>paymentemail</th>\n",
       "      <th>tid</th>\n",
       "      <th>date</th>\n",
       "      <th>username</th>\n",
       "    </tr>\n",
       "  </thead>\n",
       "  <tbody>\n",
       "    <tr>\n",
       "      <th>0</th>\n",
       "      <td>1</td>\n",
       "      <td>18</td>\n",
       "      <td>49</td>\n",
       "      <td>824</td>\n",
       "      <td>dowley.Trevor@Yahoo.com</td>\n",
       "      <td>2SW7239274641070A</td>\n",
       "      <td>2013-07-17 15:55:31</td>\n",
       "      <td>NaN</td>\n",
       "    </tr>\n",
       "    <tr>\n",
       "      <th>1</th>\n",
       "      <td>2</td>\n",
       "      <td>2</td>\n",
       "      <td>38</td>\n",
       "      <td>832</td>\n",
       "      <td>lccentore@gmail.com</td>\n",
       "      <td>2PG62971JF453412L</td>\n",
       "      <td>2013-07-18 05:13:00</td>\n",
       "      <td>NaN</td>\n",
       "    </tr>\n",
       "    <tr>\n",
       "      <th>2</th>\n",
       "      <td>3</td>\n",
       "      <td>2</td>\n",
       "      <td>38</td>\n",
       "      <td>842</td>\n",
       "      <td>mw3clan27@gmail.com</td>\n",
       "      <td>50585789JY281032A</td>\n",
       "      <td>2013-07-21 19:47:53</td>\n",
       "      <td>NaN</td>\n",
       "    </tr>\n",
       "    <tr>\n",
       "      <th>3</th>\n",
       "      <td>4</td>\n",
       "      <td>7</td>\n",
       "      <td>41</td>\n",
       "      <td>865</td>\n",
       "      <td>aliciastrick01@hotmail.com</td>\n",
       "      <td>7KE93157UM496071B</td>\n",
       "      <td>2013-07-24 18:05:28</td>\n",
       "      <td>NaN</td>\n",
       "    </tr>\n",
       "    <tr>\n",
       "      <th>4</th>\n",
       "      <td>5</td>\n",
       "      <td>45</td>\n",
       "      <td>52</td>\n",
       "      <td>1473</td>\n",
       "      <td>tagsalestorect@gmail.com</td>\n",
       "      <td>4TY36479KC5592700</td>\n",
       "      <td>2013-09-02 18:32:17</td>\n",
       "      <td>NaN</td>\n",
       "    </tr>\n",
       "  </tbody>\n",
       "</table>\n",
       "</div>"
      ],
      "text/plain": [
       "   id  amountpaid  planid  userid                paymentemail  \\\n",
       "0   1          18      49     824     dowley.Trevor@Yahoo.com   \n",
       "1   2           2      38     832         lccentore@gmail.com   \n",
       "2   3           2      38     842         mw3clan27@gmail.com   \n",
       "3   4           7      41     865  aliciastrick01@hotmail.com   \n",
       "4   5          45      52    1473    tagsalestorect@gmail.com   \n",
       "\n",
       "                 tid                date  username  \n",
       "0  2SW7239274641070A 2013-07-17 15:55:31       NaN  \n",
       "1  2PG62971JF453412L 2013-07-18 05:13:00       NaN  \n",
       "2  50585789JY281032A 2013-07-21 19:47:53       NaN  \n",
       "3  7KE93157UM496071B 2013-07-24 18:05:28       NaN  \n",
       "4  4TY36479KC5592700 2013-09-02 18:32:17       NaN  "
      ]
     },
     "execution_count": 33,
     "metadata": {},
     "output_type": "execute_result"
    }
   ],
   "source": [
    "# Loading the correct table name\n",
    "columns=['id','amountpaid','planid','userid','paymentemail','tid','date','username']\n",
    "df_payments = pd.read_csv(read_inserted_table_entirein1line(dumpfile, tablename),delimiter=\",\",error_bad_lines=False,names=columns)\n",
    "\n",
    "# Converting columns\n",
    "df_payments['date'] = timestamp2datetime(df_payments['date']) \n",
    "\n",
    "# Changing names of columns\n",
    "\n",
    "# Creating empty columns (with \"\" [for future string] or np.nan [for future float])\n",
    "\n",
    "# Showing some lines after adapt the table\n",
    "df_payments.head(10)"
   ]
  },
  {
   "cell_type": "markdown",
   "metadata": {},
   "source": [
    "## 6.8. Table: 'plans'"
   ]
  },
  {
   "cell_type": "markdown",
   "metadata": {},
   "source": [
    "### How this table looks like without modification?"
   ]
  },
  {
   "cell_type": "code",
   "execution_count": 34,
   "metadata": {
    "collapsed": false
   },
   "outputs": [
    {
     "data": {
      "text/html": [
       "<div>\n",
       "<table border=\"1\" class=\"dataframe\">\n",
       "  <thead>\n",
       "    <tr style=\"text-align: right;\">\n",
       "      <th></th>\n",
       "      <th>42</th>\n",
       "      <th>Bronze 3 Months</th>\n",
       "      <th>3GBPS Bronze 3 Months</th>\n",
       "      <th>1200</th>\n",
       "      <th>Months</th>\n",
       "      <th>3</th>\n",
       "      <th>25</th>\n",
       "    </tr>\n",
       "  </thead>\n",
       "  <tbody>\n",
       "    <tr>\n",
       "      <th>0</th>\n",
       "      <td>38</td>\n",
       "      <td>1 day trial</td>\n",
       "      <td>3GBPS 1 day trail</td>\n",
       "      <td>300</td>\n",
       "      <td>Days</td>\n",
       "      <td>1</td>\n",
       "      <td>2</td>\n",
       "    </tr>\n",
       "    <tr>\n",
       "      <th>1</th>\n",
       "      <td>41</td>\n",
       "      <td>Bronze Monthly</td>\n",
       "      <td>6GBPS Bronze Monthly</td>\n",
       "      <td>1200</td>\n",
       "      <td>Days</td>\n",
       "      <td>30</td>\n",
       "      <td>10</td>\n",
       "    </tr>\n",
       "    <tr>\n",
       "      <th>2</th>\n",
       "      <td>44</td>\n",
       "      <td>Bronze Lifetime</td>\n",
       "      <td>6GBPS Bronze Lifetime</td>\n",
       "      <td>1200</td>\n",
       "      <td>Years</td>\n",
       "      <td>20</td>\n",
       "      <td>35</td>\n",
       "    </tr>\n",
       "    <tr>\n",
       "      <th>3</th>\n",
       "      <td>45</td>\n",
       "      <td>Silver  Monthy</td>\n",
       "      <td>6GBPS Silver Monthly</td>\n",
       "      <td>2400</td>\n",
       "      <td>Days</td>\n",
       "      <td>30</td>\n",
       "      <td>15</td>\n",
       "    </tr>\n",
       "    <tr>\n",
       "      <th>4</th>\n",
       "      <td>46</td>\n",
       "      <td>Silver 3 Months</td>\n",
       "      <td>6GBPS Silver 3 Months</td>\n",
       "      <td>2400</td>\n",
       "      <td>Months</td>\n",
       "      <td>3</td>\n",
       "      <td>30</td>\n",
       "    </tr>\n",
       "    <tr>\n",
       "      <th>5</th>\n",
       "      <td>62</td>\n",
       "      <td>Platinum Lifetime</td>\n",
       "      <td>6GBPS Platinum Lifetime</td>\n",
       "      <td>7200</td>\n",
       "      <td>Years</td>\n",
       "      <td>20</td>\n",
       "      <td>75</td>\n",
       "    </tr>\n",
       "    <tr>\n",
       "      <th>6</th>\n",
       "      <td>48</td>\n",
       "      <td>Silver Lifetime</td>\n",
       "      <td>6GBPS Silver Lifetime</td>\n",
       "      <td>2400</td>\n",
       "      <td>Years</td>\n",
       "      <td>20</td>\n",
       "      <td>45</td>\n",
       "    </tr>\n",
       "    <tr>\n",
       "      <th>7</th>\n",
       "      <td>49</td>\n",
       "      <td>Gold Monthly</td>\n",
       "      <td>6GBPS Gold Monthly</td>\n",
       "      <td>3600</td>\n",
       "      <td>Days</td>\n",
       "      <td>30</td>\n",
       "      <td>20</td>\n",
       "    </tr>\n",
       "    <tr>\n",
       "      <th>8</th>\n",
       "      <td>50</td>\n",
       "      <td>Gold 3 Months</td>\n",
       "      <td>6GBPS Gold 3 Months</td>\n",
       "      <td>3600</td>\n",
       "      <td>Months</td>\n",
       "      <td>3</td>\n",
       "      <td>35</td>\n",
       "    </tr>\n",
       "    <tr>\n",
       "      <th>9</th>\n",
       "      <td>61</td>\n",
       "      <td>Special Lifetime</td>\n",
       "      <td>6GBPS Special Lifetime</td>\n",
       "      <td>1000</td>\n",
       "      <td>Years</td>\n",
       "      <td>20</td>\n",
       "      <td>30</td>\n",
       "    </tr>\n",
       "  </tbody>\n",
       "</table>\n",
       "</div>"
      ],
      "text/plain": [
       "   42    Bronze 3 Months    3GBPS Bronze 3 Months  1200  Months   3  25\n",
       "0  38        1 day trial        3GBPS 1 day trail   300    Days   1   2\n",
       "1  41     Bronze Monthly     6GBPS Bronze Monthly  1200    Days  30  10\n",
       "2  44    Bronze Lifetime    6GBPS Bronze Lifetime  1200   Years  20  35\n",
       "3  45     Silver  Monthy     6GBPS Silver Monthly  2400    Days  30  15\n",
       "4  46    Silver 3 Months    6GBPS Silver 3 Months  2400  Months   3  30\n",
       "5  62  Platinum Lifetime  6GBPS Platinum Lifetime  7200   Years  20  75\n",
       "6  48    Silver Lifetime    6GBPS Silver Lifetime  2400   Years  20  45\n",
       "7  49       Gold Monthly       6GBPS Gold Monthly  3600    Days  30  20\n",
       "8  50      Gold 3 Months      6GBPS Gold 3 Months  3600  Months   3  35\n",
       "9  61   Special Lifetime   6GBPS Special Lifetime  1000   Years  20  30"
      ]
     },
     "execution_count": 34,
     "metadata": {},
     "output_type": "execute_result"
    }
   ],
   "source": [
    "tablename='plans'\n",
    "\n",
    "pd.read_csv(read_inserted_table_entirein1line(dumpfile, tablename),delimiter=\",\",error_bad_lines=False).head(10)"
   ]
  },
  {
   "cell_type": "markdown",
   "metadata": {},
   "source": [
    "#### Q1: Is this table different from other previous loaded table? YES \n",
    "#### Q2: Is this table similar to any table in the generic Booter database schema? YES\n",
    "    - This table looks like: plans\n",
    "#### Q3: Are there modifications required? \n",
    "    - On the table name: \n",
    "        o \n",
    "    - On the column type: \n",
    "        o \n",
    "    - On the column name:\n",
    "        o \n",
    "    - Add required columns:\n",
    "        o planid\n",
    "        o planname \n",
    "        o plandescr\n",
    "        o maxboottime\n",
    "        o expiration1\n",
    "        o expiration2\n",
    "        o price\n",
    "        -\n",
    "        o concurrecy\n",
    "    - Split columns:\n",
    "        o "
   ]
  },
  {
   "cell_type": "markdown",
   "metadata": {},
   "source": [
    "### Modifying table: 'plans'"
   ]
  },
  {
   "cell_type": "code",
   "execution_count": 37,
   "metadata": {
    "collapsed": false
   },
   "outputs": [
    {
     "data": {
      "text/html": [
       "<div>\n",
       "<table border=\"1\" class=\"dataframe\">\n",
       "  <thead>\n",
       "    <tr style=\"text-align: right;\">\n",
       "      <th></th>\n",
       "      <th>planid</th>\n",
       "      <th>planname</th>\n",
       "      <th>plandescr</th>\n",
       "      <th>maxboottime</th>\n",
       "      <th>expiration1</th>\n",
       "      <th>expiration2</th>\n",
       "      <th>price</th>\n",
       "      <th>concurrency</th>\n",
       "    </tr>\n",
       "  </thead>\n",
       "  <tbody>\n",
       "    <tr>\n",
       "      <th>0</th>\n",
       "      <td>42</td>\n",
       "      <td>Bronze 3 Months</td>\n",
       "      <td>3GBPS Bronze 3 Months</td>\n",
       "      <td>1200</td>\n",
       "      <td>Months</td>\n",
       "      <td>3</td>\n",
       "      <td>25</td>\n",
       "      <td>NaN</td>\n",
       "    </tr>\n",
       "    <tr>\n",
       "      <th>1</th>\n",
       "      <td>38</td>\n",
       "      <td>1 day trial</td>\n",
       "      <td>3GBPS 1 day trail</td>\n",
       "      <td>300</td>\n",
       "      <td>Days</td>\n",
       "      <td>1</td>\n",
       "      <td>2</td>\n",
       "      <td>NaN</td>\n",
       "    </tr>\n",
       "    <tr>\n",
       "      <th>2</th>\n",
       "      <td>41</td>\n",
       "      <td>Bronze Monthly</td>\n",
       "      <td>6GBPS Bronze Monthly</td>\n",
       "      <td>1200</td>\n",
       "      <td>Days</td>\n",
       "      <td>30</td>\n",
       "      <td>10</td>\n",
       "      <td>NaN</td>\n",
       "    </tr>\n",
       "    <tr>\n",
       "      <th>3</th>\n",
       "      <td>44</td>\n",
       "      <td>Bronze Lifetime</td>\n",
       "      <td>6GBPS Bronze Lifetime</td>\n",
       "      <td>1200</td>\n",
       "      <td>Years</td>\n",
       "      <td>20</td>\n",
       "      <td>35</td>\n",
       "      <td>NaN</td>\n",
       "    </tr>\n",
       "    <tr>\n",
       "      <th>4</th>\n",
       "      <td>45</td>\n",
       "      <td>Silver  Monthy</td>\n",
       "      <td>6GBPS Silver Monthly</td>\n",
       "      <td>2400</td>\n",
       "      <td>Days</td>\n",
       "      <td>30</td>\n",
       "      <td>15</td>\n",
       "      <td>NaN</td>\n",
       "    </tr>\n",
       "    <tr>\n",
       "      <th>5</th>\n",
       "      <td>46</td>\n",
       "      <td>Silver 3 Months</td>\n",
       "      <td>6GBPS Silver 3 Months</td>\n",
       "      <td>2400</td>\n",
       "      <td>Months</td>\n",
       "      <td>3</td>\n",
       "      <td>30</td>\n",
       "      <td>NaN</td>\n",
       "    </tr>\n",
       "    <tr>\n",
       "      <th>6</th>\n",
       "      <td>62</td>\n",
       "      <td>Platinum Lifetime</td>\n",
       "      <td>6GBPS Platinum Lifetime</td>\n",
       "      <td>7200</td>\n",
       "      <td>Years</td>\n",
       "      <td>20</td>\n",
       "      <td>75</td>\n",
       "      <td>NaN</td>\n",
       "    </tr>\n",
       "    <tr>\n",
       "      <th>7</th>\n",
       "      <td>48</td>\n",
       "      <td>Silver Lifetime</td>\n",
       "      <td>6GBPS Silver Lifetime</td>\n",
       "      <td>2400</td>\n",
       "      <td>Years</td>\n",
       "      <td>20</td>\n",
       "      <td>45</td>\n",
       "      <td>NaN</td>\n",
       "    </tr>\n",
       "    <tr>\n",
       "      <th>8</th>\n",
       "      <td>49</td>\n",
       "      <td>Gold Monthly</td>\n",
       "      <td>6GBPS Gold Monthly</td>\n",
       "      <td>3600</td>\n",
       "      <td>Days</td>\n",
       "      <td>30</td>\n",
       "      <td>20</td>\n",
       "      <td>NaN</td>\n",
       "    </tr>\n",
       "    <tr>\n",
       "      <th>9</th>\n",
       "      <td>50</td>\n",
       "      <td>Gold 3 Months</td>\n",
       "      <td>6GBPS Gold 3 Months</td>\n",
       "      <td>3600</td>\n",
       "      <td>Months</td>\n",
       "      <td>3</td>\n",
       "      <td>35</td>\n",
       "      <td>NaN</td>\n",
       "    </tr>\n",
       "  </tbody>\n",
       "</table>\n",
       "</div>"
      ],
      "text/plain": [
       "   planid           planname                plandescr  maxboottime  \\\n",
       "0      42    Bronze 3 Months    3GBPS Bronze 3 Months         1200   \n",
       "1      38        1 day trial        3GBPS 1 day trail          300   \n",
       "2      41     Bronze Monthly     6GBPS Bronze Monthly         1200   \n",
       "3      44    Bronze Lifetime    6GBPS Bronze Lifetime         1200   \n",
       "4      45     Silver  Monthy     6GBPS Silver Monthly         2400   \n",
       "5      46    Silver 3 Months    6GBPS Silver 3 Months         2400   \n",
       "6      62  Platinum Lifetime  6GBPS Platinum Lifetime         7200   \n",
       "7      48    Silver Lifetime    6GBPS Silver Lifetime         2400   \n",
       "8      49       Gold Monthly       6GBPS Gold Monthly         3600   \n",
       "9      50      Gold 3 Months      6GBPS Gold 3 Months         3600   \n",
       "\n",
       "  expiration1  expiration2  price  concurrency  \n",
       "0      Months            3     25          NaN  \n",
       "1        Days            1      2          NaN  \n",
       "2        Days           30     10          NaN  \n",
       "3       Years           20     35          NaN  \n",
       "4        Days           30     15          NaN  \n",
       "5      Months            3     30          NaN  \n",
       "6       Years           20     75          NaN  \n",
       "7       Years           20     45          NaN  \n",
       "8        Days           30     20          NaN  \n",
       "9      Months            3     35          NaN  "
      ]
     },
     "execution_count": 37,
     "metadata": {},
     "output_type": "execute_result"
    }
   ],
   "source": [
    "# Loading the correct table name\n",
    "columns=['planid','planname', 'plandescr', 'maxboottime','expiration1', 'expiration2','price','concurrency']\n",
    "df_plans = pd.read_csv(read_inserted_table_entirein1line(dumpfile, tablename),delimiter=\",\",error_bad_lines=False, names=columns)\n",
    "\n",
    "# Converting columns\n",
    "\n",
    "# Changing names of columns\n",
    "\n",
    "# Creating empty columns (with \"\" [for future string] or np.nan [for future float])\n",
    "\n",
    "# Showing some lines after adapt the table\n",
    "df_plans.head(10)"
   ]
  },
  {
   "cell_type": "markdown",
   "metadata": {},
   "source": [
    "## 6.9. Table: 'skype_api'"
   ]
  },
  {
   "cell_type": "markdown",
   "metadata": {},
   "source": [
    "### How this table looks like without modification?"
   ]
  },
  {
   "cell_type": "code",
   "execution_count": 38,
   "metadata": {
    "collapsed": false
   },
   "outputs": [
    {
     "data": {
      "text/html": [
       "<div>\n",
       "<table border=\"1\" class=\"dataframe\">\n",
       "  <thead>\n",
       "    <tr style=\"text-align: right;\">\n",
       "      <th></th>\n",
       "      <th>2</th>\n",
       "      <th>93.114.45.84</th>\n",
       "    </tr>\n",
       "  </thead>\n",
       "  <tbody>\n",
       "  </tbody>\n",
       "</table>\n",
       "</div>"
      ],
      "text/plain": [
       "Empty DataFrame\n",
       "Columns: [2, 93.114.45.84 ]\n",
       "Index: []"
      ]
     },
     "execution_count": 38,
     "metadata": {},
     "output_type": "execute_result"
    }
   ],
   "source": [
    "tablename='skype_api'\n",
    "\n",
    "pd.read_csv(read_inserted_table_entirein1line(dumpfile, tablename),delimiter=\",\",error_bad_lines=False).head(10)"
   ]
  },
  {
   "cell_type": "markdown",
   "metadata": {},
   "source": [
    "#### Q1: Is this table different from other previous loaded table? YES \n",
    "#### Q2: Is this table similar to any table in the generic Booter database schema? NO\n",
    "    - This table looks like: \n",
    "#### Q3: Are there modifications required? \n",
    "    - On the table name: \n",
    "        o \n",
    "    - On the column type: \n",
    "        o \n",
    "    - On the column name:\n",
    "        o \n",
    "    - Add required columns:\n",
    "        o \n",
    "    - Split columns:\n",
    "        o "
   ]
  },
  {
   "cell_type": "markdown",
   "metadata": {},
   "source": [
    "## 6.10. Table: 'users'"
   ]
  },
  {
   "cell_type": "markdown",
   "metadata": {},
   "source": [
    "### How this table looks like without modification?"
   ]
  },
  {
   "cell_type": "code",
   "execution_count": 40,
   "metadata": {
    "collapsed": false
   },
   "outputs": [
    {
     "data": {
      "text/html": [
       "<div>\n",
       "<table border=\"1\" class=\"dataframe\">\n",
       "  <thead>\n",
       "    <tr style=\"text-align: right;\">\n",
       "      <th></th>\n",
       "      <th>871</th>\n",
       "      <th>swatted</th>\n",
       "      <th>dd50e050d7759c30f82725a4eae46844701b3c91</th>\n",
       "      <th>jonathanfoster20@gmail.com</th>\n",
       "      <th>0</th>\n",
       "      <th>0.1</th>\n",
       "      <th>0.2</th>\n",
       "      <th>0.3</th>\n",
       "      <th>Teeqo</th>\n",
       "    </tr>\n",
       "  </thead>\n",
       "  <tbody>\n",
       "    <tr>\n",
       "      <th>0</th>\n",
       "      <td>796</td>\n",
       "      <td>KnockSteady</td>\n",
       "      <td>a9a61999d7570ae1ae5107c7eee23692823c64b2</td>\n",
       "      <td>soomindpark@me.com</td>\n",
       "      <td>1</td>\n",
       "      <td>52</td>\n",
       "      <td>2008977261</td>\n",
       "      <td>0</td>\n",
       "      <td>NaN</td>\n",
       "    </tr>\n",
       "    <tr>\n",
       "      <th>1</th>\n",
       "      <td>1476</td>\n",
       "      <td>Cred</td>\n",
       "      <td>834593265b5678ff6848dfd0d9cb401df71fee96</td>\n",
       "      <td>Credasityy@gmail.com</td>\n",
       "      <td>0</td>\n",
       "      <td>0</td>\n",
       "      <td>0</td>\n",
       "      <td>0</td>\n",
       "      <td>Error</td>\n",
       "    </tr>\n",
       "    <tr>\n",
       "      <th>2</th>\n",
       "      <td>805</td>\n",
       "      <td>yaseen46</td>\n",
       "      <td>04d354679cb9d2c822805bf68eb4d1f08e96a5b4</td>\n",
       "      <td>yourmom@youhome.com</td>\n",
       "      <td>0</td>\n",
       "      <td>0</td>\n",
       "      <td>0</td>\n",
       "      <td>0</td>\n",
       "      <td>NaN</td>\n",
       "    </tr>\n",
       "    <tr>\n",
       "      <th>3</th>\n",
       "      <td>842</td>\n",
       "      <td>patrick3233</td>\n",
       "      <td>4c9693c7531ce0a6a0dba58c87418747e60a75ef</td>\n",
       "      <td>dragon12@live.dk</td>\n",
       "      <td>0</td>\n",
       "      <td>0</td>\n",
       "      <td>1374522473</td>\n",
       "      <td>0</td>\n",
       "      <td>Codex_Legends</td>\n",
       "    </tr>\n",
       "    <tr>\n",
       "      <th>4</th>\n",
       "      <td>812</td>\n",
       "      <td>bigdaddy69</td>\n",
       "      <td>94ad646af91dd2afd3754776cf31a993955a6b5c</td>\n",
       "      <td>brettmabry1@gmail.com</td>\n",
       "      <td>0</td>\n",
       "      <td>52</td>\n",
       "      <td>2004832145</td>\n",
       "      <td>0</td>\n",
       "      <td>NaN</td>\n",
       "    </tr>\n",
       "    <tr>\n",
       "      <th>5</th>\n",
       "      <td>828</td>\n",
       "      <td>Degree</td>\n",
       "      <td>8dd197c39890842518bef914380e59135c0ee592</td>\n",
       "      <td>vitalxeffectz@gmail.com</td>\n",
       "      <td>0</td>\n",
       "      <td>0</td>\n",
       "      <td>0</td>\n",
       "      <td>0</td>\n",
       "      <td>Crook</td>\n",
       "    </tr>\n",
       "    <tr>\n",
       "      <th>6</th>\n",
       "      <td>819</td>\n",
       "      <td>Storytellin</td>\n",
       "      <td>6402fa06a9740c51b3a946085d60059819e4a312</td>\n",
       "      <td>Storytellin@story.com</td>\n",
       "      <td>0</td>\n",
       "      <td>0</td>\n",
       "      <td>0</td>\n",
       "      <td>0</td>\n",
       "      <td>NaN</td>\n",
       "    </tr>\n",
       "    <tr>\n",
       "      <th>7</th>\n",
       "      <td>872</td>\n",
       "      <td>KingRecon</td>\n",
       "      <td>985e8f25c0a698926bee3364782af93c0cd5872f</td>\n",
       "      <td>SuPraSnip@gmail.com</td>\n",
       "      <td>0</td>\n",
       "      <td>0</td>\n",
       "      <td>0</td>\n",
       "      <td>0</td>\n",
       "      <td>NaN</td>\n",
       "    </tr>\n",
       "    <tr>\n",
       "      <th>8</th>\n",
       "      <td>835</td>\n",
       "      <td>Rigour</td>\n",
       "      <td>15702b4fa7ef2ed38e2b4f6aad7dee6824441f8b</td>\n",
       "      <td>anonymousrigour@gmail.com</td>\n",
       "      <td>1</td>\n",
       "      <td>52</td>\n",
       "      <td>2006192884</td>\n",
       "      <td>0</td>\n",
       "      <td>NaN</td>\n",
       "    </tr>\n",
       "    <tr>\n",
       "      <th>9</th>\n",
       "      <td>832</td>\n",
       "      <td>TakeoverXbox</td>\n",
       "      <td>84d24425d9fa012817c77da188f95d1beb3d6434</td>\n",
       "      <td>lccentore@gmail.com</td>\n",
       "      <td>0</td>\n",
       "      <td>0</td>\n",
       "      <td>0</td>\n",
       "      <td>0</td>\n",
       "      <td>Teeqo</td>\n",
       "    </tr>\n",
       "    <tr>\n",
       "      <th>10</th>\n",
       "      <td>838</td>\n",
       "      <td>thinrocket</td>\n",
       "      <td>a9b951d59ce32e2d40258594da22df46ba84f629</td>\n",
       "      <td>myserverisnumber1@gmail.com</td>\n",
       "      <td>0</td>\n",
       "      <td>58</td>\n",
       "      <td>2005371840</td>\n",
       "      <td>0</td>\n",
       "      <td>NaN</td>\n",
       "    </tr>\n",
       "    <tr>\n",
       "      <th>11</th>\n",
       "      <td>870</td>\n",
       "      <td>mlgisbrguy1</td>\n",
       "      <td>1157a80106a1970e1093e7b4ca6b94d7ffc4e6e7</td>\n",
       "      <td>bkspud1@hotmail.com</td>\n",
       "      <td>0</td>\n",
       "      <td>0</td>\n",
       "      <td>0</td>\n",
       "      <td>1</td>\n",
       "      <td>NaN</td>\n",
       "    </tr>\n",
       "    <tr>\n",
       "      <th>12</th>\n",
       "      <td>857</td>\n",
       "      <td>ModzClanMW2</td>\n",
       "      <td>a8124b773c8d97f10e4185f066a4b544d1abbfac</td>\n",
       "      <td>coletonishmael@rogers.com</td>\n",
       "      <td>0</td>\n",
       "      <td>0</td>\n",
       "      <td>0</td>\n",
       "      <td>0</td>\n",
       "      <td>NaN</td>\n",
       "    </tr>\n",
       "    <tr>\n",
       "      <th>13</th>\n",
       "      <td>1478</td>\n",
       "      <td>the1nonlyoz</td>\n",
       "      <td>e199f89d0ceb1a035741a6b21af264ef1c92b28d</td>\n",
       "      <td>llxll_o_z_llxll@yahoo.com</td>\n",
       "      <td>0</td>\n",
       "      <td>0</td>\n",
       "      <td>0</td>\n",
       "      <td>0</td>\n",
       "      <td>none</td>\n",
       "    </tr>\n",
       "    <tr>\n",
       "      <th>14</th>\n",
       "      <td>877</td>\n",
       "      <td>sadasdasdasd</td>\n",
       "      <td>fc2ce9fda153bc74f888f35399f451c45ec6beeb</td>\n",
       "      <td>asdasdd@gmail.com</td>\n",
       "      <td>0</td>\n",
       "      <td>0</td>\n",
       "      <td>0</td>\n",
       "      <td>0</td>\n",
       "      <td>NaN</td>\n",
       "    </tr>\n",
       "    <tr>\n",
       "      <th>15</th>\n",
       "      <td>878</td>\n",
       "      <td>ClarkKent</td>\n",
       "      <td>0d6d74df8448b4fb473094b15af18e1f1300638e</td>\n",
       "      <td>MrClarkKent@outlook.com</td>\n",
       "      <td>0</td>\n",
       "      <td>0</td>\n",
       "      <td>0</td>\n",
       "      <td>0</td>\n",
       "      <td>NaN</td>\n",
       "    </tr>\n",
       "    <tr>\n",
       "      <th>16</th>\n",
       "      <td>1199</td>\n",
       "      <td>Lfox</td>\n",
       "      <td>5ca450ef0fdcc238fabf990ad47be410841c5d16</td>\n",
       "      <td>Itslandonfox@yahoo.com</td>\n",
       "      <td>0</td>\n",
       "      <td>0</td>\n",
       "      <td>0</td>\n",
       "      <td>0</td>\n",
       "      <td>NaN</td>\n",
       "    </tr>\n",
       "    <tr>\n",
       "      <th>17</th>\n",
       "      <td>1459</td>\n",
       "      <td>imgabe</td>\n",
       "      <td>794133cf0ac2bdcd262612e3b82a62b7ce589624</td>\n",
       "      <td>uhgabe@gmail.com</td>\n",
       "      <td>0</td>\n",
       "      <td>0</td>\n",
       "      <td>0</td>\n",
       "      <td>0</td>\n",
       "      <td>NaN</td>\n",
       "    </tr>\n",
       "    <tr>\n",
       "      <th>18</th>\n",
       "      <td>1458</td>\n",
       "      <td>BigBlack2</td>\n",
       "      <td>5994ac3426e3a2aa58017bfb725a8d7082aeecc8</td>\n",
       "      <td>cluedzn1@gmail.com</td>\n",
       "      <td>0</td>\n",
       "      <td>0</td>\n",
       "      <td>0</td>\n",
       "      <td>0</td>\n",
       "      <td>NaN</td>\n",
       "    </tr>\n",
       "    <tr>\n",
       "      <th>19</th>\n",
       "      <td>1462</td>\n",
       "      <td>thinrocket</td>\n",
       "      <td>696abe24a027b31398bd4db1fbcf13f51f75dc7e</td>\n",
       "      <td>Mistisanon@live.ca</td>\n",
       "      <td>0</td>\n",
       "      <td>0</td>\n",
       "      <td>0</td>\n",
       "      <td>0</td>\n",
       "      <td>NaN</td>\n",
       "    </tr>\n",
       "    <tr>\n",
       "      <th>20</th>\n",
       "      <td>1480</td>\n",
       "      <td>durah</td>\n",
       "      <td>7c34d3efccfda40a760025ab90250bec2fb008e8</td>\n",
       "      <td>durahble@gmail.com</td>\n",
       "      <td>0</td>\n",
       "      <td>0</td>\n",
       "      <td>0</td>\n",
       "      <td>0</td>\n",
       "      <td>NaN</td>\n",
       "    </tr>\n",
       "    <tr>\n",
       "      <th>21</th>\n",
       "      <td>1464</td>\n",
       "      <td>hackee</td>\n",
       "      <td>eed097fe8b7f44f55bb6a27f2645b1b12dd847e1</td>\n",
       "      <td>ajrocker_011@yahoo.com</td>\n",
       "      <td>0</td>\n",
       "      <td>0</td>\n",
       "      <td>0</td>\n",
       "      <td>0</td>\n",
       "      <td>NaN</td>\n",
       "    </tr>\n",
       "    <tr>\n",
       "      <th>22</th>\n",
       "      <td>1467</td>\n",
       "      <td>Ephan</td>\n",
       "      <td>b9a7b05bfd486078010d08db73adc46bb9f134e2</td>\n",
       "      <td>wadeboy_12@hotmail.com</td>\n",
       "      <td>1</td>\n",
       "      <td>52</td>\n",
       "      <td>2009164254</td>\n",
       "      <td>0</td>\n",
       "      <td>NaN</td>\n",
       "    </tr>\n",
       "    <tr>\n",
       "      <th>23</th>\n",
       "      <td>1470</td>\n",
       "      <td>Rigour</td>\n",
       "      <td>5e48a8b71d2012aeee87e22367ca9013cd9295b8</td>\n",
       "      <td>rigour@bk.ru</td>\n",
       "      <td>1</td>\n",
       "      <td>52</td>\n",
       "      <td>2009210207</td>\n",
       "      <td>0</td>\n",
       "      <td>NaN</td>\n",
       "    </tr>\n",
       "    <tr>\n",
       "      <th>24</th>\n",
       "      <td>1473</td>\n",
       "      <td>brett</td>\n",
       "      <td>927502f778422c39196e03aced388c8d8a5c2daf</td>\n",
       "      <td>brett998@gmail.com</td>\n",
       "      <td>0</td>\n",
       "      <td>44</td>\n",
       "      <td>2009299253</td>\n",
       "      <td>0</td>\n",
       "      <td>error</td>\n",
       "    </tr>\n",
       "    <tr>\n",
       "      <th>25</th>\n",
       "      <td>1474</td>\n",
       "      <td>Blitzy0</td>\n",
       "      <td>05b74132431f85ceb632990c3440d80faa3cbdfb</td>\n",
       "      <td>allstarhg@earthlink.net</td>\n",
       "      <td>0</td>\n",
       "      <td>0</td>\n",
       "      <td>0</td>\n",
       "      <td>0</td>\n",
       "      <td>allstarhg@earthlink.et</td>\n",
       "    </tr>\n",
       "  </tbody>\n",
       "</table>\n",
       "</div>"
      ],
      "text/plain": [
       "     871       swatted  dd50e050d7759c30f82725a4eae46844701b3c91  \\\n",
       "0    796   KnockSteady  a9a61999d7570ae1ae5107c7eee23692823c64b2   \n",
       "1   1476          Cred  834593265b5678ff6848dfd0d9cb401df71fee96   \n",
       "2    805      yaseen46  04d354679cb9d2c822805bf68eb4d1f08e96a5b4   \n",
       "3    842   patrick3233  4c9693c7531ce0a6a0dba58c87418747e60a75ef   \n",
       "4    812    bigdaddy69  94ad646af91dd2afd3754776cf31a993955a6b5c   \n",
       "5    828        Degree  8dd197c39890842518bef914380e59135c0ee592   \n",
       "6    819   Storytellin  6402fa06a9740c51b3a946085d60059819e4a312   \n",
       "7    872     KingRecon  985e8f25c0a698926bee3364782af93c0cd5872f   \n",
       "8    835        Rigour  15702b4fa7ef2ed38e2b4f6aad7dee6824441f8b   \n",
       "9    832  TakeoverXbox  84d24425d9fa012817c77da188f95d1beb3d6434   \n",
       "10   838    thinrocket  a9b951d59ce32e2d40258594da22df46ba84f629   \n",
       "11   870   mlgisbrguy1  1157a80106a1970e1093e7b4ca6b94d7ffc4e6e7   \n",
       "12   857   ModzClanMW2  a8124b773c8d97f10e4185f066a4b544d1abbfac   \n",
       "13  1478   the1nonlyoz  e199f89d0ceb1a035741a6b21af264ef1c92b28d   \n",
       "14   877  sadasdasdasd  fc2ce9fda153bc74f888f35399f451c45ec6beeb   \n",
       "15   878     ClarkKent  0d6d74df8448b4fb473094b15af18e1f1300638e   \n",
       "16  1199          Lfox  5ca450ef0fdcc238fabf990ad47be410841c5d16   \n",
       "17  1459        imgabe  794133cf0ac2bdcd262612e3b82a62b7ce589624   \n",
       "18  1458     BigBlack2  5994ac3426e3a2aa58017bfb725a8d7082aeecc8   \n",
       "19  1462    thinrocket  696abe24a027b31398bd4db1fbcf13f51f75dc7e   \n",
       "20  1480         durah  7c34d3efccfda40a760025ab90250bec2fb008e8   \n",
       "21  1464        hackee  eed097fe8b7f44f55bb6a27f2645b1b12dd847e1   \n",
       "22  1467         Ephan  b9a7b05bfd486078010d08db73adc46bb9f134e2   \n",
       "23  1470        Rigour  5e48a8b71d2012aeee87e22367ca9013cd9295b8   \n",
       "24  1473         brett  927502f778422c39196e03aced388c8d8a5c2daf   \n",
       "25  1474       Blitzy0  05b74132431f85ceb632990c3440d80faa3cbdfb   \n",
       "\n",
       "     jonathanfoster20@gmail.com  0  0.1         0.2  0.3  \\\n",
       "0            soomindpark@me.com  1   52  2008977261    0   \n",
       "1          Credasityy@gmail.com  0    0           0    0   \n",
       "2           yourmom@youhome.com  0    0           0    0   \n",
       "3              dragon12@live.dk  0    0  1374522473    0   \n",
       "4         brettmabry1@gmail.com  0   52  2004832145    0   \n",
       "5       vitalxeffectz@gmail.com  0    0           0    0   \n",
       "6         Storytellin@story.com  0    0           0    0   \n",
       "7           SuPraSnip@gmail.com  0    0           0    0   \n",
       "8     anonymousrigour@gmail.com  1   52  2006192884    0   \n",
       "9           lccentore@gmail.com  0    0           0    0   \n",
       "10  myserverisnumber1@gmail.com  0   58  2005371840    0   \n",
       "11          bkspud1@hotmail.com  0    0           0    1   \n",
       "12    coletonishmael@rogers.com  0    0           0    0   \n",
       "13    llxll_o_z_llxll@yahoo.com  0    0           0    0   \n",
       "14            asdasdd@gmail.com  0    0           0    0   \n",
       "15      MrClarkKent@outlook.com  0    0           0    0   \n",
       "16       Itslandonfox@yahoo.com  0    0           0    0   \n",
       "17             uhgabe@gmail.com  0    0           0    0   \n",
       "18           cluedzn1@gmail.com  0    0           0    0   \n",
       "19           Mistisanon@live.ca  0    0           0    0   \n",
       "20           durahble@gmail.com  0    0           0    0   \n",
       "21       ajrocker_011@yahoo.com  0    0           0    0   \n",
       "22       wadeboy_12@hotmail.com  1   52  2009164254    0   \n",
       "23                 rigour@bk.ru  1   52  2009210207    0   \n",
       "24           brett998@gmail.com  0   44  2009299253    0   \n",
       "25      allstarhg@earthlink.net  0    0           0    0   \n",
       "\n",
       "                     Teeqo  \n",
       "0                      NaN  \n",
       "1                    Error  \n",
       "2                      NaN  \n",
       "3            Codex_Legends  \n",
       "4                      NaN  \n",
       "5                    Crook  \n",
       "6                      NaN  \n",
       "7                      NaN  \n",
       "8                      NaN  \n",
       "9                    Teeqo  \n",
       "10                     NaN  \n",
       "11                     NaN  \n",
       "12                     NaN  \n",
       "13                    none  \n",
       "14                     NaN  \n",
       "15                     NaN  \n",
       "16                     NaN  \n",
       "17                     NaN  \n",
       "18                     NaN  \n",
       "19                     NaN  \n",
       "20                     NaN  \n",
       "21                     NaN  \n",
       "22                     NaN  \n",
       "23                     NaN  \n",
       "24                   error  \n",
       "25  allstarhg@earthlink.et  "
      ]
     },
     "execution_count": 40,
     "metadata": {},
     "output_type": "execute_result"
    }
   ],
   "source": [
    "tablename='users'\n",
    "\n",
    "pd.read_csv(read_inserted_table_entirein1line(dumpfile, tablename),delimiter=\",\",error_bad_lines=False).head(30)"
   ]
  },
  {
   "cell_type": "markdown",
   "metadata": {},
   "source": [
    "#### Q1: Is this table different from other previous loaded table? YES \n",
    "#### Q2: Is this table similar to any table in the generic Booter database schema? YES \n",
    "    - This table looks like: users\n",
    "#### Q3: Are there modifications required? \n",
    "    - On the table name: \n",
    "        o \n",
    "    - On the column type: \n",
    "        o expire -> timestamp2datetime()\n",
    "    - On the column name:\n",
    "        o userid\n",
    "        o username\n",
    "        o password\n",
    "        o useremail \n",
    "        o unknown1\n",
    "        o unknown2\n",
    "        o expire\n",
    "        o unknown3\n",
    "        o unknown4\n",
    "        o planid\n",
    "    - Add required columns:\n",
    "        o \n",
    "    - Split columns:\n",
    "        o "
   ]
  },
  {
   "cell_type": "markdown",
   "metadata": {},
   "source": [
    "### Modifying table: 'users'"
   ]
  },
  {
   "cell_type": "code",
   "execution_count": 41,
   "metadata": {
    "collapsed": false
   },
   "outputs": [
    {
     "data": {
      "text/html": [
       "<div>\n",
       "<table border=\"1\" class=\"dataframe\">\n",
       "  <thead>\n",
       "    <tr style=\"text-align: right;\">\n",
       "      <th></th>\n",
       "      <th>userid</th>\n",
       "      <th>username</th>\n",
       "      <th>password</th>\n",
       "      <th>useremail</th>\n",
       "      <th>unknown1</th>\n",
       "      <th>unknown2</th>\n",
       "      <th>expire</th>\n",
       "      <th>unknown3</th>\n",
       "      <th>unknown4</th>\n",
       "      <th>planid</th>\n",
       "    </tr>\n",
       "  </thead>\n",
       "  <tbody>\n",
       "    <tr>\n",
       "      <th>0</th>\n",
       "      <td>871</td>\n",
       "      <td>swatted</td>\n",
       "      <td>dd50e050d7759c30f82725a4eae46844701b3c91</td>\n",
       "      <td>jonathanfoster20@gmail.com</td>\n",
       "      <td>0</td>\n",
       "      <td>0</td>\n",
       "      <td>1970-01-01 00:00:00</td>\n",
       "      <td>0</td>\n",
       "      <td>Teeqo</td>\n",
       "      <td>NaN</td>\n",
       "    </tr>\n",
       "    <tr>\n",
       "      <th>1</th>\n",
       "      <td>796</td>\n",
       "      <td>KnockSteady</td>\n",
       "      <td>a9a61999d7570ae1ae5107c7eee23692823c64b2</td>\n",
       "      <td>soomindpark@me.com</td>\n",
       "      <td>1</td>\n",
       "      <td>52</td>\n",
       "      <td>2033-08-30 01:14:21</td>\n",
       "      <td>0</td>\n",
       "      <td>NaN</td>\n",
       "      <td>NaN</td>\n",
       "    </tr>\n",
       "    <tr>\n",
       "      <th>2</th>\n",
       "      <td>1476</td>\n",
       "      <td>Cred</td>\n",
       "      <td>834593265b5678ff6848dfd0d9cb401df71fee96</td>\n",
       "      <td>Credasityy@gmail.com</td>\n",
       "      <td>0</td>\n",
       "      <td>0</td>\n",
       "      <td>1970-01-01 00:00:00</td>\n",
       "      <td>0</td>\n",
       "      <td>Error</td>\n",
       "      <td>NaN</td>\n",
       "    </tr>\n",
       "    <tr>\n",
       "      <th>3</th>\n",
       "      <td>805</td>\n",
       "      <td>yaseen46</td>\n",
       "      <td>04d354679cb9d2c822805bf68eb4d1f08e96a5b4</td>\n",
       "      <td>yourmom@youhome.com</td>\n",
       "      <td>0</td>\n",
       "      <td>0</td>\n",
       "      <td>1970-01-01 00:00:00</td>\n",
       "      <td>0</td>\n",
       "      <td>NaN</td>\n",
       "      <td>NaN</td>\n",
       "    </tr>\n",
       "    <tr>\n",
       "      <th>4</th>\n",
       "      <td>842</td>\n",
       "      <td>patrick3233</td>\n",
       "      <td>4c9693c7531ce0a6a0dba58c87418747e60a75ef</td>\n",
       "      <td>dragon12@live.dk</td>\n",
       "      <td>0</td>\n",
       "      <td>0</td>\n",
       "      <td>2013-07-22 19:47:53</td>\n",
       "      <td>0</td>\n",
       "      <td>Codex_Legends</td>\n",
       "      <td>NaN</td>\n",
       "    </tr>\n",
       "    <tr>\n",
       "      <th>5</th>\n",
       "      <td>812</td>\n",
       "      <td>bigdaddy69</td>\n",
       "      <td>94ad646af91dd2afd3754776cf31a993955a6b5c</td>\n",
       "      <td>brettmabry1@gmail.com</td>\n",
       "      <td>0</td>\n",
       "      <td>52</td>\n",
       "      <td>2033-07-13 01:49:05</td>\n",
       "      <td>0</td>\n",
       "      <td>NaN</td>\n",
       "      <td>NaN</td>\n",
       "    </tr>\n",
       "    <tr>\n",
       "      <th>6</th>\n",
       "      <td>828</td>\n",
       "      <td>Degree</td>\n",
       "      <td>8dd197c39890842518bef914380e59135c0ee592</td>\n",
       "      <td>vitalxeffectz@gmail.com</td>\n",
       "      <td>0</td>\n",
       "      <td>0</td>\n",
       "      <td>1970-01-01 00:00:00</td>\n",
       "      <td>0</td>\n",
       "      <td>Crook</td>\n",
       "      <td>NaN</td>\n",
       "    </tr>\n",
       "    <tr>\n",
       "      <th>7</th>\n",
       "      <td>819</td>\n",
       "      <td>Storytellin</td>\n",
       "      <td>6402fa06a9740c51b3a946085d60059819e4a312</td>\n",
       "      <td>Storytellin@story.com</td>\n",
       "      <td>0</td>\n",
       "      <td>0</td>\n",
       "      <td>1970-01-01 00:00:00</td>\n",
       "      <td>0</td>\n",
       "      <td>NaN</td>\n",
       "      <td>NaN</td>\n",
       "    </tr>\n",
       "    <tr>\n",
       "      <th>8</th>\n",
       "      <td>872</td>\n",
       "      <td>KingRecon</td>\n",
       "      <td>985e8f25c0a698926bee3364782af93c0cd5872f</td>\n",
       "      <td>SuPraSnip@gmail.com</td>\n",
       "      <td>0</td>\n",
       "      <td>0</td>\n",
       "      <td>1970-01-01 00:00:00</td>\n",
       "      <td>0</td>\n",
       "      <td>NaN</td>\n",
       "      <td>NaN</td>\n",
       "    </tr>\n",
       "    <tr>\n",
       "      <th>9</th>\n",
       "      <td>835</td>\n",
       "      <td>Rigour</td>\n",
       "      <td>15702b4fa7ef2ed38e2b4f6aad7dee6824441f8b</td>\n",
       "      <td>anonymousrigour@gmail.com</td>\n",
       "      <td>1</td>\n",
       "      <td>52</td>\n",
       "      <td>2033-07-28 19:48:04</td>\n",
       "      <td>0</td>\n",
       "      <td>NaN</td>\n",
       "      <td>NaN</td>\n",
       "    </tr>\n",
       "  </tbody>\n",
       "</table>\n",
       "</div>"
      ],
      "text/plain": [
       "   userid     username                                  password  \\\n",
       "0     871      swatted  dd50e050d7759c30f82725a4eae46844701b3c91   \n",
       "1     796  KnockSteady  a9a61999d7570ae1ae5107c7eee23692823c64b2   \n",
       "2    1476         Cred  834593265b5678ff6848dfd0d9cb401df71fee96   \n",
       "3     805     yaseen46  04d354679cb9d2c822805bf68eb4d1f08e96a5b4   \n",
       "4     842  patrick3233  4c9693c7531ce0a6a0dba58c87418747e60a75ef   \n",
       "5     812   bigdaddy69  94ad646af91dd2afd3754776cf31a993955a6b5c   \n",
       "6     828       Degree  8dd197c39890842518bef914380e59135c0ee592   \n",
       "7     819  Storytellin  6402fa06a9740c51b3a946085d60059819e4a312   \n",
       "8     872    KingRecon  985e8f25c0a698926bee3364782af93c0cd5872f   \n",
       "9     835       Rigour  15702b4fa7ef2ed38e2b4f6aad7dee6824441f8b   \n",
       "\n",
       "                    useremail  unknown1  unknown2              expire  \\\n",
       "0  jonathanfoster20@gmail.com         0         0 1970-01-01 00:00:00   \n",
       "1          soomindpark@me.com         1        52 2033-08-30 01:14:21   \n",
       "2        Credasityy@gmail.com         0         0 1970-01-01 00:00:00   \n",
       "3         yourmom@youhome.com         0         0 1970-01-01 00:00:00   \n",
       "4            dragon12@live.dk         0         0 2013-07-22 19:47:53   \n",
       "5       brettmabry1@gmail.com         0        52 2033-07-13 01:49:05   \n",
       "6     vitalxeffectz@gmail.com         0         0 1970-01-01 00:00:00   \n",
       "7       Storytellin@story.com         0         0 1970-01-01 00:00:00   \n",
       "8         SuPraSnip@gmail.com         0         0 1970-01-01 00:00:00   \n",
       "9   anonymousrigour@gmail.com         1        52 2033-07-28 19:48:04   \n",
       "\n",
       "   unknown3       unknown4  planid  \n",
       "0         0          Teeqo     NaN  \n",
       "1         0            NaN     NaN  \n",
       "2         0          Error     NaN  \n",
       "3         0            NaN     NaN  \n",
       "4         0  Codex_Legends     NaN  \n",
       "5         0            NaN     NaN  \n",
       "6         0          Crook     NaN  \n",
       "7         0            NaN     NaN  \n",
       "8         0            NaN     NaN  \n",
       "9         0            NaN     NaN  "
      ]
     },
     "execution_count": 41,
     "metadata": {},
     "output_type": "execute_result"
    }
   ],
   "source": [
    "# Loading the correct table name\n",
    "columns = ['userid','username','password','useremail','unknown1','unknown2','expire','unknown3','unknown4','planid']\n",
    "df_users = pd.read_csv(read_inserted_table_entirein1line(dumpfile, tablename),delimiter=\",\",error_bad_lines=False,names=columns)\n",
    "\n",
    "# Converting columns\n",
    "df_users['expire'] = timestamp2datetime(df_users['expire']) \n",
    "\n",
    "# Changing names of columns\n",
    "\n",
    "# Creating empty columns (with \"\" [for future string] or np.nan [for future float])\n",
    "\n",
    "# Showing some lines after adapt the table\n",
    "df_users.head(10)"
   ]
  },
  {
   "cell_type": "markdown",
   "metadata": {},
   "source": [
    "<h2 align='center'>======================================================================\n",
    "<br>Final step of the manual part\n",
    "======================================================================</h2>"
   ]
  },
  {
   "cell_type": "markdown",
   "metadata": {},
   "source": [
    "## 7. Adding missing tables accordingly to our generic Booter database "
   ]
  },
  {
   "cell_type": "code",
   "execution_count": null,
   "metadata": {
    "collapsed": false
   },
   "outputs": [],
   "source": [
    "df_attacks= pd.DataFrame(columns=['id','userid','username','targetip','targeturl','duration','port','type','date'])\n",
    "#df_blacklist=pd.DataFrame(columns=['id','ip','note'])\n",
    "#df_friendsenemies=pd.DataFrame(columns=['id','ip','note','userid','type'])\n",
    "#df_gateways=pd.DataFrame(columns=['email'])\n",
    "#df_logins=pd.DataFrame(columns=['id','userid','username','userip','date'])\n",
    "#df_payments=pd.DataFrame(columns=['id','userid','username','amountpaid','paymentemail','planid','tid','date'])\n",
    "df_plans=pd.DataFrame(columns=['planid','planname','plandescr','price','maxboottime','concurrency'])\n",
    "df_servers=pd.DataFrame(columns=['id','ip'])\n",
    "df_settings=pd.DataFrame(columns=['url','sitename','siteemail'])\n",
    "#df_users=pd.DataFrame(columns=['userid','username','useremail','password','expire','plan'])      \n",
    "df_webshells=pd.DataFrame(columns=['id','url','status','lastchecked','attacktype'])"
   ]
  },
  {
   "cell_type": "markdown",
   "metadata": {},
   "source": [
    "<h1 align=\"center\">\n",
    "!!!!!!!!!!!!!!!!!!!!!!!!!!!!!!!!!!!!!!!!!!!!!!!!!!!!!!!!!!!!!!!!!!!!!!!!!!!!!!!!!!!!!!!!!!!!!!!!!!!!!!!!!!!!!!!!!!!!!!!!!!!!!!!!!!!!!!!!!<br>\n",
    "STEP 2: Data Enrichment<br>\n",
    "!!!!!!!!!!!!!!!!!!!!!!!!!!!!!!!!!!!!!!!!!!!!!!!!!!!!!!!!!!!!!!!!!!!!!!!!!!!!!!!!!!!!!!!!!!!!!!!!!!!!!!!!!!!!!!!!!!!!!!!!!!!!!!!</h1> "
   ]
  },
  {
   "cell_type": "markdown",
   "metadata": {},
   "source": [
    "### * Depending of the size of the data, this part can take HOURS. I tested for both small and big datasets and it worked. Be pacient. This will pay-off!"
   ]
  },
  {
   "cell_type": "markdown",
   "metadata": {},
   "source": [
    "## * Libraries needed to retrieve information from external databases"
   ]
  },
  {
   "cell_type": "code",
   "execution_count": null,
   "metadata": {
    "collapsed": true
   },
   "outputs": [],
   "source": [
    "import subprocess\n",
    "import cfscrape\n",
    "from lxml import etree\n",
    "import os.path\n",
    "import random\n",
    "import time "
   ]
  },
  {
   "cell_type": "markdown",
   "metadata": {},
   "source": [
    "## * Function to enrich IP addresseswith AS information and country "
   ]
  },
  {
   "cell_type": "code",
   "execution_count": null,
   "metadata": {
    "collapsed": false
   },
   "outputs": [],
   "source": [
    "# THANKS TO: team-cymru.org\n",
    "def iptoasn(iplist_teamcymruformat_filelocation,outputfile):\n",
    "    cat = subprocess.Popen(['cat', iplist_teamcymruformat_filelocation], \n",
    "                            stdout=subprocess.PIPE)\n",
    "    \n",
    "    netcat = subprocess.Popen(['netcat', 'whois.cymru.com', '43'],\n",
    "                              stdin=cat.stdout,\n",
    "                              stdout=outputfile)\n",
    "    time.sleep(3) #for some reason the poll does not work! This was the way to overcome the waiting time.\n",
    "    \n",
    "    return netcat.stdout      "
   ]
  },
  {
   "cell_type": "markdown",
   "metadata": {},
   "source": [
    "## * Function to check if an IP address was Tor node in a given moment"
   ]
  },
  {
   "cell_type": "code",
   "execution_count": null,
   "metadata": {
    "collapsed": true
   },
   "outputs": [],
   "source": [
    "# THANKS TO: exonerator.torproject.org\n",
    "def WasTorNode(ip, date ):\n",
    "    url=\"https://exonerator.torproject.org/?ip=\"+ip+\"&timestamp=\"+date\n",
    "    scraper = cfscrape.create_scraper()\n",
    "    scraped_html=scraper.get(url).content    \n",
    "    html_tree = etree.HTML(scraped_html)\n",
    "    result=html_tree.xpath(\"//h3[@class='panel-title']/text()\") # I was looking for <h3 class=\"panel-title\">Result is positive</h3>\n",
    "    tor_node=True if result == ['Result is positive'] else False\n",
    "    return tor_node \n",
    "# 'date' MUST BE formated as: Year-month-day (2016-03-31)"
   ]
  },
  {
   "cell_type": "markdown",
   "metadata": {},
   "source": [
    "## * Discovering the middle date of the database"
   ]
  },
  {
   "cell_type": "code",
   "execution_count": null,
   "metadata": {
    "collapsed": false
   },
   "outputs": [],
   "source": [
    "try:\n",
    "    try:\n",
    "        middle_date=(min(df_attacks['date'])+((max(df_attacks['date'])-min(df_attacks['date']))/2))\n",
    "        raise\n",
    "    except Exception:\n",
    "        pass\n",
    "\n",
    "    try:\n",
    "        middle_date=(min(df_logins['date'])+((max(df_logins['date'])-min(df_logins['date']))/2))\n",
    "        raise\n",
    "    except Exception:\n",
    "        pass\n",
    "\n",
    "    try:\n",
    "        middle_date=(min(df_payments['date'])+((max(df_payments['date'])-min(df_payments['date']))/2))\n",
    "        raise\n",
    "    except:\n",
    "        pass\n",
    "except Exception:\n",
    "    print(\"There is no date in the entire dataset\")\n",
    "\n",
    "date_tor_check = middle_date.strftime('%Y-%m-%d')\n",
    "date_iptoasn_lookup= str(middle_date)\n",
    "print(date_tor_check)"
   ]
  },
  {
   "cell_type": "markdown",
   "metadata": {},
   "source": [
    "## * Preparing to Perform IP to ASN info"
   ]
  },
  {
   "cell_type": "code",
   "execution_count": null,
   "metadata": {
    "collapsed": false
   },
   "outputs": [],
   "source": [
    "df_logins['middledate']=date_iptoasn_lookup\n",
    "df_attacks['middledate']=date_iptoasn_lookup\n",
    "df_friendsenemies['middledate']=date_iptoasn_lookup\n",
    "df_blacklist['middledate']=date_iptoasn_lookup"
   ]
  },
  {
   "cell_type": "markdown",
   "metadata": {},
   "source": [
    "## 2.1.1  Lookup IP to ASN info of table: logins"
   ]
  },
  {
   "cell_type": "code",
   "execution_count": null,
   "metadata": {
    "collapsed": false
   },
   "outputs": [],
   "source": [
    "if (os.path.exists('enrichments/logins_iptoasn_out')== False):\n",
    "    logins_iptoasn_in = open('enrichments/logins_iptoasn_in', 'w+')\n",
    "    logins_iptoasn_in.write('begin\\nverbose\\n')\n",
    "    df_logins[['userip','middledate']].drop_duplicates().to_csv(logins_iptoasn_in,header=False,index=False,sep=\"\\t\") \n",
    "    logins_iptoasn_in.write('end')\n",
    "    logins_iptoasn_in.close()\n",
    "\n",
    "    logins_iptoasn_out = open('logins_iptoasn_out', 'w+')\n",
    "    iptoasn('logins_iptoasn_in',logins_iptoasn_out)\n",
    "    logins_iptoasn_out.close()\n",
    "else:\n",
    "    print(\"You already performed the lookup for this table\")"
   ]
  },
  {
   "cell_type": "code",
   "execution_count": null,
   "metadata": {
    "collapsed": false
   },
   "outputs": [],
   "source": [
    "df_logins_iptoasn = pd.read_csv('enrichments/logins_iptoasn_out',\\\n",
    "                                skiprows=1,\\\n",
    "                             delimiter=\"\\s+\\|\\s\",\\\n",
    "                             names = ['asn', 'ip', 'bgp_prefix', 'country','registry','info_date','info_request','as_name'])\n",
    "\n",
    "df_logins_extended= pd.merge(df_logins,\n",
    "                              df_logins_iptoasn,\n",
    "                              how = 'left',\n",
    "                              left_on = 'userip',\n",
    "                              right_on = 'ip')\n",
    "\n",
    "# Changing name of columns to avoid misunderstandings\n",
    "df_logins_extended.rename(columns={'asn':'srcasn', \n",
    "                                   'ip':'srcip', \n",
    "                                   'bgp_prefix':'srcbgp_prefix', \n",
    "                                   'country':'srccountry' ,\n",
    "                                   'registry':'srcregistry',\n",
    "                                   'info_date':'srcinfo_date',\n",
    "                                   'info_request':'srcinfo_request'},\n",
    "                         inplace=True)\n",
    "\n",
    "\n",
    "df_logins_extended.head(5)"
   ]
  },
  {
   "cell_type": "markdown",
   "metadata": {},
   "source": [
    "## 2.1.2  Lookup IP to ASN info of table: attacks"
   ]
  },
  {
   "cell_type": "code",
   "execution_count": null,
   "metadata": {
    "collapsed": false
   },
   "outputs": [],
   "source": [
    "if (os.path.exists('enrichments/attacks_iptoasn_out')== False):\n",
    "    attacks_iptoasn_in = open('enrichments/attacks_iptoasn_in', 'w+')\n",
    "    attacks_iptoasn_in.write('begin\\nverbose\\n')\n",
    "    df_attacks[['targetip','middledate']].drop_duplicates().to_csv(attacks_iptoasn_in,header=False,index=False,sep=\"\\t\") \n",
    "    attacks_iptoasn_in.write('end')\n",
    "    attacks_iptoasn_in.close()\n",
    "\n",
    "    attacks_iptoasn_out = open('attacks_iptoasn_out', 'w+')\n",
    "    iptoasn('attacks_iptoasn_in',attacks_iptoasn_out)\n",
    "    attacks_iptoasn_out.close()\n",
    "else:\n",
    "    print(\"You already performed the lookup for this table\")"
   ]
  },
  {
   "cell_type": "code",
   "execution_count": null,
   "metadata": {
    "collapsed": false
   },
   "outputs": [],
   "source": [
    "df_attacks_iptoasn = pd.read_csv('enrichments/attacks_iptoasn_out',\\\n",
    "                                skiprows=1,\\\n",
    "                             delimiter=\"\\s+\\|\\s\",\\\n",
    "                             names = ['asn', 'ip', 'bgp_prefix', 'country','registry','info_date','info_request','as_name'])\n",
    "\n",
    "# Merging the iptoasn with the queried column\n",
    "df_attacks_extended= pd.merge(df_attacks,\n",
    "                              df_attacks_iptoasn,\n",
    "                              how = 'left',\n",
    "                              left_on = 'targetip',\n",
    "                              right_on = 'ip')\n",
    "\n",
    "# Changing name of columns to avoid misunderstandings\n",
    "df_attacks_extended.rename(columns={'asn':'targetasn', \n",
    "                                   'ip_y':'targetip', \n",
    "                                   'bgp_prefix':'targetbgp_prefix', \n",
    "                                   'country_y':'targetcountry' ,\n",
    "                                   'registry':'targetregistry',\n",
    "                                   'info_date':'targetinfo_date',\n",
    "                                   'info_request':'targetinfo_request'},\n",
    "                         inplace=True)\n",
    "df_attacks_extended.head(5)"
   ]
  },
  {
   "cell_type": "markdown",
   "metadata": {},
   "source": [
    "## 2.1.3  Lookup IP to ASN info of table: friendsenemies"
   ]
  },
  {
   "cell_type": "code",
   "execution_count": null,
   "metadata": {
    "collapsed": false
   },
   "outputs": [],
   "source": [
    "if (os.path.exists('enrichments/friendsenemies_iptoasn_out')== False):\n",
    "    friendsenemies_iptoasn_in = open('enrichments/friendsenemies_iptoasn_in', 'w+')\n",
    "    friendsenemies_iptoasn_in.write('begin\\nverbose\\n')\n",
    "    df_friendsenemies[['ip','middledate']].drop_duplicates().to_csv(friendsenemies_iptoasn_in,header=False,index=False,sep=\"\\t\") \n",
    "    friendsenemies_iptoasn_in.write('end')\n",
    "    friendsenemies_iptoasn_in.close()\n",
    "\n",
    "    friendsenemies_iptoasn_out = open('friendsenemies_iptoasn_out', 'w+')\n",
    "    iptoasn('friendsenemies_iptoasn_in',friendsenemies_iptoasn_out)\n",
    "    friendsenemies_iptoasn_out.close()\n",
    "else:\n",
    "    print(\"You already performed the lookup for this table.\")"
   ]
  },
  {
   "cell_type": "code",
   "execution_count": null,
   "metadata": {
    "collapsed": false
   },
   "outputs": [],
   "source": [
    "df_friendsenemies_iptoasn = pd.read_csv('enrichments/friendsenemies_iptoasn_out',\\\n",
    "                                skiprows=1,\\\n",
    "                             delimiter=\"\\s+\\|\\s\",\\\n",
    "                             names = ['asn', 'ip', 'bgp_prefix', 'country','registry','info_date','info_request','as_name'])\n",
    "\n",
    "# Merging the iptoasn with the queried column\n",
    "df_friendsenemies_extended= pd.merge(df_friendsenemies,\n",
    "                              df_friendsenemies_iptoasn,\n",
    "                              how = 'left',\n",
    "                              left_on = 'ip',\n",
    "                              right_on = 'ip')\n",
    "\n",
    "# Changing name of columns to avoid misunderstandings\n",
    "df_friendsenemies_extended.rename(columns={'asn':'friendsenemiesasn', \n",
    "                                   'ip':'friendsenemiesip', \n",
    "                                   'bgp_prefix':'friendsenemiesbgp_prefix', \n",
    "                                   'country':'friendsenemiescountry' ,\n",
    "                                   'registry':'friendsenemiesregistry',\n",
    "                                   'info_date':'friendsenemiesinfo_date',\n",
    "                                   'info_request':'friendsenemiesinfo_request',\n",
    "                                   'as_name': 'friendsenemiesas_name'},\n",
    "                         inplace=True)"
   ]
  },
  {
   "cell_type": "markdown",
   "metadata": {},
   "source": [
    "## 2.1.4  Lookup IP to ASN info of table: blacklist"
   ]
  },
  {
   "cell_type": "code",
   "execution_count": null,
   "metadata": {
    "collapsed": false
   },
   "outputs": [],
   "source": [
    "if (os.path.exists('enrichments/blacklist_iptoasn_out')== False):\n",
    "    blacklist_iptoasn_in = open('enrichments/blacklist_iptoasn_in', 'w+')\n",
    "    blacklist_iptoasn_in.write('begin\\nverbose\\n')\n",
    "    df_blacklist[['ip','middledate']].drop_duplicates().to_csv(blacklist_iptoasn_in,header=False,index=False,sep=\"\\t\") \n",
    "    blacklist_iptoasn_in.write('end')\n",
    "    blacklist_iptoasn_in.close()\n",
    "\n",
    "    blacklist_iptoasn_out = open('blacklist_iptoasn_out', 'w+')\n",
    "    iptoasn('blacklist_iptoasn_in',blacklist_iptoasn_out)\n",
    "    blacklist_iptoasn_out.close()\n",
    "else:\n",
    "    print(\"You already performed the lookup for this table.\")"
   ]
  },
  {
   "cell_type": "code",
   "execution_count": null,
   "metadata": {
    "collapsed": false
   },
   "outputs": [],
   "source": [
    "df_blacklist_iptoasn = pd.read_csv('enrichments/blacklist_iptoasn_out',\\\n",
    "                                skiprows=1,\\\n",
    "                             delimiter=\"\\s+\\|\\s\",\\\n",
    "                             names = ['asn', 'ip', 'bgp_prefix', 'country','registry','info_date','info_request','as_name'])\n",
    "\n",
    "# Merging the iptoasn with the queried column\n",
    "df_blacklist_extended= pd.merge(df_blacklist,\n",
    "                              df_blacklist_iptoasn,\n",
    "                              how = 'left',\n",
    "                              left_on = 'ip',\n",
    "                              right_on = 'ip')\n",
    "\n",
    "# Changing name of columns to avoid misunderstandings\n",
    "df_blacklist_extended.rename(columns={'asn':'blacklistasn', \n",
    "                                   'ip':'blacklistip', \n",
    "                                   'bgp_prefix':'blacklistbgp_prefix', \n",
    "                                   'country':'blacklistcountry' ,\n",
    "                                   'registry':'blacklistregistry',\n",
    "                                   'info_date':'blacklistinfo_date',\n",
    "                                   'info_request':'blacklistinfo_request',\n",
    "                                   'as_name': 'blacklistas_name'},\n",
    "                         inplace=True)\n",
    "df_blacklist_extended.head(5)"
   ]
  },
  {
   "cell_type": "markdown",
   "metadata": {},
   "source": [
    "## 2.2.1. Check if IP was a TOR node for table: login"
   ]
  },
  {
   "cell_type": "code",
   "execution_count": null,
   "metadata": {
    "collapsed": false
   },
   "outputs": [],
   "source": [
    "date_tor_check"
   ]
  },
  {
   "cell_type": "code",
   "execution_count": null,
   "metadata": {
    "collapsed": false,
    "scrolled": true
   },
   "outputs": [],
   "source": [
    "if len(df_logins['userip'].unique())<1200:\n",
    "    if (os.path.exists('enrichments/logins_torcheck')== False):\n",
    "        print(\"Note: it can take a while to finish...\")\n",
    "        logins_torcheck = open('logins_torcheck', 'w+')\n",
    "        for i in df_logins['userip'].unique():\n",
    "            wasTor=WasTorNode(i,date_tor_check)\n",
    "            print(i, wasTor, file=logins_torcheck)\n",
    "    #         print(i, wasTor) #DEBUGING =D\n",
    "            time.sleep(random.randint(1,3)) #adding some random sleep time\n",
    "            logins_torcheck.flush()\n",
    "\n",
    "        logins_torcheck.close()\n",
    "    else:\n",
    "        print(\"The IP addresses from this table were already checked.\")\n",
    "else:\n",
    "        print(\"Aborted!!! It will take more than one hour to analyse!\")"
   ]
  },
  {
   "cell_type": "code",
   "execution_count": null,
   "metadata": {
    "collapsed": true
   },
   "outputs": [],
   "source": [
    "df_logins_torcheck = pd.read_csv('enrichments/logins_torcheck',\\\n",
    "                          delimiter=\"\\s+\",\\\n",
    "                          names = ['userip', 'tor'])"
   ]
  },
  {
   "cell_type": "markdown",
   "metadata": {},
   "source": [
    "## 2.2.2. Check if IP was a TOR node for table: attacks"
   ]
  },
  {
   "cell_type": "code",
   "execution_count": null,
   "metadata": {
    "collapsed": false,
    "scrolled": false
   },
   "outputs": [],
   "source": [
    "if len(df_attacks['targetip'].unique())<1200:\n",
    "    if (os.path.exists('enrichments/attacks_torcheck')== False):\n",
    "        print(\"Note: it can take a while to finish...\",len(df_attacks['targetip'].unique())*3,\"seconds (in the worst case).\")\n",
    "\n",
    "        attacks_torcheck = open('attacks_torcheck', 'w+')\n",
    "\n",
    "        for i in df_attacks['targetip'].unique():\n",
    "            wasTor=WasTorNode(i,date_tor_check)\n",
    "            print(i, wasTor, file=attacks_torcheck)\n",
    "            print(i, wasTor) #DEBUGING =D\n",
    "            time.sleep(random.randint(1,3)) #adding some random sleep time\n",
    "            attacks_torcheck.flush()\n",
    "\n",
    "        attacks_torcheck.close()\n",
    "    else:\n",
    "        print(\"The IP addresses from this table were already checked.\") \n",
    "else:\n",
    "        print(\"Aborted!!! It will take more than one hour to analyse!\")"
   ]
  },
  {
   "cell_type": "code",
   "execution_count": null,
   "metadata": {
    "collapsed": true
   },
   "outputs": [],
   "source": [
    "df_attacks_torcheck = pd.read_csv('enrichments/attacks_torcheck',\\\n",
    "                          delimiter=\"\\s+\",\\\n",
    "                          names = ['targetip', 'tor'])"
   ]
  },
  {
   "cell_type": "markdown",
   "metadata": {},
   "source": [
    "## 2.2.3. Check if IP was a TOR node for table: friendsenemies"
   ]
  },
  {
   "cell_type": "code",
   "execution_count": null,
   "metadata": {
    "collapsed": false
   },
   "outputs": [],
   "source": [
    "if len(df_friendsenemies['ip'].unique()) <1200:\n",
    "    if (os.path.exists('enrichments/friendsenemies_torcheck')== False):\n",
    "        print(\"Note: it can take a while to finish...\",len(df_friendsenemies['ip'].unique())*3,\"seconds (in the worst case).\")\n",
    "\n",
    "        friendsenemies_torcheck = open('enrichments/friendsenemies_torcheck', 'w+')\n",
    "\n",
    "        for i in df_friendsenemies['ip'].unique():\n",
    "            wasTor=WasTorNode(i,date_tor_check)\n",
    "            print(i, wasTor, file=friendsenemies_torcheck)\n",
    "        #     print(i, wasTor) #DEBUGING =D\n",
    "            time.sleep(random.randint(1,3)) #adding some random sleep time\n",
    "            friendsenemies_torcheck.flush()\n",
    "\n",
    "        friendsenemies_torcheck.close()\n",
    "    else:\n",
    "        print(\"The IP addresses from this table were already checked.\") \n",
    "else:\n",
    "        print(\"Aborted!!! It will take more than one hour to analyse!\")"
   ]
  },
  {
   "cell_type": "code",
   "execution_count": null,
   "metadata": {
    "collapsed": true
   },
   "outputs": [],
   "source": [
    "df_friendsenemies_torcheck = pd.read_csv('enrichments/friendsenemies_torcheck',\\\n",
    "                          delimiter=\"\\s+\",\\\n",
    "                          names = ['ip', 'tor'])"
   ]
  },
  {
   "cell_type": "markdown",
   "metadata": {},
   "source": [
    "## 2.2.4. Check if IP was a TOR node for table: blacklist"
   ]
  },
  {
   "cell_type": "code",
   "execution_count": null,
   "metadata": {
    "collapsed": false
   },
   "outputs": [],
   "source": [
    "if len(df_blacklist['ip'].unique()) < 1200:\n",
    "    if (os.path.exists('enrichments/blacklist_torcheck')== False):\n",
    "        print(\"Note: it can take a while to finish...\",len(df_blacklist['ip'].unique())*3,\"seconds (in the worst case).\")\n",
    "\n",
    "        blacklist_torcheck = open('enrichments/blacklist_torcheck', 'w+')\n",
    "\n",
    "        for i in df_blacklist['ip'].unique():\n",
    "            wasTor=WasTorNode(i,date_tor_check)\n",
    "            print(i, wasTor, file=blacklist_torcheck)\n",
    "    #         print(i, wasTor) #DEBUGING =D\n",
    "            time.sleep(random.randint(1,3)) #adding some random sleep time\n",
    "            blacklist_torcheck.flush()\n",
    "\n",
    "        blacklist_torcheck.close()\n",
    "    else:\n",
    "        print(\"The IP addresses from this table were already checked.\") \n",
    "else:\n",
    "        print(\"Aborted!!! It will take more than one hour to analyse!\")"
   ]
  },
  {
   "cell_type": "code",
   "execution_count": null,
   "metadata": {
    "collapsed": true
   },
   "outputs": [],
   "source": [
    "df_blacklist_torcheck = pd.read_csv('enrichments/blacklist_torcheck',\\\n",
    "                          delimiter=\"\\s+\",\\\n",
    "                          names = ['ip', 'tor'])"
   ]
  },
  {
   "cell_type": "markdown",
   "metadata": {},
   "source": [
    "## * Relation between Attack dates and Login dates"
   ]
  },
  {
   "cell_type": "code",
   "execution_count": null,
   "metadata": {
    "collapsed": true
   },
   "outputs": [],
   "source": [
    "def nearestDate(base_date, date_list):\n",
    "    nearest={}\n",
    "    for date in date_list:\n",
    "        if (base_date.timestamp() - date.timestamp())>=0:\n",
    "            nearest[base_date.timestamp() - date.timestamp()]= date\n",
    "    return nearest[min(nearest.keys())]"
   ]
  },
  {
   "cell_type": "code",
   "execution_count": null,
   "metadata": {
    "collapsed": false
   },
   "outputs": [],
   "source": [
    "#This is the TOTAL number records to be checks!!!!\n",
    "len(df_attacks)"
   ]
  },
  {
   "cell_type": "code",
   "execution_count": null,
   "metadata": {
    "collapsed": true
   },
   "outputs": [],
   "source": [
    "df_attacks['nearestlogin']=\"\"\n",
    "df_attacks['nearestlogin']=pd.to_datetime(df_attacks['nearestlogin'])\n",
    "    \n",
    "if len(df_attacks)>0 and len(df_logins)>0:\n",
    "    #When was the last login of the user that performed attacks\n",
    "    df_attacks['nearestlogin']=\"\"\n",
    "    df_attacks['nearestlogin']=pd.to_datetime(df_attacks['nearestlogin'])\n",
    "\n",
    "    for index, row in df_attacks.head(100).iterrows():\n",
    "        intermediate_df= df_logins[df_logins['username']==row['username']]\n",
    "        nearestlogindate= nearestDate(row['date'],intermediate_df['date'])\n",
    "        df_attacks.set_value(index, 'nearestlogin', nearestlogindate)\n",
    "\n",
    "        #DEBUGGING\n",
    "        if index % 1000 == 0:\n",
    "            print(index,\": +1000 records analysed\")"
   ]
  },
  {
   "cell_type": "code",
   "execution_count": null,
   "metadata": {
    "collapsed": false
   },
   "outputs": [],
   "source": [
    "if len(df_attacks['nearestlogin'].value_counts()) >1:\n",
    "    df_attacks_and_logins = pd.merge(df_attacks_extended,\n",
    "                                     df_logins_extended,\n",
    "                                     how = 'left',\n",
    "                                     left_on = ['username','nearestlogin'],\n",
    "                                     right_on = ['username','date'])\n",
    "else:\n",
    "    df_attacks_and_logins=\"\""
   ]
  },
  {
   "cell_type": "markdown",
   "metadata": {},
   "source": [
    "<h2 align=\"center\">\n",
    "!!!!!!!!!!!!!!!!!!!!!!!!!!!!!!!!!!!!!!!!!!!!!!!!!!!!!!!!!!!!!!!!!!!!!!!!!!!!!!!!!!!!!!!!!!!!!!!!!!!!!!!!!!!!!!!!!!!!!!!!!!!!!!!!!!!!!!!!!<br>\n",
    "STEP 3: Automatic Analysis\n",
    "<br>\n",
    "!!!!!!!!!!!!!!!!!!!!!!!!!!!!!!!!!!!!!!!!!!!!!!!!!!!!!!!!!!!!!!!!!!!!!!!!!!!!!!!!!!!!!!!!!!!!!!!!!!!!!!!!!!!!!!!!!!!!!!!!!!!!!!!</h3> "
   ]
  },
  {
   "cell_type": "markdown",
   "metadata": {},
   "source": [
    "## * Libraries that I use to plot figs"
   ]
  },
  {
   "cell_type": "code",
   "execution_count": null,
   "metadata": {
    "collapsed": true
   },
   "outputs": [],
   "source": [
    "import matplotlib.pyplot as plt\n",
    "from matplotlib_venn import *\n",
    "%matplotlib inline\n",
    "\n",
    "import seaborn as sns\n",
    "import itertools\n",
    "\n",
    "plt.style.use('seaborn-muted')\n",
    "# plt.rcParams['font.family'] = 'serif'\n",
    "# plt.rcParams['font.size'] = 12\n",
    "\n",
    "import warnings\n",
    "warnings.filterwarnings('ignore')"
   ]
  },
  {
   "cell_type": "markdown",
   "metadata": {},
   "source": [
    "## A.1. Number of records per table (part of the generic Booter database schema)"
   ]
  },
  {
   "cell_type": "code",
   "execution_count": null,
   "metadata": {
    "collapsed": false
   },
   "outputs": [],
   "source": [
    "len(df_users),len(df_logins),len(df_attacks),len(df_payments),len(df_settings),len(df_gateways), len(df_friendsenemies),len(df_blacklist),len(df_webshells),len(df_servers),len(df_plans)"
   ]
  },
  {
   "cell_type": "markdown",
   "metadata": {},
   "source": [
    "## A.2. Number of users, customers, attackers, and their intersection"
   ]
  },
  {
   "cell_type": "code",
   "execution_count": null,
   "metadata": {
    "collapsed": false
   },
   "outputs": [],
   "source": [
    "if len(set(df_users['userid'].unique())) > 1:\n",
    "    users_set=set(df_users['userid'].unique())\n",
    "else:\n",
    "    users_set=set(df_users['username'].unique())\n",
    "    \n",
    "if len(set(df_logins['userid'].unique())) > 1:\n",
    "    userslogin_set=set(df_logins['userid'].unique())\n",
    "else:\n",
    "    userslogin_set=set(df_logins['username'].unique())\n",
    "\n",
    "if len(set(df_payments['userid'].unique())) > 1:\n",
    "    customers_set=set(df_payments['userid'].unique())\n",
    "else:\n",
    "    customers_set=set(df_payments['username'].unique())\n",
    "\n",
    "if len(set(df_attacks['userid'].unique())) > 1:\n",
    "    attackers_set=set(df_attacks['userid'].unique())\n",
    "else:\n",
    "    attackers_set=set(df_attacks['username'].unique())\n",
    "\n",
    "intersec_customers_attacker=pd.Series(list(customers_set.intersection(attackers_set)))\n",
    "intersec_users_customers=pd.Series(list(users_set.intersection(customers_set)))\n",
    "intersec_users_attackers=pd.Series(list(users_set.intersection(attackers_set)))\n",
    "intersec_users_customers_attackers=pd.Series(list(users_set.intersection(customers_set).intersection(attackers_set)))"
   ]
  },
  {
   "cell_type": "code",
   "execution_count": null,
   "metadata": {
    "collapsed": false
   },
   "outputs": [],
   "source": [
    "len(users_set),len(userslogin_set),len(customers_set),len(attackers_set)"
   ]
  },
  {
   "cell_type": "code",
   "execution_count": null,
   "metadata": {
    "collapsed": false
   },
   "outputs": [],
   "source": [
    "fig = plt.figure(figsize=(4,3))\n",
    "fig.suptitle('Users, Customers & Attackers', fontsize=14)\n",
    "\n",
    "ax = plt.subplot2grid((1,1), (0,0))\n",
    "\n",
    "venn=venn3(ax=ax,subsets = {'001':len(attackers_set)-len(intersec_customers_attacker)-len(intersec_users_attackers)+len(intersec_users_customers_attackers), \n",
    "                            '010':len(customers_set)-len(intersec_users_customers)-len(intersec_customers_attacker)+len(intersec_users_customers_attackers), \n",
    "                            '011':len(intersec_customers_attacker)-len(intersec_users_customers_attackers),\n",
    "                            '100':len(users_set)-len(intersec_users_customers)-len(intersec_users_attackers)+len(intersec_users_customers_attackers),\n",
    "                            '101':len(intersec_users_attackers)-len(intersec_users_customers_attackers),\n",
    "                            '110':len(intersec_users_customers)-len(intersec_users_customers_attackers),\n",
    "                            '111':len(intersec_users_customers_attackers)},\\\n",
    "          set_labels = ('Users', 'Customers','Attackers'),\\\n",
    "          alpha=1)\n",
    "try:\n",
    "    venn.get_patch_by_id('100').set_color('#404096')\n",
    "except:\n",
    "    print(\"*Users set is empty!\")  \n",
    "    \n",
    "try:\n",
    "    venn.get_patch_by_id('110').set_color('#DEA73A')\n",
    "except:\n",
    "    print(\"*Customers set is empty!\")   \n",
    "\n",
    "try:\n",
    "    venn.get_patch_by_id('001').set_color('#D92120')\n",
    "except:\n",
    "    print(\"*Attackers set is empty!\")\n",
    "\n",
    "fig.show()\n",
    "# fig.savefig('../figs/timeseries_attacks.eps', format='eps', dpi=1200) "
   ]
  },
  {
   "cell_type": "markdown",
   "metadata": {},
   "source": [
    "## A.3. Distribution of login times per user"
   ]
  },
  {
   "cell_type": "code",
   "execution_count": null,
   "metadata": {
    "collapsed": false
   },
   "outputs": [],
   "source": [
    "if len(df_logins['userid'].value_counts()) > 0:\n",
    "    num_distinct_logins_per_user=df_logins['userid'].value_counts()\n",
    "else:\n",
    "    num_distinct_logins_per_user=df_logins['username'].value_counts()\n",
    "\n",
    "freq_distinct_logins_per_user=num_distinct_logins_per_user.value_counts()\n",
    "cum_dist_user_logins = np.linspace(0.,1.,len(num_distinct_logins_per_user))\n",
    "cdf_user_logins = pd.Series(cum_dist_user_logins, index=num_distinct_logins_per_user.sort_values())"
   ]
  },
  {
   "cell_type": "code",
   "execution_count": null,
   "metadata": {
    "collapsed": false
   },
   "outputs": [],
   "source": [
    "if len(num_distinct_logins_per_user)>0:\n",
    "    fig = plt.figure(figsize=(6, 3))\n",
    "    fig.suptitle('* Distribution of Login Times by Users:', fontsize=14, y=1.05,x=0.35)\n",
    "    \n",
    "    #Plot CDF\n",
    "    ax1 = plt.subplot2grid((1,2), (0,0))\n",
    "    ax1 = cdf_user_logins.plot(ax=ax1,lw=2, drawstyle='steps',legend=False)\n",
    "    ax1.set_xlabel(\"# logins\")\n",
    "    ax1.set_ylabel(\"CDF of Users\")\n",
    "    ax1.set_ylim(0,1.05)\n",
    "    ax1.set_title(\"\")\n",
    "    plt.setp(ax1.xaxis.get_majorticklabels(), rotation=45)\n",
    "\n",
    "    \n",
    "    ax2 = plt.subplot2grid((1,2), (0,1))\n",
    "    freq_distinct_logins_per_user.plot(ax=ax2,kind='pie', \n",
    "                                       labels=None, \n",
    "                                       legend=False,\n",
    "                                       startangle=270,\n",
    "#                                        colors=sns.color_palette()\n",
    "                                       )\n",
    "    ax2.set_ylabel(\"\")\n",
    "    \n",
    "    \n",
    "    \n",
    "    ####\n",
    "    # For Pie Chart Better Legend box\n",
    "    porcent = (100.*freq_distinct_logins_per_user.values)/(freq_distinct_logins_per_user.values.sum())\n",
    "    labels = ['{0} - {1:1.2f} %'.\\\n",
    "              format(i,j) for i,j in zip(freq_distinct_logins_per_user.index, porcent)]\n",
    "    # To Sort Legend (defaulf: keeps the same order)\n",
    "#     patches, labels, dummy =  zip(*sorted(zip(patches, labels, freq_distinct_logins_per_user.values),\n",
    "#                                           key=lambda x: x[2],\n",
    "#                                           reverse=True))\n",
    "    legend_show_top=10\n",
    "    ax2.legend(ax2.patches[0:legend_show_top], \n",
    "               labels[0:legend_show_top], \n",
    "               bbox_to_anchor=(1.5, 1.),\n",
    "               fontsize=10)\n",
    "    ####\n",
    "    \n",
    "    fig.tight_layout()\n",
    "    fig.show()\n",
    "    fig.savefig('figs/login_times.eps', bbox_inches='tight',format='eps', dpi=1200)\n",
    "else:\n",
    "    print(\"Unfortunately, there is no data available!\")\n"
   ]
  },
  {
   "cell_type": "markdown",
   "metadata": {},
   "source": [
    "## 5.3. Number of Users that Login via TOR"
   ]
  },
  {
   "cell_type": "code",
   "execution_count": null,
   "metadata": {
    "collapsed": false
   },
   "outputs": [],
   "source": [
    "len(df_logins_torcheck[df_logins_torcheck['tor']==True]['userip'].value_counts())"
   ]
  },
  {
   "cell_type": "markdown",
   "metadata": {},
   "source": [
    "## 5.4. Number of Distinct IP addresses by Users"
   ]
  },
  {
   "cell_type": "code",
   "execution_count": null,
   "metadata": {
    "collapsed": false
   },
   "outputs": [],
   "source": [
    "if len(df_logins.groupby(['userid','userip']).size().reset_index()['userid'].value_counts()) >0:\n",
    "    num_distinct_ips_per_user=df_logins.groupby(['userid','userip']).size().reset_index()['userid'].value_counts()\n",
    "else:\n",
    "    num_distinct_ips_per_user=df_logins.groupby(['username','userip']).size().reset_index()['username'].value_counts()\n",
    "    \n",
    "freq_distinct_ips_per_user=num_distinct_ips_per_user.value_counts()\n",
    "cum_dist_user_ips = np.linspace(0.,1.,len(num_distinct_ips_per_user))\n",
    "cdf_user_ips = pd.Series(cum_dist_user_ips, index=num_distinct_ips_per_user.sort_values())"
   ]
  },
  {
   "cell_type": "code",
   "execution_count": null,
   "metadata": {
    "collapsed": false
   },
   "outputs": [],
   "source": [
    "if len(num_distinct_ips_per_user)>0:\n",
    "    fig = plt.figure(figsize=(6, 3))\n",
    "    fig.suptitle('* Distribution of Distinct IP address used by Users:', fontsize=14, y=1.05, x=0.4)\n",
    "\n",
    "    ax1 = plt.subplot2grid((1,2), (0,0))\n",
    "    ax1 = cdf_user_ips.plot( ax=ax1,lw=2, drawstyle='steps',legend=False)\n",
    "    ax1.set_xlabel(\"# IPs\")\n",
    "    ax1.set_ylabel(\"CDF of Users\")\n",
    "    ax1.set_ylim(0,1.05)\n",
    "    plt.setp(ax1.xaxis.get_majorticklabels(), rotation=45)\n",
    "    \n",
    "    ax2 = plt.subplot2grid((1,2), (0,1))\n",
    "    freq_distinct_ips_per_user.plot(ax=ax2,kind='pie',\n",
    "                                    labels=None,legend=False,\n",
    "                                       startangle=270,\n",
    "#                                        colors=sns.color_palette()\n",
    "                                       )\n",
    "    ax2.set_ylabel(\"\")\n",
    "    ####\n",
    "    # For Pie Chart Better Legend box\n",
    "    porcent = (100.*freq_distinct_ips_per_user.values)/(freq_distinct_ips_per_user.values.sum())\n",
    "    labels = ['{0} - {1:1.2f} %'.\\\n",
    "              format(i,j) for i,j in zip(freq_distinct_ips_per_user.index, porcent)]\n",
    "    # To Sort Legend (defaulf: keeps the same order)\n",
    "#     patches, labels, dummy =  zip(*sorted(zip(patches, labels, freq_distinct_logins_per_user.values),\n",
    "#                                           key=lambda x: x[2],\n",
    "#                                           reverse=True))\n",
    "    legend_show_top=10\n",
    "    ax2.legend(ax2.patches[0:legend_show_top], \n",
    "               labels[0:legend_show_top], \n",
    "               bbox_to_anchor=(1.5, 1.),\n",
    "               fontsize=10)\n",
    "    ####\n",
    "    \n",
    "    fig.tight_layout()\n",
    "    fig.show()\n",
    "    fig.savefig('figs/num_ips_by_users.eps', bbox_inches='tight',format='eps', dpi=1200)\n",
    "else:\n",
    "    print(\"Unfortunately, there is no data available!\")\n"
   ]
  },
  {
   "cell_type": "markdown",
   "metadata": {},
   "source": [
    "## 5.5. Number of Payments by Users"
   ]
  },
  {
   "cell_type": "code",
   "execution_count": null,
   "metadata": {
    "collapsed": false
   },
   "outputs": [],
   "source": [
    "if len(df_payments['userid'].value_counts())>0:\n",
    "    num_distinct_payments_per_user=df_payments['userid'].value_counts()\n",
    "else:\n",
    "    num_distinct_payments_per_user=df_payments['username'].value_counts()\n",
    "\n",
    "freq_distinct_payments_per_user=num_distinct_payments_per_user.value_counts()\n",
    "cum_dist_user_payments = np.linspace(0.,1.,len(num_distinct_payments_per_user))\n",
    "cdf_user_payments = pd.Series(cum_dist_user_payments, index=num_distinct_payments_per_user.sort_values())"
   ]
  },
  {
   "cell_type": "code",
   "execution_count": null,
   "metadata": {
    "collapsed": false
   },
   "outputs": [],
   "source": [
    "if len(num_distinct_payments_per_user)>0:\n",
    "    fig = plt.figure(figsize=(6, 3))\n",
    "    fig.suptitle('* Distribution of Number of Payments by Users:', fontsize=14, y=1.05, x=0.4)\n",
    "\n",
    "    ax1 = plt.subplot2grid((1,2), (0,0))\n",
    "    ax1 = cdf_user_payments.plot( ax=ax1,lw=2, drawstyle='steps',legend=False)\n",
    "    ax1.set_xlabel(\"# Payment\")\n",
    "    ax1.set_ylabel(\"CDF of Users\")\n",
    "    ax1.set_ylim(0,1.05)\n",
    "    plt.setp(ax1.xaxis.get_majorticklabels(), rotation=45)\n",
    "    \n",
    "    ax2 = plt.subplot2grid((1,2), (0,1))\n",
    "    freq_distinct_payments_per_user.plot(ax=ax2,kind='pie', \n",
    "                                         labels=None,legend=False,\n",
    "                                         startangle=270)\n",
    "    ax2.set_ylabel(\"\")\n",
    "    ####\n",
    "    # For Pie Chart Better Legend box\n",
    "    porcent = (100.*freq_distinct_payments_per_user.values)/(freq_distinct_payments_per_user.values.sum())\n",
    "    labels = ['{0} - {1:1.2f} %'.\\\n",
    "              format(i,j) for i,j in zip(freq_distinct_payments_per_user.index, porcent)]\n",
    "    # To Sort Legend (defaulf: keeps the same order)\n",
    "#     patches, labels, dummy =  zip(*sorted(zip(patches, labels, freq_distinct_logins_per_user.values),\n",
    "#                                           key=lambda x: x[2],\n",
    "#                                           reverse=True))\n",
    "    legend_show_top=10\n",
    "    ax2.legend(ax2.patches[0:legend_show_top], \n",
    "               labels[0:legend_show_top], \n",
    "               bbox_to_anchor=(1.55, 1.),\n",
    "               fontsize=10)\n",
    "    ####\n",
    "    fig.tight_layout()\n",
    "    fig.show()\n",
    "    fig.savefig('figs/payments_distribution.eps', bbox_inches='tight',format='eps', dpi=1200)\n",
    "else:\n",
    "    print(\"Unfortunately, there is no data available!\")\n"
   ]
  },
  {
   "cell_type": "markdown",
   "metadata": {},
   "source": [
    "## 5.6. Total Amount of Money Earned"
   ]
  },
  {
   "cell_type": "code",
   "execution_count": null,
   "metadata": {
    "collapsed": false
   },
   "outputs": [],
   "source": [
    "if len(df_payments['amountpaid']) >0:\n",
    "    total_earned=df_payments['amountpaid'].values.sum()\n",
    "    'US$ {:,.2f}'.format(float(total_earned))\n",
    "else:\n",
    "    print(\"Unfortunately, there is no data available!\")"
   ]
  },
  {
   "cell_type": "markdown",
   "metadata": {},
   "source": [
    "## 5.7. Amount of Money Paid by Users"
   ]
  },
  {
   "cell_type": "code",
   "execution_count": null,
   "metadata": {
    "collapsed": true
   },
   "outputs": [],
   "source": [
    "num_distinct_payments_money_per_user=df_payments['amountpaid'].value_counts()\n",
    "freq_distinct_payments_money_per_user=num_distinct_payments_money_per_user.value_counts()\n",
    "cum_dist_user_payments_money = np.linspace(0.,1.,len(num_distinct_payments_money_per_user))\n",
    "cdf_user_payments_money = pd.Series(cum_dist_user_payments_money, index=num_distinct_payments_money_per_user.sort_values())"
   ]
  },
  {
   "cell_type": "code",
   "execution_count": null,
   "metadata": {
    "collapsed": false
   },
   "outputs": [],
   "source": [
    "if len(num_distinct_payments_money_per_user)>0:\n",
    "    fig = plt.figure(figsize=(6, 3))\n",
    "    fig.suptitle('* Distribution of Money Payments by Users:', fontsize=14, y=1.05, x=0.4)\n",
    "\n",
    "    ax1 = plt.subplot2grid((1,2), (0,0))\n",
    "    ax1 = cdf_user_payments_money.plot( ax=ax1,lw=2, drawstyle='steps',legend=False)\n",
    "    ax1.set_xlabel(\"$\")\n",
    "    ax1.set_ylabel(\"CDF of Users\")\n",
    "    ax1.set_ylim(0,1.05)\n",
    "    plt.setp(ax1.xaxis.get_majorticklabels(), rotation=45)\n",
    "\n",
    "    ax2 = plt.subplot2grid((1,2), (0,1))\n",
    "    freq_distinct_payments_money_per_user.plot(ax=ax2,kind='pie', \n",
    "                                               labels=None,legend=False,\n",
    "                                               startangle=270)\n",
    "    ax2.set_ylabel(\"\")\n",
    "    ####\n",
    "    # For Pie Chart Better Legend box\n",
    "    porcent = (100.*freq_distinct_payments_money_per_user.values)/(freq_distinct_payments_money_per_user.values.sum())\n",
    "    labels = ['${0:1.2f} - {1:1.2f} %'.\\\n",
    "              format(i,j) for i,j in zip(freq_distinct_payments_money_per_user.index, porcent)]\n",
    "    # To Sort Legend (defaulf: keeps the same order)\n",
    "#     patches, labels, dummy =  zip(*sorted(zip(patches, labels, freq_distinct_logins_per_user.values),\n",
    "#                                           key=lambda x: x[2],\n",
    "#                                           reverse=True))\n",
    "    legend_show_top=10\n",
    "    ax2.legend(ax2.patches[0:legend_show_top], \n",
    "               labels[0:legend_show_top], \n",
    "               bbox_to_anchor=(1.6, 1.),\n",
    "               fontsize=10)\n",
    "    ####\n",
    "    fig.tight_layout()\n",
    "    fig.show()\n",
    "    fig.savefig('figs/distribution_amount_paid.eps', bbox_inches='tight',format='eps', dpi=1200)\n",
    "else:\n",
    "    print(\"Unfortunately, there is no data available!\")\n"
   ]
  },
  {
   "cell_type": "markdown",
   "metadata": {
    "collapsed": false
   },
   "source": [
    "## 5.8. Countries from where Users Access Booters"
   ]
  },
  {
   "cell_type": "code",
   "execution_count": null,
   "metadata": {
    "collapsed": true
   },
   "outputs": [],
   "source": [
    "logins_country_distribution_sorted = df_logins_iptoasn['country'].value_counts(sort=True,ascending=True)\n",
    "logins_country_distribution = df_logins_iptoasn['country'].value_counts()"
   ]
  },
  {
   "cell_type": "code",
   "execution_count": null,
   "metadata": {
    "collapsed": false
   },
   "outputs": [],
   "source": [
    "if len(logins_country_distribution)>0:\n",
    "    fig = plt.figure(figsize=(6, 3))\n",
    "    fig.suptitle('* Users Accessing from Countries:', fontsize=14, y=1.05, x=0.28)\n",
    "\n",
    "    ax1 = plt.subplot2grid((1,2), (0,0))\n",
    "    logins_country_distribution_sorted.plot(ax=ax1,kind='barh')\n",
    "    ax1.set_ylabel(\"# access\")\n",
    "    ax1.set_xlabel(\"Country\")\n",
    "    plt.setp(ax1.xaxis.get_majorticklabels(), rotation=45)\n",
    "\n",
    "    ax2 = plt.subplot2grid((1,2), (0,1))\n",
    "    logins_country_distribution.plot(ax=ax2,kind='pie', \n",
    "                                     labels=None,legend=False,\n",
    "                                     startangle=270)\n",
    "    ax2.set_ylabel(\"\")\n",
    "    ####\n",
    "    # For Pie Chart Better Legend box\n",
    "    porcent = (100.*logins_country_distribution.values)/(logins_country_distribution.values.sum())\n",
    "    labels = ['{0} - {1:1.2f} %'.\\\n",
    "              format(i,j) for i,j in zip(logins_country_distribution.index, porcent)]\n",
    "    # To Sort Legend (defaulf: keeps the same order)\n",
    "#     patches, labels, dummy =  zip(*sorted(zip(patches, labels, freq_distinct_logins_per_user.values),\n",
    "#                                           key=lambda x: x[2],\n",
    "#                                           reverse=True))\n",
    "    legend_show_top=10\n",
    "    ax2.legend(ax2.patches[0:legend_show_top], \n",
    "               labels[0:legend_show_top], \n",
    "               bbox_to_anchor=(1.55, 1.),\n",
    "               fontsize=10)\n",
    "    ####\n",
    "    fig.tight_layout()\n",
    "    fig.show()\n",
    "    fig.savefig('figs/user_countries.eps', bbox_inches='tight',format='eps', dpi=1200)\n",
    "else:\n",
    "    print(\"Unfortunately, there is no data available!\")"
   ]
  },
  {
   "cell_type": "markdown",
   "metadata": {},
   "source": [
    "## 5.9. Countries of Blacklisted IPs"
   ]
  },
  {
   "cell_type": "code",
   "execution_count": null,
   "metadata": {
    "collapsed": true
   },
   "outputs": [],
   "source": [
    "blacklist_country_distribution=df_blacklist_iptoasn['country'].value_counts()\n",
    "blacklist_country_distribution_sorted=df_blacklist_iptoasn['country'].value_counts(sort=True,ascending=True)"
   ]
  },
  {
   "cell_type": "code",
   "execution_count": null,
   "metadata": {
    "collapsed": false
   },
   "outputs": [],
   "source": [
    "if len(blacklist_country_distribution)>0:\n",
    "    fig = plt.figure(figsize=(6, 3))\n",
    "    fig.suptitle('* Countries of blacklisted IPs', fontsize=14, y=1.05, x=0.28)\n",
    "\n",
    "    ax1 = plt.subplot2grid((1,2), (0,0))\n",
    "    blacklist_country_distribution_sorted.plot(ax=ax1,kind='barh')\n",
    "    ax1.set_ylabel(\"# Access\")\n",
    "    ax1.set_xlabel(\"Country\")\n",
    "    plt.setp(ax1.xaxis.get_majorticklabels(), rotation=45)\n",
    "\n",
    "    ax2 = plt.subplot2grid((1,2), (0,1))\n",
    "    blacklist_country_distribution.plot(ax=ax2,kind='pie', \n",
    "                                        labels=None,legend=False,\n",
    "                                        startangle=270)\n",
    "    ax2.set_ylabel(\"\")\n",
    "    ####\n",
    "    # For Pie Chart Better Legend box\n",
    "    porcent = (100.*blacklist_country_distribution.values)/(logins_country_distribution.values.sum())\n",
    "    labels = ['{0} - {1:1.2f} %'.\\\n",
    "              format(i,j) for i,j in zip(blacklist_country_distribution.index, porcent)]\n",
    "    # To Sort Legend (defaulf: keeps the same order)\n",
    "#     patches, labels, dummy =  zip(*sorted(zip(patches, labels, freq_distinct_logins_per_user.values),\n",
    "#                                           key=lambda x: x[2],\n",
    "#                                           reverse=True))\n",
    "    legend_show_top=10\n",
    "    ax2.legend(ax2.patches[0:legend_show_top], \n",
    "               labels[0:legend_show_top], \n",
    "               bbox_to_anchor=(1.55, 1.),\n",
    "               fontsize=10)\n",
    "    ####\n",
    "    fig.tight_layout()\n",
    "    fig.show()\n",
    "    fig.savefig('figs/blacklist_countries.eps', bbox_inches='tight',format='eps', dpi=1200)\n",
    "else:\n",
    "    print(\"Unfortunately, there is no data available!\")"
   ]
  },
  {
   "cell_type": "markdown",
   "metadata": {},
   "source": [
    "## 5.10. Countries of Target IPs"
   ]
  },
  {
   "cell_type": "code",
   "execution_count": null,
   "metadata": {
    "collapsed": true
   },
   "outputs": [],
   "source": [
    "attacks_country_distribution=df_attacks_iptoasn['country'].value_counts()"
   ]
  },
  {
   "cell_type": "code",
   "execution_count": null,
   "metadata": {
    "collapsed": false
   },
   "outputs": [],
   "source": [
    "if len(attacks_country_distribution)>0:\n",
    "    fig = plt.figure(figsize=(6, 3))\n",
    "    fig.suptitle('* Countries of target IPs', fontsize=14, y=1.05, x=0.28)\n",
    "\n",
    "    ax1 = plt.subplot2grid((1,2), (0,0))\n",
    "    attacks_country_distribution.plot(ax=ax1,kind='bar')\n",
    "    ax1.set_ylabel(\"# Access\")\n",
    "    ax1.set_xlabel(\"Country\")\n",
    "    plt.setp(ax1.xaxis.get_majorticklabels(), rotation=45)\n",
    "\n",
    "    ax2 = plt.subplot2grid((1,2), (0,1))\n",
    "    attacks_country_distribution.plot(ax=ax2,kind='pie', \n",
    "                                      labels=None,legend=False,\n",
    "                                      startangle=270)\n",
    "    ax2.set_ylabel(\"\")\n",
    "    ####\n",
    "    # For Pie Chart Better Legend box\n",
    "    porcent = (100.*attacks_country_distribution.values)/(attacks_country_distribution.values.sum())\n",
    "    labels = ['{0} - {1:1.2f} %'.\\\n",
    "              format(i,j) for i,j in zip(attacks_country_distribution.index, porcent)]\n",
    "    # To Sort Legend (defaulf: keeps the same order)\n",
    "#     patches, labels, dummy =  zip(*sorted(zip(patches, labels, freq_distinct_logins_per_user.values),\n",
    "#                                           key=lambda x: x[2],\n",
    "#                                           reverse=True))\n",
    "    legend_show_top=10\n",
    "    ax2.legend(ax2.patches[0:legend_show_top], \n",
    "               labels[0:legend_show_top], \n",
    "               bbox_to_anchor=(1.55, 1.),\n",
    "               fontsize=10)\n",
    "    ####\n",
    "    fig.tight_layout()\n",
    "    fig.show()\n",
    "    fig.savefig('figs/attack_countries_distribution.eps',bbox_inches='tight', format='eps', dpi=1200) \n",
    "else:\n",
    "    print(\"Unfortunately, there is no data available!\")"
   ]
  },
  {
   "cell_type": "markdown",
   "metadata": {},
   "source": [
    "## 5.12. Attacks on Same Target"
   ]
  },
  {
   "cell_type": "code",
   "execution_count": null,
   "metadata": {
    "collapsed": true
   },
   "outputs": [],
   "source": [
    "num_attacks_on_sametarget=df_attacks['targetip'].value_counts()\n",
    "\n",
    "freq_num_attacks_on_sametarget=num_attacks_on_sametarget.value_counts()\n",
    "cum_num_attacks_on_sametarget = np.linspace(0.,1.,len(num_attacks_on_sametarget))\n",
    "cdf_num_attacks_on_sametarget = pd.Series(cum_num_attacks_on_sametarget, index=num_attacks_on_sametarget.sort_values())"
   ]
  },
  {
   "cell_type": "code",
   "execution_count": null,
   "metadata": {
    "collapsed": false
   },
   "outputs": [],
   "source": [
    "if len(num_attacks_on_sametarget)>0:\n",
    "    fig = plt.figure(figsize=(6, 3))\n",
    "    fig.suptitle('* Attacks on Same Targets:', fontsize=14, y=1.05,x=0.28)\n",
    "\n",
    "    ax1 = plt.subplot2grid((1,2), (0,0))\n",
    "    ax1 = cdf_num_attacks_on_sametarget.plot( ax=ax1,lw=2, drawstyle='steps',legend=False)\n",
    "    ax1.set_xlabel(\"# IPs\")\n",
    "    ax1.set_ylabel(\"CDF of Users\")\n",
    "    ax1.set_ylim(0,1.05)\n",
    "    plt.setp(ax1.xaxis.get_majorticklabels(), rotation=45)\n",
    "\n",
    "    ax2 = plt.subplot2grid((1,2), (0,1))\n",
    "    freq_num_attacks_on_sametarget.plot(ax=ax2,kind='pie',\n",
    "                                        labels=None,legend=False,\n",
    "                                        startangle=270)\n",
    "    ax2.set_ylabel(\"\")\n",
    "    ####\n",
    "    # For Pie Chart Better Legend box\n",
    "    porcent = (100.*freq_num_attacks_on_sametarget.values)/(freq_num_attacks_on_sametarget.values.sum())\n",
    "    labels = ['{0} - {1:1.2f} %'.\\\n",
    "              format(i,j) for i,j in zip(freq_num_attacks_on_sametarget.index, porcent)]\n",
    "    # To Sort Legend (defaulf: keeps the same order)\n",
    "#     patches, labels, dummy =  zip(*sorted(zip(patches, labels, freq_distinct_logins_per_user.values),\n",
    "#                                           key=lambda x: x[2],\n",
    "#                                           reverse=True))\n",
    "    legend_show_top=10\n",
    "    ax2.legend(ax2.patches[0:legend_show_top], \n",
    "               labels[0:legend_show_top], \n",
    "               bbox_to_anchor=(1.55, 1.),\n",
    "               fontsize=10)\n",
    "    ####\n",
    "    fig.tight_layout()\n",
    "\n",
    "    fig.show()\n",
    "    fig.savefig('figs/attacks_on_same_target.eps', bbox_inches='tight',format='eps', dpi=1200)\n",
    "else:\n",
    "    print(\"Unfortunately, there is no data available!\")"
   ]
  },
  {
   "cell_type": "markdown",
   "metadata": {},
   "source": [
    "## 5.11. Attacks per day (timeseries) "
   ]
  },
  {
   "cell_type": "code",
   "execution_count": null,
   "metadata": {
    "collapsed": false
   },
   "outputs": [],
   "source": [
    "if len(df_attacks)>0:\n",
    "    attack_timeseries=df_attacks.set_index(['date']).groupby(pd.TimeGrouper(freq='D')).agg(['count'])['action']\n",
    "    attack_mean_perday=attack_timeseries.mean()\n",
    "    attack_median_perday=attack_timeseries.median()\n",
    "else:\n",
    "    attack_timeseries=\"\""
   ]
  },
  {
   "cell_type": "code",
   "execution_count": null,
   "metadata": {
    "collapsed": false
   },
   "outputs": [],
   "source": [
    "if len(attack_timeseries)>0:\n",
    "    fig = plt.figure(figsize=(6,3))\n",
    "\n",
    "    ax1 = plt.subplot2grid((1,1), (0,0), rowspan=2)\n",
    "    attack_timeseries.plot(ax=ax1,\n",
    "                           lw=2,\n",
    "                           legend=False,\n",
    "    #                        style='--'\n",
    "                          )\n",
    "\n",
    "    # X and Y Labels and Ticks\n",
    "    ax1.set_xlabel(\"Time (bin=day)\")\n",
    "    ax1.set_ylabel(\"# Attacks\")\n",
    "\n",
    "    ax1.annotate(str(int(attack_median_perday[0]))+' (median)', \n",
    "                 (min(df_attacks['date']), attack_median_perday),\n",
    "                 xytext=(350, -1), \n",
    "                 textcoords='offset points',\n",
    "                 color='black', \n",
    "                 arrowprops=dict(arrowstyle='-|>',\n",
    "                                 color='black'))\n",
    "    fig.savefig('figs/attacks_timeseries.eps', bbox_inches='tight',format='eps', dpi=1200)\n",
    "\n",
    "else:\n",
    "    print(\"Unfortunately, there is no data available!\")"
   ]
  },
  {
   "cell_type": "markdown",
   "metadata": {},
   "source": [
    "## 5.12. Time Between Logins and Attacks"
   ]
  },
  {
   "cell_type": "code",
   "execution_count": null,
   "metadata": {
    "collapsed": false
   },
   "outputs": [],
   "source": [
    "if len(df_attacks_and_logins)>0:\n",
    "    print(\"redo\")\n",
    "else:\n",
    "    print(\"Unfortunately, there is no data available!\")"
   ]
  },
  {
   "cell_type": "markdown",
   "metadata": {},
   "source": [
    "## 5.13. Who attack whom? (users on the country level)"
   ]
  },
  {
   "cell_type": "code",
   "execution_count": null,
   "metadata": {
    "collapsed": false
   },
   "outputs": [],
   "source": [
    "if len(df_attacks_extended)>0 and len(df_logins_extended)>0:\n",
    "    merged_attacks_logins = pd.merge(df_attacks_extended,\n",
    "                                  df_logins_extended,\n",
    "                                  how = 'left',\n",
    "                                  left_on = 'date',\n",
    "                                  right_on = 'date')[['targetcountry','srccountry']]\n",
    "\n",
    "    who_against_whom = merged_attacks_logins.groupby(['targetcountry','srccountry'])\\\n",
    "                            .size()\\\n",
    "                            .reset_index()\\\n",
    "                            .pivot('srccountry','targetcountry',0)\n",
    "else:\n",
    "    who_against_whom =\"\""
   ]
  },
  {
   "cell_type": "code",
   "execution_count": null,
   "metadata": {
    "collapsed": false
   },
   "outputs": [],
   "source": [
    "if len(who_against_whom)>0:\n",
    "    fig = plt.figure(figsize=(8,12))\n",
    "    fig.suptitle('Countries of Target IPs', fontsize=14, y=.92)\n",
    "\n",
    "    ax1 = plt.subplot2grid((1,1), (0,0))\n",
    "    sns.set()\n",
    "    sns.heatmap(who_against_whom,\n",
    "                ax=ax1,\n",
    "#                 cmap=\"YlGnBu\",\n",
    "    #             linewidths=.5,\n",
    "    #             annot=True\n",
    "                )\n",
    "\n",
    "    ax1.set_ylabel(\"Source Country\")\n",
    "    ax1.set_xlabel(\"Attack Target Country\")\n",
    "\n",
    "    fig.show()\n",
    "    fig.savefig('figs/who_attack_whom.eps', bbox_inches='tight',format='eps', dpi=1200)\n",
    "else:\n",
    "    print(\"Unfortunately, there is no data available!\")"
   ]
  },
  {
   "cell_type": "markdown",
   "metadata": {},
   "source": [
    "<h1 align=\"center\">!!!!!!!!!!!!!!!!!!!!!!!!!!!!!!!!!!!!!!!!!!!!!!!!!!!!!!!!!!!!!!!!!!!!!!!!!!!!!!!!!!!!!!!!!!!!!!!!!!!!!!!!!!!!!!!!!!!!!!!!!!!!!!!!!<br>\n",
    "FIFTH PART: Query Interface<br>\n",
    "!!!!!!!!!!!!!!!!!!!!!!!!!!!!!!!!!!!!!!!!!!!!!!!!!!!!!!!!!!!!!!!!!!!!!!!!!!!!!!!!!!!!!!!!!!!!!!!!!!!!!!!!!!!!!!!!!!!!!!!!!!!!!!!</h1> "
   ]
  },
  {
   "cell_type": "code",
   "execution_count": null,
   "metadata": {
    "collapsed": true
   },
   "outputs": [],
   "source": [
    "from ipywidgets import widgets, interact, Dropdown,HTML\n",
    "from IPython.display import display,clear_output"
   ]
  },
  {
   "cell_type": "code",
   "execution_count": null,
   "metadata": {
    "collapsed": false
   },
   "outputs": [],
   "source": [
    "def search_by_userid_submit(sender):\n",
    "    clear_output()\n",
    "    print(\"Searching by id =\",search_by_userid.value)\n",
    "    \n",
    "    if len(df_users[df_users['userid']== int(search_by_userid.value)])>0:\n",
    "        display(df_users[df_logins['userid']== int(search_by_userid.value)])\n",
    "    \n",
    "    if len(df_logins_extended[df_logins_extended['userid']== int(search_by_userid.value)])>0:\n",
    "        display(df_logins_extended[df_logins_extended['userid']== int(search_by_userid.value)])\n",
    "    \n",
    "    if len(df_attacks_extended[df_attacks_extended['userid']== int(search_by_userid.value)])>0:\n",
    "        display(df_attacks_extended[df_attacks_extended['userid']== int(search_by_userid.value)])\n",
    "    \n",
    "    if len(df_payments[df_payments['userid']== int(search_by_userid.value)])>0:\n",
    "        display(df_payments[df_payments['userid']== int(search_by_userid.value)])\n",
    "\n",
    "def search_by_username_submit(sender):\n",
    "    clear_output()\n",
    "    print(\"Searching by username =\",search_by_username.value,\"\\n\")\n",
    "    \n",
    "    if len(df_users[df_users['username']== search_by_username.value])>0:\n",
    "        print(\"Table df_users:\")\n",
    "        display(df_users[df_users['username']== search_by_username.value])\n",
    "    \n",
    "    if len(df_logins_extended[df_logins_extended['username']== search_by_username.value])>0:\n",
    "        print(\"Table df_logins:\")\n",
    "        display(df_logins_extended[df_logins_extended['username']== search_by_username.value])\n",
    "\n",
    "    if len(df_attacks_extended[df_attacks_extended['username']== search_by_username.value])>0:\n",
    "        print(\"Table df_attacks:\")\n",
    "        display(df_attacks_extended[df_attacks_extended['username']== search_by_username.value])\n",
    "    \n",
    "    if len(df_payments[df_payments['username']== search_by_username.value])>0:\n",
    "        print(\"Table df_payments:\")\n",
    "        display(df_payments[df_payments['username']== search_by_username.value])\n",
    "        \n",
    "def search_by_ip_submit(sender):\n",
    "    clear_output()\n",
    "    print(\"Searching by IP address =\",str(search_by_ip.value),\"\\n\")\n",
    "    \n",
    "    if len(df_logins_extended[df_logins_extended['userip']== str(search_by_ip.value)])>0:\n",
    "        print(\"Table df_logins (as ATTACKER:\")\n",
    "        display(df_logins_extended[df_logins_extended['userip']== str(search_by_ip.value)])\n",
    "     \n",
    "    if len(df_attacks_extended[df_attacks_extended['targetip']== str(search_by_ip.value)])>0:\n",
    "        print(\"Table df_attacks (as TARGET):\")\n",
    "        display(df_attacks_extended[df_attacks_extended['targetip']== str(search_by_ip.value)])  \n",
    "      \n",
    "       \n",
    "def search_by_asn_submit(sender):\n",
    "    clear_output()\n",
    "    print(\"Searching by Autonomous System Number (ASN) =\",search_by_asn.value,\"\\n\")\n",
    "    \n",
    "    if len(df_logins_extended[df_logins_extended['srcasn']== int(search_by_asn.value)])>0:\n",
    "        print(\"Table df_logins (as ATTACKER):\")\n",
    "        display(df_logins_extended[df_logins_extended['srcasn']== int(search_by_asn.value)])\n",
    "    \n",
    "    if len(df_attacks_extended[df_attacks_extended['targetasn']== str(search_by_asn.value)])>0:\n",
    "        print(\"Table df_attacks (as TARGET):\")\n",
    "        display(df_attacks_extended[df_attacks_extended['targetasn']== str(search_by_asn.value)])\n",
    "\n",
    "    if len(df_attacks_extended[df_attacks_extended['targetasn']== str(search_by_asn.value)])>0:\n",
    "        print(\"Table df_attacks (as TARGET):\")\n",
    "        display(df_attacks_extended[df_attacks_extended['targetasn']== str(search_by_asn.value)])\n",
    "\n",
    "        \n",
    "country_list=pd.read_csv('https://raw.githubusercontent.com/datasets/country-list/master/data.csv',delimiter=\",\",error_bad_lines=False)\n",
    "def search_by_country_submit():\n",
    "    country_code=country_list[country_list['Name']==search_by_country.value]['Code'].values[0]\n",
    "    clear_output()\n",
    "    print(\"Searching by Country =\",search_by_country.value,\"\\n\")\n",
    "    \n",
    "    if len(df_logins_extended[df_logins_extended['srccountry']== country_code])>0:\n",
    "        print(\"Table df_logins (as ATTACKER):\")\n",
    "        display(df_logins_extended[df_logins_extended['srccountry']== country_code])\n",
    "    \n",
    "    if len(df_attacks_extended[df_attacks_extended['targetcountry']== country_code])>0:\n",
    "        print(\"Table df_attacks (as TARGET):\")\n",
    "        display(df_attacks_extended[df_attacks_extended['targetcountry']== country_code])\n",
    "    "
   ]
  },
  {
   "cell_type": "code",
   "execution_count": null,
   "metadata": {
    "collapsed": false
   },
   "outputs": [],
   "source": [
    "display(HTML('<h3>*Search by (only) one field per time:</h3>'))\n",
    "\n",
    "search_by_username = widgets.Text(description=\"username\")\n",
    "display(search_by_username)\n",
    "search_by_username.on_submit(search_by_username_submit)\n",
    "\n",
    "search_by_userid = widgets.Text(description=\"userid\")\n",
    "display(search_by_userid)\n",
    "search_by_userid.on_submit(search_by_userid_submit)\n",
    "\n",
    "search_by_ip = widgets.Text(description=\"IP\")\n",
    "display(search_by_ip)\n",
    "search_by_ip.on_submit(search_by_ip_submit)\n",
    "\n",
    "search_by_asn = widgets.Text(description=\"ASN\")\n",
    "display(search_by_asn)\n",
    "search_by_asn.on_submit(search_by_asn_submit)\n",
    "\n",
    "search_by_country = Dropdown(description=\"Country\", options=country_list['Name'].tolist())\n",
    "search_by_country.on_trait_change(search_by_country_submit, name=\"value\")\n",
    "display(search_by_country)"
   ]
  },
  {
   "cell_type": "code",
   "execution_count": null,
   "metadata": {
    "collapsed": true
   },
   "outputs": [],
   "source": []
  }
 ],
 "metadata": {
  "kernelspec": {
   "display_name": "Python 3",
   "language": "python",
   "name": "python3"
  },
  "language_info": {
   "codemirror_mode": {
    "name": "ipython",
    "version": 3
   },
   "file_extension": ".py",
   "mimetype": "text/x-python",
   "name": "python",
   "nbconvert_exporter": "python",
   "pygments_lexer": "ipython3",
   "version": "3.5.1"
  },
  "widgets": {
   "state": {},
   "version": "1.1.2"
  }
 },
 "nbformat": 4,
 "nbformat_minor": 0
}
