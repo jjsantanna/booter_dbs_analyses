{
 "cells": [
  {
   "cell_type": "markdown",
   "metadata": {
    "deletable": true,
    "editable": true
   },
   "source": [
    "<h1 align=\"center\">\n",
    "!!!!!!!!!!!!!!!!!!!!!!!!!!!!!!!!!!!!!!!!!!!!!!!!!!!!!!!!!!!!!!!!!!!!!!!!!!!!!!!!!!!!!!!!!!!!!!!!!!!!!!!!!!!!!!!!!!!!!!!!!!!!!!!<br>\n",
    "Brief explanation on our Booter database analysis methodology: <br>\n",
    "!!!!!!!!!!!!!!!!!!!!!!!!!!!!!!!!!!!!!!!!!!!!!!!!!!!!!!!!!!!!!!!!!!!!!!!!!!!!!!!!!!!!!!!!!!!!!!!!!!!!!!!!!!!!!!!!!!!!!!!!!!!!!!!</h1> "
   ]
  },
  {
   "cell_type": "markdown",
   "metadata": {
    "deletable": true,
    "editable": true
   },
   "source": [
    "# Analysis of: galaxybooter\n",
    "#### File originally retrieved from: http://4lz5rmnkd6f63tmm.onion/db/galaxybooter.sql"
   ]
  },
  {
   "cell_type": "markdown",
   "metadata": {
    "deletable": true,
    "editable": true
   },
   "source": [
    "## * Libraries that I use to analyse data"
   ]
  },
  {
   "cell_type": "code",
   "execution_count": 1,
   "metadata": {
    "collapsed": true,
    "deletable": true,
    "editable": true
   },
   "outputs": [],
   "source": [
    "import pandas as pd\n",
    "import numpy as np\n",
    "\n",
    "from io import StringIO\n",
    "import re\n",
    "\n",
    "from IPython.display import display,clear_output"
   ]
  },
  {
   "cell_type": "code",
   "execution_count": 2,
   "metadata": {
    "collapsed": false
   },
   "outputs": [
    {
     "name": "stdout",
     "output_type": "stream",
     "text": [
      " Functions loaded!!!!\n"
     ]
    }
   ],
   "source": [
    "%run '../booter_db_analysis_functions.ipynb'"
   ]
  },
  {
   "cell_type": "markdown",
   "metadata": {
    "deletable": true,
    "editable": true
   },
   "source": [
    "<h1 align=\"center\">\n",
    "!!!!!!!!!!!!!!!!!!!!!!!!!!!!!!!!!!!!!!!!!!!!!!!!!!!!!!!!!!!!!!!!!!!!!!!!!!!!!!!!!!!!!!!!!!!!!!!!!!!!!!!!!!!!!!!!!!!!!!!!!!!!!!!<br>\n",
    "STEP 0: Reading an input Booter database file<br>\n",
    "!!!!!!!!!!!!!!!!!!!!!!!!!!!!!!!!!!!!!!!!!!!!!!!!!!!!!!!!!!!!!!!!!!!!!!!!!!!!!!!!!!!!!!!!!!!!!!!!!!!!!!!!!!!!!!!!!!!!!!!!!!!!!!!</h1> "
   ]
  },
  {
   "cell_type": "code",
   "execution_count": 3,
   "metadata": {
    "collapsed": true,
    "deletable": true,
    "editable": true
   },
   "outputs": [],
   "source": [
    "dumpfile='galaxybooter.sql'"
   ]
  },
  {
   "cell_type": "markdown",
   "metadata": {
    "deletable": true,
    "editable": true
   },
   "source": [
    "<h1 align=\"center\">\n",
    "!!!!!!!!!!!!!!!!!!!!!!!!!!!!!!!!!!!!!!!!!!!!!!!!!!!!!!!!!!!!!!!!!!!!!!!!!!!!!!!!!!!!!!!!!!!!!!!!!!!!!!!!!!!!!!!!!!!!!!!!!!!!!!!!!!!!!!!!!<br>\n",
    "STEP 1: Adaptation to our Booter database schema<br>\n",
    "!!!!!!!!!!!!!!!!!!!!!!!!!!!!!!!!!!!!!!!!!!!!!!!!!!!!!!!!!!!!!!!!!!!!!!!!!!!!!!!!!!!!!!!!!!!!!!!!!!!!!!!!!!!!!!!!!!!!!!!!!!!!!!!</h1> "
   ]
  },
  {
   "cell_type": "markdown",
   "metadata": {
    "deletable": true,
    "editable": true
   },
   "source": [
    "## 1. Reading the first 'N' (100) lines of the input Booter database file"
   ]
  },
  {
   "cell_type": "code",
   "execution_count": 4,
   "metadata": {
    "collapsed": false,
    "deletable": true,
    "editable": true
   },
   "outputs": [
    {
     "name": "stdout",
     "output_type": "stream",
     "text": [
      "-- --------------------------------------------------------------------------------\n",
      "--\n",
      "-- @version: taysmy_boot.sql Apr 30, 2012 19:50 gewa\n",
      "-- @package CMS Pro\n",
      "-- @author wojoscripts.com.\n",
      "-- @copyright 2010\n",
      "--\n",
      "-- --------------------------------------------------------------------------------\n",
      "-- Host: localhost\n",
      "-- Database: taysmy_boot\n",
      "-- Time: Apr 30, 2012-19:50\n",
      "-- MySQL version: 5.5.21-55\n",
      "-- PHP version: 5.2.17\n",
      "-- --------------------------------------------------------------------------------\n",
      "\n",
      "#\n",
      "# Database: `taysmy_boot`\n",
      "#\n",
      "\n",
      "\n",
      "-- --------------------------------------------------\n",
      "# -- Table structure for table `email_templates`\n",
      "-- --------------------------------------------------\n",
      "DROP TABLE IF EXISTS `email_templates`;\n",
      "CREATE TABLE `email_templates` (\n",
      "`id` int(5) NOT NULL AUTO_INCREMENT,\n",
      "`name` varchar(200) NOT NULL,\n",
      "`subject` varchar(255) NOT NULL,\n",
      "`help` text,\n",
      "`body` text,\n",
      "PRIMARY KEY (`id`)\n",
      ") ENGINE=MyISAM AUTO_INCREMENT=15 DEFAULT CHARSET=utf8;\n",
      "\n",
      "-- --------------------------------------------------\n",
      "# Dumping data for table `email_templates`\n",
      "-- --------------------------------------------------\n",
      "\n",
      "INSERT INTO `email_templates` (`id`, `name`, `subject`, `help`, `body`) VALUES ('1', 'Registration Email', 'Please verify your email', 'This template is used to send Registration Verification Email, when Configuration->Registration Verification is set to YES', '&lt;div align=&quot;center&quot;&gt;\\n&lt;table cellspacing=&quot;5&quot; cellpadding=&quot;5&quot; border=&quot;0&quot; width=&quot;600&quot; style=&quot;background: none repeat scroll 0% 0% rgb(244, 244, 244); border: 1px solid rgb(102, 102, 102);&quot;&gt;\\n    &lt;tbody&gt;\\n        &lt;tr&gt;\\n            &lt;th style=&quot;background-color: rgb(204, 204, 204);&quot;&gt;Welcome [NAME]! Thanks for registering.&lt;/th&gt;\\n        &lt;/tr&gt;\\n        &lt;tr&gt;\\n            &lt;td valign=&quot;top&quot; style=&quot;text-align: left;&quot;&gt;Hello,&lt;br /&gt;\\n            &lt;br /&gt;\\n            You&#039;re now a member of [SITE_NAME].&lt;br /&gt;\\n            &lt;br /&gt;\\n            Here are your login details. Please keep them in a safe place:&lt;br /&gt;\\n            &lt;br /&gt;\\n            Username: &lt;strong&gt;[USERNAME]&lt;/strong&gt;&lt;br /&gt;\\n            Password: &lt;strong&gt;[PASSWORD]&lt;/strong&gt;         &lt;hr /&gt;\\n            The administrator of this site has requested all new accounts&lt;br /&gt;\\n            to be activated by the users who created them thus your account&lt;br /&gt;\\n            is currently inactive. To activate your account,&lt;br /&gt;\\n            please visit the link below and enter the following:&lt;hr /&gt;\\n            Token: &lt;strong&gt;[TOKEN]&lt;/strong&gt;&lt;br /&gt;\\n            Email: &lt;strong&gt;[EMAIL]&lt;/strong&gt;         &lt;hr /&gt;\\n            &lt;a href=&quot;[LINK]&quot;&gt;Click here to activate tour account&lt;/a&gt;&lt;/td&gt;\\n        &lt;/tr&gt;\\n        &lt;tr&gt;\\n            &lt;td style=&quot;text-align: left;&quot;&gt;&lt;em&gt;Thanks,&lt;br /&gt;\\n            [SITE_NAME] Team&lt;br /&gt;\\n            &lt;a href=&quot;[URL]&quot;&gt;[URL]&lt;/a&gt;&lt;/em&gt;&lt;/td&gt;\\n        &lt;/tr&gt;\\n    &lt;/tbody&gt;\\n&lt;/table&gt;\\n&lt;/div&gt;');\n",
      "INSERT INTO `email_templates` (`id`, `name`, `subject`, `help`, `body`) VALUES ('2', 'Forgot Password Email', 'Password Reset', 'This template is used for retrieving lost user password', '&lt;div align=&quot;center&quot;&gt;\\n&lt;table width=&quot;600&quot; cellspacing=&quot;5&quot; cellpadding=&quot;5&quot; border=&quot;0&quot; style=&quot;background: none repeat scroll 0% 0% rgb(244, 244, 244); border: 1px solid rgb(102, 102, 102);&quot;&gt;\\n    &lt;tbody&gt;\\n        &lt;tr&gt;\\n            &lt;th style=&quot;background-color: rgb(204, 204, 204);&quot;&gt;New password reset from [SITE_NAME]!&lt;/th&gt;\\n        &lt;/tr&gt;\\n        &lt;tr&gt;\\n            &lt;td valign=&quot;top&quot; style=&quot;text-align: left;&quot;&gt;Hello, &lt;strong&gt;[USERNAME]&lt;/strong&gt;&lt;br /&gt;\\n            &lt;br /&gt;\\n            It seems that you or someone requested a new password for you.&lt;br /&gt;\\n            We have generated a new password, as requested:&lt;br /&gt;\\n            &lt;br /&gt;\\n            Your new password: &lt;strong&gt;[PASSWORD]&lt;/strong&gt;&lt;br /&gt;\\n            &lt;br /&gt;\\n            To use the new password you need to activate it. To do this click the link provided below and login with your new password.&lt;br /&gt;\\n            &lt;a href=&quot;[LINK]&quot;&gt;[LINK]&lt;/a&gt;&lt;br /&gt;\\n            &lt;br /&gt;\\n            You can change your password after you sign in.&lt;hr /&gt;\\n            Password requested from IP: [IP]&lt;/td&gt;\\n        &lt;/tr&gt;\\n        &lt;tr&gt;\\n            &lt;td style=&quot;text-align: left;&quot;&gt;&lt;em&gt;Thanks,&lt;br /&gt;\\n            [SITE_NAME] Team&lt;br /&gt;\\n            &lt;a href=&quot;[URL]&quot;&gt;[URL]&lt;/a&gt;&lt;/em&gt;&lt;/td&gt;\\n        &lt;/tr&gt;\\n    &lt;/tbody&gt;\\n&lt;/table&gt;\\n&lt;/div&gt;');\n",
      "INSERT INTO `email_templates` (`id`, `name`, `subject`, `help`, `body`) VALUES ('3', 'Welcome Mail From Admin', 'You have been registered', 'This template is used to send welcome email, when user is added by administrator', '&lt;div align=&quot;center&quot;&gt;\\n&lt;table cellspacing=&quot;5&quot; cellpadding=&quot;5&quot; border=&quot;0&quot; width=&quot;600&quot; style=&quot;background: none repeat scroll 0% 0% rgb(244, 244, 244); border: 1px solid rgb(102, 102, 102);&quot;&gt;\\n    &lt;tbody&gt;\\n        &lt;tr&gt;\\n            &lt;th style=&quot;background-color: rgb(204, 204, 204);&quot;&gt;Welcome [NAME]! You have been Registered.&lt;/th&gt;\\n        &lt;/tr&gt;\\n        &lt;tr&gt;\\n            &lt;td style=&quot;text-align: left;&quot;&gt;Hello,&lt;br /&gt;\\n            &lt;br /&gt;\\n            You&#039;re now a member of [SITE_NAME].&lt;br /&gt;\\n            &lt;br /&gt;\\n            Here are your login details. Please keep them in a safe place:&lt;br /&gt;\\n            &lt;br /&gt;\\n            Username: &lt;strong&gt;[USERNAME]&lt;/strong&gt;&lt;br /&gt;\\n            Password: &lt;strong&gt;[PASSWORD]&lt;/strong&gt;&lt;/td&gt;\\n        &lt;/tr&gt;\\n        &lt;tr&gt;\\n            &lt;td style=&quot;text-align: left;&quot;&gt;&lt;em&gt;Thanks,&lt;br /&gt;\\n            [SITE_NAME] Team&lt;br /&gt;\\n            &lt;a href=&quot;[URL]&quot;&gt;[URL]&lt;/a&gt;&lt;/em&gt;&lt;/td&gt;\\n        &lt;/tr&gt;\\n    &lt;/tbody&gt;\\n&lt;/table&gt;\\n&lt;/div&gt;');\n",
      "INSERT INTO `email_templates` (`id`, `name`, `subject`, `help`, `body`) VALUES ('4', 'Default Newsletter', 'Newsletter', 'This is a default newsletter template', '&lt;div align=&quot;center&quot;&gt;\\n&lt;table width=&quot;600&quot; cellspacing=&quot;5&quot; cellpadding=&quot;5&quot; border=&quot;0&quot; style=&quot;background: none repeat scroll 0% 0% rgb(244, 244, 244); border: 1px solid rgb(102, 102, 102);&quot;&gt;\\n    &lt;tbody&gt;\\n        &lt;tr&gt;\\n            &lt;th style=&quot;background-color: rgb(204, 204, 204);&quot;&gt;Hello [NAME]!&lt;/th&gt;\\n        &lt;/tr&gt;\\n        &lt;tr&gt;\\n            &lt;td valign=&quot;top&quot; style=&quot;text-align: left;&quot;&gt;You are receiving this email as a part of your newsletter subscription.         &lt;hr /&gt;\\n            Here goes your newsletter content         &lt;hr /&gt;\\n            &lt;/td&gt;\\n        &lt;/tr&gt;\\n        &lt;tr&gt;\\n            &lt;td style=&quot;text-align: left;&quot;&gt;&lt;em&gt;Thanks,&lt;br /&gt;\\n            [SITE_NAME] Team&lt;br /&gt;\\n            &lt;a href=&quot;[URL]&quot;&gt;[URL]&lt;/a&gt;&lt;/em&gt;         &lt;hr /&gt;\\n            &lt;span style=&quot;font-size: 11px;&quot;&gt;&lt;em&gt;To stop receiving future newsletters please login into your account         and uncheck newsletter subscription box.&lt;/em&gt;&lt;/span&gt;&lt;/td&gt;\\n        &lt;/tr&gt;\\n    &lt;/tbody&gt;\\n&lt;/table&gt;\\n&lt;/div&gt;');\n",
      "INSERT INTO `email_templates` (`id`, `name`, `subject`, `help`, `body`) VALUES ('5', 'Transaction Completed', 'Payment Completed', 'This template is used to notify administrator on successful payment transaction', '&lt;div align=&quot;center&quot;&gt;\\n&lt;table width=&quot;600&quot; cellspacing=&quot;5&quot; cellpadding=&quot;5&quot; border=&quot;0&quot; style=&quot;background: none repeat scroll 0% 0% rgb(244, 244, 244); border: 1px solid rgb(102, 102, 102);&quot;&gt;\\n    &lt;tbody&gt;\\n        &lt;tr&gt;\\n            &lt;th style=&quot;background-color: rgb(204, 204, 204);&quot;&gt;Hello, Admin&lt;/th&gt;\\n        &lt;/tr&gt;\\n        &lt;tr&gt;\\n            &lt;td valign=&quot;top&quot; style=&quot;text-align: left;&quot;&gt;You have received new payment following:&lt;br /&gt;\\n            &lt;br /&gt;\\n            Username: &lt;strong&gt;[USERNAME]&lt;/strong&gt;&lt;br /&gt;\\n            Membership: &lt;strong&gt;[ITEMNAME]&lt;/strong&gt;&lt;br /&gt;\\n            Price: &lt;strong&gt;[PRICE]&lt;/strong&gt;&lt;br /&gt;\\n            Status: &lt;strong&gt;[STATUS] &lt;/strong&gt;&lt;br /&gt;\\r\\n            Processor: &lt;strong&gt;[PP] &lt;/strong&gt;&lt;br /&gt;\\n            IP: &lt;strong&gt;[IP] &lt;/strong&gt;&lt;/td&gt;\\n        &lt;/tr&gt;\\n        &lt;tr&gt;\\n            &lt;td valign=&quot;top&quot; style=&quot;text-align: left;&quot;&gt;&lt;em&gt;You can view this transaction from your admin panel&lt;/em&gt;&lt;/td&gt;\\n        &lt;/tr&gt;\\n    &lt;/tbody&gt;\\n&lt;/table&gt;\\n&lt;/div&gt;');\n",
      "INSERT INTO `email_templates` (`id`, `name`, `subject`, `help`, `body`) VALUES ('6', 'Transaction Suspicious', 'Suspicious Transaction', 'This template is used to notify administrator on failed/suspicious payment transaction', '&lt;div align=&quot;center&quot;&gt;\\n&lt;table width=&quot;600&quot; cellspacing=&quot;5&quot; cellpadding=&quot;5&quot; border=&quot;0&quot; style=&quot;background: none repeat scroll 0% 0% rgb(244, 244, 244); border: 1px solid rgb(102, 102, 102);&quot;&gt;\\n    &lt;tbody&gt;\\n        &lt;tr&gt;\\n            &lt;th style=&quot;background-color:#ccc&quot;&gt;Hello, Admin&lt;/th&gt;\\n        &lt;/tr&gt;\\n        &lt;tr&gt;\\n            &lt;td valign=&quot;top&quot; style=&quot;text-align:left&quot;&gt;The following transaction has been disabled due to suspicious activity:&lt;br /&gt;\\n            &lt;br /&gt;\\n            Buyer: &lt;strong&gt;[USERNAME]&lt;/strong&gt;&lt;br /&gt;\\n            Item: &lt;strong&gt;[ITEM]&lt;/strong&gt;&lt;br /&gt;\\n            Price: &lt;strong&gt;[PRICE]&lt;/strong&gt;&lt;br /&gt;\\n            Status: &lt;strong&gt;[STATUS]&lt;/strong&gt;&lt;/td&gt;\\r\\n            Processor: &lt;strong&gt;[PP] &lt;/strong&gt;&lt;br /&gt;\\n        &lt;/tr&gt;\\n        &lt;tr&gt;\\n            &lt;td style=&quot;text-align:left&quot;&gt;&lt;em&gt;Please verify this transaction is correct. If it is, please activate it in the transaction section of your site&#039;s &lt;br /&gt;\\n            administration control panel. If not, it appears that someone tried to fraudulently obtain products from your site.&lt;/em&gt;&lt;/td&gt;\\n        &lt;/tr&gt;\\n    &lt;/tbody&gt;\\n&lt;/table&gt;\\n&lt;/div&gt;');\n",
      "INSERT INTO `email_templates` (`id`, `name`, `subject`, `help`, `body`) VALUES ('7', 'Welcome Email', 'Welcome', 'This template is used to welcome newly registered user when Configuration->Registration Verification and Configuration->Auto Registration are both set to YES', '&lt;div align=&quot;center&quot;&gt;\\n&lt;table width=&quot;600&quot; cellspacing=&quot;5&quot; cellpadding=&quot;5&quot; border=&quot;0&quot; style=&quot;background: none repeat scroll 0% 0% rgb(244, 244, 244); border: 1px solid rgb(102, 102, 102);&quot;&gt;\\n    &lt;tbody&gt;\\n        &lt;tr&gt;\\n            &lt;th style=&quot;background-color: rgb(204, 204, 204);&quot;&gt;Welcome [NAME]! Thanks for registering.&lt;/th&gt;\\n        &lt;/tr&gt;\\n        &lt;tr&gt;\\n            &lt;td style=&quot;text-align: left;&quot;&gt;Hello,&lt;br /&gt;\\n            &lt;br /&gt;\\n            You&#039;re now a member of [SITE_NAME].&lt;br /&gt;\\n            &lt;br /&gt;\\n            Here are your login details. Please keep them in a safe place:&lt;br /&gt;\\n            &lt;br /&gt;\\n            Username: &lt;strong&gt;[USERNAME]&lt;/strong&gt;&lt;br /&gt;\\n            Password: &lt;strong&gt;[PASSWORD]&lt;/strong&gt;&lt;/td&gt;\\n        &lt;/tr&gt;\\n        &lt;tr&gt;\\n            &lt;td style=&quot;text-align: left;&quot;&gt;&lt;em&gt;Thanks,&lt;br /&gt;\\n            [SITE_NAME] Team&lt;br /&gt;\\n            &lt;a href=&quot;[URL]&quot;&gt;[URL]&lt;/a&gt;&lt;/em&gt;&lt;/td&gt;\\n        &lt;/tr&gt;\\n    &lt;/tbody&gt;\\n&lt;/table&gt;\\n&lt;/div&gt;');\n",
      "INSERT INTO `email_templates` (`id`, `name`, `subject`, `help`, `body`) VALUES ('8', 'Membership Expire 7 days', 'Your membership will expire in 7 days', 'This template is used to remind user that membership will expire in 7 days', '&lt;div align=&quot;center&quot;&gt;\\n&lt;table cellspacing=&quot;5&quot; cellpadding=&quot;5&quot; border=&quot;0&quot; width=&quot;600&quot; style=&quot;background: none repeat scroll 0% 0% rgb(244, 244, 244); border: 1px solid rgb(102, 102, 102);&quot;&gt;\\n    &lt;tbody&gt;\\n        &lt;tr&gt;\\n            &lt;th style=&quot;background-color: rgb(204, 204, 204);&quot;&gt;Hello, [NAME]&lt;/th&gt;\\n        &lt;/tr&gt;\\n        &lt;tr&gt;\\n            &lt;td valign=&quot;top&quot; style=&quot;text-align: left;&quot;&gt;\\n            &lt;h2 style=&quot;color: rgb(255, 0, 0);&quot;&gt;Your current membership will expire in 7 days&lt;/h2&gt;\\n            Please login to your user panel to extend or upgrade your membership.&lt;/td&gt;\\n        &lt;/tr&gt;\\n        &lt;tr&gt;\\n            &lt;td style=&quot;text-align: left;&quot;&gt;&lt;em&gt;Thanks,&lt;br /&gt;\\n            [SITE_NAME] Team&lt;br /&gt;\\n            &lt;a href=&quot;[URL]&quot;&gt;[URL]&lt;/a&gt;&lt;/em&gt;&lt;/td&gt;\\n        &lt;/tr&gt;\\n    &lt;/tbody&gt;\\n&lt;/table&gt;\\n&lt;/div&gt;');\n",
      "INSERT INTO `email_templates` (`id`, `name`, `subject`, `help`, `body`) VALUES ('9', 'Membership Expired Today', 'Your membership has expired', 'This template is used to remind user that membership had expired', '&lt;div align=&quot;center&quot;&gt;\\n&lt;table width=&quot;600&quot; cellspacing=&quot;5&quot; cellpadding=&quot;5&quot; border=&quot;0&quot; style=&quot;background: none repeat scroll 0% 0% rgb(244, 244, 244); border: 1px solid rgb(102, 102, 102);&quot;&gt;\\n    &lt;tbody&gt;\\n        &lt;tr&gt;\\n            &lt;th style=&quot;background-color: rgb(204, 204, 204);&quot;&gt;Hello, [NAME]&lt;/th&gt;\\n        &lt;/tr&gt;\\n        &lt;tr&gt;\\n            &lt;td valign=&quot;top&quot; style=&quot;text-align: left;&quot;&gt;\\n            &lt;h2 style=&quot;color: rgb(255, 0, 0);&quot;&gt;Your current membership has expired!&lt;/h2&gt;\\n            Please login to your user panel to extend or upgrade your membership.&lt;/td&gt;\\n        &lt;/tr&gt;\\n        &lt;tr&gt;\\n            &lt;td style=&quot;text-align: left;&quot;&gt;&lt;em&gt;Thanks,&lt;br /&gt;\\n            [SITE_NAME] Team&lt;br /&gt;\\n            &lt;a href=&quot;[URL]&quot;&gt;[URL]&lt;/a&gt;&lt;/em&gt;&lt;/td&gt;\\n        &lt;/tr&gt;\\n    &lt;/tbody&gt;\\n&lt;/table&gt;\\n&lt;/div&gt;');\n",
      "INSERT INTO `email_templates` (`id`, `name`, `subject`, `help`, `body`) VALUES ('10', 'Contact Request', 'Contact Inquiry', 'This template is used to send default Contact Request Form', '&lt;div align=&quot;center&quot;&gt;\\n&lt;table width=&quot;600&quot; cellspacing=&quot;5&quot; cellpadding=&quot;5&quot; border=&quot;0&quot; style=&quot;background: none repeat scroll 0% 0% rgb(244, 244, 244); border: 1px solid rgb(102, 102, 102);&quot;&gt;\\n    &lt;tbody&gt;\\n        &lt;tr&gt;\\n            &lt;th style=&quot;background-color: rgb(204, 204, 204);&quot;&gt;Hello Admin&lt;/th&gt;\\n        &lt;/tr&gt;\\n        &lt;tr&gt;\\n            &lt;td valign=&quot;top&quot; style=&quot;text-align: left;&quot;&gt;You have a new contact request:         &lt;hr /&gt;\\n            [MESSAGE]         &lt;hr /&gt;\\n            From: &lt;strong&gt;[SENDER] - [NAME]&lt;/strong&gt;&lt;br /&gt;\\n            Subject: &lt;strong&gt;[MAILSUBJECT]&lt;/strong&gt;&lt;br /&gt;\\n            Senders IP: &lt;strong&gt;[IP]&lt;/strong&gt;&lt;/td&gt;\\n        &lt;/tr&gt;\\n    &lt;/tbody&gt;\\n&lt;/table&gt;\\n&lt;/div&gt;');\n",
      "INSERT INTO `email_templates` (`id`, `name`, `subject`, `help`, `body`) VALUES ('12', 'Single Email', 'Single User Email', 'This template is used to email single user', '&lt;div align=&quot;center&quot;&gt;\\n  &lt;table width=&quot;600&quot; cellspacing=&quot;5&quot; cellpadding=&quot;5&quot; border=&quot;0&quot; style=&quot;background: none repeat scroll 0% 0% rgb(244, 244, 244); border: 1px solid rgb(102, 102, 102);&quot;&gt;\\n    &lt;tbody&gt;\\n      &lt;tr&gt;\\n        &lt;th style=&quot;background-color:#ccc&quot;&gt;Hello [NAME]&lt;/th&gt;\\n      &lt;/tr&gt;\\n      &lt;tr&gt;\\n        &lt;td valign=&quot;top&quot; style=&quot;text-align:left&quot;&gt;Your message goes here...&lt;/td&gt;\\n      &lt;/tr&gt;\\n      &lt;tr&gt;\\n        &lt;td style=&quot;text-align:left&quot;&gt;&lt;em&gt;Thanks,&lt;br /&gt;\\n          [SITE_NAME] Team&lt;br /&gt;\\n          &lt;a href=&quot;[URL]&quot;&gt;[URL]&lt;/a&gt;&lt;/em&gt;&lt;/td&gt;\\n      &lt;/tr&gt;\\n    &lt;/tbody&gt;\\n  &lt;/table&gt;\\n&lt;/div&gt;');\n",
      "INSERT INTO `email_templates` (`id`, `name`, `subject`, `help`, `body`) VALUES ('13', 'Notify Admin', 'New User Registration', 'This template is used to notify admin of new registration when Configuration->Registration Notification is set to YES', '&lt;div align=&quot;center&quot;&gt;\\n&lt;table cellspacing=&quot;5&quot; cellpadding=&quot;5&quot; border=&quot;0&quot; width=&quot;600&quot; style=&quot;background: none repeat scroll 0% 0% rgb(244, 244, 244); border: 1px solid rgb(102, 102, 102);&quot;&gt;\\n    &lt;tbody&gt;\\n        &lt;tr&gt;\\n            &lt;th style=&quot;background-color: rgb(204, 204, 204);&quot;&gt;Hello Admin&lt;/th&gt;\\n        &lt;/tr&gt;\\n        &lt;tr&gt;\\n            &lt;td valign=&quot;top&quot; style=&quot;text-align: left;&quot;&gt;You have a new user registration. You can login into your admin panel to view details:&lt;hr /&gt;\\n            Username: &lt;strong&gt;[USERNAME]&lt;/strong&gt;&lt;br /&gt;\\n            Name: &lt;strong&gt;[NAME]&lt;/strong&gt;&lt;br /&gt;\\n            IP: &lt;strong&gt;[IP]&lt;/strong&gt;&lt;/td&gt;\\n        &lt;/tr&gt;\\n    &lt;/tbody&gt;\\n&lt;/table&gt;\\n&lt;/div&gt;');\n",
      "INSERT INTO `email_templates` (`id`, `name`, `subject`, `help`, `body`) VALUES ('14', 'Registration Pending', 'Registration Verification Pending', 'This template is used to send Registration Verification Email, when Configuration->Auto Registration is set to NO', '&lt;div align=&quot;center&quot;&gt;\\n&lt;table cellspacing=&quot;5&quot; cellpadding=&quot;5&quot; border=&quot;0&quot; width=&quot;600&quot; style=&quot;background: none repeat scroll 0% 0% rgb(244, 244, 244); border: 1px solid rgb(102, 102, 102);&quot;&gt;\\n    &lt;tbody&gt;\\n        &lt;tr&gt;\\n            &lt;th style=&quot;background-color: rgb(204, 204, 204);&quot;&gt;Welcome [NAME]! Thanks for registering.&lt;/th&gt;\\n        &lt;/tr&gt;\\n        &lt;tr&gt;\\n            &lt;td valign=&quot;top&quot; style=&quot;text-align: left;&quot;&gt;Hello,&lt;br /&gt;\\n            &lt;br /&gt;\\n            You&#039;re now a member of [SITE_NAME].&lt;br /&gt;\\n            &lt;br /&gt;\\n            Here are your login details. Please keep them in a safe place:&lt;br /&gt;\\n            &lt;br /&gt;\\n            Username: &lt;strong&gt;[USERNAME]&lt;/strong&gt;&lt;br /&gt;\\n            Password: &lt;strong&gt;[PASSWORD]&lt;/strong&gt;         &lt;hr /&gt;\\n            The administrator of this site has requested all new accounts&lt;br /&gt;\\n            to be activated by the users who created them thus your account&lt;br /&gt;\\n            is currently pending verification process.&lt;/td&gt;\\n        &lt;/tr&gt;\\n        &lt;tr&gt;\\n            &lt;td style=&quot;text-align: left;&quot;&gt;&lt;em&gt;Thanks,&lt;br /&gt;\\n            [SITE_NAME] Team&lt;br /&gt;\\n            &lt;a href=&quot;[URL]&quot;&gt;[URL]&lt;/a&gt;&lt;/em&gt;&lt;/td&gt;\\n        &lt;/tr&gt;\\n    &lt;/tbody&gt;\\n&lt;/table&gt;\\n&lt;/div&gt;');\n",
      "\n",
      "\n",
      "-- --------------------------------------------------\n",
      "# -- Table structure for table `gateways`\n",
      "-- --------------------------------------------------\n",
      "DROP TABLE IF EXISTS `gateways`;\n",
      "CREATE TABLE `gateways` (\n",
      "`id` int(11) NOT NULL AUTO_INCREMENT,\n",
      "`name` varchar(255) NOT NULL,\n",
      "`displayname` varchar(255) NOT NULL,\n",
      "`dir` varchar(255) NOT NULL,\n",
      "`demo` tinyint(1) NOT NULL DEFAULT '1',\n",
      "`extra_txt` varchar(255) NOT NULL,\n",
      "`extra_txt2` varchar(255) NOT NULL,\n",
      "`extra_txt3` varchar(255) DEFAULT NULL,\n",
      "`extra` varchar(255) NOT NULL,\n",
      "`extra2` varchar(255) NOT NULL,\n",
      "`extra3` varchar(255) DEFAULT NULL,\n",
      "`is_recurring` tinyint(1) NOT NULL DEFAULT '0',\n",
      "`active` tinyint(1) NOT NULL DEFAULT '1',\n",
      "PRIMARY KEY (`id`)\n",
      ") ENGINE=MyISAM AUTO_INCREMENT=3 DEFAULT CHARSET=utf8;\n",
      "\n",
      "-- --------------------------------------------------\n",
      "# Dumping data for table `gateways`\n",
      "-- --------------------------------------------------\n",
      "\n",
      "INSERT INTO `gateways` (`id`, `name`, `displayname`, `dir`, `demo`, `extra_txt`, `extra_txt2`, `extra_txt3`, `extra`, `extra2`, `extra3`, `is_recurring`, `active`) VALUES ('1', 'paypal', 'PayPal', 'paypal', '1', 'Paypal Email Address', 'Currency Code', 'Not in Use', 'hfdeceive@hotmail.com', 'USD', '', '1', '1');\n",
      "INSERT INTO `gateways` (`id`, `name`, `displayname`, `dir`, `demo`, `extra_txt`, `extra_txt2`, `extra_txt3`, `extra`, `extra2`, `extra3`, `is_recurring`, `active`) VALUES ('2', 'moneybookers', 'MoneyBookers', 'moneybookers', '0', 'MoneyBookers Email Address', 'Currency Code', 'Secret Passphrase', 'moneybookers@address.com', 'EUR', 'mypassphrase', '1', '0');\n",
      "\n",
      "\n",
      "-- --------------------------------------------------\n",
      "# -- Table structure for table `getshells`\n",
      "-- --------------------------------------------------\n",
      "DROP TABLE IF EXISTS `getshells`;\n",
      "CREATE TABLE `getshells` (\n",
      "`URL` varchar(1000) NOT NULL,\n",
      "`online` int(1) NOT NULL DEFAULT '0',\n",
      "`lastChecked` int(10) NOT NULL DEFAULT '0'\n",
      ") ENGINE=MyISAM DEFAULT CHARSET=latin1;\n",
      "\n",
      "-- --------------------------------------------------\n",
      "# Dumping data for table `getshells`\n",
      "-- --------------------------------------------------\n",
      "\n",
      "INSERT INTO `getshells` (`URL`, `online`, `lastChecked`) VALUES ('http://www.filbanken.nu/awstats/awstats/UDP.php', '0', '0');\n",
      "INSERT INTO `getshells` (`URL`, `online`, `lastChecked`) VALUES ('http://www.indianethicalhacker.blackapplehost.com/xoep.php?', '0', '0');\n",
      "INSERT INTO `getshells` (`URL`, `online`, `lastChecked`) VALUES ('http://www.indianethicalhacker.blackapplehost.com/xoep.php ', '0', '0');\n",
      "INSERT INTO `getshells` (`URL`, `online`, `lastChecked`) VALUES ('http://www.indianethicalhacker.blackapplehost.com/xoep.php\\t', '0', '0');\n",
      "INSERT INTO `getshells` (`URL`, `online`, `lastChecked`) VALUES ('http://163.178.170.74/webdav/greenshell.php', '0', '0');\n"
     ]
    }
   ],
   "source": [
    "lines_to_read=100\n",
    "\n",
    "with open(dumpfile) as myfile:\n",
    "    firstlines=myfile.readlines()[0:lines_to_read] #put here the interval you want\n",
    "    for x in firstlines:\n",
    "        print(x.strip())"
   ]
  },
  {
   "cell_type": "markdown",
   "metadata": {
    "deletable": true,
    "editable": true
   },
   "source": [
    "## 2. Listing tables that have content inserted into the dump file"
   ]
  },
  {
   "cell_type": "code",
   "execution_count": 5,
   "metadata": {
    "collapsed": true,
    "deletable": true,
    "editable": true
   },
   "outputs": [],
   "source": [
    "def list_tables_with_insert(dumpfile):\n",
    "    tables = []\n",
    "    with open(dumpfile, 'rb') as f:\n",
    "        for line in f:\n",
    "            line = line.decode(\"utf-8\").strip()\n",
    "            if line.lower().startswith('insert'):\n",
    "                table = re.findall(r'`(.*?)`', line)\n",
    "                tables.append(table[0])\n",
    "    return tables"
   ]
  },
  {
   "cell_type": "code",
   "execution_count": 6,
   "metadata": {
    "collapsed": false,
    "deletable": true,
    "editable": true
   },
   "outputs": [
    {
     "name": "stdout",
     "output_type": "stream",
     "text": [
      "1 email_templates\n",
      "2 email_templates\n",
      "3 email_templates\n",
      "4 email_templates\n",
      "5 email_templates\n",
      "6 email_templates\n",
      "7 email_templates\n",
      "8 email_templates\n",
      "9 email_templates\n",
      "10 email_templates\n",
      "11 email_templates\n",
      "12 email_templates\n",
      "13 email_templates\n",
      "14 gateways\n",
      "15 gateways\n",
      "16 getshells\n",
      "17 getshells\n",
      "18 getshells\n",
      "19 getshells\n",
      "20 getshells\n",
      "21 getshells\n",
      "22 getshells\n",
      "23 getshells\n",
      "24 getshells\n",
      "25 getshells\n",
      "26 getshells\n",
      "27 getshells\n",
      "28 getshells\n",
      "29 getshells\n",
      "30 getshells\n",
      "31 getshells\n",
      "32 getshells\n",
      "33 getshells\n",
      "34 getshells\n",
      "35 getshells\n",
      "36 getshells\n",
      "37 getshells\n",
      "38 getshells\n",
      "39 getshells\n",
      "40 getshells\n",
      "41 getshells\n",
      "42 getshells\n",
      "43 getshells\n",
      "44 getshells\n",
      "45 getshells\n",
      "46 getshells\n",
      "47 getshells\n",
      "48 getshells\n",
      "49 getshells\n",
      "50 getshells\n",
      "51 getshells\n",
      "52 getshells\n",
      "53 getshells\n",
      "54 getshells\n",
      "55 getshells\n",
      "56 getshells\n",
      "57 getshells\n",
      "58 getshells\n",
      "59 getshells\n",
      "60 getshells\n",
      "61 getshells\n",
      "62 getshells\n",
      "63 getshells\n",
      "64 getshells\n",
      "65 getshells\n",
      "66 getshells\n",
      "67 getshells\n",
      "68 getshells\n",
      "69 getshells\n",
      "70 getshells\n",
      "71 getshells\n",
      "72 getshells\n",
      "73 getshells\n",
      "74 getshells\n",
      "75 getshells\n",
      "76 getshells\n",
      "77 getshells\n",
      "78 getshells\n",
      "79 getshells\n",
      "80 getshells\n",
      "81 getshells\n",
      "82 getshells\n",
      "83 getshells\n",
      "84 getshells\n",
      "85 getshells\n",
      "86 getshells\n",
      "87 getshells\n",
      "88 getshells\n",
      "89 getshells\n",
      "90 getshells\n",
      "91 getshells\n",
      "92 getshells\n",
      "93 getshells\n",
      "94 getshells\n",
      "95 getshells\n",
      "96 getshells\n",
      "97 getshells\n",
      "98 getshells\n",
      "99 getshells\n",
      "100 getshells\n",
      "101 getshells\n",
      "102 getshells\n",
      "103 getshells\n",
      "104 getshells\n",
      "105 getshells\n",
      "106 getshells\n",
      "107 getshells\n",
      "108 getshells\n",
      "109 getshells\n",
      "110 getshells\n",
      "111 getshells\n",
      "112 getshells\n",
      "113 getshells\n",
      "114 getshells\n",
      "115 getshells\n",
      "116 getshells\n",
      "117 getshells\n",
      "118 getshells\n",
      "119 getshells\n",
      "120 getshells\n",
      "121 getshells\n",
      "122 getshells\n",
      "123 getshells\n",
      "124 getshells\n",
      "125 getshells\n",
      "126 getshells\n",
      "127 getshells\n",
      "128 getshells\n",
      "129 getshells\n",
      "130 getshells\n",
      "131 getshells\n",
      "132 getshells\n",
      "133 getshells\n",
      "134 getshells\n",
      "135 getshells\n",
      "136 getshells\n",
      "137 getshells\n",
      "138 getshells\n",
      "139 getshells\n",
      "140 getshells\n",
      "141 getshells\n",
      "142 getshells\n",
      "143 getshells\n",
      "144 getshells\n",
      "145 getshells\n",
      "146 getshells\n",
      "147 getshells\n",
      "148 getshells\n",
      "149 getshells\n",
      "150 getshells\n",
      "151 getshells\n",
      "152 getshells\n",
      "153 getshells\n",
      "154 getshells\n",
      "155 getshells\n",
      "156 getshells\n",
      "157 getshells\n",
      "158 getshells\n",
      "159 getshells\n",
      "160 getshells\n",
      "161 getshells\n",
      "162 getshells\n",
      "163 getshells\n",
      "164 getshells\n",
      "165 getshells\n",
      "166 getshells\n",
      "167 getshells\n",
      "168 getshells\n",
      "169 getshells\n",
      "170 getshells\n",
      "171 getshells\n",
      "172 getshells\n",
      "173 getshells\n",
      "174 getshells\n",
      "175 getshells\n",
      "176 getshells\n",
      "177 getshells\n",
      "178 getshells\n",
      "179 getshells\n",
      "180 getshells\n",
      "181 getshells\n",
      "182 getshells\n",
      "183 getshells\n",
      "184 getshells\n",
      "185 getshells\n",
      "186 getshells\n",
      "187 getshells\n",
      "188 getshells\n",
      "189 getshells\n",
      "190 getshells\n",
      "191 getshells\n",
      "192 getshells\n",
      "193 getshells\n",
      "194 getshells\n",
      "195 getshells\n",
      "196 getshells\n",
      "197 getshells\n",
      "198 getshells\n",
      "199 getshells\n",
      "200 getshells\n",
      "201 getshells\n",
      "202 getshells\n",
      "203 getshells\n",
      "204 getshells\n",
      "205 getshells\n",
      "206 getshells\n",
      "207 getshells\n",
      "208 getshells\n",
      "209 getshells\n",
      "210 getshells\n",
      "211 getshells\n",
      "212 getshells\n",
      "213 getshells\n",
      "214 getshells\n",
      "215 getshells\n",
      "216 getshells\n",
      "217 getshells\n",
      "218 getshells\n",
      "219 getshells\n",
      "220 getshells\n",
      "221 getshells\n",
      "222 getshells\n",
      "223 getshells\n",
      "224 getshells\n",
      "225 getshells\n",
      "226 getshells\n",
      "227 getshells\n",
      "228 getshells\n",
      "229 getshells\n",
      "230 getshells\n",
      "231 getshells\n",
      "232 getshells\n",
      "233 getshells\n",
      "234 getshells\n",
      "235 getshells\n",
      "236 getshells\n",
      "237 getshells\n",
      "238 getshells\n",
      "239 getshells\n",
      "240 getshells\n",
      "241 getshells\n",
      "242 getshells\n",
      "243 getshells\n",
      "244 getshells\n",
      "245 getshells\n",
      "246 getshells\n",
      "247 getshells\n",
      "248 getshells\n",
      "249 getshells\n",
      "250 getshells\n",
      "251 getshells\n",
      "252 getshells\n",
      "253 getshells\n",
      "254 getshells\n",
      "255 getshells\n",
      "256 getshells\n",
      "257 getshells\n",
      "258 getshells\n",
      "259 getshells\n",
      "260 getshells\n",
      "261 getshells\n",
      "262 getshells\n",
      "263 getshells\n",
      "264 getshells\n",
      "265 getshells\n",
      "266 getshells\n",
      "267 getshells\n",
      "268 getshells\n",
      "269 getshells\n",
      "270 getshells\n",
      "271 getshells\n",
      "272 getshells\n",
      "273 getshells\n",
      "274 getshells\n",
      "275 getshells\n",
      "276 getshells\n",
      "277 getshells\n",
      "278 getshells\n",
      "279 getshells\n",
      "280 getshells\n",
      "281 getshells\n",
      "282 getshells\n",
      "283 getshells\n",
      "284 getshells\n",
      "285 getshells\n",
      "286 getshells\n",
      "287 getshells\n",
      "288 getshells\n",
      "289 getshells\n",
      "290 getshells\n",
      "291 getshells\n",
      "292 getshells\n",
      "293 getshells\n",
      "294 getshells\n",
      "295 getshells\n",
      "296 getshells\n",
      "297 getshells\n",
      "298 getshells\n",
      "299 getshells\n",
      "300 logs\n",
      "301 logs\n",
      "302 logs\n",
      "303 logs\n",
      "304 logs\n",
      "305 logs\n",
      "306 logs\n",
      "307 logs\n",
      "308 logs\n",
      "309 logs\n",
      "310 logs\n",
      "311 logs\n",
      "312 logs\n",
      "313 logs\n",
      "314 logs\n",
      "315 logs\n",
      "316 logs\n",
      "317 logs\n",
      "318 logs\n",
      "319 logs\n",
      "320 logs\n",
      "321 logs\n",
      "322 logs\n",
      "323 logs\n",
      "324 logs\n",
      "325 logs\n",
      "326 logs\n",
      "327 logs\n",
      "328 memberships\n",
      "329 memberships\n",
      "330 memberships\n",
      "331 memberships\n",
      "332 memberships\n",
      "333 news\n",
      "334 payments\n",
      "335 payments\n",
      "336 payments\n",
      "337 postshells\n",
      "338 postshells\n",
      "339 postshells\n",
      "340 postshells\n",
      "341 postshells\n",
      "342 postshells\n",
      "343 postshells\n",
      "344 postshells\n",
      "345 postshells\n",
      "346 postshells\n",
      "347 postshells\n",
      "348 postshells\n",
      "349 postshells\n",
      "350 postshells\n",
      "351 postshells\n",
      "352 postshells\n",
      "353 postshells\n",
      "354 postshells\n",
      "355 postshells\n",
      "356 postshells\n",
      "357 postshells\n",
      "358 postshells\n",
      "359 postshells\n",
      "360 postshells\n",
      "361 postshells\n",
      "362 postshells\n",
      "363 postshells\n",
      "364 postshells\n",
      "365 postshells\n",
      "366 postshells\n",
      "367 postshells\n",
      "368 postshells\n",
      "369 postshells\n",
      "370 postshells\n",
      "371 postshells\n",
      "372 postshells\n",
      "373 postshells\n",
      "374 postshells\n",
      "375 postshells\n",
      "376 postshells\n",
      "377 postshells\n",
      "378 postshells\n",
      "379 postshells\n",
      "380 postshells\n",
      "381 postshells\n",
      "382 postshells\n",
      "383 postshells\n",
      "384 postshells\n",
      "385 postshells\n",
      "386 postshells\n",
      "387 postshells\n",
      "388 postshells\n",
      "389 postshells\n",
      "390 postshells\n",
      "391 postshells\n",
      "392 postshells\n",
      "393 postshells\n",
      "394 postshells\n",
      "395 postshells\n",
      "396 postshells\n",
      "397 postshells\n",
      "398 postshells\n",
      "399 postshells\n",
      "400 postshells\n",
      "401 postshells\n",
      "402 postshells\n",
      "403 postshells\n",
      "404 postshells\n",
      "405 postshells\n",
      "406 postshells\n",
      "407 postshells\n",
      "408 postshells\n",
      "409 postshells\n",
      "410 postshells\n",
      "411 postshells\n",
      "412 postshells\n",
      "413 postshells\n",
      "414 postshells\n",
      "415 postshells\n",
      "416 postshells\n",
      "417 postshells\n",
      "418 postshells\n",
      "419 postshells\n",
      "420 postshells\n",
      "421 postshells\n",
      "422 postshells\n",
      "423 postshells\n",
      "424 postshells\n",
      "425 postshells\n",
      "426 postshells\n",
      "427 postshells\n",
      "428 postshells\n",
      "429 postshells\n",
      "430 postshells\n",
      "431 postshells\n",
      "432 postshells\n",
      "433 postshells\n",
      "434 postshells\n",
      "435 postshells\n",
      "436 postshells\n",
      "437 postshells\n",
      "438 postshells\n",
      "439 postshells\n",
      "440 postshells\n",
      "441 postshells\n",
      "442 postshells\n",
      "443 postshells\n",
      "444 postshells\n",
      "445 postshells\n",
      "446 postshells\n",
      "447 postshells\n",
      "448 postshells\n",
      "449 postshells\n",
      "450 postshells\n",
      "451 postshells\n",
      "452 postshells\n",
      "453 postshells\n",
      "454 postshells\n",
      "455 postshells\n",
      "456 postshells\n",
      "457 postshells\n",
      "458 postshells\n",
      "459 postshells\n",
      "460 postshells\n",
      "461 postshells\n",
      "462 postshells\n",
      "463 postshells\n",
      "464 postshells\n",
      "465 postshells\n",
      "466 postshells\n",
      "467 postshells\n",
      "468 postshells\n",
      "469 postshells\n",
      "470 postshells\n",
      "471 postshells\n",
      "472 postshells\n",
      "473 postshells\n",
      "474 postshells\n",
      "475 postshells\n",
      "476 postshells\n",
      "477 postshells\n",
      "478 postshells\n",
      "479 postshells\n",
      "480 postshells\n",
      "481 postshells\n",
      "482 postshells\n",
      "483 postshells\n",
      "484 postshells\n",
      "485 postshells\n",
      "486 postshells\n",
      "487 postshells\n",
      "488 postshells\n",
      "489 postshells\n",
      "490 postshells\n",
      "491 postshells\n",
      "492 postshells\n",
      "493 postshells\n",
      "494 postshells\n",
      "495 postshells\n",
      "496 postshells\n",
      "497 postshells\n",
      "498 postshells\n",
      "499 postshells\n",
      "500 postshells\n",
      "501 postshells\n",
      "502 postshells\n",
      "503 postshells\n",
      "504 postshells\n",
      "505 postshells\n",
      "506 postshells\n",
      "507 postshells\n",
      "508 postshells\n",
      "509 postshells\n",
      "510 postshells\n",
      "511 postshells\n",
      "512 postshells\n",
      "513 postshells\n",
      "514 postshells\n",
      "515 postshells\n",
      "516 postshells\n",
      "517 postshells\n",
      "518 postshells\n",
      "519 postshells\n",
      "520 postshells\n",
      "521 postshells\n",
      "522 postshells\n",
      "523 postshells\n",
      "524 postshells\n",
      "525 postshells\n",
      "526 postshells\n",
      "527 postshells\n",
      "528 postshells\n",
      "529 postshells\n",
      "530 postshells\n",
      "531 postshells\n",
      "532 postshells\n",
      "533 postshells\n",
      "534 postshells\n",
      "535 postshells\n",
      "536 postshells\n",
      "537 postshells\n",
      "538 settings\n",
      "539 slowloris\n",
      "540 slowloris\n",
      "541 slowloris\n",
      "542 slowloris\n",
      "543 slowloris\n",
      "544 slowloris\n",
      "545 slowloris\n",
      "546 slowloris\n",
      "547 slowloris\n",
      "548 slowloris\n",
      "549 slowloris\n",
      "550 slowloris\n",
      "551 slowloris\n",
      "552 slowloris\n",
      "553 slowloris\n",
      "554 slowloris\n",
      "555 slowloris\n",
      "556 slowloris\n",
      "557 slowloris\n",
      "558 slowloris\n",
      "559 slowloris\n",
      "560 slowloris\n",
      "561 slowloris\n",
      "562 slowloris\n",
      "563 slowloris\n",
      "564 slowloris\n",
      "565 slowloris\n",
      "566 slowloris\n",
      "567 slowloris\n",
      "568 slowloris\n",
      "569 slowloris\n",
      "570 slowloris\n",
      "571 slowloris\n",
      "572 slowloris\n",
      "573 slowloris\n",
      "574 slowloris\n",
      "575 slowloris\n",
      "576 slowloris\n",
      "577 slowloris\n",
      "578 slowloris\n",
      "579 slowloris\n",
      "580 slowloris\n",
      "581 slowloris\n",
      "582 slowloris\n",
      "583 slowloris\n",
      "584 slowloris\n",
      "585 slowloris\n",
      "586 slowloris\n",
      "587 slowloris\n",
      "588 slowloris\n",
      "589 slowloris\n",
      "590 slowloris\n",
      "591 slowloris\n",
      "592 slowloris\n",
      "593 slowloris\n",
      "594 slowloris\n",
      "595 slowloris\n",
      "596 slowloris\n",
      "597 slowloris\n",
      "598 slowloris\n",
      "599 slowloris\n",
      "600 slowloris\n",
      "601 slowloris\n",
      "602 slowloris\n",
      "603 users\n",
      "604 users\n"
     ]
    }
   ],
   "source": [
    "tables=enumerate(list_tables_with_insert(dumpfile))\n",
    "\n",
    "for i, item in tables:\n",
    "    print(i+1,item)"
   ]
  },
  {
   "cell_type": "code",
   "execution_count": 7,
   "metadata": {
    "collapsed": false
   },
   "outputs": [
    {
     "data": {
      "text/plain": [
       "email_templates     13\n",
       "gateways             2\n",
       "getshells          284\n",
       "logs                28\n",
       "memberships          5\n",
       "news                 1\n",
       "payments             3\n",
       "postshells         201\n",
       "settings             1\n",
       "slowloris           64\n",
       "users                2\n",
       "dtype: int64"
      ]
     },
     "execution_count": 7,
     "metadata": {},
     "output_type": "execute_result"
    }
   ],
   "source": [
    "(pd.Series(list_tables_with_insert(dumpfile)).value_counts()).sort_index()"
   ]
  },
  {
   "cell_type": "markdown",
   "metadata": {
    "deletable": true,
    "editable": true
   },
   "source": [
    "## How the list above looks like? "
   ]
  },
  {
   "cell_type": "markdown",
   "metadata": {
    "deletable": true,
    "editable": true
   },
   "source": [
    "<h2 align='center'>======================================================================\n",
    "If NOT well-formed SQL dump file then you must first do the following:\n",
    "======================================================================</h2>"
   ]
  },
  {
   "cell_type": "markdown",
   "metadata": {
    "deletable": true,
    "editable": true
   },
   "source": [
    "## 3. Removing lines that are not part of the actual content to be analysed"
   ]
  },
  {
   "cell_type": "markdown",
   "metadata": {
    "deletable": true,
    "editable": true
   },
   "source": [
    "## 4. Splitting and naming tables and columns"
   ]
  },
  {
   "cell_type": "code",
   "execution_count": 37,
   "metadata": {
    "collapsed": true,
    "deletable": true,
    "editable": true
   },
   "outputs": [],
   "source": [
    "# For well formed SQL database dumps!\n",
    "def read_inserted_table_entirein1line(dumpfile, target_table):\n",
    "    sio = StringIO()\n",
    "    fast_forward = True\n",
    "    already_header = False\n",
    "    with open(dumpfile, 'rb') as f:\n",
    "        for line in f:\n",
    "            line = line.decode(\"utf-8\").strip()\n",
    "            line = re.sub(\"(?!(([^']*'){2})*[^']*$)\\)\", '',line) #Step0:remove any \")\" from the content of columns\n",
    "            \n",
    "            if line.lower().startswith('insert') and target_table in line:\n",
    "                print(line)\n",
    "                fast_forward = False\n",
    "                if already_header:\n",
    "                    continue\n",
    "            if fast_forward:\n",
    "                continue\n",
    "            \n",
    "            data = re.findall('\\([^\\)]*\\)', line) #Step1: get the content between parentesis (i.e., insert operation)\n",
    "            print(data)\n",
    "            #Main difference btw this fuction and the one before is this loop\n",
    "            for record in data:\n",
    "                try:\n",
    "                    newline = record.strip('()') #Step2:remove parenthesis\n",
    "                    newline=newline.replace('`','') #Step3: remove ` (usually in table names)\n",
    "                    newline=re.sub(r'(?!(([^\\']*\\'){2})*[^\\']*$),','', newline) #Step4: remove commas from the content of columns\n",
    "                    newline=newline.replace('\\'','') #Step5: remove single quotes\n",
    "                    newline=newline.replace(', ', ',') #Step6: remove single spaces after comma (i.e., in the beginning of a column)\n",
    "                    sio.write(newline)\n",
    "                    sio.write(\"\\n\")\n",
    "                except IndexError:\n",
    "                    pass\n",
    "                \n",
    "            if line.endswith(';'):\n",
    "                fast_forward = True\n",
    "                already_header = True\n",
    "    sio.seek(0)\n",
    "    return sio"
   ]
  },
  {
   "cell_type": "markdown",
   "metadata": {
    "deletable": true,
    "editable": true
   },
   "source": [
    "<h2 align='center'>======================================================================\n",
    "Adapting EACH existing table\n",
    "======================================================================</h2>"
   ]
  },
  {
   "cell_type": "markdown",
   "metadata": {
    "deletable": true,
    "editable": true
   },
   "source": [
    "## 6.1. Table: 'gateways'"
   ]
  },
  {
   "cell_type": "markdown",
   "metadata": {
    "deletable": true,
    "editable": true
   },
   "source": [
    "### How this table looks like without modification?"
   ]
  },
  {
   "cell_type": "code",
   "execution_count": 38,
   "metadata": {
    "collapsed": false,
    "deletable": true,
    "editable": true
   },
   "outputs": [
    {
     "name": "stdout",
     "output_type": "stream",
     "text": [
      "INSERT INTO `gateways` (`id`, `name`, `displayname`, `dir`, `demo`, `extra_txt`, `extra_txt2`, `extra_txt3`, `extra`, `extra2`, `extra3`, `is_recurring`, `active`) VALUES ('1', 'paypal', 'PayPal', 'paypal', '1', 'Paypal Email Address', 'Currency Code', 'Not in Use', 'hfdeceive@hotmail.com', 'USD', '', '1', '1');\n",
      "['(`id`, `name`, `displayname`, `dir`, `demo`, `extra_txt`, `extra_txt2`, `extra_txt3`, `extra`, `extra2`, `extra3`, `is_recurring`, `active`)', \"('1', 'paypal', 'PayPal', 'paypal', '1', 'Paypal Email Address', 'Currency Code', 'Not in Use', 'hfdeceive@hotmail.com', 'USD', '', '1', '1')\"]\n",
      "INSERT INTO `gateways` (`id`, `name`, `displayname`, `dir`, `demo`, `extra_txt`, `extra_txt2`, `extra_txt3`, `extra`, `extra2`, `extra3`, `is_recurring`, `active`) VALUES ('2', 'moneybookers', 'MoneyBookers', 'moneybookers', '0', 'MoneyBookers Email Address', 'Currency Code', 'Secret Passphrase', 'moneybookers@address.com', 'EUR', 'mypassphrase', '1', '0');\n",
      "[]\n",
      "[]\n",
      "[]\n",
      "[]\n",
      "[]\n",
      "[]\n"
     ]
    },
    {
     "data": {
      "text/html": [
       "<div>\n",
       "<table border=\"1\" class=\"dataframe\">\n",
       "  <thead>\n",
       "    <tr style=\"text-align: right;\">\n",
       "      <th></th>\n",
       "      <th>id</th>\n",
       "      <th>name</th>\n",
       "      <th>displayname</th>\n",
       "      <th>dir</th>\n",
       "      <th>demo</th>\n",
       "      <th>extra_txt</th>\n",
       "      <th>extra_txt2</th>\n",
       "      <th>extra_txt3</th>\n",
       "      <th>extra</th>\n",
       "      <th>extra2</th>\n",
       "      <th>extra3</th>\n",
       "      <th>is_recurring</th>\n",
       "      <th>active</th>\n",
       "    </tr>\n",
       "  </thead>\n",
       "  <tbody>\n",
       "    <tr>\n",
       "      <th>0</th>\n",
       "      <td>1</td>\n",
       "      <td>paypal</td>\n",
       "      <td>PayPal</td>\n",
       "      <td>paypal</td>\n",
       "      <td>1</td>\n",
       "      <td>Paypal Email Address</td>\n",
       "      <td>Currency Code</td>\n",
       "      <td>Not in Use</td>\n",
       "      <td>hfdeceive@hotmail.com</td>\n",
       "      <td>USD</td>\n",
       "      <td>NaN</td>\n",
       "      <td>1</td>\n",
       "      <td>1</td>\n",
       "    </tr>\n",
       "  </tbody>\n",
       "</table>\n",
       "</div>"
      ],
      "text/plain": [
       "   id    name displayname     dir  demo             extra_txt     extra_txt2  \\\n",
       "0   1  paypal      PayPal  paypal     1  Paypal Email Address  Currency Code   \n",
       "\n",
       "   extra_txt3                  extra extra2  extra3  is_recurring  active  \n",
       "0  Not in Use  hfdeceive@hotmail.com    USD     NaN             1       1  "
      ]
     },
     "execution_count": 38,
     "metadata": {},
     "output_type": "execute_result"
    }
   ],
   "source": [
    "tablename='gateways'\n",
    "\n",
    "pd.read_csv(read_inserted_table_entirein1line(dumpfile, tablename),delimiter=\",\",error_bad_lines=False).head(10)"
   ]
  },
  {
   "cell_type": "markdown",
   "metadata": {
    "deletable": true,
    "editable": true
   },
   "source": [
    "#### Q1: Is this table different from other previous loaded table? YES\n",
    "#### Q2: Is this table similar to any table in the generic Booter database schema? YES\n",
    "    - This table looks like: blacklist\n",
    "#### Q3: Are there modifications required? \n",
    "    - On the table name: \n",
    "        o \n",
    "    - On the column type: \n",
    "        o \n",
    "    - On the column name:\n",
    "        o ID -> id\n",
    "        o IP -> ip\n",
    "    - Add required columns:\n",
    "        o \n",
    "    - Split columns:\n",
    "        o "
   ]
  },
  {
   "cell_type": "markdown",
   "metadata": {
    "deletable": true,
    "editable": true
   },
   "source": [
    "### Modifying table: 'blacklist'"
   ]
  },
  {
   "cell_type": "code",
   "execution_count": 25,
   "metadata": {
    "collapsed": false,
    "deletable": true,
    "editable": true
   },
   "outputs": [
    {
     "data": {
      "text/html": [
       "<div>\n",
       "<table border=\"1\" class=\"dataframe\">\n",
       "  <thead>\n",
       "    <tr style=\"text-align: right;\">\n",
       "      <th></th>\n",
       "      <th>id</th>\n",
       "      <th>ip</th>\n",
       "      <th>note</th>\n",
       "    </tr>\n",
       "  </thead>\n",
       "  <tbody>\n",
       "    <tr>\n",
       "      <th>0</th>\n",
       "      <td>41</td>\n",
       "      <td>127.0.0.1</td>\n",
       "      <td>test</td>\n",
       "    </tr>\n",
       "    <tr>\n",
       "      <th>1</th>\n",
       "      <td>48</td>\n",
       "      <td>127.0.0.1</td>\n",
       "      <td>Server</td>\n",
       "    </tr>\n",
       "    <tr>\n",
       "      <th>2</th>\n",
       "      <td>49</td>\n",
       "      <td>5.135.145.220</td>\n",
       "      <td>frmodz</td>\n",
       "    </tr>\n",
       "    <tr>\n",
       "      <th>3</th>\n",
       "      <td>40</td>\n",
       "      <td>199.16.130.194</td>\n",
       "      <td>PlayModz</td>\n",
       "    </tr>\n",
       "    <tr>\n",
       "      <th>4</th>\n",
       "      <td>50</td>\n",
       "      <td>188.138.106.110</td>\n",
       "      <td>test</td>\n",
       "    </tr>\n",
       "    <tr>\n",
       "      <th>5</th>\n",
       "      <td>51</td>\n",
       "      <td>1.1.1.1</td>\n",
       "      <td>BlackList</td>\n",
       "    </tr>\n",
       "    <tr>\n",
       "      <th>6</th>\n",
       "      <td>52</td>\n",
       "      <td>83.156.176.10</td>\n",
       "      <td>NaN</td>\n",
       "    </tr>\n",
       "  </tbody>\n",
       "</table>\n",
       "</div>"
      ],
      "text/plain": [
       "   id               ip       note\n",
       "0  41        127.0.0.1       test\n",
       "1  48        127.0.0.1     Server\n",
       "2  49    5.135.145.220     frmodz\n",
       "3  40   199.16.130.194   PlayModz\n",
       "4  50  188.138.106.110       test\n",
       "5  51          1.1.1.1  BlackList\n",
       "6  52    83.156.176.10        NaN"
      ]
     },
     "execution_count": 25,
     "metadata": {},
     "output_type": "execute_result"
    }
   ],
   "source": [
    "# Loading the correct table name\n",
    "df_blacklist = pd.read_csv(read_inserted_table(dumpfile, tablename),delimiter=\",\",error_bad_lines=False)\n",
    "\n",
    "# Converting columns\n",
    "\n",
    "# Changing column names\n",
    "df_blacklist.rename(inplace=True, columns={'ID':'id',\n",
    "                                          'IP':'ip'})\n",
    "\n",
    "# Adding missing columns (with \"\" [for future string] or np.nan [for future float])\n",
    "\n",
    "###Showing some lines after adapt the table\n",
    "df_blacklist.head(10)"
   ]
  },
  {
   "cell_type": "markdown",
   "metadata": {
    "deletable": true,
    "editable": true
   },
   "source": [
    "## 6.2. Table: 'gateway'"
   ]
  },
  {
   "cell_type": "markdown",
   "metadata": {
    "deletable": true,
    "editable": true
   },
   "source": [
    "### How this table looks like without modification?"
   ]
  },
  {
   "cell_type": "code",
   "execution_count": 26,
   "metadata": {
    "collapsed": false,
    "deletable": true,
    "editable": true
   },
   "outputs": [
    {
     "data": {
      "text/html": [
       "<div>\n",
       "<table border=\"1\" class=\"dataframe\">\n",
       "  <thead>\n",
       "    <tr style=\"text-align: right;\">\n",
       "      <th></th>\n",
       "      <th>email</th>\n",
       "    </tr>\n",
       "  </thead>\n",
       "  <tbody>\n",
       "    <tr>\n",
       "      <th>0</th>\n",
       "      <td>vps-serveur@outlook.fr</td>\n",
       "    </tr>\n",
       "  </tbody>\n",
       "</table>\n",
       "</div>"
      ],
      "text/plain": [
       "                    email\n",
       "0  vps-serveur@outlook.fr"
      ]
     },
     "execution_count": 26,
     "metadata": {},
     "output_type": "execute_result"
    }
   ],
   "source": [
    "tablename='gateway'\n",
    "\n",
    "pd.read_csv(read_inserted_table(dumpfile, tablename),delimiter=\",\",error_bad_lines=False).head(10)"
   ]
  },
  {
   "cell_type": "markdown",
   "metadata": {
    "deletable": true,
    "editable": true
   },
   "source": [
    "#### Q1: Is this table different from other previous loaded table? YES \n",
    "#### Q2: Is this table similar to any table in the generic Booter database schema? YES\n",
    "    - This table looks like: gateways\n",
    "#### Q3: Are there modifications required? \n",
    "    - On the table name: \n",
    "        o gateway -> gateways\n",
    "    - On the column type: \n",
    "        o  \n",
    "    - On the column name:\n",
    "        o \n",
    "    - Add required columns:\n",
    "        o\n",
    "    - Split columns:\n",
    "        o "
   ]
  },
  {
   "cell_type": "markdown",
   "metadata": {
    "deletable": true,
    "editable": true
   },
   "source": [
    "### Modifying table: 'gateway'"
   ]
  },
  {
   "cell_type": "code",
   "execution_count": 27,
   "metadata": {
    "collapsed": false,
    "deletable": true,
    "editable": true
   },
   "outputs": [
    {
     "data": {
      "text/html": [
       "<div>\n",
       "<table border=\"1\" class=\"dataframe\">\n",
       "  <thead>\n",
       "    <tr style=\"text-align: right;\">\n",
       "      <th></th>\n",
       "      <th>email</th>\n",
       "    </tr>\n",
       "  </thead>\n",
       "  <tbody>\n",
       "    <tr>\n",
       "      <th>0</th>\n",
       "      <td>vps-serveur@outlook.fr</td>\n",
       "    </tr>\n",
       "  </tbody>\n",
       "</table>\n",
       "</div>"
      ],
      "text/plain": [
       "                    email\n",
       "0  vps-serveur@outlook.fr"
      ]
     },
     "execution_count": 27,
     "metadata": {},
     "output_type": "execute_result"
    }
   ],
   "source": [
    "# Loading the correct table name\n",
    "df_gateways = pd.read_csv(read_inserted_table(dumpfile, tablename),delimiter=\",\",error_bad_lines=False)\n",
    "\n",
    "# Converting columns\n",
    "\n",
    "# Changing column names\n",
    "\n",
    "# Adding missing columns (with \"\" [for future string] or np.nan [for future float])\n",
    "\n",
    "###Showing some lines after adapt the table\n",
    "df_gateways.head(10)"
   ]
  },
  {
   "cell_type": "code",
   "execution_count": 24,
   "metadata": {
    "collapsed": false,
    "deletable": true,
    "editable": true
   },
   "outputs": [
    {
     "data": {
      "text/html": [
       "<div>\n",
       "<table border=\"1\" class=\"dataframe\">\n",
       "  <thead>\n",
       "    <tr style=\"text-align: right;\">\n",
       "      <th></th>\n",
       "      <th>email</th>\n",
       "    </tr>\n",
       "  </thead>\n",
       "  <tbody>\n",
       "    <tr>\n",
       "      <th>0</th>\n",
       "      <td>solace@love.com</td>\n",
       "    </tr>\n",
       "  </tbody>\n",
       "</table>\n",
       "</div>"
      ],
      "text/plain": [
       "             email\n",
       "0  solace@love.com"
      ]
     },
     "execution_count": 24,
     "metadata": {},
     "output_type": "execute_result"
    }
   ],
   "source": [
    "# Loading the correct table name\n",
    "df_gateways = pd.read_csv(read_inserted_table(dumpfile, tablename),delimiter=\",\",error_bad_lines=False)\n",
    "\n",
    "# Converting columns\n",
    "\n",
    "# Changing column names\n",
    "\n",
    "# Showing some lines after adapt the table\n",
    "df_gateways.head(10)"
   ]
  },
  {
   "cell_type": "markdown",
   "metadata": {
    "deletable": true,
    "editable": true
   },
   "source": [
    "## 6.3. Table: 'iplogs'"
   ]
  },
  {
   "cell_type": "markdown",
   "metadata": {
    "deletable": true,
    "editable": true
   },
   "source": [
    "### How this table looks like without modification?"
   ]
  },
  {
   "cell_type": "code",
   "execution_count": 28,
   "metadata": {
    "collapsed": false,
    "deletable": true,
    "editable": true
   },
   "outputs": [
    {
     "data": {
      "text/html": [
       "<div>\n",
       "<table border=\"1\" class=\"dataframe\">\n",
       "  <thead>\n",
       "    <tr style=\"text-align: right;\">\n",
       "      <th></th>\n",
       "      <th>ID</th>\n",
       "      <th>userID</th>\n",
       "      <th>IP</th>\n",
       "      <th>time</th>\n",
       "    </tr>\n",
       "  </thead>\n",
       "  <tbody>\n",
       "    <tr>\n",
       "      <th>0</th>\n",
       "      <td>1</td>\n",
       "      <td>4267</td>\n",
       "      <td>50.17.69.56</td>\n",
       "      <td>1379189986</td>\n",
       "    </tr>\n",
       "    <tr>\n",
       "      <th>1</th>\n",
       "      <td>2</td>\n",
       "      <td>4267</td>\n",
       "      <td>108.171.179.20</td>\n",
       "      <td>1379189986</td>\n",
       "    </tr>\n",
       "    <tr>\n",
       "      <th>2</th>\n",
       "      <td>3</td>\n",
       "      <td>4161</td>\n",
       "      <td>173.252.112.114</td>\n",
       "      <td>1379190000</td>\n",
       "    </tr>\n",
       "    <tr>\n",
       "      <th>3</th>\n",
       "      <td>4</td>\n",
       "      <td>777</td>\n",
       "      <td>87.98.151.104</td>\n",
       "      <td>1379203403</td>\n",
       "    </tr>\n",
       "    <tr>\n",
       "      <th>4</th>\n",
       "      <td>5</td>\n",
       "      <td>3478</td>\n",
       "      <td>173.252.100.116</td>\n",
       "      <td>1379209015</td>\n",
       "    </tr>\n",
       "    <tr>\n",
       "      <th>5</th>\n",
       "      <td>6</td>\n",
       "      <td>777</td>\n",
       "      <td>202.169.236.195</td>\n",
       "      <td>1379215442</td>\n",
       "    </tr>\n",
       "    <tr>\n",
       "      <th>6</th>\n",
       "      <td>7</td>\n",
       "      <td>777</td>\n",
       "      <td>66.249.66.20</td>\n",
       "      <td>1379226995</td>\n",
       "    </tr>\n",
       "    <tr>\n",
       "      <th>7</th>\n",
       "      <td>8</td>\n",
       "      <td>777</td>\n",
       "      <td>66.249.66.20</td>\n",
       "      <td>1379240913</td>\n",
       "    </tr>\n",
       "    <tr>\n",
       "      <th>8</th>\n",
       "      <td>9</td>\n",
       "      <td>3983</td>\n",
       "      <td>90.3.159.111</td>\n",
       "      <td>1379278795</td>\n",
       "    </tr>\n",
       "    <tr>\n",
       "      <th>9</th>\n",
       "      <td>10</td>\n",
       "      <td>777</td>\n",
       "      <td>46.118.113.33</td>\n",
       "      <td>1379290796</td>\n",
       "    </tr>\n",
       "  </tbody>\n",
       "</table>\n",
       "</div>"
      ],
      "text/plain": [
       "   ID  userID               IP        time\n",
       "0   1    4267      50.17.69.56  1379189986\n",
       "1   2    4267   108.171.179.20  1379189986\n",
       "2   3    4161  173.252.112.114  1379190000\n",
       "3   4     777    87.98.151.104  1379203403\n",
       "4   5    3478  173.252.100.116  1379209015\n",
       "5   6     777  202.169.236.195  1379215442\n",
       "6   7     777     66.249.66.20  1379226995\n",
       "7   8     777     66.249.66.20  1379240913\n",
       "8   9    3983     90.3.159.111  1379278795\n",
       "9  10     777    46.118.113.33  1379290796"
      ]
     },
     "execution_count": 28,
     "metadata": {},
     "output_type": "execute_result"
    }
   ],
   "source": [
    "tablename='iplogs'\n",
    "\n",
    "pd.read_csv(read_inserted_table(dumpfile, tablename),delimiter=\",\",error_bad_lines=False).head(10)"
   ]
  },
  {
   "cell_type": "markdown",
   "metadata": {
    "deletable": true,
    "editable": true
   },
   "source": [
    "#### Q1: Is this table different from other previous loaded table? YES \n",
    "#### Q2: Is this table similar to any table in the generic Booter database schema? YES\n",
    "    - This table looks like: logins\n",
    "#### Q3: Are there modifications required? \n",
    "    - On the table name: \n",
    "        o iplogs -> logins\n",
    "    - On the column type: \n",
    "        o time -> timestamp2datetime()\n",
    "    - On the column name:\n",
    "        o ID -> id\n",
    "        o userID -> userid\n",
    "        o IP -> userip\n",
    "        \n",
    "    - Add required columns:\n",
    "        o username \n",
    "   - Split columns:\n",
    "        o "
   ]
  },
  {
   "cell_type": "markdown",
   "metadata": {
    "deletable": true,
    "editable": true
   },
   "source": [
    "### Modifying table: 'iplogs'"
   ]
  },
  {
   "cell_type": "code",
   "execution_count": 30,
   "metadata": {
    "collapsed": false,
    "deletable": true,
    "editable": true
   },
   "outputs": [
    {
     "data": {
      "text/html": [
       "<div>\n",
       "<table border=\"1\" class=\"dataframe\">\n",
       "  <thead>\n",
       "    <tr style=\"text-align: right;\">\n",
       "      <th></th>\n",
       "      <th>id</th>\n",
       "      <th>userid</th>\n",
       "      <th>userip</th>\n",
       "      <th>time</th>\n",
       "      <th>date</th>\n",
       "      <th>username</th>\n",
       "    </tr>\n",
       "  </thead>\n",
       "  <tbody>\n",
       "    <tr>\n",
       "      <th>0</th>\n",
       "      <td>1</td>\n",
       "      <td>4267</td>\n",
       "      <td>50.17.69.56</td>\n",
       "      <td>1379189986</td>\n",
       "      <td>2013-09-14 20:19:46</td>\n",
       "      <td>NaN</td>\n",
       "    </tr>\n",
       "    <tr>\n",
       "      <th>1</th>\n",
       "      <td>2</td>\n",
       "      <td>4267</td>\n",
       "      <td>108.171.179.20</td>\n",
       "      <td>1379189986</td>\n",
       "      <td>2013-09-14 20:19:46</td>\n",
       "      <td>NaN</td>\n",
       "    </tr>\n",
       "    <tr>\n",
       "      <th>2</th>\n",
       "      <td>3</td>\n",
       "      <td>4161</td>\n",
       "      <td>173.252.112.114</td>\n",
       "      <td>1379190000</td>\n",
       "      <td>2013-09-14 20:20:00</td>\n",
       "      <td>NaN</td>\n",
       "    </tr>\n",
       "    <tr>\n",
       "      <th>3</th>\n",
       "      <td>4</td>\n",
       "      <td>777</td>\n",
       "      <td>87.98.151.104</td>\n",
       "      <td>1379203403</td>\n",
       "      <td>2013-09-15 00:03:23</td>\n",
       "      <td>NaN</td>\n",
       "    </tr>\n",
       "    <tr>\n",
       "      <th>4</th>\n",
       "      <td>5</td>\n",
       "      <td>3478</td>\n",
       "      <td>173.252.100.116</td>\n",
       "      <td>1379209015</td>\n",
       "      <td>2013-09-15 01:36:55</td>\n",
       "      <td>NaN</td>\n",
       "    </tr>\n",
       "    <tr>\n",
       "      <th>5</th>\n",
       "      <td>6</td>\n",
       "      <td>777</td>\n",
       "      <td>202.169.236.195</td>\n",
       "      <td>1379215442</td>\n",
       "      <td>2013-09-15 03:24:02</td>\n",
       "      <td>NaN</td>\n",
       "    </tr>\n",
       "    <tr>\n",
       "      <th>6</th>\n",
       "      <td>7</td>\n",
       "      <td>777</td>\n",
       "      <td>66.249.66.20</td>\n",
       "      <td>1379226995</td>\n",
       "      <td>2013-09-15 06:36:35</td>\n",
       "      <td>NaN</td>\n",
       "    </tr>\n",
       "    <tr>\n",
       "      <th>7</th>\n",
       "      <td>8</td>\n",
       "      <td>777</td>\n",
       "      <td>66.249.66.20</td>\n",
       "      <td>1379240913</td>\n",
       "      <td>2013-09-15 10:28:33</td>\n",
       "      <td>NaN</td>\n",
       "    </tr>\n",
       "    <tr>\n",
       "      <th>8</th>\n",
       "      <td>9</td>\n",
       "      <td>3983</td>\n",
       "      <td>90.3.159.111</td>\n",
       "      <td>1379278795</td>\n",
       "      <td>2013-09-15 20:59:55</td>\n",
       "      <td>NaN</td>\n",
       "    </tr>\n",
       "    <tr>\n",
       "      <th>9</th>\n",
       "      <td>10</td>\n",
       "      <td>777</td>\n",
       "      <td>46.118.113.33</td>\n",
       "      <td>1379290796</td>\n",
       "      <td>2013-09-16 00:19:56</td>\n",
       "      <td>NaN</td>\n",
       "    </tr>\n",
       "  </tbody>\n",
       "</table>\n",
       "</div>"
      ],
      "text/plain": [
       "   id  userid           userip        time                date  username\n",
       "0   1    4267      50.17.69.56  1379189986 2013-09-14 20:19:46       NaN\n",
       "1   2    4267   108.171.179.20  1379189986 2013-09-14 20:19:46       NaN\n",
       "2   3    4161  173.252.112.114  1379190000 2013-09-14 20:20:00       NaN\n",
       "3   4     777    87.98.151.104  1379203403 2013-09-15 00:03:23       NaN\n",
       "4   5    3478  173.252.100.116  1379209015 2013-09-15 01:36:55       NaN\n",
       "5   6     777  202.169.236.195  1379215442 2013-09-15 03:24:02       NaN\n",
       "6   7     777     66.249.66.20  1379226995 2013-09-15 06:36:35       NaN\n",
       "7   8     777     66.249.66.20  1379240913 2013-09-15 10:28:33       NaN\n",
       "8   9    3983     90.3.159.111  1379278795 2013-09-15 20:59:55       NaN\n",
       "9  10     777    46.118.113.33  1379290796 2013-09-16 00:19:56       NaN"
      ]
     },
     "execution_count": 30,
     "metadata": {},
     "output_type": "execute_result"
    }
   ],
   "source": [
    "# Loading the correct table name\n",
    "df_logins = pd.read_csv(read_inserted_table(dumpfile, tablename),delimiter=\",\",error_bad_lines=False)\n",
    "\n",
    "# Converting columns\n",
    "df_logins['date']=timestamp2datetime(df_logins['time'])\n",
    "\n",
    "# Changing column names\n",
    "df_logins.rename(inplace=True, columns={'ID':'id',\n",
    "                                        'userID':'userid',\n",
    "                                        'IP':'userip'})\n",
    "# Adding missing columns\n",
    "df_logins['username']=np.nan\n",
    "\n",
    "# Showing some lines after adapt the table\n",
    "df_logins.head(10)"
   ]
  },
  {
   "cell_type": "markdown",
   "metadata": {
    "deletable": true,
    "editable": true
   },
   "source": [
    "## 6.4. Table: 'logs'!!!!!"
   ]
  },
  {
   "cell_type": "markdown",
   "metadata": {
    "deletable": true,
    "editable": true
   },
   "source": [
    "### How this table looks like without modification?"
   ]
  },
  {
   "cell_type": "code",
   "execution_count": 31,
   "metadata": {
    "collapsed": false,
    "deletable": true,
    "editable": true
   },
   "outputs": [
    {
     "name": "stderr",
     "output_type": "stream",
     "text": [
      "b'Skipping line 57: expected 4 fields, saw 6\\nSkipping line 58: expected 4 fields, saw 6\\nSkipping line 59: expected 4 fields, saw 6\\nSkipping line 60: expected 4 fields, saw 6\\nSkipping line 61: expected 4 fields, saw 6\\nSkipping line 62: expected 4 fields, saw 6\\nSkipping line 63: expected 4 fields, saw 6\\nSkipping line 64: expected 4 fields, saw 6\\nSkipping line 65: expected 4 fields, saw 6\\nSkipping line 66: expected 4 fields, saw 6\\nSkipping line 67: expected 4 fields, saw 6\\nSkipping line 68: expected 4 fields, saw 6\\nSkipping line 69: expected 4 fields, saw 6\\nSkipping line 70: expected 4 fields, saw 6\\nSkipping line 71: expected 4 fields, saw 6\\nSkipping line 72: expected 4 fields, saw 6\\nSkipping line 73: expected 4 fields, saw 6\\nSkipping line 74: expected 4 fields, saw 6\\nSkipping line 75: expected 4 fields, saw 6\\nSkipping line 76: expected 4 fields, saw 6\\nSkipping line 77: expected 4 fields, saw 6\\nSkipping line 78: expected 4 fields, saw 6\\nSkipping line 79: expected 4 fields, saw 6\\nSkipping line 80: expected 4 fields, saw 6\\nSkipping line 81: expected 4 fields, saw 6\\nSkipping line 82: expected 4 fields, saw 6\\nSkipping line 83: expected 4 fields, saw 6\\nSkipping line 84: expected 4 fields, saw 6\\nSkipping line 85: expected 4 fields, saw 6\\nSkipping line 86: expected 4 fields, saw 6\\nSkipping line 87: expected 4 fields, saw 6\\nSkipping line 88: expected 4 fields, saw 6\\nSkipping line 89: expected 4 fields, saw 6\\nSkipping line 90: expected 4 fields, saw 6\\nSkipping line 91: expected 4 fields, saw 6\\nSkipping line 92: expected 4 fields, saw 6\\nSkipping line 93: expected 4 fields, saw 6\\nSkipping line 94: expected 4 fields, saw 6\\nSkipping line 95: expected 4 fields, saw 6\\nSkipping line 96: expected 4 fields, saw 6\\nSkipping line 97: expected 4 fields, saw 6\\nSkipping line 98: expected 4 fields, saw 6\\nSkipping line 99: expected 4 fields, saw 6\\nSkipping line 100: expected 4 fields, saw 6\\nSkipping line 101: expected 4 fields, saw 6\\nSkipping line 102: expected 4 fields, saw 6\\nSkipping line 103: expected 4 fields, saw 6\\nSkipping line 104: expected 4 fields, saw 6\\nSkipping line 105: expected 4 fields, saw 6\\nSkipping line 106: expected 4 fields, saw 6\\nSkipping line 107: expected 4 fields, saw 6\\nSkipping line 108: expected 4 fields, saw 6\\nSkipping line 109: expected 4 fields, saw 6\\nSkipping line 110: expected 4 fields, saw 6\\nSkipping line 111: expected 4 fields, saw 6\\nSkipping line 112: expected 4 fields, saw 6\\nSkipping line 113: expected 4 fields, saw 6\\nSkipping line 114: expected 4 fields, saw 6\\nSkipping line 115: expected 4 fields, saw 6\\nSkipping line 116: expected 4 fields, saw 6\\nSkipping line 117: expected 4 fields, saw 6\\nSkipping line 118: expected 4 fields, saw 6\\nSkipping line 119: expected 4 fields, saw 6\\nSkipping line 120: expected 4 fields, saw 6\\nSkipping line 121: expected 4 fields, saw 6\\nSkipping line 122: expected 4 fields, saw 6\\nSkipping line 123: expected 4 fields, saw 6\\nSkipping line 124: expected 4 fields, saw 6\\nSkipping line 125: expected 4 fields, saw 6\\nSkipping line 126: expected 4 fields, saw 6\\nSkipping line 127: expected 4 fields, saw 6\\nSkipping line 128: expected 4 fields, saw 6\\nSkipping line 129: expected 4 fields, saw 6\\nSkipping line 130: expected 4 fields, saw 6\\nSkipping line 131: expected 4 fields, saw 6\\nSkipping line 132: expected 4 fields, saw 6\\nSkipping line 133: expected 4 fields, saw 6\\nSkipping line 134: expected 4 fields, saw 6\\nSkipping line 135: expected 4 fields, saw 6\\nSkipping line 136: expected 4 fields, saw 6\\nSkipping line 137: expected 4 fields, saw 6\\nSkipping line 138: expected 4 fields, saw 6\\nSkipping line 139: expected 4 fields, saw 6\\nSkipping line 140: expected 4 fields, saw 6\\nSkipping line 141: expected 4 fields, saw 6\\nSkipping line 142: expected 4 fields, saw 6\\nSkipping line 143: expected 4 fields, saw 6\\nSkipping line 144: expected 4 fields, saw 6\\nSkipping line 145: expected 4 fields, saw 6\\nSkipping line 146: expected 4 fields, saw 6\\nSkipping line 147: expected 4 fields, saw 6\\nSkipping line 148: expected 4 fields, saw 6\\nSkipping line 149: expected 4 fields, saw 6\\nSkipping line 150: expected 4 fields, saw 6\\nSkipping line 151: expected 4 fields, saw 6\\nSkipping line 152: expected 4 fields, saw 6\\nSkipping line 153: expected 4 fields, saw 6\\nSkipping line 154: expected 4 fields, saw 6\\nSkipping line 155: expected 4 fields, saw 6\\nSkipping line 156: expected 4 fields, saw 6\\nSkipping line 157: expected 4 fields, saw 6\\nSkipping line 158: expected 4 fields, saw 6\\nSkipping line 159: expected 4 fields, saw 6\\nSkipping line 160: expected 4 fields, saw 6\\nSkipping line 161: expected 4 fields, saw 6\\nSkipping line 162: expected 4 fields, saw 6\\nSkipping line 163: expected 4 fields, saw 6\\nSkipping line 164: expected 4 fields, saw 6\\nSkipping line 165: expected 4 fields, saw 6\\nSkipping line 166: expected 4 fields, saw 6\\nSkipping line 167: expected 4 fields, saw 6\\nSkipping line 168: expected 4 fields, saw 6\\nSkipping line 169: expected 4 fields, saw 6\\nSkipping line 170: expected 4 fields, saw 6\\nSkipping line 171: expected 4 fields, saw 6\\nSkipping line 172: expected 4 fields, saw 6\\nSkipping line 173: expected 4 fields, saw 6\\nSkipping line 174: expected 4 fields, saw 6\\nSkipping line 175: expected 4 fields, saw 6\\nSkipping line 176: expected 4 fields, saw 6\\nSkipping line 177: expected 4 fields, saw 6\\nSkipping line 178: expected 4 fields, saw 6\\nSkipping line 179: expected 4 fields, saw 6\\nSkipping line 180: expected 4 fields, saw 6\\nSkipping line 181: expected 4 fields, saw 6\\nSkipping line 182: expected 4 fields, saw 6\\nSkipping line 183: expected 4 fields, saw 6\\nSkipping line 184: expected 4 fields, saw 6\\nSkipping line 185: expected 4 fields, saw 6\\nSkipping line 186: expected 4 fields, saw 6\\nSkipping line 187: expected 4 fields, saw 6\\nSkipping line 188: expected 4 fields, saw 6\\nSkipping line 189: expected 4 fields, saw 6\\nSkipping line 190: expected 4 fields, saw 6\\nSkipping line 191: expected 4 fields, saw 6\\nSkipping line 192: expected 4 fields, saw 6\\nSkipping line 193: expected 4 fields, saw 6\\nSkipping line 194: expected 4 fields, saw 6\\nSkipping line 195: expected 4 fields, saw 6\\nSkipping line 196: expected 4 fields, saw 6\\nSkipping line 197: expected 4 fields, saw 6\\nSkipping line 198: expected 4 fields, saw 6\\nSkipping line 199: expected 4 fields, saw 6\\nSkipping line 200: expected 4 fields, saw 6\\nSkipping line 201: expected 4 fields, saw 6\\nSkipping line 202: expected 4 fields, saw 6\\nSkipping line 203: expected 4 fields, saw 6\\nSkipping line 204: expected 4 fields, saw 6\\nSkipping line 205: expected 4 fields, saw 6\\nSkipping line 206: expected 4 fields, saw 6\\nSkipping line 207: expected 4 fields, saw 6\\nSkipping line 208: expected 4 fields, saw 6\\nSkipping line 209: expected 4 fields, saw 6\\nSkipping line 210: expected 4 fields, saw 6\\nSkipping line 211: expected 4 fields, saw 6\\nSkipping line 212: expected 4 fields, saw 6\\nSkipping line 213: expected 4 fields, saw 6\\nSkipping line 214: expected 4 fields, saw 6\\nSkipping line 215: expected 4 fields, saw 6\\nSkipping line 216: expected 4 fields, saw 6\\nSkipping line 217: expected 4 fields, saw 6\\nSkipping line 218: expected 4 fields, saw 6\\nSkipping line 219: expected 4 fields, saw 6\\nSkipping line 220: expected 4 fields, saw 6\\nSkipping line 221: expected 4 fields, saw 6\\nSkipping line 222: expected 4 fields, saw 6\\nSkipping line 223: expected 4 fields, saw 6\\nSkipping line 224: expected 4 fields, saw 6\\nSkipping line 225: expected 4 fields, saw 6\\nSkipping line 226: expected 4 fields, saw 6\\nSkipping line 227: expected 4 fields, saw 6\\nSkipping line 228: expected 4 fields, saw 6\\nSkipping line 229: expected 4 fields, saw 6\\nSkipping line 230: expected 4 fields, saw 6\\nSkipping line 231: expected 4 fields, saw 6\\nSkipping line 232: expected 4 fields, saw 6\\nSkipping line 233: expected 4 fields, saw 6\\nSkipping line 234: expected 4 fields, saw 6\\nSkipping line 235: expected 4 fields, saw 6\\nSkipping line 236: expected 4 fields, saw 6\\nSkipping line 237: expected 4 fields, saw 6\\nSkipping line 238: expected 4 fields, saw 6\\nSkipping line 239: expected 4 fields, saw 6\\nSkipping line 240: expected 4 fields, saw 6\\nSkipping line 241: expected 4 fields, saw 6\\nSkipping line 242: expected 4 fields, saw 6\\nSkipping line 243: expected 4 fields, saw 6\\nSkipping line 244: expected 4 fields, saw 6\\nSkipping line 245: expected 4 fields, saw 6\\nSkipping line 246: expected 4 fields, saw 6\\nSkipping line 247: expected 4 fields, saw 6\\nSkipping line 248: expected 4 fields, saw 6\\nSkipping line 249: expected 4 fields, saw 6\\nSkipping line 250: expected 4 fields, saw 6\\nSkipping line 251: expected 4 fields, saw 6\\nSkipping line 252: expected 4 fields, saw 6\\nSkipping line 253: expected 4 fields, saw 6\\nSkipping line 254: expected 4 fields, saw 6\\nSkipping line 255: expected 4 fields, saw 6\\nSkipping line 256: expected 4 fields, saw 6\\nSkipping line 257: expected 4 fields, saw 6\\nSkipping line 258: expected 4 fields, saw 6\\nSkipping line 259: expected 4 fields, saw 6\\nSkipping line 260: expected 4 fields, saw 6\\nSkipping line 261: expected 4 fields, saw 6\\nSkipping line 262: expected 4 fields, saw 6\\nSkipping line 263: expected 4 fields, saw 6\\nSkipping line 264: expected 4 fields, saw 6\\nSkipping line 265: expected 4 fields, saw 6\\nSkipping line 266: expected 4 fields, saw 6\\nSkipping line 267: expected 4 fields, saw 6\\nSkipping line 268: expected 4 fields, saw 6\\nSkipping line 269: expected 4 fields, saw 6\\nSkipping line 270: expected 4 fields, saw 6\\nSkipping line 271: expected 4 fields, saw 6\\nSkipping line 272: expected 4 fields, saw 6\\nSkipping line 273: expected 4 fields, saw 6\\nSkipping line 274: expected 4 fields, saw 6\\nSkipping line 275: expected 4 fields, saw 6\\nSkipping line 276: expected 4 fields, saw 6\\nSkipping line 277: expected 4 fields, saw 6\\nSkipping line 278: expected 4 fields, saw 6\\nSkipping line 279: expected 4 fields, saw 6\\nSkipping line 280: expected 4 fields, saw 6\\nSkipping line 281: expected 4 fields, saw 6\\nSkipping line 282: expected 4 fields, saw 6\\nSkipping line 283: expected 4 fields, saw 6\\nSkipping line 284: expected 4 fields, saw 6\\nSkipping line 285: expected 4 fields, saw 6\\nSkipping line 286: expected 4 fields, saw 6\\nSkipping line 287: expected 4 fields, saw 6\\nSkipping line 288: expected 4 fields, saw 6\\nSkipping line 289: expected 4 fields, saw 6\\nSkipping line 290: expected 4 fields, saw 6\\nSkipping line 291: expected 4 fields, saw 6\\nSkipping line 292: expected 4 fields, saw 6\\nSkipping line 293: expected 4 fields, saw 6\\nSkipping line 294: expected 4 fields, saw 6\\nSkipping line 295: expected 4 fields, saw 6\\nSkipping line 296: expected 4 fields, saw 6\\nSkipping line 297: expected 4 fields, saw 6\\nSkipping line 298: expected 4 fields, saw 6\\nSkipping line 299: expected 4 fields, saw 6\\nSkipping line 300: expected 4 fields, saw 6\\nSkipping line 301: expected 4 fields, saw 6\\nSkipping line 302: expected 4 fields, saw 6\\nSkipping line 303: expected 4 fields, saw 6\\nSkipping line 304: expected 4 fields, saw 6\\nSkipping line 305: expected 4 fields, saw 6\\nSkipping line 306: expected 4 fields, saw 6\\nSkipping line 307: expected 4 fields, saw 6\\nSkipping line 308: expected 4 fields, saw 6\\nSkipping line 309: expected 4 fields, saw 6\\nSkipping line 310: expected 4 fields, saw 6\\nSkipping line 311: expected 4 fields, saw 6\\nSkipping line 312: expected 4 fields, saw 6\\nSkipping line 313: expected 4 fields, saw 6\\nSkipping line 314: expected 4 fields, saw 6\\nSkipping line 315: expected 4 fields, saw 6\\nSkipping line 316: expected 4 fields, saw 6\\nSkipping line 317: expected 4 fields, saw 6\\nSkipping line 318: expected 4 fields, saw 6\\nSkipping line 319: expected 4 fields, saw 6\\nSkipping line 320: expected 4 fields, saw 6\\nSkipping line 321: expected 4 fields, saw 6\\nSkipping line 322: expected 4 fields, saw 6\\nSkipping line 323: expected 4 fields, saw 6\\nSkipping line 324: expected 4 fields, saw 6\\nSkipping line 325: expected 4 fields, saw 6\\nSkipping line 326: expected 4 fields, saw 6\\nSkipping line 327: expected 4 fields, saw 6\\nSkipping line 328: expected 4 fields, saw 6\\nSkipping line 329: expected 4 fields, saw 6\\nSkipping line 330: expected 4 fields, saw 6\\nSkipping line 331: expected 4 fields, saw 6\\nSkipping line 332: expected 4 fields, saw 6\\nSkipping line 333: expected 4 fields, saw 6\\nSkipping line 334: expected 4 fields, saw 6\\nSkipping line 335: expected 4 fields, saw 6\\nSkipping line 336: expected 4 fields, saw 6\\nSkipping line 337: expected 4 fields, saw 6\\nSkipping line 338: expected 4 fields, saw 6\\nSkipping line 339: expected 4 fields, saw 6\\nSkipping line 340: expected 4 fields, saw 6\\nSkipping line 341: expected 4 fields, saw 6\\nSkipping line 342: expected 4 fields, saw 6\\nSkipping line 343: expected 4 fields, saw 6\\nSkipping line 344: expected 4 fields, saw 6\\nSkipping line 345: expected 4 fields, saw 6\\nSkipping line 346: expected 4 fields, saw 6\\nSkipping line 347: expected 4 fields, saw 6\\nSkipping line 348: expected 4 fields, saw 6\\nSkipping line 349: expected 4 fields, saw 6\\nSkipping line 350: expected 4 fields, saw 6\\nSkipping line 351: expected 4 fields, saw 6\\nSkipping line 352: expected 4 fields, saw 6\\nSkipping line 353: expected 4 fields, saw 6\\nSkipping line 354: expected 4 fields, saw 6\\nSkipping line 355: expected 4 fields, saw 6\\nSkipping line 356: expected 4 fields, saw 6\\nSkipping line 357: expected 4 fields, saw 6\\nSkipping line 358: expected 4 fields, saw 6\\nSkipping line 359: expected 4 fields, saw 6\\nSkipping line 360: expected 4 fields, saw 6\\nSkipping line 361: expected 4 fields, saw 6\\nSkipping line 362: expected 4 fields, saw 6\\nSkipping line 363: expected 4 fields, saw 6\\nSkipping line 364: expected 4 fields, saw 6\\nSkipping line 365: expected 4 fields, saw 6\\nSkipping line 366: expected 4 fields, saw 6\\nSkipping line 367: expected 4 fields, saw 6\\nSkipping line 368: expected 4 fields, saw 6\\nSkipping line 369: expected 4 fields, saw 6\\nSkipping line 370: expected 4 fields, saw 6\\nSkipping line 371: expected 4 fields, saw 6\\nSkipping line 372: expected 4 fields, saw 6\\nSkipping line 373: expected 4 fields, saw 6\\nSkipping line 374: expected 4 fields, saw 6\\nSkipping line 375: expected 4 fields, saw 6\\nSkipping line 376: expected 4 fields, saw 6\\nSkipping line 377: expected 4 fields, saw 6\\nSkipping line 378: expected 4 fields, saw 6\\nSkipping line 379: expected 4 fields, saw 6\\nSkipping line 380: expected 4 fields, saw 6\\nSkipping line 381: expected 4 fields, saw 6\\nSkipping line 382: expected 4 fields, saw 6\\nSkipping line 383: expected 4 fields, saw 6\\nSkipping line 384: expected 4 fields, saw 6\\nSkipping line 385: expected 4 fields, saw 6\\nSkipping line 386: expected 4 fields, saw 6\\nSkipping line 387: expected 4 fields, saw 6\\nSkipping line 388: expected 4 fields, saw 6\\nSkipping line 389: expected 4 fields, saw 6\\nSkipping line 390: expected 4 fields, saw 6\\nSkipping line 391: expected 4 fields, saw 6\\nSkipping line 392: expected 4 fields, saw 6\\nSkipping line 393: expected 4 fields, saw 6\\nSkipping line 394: expected 4 fields, saw 6\\nSkipping line 395: expected 4 fields, saw 6\\nSkipping line 396: expected 4 fields, saw 6\\nSkipping line 397: expected 4 fields, saw 6\\nSkipping line 398: expected 4 fields, saw 6\\nSkipping line 399: expected 4 fields, saw 6\\nSkipping line 400: expected 4 fields, saw 6\\nSkipping line 401: expected 4 fields, saw 6\\nSkipping line 402: expected 4 fields, saw 6\\nSkipping line 403: expected 4 fields, saw 6\\nSkipping line 404: expected 4 fields, saw 6\\nSkipping line 405: expected 4 fields, saw 6\\nSkipping line 406: expected 4 fields, saw 6\\nSkipping line 407: expected 4 fields, saw 6\\nSkipping line 408: expected 4 fields, saw 6\\nSkipping line 409: expected 4 fields, saw 6\\nSkipping line 410: expected 4 fields, saw 6\\nSkipping line 411: expected 4 fields, saw 6\\nSkipping line 412: expected 4 fields, saw 6\\nSkipping line 413: expected 4 fields, saw 6\\nSkipping line 414: expected 4 fields, saw 6\\nSkipping line 415: expected 4 fields, saw 6\\nSkipping line 416: expected 4 fields, saw 6\\nSkipping line 417: expected 4 fields, saw 6\\nSkipping line 418: expected 4 fields, saw 6\\nSkipping line 419: expected 4 fields, saw 6\\nSkipping line 420: expected 4 fields, saw 6\\nSkipping line 421: expected 4 fields, saw 6\\nSkipping line 422: expected 4 fields, saw 6\\nSkipping line 423: expected 4 fields, saw 6\\nSkipping line 424: expected 4 fields, saw 6\\nSkipping line 425: expected 4 fields, saw 6\\nSkipping line 426: expected 4 fields, saw 6\\nSkipping line 427: expected 4 fields, saw 6\\nSkipping line 428: expected 4 fields, saw 6\\nSkipping line 429: expected 4 fields, saw 6\\nSkipping line 430: expected 4 fields, saw 6\\nSkipping line 431: expected 4 fields, saw 6\\nSkipping line 432: expected 4 fields, saw 6\\nSkipping line 433: expected 4 fields, saw 6\\nSkipping line 434: expected 4 fields, saw 6\\nSkipping line 435: expected 4 fields, saw 6\\nSkipping line 436: expected 4 fields, saw 6\\nSkipping line 437: expected 4 fields, saw 6\\nSkipping line 438: expected 4 fields, saw 6\\nSkipping line 439: expected 4 fields, saw 6\\nSkipping line 440: expected 4 fields, saw 6\\nSkipping line 441: expected 4 fields, saw 6\\nSkipping line 442: expected 4 fields, saw 6\\nSkipping line 443: expected 4 fields, saw 6\\nSkipping line 444: expected 4 fields, saw 6\\nSkipping line 445: expected 4 fields, saw 6\\nSkipping line 446: expected 4 fields, saw 6\\nSkipping line 447: expected 4 fields, saw 6\\nSkipping line 448: expected 4 fields, saw 6\\nSkipping line 449: expected 4 fields, saw 6\\nSkipping line 450: expected 4 fields, saw 6\\nSkipping line 451: expected 4 fields, saw 6\\nSkipping line 452: expected 4 fields, saw 6\\nSkipping line 453: expected 4 fields, saw 6\\nSkipping line 454: expected 4 fields, saw 6\\nSkipping line 455: expected 4 fields, saw 6\\nSkipping line 456: expected 4 fields, saw 6\\nSkipping line 457: expected 4 fields, saw 6\\nSkipping line 458: expected 4 fields, saw 6\\nSkipping line 459: expected 4 fields, saw 6\\nSkipping line 460: expected 4 fields, saw 6\\nSkipping line 461: expected 4 fields, saw 6\\nSkipping line 462: expected 4 fields, saw 6\\nSkipping line 463: expected 4 fields, saw 6\\nSkipping line 464: expected 4 fields, saw 6\\nSkipping line 465: expected 4 fields, saw 6\\nSkipping line 466: expected 4 fields, saw 6\\nSkipping line 467: expected 4 fields, saw 6\\nSkipping line 468: expected 4 fields, saw 6\\nSkipping line 469: expected 4 fields, saw 6\\nSkipping line 470: expected 4 fields, saw 6\\nSkipping line 471: expected 4 fields, saw 6\\nSkipping line 472: expected 4 fields, saw 6\\nSkipping line 473: expected 4 fields, saw 6\\nSkipping line 474: expected 4 fields, saw 6\\nSkipping line 475: expected 4 fields, saw 6\\nSkipping line 476: expected 4 fields, saw 6\\nSkipping line 477: expected 4 fields, saw 6\\nSkipping line 478: expected 4 fields, saw 6\\nSkipping line 479: expected 4 fields, saw 6\\nSkipping line 480: expected 4 fields, saw 6\\nSkipping line 481: expected 4 fields, saw 6\\nSkipping line 482: expected 4 fields, saw 6\\nSkipping line 483: expected 4 fields, saw 6\\nSkipping line 484: expected 4 fields, saw 6\\nSkipping line 485: expected 4 fields, saw 6\\nSkipping line 486: expected 4 fields, saw 6\\nSkipping line 487: expected 4 fields, saw 6\\nSkipping line 488: expected 4 fields, saw 6\\nSkipping line 489: expected 4 fields, saw 6\\nSkipping line 490: expected 4 fields, saw 6\\nSkipping line 491: expected 4 fields, saw 6\\nSkipping line 492: expected 4 fields, saw 6\\nSkipping line 493: expected 4 fields, saw 6\\nSkipping line 494: expected 4 fields, saw 6\\nSkipping line 495: expected 4 fields, saw 6\\nSkipping line 496: expected 4 fields, saw 6\\nSkipping line 497: expected 4 fields, saw 6\\nSkipping line 498: expected 4 fields, saw 6\\nSkipping line 499: expected 4 fields, saw 6\\nSkipping line 500: expected 4 fields, saw 6\\nSkipping line 501: expected 4 fields, saw 6\\nSkipping line 502: expected 4 fields, saw 6\\nSkipping line 503: expected 4 fields, saw 6\\nSkipping line 504: expected 4 fields, saw 6\\nSkipping line 505: expected 4 fields, saw 6\\nSkipping line 506: expected 4 fields, saw 6\\nSkipping line 507: expected 4 fields, saw 6\\nSkipping line 508: expected 4 fields, saw 6\\nSkipping line 509: expected 4 fields, saw 6\\nSkipping line 510: expected 4 fields, saw 6\\nSkipping line 511: expected 4 fields, saw 6\\nSkipping line 512: expected 4 fields, saw 6\\nSkipping line 513: expected 4 fields, saw 6\\nSkipping line 514: expected 4 fields, saw 6\\nSkipping line 515: expected 4 fields, saw 6\\nSkipping line 516: expected 4 fields, saw 6\\nSkipping line 517: expected 4 fields, saw 6\\nSkipping line 518: expected 4 fields, saw 6\\nSkipping line 519: expected 4 fields, saw 6\\nSkipping line 520: expected 4 fields, saw 6\\nSkipping line 521: expected 4 fields, saw 6\\nSkipping line 522: expected 4 fields, saw 6\\nSkipping line 523: expected 4 fields, saw 6\\nSkipping line 524: expected 4 fields, saw 6\\nSkipping line 525: expected 4 fields, saw 6\\nSkipping line 526: expected 4 fields, saw 6\\nSkipping line 527: expected 4 fields, saw 6\\nSkipping line 528: expected 4 fields, saw 6\\nSkipping line 529: expected 4 fields, saw 6\\nSkipping line 530: expected 4 fields, saw 6\\nSkipping line 531: expected 4 fields, saw 6\\nSkipping line 532: expected 4 fields, saw 6\\nSkipping line 533: expected 4 fields, saw 6\\nSkipping line 534: expected 4 fields, saw 6\\nSkipping line 535: expected 4 fields, saw 6\\nSkipping line 536: expected 4 fields, saw 6\\nSkipping line 537: expected 4 fields, saw 6\\nSkipping line 538: expected 4 fields, saw 6\\nSkipping line 539: expected 4 fields, saw 6\\nSkipping line 540: expected 4 fields, saw 6\\nSkipping line 541: expected 4 fields, saw 6\\nSkipping line 542: expected 4 fields, saw 6\\nSkipping line 543: expected 4 fields, saw 6\\nSkipping line 544: expected 4 fields, saw 6\\nSkipping line 545: expected 4 fields, saw 6\\nSkipping line 546: expected 4 fields, saw 6\\nSkipping line 547: expected 4 fields, saw 6\\nSkipping line 548: expected 4 fields, saw 6\\nSkipping line 549: expected 4 fields, saw 6\\nSkipping line 550: expected 4 fields, saw 6\\nSkipping line 551: expected 4 fields, saw 6\\nSkipping line 552: expected 4 fields, saw 6\\nSkipping line 553: expected 4 fields, saw 6\\nSkipping line 554: expected 4 fields, saw 6\\nSkipping line 555: expected 4 fields, saw 6\\nSkipping line 556: expected 4 fields, saw 6\\nSkipping line 557: expected 4 fields, saw 6\\nSkipping line 558: expected 4 fields, saw 6\\nSkipping line 559: expected 4 fields, saw 6\\nSkipping line 560: expected 4 fields, saw 6\\nSkipping line 561: expected 4 fields, saw 6\\nSkipping line 562: expected 4 fields, saw 6\\nSkipping line 563: expected 4 fields, saw 6\\nSkipping line 564: expected 4 fields, saw 6\\nSkipping line 565: expected 4 fields, saw 6\\nSkipping line 566: expected 4 fields, saw 6\\nSkipping line 567: expected 4 fields, saw 6\\nSkipping line 568: expected 4 fields, saw 6\\nSkipping line 569: expected 4 fields, saw 6\\nSkipping line 570: expected 4 fields, saw 6\\nSkipping line 571: expected 4 fields, saw 6\\nSkipping line 572: expected 4 fields, saw 6\\nSkipping line 573: expected 4 fields, saw 6\\nSkipping line 574: expected 4 fields, saw 6\\nSkipping line 575: expected 4 fields, saw 6\\nSkipping line 576: expected 4 fields, saw 6\\nSkipping line 577: expected 4 fields, saw 6\\nSkipping line 578: expected 4 fields, saw 6\\nSkipping line 579: expected 4 fields, saw 6\\nSkipping line 580: expected 4 fields, saw 6\\nSkipping line 581: expected 4 fields, saw 6\\nSkipping line 582: expected 4 fields, saw 6\\nSkipping line 583: expected 4 fields, saw 6\\nSkipping line 584: expected 4 fields, saw 6\\nSkipping line 585: expected 4 fields, saw 6\\nSkipping line 586: expected 4 fields, saw 6\\nSkipping line 587: expected 4 fields, saw 6\\nSkipping line 588: expected 4 fields, saw 6\\nSkipping line 589: expected 4 fields, saw 6\\nSkipping line 590: expected 4 fields, saw 6\\nSkipping line 591: expected 4 fields, saw 6\\nSkipping line 592: expected 4 fields, saw 6\\nSkipping line 593: expected 4 fields, saw 6\\nSkipping line 594: expected 4 fields, saw 6\\nSkipping line 595: expected 4 fields, saw 6\\nSkipping line 596: expected 4 fields, saw 6\\nSkipping line 597: expected 4 fields, saw 6\\nSkipping line 598: expected 4 fields, saw 6\\nSkipping line 599: expected 4 fields, saw 6\\nSkipping line 600: expected 4 fields, saw 6\\nSkipping line 601: expected 4 fields, saw 6\\nSkipping line 602: expected 4 fields, saw 6\\nSkipping line 603: expected 4 fields, saw 6\\nSkipping line 604: expected 4 fields, saw 6\\nSkipping line 605: expected 4 fields, saw 6\\nSkipping line 606: expected 4 fields, saw 6\\nSkipping line 607: expected 4 fields, saw 6\\nSkipping line 608: expected 4 fields, saw 6\\nSkipping line 609: expected 4 fields, saw 6\\nSkipping line 610: expected 4 fields, saw 6\\nSkipping line 611: expected 4 fields, saw 6\\nSkipping line 612: expected 4 fields, saw 6\\nSkipping line 613: expected 4 fields, saw 6\\nSkipping line 614: expected 4 fields, saw 6\\nSkipping line 615: expected 4 fields, saw 6\\nSkipping line 616: expected 4 fields, saw 6\\nSkipping line 617: expected 4 fields, saw 6\\nSkipping line 618: expected 4 fields, saw 6\\nSkipping line 619: expected 4 fields, saw 6\\nSkipping line 620: expected 4 fields, saw 6\\nSkipping line 621: expected 4 fields, saw 6\\nSkipping line 622: expected 4 fields, saw 6\\nSkipping line 623: expected 4 fields, saw 6\\nSkipping line 624: expected 4 fields, saw 6\\nSkipping line 625: expected 4 fields, saw 6\\nSkipping line 626: expected 4 fields, saw 6\\nSkipping line 627: expected 4 fields, saw 6\\nSkipping line 628: expected 4 fields, saw 6\\nSkipping line 629: expected 4 fields, saw 6\\nSkipping line 630: expected 4 fields, saw 6\\nSkipping line 631: expected 4 fields, saw 6\\nSkipping line 632: expected 4 fields, saw 6\\nSkipping line 633: expected 4 fields, saw 6\\nSkipping line 634: expected 4 fields, saw 6\\nSkipping line 635: expected 4 fields, saw 6\\nSkipping line 636: expected 4 fields, saw 6\\nSkipping line 637: expected 4 fields, saw 6\\nSkipping line 638: expected 4 fields, saw 6\\nSkipping line 639: expected 4 fields, saw 6\\nSkipping line 640: expected 4 fields, saw 6\\nSkipping line 641: expected 4 fields, saw 6\\nSkipping line 642: expected 4 fields, saw 6\\nSkipping line 643: expected 4 fields, saw 6\\nSkipping line 644: expected 4 fields, saw 6\\nSkipping line 645: expected 4 fields, saw 6\\nSkipping line 646: expected 4 fields, saw 6\\nSkipping line 647: expected 4 fields, saw 6\\nSkipping line 648: expected 4 fields, saw 6\\nSkipping line 649: expected 4 fields, saw 6\\nSkipping line 650: expected 4 fields, saw 6\\nSkipping line 651: expected 4 fields, saw 6\\nSkipping line 652: expected 4 fields, saw 6\\nSkipping line 653: expected 4 fields, saw 6\\nSkipping line 654: expected 4 fields, saw 6\\nSkipping line 655: expected 4 fields, saw 6\\nSkipping line 656: expected 4 fields, saw 6\\nSkipping line 657: expected 4 fields, saw 6\\nSkipping line 658: expected 4 fields, saw 6\\nSkipping line 659: expected 4 fields, saw 6\\nSkipping line 660: expected 4 fields, saw 6\\nSkipping line 661: expected 4 fields, saw 6\\nSkipping line 662: expected 4 fields, saw 6\\nSkipping line 663: expected 4 fields, saw 6\\nSkipping line 664: expected 4 fields, saw 6\\nSkipping line 665: expected 4 fields, saw 6\\nSkipping line 666: expected 4 fields, saw 6\\nSkipping line 667: expected 4 fields, saw 6\\nSkipping line 668: expected 4 fields, saw 6\\nSkipping line 669: expected 4 fields, saw 6\\nSkipping line 670: expected 4 fields, saw 6\\nSkipping line 671: expected 4 fields, saw 6\\nSkipping line 672: expected 4 fields, saw 6\\nSkipping line 673: expected 4 fields, saw 6\\nSkipping line 674: expected 4 fields, saw 6\\nSkipping line 675: expected 4 fields, saw 6\\nSkipping line 676: expected 4 fields, saw 6\\nSkipping line 677: expected 4 fields, saw 6\\nSkipping line 678: expected 4 fields, saw 6\\nSkipping line 679: expected 4 fields, saw 6\\nSkipping line 680: expected 4 fields, saw 6\\nSkipping line 681: expected 4 fields, saw 6\\nSkipping line 682: expected 4 fields, saw 6\\nSkipping line 683: expected 4 fields, saw 6\\nSkipping line 684: expected 4 fields, saw 6\\nSkipping line 685: expected 4 fields, saw 6\\nSkipping line 686: expected 4 fields, saw 6\\nSkipping line 687: expected 4 fields, saw 6\\nSkipping line 688: expected 4 fields, saw 6\\nSkipping line 689: expected 4 fields, saw 6\\nSkipping line 690: expected 4 fields, saw 6\\nSkipping line 691: expected 4 fields, saw 6\\nSkipping line 692: expected 4 fields, saw 6\\nSkipping line 693: expected 4 fields, saw 6\\nSkipping line 694: expected 4 fields, saw 6\\nSkipping line 695: expected 4 fields, saw 6\\nSkipping line 696: expected 4 fields, saw 6\\nSkipping line 697: expected 4 fields, saw 6\\nSkipping line 698: expected 4 fields, saw 6\\nSkipping line 699: expected 4 fields, saw 6\\nSkipping line 700: expected 4 fields, saw 6\\nSkipping line 701: expected 4 fields, saw 6\\nSkipping line 702: expected 4 fields, saw 6\\nSkipping line 703: expected 4 fields, saw 6\\nSkipping line 704: expected 4 fields, saw 6\\nSkipping line 705: expected 4 fields, saw 6\\nSkipping line 706: expected 4 fields, saw 6\\nSkipping line 707: expected 4 fields, saw 6\\nSkipping line 708: expected 4 fields, saw 6\\nSkipping line 709: expected 4 fields, saw 6\\nSkipping line 710: expected 4 fields, saw 6\\nSkipping line 711: expected 4 fields, saw 6\\nSkipping line 712: expected 4 fields, saw 6\\nSkipping line 713: expected 4 fields, saw 6\\nSkipping line 714: expected 4 fields, saw 6\\nSkipping line 715: expected 4 fields, saw 6\\nSkipping line 716: expected 4 fields, saw 6\\nSkipping line 717: expected 4 fields, saw 6\\nSkipping line 718: expected 4 fields, saw 6\\nSkipping line 719: expected 4 fields, saw 6\\nSkipping line 720: expected 4 fields, saw 6\\nSkipping line 721: expected 4 fields, saw 6\\nSkipping line 722: expected 4 fields, saw 6\\nSkipping line 723: expected 4 fields, saw 6\\nSkipping line 724: expected 4 fields, saw 6\\nSkipping line 725: expected 4 fields, saw 6\\nSkipping line 726: expected 4 fields, saw 6\\nSkipping line 727: expected 4 fields, saw 6\\nSkipping line 728: expected 4 fields, saw 6\\nSkipping line 729: expected 4 fields, saw 6\\nSkipping line 730: expected 4 fields, saw 6\\nSkipping line 731: expected 4 fields, saw 6\\nSkipping line 732: expected 4 fields, saw 6\\nSkipping line 733: expected 4 fields, saw 6\\nSkipping line 734: expected 4 fields, saw 6\\nSkipping line 735: expected 4 fields, saw 6\\nSkipping line 736: expected 4 fields, saw 6\\nSkipping line 737: expected 4 fields, saw 6\\nSkipping line 738: expected 4 fields, saw 6\\nSkipping line 739: expected 4 fields, saw 6\\nSkipping line 740: expected 4 fields, saw 6\\nSkipping line 741: expected 4 fields, saw 6\\nSkipping line 742: expected 4 fields, saw 6\\nSkipping line 743: expected 4 fields, saw 6\\nSkipping line 744: expected 4 fields, saw 6\\nSkipping line 745: expected 4 fields, saw 6\\nSkipping line 746: expected 4 fields, saw 6\\nSkipping line 747: expected 4 fields, saw 6\\nSkipping line 748: expected 4 fields, saw 6\\nSkipping line 749: expected 4 fields, saw 6\\nSkipping line 750: expected 4 fields, saw 6\\nSkipping line 751: expected 4 fields, saw 6\\nSkipping line 752: expected 4 fields, saw 6\\nSkipping line 753: expected 4 fields, saw 6\\nSkipping line 754: expected 4 fields, saw 6\\nSkipping line 755: expected 4 fields, saw 6\\nSkipping line 756: expected 4 fields, saw 6\\nSkipping line 757: expected 4 fields, saw 6\\nSkipping line 758: expected 4 fields, saw 6\\nSkipping line 759: expected 4 fields, saw 6\\nSkipping line 760: expected 4 fields, saw 6\\nSkipping line 761: expected 4 fields, saw 6\\nSkipping line 762: expected 4 fields, saw 6\\nSkipping line 763: expected 4 fields, saw 6\\nSkipping line 764: expected 4 fields, saw 6\\nSkipping line 765: expected 4 fields, saw 6\\nSkipping line 766: expected 4 fields, saw 6\\nSkipping line 767: expected 4 fields, saw 6\\nSkipping line 768: expected 4 fields, saw 6\\nSkipping line 769: expected 4 fields, saw 6\\nSkipping line 770: expected 4 fields, saw 6\\nSkipping line 771: expected 4 fields, saw 6\\nSkipping line 772: expected 4 fields, saw 6\\nSkipping line 773: expected 4 fields, saw 6\\nSkipping line 774: expected 4 fields, saw 6\\nSkipping line 775: expected 4 fields, saw 6\\nSkipping line 776: expected 4 fields, saw 6\\nSkipping line 777: expected 4 fields, saw 6\\nSkipping line 778: expected 4 fields, saw 6\\nSkipping line 779: expected 4 fields, saw 6\\nSkipping line 780: expected 4 fields, saw 6\\nSkipping line 781: expected 4 fields, saw 6\\nSkipping line 782: expected 4 fields, saw 6\\nSkipping line 783: expected 4 fields, saw 6\\nSkipping line 784: expected 4 fields, saw 6\\nSkipping line 785: expected 4 fields, saw 6\\nSkipping line 786: expected 4 fields, saw 6\\nSkipping line 787: expected 4 fields, saw 6\\nSkipping line 788: expected 4 fields, saw 6\\nSkipping line 789: expected 4 fields, saw 6\\nSkipping line 790: expected 4 fields, saw 6\\nSkipping line 791: expected 4 fields, saw 6\\nSkipping line 792: expected 4 fields, saw 6\\nSkipping line 793: expected 4 fields, saw 6\\nSkipping line 794: expected 4 fields, saw 6\\nSkipping line 795: expected 4 fields, saw 6\\nSkipping line 796: expected 4 fields, saw 6\\nSkipping line 797: expected 4 fields, saw 6\\nSkipping line 798: expected 4 fields, saw 6\\nSkipping line 799: expected 4 fields, saw 6\\nSkipping line 800: expected 4 fields, saw 6\\nSkipping line 801: expected 4 fields, saw 6\\nSkipping line 802: expected 4 fields, saw 6\\nSkipping line 803: expected 4 fields, saw 6\\nSkipping line 804: expected 4 fields, saw 6\\nSkipping line 805: expected 4 fields, saw 6\\nSkipping line 806: expected 4 fields, saw 6\\nSkipping line 807: expected 4 fields, saw 6\\nSkipping line 808: expected 4 fields, saw 6\\nSkipping line 809: expected 4 fields, saw 6\\nSkipping line 810: expected 4 fields, saw 6\\nSkipping line 811: expected 4 fields, saw 6\\nSkipping line 812: expected 4 fields, saw 6\\nSkipping line 813: expected 4 fields, saw 6\\nSkipping line 814: expected 4 fields, saw 6\\nSkipping line 815: expected 4 fields, saw 6\\nSkipping line 816: expected 4 fields, saw 6\\nSkipping line 817: expected 4 fields, saw 6\\nSkipping line 818: expected 4 fields, saw 6\\nSkipping line 819: expected 4 fields, saw 6\\nSkipping line 820: expected 4 fields, saw 6\\nSkipping line 821: expected 4 fields, saw 6\\nSkipping line 822: expected 4 fields, saw 6\\nSkipping line 823: expected 4 fields, saw 6\\nSkipping line 824: expected 4 fields, saw 6\\nSkipping line 825: expected 4 fields, saw 6\\nSkipping line 826: expected 4 fields, saw 6\\nSkipping line 827: expected 4 fields, saw 6\\nSkipping line 828: expected 4 fields, saw 6\\nSkipping line 829: expected 4 fields, saw 6\\nSkipping line 830: expected 4 fields, saw 6\\nSkipping line 831: expected 4 fields, saw 6\\nSkipping line 832: expected 4 fields, saw 6\\nSkipping line 833: expected 4 fields, saw 6\\nSkipping line 834: expected 4 fields, saw 6\\nSkipping line 835: expected 4 fields, saw 6\\nSkipping line 836: expected 4 fields, saw 6\\nSkipping line 837: expected 4 fields, saw 6\\nSkipping line 838: expected 4 fields, saw 6\\nSkipping line 839: expected 4 fields, saw 6\\nSkipping line 840: expected 4 fields, saw 6\\nSkipping line 841: expected 4 fields, saw 6\\nSkipping line 842: expected 4 fields, saw 6\\nSkipping line 843: expected 4 fields, saw 6\\nSkipping line 844: expected 4 fields, saw 6\\nSkipping line 845: expected 4 fields, saw 6\\nSkipping line 846: expected 4 fields, saw 6\\nSkipping line 847: expected 4 fields, saw 6\\nSkipping line 848: expected 4 fields, saw 6\\nSkipping line 849: expected 4 fields, saw 6\\nSkipping line 850: expected 4 fields, saw 6\\nSkipping line 851: expected 4 fields, saw 6\\nSkipping line 852: expected 4 fields, saw 6\\nSkipping line 853: expected 4 fields, saw 6\\nSkipping line 854: expected 4 fields, saw 6\\nSkipping line 855: expected 4 fields, saw 6\\nSkipping line 856: expected 4 fields, saw 6\\nSkipping line 857: expected 4 fields, saw 6\\nSkipping line 858: expected 4 fields, saw 6\\nSkipping line 859: expected 4 fields, saw 6\\nSkipping line 860: expected 4 fields, saw 6\\nSkipping line 861: expected 4 fields, saw 6\\nSkipping line 862: expected 4 fields, saw 6\\nSkipping line 863: expected 4 fields, saw 6\\nSkipping line 864: expected 4 fields, saw 6\\nSkipping line 865: expected 4 fields, saw 6\\nSkipping line 866: expected 4 fields, saw 6\\nSkipping line 867: expected 4 fields, saw 6\\nSkipping line 868: expected 4 fields, saw 6\\nSkipping line 869: expected 4 fields, saw 6\\nSkipping line 870: expected 4 fields, saw 6\\nSkipping line 871: expected 4 fields, saw 6\\nSkipping line 872: expected 4 fields, saw 6\\nSkipping line 873: expected 4 fields, saw 6\\nSkipping line 874: expected 4 fields, saw 6\\nSkipping line 875: expected 4 fields, saw 6\\nSkipping line 876: expected 4 fields, saw 6\\nSkipping line 877: expected 4 fields, saw 6\\nSkipping line 878: expected 4 fields, saw 6\\nSkipping line 879: expected 4 fields, saw 6\\nSkipping line 880: expected 4 fields, saw 6\\nSkipping line 881: expected 4 fields, saw 6\\nSkipping line 882: expected 4 fields, saw 6\\nSkipping line 883: expected 4 fields, saw 6\\nSkipping line 884: expected 4 fields, saw 6\\nSkipping line 885: expected 4 fields, saw 6\\nSkipping line 886: expected 4 fields, saw 6\\nSkipping line 887: expected 4 fields, saw 6\\nSkipping line 888: expected 4 fields, saw 6\\nSkipping line 889: expected 4 fields, saw 6\\nSkipping line 890: expected 4 fields, saw 6\\nSkipping line 891: expected 4 fields, saw 6\\nSkipping line 892: expected 4 fields, saw 6\\nSkipping line 893: expected 4 fields, saw 6\\nSkipping line 894: expected 4 fields, saw 6\\nSkipping line 895: expected 4 fields, saw 6\\nSkipping line 896: expected 4 fields, saw 6\\nSkipping line 897: expected 4 fields, saw 6\\nSkipping line 898: expected 4 fields, saw 6\\nSkipping line 899: expected 4 fields, saw 6\\nSkipping line 900: expected 4 fields, saw 6\\nSkipping line 901: expected 4 fields, saw 6\\nSkipping line 902: expected 4 fields, saw 6\\nSkipping line 903: expected 4 fields, saw 6\\nSkipping line 904: expected 4 fields, saw 6\\nSkipping line 905: expected 4 fields, saw 6\\nSkipping line 906: expected 4 fields, saw 6\\nSkipping line 907: expected 4 fields, saw 6\\nSkipping line 908: expected 4 fields, saw 6\\nSkipping line 909: expected 4 fields, saw 6\\nSkipping line 910: expected 4 fields, saw 6\\nSkipping line 911: expected 4 fields, saw 6\\nSkipping line 912: expected 4 fields, saw 6\\nSkipping line 913: expected 4 fields, saw 6\\nSkipping line 914: expected 4 fields, saw 6\\nSkipping line 915: expected 4 fields, saw 6\\nSkipping line 916: expected 4 fields, saw 6\\nSkipping line 917: expected 4 fields, saw 6\\nSkipping line 918: expected 4 fields, saw 6\\nSkipping line 919: expected 4 fields, saw 6\\nSkipping line 920: expected 4 fields, saw 6\\nSkipping line 921: expected 4 fields, saw 6\\nSkipping line 922: expected 4 fields, saw 6\\nSkipping line 923: expected 4 fields, saw 6\\nSkipping line 924: expected 4 fields, saw 6\\nSkipping line 925: expected 4 fields, saw 6\\nSkipping line 926: expected 4 fields, saw 6\\nSkipping line 927: expected 4 fields, saw 6\\nSkipping line 928: expected 4 fields, saw 6\\nSkipping line 929: expected 4 fields, saw 6\\nSkipping line 930: expected 4 fields, saw 6\\nSkipping line 931: expected 4 fields, saw 6\\nSkipping line 932: expected 4 fields, saw 6\\nSkipping line 933: expected 4 fields, saw 6\\nSkipping line 934: expected 4 fields, saw 6\\nSkipping line 935: expected 4 fields, saw 6\\nSkipping line 936: expected 4 fields, saw 6\\nSkipping line 937: expected 4 fields, saw 6\\nSkipping line 938: expected 4 fields, saw 6\\nSkipping line 939: expected 4 fields, saw 6\\nSkipping line 940: expected 4 fields, saw 6\\nSkipping line 941: expected 4 fields, saw 6\\nSkipping line 942: expected 4 fields, saw 6\\nSkipping line 943: expected 4 fields, saw 6\\nSkipping line 944: expected 4 fields, saw 6\\nSkipping line 945: expected 4 fields, saw 6\\nSkipping line 946: expected 4 fields, saw 6\\nSkipping line 947: expected 4 fields, saw 6\\nSkipping line 948: expected 4 fields, saw 6\\nSkipping line 949: expected 4 fields, saw 6\\nSkipping line 950: expected 4 fields, saw 6\\nSkipping line 951: expected 4 fields, saw 6\\nSkipping line 952: expected 4 fields, saw 6\\nSkipping line 953: expected 4 fields, saw 6\\nSkipping line 954: expected 4 fields, saw 6\\nSkipping line 955: expected 4 fields, saw 6\\nSkipping line 956: expected 4 fields, saw 6\\nSkipping line 957: expected 4 fields, saw 6\\nSkipping line 958: expected 4 fields, saw 6\\nSkipping line 959: expected 4 fields, saw 6\\nSkipping line 960: expected 4 fields, saw 6\\nSkipping line 961: expected 4 fields, saw 6\\nSkipping line 962: expected 4 fields, saw 6\\nSkipping line 963: expected 4 fields, saw 6\\nSkipping line 964: expected 4 fields, saw 6\\nSkipping line 965: expected 4 fields, saw 6\\nSkipping line 966: expected 4 fields, saw 6\\nSkipping line 967: expected 4 fields, saw 6\\nSkipping line 968: expected 4 fields, saw 6\\nSkipping line 969: expected 4 fields, saw 6\\nSkipping line 970: expected 4 fields, saw 6\\nSkipping line 971: expected 4 fields, saw 6\\nSkipping line 972: expected 4 fields, saw 6\\nSkipping line 973: expected 4 fields, saw 6\\nSkipping line 974: expected 4 fields, saw 6\\nSkipping line 975: expected 4 fields, saw 6\\nSkipping line 976: expected 4 fields, saw 6\\nSkipping line 977: expected 4 fields, saw 6\\nSkipping line 978: expected 4 fields, saw 6\\nSkipping line 979: expected 4 fields, saw 6\\nSkipping line 980: expected 4 fields, saw 6\\nSkipping line 981: expected 4 fields, saw 6\\nSkipping line 982: expected 4 fields, saw 6\\nSkipping line 983: expected 4 fields, saw 6\\nSkipping line 984: expected 4 fields, saw 6\\nSkipping line 985: expected 4 fields, saw 6\\nSkipping line 986: expected 4 fields, saw 6\\nSkipping line 987: expected 4 fields, saw 6\\nSkipping line 988: expected 4 fields, saw 6\\nSkipping line 989: expected 4 fields, saw 6\\nSkipping line 990: expected 4 fields, saw 6\\nSkipping line 991: expected 4 fields, saw 6\\nSkipping line 992: expected 4 fields, saw 6\\nSkipping line 993: expected 4 fields, saw 6\\nSkipping line 994: expected 4 fields, saw 6\\nSkipping line 995: expected 4 fields, saw 6\\nSkipping line 996: expected 4 fields, saw 6\\nSkipping line 997: expected 4 fields, saw 6\\nSkipping line 998: expected 4 fields, saw 6\\nSkipping line 999: expected 4 fields, saw 6\\nSkipping line 1000: expected 4 fields, saw 6\\nSkipping line 1001: expected 4 fields, saw 6\\nSkipping line 1002: expected 4 fields, saw 6\\nSkipping line 1003: expected 4 fields, saw 6\\nSkipping line 1004: expected 4 fields, saw 6\\nSkipping line 1005: expected 4 fields, saw 6\\nSkipping line 1006: expected 4 fields, saw 6\\nSkipping line 1007: expected 4 fields, saw 6\\nSkipping line 1008: expected 4 fields, saw 6\\nSkipping line 1009: expected 4 fields, saw 6\\nSkipping line 1010: expected 4 fields, saw 6\\nSkipping line 1011: expected 4 fields, saw 6\\nSkipping line 1012: expected 4 fields, saw 6\\nSkipping line 1013: expected 4 fields, saw 6\\nSkipping line 1014: expected 4 fields, saw 6\\nSkipping line 1015: expected 4 fields, saw 6\\nSkipping line 1016: expected 4 fields, saw 6\\nSkipping line 1017: expected 4 fields, saw 6\\nSkipping line 1018: expected 4 fields, saw 6\\nSkipping line 1019: expected 4 fields, saw 6\\nSkipping line 1020: expected 4 fields, saw 6\\nSkipping line 1021: expected 4 fields, saw 6\\nSkipping line 1022: expected 4 fields, saw 6\\nSkipping line 1023: expected 4 fields, saw 6\\nSkipping line 1024: expected 4 fields, saw 6\\nSkipping line 1025: expected 4 fields, saw 6\\nSkipping line 1026: expected 4 fields, saw 6\\nSkipping line 1027: expected 4 fields, saw 6\\nSkipping line 1028: expected 4 fields, saw 6\\nSkipping line 1029: expected 4 fields, saw 6\\nSkipping line 1030: expected 4 fields, saw 6\\nSkipping line 1031: expected 4 fields, saw 6\\nSkipping line 1032: expected 4 fields, saw 6\\nSkipping line 1033: expected 4 fields, saw 6\\nSkipping line 1034: expected 4 fields, saw 6\\nSkipping line 1035: expected 4 fields, saw 6\\nSkipping line 1036: expected 4 fields, saw 6\\nSkipping line 1037: expected 4 fields, saw 6\\nSkipping line 1038: expected 4 fields, saw 6\\nSkipping line 1039: expected 4 fields, saw 6\\nSkipping line 1040: expected 4 fields, saw 6\\nSkipping line 1041: expected 4 fields, saw 6\\nSkipping line 1042: expected 4 fields, saw 6\\nSkipping line 1043: expected 4 fields, saw 6\\nSkipping line 1044: expected 4 fields, saw 6\\nSkipping line 1045: expected 4 fields, saw 6\\nSkipping line 1046: expected 4 fields, saw 6\\nSkipping line 1047: expected 4 fields, saw 6\\nSkipping line 1048: expected 4 fields, saw 6\\nSkipping line 1049: expected 4 fields, saw 6\\nSkipping line 1050: expected 4 fields, saw 6\\nSkipping line 1051: expected 4 fields, saw 6\\nSkipping line 1052: expected 4 fields, saw 6\\nSkipping line 1053: expected 4 fields, saw 6\\nSkipping line 1054: expected 4 fields, saw 6\\nSkipping line 1055: expected 4 fields, saw 6\\nSkipping line 1056: expected 4 fields, saw 6\\nSkipping line 1057: expected 4 fields, saw 6\\nSkipping line 1058: expected 4 fields, saw 6\\nSkipping line 1059: expected 4 fields, saw 6\\nSkipping line 1060: expected 4 fields, saw 6\\nSkipping line 1061: expected 4 fields, saw 6\\nSkipping line 1062: expected 4 fields, saw 6\\nSkipping line 1063: expected 4 fields, saw 6\\nSkipping line 1064: expected 4 fields, saw 6\\nSkipping line 1065: expected 4 fields, saw 6\\nSkipping line 1066: expected 4 fields, saw 6\\nSkipping line 1067: expected 4 fields, saw 6\\nSkipping line 1068: expected 4 fields, saw 6\\nSkipping line 1069: expected 4 fields, saw 6\\nSkipping line 1070: expected 4 fields, saw 6\\nSkipping line 1071: expected 4 fields, saw 6\\nSkipping line 1072: expected 4 fields, saw 6\\nSkipping line 1073: expected 4 fields, saw 6\\nSkipping line 1074: expected 4 fields, saw 6\\nSkipping line 1075: expected 4 fields, saw 6\\nSkipping line 1076: expected 4 fields, saw 6\\nSkipping line 1077: expected 4 fields, saw 6\\nSkipping line 1078: expected 4 fields, saw 6\\nSkipping line 1079: expected 4 fields, saw 6\\nSkipping line 1080: expected 4 fields, saw 6\\nSkipping line 1081: expected 4 fields, saw 6\\nSkipping line 1082: expected 4 fields, saw 6\\nSkipping line 1083: expected 4 fields, saw 6\\nSkipping line 1084: expected 4 fields, saw 6\\nSkipping line 1085: expected 4 fields, saw 6\\nSkipping line 1086: expected 4 fields, saw 6\\nSkipping line 1087: expected 4 fields, saw 6\\nSkipping line 1088: expected 4 fields, saw 6\\nSkipping line 1089: expected 4 fields, saw 6\\nSkipping line 1090: expected 4 fields, saw 6\\nSkipping line 1091: expected 4 fields, saw 6\\nSkipping line 1092: expected 4 fields, saw 6\\nSkipping line 1093: expected 4 fields, saw 6\\nSkipping line 1094: expected 4 fields, saw 6\\nSkipping line 1095: expected 4 fields, saw 6\\nSkipping line 1096: expected 4 fields, saw 6\\nSkipping line 1097: expected 4 fields, saw 6\\nSkipping line 1098: expected 4 fields, saw 6\\nSkipping line 1099: expected 4 fields, saw 6\\nSkipping line 1100: expected 4 fields, saw 6\\nSkipping line 1101: expected 4 fields, saw 6\\nSkipping line 1102: expected 4 fields, saw 6\\nSkipping line 1103: expected 4 fields, saw 6\\nSkipping line 1104: expected 4 fields, saw 6\\nSkipping line 1105: expected 4 fields, saw 6\\nSkipping line 1106: expected 4 fields, saw 6\\nSkipping line 1107: expected 4 fields, saw 6\\nSkipping line 1108: expected 4 fields, saw 6\\nSkipping line 1109: expected 4 fields, saw 6\\nSkipping line 1110: expected 4 fields, saw 6\\nSkipping line 1111: expected 4 fields, saw 6\\nSkipping line 1112: expected 4 fields, saw 6\\nSkipping line 1113: expected 4 fields, saw 6\\nSkipping line 1114: expected 4 fields, saw 6\\nSkipping line 1115: expected 4 fields, saw 6\\nSkipping line 1116: expected 4 fields, saw 6\\nSkipping line 1117: expected 4 fields, saw 6\\nSkipping line 1118: expected 4 fields, saw 6\\nSkipping line 1119: expected 4 fields, saw 6\\nSkipping line 1120: expected 4 fields, saw 6\\nSkipping line 1121: expected 4 fields, saw 6\\nSkipping line 1122: expected 4 fields, saw 6\\nSkipping line 1123: expected 4 fields, saw 6\\nSkipping line 1124: expected 4 fields, saw 6\\nSkipping line 1125: expected 4 fields, saw 6\\nSkipping line 1126: expected 4 fields, saw 6\\nSkipping line 1127: expected 4 fields, saw 6\\nSkipping line 1128: expected 4 fields, saw 6\\nSkipping line 1129: expected 4 fields, saw 6\\nSkipping line 1130: expected 4 fields, saw 6\\nSkipping line 1131: expected 4 fields, saw 6\\nSkipping line 1132: expected 4 fields, saw 6\\nSkipping line 1133: expected 4 fields, saw 6\\nSkipping line 1134: expected 4 fields, saw 6\\nSkipping line 1135: expected 4 fields, saw 6\\nSkipping line 1136: expected 4 fields, saw 6\\nSkipping line 1137: expected 4 fields, saw 6\\nSkipping line 1138: expected 4 fields, saw 6\\nSkipping line 1139: expected 4 fields, saw 6\\nSkipping line 1140: expected 4 fields, saw 6\\nSkipping line 1141: expected 4 fields, saw 6\\nSkipping line 1142: expected 4 fields, saw 6\\nSkipping line 1143: expected 4 fields, saw 6\\nSkipping line 1144: expected 4 fields, saw 6\\nSkipping line 1145: expected 4 fields, saw 6\\nSkipping line 1146: expected 4 fields, saw 6\\nSkipping line 1147: expected 4 fields, saw 6\\nSkipping line 1148: expected 4 fields, saw 6\\nSkipping line 1149: expected 4 fields, saw 6\\nSkipping line 1150: expected 4 fields, saw 6\\nSkipping line 1151: expected 4 fields, saw 6\\nSkipping line 1152: expected 4 fields, saw 6\\nSkipping line 1153: expected 4 fields, saw 6\\nSkipping line 1154: expected 4 fields, saw 6\\nSkipping line 1155: expected 4 fields, saw 6\\nSkipping line 1156: expected 4 fields, saw 6\\nSkipping line 1157: expected 4 fields, saw 6\\nSkipping line 1158: expected 4 fields, saw 6\\nSkipping line 1159: expected 4 fields, saw 6\\nSkipping line 1160: expected 4 fields, saw 6\\nSkipping line 1161: expected 4 fields, saw 6\\nSkipping line 1162: expected 4 fields, saw 6\\nSkipping line 1163: expected 4 fields, saw 6\\nSkipping line 1164: expected 4 fields, saw 6\\nSkipping line 1165: expected 4 fields, saw 6\\nSkipping line 1166: expected 4 fields, saw 6\\nSkipping line 1167: expected 4 fields, saw 6\\nSkipping line 1168: expected 4 fields, saw 6\\nSkipping line 1169: expected 4 fields, saw 6\\nSkipping line 1170: expected 4 fields, saw 6\\nSkipping line 1171: expected 4 fields, saw 6\\nSkipping line 1172: expected 4 fields, saw 6\\nSkipping line 1173: expected 4 fields, saw 6\\nSkipping line 1174: expected 4 fields, saw 6\\nSkipping line 1175: expected 4 fields, saw 6\\nSkipping line 1176: expected 4 fields, saw 6\\nSkipping line 1177: expected 4 fields, saw 6\\nSkipping line 1178: expected 4 fields, saw 6\\nSkipping line 1179: expected 4 fields, saw 6\\nSkipping line 1180: expected 4 fields, saw 6\\nSkipping line 1181: expected 4 fields, saw 6\\nSkipping line 1182: expected 4 fields, saw 6\\nSkipping line 1183: expected 4 fields, saw 6\\nSkipping line 1184: expected 4 fields, saw 6\\nSkipping line 1185: expected 4 fields, saw 6\\nSkipping line 1186: expected 4 fields, saw 6\\nSkipping line 1187: expected 4 fields, saw 6\\nSkipping line 1188: expected 4 fields, saw 6\\nSkipping line 1189: expected 4 fields, saw 6\\nSkipping line 1190: expected 4 fields, saw 6\\nSkipping line 1191: expected 4 fields, saw 6\\nSkipping line 1192: expected 4 fields, saw 6\\nSkipping line 1193: expected 4 fields, saw 6\\nSkipping line 1194: expected 4 fields, saw 6\\nSkipping line 1195: expected 4 fields, saw 6\\nSkipping line 1196: expected 4 fields, saw 6\\nSkipping line 1197: expected 4 fields, saw 6\\nSkipping line 1198: expected 4 fields, saw 6\\nSkipping line 1199: expected 4 fields, saw 6\\nSkipping line 1200: expected 4 fields, saw 6\\nSkipping line 1201: expected 4 fields, saw 6\\nSkipping line 1202: expected 4 fields, saw 6\\nSkipping line 1203: expected 4 fields, saw 6\\nSkipping line 1204: expected 4 fields, saw 6\\nSkipping line 1205: expected 4 fields, saw 6\\nSkipping line 1206: expected 4 fields, saw 6\\nSkipping line 1207: expected 4 fields, saw 6\\nSkipping line 1208: expected 4 fields, saw 6\\nSkipping line 1209: expected 4 fields, saw 6\\nSkipping line 1210: expected 4 fields, saw 6\\nSkipping line 1211: expected 4 fields, saw 6\\nSkipping line 1212: expected 4 fields, saw 6\\nSkipping line 1213: expected 4 fields, saw 6\\nSkipping line 1214: expected 4 fields, saw 6\\nSkipping line 1215: expected 4 fields, saw 6\\nSkipping line 1216: expected 4 fields, saw 6\\nSkipping line 1217: expected 4 fields, saw 6\\nSkipping line 1218: expected 4 fields, saw 6\\nSkipping line 1219: expected 4 fields, saw 6\\nSkipping line 1220: expected 4 fields, saw 6\\nSkipping line 1221: expected 4 fields, saw 6\\nSkipping line 1222: expected 4 fields, saw 6\\nSkipping line 1223: expected 4 fields, saw 6\\nSkipping line 1224: expected 4 fields, saw 6\\nSkipping line 1225: expected 4 fields, saw 6\\nSkipping line 1226: expected 4 fields, saw 6\\nSkipping line 1227: expected 4 fields, saw 6\\nSkipping line 1228: expected 4 fields, saw 6\\nSkipping line 1229: expected 4 fields, saw 6\\nSkipping line 1230: expected 4 fields, saw 6\\nSkipping line 1231: expected 4 fields, saw 6\\nSkipping line 1232: expected 4 fields, saw 6\\nSkipping line 1233: expected 4 fields, saw 6\\nSkipping line 1234: expected 4 fields, saw 6\\nSkipping line 1235: expected 4 fields, saw 6\\nSkipping line 1236: expected 4 fields, saw 6\\nSkipping line 1237: expected 4 fields, saw 6\\nSkipping line 1238: expected 4 fields, saw 6\\nSkipping line 1239: expected 4 fields, saw 6\\nSkipping line 1240: expected 4 fields, saw 6\\nSkipping line 1241: expected 4 fields, saw 6\\nSkipping line 1242: expected 4 fields, saw 6\\nSkipping line 1243: expected 4 fields, saw 6\\nSkipping line 1244: expected 4 fields, saw 6\\nSkipping line 1245: expected 4 fields, saw 6\\nSkipping line 1246: expected 4 fields, saw 6\\nSkipping line 1247: expected 4 fields, saw 6\\nSkipping line 1248: expected 4 fields, saw 6\\nSkipping line 1249: expected 4 fields, saw 6\\nSkipping line 1250: expected 4 fields, saw 6\\nSkipping line 1251: expected 4 fields, saw 6\\nSkipping line 1252: expected 4 fields, saw 6\\nSkipping line 1253: expected 4 fields, saw 6\\nSkipping line 1254: expected 4 fields, saw 6\\nSkipping line 1255: expected 4 fields, saw 6\\nSkipping line 1256: expected 4 fields, saw 6\\nSkipping line 1257: expected 4 fields, saw 6\\nSkipping line 1258: expected 4 fields, saw 6\\nSkipping line 1259: expected 4 fields, saw 6\\nSkipping line 1260: expected 4 fields, saw 6\\nSkipping line 1261: expected 4 fields, saw 6\\nSkipping line 1262: expected 4 fields, saw 6\\nSkipping line 1263: expected 4 fields, saw 6\\nSkipping line 1264: expected 4 fields, saw 6\\nSkipping line 1265: expected 4 fields, saw 6\\nSkipping line 1266: expected 4 fields, saw 6\\nSkipping line 1267: expected 4 fields, saw 6\\nSkipping line 1268: expected 4 fields, saw 6\\nSkipping line 1269: expected 4 fields, saw 6\\nSkipping line 1270: expected 4 fields, saw 6\\nSkipping line 1271: expected 4 fields, saw 6\\nSkipping line 1272: expected 4 fields, saw 6\\nSkipping line 1273: expected 4 fields, saw 6\\nSkipping line 1274: expected 4 fields, saw 6\\nSkipping line 1275: expected 4 fields, saw 6\\nSkipping line 1276: expected 4 fields, saw 6\\nSkipping line 1277: expected 4 fields, saw 6\\nSkipping line 1278: expected 4 fields, saw 6\\nSkipping line 1279: expected 4 fields, saw 6\\nSkipping line 1280: expected 4 fields, saw 6\\nSkipping line 1281: expected 4 fields, saw 6\\nSkipping line 1282: expected 4 fields, saw 6\\nSkipping line 1283: expected 4 fields, saw 6\\nSkipping line 1284: expected 4 fields, saw 6\\nSkipping line 1285: expected 4 fields, saw 6\\nSkipping line 1286: expected 4 fields, saw 6\\nSkipping line 1287: expected 4 fields, saw 6\\nSkipping line 1288: expected 4 fields, saw 6\\nSkipping line 1289: expected 4 fields, saw 6\\nSkipping line 1290: expected 4 fields, saw 6\\nSkipping line 1291: expected 4 fields, saw 6\\nSkipping line 1292: expected 4 fields, saw 6\\nSkipping line 1293: expected 4 fields, saw 6\\nSkipping line 1294: expected 4 fields, saw 6\\nSkipping line 1295: expected 4 fields, saw 6\\nSkipping line 1296: expected 4 fields, saw 6\\nSkipping line 1297: expected 4 fields, saw 6\\nSkipping line 1298: expected 4 fields, saw 6\\nSkipping line 1299: expected 4 fields, saw 6\\nSkipping line 1300: expected 4 fields, saw 6\\nSkipping line 1301: expected 4 fields, saw 6\\nSkipping line 1302: expected 4 fields, saw 6\\nSkipping line 1303: expected 4 fields, saw 6\\nSkipping line 1304: expected 4 fields, saw 6\\nSkipping line 1305: expected 4 fields, saw 6\\nSkipping line 1306: expected 4 fields, saw 6\\nSkipping line 1307: expected 4 fields, saw 6\\nSkipping line 1308: expected 4 fields, saw 6\\nSkipping line 1309: expected 4 fields, saw 6\\nSkipping line 1310: expected 4 fields, saw 6\\nSkipping line 1311: expected 4 fields, saw 6\\nSkipping line 1312: expected 4 fields, saw 6\\nSkipping line 1313: expected 4 fields, saw 6\\nSkipping line 1314: expected 4 fields, saw 6\\nSkipping line 1315: expected 4 fields, saw 6\\nSkipping line 1316: expected 4 fields, saw 6\\nSkipping line 1317: expected 4 fields, saw 6\\nSkipping line 1318: expected 4 fields, saw 6\\nSkipping line 1319: expected 4 fields, saw 6\\nSkipping line 1320: expected 4 fields, saw 6\\nSkipping line 1321: expected 4 fields, saw 6\\nSkipping line 1322: expected 4 fields, saw 6\\nSkipping line 1323: expected 4 fields, saw 6\\nSkipping line 1324: expected 4 fields, saw 6\\nSkipping line 1325: expected 4 fields, saw 6\\nSkipping line 1326: expected 4 fields, saw 6\\nSkipping line 1327: expected 4 fields, saw 6\\nSkipping line 1328: expected 4 fields, saw 6\\nSkipping line 1329: expected 4 fields, saw 6\\nSkipping line 1330: expected 4 fields, saw 6\\nSkipping line 1331: expected 4 fields, saw 6\\nSkipping line 1332: expected 4 fields, saw 6\\nSkipping line 1333: expected 4 fields, saw 6\\nSkipping line 1334: expected 4 fields, saw 6\\nSkipping line 1335: expected 4 fields, saw 6\\nSkipping line 1336: expected 4 fields, saw 6\\nSkipping line 1337: expected 4 fields, saw 6\\nSkipping line 1338: expected 4 fields, saw 6\\nSkipping line 1339: expected 4 fields, saw 6\\nSkipping line 1340: expected 4 fields, saw 6\\nSkipping line 1341: expected 4 fields, saw 6\\nSkipping line 1342: expected 4 fields, saw 6\\nSkipping line 1343: expected 4 fields, saw 6\\nSkipping line 1344: expected 4 fields, saw 6\\nSkipping line 1345: expected 4 fields, saw 6\\nSkipping line 1346: expected 4 fields, saw 6\\nSkipping line 1347: expected 4 fields, saw 6\\nSkipping line 1348: expected 4 fields, saw 6\\nSkipping line 1349: expected 4 fields, saw 6\\nSkipping line 1350: expected 4 fields, saw 6\\nSkipping line 1351: expected 4 fields, saw 6\\nSkipping line 1352: expected 4 fields, saw 6\\nSkipping line 1353: expected 4 fields, saw 6\\nSkipping line 1354: expected 4 fields, saw 6\\nSkipping line 1355: expected 4 fields, saw 6\\nSkipping line 1356: expected 4 fields, saw 6\\nSkipping line 1357: expected 4 fields, saw 6\\nSkipping line 1358: expected 4 fields, saw 6\\nSkipping line 1359: expected 4 fields, saw 6\\nSkipping line 1360: expected 4 fields, saw 6\\nSkipping line 1361: expected 4 fields, saw 6\\nSkipping line 1362: expected 4 fields, saw 6\\nSkipping line 1363: expected 4 fields, saw 6\\nSkipping line 1364: expected 4 fields, saw 6\\nSkipping line 1365: expected 4 fields, saw 6\\nSkipping line 1366: expected 4 fields, saw 6\\nSkipping line 1367: expected 4 fields, saw 6\\nSkipping line 1368: expected 4 fields, saw 6\\nSkipping line 1369: expected 4 fields, saw 6\\nSkipping line 1370: expected 4 fields, saw 6\\nSkipping line 1371: expected 4 fields, saw 6\\nSkipping line 1372: expected 4 fields, saw 6\\nSkipping line 1373: expected 4 fields, saw 6\\nSkipping line 1374: expected 4 fields, saw 6\\nSkipping line 1375: expected 4 fields, saw 6\\nSkipping line 1376: expected 4 fields, saw 6\\nSkipping line 1377: expected 4 fields, saw 6\\nSkipping line 1378: expected 4 fields, saw 6\\nSkipping line 1379: expected 4 fields, saw 6\\nSkipping line 1380: expected 4 fields, saw 6\\nSkipping line 1381: expected 4 fields, saw 6\\nSkipping line 1382: expected 4 fields, saw 6\\nSkipping line 1383: expected 4 fields, saw 6\\nSkipping line 1384: expected 4 fields, saw 6\\nSkipping line 1385: expected 4 fields, saw 6\\nSkipping line 1386: expected 4 fields, saw 6\\nSkipping line 1387: expected 4 fields, saw 6\\nSkipping line 1388: expected 4 fields, saw 6\\nSkipping line 1389: expected 4 fields, saw 6\\nSkipping line 1390: expected 4 fields, saw 6\\nSkipping line 1391: expected 4 fields, saw 6\\nSkipping line 1392: expected 4 fields, saw 6\\nSkipping line 1393: expected 4 fields, saw 6\\nSkipping line 1394: expected 4 fields, saw 6\\nSkipping line 1395: expected 4 fields, saw 6\\nSkipping line 1396: expected 4 fields, saw 6\\nSkipping line 1397: expected 4 fields, saw 6\\nSkipping line 1398: expected 4 fields, saw 6\\nSkipping line 1399: expected 4 fields, saw 6\\nSkipping line 1400: expected 4 fields, saw 6\\nSkipping line 1401: expected 4 fields, saw 6\\nSkipping line 1402: expected 4 fields, saw 6\\nSkipping line 1403: expected 4 fields, saw 6\\nSkipping line 1404: expected 4 fields, saw 6\\nSkipping line 1405: expected 4 fields, saw 6\\nSkipping line 1406: expected 4 fields, saw 6\\nSkipping line 1407: expected 4 fields, saw 6\\nSkipping line 1408: expected 4 fields, saw 6\\nSkipping line 1409: expected 4 fields, saw 6\\nSkipping line 1410: expected 4 fields, saw 6\\nSkipping line 1411: expected 4 fields, saw 6\\nSkipping line 1412: expected 4 fields, saw 6\\nSkipping line 1413: expected 4 fields, saw 6\\nSkipping line 1414: expected 4 fields, saw 6\\nSkipping line 1415: expected 4 fields, saw 6\\nSkipping line 1416: expected 4 fields, saw 6\\nSkipping line 1417: expected 4 fields, saw 6\\nSkipping line 1418: expected 4 fields, saw 6\\nSkipping line 1419: expected 4 fields, saw 6\\nSkipping line 1420: expected 4 fields, saw 6\\nSkipping line 1421: expected 4 fields, saw 6\\nSkipping line 1422: expected 4 fields, saw 6\\nSkipping line 1423: expected 4 fields, saw 6\\nSkipping line 1424: expected 4 fields, saw 6\\nSkipping line 1425: expected 4 fields, saw 6\\nSkipping line 1426: expected 4 fields, saw 6\\nSkipping line 1427: expected 4 fields, saw 6\\nSkipping line 1428: expected 4 fields, saw 6\\nSkipping line 1429: expected 4 fields, saw 6\\nSkipping line 1430: expected 4 fields, saw 6\\nSkipping line 1431: expected 4 fields, saw 6\\nSkipping line 1432: expected 4 fields, saw 6\\nSkipping line 1433: expected 4 fields, saw 6\\nSkipping line 1434: expected 4 fields, saw 6\\nSkipping line 1435: expected 4 fields, saw 6\\nSkipping line 1436: expected 4 fields, saw 6\\nSkipping line 1437: expected 4 fields, saw 6\\nSkipping line 1438: expected 4 fields, saw 6\\nSkipping line 1439: expected 4 fields, saw 6\\nSkipping line 1440: expected 4 fields, saw 6\\nSkipping line 1441: expected 4 fields, saw 6\\nSkipping line 1442: expected 4 fields, saw 6\\nSkipping line 1443: expected 4 fields, saw 6\\nSkipping line 1444: expected 4 fields, saw 6\\nSkipping line 1445: expected 4 fields, saw 6\\nSkipping line 1446: expected 4 fields, saw 6\\nSkipping line 1447: expected 4 fields, saw 6\\nSkipping line 1448: expected 4 fields, saw 6\\nSkipping line 1449: expected 4 fields, saw 6\\nSkipping line 1450: expected 4 fields, saw 6\\nSkipping line 1451: expected 4 fields, saw 6\\nSkipping line 1452: expected 4 fields, saw 6\\nSkipping line 1453: expected 4 fields, saw 6\\nSkipping line 1454: expected 4 fields, saw 6\\nSkipping line 1455: expected 4 fields, saw 6\\nSkipping line 1456: expected 4 fields, saw 6\\nSkipping line 1457: expected 4 fields, saw 6\\nSkipping line 1458: expected 4 fields, saw 6\\nSkipping line 1459: expected 4 fields, saw 6\\nSkipping line 1460: expected 4 fields, saw 6\\nSkipping line 1461: expected 4 fields, saw 6\\nSkipping line 1462: expected 4 fields, saw 6\\nSkipping line 1463: expected 4 fields, saw 6\\nSkipping line 1464: expected 4 fields, saw 6\\nSkipping line 1465: expected 4 fields, saw 6\\nSkipping line 1466: expected 4 fields, saw 6\\nSkipping line 1467: expected 4 fields, saw 6\\nSkipping line 1468: expected 4 fields, saw 6\\nSkipping line 1469: expected 4 fields, saw 6\\nSkipping line 1470: expected 4 fields, saw 6\\nSkipping line 1471: expected 4 fields, saw 6\\nSkipping line 1472: expected 4 fields, saw 6\\nSkipping line 1473: expected 4 fields, saw 6\\nSkipping line 1474: expected 4 fields, saw 6\\nSkipping line 1475: expected 4 fields, saw 6\\nSkipping line 1476: expected 4 fields, saw 6\\nSkipping line 1477: expected 4 fields, saw 6\\nSkipping line 1478: expected 4 fields, saw 6\\nSkipping line 1479: expected 4 fields, saw 6\\nSkipping line 1480: expected 4 fields, saw 6\\nSkipping line 1481: expected 4 fields, saw 6\\nSkipping line 1482: expected 4 fields, saw 6\\nSkipping line 1483: expected 4 fields, saw 6\\nSkipping line 1484: expected 4 fields, saw 6\\nSkipping line 1485: expected 4 fields, saw 6\\nSkipping line 1486: expected 4 fields, saw 6\\nSkipping line 1487: expected 4 fields, saw 6\\nSkipping line 1488: expected 4 fields, saw 6\\nSkipping line 1489: expected 4 fields, saw 6\\nSkipping line 1490: expected 4 fields, saw 6\\nSkipping line 1491: expected 4 fields, saw 6\\nSkipping line 1492: expected 4 fields, saw 6\\nSkipping line 1493: expected 4 fields, saw 6\\nSkipping line 1494: expected 4 fields, saw 6\\nSkipping line 1495: expected 4 fields, saw 6\\nSkipping line 1496: expected 4 fields, saw 6\\nSkipping line 1497: expected 4 fields, saw 6\\nSkipping line 1498: expected 4 fields, saw 6\\nSkipping line 1499: expected 4 fields, saw 6\\nSkipping line 1500: expected 4 fields, saw 6\\nSkipping line 1501: expected 4 fields, saw 6\\nSkipping line 1502: expected 4 fields, saw 6\\nSkipping line 1503: expected 4 fields, saw 6\\nSkipping line 1504: expected 4 fields, saw 6\\nSkipping line 1505: expected 4 fields, saw 6\\nSkipping line 1506: expected 4 fields, saw 6\\nSkipping line 1507: expected 4 fields, saw 6\\nSkipping line 1508: expected 4 fields, saw 6\\nSkipping line 1509: expected 4 fields, saw 6\\nSkipping line 1510: expected 4 fields, saw 6\\nSkipping line 1511: expected 4 fields, saw 6\\nSkipping line 1512: expected 4 fields, saw 6\\nSkipping line 1513: expected 4 fields, saw 6\\nSkipping line 1514: expected 4 fields, saw 6\\nSkipping line 1515: expected 4 fields, saw 6\\nSkipping line 1516: expected 4 fields, saw 6\\nSkipping line 1517: expected 4 fields, saw 6\\nSkipping line 1518: expected 4 fields, saw 6\\nSkipping line 1519: expected 4 fields, saw 6\\nSkipping line 1520: expected 4 fields, saw 6\\nSkipping line 1521: expected 4 fields, saw 6\\nSkipping line 1522: expected 4 fields, saw 6\\nSkipping line 1523: expected 4 fields, saw 6\\nSkipping line 1524: expected 4 fields, saw 6\\nSkipping line 1525: expected 4 fields, saw 6\\nSkipping line 1526: expected 4 fields, saw 6\\nSkipping line 1527: expected 4 fields, saw 6\\nSkipping line 1528: expected 4 fields, saw 6\\nSkipping line 1529: expected 4 fields, saw 6\\nSkipping line 1530: expected 4 fields, saw 6\\nSkipping line 1531: expected 4 fields, saw 6\\nSkipping line 1532: expected 4 fields, saw 6\\nSkipping line 1533: expected 4 fields, saw 6\\nSkipping line 1534: expected 4 fields, saw 6\\nSkipping line 1535: expected 4 fields, saw 6\\nSkipping line 1536: expected 4 fields, saw 6\\nSkipping line 1537: expected 4 fields, saw 6\\nSkipping line 1538: expected 4 fields, saw 6\\nSkipping line 1539: expected 4 fields, saw 6\\nSkipping line 1540: expected 4 fields, saw 6\\nSkipping line 1541: expected 4 fields, saw 6\\nSkipping line 1542: expected 4 fields, saw 6\\nSkipping line 1543: expected 4 fields, saw 6\\nSkipping line 1544: expected 4 fields, saw 6\\nSkipping line 1545: expected 4 fields, saw 6\\nSkipping line 1546: expected 4 fields, saw 6\\nSkipping line 1547: expected 4 fields, saw 6\\nSkipping line 1548: expected 4 fields, saw 6\\nSkipping line 1549: expected 4 fields, saw 6\\nSkipping line 1550: expected 4 fields, saw 6\\nSkipping line 1551: expected 4 fields, saw 6\\nSkipping line 1552: expected 4 fields, saw 6\\nSkipping line 1553: expected 4 fields, saw 6\\nSkipping line 1554: expected 4 fields, saw 6\\nSkipping line 1555: expected 4 fields, saw 6\\nSkipping line 1556: expected 4 fields, saw 6\\nSkipping line 1557: expected 4 fields, saw 6\\nSkipping line 1558: expected 4 fields, saw 6\\nSkipping line 1559: expected 4 fields, saw 6\\nSkipping line 1560: expected 4 fields, saw 6\\nSkipping line 1561: expected 4 fields, saw 6\\nSkipping line 1562: expected 4 fields, saw 6\\nSkipping line 1563: expected 4 fields, saw 6\\nSkipping line 1564: expected 4 fields, saw 6\\nSkipping line 1565: expected 4 fields, saw 6\\nSkipping line 1566: expected 4 fields, saw 6\\nSkipping line 1567: expected 4 fields, saw 6\\nSkipping line 1568: expected 4 fields, saw 6\\nSkipping line 1569: expected 4 fields, saw 6\\nSkipping line 1570: expected 4 fields, saw 6\\nSkipping line 1571: expected 4 fields, saw 6\\nSkipping line 1572: expected 4 fields, saw 6\\nSkipping line 1573: expected 4 fields, saw 6\\nSkipping line 1574: expected 4 fields, saw 6\\nSkipping line 1575: expected 4 fields, saw 6\\nSkipping line 1576: expected 4 fields, saw 6\\nSkipping line 1577: expected 4 fields, saw 6\\nSkipping line 1578: expected 4 fields, saw 6\\nSkipping line 1579: expected 4 fields, saw 6\\nSkipping line 1580: expected 4 fields, saw 6\\nSkipping line 1581: expected 4 fields, saw 6\\nSkipping line 1582: expected 4 fields, saw 6\\nSkipping line 1583: expected 4 fields, saw 6\\nSkipping line 1584: expected 4 fields, saw 6\\nSkipping line 1585: expected 4 fields, saw 6\\nSkipping line 1586: expected 4 fields, saw 6\\nSkipping line 1587: expected 4 fields, saw 6\\nSkipping line 1588: expected 4 fields, saw 6\\nSkipping line 1589: expected 4 fields, saw 6\\nSkipping line 1590: expected 4 fields, saw 6\\nSkipping line 1591: expected 4 fields, saw 6\\nSkipping line 1592: expected 4 fields, saw 6\\nSkipping line 1593: expected 4 fields, saw 6\\nSkipping line 1594: expected 4 fields, saw 6\\nSkipping line 1595: expected 4 fields, saw 6\\nSkipping line 1596: expected 4 fields, saw 6\\nSkipping line 1597: expected 4 fields, saw 6\\nSkipping line 1598: expected 4 fields, saw 6\\nSkipping line 1599: expected 4 fields, saw 6\\nSkipping line 1600: expected 4 fields, saw 6\\nSkipping line 1601: expected 4 fields, saw 6\\nSkipping line 1602: expected 4 fields, saw 6\\nSkipping line 1603: expected 4 fields, saw 6\\nSkipping line 1604: expected 4 fields, saw 6\\nSkipping line 1605: expected 4 fields, saw 6\\nSkipping line 1606: expected 4 fields, saw 6\\nSkipping line 1607: expected 4 fields, saw 6\\nSkipping line 1608: expected 4 fields, saw 6\\nSkipping line 1609: expected 4 fields, saw 6\\nSkipping line 1610: expected 4 fields, saw 6\\nSkipping line 1611: expected 4 fields, saw 6\\nSkipping line 1612: expected 4 fields, saw 6\\nSkipping line 1613: expected 4 fields, saw 6\\nSkipping line 1614: expected 4 fields, saw 6\\nSkipping line 1615: expected 4 fields, saw 6\\nSkipping line 1616: expected 4 fields, saw 6\\nSkipping line 1617: expected 4 fields, saw 6\\nSkipping line 1618: expected 4 fields, saw 6\\nSkipping line 1619: expected 4 fields, saw 6\\nSkipping line 1620: expected 4 fields, saw 6\\nSkipping line 1621: expected 4 fields, saw 6\\nSkipping line 1622: expected 4 fields, saw 6\\nSkipping line 1623: expected 4 fields, saw 6\\nSkipping line 1624: expected 4 fields, saw 6\\nSkipping line 1625: expected 4 fields, saw 6\\nSkipping line 1626: expected 4 fields, saw 6\\nSkipping line 1627: expected 4 fields, saw 6\\nSkipping line 1628: expected 4 fields, saw 6\\nSkipping line 1629: expected 4 fields, saw 6\\nSkipping line 1630: expected 4 fields, saw 6\\nSkipping line 1631: expected 4 fields, saw 6\\nSkipping line 1632: expected 4 fields, saw 6\\nSkipping line 1633: expected 4 fields, saw 6\\nSkipping line 1634: expected 4 fields, saw 6\\nSkipping line 1635: expected 4 fields, saw 6\\nSkipping line 1636: expected 4 fields, saw 6\\nSkipping line 1637: expected 4 fields, saw 6\\nSkipping line 1638: expected 4 fields, saw 6\\nSkipping line 1639: expected 4 fields, saw 6\\nSkipping line 1640: expected 4 fields, saw 6\\nSkipping line 1641: expected 4 fields, saw 6\\nSkipping line 1642: expected 4 fields, saw 6\\nSkipping line 1643: expected 4 fields, saw 6\\nSkipping line 1644: expected 4 fields, saw 6\\nSkipping line 1645: expected 4 fields, saw 6\\nSkipping line 1646: expected 4 fields, saw 6\\nSkipping line 1647: expected 4 fields, saw 6\\nSkipping line 1648: expected 4 fields, saw 6\\nSkipping line 1649: expected 4 fields, saw 6\\nSkipping line 1650: expected 4 fields, saw 6\\nSkipping line 1651: expected 4 fields, saw 6\\nSkipping line 1652: expected 4 fields, saw 6\\nSkipping line 1653: expected 4 fields, saw 6\\nSkipping line 1654: expected 4 fields, saw 6\\nSkipping line 1655: expected 4 fields, saw 6\\nSkipping line 1656: expected 4 fields, saw 6\\nSkipping line 1657: expected 4 fields, saw 6\\nSkipping line 1658: expected 4 fields, saw 6\\nSkipping line 1659: expected 4 fields, saw 6\\nSkipping line 1660: expected 4 fields, saw 6\\nSkipping line 1661: expected 4 fields, saw 6\\nSkipping line 1662: expected 4 fields, saw 6\\nSkipping line 1663: expected 4 fields, saw 6\\nSkipping line 1664: expected 4 fields, saw 6\\nSkipping line 1665: expected 4 fields, saw 6\\nSkipping line 1666: expected 4 fields, saw 6\\nSkipping line 1667: expected 4 fields, saw 6\\nSkipping line 1668: expected 4 fields, saw 6\\nSkipping line 1669: expected 4 fields, saw 6\\nSkipping line 1670: expected 4 fields, saw 6\\nSkipping line 1671: expected 4 fields, saw 6\\nSkipping line 1672: expected 4 fields, saw 6\\nSkipping line 1673: expected 4 fields, saw 6\\nSkipping line 1674: expected 4 fields, saw 6\\nSkipping line 1675: expected 4 fields, saw 6\\nSkipping line 1676: expected 4 fields, saw 6\\nSkipping line 1677: expected 4 fields, saw 6\\nSkipping line 1678: expected 4 fields, saw 6\\nSkipping line 1679: expected 4 fields, saw 6\\nSkipping line 1680: expected 4 fields, saw 6\\nSkipping line 1681: expected 4 fields, saw 6\\nSkipping line 1682: expected 4 fields, saw 6\\nSkipping line 1683: expected 4 fields, saw 6\\nSkipping line 1684: expected 4 fields, saw 6\\nSkipping line 1685: expected 4 fields, saw 6\\nSkipping line 1686: expected 4 fields, saw 6\\nSkipping line 1687: expected 4 fields, saw 6\\nSkipping line 1688: expected 4 fields, saw 6\\nSkipping line 1689: expected 4 fields, saw 6\\nSkipping line 1690: expected 4 fields, saw 6\\nSkipping line 1691: expected 4 fields, saw 6\\nSkipping line 1692: expected 4 fields, saw 6\\nSkipping line 1693: expected 4 fields, saw 6\\nSkipping line 1694: expected 4 fields, saw 6\\nSkipping line 1695: expected 4 fields, saw 6\\nSkipping line 1696: expected 4 fields, saw 6\\nSkipping line 1697: expected 4 fields, saw 6\\nSkipping line 1698: expected 4 fields, saw 6\\nSkipping line 1699: expected 4 fields, saw 6\\nSkipping line 1700: expected 4 fields, saw 6\\nSkipping line 1701: expected 4 fields, saw 6\\nSkipping line 1702: expected 4 fields, saw 6\\nSkipping line 1703: expected 4 fields, saw 6\\nSkipping line 1704: expected 4 fields, saw 6\\nSkipping line 1705: expected 4 fields, saw 6\\nSkipping line 1706: expected 4 fields, saw 6\\nSkipping line 1707: expected 4 fields, saw 6\\nSkipping line 1708: expected 4 fields, saw 6\\nSkipping line 1709: expected 4 fields, saw 6\\nSkipping line 1710: expected 4 fields, saw 6\\nSkipping line 1711: expected 4 fields, saw 6\\nSkipping line 1712: expected 4 fields, saw 6\\nSkipping line 1713: expected 4 fields, saw 6\\nSkipping line 1714: expected 4 fields, saw 6\\nSkipping line 1715: expected 4 fields, saw 6\\nSkipping line 1716: expected 4 fields, saw 6\\nSkipping line 1717: expected 4 fields, saw 6\\nSkipping line 1718: expected 4 fields, saw 6\\nSkipping line 1719: expected 4 fields, saw 6\\nSkipping line 1720: expected 4 fields, saw 6\\nSkipping line 1721: expected 4 fields, saw 6\\nSkipping line 1722: expected 4 fields, saw 6\\nSkipping line 1723: expected 4 fields, saw 6\\nSkipping line 1724: expected 4 fields, saw 6\\nSkipping line 1725: expected 4 fields, saw 6\\nSkipping line 1726: expected 4 fields, saw 6\\nSkipping line 1727: expected 4 fields, saw 6\\nSkipping line 1728: expected 4 fields, saw 6\\nSkipping line 1729: expected 4 fields, saw 6\\nSkipping line 1730: expected 4 fields, saw 6\\nSkipping line 1731: expected 4 fields, saw 6\\nSkipping line 1732: expected 4 fields, saw 6\\nSkipping line 1733: expected 4 fields, saw 6\\nSkipping line 1734: expected 4 fields, saw 6\\nSkipping line 1735: expected 4 fields, saw 6\\nSkipping line 1736: expected 4 fields, saw 6\\nSkipping line 1737: expected 4 fields, saw 6\\nSkipping line 1738: expected 4 fields, saw 6\\nSkipping line 1739: expected 4 fields, saw 6\\nSkipping line 1740: expected 4 fields, saw 6\\nSkipping line 1741: expected 4 fields, saw 6\\nSkipping line 1742: expected 4 fields, saw 6\\nSkipping line 1743: expected 4 fields, saw 6\\nSkipping line 1744: expected 4 fields, saw 6\\nSkipping line 1745: expected 4 fields, saw 6\\nSkipping line 1746: expected 4 fields, saw 6\\nSkipping line 1747: expected 4 fields, saw 6\\nSkipping line 1748: expected 4 fields, saw 6\\nSkipping line 1749: expected 4 fields, saw 6\\nSkipping line 1750: expected 4 fields, saw 6\\nSkipping line 1751: expected 4 fields, saw 6\\nSkipping line 1752: expected 4 fields, saw 6\\nSkipping line 1753: expected 4 fields, saw 6\\nSkipping line 1754: expected 4 fields, saw 6\\nSkipping line 1755: expected 4 fields, saw 6\\nSkipping line 1756: expected 4 fields, saw 6\\nSkipping line 1757: expected 4 fields, saw 6\\nSkipping line 1758: expected 4 fields, saw 6\\nSkipping line 1759: expected 4 fields, saw 6\\nSkipping line 1760: expected 4 fields, saw 6\\nSkipping line 1761: expected 4 fields, saw 6\\nSkipping line 1762: expected 4 fields, saw 6\\nSkipping line 1763: expected 4 fields, saw 6\\nSkipping line 1764: expected 4 fields, saw 6\\nSkipping line 1765: expected 4 fields, saw 6\\nSkipping line 1766: expected 4 fields, saw 6\\nSkipping line 1767: expected 4 fields, saw 6\\nSkipping line 1768: expected 4 fields, saw 6\\nSkipping line 1769: expected 4 fields, saw 6\\nSkipping line 1770: expected 4 fields, saw 6\\nSkipping line 1771: expected 4 fields, saw 6\\nSkipping line 1772: expected 4 fields, saw 6\\nSkipping line 1773: expected 4 fields, saw 6\\nSkipping line 1774: expected 4 fields, saw 6\\nSkipping line 1775: expected 4 fields, saw 6\\nSkipping line 1776: expected 4 fields, saw 6\\nSkipping line 1777: expected 4 fields, saw 6\\nSkipping line 1778: expected 4 fields, saw 6\\nSkipping line 1779: expected 4 fields, saw 6\\nSkipping line 1780: expected 4 fields, saw 6\\nSkipping line 1781: expected 4 fields, saw 6\\nSkipping line 1782: expected 4 fields, saw 6\\nSkipping line 1783: expected 4 fields, saw 6\\nSkipping line 1784: expected 4 fields, saw 6\\nSkipping line 1785: expected 4 fields, saw 6\\nSkipping line 1786: expected 4 fields, saw 6\\nSkipping line 1787: expected 4 fields, saw 6\\nSkipping line 1788: expected 4 fields, saw 6\\nSkipping line 1789: expected 4 fields, saw 6\\nSkipping line 1790: expected 4 fields, saw 6\\nSkipping line 1791: expected 4 fields, saw 6\\nSkipping line 1792: expected 4 fields, saw 6\\nSkipping line 1793: expected 4 fields, saw 6\\nSkipping line 1794: expected 4 fields, saw 6\\nSkipping line 1795: expected 4 fields, saw 6\\nSkipping line 1796: expected 4 fields, saw 6\\nSkipping line 1797: expected 4 fields, saw 6\\nSkipping line 1798: expected 4 fields, saw 6\\nSkipping line 1799: expected 4 fields, saw 6\\nSkipping line 1800: expected 4 fields, saw 6\\nSkipping line 1801: expected 4 fields, saw 6\\nSkipping line 1802: expected 4 fields, saw 6\\nSkipping line 1803: expected 4 fields, saw 6\\nSkipping line 1804: expected 4 fields, saw 6\\nSkipping line 1805: expected 4 fields, saw 6\\nSkipping line 1806: expected 4 fields, saw 6\\nSkipping line 1807: expected 4 fields, saw 6\\nSkipping line 1808: expected 4 fields, saw 6\\nSkipping line 1809: expected 4 fields, saw 6\\nSkipping line 1810: expected 4 fields, saw 6\\nSkipping line 1811: expected 4 fields, saw 6\\nSkipping line 1812: expected 4 fields, saw 6\\nSkipping line 1813: expected 4 fields, saw 6\\nSkipping line 1814: expected 4 fields, saw 6\\nSkipping line 1815: expected 4 fields, saw 6\\nSkipping line 1816: expected 4 fields, saw 6\\nSkipping line 1817: expected 4 fields, saw 6\\nSkipping line 1818: expected 4 fields, saw 6\\nSkipping line 1819: expected 4 fields, saw 6\\nSkipping line 1820: expected 4 fields, saw 6\\nSkipping line 1821: expected 4 fields, saw 6\\nSkipping line 1822: expected 4 fields, saw 6\\nSkipping line 1823: expected 4 fields, saw 6\\nSkipping line 1824: expected 4 fields, saw 6\\nSkipping line 1825: expected 4 fields, saw 6\\nSkipping line 1826: expected 4 fields, saw 6\\nSkipping line 1827: expected 4 fields, saw 6\\nSkipping line 1828: expected 4 fields, saw 6\\nSkipping line 1829: expected 4 fields, saw 6\\nSkipping line 1830: expected 4 fields, saw 6\\nSkipping line 1831: expected 4 fields, saw 6\\nSkipping line 1832: expected 4 fields, saw 6\\nSkipping line 1833: expected 4 fields, saw 6\\nSkipping line 1834: expected 4 fields, saw 6\\nSkipping line 1835: expected 4 fields, saw 6\\nSkipping line 1836: expected 4 fields, saw 6\\nSkipping line 1837: expected 4 fields, saw 6\\nSkipping line 1838: expected 4 fields, saw 6\\nSkipping line 1839: expected 4 fields, saw 6\\nSkipping line 1840: expected 4 fields, saw 6\\nSkipping line 1841: expected 4 fields, saw 6\\nSkipping line 1842: expected 4 fields, saw 6\\nSkipping line 1843: expected 4 fields, saw 6\\nSkipping line 1844: expected 4 fields, saw 6\\nSkipping line 1845: expected 4 fields, saw 6\\nSkipping line 1846: expected 4 fields, saw 6\\nSkipping line 1847: expected 4 fields, saw 6\\nSkipping line 1848: expected 4 fields, saw 6\\nSkipping line 1849: expected 4 fields, saw 6\\nSkipping line 1850: expected 4 fields, saw 6\\nSkipping line 1851: expected 4 fields, saw 6\\nSkipping line 1852: expected 4 fields, saw 6\\nSkipping line 1853: expected 4 fields, saw 6\\nSkipping line 1854: expected 4 fields, saw 6\\nSkipping line 1855: expected 4 fields, saw 6\\nSkipping line 1856: expected 4 fields, saw 6\\nSkipping line 1857: expected 4 fields, saw 6\\nSkipping line 1858: expected 4 fields, saw 6\\nSkipping line 1859: expected 4 fields, saw 6\\nSkipping line 1860: expected 4 fields, saw 6\\nSkipping line 1861: expected 4 fields, saw 6\\nSkipping line 1862: expected 4 fields, saw 6\\nSkipping line 1863: expected 4 fields, saw 6\\nSkipping line 1864: expected 4 fields, saw 6\\nSkipping line 1865: expected 4 fields, saw 6\\nSkipping line 1866: expected 4 fields, saw 6\\nSkipping line 1867: expected 4 fields, saw 6\\nSkipping line 1868: expected 4 fields, saw 6\\nSkipping line 1869: expected 4 fields, saw 6\\nSkipping line 1870: expected 4 fields, saw 6\\nSkipping line 1871: expected 4 fields, saw 6\\nSkipping line 1872: expected 4 fields, saw 6\\nSkipping line 1873: expected 4 fields, saw 6\\nSkipping line 1874: expected 4 fields, saw 6\\nSkipping line 1875: expected 4 fields, saw 6\\nSkipping line 1876: expected 4 fields, saw 6\\nSkipping line 1877: expected 4 fields, saw 6\\nSkipping line 1878: expected 4 fields, saw 6\\nSkipping line 1879: expected 4 fields, saw 6\\nSkipping line 1880: expected 4 fields, saw 6\\nSkipping line 1881: expected 4 fields, saw 6\\nSkipping line 1882: expected 4 fields, saw 6\\nSkipping line 1883: expected 4 fields, saw 6\\nSkipping line 1884: expected 4 fields, saw 6\\nSkipping line 1885: expected 4 fields, saw 6\\nSkipping line 1886: expected 4 fields, saw 6\\nSkipping line 1887: expected 4 fields, saw 6\\nSkipping line 1888: expected 4 fields, saw 6\\nSkipping line 1889: expected 4 fields, saw 6\\nSkipping line 1890: expected 4 fields, saw 6\\nSkipping line 1891: expected 4 fields, saw 6\\nSkipping line 1892: expected 4 fields, saw 6\\nSkipping line 1893: expected 4 fields, saw 6\\nSkipping line 1894: expected 4 fields, saw 6\\nSkipping line 1895: expected 4 fields, saw 6\\nSkipping line 1896: expected 4 fields, saw 6\\nSkipping line 1897: expected 4 fields, saw 6\\nSkipping line 1898: expected 4 fields, saw 6\\nSkipping line 1899: expected 4 fields, saw 6\\nSkipping line 1900: expected 4 fields, saw 6\\nSkipping line 1901: expected 4 fields, saw 6\\nSkipping line 1902: expected 4 fields, saw 6\\nSkipping line 1903: expected 4 fields, saw 6\\nSkipping line 1904: expected 4 fields, saw 6\\nSkipping line 1905: expected 4 fields, saw 6\\nSkipping line 1906: expected 4 fields, saw 6\\nSkipping line 1907: expected 4 fields, saw 6\\nSkipping line 1908: expected 4 fields, saw 6\\nSkipping line 1909: expected 4 fields, saw 6\\nSkipping line 1910: expected 4 fields, saw 6\\nSkipping line 1911: expected 4 fields, saw 6\\nSkipping line 1912: expected 4 fields, saw 6\\nSkipping line 1913: expected 4 fields, saw 6\\nSkipping line 1914: expected 4 fields, saw 6\\nSkipping line 1915: expected 4 fields, saw 6\\nSkipping line 1916: expected 4 fields, saw 6\\nSkipping line 1917: expected 4 fields, saw 6\\nSkipping line 1918: expected 4 fields, saw 6\\nSkipping line 1919: expected 4 fields, saw 6\\nSkipping line 1920: expected 4 fields, saw 6\\nSkipping line 1921: expected 4 fields, saw 6\\nSkipping line 1922: expected 4 fields, saw 6\\nSkipping line 1923: expected 4 fields, saw 6\\nSkipping line 1924: expected 4 fields, saw 6\\nSkipping line 1925: expected 4 fields, saw 6\\nSkipping line 1926: expected 4 fields, saw 6\\nSkipping line 1927: expected 4 fields, saw 6\\nSkipping line 1928: expected 4 fields, saw 6\\nSkipping line 1929: expected 4 fields, saw 6\\nSkipping line 1930: expected 4 fields, saw 6\\nSkipping line 1931: expected 4 fields, saw 6\\nSkipping line 1932: expected 4 fields, saw 6\\nSkipping line 1933: expected 4 fields, saw 6\\nSkipping line 1934: expected 4 fields, saw 6\\nSkipping line 1935: expected 4 fields, saw 6\\nSkipping line 1936: expected 4 fields, saw 6\\nSkipping line 1937: expected 4 fields, saw 6\\nSkipping line 1938: expected 4 fields, saw 6\\nSkipping line 1939: expected 4 fields, saw 6\\nSkipping line 1940: expected 4 fields, saw 6\\nSkipping line 1941: expected 4 fields, saw 6\\nSkipping line 1942: expected 4 fields, saw 6\\nSkipping line 1943: expected 4 fields, saw 6\\nSkipping line 1944: expected 4 fields, saw 6\\nSkipping line 1945: expected 4 fields, saw 6\\nSkipping line 1946: expected 4 fields, saw 6\\nSkipping line 1947: expected 4 fields, saw 6\\nSkipping line 1948: expected 4 fields, saw 6\\nSkipping line 1949: expected 4 fields, saw 6\\nSkipping line 1950: expected 4 fields, saw 6\\nSkipping line 1951: expected 4 fields, saw 6\\nSkipping line 1952: expected 4 fields, saw 6\\nSkipping line 1953: expected 4 fields, saw 6\\nSkipping line 1954: expected 4 fields, saw 6\\nSkipping line 1955: expected 4 fields, saw 6\\nSkipping line 1956: expected 4 fields, saw 6\\nSkipping line 1957: expected 4 fields, saw 6\\nSkipping line 1958: expected 4 fields, saw 6\\nSkipping line 1959: expected 4 fields, saw 6\\nSkipping line 1960: expected 4 fields, saw 6\\nSkipping line 1961: expected 4 fields, saw 6\\nSkipping line 1962: expected 4 fields, saw 6\\nSkipping line 1963: expected 4 fields, saw 6\\nSkipping line 1964: expected 4 fields, saw 6\\nSkipping line 1965: expected 4 fields, saw 6\\nSkipping line 1966: expected 4 fields, saw 6\\nSkipping line 1967: expected 4 fields, saw 6\\nSkipping line 1968: expected 4 fields, saw 6\\nSkipping line 1969: expected 4 fields, saw 6\\nSkipping line 1970: expected 4 fields, saw 6\\nSkipping line 1971: expected 4 fields, saw 6\\nSkipping line 1972: expected 4 fields, saw 6\\nSkipping line 1973: expected 4 fields, saw 6\\nSkipping line 1974: expected 4 fields, saw 6\\nSkipping line 1975: expected 4 fields, saw 6\\nSkipping line 1976: expected 4 fields, saw 6\\nSkipping line 1977: expected 4 fields, saw 6\\nSkipping line 1978: expected 4 fields, saw 6\\nSkipping line 1979: expected 4 fields, saw 6\\nSkipping line 1980: expected 4 fields, saw 6\\nSkipping line 1981: expected 4 fields, saw 6\\nSkipping line 1982: expected 4 fields, saw 6\\nSkipping line 1983: expected 4 fields, saw 6\\nSkipping line 1984: expected 4 fields, saw 6\\nSkipping line 1985: expected 4 fields, saw 6\\nSkipping line 1986: expected 4 fields, saw 6\\nSkipping line 1987: expected 4 fields, saw 6\\nSkipping line 1988: expected 4 fields, saw 6\\nSkipping line 1989: expected 4 fields, saw 6\\nSkipping line 1990: expected 4 fields, saw 6\\nSkipping line 1991: expected 4 fields, saw 6\\nSkipping line 1992: expected 4 fields, saw 6\\nSkipping line 1993: expected 4 fields, saw 6\\nSkipping line 1994: expected 4 fields, saw 6\\nSkipping line 1995: expected 4 fields, saw 6\\nSkipping line 1996: expected 4 fields, saw 6\\nSkipping line 1997: expected 4 fields, saw 6\\nSkipping line 1998: expected 4 fields, saw 6\\nSkipping line 1999: expected 4 fields, saw 6\\nSkipping line 2000: expected 4 fields, saw 6\\nSkipping line 2001: expected 4 fields, saw 6\\nSkipping line 2002: expected 4 fields, saw 6\\nSkipping line 2003: expected 4 fields, saw 6\\nSkipping line 2004: expected 4 fields, saw 6\\nSkipping line 2005: expected 4 fields, saw 6\\nSkipping line 2006: expected 4 fields, saw 6\\nSkipping line 2007: expected 4 fields, saw 6\\nSkipping line 2008: expected 4 fields, saw 6\\nSkipping line 2009: expected 4 fields, saw 6\\nSkipping line 2010: expected 4 fields, saw 6\\nSkipping line 2011: expected 4 fields, saw 6\\nSkipping line 2012: expected 4 fields, saw 6\\nSkipping line 2013: expected 4 fields, saw 6\\nSkipping line 2014: expected 4 fields, saw 6\\nSkipping line 2015: expected 4 fields, saw 6\\nSkipping line 2016: expected 4 fields, saw 6\\nSkipping line 2017: expected 4 fields, saw 6\\nSkipping line 2018: expected 4 fields, saw 6\\nSkipping line 2019: expected 4 fields, saw 6\\nSkipping line 2020: expected 4 fields, saw 6\\nSkipping line 2021: expected 4 fields, saw 6\\nSkipping line 2022: expected 4 fields, saw 6\\nSkipping line 2023: expected 4 fields, saw 6\\nSkipping line 2024: expected 4 fields, saw 6\\nSkipping line 2025: expected 4 fields, saw 6\\nSkipping line 2026: expected 4 fields, saw 6\\nSkipping line 2027: expected 4 fields, saw 6\\nSkipping line 2028: expected 4 fields, saw 6\\nSkipping line 2029: expected 4 fields, saw 6\\nSkipping line 2030: expected 4 fields, saw 6\\nSkipping line 2031: expected 4 fields, saw 6\\nSkipping line 2032: expected 4 fields, saw 6\\nSkipping line 2033: expected 4 fields, saw 6\\nSkipping line 2034: expected 4 fields, saw 6\\nSkipping line 2035: expected 4 fields, saw 6\\nSkipping line 2036: expected 4 fields, saw 6\\nSkipping line 2037: expected 4 fields, saw 6\\nSkipping line 2038: expected 4 fields, saw 6\\nSkipping line 2039: expected 4 fields, saw 6\\nSkipping line 2040: expected 4 fields, saw 6\\nSkipping line 2041: expected 4 fields, saw 6\\nSkipping line 2042: expected 4 fields, saw 6\\nSkipping line 2043: expected 4 fields, saw 6\\nSkipping line 2044: expected 4 fields, saw 6\\nSkipping line 2045: expected 4 fields, saw 6\\nSkipping line 2046: expected 4 fields, saw 6\\nSkipping line 2047: expected 4 fields, saw 6\\nSkipping line 2048: expected 4 fields, saw 6\\nSkipping line 2049: expected 4 fields, saw 6\\nSkipping line 2050: expected 4 fields, saw 6\\nSkipping line 2051: expected 4 fields, saw 6\\nSkipping line 2052: expected 4 fields, saw 6\\nSkipping line 2053: expected 4 fields, saw 6\\nSkipping line 2054: expected 4 fields, saw 6\\nSkipping line 2055: expected 4 fields, saw 6\\nSkipping line 2056: expected 4 fields, saw 6\\nSkipping line 2057: expected 4 fields, saw 6\\nSkipping line 2058: expected 4 fields, saw 6\\nSkipping line 2059: expected 4 fields, saw 6\\nSkipping line 2060: expected 4 fields, saw 6\\nSkipping line 2061: expected 4 fields, saw 6\\nSkipping line 2062: expected 4 fields, saw 6\\nSkipping line 2063: expected 4 fields, saw 6\\nSkipping line 2064: expected 4 fields, saw 6\\nSkipping line 2065: expected 4 fields, saw 6\\nSkipping line 2066: expected 4 fields, saw 6\\nSkipping line 2067: expected 4 fields, saw 6\\nSkipping line 2068: expected 4 fields, saw 6\\nSkipping line 2069: expected 4 fields, saw 6\\nSkipping line 2070: expected 4 fields, saw 6\\nSkipping line 2071: expected 4 fields, saw 6\\nSkipping line 2072: expected 4 fields, saw 6\\nSkipping line 2073: expected 4 fields, saw 6\\nSkipping line 2074: expected 4 fields, saw 6\\nSkipping line 2075: expected 4 fields, saw 6\\nSkipping line 2076: expected 4 fields, saw 6\\nSkipping line 2077: expected 4 fields, saw 6\\nSkipping line 2078: expected 4 fields, saw 6\\nSkipping line 2079: expected 4 fields, saw 6\\nSkipping line 2080: expected 4 fields, saw 6\\nSkipping line 2081: expected 4 fields, saw 6\\nSkipping line 2082: expected 4 fields, saw 6\\nSkipping line 2083: expected 4 fields, saw 6\\nSkipping line 2084: expected 4 fields, saw 6\\nSkipping line 2085: expected 4 fields, saw 6\\nSkipping line 2086: expected 4 fields, saw 6\\nSkipping line 2087: expected 4 fields, saw 6\\nSkipping line 2088: expected 4 fields, saw 6\\nSkipping line 2089: expected 4 fields, saw 6\\nSkipping line 2090: expected 4 fields, saw 6\\nSkipping line 2091: expected 4 fields, saw 6\\nSkipping line 2092: expected 4 fields, saw 6\\nSkipping line 2093: expected 4 fields, saw 6\\nSkipping line 2094: expected 4 fields, saw 6\\nSkipping line 2095: expected 4 fields, saw 6\\nSkipping line 2096: expected 4 fields, saw 6\\nSkipping line 2097: expected 4 fields, saw 6\\nSkipping line 2098: expected 4 fields, saw 6\\nSkipping line 2099: expected 4 fields, saw 6\\nSkipping line 2100: expected 4 fields, saw 6\\nSkipping line 2101: expected 4 fields, saw 6\\nSkipping line 2102: expected 4 fields, saw 6\\nSkipping line 2103: expected 4 fields, saw 6\\nSkipping line 2104: expected 4 fields, saw 6\\nSkipping line 2105: expected 4 fields, saw 6\\nSkipping line 2106: expected 4 fields, saw 6\\nSkipping line 2107: expected 4 fields, saw 6\\nSkipping line 2108: expected 4 fields, saw 6\\nSkipping line 2109: expected 4 fields, saw 6\\nSkipping line 2110: expected 4 fields, saw 6\\nSkipping line 2111: expected 4 fields, saw 6\\nSkipping line 2112: expected 4 fields, saw 6\\nSkipping line 2113: expected 4 fields, saw 6\\nSkipping line 2114: expected 4 fields, saw 6\\nSkipping line 2115: expected 4 fields, saw 6\\nSkipping line 2116: expected 4 fields, saw 6\\nSkipping line 2117: expected 4 fields, saw 6\\nSkipping line 2118: expected 4 fields, saw 6\\nSkipping line 2119: expected 4 fields, saw 6\\nSkipping line 2120: expected 4 fields, saw 6\\nSkipping line 2121: expected 4 fields, saw 6\\nSkipping line 2122: expected 4 fields, saw 6\\nSkipping line 2123: expected 4 fields, saw 6\\nSkipping line 2124: expected 4 fields, saw 6\\nSkipping line 2125: expected 4 fields, saw 6\\nSkipping line 2126: expected 4 fields, saw 6\\nSkipping line 2127: expected 4 fields, saw 6\\nSkipping line 2128: expected 4 fields, saw 6\\nSkipping line 2129: expected 4 fields, saw 6\\nSkipping line 2130: expected 4 fields, saw 6\\nSkipping line 2131: expected 4 fields, saw 6\\nSkipping line 2132: expected 4 fields, saw 6\\nSkipping line 2133: expected 4 fields, saw 6\\nSkipping line 2134: expected 4 fields, saw 6\\nSkipping line 2135: expected 4 fields, saw 6\\nSkipping line 2136: expected 4 fields, saw 6\\nSkipping line 2137: expected 4 fields, saw 6\\nSkipping line 2138: expected 4 fields, saw 6\\nSkipping line 2139: expected 4 fields, saw 6\\nSkipping line 2140: expected 4 fields, saw 6\\nSkipping line 2141: expected 4 fields, saw 6\\nSkipping line 2142: expected 4 fields, saw 6\\nSkipping line 2143: expected 4 fields, saw 6\\nSkipping line 2144: expected 4 fields, saw 6\\nSkipping line 2145: expected 4 fields, saw 6\\nSkipping line 2146: expected 4 fields, saw 6\\nSkipping line 2147: expected 4 fields, saw 6\\nSkipping line 2148: expected 4 fields, saw 6\\nSkipping line 2149: expected 4 fields, saw 6\\nSkipping line 2150: expected 4 fields, saw 6\\nSkipping line 2151: expected 4 fields, saw 6\\nSkipping line 2152: expected 4 fields, saw 6\\nSkipping line 2153: expected 4 fields, saw 6\\nSkipping line 2154: expected 4 fields, saw 6\\nSkipping line 2155: expected 4 fields, saw 6\\nSkipping line 2156: expected 4 fields, saw 6\\nSkipping line 2157: expected 4 fields, saw 6\\nSkipping line 2158: expected 4 fields, saw 6\\nSkipping line 2159: expected 4 fields, saw 6\\nSkipping line 2160: expected 4 fields, saw 6\\nSkipping line 2161: expected 4 fields, saw 6\\nSkipping line 2162: expected 4 fields, saw 6\\nSkipping line 2163: expected 4 fields, saw 6\\nSkipping line 2164: expected 4 fields, saw 6\\nSkipping line 2165: expected 4 fields, saw 6\\nSkipping line 2166: expected 4 fields, saw 6\\nSkipping line 2167: expected 4 fields, saw 6\\nSkipping line 2168: expected 4 fields, saw 6\\nSkipping line 2169: expected 4 fields, saw 6\\nSkipping line 2170: expected 4 fields, saw 6\\nSkipping line 2171: expected 4 fields, saw 6\\nSkipping line 2172: expected 4 fields, saw 6\\nSkipping line 2173: expected 4 fields, saw 6\\nSkipping line 2174: expected 4 fields, saw 6\\nSkipping line 2175: expected 4 fields, saw 6\\nSkipping line 2176: expected 4 fields, saw 6\\nSkipping line 2177: expected 4 fields, saw 6\\nSkipping line 2178: expected 4 fields, saw 6\\nSkipping line 2179: expected 4 fields, saw 6\\nSkipping line 2180: expected 4 fields, saw 6\\nSkipping line 2181: expected 4 fields, saw 6\\nSkipping line 2182: expected 4 fields, saw 6\\nSkipping line 2183: expected 4 fields, saw 6\\nSkipping line 2184: expected 4 fields, saw 6\\nSkipping line 2185: expected 4 fields, saw 6\\nSkipping line 2186: expected 4 fields, saw 6\\nSkipping line 2187: expected 4 fields, saw 6\\nSkipping line 2188: expected 4 fields, saw 6\\nSkipping line 2189: expected 4 fields, saw 6\\nSkipping line 2190: expected 4 fields, saw 6\\nSkipping line 2191: expected 4 fields, saw 6\\nSkipping line 2192: expected 4 fields, saw 6\\nSkipping line 2193: expected 4 fields, saw 6\\nSkipping line 2194: expected 4 fields, saw 6\\nSkipping line 2195: expected 4 fields, saw 6\\nSkipping line 2196: expected 4 fields, saw 6\\nSkipping line 2197: expected 4 fields, saw 6\\nSkipping line 2198: expected 4 fields, saw 6\\nSkipping line 2199: expected 4 fields, saw 6\\nSkipping line 2200: expected 4 fields, saw 6\\nSkipping line 2201: expected 4 fields, saw 6\\nSkipping line 2202: expected 4 fields, saw 6\\nSkipping line 2203: expected 4 fields, saw 6\\nSkipping line 2204: expected 4 fields, saw 6\\nSkipping line 2205: expected 4 fields, saw 6\\nSkipping line 2206: expected 4 fields, saw 6\\nSkipping line 2207: expected 4 fields, saw 6\\nSkipping line 2208: expected 4 fields, saw 6\\nSkipping line 2209: expected 4 fields, saw 6\\nSkipping line 2210: expected 4 fields, saw 6\\nSkipping line 2211: expected 4 fields, saw 6\\nSkipping line 2212: expected 4 fields, saw 6\\nSkipping line 2213: expected 4 fields, saw 6\\nSkipping line 2214: expected 4 fields, saw 6\\nSkipping line 2215: expected 4 fields, saw 6\\nSkipping line 2216: expected 4 fields, saw 6\\nSkipping line 2217: expected 4 fields, saw 6\\nSkipping line 2218: expected 4 fields, saw 6\\nSkipping line 2219: expected 4 fields, saw 6\\nSkipping line 2220: expected 4 fields, saw 6\\nSkipping line 2221: expected 4 fields, saw 6\\nSkipping line 2222: expected 4 fields, saw 6\\nSkipping line 2223: expected 4 fields, saw 6\\nSkipping line 2224: expected 4 fields, saw 6\\nSkipping line 2225: expected 4 fields, saw 6\\nSkipping line 2226: expected 4 fields, saw 6\\nSkipping line 2227: expected 4 fields, saw 6\\nSkipping line 2228: expected 4 fields, saw 6\\nSkipping line 2229: expected 4 fields, saw 6\\nSkipping line 2230: expected 4 fields, saw 6\\nSkipping line 2231: expected 4 fields, saw 6\\nSkipping line 2232: expected 4 fields, saw 6\\nSkipping line 2233: expected 4 fields, saw 6\\nSkipping line 2234: expected 4 fields, saw 6\\nSkipping line 2235: expected 4 fields, saw 6\\nSkipping line 2236: expected 4 fields, saw 6\\nSkipping line 2237: expected 4 fields, saw 6\\nSkipping line 2238: expected 4 fields, saw 6\\nSkipping line 2239: expected 4 fields, saw 6\\nSkipping line 2240: expected 4 fields, saw 6\\nSkipping line 2241: expected 4 fields, saw 6\\nSkipping line 2242: expected 4 fields, saw 6\\nSkipping line 2243: expected 4 fields, saw 6\\nSkipping line 2244: expected 4 fields, saw 6\\nSkipping line 2245: expected 4 fields, saw 6\\nSkipping line 2246: expected 4 fields, saw 6\\nSkipping line 2247: expected 4 fields, saw 6\\nSkipping line 2248: expected 4 fields, saw 6\\nSkipping line 2249: expected 4 fields, saw 6\\nSkipping line 2250: expected 4 fields, saw 6\\nSkipping line 2251: expected 4 fields, saw 6\\nSkipping line 2252: expected 4 fields, saw 6\\nSkipping line 2253: expected 4 fields, saw 6\\nSkipping line 2254: expected 4 fields, saw 6\\nSkipping line 2255: expected 4 fields, saw 6\\nSkipping line 2256: expected 4 fields, saw 6\\nSkipping line 2257: expected 4 fields, saw 6\\nSkipping line 2258: expected 4 fields, saw 6\\nSkipping line 2259: expected 4 fields, saw 6\\nSkipping line 2260: expected 4 fields, saw 6\\nSkipping line 2261: expected 4 fields, saw 6\\nSkipping line 2262: expected 4 fields, saw 6\\nSkipping line 2263: expected 4 fields, saw 6\\nSkipping line 2264: expected 4 fields, saw 6\\nSkipping line 2265: expected 4 fields, saw 6\\nSkipping line 2266: expected 4 fields, saw 6\\nSkipping line 2267: expected 4 fields, saw 6\\nSkipping line 2268: expected 4 fields, saw 6\\nSkipping line 2269: expected 4 fields, saw 6\\nSkipping line 2270: expected 4 fields, saw 6\\nSkipping line 2271: expected 4 fields, saw 6\\nSkipping line 2272: expected 4 fields, saw 6\\nSkipping line 2273: expected 4 fields, saw 6\\nSkipping line 2274: expected 4 fields, saw 6\\nSkipping line 2275: expected 4 fields, saw 6\\nSkipping line 2276: expected 4 fields, saw 6\\nSkipping line 2277: expected 4 fields, saw 6\\nSkipping line 2278: expected 4 fields, saw 6\\nSkipping line 2279: expected 4 fields, saw 6\\nSkipping line 2280: expected 4 fields, saw 6\\nSkipping line 2281: expected 4 fields, saw 6\\nSkipping line 2282: expected 4 fields, saw 6\\nSkipping line 2283: expected 4 fields, saw 6\\nSkipping line 2284: expected 4 fields, saw 6\\nSkipping line 2285: expected 4 fields, saw 6\\nSkipping line 2286: expected 4 fields, saw 6\\nSkipping line 2287: expected 4 fields, saw 6\\nSkipping line 2288: expected 4 fields, saw 6\\nSkipping line 2289: expected 4 fields, saw 6\\nSkipping line 2290: expected 4 fields, saw 6\\nSkipping line 2291: expected 4 fields, saw 6\\nSkipping line 2292: expected 4 fields, saw 6\\nSkipping line 2293: expected 4 fields, saw 6\\nSkipping line 2294: expected 4 fields, saw 6\\nSkipping line 2295: expected 4 fields, saw 6\\nSkipping line 2296: expected 4 fields, saw 6\\nSkipping line 2297: expected 4 fields, saw 6\\nSkipping line 2298: expected 4 fields, saw 6\\nSkipping line 2299: expected 4 fields, saw 6\\nSkipping line 2300: expected 4 fields, saw 6\\nSkipping line 2301: expected 4 fields, saw 6\\nSkipping line 2302: expected 4 fields, saw 6\\nSkipping line 2303: expected 4 fields, saw 6\\nSkipping line 2304: expected 4 fields, saw 6\\nSkipping line 2305: expected 4 fields, saw 6\\nSkipping line 2306: expected 4 fields, saw 6\\nSkipping line 2307: expected 4 fields, saw 6\\nSkipping line 2308: expected 4 fields, saw 6\\nSkipping line 2309: expected 4 fields, saw 6\\nSkipping line 2310: expected 4 fields, saw 6\\nSkipping line 2311: expected 4 fields, saw 6\\nSkipping line 2312: expected 4 fields, saw 6\\nSkipping line 2313: expected 4 fields, saw 6\\nSkipping line 2314: expected 4 fields, saw 6\\nSkipping line 2315: expected 4 fields, saw 6\\nSkipping line 2316: expected 4 fields, saw 6\\nSkipping line 2317: expected 4 fields, saw 6\\nSkipping line 2318: expected 4 fields, saw 6\\nSkipping line 2319: expected 4 fields, saw 6\\nSkipping line 2320: expected 4 fields, saw 6\\nSkipping line 2321: expected 4 fields, saw 6\\nSkipping line 2322: expected 4 fields, saw 6\\nSkipping line 2323: expected 4 fields, saw 6\\nSkipping line 2324: expected 4 fields, saw 6\\nSkipping line 2325: expected 4 fields, saw 6\\nSkipping line 2326: expected 4 fields, saw 6\\nSkipping line 2327: expected 4 fields, saw 6\\nSkipping line 2328: expected 4 fields, saw 6\\nSkipping line 2329: expected 4 fields, saw 6\\nSkipping line 2330: expected 4 fields, saw 6\\nSkipping line 2331: expected 4 fields, saw 6\\nSkipping line 2332: expected 4 fields, saw 6\\nSkipping line 2333: expected 4 fields, saw 6\\nSkipping line 2334: expected 4 fields, saw 6\\nSkipping line 2335: expected 4 fields, saw 6\\nSkipping line 2336: expected 4 fields, saw 6\\nSkipping line 2337: expected 4 fields, saw 6\\nSkipping line 2338: expected 4 fields, saw 6\\nSkipping line 2339: expected 4 fields, saw 6\\nSkipping line 2340: expected 4 fields, saw 6\\nSkipping line 2341: expected 4 fields, saw 6\\nSkipping line 2342: expected 4 fields, saw 6\\nSkipping line 2343: expected 4 fields, saw 6\\nSkipping line 2344: expected 4 fields, saw 6\\nSkipping line 2345: expected 4 fields, saw 6\\nSkipping line 2346: expected 4 fields, saw 6\\nSkipping line 2347: expected 4 fields, saw 6\\nSkipping line 2348: expected 4 fields, saw 6\\nSkipping line 2349: expected 4 fields, saw 6\\nSkipping line 2350: expected 4 fields, saw 6\\nSkipping line 2351: expected 4 fields, saw 6\\nSkipping line 2352: expected 4 fields, saw 6\\nSkipping line 2353: expected 4 fields, saw 6\\nSkipping line 2354: expected 4 fields, saw 6\\nSkipping line 2355: expected 4 fields, saw 6\\nSkipping line 2356: expected 4 fields, saw 6\\nSkipping line 2357: expected 4 fields, saw 6\\nSkipping line 2358: expected 4 fields, saw 6\\nSkipping line 2359: expected 4 fields, saw 6\\nSkipping line 2360: expected 4 fields, saw 6\\nSkipping line 2361: expected 4 fields, saw 6\\nSkipping line 2362: expected 4 fields, saw 6\\nSkipping line 2363: expected 4 fields, saw 6\\nSkipping line 2364: expected 4 fields, saw 6\\nSkipping line 2365: expected 4 fields, saw 6\\nSkipping line 2366: expected 4 fields, saw 6\\nSkipping line 2367: expected 4 fields, saw 6\\nSkipping line 2368: expected 4 fields, saw 6\\nSkipping line 2369: expected 4 fields, saw 6\\nSkipping line 2370: expected 4 fields, saw 6\\nSkipping line 2371: expected 4 fields, saw 6\\nSkipping line 2372: expected 4 fields, saw 6\\nSkipping line 2373: expected 4 fields, saw 6\\nSkipping line 2374: expected 4 fields, saw 6\\nSkipping line 2375: expected 4 fields, saw 6\\nSkipping line 2376: expected 4 fields, saw 6\\nSkipping line 2377: expected 4 fields, saw 6\\nSkipping line 2378: expected 4 fields, saw 6\\nSkipping line 2379: expected 4 fields, saw 6\\nSkipping line 2380: expected 4 fields, saw 6\\nSkipping line 2381: expected 4 fields, saw 6\\nSkipping line 2382: expected 4 fields, saw 6\\nSkipping line 2383: expected 4 fields, saw 6\\nSkipping line 2384: expected 4 fields, saw 6\\nSkipping line 2385: expected 4 fields, saw 6\\nSkipping line 2386: expected 4 fields, saw 6\\nSkipping line 2387: expected 4 fields, saw 6\\nSkipping line 2388: expected 4 fields, saw 6\\nSkipping line 2389: expected 4 fields, saw 6\\nSkipping line 2390: expected 4 fields, saw 6\\nSkipping line 2391: expected 4 fields, saw 6\\nSkipping line 2392: expected 4 fields, saw 6\\nSkipping line 2393: expected 4 fields, saw 6\\nSkipping line 2394: expected 4 fields, saw 6\\nSkipping line 2395: expected 4 fields, saw 6\\nSkipping line 2396: expected 4 fields, saw 6\\nSkipping line 2397: expected 4 fields, saw 6\\nSkipping line 2398: expected 4 fields, saw 6\\nSkipping line 2399: expected 4 fields, saw 6\\nSkipping line 2400: expected 4 fields, saw 6\\nSkipping line 2401: expected 4 fields, saw 6\\nSkipping line 2402: expected 4 fields, saw 6\\nSkipping line 2403: expected 4 fields, saw 6\\nSkipping line 2404: expected 4 fields, saw 6\\nSkipping line 2405: expected 4 fields, saw 6\\nSkipping line 2406: expected 4 fields, saw 6\\nSkipping line 2407: expected 4 fields, saw 6\\nSkipping line 2408: expected 4 fields, saw 6\\nSkipping line 2409: expected 4 fields, saw 6\\nSkipping line 2410: expected 4 fields, saw 6\\nSkipping line 2411: expected 4 fields, saw 6\\nSkipping line 2412: expected 4 fields, saw 6\\nSkipping line 2413: expected 4 fields, saw 6\\nSkipping line 2414: expected 4 fields, saw 6\\nSkipping line 2415: expected 4 fields, saw 6\\nSkipping line 2416: expected 4 fields, saw 6\\nSkipping line 2417: expected 4 fields, saw 6\\nSkipping line 2418: expected 4 fields, saw 6\\nSkipping line 2419: expected 4 fields, saw 6\\nSkipping line 2420: expected 4 fields, saw 6\\nSkipping line 2421: expected 4 fields, saw 6\\nSkipping line 2422: expected 4 fields, saw 6\\nSkipping line 2423: expected 4 fields, saw 6\\nSkipping line 2424: expected 4 fields, saw 6\\nSkipping line 2425: expected 4 fields, saw 6\\nSkipping line 2426: expected 4 fields, saw 6\\nSkipping line 2427: expected 4 fields, saw 6\\nSkipping line 2428: expected 4 fields, saw 6\\nSkipping line 2429: expected 4 fields, saw 6\\nSkipping line 2430: expected 4 fields, saw 6\\nSkipping line 2431: expected 4 fields, saw 6\\nSkipping line 2432: expected 4 fields, saw 6\\nSkipping line 2433: expected 4 fields, saw 6\\nSkipping line 2434: expected 4 fields, saw 6\\nSkipping line 2435: expected 4 fields, saw 6\\nSkipping line 2436: expected 4 fields, saw 6\\nSkipping line 2437: expected 4 fields, saw 6\\nSkipping line 2438: expected 4 fields, saw 6\\nSkipping line 2439: expected 4 fields, saw 6\\nSkipping line 2440: expected 4 fields, saw 6\\nSkipping line 2441: expected 4 fields, saw 6\\nSkipping line 2442: expected 4 fields, saw 6\\nSkipping line 2443: expected 4 fields, saw 6\\nSkipping line 2444: expected 4 fields, saw 6\\nSkipping line 2445: expected 4 fields, saw 6\\nSkipping line 2446: expected 4 fields, saw 6\\nSkipping line 2447: expected 4 fields, saw 6\\nSkipping line 2448: expected 4 fields, saw 6\\nSkipping line 2449: expected 4 fields, saw 6\\nSkipping line 2450: expected 4 fields, saw 6\\nSkipping line 2451: expected 4 fields, saw 6\\nSkipping line 2452: expected 4 fields, saw 6\\nSkipping line 2453: expected 4 fields, saw 6\\nSkipping line 2454: expected 4 fields, saw 6\\nSkipping line 2455: expected 4 fields, saw 6\\nSkipping line 2456: expected 4 fields, saw 6\\nSkipping line 2457: expected 4 fields, saw 6\\nSkipping line 2458: expected 4 fields, saw 6\\nSkipping line 2459: expected 4 fields, saw 6\\nSkipping line 2460: expected 4 fields, saw 6\\nSkipping line 2461: expected 4 fields, saw 6\\nSkipping line 2462: expected 4 fields, saw 6\\nSkipping line 2463: expected 4 fields, saw 6\\nSkipping line 2464: expected 4 fields, saw 6\\nSkipping line 2465: expected 4 fields, saw 6\\nSkipping line 2466: expected 4 fields, saw 6\\nSkipping line 2467: expected 4 fields, saw 6\\nSkipping line 2468: expected 4 fields, saw 6\\nSkipping line 2469: expected 4 fields, saw 6\\nSkipping line 2470: expected 4 fields, saw 6\\nSkipping line 2471: expected 4 fields, saw 6\\nSkipping line 2472: expected 4 fields, saw 6\\nSkipping line 2473: expected 4 fields, saw 6\\nSkipping line 2474: expected 4 fields, saw 6\\nSkipping line 2475: expected 4 fields, saw 6\\nSkipping line 2476: expected 4 fields, saw 6\\nSkipping line 2477: expected 4 fields, saw 6\\nSkipping line 2478: expected 4 fields, saw 6\\nSkipping line 2479: expected 4 fields, saw 6\\nSkipping line 2480: expected 4 fields, saw 6\\nSkipping line 2481: expected 4 fields, saw 6\\nSkipping line 2482: expected 4 fields, saw 6\\nSkipping line 2483: expected 4 fields, saw 6\\nSkipping line 2484: expected 4 fields, saw 6\\nSkipping line 2485: expected 4 fields, saw 6\\nSkipping line 2486: expected 4 fields, saw 6\\nSkipping line 2487: expected 4 fields, saw 6\\nSkipping line 2488: expected 4 fields, saw 6\\nSkipping line 2489: expected 4 fields, saw 6\\nSkipping line 2490: expected 4 fields, saw 6\\nSkipping line 2491: expected 4 fields, saw 6\\nSkipping line 2492: expected 4 fields, saw 6\\nSkipping line 2493: expected 4 fields, saw 6\\nSkipping line 2494: expected 4 fields, saw 6\\nSkipping line 2495: expected 4 fields, saw 6\\nSkipping line 2496: expected 4 fields, saw 6\\nSkipping line 2497: expected 4 fields, saw 6\\nSkipping line 2498: expected 4 fields, saw 6\\nSkipping line 2499: expected 4 fields, saw 6\\nSkipping line 2500: expected 4 fields, saw 6\\nSkipping line 2501: expected 4 fields, saw 6\\nSkipping line 2502: expected 4 fields, saw 6\\nSkipping line 2503: expected 4 fields, saw 6\\nSkipping line 2504: expected 4 fields, saw 6\\nSkipping line 2505: expected 4 fields, saw 6\\nSkipping line 2506: expected 4 fields, saw 6\\nSkipping line 2507: expected 4 fields, saw 6\\nSkipping line 2508: expected 4 fields, saw 6\\nSkipping line 2509: expected 4 fields, saw 6\\nSkipping line 2510: expected 4 fields, saw 6\\nSkipping line 2511: expected 4 fields, saw 6\\nSkipping line 2512: expected 4 fields, saw 6\\nSkipping line 2513: expected 4 fields, saw 6\\nSkipping line 2514: expected 4 fields, saw 6\\nSkipping line 2515: expected 4 fields, saw 6\\nSkipping line 2516: expected 4 fields, saw 6\\nSkipping line 2517: expected 4 fields, saw 6\\nSkipping line 2518: expected 4 fields, saw 6\\nSkipping line 2519: expected 4 fields, saw 6\\nSkipping line 2520: expected 4 fields, saw 6\\nSkipping line 2521: expected 4 fields, saw 6\\nSkipping line 2522: expected 4 fields, saw 6\\nSkipping line 2523: expected 4 fields, saw 6\\nSkipping line 2524: expected 4 fields, saw 6\\nSkipping line 2525: expected 4 fields, saw 6\\nSkipping line 2526: expected 4 fields, saw 6\\nSkipping line 2527: expected 4 fields, saw 6\\nSkipping line 2528: expected 4 fields, saw 6\\nSkipping line 2529: expected 4 fields, saw 6\\nSkipping line 2530: expected 4 fields, saw 6\\nSkipping line 2531: expected 4 fields, saw 6\\nSkipping line 2532: expected 4 fields, saw 6\\nSkipping line 2533: expected 4 fields, saw 6\\nSkipping line 2534: expected 4 fields, saw 6\\nSkipping line 2535: expected 4 fields, saw 6\\nSkipping line 2536: expected 4 fields, saw 6\\nSkipping line 2537: expected 4 fields, saw 6\\nSkipping line 2538: expected 4 fields, saw 6\\nSkipping line 2539: expected 4 fields, saw 6\\nSkipping line 2540: expected 4 fields, saw 6\\nSkipping line 2541: expected 4 fields, saw 6\\nSkipping line 2542: expected 4 fields, saw 6\\nSkipping line 2543: expected 4 fields, saw 6\\nSkipping line 2544: expected 4 fields, saw 6\\nSkipping line 2545: expected 4 fields, saw 6\\nSkipping line 2546: expected 4 fields, saw 6\\nSkipping line 2547: expected 4 fields, saw 6\\nSkipping line 2548: expected 4 fields, saw 6\\nSkipping line 2549: expected 4 fields, saw 6\\nSkipping line 2550: expected 4 fields, saw 6\\nSkipping line 2551: expected 4 fields, saw 6\\nSkipping line 2552: expected 4 fields, saw 6\\nSkipping line 2553: expected 4 fields, saw 6\\nSkipping line 2554: expected 4 fields, saw 6\\nSkipping line 2555: expected 4 fields, saw 6\\nSkipping line 2556: expected 4 fields, saw 6\\nSkipping line 2557: expected 4 fields, saw 6\\nSkipping line 2558: expected 4 fields, saw 6\\nSkipping line 2559: expected 4 fields, saw 6\\nSkipping line 2560: expected 4 fields, saw 6\\nSkipping line 2561: expected 4 fields, saw 6\\nSkipping line 2562: expected 4 fields, saw 6\\nSkipping line 2563: expected 4 fields, saw 6\\nSkipping line 2564: expected 4 fields, saw 6\\nSkipping line 2565: expected 4 fields, saw 6\\nSkipping line 2566: expected 4 fields, saw 6\\nSkipping line 2567: expected 4 fields, saw 6\\nSkipping line 2568: expected 4 fields, saw 6\\nSkipping line 2569: expected 4 fields, saw 6\\nSkipping line 2570: expected 4 fields, saw 6\\nSkipping line 2571: expected 4 fields, saw 6\\nSkipping line 2572: expected 4 fields, saw 6\\nSkipping line 2573: expected 4 fields, saw 6\\nSkipping line 2574: expected 4 fields, saw 6\\nSkipping line 2575: expected 4 fields, saw 6\\nSkipping line 2576: expected 4 fields, saw 6\\nSkipping line 2577: expected 4 fields, saw 6\\nSkipping line 2578: expected 4 fields, saw 6\\nSkipping line 2579: expected 4 fields, saw 6\\nSkipping line 2580: expected 4 fields, saw 6\\nSkipping line 2581: expected 4 fields, saw 6\\nSkipping line 2582: expected 4 fields, saw 6\\nSkipping line 2583: expected 4 fields, saw 6\\nSkipping line 2584: expected 4 fields, saw 6\\nSkipping line 2585: expected 4 fields, saw 6\\nSkipping line 2586: expected 4 fields, saw 6\\nSkipping line 2587: expected 4 fields, saw 6\\nSkipping line 2588: expected 4 fields, saw 6\\nSkipping line 2589: expected 4 fields, saw 6\\nSkipping line 2590: expected 4 fields, saw 6\\nSkipping line 2591: expected 4 fields, saw 6\\nSkipping line 2592: expected 4 fields, saw 6\\nSkipping line 2593: expected 4 fields, saw 6\\nSkipping line 2594: expected 4 fields, saw 6\\nSkipping line 2595: expected 4 fields, saw 6\\nSkipping line 2596: expected 4 fields, saw 6\\nSkipping line 2597: expected 4 fields, saw 6\\nSkipping line 2598: expected 4 fields, saw 6\\nSkipping line 2599: expected 4 fields, saw 6\\nSkipping line 2600: expected 4 fields, saw 6\\nSkipping line 2601: expected 4 fields, saw 6\\nSkipping line 2602: expected 4 fields, saw 6\\nSkipping line 2603: expected 4 fields, saw 6\\nSkipping line 2604: expected 4 fields, saw 6\\nSkipping line 2605: expected 4 fields, saw 6\\nSkipping line 2606: expected 4 fields, saw 6\\nSkipping line 2607: expected 4 fields, saw 6\\nSkipping line 2608: expected 4 fields, saw 6\\nSkipping line 2609: expected 4 fields, saw 6\\nSkipping line 2610: expected 4 fields, saw 6\\nSkipping line 2611: expected 4 fields, saw 6\\nSkipping line 2612: expected 4 fields, saw 6\\nSkipping line 2613: expected 4 fields, saw 6\\nSkipping line 2614: expected 4 fields, saw 6\\nSkipping line 2615: expected 4 fields, saw 6\\nSkipping line 2616: expected 4 fields, saw 6\\nSkipping line 2617: expected 4 fields, saw 6\\nSkipping line 2618: expected 4 fields, saw 6\\nSkipping line 2619: expected 4 fields, saw 6\\nSkipping line 2620: expected 4 fields, saw 6\\nSkipping line 2621: expected 4 fields, saw 6\\nSkipping line 2622: expected 4 fields, saw 6\\nSkipping line 2623: expected 4 fields, saw 6\\nSkipping line 2624: expected 4 fields, saw 6\\nSkipping line 2625: expected 4 fields, saw 6\\nSkipping line 2626: expected 4 fields, saw 6\\nSkipping line 2627: expected 4 fields, saw 6\\nSkipping line 2628: expected 4 fields, saw 6\\nSkipping line 2629: expected 4 fields, saw 6\\nSkipping line 2630: expected 4 fields, saw 6\\nSkipping line 2631: expected 4 fields, saw 6\\nSkipping line 2632: expected 4 fields, saw 6\\nSkipping line 2633: expected 4 fields, saw 6\\nSkipping line 2634: expected 4 fields, saw 6\\nSkipping line 2635: expected 4 fields, saw 6\\nSkipping line 2636: expected 4 fields, saw 6\\nSkipping line 2637: expected 4 fields, saw 6\\nSkipping line 2638: expected 4 fields, saw 6\\nSkipping line 2639: expected 4 fields, saw 6\\nSkipping line 2640: expected 4 fields, saw 6\\nSkipping line 2641: expected 4 fields, saw 6\\nSkipping line 2642: expected 4 fields, saw 6\\nSkipping line 2643: expected 4 fields, saw 6\\nSkipping line 2644: expected 4 fields, saw 6\\nSkipping line 2645: expected 4 fields, saw 6\\nSkipping line 2646: expected 4 fields, saw 6\\nSkipping line 2647: expected 4 fields, saw 6\\nSkipping line 2648: expected 4 fields, saw 6\\nSkipping line 2649: expected 4 fields, saw 6\\nSkipping line 2650: expected 4 fields, saw 6\\nSkipping line 2651: expected 4 fields, saw 6\\nSkipping line 2652: expected 4 fields, saw 6\\nSkipping line 2653: expected 4 fields, saw 6\\nSkipping line 2654: expected 4 fields, saw 6\\nSkipping line 2655: expected 4 fields, saw 6\\nSkipping line 2656: expected 4 fields, saw 6\\nSkipping line 2657: expected 4 fields, saw 6\\nSkipping line 2658: expected 4 fields, saw 6\\nSkipping line 2659: expected 4 fields, saw 6\\nSkipping line 2660: expected 4 fields, saw 6\\nSkipping line 2661: expected 4 fields, saw 6\\nSkipping line 2662: expected 4 fields, saw 6\\nSkipping line 2663: expected 4 fields, saw 6\\nSkipping line 2664: expected 4 fields, saw 6\\nSkipping line 2665: expected 4 fields, saw 6\\nSkipping line 2666: expected 4 fields, saw 6\\nSkipping line 2667: expected 4 fields, saw 6\\nSkipping line 2668: expected 4 fields, saw 6\\nSkipping line 2669: expected 4 fields, saw 6\\nSkipping line 2670: expected 4 fields, saw 6\\nSkipping line 2671: expected 4 fields, saw 6\\nSkipping line 2672: expected 4 fields, saw 6\\nSkipping line 2673: expected 4 fields, saw 6\\nSkipping line 2674: expected 4 fields, saw 6\\nSkipping line 2675: expected 4 fields, saw 6\\nSkipping line 2676: expected 4 fields, saw 6\\nSkipping line 2677: expected 4 fields, saw 6\\nSkipping line 2678: expected 4 fields, saw 6\\nSkipping line 2679: expected 4 fields, saw 6\\nSkipping line 2680: expected 4 fields, saw 6\\nSkipping line 2681: expected 4 fields, saw 6\\nSkipping line 2682: expected 4 fields, saw 6\\nSkipping line 2683: expected 4 fields, saw 6\\nSkipping line 2684: expected 4 fields, saw 6\\nSkipping line 2685: expected 4 fields, saw 6\\nSkipping line 2686: expected 4 fields, saw 6\\nSkipping line 2687: expected 4 fields, saw 6\\nSkipping line 2688: expected 4 fields, saw 6\\nSkipping line 2689: expected 4 fields, saw 6\\nSkipping line 2690: expected 4 fields, saw 6\\nSkipping line 2691: expected 4 fields, saw 6\\nSkipping line 2692: expected 4 fields, saw 6\\nSkipping line 2693: expected 4 fields, saw 6\\nSkipping line 2694: expected 4 fields, saw 6\\nSkipping line 2695: expected 4 fields, saw 6\\nSkipping line 2696: expected 4 fields, saw 6\\nSkipping line 2697: expected 4 fields, saw 6\\nSkipping line 2698: expected 4 fields, saw 6\\nSkipping line 2699: expected 4 fields, saw 6\\nSkipping line 2700: expected 4 fields, saw 6\\nSkipping line 2701: expected 4 fields, saw 6\\nSkipping line 2702: expected 4 fields, saw 6\\nSkipping line 2703: expected 4 fields, saw 6\\nSkipping line 2704: expected 4 fields, saw 6\\nSkipping line 2705: expected 4 fields, saw 6\\nSkipping line 2706: expected 4 fields, saw 6\\nSkipping line 2707: expected 4 fields, saw 6\\nSkipping line 2708: expected 4 fields, saw 6\\nSkipping line 2709: expected 4 fields, saw 6\\nSkipping line 2710: expected 4 fields, saw 6\\nSkipping line 2711: expected 4 fields, saw 6\\nSkipping line 2712: expected 4 fields, saw 6\\nSkipping line 2713: expected 4 fields, saw 6\\nSkipping line 2714: expected 4 fields, saw 6\\nSkipping line 2715: expected 4 fields, saw 6\\nSkipping line 2716: expected 4 fields, saw 6\\nSkipping line 2717: expected 4 fields, saw 6\\nSkipping line 2718: expected 4 fields, saw 6\\nSkipping line 2719: expected 4 fields, saw 6\\nSkipping line 2720: expected 4 fields, saw 6\\nSkipping line 2721: expected 4 fields, saw 6\\nSkipping line 2722: expected 4 fields, saw 6\\nSkipping line 2723: expected 4 fields, saw 6\\nSkipping line 2724: expected 4 fields, saw 6\\nSkipping line 2725: expected 4 fields, saw 6\\nSkipping line 2726: expected 4 fields, saw 6\\nSkipping line 2727: expected 4 fields, saw 6\\nSkipping line 2728: expected 4 fields, saw 6\\nSkipping line 2729: expected 4 fields, saw 6\\nSkipping line 2730: expected 4 fields, saw 6\\nSkipping line 2731: expected 4 fields, saw 6\\nSkipping line 2732: expected 4 fields, saw 6\\nSkipping line 2733: expected 4 fields, saw 6\\nSkipping line 2734: expected 4 fields, saw 6\\nSkipping line 2735: expected 4 fields, saw 6\\nSkipping line 2736: expected 4 fields, saw 6\\nSkipping line 2737: expected 4 fields, saw 6\\nSkipping line 2738: expected 4 fields, saw 6\\nSkipping line 2739: expected 4 fields, saw 6\\nSkipping line 2740: expected 4 fields, saw 6\\nSkipping line 2741: expected 4 fields, saw 6\\nSkipping line 2742: expected 4 fields, saw 6\\nSkipping line 2743: expected 4 fields, saw 6\\nSkipping line 2744: expected 4 fields, saw 6\\nSkipping line 2745: expected 4 fields, saw 6\\nSkipping line 2746: expected 4 fields, saw 6\\nSkipping line 2747: expected 4 fields, saw 6\\nSkipping line 2748: expected 4 fields, saw 6\\nSkipping line 2749: expected 4 fields, saw 6\\nSkipping line 2750: expected 4 fields, saw 6\\nSkipping line 2751: expected 4 fields, saw 6\\nSkipping line 2752: expected 4 fields, saw 6\\nSkipping line 2753: expected 4 fields, saw 6\\nSkipping line 2754: expected 4 fields, saw 6\\nSkipping line 2755: expected 4 fields, saw 6\\nSkipping line 2756: expected 4 fields, saw 6\\nSkipping line 2757: expected 4 fields, saw 6\\nSkipping line 2758: expected 4 fields, saw 6\\nSkipping line 2759: expected 4 fields, saw 6\\nSkipping line 2760: expected 4 fields, saw 6\\nSkipping line 2761: expected 4 fields, saw 6\\nSkipping line 2762: expected 4 fields, saw 6\\nSkipping line 2763: expected 4 fields, saw 6\\nSkipping line 2764: expected 4 fields, saw 6\\nSkipping line 2765: expected 4 fields, saw 6\\nSkipping line 2766: expected 4 fields, saw 6\\nSkipping line 2767: expected 4 fields, saw 6\\nSkipping line 2768: expected 4 fields, saw 6\\nSkipping line 2769: expected 4 fields, saw 6\\nSkipping line 2770: expected 4 fields, saw 6\\nSkipping line 2771: expected 4 fields, saw 6\\nSkipping line 2772: expected 4 fields, saw 6\\nSkipping line 2773: expected 4 fields, saw 6\\nSkipping line 2774: expected 4 fields, saw 6\\nSkipping line 2775: expected 4 fields, saw 6\\nSkipping line 2776: expected 4 fields, saw 6\\nSkipping line 2777: expected 4 fields, saw 6\\nSkipping line 2778: expected 4 fields, saw 6\\nSkipping line 2779: expected 4 fields, saw 6\\nSkipping line 2780: expected 4 fields, saw 6\\nSkipping line 2781: expected 4 fields, saw 6\\nSkipping line 2782: expected 4 fields, saw 6\\nSkipping line 2783: expected 4 fields, saw 6\\nSkipping line 2784: expected 4 fields, saw 6\\nSkipping line 2785: expected 4 fields, saw 6\\nSkipping line 2786: expected 4 fields, saw 6\\nSkipping line 2787: expected 4 fields, saw 6\\nSkipping line 2788: expected 4 fields, saw 6\\nSkipping line 2789: expected 4 fields, saw 6\\nSkipping line 2790: expected 4 fields, saw 6\\nSkipping line 2791: expected 4 fields, saw 6\\nSkipping line 2792: expected 4 fields, saw 6\\nSkipping line 2793: expected 4 fields, saw 6\\nSkipping line 2794: expected 4 fields, saw 6\\nSkipping line 2795: expected 4 fields, saw 6\\nSkipping line 2796: expected 4 fields, saw 6\\nSkipping line 2797: expected 4 fields, saw 6\\nSkipping line 2798: expected 4 fields, saw 6\\nSkipping line 2799: expected 4 fields, saw 6\\nSkipping line 2800: expected 4 fields, saw 6\\nSkipping line 2801: expected 4 fields, saw 6\\nSkipping line 2802: expected 4 fields, saw 6\\nSkipping line 2803: expected 4 fields, saw 6\\nSkipping line 2804: expected 4 fields, saw 6\\nSkipping line 2805: expected 4 fields, saw 6\\nSkipping line 2806: expected 4 fields, saw 6\\nSkipping line 2807: expected 4 fields, saw 6\\nSkipping line 2808: expected 4 fields, saw 6\\nSkipping line 2809: expected 4 fields, saw 6\\nSkipping line 2810: expected 4 fields, saw 6\\nSkipping line 2811: expected 4 fields, saw 6\\nSkipping line 2812: expected 4 fields, saw 6\\n'\n"
     ]
    },
    {
     "data": {
      "text/html": [
       "<div>\n",
       "<table border=\"1\" class=\"dataframe\">\n",
       "  <thead>\n",
       "    <tr style=\"text-align: right;\">\n",
       "      <th></th>\n",
       "      <th>ID</th>\n",
       "      <th>userID</th>\n",
       "      <th>IP</th>\n",
       "      <th>time</th>\n",
       "    </tr>\n",
       "  </thead>\n",
       "  <tbody>\n",
       "    <tr>\n",
       "      <th>0</th>\n",
       "      <td>1</td>\n",
       "      <td>4267</td>\n",
       "      <td>50.17.69.56</td>\n",
       "      <td>1379189986</td>\n",
       "    </tr>\n",
       "    <tr>\n",
       "      <th>1</th>\n",
       "      <td>2</td>\n",
       "      <td>4267</td>\n",
       "      <td>108.171.179.20</td>\n",
       "      <td>1379189986</td>\n",
       "    </tr>\n",
       "    <tr>\n",
       "      <th>2</th>\n",
       "      <td>3</td>\n",
       "      <td>4161</td>\n",
       "      <td>173.252.112.114</td>\n",
       "      <td>1379190000</td>\n",
       "    </tr>\n",
       "    <tr>\n",
       "      <th>3</th>\n",
       "      <td>4</td>\n",
       "      <td>777</td>\n",
       "      <td>87.98.151.104</td>\n",
       "      <td>1379203403</td>\n",
       "    </tr>\n",
       "    <tr>\n",
       "      <th>4</th>\n",
       "      <td>5</td>\n",
       "      <td>3478</td>\n",
       "      <td>173.252.100.116</td>\n",
       "      <td>1379209015</td>\n",
       "    </tr>\n",
       "    <tr>\n",
       "      <th>5</th>\n",
       "      <td>6</td>\n",
       "      <td>777</td>\n",
       "      <td>202.169.236.195</td>\n",
       "      <td>1379215442</td>\n",
       "    </tr>\n",
       "    <tr>\n",
       "      <th>6</th>\n",
       "      <td>7</td>\n",
       "      <td>777</td>\n",
       "      <td>66.249.66.20</td>\n",
       "      <td>1379226995</td>\n",
       "    </tr>\n",
       "    <tr>\n",
       "      <th>7</th>\n",
       "      <td>8</td>\n",
       "      <td>777</td>\n",
       "      <td>66.249.66.20</td>\n",
       "      <td>1379240913</td>\n",
       "    </tr>\n",
       "    <tr>\n",
       "      <th>8</th>\n",
       "      <td>9</td>\n",
       "      <td>3983</td>\n",
       "      <td>90.3.159.111</td>\n",
       "      <td>1379278795</td>\n",
       "    </tr>\n",
       "    <tr>\n",
       "      <th>9</th>\n",
       "      <td>10</td>\n",
       "      <td>777</td>\n",
       "      <td>46.118.113.33</td>\n",
       "      <td>1379290796</td>\n",
       "    </tr>\n",
       "  </tbody>\n",
       "</table>\n",
       "</div>"
      ],
      "text/plain": [
       "   ID  userID               IP        time\n",
       "0   1    4267      50.17.69.56  1379189986\n",
       "1   2    4267   108.171.179.20  1379189986\n",
       "2   3    4161  173.252.112.114  1379190000\n",
       "3   4     777    87.98.151.104  1379203403\n",
       "4   5    3478  173.252.100.116  1379209015\n",
       "5   6     777  202.169.236.195  1379215442\n",
       "6   7     777     66.249.66.20  1379226995\n",
       "7   8     777     66.249.66.20  1379240913\n",
       "8   9    3983     90.3.159.111  1379278795\n",
       "9  10     777    46.118.113.33  1379290796"
      ]
     },
     "execution_count": 31,
     "metadata": {},
     "output_type": "execute_result"
    }
   ],
   "source": [
    "tablename='logs'\n",
    "\n",
    "pd.read_csv(read_inserted_table(dumpfile, tablename),delimiter=\",\",error_bad_lines=False).head(10)"
   ]
  },
  {
   "cell_type": "markdown",
   "metadata": {
    "deletable": true,
    "editable": true
   },
   "source": [
    "#### Q1: Is this table different from other previous loaded table? YES \n",
    "#### Q2: Is this table similar to any table in the generic Booter database schema? YES\n",
    "    - This table looks like: logins\n",
    "#### Q3: Are there modifications required? \n",
    "    - On the table name: \n",
    "        o iplogs -> logins\n",
    "    - On the column type: \n",
    "        o date -> timestamp2datetime()\n",
    "    - On the column name:\n",
    "        o ID -> id\n",
    "        o userID -> userid\n",
    "        o logged -> userip\n",
    "        \n",
    "    - Add required columns:\n",
    "        o username \n",
    "   - Split columns:\n",
    "        o "
   ]
  },
  {
   "cell_type": "markdown",
   "metadata": {
    "deletable": true,
    "editable": true
   },
   "source": [
    "### Modifying table: 'logs'"
   ]
  },
  {
   "cell_type": "code",
   "execution_count": 28,
   "metadata": {
    "collapsed": false,
    "deletable": true,
    "editable": true
   },
   "outputs": [
    {
     "data": {
      "text/html": [
       "<div>\n",
       "<table border=\"1\" class=\"dataframe\">\n",
       "  <thead>\n",
       "    <tr style=\"text-align: right;\">\n",
       "      <th></th>\n",
       "      <th>id</th>\n",
       "      <th>userid</th>\n",
       "      <th>userip</th>\n",
       "      <th>date</th>\n",
       "      <th>username</th>\n",
       "    </tr>\n",
       "  </thead>\n",
       "  <tbody>\n",
       "    <tr>\n",
       "      <th>0</th>\n",
       "      <td>110</td>\n",
       "      <td>169</td>\n",
       "      <td>99.228.120.154</td>\n",
       "      <td>2012-08-01 12:47:46</td>\n",
       "      <td>NaN</td>\n",
       "    </tr>\n",
       "    <tr>\n",
       "      <th>1</th>\n",
       "      <td>3</td>\n",
       "      <td>17</td>\n",
       "      <td>82.19.49.66</td>\n",
       "      <td>2012-07-26 19:21:16</td>\n",
       "      <td>NaN</td>\n",
       "    </tr>\n",
       "    <tr>\n",
       "      <th>2</th>\n",
       "      <td>643</td>\n",
       "      <td>123</td>\n",
       "      <td>66.249.85.58</td>\n",
       "      <td>2012-12-12 22:42:02</td>\n",
       "      <td>NaN</td>\n",
       "    </tr>\n",
       "    <tr>\n",
       "      <th>3</th>\n",
       "      <td>109</td>\n",
       "      <td>169</td>\n",
       "      <td>97.112.157.117</td>\n",
       "      <td>2012-08-01 12:43:55</td>\n",
       "      <td>NaN</td>\n",
       "    </tr>\n",
       "    <tr>\n",
       "      <th>4</th>\n",
       "      <td>108</td>\n",
       "      <td>169</td>\n",
       "      <td>98.127.42.196</td>\n",
       "      <td>2012-08-01 12:41:09</td>\n",
       "      <td>NaN</td>\n",
       "    </tr>\n",
       "    <tr>\n",
       "      <th>5</th>\n",
       "      <td>12</td>\n",
       "      <td>62</td>\n",
       "      <td>90.184.187.69</td>\n",
       "      <td>2012-07-28 12:00:25</td>\n",
       "      <td>NaN</td>\n",
       "    </tr>\n",
       "    <tr>\n",
       "      <th>6</th>\n",
       "      <td>13</td>\n",
       "      <td>62</td>\n",
       "      <td>62.107.45.66</td>\n",
       "      <td>2012-07-28 13:24:20</td>\n",
       "      <td>NaN</td>\n",
       "    </tr>\n",
       "    <tr>\n",
       "      <th>7</th>\n",
       "      <td>14</td>\n",
       "      <td>62</td>\n",
       "      <td>90.184.187.69</td>\n",
       "      <td>2012-07-28 18:59:18</td>\n",
       "      <td>NaN</td>\n",
       "    </tr>\n",
       "    <tr>\n",
       "      <th>8</th>\n",
       "      <td>15</td>\n",
       "      <td>62</td>\n",
       "      <td>90.184.187.69</td>\n",
       "      <td>2012-07-28 18:59:37</td>\n",
       "      <td>NaN</td>\n",
       "    </tr>\n",
       "    <tr>\n",
       "      <th>9</th>\n",
       "      <td>16</td>\n",
       "      <td>62</td>\n",
       "      <td>62.107.45.66</td>\n",
       "      <td>2012-07-28 19:18:27</td>\n",
       "      <td>NaN</td>\n",
       "    </tr>\n",
       "  </tbody>\n",
       "</table>\n",
       "</div>"
      ],
      "text/plain": [
       "    id  userid          userip                date  username\n",
       "0  110     169  99.228.120.154 2012-08-01 12:47:46       NaN\n",
       "1    3      17     82.19.49.66 2012-07-26 19:21:16       NaN\n",
       "2  643     123    66.249.85.58 2012-12-12 22:42:02       NaN\n",
       "3  109     169  97.112.157.117 2012-08-01 12:43:55       NaN\n",
       "4  108     169   98.127.42.196 2012-08-01 12:41:09       NaN\n",
       "5   12      62   90.184.187.69 2012-07-28 12:00:25       NaN\n",
       "6   13      62    62.107.45.66 2012-07-28 13:24:20       NaN\n",
       "7   14      62   90.184.187.69 2012-07-28 18:59:18       NaN\n",
       "8   15      62   90.184.187.69 2012-07-28 18:59:37       NaN\n",
       "9   16      62    62.107.45.66 2012-07-28 19:18:27       NaN"
      ]
     },
     "execution_count": 28,
     "metadata": {},
     "output_type": "execute_result"
    }
   ],
   "source": [
    "# Loading the correct table name\n",
    "df_logins = pd.read_csv(read_inserted_table(dumpfile, tablename),delimiter=\",\",error_bad_lines=False)\n",
    "\n",
    "# Converting columns\n",
    "df_logins['date']=timestamp2datetime(df_logins['date'])\n",
    "\n",
    "# Changing column names\n",
    "df_logins.rename(inplace=True, columns={'ID':'id',\n",
    "                                        'userID':'userid',\n",
    "                                        'logged':'userip'})\n",
    "# Adding missing columns\n",
    "df_logins['username']=np.nan\n",
    "\n",
    "# Showing some lines after adapt the table\n",
    "df_logins.head(10)"
   ]
  },
  {
   "cell_type": "markdown",
   "metadata": {
    "deletable": true,
    "editable": true
   },
   "source": [
    "## 6.5. Table: 'months'"
   ]
  },
  {
   "cell_type": "markdown",
   "metadata": {
    "deletable": true,
    "editable": true
   },
   "source": [
    "### How this table looks like without modification?"
   ]
  },
  {
   "cell_type": "code",
   "execution_count": 32,
   "metadata": {
    "collapsed": false,
    "deletable": true,
    "editable": true
   },
   "outputs": [
    {
     "data": {
      "text/html": [
       "<div>\n",
       "<table border=\"1\" class=\"dataframe\">\n",
       "  <thead>\n",
       "    <tr style=\"text-align: right;\">\n",
       "      <th></th>\n",
       "      <th>ID</th>\n",
       "      <th>name</th>\n",
       "      <th>description</th>\n",
       "      <th>mbt</th>\n",
       "      <th>unit</th>\n",
       "      <th>length</th>\n",
       "      <th>price</th>\n",
       "    </tr>\n",
       "  </thead>\n",
       "  <tbody>\n",
       "    <tr>\n",
       "      <th>0</th>\n",
       "      <td>108</td>\n",
       "      <td>Ultimate Pack 2</td>\n",
       "      <td>5600</td>\n",
       "      <td>5600</td>\n",
       "      <td>Months</td>\n",
       "      <td>1</td>\n",
       "      <td>53</td>\n",
       "    </tr>\n",
       "    <tr>\n",
       "      <th>1</th>\n",
       "      <td>107</td>\n",
       "      <td>MemberShip Pack</td>\n",
       "      <td>3600</td>\n",
       "      <td>3600</td>\n",
       "      <td>Months</td>\n",
       "      <td>1</td>\n",
       "      <td>38</td>\n",
       "    </tr>\n",
       "    <tr>\n",
       "      <th>2</th>\n",
       "      <td>106</td>\n",
       "      <td>Ultimate Pack</td>\n",
       "      <td>Pack</td>\n",
       "      <td>2400</td>\n",
       "      <td>Days</td>\n",
       "      <td>1</td>\n",
       "      <td>32</td>\n",
       "    </tr>\n",
       "    <tr>\n",
       "      <th>3</th>\n",
       "      <td>105</td>\n",
       "      <td>Blue Pack</td>\n",
       "      <td>1800</td>\n",
       "      <td>1800</td>\n",
       "      <td>Months</td>\n",
       "      <td>1</td>\n",
       "      <td>26</td>\n",
       "    </tr>\n",
       "    <tr>\n",
       "      <th>4</th>\n",
       "      <td>104</td>\n",
       "      <td>Red Pack</td>\n",
       "      <td>1200</td>\n",
       "      <td>1200</td>\n",
       "      <td>Months</td>\n",
       "      <td>1</td>\n",
       "      <td>18</td>\n",
       "    </tr>\n",
       "    <tr>\n",
       "      <th>5</th>\n",
       "      <td>103</td>\n",
       "      <td>Yellow Pack</td>\n",
       "      <td>900</td>\n",
       "      <td>900</td>\n",
       "      <td>Months</td>\n",
       "      <td>1</td>\n",
       "      <td>12</td>\n",
       "    </tr>\n",
       "    <tr>\n",
       "      <th>6</th>\n",
       "      <td>102</td>\n",
       "      <td>Green Pack</td>\n",
       "      <td>600</td>\n",
       "      <td>600</td>\n",
       "      <td>Months</td>\n",
       "      <td>1</td>\n",
       "      <td>6</td>\n",
       "    </tr>\n",
       "    <tr>\n",
       "      <th>7</th>\n",
       "      <td>101</td>\n",
       "      <td>Silver Pack</td>\n",
       "      <td>120</td>\n",
       "      <td>300</td>\n",
       "      <td>Months</td>\n",
       "      <td>1</td>\n",
       "      <td>3</td>\n",
       "    </tr>\n",
       "  </tbody>\n",
       "</table>\n",
       "</div>"
      ],
      "text/plain": [
       "    ID             name description   mbt    unit  length  price\n",
       "0  108  Ultimate Pack 2        5600  5600  Months       1     53\n",
       "1  107  MemberShip Pack        3600  3600  Months       1     38\n",
       "2  106    Ultimate Pack        Pack  2400    Days       1     32\n",
       "3  105        Blue Pack        1800  1800  Months       1     26\n",
       "4  104         Red Pack        1200  1200  Months       1     18\n",
       "5  103      Yellow Pack         900   900  Months       1     12\n",
       "6  102       Green Pack         600   600  Months       1      6\n",
       "7  101      Silver Pack         120   300  Months       1      3"
      ]
     },
     "execution_count": 32,
     "metadata": {},
     "output_type": "execute_result"
    }
   ],
   "source": [
    "tablename='months'\n",
    "\n",
    "pd.read_csv(read_inserted_table(dumpfile, tablename),delimiter=\",\",error_bad_lines=False).head(10)"
   ]
  },
  {
   "cell_type": "markdown",
   "metadata": {
    "deletable": true,
    "editable": true
   },
   "source": [
    "#### Q1: Is this table different from other previous loaded table? YES \n",
    "#### Q2: Is this table similar to any table in the generic Booter database schema? YES\n",
    "    - This table looks like: plans\n",
    "#### Q3: Are there modifications required? \n",
    "    - On the table name: \n",
    "        o \n",
    "    - On the column type: \n",
    "        o \n",
    "    - On the column name:\n",
    "        o ID -> planid\n",
    "        o name -> planname\n",
    "        o description -> plandescr\n",
    "        o mbt -> maxboottime\n",
    "        \n",
    "    - Add required columns:\n",
    "        o concurrecy\n",
    "    - Split columns:\n",
    "        o "
   ]
  },
  {
   "cell_type": "markdown",
   "metadata": {
    "deletable": true,
    "editable": true
   },
   "source": [
    "### Modifying table: 'months'"
   ]
  },
  {
   "cell_type": "code",
   "execution_count": 35,
   "metadata": {
    "collapsed": false,
    "deletable": true,
    "editable": true
   },
   "outputs": [
    {
     "data": {
      "text/html": [
       "<div>\n",
       "<table border=\"1\" class=\"dataframe\">\n",
       "  <thead>\n",
       "    <tr style=\"text-align: right;\">\n",
       "      <th></th>\n",
       "      <th>planid</th>\n",
       "      <th>name</th>\n",
       "      <th>description</th>\n",
       "      <th>mbt</th>\n",
       "      <th>unit</th>\n",
       "      <th>length</th>\n",
       "      <th>price</th>\n",
       "      <th>concurrency</th>\n",
       "    </tr>\n",
       "  </thead>\n",
       "  <tbody>\n",
       "    <tr>\n",
       "      <th>0</th>\n",
       "      <td>108</td>\n",
       "      <td>Ultimate Pack 2</td>\n",
       "      <td>5600</td>\n",
       "      <td>5600</td>\n",
       "      <td>Months</td>\n",
       "      <td>1</td>\n",
       "      <td>53</td>\n",
       "      <td>NaN</td>\n",
       "    </tr>\n",
       "    <tr>\n",
       "      <th>1</th>\n",
       "      <td>107</td>\n",
       "      <td>MemberShip Pack</td>\n",
       "      <td>3600</td>\n",
       "      <td>3600</td>\n",
       "      <td>Months</td>\n",
       "      <td>1</td>\n",
       "      <td>38</td>\n",
       "      <td>NaN</td>\n",
       "    </tr>\n",
       "    <tr>\n",
       "      <th>2</th>\n",
       "      <td>106</td>\n",
       "      <td>Ultimate Pack</td>\n",
       "      <td>Pack</td>\n",
       "      <td>2400</td>\n",
       "      <td>Days</td>\n",
       "      <td>1</td>\n",
       "      <td>32</td>\n",
       "      <td>NaN</td>\n",
       "    </tr>\n",
       "    <tr>\n",
       "      <th>3</th>\n",
       "      <td>105</td>\n",
       "      <td>Blue Pack</td>\n",
       "      <td>1800</td>\n",
       "      <td>1800</td>\n",
       "      <td>Months</td>\n",
       "      <td>1</td>\n",
       "      <td>26</td>\n",
       "      <td>NaN</td>\n",
       "    </tr>\n",
       "    <tr>\n",
       "      <th>4</th>\n",
       "      <td>104</td>\n",
       "      <td>Red Pack</td>\n",
       "      <td>1200</td>\n",
       "      <td>1200</td>\n",
       "      <td>Months</td>\n",
       "      <td>1</td>\n",
       "      <td>18</td>\n",
       "      <td>NaN</td>\n",
       "    </tr>\n",
       "    <tr>\n",
       "      <th>5</th>\n",
       "      <td>103</td>\n",
       "      <td>Yellow Pack</td>\n",
       "      <td>900</td>\n",
       "      <td>900</td>\n",
       "      <td>Months</td>\n",
       "      <td>1</td>\n",
       "      <td>12</td>\n",
       "      <td>NaN</td>\n",
       "    </tr>\n",
       "    <tr>\n",
       "      <th>6</th>\n",
       "      <td>102</td>\n",
       "      <td>Green Pack</td>\n",
       "      <td>600</td>\n",
       "      <td>600</td>\n",
       "      <td>Months</td>\n",
       "      <td>1</td>\n",
       "      <td>6</td>\n",
       "      <td>NaN</td>\n",
       "    </tr>\n",
       "    <tr>\n",
       "      <th>7</th>\n",
       "      <td>101</td>\n",
       "      <td>Silver Pack</td>\n",
       "      <td>120</td>\n",
       "      <td>300</td>\n",
       "      <td>Months</td>\n",
       "      <td>1</td>\n",
       "      <td>3</td>\n",
       "      <td>NaN</td>\n",
       "    </tr>\n",
       "  </tbody>\n",
       "</table>\n",
       "</div>"
      ],
      "text/plain": [
       "   planid             name description   mbt    unit  length  price  \\\n",
       "0     108  Ultimate Pack 2        5600  5600  Months       1     53   \n",
       "1     107  MemberShip Pack        3600  3600  Months       1     38   \n",
       "2     106    Ultimate Pack        Pack  2400    Days       1     32   \n",
       "3     105        Blue Pack        1800  1800  Months       1     26   \n",
       "4     104         Red Pack        1200  1200  Months       1     18   \n",
       "5     103      Yellow Pack         900   900  Months       1     12   \n",
       "6     102       Green Pack         600   600  Months       1      6   \n",
       "7     101      Silver Pack         120   300  Months       1      3   \n",
       "\n",
       "   concurrency  \n",
       "0          NaN  \n",
       "1          NaN  \n",
       "2          NaN  \n",
       "3          NaN  \n",
       "4          NaN  \n",
       "5          NaN  \n",
       "6          NaN  \n",
       "7          NaN  "
      ]
     },
     "execution_count": 35,
     "metadata": {},
     "output_type": "execute_result"
    }
   ],
   "source": [
    "# Loading the correct table name\n",
    "df_plans = pd.read_csv(read_inserted_table(dumpfile, tablename),delimiter=\",\",error_bad_lines=False)\n",
    "\n",
    "# Converting columns\n",
    "\n",
    "# Changing names of columns\n",
    "df_plans.rename(inplace=True, columns={'ID':'planid',\n",
    "                                      ' name': 'planname',\n",
    "                                      ' description': ' plandescr',\n",
    "                                      ' mbt':' maxboottime'})\n",
    "\n",
    "# Creating empty columns (with \"\" [for future string] or np.nan [for future float])\n",
    "df_plans['concurrency']=np.nan\n",
    "\n",
    "# Showing some lines after adapt the table\n",
    "df_plans.head(10)"
   ]
  },
  {
   "cell_type": "markdown",
   "metadata": {
    "deletable": true,
    "editable": true
   },
   "source": [
    "## 6.6. Table: 'news'"
   ]
  },
  {
   "cell_type": "markdown",
   "metadata": {
    "deletable": true,
    "editable": true
   },
   "source": [
    "### How this table looks like without modification?"
   ]
  },
  {
   "cell_type": "code",
   "execution_count": 36,
   "metadata": {
    "collapsed": false,
    "deletable": true,
    "editable": true
   },
   "outputs": [
    {
     "data": {
      "text/html": [
       "<div>\n",
       "<table border=\"1\" class=\"dataframe\">\n",
       "  <thead>\n",
       "    <tr style=\"text-align: right;\">\n",
       "      <th></th>\n",
       "      <th>ID</th>\n",
       "      <th>title</th>\n",
       "      <th>detail</th>\n",
       "      <th>date</th>\n",
       "    </tr>\n",
       "  </thead>\n",
       "  <tbody>\n",
       "    <tr>\n",
       "      <th>0</th>\n",
       "      <td>37</td>\n",
       "      <td>NS</td>\n",
       "      <td>Hello NationalStresser is now the rotation ser...</td>\n",
       "      <td>1379588490</td>\n",
       "    </tr>\n",
       "  </tbody>\n",
       "</table>\n",
       "</div>"
      ],
      "text/plain": [
       "   ID title                                             detail        date\n",
       "0  37    NS  Hello NationalStresser is now the rotation ser...  1379588490"
      ]
     },
     "execution_count": 36,
     "metadata": {},
     "output_type": "execute_result"
    }
   ],
   "source": [
    "tablename='news'\n",
    "\n",
    "pd.read_csv(read_inserted_table(dumpfile, tablename),delimiter=\",\",error_bad_lines=False).head(10)"
   ]
  },
  {
   "cell_type": "markdown",
   "metadata": {
    "deletable": true,
    "editable": true
   },
   "source": [
    "#### Q1: Is this table different from other previous loaded table? YES \n",
    "#### Q2: Is this table similar to any table in the generic Booter database schema? NO\n",
    "    - This table looks like: \n",
    "#### Q3: Are there modifications required? \n",
    "    - On the table name: \n",
    "        o \n",
    "    - On the column type: \n",
    "        o \n",
    "    - On the column name:\n",
    "        o \n",
    "    - Add required columns:\n",
    "        o \n",
    "    - Split columns:\n",
    "        o "
   ]
  },
  {
   "cell_type": "markdown",
   "metadata": {
    "deletable": true,
    "editable": true
   },
   "source": [
    "## 6.7. Table: 'payments'"
   ]
  },
  {
   "cell_type": "markdown",
   "metadata": {
    "deletable": true,
    "editable": true
   },
   "source": [
    "### How this table looks like without modification?"
   ]
  },
  {
   "cell_type": "code",
   "execution_count": 37,
   "metadata": {
    "collapsed": false,
    "deletable": true,
    "editable": true
   },
   "outputs": [
    {
     "data": {
      "text/html": [
       "<div>\n",
       "<table border=\"1\" class=\"dataframe\">\n",
       "  <thead>\n",
       "    <tr style=\"text-align: right;\">\n",
       "      <th></th>\n",
       "      <th>ID</th>\n",
       "      <th>paid</th>\n",
       "      <th>plan</th>\n",
       "      <th>user</th>\n",
       "      <th>email</th>\n",
       "      <th>tid</th>\n",
       "      <th>date</th>\n",
       "    </tr>\n",
       "  </thead>\n",
       "  <tbody>\n",
       "    <tr>\n",
       "      <th>0</th>\n",
       "      <td>1</td>\n",
       "      <td>15</td>\n",
       "      <td>31</td>\n",
       "      <td>194</td>\n",
       "      <td>kevin.benaroche@hotmail.fr</td>\n",
       "      <td>11W69868WX2888303</td>\n",
       "      <td>1354389662</td>\n",
       "    </tr>\n",
       "    <tr>\n",
       "      <th>1</th>\n",
       "      <td>2</td>\n",
       "      <td>3</td>\n",
       "      <td>38</td>\n",
       "      <td>497</td>\n",
       "      <td>mikedelija@gmail.com</td>\n",
       "      <td>9B578750YB669902P</td>\n",
       "      <td>1354421172</td>\n",
       "    </tr>\n",
       "    <tr>\n",
       "      <th>2</th>\n",
       "      <td>3</td>\n",
       "      <td>3</td>\n",
       "      <td>38</td>\n",
       "      <td>498</td>\n",
       "      <td>lisburbage@blueyonder.co.uk</td>\n",
       "      <td>6X266797TH430374M</td>\n",
       "      <td>1354466613</td>\n",
       "    </tr>\n",
       "    <tr>\n",
       "      <th>3</th>\n",
       "      <td>4</td>\n",
       "      <td>3</td>\n",
       "      <td>38</td>\n",
       "      <td>213</td>\n",
       "      <td>boolastar2@hotmail.fr</td>\n",
       "      <td>4SP87033JK2354245</td>\n",
       "      <td>1354481462</td>\n",
       "    </tr>\n",
       "    <tr>\n",
       "      <th>4</th>\n",
       "      <td>5</td>\n",
       "      <td>15</td>\n",
       "      <td>31</td>\n",
       "      <td>502</td>\n",
       "      <td>sunilmeboss1@yahoo.com</td>\n",
       "      <td>3RV205149P7488819</td>\n",
       "      <td>1354485493</td>\n",
       "    </tr>\n",
       "    <tr>\n",
       "      <th>5</th>\n",
       "      <td>6</td>\n",
       "      <td>30</td>\n",
       "      <td>33</td>\n",
       "      <td>503</td>\n",
       "      <td>youngminecrafter@live.com</td>\n",
       "      <td>7456208460098734Y</td>\n",
       "      <td>1354486827</td>\n",
       "    </tr>\n",
       "    <tr>\n",
       "      <th>6</th>\n",
       "      <td>7</td>\n",
       "      <td>15</td>\n",
       "      <td>31</td>\n",
       "      <td>482</td>\n",
       "      <td>hassell.w@gmail.com</td>\n",
       "      <td>05373516BM892900W</td>\n",
       "      <td>1354487180</td>\n",
       "    </tr>\n",
       "    <tr>\n",
       "      <th>7</th>\n",
       "      <td>8</td>\n",
       "      <td>3</td>\n",
       "      <td>38</td>\n",
       "      <td>500</td>\n",
       "      <td>oleandreas.98@hotmail.com</td>\n",
       "      <td>6XS1683572882372T</td>\n",
       "      <td>1354488792</td>\n",
       "    </tr>\n",
       "    <tr>\n",
       "      <th>8</th>\n",
       "      <td>9</td>\n",
       "      <td>3</td>\n",
       "      <td>38</td>\n",
       "      <td>513</td>\n",
       "      <td>michaelflamini6155@hotmail.fr</td>\n",
       "      <td>4FM57049D9988614Y</td>\n",
       "      <td>1354515469</td>\n",
       "    </tr>\n",
       "    <tr>\n",
       "      <th>9</th>\n",
       "      <td>10</td>\n",
       "      <td>3</td>\n",
       "      <td>38</td>\n",
       "      <td>518</td>\n",
       "      <td>mark3526200@gmail.com</td>\n",
       "      <td>5X405403U9429834F</td>\n",
       "      <td>1354556304</td>\n",
       "    </tr>\n",
       "  </tbody>\n",
       "</table>\n",
       "</div>"
      ],
      "text/plain": [
       "   ID  paid  plan  user                          email                tid  \\\n",
       "0   1    15    31   194     kevin.benaroche@hotmail.fr  11W69868WX2888303   \n",
       "1   2     3    38   497           mikedelija@gmail.com  9B578750YB669902P   \n",
       "2   3     3    38   498    lisburbage@blueyonder.co.uk  6X266797TH430374M   \n",
       "3   4     3    38   213          boolastar2@hotmail.fr  4SP87033JK2354245   \n",
       "4   5    15    31   502         sunilmeboss1@yahoo.com  3RV205149P7488819   \n",
       "5   6    30    33   503      youngminecrafter@live.com  7456208460098734Y   \n",
       "6   7    15    31   482            hassell.w@gmail.com  05373516BM892900W   \n",
       "7   8     3    38   500      oleandreas.98@hotmail.com  6XS1683572882372T   \n",
       "8   9     3    38   513  michaelflamini6155@hotmail.fr  4FM57049D9988614Y   \n",
       "9  10     3    38   518          mark3526200@gmail.com  5X405403U9429834F   \n",
       "\n",
       "         date  \n",
       "0  1354389662  \n",
       "1  1354421172  \n",
       "2  1354466613  \n",
       "3  1354481462  \n",
       "4  1354485493  \n",
       "5  1354486827  \n",
       "6  1354487180  \n",
       "7  1354488792  \n",
       "8  1354515469  \n",
       "9  1354556304  "
      ]
     },
     "execution_count": 37,
     "metadata": {},
     "output_type": "execute_result"
    }
   ],
   "source": [
    "tablename='payments'\n",
    "\n",
    "pd.read_csv(read_inserted_table(dumpfile, tablename),delimiter=\",\",error_bad_lines=False).head(10)"
   ]
  },
  {
   "cell_type": "markdown",
   "metadata": {
    "deletable": true,
    "editable": true
   },
   "source": [
    "#### Q1: Is this table different from other previous loaded table? YES \n",
    "#### Q2: Is this table similar to any table in the generic Booter database schema? YES \n",
    "    - This table looks like: payments\n",
    "#### Q3: Are there modifications required? \n",
    "    - On the table name: \n",
    "        o \n",
    "    - On the column type: \n",
    "        o date -> timestamp2datetime()\n",
    "    - On the column name:\n",
    "        o ID -> id\n",
    "        o paid -> amountpaid\n",
    "        o plan ->planid\n",
    "        o user -> userid\n",
    "        o email -> paymentemail\n",
    "        \n",
    "    - Add required columns:\n",
    "        o username\n",
    "    - Split columns:\n",
    "        o "
   ]
  },
  {
   "cell_type": "markdown",
   "metadata": {
    "deletable": true,
    "editable": true
   },
   "source": [
    "### Modifying table: 'payments'"
   ]
  },
  {
   "cell_type": "code",
   "execution_count": 38,
   "metadata": {
    "collapsed": false,
    "deletable": true,
    "editable": true
   },
   "outputs": [
    {
     "data": {
      "text/html": [
       "<div>\n",
       "<table border=\"1\" class=\"dataframe\">\n",
       "  <thead>\n",
       "    <tr style=\"text-align: right;\">\n",
       "      <th></th>\n",
       "      <th>id</th>\n",
       "      <th>amount</th>\n",
       "      <th>planid</th>\n",
       "      <th>userid</th>\n",
       "      <th>paymentemail</th>\n",
       "      <th>tid</th>\n",
       "      <th>date</th>\n",
       "      <th>username</th>\n",
       "    </tr>\n",
       "  </thead>\n",
       "  <tbody>\n",
       "    <tr>\n",
       "      <th>0</th>\n",
       "      <td>1</td>\n",
       "      <td>15</td>\n",
       "      <td>31</td>\n",
       "      <td>194</td>\n",
       "      <td>kevin.benaroche@hotmail.fr</td>\n",
       "      <td>11W69868WX2888303</td>\n",
       "      <td>2012-12-01 19:21:02</td>\n",
       "      <td>NaN</td>\n",
       "    </tr>\n",
       "    <tr>\n",
       "      <th>1</th>\n",
       "      <td>2</td>\n",
       "      <td>3</td>\n",
       "      <td>38</td>\n",
       "      <td>497</td>\n",
       "      <td>mikedelija@gmail.com</td>\n",
       "      <td>9B578750YB669902P</td>\n",
       "      <td>2012-12-02 04:06:12</td>\n",
       "      <td>NaN</td>\n",
       "    </tr>\n",
       "    <tr>\n",
       "      <th>2</th>\n",
       "      <td>3</td>\n",
       "      <td>3</td>\n",
       "      <td>38</td>\n",
       "      <td>498</td>\n",
       "      <td>lisburbage@blueyonder.co.uk</td>\n",
       "      <td>6X266797TH430374M</td>\n",
       "      <td>2012-12-02 16:43:33</td>\n",
       "      <td>NaN</td>\n",
       "    </tr>\n",
       "    <tr>\n",
       "      <th>3</th>\n",
       "      <td>4</td>\n",
       "      <td>3</td>\n",
       "      <td>38</td>\n",
       "      <td>213</td>\n",
       "      <td>boolastar2@hotmail.fr</td>\n",
       "      <td>4SP87033JK2354245</td>\n",
       "      <td>2012-12-02 20:51:02</td>\n",
       "      <td>NaN</td>\n",
       "    </tr>\n",
       "    <tr>\n",
       "      <th>4</th>\n",
       "      <td>5</td>\n",
       "      <td>15</td>\n",
       "      <td>31</td>\n",
       "      <td>502</td>\n",
       "      <td>sunilmeboss1@yahoo.com</td>\n",
       "      <td>3RV205149P7488819</td>\n",
       "      <td>2012-12-02 21:58:13</td>\n",
       "      <td>NaN</td>\n",
       "    </tr>\n",
       "    <tr>\n",
       "      <th>5</th>\n",
       "      <td>6</td>\n",
       "      <td>30</td>\n",
       "      <td>33</td>\n",
       "      <td>503</td>\n",
       "      <td>youngminecrafter@live.com</td>\n",
       "      <td>7456208460098734Y</td>\n",
       "      <td>2012-12-02 22:20:27</td>\n",
       "      <td>NaN</td>\n",
       "    </tr>\n",
       "    <tr>\n",
       "      <th>6</th>\n",
       "      <td>7</td>\n",
       "      <td>15</td>\n",
       "      <td>31</td>\n",
       "      <td>482</td>\n",
       "      <td>hassell.w@gmail.com</td>\n",
       "      <td>05373516BM892900W</td>\n",
       "      <td>2012-12-02 22:26:20</td>\n",
       "      <td>NaN</td>\n",
       "    </tr>\n",
       "    <tr>\n",
       "      <th>7</th>\n",
       "      <td>8</td>\n",
       "      <td>3</td>\n",
       "      <td>38</td>\n",
       "      <td>500</td>\n",
       "      <td>oleandreas.98@hotmail.com</td>\n",
       "      <td>6XS1683572882372T</td>\n",
       "      <td>2012-12-02 22:53:12</td>\n",
       "      <td>NaN</td>\n",
       "    </tr>\n",
       "    <tr>\n",
       "      <th>8</th>\n",
       "      <td>9</td>\n",
       "      <td>3</td>\n",
       "      <td>38</td>\n",
       "      <td>513</td>\n",
       "      <td>michaelflamini6155@hotmail.fr</td>\n",
       "      <td>4FM57049D9988614Y</td>\n",
       "      <td>2012-12-03 06:17:49</td>\n",
       "      <td>NaN</td>\n",
       "    </tr>\n",
       "    <tr>\n",
       "      <th>9</th>\n",
       "      <td>10</td>\n",
       "      <td>3</td>\n",
       "      <td>38</td>\n",
       "      <td>518</td>\n",
       "      <td>mark3526200@gmail.com</td>\n",
       "      <td>5X405403U9429834F</td>\n",
       "      <td>2012-12-03 17:38:24</td>\n",
       "      <td>NaN</td>\n",
       "    </tr>\n",
       "  </tbody>\n",
       "</table>\n",
       "</div>"
      ],
      "text/plain": [
       "   id  amount  planid  userid                   paymentemail  \\\n",
       "0   1      15      31     194     kevin.benaroche@hotmail.fr   \n",
       "1   2       3      38     497           mikedelija@gmail.com   \n",
       "2   3       3      38     498    lisburbage@blueyonder.co.uk   \n",
       "3   4       3      38     213          boolastar2@hotmail.fr   \n",
       "4   5      15      31     502         sunilmeboss1@yahoo.com   \n",
       "5   6      30      33     503      youngminecrafter@live.com   \n",
       "6   7      15      31     482            hassell.w@gmail.com   \n",
       "7   8       3      38     500      oleandreas.98@hotmail.com   \n",
       "8   9       3      38     513  michaelflamini6155@hotmail.fr   \n",
       "9  10       3      38     518          mark3526200@gmail.com   \n",
       "\n",
       "                 tid                date  username  \n",
       "0  11W69868WX2888303 2012-12-01 19:21:02       NaN  \n",
       "1  9B578750YB669902P 2012-12-02 04:06:12       NaN  \n",
       "2  6X266797TH430374M 2012-12-02 16:43:33       NaN  \n",
       "3  4SP87033JK2354245 2012-12-02 20:51:02       NaN  \n",
       "4  3RV205149P7488819 2012-12-02 21:58:13       NaN  \n",
       "5  7456208460098734Y 2012-12-02 22:20:27       NaN  \n",
       "6  05373516BM892900W 2012-12-02 22:26:20       NaN  \n",
       "7  6XS1683572882372T 2012-12-02 22:53:12       NaN  \n",
       "8  4FM57049D9988614Y 2012-12-03 06:17:49       NaN  \n",
       "9  5X405403U9429834F 2012-12-03 17:38:24       NaN  "
      ]
     },
     "execution_count": 38,
     "metadata": {},
     "output_type": "execute_result"
    }
   ],
   "source": [
    "# Loading the correct table name\n",
    "df_payments = pd.read_csv(read_inserted_table(dumpfile, tablename),delimiter=\",\",error_bad_lines=False)\n",
    "\n",
    "# Converting columns\n",
    "df_payments['date'] = timestamp2datetime(df_payments['date']) \n",
    "\n",
    "# Changing names of columns\n",
    "df_payments.rename(inplace=True, columns={'ID':'id',\n",
    "                                        'paid':'amount',\n",
    "                                         'plan':'planid',\n",
    "                                         'user':'userid',\n",
    "                                         'email':'paymentemail'})\n",
    "\n",
    "# Creating empty columns (with \"\" [for future string] or np.nan [for future float])\n",
    "df_payments['username']=np.nan\n",
    "\n",
    "# Showing some lines after adapt the table\n",
    "df_payments.head(10)"
   ]
  },
  {
   "cell_type": "markdown",
   "metadata": {
    "deletable": true,
    "editable": true
   },
   "source": [
    "## 6.8. Table: 'plans'"
   ]
  },
  {
   "cell_type": "markdown",
   "metadata": {
    "deletable": true,
    "editable": true
   },
   "source": [
    "### How this table looks like without modification?"
   ]
  },
  {
   "cell_type": "code",
   "execution_count": 39,
   "metadata": {
    "collapsed": false,
    "deletable": true,
    "editable": true
   },
   "outputs": [
    {
     "data": {
      "text/html": [
       "<div>\n",
       "<table border=\"1\" class=\"dataframe\">\n",
       "  <thead>\n",
       "    <tr style=\"text-align: right;\">\n",
       "      <th></th>\n",
       "      <th>ID</th>\n",
       "      <th>name</th>\n",
       "      <th>description</th>\n",
       "      <th>mbt</th>\n",
       "      <th>unit</th>\n",
       "      <th>length</th>\n",
       "      <th>price</th>\n",
       "    </tr>\n",
       "  </thead>\n",
       "  <tbody>\n",
       "    <tr>\n",
       "      <th>0</th>\n",
       "      <td>84</td>\n",
       "      <td>Blue Pack</td>\n",
       "      <td>MemberShip Blue Pack</td>\n",
       "      <td>1200</td>\n",
       "      <td>Years</td>\n",
       "      <td>10</td>\n",
       "      <td>26</td>\n",
       "    </tr>\n",
       "    <tr>\n",
       "      <th>1</th>\n",
       "      <td>85</td>\n",
       "      <td>Red Pack</td>\n",
       "      <td>MemberShip New Pack Unlocked Restricted Area</td>\n",
       "      <td>1800</td>\n",
       "      <td>Years</td>\n",
       "      <td>10</td>\n",
       "      <td>32</td>\n",
       "    </tr>\n",
       "    <tr>\n",
       "      <th>2</th>\n",
       "      <td>86</td>\n",
       "      <td>Ultimate Pack</td>\n",
       "      <td>Ultimate Pack MemberShip</td>\n",
       "      <td>5600</td>\n",
       "      <td>Years</td>\n",
       "      <td>30</td>\n",
       "      <td>98</td>\n",
       "    </tr>\n",
       "    <tr>\n",
       "      <th>3</th>\n",
       "      <td>87</td>\n",
       "      <td>Pack Premium</td>\n",
       "      <td>NS</td>\n",
       "      <td>2400</td>\n",
       "      <td>Years</td>\n",
       "      <td>10</td>\n",
       "      <td>38</td>\n",
       "    </tr>\n",
       "    <tr>\n",
       "      <th>4</th>\n",
       "      <td>81</td>\n",
       "      <td>Gold Pack</td>\n",
       "      <td>MemberShip Restricted Unlocked</td>\n",
       "      <td>300</td>\n",
       "      <td>Years</td>\n",
       "      <td>10</td>\n",
       "      <td>6</td>\n",
       "    </tr>\n",
       "    <tr>\n",
       "      <th>5</th>\n",
       "      <td>82</td>\n",
       "      <td>Green Pack</td>\n",
       "      <td>MemberShip NationalStresser Buy Now</td>\n",
       "      <td>600</td>\n",
       "      <td>Years</td>\n",
       "      <td>10</td>\n",
       "      <td>12</td>\n",
       "    </tr>\n",
       "    <tr>\n",
       "      <th>6</th>\n",
       "      <td>83</td>\n",
       "      <td>Yellow Pack</td>\n",
       "      <td>MemberShip Buisness Yellow Pack</td>\n",
       "      <td>900</td>\n",
       "      <td>Years</td>\n",
       "      <td>10</td>\n",
       "      <td>18</td>\n",
       "    </tr>\n",
       "    <tr>\n",
       "      <th>7</th>\n",
       "      <td>89</td>\n",
       "      <td>NS</td>\n",
       "      <td>4200</td>\n",
       "      <td>3600</td>\n",
       "      <td>Years</td>\n",
       "      <td>10</td>\n",
       "      <td>57</td>\n",
       "    </tr>\n",
       "  </tbody>\n",
       "</table>\n",
       "</div>"
      ],
      "text/plain": [
       "   ID           name                                   description   mbt  \\\n",
       "0  84      Blue Pack                          MemberShip Blue Pack  1200   \n",
       "1  85       Red Pack  MemberShip New Pack Unlocked Restricted Area  1800   \n",
       "2  86  Ultimate Pack                      Ultimate Pack MemberShip  5600   \n",
       "3  87   Pack Premium                                            NS  2400   \n",
       "4  81      Gold Pack                MemberShip Restricted Unlocked   300   \n",
       "5  82     Green Pack           MemberShip NationalStresser Buy Now   600   \n",
       "6  83    Yellow Pack               MemberShip Buisness Yellow Pack   900   \n",
       "7  89            NS                                           4200  3600   \n",
       "\n",
       "    unit  length  price  \n",
       "0  Years      10     26  \n",
       "1  Years      10     32  \n",
       "2  Years      30     98  \n",
       "3  Years      10     38  \n",
       "4  Years      10      6  \n",
       "5  Years      10     12  \n",
       "6  Years      10     18  \n",
       "7  Years      10     57  "
      ]
     },
     "execution_count": 39,
     "metadata": {},
     "output_type": "execute_result"
    }
   ],
   "source": [
    "tablename='plans'\n",
    "\n",
    "pd.read_csv(read_inserted_table(dumpfile, tablename),delimiter=\",\",error_bad_lines=False).head(10)"
   ]
  },
  {
   "cell_type": "markdown",
   "metadata": {
    "deletable": true,
    "editable": true
   },
   "source": [
    "#### Q1: Is this table different from other previous loaded table? YES \n",
    "#### Q2: Is this table similar to any table in the generic Booter database schema? YES\n",
    "    - This table looks like: plans\n",
    "#### Q3: Are there modifications required? \n",
    "    - On the table name: \n",
    "        o \n",
    "    - On the column type: \n",
    "        o \n",
    "    - On the column name:\n",
    "        o ID -> planid\n",
    "        o name -> planname\n",
    "        o description -> plandescr\n",
    "        o mbt -> maxboottime\n",
    "    - Add required columns:\n",
    "        o concurrecy\n",
    "    - Split columns:\n",
    "        o "
   ]
  },
  {
   "cell_type": "markdown",
   "metadata": {
    "deletable": true,
    "editable": true
   },
   "source": [
    "### Modifying table: 'plans'"
   ]
  },
  {
   "cell_type": "code",
   "execution_count": 40,
   "metadata": {
    "collapsed": false,
    "deletable": true,
    "editable": true
   },
   "outputs": [
    {
     "data": {
      "text/html": [
       "<div>\n",
       "<table border=\"1\" class=\"dataframe\">\n",
       "  <thead>\n",
       "    <tr style=\"text-align: right;\">\n",
       "      <th></th>\n",
       "      <th>planid</th>\n",
       "      <th>planname</th>\n",
       "      <th>plandescr</th>\n",
       "      <th>maxboottime</th>\n",
       "      <th>unit</th>\n",
       "      <th>length</th>\n",
       "      <th>price</th>\n",
       "      <th>concurrency</th>\n",
       "    </tr>\n",
       "  </thead>\n",
       "  <tbody>\n",
       "    <tr>\n",
       "      <th>0</th>\n",
       "      <td>84</td>\n",
       "      <td>Blue Pack</td>\n",
       "      <td>MemberShip Blue Pack</td>\n",
       "      <td>1200</td>\n",
       "      <td>Years</td>\n",
       "      <td>10</td>\n",
       "      <td>26</td>\n",
       "      <td>NaN</td>\n",
       "    </tr>\n",
       "    <tr>\n",
       "      <th>1</th>\n",
       "      <td>85</td>\n",
       "      <td>Red Pack</td>\n",
       "      <td>MemberShip New Pack Unlocked Restricted Area</td>\n",
       "      <td>1800</td>\n",
       "      <td>Years</td>\n",
       "      <td>10</td>\n",
       "      <td>32</td>\n",
       "      <td>NaN</td>\n",
       "    </tr>\n",
       "    <tr>\n",
       "      <th>2</th>\n",
       "      <td>86</td>\n",
       "      <td>Ultimate Pack</td>\n",
       "      <td>Ultimate Pack MemberShip</td>\n",
       "      <td>5600</td>\n",
       "      <td>Years</td>\n",
       "      <td>30</td>\n",
       "      <td>98</td>\n",
       "      <td>NaN</td>\n",
       "    </tr>\n",
       "    <tr>\n",
       "      <th>3</th>\n",
       "      <td>87</td>\n",
       "      <td>Pack Premium</td>\n",
       "      <td>NS</td>\n",
       "      <td>2400</td>\n",
       "      <td>Years</td>\n",
       "      <td>10</td>\n",
       "      <td>38</td>\n",
       "      <td>NaN</td>\n",
       "    </tr>\n",
       "    <tr>\n",
       "      <th>4</th>\n",
       "      <td>81</td>\n",
       "      <td>Gold Pack</td>\n",
       "      <td>MemberShip Restricted Unlocked</td>\n",
       "      <td>300</td>\n",
       "      <td>Years</td>\n",
       "      <td>10</td>\n",
       "      <td>6</td>\n",
       "      <td>NaN</td>\n",
       "    </tr>\n",
       "    <tr>\n",
       "      <th>5</th>\n",
       "      <td>82</td>\n",
       "      <td>Green Pack</td>\n",
       "      <td>MemberShip NationalStresser Buy Now</td>\n",
       "      <td>600</td>\n",
       "      <td>Years</td>\n",
       "      <td>10</td>\n",
       "      <td>12</td>\n",
       "      <td>NaN</td>\n",
       "    </tr>\n",
       "    <tr>\n",
       "      <th>6</th>\n",
       "      <td>83</td>\n",
       "      <td>Yellow Pack</td>\n",
       "      <td>MemberShip Buisness Yellow Pack</td>\n",
       "      <td>900</td>\n",
       "      <td>Years</td>\n",
       "      <td>10</td>\n",
       "      <td>18</td>\n",
       "      <td>NaN</td>\n",
       "    </tr>\n",
       "    <tr>\n",
       "      <th>7</th>\n",
       "      <td>89</td>\n",
       "      <td>NS</td>\n",
       "      <td>4200</td>\n",
       "      <td>3600</td>\n",
       "      <td>Years</td>\n",
       "      <td>10</td>\n",
       "      <td>57</td>\n",
       "      <td>NaN</td>\n",
       "    </tr>\n",
       "  </tbody>\n",
       "</table>\n",
       "</div>"
      ],
      "text/plain": [
       "   planid       planname                                     plandescr  \\\n",
       "0      84      Blue Pack                          MemberShip Blue Pack   \n",
       "1      85       Red Pack  MemberShip New Pack Unlocked Restricted Area   \n",
       "2      86  Ultimate Pack                      Ultimate Pack MemberShip   \n",
       "3      87   Pack Premium                                            NS   \n",
       "4      81      Gold Pack                MemberShip Restricted Unlocked   \n",
       "5      82     Green Pack           MemberShip NationalStresser Buy Now   \n",
       "6      83    Yellow Pack               MemberShip Buisness Yellow Pack   \n",
       "7      89            NS                                           4200   \n",
       "\n",
       "   maxboottime   unit  length  price  concurrency  \n",
       "0         1200  Years      10     26          NaN  \n",
       "1         1800  Years      10     32          NaN  \n",
       "2         5600  Years      30     98          NaN  \n",
       "3         2400  Years      10     38          NaN  \n",
       "4          300  Years      10      6          NaN  \n",
       "5          600  Years      10     12          NaN  \n",
       "6          900  Years      10     18          NaN  \n",
       "7         3600  Years      10     57          NaN  "
      ]
     },
     "execution_count": 40,
     "metadata": {},
     "output_type": "execute_result"
    }
   ],
   "source": [
    "# Loading the correct table name\n",
    "df_plans = pd.read_csv(read_inserted_table(dumpfile, tablename),delimiter=\",\",error_bad_lines=False)\n",
    "\n",
    "# Converting columns\n",
    "\n",
    "# Changing names of columns\n",
    "df_plans.rename(inplace=True, columns={'ID':'planid',\n",
    "                                         'name':'planname',\n",
    "                                         'description': 'plandescr',\n",
    "                                         'mbt':'maxboottime'})\n",
    "\n",
    "# Creating empty columns (with \"\" [for future string] or np.nan [for future float])\n",
    "df_plans['concurrency']=np.nan\n",
    "\n",
    "# Showing some lines after adapt the table\n",
    "df_plans.head(10)"
   ]
  },
  {
   "cell_type": "markdown",
   "metadata": {
    "deletable": true,
    "editable": true
   },
   "source": [
    "## 6.9. Table: 'settings'"
   ]
  },
  {
   "cell_type": "markdown",
   "metadata": {
    "deletable": true,
    "editable": true
   },
   "source": [
    "### How this table looks like without modification?"
   ]
  },
  {
   "cell_type": "code",
   "execution_count": 41,
   "metadata": {
    "collapsed": false,
    "deletable": true,
    "editable": true
   },
   "outputs": [
    {
     "data": {
      "text/html": [
       "<div>\n",
       "<table border=\"1\" class=\"dataframe\">\n",
       "  <thead>\n",
       "    <tr style=\"text-align: right;\">\n",
       "      <th></th>\n",
       "      <th>API</th>\n",
       "    </tr>\n",
       "  </thead>\n",
       "  <tbody>\n",
       "  </tbody>\n",
       "</table>\n",
       "</div>"
      ],
      "text/plain": [
       "Empty DataFrame\n",
       "Columns: [API]\n",
       "Index: []"
      ]
     },
     "execution_count": 41,
     "metadata": {},
     "output_type": "execute_result"
    }
   ],
   "source": [
    "tablename='settings'\n",
    "\n",
    "pd.read_csv(read_inserted_table(dumpfile, tablename),delimiter=\",\",error_bad_lines=False).head(10)"
   ]
  },
  {
   "cell_type": "markdown",
   "metadata": {
    "deletable": true,
    "editable": true
   },
   "source": [
    "#### Q1: Is this table different from other previous loaded table? YES \n",
    "#### Q2: Is this table similar to any table in the generic Booter database schema? NO\n",
    "    - This table looks like: \n",
    "#### Q3: Are there modifications required? \n",
    "    - On the table name: \n",
    "        o \n",
    "    - On the column type: \n",
    "        o \n",
    "    - On the column name:\n",
    "        o \n",
    "    - Add required columns:\n",
    "        o \n",
    "    - Split columns:\n",
    "        o "
   ]
  },
  {
   "cell_type": "markdown",
   "metadata": {
    "deletable": true,
    "editable": true
   },
   "source": [
    "## 6.9. Table: 'users'"
   ]
  },
  {
   "cell_type": "markdown",
   "metadata": {
    "deletable": true,
    "editable": true
   },
   "source": [
    "### How this table looks like without modification?"
   ]
  },
  {
   "cell_type": "code",
   "execution_count": 42,
   "metadata": {
    "collapsed": false,
    "deletable": true,
    "editable": true
   },
   "outputs": [
    {
     "data": {
      "text/html": [
       "<div>\n",
       "<table border=\"1\" class=\"dataframe\">\n",
       "  <thead>\n",
       "    <tr style=\"text-align: right;\">\n",
       "      <th></th>\n",
       "      <th>ID</th>\n",
       "      <th>username</th>\n",
       "      <th>password</th>\n",
       "      <th>status</th>\n",
       "      <th>rank</th>\n",
       "      <th>mbt</th>\n",
       "      <th>expire</th>\n",
       "    </tr>\n",
       "  </thead>\n",
       "  <tbody>\n",
       "    <tr>\n",
       "      <th>0</th>\n",
       "      <td>42</td>\n",
       "      <td>kyubi</td>\n",
       "      <td>946ae17537269629c017992d68496cc9981ff88195b3fa...</td>\n",
       "      <td>0</td>\n",
       "      <td>0</td>\n",
       "      <td>0</td>\n",
       "      <td>1367691180</td>\n",
       "    </tr>\n",
       "    <tr>\n",
       "      <th>1</th>\n",
       "      <td>43</td>\n",
       "      <td>Azapo</td>\n",
       "      <td>c3555b15c17ec6d775561b03261c94ea910f83eff525f5...</td>\n",
       "      <td>0</td>\n",
       "      <td>0</td>\n",
       "      <td>0</td>\n",
       "      <td>1367777580</td>\n",
       "    </tr>\n",
       "    <tr>\n",
       "      <th>2</th>\n",
       "      <td>45</td>\n",
       "      <td>iExoTicK</td>\n",
       "      <td>ba3253876aed6bc22d4a6ff53d8406c6ad864195ed144a...</td>\n",
       "      <td>0</td>\n",
       "      <td>0</td>\n",
       "      <td>0</td>\n",
       "      <td>1590789600</td>\n",
       "    </tr>\n",
       "    <tr>\n",
       "      <th>3</th>\n",
       "      <td>47</td>\n",
       "      <td>Pikachu7390</td>\n",
       "      <td>3b443808c21868ab5c21102572dbb1e86ff641db12715d...</td>\n",
       "      <td>0</td>\n",
       "      <td>0</td>\n",
       "      <td>600</td>\n",
       "      <td>1432936800</td>\n",
       "    </tr>\n",
       "    <tr>\n",
       "      <th>4</th>\n",
       "      <td>48</td>\n",
       "      <td>Akerio</td>\n",
       "      <td>3fce4c8c3ee963f1ad71c4bb393ff09b3fb9a21935cbe2...</td>\n",
       "      <td>0</td>\n",
       "      <td>0</td>\n",
       "      <td>0</td>\n",
       "      <td>1369937580</td>\n",
       "    </tr>\n",
       "    <tr>\n",
       "      <th>5</th>\n",
       "      <td>49</td>\n",
       "      <td>Hacks116</td>\n",
       "      <td>9f281740d815393fba449c824665ffc357bb1e2c39f506...</td>\n",
       "      <td>0</td>\n",
       "      <td>0</td>\n",
       "      <td>0</td>\n",
       "      <td>1369937580</td>\n",
       "    </tr>\n",
       "    <tr>\n",
       "      <th>6</th>\n",
       "      <td>50</td>\n",
       "      <td>chybe21</td>\n",
       "      <td>b109f3bbbc244eb82441917ed06d618b9008dd09b3befd...</td>\n",
       "      <td>0</td>\n",
       "      <td>0</td>\n",
       "      <td>0</td>\n",
       "      <td>1369937580</td>\n",
       "    </tr>\n",
       "    <tr>\n",
       "      <th>7</th>\n",
       "      <td>51</td>\n",
       "      <td>Daveskee</td>\n",
       "      <td>9c7bf89a08dbb0bcf38b6d759476c0d785b49a1010870a...</td>\n",
       "      <td>0</td>\n",
       "      <td>0</td>\n",
       "      <td>0</td>\n",
       "      <td>1369937580</td>\n",
       "    </tr>\n",
       "    <tr>\n",
       "      <th>8</th>\n",
       "      <td>52</td>\n",
       "      <td>FOXNONAD</td>\n",
       "      <td>418d940c10e17197ebc4007af1d8e555c6f8d81bc0c060...</td>\n",
       "      <td>0</td>\n",
       "      <td>0</td>\n",
       "      <td>1200</td>\n",
       "      <td>1451516400</td>\n",
       "    </tr>\n",
       "    <tr>\n",
       "      <th>9</th>\n",
       "      <td>53</td>\n",
       "      <td>gamingzmod</td>\n",
       "      <td>ba3253876aed6bc22d4a6ff53d8406c6ad864195ed144a...</td>\n",
       "      <td>0</td>\n",
       "      <td>0</td>\n",
       "      <td>300</td>\n",
       "      <td>1590789600</td>\n",
       "    </tr>\n",
       "  </tbody>\n",
       "</table>\n",
       "</div>"
      ],
      "text/plain": [
       "   ID     username                                           password  status  \\\n",
       "0  42        kyubi  946ae17537269629c017992d68496cc9981ff88195b3fa...       0   \n",
       "1  43        Azapo  c3555b15c17ec6d775561b03261c94ea910f83eff525f5...       0   \n",
       "2  45     iExoTicK  ba3253876aed6bc22d4a6ff53d8406c6ad864195ed144a...       0   \n",
       "3  47  Pikachu7390  3b443808c21868ab5c21102572dbb1e86ff641db12715d...       0   \n",
       "4  48       Akerio  3fce4c8c3ee963f1ad71c4bb393ff09b3fb9a21935cbe2...       0   \n",
       "5  49     Hacks116  9f281740d815393fba449c824665ffc357bb1e2c39f506...       0   \n",
       "6  50      chybe21  b109f3bbbc244eb82441917ed06d618b9008dd09b3befd...       0   \n",
       "7  51     Daveskee  9c7bf89a08dbb0bcf38b6d759476c0d785b49a1010870a...       0   \n",
       "8  52     FOXNONAD  418d940c10e17197ebc4007af1d8e555c6f8d81bc0c060...       0   \n",
       "9  53   gamingzmod  ba3253876aed6bc22d4a6ff53d8406c6ad864195ed144a...       0   \n",
       "\n",
       "   rank   mbt      expire  \n",
       "0     0     0  1367691180  \n",
       "1     0     0  1367777580  \n",
       "2     0     0  1590789600  \n",
       "3     0   600  1432936800  \n",
       "4     0     0  1369937580  \n",
       "5     0     0  1369937580  \n",
       "6     0     0  1369937580  \n",
       "7     0     0  1369937580  \n",
       "8     0  1200  1451516400  \n",
       "9     0   300  1590789600  "
      ]
     },
     "execution_count": 42,
     "metadata": {},
     "output_type": "execute_result"
    }
   ],
   "source": [
    "tablename='users'\n",
    "\n",
    "pd.read_csv(read_inserted_table(dumpfile, tablename),delimiter=\",\",error_bad_lines=False).head(10)"
   ]
  },
  {
   "cell_type": "markdown",
   "metadata": {
    "deletable": true,
    "editable": true
   },
   "source": [
    "#### Q1: Is this table different from other previous loaded table? YES \n",
    "#### Q2: Is this table similar to any table in the generic Booter database schema? YES \n",
    "    - This table looks like: users\n",
    "#### Q3: Are there modifications required? \n",
    "    - On the table name: \n",
    "        o \n",
    "    - On the column type: \n",
    "        o expire -> timestamp2datetime()\n",
    "    - On the column name:\n",
    "        o ID -> userid\n",
    "              \n",
    "    - Add required columns:\n",
    "        o useremail \n",
    "        o planid\n",
    "    - Split columns:\n",
    "        o "
   ]
  },
  {
   "cell_type": "markdown",
   "metadata": {
    "deletable": true,
    "editable": true
   },
   "source": [
    "### Modifying table: 'users'"
   ]
  },
  {
   "cell_type": "code",
   "execution_count": 43,
   "metadata": {
    "collapsed": false,
    "deletable": true,
    "editable": true
   },
   "outputs": [
    {
     "data": {
      "text/html": [
       "<div>\n",
       "<table border=\"1\" class=\"dataframe\">\n",
       "  <thead>\n",
       "    <tr style=\"text-align: right;\">\n",
       "      <th></th>\n",
       "      <th>userid</th>\n",
       "      <th>username</th>\n",
       "      <th>password</th>\n",
       "      <th>status</th>\n",
       "      <th>rank</th>\n",
       "      <th>mbt</th>\n",
       "      <th>expire</th>\n",
       "      <th>useremail</th>\n",
       "      <th>planid</th>\n",
       "    </tr>\n",
       "  </thead>\n",
       "  <tbody>\n",
       "    <tr>\n",
       "      <th>0</th>\n",
       "      <td>42</td>\n",
       "      <td>kyubi</td>\n",
       "      <td>946ae17537269629c017992d68496cc9981ff88195b3fa...</td>\n",
       "      <td>0</td>\n",
       "      <td>0</td>\n",
       "      <td>0</td>\n",
       "      <td>2013-05-04 18:13:00</td>\n",
       "      <td>NaN</td>\n",
       "      <td>NaN</td>\n",
       "    </tr>\n",
       "    <tr>\n",
       "      <th>1</th>\n",
       "      <td>43</td>\n",
       "      <td>Azapo</td>\n",
       "      <td>c3555b15c17ec6d775561b03261c94ea910f83eff525f5...</td>\n",
       "      <td>0</td>\n",
       "      <td>0</td>\n",
       "      <td>0</td>\n",
       "      <td>2013-05-05 18:13:00</td>\n",
       "      <td>NaN</td>\n",
       "      <td>NaN</td>\n",
       "    </tr>\n",
       "    <tr>\n",
       "      <th>2</th>\n",
       "      <td>45</td>\n",
       "      <td>iExoTicK</td>\n",
       "      <td>ba3253876aed6bc22d4a6ff53d8406c6ad864195ed144a...</td>\n",
       "      <td>0</td>\n",
       "      <td>0</td>\n",
       "      <td>0</td>\n",
       "      <td>2020-05-29 22:00:00</td>\n",
       "      <td>NaN</td>\n",
       "      <td>NaN</td>\n",
       "    </tr>\n",
       "    <tr>\n",
       "      <th>3</th>\n",
       "      <td>47</td>\n",
       "      <td>Pikachu7390</td>\n",
       "      <td>3b443808c21868ab5c21102572dbb1e86ff641db12715d...</td>\n",
       "      <td>0</td>\n",
       "      <td>0</td>\n",
       "      <td>600</td>\n",
       "      <td>2015-05-29 22:00:00</td>\n",
       "      <td>NaN</td>\n",
       "      <td>NaN</td>\n",
       "    </tr>\n",
       "    <tr>\n",
       "      <th>4</th>\n",
       "      <td>48</td>\n",
       "      <td>Akerio</td>\n",
       "      <td>3fce4c8c3ee963f1ad71c4bb393ff09b3fb9a21935cbe2...</td>\n",
       "      <td>0</td>\n",
       "      <td>0</td>\n",
       "      <td>0</td>\n",
       "      <td>2013-05-30 18:13:00</td>\n",
       "      <td>NaN</td>\n",
       "      <td>NaN</td>\n",
       "    </tr>\n",
       "    <tr>\n",
       "      <th>5</th>\n",
       "      <td>49</td>\n",
       "      <td>Hacks116</td>\n",
       "      <td>9f281740d815393fba449c824665ffc357bb1e2c39f506...</td>\n",
       "      <td>0</td>\n",
       "      <td>0</td>\n",
       "      <td>0</td>\n",
       "      <td>2013-05-30 18:13:00</td>\n",
       "      <td>NaN</td>\n",
       "      <td>NaN</td>\n",
       "    </tr>\n",
       "    <tr>\n",
       "      <th>6</th>\n",
       "      <td>50</td>\n",
       "      <td>chybe21</td>\n",
       "      <td>b109f3bbbc244eb82441917ed06d618b9008dd09b3befd...</td>\n",
       "      <td>0</td>\n",
       "      <td>0</td>\n",
       "      <td>0</td>\n",
       "      <td>2013-05-30 18:13:00</td>\n",
       "      <td>NaN</td>\n",
       "      <td>NaN</td>\n",
       "    </tr>\n",
       "    <tr>\n",
       "      <th>7</th>\n",
       "      <td>51</td>\n",
       "      <td>Daveskee</td>\n",
       "      <td>9c7bf89a08dbb0bcf38b6d759476c0d785b49a1010870a...</td>\n",
       "      <td>0</td>\n",
       "      <td>0</td>\n",
       "      <td>0</td>\n",
       "      <td>2013-05-30 18:13:00</td>\n",
       "      <td>NaN</td>\n",
       "      <td>NaN</td>\n",
       "    </tr>\n",
       "    <tr>\n",
       "      <th>8</th>\n",
       "      <td>52</td>\n",
       "      <td>FOXNONAD</td>\n",
       "      <td>418d940c10e17197ebc4007af1d8e555c6f8d81bc0c060...</td>\n",
       "      <td>0</td>\n",
       "      <td>0</td>\n",
       "      <td>1200</td>\n",
       "      <td>2015-12-30 23:00:00</td>\n",
       "      <td>NaN</td>\n",
       "      <td>NaN</td>\n",
       "    </tr>\n",
       "    <tr>\n",
       "      <th>9</th>\n",
       "      <td>53</td>\n",
       "      <td>gamingzmod</td>\n",
       "      <td>ba3253876aed6bc22d4a6ff53d8406c6ad864195ed144a...</td>\n",
       "      <td>0</td>\n",
       "      <td>0</td>\n",
       "      <td>300</td>\n",
       "      <td>2020-05-29 22:00:00</td>\n",
       "      <td>NaN</td>\n",
       "      <td>NaN</td>\n",
       "    </tr>\n",
       "  </tbody>\n",
       "</table>\n",
       "</div>"
      ],
      "text/plain": [
       "   userid     username                                           password  \\\n",
       "0      42        kyubi  946ae17537269629c017992d68496cc9981ff88195b3fa...   \n",
       "1      43        Azapo  c3555b15c17ec6d775561b03261c94ea910f83eff525f5...   \n",
       "2      45     iExoTicK  ba3253876aed6bc22d4a6ff53d8406c6ad864195ed144a...   \n",
       "3      47  Pikachu7390  3b443808c21868ab5c21102572dbb1e86ff641db12715d...   \n",
       "4      48       Akerio  3fce4c8c3ee963f1ad71c4bb393ff09b3fb9a21935cbe2...   \n",
       "5      49     Hacks116  9f281740d815393fba449c824665ffc357bb1e2c39f506...   \n",
       "6      50      chybe21  b109f3bbbc244eb82441917ed06d618b9008dd09b3befd...   \n",
       "7      51     Daveskee  9c7bf89a08dbb0bcf38b6d759476c0d785b49a1010870a...   \n",
       "8      52     FOXNONAD  418d940c10e17197ebc4007af1d8e555c6f8d81bc0c060...   \n",
       "9      53   gamingzmod  ba3253876aed6bc22d4a6ff53d8406c6ad864195ed144a...   \n",
       "\n",
       "   status  rank   mbt              expire   useremail  planid  \n",
       "0       0     0     0 2013-05-04 18:13:00         NaN     NaN  \n",
       "1       0     0     0 2013-05-05 18:13:00         NaN     NaN  \n",
       "2       0     0     0 2020-05-29 22:00:00         NaN     NaN  \n",
       "3       0     0   600 2015-05-29 22:00:00         NaN     NaN  \n",
       "4       0     0     0 2013-05-30 18:13:00         NaN     NaN  \n",
       "5       0     0     0 2013-05-30 18:13:00         NaN     NaN  \n",
       "6       0     0     0 2013-05-30 18:13:00         NaN     NaN  \n",
       "7       0     0     0 2013-05-30 18:13:00         NaN     NaN  \n",
       "8       0     0  1200 2015-12-30 23:00:00         NaN     NaN  \n",
       "9       0     0   300 2020-05-29 22:00:00         NaN     NaN  "
      ]
     },
     "execution_count": 43,
     "metadata": {},
     "output_type": "execute_result"
    }
   ],
   "source": [
    "# Loading the correct table name\n",
    "df_users = pd.read_csv(read_inserted_table(dumpfile, tablename),delimiter=\",\",error_bad_lines=False)\n",
    "\n",
    "# Converting columns\n",
    "df_users['expire'] = timestamp2datetime(df_users['expire']) \n",
    "\n",
    "# Changing names of columns\n",
    "df_users.rename(inplace=True, columns={'ID':'userid'})\n",
    "\n",
    "# Creating empty columns (with \"\" [for future string] or np.nan [for future float])\n",
    "df_users[' useremail']=np.nan\n",
    "df_users['planid']=np.nan\n",
    "\n",
    "# Showing some lines after adapt the table\n",
    "df_users.head(10)"
   ]
  },
  {
   "cell_type": "code",
   "execution_count": 48,
   "metadata": {
    "collapsed": false,
    "deletable": true,
    "editable": true
   },
   "outputs": [
    {
     "data": {
      "text/plain": [
       "(1892, 1892)"
      ]
     },
     "execution_count": 48,
     "metadata": {},
     "output_type": "execute_result"
    }
   ],
   "source": [
    "len(df_users), len(df_users.drop_duplicates())"
   ]
  },
  {
   "cell_type": "markdown",
   "metadata": {
    "deletable": true,
    "editable": true
   },
   "source": [
    "<h2 align='center'>======================================================================\n",
    "<br>Final step of the manual part\n",
    "======================================================================</h2>"
   ]
  },
  {
   "cell_type": "markdown",
   "metadata": {
    "deletable": true,
    "editable": true
   },
   "source": [
    "## 7. Adding missing tables accordingly to our generic Booter database "
   ]
  },
  {
   "cell_type": "code",
   "execution_count": null,
   "metadata": {
    "collapsed": false,
    "deletable": true,
    "editable": true
   },
   "outputs": [],
   "source": [
    "df_attacks= pd.DataFrame(columns=['id','userid','username','targetip','targeturl','duration','port','type','date'])\n",
    "#df_blacklist=pd.DataFrame(columns=['id','ip','note'])\n",
    "#df_friendsenemies=pd.DataFrame(columns=['id','ip','note','userid','type'])\n",
    "#df_gateways=pd.DataFrame(columns=['email'])\n",
    "#df_logins=pd.DataFrame(columns=['id','userid','username','userip','date'])\n",
    "#df_payments=pd.DataFrame(columns=['id','userid','username','amountpaid','paymentemail','planid','tid','date'])\n",
    "df_plans=pd.DataFrame(columns=['planid','planname','plandescr','price','maxboottime','concurrency'])\n",
    "df_servers=pd.DataFrame(columns=['id','ip'])\n",
    "df_settings=pd.DataFrame(columns=['url','sitename','siteemail'])\n",
    "#df_users=pd.DataFrame(columns=['userid','username','useremail','password','expire','plan'])      \n",
    "df_webshells=pd.DataFrame(columns=['id','url','status','lastchecked','attacktype'])"
   ]
  },
  {
   "cell_type": "markdown",
   "metadata": {
    "deletable": true,
    "editable": true
   },
   "source": [
    "<h1 align=\"center\">\n",
    "!!!!!!!!!!!!!!!!!!!!!!!!!!!!!!!!!!!!!!!!!!!!!!!!!!!!!!!!!!!!!!!!!!!!!!!!!!!!!!!!!!!!!!!!!!!!!!!!!!!!!!!!!!!!!!!!!!!!!!!!!!!!!!!!!!!!!!!!!<br>\n",
    "STEP 2: Data Enrichment<br>\n",
    "!!!!!!!!!!!!!!!!!!!!!!!!!!!!!!!!!!!!!!!!!!!!!!!!!!!!!!!!!!!!!!!!!!!!!!!!!!!!!!!!!!!!!!!!!!!!!!!!!!!!!!!!!!!!!!!!!!!!!!!!!!!!!!!</h1> "
   ]
  },
  {
   "cell_type": "markdown",
   "metadata": {
    "deletable": true,
    "editable": true
   },
   "source": [
    "### * Depending of the size of the data, this part can take HOURS. I tested for both small and big datasets and it worked. Be pacient. This will pay-off!"
   ]
  },
  {
   "cell_type": "markdown",
   "metadata": {
    "deletable": true,
    "editable": true
   },
   "source": [
    "## * Libraries needed to retrieve information from external databases"
   ]
  },
  {
   "cell_type": "code",
   "execution_count": null,
   "metadata": {
    "collapsed": true,
    "deletable": true,
    "editable": true
   },
   "outputs": [],
   "source": [
    "import subprocess\n",
    "import cfscrape\n",
    "from lxml import etree\n",
    "import os.path\n",
    "import random\n",
    "import time "
   ]
  },
  {
   "cell_type": "markdown",
   "metadata": {
    "deletable": true,
    "editable": true
   },
   "source": [
    "## * Function to enrich IP addresseswith AS information and country "
   ]
  },
  {
   "cell_type": "code",
   "execution_count": null,
   "metadata": {
    "collapsed": false,
    "deletable": true,
    "editable": true
   },
   "outputs": [],
   "source": [
    "# THANKS TO: team-cymru.org\n",
    "def iptoasn(iplist_teamcymruformat_filelocation,outputfile):\n",
    "    cat = subprocess.Popen(['cat', iplist_teamcymruformat_filelocation], \n",
    "                            stdout=subprocess.PIPE)\n",
    "    \n",
    "    netcat = subprocess.Popen(['netcat', 'whois.cymru.com', '43'],\n",
    "                              stdin=cat.stdout,\n",
    "                              stdout=outputfile)\n",
    "    time.sleep(3) #for some reason the poll does not work! This was the way to overcome the waiting time.\n",
    "    \n",
    "    return netcat.stdout      "
   ]
  },
  {
   "cell_type": "markdown",
   "metadata": {
    "deletable": true,
    "editable": true
   },
   "source": [
    "## * Function to check if an IP address was Tor node in a given moment"
   ]
  },
  {
   "cell_type": "code",
   "execution_count": null,
   "metadata": {
    "collapsed": true,
    "deletable": true,
    "editable": true
   },
   "outputs": [],
   "source": [
    "# THANKS TO: exonerator.torproject.org\n",
    "def WasTorNode(ip, date ):\n",
    "    url=\"https://exonerator.torproject.org/?ip=\"+ip+\"&timestamp=\"+date\n",
    "    scraper = cfscrape.create_scraper()\n",
    "    scraped_html=scraper.get(url).content    \n",
    "    html_tree = etree.HTML(scraped_html)\n",
    "    result=html_tree.xpath(\"//h3[@class='panel-title']/text()\") # I was looking for <h3 class=\"panel-title\">Result is positive</h3>\n",
    "    tor_node=True if result == ['Result is positive'] else False\n",
    "    return tor_node \n",
    "# 'date' MUST BE formated as: Year-month-day (2016-03-31)"
   ]
  },
  {
   "cell_type": "markdown",
   "metadata": {
    "deletable": true,
    "editable": true
   },
   "source": [
    "## * Discovering the middle date of the database"
   ]
  },
  {
   "cell_type": "code",
   "execution_count": null,
   "metadata": {
    "collapsed": false,
    "deletable": true,
    "editable": true
   },
   "outputs": [],
   "source": [
    "try:\n",
    "    try:\n",
    "        middle_date=(min(df_attacks['date'])+((max(df_attacks['date'])-min(df_attacks['date']))/2))\n",
    "        raise\n",
    "    except Exception:\n",
    "        pass\n",
    "\n",
    "    try:\n",
    "        middle_date=(min(df_logins['date'])+((max(df_logins['date'])-min(df_logins['date']))/2))\n",
    "        raise\n",
    "    except Exception:\n",
    "        pass\n",
    "\n",
    "    try:\n",
    "        middle_date=(min(df_payments['date'])+((max(df_payments['date'])-min(df_payments['date']))/2))\n",
    "        raise\n",
    "    except:\n",
    "        pass\n",
    "except Exception:\n",
    "    print(\"There is no date in the entire dataset\")\n",
    "\n",
    "date_tor_check = middle_date.strftime('%Y-%m-%d')\n",
    "date_iptoasn_lookup= str(middle_date)\n",
    "print(date_tor_check)"
   ]
  },
  {
   "cell_type": "markdown",
   "metadata": {
    "deletable": true,
    "editable": true
   },
   "source": [
    "## * Preparing to Perform IP to ASN info"
   ]
  },
  {
   "cell_type": "code",
   "execution_count": null,
   "metadata": {
    "collapsed": false,
    "deletable": true,
    "editable": true
   },
   "outputs": [],
   "source": [
    "df_logins['middledate']=date_iptoasn_lookup\n",
    "df_attacks['middledate']=date_iptoasn_lookup\n",
    "df_friendsenemies['middledate']=date_iptoasn_lookup\n",
    "df_blacklist['middledate']=date_iptoasn_lookup"
   ]
  },
  {
   "cell_type": "markdown",
   "metadata": {
    "deletable": true,
    "editable": true
   },
   "source": [
    "## 2.1.1  Lookup IP to ASN info of table: logins"
   ]
  },
  {
   "cell_type": "code",
   "execution_count": null,
   "metadata": {
    "collapsed": false,
    "deletable": true,
    "editable": true
   },
   "outputs": [],
   "source": [
    "if (os.path.exists('enrichments/logins_iptoasn_out')== False):\n",
    "    logins_iptoasn_in = open('enrichments/logins_iptoasn_in', 'w+')\n",
    "    logins_iptoasn_in.write('begin\\nverbose\\n')\n",
    "    df_logins[['userip','middledate']].drop_duplicates().to_csv(logins_iptoasn_in,header=False,index=False,sep=\"\\t\") \n",
    "    logins_iptoasn_in.write('end')\n",
    "    logins_iptoasn_in.close()\n",
    "\n",
    "    logins_iptoasn_out = open('logins_iptoasn_out', 'w+')\n",
    "    iptoasn('logins_iptoasn_in',logins_iptoasn_out)\n",
    "    logins_iptoasn_out.close()\n",
    "else:\n",
    "    print(\"You already performed the lookup for this table\")"
   ]
  },
  {
   "cell_type": "code",
   "execution_count": null,
   "metadata": {
    "collapsed": false,
    "deletable": true,
    "editable": true
   },
   "outputs": [],
   "source": [
    "df_logins_iptoasn = pd.read_csv('enrichments/logins_iptoasn_out',\\\n",
    "                                skiprows=1,\\\n",
    "                             delimiter=\"\\s+\\|\\s\",\\\n",
    "                             names = ['asn', 'ip', 'bgp_prefix', 'country','registry','info_date','info_request','as_name'])\n",
    "\n",
    "df_logins_extended= pd.merge(df_logins,\n",
    "                              df_logins_iptoasn,\n",
    "                              how = 'left',\n",
    "                              left_on = 'userip',\n",
    "                              right_on = 'ip')\n",
    "\n",
    "# Changing name of columns to avoid misunderstandings\n",
    "df_logins_extended.rename(columns={'asn':'srcasn', \n",
    "                                   'ip':'srcip', \n",
    "                                   'bgp_prefix':'srcbgp_prefix', \n",
    "                                   'country':'srccountry' ,\n",
    "                                   'registry':'srcregistry',\n",
    "                                   'info_date':'srcinfo_date',\n",
    "                                   'info_request':'srcinfo_request'},\n",
    "                         inplace=True)\n",
    "\n",
    "\n",
    "df_logins_extended.head(5)"
   ]
  },
  {
   "cell_type": "markdown",
   "metadata": {
    "deletable": true,
    "editable": true
   },
   "source": [
    "## 2.1.2  Lookup IP to ASN info of table: attacks"
   ]
  },
  {
   "cell_type": "code",
   "execution_count": null,
   "metadata": {
    "collapsed": false,
    "deletable": true,
    "editable": true
   },
   "outputs": [],
   "source": [
    "if (os.path.exists('enrichments/attacks_iptoasn_out')== False):\n",
    "    attacks_iptoasn_in = open('enrichments/attacks_iptoasn_in', 'w+')\n",
    "    attacks_iptoasn_in.write('begin\\nverbose\\n')\n",
    "    df_attacks[['targetip','middledate']].drop_duplicates().to_csv(attacks_iptoasn_in,header=False,index=False,sep=\"\\t\") \n",
    "    attacks_iptoasn_in.write('end')\n",
    "    attacks_iptoasn_in.close()\n",
    "\n",
    "    attacks_iptoasn_out = open('attacks_iptoasn_out', 'w+')\n",
    "    iptoasn('attacks_iptoasn_in',attacks_iptoasn_out)\n",
    "    attacks_iptoasn_out.close()\n",
    "else:\n",
    "    print(\"You already performed the lookup for this table\")"
   ]
  },
  {
   "cell_type": "code",
   "execution_count": null,
   "metadata": {
    "collapsed": false,
    "deletable": true,
    "editable": true
   },
   "outputs": [],
   "source": [
    "df_attacks_iptoasn = pd.read_csv('enrichments/attacks_iptoasn_out',\\\n",
    "                                skiprows=1,\\\n",
    "                             delimiter=\"\\s+\\|\\s\",\\\n",
    "                             names = ['asn', 'ip', 'bgp_prefix', 'country','registry','info_date','info_request','as_name'])\n",
    "\n",
    "# Merging the iptoasn with the queried column\n",
    "df_attacks_extended= pd.merge(df_attacks,\n",
    "                              df_attacks_iptoasn,\n",
    "                              how = 'left',\n",
    "                              left_on = 'targetip',\n",
    "                              right_on = 'ip')\n",
    "\n",
    "# Changing name of columns to avoid misunderstandings\n",
    "df_attacks_extended.rename(columns={'asn':'targetasn', \n",
    "                                   'ip_y':'targetip', \n",
    "                                   'bgp_prefix':'targetbgp_prefix', \n",
    "                                   'country_y':'targetcountry' ,\n",
    "                                   'registry':'targetregistry',\n",
    "                                   'info_date':'targetinfo_date',\n",
    "                                   'info_request':'targetinfo_request'},\n",
    "                         inplace=True)\n",
    "df_attacks_extended.head(5)"
   ]
  },
  {
   "cell_type": "markdown",
   "metadata": {
    "deletable": true,
    "editable": true
   },
   "source": [
    "## 2.1.3  Lookup IP to ASN info of table: friendsenemies"
   ]
  },
  {
   "cell_type": "code",
   "execution_count": null,
   "metadata": {
    "collapsed": false,
    "deletable": true,
    "editable": true
   },
   "outputs": [],
   "source": [
    "if (os.path.exists('enrichments/friendsenemies_iptoasn_out')== False):\n",
    "    friendsenemies_iptoasn_in = open('enrichments/friendsenemies_iptoasn_in', 'w+')\n",
    "    friendsenemies_iptoasn_in.write('begin\\nverbose\\n')\n",
    "    df_friendsenemies[['ip','middledate']].drop_duplicates().to_csv(friendsenemies_iptoasn_in,header=False,index=False,sep=\"\\t\") \n",
    "    friendsenemies_iptoasn_in.write('end')\n",
    "    friendsenemies_iptoasn_in.close()\n",
    "\n",
    "    friendsenemies_iptoasn_out = open('friendsenemies_iptoasn_out', 'w+')\n",
    "    iptoasn('friendsenemies_iptoasn_in',friendsenemies_iptoasn_out)\n",
    "    friendsenemies_iptoasn_out.close()\n",
    "else:\n",
    "    print(\"You already performed the lookup for this table.\")"
   ]
  },
  {
   "cell_type": "code",
   "execution_count": null,
   "metadata": {
    "collapsed": false,
    "deletable": true,
    "editable": true
   },
   "outputs": [],
   "source": [
    "df_friendsenemies_iptoasn = pd.read_csv('enrichments/friendsenemies_iptoasn_out',\\\n",
    "                                skiprows=1,\\\n",
    "                             delimiter=\"\\s+\\|\\s\",\\\n",
    "                             names = ['asn', 'ip', 'bgp_prefix', 'country','registry','info_date','info_request','as_name'])\n",
    "\n",
    "# Merging the iptoasn with the queried column\n",
    "df_friendsenemies_extended= pd.merge(df_friendsenemies,\n",
    "                              df_friendsenemies_iptoasn,\n",
    "                              how = 'left',\n",
    "                              left_on = 'ip',\n",
    "                              right_on = 'ip')\n",
    "\n",
    "# Changing name of columns to avoid misunderstandings\n",
    "df_friendsenemies_extended.rename(columns={'asn':'friendsenemiesasn', \n",
    "                                   'ip':'friendsenemiesip', \n",
    "                                   'bgp_prefix':'friendsenemiesbgp_prefix', \n",
    "                                   'country':'friendsenemiescountry' ,\n",
    "                                   'registry':'friendsenemiesregistry',\n",
    "                                   'info_date':'friendsenemiesinfo_date',\n",
    "                                   'info_request':'friendsenemiesinfo_request',\n",
    "                                   'as_name': 'friendsenemiesas_name'},\n",
    "                         inplace=True)"
   ]
  },
  {
   "cell_type": "markdown",
   "metadata": {
    "deletable": true,
    "editable": true
   },
   "source": [
    "## 2.1.4  Lookup IP to ASN info of table: blacklist"
   ]
  },
  {
   "cell_type": "code",
   "execution_count": null,
   "metadata": {
    "collapsed": false,
    "deletable": true,
    "editable": true
   },
   "outputs": [],
   "source": [
    "if (os.path.exists('enrichments/blacklist_iptoasn_out')== False):\n",
    "    blacklist_iptoasn_in = open('enrichments/blacklist_iptoasn_in', 'w+')\n",
    "    blacklist_iptoasn_in.write('begin\\nverbose\\n')\n",
    "    df_blacklist[['ip','middledate']].drop_duplicates().to_csv(blacklist_iptoasn_in,header=False,index=False,sep=\"\\t\") \n",
    "    blacklist_iptoasn_in.write('end')\n",
    "    blacklist_iptoasn_in.close()\n",
    "\n",
    "    blacklist_iptoasn_out = open('blacklist_iptoasn_out', 'w+')\n",
    "    iptoasn('blacklist_iptoasn_in',blacklist_iptoasn_out)\n",
    "    blacklist_iptoasn_out.close()\n",
    "else:\n",
    "    print(\"You already performed the lookup for this table.\")"
   ]
  },
  {
   "cell_type": "code",
   "execution_count": null,
   "metadata": {
    "collapsed": false,
    "deletable": true,
    "editable": true
   },
   "outputs": [],
   "source": [
    "df_blacklist_iptoasn = pd.read_csv('enrichments/blacklist_iptoasn_out',\\\n",
    "                                skiprows=1,\\\n",
    "                             delimiter=\"\\s+\\|\\s\",\\\n",
    "                             names = ['asn', 'ip', 'bgp_prefix', 'country','registry','info_date','info_request','as_name'])\n",
    "\n",
    "# Merging the iptoasn with the queried column\n",
    "df_blacklist_extended= pd.merge(df_blacklist,\n",
    "                              df_blacklist_iptoasn,\n",
    "                              how = 'left',\n",
    "                              left_on = 'ip',\n",
    "                              right_on = 'ip')\n",
    "\n",
    "# Changing name of columns to avoid misunderstandings\n",
    "df_blacklist_extended.rename(columns={'asn':'blacklistasn', \n",
    "                                   'ip':'blacklistip', \n",
    "                                   'bgp_prefix':'blacklistbgp_prefix', \n",
    "                                   'country':'blacklistcountry' ,\n",
    "                                   'registry':'blacklistregistry',\n",
    "                                   'info_date':'blacklistinfo_date',\n",
    "                                   'info_request':'blacklistinfo_request',\n",
    "                                   'as_name': 'blacklistas_name'},\n",
    "                         inplace=True)\n",
    "df_blacklist_extended.head(5)"
   ]
  },
  {
   "cell_type": "markdown",
   "metadata": {
    "deletable": true,
    "editable": true
   },
   "source": [
    "## 2.2.1. Check if IP was a TOR node for table: login"
   ]
  },
  {
   "cell_type": "code",
   "execution_count": null,
   "metadata": {
    "collapsed": false,
    "deletable": true,
    "editable": true
   },
   "outputs": [],
   "source": [
    "date_tor_check"
   ]
  },
  {
   "cell_type": "code",
   "execution_count": null,
   "metadata": {
    "collapsed": false,
    "deletable": true,
    "editable": true,
    "scrolled": true
   },
   "outputs": [],
   "source": [
    "if len(df_logins['userip'].unique())<1200:\n",
    "    if (os.path.exists('enrichments/logins_torcheck')== False):\n",
    "        print(\"Note: it can take a while to finish...\")\n",
    "        logins_torcheck = open('logins_torcheck', 'w+')\n",
    "        for i in df_logins['userip'].unique():\n",
    "            wasTor=WasTorNode(i,date_tor_check)\n",
    "            print(i, wasTor, file=logins_torcheck)\n",
    "    #         print(i, wasTor) #DEBUGING =D\n",
    "            time.sleep(random.randint(1,3)) #adding some random sleep time\n",
    "            logins_torcheck.flush()\n",
    "\n",
    "        logins_torcheck.close()\n",
    "    else:\n",
    "        print(\"The IP addresses from this table were already checked.\")\n",
    "else:\n",
    "        print(\"Aborted!!! It will take more than one hour to analyse!\")"
   ]
  },
  {
   "cell_type": "code",
   "execution_count": null,
   "metadata": {
    "collapsed": true,
    "deletable": true,
    "editable": true
   },
   "outputs": [],
   "source": [
    "df_logins_torcheck = pd.read_csv('enrichments/logins_torcheck',\\\n",
    "                          delimiter=\"\\s+\",\\\n",
    "                          names = ['userip', 'tor'])"
   ]
  },
  {
   "cell_type": "markdown",
   "metadata": {
    "deletable": true,
    "editable": true
   },
   "source": [
    "## 2.2.2. Check if IP was a TOR node for table: attacks"
   ]
  },
  {
   "cell_type": "code",
   "execution_count": null,
   "metadata": {
    "collapsed": false,
    "deletable": true,
    "editable": true,
    "scrolled": false
   },
   "outputs": [],
   "source": [
    "if len(df_attacks['targetip'].unique())<1200:\n",
    "    if (os.path.exists('enrichments/attacks_torcheck')== False):\n",
    "        print(\"Note: it can take a while to finish...\",len(df_attacks['targetip'].unique())*3,\"seconds (in the worst case).\")\n",
    "\n",
    "        attacks_torcheck = open('attacks_torcheck', 'w+')\n",
    "\n",
    "        for i in df_attacks['targetip'].unique():\n",
    "            wasTor=WasTorNode(i,date_tor_check)\n",
    "            print(i, wasTor, file=attacks_torcheck)\n",
    "            print(i, wasTor) #DEBUGING =D\n",
    "            time.sleep(random.randint(1,3)) #adding some random sleep time\n",
    "            attacks_torcheck.flush()\n",
    "\n",
    "        attacks_torcheck.close()\n",
    "    else:\n",
    "        print(\"The IP addresses from this table were already checked.\") \n",
    "else:\n",
    "        print(\"Aborted!!! It will take more than one hour to analyse!\")"
   ]
  },
  {
   "cell_type": "code",
   "execution_count": null,
   "metadata": {
    "collapsed": true,
    "deletable": true,
    "editable": true
   },
   "outputs": [],
   "source": [
    "df_attacks_torcheck = pd.read_csv('enrichments/attacks_torcheck',\\\n",
    "                          delimiter=\"\\s+\",\\\n",
    "                          names = ['targetip', 'tor'])"
   ]
  },
  {
   "cell_type": "markdown",
   "metadata": {
    "deletable": true,
    "editable": true
   },
   "source": [
    "## 2.2.3. Check if IP was a TOR node for table: friendsenemies"
   ]
  },
  {
   "cell_type": "code",
   "execution_count": null,
   "metadata": {
    "collapsed": false,
    "deletable": true,
    "editable": true
   },
   "outputs": [],
   "source": [
    "if len(df_friendsenemies['ip'].unique()) <1200:\n",
    "    if (os.path.exists('enrichments/friendsenemies_torcheck')== False):\n",
    "        print(\"Note: it can take a while to finish...\",len(df_friendsenemies['ip'].unique())*3,\"seconds (in the worst case).\")\n",
    "\n",
    "        friendsenemies_torcheck = open('enrichments/friendsenemies_torcheck', 'w+')\n",
    "\n",
    "        for i in df_friendsenemies['ip'].unique():\n",
    "            wasTor=WasTorNode(i,date_tor_check)\n",
    "            print(i, wasTor, file=friendsenemies_torcheck)\n",
    "        #     print(i, wasTor) #DEBUGING =D\n",
    "            time.sleep(random.randint(1,3)) #adding some random sleep time\n",
    "            friendsenemies_torcheck.flush()\n",
    "\n",
    "        friendsenemies_torcheck.close()\n",
    "    else:\n",
    "        print(\"The IP addresses from this table were already checked.\") \n",
    "else:\n",
    "        print(\"Aborted!!! It will take more than one hour to analyse!\")"
   ]
  },
  {
   "cell_type": "code",
   "execution_count": null,
   "metadata": {
    "collapsed": true,
    "deletable": true,
    "editable": true
   },
   "outputs": [],
   "source": [
    "df_friendsenemies_torcheck = pd.read_csv('enrichments/friendsenemies_torcheck',\\\n",
    "                          delimiter=\"\\s+\",\\\n",
    "                          names = ['ip', 'tor'])"
   ]
  },
  {
   "cell_type": "markdown",
   "metadata": {
    "deletable": true,
    "editable": true
   },
   "source": [
    "## 2.2.4. Check if IP was a TOR node for table: blacklist"
   ]
  },
  {
   "cell_type": "code",
   "execution_count": null,
   "metadata": {
    "collapsed": false,
    "deletable": true,
    "editable": true
   },
   "outputs": [],
   "source": [
    "if len(df_blacklist['ip'].unique()) < 1200:\n",
    "    if (os.path.exists('enrichments/blacklist_torcheck')== False):\n",
    "        print(\"Note: it can take a while to finish...\",len(df_blacklist['ip'].unique())*3,\"seconds (in the worst case).\")\n",
    "\n",
    "        blacklist_torcheck = open('enrichments/blacklist_torcheck', 'w+')\n",
    "\n",
    "        for i in df_blacklist['ip'].unique():\n",
    "            wasTor=WasTorNode(i,date_tor_check)\n",
    "            print(i, wasTor, file=blacklist_torcheck)\n",
    "    #         print(i, wasTor) #DEBUGING =D\n",
    "            time.sleep(random.randint(1,3)) #adding some random sleep time\n",
    "            blacklist_torcheck.flush()\n",
    "\n",
    "        blacklist_torcheck.close()\n",
    "    else:\n",
    "        print(\"The IP addresses from this table were already checked.\") \n",
    "else:\n",
    "        print(\"Aborted!!! It will take more than one hour to analyse!\")"
   ]
  },
  {
   "cell_type": "code",
   "execution_count": null,
   "metadata": {
    "collapsed": true,
    "deletable": true,
    "editable": true
   },
   "outputs": [],
   "source": [
    "df_blacklist_torcheck = pd.read_csv('enrichments/blacklist_torcheck',\\\n",
    "                          delimiter=\"\\s+\",\\\n",
    "                          names = ['ip', 'tor'])"
   ]
  },
  {
   "cell_type": "markdown",
   "metadata": {
    "deletable": true,
    "editable": true
   },
   "source": [
    "## * Relation between Attack dates and Login dates"
   ]
  },
  {
   "cell_type": "code",
   "execution_count": null,
   "metadata": {
    "collapsed": true,
    "deletable": true,
    "editable": true
   },
   "outputs": [],
   "source": [
    "def nearestDate(base_date, date_list):\n",
    "    nearest={}\n",
    "    for date in date_list:\n",
    "        if (base_date.timestamp() - date.timestamp())>=0:\n",
    "            nearest[base_date.timestamp() - date.timestamp()]= date\n",
    "    return nearest[min(nearest.keys())]"
   ]
  },
  {
   "cell_type": "code",
   "execution_count": null,
   "metadata": {
    "collapsed": false,
    "deletable": true,
    "editable": true
   },
   "outputs": [],
   "source": [
    "#This is the TOTAL number records to be checks!!!!\n",
    "len(df_attacks)"
   ]
  },
  {
   "cell_type": "code",
   "execution_count": null,
   "metadata": {
    "collapsed": true,
    "deletable": true,
    "editable": true
   },
   "outputs": [],
   "source": [
    "df_attacks['nearestlogin']=\"\"\n",
    "df_attacks['nearestlogin']=pd.to_datetime(df_attacks['nearestlogin'])\n",
    "    \n",
    "if len(df_attacks)>0 and len(df_logins)>0:\n",
    "    #When was the last login of the user that performed attacks\n",
    "    df_attacks['nearestlogin']=\"\"\n",
    "    df_attacks['nearestlogin']=pd.to_datetime(df_attacks['nearestlogin'])\n",
    "\n",
    "    for index, row in df_attacks.head(100).iterrows():\n",
    "        intermediate_df= df_logins[df_logins['username']==row['username']]\n",
    "        nearestlogindate= nearestDate(row['date'],intermediate_df['date'])\n",
    "        df_attacks.set_value(index, 'nearestlogin', nearestlogindate)\n",
    "\n",
    "        #DEBUGGING\n",
    "        if index % 1000 == 0:\n",
    "            print(index,\": +1000 records analysed\")"
   ]
  },
  {
   "cell_type": "code",
   "execution_count": null,
   "metadata": {
    "collapsed": false,
    "deletable": true,
    "editable": true
   },
   "outputs": [],
   "source": [
    "if len(df_attacks['nearestlogin'].value_counts()) >1:\n",
    "    df_attacks_and_logins = pd.merge(df_attacks_extended,\n",
    "                                     df_logins_extended,\n",
    "                                     how = 'left',\n",
    "                                     left_on = ['username','nearestlogin'],\n",
    "                                     right_on = ['username','date'])\n",
    "else:\n",
    "    df_attacks_and_logins=\"\""
   ]
  },
  {
   "cell_type": "markdown",
   "metadata": {
    "deletable": true,
    "editable": true
   },
   "source": [
    "<h2 align=\"center\">\n",
    "!!!!!!!!!!!!!!!!!!!!!!!!!!!!!!!!!!!!!!!!!!!!!!!!!!!!!!!!!!!!!!!!!!!!!!!!!!!!!!!!!!!!!!!!!!!!!!!!!!!!!!!!!!!!!!!!!!!!!!!!!!!!!!!!!!!!!!!!!<br>\n",
    "STEP 3: Automatic Analysis\n",
    "<br>\n",
    "!!!!!!!!!!!!!!!!!!!!!!!!!!!!!!!!!!!!!!!!!!!!!!!!!!!!!!!!!!!!!!!!!!!!!!!!!!!!!!!!!!!!!!!!!!!!!!!!!!!!!!!!!!!!!!!!!!!!!!!!!!!!!!!</h3> "
   ]
  },
  {
   "cell_type": "markdown",
   "metadata": {
    "deletable": true,
    "editable": true
   },
   "source": [
    "## * Libraries that I use to plot figs"
   ]
  },
  {
   "cell_type": "code",
   "execution_count": null,
   "metadata": {
    "collapsed": true,
    "deletable": true,
    "editable": true
   },
   "outputs": [],
   "source": [
    "import matplotlib.pyplot as plt\n",
    "from matplotlib_venn import *\n",
    "%matplotlib inline\n",
    "\n",
    "import seaborn as sns\n",
    "import itertools\n",
    "\n",
    "plt.style.use('seaborn-muted')\n",
    "# plt.rcParams['font.family'] = 'serif'\n",
    "# plt.rcParams['font.size'] = 12\n",
    "\n",
    "import warnings\n",
    "warnings.filterwarnings('ignore')"
   ]
  },
  {
   "cell_type": "markdown",
   "metadata": {
    "deletable": true,
    "editable": true
   },
   "source": [
    "## A.1. Number of records per table (part of the generic Booter database schema)"
   ]
  },
  {
   "cell_type": "code",
   "execution_count": null,
   "metadata": {
    "collapsed": false,
    "deletable": true,
    "editable": true
   },
   "outputs": [],
   "source": [
    "len(df_users),len(df_logins),len(df_attacks),len(df_payments),len(df_settings),len(df_gateways), len(df_friendsenemies),len(df_blacklist),len(df_webshells),len(df_servers),len(df_plans)"
   ]
  },
  {
   "cell_type": "markdown",
   "metadata": {
    "deletable": true,
    "editable": true
   },
   "source": [
    "## A.2. Number of users, customers, attackers, and their intersection"
   ]
  },
  {
   "cell_type": "code",
   "execution_count": null,
   "metadata": {
    "collapsed": false,
    "deletable": true,
    "editable": true
   },
   "outputs": [],
   "source": [
    "if len(set(df_users['userid'].unique())) > 1:\n",
    "    users_set=set(df_users['userid'].unique())\n",
    "else:\n",
    "    users_set=set(df_users['username'].unique())\n",
    "    \n",
    "if len(set(df_logins['userid'].unique())) > 1:\n",
    "    userslogin_set=set(df_logins['userid'].unique())\n",
    "else:\n",
    "    userslogin_set=set(df_logins['username'].unique())\n",
    "\n",
    "if len(set(df_payments['userid'].unique())) > 1:\n",
    "    customers_set=set(df_payments['userid'].unique())\n",
    "else:\n",
    "    customers_set=set(df_payments['username'].unique())\n",
    "\n",
    "if len(set(df_attacks['userid'].unique())) > 1:\n",
    "    attackers_set=set(df_attacks['userid'].unique())\n",
    "else:\n",
    "    attackers_set=set(df_attacks['username'].unique())\n",
    "\n",
    "intersec_customers_attacker=pd.Series(list(customers_set.intersection(attackers_set)))\n",
    "intersec_users_customers=pd.Series(list(users_set.intersection(customers_set)))\n",
    "intersec_users_attackers=pd.Series(list(users_set.intersection(attackers_set)))\n",
    "intersec_users_customers_attackers=pd.Series(list(users_set.intersection(customers_set).intersection(attackers_set)))"
   ]
  },
  {
   "cell_type": "code",
   "execution_count": null,
   "metadata": {
    "collapsed": false,
    "deletable": true,
    "editable": true
   },
   "outputs": [],
   "source": [
    "len(users_set),len(userslogin_set),len(customers_set),len(attackers_set)"
   ]
  },
  {
   "cell_type": "code",
   "execution_count": null,
   "metadata": {
    "collapsed": false,
    "deletable": true,
    "editable": true
   },
   "outputs": [],
   "source": [
    "fig = plt.figure(figsize=(4,3))\n",
    "fig.suptitle('Users, Customers & Attackers', fontsize=14)\n",
    "\n",
    "ax = plt.subplot2grid((1,1), (0,0))\n",
    "\n",
    "venn=venn3(ax=ax,subsets = {'001':len(attackers_set)-len(intersec_customers_attacker)-len(intersec_users_attackers)+len(intersec_users_customers_attackers), \n",
    "                            '010':len(customers_set)-len(intersec_users_customers)-len(intersec_customers_attacker)+len(intersec_users_customers_attackers), \n",
    "                            '011':len(intersec_customers_attacker)-len(intersec_users_customers_attackers),\n",
    "                            '100':len(users_set)-len(intersec_users_customers)-len(intersec_users_attackers)+len(intersec_users_customers_attackers),\n",
    "                            '101':len(intersec_users_attackers)-len(intersec_users_customers_attackers),\n",
    "                            '110':len(intersec_users_customers)-len(intersec_users_customers_attackers),\n",
    "                            '111':len(intersec_users_customers_attackers)},\\\n",
    "          set_labels = ('Users', 'Customers','Attackers'),\\\n",
    "          alpha=1)\n",
    "try:\n",
    "    venn.get_patch_by_id('100').set_color('#404096')\n",
    "except:\n",
    "    print(\"*Users set is empty!\")  \n",
    "    \n",
    "try:\n",
    "    venn.get_patch_by_id('110').set_color('#DEA73A')\n",
    "except:\n",
    "    print(\"*Customers set is empty!\")   \n",
    "\n",
    "try:\n",
    "    venn.get_patch_by_id('001').set_color('#D92120')\n",
    "except:\n",
    "    print(\"*Attackers set is empty!\")\n",
    "\n",
    "fig.show()\n",
    "# fig.savefig('../figs/timeseries_attacks.eps', format='eps', dpi=1200) "
   ]
  },
  {
   "cell_type": "markdown",
   "metadata": {
    "deletable": true,
    "editable": true
   },
   "source": [
    "## A.3. Distribution of login times per user"
   ]
  },
  {
   "cell_type": "code",
   "execution_count": null,
   "metadata": {
    "collapsed": false,
    "deletable": true,
    "editable": true
   },
   "outputs": [],
   "source": [
    "if len(df_logins['userid'].value_counts()) > 0:\n",
    "    num_distinct_logins_per_user=df_logins['userid'].value_counts()\n",
    "else:\n",
    "    num_distinct_logins_per_user=df_logins['username'].value_counts()\n",
    "\n",
    "freq_distinct_logins_per_user=num_distinct_logins_per_user.value_counts()\n",
    "cum_dist_user_logins = np.linspace(0.,1.,len(num_distinct_logins_per_user))\n",
    "cdf_user_logins = pd.Series(cum_dist_user_logins, index=num_distinct_logins_per_user.sort_values())"
   ]
  },
  {
   "cell_type": "code",
   "execution_count": null,
   "metadata": {
    "collapsed": false,
    "deletable": true,
    "editable": true
   },
   "outputs": [],
   "source": [
    "if len(num_distinct_logins_per_user)>0:\n",
    "    fig = plt.figure(figsize=(6, 3))\n",
    "    fig.suptitle('* Distribution of Login Times by Users:', fontsize=14, y=1.05,x=0.35)\n",
    "    \n",
    "    #Plot CDF\n",
    "    ax1 = plt.subplot2grid((1,2), (0,0))\n",
    "    ax1 = cdf_user_logins.plot(ax=ax1,lw=2, drawstyle='steps',legend=False)\n",
    "    ax1.set_xlabel(\"# logins\")\n",
    "    ax1.set_ylabel(\"CDF of Users\")\n",
    "    ax1.set_ylim(0,1.05)\n",
    "    ax1.set_title(\"\")\n",
    "    plt.setp(ax1.xaxis.get_majorticklabels(), rotation=45)\n",
    "\n",
    "    \n",
    "    ax2 = plt.subplot2grid((1,2), (0,1))\n",
    "    freq_distinct_logins_per_user.plot(ax=ax2,kind='pie', \n",
    "                                       labels=None, \n",
    "                                       legend=False,\n",
    "                                       startangle=270,\n",
    "#                                        colors=sns.color_palette()\n",
    "                                       )\n",
    "    ax2.set_ylabel(\"\")\n",
    "    \n",
    "    \n",
    "    \n",
    "    ####\n",
    "    # For Pie Chart Better Legend box\n",
    "    porcent = (100.*freq_distinct_logins_per_user.values)/(freq_distinct_logins_per_user.values.sum())\n",
    "    labels = ['{0} - {1:1.2f} %'.\\\n",
    "              format(i,j) for i,j in zip(freq_distinct_logins_per_user.index, porcent)]\n",
    "    # To Sort Legend (defaulf: keeps the same order)\n",
    "#     patches, labels, dummy =  zip(*sorted(zip(patches, labels, freq_distinct_logins_per_user.values),\n",
    "#                                           key=lambda x: x[2],\n",
    "#                                           reverse=True))\n",
    "    legend_show_top=10\n",
    "    ax2.legend(ax2.patches[0:legend_show_top], \n",
    "               labels[0:legend_show_top], \n",
    "               bbox_to_anchor=(1.5, 1.),\n",
    "               fontsize=10)\n",
    "    ####\n",
    "    \n",
    "    fig.tight_layout()\n",
    "    fig.show()\n",
    "    fig.savefig('figs/login_times.eps', bbox_inches='tight',format='eps', dpi=1200)\n",
    "else:\n",
    "    print(\"Unfortunately, there is no data available!\")\n"
   ]
  },
  {
   "cell_type": "markdown",
   "metadata": {
    "deletable": true,
    "editable": true
   },
   "source": [
    "## 5.3. Number of Users that Login via TOR"
   ]
  },
  {
   "cell_type": "code",
   "execution_count": null,
   "metadata": {
    "collapsed": false,
    "deletable": true,
    "editable": true
   },
   "outputs": [],
   "source": [
    "len(df_logins_torcheck[df_logins_torcheck['tor']==True]['userip'].value_counts())"
   ]
  },
  {
   "cell_type": "markdown",
   "metadata": {
    "deletable": true,
    "editable": true
   },
   "source": [
    "## 5.4. Number of Distinct IP addresses by Users"
   ]
  },
  {
   "cell_type": "code",
   "execution_count": null,
   "metadata": {
    "collapsed": false,
    "deletable": true,
    "editable": true
   },
   "outputs": [],
   "source": [
    "if len(df_logins.groupby(['userid','userip']).size().reset_index()['userid'].value_counts()) >0:\n",
    "    num_distinct_ips_per_user=df_logins.groupby(['userid','userip']).size().reset_index()['userid'].value_counts()\n",
    "else:\n",
    "    num_distinct_ips_per_user=df_logins.groupby(['username','userip']).size().reset_index()['username'].value_counts()\n",
    "    \n",
    "freq_distinct_ips_per_user=num_distinct_ips_per_user.value_counts()\n",
    "cum_dist_user_ips = np.linspace(0.,1.,len(num_distinct_ips_per_user))\n",
    "cdf_user_ips = pd.Series(cum_dist_user_ips, index=num_distinct_ips_per_user.sort_values())"
   ]
  },
  {
   "cell_type": "code",
   "execution_count": null,
   "metadata": {
    "collapsed": false,
    "deletable": true,
    "editable": true
   },
   "outputs": [],
   "source": [
    "if len(num_distinct_ips_per_user)>0:\n",
    "    fig = plt.figure(figsize=(6, 3))\n",
    "    fig.suptitle('* Distribution of Distinct IP address used by Users:', fontsize=14, y=1.05, x=0.4)\n",
    "\n",
    "    ax1 = plt.subplot2grid((1,2), (0,0))\n",
    "    ax1 = cdf_user_ips.plot( ax=ax1,lw=2, drawstyle='steps',legend=False)\n",
    "    ax1.set_xlabel(\"# IPs\")\n",
    "    ax1.set_ylabel(\"CDF of Users\")\n",
    "    ax1.set_ylim(0,1.05)\n",
    "    plt.setp(ax1.xaxis.get_majorticklabels(), rotation=45)\n",
    "    \n",
    "    ax2 = plt.subplot2grid((1,2), (0,1))\n",
    "    freq_distinct_ips_per_user.plot(ax=ax2,kind='pie',\n",
    "                                    labels=None,legend=False,\n",
    "                                       startangle=270,\n",
    "#                                        colors=sns.color_palette()\n",
    "                                       )\n",
    "    ax2.set_ylabel(\"\")\n",
    "    ####\n",
    "    # For Pie Chart Better Legend box\n",
    "    porcent = (100.*freq_distinct_ips_per_user.values)/(freq_distinct_ips_per_user.values.sum())\n",
    "    labels = ['{0} - {1:1.2f} %'.\\\n",
    "              format(i,j) for i,j in zip(freq_distinct_ips_per_user.index, porcent)]\n",
    "    # To Sort Legend (defaulf: keeps the same order)\n",
    "#     patches, labels, dummy =  zip(*sorted(zip(patches, labels, freq_distinct_logins_per_user.values),\n",
    "#                                           key=lambda x: x[2],\n",
    "#                                           reverse=True))\n",
    "    legend_show_top=10\n",
    "    ax2.legend(ax2.patches[0:legend_show_top], \n",
    "               labels[0:legend_show_top], \n",
    "               bbox_to_anchor=(1.5, 1.),\n",
    "               fontsize=10)\n",
    "    ####\n",
    "    \n",
    "    fig.tight_layout()\n",
    "    fig.show()\n",
    "    fig.savefig('figs/num_ips_by_users.eps', bbox_inches='tight',format='eps', dpi=1200)\n",
    "else:\n",
    "    print(\"Unfortunately, there is no data available!\")\n"
   ]
  },
  {
   "cell_type": "markdown",
   "metadata": {
    "deletable": true,
    "editable": true
   },
   "source": [
    "## 5.5. Number of Payments by Users"
   ]
  },
  {
   "cell_type": "code",
   "execution_count": null,
   "metadata": {
    "collapsed": false,
    "deletable": true,
    "editable": true
   },
   "outputs": [],
   "source": [
    "if len(df_payments['userid'].value_counts())>0:\n",
    "    num_distinct_payments_per_user=df_payments['userid'].value_counts()\n",
    "else:\n",
    "    num_distinct_payments_per_user=df_payments['username'].value_counts()\n",
    "\n",
    "freq_distinct_payments_per_user=num_distinct_payments_per_user.value_counts()\n",
    "cum_dist_user_payments = np.linspace(0.,1.,len(num_distinct_payments_per_user))\n",
    "cdf_user_payments = pd.Series(cum_dist_user_payments, index=num_distinct_payments_per_user.sort_values())"
   ]
  },
  {
   "cell_type": "code",
   "execution_count": null,
   "metadata": {
    "collapsed": false,
    "deletable": true,
    "editable": true
   },
   "outputs": [],
   "source": [
    "if len(num_distinct_payments_per_user)>0:\n",
    "    fig = plt.figure(figsize=(6, 3))\n",
    "    fig.suptitle('* Distribution of Number of Payments by Users:', fontsize=14, y=1.05, x=0.4)\n",
    "\n",
    "    ax1 = plt.subplot2grid((1,2), (0,0))\n",
    "    ax1 = cdf_user_payments.plot( ax=ax1,lw=2, drawstyle='steps',legend=False)\n",
    "    ax1.set_xlabel(\"# Payment\")\n",
    "    ax1.set_ylabel(\"CDF of Users\")\n",
    "    ax1.set_ylim(0,1.05)\n",
    "    plt.setp(ax1.xaxis.get_majorticklabels(), rotation=45)\n",
    "    \n",
    "    ax2 = plt.subplot2grid((1,2), (0,1))\n",
    "    freq_distinct_payments_per_user.plot(ax=ax2,kind='pie', \n",
    "                                         labels=None,legend=False,\n",
    "                                         startangle=270)\n",
    "    ax2.set_ylabel(\"\")\n",
    "    ####\n",
    "    # For Pie Chart Better Legend box\n",
    "    porcent = (100.*freq_distinct_payments_per_user.values)/(freq_distinct_payments_per_user.values.sum())\n",
    "    labels = ['{0} - {1:1.2f} %'.\\\n",
    "              format(i,j) for i,j in zip(freq_distinct_payments_per_user.index, porcent)]\n",
    "    # To Sort Legend (defaulf: keeps the same order)\n",
    "#     patches, labels, dummy =  zip(*sorted(zip(patches, labels, freq_distinct_logins_per_user.values),\n",
    "#                                           key=lambda x: x[2],\n",
    "#                                           reverse=True))\n",
    "    legend_show_top=10\n",
    "    ax2.legend(ax2.patches[0:legend_show_top], \n",
    "               labels[0:legend_show_top], \n",
    "               bbox_to_anchor=(1.55, 1.),\n",
    "               fontsize=10)\n",
    "    ####\n",
    "    fig.tight_layout()\n",
    "    fig.show()\n",
    "    fig.savefig('figs/payments_distribution.eps', bbox_inches='tight',format='eps', dpi=1200)\n",
    "else:\n",
    "    print(\"Unfortunately, there is no data available!\")\n"
   ]
  },
  {
   "cell_type": "markdown",
   "metadata": {
    "deletable": true,
    "editable": true
   },
   "source": [
    "## 5.6. Total Amount of Money Earned"
   ]
  },
  {
   "cell_type": "code",
   "execution_count": null,
   "metadata": {
    "collapsed": false,
    "deletable": true,
    "editable": true
   },
   "outputs": [],
   "source": [
    "if len(df_payments['amountpaid']) >0:\n",
    "    total_earned=df_payments['amountpaid'].values.sum()\n",
    "    'US$ {:,.2f}'.format(float(total_earned))\n",
    "else:\n",
    "    print(\"Unfortunately, there is no data available!\")"
   ]
  },
  {
   "cell_type": "markdown",
   "metadata": {
    "deletable": true,
    "editable": true
   },
   "source": [
    "## 5.7. Amount of Money Paid by Users"
   ]
  },
  {
   "cell_type": "code",
   "execution_count": null,
   "metadata": {
    "collapsed": true,
    "deletable": true,
    "editable": true
   },
   "outputs": [],
   "source": [
    "num_distinct_payments_money_per_user=df_payments['amountpaid'].value_counts()\n",
    "freq_distinct_payments_money_per_user=num_distinct_payments_money_per_user.value_counts()\n",
    "cum_dist_user_payments_money = np.linspace(0.,1.,len(num_distinct_payments_money_per_user))\n",
    "cdf_user_payments_money = pd.Series(cum_dist_user_payments_money, index=num_distinct_payments_money_per_user.sort_values())"
   ]
  },
  {
   "cell_type": "code",
   "execution_count": null,
   "metadata": {
    "collapsed": false,
    "deletable": true,
    "editable": true
   },
   "outputs": [],
   "source": [
    "if len(num_distinct_payments_money_per_user)>0:\n",
    "    fig = plt.figure(figsize=(6, 3))\n",
    "    fig.suptitle('* Distribution of Money Payments by Users:', fontsize=14, y=1.05, x=0.4)\n",
    "\n",
    "    ax1 = plt.subplot2grid((1,2), (0,0))\n",
    "    ax1 = cdf_user_payments_money.plot( ax=ax1,lw=2, drawstyle='steps',legend=False)\n",
    "    ax1.set_xlabel(\"$\")\n",
    "    ax1.set_ylabel(\"CDF of Users\")\n",
    "    ax1.set_ylim(0,1.05)\n",
    "    plt.setp(ax1.xaxis.get_majorticklabels(), rotation=45)\n",
    "\n",
    "    ax2 = plt.subplot2grid((1,2), (0,1))\n",
    "    freq_distinct_payments_money_per_user.plot(ax=ax2,kind='pie', \n",
    "                                               labels=None,legend=False,\n",
    "                                               startangle=270)\n",
    "    ax2.set_ylabel(\"\")\n",
    "    ####\n",
    "    # For Pie Chart Better Legend box\n",
    "    porcent = (100.*freq_distinct_payments_money_per_user.values)/(freq_distinct_payments_money_per_user.values.sum())\n",
    "    labels = ['${0:1.2f} - {1:1.2f} %'.\\\n",
    "              format(i,j) for i,j in zip(freq_distinct_payments_money_per_user.index, porcent)]\n",
    "    # To Sort Legend (defaulf: keeps the same order)\n",
    "#     patches, labels, dummy =  zip(*sorted(zip(patches, labels, freq_distinct_logins_per_user.values),\n",
    "#                                           key=lambda x: x[2],\n",
    "#                                           reverse=True))\n",
    "    legend_show_top=10\n",
    "    ax2.legend(ax2.patches[0:legend_show_top], \n",
    "               labels[0:legend_show_top], \n",
    "               bbox_to_anchor=(1.6, 1.),\n",
    "               fontsize=10)\n",
    "    ####\n",
    "    fig.tight_layout()\n",
    "    fig.show()\n",
    "    fig.savefig('figs/distribution_amount_paid.eps', bbox_inches='tight',format='eps', dpi=1200)\n",
    "else:\n",
    "    print(\"Unfortunately, there is no data available!\")\n"
   ]
  },
  {
   "cell_type": "markdown",
   "metadata": {
    "collapsed": false,
    "deletable": true,
    "editable": true
   },
   "source": [
    "## 5.8. Countries from where Users Access Booters"
   ]
  },
  {
   "cell_type": "code",
   "execution_count": null,
   "metadata": {
    "collapsed": true,
    "deletable": true,
    "editable": true
   },
   "outputs": [],
   "source": [
    "logins_country_distribution_sorted = df_logins_iptoasn['country'].value_counts(sort=True,ascending=True)\n",
    "logins_country_distribution = df_logins_iptoasn['country'].value_counts()"
   ]
  },
  {
   "cell_type": "code",
   "execution_count": null,
   "metadata": {
    "collapsed": false,
    "deletable": true,
    "editable": true
   },
   "outputs": [],
   "source": [
    "if len(logins_country_distribution)>0:\n",
    "    fig = plt.figure(figsize=(6, 3))\n",
    "    fig.suptitle('* Users Accessing from Countries:', fontsize=14, y=1.05, x=0.28)\n",
    "\n",
    "    ax1 = plt.subplot2grid((1,2), (0,0))\n",
    "    logins_country_distribution_sorted.plot(ax=ax1,kind='barh')\n",
    "    ax1.set_ylabel(\"# access\")\n",
    "    ax1.set_xlabel(\"Country\")\n",
    "    plt.setp(ax1.xaxis.get_majorticklabels(), rotation=45)\n",
    "\n",
    "    ax2 = plt.subplot2grid((1,2), (0,1))\n",
    "    logins_country_distribution.plot(ax=ax2,kind='pie', \n",
    "                                     labels=None,legend=False,\n",
    "                                     startangle=270)\n",
    "    ax2.set_ylabel(\"\")\n",
    "    ####\n",
    "    # For Pie Chart Better Legend box\n",
    "    porcent = (100.*logins_country_distribution.values)/(logins_country_distribution.values.sum())\n",
    "    labels = ['{0} - {1:1.2f} %'.\\\n",
    "              format(i,j) for i,j in zip(logins_country_distribution.index, porcent)]\n",
    "    # To Sort Legend (defaulf: keeps the same order)\n",
    "#     patches, labels, dummy =  zip(*sorted(zip(patches, labels, freq_distinct_logins_per_user.values),\n",
    "#                                           key=lambda x: x[2],\n",
    "#                                           reverse=True))\n",
    "    legend_show_top=10\n",
    "    ax2.legend(ax2.patches[0:legend_show_top], \n",
    "               labels[0:legend_show_top], \n",
    "               bbox_to_anchor=(1.55, 1.),\n",
    "               fontsize=10)\n",
    "    ####\n",
    "    fig.tight_layout()\n",
    "    fig.show()\n",
    "    fig.savefig('figs/user_countries.eps', bbox_inches='tight',format='eps', dpi=1200)\n",
    "else:\n",
    "    print(\"Unfortunately, there is no data available!\")"
   ]
  },
  {
   "cell_type": "markdown",
   "metadata": {
    "deletable": true,
    "editable": true
   },
   "source": [
    "## 5.9. Countries of Blacklisted IPs"
   ]
  },
  {
   "cell_type": "code",
   "execution_count": null,
   "metadata": {
    "collapsed": true,
    "deletable": true,
    "editable": true
   },
   "outputs": [],
   "source": [
    "blacklist_country_distribution=df_blacklist_iptoasn['country'].value_counts()\n",
    "blacklist_country_distribution_sorted=df_blacklist_iptoasn['country'].value_counts(sort=True,ascending=True)"
   ]
  },
  {
   "cell_type": "code",
   "execution_count": null,
   "metadata": {
    "collapsed": false,
    "deletable": true,
    "editable": true
   },
   "outputs": [],
   "source": [
    "if len(blacklist_country_distribution)>0:\n",
    "    fig = plt.figure(figsize=(6, 3))\n",
    "    fig.suptitle('* Countries of blacklisted IPs', fontsize=14, y=1.05, x=0.28)\n",
    "\n",
    "    ax1 = plt.subplot2grid((1,2), (0,0))\n",
    "    blacklist_country_distribution_sorted.plot(ax=ax1,kind='barh')\n",
    "    ax1.set_ylabel(\"# Access\")\n",
    "    ax1.set_xlabel(\"Country\")\n",
    "    plt.setp(ax1.xaxis.get_majorticklabels(), rotation=45)\n",
    "\n",
    "    ax2 = plt.subplot2grid((1,2), (0,1))\n",
    "    blacklist_country_distribution.plot(ax=ax2,kind='pie', \n",
    "                                        labels=None,legend=False,\n",
    "                                        startangle=270)\n",
    "    ax2.set_ylabel(\"\")\n",
    "    ####\n",
    "    # For Pie Chart Better Legend box\n",
    "    porcent = (100.*blacklist_country_distribution.values)/(logins_country_distribution.values.sum())\n",
    "    labels = ['{0} - {1:1.2f} %'.\\\n",
    "              format(i,j) for i,j in zip(blacklist_country_distribution.index, porcent)]\n",
    "    # To Sort Legend (defaulf: keeps the same order)\n",
    "#     patches, labels, dummy =  zip(*sorted(zip(patches, labels, freq_distinct_logins_per_user.values),\n",
    "#                                           key=lambda x: x[2],\n",
    "#                                           reverse=True))\n",
    "    legend_show_top=10\n",
    "    ax2.legend(ax2.patches[0:legend_show_top], \n",
    "               labels[0:legend_show_top], \n",
    "               bbox_to_anchor=(1.55, 1.),\n",
    "               fontsize=10)\n",
    "    ####\n",
    "    fig.tight_layout()\n",
    "    fig.show()\n",
    "    fig.savefig('figs/blacklist_countries.eps', bbox_inches='tight',format='eps', dpi=1200)\n",
    "else:\n",
    "    print(\"Unfortunately, there is no data available!\")"
   ]
  },
  {
   "cell_type": "markdown",
   "metadata": {
    "deletable": true,
    "editable": true
   },
   "source": [
    "## 5.10. Countries of Target IPs"
   ]
  },
  {
   "cell_type": "code",
   "execution_count": null,
   "metadata": {
    "collapsed": true,
    "deletable": true,
    "editable": true
   },
   "outputs": [],
   "source": [
    "attacks_country_distribution=df_attacks_iptoasn['country'].value_counts()"
   ]
  },
  {
   "cell_type": "code",
   "execution_count": null,
   "metadata": {
    "collapsed": false,
    "deletable": true,
    "editable": true
   },
   "outputs": [],
   "source": [
    "if len(attacks_country_distribution)>0:\n",
    "    fig = plt.figure(figsize=(6, 3))\n",
    "    fig.suptitle('* Countries of target IPs', fontsize=14, y=1.05, x=0.28)\n",
    "\n",
    "    ax1 = plt.subplot2grid((1,2), (0,0))\n",
    "    attacks_country_distribution.plot(ax=ax1,kind='bar')\n",
    "    ax1.set_ylabel(\"# Access\")\n",
    "    ax1.set_xlabel(\"Country\")\n",
    "    plt.setp(ax1.xaxis.get_majorticklabels(), rotation=45)\n",
    "\n",
    "    ax2 = plt.subplot2grid((1,2), (0,1))\n",
    "    attacks_country_distribution.plot(ax=ax2,kind='pie', \n",
    "                                      labels=None,legend=False,\n",
    "                                      startangle=270)\n",
    "    ax2.set_ylabel(\"\")\n",
    "    ####\n",
    "    # For Pie Chart Better Legend box\n",
    "    porcent = (100.*attacks_country_distribution.values)/(attacks_country_distribution.values.sum())\n",
    "    labels = ['{0} - {1:1.2f} %'.\\\n",
    "              format(i,j) for i,j in zip(attacks_country_distribution.index, porcent)]\n",
    "    # To Sort Legend (defaulf: keeps the same order)\n",
    "#     patches, labels, dummy =  zip(*sorted(zip(patches, labels, freq_distinct_logins_per_user.values),\n",
    "#                                           key=lambda x: x[2],\n",
    "#                                           reverse=True))\n",
    "    legend_show_top=10\n",
    "    ax2.legend(ax2.patches[0:legend_show_top], \n",
    "               labels[0:legend_show_top], \n",
    "               bbox_to_anchor=(1.55, 1.),\n",
    "               fontsize=10)\n",
    "    ####\n",
    "    fig.tight_layout()\n",
    "    fig.show()\n",
    "    fig.savefig('figs/attack_countries_distribution.eps',bbox_inches='tight', format='eps', dpi=1200) \n",
    "else:\n",
    "    print(\"Unfortunately, there is no data available!\")"
   ]
  },
  {
   "cell_type": "markdown",
   "metadata": {
    "deletable": true,
    "editable": true
   },
   "source": [
    "## 5.12. Attacks on Same Target"
   ]
  },
  {
   "cell_type": "code",
   "execution_count": null,
   "metadata": {
    "collapsed": true,
    "deletable": true,
    "editable": true
   },
   "outputs": [],
   "source": [
    "num_attacks_on_sametarget=df_attacks['targetip'].value_counts()\n",
    "\n",
    "freq_num_attacks_on_sametarget=num_attacks_on_sametarget.value_counts()\n",
    "cum_num_attacks_on_sametarget = np.linspace(0.,1.,len(num_attacks_on_sametarget))\n",
    "cdf_num_attacks_on_sametarget = pd.Series(cum_num_attacks_on_sametarget, index=num_attacks_on_sametarget.sort_values())"
   ]
  },
  {
   "cell_type": "code",
   "execution_count": null,
   "metadata": {
    "collapsed": false,
    "deletable": true,
    "editable": true
   },
   "outputs": [],
   "source": [
    "if len(num_attacks_on_sametarget)>0:\n",
    "    fig = plt.figure(figsize=(6, 3))\n",
    "    fig.suptitle('* Attacks on Same Targets:', fontsize=14, y=1.05,x=0.28)\n",
    "\n",
    "    ax1 = plt.subplot2grid((1,2), (0,0))\n",
    "    ax1 = cdf_num_attacks_on_sametarget.plot( ax=ax1,lw=2, drawstyle='steps',legend=False)\n",
    "    ax1.set_xlabel(\"# IPs\")\n",
    "    ax1.set_ylabel(\"CDF of Users\")\n",
    "    ax1.set_ylim(0,1.05)\n",
    "    plt.setp(ax1.xaxis.get_majorticklabels(), rotation=45)\n",
    "\n",
    "    ax2 = plt.subplot2grid((1,2), (0,1))\n",
    "    freq_num_attacks_on_sametarget.plot(ax=ax2,kind='pie',\n",
    "                                        labels=None,legend=False,\n",
    "                                        startangle=270)\n",
    "    ax2.set_ylabel(\"\")\n",
    "    ####\n",
    "    # For Pie Chart Better Legend box\n",
    "    porcent = (100.*freq_num_attacks_on_sametarget.values)/(freq_num_attacks_on_sametarget.values.sum())\n",
    "    labels = ['{0} - {1:1.2f} %'.\\\n",
    "              format(i,j) for i,j in zip(freq_num_attacks_on_sametarget.index, porcent)]\n",
    "    # To Sort Legend (defaulf: keeps the same order)\n",
    "#     patches, labels, dummy =  zip(*sorted(zip(patches, labels, freq_distinct_logins_per_user.values),\n",
    "#                                           key=lambda x: x[2],\n",
    "#                                           reverse=True))\n",
    "    legend_show_top=10\n",
    "    ax2.legend(ax2.patches[0:legend_show_top], \n",
    "               labels[0:legend_show_top], \n",
    "               bbox_to_anchor=(1.55, 1.),\n",
    "               fontsize=10)\n",
    "    ####\n",
    "    fig.tight_layout()\n",
    "\n",
    "    fig.show()\n",
    "    fig.savefig('figs/attacks_on_same_target.eps', bbox_inches='tight',format='eps', dpi=1200)\n",
    "else:\n",
    "    print(\"Unfortunately, there is no data available!\")"
   ]
  },
  {
   "cell_type": "markdown",
   "metadata": {
    "deletable": true,
    "editable": true
   },
   "source": [
    "## 5.11. Attacks per day (timeseries) "
   ]
  },
  {
   "cell_type": "code",
   "execution_count": null,
   "metadata": {
    "collapsed": false,
    "deletable": true,
    "editable": true
   },
   "outputs": [],
   "source": [
    "if len(df_attacks)>0:\n",
    "    attack_timeseries=df_attacks.set_index(['date']).groupby(pd.TimeGrouper(freq='D')).agg(['count'])['action']\n",
    "    attack_mean_perday=attack_timeseries.mean()\n",
    "    attack_median_perday=attack_timeseries.median()\n",
    "else:\n",
    "    attack_timeseries=\"\""
   ]
  },
  {
   "cell_type": "code",
   "execution_count": null,
   "metadata": {
    "collapsed": false,
    "deletable": true,
    "editable": true
   },
   "outputs": [],
   "source": [
    "if len(attack_timeseries)>0:\n",
    "    fig = plt.figure(figsize=(6,3))\n",
    "\n",
    "    ax1 = plt.subplot2grid((1,1), (0,0), rowspan=2)\n",
    "    attack_timeseries.plot(ax=ax1,\n",
    "                           lw=2,\n",
    "                           legend=False,\n",
    "    #                        style='--'\n",
    "                          )\n",
    "\n",
    "    # X and Y Labels and Ticks\n",
    "    ax1.set_xlabel(\"Time (bin=day)\")\n",
    "    ax1.set_ylabel(\"# Attacks\")\n",
    "\n",
    "    ax1.annotate(str(int(attack_median_perday[0]))+' (median)', \n",
    "                 (min(df_attacks['date']), attack_median_perday),\n",
    "                 xytext=(350, -1), \n",
    "                 textcoords='offset points',\n",
    "                 color='black', \n",
    "                 arrowprops=dict(arrowstyle='-|>',\n",
    "                                 color='black'))\n",
    "    fig.savefig('figs/attacks_timeseries.eps', bbox_inches='tight',format='eps', dpi=1200)\n",
    "\n",
    "else:\n",
    "    print(\"Unfortunately, there is no data available!\")"
   ]
  },
  {
   "cell_type": "markdown",
   "metadata": {
    "deletable": true,
    "editable": true
   },
   "source": [
    "## 5.12. Time Between Logins and Attacks"
   ]
  },
  {
   "cell_type": "code",
   "execution_count": null,
   "metadata": {
    "collapsed": false,
    "deletable": true,
    "editable": true
   },
   "outputs": [],
   "source": [
    "if len(df_attacks_and_logins)>0:\n",
    "    print(\"redo\")\n",
    "else:\n",
    "    print(\"Unfortunately, there is no data available!\")"
   ]
  },
  {
   "cell_type": "markdown",
   "metadata": {
    "deletable": true,
    "editable": true
   },
   "source": [
    "## 5.13. Who attack whom? (users on the country level)"
   ]
  },
  {
   "cell_type": "code",
   "execution_count": null,
   "metadata": {
    "collapsed": false,
    "deletable": true,
    "editable": true
   },
   "outputs": [],
   "source": [
    "if len(df_attacks_extended)>0 and len(df_logins_extended)>0:\n",
    "    merged_attacks_logins = pd.merge(df_attacks_extended,\n",
    "                                  df_logins_extended,\n",
    "                                  how = 'left',\n",
    "                                  left_on = 'date',\n",
    "                                  right_on = 'date')[['targetcountry','srccountry']]\n",
    "\n",
    "    who_against_whom = merged_attacks_logins.groupby(['targetcountry','srccountry'])\\\n",
    "                            .size()\\\n",
    "                            .reset_index()\\\n",
    "                            .pivot('srccountry','targetcountry',0)\n",
    "else:\n",
    "    who_against_whom =\"\""
   ]
  },
  {
   "cell_type": "code",
   "execution_count": null,
   "metadata": {
    "collapsed": false,
    "deletable": true,
    "editable": true
   },
   "outputs": [],
   "source": [
    "if len(who_against_whom)>0:\n",
    "    fig = plt.figure(figsize=(8,12))\n",
    "    fig.suptitle('Countries of Target IPs', fontsize=14, y=.92)\n",
    "\n",
    "    ax1 = plt.subplot2grid((1,1), (0,0))\n",
    "    sns.set()\n",
    "    sns.heatmap(who_against_whom,\n",
    "                ax=ax1,\n",
    "#                 cmap=\"YlGnBu\",\n",
    "    #             linewidths=.5,\n",
    "    #             annot=True\n",
    "                )\n",
    "\n",
    "    ax1.set_ylabel(\"Source Country\")\n",
    "    ax1.set_xlabel(\"Attack Target Country\")\n",
    "\n",
    "    fig.show()\n",
    "    fig.savefig('figs/who_attack_whom.eps', bbox_inches='tight',format='eps', dpi=1200)\n",
    "else:\n",
    "    print(\"Unfortunately, there is no data available!\")"
   ]
  },
  {
   "cell_type": "markdown",
   "metadata": {
    "deletable": true,
    "editable": true
   },
   "source": [
    "<h1 align=\"center\">!!!!!!!!!!!!!!!!!!!!!!!!!!!!!!!!!!!!!!!!!!!!!!!!!!!!!!!!!!!!!!!!!!!!!!!!!!!!!!!!!!!!!!!!!!!!!!!!!!!!!!!!!!!!!!!!!!!!!!!!!!!!!!!!!<br>\n",
    "FIFTH PART: Query Interface<br>\n",
    "!!!!!!!!!!!!!!!!!!!!!!!!!!!!!!!!!!!!!!!!!!!!!!!!!!!!!!!!!!!!!!!!!!!!!!!!!!!!!!!!!!!!!!!!!!!!!!!!!!!!!!!!!!!!!!!!!!!!!!!!!!!!!!!</h1> "
   ]
  },
  {
   "cell_type": "code",
   "execution_count": null,
   "metadata": {
    "collapsed": true,
    "deletable": true,
    "editable": true
   },
   "outputs": [],
   "source": [
    "from ipywidgets import widgets, interact, Dropdown,HTML\n",
    "from IPython.display import display,clear_output"
   ]
  },
  {
   "cell_type": "code",
   "execution_count": null,
   "metadata": {
    "collapsed": false,
    "deletable": true,
    "editable": true
   },
   "outputs": [],
   "source": [
    "def search_by_userid_submit(sender):\n",
    "    clear_output()\n",
    "    print(\"Searching by id =\",search_by_userid.value)\n",
    "    \n",
    "    if len(df_users[df_users['userid']== int(search_by_userid.value)])>0:\n",
    "        display(df_users[df_logins['userid']== int(search_by_userid.value)])\n",
    "    \n",
    "    if len(df_logins_extended[df_logins_extended['userid']== int(search_by_userid.value)])>0:\n",
    "        display(df_logins_extended[df_logins_extended['userid']== int(search_by_userid.value)])\n",
    "    \n",
    "    if len(df_attacks_extended[df_attacks_extended['userid']== int(search_by_userid.value)])>0:\n",
    "        display(df_attacks_extended[df_attacks_extended['userid']== int(search_by_userid.value)])\n",
    "    \n",
    "    if len(df_payments[df_payments['userid']== int(search_by_userid.value)])>0:\n",
    "        display(df_payments[df_payments['userid']== int(search_by_userid.value)])\n",
    "\n",
    "def search_by_username_submit(sender):\n",
    "    clear_output()\n",
    "    print(\"Searching by username =\",search_by_username.value,\"\\n\")\n",
    "    \n",
    "    if len(df_users[df_users['username']== search_by_username.value])>0:\n",
    "        print(\"Table df_users:\")\n",
    "        display(df_users[df_users['username']== search_by_username.value])\n",
    "    \n",
    "    if len(df_logins_extended[df_logins_extended['username']== search_by_username.value])>0:\n",
    "        print(\"Table df_logins:\")\n",
    "        display(df_logins_extended[df_logins_extended['username']== search_by_username.value])\n",
    "\n",
    "    if len(df_attacks_extended[df_attacks_extended['username']== search_by_username.value])>0:\n",
    "        print(\"Table df_attacks:\")\n",
    "        display(df_attacks_extended[df_attacks_extended['username']== search_by_username.value])\n",
    "    \n",
    "    if len(df_payments[df_payments['username']== search_by_username.value])>0:\n",
    "        print(\"Table df_payments:\")\n",
    "        display(df_payments[df_payments['username']== search_by_username.value])\n",
    "        \n",
    "def search_by_ip_submit(sender):\n",
    "    clear_output()\n",
    "    print(\"Searching by IP address =\",str(search_by_ip.value),\"\\n\")\n",
    "    \n",
    "    if len(df_logins_extended[df_logins_extended['userip']== str(search_by_ip.value)])>0:\n",
    "        print(\"Table df_logins (as ATTACKER:\")\n",
    "        display(df_logins_extended[df_logins_extended['userip']== str(search_by_ip.value)])\n",
    "     \n",
    "    if len(df_attacks_extended[df_attacks_extended['targetip']== str(search_by_ip.value)])>0:\n",
    "        print(\"Table df_attacks (as TARGET):\")\n",
    "        display(df_attacks_extended[df_attacks_extended['targetip']== str(search_by_ip.value)])  \n",
    "      \n",
    "       \n",
    "def search_by_asn_submit(sender):\n",
    "    clear_output()\n",
    "    print(\"Searching by Autonomous System Number (ASN) =\",search_by_asn.value,\"\\n\")\n",
    "    \n",
    "    if len(df_logins_extended[df_logins_extended['srcasn']== int(search_by_asn.value)])>0:\n",
    "        print(\"Table df_logins (as ATTACKER):\")\n",
    "        display(df_logins_extended[df_logins_extended['srcasn']== int(search_by_asn.value)])\n",
    "    \n",
    "    if len(df_attacks_extended[df_attacks_extended['targetasn']== str(search_by_asn.value)])>0:\n",
    "        print(\"Table df_attacks (as TARGET):\")\n",
    "        display(df_attacks_extended[df_attacks_extended['targetasn']== str(search_by_asn.value)])\n",
    "\n",
    "    if len(df_attacks_extended[df_attacks_extended['targetasn']== str(search_by_asn.value)])>0:\n",
    "        print(\"Table df_attacks (as TARGET):\")\n",
    "        display(df_attacks_extended[df_attacks_extended['targetasn']== str(search_by_asn.value)])\n",
    "\n",
    "        \n",
    "country_list=pd.read_csv('https://raw.githubusercontent.com/datasets/country-list/master/data.csv',delimiter=\",\",error_bad_lines=False)\n",
    "def search_by_country_submit():\n",
    "    country_code=country_list[country_list['Name']==search_by_country.value]['Code'].values[0]\n",
    "    clear_output()\n",
    "    print(\"Searching by Country =\",search_by_country.value,\"\\n\")\n",
    "    \n",
    "    if len(df_logins_extended[df_logins_extended['srccountry']== country_code])>0:\n",
    "        print(\"Table df_logins (as ATTACKER):\")\n",
    "        display(df_logins_extended[df_logins_extended['srccountry']== country_code])\n",
    "    \n",
    "    if len(df_attacks_extended[df_attacks_extended['targetcountry']== country_code])>0:\n",
    "        print(\"Table df_attacks (as TARGET):\")\n",
    "        display(df_attacks_extended[df_attacks_extended['targetcountry']== country_code])\n",
    "    "
   ]
  },
  {
   "cell_type": "code",
   "execution_count": null,
   "metadata": {
    "collapsed": false,
    "deletable": true,
    "editable": true
   },
   "outputs": [],
   "source": [
    "display(HTML('<h3>*Search by (only) one field per time:</h3>'))\n",
    "\n",
    "search_by_username = widgets.Text(description=\"username\")\n",
    "display(search_by_username)\n",
    "search_by_username.on_submit(search_by_username_submit)\n",
    "\n",
    "search_by_userid = widgets.Text(description=\"userid\")\n",
    "display(search_by_userid)\n",
    "search_by_userid.on_submit(search_by_userid_submit)\n",
    "\n",
    "search_by_ip = widgets.Text(description=\"IP\")\n",
    "display(search_by_ip)\n",
    "search_by_ip.on_submit(search_by_ip_submit)\n",
    "\n",
    "search_by_asn = widgets.Text(description=\"ASN\")\n",
    "display(search_by_asn)\n",
    "search_by_asn.on_submit(search_by_asn_submit)\n",
    "\n",
    "search_by_country = Dropdown(description=\"Country\", options=country_list['Name'].tolist())\n",
    "search_by_country.on_trait_change(search_by_country_submit, name=\"value\")\n",
    "display(search_by_country)"
   ]
  },
  {
   "cell_type": "code",
   "execution_count": null,
   "metadata": {
    "collapsed": true,
    "deletable": true,
    "editable": true
   },
   "outputs": [],
   "source": []
  }
 ],
 "metadata": {
  "kernelspec": {
   "display_name": "Python 3",
   "language": "python",
   "name": "python3"
  },
  "language_info": {
   "codemirror_mode": {
    "name": "ipython",
    "version": 3
   },
   "file_extension": ".py",
   "mimetype": "text/x-python",
   "name": "python",
   "nbconvert_exporter": "python",
   "pygments_lexer": "ipython3",
   "version": "3.5.2"
  },
  "widgets": {
   "state": {},
   "version": "1.1.2"
  }
 },
 "nbformat": 4,
 "nbformat_minor": 0
}
