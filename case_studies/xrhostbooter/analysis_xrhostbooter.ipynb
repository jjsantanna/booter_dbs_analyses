{
 "cells": [
  {
   "cell_type": "markdown",
   "metadata": {
    "deletable": true,
    "editable": true
   },
   "source": [
    "<h1 align=\"center\">\n",
    "!!!!!!!!!!!!!!!!!!!!!!!!!!!!!!!!!!!!!!!!!!!!!!!!!!!!!!!!!!!!!!!!!!!!!!!!!!!!!!!!!!!!!!!!!!!!!!!!!!!!!!!!!!!!!!!!!!!!!!!!!!!!!!!<br>\n",
    "Brief explanation on our Booter database analysis methodology: <br>\n",
    "!!!!!!!!!!!!!!!!!!!!!!!!!!!!!!!!!!!!!!!!!!!!!!!!!!!!!!!!!!!!!!!!!!!!!!!!!!!!!!!!!!!!!!!!!!!!!!!!!!!!!!!!!!!!!!!!!!!!!!!!!!!!!!!</h1> "
   ]
  },
  {
   "cell_type": "markdown",
   "metadata": {
    "deletable": true,
    "editable": true
   },
   "source": [
    "# Analysis of: xrhostbooter\n",
    "#### File originally retrieved from: http://4lz5rmnkd6f63tmm.onion/db/xr_hostbooter.sql"
   ]
  },
  {
   "cell_type": "markdown",
   "metadata": {
    "deletable": true,
    "editable": true
   },
   "source": [
    "## * Libraries that I use to analyse data"
   ]
  },
  {
   "cell_type": "code",
   "execution_count": 1,
   "metadata": {
    "collapsed": true,
    "deletable": true,
    "editable": true
   },
   "outputs": [],
   "source": [
    "import pandas as pd\n",
    "import numpy as np\n",
    "\n",
    "from io import StringIO\n",
    "import re\n",
    "\n",
    "from IPython.display import display,clear_output"
   ]
  },
  {
   "cell_type": "markdown",
   "metadata": {
    "deletable": true,
    "editable": true
   },
   "source": [
    "<h1 align=\"center\">\n",
    "!!!!!!!!!!!!!!!!!!!!!!!!!!!!!!!!!!!!!!!!!!!!!!!!!!!!!!!!!!!!!!!!!!!!!!!!!!!!!!!!!!!!!!!!!!!!!!!!!!!!!!!!!!!!!!!!!!!!!!!!!!!!!!!<br>\n",
    "STEP 0: Reading an input Booter database file<br>\n",
    "!!!!!!!!!!!!!!!!!!!!!!!!!!!!!!!!!!!!!!!!!!!!!!!!!!!!!!!!!!!!!!!!!!!!!!!!!!!!!!!!!!!!!!!!!!!!!!!!!!!!!!!!!!!!!!!!!!!!!!!!!!!!!!!</h1> "
   ]
  },
  {
   "cell_type": "code",
   "execution_count": 2,
   "metadata": {
    "collapsed": true,
    "deletable": true,
    "editable": true
   },
   "outputs": [],
   "source": [
    "dumpfile='xr_hostbooter.sql'"
   ]
  },
  {
   "cell_type": "markdown",
   "metadata": {
    "deletable": true,
    "editable": true
   },
   "source": [
    "<h1 align=\"center\">\n",
    "!!!!!!!!!!!!!!!!!!!!!!!!!!!!!!!!!!!!!!!!!!!!!!!!!!!!!!!!!!!!!!!!!!!!!!!!!!!!!!!!!!!!!!!!!!!!!!!!!!!!!!!!!!!!!!!!!!!!!!!!!!!!!!!!!!!!!!!!!<br>\n",
    "STEP 1: Adaptation to our Booter database schema<br>\n",
    "!!!!!!!!!!!!!!!!!!!!!!!!!!!!!!!!!!!!!!!!!!!!!!!!!!!!!!!!!!!!!!!!!!!!!!!!!!!!!!!!!!!!!!!!!!!!!!!!!!!!!!!!!!!!!!!!!!!!!!!!!!!!!!!</h1> "
   ]
  },
  {
   "cell_type": "markdown",
   "metadata": {
    "deletable": true,
    "editable": true
   },
   "source": [
    "## 1. Reading the first 'N' (100) lines of the input Booter database file"
   ]
  },
  {
   "cell_type": "code",
   "execution_count": 3,
   "metadata": {
    "collapsed": false,
    "deletable": true,
    "editable": true
   },
   "outputs": [
    {
     "name": "stdout",
     "output_type": "stream",
     "text": [
      "-- phpMyAdmin SQL Dump\n",
      "-- version 3.4.10.1\n",
      "-- http://www.phpmyadmin.net\n",
      "--\n",
      "-- Host: localhost\n",
      "-- Generation Time: Apr 30, 2012 at 08:24 PM\n",
      "-- Server version: 5.1.62\n",
      "-- PHP Version: 5.2.6\n",
      "\n",
      "SET SQL_MODE=\"NO_AUTO_VALUE_ON_ZERO\";\n",
      "SET time_zone = \"+00:00\";\n",
      "\n",
      "\n",
      "/*!40101 SET @OLD_CHARACTER_SET_CLIENT=@@CHARACTER_SET_CLIENT */;\n",
      "/*!40101 SET @OLD_CHARACTER_SET_RESULTS=@@CHARACTER_SET_RESULTS */;\n",
      "/*!40101 SET @OLD_COLLATION_CONNECTION=@@COLLATION_CONNECTION */;\n",
      "/*!40101 SET NAMES utf8 */;\n",
      "\n",
      "--\n",
      "-- Database: `xrshellb_xrshellb`\n",
      "--\n",
      "\n",
      "-- --------------------------------------------------------\n",
      "\n",
      "--\n",
      "-- Table structure for table `block_time`\n",
      "--\n",
      "\n",
      "CREATE TABLE IF NOT EXISTS `block_time` (\n",
      "`message2` varchar(100) NOT NULL\n",
      ") ENGINE=MyISAM DEFAULT CHARSET=latin1;\n",
      "\n",
      "--\n",
      "-- Dumping data for table `block_time`\n",
      "--\n",
      "\n",
      "INSERT INTO `block_time` (`message2`) VALUES\n",
      "('55');\n",
      "\n",
      "-- --------------------------------------------------------\n",
      "\n",
      "--\n",
      "-- Table structure for table `block_time_gold`\n",
      "--\n",
      "\n",
      "CREATE TABLE IF NOT EXISTS `block_time_gold` (\n",
      "`message14` varchar(100) NOT NULL\n",
      ") ENGINE=MyISAM DEFAULT CHARSET=latin1;\n",
      "\n",
      "--\n",
      "-- Dumping data for table `block_time_gold`\n",
      "--\n",
      "\n",
      "INSERT INTO `block_time_gold` (`message14`) VALUES\n",
      "('10');\n",
      "\n",
      "-- --------------------------------------------------------\n",
      "\n",
      "--\n",
      "-- Table structure for table `boot_time`\n",
      "--\n",
      "\n",
      "CREATE TABLE IF NOT EXISTS `boot_time` (\n",
      "`message` varchar(100) NOT NULL\n",
      ") ENGINE=MyISAM DEFAULT CHARSET=latin1;\n",
      "\n",
      "--\n",
      "-- Dumping data for table `boot_time`\n",
      "--\n",
      "\n",
      "INSERT INTO `boot_time` (`message`) VALUES\n",
      "('120');\n",
      "\n",
      "-- --------------------------------------------------------\n",
      "\n",
      "--\n",
      "-- Table structure for table `boot_time_gold`\n",
      "--\n",
      "\n",
      "CREATE TABLE IF NOT EXISTS `boot_time_gold` (\n",
      "`message13` varchar(100) NOT NULL\n",
      ") ENGINE=MyISAM DEFAULT CHARSET=latin1;\n",
      "\n",
      "--\n",
      "-- Dumping data for table `boot_time_gold`\n",
      "--\n",
      "\n",
      "INSERT INTO `boot_time_gold` (`message13`) VALUES\n",
      "('900');\n",
      "\n",
      "-- --------------------------------------------------------\n",
      "\n",
      "--\n",
      "-- Table structure for table `chat`\n",
      "--\n",
      "\n",
      "CREATE TABLE IF NOT EXISTS `chat` (\n",
      "`message8` varchar(100) NOT NULL\n",
      ") ENGINE=MyISAM DEFAULT CHARSET=latin1;\n",
      "\n"
     ]
    }
   ],
   "source": [
    "lines_to_read=100\n",
    "\n",
    "with open(dumpfile) as myfile:\n",
    "    firstlines=myfile.readlines()[0:lines_to_read] #put here the interval you want\n",
    "    for x in firstlines:\n",
    "        print(x.strip())"
   ]
  },
  {
   "cell_type": "markdown",
   "metadata": {
    "deletable": true,
    "editable": true
   },
   "source": [
    "## 2. Listing tables that have content inserted into the dump file"
   ]
  },
  {
   "cell_type": "code",
   "execution_count": 4,
   "metadata": {
    "collapsed": true,
    "deletable": true,
    "editable": true
   },
   "outputs": [],
   "source": [
    "def list_tables_with_insert(dumpfile):\n",
    "    tables = []\n",
    "    with open(dumpfile, 'rb') as f:\n",
    "        for line in f:\n",
    "            line = line.decode(\"utf-8\").strip()\n",
    "            if line.lower().startswith('insert'):\n",
    "                table = re.findall(r'`(.*?)`', line)\n",
    "                tables.append(table[0])\n",
    "    return tables"
   ]
  },
  {
   "cell_type": "code",
   "execution_count": 5,
   "metadata": {
    "collapsed": false,
    "deletable": true,
    "editable": true
   },
   "outputs": [
    {
     "name": "stdout",
     "output_type": "stream",
     "text": [
      "1 block_time\n",
      "2 block_time_gold\n",
      "3 boot_time\n",
      "4 boot_time_gold\n",
      "5 chat\n",
      "6 enemies\n",
      "7 friends\n",
      "8 getshells\n",
      "9 log\n",
      "10 logs\n",
      "11 membership_coupons\n",
      "12 membership_rates\n",
      "13 membership_types\n",
      "14 menus\n",
      "15 menu_names\n",
      "16 news\n",
      "17 paypal_config\n",
      "18 postshells\n",
      "19 profiles\n",
      "20 roles\n",
      "21 shells\n",
      "22 shell_percent_gold\n",
      "23 shell_percent_silver\n",
      "24 users\n",
      "25 users\n",
      "26 users\n",
      "27 users\n",
      "28 users\n",
      "29 users_in_roles\n"
     ]
    }
   ],
   "source": [
    "tables=enumerate(list_tables_with_insert(dumpfile))\n",
    "\n",
    "for i, item in tables:\n",
    "    print(i+1,item)"
   ]
  },
  {
   "cell_type": "markdown",
   "metadata": {
    "deletable": true,
    "editable": true
   },
   "source": [
    "## How the list above looks like? "
   ]
  },
  {
   "cell_type": "markdown",
   "metadata": {
    "deletable": true,
    "editable": true
   },
   "source": [
    "<h2 align='center'>======================================================================\n",
    "If NOT well-formed SQL dump file then you must first do the following:\n",
    "======================================================================</h2>"
   ]
  },
  {
   "cell_type": "markdown",
   "metadata": {
    "deletable": true,
    "editable": true
   },
   "source": [
    "## 3. Removing lines that are not part of the actual content to be analysed"
   ]
  },
  {
   "cell_type": "markdown",
   "metadata": {
    "deletable": true,
    "editable": true
   },
   "source": [
    "## 4. Splitting and naming tables and columns"
   ]
  },
  {
   "cell_type": "markdown",
   "metadata": {
    "deletable": true,
    "editable": true
   },
   "source": [
    "<h2 align='center'>======================================================================\n",
    "Additional functions\n",
    "======================================================================</h2>"
   ]
  },
  {
   "cell_type": "code",
   "execution_count": 7,
   "metadata": {
    "collapsed": true,
    "deletable": true,
    "editable": true
   },
   "outputs": [],
   "source": [
    "# For well formed SQL database dumps!\n"
   ]
  },
  {
   "cell_type": "markdown",
   "metadata": {
    "deletable": true,
    "editable": true
   },
   "source": [
    "<h2 align='center'>======================================================================\n",
    "Adapting EACH existing table\n",
    "======================================================================</h2>"
   ]
  },
  {
   "cell_type": "markdown",
   "metadata": {
    "deletable": true,
    "editable": true
   },
   "source": [
    "## 6.1. Table: 'block_time'"
   ]
  },
  {
   "cell_type": "markdown",
   "metadata": {
    "deletable": true,
    "editable": true
   },
   "source": [
    "### How this table looks like without modification?"
   ]
  },
  {
   "cell_type": "code",
   "execution_count": 19,
   "metadata": {
    "collapsed": false,
    "deletable": true,
    "editable": true
   },
   "outputs": [
    {
     "data": {
      "text/html": [
       "<div>\n",
       "<table border=\"1\" class=\"dataframe\">\n",
       "  <thead>\n",
       "    <tr style=\"text-align: right;\">\n",
       "      <th></th>\n",
       "      <th>message2</th>\n",
       "    </tr>\n",
       "  </thead>\n",
       "  <tbody>\n",
       "    <tr>\n",
       "      <th>0</th>\n",
       "      <td>55</td>\n",
       "    </tr>\n",
       "    <tr>\n",
       "      <th>1</th>\n",
       "      <td>10</td>\n",
       "    </tr>\n",
       "  </tbody>\n",
       "</table>\n",
       "</div>"
      ],
      "text/plain": [
       "   message2\n",
       "0        55\n",
       "1        10"
      ]
     },
     "execution_count": 19,
     "metadata": {},
     "output_type": "execute_result"
    }
   ],
   "source": [
    "tablename='block_time'\n",
    "\n",
    "pd.read_csv(read_inserted_table(dumpfile, tablename),delimiter=\",\",error_bad_lines=False).head(10)"
   ]
  },
  {
   "cell_type": "markdown",
   "metadata": {
    "deletable": true,
    "editable": true
   },
   "source": [
    "#### Q1: Is this table different from other previous loaded table? YES\n",
    "#### Q2: Is this table similar to any table in the generic Booter database schema? YES\n",
    "    - This table looks like: blacklist\n",
    "#### Q3: Are there modifications required? \n",
    "    - On the table name: \n",
    "        o \n",
    "    - On the column type: \n",
    "        o \n",
    "    - On the column name:\n",
    "        o ID -> id\n",
    "        o IP -> ip\n",
    "    - Add required columns:\n",
    "        o \n",
    "    - Split columns:\n",
    "        o "
   ]
  },
  {
   "cell_type": "markdown",
   "metadata": {
    "deletable": true,
    "editable": true
   },
   "source": [
    "## 6.2. Table: 'block_time_gold'"
   ]
  },
  {
   "cell_type": "markdown",
   "metadata": {
    "deletable": true,
    "editable": true
   },
   "source": [
    "### How this table looks like without modification?"
   ]
  },
  {
   "cell_type": "code",
   "execution_count": 20,
   "metadata": {
    "collapsed": false,
    "deletable": true,
    "editable": true
   },
   "outputs": [
    {
     "data": {
      "text/html": [
       "<div>\n",
       "<table border=\"1\" class=\"dataframe\">\n",
       "  <thead>\n",
       "    <tr style=\"text-align: right;\">\n",
       "      <th></th>\n",
       "      <th>message14</th>\n",
       "    </tr>\n",
       "  </thead>\n",
       "  <tbody>\n",
       "    <tr>\n",
       "      <th>0</th>\n",
       "      <td>10</td>\n",
       "    </tr>\n",
       "  </tbody>\n",
       "</table>\n",
       "</div>"
      ],
      "text/plain": [
       "   message14\n",
       "0         10"
      ]
     },
     "execution_count": 20,
     "metadata": {},
     "output_type": "execute_result"
    }
   ],
   "source": [
    "tablename='block_time_gold'\n",
    "\n",
    "pd.read_csv(read_inserted_table(dumpfile, tablename),delimiter=\",\",error_bad_lines=False).head(10)"
   ]
  },
  {
   "cell_type": "markdown",
   "metadata": {
    "deletable": true,
    "editable": true
   },
   "source": [
    "#### Q1: Is this table different from other previous loaded table? YES\n",
    "#### Q2: Is this table similar to any table in the generic Booter database schema? YES\n",
    "    - This table looks like: blacklist\n",
    "#### Q3: Are there modifications required? \n",
    "    - On the table name: \n",
    "        o \n",
    "    - On the column type: \n",
    "        o \n",
    "    - On the column name:\n",
    "        o ID -> id\n",
    "        o IP -> ip\n",
    "    - Add required columns:\n",
    "        o \n",
    "    - Split columns:\n",
    "        o "
   ]
  },
  {
   "cell_type": "markdown",
   "metadata": {
    "deletable": true,
    "editable": true
   },
   "source": [
    "## 6.3. Table: 'boot_time' "
   ]
  },
  {
   "cell_type": "markdown",
   "metadata": {
    "deletable": true,
    "editable": true
   },
   "source": [
    "### How this table looks like without modification?"
   ]
  },
  {
   "cell_type": "code",
   "execution_count": 21,
   "metadata": {
    "collapsed": false,
    "deletable": true,
    "editable": true
   },
   "outputs": [
    {
     "data": {
      "text/html": [
       "<div>\n",
       "<table border=\"1\" class=\"dataframe\">\n",
       "  <thead>\n",
       "    <tr style=\"text-align: right;\">\n",
       "      <th></th>\n",
       "      <th>message</th>\n",
       "    </tr>\n",
       "  </thead>\n",
       "  <tbody>\n",
       "    <tr>\n",
       "      <th>0</th>\n",
       "      <td>120</td>\n",
       "    </tr>\n",
       "    <tr>\n",
       "      <th>1</th>\n",
       "      <td>900</td>\n",
       "    </tr>\n",
       "  </tbody>\n",
       "</table>\n",
       "</div>"
      ],
      "text/plain": [
       "   message\n",
       "0      120\n",
       "1      900"
      ]
     },
     "execution_count": 21,
     "metadata": {},
     "output_type": "execute_result"
    }
   ],
   "source": [
    "tablename='boot_time'\n",
    "\n",
    "pd.read_csv(read_inserted_table(dumpfile, tablename),delimiter=\",\",error_bad_lines=False).head(10)"
   ]
  },
  {
   "cell_type": "markdown",
   "metadata": {
    "deletable": true,
    "editable": true
   },
   "source": [
    "#### Q1: Is this table different from other previous loaded table? YES\n",
    "#### Q2: Is this table similar to any table in the generic Booter database schema? NO\n",
    "    - This table looks like: \n",
    "#### Q3: Are there modifications required? \n",
    "    - On the table name: \n",
    "        o \n",
    "    - On the column type: \n",
    "        o \n",
    "    - On the column name:\n",
    "        o \n",
    "    - Add required columns:\n",
    "        o \n",
    "    - Split columns:\n",
    "        o "
   ]
  },
  {
   "cell_type": "markdown",
   "metadata": {
    "deletable": true,
    "editable": true
   },
   "source": [
    "## 6.4. Table: 'boot_time_gold' "
   ]
  },
  {
   "cell_type": "markdown",
   "metadata": {
    "deletable": true,
    "editable": true
   },
   "source": [
    "### How this table looks like without modification?"
   ]
  },
  {
   "cell_type": "code",
   "execution_count": 22,
   "metadata": {
    "collapsed": false,
    "deletable": true,
    "editable": true
   },
   "outputs": [
    {
     "data": {
      "text/html": [
       "<div>\n",
       "<table border=\"1\" class=\"dataframe\">\n",
       "  <thead>\n",
       "    <tr style=\"text-align: right;\">\n",
       "      <th></th>\n",
       "      <th>message13</th>\n",
       "    </tr>\n",
       "  </thead>\n",
       "  <tbody>\n",
       "    <tr>\n",
       "      <th>0</th>\n",
       "      <td>900</td>\n",
       "    </tr>\n",
       "  </tbody>\n",
       "</table>\n",
       "</div>"
      ],
      "text/plain": [
       "   message13\n",
       "0        900"
      ]
     },
     "execution_count": 22,
     "metadata": {},
     "output_type": "execute_result"
    }
   ],
   "source": [
    "tablename='boot_time_gold'\n",
    "\n",
    "pd.read_csv(read_inserted_table(dumpfile, tablename),delimiter=\",\",error_bad_lines=False).head(10)"
   ]
  },
  {
   "cell_type": "markdown",
   "metadata": {
    "deletable": true,
    "editable": true
   },
   "source": [
    "#### Q1: Is this table different from other previous loaded table? YES\n",
    "#### Q2: Is this table similar to any table in the generic Booter database schema? NO\n",
    "    - This table looks like: \n",
    "#### Q3: Are there modifications required? \n",
    "    - On the table name: \n",
    "        o \n",
    "    - On the column type: \n",
    "        o \n",
    "    - On the column name:\n",
    "        o \n",
    "    - Add required columns:\n",
    "        o \n",
    "    - Split columns:\n",
    "        o "
   ]
  },
  {
   "cell_type": "markdown",
   "metadata": {
    "deletable": true,
    "editable": true
   },
   "source": [
    "## 6.5. Table: 'chat' "
   ]
  },
  {
   "cell_type": "markdown",
   "metadata": {
    "deletable": true,
    "editable": true
   },
   "source": [
    "### How this table looks like without modification?"
   ]
  },
  {
   "cell_type": "code",
   "execution_count": 23,
   "metadata": {
    "collapsed": false,
    "deletable": true,
    "editable": true
   },
   "outputs": [
    {
     "data": {
      "text/html": [
       "<div>\n",
       "<table border=\"1\" class=\"dataframe\">\n",
       "  <thead>\n",
       "    <tr style=\"text-align: right;\">\n",
       "      <th></th>\n",
       "      <th>message8</th>\n",
       "    </tr>\n",
       "  </thead>\n",
       "  <tbody>\n",
       "    <tr>\n",
       "      <th>0</th>\n",
       "      <td>demo</td>\n",
       "    </tr>\n",
       "  </tbody>\n",
       "</table>\n",
       "</div>"
      ],
      "text/plain": [
       "  message8\n",
       "0     demo"
      ]
     },
     "execution_count": 23,
     "metadata": {},
     "output_type": "execute_result"
    }
   ],
   "source": [
    "tablename='chat'\n",
    "\n",
    "pd.read_csv(read_inserted_table(dumpfile, tablename),delimiter=\",\",error_bad_lines=False).head(10)"
   ]
  },
  {
   "cell_type": "markdown",
   "metadata": {
    "deletable": true,
    "editable": true
   },
   "source": [
    "#### Q1: Is this table different from other previous loaded table? YES\n",
    "#### Q2: Is this table similar to any table in the generic Booter database schema? NO\n",
    "    - This table looks like: \n",
    "#### Q3: Are there modifications required? \n",
    "    - On the table name: \n",
    "        o \n",
    "    - On the column type: \n",
    "        o \n",
    "    - On the column name:\n",
    "        o \n",
    "    - Add required columns:\n",
    "        o \n",
    "    - Split columns:\n",
    "        o "
   ]
  },
  {
   "cell_type": "markdown",
   "metadata": {
    "deletable": true,
    "editable": true
   },
   "source": [
    "## 6.6. Table: 'enemies' "
   ]
  },
  {
   "cell_type": "markdown",
   "metadata": {
    "deletable": true,
    "editable": true
   },
   "source": [
    "### How this table looks like without modification?"
   ]
  },
  {
   "cell_type": "code",
   "execution_count": 24,
   "metadata": {
    "collapsed": false,
    "deletable": true,
    "editable": true
   },
   "outputs": [
    {
     "data": {
      "text/html": [
       "<div>\n",
       "<table border=\"1\" class=\"dataframe\">\n",
       "  <thead>\n",
       "    <tr style=\"text-align: right;\">\n",
       "      <th></th>\n",
       "      <th>id</th>\n",
       "      <th>ip</th>\n",
       "      <th>notes</th>\n",
       "      <th>enemy</th>\n",
       "    </tr>\n",
       "  </thead>\n",
       "  <tbody>\n",
       "    <tr>\n",
       "      <th>0</th>\n",
       "      <td>20</td>\n",
       "      <td>67.188.234.6</td>\n",
       "      <td>Nosmoke</td>\n",
       "      <td>NaN</td>\n",
       "    </tr>\n",
       "    <tr>\n",
       "      <th>1</th>\n",
       "      <td>19</td>\n",
       "      <td>82.42.177.171</td>\n",
       "      <td>Im I Double L</td>\n",
       "      <td>NaN</td>\n",
       "    </tr>\n",
       "    <tr>\n",
       "      <th>2</th>\n",
       "      <td>21</td>\n",
       "      <td>189.214.207.238</td>\n",
       "      <td>Coco wavey</td>\n",
       "      <td>NaN</td>\n",
       "    </tr>\n",
       "    <tr>\n",
       "      <th>3</th>\n",
       "      <td>22</td>\n",
       "      <td>93.174.93.114</td>\n",
       "      <td>MHCBOOTER</td>\n",
       "      <td>NaN</td>\n",
       "    </tr>\n",
       "    <tr>\n",
       "      <th>4</th>\n",
       "      <td>23</td>\n",
       "      <td>72.88.142.196</td>\n",
       "      <td>sick</td>\n",
       "      <td>NaN</td>\n",
       "    </tr>\n",
       "    <tr>\n",
       "      <th>5</th>\n",
       "      <td>24</td>\n",
       "      <td>176.9.102.234</td>\n",
       "      <td>Suck Deluxegaming</td>\n",
       "      <td>NaN</td>\n",
       "    </tr>\n",
       "    <tr>\n",
       "      <th>6</th>\n",
       "      <td>25</td>\n",
       "      <td>46.38.233.76</td>\n",
       "      <td>SA:MP</td>\n",
       "      <td>NaN</td>\n",
       "    </tr>\n",
       "    <tr>\n",
       "      <th>7</th>\n",
       "      <td>26</td>\n",
       "      <td>68.11.131.46</td>\n",
       "      <td>Joey</td>\n",
       "      <td>NaN</td>\n",
       "    </tr>\n",
       "    <tr>\n",
       "      <th>8</th>\n",
       "      <td>27</td>\n",
       "      <td>78.159.121.64</td>\n",
       "      <td>NaN</td>\n",
       "      <td>NaN</td>\n",
       "    </tr>\n",
       "    <tr>\n",
       "      <th>9</th>\n",
       "      <td>28</td>\n",
       "      <td>85.214.43.209</td>\n",
       "      <td>Boot this ;d</td>\n",
       "      <td>NaN</td>\n",
       "    </tr>\n",
       "  </tbody>\n",
       "</table>\n",
       "</div>"
      ],
      "text/plain": [
       "   id               ip              notes  enemy\n",
       "0  20     67.188.234.6            Nosmoke    NaN\n",
       "1  19    82.42.177.171      Im I Double L    NaN\n",
       "2  21  189.214.207.238         Coco wavey    NaN\n",
       "3  22    93.174.93.114          MHCBOOTER    NaN\n",
       "4  23    72.88.142.196               sick    NaN\n",
       "5  24    176.9.102.234  Suck Deluxegaming    NaN\n",
       "6  25     46.38.233.76              SA:MP    NaN\n",
       "7  26     68.11.131.46               Joey    NaN\n",
       "8  27    78.159.121.64                NaN    NaN\n",
       "9  28    85.214.43.209       Boot this ;d    NaN"
      ]
     },
     "execution_count": 24,
     "metadata": {},
     "output_type": "execute_result"
    }
   ],
   "source": [
    "tablename='enemies'\n",
    "\n",
    "pd.read_csv(read_inserted_table(dumpfile, tablename),delimiter=\",\",error_bad_lines=False).head(10)"
   ]
  },
  {
   "cell_type": "markdown",
   "metadata": {
    "deletable": true,
    "editable": true
   },
   "source": [
    "#### Q1: Is this table different from other previous loaded table? YES\n",
    "#### Q2: Is this table similar to any table in the generic Booter database schema? YES\n",
    "    - This table looks like: friendsenemies\n",
    "#### Q3: Are there modifications required? \n",
    "    - On the table name: \n",
    "        o \n",
    "    - On the column type: \n",
    "        o \n",
    "    - On the column name:\n",
    "        o notes -> note\n",
    "    - Add required columns:\n",
    "        o userid\n",
    "        o type = 'enemy' \n",
    "    - Split columns:\n",
    "        o "
   ]
  },
  {
   "cell_type": "markdown",
   "metadata": {
    "deletable": true,
    "editable": true
   },
   "source": [
    "### Modifying table: 'enemies'"
   ]
  },
  {
   "cell_type": "code",
   "execution_count": 25,
   "metadata": {
    "collapsed": false,
    "deletable": true,
    "editable": true
   },
   "outputs": [
    {
     "data": {
      "text/html": [
       "<div>\n",
       "<table border=\"1\" class=\"dataframe\">\n",
       "  <thead>\n",
       "    <tr style=\"text-align: right;\">\n",
       "      <th></th>\n",
       "      <th>id</th>\n",
       "      <th>ip</th>\n",
       "      <th>note</th>\n",
       "      <th>enemy</th>\n",
       "      <th>userid</th>\n",
       "      <th>type</th>\n",
       "    </tr>\n",
       "  </thead>\n",
       "  <tbody>\n",
       "    <tr>\n",
       "      <th>0</th>\n",
       "      <td>20</td>\n",
       "      <td>67.188.234.6</td>\n",
       "      <td>Nosmoke</td>\n",
       "      <td>NaN</td>\n",
       "      <td>NaN</td>\n",
       "      <td>enemy</td>\n",
       "    </tr>\n",
       "    <tr>\n",
       "      <th>1</th>\n",
       "      <td>19</td>\n",
       "      <td>82.42.177.171</td>\n",
       "      <td>Im I Double L</td>\n",
       "      <td>NaN</td>\n",
       "      <td>NaN</td>\n",
       "      <td>enemy</td>\n",
       "    </tr>\n",
       "    <tr>\n",
       "      <th>2</th>\n",
       "      <td>21</td>\n",
       "      <td>189.214.207.238</td>\n",
       "      <td>Coco wavey</td>\n",
       "      <td>NaN</td>\n",
       "      <td>NaN</td>\n",
       "      <td>enemy</td>\n",
       "    </tr>\n",
       "    <tr>\n",
       "      <th>3</th>\n",
       "      <td>22</td>\n",
       "      <td>93.174.93.114</td>\n",
       "      <td>MHCBOOTER</td>\n",
       "      <td>NaN</td>\n",
       "      <td>NaN</td>\n",
       "      <td>enemy</td>\n",
       "    </tr>\n",
       "    <tr>\n",
       "      <th>4</th>\n",
       "      <td>23</td>\n",
       "      <td>72.88.142.196</td>\n",
       "      <td>sick</td>\n",
       "      <td>NaN</td>\n",
       "      <td>NaN</td>\n",
       "      <td>enemy</td>\n",
       "    </tr>\n",
       "    <tr>\n",
       "      <th>5</th>\n",
       "      <td>24</td>\n",
       "      <td>176.9.102.234</td>\n",
       "      <td>Suck Deluxegaming</td>\n",
       "      <td>NaN</td>\n",
       "      <td>NaN</td>\n",
       "      <td>enemy</td>\n",
       "    </tr>\n",
       "    <tr>\n",
       "      <th>6</th>\n",
       "      <td>25</td>\n",
       "      <td>46.38.233.76</td>\n",
       "      <td>SA:MP</td>\n",
       "      <td>NaN</td>\n",
       "      <td>NaN</td>\n",
       "      <td>enemy</td>\n",
       "    </tr>\n",
       "    <tr>\n",
       "      <th>7</th>\n",
       "      <td>26</td>\n",
       "      <td>68.11.131.46</td>\n",
       "      <td>Joey</td>\n",
       "      <td>NaN</td>\n",
       "      <td>NaN</td>\n",
       "      <td>enemy</td>\n",
       "    </tr>\n",
       "    <tr>\n",
       "      <th>8</th>\n",
       "      <td>27</td>\n",
       "      <td>78.159.121.64</td>\n",
       "      <td>NaN</td>\n",
       "      <td>NaN</td>\n",
       "      <td>NaN</td>\n",
       "      <td>enemy</td>\n",
       "    </tr>\n",
       "    <tr>\n",
       "      <th>9</th>\n",
       "      <td>28</td>\n",
       "      <td>85.214.43.209</td>\n",
       "      <td>Boot this ;d</td>\n",
       "      <td>NaN</td>\n",
       "      <td>NaN</td>\n",
       "      <td>enemy</td>\n",
       "    </tr>\n",
       "  </tbody>\n",
       "</table>\n",
       "</div>"
      ],
      "text/plain": [
       "   id               ip               note  enemy  userid   type\n",
       "0  20     67.188.234.6            Nosmoke    NaN     NaN  enemy\n",
       "1  19    82.42.177.171      Im I Double L    NaN     NaN  enemy\n",
       "2  21  189.214.207.238         Coco wavey    NaN     NaN  enemy\n",
       "3  22    93.174.93.114          MHCBOOTER    NaN     NaN  enemy\n",
       "4  23    72.88.142.196               sick    NaN     NaN  enemy\n",
       "5  24    176.9.102.234  Suck Deluxegaming    NaN     NaN  enemy\n",
       "6  25     46.38.233.76              SA:MP    NaN     NaN  enemy\n",
       "7  26     68.11.131.46               Joey    NaN     NaN  enemy\n",
       "8  27    78.159.121.64                NaN    NaN     NaN  enemy\n",
       "9  28    85.214.43.209       Boot this ;d    NaN     NaN  enemy"
      ]
     },
     "execution_count": 25,
     "metadata": {},
     "output_type": "execute_result"
    }
   ],
   "source": [
    "# Loading the correct table name\n",
    "df_friendsenemies = pd.read_csv(read_inserted_table(dumpfile, tablename),delimiter=\",\",error_bad_lines=False)\n",
    "\n",
    "# Converting columns\n",
    "\n",
    "# Changing column names\n",
    "df_friendsenemies.rename(inplace=True, columns={'notes': 'note'})\n",
    "# Adding missing columns\n",
    "df_friendsenemies['userid']=np.nan\n",
    "df_friendsenemies['type']='enemy'\n",
    "\n",
    "# Showing some lines after adapt the table\n",
    "df_friendsenemies.head(10)"
   ]
  },
  {
   "cell_type": "markdown",
   "metadata": {
    "deletable": true,
    "editable": true
   },
   "source": [
    "## 6.7. Table: 'friends' "
   ]
  },
  {
   "cell_type": "markdown",
   "metadata": {
    "deletable": true,
    "editable": true
   },
   "source": [
    "### How this table looks like without modification?"
   ]
  },
  {
   "cell_type": "code",
   "execution_count": 26,
   "metadata": {
    "collapsed": false,
    "deletable": true,
    "editable": true
   },
   "outputs": [
    {
     "data": {
      "text/html": [
       "<div>\n",
       "<table border=\"1\" class=\"dataframe\">\n",
       "  <thead>\n",
       "    <tr style=\"text-align: right;\">\n",
       "      <th></th>\n",
       "      <th>id</th>\n",
       "      <th>ip</th>\n",
       "      <th>notes</th>\n",
       "      <th>friend</th>\n",
       "    </tr>\n",
       "  </thead>\n",
       "  <tbody>\n",
       "    <tr>\n",
       "      <th>0</th>\n",
       "      <td>42</td>\n",
       "      <td>81.99.215.30</td>\n",
       "      <td>vDaarks</td>\n",
       "      <td>NaN</td>\n",
       "    </tr>\n",
       "    <tr>\n",
       "      <th>1</th>\n",
       "      <td>41</td>\n",
       "      <td>72.229.145.227</td>\n",
       "      <td>Gh0st Haly</td>\n",
       "      <td>NaN</td>\n",
       "    </tr>\n",
       "    <tr>\n",
       "      <th>2</th>\n",
       "      <td>43</td>\n",
       "      <td>68.11.131.46</td>\n",
       "      <td>Joey</td>\n",
       "      <td>NaN</td>\n",
       "    </tr>\n",
       "    <tr>\n",
       "      <th>3</th>\n",
       "      <td>44</td>\n",
       "      <td>80.177.163.195</td>\n",
       "      <td>Gusy</td>\n",
       "      <td>NaN</td>\n",
       "    </tr>\n",
       "  </tbody>\n",
       "</table>\n",
       "</div>"
      ],
      "text/plain": [
       "   id              ip       notes  friend\n",
       "0  42    81.99.215.30     vDaarks     NaN\n",
       "1  41  72.229.145.227  Gh0st Haly     NaN\n",
       "2  43    68.11.131.46        Joey     NaN\n",
       "3  44  80.177.163.195        Gusy     NaN"
      ]
     },
     "execution_count": 26,
     "metadata": {},
     "output_type": "execute_result"
    }
   ],
   "source": [
    "tablename='friends'\n",
    "\n",
    "pd.read_csv(read_inserted_table(dumpfile, tablename),delimiter=\",\",error_bad_lines=False).head(10)"
   ]
  },
  {
   "cell_type": "markdown",
   "metadata": {
    "deletable": true,
    "editable": true
   },
   "source": [
    "#### Q1: Is this table different from other previous loaded table? YES\n",
    "#### Q2: Is this table similar to any table in the generic Booter database schema? YES, append\n",
    "    - This table looks like: friendsenemies\n",
    "#### Q3: Are there modifications required? \n",
    "    - On the table name: \n",
    "        o friends -> friendsenemies_temp\n",
    "    - On the column type: \n",
    "        o \n",
    "    - On the column name:\n",
    "        o notes -> note\n",
    "    - Add required columns:\n",
    "        o userid\n",
    "        o type = 'friend' \n",
    "    - Split columns:\n",
    "        o "
   ]
  },
  {
   "cell_type": "markdown",
   "metadata": {
    "deletable": true,
    "editable": true
   },
   "source": [
    "### Modifying table: 'friends'"
   ]
  },
  {
   "cell_type": "code",
   "execution_count": 27,
   "metadata": {
    "collapsed": false,
    "deletable": true,
    "editable": true
   },
   "outputs": [
    {
     "data": {
      "text/html": [
       "<div>\n",
       "<table border=\"1\" class=\"dataframe\">\n",
       "  <thead>\n",
       "    <tr style=\"text-align: right;\">\n",
       "      <th></th>\n",
       "      <th>id</th>\n",
       "      <th>ip</th>\n",
       "      <th>note</th>\n",
       "      <th>friend</th>\n",
       "      <th>userid</th>\n",
       "      <th>type</th>\n",
       "    </tr>\n",
       "  </thead>\n",
       "  <tbody>\n",
       "    <tr>\n",
       "      <th>0</th>\n",
       "      <td>42</td>\n",
       "      <td>81.99.215.30</td>\n",
       "      <td>vDaarks</td>\n",
       "      <td>NaN</td>\n",
       "      <td>NaN</td>\n",
       "      <td>friend</td>\n",
       "    </tr>\n",
       "    <tr>\n",
       "      <th>1</th>\n",
       "      <td>41</td>\n",
       "      <td>72.229.145.227</td>\n",
       "      <td>Gh0st Haly</td>\n",
       "      <td>NaN</td>\n",
       "      <td>NaN</td>\n",
       "      <td>friend</td>\n",
       "    </tr>\n",
       "    <tr>\n",
       "      <th>2</th>\n",
       "      <td>43</td>\n",
       "      <td>68.11.131.46</td>\n",
       "      <td>Joey</td>\n",
       "      <td>NaN</td>\n",
       "      <td>NaN</td>\n",
       "      <td>friend</td>\n",
       "    </tr>\n",
       "    <tr>\n",
       "      <th>3</th>\n",
       "      <td>44</td>\n",
       "      <td>80.177.163.195</td>\n",
       "      <td>Gusy</td>\n",
       "      <td>NaN</td>\n",
       "      <td>NaN</td>\n",
       "      <td>friend</td>\n",
       "    </tr>\n",
       "  </tbody>\n",
       "</table>\n",
       "</div>"
      ],
      "text/plain": [
       "   id              ip        note  friend  userid    type\n",
       "0  42    81.99.215.30     vDaarks     NaN     NaN  friend\n",
       "1  41  72.229.145.227  Gh0st Haly     NaN     NaN  friend\n",
       "2  43    68.11.131.46        Joey     NaN     NaN  friend\n",
       "3  44  80.177.163.195        Gusy     NaN     NaN  friend"
      ]
     },
     "execution_count": 27,
     "metadata": {},
     "output_type": "execute_result"
    }
   ],
   "source": [
    "# Loading the correct table name\n",
    "df_friendsenemies_temp = pd.read_csv(read_inserted_table(dumpfile, tablename),delimiter=\",\",error_bad_lines=False)\n",
    "\n",
    "# Converting columns\n",
    "\n",
    "# Changing column names\n",
    "df_friendsenemies_temp.rename(inplace=True, columns={'notes': 'note'})\n",
    "# Adding missing columns\n",
    "df_friendsenemies_temp['userid']=np.nan\n",
    "df_friendsenemies_temp['type']='friend'\n",
    "\n",
    "# Showing some lines after adapt the table\n",
    "df_friendsenemies_temp.head(10)"
   ]
  },
  {
   "cell_type": "code",
   "execution_count": 28,
   "metadata": {
    "collapsed": true
   },
   "outputs": [],
   "source": [
    "df_friendsenemies=df_friendsenemies.append(df_friendsenemies_temp)"
   ]
  },
  {
   "cell_type": "markdown",
   "metadata": {
    "deletable": true,
    "editable": true
   },
   "source": [
    "## 6.8. Table: 'getshells' "
   ]
  },
  {
   "cell_type": "markdown",
   "metadata": {
    "deletable": true,
    "editable": true
   },
   "source": [
    "### How this table looks like without modification?"
   ]
  },
  {
   "cell_type": "code",
   "execution_count": 29,
   "metadata": {
    "collapsed": false,
    "deletable": true,
    "editable": true
   },
   "outputs": [
    {
     "data": {
      "text/html": [
       "<div>\n",
       "<table border=\"1\" class=\"dataframe\">\n",
       "  <thead>\n",
       "    <tr style=\"text-align: right;\">\n",
       "      <th></th>\n",
       "      <th>URL</th>\n",
       "      <th>online</th>\n",
       "      <th>lastChecked</th>\n",
       "    </tr>\n",
       "  </thead>\n",
       "  <tbody>\n",
       "    <tr>\n",
       "      <th>0</th>\n",
       "      <td>http://93.17.7.150/webdav/greenshell.php \\t</td>\n",
       "      <td>0</td>\n",
       "      <td>0</td>\n",
       "    </tr>\n",
       "    <tr>\n",
       "      <th>1</th>\n",
       "      <td>http://www.sidarglobal.com/help.php \\t</td>\n",
       "      <td>0</td>\n",
       "      <td>0</td>\n",
       "    </tr>\n",
       "    <tr>\n",
       "      <th>2</th>\n",
       "      <td>http://190.144.174.250/webdav/greenshell.php \\...</td>\n",
       "      <td>0</td>\n",
       "      <td>0</td>\n",
       "    </tr>\n",
       "    <tr>\n",
       "      <th>3</th>\n",
       "      <td>http://cwa3672.org/ulogs.php \\t</td>\n",
       "      <td>0</td>\n",
       "      <td>0</td>\n",
       "    </tr>\n",
       "    <tr>\n",
       "      <th>4</th>\n",
       "      <td>http://89.104.195.200/webdav/x32.php \\t</td>\n",
       "      <td>0</td>\n",
       "      <td>0</td>\n",
       "    </tr>\n",
       "    <tr>\n",
       "      <th>5</th>\n",
       "      <td>http://82.114.168.38/webdav/greenshell.php \\t</td>\n",
       "      <td>0</td>\n",
       "      <td>0</td>\n",
       "    </tr>\n",
       "    <tr>\n",
       "      <th>6</th>\n",
       "      <td>http://www.theresahackforthat.webs.com/shell.p...</td>\n",
       "      <td>0</td>\n",
       "      <td>0</td>\n",
       "    </tr>\n",
       "    <tr>\n",
       "      <th>7</th>\n",
       "      <td>http://163.178.170.74/webdav/greenshell.php \\t</td>\n",
       "      <td>0</td>\n",
       "      <td>0</td>\n",
       "    </tr>\n",
       "    <tr>\n",
       "      <th>8</th>\n",
       "      <td>http://212.143.188.146/webdav/ab.php \\t</td>\n",
       "      <td>0</td>\n",
       "      <td>0</td>\n",
       "    </tr>\n",
       "    <tr>\n",
       "      <th>9</th>\n",
       "      <td>http://89.104.195.200/webdav/x32.php\\t</td>\n",
       "      <td>0</td>\n",
       "      <td>0</td>\n",
       "    </tr>\n",
       "  </tbody>\n",
       "</table>\n",
       "</div>"
      ],
      "text/plain": [
       "                                                 URL  online  lastChecked\n",
       "0     http://93.17.7.150/webdav/greenshell.php \\t          0            0\n",
       "1          http://www.sidarglobal.com/help.php \\t          0            0\n",
       "2  http://190.144.174.250/webdav/greenshell.php \\...       0            0\n",
       "3                 http://cwa3672.org/ulogs.php \\t          0            0\n",
       "4         http://89.104.195.200/webdav/x32.php \\t          0            0\n",
       "5   http://82.114.168.38/webdav/greenshell.php \\t          0            0\n",
       "6  http://www.theresahackforthat.webs.com/shell.p...       0            0\n",
       "7  http://163.178.170.74/webdav/greenshell.php \\t          0            0\n",
       "8         http://212.143.188.146/webdav/ab.php \\t          0            0\n",
       "9          http://89.104.195.200/webdav/x32.php\\t          0            0"
      ]
     },
     "execution_count": 29,
     "metadata": {},
     "output_type": "execute_result"
    }
   ],
   "source": [
    "tablename='getshells'\n",
    "\n",
    "pd.read_csv(read_inserted_table(dumpfile, tablename),delimiter=\",\",error_bad_lines=False).head(10)"
   ]
  },
  {
   "cell_type": "markdown",
   "metadata": {
    "deletable": true,
    "editable": true
   },
   "source": [
    "#### Q1: Is this table different from other previous loaded table? YES\n",
    "#### Q2: Is this table similar to any table in the generic Booter database schema? YES\n",
    "    - This table looks like: webshells\n",
    "#### Q3: Are there modifications required? \n",
    "    - On the table name: \n",
    "        o getshells -> webshells\n",
    "    - On the column type: \n",
    "        o \n",
    "    - On the column name:\n",
    "        o URL -> url\n",
    "        o online -> status\n",
    "        o lastChecked -> lastchecked\n",
    "\n",
    "    - Add required columns:\n",
    "        o id\n",
    "        o attacktype = 'get'\n",
    "    - Split columns:\n",
    "        o "
   ]
  },
  {
   "cell_type": "markdown",
   "metadata": {
    "deletable": true,
    "editable": true
   },
   "source": [
    "### Modifying table: 'getshells'"
   ]
  },
  {
   "cell_type": "code",
   "execution_count": 30,
   "metadata": {
    "collapsed": false,
    "deletable": true,
    "editable": true
   },
   "outputs": [
    {
     "data": {
      "text/html": [
       "<div>\n",
       "<table border=\"1\" class=\"dataframe\">\n",
       "  <thead>\n",
       "    <tr style=\"text-align: right;\">\n",
       "      <th></th>\n",
       "      <th>url</th>\n",
       "      <th>status</th>\n",
       "      <th>lastchecked</th>\n",
       "      <th>id</th>\n",
       "      <th>attacktype</th>\n",
       "    </tr>\n",
       "  </thead>\n",
       "  <tbody>\n",
       "    <tr>\n",
       "      <th>0</th>\n",
       "      <td>http://93.17.7.150/webdav/greenshell.php \\t</td>\n",
       "      <td>0</td>\n",
       "      <td>0</td>\n",
       "      <td>NaN</td>\n",
       "      <td>get</td>\n",
       "    </tr>\n",
       "    <tr>\n",
       "      <th>1</th>\n",
       "      <td>http://www.sidarglobal.com/help.php \\t</td>\n",
       "      <td>0</td>\n",
       "      <td>0</td>\n",
       "      <td>NaN</td>\n",
       "      <td>get</td>\n",
       "    </tr>\n",
       "    <tr>\n",
       "      <th>2</th>\n",
       "      <td>http://190.144.174.250/webdav/greenshell.php \\...</td>\n",
       "      <td>0</td>\n",
       "      <td>0</td>\n",
       "      <td>NaN</td>\n",
       "      <td>get</td>\n",
       "    </tr>\n",
       "    <tr>\n",
       "      <th>3</th>\n",
       "      <td>http://cwa3672.org/ulogs.php \\t</td>\n",
       "      <td>0</td>\n",
       "      <td>0</td>\n",
       "      <td>NaN</td>\n",
       "      <td>get</td>\n",
       "    </tr>\n",
       "    <tr>\n",
       "      <th>4</th>\n",
       "      <td>http://89.104.195.200/webdav/x32.php \\t</td>\n",
       "      <td>0</td>\n",
       "      <td>0</td>\n",
       "      <td>NaN</td>\n",
       "      <td>get</td>\n",
       "    </tr>\n",
       "    <tr>\n",
       "      <th>5</th>\n",
       "      <td>http://82.114.168.38/webdav/greenshell.php \\t</td>\n",
       "      <td>0</td>\n",
       "      <td>0</td>\n",
       "      <td>NaN</td>\n",
       "      <td>get</td>\n",
       "    </tr>\n",
       "    <tr>\n",
       "      <th>6</th>\n",
       "      <td>http://www.theresahackforthat.webs.com/shell.p...</td>\n",
       "      <td>0</td>\n",
       "      <td>0</td>\n",
       "      <td>NaN</td>\n",
       "      <td>get</td>\n",
       "    </tr>\n",
       "    <tr>\n",
       "      <th>7</th>\n",
       "      <td>http://163.178.170.74/webdav/greenshell.php \\t</td>\n",
       "      <td>0</td>\n",
       "      <td>0</td>\n",
       "      <td>NaN</td>\n",
       "      <td>get</td>\n",
       "    </tr>\n",
       "    <tr>\n",
       "      <th>8</th>\n",
       "      <td>http://212.143.188.146/webdav/ab.php \\t</td>\n",
       "      <td>0</td>\n",
       "      <td>0</td>\n",
       "      <td>NaN</td>\n",
       "      <td>get</td>\n",
       "    </tr>\n",
       "    <tr>\n",
       "      <th>9</th>\n",
       "      <td>http://89.104.195.200/webdav/x32.php\\t</td>\n",
       "      <td>0</td>\n",
       "      <td>0</td>\n",
       "      <td>NaN</td>\n",
       "      <td>get</td>\n",
       "    </tr>\n",
       "  </tbody>\n",
       "</table>\n",
       "</div>"
      ],
      "text/plain": [
       "                                                 url  status  lastchecked  id  \\\n",
       "0     http://93.17.7.150/webdav/greenshell.php \\t          0            0 NaN   \n",
       "1          http://www.sidarglobal.com/help.php \\t          0            0 NaN   \n",
       "2  http://190.144.174.250/webdav/greenshell.php \\...       0            0 NaN   \n",
       "3                 http://cwa3672.org/ulogs.php \\t          0            0 NaN   \n",
       "4         http://89.104.195.200/webdav/x32.php \\t          0            0 NaN   \n",
       "5   http://82.114.168.38/webdav/greenshell.php \\t          0            0 NaN   \n",
       "6  http://www.theresahackforthat.webs.com/shell.p...       0            0 NaN   \n",
       "7  http://163.178.170.74/webdav/greenshell.php \\t          0            0 NaN   \n",
       "8         http://212.143.188.146/webdav/ab.php \\t          0            0 NaN   \n",
       "9          http://89.104.195.200/webdav/x32.php\\t          0            0 NaN   \n",
       "\n",
       "  attacktype  \n",
       "0        get  \n",
       "1        get  \n",
       "2        get  \n",
       "3        get  \n",
       "4        get  \n",
       "5        get  \n",
       "6        get  \n",
       "7        get  \n",
       "8        get  \n",
       "9        get  "
      ]
     },
     "execution_count": 30,
     "metadata": {},
     "output_type": "execute_result"
    }
   ],
   "source": [
    "# Loading the correct table name\n",
    "df_webshells = pd.read_csv(read_inserted_table(dumpfile, tablename),delimiter=\",\",error_bad_lines=False)\n",
    "\n",
    "# Converting columns\n",
    "\n",
    "# Changing column names\n",
    "df_webshells.rename(inplace=True, columns={'URL':'url',\n",
    "                                          'online':'status',\n",
    "                                          'lastChecked':'lastchecked'})\n",
    "\n",
    "# Adding missing columns\n",
    "df_webshells['id']=np.nan\n",
    "df_webshells['attacktype']='get'\n",
    "\n",
    "\n",
    "# Showing some lines after adapt the table\n",
    "df_webshells.head(10)"
   ]
  },
  {
   "cell_type": "markdown",
   "metadata": {
    "deletable": true,
    "editable": true
   },
   "source": [
    "## 6.9. Table: 'log' !!!!"
   ]
  },
  {
   "cell_type": "markdown",
   "metadata": {
    "deletable": true,
    "editable": true
   },
   "source": [
    "### How this table looks like without modification?"
   ]
  },
  {
   "cell_type": "code",
   "execution_count": 31,
   "metadata": {
    "collapsed": false,
    "deletable": true,
    "editable": true
   },
   "outputs": [
    {
     "name": "stderr",
     "output_type": "stream",
     "text": [
      "b'Skipping line 11: expected 2 fields, saw 5\\nSkipping line 12: expected 2 fields, saw 5\\nSkipping line 13: expected 2 fields, saw 5\\nSkipping line 14: expected 2 fields, saw 5\\nSkipping line 15: expected 2 fields, saw 5\\nSkipping line 16: expected 2 fields, saw 5\\nSkipping line 17: expected 2 fields, saw 5\\nSkipping line 18: expected 2 fields, saw 5\\nSkipping line 19: expected 2 fields, saw 5\\nSkipping line 20: expected 2 fields, saw 5\\nSkipping line 21: expected 2 fields, saw 5\\nSkipping line 22: expected 2 fields, saw 5\\nSkipping line 23: expected 2 fields, saw 5\\nSkipping line 24: expected 2 fields, saw 5\\nSkipping line 25: expected 2 fields, saw 5\\nSkipping line 26: expected 2 fields, saw 5\\nSkipping line 27: expected 2 fields, saw 5\\nSkipping line 28: expected 2 fields, saw 5\\nSkipping line 29: expected 2 fields, saw 5\\nSkipping line 30: expected 2 fields, saw 5\\nSkipping line 31: expected 2 fields, saw 5\\nSkipping line 32: expected 2 fields, saw 5\\nSkipping line 33: expected 2 fields, saw 5\\nSkipping line 34: expected 2 fields, saw 5\\nSkipping line 35: expected 2 fields, saw 5\\nSkipping line 36: expected 2 fields, saw 5\\nSkipping line 37: expected 2 fields, saw 5\\nSkipping line 38: expected 2 fields, saw 5\\nSkipping line 39: expected 2 fields, saw 5\\nSkipping line 40: expected 2 fields, saw 5\\nSkipping line 41: expected 2 fields, saw 5\\nSkipping line 42: expected 2 fields, saw 5\\nSkipping line 43: expected 2 fields, saw 5\\nSkipping line 44: expected 2 fields, saw 5\\nSkipping line 45: expected 2 fields, saw 5\\nSkipping line 46: expected 2 fields, saw 5\\nSkipping line 47: expected 2 fields, saw 5\\nSkipping line 48: expected 2 fields, saw 5\\nSkipping line 49: expected 2 fields, saw 5\\nSkipping line 50: expected 2 fields, saw 5\\nSkipping line 51: expected 2 fields, saw 5\\nSkipping line 52: expected 2 fields, saw 5\\nSkipping line 53: expected 2 fields, saw 5\\nSkipping line 54: expected 2 fields, saw 5\\nSkipping line 55: expected 2 fields, saw 5\\nSkipping line 56: expected 2 fields, saw 5\\nSkipping line 57: expected 2 fields, saw 5\\nSkipping line 58: expected 2 fields, saw 5\\nSkipping line 59: expected 2 fields, saw 5\\nSkipping line 60: expected 2 fields, saw 5\\nSkipping line 61: expected 2 fields, saw 5\\nSkipping line 62: expected 2 fields, saw 5\\nSkipping line 63: expected 2 fields, saw 5\\nSkipping line 64: expected 2 fields, saw 5\\nSkipping line 65: expected 2 fields, saw 5\\nSkipping line 66: expected 2 fields, saw 5\\nSkipping line 67: expected 2 fields, saw 5\\nSkipping line 68: expected 2 fields, saw 5\\nSkipping line 69: expected 2 fields, saw 5\\nSkipping line 70: expected 2 fields, saw 5\\nSkipping line 71: expected 2 fields, saw 5\\nSkipping line 72: expected 2 fields, saw 5\\nSkipping line 73: expected 2 fields, saw 5\\nSkipping line 74: expected 2 fields, saw 5\\nSkipping line 75: expected 2 fields, saw 5\\nSkipping line 76: expected 2 fields, saw 5\\nSkipping line 77: expected 2 fields, saw 5\\nSkipping line 78: expected 2 fields, saw 5\\nSkipping line 79: expected 2 fields, saw 5\\nSkipping line 80: expected 2 fields, saw 5\\nSkipping line 81: expected 2 fields, saw 5\\nSkipping line 82: expected 2 fields, saw 5\\nSkipping line 83: expected 2 fields, saw 5\\nSkipping line 84: expected 2 fields, saw 5\\nSkipping line 85: expected 2 fields, saw 5\\nSkipping line 86: expected 2 fields, saw 5\\nSkipping line 87: expected 2 fields, saw 5\\nSkipping line 88: expected 2 fields, saw 5\\nSkipping line 89: expected 2 fields, saw 5\\nSkipping line 90: expected 2 fields, saw 5\\nSkipping line 91: expected 2 fields, saw 5\\nSkipping line 92: expected 2 fields, saw 5\\nSkipping line 93: expected 2 fields, saw 5\\nSkipping line 94: expected 2 fields, saw 5\\nSkipping line 95: expected 2 fields, saw 5\\nSkipping line 96: expected 2 fields, saw 5\\nSkipping line 97: expected 2 fields, saw 5\\nSkipping line 98: expected 2 fields, saw 5\\nSkipping line 99: expected 2 fields, saw 5\\nSkipping line 100: expected 2 fields, saw 5\\nSkipping line 101: expected 2 fields, saw 5\\nSkipping line 102: expected 2 fields, saw 5\\nSkipping line 103: expected 2 fields, saw 5\\nSkipping line 104: expected 2 fields, saw 5\\nSkipping line 105: expected 2 fields, saw 5\\nSkipping line 106: expected 2 fields, saw 5\\nSkipping line 107: expected 2 fields, saw 5\\nSkipping line 108: expected 2 fields, saw 5\\nSkipping line 109: expected 2 fields, saw 5\\nSkipping line 110: expected 2 fields, saw 5\\nSkipping line 111: expected 2 fields, saw 5\\nSkipping line 112: expected 2 fields, saw 5\\nSkipping line 113: expected 2 fields, saw 5\\nSkipping line 114: expected 2 fields, saw 5\\nSkipping line 115: expected 2 fields, saw 5\\nSkipping line 116: expected 2 fields, saw 5\\nSkipping line 117: expected 2 fields, saw 5\\nSkipping line 118: expected 2 fields, saw 5\\nSkipping line 119: expected 2 fields, saw 5\\nSkipping line 120: expected 2 fields, saw 5\\nSkipping line 121: expected 2 fields, saw 5\\nSkipping line 122: expected 2 fields, saw 5\\nSkipping line 123: expected 2 fields, saw 5\\nSkipping line 124: expected 2 fields, saw 5\\nSkipping line 125: expected 2 fields, saw 5\\nSkipping line 126: expected 2 fields, saw 5\\nSkipping line 127: expected 2 fields, saw 5\\nSkipping line 128: expected 2 fields, saw 5\\nSkipping line 129: expected 2 fields, saw 5\\nSkipping line 130: expected 2 fields, saw 5\\nSkipping line 131: expected 2 fields, saw 5\\nSkipping line 132: expected 2 fields, saw 5\\nSkipping line 133: expected 2 fields, saw 5\\nSkipping line 134: expected 2 fields, saw 5\\nSkipping line 135: expected 2 fields, saw 5\\nSkipping line 136: expected 2 fields, saw 5\\nSkipping line 137: expected 2 fields, saw 5\\nSkipping line 138: expected 2 fields, saw 5\\nSkipping line 139: expected 2 fields, saw 5\\nSkipping line 140: expected 2 fields, saw 5\\nSkipping line 141: expected 2 fields, saw 5\\nSkipping line 142: expected 2 fields, saw 5\\nSkipping line 143: expected 2 fields, saw 5\\nSkipping line 144: expected 2 fields, saw 5\\nSkipping line 145: expected 2 fields, saw 5\\nSkipping line 146: expected 2 fields, saw 5\\nSkipping line 147: expected 2 fields, saw 5\\nSkipping line 148: expected 2 fields, saw 5\\nSkipping line 149: expected 2 fields, saw 5\\nSkipping line 150: expected 2 fields, saw 5\\nSkipping line 151: expected 2 fields, saw 5\\nSkipping line 152: expected 2 fields, saw 5\\nSkipping line 153: expected 2 fields, saw 5\\nSkipping line 154: expected 2 fields, saw 5\\nSkipping line 155: expected 2 fields, saw 5\\nSkipping line 156: expected 2 fields, saw 5\\nSkipping line 157: expected 2 fields, saw 5\\nSkipping line 158: expected 2 fields, saw 5\\nSkipping line 159: expected 2 fields, saw 5\\nSkipping line 160: expected 2 fields, saw 5\\nSkipping line 161: expected 2 fields, saw 5\\nSkipping line 162: expected 2 fields, saw 5\\nSkipping line 163: expected 2 fields, saw 5\\nSkipping line 164: expected 2 fields, saw 5\\nSkipping line 165: expected 2 fields, saw 5\\nSkipping line 166: expected 2 fields, saw 5\\nSkipping line 167: expected 2 fields, saw 5\\nSkipping line 168: expected 2 fields, saw 5\\nSkipping line 169: expected 2 fields, saw 5\\nSkipping line 170: expected 2 fields, saw 5\\nSkipping line 171: expected 2 fields, saw 5\\nSkipping line 172: expected 2 fields, saw 5\\nSkipping line 173: expected 2 fields, saw 5\\nSkipping line 174: expected 2 fields, saw 5\\nSkipping line 175: expected 2 fields, saw 5\\nSkipping line 176: expected 2 fields, saw 5\\nSkipping line 177: expected 2 fields, saw 5\\nSkipping line 178: expected 2 fields, saw 5\\nSkipping line 179: expected 2 fields, saw 5\\nSkipping line 180: expected 2 fields, saw 5\\nSkipping line 181: expected 2 fields, saw 5\\nSkipping line 182: expected 2 fields, saw 5\\nSkipping line 183: expected 2 fields, saw 5\\nSkipping line 184: expected 2 fields, saw 5\\nSkipping line 185: expected 2 fields, saw 5\\nSkipping line 186: expected 2 fields, saw 5\\nSkipping line 187: expected 2 fields, saw 5\\nSkipping line 188: expected 2 fields, saw 5\\nSkipping line 189: expected 2 fields, saw 5\\nSkipping line 190: expected 2 fields, saw 5\\nSkipping line 191: expected 2 fields, saw 5\\nSkipping line 192: expected 2 fields, saw 5\\nSkipping line 193: expected 2 fields, saw 5\\nSkipping line 194: expected 2 fields, saw 5\\nSkipping line 195: expected 2 fields, saw 5\\nSkipping line 196: expected 2 fields, saw 5\\nSkipping line 197: expected 2 fields, saw 5\\nSkipping line 198: expected 2 fields, saw 5\\nSkipping line 199: expected 2 fields, saw 5\\nSkipping line 200: expected 2 fields, saw 5\\nSkipping line 201: expected 2 fields, saw 5\\nSkipping line 202: expected 2 fields, saw 5\\nSkipping line 203: expected 2 fields, saw 5\\nSkipping line 204: expected 2 fields, saw 5\\nSkipping line 205: expected 2 fields, saw 5\\nSkipping line 206: expected 2 fields, saw 5\\nSkipping line 207: expected 2 fields, saw 5\\nSkipping line 208: expected 2 fields, saw 5\\nSkipping line 209: expected 2 fields, saw 5\\nSkipping line 210: expected 2 fields, saw 5\\nSkipping line 211: expected 2 fields, saw 5\\nSkipping line 212: expected 2 fields, saw 5\\nSkipping line 213: expected 2 fields, saw 5\\nSkipping line 214: expected 2 fields, saw 5\\nSkipping line 215: expected 2 fields, saw 5\\nSkipping line 216: expected 2 fields, saw 5\\nSkipping line 217: expected 2 fields, saw 5\\nSkipping line 218: expected 2 fields, saw 5\\nSkipping line 219: expected 2 fields, saw 5\\nSkipping line 220: expected 2 fields, saw 5\\nSkipping line 221: expected 2 fields, saw 5\\nSkipping line 222: expected 2 fields, saw 5\\nSkipping line 223: expected 2 fields, saw 5\\nSkipping line 224: expected 2 fields, saw 5\\nSkipping line 225: expected 2 fields, saw 5\\nSkipping line 226: expected 2 fields, saw 5\\nSkipping line 227: expected 2 fields, saw 5\\nSkipping line 228: expected 2 fields, saw 5\\nSkipping line 229: expected 2 fields, saw 5\\nSkipping line 230: expected 2 fields, saw 5\\nSkipping line 231: expected 2 fields, saw 5\\nSkipping line 232: expected 2 fields, saw 5\\nSkipping line 233: expected 2 fields, saw 5\\nSkipping line 234: expected 2 fields, saw 5\\nSkipping line 235: expected 2 fields, saw 5\\nSkipping line 236: expected 2 fields, saw 5\\nSkipping line 237: expected 2 fields, saw 5\\nSkipping line 238: expected 2 fields, saw 5\\nSkipping line 239: expected 2 fields, saw 5\\nSkipping line 240: expected 2 fields, saw 5\\nSkipping line 241: expected 2 fields, saw 5\\nSkipping line 242: expected 2 fields, saw 5\\nSkipping line 243: expected 2 fields, saw 5\\nSkipping line 244: expected 2 fields, saw 5\\nSkipping line 245: expected 2 fields, saw 5\\nSkipping line 246: expected 2 fields, saw 5\\nSkipping line 247: expected 2 fields, saw 5\\nSkipping line 248: expected 2 fields, saw 5\\nSkipping line 249: expected 2 fields, saw 5\\nSkipping line 250: expected 2 fields, saw 5\\nSkipping line 251: expected 2 fields, saw 5\\nSkipping line 252: expected 2 fields, saw 5\\nSkipping line 253: expected 2 fields, saw 5\\nSkipping line 254: expected 2 fields, saw 5\\nSkipping line 255: expected 2 fields, saw 5\\nSkipping line 256: expected 2 fields, saw 5\\nSkipping line 257: expected 2 fields, saw 5\\nSkipping line 258: expected 2 fields, saw 5\\nSkipping line 259: expected 2 fields, saw 5\\nSkipping line 260: expected 2 fields, saw 5\\nSkipping line 261: expected 2 fields, saw 5\\nSkipping line 262: expected 2 fields, saw 5\\nSkipping line 263: expected 2 fields, saw 5\\nSkipping line 264: expected 2 fields, saw 5\\nSkipping line 265: expected 2 fields, saw 5\\nSkipping line 266: expected 2 fields, saw 5\\nSkipping line 267: expected 2 fields, saw 5\\nSkipping line 268: expected 2 fields, saw 5\\nSkipping line 269: expected 2 fields, saw 5\\nSkipping line 270: expected 2 fields, saw 5\\nSkipping line 271: expected 2 fields, saw 5\\nSkipping line 272: expected 2 fields, saw 5\\nSkipping line 273: expected 2 fields, saw 5\\nSkipping line 274: expected 2 fields, saw 5\\nSkipping line 275: expected 2 fields, saw 5\\nSkipping line 276: expected 2 fields, saw 5\\nSkipping line 277: expected 2 fields, saw 5\\nSkipping line 278: expected 2 fields, saw 5\\nSkipping line 279: expected 2 fields, saw 5\\nSkipping line 280: expected 2 fields, saw 5\\nSkipping line 281: expected 2 fields, saw 5\\nSkipping line 282: expected 2 fields, saw 5\\nSkipping line 283: expected 2 fields, saw 5\\nSkipping line 284: expected 2 fields, saw 5\\nSkipping line 285: expected 2 fields, saw 5\\nSkipping line 286: expected 2 fields, saw 5\\nSkipping line 287: expected 2 fields, saw 5\\nSkipping line 288: expected 2 fields, saw 5\\nSkipping line 289: expected 2 fields, saw 5\\nSkipping line 290: expected 2 fields, saw 5\\nSkipping line 291: expected 2 fields, saw 5\\nSkipping line 292: expected 2 fields, saw 5\\nSkipping line 293: expected 2 fields, saw 5\\nSkipping line 294: expected 2 fields, saw 5\\nSkipping line 295: expected 2 fields, saw 5\\nSkipping line 296: expected 2 fields, saw 5\\nSkipping line 297: expected 2 fields, saw 5\\nSkipping line 298: expected 2 fields, saw 5\\nSkipping line 299: expected 2 fields, saw 5\\nSkipping line 300: expected 2 fields, saw 5\\nSkipping line 301: expected 2 fields, saw 5\\nSkipping line 302: expected 2 fields, saw 5\\nSkipping line 303: expected 2 fields, saw 5\\nSkipping line 304: expected 2 fields, saw 5\\nSkipping line 305: expected 2 fields, saw 5\\nSkipping line 306: expected 2 fields, saw 5\\nSkipping line 307: expected 2 fields, saw 5\\nSkipping line 308: expected 2 fields, saw 5\\nSkipping line 309: expected 2 fields, saw 5\\nSkipping line 310: expected 2 fields, saw 5\\nSkipping line 311: expected 2 fields, saw 5\\nSkipping line 312: expected 2 fields, saw 5\\nSkipping line 313: expected 2 fields, saw 5\\nSkipping line 314: expected 2 fields, saw 5\\nSkipping line 315: expected 2 fields, saw 5\\nSkipping line 316: expected 2 fields, saw 5\\nSkipping line 317: expected 2 fields, saw 5\\nSkipping line 318: expected 2 fields, saw 5\\nSkipping line 319: expected 2 fields, saw 5\\nSkipping line 320: expected 2 fields, saw 5\\nSkipping line 321: expected 2 fields, saw 5\\nSkipping line 322: expected 2 fields, saw 5\\nSkipping line 323: expected 2 fields, saw 5\\nSkipping line 324: expected 2 fields, saw 5\\nSkipping line 325: expected 2 fields, saw 5\\nSkipping line 326: expected 2 fields, saw 5\\nSkipping line 327: expected 2 fields, saw 5\\nSkipping line 328: expected 2 fields, saw 5\\nSkipping line 329: expected 2 fields, saw 5\\nSkipping line 330: expected 2 fields, saw 5\\nSkipping line 331: expected 2 fields, saw 5\\nSkipping line 332: expected 2 fields, saw 5\\nSkipping line 333: expected 2 fields, saw 5\\nSkipping line 334: expected 2 fields, saw 5\\nSkipping line 335: expected 2 fields, saw 5\\nSkipping line 336: expected 2 fields, saw 5\\nSkipping line 337: expected 2 fields, saw 5\\nSkipping line 338: expected 2 fields, saw 5\\nSkipping line 339: expected 2 fields, saw 5\\nSkipping line 340: expected 2 fields, saw 5\\nSkipping line 341: expected 2 fields, saw 5\\nSkipping line 342: expected 2 fields, saw 5\\nSkipping line 343: expected 2 fields, saw 5\\nSkipping line 344: expected 2 fields, saw 5\\nSkipping line 345: expected 2 fields, saw 5\\nSkipping line 346: expected 2 fields, saw 5\\nSkipping line 347: expected 2 fields, saw 5\\nSkipping line 348: expected 2 fields, saw 5\\nSkipping line 349: expected 2 fields, saw 5\\nSkipping line 350: expected 2 fields, saw 5\\nSkipping line 351: expected 2 fields, saw 5\\nSkipping line 352: expected 2 fields, saw 5\\nSkipping line 353: expected 2 fields, saw 5\\nSkipping line 354: expected 2 fields, saw 5\\nSkipping line 355: expected 2 fields, saw 5\\nSkipping line 356: expected 2 fields, saw 5\\nSkipping line 357: expected 2 fields, saw 5\\nSkipping line 358: expected 2 fields, saw 5\\nSkipping line 359: expected 2 fields, saw 5\\nSkipping line 360: expected 2 fields, saw 5\\nSkipping line 361: expected 2 fields, saw 5\\nSkipping line 362: expected 2 fields, saw 5\\nSkipping line 363: expected 2 fields, saw 5\\nSkipping line 364: expected 2 fields, saw 5\\nSkipping line 365: expected 2 fields, saw 5\\nSkipping line 366: expected 2 fields, saw 5\\nSkipping line 367: expected 2 fields, saw 5\\nSkipping line 368: expected 2 fields, saw 5\\nSkipping line 369: expected 2 fields, saw 5\\nSkipping line 370: expected 2 fields, saw 5\\nSkipping line 371: expected 2 fields, saw 5\\nSkipping line 372: expected 2 fields, saw 5\\nSkipping line 373: expected 2 fields, saw 5\\nSkipping line 374: expected 2 fields, saw 5\\nSkipping line 375: expected 2 fields, saw 5\\nSkipping line 376: expected 2 fields, saw 5\\nSkipping line 377: expected 2 fields, saw 5\\nSkipping line 378: expected 2 fields, saw 5\\nSkipping line 379: expected 2 fields, saw 5\\nSkipping line 380: expected 2 fields, saw 5\\nSkipping line 381: expected 2 fields, saw 5\\nSkipping line 382: expected 2 fields, saw 5\\nSkipping line 383: expected 2 fields, saw 5\\nSkipping line 384: expected 2 fields, saw 5\\nSkipping line 385: expected 2 fields, saw 5\\nSkipping line 386: expected 2 fields, saw 5\\nSkipping line 387: expected 2 fields, saw 5\\nSkipping line 388: expected 2 fields, saw 5\\nSkipping line 389: expected 2 fields, saw 5\\nSkipping line 390: expected 2 fields, saw 5\\nSkipping line 391: expected 2 fields, saw 5\\nSkipping line 392: expected 2 fields, saw 5\\nSkipping line 393: expected 2 fields, saw 5\\nSkipping line 394: expected 2 fields, saw 5\\nSkipping line 395: expected 2 fields, saw 5\\nSkipping line 396: expected 2 fields, saw 5\\nSkipping line 397: expected 2 fields, saw 5\\nSkipping line 398: expected 2 fields, saw 5\\nSkipping line 399: expected 2 fields, saw 5\\nSkipping line 400: expected 2 fields, saw 5\\nSkipping line 401: expected 2 fields, saw 5\\nSkipping line 402: expected 2 fields, saw 5\\nSkipping line 403: expected 2 fields, saw 5\\nSkipping line 404: expected 2 fields, saw 5\\nSkipping line 405: expected 2 fields, saw 5\\nSkipping line 406: expected 2 fields, saw 5\\nSkipping line 407: expected 2 fields, saw 5\\nSkipping line 408: expected 2 fields, saw 5\\nSkipping line 409: expected 2 fields, saw 5\\nSkipping line 410: expected 2 fields, saw 5\\nSkipping line 411: expected 2 fields, saw 5\\nSkipping line 412: expected 2 fields, saw 5\\nSkipping line 413: expected 2 fields, saw 5\\nSkipping line 414: expected 2 fields, saw 5\\nSkipping line 415: expected 2 fields, saw 5\\nSkipping line 416: expected 2 fields, saw 5\\nSkipping line 417: expected 2 fields, saw 5\\nSkipping line 418: expected 2 fields, saw 5\\nSkipping line 419: expected 2 fields, saw 5\\nSkipping line 420: expected 2 fields, saw 5\\nSkipping line 421: expected 2 fields, saw 5\\nSkipping line 422: expected 2 fields, saw 5\\nSkipping line 423: expected 2 fields, saw 5\\nSkipping line 424: expected 2 fields, saw 5\\nSkipping line 425: expected 2 fields, saw 5\\nSkipping line 426: expected 2 fields, saw 5\\nSkipping line 427: expected 2 fields, saw 5\\nSkipping line 428: expected 2 fields, saw 5\\nSkipping line 429: expected 2 fields, saw 5\\nSkipping line 430: expected 2 fields, saw 5\\nSkipping line 431: expected 2 fields, saw 5\\nSkipping line 432: expected 2 fields, saw 5\\nSkipping line 433: expected 2 fields, saw 5\\nSkipping line 434: expected 2 fields, saw 5\\nSkipping line 435: expected 2 fields, saw 5\\nSkipping line 436: expected 2 fields, saw 5\\nSkipping line 437: expected 2 fields, saw 5\\nSkipping line 438: expected 2 fields, saw 5\\nSkipping line 439: expected 2 fields, saw 5\\nSkipping line 440: expected 2 fields, saw 5\\nSkipping line 441: expected 2 fields, saw 5\\nSkipping line 442: expected 2 fields, saw 5\\nSkipping line 443: expected 2 fields, saw 5\\nSkipping line 444: expected 2 fields, saw 5\\nSkipping line 445: expected 2 fields, saw 5\\nSkipping line 446: expected 2 fields, saw 5\\nSkipping line 447: expected 2 fields, saw 5\\nSkipping line 448: expected 2 fields, saw 5\\nSkipping line 449: expected 2 fields, saw 5\\nSkipping line 450: expected 2 fields, saw 5\\nSkipping line 451: expected 2 fields, saw 5\\nSkipping line 452: expected 2 fields, saw 5\\nSkipping line 453: expected 2 fields, saw 5\\nSkipping line 454: expected 2 fields, saw 5\\nSkipping line 455: expected 2 fields, saw 5\\nSkipping line 456: expected 2 fields, saw 5\\nSkipping line 457: expected 2 fields, saw 5\\nSkipping line 458: expected 2 fields, saw 5\\nSkipping line 459: expected 2 fields, saw 5\\nSkipping line 460: expected 2 fields, saw 5\\nSkipping line 461: expected 2 fields, saw 5\\nSkipping line 462: expected 2 fields, saw 5\\nSkipping line 463: expected 2 fields, saw 5\\nSkipping line 464: expected 2 fields, saw 5\\nSkipping line 465: expected 2 fields, saw 5\\nSkipping line 466: expected 2 fields, saw 5\\nSkipping line 467: expected 2 fields, saw 5\\nSkipping line 468: expected 2 fields, saw 5\\nSkipping line 469: expected 2 fields, saw 5\\nSkipping line 470: expected 2 fields, saw 5\\nSkipping line 471: expected 2 fields, saw 5\\nSkipping line 472: expected 2 fields, saw 5\\nSkipping line 473: expected 2 fields, saw 5\\nSkipping line 474: expected 2 fields, saw 5\\nSkipping line 475: expected 2 fields, saw 5\\nSkipping line 476: expected 2 fields, saw 5\\nSkipping line 477: expected 2 fields, saw 5\\nSkipping line 478: expected 2 fields, saw 5\\nSkipping line 479: expected 2 fields, saw 5\\nSkipping line 480: expected 2 fields, saw 5\\nSkipping line 481: expected 2 fields, saw 5\\nSkipping line 482: expected 2 fields, saw 5\\nSkipping line 483: expected 2 fields, saw 5\\nSkipping line 484: expected 2 fields, saw 5\\nSkipping line 485: expected 2 fields, saw 5\\nSkipping line 486: expected 2 fields, saw 5\\nSkipping line 487: expected 2 fields, saw 5\\nSkipping line 488: expected 2 fields, saw 5\\nSkipping line 489: expected 2 fields, saw 5\\nSkipping line 490: expected 2 fields, saw 5\\nSkipping line 491: expected 2 fields, saw 5\\nSkipping line 492: expected 2 fields, saw 5\\nSkipping line 493: expected 2 fields, saw 5\\nSkipping line 494: expected 2 fields, saw 5\\nSkipping line 495: expected 2 fields, saw 5\\nSkipping line 496: expected 2 fields, saw 5\\nSkipping line 497: expected 2 fields, saw 5\\nSkipping line 498: expected 2 fields, saw 5\\nSkipping line 499: expected 2 fields, saw 5\\nSkipping line 500: expected 2 fields, saw 5\\nSkipping line 501: expected 2 fields, saw 5\\nSkipping line 502: expected 2 fields, saw 5\\nSkipping line 503: expected 2 fields, saw 5\\nSkipping line 504: expected 2 fields, saw 5\\nSkipping line 505: expected 2 fields, saw 5\\nSkipping line 506: expected 2 fields, saw 5\\nSkipping line 507: expected 2 fields, saw 5\\nSkipping line 508: expected 2 fields, saw 5\\nSkipping line 509: expected 2 fields, saw 5\\nSkipping line 510: expected 2 fields, saw 5\\nSkipping line 511: expected 2 fields, saw 5\\nSkipping line 512: expected 2 fields, saw 5\\nSkipping line 513: expected 2 fields, saw 5\\nSkipping line 514: expected 2 fields, saw 5\\nSkipping line 515: expected 2 fields, saw 5\\nSkipping line 516: expected 2 fields, saw 5\\nSkipping line 517: expected 2 fields, saw 5\\nSkipping line 518: expected 2 fields, saw 5\\nSkipping line 519: expected 2 fields, saw 5\\nSkipping line 520: expected 2 fields, saw 5\\nSkipping line 521: expected 2 fields, saw 5\\nSkipping line 522: expected 2 fields, saw 5\\nSkipping line 523: expected 2 fields, saw 5\\nSkipping line 524: expected 2 fields, saw 5\\nSkipping line 525: expected 2 fields, saw 5\\nSkipping line 526: expected 2 fields, saw 5\\nSkipping line 527: expected 2 fields, saw 5\\nSkipping line 528: expected 2 fields, saw 5\\nSkipping line 529: expected 2 fields, saw 5\\nSkipping line 530: expected 2 fields, saw 5\\nSkipping line 531: expected 2 fields, saw 5\\nSkipping line 532: expected 2 fields, saw 5\\nSkipping line 533: expected 2 fields, saw 5\\nSkipping line 534: expected 2 fields, saw 5\\nSkipping line 535: expected 2 fields, saw 5\\nSkipping line 536: expected 2 fields, saw 5\\nSkipping line 537: expected 2 fields, saw 5\\nSkipping line 538: expected 2 fields, saw 5\\nSkipping line 539: expected 2 fields, saw 5\\nSkipping line 540: expected 2 fields, saw 5\\nSkipping line 541: expected 2 fields, saw 5\\nSkipping line 542: expected 2 fields, saw 5\\nSkipping line 543: expected 2 fields, saw 5\\nSkipping line 544: expected 2 fields, saw 5\\nSkipping line 545: expected 2 fields, saw 5\\nSkipping line 546: expected 2 fields, saw 5\\nSkipping line 547: expected 2 fields, saw 5\\nSkipping line 548: expected 2 fields, saw 5\\nSkipping line 549: expected 2 fields, saw 5\\nSkipping line 550: expected 2 fields, saw 5\\nSkipping line 551: expected 2 fields, saw 5\\nSkipping line 552: expected 2 fields, saw 5\\nSkipping line 553: expected 2 fields, saw 5\\nSkipping line 554: expected 2 fields, saw 5\\nSkipping line 555: expected 2 fields, saw 5\\nSkipping line 556: expected 2 fields, saw 5\\nSkipping line 557: expected 2 fields, saw 5\\nSkipping line 558: expected 2 fields, saw 5\\nSkipping line 559: expected 2 fields, saw 5\\nSkipping line 560: expected 2 fields, saw 5\\nSkipping line 561: expected 2 fields, saw 5\\nSkipping line 562: expected 2 fields, saw 5\\nSkipping line 563: expected 2 fields, saw 5\\nSkipping line 564: expected 2 fields, saw 5\\nSkipping line 565: expected 2 fields, saw 5\\nSkipping line 566: expected 2 fields, saw 5\\nSkipping line 567: expected 2 fields, saw 5\\nSkipping line 568: expected 2 fields, saw 5\\nSkipping line 569: expected 2 fields, saw 5\\nSkipping line 570: expected 2 fields, saw 5\\nSkipping line 571: expected 2 fields, saw 5\\nSkipping line 572: expected 2 fields, saw 5\\nSkipping line 573: expected 2 fields, saw 5\\nSkipping line 574: expected 2 fields, saw 5\\nSkipping line 575: expected 2 fields, saw 5\\nSkipping line 576: expected 2 fields, saw 5\\nSkipping line 577: expected 2 fields, saw 5\\nSkipping line 578: expected 2 fields, saw 5\\nSkipping line 579: expected 2 fields, saw 5\\nSkipping line 580: expected 2 fields, saw 5\\nSkipping line 581: expected 2 fields, saw 5\\nSkipping line 582: expected 2 fields, saw 5\\nSkipping line 583: expected 2 fields, saw 5\\nSkipping line 584: expected 2 fields, saw 5\\nSkipping line 585: expected 2 fields, saw 5\\nSkipping line 586: expected 2 fields, saw 5\\nSkipping line 587: expected 2 fields, saw 5\\nSkipping line 588: expected 2 fields, saw 5\\nSkipping line 589: expected 2 fields, saw 5\\nSkipping line 590: expected 2 fields, saw 5\\nSkipping line 591: expected 2 fields, saw 5\\nSkipping line 592: expected 2 fields, saw 5\\nSkipping line 593: expected 2 fields, saw 5\\nSkipping line 594: expected 2 fields, saw 5\\nSkipping line 595: expected 2 fields, saw 5\\nSkipping line 596: expected 2 fields, saw 5\\nSkipping line 597: expected 2 fields, saw 5\\nSkipping line 598: expected 2 fields, saw 5\\nSkipping line 599: expected 2 fields, saw 5\\nSkipping line 600: expected 2 fields, saw 5\\nSkipping line 601: expected 2 fields, saw 5\\nSkipping line 602: expected 2 fields, saw 5\\nSkipping line 603: expected 2 fields, saw 5\\nSkipping line 604: expected 2 fields, saw 5\\nSkipping line 605: expected 2 fields, saw 5\\nSkipping line 606: expected 2 fields, saw 5\\nSkipping line 607: expected 2 fields, saw 5\\nSkipping line 608: expected 2 fields, saw 5\\nSkipping line 609: expected 2 fields, saw 5\\nSkipping line 610: expected 2 fields, saw 5\\nSkipping line 611: expected 2 fields, saw 5\\nSkipping line 612: expected 2 fields, saw 5\\nSkipping line 613: expected 2 fields, saw 5\\nSkipping line 614: expected 2 fields, saw 5\\nSkipping line 615: expected 2 fields, saw 5\\nSkipping line 616: expected 2 fields, saw 5\\nSkipping line 617: expected 2 fields, saw 5\\nSkipping line 618: expected 2 fields, saw 5\\nSkipping line 619: expected 2 fields, saw 5\\nSkipping line 620: expected 2 fields, saw 5\\nSkipping line 621: expected 2 fields, saw 5\\nSkipping line 622: expected 2 fields, saw 5\\nSkipping line 623: expected 2 fields, saw 5\\nSkipping line 624: expected 2 fields, saw 5\\nSkipping line 625: expected 2 fields, saw 5\\nSkipping line 626: expected 2 fields, saw 5\\nSkipping line 627: expected 2 fields, saw 5\\nSkipping line 628: expected 2 fields, saw 5\\nSkipping line 629: expected 2 fields, saw 5\\nSkipping line 630: expected 2 fields, saw 5\\nSkipping line 631: expected 2 fields, saw 5\\nSkipping line 632: expected 2 fields, saw 5\\nSkipping line 633: expected 2 fields, saw 5\\nSkipping line 634: expected 2 fields, saw 5\\nSkipping line 635: expected 2 fields, saw 5\\nSkipping line 636: expected 2 fields, saw 5\\nSkipping line 637: expected 2 fields, saw 5\\nSkipping line 638: expected 2 fields, saw 5\\nSkipping line 639: expected 2 fields, saw 5\\nSkipping line 640: expected 2 fields, saw 5\\nSkipping line 641: expected 2 fields, saw 5\\nSkipping line 642: expected 2 fields, saw 5\\nSkipping line 643: expected 2 fields, saw 5\\nSkipping line 644: expected 2 fields, saw 5\\nSkipping line 645: expected 2 fields, saw 5\\nSkipping line 646: expected 2 fields, saw 5\\nSkipping line 647: expected 2 fields, saw 5\\nSkipping line 648: expected 2 fields, saw 5\\nSkipping line 649: expected 2 fields, saw 5\\nSkipping line 650: expected 2 fields, saw 5\\nSkipping line 651: expected 2 fields, saw 5\\nSkipping line 652: expected 2 fields, saw 5\\nSkipping line 653: expected 2 fields, saw 5\\nSkipping line 654: expected 2 fields, saw 5\\nSkipping line 655: expected 2 fields, saw 5\\n'\n"
     ]
    },
    {
     "data": {
      "text/html": [
       "<div>\n",
       "<table border=\"1\" class=\"dataframe\">\n",
       "  <thead>\n",
       "    <tr style=\"text-align: right;\">\n",
       "      <th></th>\n",
       "      <th>ip</th>\n",
       "      <th>date</th>\n",
       "    </tr>\n",
       "  </thead>\n",
       "  <tbody>\n",
       "    <tr>\n",
       "      <th>0</th>\n",
       "      <td>66.249.71.8</td>\n",
       "      <td>Tuesday 20th of March 2012 04:18:35 AM</td>\n",
       "    </tr>\n",
       "    <tr>\n",
       "      <th>1</th>\n",
       "      <td>86.14.246.106</td>\n",
       "      <td>Saturday 24th of March 2012 05:28:19 AM</td>\n",
       "    </tr>\n",
       "    <tr>\n",
       "      <th>2</th>\n",
       "      <td>86.14.246.106</td>\n",
       "      <td>Saturday 24th of March 2012 05:29:11 AM</td>\n",
       "    </tr>\n",
       "    <tr>\n",
       "      <th>3</th>\n",
       "      <td>90.214.233.139</td>\n",
       "      <td>Saturday 24th of March 2012 05:29:38 AM</td>\n",
       "    </tr>\n",
       "    <tr>\n",
       "      <th>4</th>\n",
       "      <td>90.214.233.139</td>\n",
       "      <td>Saturday 24th of March 2012 05:29:45 AM</td>\n",
       "    </tr>\n",
       "    <tr>\n",
       "      <th>5</th>\n",
       "      <td>2.96.168.87</td>\n",
       "      <td>Saturday 24th of March 2012 05:30:04 AM</td>\n",
       "    </tr>\n",
       "    <tr>\n",
       "      <th>6</th>\n",
       "      <td>62.24.252.133</td>\n",
       "      <td>Saturday 24th of March 2012 05:30:35 AM</td>\n",
       "    </tr>\n",
       "    <tr>\n",
       "      <th>7</th>\n",
       "      <td>90.214.233.139</td>\n",
       "      <td>Saturday 24th of March 2012 05:30:41 AM</td>\n",
       "    </tr>\n",
       "    <tr>\n",
       "      <th>8</th>\n",
       "      <td>2.96.168.87</td>\n",
       "      <td>Saturday 24th of March 2012 05:32:58 AM</td>\n",
       "    </tr>\n",
       "  </tbody>\n",
       "</table>\n",
       "</div>"
      ],
      "text/plain": [
       "               ip                                     date\n",
       "0     66.249.71.8   Tuesday 20th of March 2012 04:18:35 AM\n",
       "1   86.14.246.106  Saturday 24th of March 2012 05:28:19 AM\n",
       "2   86.14.246.106  Saturday 24th of March 2012 05:29:11 AM\n",
       "3  90.214.233.139  Saturday 24th of March 2012 05:29:38 AM\n",
       "4  90.214.233.139  Saturday 24th of March 2012 05:29:45 AM\n",
       "5     2.96.168.87  Saturday 24th of March 2012 05:30:04 AM\n",
       "6   62.24.252.133  Saturday 24th of March 2012 05:30:35 AM\n",
       "7  90.214.233.139  Saturday 24th of March 2012 05:30:41 AM\n",
       "8     2.96.168.87  Saturday 24th of March 2012 05:32:58 AM"
      ]
     },
     "execution_count": 31,
     "metadata": {},
     "output_type": "execute_result"
    }
   ],
   "source": [
    "tablename='log'\n",
    "\n",
    "pd.read_csv(read_inserted_table(dumpfile, tablename),delimiter=\",\",error_bad_lines=False).head(10)"
   ]
  },
  {
   "cell_type": "markdown",
   "metadata": {
    "deletable": true,
    "editable": true
   },
   "source": [
    "#### Q1: Is this table different from other previous loaded table? YES\n",
    "#### Q2: Is this table similar to any table in the generic Booter database schema? YES, append\n",
    "    - This table looks like: friendsenemies\n",
    "#### Q3: Are there modifications required? \n",
    "    - On the table name: \n",
    "        o friends -> friendsenemies_temp\n",
    "    - On the column type: \n",
    "        o \n",
    "    - On the column name:\n",
    "        o notes -> note\n",
    "    - Add required columns:\n",
    "        o userid\n",
    "        o type = 'friend' \n",
    "    - Split columns:\n",
    "        o "
   ]
  },
  {
   "cell_type": "markdown",
   "metadata": {
    "deletable": true,
    "editable": true
   },
   "source": [
    "## 6.10. Table: 'logs'!!!!!"
   ]
  },
  {
   "cell_type": "markdown",
   "metadata": {
    "deletable": true,
    "editable": true
   },
   "source": [
    "### How this table looks like without modification?"
   ]
  },
  {
   "cell_type": "code",
   "execution_count": 32,
   "metadata": {
    "collapsed": false,
    "deletable": true,
    "editable": true
   },
   "outputs": [
    {
     "data": {
      "text/html": [
       "<div>\n",
       "<table border=\"1\" class=\"dataframe\">\n",
       "  <thead>\n",
       "    <tr style=\"text-align: right;\">\n",
       "      <th></th>\n",
       "      <th>username</th>\n",
       "      <th>ip</th>\n",
       "      <th>time</th>\n",
       "      <th>port</th>\n",
       "      <th>date</th>\n",
       "    </tr>\n",
       "  </thead>\n",
       "  <tbody>\n",
       "    <tr>\n",
       "      <th>0</th>\n",
       "      <td>acevich1988</td>\n",
       "      <td>46.166.151.253</td>\n",
       "      <td>30</td>\n",
       "      <td>80</td>\n",
       "      <td>03-19-2012 07:05:17 pm</td>\n",
       "    </tr>\n",
       "    <tr>\n",
       "      <th>1</th>\n",
       "      <td>whysearcher</td>\n",
       "      <td>88.255.200.19</td>\n",
       "      <td>300</td>\n",
       "      <td>80</td>\n",
       "      <td>03-19-2012 07:06:04 pm</td>\n",
       "    </tr>\n",
       "    <tr>\n",
       "      <th>2</th>\n",
       "      <td>acevich1988</td>\n",
       "      <td>1.1.1.1</td>\n",
       "      <td>10</td>\n",
       "      <td>80</td>\n",
       "      <td>03-19-2012 07:20:47 pm</td>\n",
       "    </tr>\n",
       "    <tr>\n",
       "      <th>3</th>\n",
       "      <td>itz izohh</td>\n",
       "      <td>24.106.68.35</td>\n",
       "      <td>60</td>\n",
       "      <td>3074</td>\n",
       "      <td>03-19-2012 07:27:47 pm</td>\n",
       "    </tr>\n",
       "    <tr>\n",
       "      <th>4</th>\n",
       "      <td>itz izohh</td>\n",
       "      <td>95.33.82.74</td>\n",
       "      <td>60</td>\n",
       "      <td>3074</td>\n",
       "      <td>03-19-2012 07:51:47 pm</td>\n",
       "    </tr>\n",
       "    <tr>\n",
       "      <th>5</th>\n",
       "      <td>itz izohh</td>\n",
       "      <td>76.71.154.10</td>\n",
       "      <td>120</td>\n",
       "      <td>3074</td>\n",
       "      <td>03-19-2012 08:30:14 pm</td>\n",
       "    </tr>\n",
       "    <tr>\n",
       "      <th>6</th>\n",
       "      <td>gamershaze</td>\n",
       "      <td>108.163.164.74</td>\n",
       "      <td>200</td>\n",
       "      <td>80</td>\n",
       "      <td>03-19-2012 08:35:31 pm</td>\n",
       "    </tr>\n",
       "    <tr>\n",
       "      <th>7</th>\n",
       "      <td>itz izohh</td>\n",
       "      <td>99.254.92.133</td>\n",
       "      <td>3</td>\n",
       "      <td>3074</td>\n",
       "      <td>03-19-2012 09:28:40 pm</td>\n",
       "    </tr>\n",
       "    <tr>\n",
       "      <th>8</th>\n",
       "      <td>itz izohh</td>\n",
       "      <td>74.77.180.159</td>\n",
       "      <td>100</td>\n",
       "      <td>3074</td>\n",
       "      <td>03-19-2012 10:53:37 pm</td>\n",
       "    </tr>\n",
       "    <tr>\n",
       "      <th>9</th>\n",
       "      <td>itz izohh</td>\n",
       "      <td>189.196.210.8</td>\n",
       "      <td>60</td>\n",
       "      <td>3074</td>\n",
       "      <td>03-19-2012 10:54:27 pm</td>\n",
       "    </tr>\n",
       "  </tbody>\n",
       "</table>\n",
       "</div>"
      ],
      "text/plain": [
       "      username              ip  time  port                    date\n",
       "0  acevich1988  46.166.151.253    30    80  03-19-2012 07:05:17 pm\n",
       "1  whysearcher   88.255.200.19   300    80  03-19-2012 07:06:04 pm\n",
       "2  acevich1988         1.1.1.1    10    80  03-19-2012 07:20:47 pm\n",
       "3    itz izohh    24.106.68.35    60  3074  03-19-2012 07:27:47 pm\n",
       "4    itz izohh     95.33.82.74    60  3074  03-19-2012 07:51:47 pm\n",
       "5    itz izohh    76.71.154.10   120  3074  03-19-2012 08:30:14 pm\n",
       "6   gamershaze  108.163.164.74   200    80  03-19-2012 08:35:31 pm\n",
       "7    itz izohh   99.254.92.133     3  3074  03-19-2012 09:28:40 pm\n",
       "8    itz izohh   74.77.180.159   100  3074  03-19-2012 10:53:37 pm\n",
       "9    itz izohh   189.196.210.8    60  3074  03-19-2012 10:54:27 pm"
      ]
     },
     "execution_count": 32,
     "metadata": {},
     "output_type": "execute_result"
    }
   ],
   "source": [
    "tablename='logs'\n",
    "\n",
    "pd.read_csv(read_inserted_table(dumpfile, tablename),delimiter=\",\",error_bad_lines=False).head(10)"
   ]
  },
  {
   "cell_type": "markdown",
   "metadata": {
    "deletable": true,
    "editable": true
   },
   "source": [
    "#### Q1: Is this table different from other previous loaded table? YES \n",
    "#### Q2: Is this table similar to any table in the generic Booter database schema? YES\n",
    "    - This table looks like: attacks\n",
    "#### Q3: Are there modifications required? \n",
    "    - On the table name: \n",
    "        o logs -> attacks\n",
    "    - On the column type: \n",
    "        o date -> datetimemdyampm2datetime()\n",
    "        \n",
    "    - On the column name:\n",
    "        o ip -> targetip\n",
    "        o time -> duration\n",
    "        \n",
    "    - Add required columns:\n",
    "        o id\n",
    "        o userid\n",
    "        o targeturl\n",
    "        o type\n",
    "   - Split columns:\n",
    "        o "
   ]
  },
  {
   "cell_type": "markdown",
   "metadata": {
    "deletable": true,
    "editable": true
   },
   "source": [
    "### Modifying table: 'logs'"
   ]
  },
  {
   "cell_type": "code",
   "execution_count": 33,
   "metadata": {
    "collapsed": false,
    "deletable": true,
    "editable": true
   },
   "outputs": [
    {
     "data": {
      "text/html": [
       "<div>\n",
       "<table border=\"1\" class=\"dataframe\">\n",
       "  <thead>\n",
       "    <tr style=\"text-align: right;\">\n",
       "      <th></th>\n",
       "      <th>username</th>\n",
       "      <th>targetip</th>\n",
       "      <th>duration</th>\n",
       "      <th>port</th>\n",
       "      <th>date</th>\n",
       "      <th>id</th>\n",
       "      <th>userid</th>\n",
       "      <th>targeturl</th>\n",
       "      <th>type</th>\n",
       "    </tr>\n",
       "  </thead>\n",
       "  <tbody>\n",
       "    <tr>\n",
       "      <th>0</th>\n",
       "      <td>acevich1988</td>\n",
       "      <td>46.166.151.253</td>\n",
       "      <td>30</td>\n",
       "      <td>80</td>\n",
       "      <td>2012-03-19 19:05:17</td>\n",
       "      <td>NaN</td>\n",
       "      <td>NaN</td>\n",
       "      <td>NaN</td>\n",
       "      <td>NaN</td>\n",
       "    </tr>\n",
       "    <tr>\n",
       "      <th>1</th>\n",
       "      <td>whysearcher</td>\n",
       "      <td>88.255.200.19</td>\n",
       "      <td>300</td>\n",
       "      <td>80</td>\n",
       "      <td>2012-03-19 19:06:04</td>\n",
       "      <td>NaN</td>\n",
       "      <td>NaN</td>\n",
       "      <td>NaN</td>\n",
       "      <td>NaN</td>\n",
       "    </tr>\n",
       "    <tr>\n",
       "      <th>2</th>\n",
       "      <td>acevich1988</td>\n",
       "      <td>1.1.1.1</td>\n",
       "      <td>10</td>\n",
       "      <td>80</td>\n",
       "      <td>2012-03-19 19:20:47</td>\n",
       "      <td>NaN</td>\n",
       "      <td>NaN</td>\n",
       "      <td>NaN</td>\n",
       "      <td>NaN</td>\n",
       "    </tr>\n",
       "    <tr>\n",
       "      <th>3</th>\n",
       "      <td>itz izohh</td>\n",
       "      <td>24.106.68.35</td>\n",
       "      <td>60</td>\n",
       "      <td>3074</td>\n",
       "      <td>2012-03-19 19:27:47</td>\n",
       "      <td>NaN</td>\n",
       "      <td>NaN</td>\n",
       "      <td>NaN</td>\n",
       "      <td>NaN</td>\n",
       "    </tr>\n",
       "    <tr>\n",
       "      <th>4</th>\n",
       "      <td>itz izohh</td>\n",
       "      <td>95.33.82.74</td>\n",
       "      <td>60</td>\n",
       "      <td>3074</td>\n",
       "      <td>2012-03-19 19:51:47</td>\n",
       "      <td>NaN</td>\n",
       "      <td>NaN</td>\n",
       "      <td>NaN</td>\n",
       "      <td>NaN</td>\n",
       "    </tr>\n",
       "    <tr>\n",
       "      <th>5</th>\n",
       "      <td>itz izohh</td>\n",
       "      <td>76.71.154.10</td>\n",
       "      <td>120</td>\n",
       "      <td>3074</td>\n",
       "      <td>2012-03-19 20:30:14</td>\n",
       "      <td>NaN</td>\n",
       "      <td>NaN</td>\n",
       "      <td>NaN</td>\n",
       "      <td>NaN</td>\n",
       "    </tr>\n",
       "    <tr>\n",
       "      <th>6</th>\n",
       "      <td>gamershaze</td>\n",
       "      <td>108.163.164.74</td>\n",
       "      <td>200</td>\n",
       "      <td>80</td>\n",
       "      <td>2012-03-19 20:35:31</td>\n",
       "      <td>NaN</td>\n",
       "      <td>NaN</td>\n",
       "      <td>NaN</td>\n",
       "      <td>NaN</td>\n",
       "    </tr>\n",
       "    <tr>\n",
       "      <th>7</th>\n",
       "      <td>itz izohh</td>\n",
       "      <td>99.254.92.133</td>\n",
       "      <td>3</td>\n",
       "      <td>3074</td>\n",
       "      <td>2012-03-19 21:28:40</td>\n",
       "      <td>NaN</td>\n",
       "      <td>NaN</td>\n",
       "      <td>NaN</td>\n",
       "      <td>NaN</td>\n",
       "    </tr>\n",
       "    <tr>\n",
       "      <th>8</th>\n",
       "      <td>itz izohh</td>\n",
       "      <td>74.77.180.159</td>\n",
       "      <td>100</td>\n",
       "      <td>3074</td>\n",
       "      <td>2012-03-19 22:53:37</td>\n",
       "      <td>NaN</td>\n",
       "      <td>NaN</td>\n",
       "      <td>NaN</td>\n",
       "      <td>NaN</td>\n",
       "    </tr>\n",
       "    <tr>\n",
       "      <th>9</th>\n",
       "      <td>itz izohh</td>\n",
       "      <td>189.196.210.8</td>\n",
       "      <td>60</td>\n",
       "      <td>3074</td>\n",
       "      <td>2012-03-19 22:54:27</td>\n",
       "      <td>NaN</td>\n",
       "      <td>NaN</td>\n",
       "      <td>NaN</td>\n",
       "      <td>NaN</td>\n",
       "    </tr>\n",
       "  </tbody>\n",
       "</table>\n",
       "</div>"
      ],
      "text/plain": [
       "      username        targetip  duration  port                date  id  \\\n",
       "0  acevich1988  46.166.151.253        30    80 2012-03-19 19:05:17 NaN   \n",
       "1  whysearcher   88.255.200.19       300    80 2012-03-19 19:06:04 NaN   \n",
       "2  acevich1988         1.1.1.1        10    80 2012-03-19 19:20:47 NaN   \n",
       "3    itz izohh    24.106.68.35        60  3074 2012-03-19 19:27:47 NaN   \n",
       "4    itz izohh     95.33.82.74        60  3074 2012-03-19 19:51:47 NaN   \n",
       "5    itz izohh    76.71.154.10       120  3074 2012-03-19 20:30:14 NaN   \n",
       "6   gamershaze  108.163.164.74       200    80 2012-03-19 20:35:31 NaN   \n",
       "7    itz izohh   99.254.92.133         3  3074 2012-03-19 21:28:40 NaN   \n",
       "8    itz izohh   74.77.180.159       100  3074 2012-03-19 22:53:37 NaN   \n",
       "9    itz izohh   189.196.210.8        60  3074 2012-03-19 22:54:27 NaN   \n",
       "\n",
       "   userid  targeturl  type  \n",
       "0     NaN        NaN   NaN  \n",
       "1     NaN        NaN   NaN  \n",
       "2     NaN        NaN   NaN  \n",
       "3     NaN        NaN   NaN  \n",
       "4     NaN        NaN   NaN  \n",
       "5     NaN        NaN   NaN  \n",
       "6     NaN        NaN   NaN  \n",
       "7     NaN        NaN   NaN  \n",
       "8     NaN        NaN   NaN  \n",
       "9     NaN        NaN   NaN  "
      ]
     },
     "execution_count": 33,
     "metadata": {},
     "output_type": "execute_result"
    }
   ],
   "source": [
    "# Loading the correct table name\n",
    "df_attacks = pd.read_csv(read_inserted_table(dumpfile, tablename),delimiter=\",\",error_bad_lines=False)\n",
    "\n",
    "# Converting columns\n",
    "df_attacks['date']=datetimemdyampm2datetime(df_attacks['date'])\n",
    "\n",
    "# Changing column names\n",
    "df_attacks.rename(inplace=True, columns={'ip':'targetip',\n",
    "                                        'time':'duration'})\n",
    "# Adding missing columns\n",
    "df_attacks['id']=np.nan\n",
    "df_attacks['userid']=np.nan\n",
    "df_attacks['targeturl']=np.nan\n",
    "df_attacks['type']=np.nan\n",
    "\n",
    "# Showing some lines after adapt the table\n",
    "df_attacks.head(10)"
   ]
  },
  {
   "cell_type": "markdown",
   "metadata": {
    "deletable": true,
    "editable": true
   },
   "source": [
    "## 6.11. Table: 'membership_coupons'"
   ]
  },
  {
   "cell_type": "markdown",
   "metadata": {
    "deletable": true,
    "editable": true
   },
   "source": [
    "### How this table looks like without modification?"
   ]
  },
  {
   "cell_type": "code",
   "execution_count": 34,
   "metadata": {
    "collapsed": false,
    "deletable": true,
    "editable": true
   },
   "outputs": [
    {
     "data": {
      "text/html": [
       "<div>\n",
       "<table border=\"1\" class=\"dataframe\">\n",
       "  <thead>\n",
       "    <tr style=\"text-align: right;\">\n",
       "      <th></th>\n",
       "      <th>CouponId</th>\n",
       "      <th>CouponCode</th>\n",
       "      <th>Discount</th>\n",
       "      <th>DateStart</th>\n",
       "      <th>DateEnd</th>\n",
       "      <th>DateAdded</th>\n",
       "      <th>IsEnabled</th>\n",
       "      <th>PremiumLevel</th>\n",
       "    </tr>\n",
       "  </thead>\n",
       "  <tbody>\n",
       "    <tr>\n",
       "      <th>0</th>\n",
       "      <td>5</td>\n",
       "      <td>XRGold</td>\n",
       "      <td>20.0</td>\n",
       "      <td>2011-11-02 00:00:00</td>\n",
       "      <td>2012-06-27 00:00:00</td>\n",
       "      <td>2011-11-03 14:43:56</td>\n",
       "      <td>1</td>\n",
       "      <td>2</td>\n",
       "    </tr>\n",
       "    <tr>\n",
       "      <th>1</th>\n",
       "      <td>7</td>\n",
       "      <td>XRGold2</td>\n",
       "      <td>40.0</td>\n",
       "      <td>2011-11-18 00:00:00</td>\n",
       "      <td>2011-11-19 00:00:00</td>\n",
       "      <td>2011-11-18 13:01:03</td>\n",
       "      <td>1</td>\n",
       "      <td>2</td>\n",
       "    </tr>\n",
       "  </tbody>\n",
       "</table>\n",
       "</div>"
      ],
      "text/plain": [
       "   CouponId CouponCode  Discount            DateStart              DateEnd  \\\n",
       "0         5     XRGold      20.0  2011-11-02 00:00:00  2012-06-27 00:00:00   \n",
       "1         7    XRGold2      40.0  2011-11-18 00:00:00  2011-11-19 00:00:00   \n",
       "\n",
       "             DateAdded  IsEnabled  PremiumLevel  \n",
       "0  2011-11-03 14:43:56          1             2  \n",
       "1  2011-11-18 13:01:03          1             2  "
      ]
     },
     "execution_count": 34,
     "metadata": {},
     "output_type": "execute_result"
    }
   ],
   "source": [
    "tablename='membership_coupons'\n",
    "\n",
    "pd.read_csv(read_inserted_table(dumpfile, tablename),delimiter=\",\",error_bad_lines=False).head(10)"
   ]
  },
  {
   "cell_type": "markdown",
   "metadata": {
    "deletable": true,
    "editable": true
   },
   "source": [
    "#### Q1: Is this table different from other previous loaded table? YES \n",
    "#### Q2: Is this table similar to any table in the generic Booter database schema? NO\n",
    "    - This table looks like: \n",
    "#### Q3: Are there modifications required? \n",
    "    - On the table name: \n",
    "        o \n",
    "    - On the column type: \n",
    "        o \n",
    "    - On the column name:\n",
    "        o \n",
    "    - Add required columns:\n",
    "        o \n",
    "    - Split columns:\n",
    "        o "
   ]
  },
  {
   "cell_type": "markdown",
   "metadata": {
    "deletable": true,
    "editable": true
   },
   "source": [
    "## 6.12. Table: 'membership_rates'"
   ]
  },
  {
   "cell_type": "markdown",
   "metadata": {
    "deletable": true,
    "editable": true
   },
   "source": [
    "### How this table looks like without modification?"
   ]
  },
  {
   "cell_type": "code",
   "execution_count": 35,
   "metadata": {
    "collapsed": false,
    "deletable": true,
    "editable": true
   },
   "outputs": [
    {
     "data": {
      "text/html": [
       "<div>\n",
       "<table border=\"1\" class=\"dataframe\">\n",
       "  <thead>\n",
       "    <tr style=\"text-align: right;\">\n",
       "      <th></th>\n",
       "      <th>RatesId</th>\n",
       "      <th>TypesId</th>\n",
       "      <th>Type</th>\n",
       "      <th>RateTitle</th>\n",
       "      <th>Description</th>\n",
       "      <th>IntervalLength</th>\n",
       "      <th>IntervalType</th>\n",
       "      <th>IsAutoRenew</th>\n",
       "      <th>AutoRenewTimes</th>\n",
       "      <th>IsTrial1</th>\n",
       "      <th>...</th>\n",
       "      <th>Trial1Length</th>\n",
       "      <th>Trial1Type</th>\n",
       "      <th>IsTrial2</th>\n",
       "      <th>Trial2Rate</th>\n",
       "      <th>Trial2Length</th>\n",
       "      <th>Trial2Type</th>\n",
       "      <th>MembershipFee</th>\n",
       "      <th>OrdinalPosition</th>\n",
       "      <th>IsEnabled</th>\n",
       "      <th>PremiumLevel</th>\n",
       "    </tr>\n",
       "  </thead>\n",
       "  <tbody>\n",
       "    <tr>\n",
       "      <th>0</th>\n",
       "      <td>26</td>\n",
       "      <td>2</td>\n",
       "      <td>Silver Membership</td>\n",
       "      <td>Daily - USD 1.00</td>\n",
       "      <td>&lt;p&gt;Daily Subscription - USD 1.00&lt;/p&gt;</td>\n",
       "      <td>1</td>\n",
       "      <td>D</td>\n",
       "      <td>0</td>\n",
       "      <td>2</td>\n",
       "      <td>0</td>\n",
       "      <td>...</td>\n",
       "      <td>1</td>\n",
       "      <td>D</td>\n",
       "      <td>0</td>\n",
       "      <td>0.0</td>\n",
       "      <td>1</td>\n",
       "      <td>D</td>\n",
       "      <td>1.00</td>\n",
       "      <td>0</td>\n",
       "      <td>1</td>\n",
       "      <td>1</td>\n",
       "    </tr>\n",
       "    <tr>\n",
       "      <th>1</th>\n",
       "      <td>2</td>\n",
       "      <td>2</td>\n",
       "      <td>Silver Membership</td>\n",
       "      <td>Weekly - USD 3.99</td>\n",
       "      <td>&lt;p&gt;Weekly Subscription - USD 3.99&lt;/p&gt;</td>\n",
       "      <td>1</td>\n",
       "      <td>W</td>\n",
       "      <td>0</td>\n",
       "      <td>1</td>\n",
       "      <td>0</td>\n",
       "      <td>...</td>\n",
       "      <td>1</td>\n",
       "      <td>M</td>\n",
       "      <td>0</td>\n",
       "      <td>0.0</td>\n",
       "      <td>1</td>\n",
       "      <td>W</td>\n",
       "      <td>3.99</td>\n",
       "      <td>2</td>\n",
       "      <td>1</td>\n",
       "      <td>1</td>\n",
       "    </tr>\n",
       "    <tr>\n",
       "      <th>2</th>\n",
       "      <td>4</td>\n",
       "      <td>2</td>\n",
       "      <td>Silver Membership</td>\n",
       "      <td>Yearly - USD 22.99</td>\n",
       "      <td>&lt;p&gt;Yearly Subscription - USD 22.99&lt;/p&gt;</td>\n",
       "      <td>1</td>\n",
       "      <td>Y</td>\n",
       "      <td>0</td>\n",
       "      <td>1</td>\n",
       "      <td>0</td>\n",
       "      <td>...</td>\n",
       "      <td>1</td>\n",
       "      <td>M</td>\n",
       "      <td>0</td>\n",
       "      <td>0.0</td>\n",
       "      <td>1</td>\n",
       "      <td>W</td>\n",
       "      <td>22.99</td>\n",
       "      <td>4</td>\n",
       "      <td>1</td>\n",
       "      <td>1</td>\n",
       "    </tr>\n",
       "    <tr>\n",
       "      <th>3</th>\n",
       "      <td>6</td>\n",
       "      <td>3</td>\n",
       "      <td>Gold Membership</td>\n",
       "      <td>Yearly - USD 25.99</td>\n",
       "      <td>&lt;p&gt;Yearly Subscription - USD 25.99 - Access to...</td>\n",
       "      <td>1</td>\n",
       "      <td>Y</td>\n",
       "      <td>0</td>\n",
       "      <td>1</td>\n",
       "      <td>0</td>\n",
       "      <td>...</td>\n",
       "      <td>1</td>\n",
       "      <td>M</td>\n",
       "      <td>0</td>\n",
       "      <td>0.0</td>\n",
       "      <td>1</td>\n",
       "      <td>W</td>\n",
       "      <td>25.99</td>\n",
       "      <td>6</td>\n",
       "      <td>1</td>\n",
       "      <td>2</td>\n",
       "    </tr>\n",
       "    <tr>\n",
       "      <th>4</th>\n",
       "      <td>23</td>\n",
       "      <td>23</td>\n",
       "      <td>Silver Membership</td>\n",
       "      <td>Montly - USD 7.00</td>\n",
       "      <td>&lt;p&gt;Montly Subscription - USD 7.00&lt;/p&gt;</td>\n",
       "      <td>12</td>\n",
       "      <td>M</td>\n",
       "      <td>0</td>\n",
       "      <td>2</td>\n",
       "      <td>0</td>\n",
       "      <td>...</td>\n",
       "      <td>1</td>\n",
       "      <td>D</td>\n",
       "      <td>0</td>\n",
       "      <td>0.0</td>\n",
       "      <td>1</td>\n",
       "      <td>D</td>\n",
       "      <td>7.00</td>\n",
       "      <td>3</td>\n",
       "      <td>1</td>\n",
       "      <td>1</td>\n",
       "    </tr>\n",
       "    <tr>\n",
       "      <th>5</th>\n",
       "      <td>24</td>\n",
       "      <td>24</td>\n",
       "      <td>Gold Membership</td>\n",
       "      <td>Montly - USD 10.00</td>\n",
       "      <td>&lt;p&gt;Montly Subscription - USD 10.00&lt;/p&gt;</td>\n",
       "      <td>1</td>\n",
       "      <td>M</td>\n",
       "      <td>0</td>\n",
       "      <td>2</td>\n",
       "      <td>0</td>\n",
       "      <td>...</td>\n",
       "      <td>1</td>\n",
       "      <td>D</td>\n",
       "      <td>0</td>\n",
       "      <td>0.0</td>\n",
       "      <td>1</td>\n",
       "      <td>D</td>\n",
       "      <td>10.00</td>\n",
       "      <td>5</td>\n",
       "      <td>1</td>\n",
       "      <td>2</td>\n",
       "    </tr>\n",
       "  </tbody>\n",
       "</table>\n",
       "<p>6 rows × 21 columns</p>\n",
       "</div>"
      ],
      "text/plain": [
       "   RatesId  TypesId               Type           RateTitle  \\\n",
       "0       26        2  Silver Membership    Daily - USD 1.00   \n",
       "1        2        2  Silver Membership   Weekly - USD 3.99   \n",
       "2        4        2  Silver Membership  Yearly - USD 22.99   \n",
       "3        6        3    Gold Membership  Yearly - USD 25.99   \n",
       "4       23       23  Silver Membership   Montly - USD 7.00   \n",
       "5       24       24    Gold Membership  Montly - USD 10.00   \n",
       "\n",
       "                                         Description  IntervalLength  \\\n",
       "0               <p>Daily Subscription - USD 1.00</p>               1   \n",
       "1              <p>Weekly Subscription - USD 3.99</p>               1   \n",
       "2             <p>Yearly Subscription - USD 22.99</p>               1   \n",
       "3  <p>Yearly Subscription - USD 25.99 - Access to...               1   \n",
       "4              <p>Montly Subscription - USD 7.00</p>              12   \n",
       "5             <p>Montly Subscription - USD 10.00</p>               1   \n",
       "\n",
       "  IntervalType  IsAutoRenew  AutoRenewTimes  IsTrial1      ...       \\\n",
       "0            D            0               2         0      ...        \n",
       "1            W            0               1         0      ...        \n",
       "2            Y            0               1         0      ...        \n",
       "3            Y            0               1         0      ...        \n",
       "4            M            0               2         0      ...        \n",
       "5            M            0               2         0      ...        \n",
       "\n",
       "   Trial1Length  Trial1Type IsTrial2  Trial2Rate  Trial2Length  Trial2Type  \\\n",
       "0             1           D        0         0.0             1           D   \n",
       "1             1           M        0         0.0             1           W   \n",
       "2             1           M        0         0.0             1           W   \n",
       "3             1           M        0         0.0             1           W   \n",
       "4             1           D        0         0.0             1           D   \n",
       "5             1           D        0         0.0             1           D   \n",
       "\n",
       "  MembershipFee  OrdinalPosition  IsEnabled  PremiumLevel  \n",
       "0          1.00                0          1             1  \n",
       "1          3.99                2          1             1  \n",
       "2         22.99                4          1             1  \n",
       "3         25.99                6          1             2  \n",
       "4          7.00                3          1             1  \n",
       "5         10.00                5          1             2  \n",
       "\n",
       "[6 rows x 21 columns]"
      ]
     },
     "execution_count": 35,
     "metadata": {},
     "output_type": "execute_result"
    }
   ],
   "source": [
    "tablename='membership_rates'\n",
    "\n",
    "pd.read_csv(read_inserted_table(dumpfile, tablename),delimiter=\",\",error_bad_lines=False).head(10)"
   ]
  },
  {
   "cell_type": "markdown",
   "metadata": {
    "deletable": true,
    "editable": true
   },
   "source": [
    "#### Q1: Is this table different from other previous loaded table? YES \n",
    "#### Q2: Is this table similar to any table in the generic Booter database schema? YES\n",
    "    - This table looks like: plans\n",
    "#### Q3: Are there modifications required? \n",
    "    - On the table name: \n",
    "        o membership_rates -> plans\n",
    "    - On the column type: \n",
    "        o \n",
    "    - On the column name:\n",
    "        o RatesId -> planid\n",
    "        o Type -> planname\n",
    "        o Description -> plandescr\n",
    "        o MembershipFee -> price\n",
    "    - Add required columns:\n",
    "        o maxboottime\n",
    "        o concurrecy\n",
    "    - Split columns:\n",
    "        o "
   ]
  },
  {
   "cell_type": "markdown",
   "metadata": {
    "deletable": true,
    "editable": true
   },
   "source": [
    "### Modifying table: 'membership_rates'"
   ]
  },
  {
   "cell_type": "code",
   "execution_count": 36,
   "metadata": {
    "collapsed": false,
    "deletable": true,
    "editable": true
   },
   "outputs": [
    {
     "data": {
      "text/html": [
       "<div>\n",
       "<table border=\"1\" class=\"dataframe\">\n",
       "  <thead>\n",
       "    <tr style=\"text-align: right;\">\n",
       "      <th></th>\n",
       "      <th>planid</th>\n",
       "      <th>TypesId</th>\n",
       "      <th>planname</th>\n",
       "      <th>RateTitle</th>\n",
       "      <th>plandescr</th>\n",
       "      <th>IntervalLength</th>\n",
       "      <th>IntervalType</th>\n",
       "      <th>IsAutoRenew</th>\n",
       "      <th>AutoRenewTimes</th>\n",
       "      <th>IsTrial1</th>\n",
       "      <th>...</th>\n",
       "      <th>IsTrial2</th>\n",
       "      <th>Trial2Rate</th>\n",
       "      <th>Trial2Length</th>\n",
       "      <th>Trial2Type</th>\n",
       "      <th>price</th>\n",
       "      <th>OrdinalPosition</th>\n",
       "      <th>IsEnabled</th>\n",
       "      <th>PremiumLevel</th>\n",
       "      <th>maxboottime</th>\n",
       "      <th>concurrency</th>\n",
       "    </tr>\n",
       "  </thead>\n",
       "  <tbody>\n",
       "    <tr>\n",
       "      <th>0</th>\n",
       "      <td>26</td>\n",
       "      <td>2</td>\n",
       "      <td>Silver Membership</td>\n",
       "      <td>Daily - USD 1.00</td>\n",
       "      <td>&lt;p&gt;Daily Subscription - USD 1.00&lt;/p&gt;</td>\n",
       "      <td>1</td>\n",
       "      <td>D</td>\n",
       "      <td>0</td>\n",
       "      <td>2</td>\n",
       "      <td>0</td>\n",
       "      <td>...</td>\n",
       "      <td>0</td>\n",
       "      <td>0.0</td>\n",
       "      <td>1</td>\n",
       "      <td>D</td>\n",
       "      <td>1.00</td>\n",
       "      <td>0</td>\n",
       "      <td>1</td>\n",
       "      <td>1</td>\n",
       "      <td>NaN</td>\n",
       "      <td>NaN</td>\n",
       "    </tr>\n",
       "    <tr>\n",
       "      <th>1</th>\n",
       "      <td>2</td>\n",
       "      <td>2</td>\n",
       "      <td>Silver Membership</td>\n",
       "      <td>Weekly - USD 3.99</td>\n",
       "      <td>&lt;p&gt;Weekly Subscription - USD 3.99&lt;/p&gt;</td>\n",
       "      <td>1</td>\n",
       "      <td>W</td>\n",
       "      <td>0</td>\n",
       "      <td>1</td>\n",
       "      <td>0</td>\n",
       "      <td>...</td>\n",
       "      <td>0</td>\n",
       "      <td>0.0</td>\n",
       "      <td>1</td>\n",
       "      <td>W</td>\n",
       "      <td>3.99</td>\n",
       "      <td>2</td>\n",
       "      <td>1</td>\n",
       "      <td>1</td>\n",
       "      <td>NaN</td>\n",
       "      <td>NaN</td>\n",
       "    </tr>\n",
       "    <tr>\n",
       "      <th>2</th>\n",
       "      <td>4</td>\n",
       "      <td>2</td>\n",
       "      <td>Silver Membership</td>\n",
       "      <td>Yearly - USD 22.99</td>\n",
       "      <td>&lt;p&gt;Yearly Subscription - USD 22.99&lt;/p&gt;</td>\n",
       "      <td>1</td>\n",
       "      <td>Y</td>\n",
       "      <td>0</td>\n",
       "      <td>1</td>\n",
       "      <td>0</td>\n",
       "      <td>...</td>\n",
       "      <td>0</td>\n",
       "      <td>0.0</td>\n",
       "      <td>1</td>\n",
       "      <td>W</td>\n",
       "      <td>22.99</td>\n",
       "      <td>4</td>\n",
       "      <td>1</td>\n",
       "      <td>1</td>\n",
       "      <td>NaN</td>\n",
       "      <td>NaN</td>\n",
       "    </tr>\n",
       "    <tr>\n",
       "      <th>3</th>\n",
       "      <td>6</td>\n",
       "      <td>3</td>\n",
       "      <td>Gold Membership</td>\n",
       "      <td>Yearly - USD 25.99</td>\n",
       "      <td>&lt;p&gt;Yearly Subscription - USD 25.99 - Access to...</td>\n",
       "      <td>1</td>\n",
       "      <td>Y</td>\n",
       "      <td>0</td>\n",
       "      <td>1</td>\n",
       "      <td>0</td>\n",
       "      <td>...</td>\n",
       "      <td>0</td>\n",
       "      <td>0.0</td>\n",
       "      <td>1</td>\n",
       "      <td>W</td>\n",
       "      <td>25.99</td>\n",
       "      <td>6</td>\n",
       "      <td>1</td>\n",
       "      <td>2</td>\n",
       "      <td>NaN</td>\n",
       "      <td>NaN</td>\n",
       "    </tr>\n",
       "    <tr>\n",
       "      <th>4</th>\n",
       "      <td>23</td>\n",
       "      <td>23</td>\n",
       "      <td>Silver Membership</td>\n",
       "      <td>Montly - USD 7.00</td>\n",
       "      <td>&lt;p&gt;Montly Subscription - USD 7.00&lt;/p&gt;</td>\n",
       "      <td>12</td>\n",
       "      <td>M</td>\n",
       "      <td>0</td>\n",
       "      <td>2</td>\n",
       "      <td>0</td>\n",
       "      <td>...</td>\n",
       "      <td>0</td>\n",
       "      <td>0.0</td>\n",
       "      <td>1</td>\n",
       "      <td>D</td>\n",
       "      <td>7.00</td>\n",
       "      <td>3</td>\n",
       "      <td>1</td>\n",
       "      <td>1</td>\n",
       "      <td>NaN</td>\n",
       "      <td>NaN</td>\n",
       "    </tr>\n",
       "    <tr>\n",
       "      <th>5</th>\n",
       "      <td>24</td>\n",
       "      <td>24</td>\n",
       "      <td>Gold Membership</td>\n",
       "      <td>Montly - USD 10.00</td>\n",
       "      <td>&lt;p&gt;Montly Subscription - USD 10.00&lt;/p&gt;</td>\n",
       "      <td>1</td>\n",
       "      <td>M</td>\n",
       "      <td>0</td>\n",
       "      <td>2</td>\n",
       "      <td>0</td>\n",
       "      <td>...</td>\n",
       "      <td>0</td>\n",
       "      <td>0.0</td>\n",
       "      <td>1</td>\n",
       "      <td>D</td>\n",
       "      <td>10.00</td>\n",
       "      <td>5</td>\n",
       "      <td>1</td>\n",
       "      <td>2</td>\n",
       "      <td>NaN</td>\n",
       "      <td>NaN</td>\n",
       "    </tr>\n",
       "  </tbody>\n",
       "</table>\n",
       "<p>6 rows × 23 columns</p>\n",
       "</div>"
      ],
      "text/plain": [
       "   planid  TypesId           planname           RateTitle  \\\n",
       "0      26        2  Silver Membership    Daily - USD 1.00   \n",
       "1       2        2  Silver Membership   Weekly - USD 3.99   \n",
       "2       4        2  Silver Membership  Yearly - USD 22.99   \n",
       "3       6        3    Gold Membership  Yearly - USD 25.99   \n",
       "4      23       23  Silver Membership   Montly - USD 7.00   \n",
       "5      24       24    Gold Membership  Montly - USD 10.00   \n",
       "\n",
       "                                           plandescr  IntervalLength  \\\n",
       "0               <p>Daily Subscription - USD 1.00</p>               1   \n",
       "1              <p>Weekly Subscription - USD 3.99</p>               1   \n",
       "2             <p>Yearly Subscription - USD 22.99</p>               1   \n",
       "3  <p>Yearly Subscription - USD 25.99 - Access to...               1   \n",
       "4              <p>Montly Subscription - USD 7.00</p>              12   \n",
       "5             <p>Montly Subscription - USD 10.00</p>               1   \n",
       "\n",
       "  IntervalType  IsAutoRenew  AutoRenewTimes  IsTrial1     ...       IsTrial2  \\\n",
       "0            D            0               2         0     ...              0   \n",
       "1            W            0               1         0     ...              0   \n",
       "2            Y            0               1         0     ...              0   \n",
       "3            Y            0               1         0     ...              0   \n",
       "4            M            0               2         0     ...              0   \n",
       "5            M            0               2         0     ...              0   \n",
       "\n",
       "   Trial2Rate Trial2Length  Trial2Type  price  OrdinalPosition IsEnabled  \\\n",
       "0         0.0            1           D   1.00                0         1   \n",
       "1         0.0            1           W   3.99                2         1   \n",
       "2         0.0            1           W  22.99                4         1   \n",
       "3         0.0            1           W  25.99                6         1   \n",
       "4         0.0            1           D   7.00                3         1   \n",
       "5         0.0            1           D  10.00                5         1   \n",
       "\n",
       "   PremiumLevel  maxboottime  concurrency  \n",
       "0             1          NaN          NaN  \n",
       "1             1          NaN          NaN  \n",
       "2             1          NaN          NaN  \n",
       "3             2          NaN          NaN  \n",
       "4             1          NaN          NaN  \n",
       "5             2          NaN          NaN  \n",
       "\n",
       "[6 rows x 23 columns]"
      ]
     },
     "execution_count": 36,
     "metadata": {},
     "output_type": "execute_result"
    }
   ],
   "source": [
    "# Loading the correct table name\n",
    "df_plans = pd.read_csv(read_inserted_table(dumpfile, tablename),delimiter=\",\",error_bad_lines=False)\n",
    "\n",
    "# Converting columns\n",
    "\n",
    "# Changing column names\n",
    "df_plans.rename(inplace=True, columns={'RatesId':'planid',\n",
    "                                      'Type':'planname',\n",
    "                                      'Description':'plandescr',\n",
    "                                      'MembershipFee':'price'})\n",
    "# Adding missing columns\n",
    "df_plans['maxboottime']=np.nan\n",
    "df_plans['concurrency']=np.nan\n",
    "\n",
    "# Showing some lines after adapt the table\n",
    "df_plans.head(10)"
   ]
  },
  {
   "cell_type": "markdown",
   "metadata": {
    "deletable": true,
    "editable": true
   },
   "source": [
    "## 6.13. Table: 'membership_types'"
   ]
  },
  {
   "cell_type": "markdown",
   "metadata": {
    "deletable": true,
    "editable": true
   },
   "source": [
    "### How this table looks like without modification?"
   ]
  },
  {
   "cell_type": "code",
   "execution_count": 37,
   "metadata": {
    "collapsed": false,
    "deletable": true,
    "editable": true
   },
   "outputs": [
    {
     "data": {
      "text/html": [
       "<div>\n",
       "<table border=\"1\" class=\"dataframe\">\n",
       "  <thead>\n",
       "    <tr style=\"text-align: right;\">\n",
       "      <th></th>\n",
       "      <th>TypesId</th>\n",
       "      <th>Type</th>\n",
       "      <th>Description</th>\n",
       "      <th>OrdinalPosition</th>\n",
       "      <th>IsEnabled</th>\n",
       "    </tr>\n",
       "  </thead>\n",
       "  <tbody>\n",
       "    <tr>\n",
       "      <th>0</th>\n",
       "      <td>2</td>\n",
       "      <td>Silver Membership</td>\n",
       "      <td>Premium membership with some restrictions.</td>\n",
       "      <td>1</td>\n",
       "      <td>1</td>\n",
       "    </tr>\n",
       "    <tr>\n",
       "      <th>1</th>\n",
       "      <td>3</td>\n",
       "      <td>Gold Membership</td>\n",
       "      <td>Top of the line membership access to all options</td>\n",
       "      <td>2</td>\n",
       "      <td>1</td>\n",
       "    </tr>\n",
       "    <tr>\n",
       "      <th>2</th>\n",
       "      <td>5</td>\n",
       "      <td>Premium Membership</td>\n",
       "      <td>Best Package!</td>\n",
       "      <td>3</td>\n",
       "      <td>1</td>\n",
       "    </tr>\n",
       "  </tbody>\n",
       "</table>\n",
       "</div>"
      ],
      "text/plain": [
       "   TypesId                Type  \\\n",
       "0        2   Silver Membership   \n",
       "1        3     Gold Membership   \n",
       "2        5  Premium Membership   \n",
       "\n",
       "                                        Description  OrdinalPosition  \\\n",
       "0        Premium membership with some restrictions.                1   \n",
       "1  Top of the line membership access to all options                2   \n",
       "2                                     Best Package!                3   \n",
       "\n",
       "   IsEnabled  \n",
       "0          1  \n",
       "1          1  \n",
       "2          1  "
      ]
     },
     "execution_count": 37,
     "metadata": {},
     "output_type": "execute_result"
    }
   ],
   "source": [
    "tablename='membership_types'\n",
    "\n",
    "pd.read_csv(read_inserted_table(dumpfile, tablename),delimiter=\",\",error_bad_lines=False).head(10)"
   ]
  },
  {
   "cell_type": "markdown",
   "metadata": {
    "deletable": true,
    "editable": true
   },
   "source": [
    "#### Q1: Is this table different from other previous loaded table? YES \n",
    "#### Q2: Is this table similar to any table in the generic Booter database schema? NO\n",
    "    - This table looks like: \n",
    "#### Q3: Are there modifications required? \n",
    "    - On the table name: \n",
    "        o \n",
    "    - On the column type: \n",
    "        o \n",
    "    - On the column name:\n",
    "        o \n",
    "    - Add required columns:\n",
    "        o \n",
    "    - Split columns:\n",
    "        o "
   ]
  },
  {
   "cell_type": "markdown",
   "metadata": {
    "deletable": true,
    "editable": true
   },
   "source": [
    "## 6.14. Table: 'menus'"
   ]
  },
  {
   "cell_type": "markdown",
   "metadata": {
    "deletable": true,
    "editable": true
   },
   "source": [
    "### How this table looks like without modification?"
   ]
  },
  {
   "cell_type": "code",
   "execution_count": 38,
   "metadata": {
    "collapsed": false,
    "deletable": true,
    "editable": true
   },
   "outputs": [
    {
     "data": {
      "text/html": [
       "<div>\n",
       "<table border=\"1\" class=\"dataframe\">\n",
       "  <thead>\n",
       "    <tr style=\"text-align: right;\">\n",
       "      <th></th>\n",
       "      <th>MenuId</th>\n",
       "      <th>MenuName</th>\n",
       "      <th>Url</th>\n",
       "      <th>Target</th>\n",
       "      <th>Label</th>\n",
       "      <th>Title</th>\n",
       "      <th>Description</th>\n",
       "      <th>ParentId</th>\n",
       "      <th>ParentLabel</th>\n",
       "      <th>OrdinalPosition</th>\n",
       "      <th>IsEnabled</th>\n",
       "    </tr>\n",
       "  </thead>\n",
       "  <tbody>\n",
       "    <tr>\n",
       "      <th>0</th>\n",
       "      <td>1</td>\n",
       "      <td>user dash</td>\n",
       "      <td>index.php</td>\n",
       "      <td>_self</td>\n",
       "      <td>My Account</td>\n",
       "      <td>back to user dash home page</td>\n",
       "      <td>NaN</td>\n",
       "      <td>0</td>\n",
       "      <td>My Account</td>\n",
       "      <td>1</td>\n",
       "      <td>1</td>\n",
       "    </tr>\n",
       "  </tbody>\n",
       "</table>\n",
       "</div>"
      ],
      "text/plain": [
       "   MenuId   MenuName        Url Target       Label  \\\n",
       "0       1  user dash  index.php  _self  My Account   \n",
       "\n",
       "                         Title  Description  ParentId ParentLabel  \\\n",
       "0  back to user dash home page          NaN         0  My Account   \n",
       "\n",
       "   OrdinalPosition  IsEnabled  \n",
       "0                1          1  "
      ]
     },
     "execution_count": 38,
     "metadata": {},
     "output_type": "execute_result"
    }
   ],
   "source": [
    "tablename='menus'\n",
    "\n",
    "pd.read_csv(read_inserted_table(dumpfile, tablename),delimiter=\",\",error_bad_lines=False).head(10)"
   ]
  },
  {
   "cell_type": "markdown",
   "metadata": {
    "deletable": true,
    "editable": true
   },
   "source": [
    "#### Q1: Is this table different from other previous loaded table? YES \n",
    "#### Q2: Is this table similar to any table in the generic Booter database schema? NO\n",
    "    - This table looks like: \n",
    "#### Q3: Are there modifications required? \n",
    "    - On the table name: \n",
    "        o \n",
    "    - On the column type: \n",
    "        o \n",
    "    - On the column name:\n",
    "        o \n",
    "    - Add required columns:\n",
    "        o \n",
    "    - Split columns:\n",
    "        o "
   ]
  },
  {
   "cell_type": "markdown",
   "metadata": {
    "deletable": true,
    "editable": true
   },
   "source": [
    "## 6.15. Table: 'menu_names'"
   ]
  },
  {
   "cell_type": "markdown",
   "metadata": {
    "deletable": true,
    "editable": true
   },
   "source": [
    "### How this table looks like without modification?"
   ]
  },
  {
   "cell_type": "code",
   "execution_count": 39,
   "metadata": {
    "collapsed": false,
    "deletable": true,
    "editable": true
   },
   "outputs": [
    {
     "data": {
      "text/html": [
       "<div>\n",
       "<table border=\"1\" class=\"dataframe\">\n",
       "  <thead>\n",
       "    <tr style=\"text-align: right;\">\n",
       "      <th></th>\n",
       "      <th>MenuNameId</th>\n",
       "      <th>MenuName</th>\n",
       "      <th>Description</th>\n",
       "    </tr>\n",
       "  </thead>\n",
       "  <tbody>\n",
       "    <tr>\n",
       "      <th>0</th>\n",
       "      <td>1</td>\n",
       "      <td>user dash</td>\n",
       "      <td>none</td>\n",
       "    </tr>\n",
       "    <tr>\n",
       "      <th>1</th>\n",
       "      <td>7</td>\n",
       "      <td>Test</td>\n",
       "      <td>Test Testing 12</td>\n",
       "    </tr>\n",
       "  </tbody>\n",
       "</table>\n",
       "</div>"
      ],
      "text/plain": [
       "   MenuNameId   MenuName      Description\n",
       "0           1  user dash             none\n",
       "1           7       Test  Test Testing 12"
      ]
     },
     "execution_count": 39,
     "metadata": {},
     "output_type": "execute_result"
    }
   ],
   "source": [
    "tablename='menu_names'\n",
    "\n",
    "pd.read_csv(read_inserted_table(dumpfile, tablename),delimiter=\",\",error_bad_lines=False).head(10)"
   ]
  },
  {
   "cell_type": "markdown",
   "metadata": {
    "deletable": true,
    "editable": true
   },
   "source": [
    "#### Q1: Is this table different from other previous loaded table? YES \n",
    "#### Q2: Is this table similar to any table in the generic Booter database schema? NO\n",
    "    - This table looks like: \n",
    "#### Q3: Are there modifications required? \n",
    "    - On the table name: \n",
    "        o \n",
    "    - On the column type: \n",
    "        o \n",
    "    - On the column name:\n",
    "        o \n",
    "    - Add required columns:\n",
    "        o \n",
    "    - Split columns:\n",
    "        o "
   ]
  },
  {
   "cell_type": "markdown",
   "metadata": {
    "deletable": true,
    "editable": true
   },
   "source": [
    "## 6.16. Table: 'news'"
   ]
  },
  {
   "cell_type": "markdown",
   "metadata": {
    "deletable": true,
    "editable": true
   },
   "source": [
    "### How this table looks like without modification?"
   ]
  },
  {
   "cell_type": "code",
   "execution_count": 40,
   "metadata": {
    "collapsed": false,
    "deletable": true,
    "editable": true
   },
   "outputs": [
    {
     "data": {
      "text/html": [
       "<div>\n",
       "<table border=\"1\" class=\"dataframe\">\n",
       "  <thead>\n",
       "    <tr style=\"text-align: right;\">\n",
       "      <th></th>\n",
       "      <th>message3</th>\n",
       "    </tr>\n",
       "  </thead>\n",
       "  <tbody>\n",
       "    <tr>\n",
       "      <th>0</th>\n",
       "      <td>Adding ssyn an udp attacks to the booter :</td>\n",
       "    </tr>\n",
       "  </tbody>\n",
       "</table>\n",
       "</div>"
      ],
      "text/plain": [
       "                                     message3\n",
       "0  Adding ssyn an udp attacks to the booter :"
      ]
     },
     "execution_count": 40,
     "metadata": {},
     "output_type": "execute_result"
    }
   ],
   "source": [
    "tablename='news'\n",
    "\n",
    "pd.read_csv(read_inserted_table(dumpfile, tablename),delimiter=\",\",error_bad_lines=False).head(10)"
   ]
  },
  {
   "cell_type": "markdown",
   "metadata": {
    "deletable": true,
    "editable": true
   },
   "source": [
    "#### Q1: Is this table different from other previous loaded table? YES \n",
    "#### Q2: Is this table similar to any table in the generic Booter database schema? NO\n",
    "    - This table looks like: \n",
    "#### Q3: Are there modifications required? \n",
    "    - On the table name: \n",
    "        o \n",
    "    - On the column type: \n",
    "        o \n",
    "    - On the column name:\n",
    "        o \n",
    "    - Add required columns:\n",
    "        o \n",
    "    - Split columns:\n",
    "        o "
   ]
  },
  {
   "cell_type": "markdown",
   "metadata": {
    "deletable": true,
    "editable": true
   },
   "source": [
    "## 6.17. Table: 'paypal_config'"
   ]
  },
  {
   "cell_type": "markdown",
   "metadata": {
    "deletable": true,
    "editable": true
   },
   "source": [
    "### How this table looks like without modification?"
   ]
  },
  {
   "cell_type": "code",
   "execution_count": 41,
   "metadata": {
    "collapsed": false,
    "deletable": true,
    "editable": true
   },
   "outputs": [
    {
     "data": {
      "text/html": [
       "<div>\n",
       "<table border=\"1\" class=\"dataframe\">\n",
       "  <thead>\n",
       "    <tr style=\"text-align: right;\">\n",
       "      <th></th>\n",
       "      <th>ConfigId</th>\n",
       "      <th>PaypalGateway</th>\n",
       "      <th>PaypalSandbox</th>\n",
       "      <th>MerchantAccountId</th>\n",
       "      <th>IsSandbox</th>\n",
       "      <th>PaypalCurrency</th>\n",
       "      <th>CurrencySymbol</th>\n",
       "      <th>SuccessURL</th>\n",
       "      <th>CancelURL</th>\n",
       "      <th>IpnURL</th>\n",
       "    </tr>\n",
       "  </thead>\n",
       "  <tbody>\n",
       "    <tr>\n",
       "      <th>0</th>\n",
       "      <td>1</td>\n",
       "      <td>https://www.paypal.com/cgi-bin/webscr</td>\n",
       "      <td>https://www.sandbox.paypal.com/cgi-bin/webscr</td>\n",
       "      <td>hoeksmav@gmail.com</td>\n",
       "      <td>0</td>\n",
       "      <td>USD</td>\n",
       "      <td>$</td>\n",
       "      <td>http://www.xrshellbooter.com/site/user/payment...</td>\n",
       "      <td>http://www.xrshellbooter.com/siter/user/paymen...</td>\n",
       "      <td>http://www.xrshellbooter.com/siter/user/paypal...</td>\n",
       "    </tr>\n",
       "  </tbody>\n",
       "</table>\n",
       "</div>"
      ],
      "text/plain": [
       "   ConfigId                          PaypalGateway  \\\n",
       "0         1  https://www.paypal.com/cgi-bin/webscr   \n",
       "\n",
       "                                   PaypalSandbox   MerchantAccountId  \\\n",
       "0  https://www.sandbox.paypal.com/cgi-bin/webscr  hoeksmav@gmail.com   \n",
       "\n",
       "   IsSandbox PaypalCurrency CurrencySymbol  \\\n",
       "0          0            USD              $   \n",
       "\n",
       "                                          SuccessURL  \\\n",
       "0  http://www.xrshellbooter.com/site/user/payment...   \n",
       "\n",
       "                                           CancelURL  \\\n",
       "0  http://www.xrshellbooter.com/siter/user/paymen...   \n",
       "\n",
       "                                              IpnURL  \n",
       "0  http://www.xrshellbooter.com/siter/user/paypal...  "
      ]
     },
     "execution_count": 41,
     "metadata": {},
     "output_type": "execute_result"
    }
   ],
   "source": [
    "tablename='paypal_config'\n",
    "\n",
    "pd.read_csv(read_inserted_table(dumpfile, tablename),delimiter=\",\",error_bad_lines=False).head(10)"
   ]
  },
  {
   "cell_type": "markdown",
   "metadata": {
    "deletable": true,
    "editable": true
   },
   "source": [
    "#### Q1: Is this table different from other previous loaded table? YES \n",
    "#### Q2: Is this table similar to any table in the generic Booter database schema? YES\n",
    "    - This table looks like: gateways\n",
    "#### Q3: Are there modifications required? \n",
    "    - On the table name: \n",
    "        o paypal_config -> gateways\n",
    "    - On the column type: \n",
    "        o MerchantAccountId -> email\n",
    "    - On the column name:\n",
    "        o \n",
    "    - Add required columns:\n",
    "        o \n",
    "    - Split columns:\n",
    "        o "
   ]
  },
  {
   "cell_type": "markdown",
   "metadata": {
    "deletable": true,
    "editable": true
   },
   "source": [
    "### Modifying table: 'paypal_config'"
   ]
  },
  {
   "cell_type": "code",
   "execution_count": 42,
   "metadata": {
    "collapsed": false,
    "deletable": true,
    "editable": true
   },
   "outputs": [
    {
     "data": {
      "text/html": [
       "<div>\n",
       "<table border=\"1\" class=\"dataframe\">\n",
       "  <thead>\n",
       "    <tr style=\"text-align: right;\">\n",
       "      <th></th>\n",
       "      <th>ConfigId</th>\n",
       "      <th>PaypalGateway</th>\n",
       "      <th>PaypalSandbox</th>\n",
       "      <th>MerchantAccountId</th>\n",
       "      <th>IsSandbox</th>\n",
       "      <th>PaypalCurrency</th>\n",
       "      <th>CurrencySymbol</th>\n",
       "      <th>SuccessURL</th>\n",
       "      <th>CancelURL</th>\n",
       "      <th>IpnURL</th>\n",
       "      <th>username</th>\n",
       "    </tr>\n",
       "  </thead>\n",
       "  <tbody>\n",
       "    <tr>\n",
       "      <th>0</th>\n",
       "      <td>1</td>\n",
       "      <td>https://www.paypal.com/cgi-bin/webscr</td>\n",
       "      <td>https://www.sandbox.paypal.com/cgi-bin/webscr</td>\n",
       "      <td>hoeksmav@gmail.com</td>\n",
       "      <td>0</td>\n",
       "      <td>USD</td>\n",
       "      <td>$</td>\n",
       "      <td>http://www.xrshellbooter.com/site/user/payment...</td>\n",
       "      <td>http://www.xrshellbooter.com/siter/user/paymen...</td>\n",
       "      <td>http://www.xrshellbooter.com/siter/user/paypal...</td>\n",
       "      <td>NaN</td>\n",
       "    </tr>\n",
       "  </tbody>\n",
       "</table>\n",
       "</div>"
      ],
      "text/plain": [
       "   ConfigId                          PaypalGateway  \\\n",
       "0         1  https://www.paypal.com/cgi-bin/webscr   \n",
       "\n",
       "                                   PaypalSandbox   MerchantAccountId  \\\n",
       "0  https://www.sandbox.paypal.com/cgi-bin/webscr  hoeksmav@gmail.com   \n",
       "\n",
       "   IsSandbox PaypalCurrency CurrencySymbol  \\\n",
       "0          0            USD              $   \n",
       "\n",
       "                                          SuccessURL  \\\n",
       "0  http://www.xrshellbooter.com/site/user/payment...   \n",
       "\n",
       "                                           CancelURL  \\\n",
       "0  http://www.xrshellbooter.com/siter/user/paymen...   \n",
       "\n",
       "                                              IpnURL  username  \n",
       "0  http://www.xrshellbooter.com/siter/user/paypal...       NaN  "
      ]
     },
     "execution_count": 42,
     "metadata": {},
     "output_type": "execute_result"
    }
   ],
   "source": [
    "# Loading the correct table name\n",
    "df_gateways = pd.read_csv(read_inserted_table(dumpfile, tablename),delimiter=\",\",error_bad_lines=False)\n",
    "\n",
    "# Converting columns\n",
    "\n",
    "\n",
    "# Changing names of columns\n",
    "df_gateways.rename(inplace=True, columns={'MerchatAccountId':'email'})\n",
    "\n",
    "# Creating empty columns (with \"\" [for future string] or np.nan [for future float])\n",
    "df_gateways['username']=np.nan\n",
    "\n",
    "# Showing some lines after adapt the table\n",
    "df_gateways.head(10)"
   ]
  },
  {
   "cell_type": "markdown",
   "metadata": {
    "deletable": true,
    "editable": true
   },
   "source": [
    "## 6.18. Table: 'postshells' "
   ]
  },
  {
   "cell_type": "markdown",
   "metadata": {
    "deletable": true,
    "editable": true
   },
   "source": [
    "### How this table looks like without modification?"
   ]
  },
  {
   "cell_type": "code",
   "execution_count": 45,
   "metadata": {
    "collapsed": false,
    "deletable": true,
    "editable": true
   },
   "outputs": [
    {
     "data": {
      "text/html": [
       "<div>\n",
       "<table border=\"1\" class=\"dataframe\">\n",
       "  <thead>\n",
       "    <tr style=\"text-align: right;\">\n",
       "      <th></th>\n",
       "      <th>URL</th>\n",
       "      <th>online</th>\n",
       "      <th>lastChecked</th>\n",
       "    </tr>\n",
       "  </thead>\n",
       "  <tbody>\n",
       "    <tr>\n",
       "      <th>0</th>\n",
       "      <td>http://belakshell.50webs.com/index.php</td>\n",
       "      <td>0</td>\n",
       "      <td>0</td>\n",
       "    </tr>\n",
       "    <tr>\n",
       "      <th>1</th>\n",
       "      <td>http://d-dos.50webs.com/ddos.php</td>\n",
       "      <td>0</td>\n",
       "      <td>0</td>\n",
       "    </tr>\n",
       "    <tr>\n",
       "      <th>2</th>\n",
       "      <td>http://feeds2.feedburner.com/alivingtruth/DRwH</td>\n",
       "      <td>0</td>\n",
       "      <td>0</td>\n",
       "    </tr>\n",
       "    <tr>\n",
       "      <th>3</th>\n",
       "      <td>http://firman-mannte.blogspot.com/</td>\n",
       "      <td>0</td>\n",
       "      <td>0</td>\n",
       "    </tr>\n",
       "    <tr>\n",
       "      <th>4</th>\n",
       "      <td>http://toutsourtous.webobo.biz/html.php?id_men...</td>\n",
       "      <td>0</td>\n",
       "      <td>0</td>\n",
       "    </tr>\n",
       "    <tr>\n",
       "      <th>5</th>\n",
       "      <td>http://webcache.googleusercontent.com/search?q...</td>\n",
       "      <td>0</td>\n",
       "      <td>0</td>\n",
       "    </tr>\n",
       "    <tr>\n",
       "      <th>6</th>\n",
       "      <td>http://mehdi4604.persiangig.com/vbulltien/ddos...</td>\n",
       "      <td>0</td>\n",
       "      <td>0</td>\n",
       "    </tr>\n",
       "    <tr>\n",
       "      <th>7</th>\n",
       "      <td>http://dinamo.com.nu/php/</td>\n",
       "      <td>0</td>\n",
       "      <td>0</td>\n",
       "    </tr>\n",
       "    <tr>\n",
       "      <th>8</th>\n",
       "      <td>http://avatarmovieonline.110mb.com/</td>\n",
       "      <td>0</td>\n",
       "      <td>0</td>\n",
       "    </tr>\n",
       "    <tr>\n",
       "      <th>9</th>\n",
       "      <td>http://niyuavalon.webege.com/phpddos/control/</td>\n",
       "      <td>0</td>\n",
       "      <td>0</td>\n",
       "    </tr>\n",
       "  </tbody>\n",
       "</table>\n",
       "</div>"
      ],
      "text/plain": [
       "                                                 URL  online  lastChecked\n",
       "0             http://belakshell.50webs.com/index.php       0            0\n",
       "1                  http://d-dos.50webs.com/ddos.php        0            0\n",
       "2    http://feeds2.feedburner.com/alivingtruth/DRwH        0            0\n",
       "3                 http://firman-mannte.blogspot.com/       0            0\n",
       "4  http://toutsourtous.webobo.biz/html.php?id_men...       0            0\n",
       "5  http://webcache.googleusercontent.com/search?q...       0            0\n",
       "6  http://mehdi4604.persiangig.com/vbulltien/ddos...       0            0\n",
       "7                          http://dinamo.com.nu/php/       0            0\n",
       "8                http://avatarmovieonline.110mb.com/       0            0\n",
       "9      http://niyuavalon.webege.com/phpddos/control/       0            0"
      ]
     },
     "execution_count": 45,
     "metadata": {},
     "output_type": "execute_result"
    }
   ],
   "source": [
    "tablename='postshells'\n",
    "\n",
    "pd.read_csv(read_inserted_table(dumpfile, tablename),delimiter=\",\",error_bad_lines=False).head(10)"
   ]
  },
  {
   "cell_type": "markdown",
   "metadata": {
    "deletable": true,
    "editable": true
   },
   "source": [
    "#### Q1: Is this table different from other previous loaded table? YES\n",
    "#### Q2: Is this table similar to any table in the generic Booter database schema? YES, append\n",
    "    - This table looks like: webshells\n",
    "#### Q3: Are there modifications required? \n",
    "    - On the table name: \n",
    "        o postshells -> webshells\n",
    "    - On the column type: \n",
    "        o \n",
    "    - On the column name:\n",
    "        o URL -> url\n",
    "        o online -> status\n",
    "        o lastChecked -> lastchecked\n",
    "\n",
    "    - Add required columns:\n",
    "        o id\n",
    "        o attacktype = 'get'\n",
    "    - Split columns:\n",
    "        o "
   ]
  },
  {
   "cell_type": "markdown",
   "metadata": {
    "deletable": true,
    "editable": true
   },
   "source": [
    "### Modifying table: 'getshells'"
   ]
  },
  {
   "cell_type": "code",
   "execution_count": 47,
   "metadata": {
    "collapsed": false,
    "deletable": true,
    "editable": true
   },
   "outputs": [
    {
     "data": {
      "text/html": [
       "<div>\n",
       "<table border=\"1\" class=\"dataframe\">\n",
       "  <thead>\n",
       "    <tr style=\"text-align: right;\">\n",
       "      <th></th>\n",
       "      <th>url</th>\n",
       "      <th>status</th>\n",
       "      <th>lastchecked</th>\n",
       "      <th>id</th>\n",
       "      <th>attacktype</th>\n",
       "    </tr>\n",
       "  </thead>\n",
       "  <tbody>\n",
       "    <tr>\n",
       "      <th>0</th>\n",
       "      <td>http://belakshell.50webs.com/index.php</td>\n",
       "      <td>0</td>\n",
       "      <td>0</td>\n",
       "      <td>NaN</td>\n",
       "      <td>post</td>\n",
       "    </tr>\n",
       "    <tr>\n",
       "      <th>1</th>\n",
       "      <td>http://d-dos.50webs.com/ddos.php</td>\n",
       "      <td>0</td>\n",
       "      <td>0</td>\n",
       "      <td>NaN</td>\n",
       "      <td>post</td>\n",
       "    </tr>\n",
       "    <tr>\n",
       "      <th>2</th>\n",
       "      <td>http://feeds2.feedburner.com/alivingtruth/DRwH</td>\n",
       "      <td>0</td>\n",
       "      <td>0</td>\n",
       "      <td>NaN</td>\n",
       "      <td>post</td>\n",
       "    </tr>\n",
       "    <tr>\n",
       "      <th>3</th>\n",
       "      <td>http://firman-mannte.blogspot.com/</td>\n",
       "      <td>0</td>\n",
       "      <td>0</td>\n",
       "      <td>NaN</td>\n",
       "      <td>post</td>\n",
       "    </tr>\n",
       "    <tr>\n",
       "      <th>4</th>\n",
       "      <td>http://toutsourtous.webobo.biz/html.php?id_men...</td>\n",
       "      <td>0</td>\n",
       "      <td>0</td>\n",
       "      <td>NaN</td>\n",
       "      <td>post</td>\n",
       "    </tr>\n",
       "    <tr>\n",
       "      <th>5</th>\n",
       "      <td>http://webcache.googleusercontent.com/search?q...</td>\n",
       "      <td>0</td>\n",
       "      <td>0</td>\n",
       "      <td>NaN</td>\n",
       "      <td>post</td>\n",
       "    </tr>\n",
       "    <tr>\n",
       "      <th>6</th>\n",
       "      <td>http://mehdi4604.persiangig.com/vbulltien/ddos...</td>\n",
       "      <td>0</td>\n",
       "      <td>0</td>\n",
       "      <td>NaN</td>\n",
       "      <td>post</td>\n",
       "    </tr>\n",
       "    <tr>\n",
       "      <th>7</th>\n",
       "      <td>http://dinamo.com.nu/php/</td>\n",
       "      <td>0</td>\n",
       "      <td>0</td>\n",
       "      <td>NaN</td>\n",
       "      <td>post</td>\n",
       "    </tr>\n",
       "    <tr>\n",
       "      <th>8</th>\n",
       "      <td>http://avatarmovieonline.110mb.com/</td>\n",
       "      <td>0</td>\n",
       "      <td>0</td>\n",
       "      <td>NaN</td>\n",
       "      <td>post</td>\n",
       "    </tr>\n",
       "    <tr>\n",
       "      <th>9</th>\n",
       "      <td>http://niyuavalon.webege.com/phpddos/control/</td>\n",
       "      <td>0</td>\n",
       "      <td>0</td>\n",
       "      <td>NaN</td>\n",
       "      <td>post</td>\n",
       "    </tr>\n",
       "  </tbody>\n",
       "</table>\n",
       "</div>"
      ],
      "text/plain": [
       "                                                 url  status  lastchecked  id  \\\n",
       "0             http://belakshell.50webs.com/index.php       0            0 NaN   \n",
       "1                  http://d-dos.50webs.com/ddos.php        0            0 NaN   \n",
       "2    http://feeds2.feedburner.com/alivingtruth/DRwH        0            0 NaN   \n",
       "3                 http://firman-mannte.blogspot.com/       0            0 NaN   \n",
       "4  http://toutsourtous.webobo.biz/html.php?id_men...       0            0 NaN   \n",
       "5  http://webcache.googleusercontent.com/search?q...       0            0 NaN   \n",
       "6  http://mehdi4604.persiangig.com/vbulltien/ddos...       0            0 NaN   \n",
       "7                          http://dinamo.com.nu/php/       0            0 NaN   \n",
       "8                http://avatarmovieonline.110mb.com/       0            0 NaN   \n",
       "9      http://niyuavalon.webege.com/phpddos/control/       0            0 NaN   \n",
       "\n",
       "  attacktype  \n",
       "0       post  \n",
       "1       post  \n",
       "2       post  \n",
       "3       post  \n",
       "4       post  \n",
       "5       post  \n",
       "6       post  \n",
       "7       post  \n",
       "8       post  \n",
       "9       post  "
      ]
     },
     "execution_count": 47,
     "metadata": {},
     "output_type": "execute_result"
    }
   ],
   "source": [
    "# Loading the correct table name\n",
    "df_webshells_temp = pd.read_csv(read_inserted_table(dumpfile, tablename),delimiter=\",\",error_bad_lines=False)\n",
    "\n",
    "# Converting columns\n",
    "\n",
    "# Changing column names\n",
    "df_webshells_temp.rename(inplace=True, columns={'URL':'url',\n",
    "                                          'online':'status',\n",
    "                                          'lastChecked':'lastchecked'})\n",
    "\n",
    "# Adding missing columns\n",
    "df_webshells_temp['id']=np.nan\n",
    "df_webshells_temp['attacktype']='post'\n",
    "\n",
    "\n",
    "# Showing some lines after adapt the table\n",
    "df_webshells_temp.head(10)"
   ]
  },
  {
   "cell_type": "code",
   "execution_count": 48,
   "metadata": {
    "collapsed": true
   },
   "outputs": [],
   "source": [
    "df_webshells=df_webshells.append(df_webshells_temp)"
   ]
  },
  {
   "cell_type": "markdown",
   "metadata": {
    "deletable": true,
    "editable": true
   },
   "source": [
    "## 6.19. Table: 'profiles'"
   ]
  },
  {
   "cell_type": "markdown",
   "metadata": {
    "deletable": true,
    "editable": true
   },
   "source": [
    "### How this table looks like without modification?"
   ]
  },
  {
   "cell_type": "code",
   "execution_count": 49,
   "metadata": {
    "collapsed": false,
    "deletable": true,
    "editable": true
   },
   "outputs": [
    {
     "data": {
      "text/html": [
       "<div>\n",
       "<table border=\"1\" class=\"dataframe\">\n",
       "  <thead>\n",
       "    <tr style=\"text-align: right;\">\n",
       "      <th></th>\n",
       "      <th>ProfileId</th>\n",
       "      <th>UserId</th>\n",
       "      <th>UserName</th>\n",
       "      <th>FirstName</th>\n",
       "      <th>LastName</th>\n",
       "      <th>CompanyName</th>\n",
       "      <th>WebsiteUrl</th>\n",
       "      <th>ProfileTitle</th>\n",
       "      <th>ProfileText</th>\n",
       "      <th>Phone</th>\n",
       "      <th>Address</th>\n",
       "      <th>Street</th>\n",
       "      <th>City</th>\n",
       "      <th>State</th>\n",
       "      <th>Zip</th>\n",
       "      <th>Country</th>\n",
       "      <th>AvatarImage</th>\n",
       "      <th>Newsletter</th>\n",
       "      <th>Promotion</th>\n",
       "    </tr>\n",
       "  </thead>\n",
       "  <tbody>\n",
       "    <tr>\n",
       "      <th>0</th>\n",
       "      <td>21</td>\n",
       "      <td>46</td>\n",
       "      <td>kuky14lf</td>\n",
       "      <td>NaN</td>\n",
       "      <td>NaN</td>\n",
       "      <td>NaN</td>\n",
       "      <td>NaN</td>\n",
       "      <td>NaN</td>\n",
       "      <td>NaN</td>\n",
       "      <td>NaN</td>\n",
       "      <td>NaN</td>\n",
       "      <td>NaN</td>\n",
       "      <td>NaN</td>\n",
       "      <td>NaN</td>\n",
       "      <td>NaN</td>\n",
       "      <td>NaN</td>\n",
       "      <td>http://xrshellbooter.com/site/user/uploads/ava...</td>\n",
       "      <td>0</td>\n",
       "      <td>0</td>\n",
       "    </tr>\n",
       "    <tr>\n",
       "      <th>1</th>\n",
       "      <td>22</td>\n",
       "      <td>8</td>\n",
       "      <td>arronxr</td>\n",
       "      <td>NaN</td>\n",
       "      <td>NaN</td>\n",
       "      <td>NaN</td>\n",
       "      <td>NaN</td>\n",
       "      <td>NaN</td>\n",
       "      <td>NaN</td>\n",
       "      <td>NaN</td>\n",
       "      <td>NaN</td>\n",
       "      <td>NaN</td>\n",
       "      <td>NaN</td>\n",
       "      <td>NaN</td>\n",
       "      <td>NaN</td>\n",
       "      <td>NaN</td>\n",
       "      <td>http://xrshellbooter.com/site/user/uploads/ava...</td>\n",
       "      <td>0</td>\n",
       "      <td>0</td>\n",
       "    </tr>\n",
       "    <tr>\n",
       "      <th>2</th>\n",
       "      <td>23</td>\n",
       "      <td>95</td>\n",
       "      <td>epicxr</td>\n",
       "      <td>scott</td>\n",
       "      <td>lock</td>\n",
       "      <td>NaN</td>\n",
       "      <td>NaN</td>\n",
       "      <td>Manchester United</td>\n",
       "      <td>NaN</td>\n",
       "      <td>NaN</td>\n",
       "      <td>NaN</td>\n",
       "      <td>NaN</td>\n",
       "      <td>Manchester</td>\n",
       "      <td>NaN</td>\n",
       "      <td>NaN</td>\n",
       "      <td>United Kingdom</td>\n",
       "      <td>NaN</td>\n",
       "      <td>0</td>\n",
       "      <td>1</td>\n",
       "    </tr>\n",
       "    <tr>\n",
       "      <th>3</th>\n",
       "      <td>24</td>\n",
       "      <td>63</td>\n",
       "      <td>engagetutorials</td>\n",
       "      <td>Gene</td>\n",
       "      <td>NaN</td>\n",
       "      <td>NaN</td>\n",
       "      <td>http://www.YouTube.com/EngageTutorials</td>\n",
       "      <td>NaN</td>\n",
       "      <td>NaN</td>\n",
       "      <td>NaN</td>\n",
       "      <td>NaN</td>\n",
       "      <td>NaN</td>\n",
       "      <td>NaN</td>\n",
       "      <td>NaN</td>\n",
       "      <td>NaN</td>\n",
       "      <td>NaN</td>\n",
       "      <td>NaN</td>\n",
       "      <td>1</td>\n",
       "      <td>1</td>\n",
       "    </tr>\n",
       "    <tr>\n",
       "      <th>4</th>\n",
       "      <td>25</td>\n",
       "      <td>105</td>\n",
       "      <td>nvt</td>\n",
       "      <td>NvT</td>\n",
       "      <td>OwneD</td>\n",
       "      <td>NaN</td>\n",
       "      <td>http://</td>\n",
       "      <td>NaN</td>\n",
       "      <td>NaN</td>\n",
       "      <td>NaN</td>\n",
       "      <td>NaN</td>\n",
       "      <td>NaN</td>\n",
       "      <td>NaN</td>\n",
       "      <td>NaN</td>\n",
       "      <td>NaN</td>\n",
       "      <td>NaN</td>\n",
       "      <td>NaN</td>\n",
       "      <td>1</td>\n",
       "      <td>1</td>\n",
       "    </tr>\n",
       "    <tr>\n",
       "      <th>5</th>\n",
       "      <td>26</td>\n",
       "      <td>189</td>\n",
       "      <td>dshunia</td>\n",
       "      <td>dejuana</td>\n",
       "      <td>edede</td>\n",
       "      <td>killz</td>\n",
       "      <td>http://</td>\n",
       "      <td>got scamed</td>\n",
       "      <td>yoyo</td>\n",
       "      <td>3.035578e+09</td>\n",
       "      <td>438 hickory st</td>\n",
       "      <td>NaN</td>\n",
       "      <td>Oct</td>\n",
       "      <td>Colorado</td>\n",
       "      <td>80021.0</td>\n",
       "      <td>United States</td>\n",
       "      <td>NaN</td>\n",
       "      <td>1</td>\n",
       "      <td>1</td>\n",
       "    </tr>\n",
       "    <tr>\n",
       "      <th>6</th>\n",
       "      <td>27</td>\n",
       "      <td>187</td>\n",
       "      <td>blu185</td>\n",
       "      <td>Jeremy</td>\n",
       "      <td>Capenter</td>\n",
       "      <td>NaN</td>\n",
       "      <td>http://</td>\n",
       "      <td>bLu185</td>\n",
       "      <td>NaN</td>\n",
       "      <td>NaN</td>\n",
       "      <td>NaN</td>\n",
       "      <td>NaN</td>\n",
       "      <td>NaN</td>\n",
       "      <td>NaN</td>\n",
       "      <td>NaN</td>\n",
       "      <td>NaN</td>\n",
       "      <td>NaN</td>\n",
       "      <td>1</td>\n",
       "      <td>1</td>\n",
       "    </tr>\n",
       "    <tr>\n",
       "      <th>7</th>\n",
       "      <td>28</td>\n",
       "      <td>260</td>\n",
       "      <td>2specedo</td>\n",
       "      <td>NaN</td>\n",
       "      <td>NaN</td>\n",
       "      <td>NaN</td>\n",
       "      <td>NaN</td>\n",
       "      <td>NaN</td>\n",
       "      <td>NaN</td>\n",
       "      <td>NaN</td>\n",
       "      <td>NaN</td>\n",
       "      <td>NaN</td>\n",
       "      <td>NaN</td>\n",
       "      <td>NaN</td>\n",
       "      <td>NaN</td>\n",
       "      <td>NaN</td>\n",
       "      <td>http://xrshellbooter.com/site/user/uploads/ava...</td>\n",
       "      <td>0</td>\n",
       "      <td>0</td>\n",
       "    </tr>\n",
       "    <tr>\n",
       "      <th>8</th>\n",
       "      <td>29</td>\n",
       "      <td>110</td>\n",
       "      <td>mw3xp</td>\n",
       "      <td>NaN</td>\n",
       "      <td>NaN</td>\n",
       "      <td>NaN</td>\n",
       "      <td>NaN</td>\n",
       "      <td>NaN</td>\n",
       "      <td>NaN</td>\n",
       "      <td>NaN</td>\n",
       "      <td>NaN</td>\n",
       "      <td>NaN</td>\n",
       "      <td>NaN</td>\n",
       "      <td>NaN</td>\n",
       "      <td>NaN</td>\n",
       "      <td>NaN</td>\n",
       "      <td>http://xrshellbooter.com/site/user/uploads/ava...</td>\n",
       "      <td>0</td>\n",
       "      <td>0</td>\n",
       "    </tr>\n",
       "    <tr>\n",
       "      <th>9</th>\n",
       "      <td>30</td>\n",
       "      <td>321</td>\n",
       "      <td>wannabehacker</td>\n",
       "      <td>James</td>\n",
       "      <td>Freeman</td>\n",
       "      <td>NaN</td>\n",
       "      <td>http://</td>\n",
       "      <td>Im a wanna be</td>\n",
       "      <td>NaN</td>\n",
       "      <td>NaN</td>\n",
       "      <td>NaN</td>\n",
       "      <td>NaN</td>\n",
       "      <td>NaN</td>\n",
       "      <td>NaN</td>\n",
       "      <td>NaN</td>\n",
       "      <td>NaN</td>\n",
       "      <td>NaN</td>\n",
       "      <td>0</td>\n",
       "      <td>0</td>\n",
       "    </tr>\n",
       "  </tbody>\n",
       "</table>\n",
       "</div>"
      ],
      "text/plain": [
       "   ProfileId  UserId         UserName FirstName  LastName CompanyName  \\\n",
       "0         21      46         kuky14lf       NaN       NaN         NaN   \n",
       "1         22       8          arronxr       NaN       NaN         NaN   \n",
       "2         23      95           epicxr     scott      lock         NaN   \n",
       "3         24      63  engagetutorials      Gene       NaN         NaN   \n",
       "4         25     105              nvt       NvT     OwneD         NaN   \n",
       "5         26     189          dshunia   dejuana     edede       killz   \n",
       "6         27     187           blu185    Jeremy  Capenter         NaN   \n",
       "7         28     260         2specedo       NaN       NaN         NaN   \n",
       "8         29     110            mw3xp       NaN       NaN         NaN   \n",
       "9         30     321    wannabehacker     James   Freeman         NaN   \n",
       "\n",
       "                               WebsiteUrl       ProfileTitle ProfileText  \\\n",
       "0                                     NaN                NaN         NaN   \n",
       "1                                     NaN                NaN         NaN   \n",
       "2                                     NaN  Manchester United         NaN   \n",
       "3  http://www.YouTube.com/EngageTutorials                NaN         NaN   \n",
       "4                                 http://                NaN         NaN   \n",
       "5                                 http://         got scamed        yoyo   \n",
       "6                                 http://             bLu185         NaN   \n",
       "7                                     NaN                NaN         NaN   \n",
       "8                                     NaN                NaN         NaN   \n",
       "9                                 http://      Im a wanna be         NaN   \n",
       "\n",
       "          Phone         Address  Street        City     State      Zip  \\\n",
       "0           NaN             NaN     NaN         NaN       NaN      NaN   \n",
       "1           NaN             NaN     NaN         NaN       NaN      NaN   \n",
       "2           NaN             NaN     NaN  Manchester       NaN      NaN   \n",
       "3           NaN             NaN     NaN         NaN       NaN      NaN   \n",
       "4           NaN             NaN     NaN         NaN       NaN      NaN   \n",
       "5  3.035578e+09  438 hickory st     NaN         Oct  Colorado  80021.0   \n",
       "6           NaN             NaN     NaN         NaN       NaN      NaN   \n",
       "7           NaN             NaN     NaN         NaN       NaN      NaN   \n",
       "8           NaN             NaN     NaN         NaN       NaN      NaN   \n",
       "9           NaN             NaN     NaN         NaN       NaN      NaN   \n",
       "\n",
       "          Country                                        AvatarImage  \\\n",
       "0             NaN  http://xrshellbooter.com/site/user/uploads/ava...   \n",
       "1             NaN  http://xrshellbooter.com/site/user/uploads/ava...   \n",
       "2  United Kingdom                                                NaN   \n",
       "3             NaN                                                NaN   \n",
       "4             NaN                                                NaN   \n",
       "5   United States                                                NaN   \n",
       "6             NaN                                                NaN   \n",
       "7             NaN  http://xrshellbooter.com/site/user/uploads/ava...   \n",
       "8             NaN  http://xrshellbooter.com/site/user/uploads/ava...   \n",
       "9             NaN                                                NaN   \n",
       "\n",
       "   Newsletter  Promotion  \n",
       "0           0          0  \n",
       "1           0          0  \n",
       "2           0          1  \n",
       "3           1          1  \n",
       "4           1          1  \n",
       "5           1          1  \n",
       "6           1          1  \n",
       "7           0          0  \n",
       "8           0          0  \n",
       "9           0          0  "
      ]
     },
     "execution_count": 49,
     "metadata": {},
     "output_type": "execute_result"
    }
   ],
   "source": [
    "tablename='profiles'\n",
    "\n",
    "pd.read_csv(read_inserted_table(dumpfile, tablename),delimiter=\",\",error_bad_lines=False).head(10)"
   ]
  },
  {
   "cell_type": "markdown",
   "metadata": {
    "deletable": true,
    "editable": true
   },
   "source": [
    "#### Q1: Is this table different from other previous loaded table? YES \n",
    "#### Q2: Is this table similar to any table in the generic Booter database schema? NO\n",
    "    - This table looks like: \n",
    "#### Q3: Are there modifications required? \n",
    "    - On the table name: \n",
    "        o \n",
    "    - On the column type: \n",
    "        o \n",
    "    - On the column name:\n",
    "        o \n",
    "    - Add required columns:\n",
    "        o \n",
    "    - Split columns:\n",
    "        o "
   ]
  },
  {
   "cell_type": "markdown",
   "metadata": {
    "deletable": true,
    "editable": true
   },
   "source": [
    "## 6.20. Table: 'roles'"
   ]
  },
  {
   "cell_type": "markdown",
   "metadata": {
    "deletable": true,
    "editable": true
   },
   "source": [
    "### How this table looks like without modification?"
   ]
  },
  {
   "cell_type": "code",
   "execution_count": 50,
   "metadata": {
    "collapsed": false,
    "deletable": true,
    "editable": true
   },
   "outputs": [
    {
     "name": "stderr",
     "output_type": "stream",
     "text": [
      "b'Skipping line 7: expected 3 fields, saw 4\\nSkipping line 8: expected 3 fields, saw 4\\nSkipping line 9: expected 3 fields, saw 4\\nSkipping line 10: expected 3 fields, saw 4\\nSkipping line 11: expected 3 fields, saw 4\\nSkipping line 12: expected 3 fields, saw 4\\nSkipping line 13: expected 3 fields, saw 4\\nSkipping line 14: expected 3 fields, saw 4\\nSkipping line 15: expected 3 fields, saw 4\\nSkipping line 16: expected 3 fields, saw 4\\nSkipping line 17: expected 3 fields, saw 4\\nSkipping line 18: expected 3 fields, saw 4\\nSkipping line 19: expected 3 fields, saw 4\\nSkipping line 20: expected 3 fields, saw 4\\nSkipping line 21: expected 3 fields, saw 4\\nSkipping line 22: expected 3 fields, saw 4\\nSkipping line 23: expected 3 fields, saw 4\\nSkipping line 24: expected 3 fields, saw 4\\nSkipping line 25: expected 3 fields, saw 4\\nSkipping line 26: expected 3 fields, saw 4\\nSkipping line 27: expected 3 fields, saw 4\\nSkipping line 28: expected 3 fields, saw 4\\nSkipping line 29: expected 3 fields, saw 4\\nSkipping line 30: expected 3 fields, saw 4\\nSkipping line 31: expected 3 fields, saw 4\\nSkipping line 32: expected 3 fields, saw 4\\nSkipping line 33: expected 3 fields, saw 4\\nSkipping line 34: expected 3 fields, saw 4\\nSkipping line 35: expected 3 fields, saw 4\\nSkipping line 36: expected 3 fields, saw 4\\nSkipping line 37: expected 3 fields, saw 4\\nSkipping line 38: expected 3 fields, saw 4\\nSkipping line 39: expected 3 fields, saw 4\\nSkipping line 40: expected 3 fields, saw 4\\nSkipping line 41: expected 3 fields, saw 4\\nSkipping line 42: expected 3 fields, saw 4\\nSkipping line 43: expected 3 fields, saw 4\\nSkipping line 44: expected 3 fields, saw 4\\nSkipping line 45: expected 3 fields, saw 4\\nSkipping line 46: expected 3 fields, saw 4\\nSkipping line 47: expected 3 fields, saw 4\\nSkipping line 48: expected 3 fields, saw 4\\nSkipping line 49: expected 3 fields, saw 4\\nSkipping line 50: expected 3 fields, saw 4\\nSkipping line 51: expected 3 fields, saw 4\\nSkipping line 52: expected 3 fields, saw 4\\nSkipping line 53: expected 3 fields, saw 4\\nSkipping line 54: expected 3 fields, saw 4\\nSkipping line 55: expected 3 fields, saw 4\\nSkipping line 56: expected 3 fields, saw 4\\nSkipping line 57: expected 3 fields, saw 4\\nSkipping line 58: expected 3 fields, saw 4\\nSkipping line 59: expected 3 fields, saw 4\\nSkipping line 60: expected 3 fields, saw 4\\nSkipping line 61: expected 3 fields, saw 4\\nSkipping line 62: expected 3 fields, saw 4\\nSkipping line 63: expected 3 fields, saw 4\\nSkipping line 64: expected 3 fields, saw 4\\nSkipping line 65: expected 3 fields, saw 4\\nSkipping line 66: expected 3 fields, saw 4\\nSkipping line 67: expected 3 fields, saw 4\\nSkipping line 68: expected 3 fields, saw 4\\nSkipping line 69: expected 3 fields, saw 4\\nSkipping line 70: expected 3 fields, saw 4\\nSkipping line 71: expected 3 fields, saw 4\\nSkipping line 72: expected 3 fields, saw 4\\nSkipping line 73: expected 3 fields, saw 4\\nSkipping line 74: expected 3 fields, saw 4\\nSkipping line 75: expected 3 fields, saw 4\\nSkipping line 76: expected 3 fields, saw 4\\nSkipping line 77: expected 3 fields, saw 4\\nSkipping line 78: expected 3 fields, saw 4\\nSkipping line 79: expected 3 fields, saw 4\\nSkipping line 80: expected 3 fields, saw 4\\nSkipping line 81: expected 3 fields, saw 4\\nSkipping line 82: expected 3 fields, saw 4\\nSkipping line 83: expected 3 fields, saw 4\\nSkipping line 84: expected 3 fields, saw 4\\nSkipping line 85: expected 3 fields, saw 4\\nSkipping line 86: expected 3 fields, saw 4\\nSkipping line 87: expected 3 fields, saw 4\\nSkipping line 88: expected 3 fields, saw 4\\nSkipping line 89: expected 3 fields, saw 4\\nSkipping line 90: expected 3 fields, saw 4\\nSkipping line 91: expected 3 fields, saw 4\\nSkipping line 92: expected 3 fields, saw 4\\nSkipping line 93: expected 3 fields, saw 4\\nSkipping line 94: expected 3 fields, saw 4\\nSkipping line 95: expected 3 fields, saw 4\\nSkipping line 96: expected 3 fields, saw 4\\nSkipping line 97: expected 3 fields, saw 4\\nSkipping line 98: expected 3 fields, saw 4\\nSkipping line 99: expected 3 fields, saw 4\\nSkipping line 100: expected 3 fields, saw 4\\nSkipping line 101: expected 3 fields, saw 4\\nSkipping line 102: expected 3 fields, saw 4\\nSkipping line 103: expected 3 fields, saw 4\\nSkipping line 104: expected 3 fields, saw 4\\nSkipping line 105: expected 3 fields, saw 4\\nSkipping line 106: expected 3 fields, saw 4\\nSkipping line 107: expected 3 fields, saw 4\\nSkipping line 108: expected 3 fields, saw 4\\nSkipping line 109: expected 3 fields, saw 4\\nSkipping line 110: expected 3 fields, saw 4\\nSkipping line 111: expected 3 fields, saw 4\\nSkipping line 112: expected 3 fields, saw 4\\nSkipping line 113: expected 3 fields, saw 4\\nSkipping line 114: expected 3 fields, saw 4\\nSkipping line 115: expected 3 fields, saw 4\\nSkipping line 116: expected 3 fields, saw 4\\nSkipping line 117: expected 3 fields, saw 4\\nSkipping line 118: expected 3 fields, saw 4\\nSkipping line 119: expected 3 fields, saw 4\\nSkipping line 120: expected 3 fields, saw 4\\nSkipping line 121: expected 3 fields, saw 4\\nSkipping line 122: expected 3 fields, saw 4\\nSkipping line 123: expected 3 fields, saw 4\\nSkipping line 124: expected 3 fields, saw 4\\nSkipping line 125: expected 3 fields, saw 4\\nSkipping line 126: expected 3 fields, saw 4\\nSkipping line 127: expected 3 fields, saw 4\\nSkipping line 128: expected 3 fields, saw 4\\nSkipping line 129: expected 3 fields, saw 4\\nSkipping line 130: expected 3 fields, saw 4\\nSkipping line 131: expected 3 fields, saw 4\\nSkipping line 132: expected 3 fields, saw 4\\nSkipping line 133: expected 3 fields, saw 4\\nSkipping line 134: expected 3 fields, saw 4\\nSkipping line 135: expected 3 fields, saw 4\\nSkipping line 136: expected 3 fields, saw 4\\nSkipping line 137: expected 3 fields, saw 4\\nSkipping line 138: expected 3 fields, saw 4\\nSkipping line 139: expected 3 fields, saw 4\\nSkipping line 140: expected 3 fields, saw 4\\nSkipping line 141: expected 3 fields, saw 4\\nSkipping line 142: expected 3 fields, saw 4\\nSkipping line 143: expected 3 fields, saw 4\\nSkipping line 144: expected 3 fields, saw 4\\nSkipping line 145: expected 3 fields, saw 4\\nSkipping line 146: expected 3 fields, saw 4\\nSkipping line 147: expected 3 fields, saw 4\\nSkipping line 148: expected 3 fields, saw 4\\nSkipping line 149: expected 3 fields, saw 4\\nSkipping line 150: expected 3 fields, saw 4\\nSkipping line 151: expected 3 fields, saw 4\\nSkipping line 152: expected 3 fields, saw 4\\nSkipping line 153: expected 3 fields, saw 4\\nSkipping line 154: expected 3 fields, saw 4\\nSkipping line 155: expected 3 fields, saw 4\\nSkipping line 156: expected 3 fields, saw 4\\nSkipping line 157: expected 3 fields, saw 4\\nSkipping line 158: expected 3 fields, saw 4\\nSkipping line 159: expected 3 fields, saw 4\\nSkipping line 160: expected 3 fields, saw 4\\nSkipping line 161: expected 3 fields, saw 4\\nSkipping line 162: expected 3 fields, saw 4\\nSkipping line 163: expected 3 fields, saw 4\\nSkipping line 164: expected 3 fields, saw 4\\nSkipping line 165: expected 3 fields, saw 4\\nSkipping line 166: expected 3 fields, saw 4\\nSkipping line 167: expected 3 fields, saw 4\\nSkipping line 168: expected 3 fields, saw 4\\nSkipping line 169: expected 3 fields, saw 4\\nSkipping line 170: expected 3 fields, saw 4\\nSkipping line 171: expected 3 fields, saw 4\\nSkipping line 172: expected 3 fields, saw 4\\nSkipping line 173: expected 3 fields, saw 4\\nSkipping line 174: expected 3 fields, saw 4\\nSkipping line 175: expected 3 fields, saw 4\\nSkipping line 176: expected 3 fields, saw 4\\nSkipping line 177: expected 3 fields, saw 4\\nSkipping line 178: expected 3 fields, saw 4\\nSkipping line 179: expected 3 fields, saw 4\\nSkipping line 180: expected 3 fields, saw 4\\nSkipping line 181: expected 3 fields, saw 4\\nSkipping line 182: expected 3 fields, saw 4\\nSkipping line 183: expected 3 fields, saw 4\\nSkipping line 184: expected 3 fields, saw 4\\nSkipping line 185: expected 3 fields, saw 4\\nSkipping line 186: expected 3 fields, saw 4\\nSkipping line 187: expected 3 fields, saw 4\\nSkipping line 188: expected 3 fields, saw 4\\nSkipping line 189: expected 3 fields, saw 4\\nSkipping line 190: expected 3 fields, saw 4\\nSkipping line 191: expected 3 fields, saw 4\\nSkipping line 192: expected 3 fields, saw 4\\nSkipping line 193: expected 3 fields, saw 4\\nSkipping line 194: expected 3 fields, saw 4\\nSkipping line 195: expected 3 fields, saw 4\\nSkipping line 196: expected 3 fields, saw 4\\nSkipping line 197: expected 3 fields, saw 4\\nSkipping line 198: expected 3 fields, saw 4\\nSkipping line 199: expected 3 fields, saw 4\\nSkipping line 200: expected 3 fields, saw 4\\nSkipping line 201: expected 3 fields, saw 4\\nSkipping line 202: expected 3 fields, saw 4\\nSkipping line 203: expected 3 fields, saw 4\\nSkipping line 204: expected 3 fields, saw 4\\nSkipping line 205: expected 3 fields, saw 4\\nSkipping line 206: expected 3 fields, saw 4\\nSkipping line 207: expected 3 fields, saw 4\\nSkipping line 208: expected 3 fields, saw 4\\nSkipping line 209: expected 3 fields, saw 4\\nSkipping line 210: expected 3 fields, saw 4\\nSkipping line 211: expected 3 fields, saw 4\\nSkipping line 212: expected 3 fields, saw 4\\nSkipping line 213: expected 3 fields, saw 4\\nSkipping line 214: expected 3 fields, saw 4\\nSkipping line 215: expected 3 fields, saw 4\\nSkipping line 216: expected 3 fields, saw 4\\nSkipping line 217: expected 3 fields, saw 4\\nSkipping line 218: expected 3 fields, saw 4\\nSkipping line 219: expected 3 fields, saw 4\\nSkipping line 220: expected 3 fields, saw 4\\nSkipping line 221: expected 3 fields, saw 4\\nSkipping line 222: expected 3 fields, saw 4\\nSkipping line 223: expected 3 fields, saw 4\\nSkipping line 224: expected 3 fields, saw 4\\nSkipping line 225: expected 3 fields, saw 4\\nSkipping line 226: expected 3 fields, saw 4\\nSkipping line 227: expected 3 fields, saw 4\\nSkipping line 228: expected 3 fields, saw 4\\nSkipping line 229: expected 3 fields, saw 4\\nSkipping line 230: expected 3 fields, saw 4\\nSkipping line 231: expected 3 fields, saw 4\\nSkipping line 232: expected 3 fields, saw 4\\nSkipping line 233: expected 3 fields, saw 4\\nSkipping line 234: expected 3 fields, saw 4\\nSkipping line 235: expected 3 fields, saw 4\\nSkipping line 236: expected 3 fields, saw 4\\nSkipping line 237: expected 3 fields, saw 4\\nSkipping line 238: expected 3 fields, saw 4\\nSkipping line 239: expected 3 fields, saw 4\\nSkipping line 240: expected 3 fields, saw 4\\nSkipping line 241: expected 3 fields, saw 4\\nSkipping line 242: expected 3 fields, saw 4\\nSkipping line 243: expected 3 fields, saw 4\\nSkipping line 244: expected 3 fields, saw 4\\nSkipping line 245: expected 3 fields, saw 4\\nSkipping line 246: expected 3 fields, saw 4\\nSkipping line 247: expected 3 fields, saw 4\\nSkipping line 248: expected 3 fields, saw 4\\nSkipping line 249: expected 3 fields, saw 4\\nSkipping line 250: expected 3 fields, saw 4\\nSkipping line 251: expected 3 fields, saw 4\\nSkipping line 252: expected 3 fields, saw 4\\nSkipping line 253: expected 3 fields, saw 4\\nSkipping line 254: expected 3 fields, saw 4\\nSkipping line 255: expected 3 fields, saw 4\\nSkipping line 256: expected 3 fields, saw 4\\nSkipping line 257: expected 3 fields, saw 4\\nSkipping line 258: expected 3 fields, saw 4\\nSkipping line 259: expected 3 fields, saw 4\\nSkipping line 260: expected 3 fields, saw 4\\nSkipping line 261: expected 3 fields, saw 4\\nSkipping line 262: expected 3 fields, saw 4\\nSkipping line 263: expected 3 fields, saw 4\\nSkipping line 264: expected 3 fields, saw 4\\nSkipping line 265: expected 3 fields, saw 4\\nSkipping line 266: expected 3 fields, saw 4\\nSkipping line 267: expected 3 fields, saw 4\\nSkipping line 268: expected 3 fields, saw 4\\nSkipping line 269: expected 3 fields, saw 4\\nSkipping line 270: expected 3 fields, saw 4\\nSkipping line 271: expected 3 fields, saw 4\\nSkipping line 272: expected 3 fields, saw 4\\nSkipping line 273: expected 3 fields, saw 4\\nSkipping line 274: expected 3 fields, saw 4\\nSkipping line 275: expected 3 fields, saw 4\\nSkipping line 276: expected 3 fields, saw 4\\nSkipping line 277: expected 3 fields, saw 4\\nSkipping line 278: expected 3 fields, saw 4\\nSkipping line 279: expected 3 fields, saw 4\\nSkipping line 280: expected 3 fields, saw 4\\nSkipping line 281: expected 3 fields, saw 4\\nSkipping line 282: expected 3 fields, saw 4\\nSkipping line 283: expected 3 fields, saw 4\\nSkipping line 284: expected 3 fields, saw 4\\nSkipping line 285: expected 3 fields, saw 4\\nSkipping line 286: expected 3 fields, saw 4\\nSkipping line 287: expected 3 fields, saw 4\\nSkipping line 288: expected 3 fields, saw 4\\nSkipping line 289: expected 3 fields, saw 4\\nSkipping line 290: expected 3 fields, saw 4\\nSkipping line 291: expected 3 fields, saw 4\\nSkipping line 292: expected 3 fields, saw 4\\nSkipping line 293: expected 3 fields, saw 4\\nSkipping line 294: expected 3 fields, saw 4\\nSkipping line 295: expected 3 fields, saw 4\\nSkipping line 296: expected 3 fields, saw 4\\nSkipping line 297: expected 3 fields, saw 4\\nSkipping line 298: expected 3 fields, saw 4\\nSkipping line 299: expected 3 fields, saw 4\\nSkipping line 300: expected 3 fields, saw 4\\nSkipping line 301: expected 3 fields, saw 4\\nSkipping line 302: expected 3 fields, saw 4\\nSkipping line 303: expected 3 fields, saw 4\\nSkipping line 304: expected 3 fields, saw 4\\nSkipping line 305: expected 3 fields, saw 4\\nSkipping line 306: expected 3 fields, saw 4\\nSkipping line 307: expected 3 fields, saw 4\\nSkipping line 308: expected 3 fields, saw 4\\nSkipping line 309: expected 3 fields, saw 4\\nSkipping line 310: expected 3 fields, saw 4\\nSkipping line 311: expected 3 fields, saw 4\\nSkipping line 312: expected 3 fields, saw 4\\nSkipping line 313: expected 3 fields, saw 4\\nSkipping line 314: expected 3 fields, saw 4\\nSkipping line 315: expected 3 fields, saw 4\\nSkipping line 316: expected 3 fields, saw 4\\nSkipping line 317: expected 3 fields, saw 4\\nSkipping line 318: expected 3 fields, saw 4\\nSkipping line 319: expected 3 fields, saw 4\\nSkipping line 320: expected 3 fields, saw 4\\nSkipping line 321: expected 3 fields, saw 4\\nSkipping line 322: expected 3 fields, saw 4\\nSkipping line 323: expected 3 fields, saw 4\\nSkipping line 324: expected 3 fields, saw 4\\nSkipping line 325: expected 3 fields, saw 4\\nSkipping line 326: expected 3 fields, saw 4\\nSkipping line 327: expected 3 fields, saw 4\\nSkipping line 328: expected 3 fields, saw 4\\nSkipping line 329: expected 3 fields, saw 4\\nSkipping line 330: expected 3 fields, saw 4\\nSkipping line 331: expected 3 fields, saw 4\\nSkipping line 332: expected 3 fields, saw 4\\nSkipping line 333: expected 3 fields, saw 4\\nSkipping line 334: expected 3 fields, saw 4\\nSkipping line 335: expected 3 fields, saw 4\\nSkipping line 336: expected 3 fields, saw 4\\nSkipping line 337: expected 3 fields, saw 4\\nSkipping line 338: expected 3 fields, saw 4\\nSkipping line 339: expected 3 fields, saw 4\\nSkipping line 340: expected 3 fields, saw 4\\nSkipping line 341: expected 3 fields, saw 4\\nSkipping line 342: expected 3 fields, saw 4\\nSkipping line 343: expected 3 fields, saw 4\\nSkipping line 344: expected 3 fields, saw 4\\nSkipping line 345: expected 3 fields, saw 4\\nSkipping line 346: expected 3 fields, saw 4\\nSkipping line 347: expected 3 fields, saw 4\\nSkipping line 348: expected 3 fields, saw 4\\nSkipping line 349: expected 3 fields, saw 4\\nSkipping line 350: expected 3 fields, saw 4\\nSkipping line 351: expected 3 fields, saw 4\\nSkipping line 352: expected 3 fields, saw 4\\nSkipping line 353: expected 3 fields, saw 4\\nSkipping line 354: expected 3 fields, saw 4\\nSkipping line 355: expected 3 fields, saw 4\\nSkipping line 356: expected 3 fields, saw 4\\nSkipping line 357: expected 3 fields, saw 4\\nSkipping line 358: expected 3 fields, saw 4\\nSkipping line 359: expected 3 fields, saw 4\\nSkipping line 360: expected 3 fields, saw 4\\nSkipping line 361: expected 3 fields, saw 4\\nSkipping line 362: expected 3 fields, saw 4\\nSkipping line 363: expected 3 fields, saw 4\\nSkipping line 364: expected 3 fields, saw 4\\nSkipping line 365: expected 3 fields, saw 4\\nSkipping line 366: expected 3 fields, saw 4\\nSkipping line 367: expected 3 fields, saw 4\\nSkipping line 368: expected 3 fields, saw 4\\nSkipping line 369: expected 3 fields, saw 4\\nSkipping line 370: expected 3 fields, saw 4\\nSkipping line 371: expected 3 fields, saw 4\\nSkipping line 372: expected 3 fields, saw 4\\nSkipping line 373: expected 3 fields, saw 4\\nSkipping line 374: expected 3 fields, saw 4\\nSkipping line 375: expected 3 fields, saw 4\\nSkipping line 376: expected 3 fields, saw 4\\nSkipping line 377: expected 3 fields, saw 4\\nSkipping line 378: expected 3 fields, saw 4\\nSkipping line 379: expected 3 fields, saw 4\\nSkipping line 380: expected 3 fields, saw 4\\nSkipping line 381: expected 3 fields, saw 4\\nSkipping line 382: expected 3 fields, saw 4\\nSkipping line 383: expected 3 fields, saw 4\\nSkipping line 384: expected 3 fields, saw 4\\nSkipping line 385: expected 3 fields, saw 4\\nSkipping line 386: expected 3 fields, saw 4\\nSkipping line 387: expected 3 fields, saw 4\\nSkipping line 388: expected 3 fields, saw 4\\nSkipping line 389: expected 3 fields, saw 4\\nSkipping line 390: expected 3 fields, saw 4\\nSkipping line 391: expected 3 fields, saw 4\\nSkipping line 392: expected 3 fields, saw 4\\n'\n"
     ]
    },
    {
     "data": {
      "text/html": [
       "<div>\n",
       "<table border=\"1\" class=\"dataframe\">\n",
       "  <thead>\n",
       "    <tr style=\"text-align: right;\">\n",
       "      <th></th>\n",
       "      <th>RoleId</th>\n",
       "      <th>RoleName</th>\n",
       "      <th>Description</th>\n",
       "    </tr>\n",
       "  </thead>\n",
       "  <tbody>\n",
       "    <tr>\n",
       "      <th>0</th>\n",
       "      <td>1</td>\n",
       "      <td>owner</td>\n",
       "      <td>Priority 1 - Role with HIGHEST privileges - Mu...</td>\n",
       "    </tr>\n",
       "    <tr>\n",
       "      <th>1</th>\n",
       "      <td>2</td>\n",
       "      <td>superadmin</td>\n",
       "      <td>Priority 2 - Role with 2nd. HIGHEST privileges</td>\n",
       "    </tr>\n",
       "    <tr>\n",
       "      <th>2</th>\n",
       "      <td>3</td>\n",
       "      <td>administrator</td>\n",
       "      <td>Priority 3 - Role with 3rd. HIGHEST privileges</td>\n",
       "    </tr>\n",
       "    <tr>\n",
       "      <th>3</th>\n",
       "      <td>4</td>\n",
       "      <td>member</td>\n",
       "      <td>Priority 4 - Privileges are one step above \"us...</td>\n",
       "    </tr>\n",
       "    <tr>\n",
       "      <th>4</th>\n",
       "      <td>5</td>\n",
       "      <td>user</td>\n",
       "      <td>Priority 5 - Role with LOWEST privileges - Thi...</td>\n",
       "    </tr>\n",
       "  </tbody>\n",
       "</table>\n",
       "</div>"
      ],
      "text/plain": [
       "   RoleId       RoleName                                        Description\n",
       "0       1          owner  Priority 1 - Role with HIGHEST privileges - Mu...\n",
       "1       2     superadmin     Priority 2 - Role with 2nd. HIGHEST privileges\n",
       "2       3  administrator     Priority 3 - Role with 3rd. HIGHEST privileges\n",
       "3       4         member  Priority 4 - Privileges are one step above \"us...\n",
       "4       5           user  Priority 5 - Role with LOWEST privileges - Thi..."
      ]
     },
     "execution_count": 50,
     "metadata": {},
     "output_type": "execute_result"
    }
   ],
   "source": [
    "tablename='roles'\n",
    "\n",
    "pd.read_csv(read_inserted_table(dumpfile, tablename),delimiter=\",\",error_bad_lines=False).head(10)"
   ]
  },
  {
   "cell_type": "markdown",
   "metadata": {
    "deletable": true,
    "editable": true
   },
   "source": [
    "#### Q1: Is this table different from other previous loaded table? YES \n",
    "#### Q2: Is this table similar to any table in the generic Booter database schema? NO\n",
    "    - This table looks like: \n",
    "#### Q3: Are there modifications required? \n",
    "    - On the table name: \n",
    "        o \n",
    "    - On the column type: \n",
    "        o \n",
    "    - On the column name:\n",
    "        o \n",
    "    - Add required columns:\n",
    "        o \n",
    "    - Split columns:\n",
    "        o "
   ]
  },
  {
   "cell_type": "markdown",
   "metadata": {
    "deletable": true,
    "editable": true
   },
   "source": [
    "## 6.21. Table: 'shells'"
   ]
  },
  {
   "cell_type": "markdown",
   "metadata": {
    "deletable": true,
    "editable": true
   },
   "source": [
    "### How this table looks like without modification?"
   ]
  },
  {
   "cell_type": "code",
   "execution_count": 57,
   "metadata": {
    "collapsed": false,
    "deletable": true,
    "editable": true
   },
   "outputs": [
    {
     "name": "stderr",
     "output_type": "stream",
     "text": [
      "b'Skipping line 208: expected 3 fields, saw 5\\nSkipping line 209: expected 3 fields, saw 5\\n'\n"
     ]
    },
    {
     "data": {
      "text/html": [
       "<div>\n",
       "<table border=\"1\" class=\"dataframe\">\n",
       "  <thead>\n",
       "    <tr style=\"text-align: right;\">\n",
       "      <th></th>\n",
       "      <th>URL</th>\n",
       "      <th>online</th>\n",
       "      <th>lastChecked</th>\n",
       "    </tr>\n",
       "  </thead>\n",
       "  <tbody>\n",
       "    <tr>\n",
       "      <th>0</th>\n",
       "      <td>http://93.17.7.150/webdav/greenshell.php \\t</td>\n",
       "      <td>0</td>\n",
       "      <td>0</td>\n",
       "    </tr>\n",
       "    <tr>\n",
       "      <th>1</th>\n",
       "      <td>http://www.sidarglobal.com/help.php \\t</td>\n",
       "      <td>0</td>\n",
       "      <td>0</td>\n",
       "    </tr>\n",
       "    <tr>\n",
       "      <th>2</th>\n",
       "      <td>http://190.144.174.250/webdav/greenshell.php \\...</td>\n",
       "      <td>0</td>\n",
       "      <td>0</td>\n",
       "    </tr>\n",
       "    <tr>\n",
       "      <th>3</th>\n",
       "      <td>http://cwa3672.org/ulogs.php \\t</td>\n",
       "      <td>0</td>\n",
       "      <td>0</td>\n",
       "    </tr>\n",
       "    <tr>\n",
       "      <th>4</th>\n",
       "      <td>http://89.104.195.200/webdav/x32.php \\t</td>\n",
       "      <td>0</td>\n",
       "      <td>0</td>\n",
       "    </tr>\n",
       "    <tr>\n",
       "      <th>5</th>\n",
       "      <td>http://82.114.168.38/webdav/greenshell.php \\t</td>\n",
       "      <td>0</td>\n",
       "      <td>0</td>\n",
       "    </tr>\n",
       "    <tr>\n",
       "      <th>6</th>\n",
       "      <td>http://www.theresahackforthat.webs.com/shell.p...</td>\n",
       "      <td>0</td>\n",
       "      <td>0</td>\n",
       "    </tr>\n",
       "    <tr>\n",
       "      <th>7</th>\n",
       "      <td>http://163.178.170.74/webdav/greenshell.php \\t</td>\n",
       "      <td>0</td>\n",
       "      <td>0</td>\n",
       "    </tr>\n",
       "    <tr>\n",
       "      <th>8</th>\n",
       "      <td>http://212.143.188.146/webdav/ab.php \\t</td>\n",
       "      <td>0</td>\n",
       "      <td>0</td>\n",
       "    </tr>\n",
       "    <tr>\n",
       "      <th>9</th>\n",
       "      <td>http://89.104.195.200/webdav/x32.php\\t</td>\n",
       "      <td>0</td>\n",
       "      <td>0</td>\n",
       "    </tr>\n",
       "  </tbody>\n",
       "</table>\n",
       "</div>"
      ],
      "text/plain": [
       "                                                 URL  online  lastChecked\n",
       "0     http://93.17.7.150/webdav/greenshell.php \\t          0            0\n",
       "1          http://www.sidarglobal.com/help.php \\t          0            0\n",
       "2  http://190.144.174.250/webdav/greenshell.php \\...       0            0\n",
       "3                 http://cwa3672.org/ulogs.php \\t          0            0\n",
       "4         http://89.104.195.200/webdav/x32.php \\t          0            0\n",
       "5   http://82.114.168.38/webdav/greenshell.php \\t          0            0\n",
       "6  http://www.theresahackforthat.webs.com/shell.p...       0            0\n",
       "7  http://163.178.170.74/webdav/greenshell.php \\t          0            0\n",
       "8         http://212.143.188.146/webdav/ab.php \\t          0            0\n",
       "9          http://89.104.195.200/webdav/x32.php\\t          0            0"
      ]
     },
     "execution_count": 57,
     "metadata": {},
     "output_type": "execute_result"
    }
   ],
   "source": [
    "tablename='shells'\n",
    "\n",
    "pd.read_csv(read_inserted_table(dumpfile, tablename),delimiter=\",\",error_bad_lines=False).head(10)"
   ]
  },
  {
   "cell_type": "markdown",
   "metadata": {
    "deletable": true,
    "editable": true
   },
   "source": [
    "#### Q1: Is this table different from other previous loaded table? YES \n",
    "#### Q2: Is this table similar to any table in the generic Booter database schema? YES, append\n",
    "    - This table looks like: webshells\n",
    "#### Q3: Are there modifications required? \n",
    "    - On the table name: \n",
    "        o \n",
    "    - On the column type: \n",
    "        o URL -> strip_tab()\n",
    "    - On the column name:\n",
    "        o URL -> url\n",
    "        o online -> status\n",
    "        o lastChecked -> lastchecked\n",
    "    - Add required columns:\n",
    "        o id\n",
    "        o attacktype\n",
    "    - Split columns:\n",
    "        o "
   ]
  },
  {
   "cell_type": "markdown",
   "metadata": {
    "deletable": true,
    "editable": true
   },
   "source": [
    "### Modifying table: 'shells'"
   ]
  },
  {
   "cell_type": "code",
   "execution_count": 58,
   "metadata": {
    "collapsed": false,
    "deletable": true,
    "editable": true
   },
   "outputs": [
    {
     "name": "stderr",
     "output_type": "stream",
     "text": [
      "b'Skipping line 208: expected 3 fields, saw 5\\nSkipping line 209: expected 3 fields, saw 5\\n'\n"
     ]
    },
    {
     "data": {
      "text/html": [
       "<div>\n",
       "<table border=\"1\" class=\"dataframe\">\n",
       "  <thead>\n",
       "    <tr style=\"text-align: right;\">\n",
       "      <th></th>\n",
       "      <th>url</th>\n",
       "      <th>status</th>\n",
       "      <th>lastchecked</th>\n",
       "      <th>id</th>\n",
       "      <th>attacktype</th>\n",
       "    </tr>\n",
       "  </thead>\n",
       "  <tbody>\n",
       "    <tr>\n",
       "      <th>0</th>\n",
       "      <td>http://93.17.7.150/webdav/greenshell.php \\t</td>\n",
       "      <td>0</td>\n",
       "      <td>0</td>\n",
       "      <td>NaN</td>\n",
       "      <td>NaN</td>\n",
       "    </tr>\n",
       "    <tr>\n",
       "      <th>1</th>\n",
       "      <td>http://www.sidarglobal.com/help.php \\t</td>\n",
       "      <td>0</td>\n",
       "      <td>0</td>\n",
       "      <td>NaN</td>\n",
       "      <td>NaN</td>\n",
       "    </tr>\n",
       "    <tr>\n",
       "      <th>2</th>\n",
       "      <td>http://190.144.174.250/webdav/greenshell.php \\...</td>\n",
       "      <td>0</td>\n",
       "      <td>0</td>\n",
       "      <td>NaN</td>\n",
       "      <td>NaN</td>\n",
       "    </tr>\n",
       "    <tr>\n",
       "      <th>3</th>\n",
       "      <td>http://cwa3672.org/ulogs.php \\t</td>\n",
       "      <td>0</td>\n",
       "      <td>0</td>\n",
       "      <td>NaN</td>\n",
       "      <td>NaN</td>\n",
       "    </tr>\n",
       "    <tr>\n",
       "      <th>4</th>\n",
       "      <td>http://89.104.195.200/webdav/x32.php \\t</td>\n",
       "      <td>0</td>\n",
       "      <td>0</td>\n",
       "      <td>NaN</td>\n",
       "      <td>NaN</td>\n",
       "    </tr>\n",
       "    <tr>\n",
       "      <th>5</th>\n",
       "      <td>http://82.114.168.38/webdav/greenshell.php \\t</td>\n",
       "      <td>0</td>\n",
       "      <td>0</td>\n",
       "      <td>NaN</td>\n",
       "      <td>NaN</td>\n",
       "    </tr>\n",
       "    <tr>\n",
       "      <th>6</th>\n",
       "      <td>http://www.theresahackforthat.webs.com/shell.p...</td>\n",
       "      <td>0</td>\n",
       "      <td>0</td>\n",
       "      <td>NaN</td>\n",
       "      <td>NaN</td>\n",
       "    </tr>\n",
       "    <tr>\n",
       "      <th>7</th>\n",
       "      <td>http://163.178.170.74/webdav/greenshell.php \\t</td>\n",
       "      <td>0</td>\n",
       "      <td>0</td>\n",
       "      <td>NaN</td>\n",
       "      <td>NaN</td>\n",
       "    </tr>\n",
       "    <tr>\n",
       "      <th>8</th>\n",
       "      <td>http://212.143.188.146/webdav/ab.php \\t</td>\n",
       "      <td>0</td>\n",
       "      <td>0</td>\n",
       "      <td>NaN</td>\n",
       "      <td>NaN</td>\n",
       "    </tr>\n",
       "    <tr>\n",
       "      <th>9</th>\n",
       "      <td>http://89.104.195.200/webdav/x32.php\\t</td>\n",
       "      <td>0</td>\n",
       "      <td>0</td>\n",
       "      <td>NaN</td>\n",
       "      <td>NaN</td>\n",
       "    </tr>\n",
       "  </tbody>\n",
       "</table>\n",
       "</div>"
      ],
      "text/plain": [
       "                                                 url  status  lastchecked  id  \\\n",
       "0     http://93.17.7.150/webdav/greenshell.php \\t          0            0 NaN   \n",
       "1          http://www.sidarglobal.com/help.php \\t          0            0 NaN   \n",
       "2  http://190.144.174.250/webdav/greenshell.php \\...       0            0 NaN   \n",
       "3                 http://cwa3672.org/ulogs.php \\t          0            0 NaN   \n",
       "4         http://89.104.195.200/webdav/x32.php \\t          0            0 NaN   \n",
       "5   http://82.114.168.38/webdav/greenshell.php \\t          0            0 NaN   \n",
       "6  http://www.theresahackforthat.webs.com/shell.p...       0            0 NaN   \n",
       "7  http://163.178.170.74/webdav/greenshell.php \\t          0            0 NaN   \n",
       "8         http://212.143.188.146/webdav/ab.php \\t          0            0 NaN   \n",
       "9          http://89.104.195.200/webdav/x32.php\\t          0            0 NaN   \n",
       "\n",
       "   attacktype  \n",
       "0         NaN  \n",
       "1         NaN  \n",
       "2         NaN  \n",
       "3         NaN  \n",
       "4         NaN  \n",
       "5         NaN  \n",
       "6         NaN  \n",
       "7         NaN  \n",
       "8         NaN  \n",
       "9         NaN  "
      ]
     },
     "execution_count": 58,
     "metadata": {},
     "output_type": "execute_result"
    }
   ],
   "source": [
    "# Loading the correct table name\n",
    "df_webshells_temp = pd.read_csv(read_inserted_table(dumpfile, tablename),delimiter=\",\",error_bad_lines=False)\n",
    "\n",
    "# Converting columns\n",
    "df_webshells_temp['URL']=strip_tab(df_webshells_temp['URL'])\n",
    "\n",
    "\n",
    "# Changing column names\n",
    "df_webshells_temp.rename(inplace=True, columns={'URL':'url',\n",
    "                                          'online':'status',\n",
    "                                          'lastChecked':'lastchecked'})\n",
    "\n",
    "# Adding missing columns\n",
    "df_webshells_temp['id']=np.nan\n",
    "df_webshells_temp['attacktype']=np.nan\n",
    "\n",
    "\n",
    "# Showing some lines after adapt the table\n",
    "df_webshells_temp.head(10)"
   ]
  },
  {
   "cell_type": "code",
   "execution_count": 59,
   "metadata": {
    "collapsed": true,
    "deletable": true,
    "editable": true
   },
   "outputs": [],
   "source": [
    "df_webshells=df_webshells.append(df_webshells_temp)"
   ]
  },
  {
   "cell_type": "markdown",
   "metadata": {
    "deletable": true,
    "editable": true
   },
   "source": [
    "## 6.22. Table: 'shell_percent_gold'"
   ]
  },
  {
   "cell_type": "markdown",
   "metadata": {
    "deletable": true,
    "editable": true
   },
   "source": [
    "### How this table looks like without modification?"
   ]
  },
  {
   "cell_type": "code",
   "execution_count": 61,
   "metadata": {
    "collapsed": false,
    "deletable": true,
    "editable": true
   },
   "outputs": [
    {
     "data": {
      "text/html": [
       "<div>\n",
       "<table border=\"1\" class=\"dataframe\">\n",
       "  <thead>\n",
       "    <tr style=\"text-align: right;\">\n",
       "      <th></th>\n",
       "      <th>message4</th>\n",
       "    </tr>\n",
       "  </thead>\n",
       "  <tbody>\n",
       "    <tr>\n",
       "      <th>0</th>\n",
       "      <td>100</td>\n",
       "    </tr>\n",
       "  </tbody>\n",
       "</table>\n",
       "</div>"
      ],
      "text/plain": [
       "   message4\n",
       "0       100"
      ]
     },
     "execution_count": 61,
     "metadata": {},
     "output_type": "execute_result"
    }
   ],
   "source": [
    "tablename='shell_percent_gold'\n",
    "\n",
    "pd.read_csv(read_inserted_table(dumpfile, tablename),delimiter=\",\",error_bad_lines=False).head(10)"
   ]
  },
  {
   "cell_type": "markdown",
   "metadata": {
    "deletable": true,
    "editable": true
   },
   "source": [
    "#### Q1: Is this table different from other previous loaded table? YES \n",
    "#### Q2: Is this table similar to any table in the generic Booter database schema? NO\n",
    "    - This table looks like: \n",
    "#### Q3: Are there modifications required? \n",
    "    - On the table name: \n",
    "        o \n",
    "    - On the column type: \n",
    "        o \n",
    "    - On the column name:\n",
    "        o \n",
    "    - Add required columns:\n",
    "        o \n",
    "    - Split columns:\n",
    "        o "
   ]
  },
  {
   "cell_type": "markdown",
   "metadata": {
    "deletable": true,
    "editable": true
   },
   "source": [
    "## 6.23. Table: 'shell_percent_silver'"
   ]
  },
  {
   "cell_type": "markdown",
   "metadata": {
    "deletable": true,
    "editable": true
   },
   "source": [
    "### How this table looks like without modification?"
   ]
  },
  {
   "cell_type": "code",
   "execution_count": 62,
   "metadata": {
    "collapsed": false,
    "deletable": true,
    "editable": true
   },
   "outputs": [
    {
     "data": {
      "text/html": [
       "<div>\n",
       "<table border=\"1\" class=\"dataframe\">\n",
       "  <thead>\n",
       "    <tr style=\"text-align: right;\">\n",
       "      <th></th>\n",
       "      <th>message5</th>\n",
       "    </tr>\n",
       "  </thead>\n",
       "  <tbody>\n",
       "    <tr>\n",
       "      <th>0</th>\n",
       "      <td>50</td>\n",
       "    </tr>\n",
       "  </tbody>\n",
       "</table>\n",
       "</div>"
      ],
      "text/plain": [
       "   message5\n",
       "0        50"
      ]
     },
     "execution_count": 62,
     "metadata": {},
     "output_type": "execute_result"
    }
   ],
   "source": [
    "tablename='shell_percent_silver'\n",
    "\n",
    "pd.read_csv(read_inserted_table(dumpfile, tablename),delimiter=\",\",error_bad_lines=False).head(10)"
   ]
  },
  {
   "cell_type": "markdown",
   "metadata": {
    "deletable": true,
    "editable": true
   },
   "source": [
    "#### Q1: Is this table different from other previous loaded table? YES \n",
    "#### Q2: Is this table similar to any table in the generic Booter database schema? NO\n",
    "    - This table looks like: \n",
    "#### Q3: Are there modifications required? \n",
    "    - On the table name: \n",
    "        o \n",
    "    - On the column type: \n",
    "        o \n",
    "    - On the column name:\n",
    "        o \n",
    "    - Add required columns:\n",
    "        o \n",
    "    - Split columns:\n",
    "        o "
   ]
  },
  {
   "cell_type": "markdown",
   "metadata": {
    "deletable": true,
    "editable": true
   },
   "source": [
    "## 6.24. Table: 'users'"
   ]
  },
  {
   "cell_type": "markdown",
   "metadata": {
    "deletable": true,
    "editable": true
   },
   "source": [
    "### How this table looks like without modification?"
   ]
  },
  {
   "cell_type": "code",
   "execution_count": 63,
   "metadata": {
    "collapsed": false,
    "deletable": true,
    "editable": true
   },
   "outputs": [
    {
     "data": {
      "text/html": [
       "<div>\n",
       "<table border=\"1\" class=\"dataframe\">\n",
       "  <thead>\n",
       "    <tr style=\"text-align: right;\">\n",
       "      <th></th>\n",
       "      <th>UserId</th>\n",
       "      <th>UserName</th>\n",
       "      <th>Password</th>\n",
       "      <th>PasswordQuestion</th>\n",
       "      <th>PasswordAnswer</th>\n",
       "      <th>Email</th>\n",
       "      <th>myAttacks</th>\n",
       "      <th>attacks</th>\n",
       "      <th>notepad</th>\n",
       "      <th>IsApproved</th>\n",
       "      <th>...</th>\n",
       "      <th>PremiumStartDate</th>\n",
       "      <th>PremiumEndDate</th>\n",
       "      <th>PremiumAmount</th>\n",
       "      <th>IsCancelled</th>\n",
       "      <th>CancelledDate</th>\n",
       "      <th>IsEndOfTerm</th>\n",
       "      <th>EndOfTermDate</th>\n",
       "      <th>IsPending</th>\n",
       "      <th>PendingDate</th>\n",
       "      <th>PremiumLevel</th>\n",
       "    </tr>\n",
       "  </thead>\n",
       "  <tbody>\n",
       "    <tr>\n",
       "      <th>0</th>\n",
       "      <td>9</td>\n",
       "      <td>iamthemayo</td>\n",
       "      <td>dfa25541961b29f99ed798d9e58fa7f123d52b34</td>\n",
       "      <td>n.o.f.a</td>\n",
       "      <td>philutd2008</td>\n",
       "      <td>morrisman1@live.co.uk</td>\n",
       "      <td>1.0</td>\n",
       "      <td>121.72.235.9--1322172927::</td>\n",
       "      <td>NaN</td>\n",
       "      <td>1.0</td>\n",
       "      <td>...</td>\n",
       "      <td>2011-10-27 00:00:00</td>\n",
       "      <td>2012-07-26 00:00:00</td>\n",
       "      <td>0.00</td>\n",
       "      <td>0.0</td>\n",
       "      <td>0000-00-00 00:00:00</td>\n",
       "      <td>0.0</td>\n",
       "      <td>0000-00-00 00:00:00</td>\n",
       "      <td>0.0</td>\n",
       "      <td>0000-00-00 00:00:00</td>\n",
       "      <td>2.0</td>\n",
       "    </tr>\n",
       "    <tr>\n",
       "      <th>1</th>\n",
       "      <td>2</td>\n",
       "      <td>existence</td>\n",
       "      <td>20ed3307bcee6005bb173ed4c3979031b701c979</td>\n",
       "      <td>Mudkipz</td>\n",
       "      <td>Do you like mudkip?</td>\n",
       "      <td>muiltyhunter@live.com</td>\n",
       "      <td>0.0</td>\n",
       "      <td>NaN</td>\n",
       "      <td>NaN</td>\n",
       "      <td>1.0</td>\n",
       "      <td>...</td>\n",
       "      <td>2011-10-26 00:00:00</td>\n",
       "      <td>2012-08-21 00:00:00</td>\n",
       "      <td>10.00</td>\n",
       "      <td>0.0</td>\n",
       "      <td>0000-00-00 00:00:00</td>\n",
       "      <td>0.0</td>\n",
       "      <td>0000-00-00 00:00:00</td>\n",
       "      <td>0.0</td>\n",
       "      <td>0000-00-00 00:00:00</td>\n",
       "      <td>2.0</td>\n",
       "    </tr>\n",
       "    <tr>\n",
       "      <th>2</th>\n",
       "      <td>3</td>\n",
       "      <td>falconi</td>\n",
       "      <td>9ab85f0809fa7746bf981a32b0eaf11ccdc36efa</td>\n",
       "      <td>dog name</td>\n",
       "      <td>honey</td>\n",
       "      <td>chandler12@hotmail.co.uk</td>\n",
       "      <td>17.0</td>\n",
       "      <td>83.230.182.106--1321030801::189.152.173.145--1...</td>\n",
       "      <td>NaN</td>\n",
       "      <td>1.0</td>\n",
       "      <td>...</td>\n",
       "      <td>2011-10-28 00:00:00</td>\n",
       "      <td>2011-11-28 00:00:00</td>\n",
       "      <td>8.00</td>\n",
       "      <td>0.0</td>\n",
       "      <td>0000-00-00 00:00:00</td>\n",
       "      <td>0.0</td>\n",
       "      <td>0000-00-00 00:00:00</td>\n",
       "      <td>0.0</td>\n",
       "      <td>0000-00-00 00:00:00</td>\n",
       "      <td>0.0</td>\n",
       "    </tr>\n",
       "    <tr>\n",
       "      <th>3</th>\n",
       "      <td>4</td>\n",
       "      <td>baker</td>\n",
       "      <td>1c69c8c848447175b691ac1230c498458408a903</td>\n",
       "      <td>Whats my favourite number</td>\n",
       "      <td>12345</td>\n",
       "      <td>gearard2@gmail.com</td>\n",
       "      <td>130.0</td>\n",
       "      <td>76.116.249.115--1331086214::</td>\n",
       "      <td>NaN</td>\n",
       "      <td>1.0</td>\n",
       "      <td>...</td>\n",
       "      <td>2011-10-26 00:00:00</td>\n",
       "      <td>2013-03-27 00:00:00</td>\n",
       "      <td>4.00</td>\n",
       "      <td>0.0</td>\n",
       "      <td>0000-00-00 00:00:00</td>\n",
       "      <td>0.0</td>\n",
       "      <td>0000-00-00 00:00:00</td>\n",
       "      <td>0.0</td>\n",
       "      <td>0000-00-00 00:00:00</td>\n",
       "      <td>2.0</td>\n",
       "    </tr>\n",
       "    <tr>\n",
       "      <th>4</th>\n",
       "      <td>5</td>\n",
       "      <td>grandpa</td>\n",
       "      <td>d052f85fa58fb0497ad4bb7f2d069dd486c4a9aa</td>\n",
       "      <td>lol</td>\n",
       "      <td>lol</td>\n",
       "      <td>grandpa@clants.org</td>\n",
       "      <td>9.0</td>\n",
       "      <td>118.92.124.212--1319712616::</td>\n",
       "      <td>NaN</td>\n",
       "      <td>1.0</td>\n",
       "      <td>...</td>\n",
       "      <td>2011-10-26 00:00:00</td>\n",
       "      <td>2011-10-28 00:00:00</td>\n",
       "      <td>0.99</td>\n",
       "      <td>0.0</td>\n",
       "      <td>0000-00-00 00:00:00</td>\n",
       "      <td>0.0</td>\n",
       "      <td>0000-00-00 00:00:00</td>\n",
       "      <td>0.0</td>\n",
       "      <td>0000-00-00 00:00:00</td>\n",
       "      <td>1.0</td>\n",
       "    </tr>\n",
       "    <tr>\n",
       "      <th>5</th>\n",
       "      <td>10</td>\n",
       "      <td>deanie</td>\n",
       "      <td>4882c59f8c0fa8fc5d8974114e1545161d78966a</td>\n",
       "      <td>best friend?</td>\n",
       "      <td>marsel</td>\n",
       "      <td>deano2005@msn.com</td>\n",
       "      <td>212.0</td>\n",
       "      <td>75.3.128.232--1332546195::</td>\n",
       "      <td>NaN</td>\n",
       "      <td>1.0</td>\n",
       "      <td>...</td>\n",
       "      <td>2011-10-27 00:00:00</td>\n",
       "      <td>2012-12-28 00:00:00</td>\n",
       "      <td>0.00</td>\n",
       "      <td>0.0</td>\n",
       "      <td>0000-00-00 00:00:00</td>\n",
       "      <td>0.0</td>\n",
       "      <td>0000-00-00 00:00:00</td>\n",
       "      <td>0.0</td>\n",
       "      <td>0000-00-00 00:00:00</td>\n",
       "      <td>1.0</td>\n",
       "    </tr>\n",
       "    <tr>\n",
       "      <th>6</th>\n",
       "      <td>23</td>\n",
       "      <td>supers0ak</td>\n",
       "      <td>30d63295564bca6bccfb3c265c79576a0324ab6e</td>\n",
       "      <td>what was your username on neopets?</td>\n",
       "      <td>therarjnzo</td>\n",
       "      <td>hbombyomama@hotmail.com</td>\n",
       "      <td>0.0</td>\n",
       "      <td>NaN</td>\n",
       "      <td>NaN</td>\n",
       "      <td>1.0</td>\n",
       "      <td>...</td>\n",
       "      <td>2011-10-27 00:00:00</td>\n",
       "      <td>2012-04-30 00:00:00</td>\n",
       "      <td>0.00</td>\n",
       "      <td>0.0</td>\n",
       "      <td>0000-00-00 00:00:00</td>\n",
       "      <td>0.0</td>\n",
       "      <td>0000-00-00 00:00:00</td>\n",
       "      <td>0.0</td>\n",
       "      <td>0000-00-00 00:00:00</td>\n",
       "      <td>2.0</td>\n",
       "    </tr>\n",
       "    <tr>\n",
       "      <th>7</th>\n",
       "      <td>6</td>\n",
       "      <td>trthawk</td>\n",
       "      <td>b3a9ac06e8f432b91745757d98bf241c024fe86c</td>\n",
       "      <td>pet</td>\n",
       "      <td>barney</td>\n",
       "      <td>trthawk@hotmail.com</td>\n",
       "      <td>121.0</td>\n",
       "      <td>86.67.178.91--1330894230::</td>\n",
       "      <td>NaN</td>\n",
       "      <td>1.0</td>\n",
       "      <td>...</td>\n",
       "      <td>2011-10-26 00:00:00</td>\n",
       "      <td>2012-03-14 00:00:00</td>\n",
       "      <td>0.00</td>\n",
       "      <td>0.0</td>\n",
       "      <td>0000-00-00 00:00:00</td>\n",
       "      <td>0.0</td>\n",
       "      <td>0000-00-00 00:00:00</td>\n",
       "      <td>0.0</td>\n",
       "      <td>0000-00-00 00:00:00</td>\n",
       "      <td>2.0</td>\n",
       "    </tr>\n",
       "    <tr>\n",
       "      <th>8</th>\n",
       "      <td>7</td>\n",
       "      <td>lazboy</td>\n",
       "      <td>534e56df4e0d6bf3a9cb0350c63590ce2cec9e9c</td>\n",
       "      <td>name i like</td>\n",
       "      <td>gunner</td>\n",
       "      <td>billyspurlock@gmail.com</td>\n",
       "      <td>3.0</td>\n",
       "      <td>72.4.117.217--1319753211::64.239.253.7--131975...</td>\n",
       "      <td>NaN</td>\n",
       "      <td>1.0</td>\n",
       "      <td>...</td>\n",
       "      <td>2011-10-25 00:00:00</td>\n",
       "      <td>2011-11-02 00:00:00</td>\n",
       "      <td>3.00</td>\n",
       "      <td>0.0</td>\n",
       "      <td>0000-00-00 00:00:00</td>\n",
       "      <td>0.0</td>\n",
       "      <td>0000-00-00 00:00:00</td>\n",
       "      <td>0.0</td>\n",
       "      <td>0000-00-00 00:00:00</td>\n",
       "      <td>0.0</td>\n",
       "    </tr>\n",
       "    <tr>\n",
       "      <th>9</th>\n",
       "      <td>8</td>\n",
       "      <td>arronxr</td>\n",
       "      <td>c7f6a3cfab9f7b32121e2ca4fc3042e7eb3fe0b5</td>\n",
       "      <td>my aim is</td>\n",
       "      <td>arronxr</td>\n",
       "      <td>support@arronxr.net</td>\n",
       "      <td>381.0</td>\n",
       "      <td>108.166.79.143--1335793003::</td>\n",
       "      <td>NaN</td>\n",
       "      <td>1.0</td>\n",
       "      <td>...</td>\n",
       "      <td>2011-10-24 00:00:00</td>\n",
       "      <td>2014-10-29 00:00:00</td>\n",
       "      <td>0.00</td>\n",
       "      <td>0.0</td>\n",
       "      <td>0000-00-00 00:00:00</td>\n",
       "      <td>0.0</td>\n",
       "      <td>0000-00-00 00:00:00</td>\n",
       "      <td>0.0</td>\n",
       "      <td>0000-00-00 00:00:00</td>\n",
       "      <td>2.0</td>\n",
       "    </tr>\n",
       "  </tbody>\n",
       "</table>\n",
       "<p>10 rows × 35 columns</p>\n",
       "</div>"
      ],
      "text/plain": [
       "   UserId    UserName                                  Password  \\\n",
       "0       9  iamthemayo  dfa25541961b29f99ed798d9e58fa7f123d52b34   \n",
       "1       2   existence  20ed3307bcee6005bb173ed4c3979031b701c979   \n",
       "2       3     falconi  9ab85f0809fa7746bf981a32b0eaf11ccdc36efa   \n",
       "3       4       baker  1c69c8c848447175b691ac1230c498458408a903   \n",
       "4       5     grandpa  d052f85fa58fb0497ad4bb7f2d069dd486c4a9aa   \n",
       "5      10      deanie  4882c59f8c0fa8fc5d8974114e1545161d78966a   \n",
       "6      23   supers0ak  30d63295564bca6bccfb3c265c79576a0324ab6e   \n",
       "7       6     trthawk  b3a9ac06e8f432b91745757d98bf241c024fe86c   \n",
       "8       7      lazboy  534e56df4e0d6bf3a9cb0350c63590ce2cec9e9c   \n",
       "9       8     arronxr  c7f6a3cfab9f7b32121e2ca4fc3042e7eb3fe0b5   \n",
       "\n",
       "                     PasswordQuestion       PasswordAnswer  \\\n",
       "0                             n.o.f.a          philutd2008   \n",
       "1                             Mudkipz  Do you like mudkip?   \n",
       "2                            dog name                honey   \n",
       "3          Whats my favourite number                 12345   \n",
       "4                                 lol                  lol   \n",
       "5                        best friend?               marsel   \n",
       "6  what was your username on neopets?           therarjnzo   \n",
       "7                                 pet               barney   \n",
       "8                         name i like               gunner   \n",
       "9                           my aim is              arronxr   \n",
       "\n",
       "                      Email  myAttacks  \\\n",
       "0     morrisman1@live.co.uk        1.0   \n",
       "1     muiltyhunter@live.com        0.0   \n",
       "2  chandler12@hotmail.co.uk       17.0   \n",
       "3        gearard2@gmail.com      130.0   \n",
       "4        grandpa@clants.org        9.0   \n",
       "5         deano2005@msn.com      212.0   \n",
       "6   hbombyomama@hotmail.com        0.0   \n",
       "7       trthawk@hotmail.com      121.0   \n",
       "8   billyspurlock@gmail.com        3.0   \n",
       "9       support@arronxr.net      381.0   \n",
       "\n",
       "                                             attacks notepad  IsApproved  \\\n",
       "0                         121.72.235.9--1322172927::     NaN         1.0   \n",
       "1                                                NaN     NaN         1.0   \n",
       "2  83.230.182.106--1321030801::189.152.173.145--1...     NaN         1.0   \n",
       "3                       76.116.249.115--1331086214::     NaN         1.0   \n",
       "4                       118.92.124.212--1319712616::     NaN         1.0   \n",
       "5                         75.3.128.232--1332546195::     NaN         1.0   \n",
       "6                                                NaN     NaN         1.0   \n",
       "7                         86.67.178.91--1330894230::     NaN         1.0   \n",
       "8  72.4.117.217--1319753211::64.239.253.7--131975...     NaN         1.0   \n",
       "9                       108.166.79.143--1335793003::     NaN         1.0   \n",
       "\n",
       "       ...          PremiumStartDate       PremiumEndDate PremiumAmount  \\\n",
       "0      ...       2011-10-27 00:00:00  2012-07-26 00:00:00          0.00   \n",
       "1      ...       2011-10-26 00:00:00  2012-08-21 00:00:00         10.00   \n",
       "2      ...       2011-10-28 00:00:00  2011-11-28 00:00:00          8.00   \n",
       "3      ...       2011-10-26 00:00:00  2013-03-27 00:00:00          4.00   \n",
       "4      ...       2011-10-26 00:00:00  2011-10-28 00:00:00          0.99   \n",
       "5      ...       2011-10-27 00:00:00  2012-12-28 00:00:00          0.00   \n",
       "6      ...       2011-10-27 00:00:00  2012-04-30 00:00:00          0.00   \n",
       "7      ...       2011-10-26 00:00:00  2012-03-14 00:00:00          0.00   \n",
       "8      ...       2011-10-25 00:00:00  2011-11-02 00:00:00          3.00   \n",
       "9      ...       2011-10-24 00:00:00  2014-10-29 00:00:00          0.00   \n",
       "\n",
       "  IsCancelled        CancelledDate IsEndOfTerm        EndOfTermDate IsPending  \\\n",
       "0         0.0  0000-00-00 00:00:00         0.0  0000-00-00 00:00:00       0.0   \n",
       "1         0.0  0000-00-00 00:00:00         0.0  0000-00-00 00:00:00       0.0   \n",
       "2         0.0  0000-00-00 00:00:00         0.0  0000-00-00 00:00:00       0.0   \n",
       "3         0.0  0000-00-00 00:00:00         0.0  0000-00-00 00:00:00       0.0   \n",
       "4         0.0  0000-00-00 00:00:00         0.0  0000-00-00 00:00:00       0.0   \n",
       "5         0.0  0000-00-00 00:00:00         0.0  0000-00-00 00:00:00       0.0   \n",
       "6         0.0  0000-00-00 00:00:00         0.0  0000-00-00 00:00:00       0.0   \n",
       "7         0.0  0000-00-00 00:00:00         0.0  0000-00-00 00:00:00       0.0   \n",
       "8         0.0  0000-00-00 00:00:00         0.0  0000-00-00 00:00:00       0.0   \n",
       "9         0.0  0000-00-00 00:00:00         0.0  0000-00-00 00:00:00       0.0   \n",
       "\n",
       "           PendingDate  PremiumLevel  \n",
       "0  0000-00-00 00:00:00           2.0  \n",
       "1  0000-00-00 00:00:00           2.0  \n",
       "2  0000-00-00 00:00:00           0.0  \n",
       "3  0000-00-00 00:00:00           2.0  \n",
       "4  0000-00-00 00:00:00           1.0  \n",
       "5  0000-00-00 00:00:00           1.0  \n",
       "6  0000-00-00 00:00:00           2.0  \n",
       "7  0000-00-00 00:00:00           2.0  \n",
       "8  0000-00-00 00:00:00           0.0  \n",
       "9  0000-00-00 00:00:00           2.0  \n",
       "\n",
       "[10 rows x 35 columns]"
      ]
     },
     "execution_count": 63,
     "metadata": {},
     "output_type": "execute_result"
    }
   ],
   "source": [
    "tablename='users'\n",
    "\n",
    "pd.read_csv(read_inserted_table(dumpfile, tablename),delimiter=\",\",error_bad_lines=False).head(10)"
   ]
  },
  {
   "cell_type": "markdown",
   "metadata": {
    "deletable": true,
    "editable": true
   },
   "source": [
    "#### Q1: Is this table different from other previous loaded table? YES \n",
    "#### Q2: Is this table similar to any table in the generic Booter database schema? YES \n",
    "    - This table looks like: users\n",
    "#### Q3: Are there modifications required? \n",
    "    - On the table name: \n",
    "        o \n",
    "    - On the column type: \n",
    "        o expire -> timestamp2datetime()\n",
    "    - On the column name:\n",
    "        o ID -> userid\n",
    "              \n",
    "    - Add required columns:\n",
    "        o useremail \n",
    "        o planid\n",
    "    - Split columns:\n",
    "        o "
   ]
  },
  {
   "cell_type": "markdown",
   "metadata": {
    "deletable": true,
    "editable": true
   },
   "source": [
    "### Modifying table: 'users'"
   ]
  },
  {
   "cell_type": "code",
   "execution_count": 65,
   "metadata": {
    "collapsed": false,
    "deletable": true,
    "editable": true
   },
   "outputs": [
    {
     "data": {
      "text/html": [
       "<div>\n",
       "<table border=\"1\" class=\"dataframe\">\n",
       "  <thead>\n",
       "    <tr style=\"text-align: right;\">\n",
       "      <th></th>\n",
       "      <th>userid</th>\n",
       "      <th>username</th>\n",
       "      <th>password</th>\n",
       "      <th>PasswordQuestion</th>\n",
       "      <th>PasswordAnswer</th>\n",
       "      <th>useremail</th>\n",
       "      <th>myAttacks</th>\n",
       "      <th>attacks</th>\n",
       "      <th>notepad</th>\n",
       "      <th>IsApproved</th>\n",
       "      <th>...</th>\n",
       "      <th>PremiumEndDate</th>\n",
       "      <th>PremiumAmount</th>\n",
       "      <th>IsCancelled</th>\n",
       "      <th>CancelledDate</th>\n",
       "      <th>IsEndOfTerm</th>\n",
       "      <th>expire</th>\n",
       "      <th>IsPending</th>\n",
       "      <th>PendingDate</th>\n",
       "      <th>PremiumLevel</th>\n",
       "      <th>planid</th>\n",
       "    </tr>\n",
       "  </thead>\n",
       "  <tbody>\n",
       "    <tr>\n",
       "      <th>0</th>\n",
       "      <td>9</td>\n",
       "      <td>iamthemayo</td>\n",
       "      <td>dfa25541961b29f99ed798d9e58fa7f123d52b34</td>\n",
       "      <td>n.o.f.a</td>\n",
       "      <td>philutd2008</td>\n",
       "      <td>morrisman1@live.co.uk</td>\n",
       "      <td>1.0</td>\n",
       "      <td>121.72.235.9--1322172927::</td>\n",
       "      <td>NaN</td>\n",
       "      <td>1.0</td>\n",
       "      <td>...</td>\n",
       "      <td>2012-07-26 00:00:00</td>\n",
       "      <td>0.00</td>\n",
       "      <td>0.0</td>\n",
       "      <td>0000-00-00 00:00:00</td>\n",
       "      <td>0.0</td>\n",
       "      <td>NaT</td>\n",
       "      <td>0.0</td>\n",
       "      <td>0000-00-00 00:00:00</td>\n",
       "      <td>2.0</td>\n",
       "      <td></td>\n",
       "    </tr>\n",
       "    <tr>\n",
       "      <th>1</th>\n",
       "      <td>2</td>\n",
       "      <td>existence</td>\n",
       "      <td>20ed3307bcee6005bb173ed4c3979031b701c979</td>\n",
       "      <td>Mudkipz</td>\n",
       "      <td>Do you like mudkip?</td>\n",
       "      <td>muiltyhunter@live.com</td>\n",
       "      <td>0.0</td>\n",
       "      <td>NaN</td>\n",
       "      <td>NaN</td>\n",
       "      <td>1.0</td>\n",
       "      <td>...</td>\n",
       "      <td>2012-08-21 00:00:00</td>\n",
       "      <td>10.00</td>\n",
       "      <td>0.0</td>\n",
       "      <td>0000-00-00 00:00:00</td>\n",
       "      <td>0.0</td>\n",
       "      <td>NaT</td>\n",
       "      <td>0.0</td>\n",
       "      <td>0000-00-00 00:00:00</td>\n",
       "      <td>2.0</td>\n",
       "      <td></td>\n",
       "    </tr>\n",
       "    <tr>\n",
       "      <th>2</th>\n",
       "      <td>3</td>\n",
       "      <td>falconi</td>\n",
       "      <td>9ab85f0809fa7746bf981a32b0eaf11ccdc36efa</td>\n",
       "      <td>dog name</td>\n",
       "      <td>honey</td>\n",
       "      <td>chandler12@hotmail.co.uk</td>\n",
       "      <td>17.0</td>\n",
       "      <td>83.230.182.106--1321030801::189.152.173.145--1...</td>\n",
       "      <td>NaN</td>\n",
       "      <td>1.0</td>\n",
       "      <td>...</td>\n",
       "      <td>2011-11-28 00:00:00</td>\n",
       "      <td>8.00</td>\n",
       "      <td>0.0</td>\n",
       "      <td>0000-00-00 00:00:00</td>\n",
       "      <td>0.0</td>\n",
       "      <td>NaT</td>\n",
       "      <td>0.0</td>\n",
       "      <td>0000-00-00 00:00:00</td>\n",
       "      <td>0.0</td>\n",
       "      <td></td>\n",
       "    </tr>\n",
       "    <tr>\n",
       "      <th>3</th>\n",
       "      <td>4</td>\n",
       "      <td>baker</td>\n",
       "      <td>1c69c8c848447175b691ac1230c498458408a903</td>\n",
       "      <td>Whats my favourite number</td>\n",
       "      <td>12345</td>\n",
       "      <td>gearard2@gmail.com</td>\n",
       "      <td>130.0</td>\n",
       "      <td>76.116.249.115--1331086214::</td>\n",
       "      <td>NaN</td>\n",
       "      <td>1.0</td>\n",
       "      <td>...</td>\n",
       "      <td>2013-03-27 00:00:00</td>\n",
       "      <td>4.00</td>\n",
       "      <td>0.0</td>\n",
       "      <td>0000-00-00 00:00:00</td>\n",
       "      <td>0.0</td>\n",
       "      <td>NaT</td>\n",
       "      <td>0.0</td>\n",
       "      <td>0000-00-00 00:00:00</td>\n",
       "      <td>2.0</td>\n",
       "      <td></td>\n",
       "    </tr>\n",
       "    <tr>\n",
       "      <th>4</th>\n",
       "      <td>5</td>\n",
       "      <td>grandpa</td>\n",
       "      <td>d052f85fa58fb0497ad4bb7f2d069dd486c4a9aa</td>\n",
       "      <td>lol</td>\n",
       "      <td>lol</td>\n",
       "      <td>grandpa@clants.org</td>\n",
       "      <td>9.0</td>\n",
       "      <td>118.92.124.212--1319712616::</td>\n",
       "      <td>NaN</td>\n",
       "      <td>1.0</td>\n",
       "      <td>...</td>\n",
       "      <td>2011-10-28 00:00:00</td>\n",
       "      <td>0.99</td>\n",
       "      <td>0.0</td>\n",
       "      <td>0000-00-00 00:00:00</td>\n",
       "      <td>0.0</td>\n",
       "      <td>NaT</td>\n",
       "      <td>0.0</td>\n",
       "      <td>0000-00-00 00:00:00</td>\n",
       "      <td>1.0</td>\n",
       "      <td></td>\n",
       "    </tr>\n",
       "    <tr>\n",
       "      <th>5</th>\n",
       "      <td>10</td>\n",
       "      <td>deanie</td>\n",
       "      <td>4882c59f8c0fa8fc5d8974114e1545161d78966a</td>\n",
       "      <td>best friend?</td>\n",
       "      <td>marsel</td>\n",
       "      <td>deano2005@msn.com</td>\n",
       "      <td>212.0</td>\n",
       "      <td>75.3.128.232--1332546195::</td>\n",
       "      <td>NaN</td>\n",
       "      <td>1.0</td>\n",
       "      <td>...</td>\n",
       "      <td>2012-12-28 00:00:00</td>\n",
       "      <td>0.00</td>\n",
       "      <td>0.0</td>\n",
       "      <td>0000-00-00 00:00:00</td>\n",
       "      <td>0.0</td>\n",
       "      <td>NaT</td>\n",
       "      <td>0.0</td>\n",
       "      <td>0000-00-00 00:00:00</td>\n",
       "      <td>1.0</td>\n",
       "      <td></td>\n",
       "    </tr>\n",
       "    <tr>\n",
       "      <th>6</th>\n",
       "      <td>23</td>\n",
       "      <td>supers0ak</td>\n",
       "      <td>30d63295564bca6bccfb3c265c79576a0324ab6e</td>\n",
       "      <td>what was your username on neopets?</td>\n",
       "      <td>therarjnzo</td>\n",
       "      <td>hbombyomama@hotmail.com</td>\n",
       "      <td>0.0</td>\n",
       "      <td>NaN</td>\n",
       "      <td>NaN</td>\n",
       "      <td>1.0</td>\n",
       "      <td>...</td>\n",
       "      <td>2012-04-30 00:00:00</td>\n",
       "      <td>0.00</td>\n",
       "      <td>0.0</td>\n",
       "      <td>0000-00-00 00:00:00</td>\n",
       "      <td>0.0</td>\n",
       "      <td>NaT</td>\n",
       "      <td>0.0</td>\n",
       "      <td>0000-00-00 00:00:00</td>\n",
       "      <td>2.0</td>\n",
       "      <td></td>\n",
       "    </tr>\n",
       "    <tr>\n",
       "      <th>7</th>\n",
       "      <td>6</td>\n",
       "      <td>trthawk</td>\n",
       "      <td>b3a9ac06e8f432b91745757d98bf241c024fe86c</td>\n",
       "      <td>pet</td>\n",
       "      <td>barney</td>\n",
       "      <td>trthawk@hotmail.com</td>\n",
       "      <td>121.0</td>\n",
       "      <td>86.67.178.91--1330894230::</td>\n",
       "      <td>NaN</td>\n",
       "      <td>1.0</td>\n",
       "      <td>...</td>\n",
       "      <td>2012-03-14 00:00:00</td>\n",
       "      <td>0.00</td>\n",
       "      <td>0.0</td>\n",
       "      <td>0000-00-00 00:00:00</td>\n",
       "      <td>0.0</td>\n",
       "      <td>NaT</td>\n",
       "      <td>0.0</td>\n",
       "      <td>0000-00-00 00:00:00</td>\n",
       "      <td>2.0</td>\n",
       "      <td></td>\n",
       "    </tr>\n",
       "    <tr>\n",
       "      <th>8</th>\n",
       "      <td>7</td>\n",
       "      <td>lazboy</td>\n",
       "      <td>534e56df4e0d6bf3a9cb0350c63590ce2cec9e9c</td>\n",
       "      <td>name i like</td>\n",
       "      <td>gunner</td>\n",
       "      <td>billyspurlock@gmail.com</td>\n",
       "      <td>3.0</td>\n",
       "      <td>72.4.117.217--1319753211::64.239.253.7--131975...</td>\n",
       "      <td>NaN</td>\n",
       "      <td>1.0</td>\n",
       "      <td>...</td>\n",
       "      <td>2011-11-02 00:00:00</td>\n",
       "      <td>3.00</td>\n",
       "      <td>0.0</td>\n",
       "      <td>0000-00-00 00:00:00</td>\n",
       "      <td>0.0</td>\n",
       "      <td>NaT</td>\n",
       "      <td>0.0</td>\n",
       "      <td>0000-00-00 00:00:00</td>\n",
       "      <td>0.0</td>\n",
       "      <td></td>\n",
       "    </tr>\n",
       "    <tr>\n",
       "      <th>9</th>\n",
       "      <td>8</td>\n",
       "      <td>arronxr</td>\n",
       "      <td>c7f6a3cfab9f7b32121e2ca4fc3042e7eb3fe0b5</td>\n",
       "      <td>my aim is</td>\n",
       "      <td>arronxr</td>\n",
       "      <td>support@arronxr.net</td>\n",
       "      <td>381.0</td>\n",
       "      <td>108.166.79.143--1335793003::</td>\n",
       "      <td>NaN</td>\n",
       "      <td>1.0</td>\n",
       "      <td>...</td>\n",
       "      <td>2014-10-29 00:00:00</td>\n",
       "      <td>0.00</td>\n",
       "      <td>0.0</td>\n",
       "      <td>0000-00-00 00:00:00</td>\n",
       "      <td>0.0</td>\n",
       "      <td>NaT</td>\n",
       "      <td>0.0</td>\n",
       "      <td>0000-00-00 00:00:00</td>\n",
       "      <td>2.0</td>\n",
       "      <td></td>\n",
       "    </tr>\n",
       "  </tbody>\n",
       "</table>\n",
       "<p>10 rows × 36 columns</p>\n",
       "</div>"
      ],
      "text/plain": [
       "   userid    username                                  password  \\\n",
       "0       9  iamthemayo  dfa25541961b29f99ed798d9e58fa7f123d52b34   \n",
       "1       2   existence  20ed3307bcee6005bb173ed4c3979031b701c979   \n",
       "2       3     falconi  9ab85f0809fa7746bf981a32b0eaf11ccdc36efa   \n",
       "3       4       baker  1c69c8c848447175b691ac1230c498458408a903   \n",
       "4       5     grandpa  d052f85fa58fb0497ad4bb7f2d069dd486c4a9aa   \n",
       "5      10      deanie  4882c59f8c0fa8fc5d8974114e1545161d78966a   \n",
       "6      23   supers0ak  30d63295564bca6bccfb3c265c79576a0324ab6e   \n",
       "7       6     trthawk  b3a9ac06e8f432b91745757d98bf241c024fe86c   \n",
       "8       7      lazboy  534e56df4e0d6bf3a9cb0350c63590ce2cec9e9c   \n",
       "9       8     arronxr  c7f6a3cfab9f7b32121e2ca4fc3042e7eb3fe0b5   \n",
       "\n",
       "                     PasswordQuestion       PasswordAnswer  \\\n",
       "0                             n.o.f.a          philutd2008   \n",
       "1                             Mudkipz  Do you like mudkip?   \n",
       "2                            dog name                honey   \n",
       "3          Whats my favourite number                 12345   \n",
       "4                                 lol                  lol   \n",
       "5                        best friend?               marsel   \n",
       "6  what was your username on neopets?           therarjnzo   \n",
       "7                                 pet               barney   \n",
       "8                         name i like               gunner   \n",
       "9                           my aim is              arronxr   \n",
       "\n",
       "                  useremail  myAttacks  \\\n",
       "0     morrisman1@live.co.uk        1.0   \n",
       "1     muiltyhunter@live.com        0.0   \n",
       "2  chandler12@hotmail.co.uk       17.0   \n",
       "3        gearard2@gmail.com      130.0   \n",
       "4        grandpa@clants.org        9.0   \n",
       "5         deano2005@msn.com      212.0   \n",
       "6   hbombyomama@hotmail.com        0.0   \n",
       "7       trthawk@hotmail.com      121.0   \n",
       "8   billyspurlock@gmail.com        3.0   \n",
       "9       support@arronxr.net      381.0   \n",
       "\n",
       "                                             attacks notepad  IsApproved  \\\n",
       "0                         121.72.235.9--1322172927::     NaN         1.0   \n",
       "1                                                NaN     NaN         1.0   \n",
       "2  83.230.182.106--1321030801::189.152.173.145--1...     NaN         1.0   \n",
       "3                       76.116.249.115--1331086214::     NaN         1.0   \n",
       "4                       118.92.124.212--1319712616::     NaN         1.0   \n",
       "5                         75.3.128.232--1332546195::     NaN         1.0   \n",
       "6                                                NaN     NaN         1.0   \n",
       "7                         86.67.178.91--1330894230::     NaN         1.0   \n",
       "8  72.4.117.217--1319753211::64.239.253.7--131975...     NaN         1.0   \n",
       "9                       108.166.79.143--1335793003::     NaN         1.0   \n",
       "\n",
       "    ...         PremiumEndDate  PremiumAmount IsCancelled  \\\n",
       "0   ...    2012-07-26 00:00:00           0.00         0.0   \n",
       "1   ...    2012-08-21 00:00:00          10.00         0.0   \n",
       "2   ...    2011-11-28 00:00:00           8.00         0.0   \n",
       "3   ...    2013-03-27 00:00:00           4.00         0.0   \n",
       "4   ...    2011-10-28 00:00:00           0.99         0.0   \n",
       "5   ...    2012-12-28 00:00:00           0.00         0.0   \n",
       "6   ...    2012-04-30 00:00:00           0.00         0.0   \n",
       "7   ...    2012-03-14 00:00:00           0.00         0.0   \n",
       "8   ...    2011-11-02 00:00:00           3.00         0.0   \n",
       "9   ...    2014-10-29 00:00:00           0.00         0.0   \n",
       "\n",
       "         CancelledDate IsEndOfTerm expire IsPending          PendingDate  \\\n",
       "0  0000-00-00 00:00:00         0.0    NaT       0.0  0000-00-00 00:00:00   \n",
       "1  0000-00-00 00:00:00         0.0    NaT       0.0  0000-00-00 00:00:00   \n",
       "2  0000-00-00 00:00:00         0.0    NaT       0.0  0000-00-00 00:00:00   \n",
       "3  0000-00-00 00:00:00         0.0    NaT       0.0  0000-00-00 00:00:00   \n",
       "4  0000-00-00 00:00:00         0.0    NaT       0.0  0000-00-00 00:00:00   \n",
       "5  0000-00-00 00:00:00         0.0    NaT       0.0  0000-00-00 00:00:00   \n",
       "6  0000-00-00 00:00:00         0.0    NaT       0.0  0000-00-00 00:00:00   \n",
       "7  0000-00-00 00:00:00         0.0    NaT       0.0  0000-00-00 00:00:00   \n",
       "8  0000-00-00 00:00:00         0.0    NaT       0.0  0000-00-00 00:00:00   \n",
       "9  0000-00-00 00:00:00         0.0    NaT       0.0  0000-00-00 00:00:00   \n",
       "\n",
       "  PremiumLevel  planid  \n",
       "0          2.0          \n",
       "1          2.0          \n",
       "2          0.0          \n",
       "3          2.0          \n",
       "4          1.0          \n",
       "5          1.0          \n",
       "6          2.0          \n",
       "7          2.0          \n",
       "8          0.0          \n",
       "9          2.0          \n",
       "\n",
       "[10 rows x 36 columns]"
      ]
     },
     "execution_count": 65,
     "metadata": {},
     "output_type": "execute_result"
    }
   ],
   "source": [
    "### Loading the column converting columns with predefined functions\n",
    "df_users = pd.read_csv(read_inserted_table(dumpfile, tablename),delimiter=\",\",error_bad_lines=False)\n",
    "                    \n",
    "df_users['EndOfTermDate']=datetimeinvertedstring2datetime(strip_tab(df_users['EndOfTermDate']))\n",
    "\n",
    "###Changing names of columns\n",
    "df_users.rename(columns = {'UserId': 'userid',\n",
    "                          'UserName': 'username',\n",
    "                          'Email':'useremail',\n",
    "                          'Password':'password',\n",
    "                          'EndOfTermDate': 'expire'},\n",
    "                         inplace=True)\n",
    "\n",
    "###Creating empty columns (with \"\" [for future string] or np.nan [for future float])\n",
    "df_users['planid'] = \"\"\n",
    "\n",
    "###Showing some lines after adapt the table\n",
    "df_users.head(10)"
   ]
  },
  {
   "cell_type": "code",
   "execution_count": 66,
   "metadata": {
    "collapsed": false,
    "deletable": true,
    "editable": true
   },
   "outputs": [
    {
     "data": {
      "text/plain": [
       "(760, 760)"
      ]
     },
     "execution_count": 66,
     "metadata": {},
     "output_type": "execute_result"
    }
   ],
   "source": [
    "len(df_users), len(df_users.drop_duplicates())"
   ]
  },
  {
   "cell_type": "markdown",
   "metadata": {
    "deletable": true,
    "editable": true
   },
   "source": [
    "## 6.25. Table: 'users_in_roles'"
   ]
  },
  {
   "cell_type": "markdown",
   "metadata": {
    "deletable": true,
    "editable": true
   },
   "source": [
    "### How this table looks like without modification?"
   ]
  },
  {
   "cell_type": "code",
   "execution_count": 67,
   "metadata": {
    "collapsed": false,
    "deletable": true,
    "editable": true
   },
   "outputs": [
    {
     "data": {
      "text/html": [
       "<div>\n",
       "<table border=\"1\" class=\"dataframe\">\n",
       "  <thead>\n",
       "    <tr style=\"text-align: right;\">\n",
       "      <th></th>\n",
       "      <th>UsersInRolesId</th>\n",
       "      <th>UserId</th>\n",
       "      <th>RoleId</th>\n",
       "      <th>RoleName</th>\n",
       "    </tr>\n",
       "  </thead>\n",
       "  <tbody>\n",
       "    <tr>\n",
       "      <th>0</th>\n",
       "      <td>652</td>\n",
       "      <td>9</td>\n",
       "      <td>5</td>\n",
       "      <td>user</td>\n",
       "    </tr>\n",
       "    <tr>\n",
       "      <th>1</th>\n",
       "      <td>636</td>\n",
       "      <td>2</td>\n",
       "      <td>5</td>\n",
       "      <td>user</td>\n",
       "    </tr>\n",
       "    <tr>\n",
       "      <th>2</th>\n",
       "      <td>637</td>\n",
       "      <td>3</td>\n",
       "      <td>5</td>\n",
       "      <td>user</td>\n",
       "    </tr>\n",
       "    <tr>\n",
       "      <th>3</th>\n",
       "      <td>857</td>\n",
       "      <td>167</td>\n",
       "      <td>5</td>\n",
       "      <td>user</td>\n",
       "    </tr>\n",
       "    <tr>\n",
       "      <th>4</th>\n",
       "      <td>639</td>\n",
       "      <td>5</td>\n",
       "      <td>5</td>\n",
       "      <td>user</td>\n",
       "    </tr>\n",
       "    <tr>\n",
       "      <th>5</th>\n",
       "      <td>856</td>\n",
       "      <td>166</td>\n",
       "      <td>5</td>\n",
       "      <td>user</td>\n",
       "    </tr>\n",
       "    <tr>\n",
       "      <th>6</th>\n",
       "      <td>984</td>\n",
       "      <td>6</td>\n",
       "      <td>5</td>\n",
       "      <td>user</td>\n",
       "    </tr>\n",
       "    <tr>\n",
       "      <th>7</th>\n",
       "      <td>644</td>\n",
       "      <td>7</td>\n",
       "      <td>5</td>\n",
       "      <td>user</td>\n",
       "    </tr>\n",
       "    <tr>\n",
       "      <th>8</th>\n",
       "      <td>646</td>\n",
       "      <td>8</td>\n",
       "      <td>1</td>\n",
       "      <td>owner</td>\n",
       "    </tr>\n",
       "    <tr>\n",
       "      <th>9</th>\n",
       "      <td>647</td>\n",
       "      <td>8</td>\n",
       "      <td>2</td>\n",
       "      <td>superadmin</td>\n",
       "    </tr>\n",
       "  </tbody>\n",
       "</table>\n",
       "</div>"
      ],
      "text/plain": [
       "   UsersInRolesId  UserId  RoleId    RoleName\n",
       "0             652       9       5        user\n",
       "1             636       2       5        user\n",
       "2             637       3       5        user\n",
       "3             857     167       5        user\n",
       "4             639       5       5        user\n",
       "5             856     166       5        user\n",
       "6             984       6       5        user\n",
       "7             644       7       5        user\n",
       "8             646       8       1       owner\n",
       "9             647       8       2  superadmin"
      ]
     },
     "execution_count": 67,
     "metadata": {},
     "output_type": "execute_result"
    }
   ],
   "source": [
    "tablename='users_in_roles'\n",
    "\n",
    "pd.read_csv(read_inserted_table(dumpfile, tablename),delimiter=\",\",error_bad_lines=False).head(10)"
   ]
  },
  {
   "cell_type": "markdown",
   "metadata": {
    "deletable": true,
    "editable": true
   },
   "source": [
    "#### Q1: Is this table different from other previous loaded table? YES \n",
    "#### Q2: Is this table similar to any table in the generic Booter database schema? NO \n",
    "    - This table looks like:\n",
    "#### Q3: Are there modifications required? \n",
    "    - On the table name: \n",
    "        o \n",
    "    - On the column type: \n",
    "        o \n",
    "    - On the column name:\n",
    "        o \n",
    "    - Add required columns:\n",
    "        o \n",
    "    - Split columns:\n",
    "        o "
   ]
  },
  {
   "cell_type": "markdown",
   "metadata": {
    "deletable": true,
    "editable": true
   },
   "source": [
    "<h2 align='center'>======================================================================\n",
    "<br>Final step of the manual part\n",
    "======================================================================</h2>"
   ]
  },
  {
   "cell_type": "markdown",
   "metadata": {
    "deletable": true,
    "editable": true
   },
   "source": [
    "## 7. Adding missing tables accordingly to our generic Booter database "
   ]
  },
  {
   "cell_type": "code",
   "execution_count": null,
   "metadata": {
    "collapsed": false,
    "deletable": true,
    "editable": true
   },
   "outputs": [],
   "source": [
    "df_attacks= pd.DataFrame(columns=['id','userid','username','targetip','targeturl','duration','port','type','date'])\n",
    "#df_blacklist=pd.DataFrame(columns=['id','ip','note'])\n",
    "#df_friendsenemies=pd.DataFrame(columns=['id','ip','note','userid','type'])\n",
    "#df_gateways=pd.DataFrame(columns=['email'])\n",
    "#df_logins=pd.DataFrame(columns=['id','userid','username','userip','date'])\n",
    "#df_payments=pd.DataFrame(columns=['id','userid','username','amountpaid','paymentemail','planid','tid','date'])\n",
    "df_plans=pd.DataFrame(columns=['planid','planname','plandescr','price','maxboottime','concurrency'])\n",
    "df_servers=pd.DataFrame(columns=['id','ip'])\n",
    "df_settings=pd.DataFrame(columns=['url','sitename','siteemail'])\n",
    "#df_users=pd.DataFrame(columns=['userid','username','useremail','password','expire','plan'])      \n",
    "df_webshells=pd.DataFrame(columns=['id','url','status','lastchecked','attacktype'])"
   ]
  },
  {
   "cell_type": "markdown",
   "metadata": {
    "deletable": true,
    "editable": true
   },
   "source": [
    "<h1 align=\"center\">\n",
    "!!!!!!!!!!!!!!!!!!!!!!!!!!!!!!!!!!!!!!!!!!!!!!!!!!!!!!!!!!!!!!!!!!!!!!!!!!!!!!!!!!!!!!!!!!!!!!!!!!!!!!!!!!!!!!!!!!!!!!!!!!!!!!!!!!!!!!!!!<br>\n",
    "STEP 2: Data Enrichment<br>\n",
    "!!!!!!!!!!!!!!!!!!!!!!!!!!!!!!!!!!!!!!!!!!!!!!!!!!!!!!!!!!!!!!!!!!!!!!!!!!!!!!!!!!!!!!!!!!!!!!!!!!!!!!!!!!!!!!!!!!!!!!!!!!!!!!!</h1> "
   ]
  },
  {
   "cell_type": "markdown",
   "metadata": {
    "deletable": true,
    "editable": true
   },
   "source": [
    "### * Depending of the size of the data, this part can take HOURS. I tested for both small and big datasets and it worked. Be pacient. This will pay-off!"
   ]
  },
  {
   "cell_type": "markdown",
   "metadata": {
    "deletable": true,
    "editable": true
   },
   "source": [
    "## * Libraries needed to retrieve information from external databases"
   ]
  },
  {
   "cell_type": "code",
   "execution_count": null,
   "metadata": {
    "collapsed": true,
    "deletable": true,
    "editable": true
   },
   "outputs": [],
   "source": [
    "import subprocess\n",
    "import cfscrape\n",
    "from lxml import etree\n",
    "import os.path\n",
    "import random\n",
    "import time "
   ]
  },
  {
   "cell_type": "markdown",
   "metadata": {
    "deletable": true,
    "editable": true
   },
   "source": [
    "## * Function to enrich IP addresseswith AS information and country "
   ]
  },
  {
   "cell_type": "code",
   "execution_count": null,
   "metadata": {
    "collapsed": false,
    "deletable": true,
    "editable": true
   },
   "outputs": [],
   "source": [
    "# THANKS TO: team-cymru.org\n",
    "def iptoasn(iplist_teamcymruformat_filelocation,outputfile):\n",
    "    cat = subprocess.Popen(['cat', iplist_teamcymruformat_filelocation], \n",
    "                            stdout=subprocess.PIPE)\n",
    "    \n",
    "    netcat = subprocess.Popen(['netcat', 'whois.cymru.com', '43'],\n",
    "                              stdin=cat.stdout,\n",
    "                              stdout=outputfile)\n",
    "    time.sleep(3) #for some reason the poll does not work! This was the way to overcome the waiting time.\n",
    "    \n",
    "    return netcat.stdout      "
   ]
  },
  {
   "cell_type": "markdown",
   "metadata": {
    "deletable": true,
    "editable": true
   },
   "source": [
    "## * Function to check if an IP address was Tor node in a given moment"
   ]
  },
  {
   "cell_type": "code",
   "execution_count": null,
   "metadata": {
    "collapsed": true,
    "deletable": true,
    "editable": true
   },
   "outputs": [],
   "source": [
    "# THANKS TO: exonerator.torproject.org\n",
    "def WasTorNode(ip, date ):\n",
    "    url=\"https://exonerator.torproject.org/?ip=\"+ip+\"&timestamp=\"+date\n",
    "    scraper = cfscrape.create_scraper()\n",
    "    scraped_html=scraper.get(url).content    \n",
    "    html_tree = etree.HTML(scraped_html)\n",
    "    result=html_tree.xpath(\"//h3[@class='panel-title']/text()\") # I was looking for <h3 class=\"panel-title\">Result is positive</h3>\n",
    "    tor_node=True if result == ['Result is positive'] else False\n",
    "    return tor_node \n",
    "# 'date' MUST BE formated as: Year-month-day (2016-03-31)"
   ]
  },
  {
   "cell_type": "markdown",
   "metadata": {
    "deletable": true,
    "editable": true
   },
   "source": [
    "## * Discovering the middle date of the database"
   ]
  },
  {
   "cell_type": "code",
   "execution_count": null,
   "metadata": {
    "collapsed": false,
    "deletable": true,
    "editable": true
   },
   "outputs": [],
   "source": [
    "try:\n",
    "    try:\n",
    "        middle_date=(min(df_attacks['date'])+((max(df_attacks['date'])-min(df_attacks['date']))/2))\n",
    "        raise\n",
    "    except Exception:\n",
    "        pass\n",
    "\n",
    "    try:\n",
    "        middle_date=(min(df_logins['date'])+((max(df_logins['date'])-min(df_logins['date']))/2))\n",
    "        raise\n",
    "    except Exception:\n",
    "        pass\n",
    "\n",
    "    try:\n",
    "        middle_date=(min(df_payments['date'])+((max(df_payments['date'])-min(df_payments['date']))/2))\n",
    "        raise\n",
    "    except:\n",
    "        pass\n",
    "except Exception:\n",
    "    print(\"There is no date in the entire dataset\")\n",
    "\n",
    "date_tor_check = middle_date.strftime('%Y-%m-%d')\n",
    "date_iptoasn_lookup= str(middle_date)\n",
    "print(date_tor_check)"
   ]
  },
  {
   "cell_type": "markdown",
   "metadata": {
    "deletable": true,
    "editable": true
   },
   "source": [
    "## * Preparing to Perform IP to ASN info"
   ]
  },
  {
   "cell_type": "code",
   "execution_count": null,
   "metadata": {
    "collapsed": false,
    "deletable": true,
    "editable": true
   },
   "outputs": [],
   "source": [
    "df_logins['middledate']=date_iptoasn_lookup\n",
    "df_attacks['middledate']=date_iptoasn_lookup\n",
    "df_friendsenemies['middledate']=date_iptoasn_lookup\n",
    "df_blacklist['middledate']=date_iptoasn_lookup"
   ]
  },
  {
   "cell_type": "markdown",
   "metadata": {
    "deletable": true,
    "editable": true
   },
   "source": [
    "## 2.1.1  Lookup IP to ASN info of table: logins"
   ]
  },
  {
   "cell_type": "code",
   "execution_count": null,
   "metadata": {
    "collapsed": false,
    "deletable": true,
    "editable": true
   },
   "outputs": [],
   "source": [
    "if (os.path.exists('enrichments/logins_iptoasn_out')== False):\n",
    "    logins_iptoasn_in = open('enrichments/logins_iptoasn_in', 'w+')\n",
    "    logins_iptoasn_in.write('begin\\nverbose\\n')\n",
    "    df_logins[['userip','middledate']].drop_duplicates().to_csv(logins_iptoasn_in,header=False,index=False,sep=\"\\t\") \n",
    "    logins_iptoasn_in.write('end')\n",
    "    logins_iptoasn_in.close()\n",
    "\n",
    "    logins_iptoasn_out = open('logins_iptoasn_out', 'w+')\n",
    "    iptoasn('logins_iptoasn_in',logins_iptoasn_out)\n",
    "    logins_iptoasn_out.close()\n",
    "else:\n",
    "    print(\"You already performed the lookup for this table\")"
   ]
  },
  {
   "cell_type": "code",
   "execution_count": null,
   "metadata": {
    "collapsed": false,
    "deletable": true,
    "editable": true
   },
   "outputs": [],
   "source": [
    "df_logins_iptoasn = pd.read_csv('enrichments/logins_iptoasn_out',\\\n",
    "                                skiprows=1,\\\n",
    "                             delimiter=\"\\s+\\|\\s\",\\\n",
    "                             names = ['asn', 'ip', 'bgp_prefix', 'country','registry','info_date','info_request','as_name'])\n",
    "\n",
    "df_logins_extended= pd.merge(df_logins,\n",
    "                              df_logins_iptoasn,\n",
    "                              how = 'left',\n",
    "                              left_on = 'userip',\n",
    "                              right_on = 'ip')\n",
    "\n",
    "# Changing name of columns to avoid misunderstandings\n",
    "df_logins_extended.rename(columns={'asn':'srcasn', \n",
    "                                   'ip':'srcip', \n",
    "                                   'bgp_prefix':'srcbgp_prefix', \n",
    "                                   'country':'srccountry' ,\n",
    "                                   'registry':'srcregistry',\n",
    "                                   'info_date':'srcinfo_date',\n",
    "                                   'info_request':'srcinfo_request'},\n",
    "                         inplace=True)\n",
    "\n",
    "\n",
    "df_logins_extended.head(5)"
   ]
  },
  {
   "cell_type": "markdown",
   "metadata": {
    "deletable": true,
    "editable": true
   },
   "source": [
    "## 2.1.2  Lookup IP to ASN info of table: attacks"
   ]
  },
  {
   "cell_type": "code",
   "execution_count": null,
   "metadata": {
    "collapsed": false,
    "deletable": true,
    "editable": true
   },
   "outputs": [],
   "source": [
    "if (os.path.exists('enrichments/attacks_iptoasn_out')== False):\n",
    "    attacks_iptoasn_in = open('enrichments/attacks_iptoasn_in', 'w+')\n",
    "    attacks_iptoasn_in.write('begin\\nverbose\\n')\n",
    "    df_attacks[['targetip','middledate']].drop_duplicates().to_csv(attacks_iptoasn_in,header=False,index=False,sep=\"\\t\") \n",
    "    attacks_iptoasn_in.write('end')\n",
    "    attacks_iptoasn_in.close()\n",
    "\n",
    "    attacks_iptoasn_out = open('attacks_iptoasn_out', 'w+')\n",
    "    iptoasn('attacks_iptoasn_in',attacks_iptoasn_out)\n",
    "    attacks_iptoasn_out.close()\n",
    "else:\n",
    "    print(\"You already performed the lookup for this table\")"
   ]
  },
  {
   "cell_type": "code",
   "execution_count": null,
   "metadata": {
    "collapsed": false,
    "deletable": true,
    "editable": true
   },
   "outputs": [],
   "source": [
    "df_attacks_iptoasn = pd.read_csv('enrichments/attacks_iptoasn_out',\\\n",
    "                                skiprows=1,\\\n",
    "                             delimiter=\"\\s+\\|\\s\",\\\n",
    "                             names = ['asn', 'ip', 'bgp_prefix', 'country','registry','info_date','info_request','as_name'])\n",
    "\n",
    "# Merging the iptoasn with the queried column\n",
    "df_attacks_extended= pd.merge(df_attacks,\n",
    "                              df_attacks_iptoasn,\n",
    "                              how = 'left',\n",
    "                              left_on = 'targetip',\n",
    "                              right_on = 'ip')\n",
    "\n",
    "# Changing name of columns to avoid misunderstandings\n",
    "df_attacks_extended.rename(columns={'asn':'targetasn', \n",
    "                                   'ip_y':'targetip', \n",
    "                                   'bgp_prefix':'targetbgp_prefix', \n",
    "                                   'country_y':'targetcountry' ,\n",
    "                                   'registry':'targetregistry',\n",
    "                                   'info_date':'targetinfo_date',\n",
    "                                   'info_request':'targetinfo_request'},\n",
    "                         inplace=True)\n",
    "df_attacks_extended.head(5)"
   ]
  },
  {
   "cell_type": "markdown",
   "metadata": {
    "deletable": true,
    "editable": true
   },
   "source": [
    "## 2.1.3  Lookup IP to ASN info of table: friendsenemies"
   ]
  },
  {
   "cell_type": "code",
   "execution_count": null,
   "metadata": {
    "collapsed": false,
    "deletable": true,
    "editable": true
   },
   "outputs": [],
   "source": [
    "if (os.path.exists('enrichments/friendsenemies_iptoasn_out')== False):\n",
    "    friendsenemies_iptoasn_in = open('enrichments/friendsenemies_iptoasn_in', 'w+')\n",
    "    friendsenemies_iptoasn_in.write('begin\\nverbose\\n')\n",
    "    df_friendsenemies[['ip','middledate']].drop_duplicates().to_csv(friendsenemies_iptoasn_in,header=False,index=False,sep=\"\\t\") \n",
    "    friendsenemies_iptoasn_in.write('end')\n",
    "    friendsenemies_iptoasn_in.close()\n",
    "\n",
    "    friendsenemies_iptoasn_out = open('friendsenemies_iptoasn_out', 'w+')\n",
    "    iptoasn('friendsenemies_iptoasn_in',friendsenemies_iptoasn_out)\n",
    "    friendsenemies_iptoasn_out.close()\n",
    "else:\n",
    "    print(\"You already performed the lookup for this table.\")"
   ]
  },
  {
   "cell_type": "code",
   "execution_count": null,
   "metadata": {
    "collapsed": false,
    "deletable": true,
    "editable": true
   },
   "outputs": [],
   "source": [
    "df_friendsenemies_iptoasn = pd.read_csv('enrichments/friendsenemies_iptoasn_out',\\\n",
    "                                skiprows=1,\\\n",
    "                             delimiter=\"\\s+\\|\\s\",\\\n",
    "                             names = ['asn', 'ip', 'bgp_prefix', 'country','registry','info_date','info_request','as_name'])\n",
    "\n",
    "# Merging the iptoasn with the queried column\n",
    "df_friendsenemies_extended= pd.merge(df_friendsenemies,\n",
    "                              df_friendsenemies_iptoasn,\n",
    "                              how = 'left',\n",
    "                              left_on = 'ip',\n",
    "                              right_on = 'ip')\n",
    "\n",
    "# Changing name of columns to avoid misunderstandings\n",
    "df_friendsenemies_extended.rename(columns={'asn':'friendsenemiesasn', \n",
    "                                   'ip':'friendsenemiesip', \n",
    "                                   'bgp_prefix':'friendsenemiesbgp_prefix', \n",
    "                                   'country':'friendsenemiescountry' ,\n",
    "                                   'registry':'friendsenemiesregistry',\n",
    "                                   'info_date':'friendsenemiesinfo_date',\n",
    "                                   'info_request':'friendsenemiesinfo_request',\n",
    "                                   'as_name': 'friendsenemiesas_name'},\n",
    "                         inplace=True)"
   ]
  },
  {
   "cell_type": "markdown",
   "metadata": {
    "deletable": true,
    "editable": true
   },
   "source": [
    "## 2.1.4  Lookup IP to ASN info of table: blacklist"
   ]
  },
  {
   "cell_type": "code",
   "execution_count": null,
   "metadata": {
    "collapsed": false,
    "deletable": true,
    "editable": true
   },
   "outputs": [],
   "source": [
    "if (os.path.exists('enrichments/blacklist_iptoasn_out')== False):\n",
    "    blacklist_iptoasn_in = open('enrichments/blacklist_iptoasn_in', 'w+')\n",
    "    blacklist_iptoasn_in.write('begin\\nverbose\\n')\n",
    "    df_blacklist[['ip','middledate']].drop_duplicates().to_csv(blacklist_iptoasn_in,header=False,index=False,sep=\"\\t\") \n",
    "    blacklist_iptoasn_in.write('end')\n",
    "    blacklist_iptoasn_in.close()\n",
    "\n",
    "    blacklist_iptoasn_out = open('blacklist_iptoasn_out', 'w+')\n",
    "    iptoasn('blacklist_iptoasn_in',blacklist_iptoasn_out)\n",
    "    blacklist_iptoasn_out.close()\n",
    "else:\n",
    "    print(\"You already performed the lookup for this table.\")"
   ]
  },
  {
   "cell_type": "code",
   "execution_count": null,
   "metadata": {
    "collapsed": false,
    "deletable": true,
    "editable": true
   },
   "outputs": [],
   "source": [
    "df_blacklist_iptoasn = pd.read_csv('enrichments/blacklist_iptoasn_out',\\\n",
    "                                skiprows=1,\\\n",
    "                             delimiter=\"\\s+\\|\\s\",\\\n",
    "                             names = ['asn', 'ip', 'bgp_prefix', 'country','registry','info_date','info_request','as_name'])\n",
    "\n",
    "# Merging the iptoasn with the queried column\n",
    "df_blacklist_extended= pd.merge(df_blacklist,\n",
    "                              df_blacklist_iptoasn,\n",
    "                              how = 'left',\n",
    "                              left_on = 'ip',\n",
    "                              right_on = 'ip')\n",
    "\n",
    "# Changing name of columns to avoid misunderstandings\n",
    "df_blacklist_extended.rename(columns={'asn':'blacklistasn', \n",
    "                                   'ip':'blacklistip', \n",
    "                                   'bgp_prefix':'blacklistbgp_prefix', \n",
    "                                   'country':'blacklistcountry' ,\n",
    "                                   'registry':'blacklistregistry',\n",
    "                                   'info_date':'blacklistinfo_date',\n",
    "                                   'info_request':'blacklistinfo_request',\n",
    "                                   'as_name': 'blacklistas_name'},\n",
    "                         inplace=True)\n",
    "df_blacklist_extended.head(5)"
   ]
  },
  {
   "cell_type": "markdown",
   "metadata": {
    "deletable": true,
    "editable": true
   },
   "source": [
    "## 2.2.1. Check if IP was a TOR node for table: login"
   ]
  },
  {
   "cell_type": "code",
   "execution_count": null,
   "metadata": {
    "collapsed": false,
    "deletable": true,
    "editable": true
   },
   "outputs": [],
   "source": [
    "date_tor_check"
   ]
  },
  {
   "cell_type": "code",
   "execution_count": null,
   "metadata": {
    "collapsed": false,
    "deletable": true,
    "editable": true,
    "scrolled": true
   },
   "outputs": [],
   "source": [
    "if len(df_logins['userip'].unique())<1200:\n",
    "    if (os.path.exists('enrichments/logins_torcheck')== False):\n",
    "        print(\"Note: it can take a while to finish...\")\n",
    "        logins_torcheck = open('logins_torcheck', 'w+')\n",
    "        for i in df_logins['userip'].unique():\n",
    "            wasTor=WasTorNode(i,date_tor_check)\n",
    "            print(i, wasTor, file=logins_torcheck)\n",
    "    #         print(i, wasTor) #DEBUGING =D\n",
    "            time.sleep(random.randint(1,3)) #adding some random sleep time\n",
    "            logins_torcheck.flush()\n",
    "\n",
    "        logins_torcheck.close()\n",
    "    else:\n",
    "        print(\"The IP addresses from this table were already checked.\")\n",
    "else:\n",
    "        print(\"Aborted!!! It will take more than one hour to analyse!\")"
   ]
  },
  {
   "cell_type": "code",
   "execution_count": null,
   "metadata": {
    "collapsed": true,
    "deletable": true,
    "editable": true
   },
   "outputs": [],
   "source": [
    "df_logins_torcheck = pd.read_csv('enrichments/logins_torcheck',\\\n",
    "                          delimiter=\"\\s+\",\\\n",
    "                          names = ['userip', 'tor'])"
   ]
  },
  {
   "cell_type": "markdown",
   "metadata": {
    "deletable": true,
    "editable": true
   },
   "source": [
    "## 2.2.2. Check if IP was a TOR node for table: attacks"
   ]
  },
  {
   "cell_type": "code",
   "execution_count": null,
   "metadata": {
    "collapsed": false,
    "deletable": true,
    "editable": true,
    "scrolled": false
   },
   "outputs": [],
   "source": [
    "if len(df_attacks['targetip'].unique())<1200:\n",
    "    if (os.path.exists('enrichments/attacks_torcheck')== False):\n",
    "        print(\"Note: it can take a while to finish...\",len(df_attacks['targetip'].unique())*3,\"seconds (in the worst case).\")\n",
    "\n",
    "        attacks_torcheck = open('attacks_torcheck', 'w+')\n",
    "\n",
    "        for i in df_attacks['targetip'].unique():\n",
    "            wasTor=WasTorNode(i,date_tor_check)\n",
    "            print(i, wasTor, file=attacks_torcheck)\n",
    "            print(i, wasTor) #DEBUGING =D\n",
    "            time.sleep(random.randint(1,3)) #adding some random sleep time\n",
    "            attacks_torcheck.flush()\n",
    "\n",
    "        attacks_torcheck.close()\n",
    "    else:\n",
    "        print(\"The IP addresses from this table were already checked.\") \n",
    "else:\n",
    "        print(\"Aborted!!! It will take more than one hour to analyse!\")"
   ]
  },
  {
   "cell_type": "code",
   "execution_count": null,
   "metadata": {
    "collapsed": true,
    "deletable": true,
    "editable": true
   },
   "outputs": [],
   "source": [
    "df_attacks_torcheck = pd.read_csv('enrichments/attacks_torcheck',\\\n",
    "                          delimiter=\"\\s+\",\\\n",
    "                          names = ['targetip', 'tor'])"
   ]
  },
  {
   "cell_type": "markdown",
   "metadata": {
    "deletable": true,
    "editable": true
   },
   "source": [
    "## 2.2.3. Check if IP was a TOR node for table: friendsenemies"
   ]
  },
  {
   "cell_type": "code",
   "execution_count": null,
   "metadata": {
    "collapsed": false,
    "deletable": true,
    "editable": true
   },
   "outputs": [],
   "source": [
    "if len(df_friendsenemies['ip'].unique()) <1200:\n",
    "    if (os.path.exists('enrichments/friendsenemies_torcheck')== False):\n",
    "        print(\"Note: it can take a while to finish...\",len(df_friendsenemies['ip'].unique())*3,\"seconds (in the worst case).\")\n",
    "\n",
    "        friendsenemies_torcheck = open('enrichments/friendsenemies_torcheck', 'w+')\n",
    "\n",
    "        for i in df_friendsenemies['ip'].unique():\n",
    "            wasTor=WasTorNode(i,date_tor_check)\n",
    "            print(i, wasTor, file=friendsenemies_torcheck)\n",
    "        #     print(i, wasTor) #DEBUGING =D\n",
    "            time.sleep(random.randint(1,3)) #adding some random sleep time\n",
    "            friendsenemies_torcheck.flush()\n",
    "\n",
    "        friendsenemies_torcheck.close()\n",
    "    else:\n",
    "        print(\"The IP addresses from this table were already checked.\") \n",
    "else:\n",
    "        print(\"Aborted!!! It will take more than one hour to analyse!\")"
   ]
  },
  {
   "cell_type": "code",
   "execution_count": null,
   "metadata": {
    "collapsed": true,
    "deletable": true,
    "editable": true
   },
   "outputs": [],
   "source": [
    "df_friendsenemies_torcheck = pd.read_csv('enrichments/friendsenemies_torcheck',\\\n",
    "                          delimiter=\"\\s+\",\\\n",
    "                          names = ['ip', 'tor'])"
   ]
  },
  {
   "cell_type": "markdown",
   "metadata": {
    "deletable": true,
    "editable": true
   },
   "source": [
    "## 2.2.4. Check if IP was a TOR node for table: blacklist"
   ]
  },
  {
   "cell_type": "code",
   "execution_count": null,
   "metadata": {
    "collapsed": false,
    "deletable": true,
    "editable": true
   },
   "outputs": [],
   "source": [
    "if len(df_blacklist['ip'].unique()) < 1200:\n",
    "    if (os.path.exists('enrichments/blacklist_torcheck')== False):\n",
    "        print(\"Note: it can take a while to finish...\",len(df_blacklist['ip'].unique())*3,\"seconds (in the worst case).\")\n",
    "\n",
    "        blacklist_torcheck = open('enrichments/blacklist_torcheck', 'w+')\n",
    "\n",
    "        for i in df_blacklist['ip'].unique():\n",
    "            wasTor=WasTorNode(i,date_tor_check)\n",
    "            print(i, wasTor, file=blacklist_torcheck)\n",
    "    #         print(i, wasTor) #DEBUGING =D\n",
    "            time.sleep(random.randint(1,3)) #adding some random sleep time\n",
    "            blacklist_torcheck.flush()\n",
    "\n",
    "        blacklist_torcheck.close()\n",
    "    else:\n",
    "        print(\"The IP addresses from this table were already checked.\") \n",
    "else:\n",
    "        print(\"Aborted!!! It will take more than one hour to analyse!\")"
   ]
  },
  {
   "cell_type": "code",
   "execution_count": null,
   "metadata": {
    "collapsed": true,
    "deletable": true,
    "editable": true
   },
   "outputs": [],
   "source": [
    "df_blacklist_torcheck = pd.read_csv('enrichments/blacklist_torcheck',\\\n",
    "                          delimiter=\"\\s+\",\\\n",
    "                          names = ['ip', 'tor'])"
   ]
  },
  {
   "cell_type": "markdown",
   "metadata": {
    "deletable": true,
    "editable": true
   },
   "source": [
    "## * Relation between Attack dates and Login dates"
   ]
  },
  {
   "cell_type": "code",
   "execution_count": null,
   "metadata": {
    "collapsed": true,
    "deletable": true,
    "editable": true
   },
   "outputs": [],
   "source": [
    "def nearestDate(base_date, date_list):\n",
    "    nearest={}\n",
    "    for date in date_list:\n",
    "        if (base_date.timestamp() - date.timestamp())>=0:\n",
    "            nearest[base_date.timestamp() - date.timestamp()]= date\n",
    "    return nearest[min(nearest.keys())]"
   ]
  },
  {
   "cell_type": "code",
   "execution_count": null,
   "metadata": {
    "collapsed": false,
    "deletable": true,
    "editable": true
   },
   "outputs": [],
   "source": [
    "#This is the TOTAL number records to be checks!!!!\n",
    "len(df_attacks)"
   ]
  },
  {
   "cell_type": "code",
   "execution_count": null,
   "metadata": {
    "collapsed": true,
    "deletable": true,
    "editable": true
   },
   "outputs": [],
   "source": [
    "df_attacks['nearestlogin']=\"\"\n",
    "df_attacks['nearestlogin']=pd.to_datetime(df_attacks['nearestlogin'])\n",
    "    \n",
    "if len(df_attacks)>0 and len(df_logins)>0:\n",
    "    #When was the last login of the user that performed attacks\n",
    "    df_attacks['nearestlogin']=\"\"\n",
    "    df_attacks['nearestlogin']=pd.to_datetime(df_attacks['nearestlogin'])\n",
    "\n",
    "    for index, row in df_attacks.head(100).iterrows():\n",
    "        intermediate_df= df_logins[df_logins['username']==row['username']]\n",
    "        nearestlogindate= nearestDate(row['date'],intermediate_df['date'])\n",
    "        df_attacks.set_value(index, 'nearestlogin', nearestlogindate)\n",
    "\n",
    "        #DEBUGGING\n",
    "        if index % 1000 == 0:\n",
    "            print(index,\": +1000 records analysed\")"
   ]
  },
  {
   "cell_type": "code",
   "execution_count": null,
   "metadata": {
    "collapsed": false,
    "deletable": true,
    "editable": true
   },
   "outputs": [],
   "source": [
    "if len(df_attacks['nearestlogin'].value_counts()) >1:\n",
    "    df_attacks_and_logins = pd.merge(df_attacks_extended,\n",
    "                                     df_logins_extended,\n",
    "                                     how = 'left',\n",
    "                                     left_on = ['username','nearestlogin'],\n",
    "                                     right_on = ['username','date'])\n",
    "else:\n",
    "    df_attacks_and_logins=\"\""
   ]
  },
  {
   "cell_type": "markdown",
   "metadata": {
    "deletable": true,
    "editable": true
   },
   "source": [
    "<h2 align=\"center\">\n",
    "!!!!!!!!!!!!!!!!!!!!!!!!!!!!!!!!!!!!!!!!!!!!!!!!!!!!!!!!!!!!!!!!!!!!!!!!!!!!!!!!!!!!!!!!!!!!!!!!!!!!!!!!!!!!!!!!!!!!!!!!!!!!!!!!!!!!!!!!!<br>\n",
    "STEP 3: Automatic Analysis\n",
    "<br>\n",
    "!!!!!!!!!!!!!!!!!!!!!!!!!!!!!!!!!!!!!!!!!!!!!!!!!!!!!!!!!!!!!!!!!!!!!!!!!!!!!!!!!!!!!!!!!!!!!!!!!!!!!!!!!!!!!!!!!!!!!!!!!!!!!!!</h3> "
   ]
  },
  {
   "cell_type": "markdown",
   "metadata": {
    "deletable": true,
    "editable": true
   },
   "source": [
    "## * Libraries that I use to plot figs"
   ]
  },
  {
   "cell_type": "code",
   "execution_count": null,
   "metadata": {
    "collapsed": true,
    "deletable": true,
    "editable": true
   },
   "outputs": [],
   "source": [
    "import matplotlib.pyplot as plt\n",
    "from matplotlib_venn import *\n",
    "%matplotlib inline\n",
    "\n",
    "import seaborn as sns\n",
    "import itertools\n",
    "\n",
    "plt.style.use('seaborn-muted')\n",
    "# plt.rcParams['font.family'] = 'serif'\n",
    "# plt.rcParams['font.size'] = 12\n",
    "\n",
    "import warnings\n",
    "warnings.filterwarnings('ignore')"
   ]
  },
  {
   "cell_type": "markdown",
   "metadata": {
    "deletable": true,
    "editable": true
   },
   "source": [
    "## A.1. Number of records per table (part of the generic Booter database schema)"
   ]
  },
  {
   "cell_type": "code",
   "execution_count": null,
   "metadata": {
    "collapsed": false,
    "deletable": true,
    "editable": true
   },
   "outputs": [],
   "source": [
    "len(df_users),len(df_logins),len(df_attacks),len(df_payments),len(df_settings),len(df_gateways), len(df_friendsenemies),len(df_blacklist),len(df_webshells),len(df_servers),len(df_plans)"
   ]
  },
  {
   "cell_type": "markdown",
   "metadata": {
    "deletable": true,
    "editable": true
   },
   "source": [
    "## A.2. Number of users, customers, attackers, and their intersection"
   ]
  },
  {
   "cell_type": "code",
   "execution_count": null,
   "metadata": {
    "collapsed": false,
    "deletable": true,
    "editable": true
   },
   "outputs": [],
   "source": [
    "if len(set(df_users['userid'].unique())) > 1:\n",
    "    users_set=set(df_users['userid'].unique())\n",
    "else:\n",
    "    users_set=set(df_users['username'].unique())\n",
    "    \n",
    "if len(set(df_logins['userid'].unique())) > 1:\n",
    "    userslogin_set=set(df_logins['userid'].unique())\n",
    "else:\n",
    "    userslogin_set=set(df_logins['username'].unique())\n",
    "\n",
    "if len(set(df_payments['userid'].unique())) > 1:\n",
    "    customers_set=set(df_payments['userid'].unique())\n",
    "else:\n",
    "    customers_set=set(df_payments['username'].unique())\n",
    "\n",
    "if len(set(df_attacks['userid'].unique())) > 1:\n",
    "    attackers_set=set(df_attacks['userid'].unique())\n",
    "else:\n",
    "    attackers_set=set(df_attacks['username'].unique())\n",
    "\n",
    "intersec_customers_attacker=pd.Series(list(customers_set.intersection(attackers_set)))\n",
    "intersec_users_customers=pd.Series(list(users_set.intersection(customers_set)))\n",
    "intersec_users_attackers=pd.Series(list(users_set.intersection(attackers_set)))\n",
    "intersec_users_customers_attackers=pd.Series(list(users_set.intersection(customers_set).intersection(attackers_set)))"
   ]
  },
  {
   "cell_type": "code",
   "execution_count": null,
   "metadata": {
    "collapsed": false,
    "deletable": true,
    "editable": true
   },
   "outputs": [],
   "source": [
    "len(users_set),len(userslogin_set),len(customers_set),len(attackers_set)"
   ]
  },
  {
   "cell_type": "code",
   "execution_count": null,
   "metadata": {
    "collapsed": false,
    "deletable": true,
    "editable": true
   },
   "outputs": [],
   "source": [
    "fig = plt.figure(figsize=(4,3))\n",
    "fig.suptitle('Users, Customers & Attackers', fontsize=14)\n",
    "\n",
    "ax = plt.subplot2grid((1,1), (0,0))\n",
    "\n",
    "venn=venn3(ax=ax,subsets = {'001':len(attackers_set)-len(intersec_customers_attacker)-len(intersec_users_attackers)+len(intersec_users_customers_attackers), \n",
    "                            '010':len(customers_set)-len(intersec_users_customers)-len(intersec_customers_attacker)+len(intersec_users_customers_attackers), \n",
    "                            '011':len(intersec_customers_attacker)-len(intersec_users_customers_attackers),\n",
    "                            '100':len(users_set)-len(intersec_users_customers)-len(intersec_users_attackers)+len(intersec_users_customers_attackers),\n",
    "                            '101':len(intersec_users_attackers)-len(intersec_users_customers_attackers),\n",
    "                            '110':len(intersec_users_customers)-len(intersec_users_customers_attackers),\n",
    "                            '111':len(intersec_users_customers_attackers)},\\\n",
    "          set_labels = ('Users', 'Customers','Attackers'),\\\n",
    "          alpha=1)\n",
    "try:\n",
    "    venn.get_patch_by_id('100').set_color('#404096')\n",
    "except:\n",
    "    print(\"*Users set is empty!\")  \n",
    "    \n",
    "try:\n",
    "    venn.get_patch_by_id('110').set_color('#DEA73A')\n",
    "except:\n",
    "    print(\"*Customers set is empty!\")   \n",
    "\n",
    "try:\n",
    "    venn.get_patch_by_id('001').set_color('#D92120')\n",
    "except:\n",
    "    print(\"*Attackers set is empty!\")\n",
    "\n",
    "fig.show()\n",
    "# fig.savefig('../figs/timeseries_attacks.eps', format='eps', dpi=1200) "
   ]
  },
  {
   "cell_type": "markdown",
   "metadata": {
    "deletable": true,
    "editable": true
   },
   "source": [
    "## A.3. Distribution of login times per user"
   ]
  },
  {
   "cell_type": "code",
   "execution_count": null,
   "metadata": {
    "collapsed": false,
    "deletable": true,
    "editable": true
   },
   "outputs": [],
   "source": [
    "if len(df_logins['userid'].value_counts()) > 0:\n",
    "    num_distinct_logins_per_user=df_logins['userid'].value_counts()\n",
    "else:\n",
    "    num_distinct_logins_per_user=df_logins['username'].value_counts()\n",
    "\n",
    "freq_distinct_logins_per_user=num_distinct_logins_per_user.value_counts()\n",
    "cum_dist_user_logins = np.linspace(0.,1.,len(num_distinct_logins_per_user))\n",
    "cdf_user_logins = pd.Series(cum_dist_user_logins, index=num_distinct_logins_per_user.sort_values())"
   ]
  },
  {
   "cell_type": "code",
   "execution_count": null,
   "metadata": {
    "collapsed": false,
    "deletable": true,
    "editable": true
   },
   "outputs": [],
   "source": [
    "if len(num_distinct_logins_per_user)>0:\n",
    "    fig = plt.figure(figsize=(6, 3))\n",
    "    fig.suptitle('* Distribution of Login Times by Users:', fontsize=14, y=1.05,x=0.35)\n",
    "    \n",
    "    #Plot CDF\n",
    "    ax1 = plt.subplot2grid((1,2), (0,0))\n",
    "    ax1 = cdf_user_logins.plot(ax=ax1,lw=2, drawstyle='steps',legend=False)\n",
    "    ax1.set_xlabel(\"# logins\")\n",
    "    ax1.set_ylabel(\"CDF of Users\")\n",
    "    ax1.set_ylim(0,1.05)\n",
    "    ax1.set_title(\"\")\n",
    "    plt.setp(ax1.xaxis.get_majorticklabels(), rotation=45)\n",
    "\n",
    "    \n",
    "    ax2 = plt.subplot2grid((1,2), (0,1))\n",
    "    freq_distinct_logins_per_user.plot(ax=ax2,kind='pie', \n",
    "                                       labels=None, \n",
    "                                       legend=False,\n",
    "                                       startangle=270,\n",
    "#                                        colors=sns.color_palette()\n",
    "                                       )\n",
    "    ax2.set_ylabel(\"\")\n",
    "    \n",
    "    \n",
    "    \n",
    "    ####\n",
    "    # For Pie Chart Better Legend box\n",
    "    porcent = (100.*freq_distinct_logins_per_user.values)/(freq_distinct_logins_per_user.values.sum())\n",
    "    labels = ['{0} - {1:1.2f} %'.\\\n",
    "              format(i,j) for i,j in zip(freq_distinct_logins_per_user.index, porcent)]\n",
    "    # To Sort Legend (defaulf: keeps the same order)\n",
    "#     patches, labels, dummy =  zip(*sorted(zip(patches, labels, freq_distinct_logins_per_user.values),\n",
    "#                                           key=lambda x: x[2],\n",
    "#                                           reverse=True))\n",
    "    legend_show_top=10\n",
    "    ax2.legend(ax2.patches[0:legend_show_top], \n",
    "               labels[0:legend_show_top], \n",
    "               bbox_to_anchor=(1.5, 1.),\n",
    "               fontsize=10)\n",
    "    ####\n",
    "    \n",
    "    fig.tight_layout()\n",
    "    fig.show()\n",
    "    fig.savefig('figs/login_times.eps', bbox_inches='tight',format='eps', dpi=1200)\n",
    "else:\n",
    "    print(\"Unfortunately, there is no data available!\")\n"
   ]
  },
  {
   "cell_type": "markdown",
   "metadata": {
    "deletable": true,
    "editable": true
   },
   "source": [
    "## 5.3. Number of Users that Login via TOR"
   ]
  },
  {
   "cell_type": "code",
   "execution_count": null,
   "metadata": {
    "collapsed": false,
    "deletable": true,
    "editable": true
   },
   "outputs": [],
   "source": [
    "len(df_logins_torcheck[df_logins_torcheck['tor']==True]['userip'].value_counts())"
   ]
  },
  {
   "cell_type": "markdown",
   "metadata": {
    "deletable": true,
    "editable": true
   },
   "source": [
    "## 5.4. Number of Distinct IP addresses by Users"
   ]
  },
  {
   "cell_type": "code",
   "execution_count": null,
   "metadata": {
    "collapsed": false,
    "deletable": true,
    "editable": true
   },
   "outputs": [],
   "source": [
    "if len(df_logins.groupby(['userid','userip']).size().reset_index()['userid'].value_counts()) >0:\n",
    "    num_distinct_ips_per_user=df_logins.groupby(['userid','userip']).size().reset_index()['userid'].value_counts()\n",
    "else:\n",
    "    num_distinct_ips_per_user=df_logins.groupby(['username','userip']).size().reset_index()['username'].value_counts()\n",
    "    \n",
    "freq_distinct_ips_per_user=num_distinct_ips_per_user.value_counts()\n",
    "cum_dist_user_ips = np.linspace(0.,1.,len(num_distinct_ips_per_user))\n",
    "cdf_user_ips = pd.Series(cum_dist_user_ips, index=num_distinct_ips_per_user.sort_values())"
   ]
  },
  {
   "cell_type": "code",
   "execution_count": null,
   "metadata": {
    "collapsed": false,
    "deletable": true,
    "editable": true
   },
   "outputs": [],
   "source": [
    "if len(num_distinct_ips_per_user)>0:\n",
    "    fig = plt.figure(figsize=(6, 3))\n",
    "    fig.suptitle('* Distribution of Distinct IP address used by Users:', fontsize=14, y=1.05, x=0.4)\n",
    "\n",
    "    ax1 = plt.subplot2grid((1,2), (0,0))\n",
    "    ax1 = cdf_user_ips.plot( ax=ax1,lw=2, drawstyle='steps',legend=False)\n",
    "    ax1.set_xlabel(\"# IPs\")\n",
    "    ax1.set_ylabel(\"CDF of Users\")\n",
    "    ax1.set_ylim(0,1.05)\n",
    "    plt.setp(ax1.xaxis.get_majorticklabels(), rotation=45)\n",
    "    \n",
    "    ax2 = plt.subplot2grid((1,2), (0,1))\n",
    "    freq_distinct_ips_per_user.plot(ax=ax2,kind='pie',\n",
    "                                    labels=None,legend=False,\n",
    "                                       startangle=270,\n",
    "#                                        colors=sns.color_palette()\n",
    "                                       )\n",
    "    ax2.set_ylabel(\"\")\n",
    "    ####\n",
    "    # For Pie Chart Better Legend box\n",
    "    porcent = (100.*freq_distinct_ips_per_user.values)/(freq_distinct_ips_per_user.values.sum())\n",
    "    labels = ['{0} - {1:1.2f} %'.\\\n",
    "              format(i,j) for i,j in zip(freq_distinct_ips_per_user.index, porcent)]\n",
    "    # To Sort Legend (defaulf: keeps the same order)\n",
    "#     patches, labels, dummy =  zip(*sorted(zip(patches, labels, freq_distinct_logins_per_user.values),\n",
    "#                                           key=lambda x: x[2],\n",
    "#                                           reverse=True))\n",
    "    legend_show_top=10\n",
    "    ax2.legend(ax2.patches[0:legend_show_top], \n",
    "               labels[0:legend_show_top], \n",
    "               bbox_to_anchor=(1.5, 1.),\n",
    "               fontsize=10)\n",
    "    ####\n",
    "    \n",
    "    fig.tight_layout()\n",
    "    fig.show()\n",
    "    fig.savefig('figs/num_ips_by_users.eps', bbox_inches='tight',format='eps', dpi=1200)\n",
    "else:\n",
    "    print(\"Unfortunately, there is no data available!\")\n"
   ]
  },
  {
   "cell_type": "markdown",
   "metadata": {
    "deletable": true,
    "editable": true
   },
   "source": [
    "## 5.5. Number of Payments by Users"
   ]
  },
  {
   "cell_type": "code",
   "execution_count": null,
   "metadata": {
    "collapsed": false,
    "deletable": true,
    "editable": true
   },
   "outputs": [],
   "source": [
    "if len(df_payments['userid'].value_counts())>0:\n",
    "    num_distinct_payments_per_user=df_payments['userid'].value_counts()\n",
    "else:\n",
    "    num_distinct_payments_per_user=df_payments['username'].value_counts()\n",
    "\n",
    "freq_distinct_payments_per_user=num_distinct_payments_per_user.value_counts()\n",
    "cum_dist_user_payments = np.linspace(0.,1.,len(num_distinct_payments_per_user))\n",
    "cdf_user_payments = pd.Series(cum_dist_user_payments, index=num_distinct_payments_per_user.sort_values())"
   ]
  },
  {
   "cell_type": "code",
   "execution_count": null,
   "metadata": {
    "collapsed": false,
    "deletable": true,
    "editable": true
   },
   "outputs": [],
   "source": [
    "if len(num_distinct_payments_per_user)>0:\n",
    "    fig = plt.figure(figsize=(6, 3))\n",
    "    fig.suptitle('* Distribution of Number of Payments by Users:', fontsize=14, y=1.05, x=0.4)\n",
    "\n",
    "    ax1 = plt.subplot2grid((1,2), (0,0))\n",
    "    ax1 = cdf_user_payments.plot( ax=ax1,lw=2, drawstyle='steps',legend=False)\n",
    "    ax1.set_xlabel(\"# Payment\")\n",
    "    ax1.set_ylabel(\"CDF of Users\")\n",
    "    ax1.set_ylim(0,1.05)\n",
    "    plt.setp(ax1.xaxis.get_majorticklabels(), rotation=45)\n",
    "    \n",
    "    ax2 = plt.subplot2grid((1,2), (0,1))\n",
    "    freq_distinct_payments_per_user.plot(ax=ax2,kind='pie', \n",
    "                                         labels=None,legend=False,\n",
    "                                         startangle=270)\n",
    "    ax2.set_ylabel(\"\")\n",
    "    ####\n",
    "    # For Pie Chart Better Legend box\n",
    "    porcent = (100.*freq_distinct_payments_per_user.values)/(freq_distinct_payments_per_user.values.sum())\n",
    "    labels = ['{0} - {1:1.2f} %'.\\\n",
    "              format(i,j) for i,j in zip(freq_distinct_payments_per_user.index, porcent)]\n",
    "    # To Sort Legend (defaulf: keeps the same order)\n",
    "#     patches, labels, dummy =  zip(*sorted(zip(patches, labels, freq_distinct_logins_per_user.values),\n",
    "#                                           key=lambda x: x[2],\n",
    "#                                           reverse=True))\n",
    "    legend_show_top=10\n",
    "    ax2.legend(ax2.patches[0:legend_show_top], \n",
    "               labels[0:legend_show_top], \n",
    "               bbox_to_anchor=(1.55, 1.),\n",
    "               fontsize=10)\n",
    "    ####\n",
    "    fig.tight_layout()\n",
    "    fig.show()\n",
    "    fig.savefig('figs/payments_distribution.eps', bbox_inches='tight',format='eps', dpi=1200)\n",
    "else:\n",
    "    print(\"Unfortunately, there is no data available!\")\n"
   ]
  },
  {
   "cell_type": "markdown",
   "metadata": {
    "deletable": true,
    "editable": true
   },
   "source": [
    "## 5.6. Total Amount of Money Earned"
   ]
  },
  {
   "cell_type": "code",
   "execution_count": null,
   "metadata": {
    "collapsed": false,
    "deletable": true,
    "editable": true
   },
   "outputs": [],
   "source": [
    "if len(df_payments['amountpaid']) >0:\n",
    "    total_earned=df_payments['amountpaid'].values.sum()\n",
    "    'US$ {:,.2f}'.format(float(total_earned))\n",
    "else:\n",
    "    print(\"Unfortunately, there is no data available!\")"
   ]
  },
  {
   "cell_type": "markdown",
   "metadata": {
    "deletable": true,
    "editable": true
   },
   "source": [
    "## 5.7. Amount of Money Paid by Users"
   ]
  },
  {
   "cell_type": "code",
   "execution_count": null,
   "metadata": {
    "collapsed": true,
    "deletable": true,
    "editable": true
   },
   "outputs": [],
   "source": [
    "num_distinct_payments_money_per_user=df_payments['amountpaid'].value_counts()\n",
    "freq_distinct_payments_money_per_user=num_distinct_payments_money_per_user.value_counts()\n",
    "cum_dist_user_payments_money = np.linspace(0.,1.,len(num_distinct_payments_money_per_user))\n",
    "cdf_user_payments_money = pd.Series(cum_dist_user_payments_money, index=num_distinct_payments_money_per_user.sort_values())"
   ]
  },
  {
   "cell_type": "code",
   "execution_count": null,
   "metadata": {
    "collapsed": false,
    "deletable": true,
    "editable": true
   },
   "outputs": [],
   "source": [
    "if len(num_distinct_payments_money_per_user)>0:\n",
    "    fig = plt.figure(figsize=(6, 3))\n",
    "    fig.suptitle('* Distribution of Money Payments by Users:', fontsize=14, y=1.05, x=0.4)\n",
    "\n",
    "    ax1 = plt.subplot2grid((1,2), (0,0))\n",
    "    ax1 = cdf_user_payments_money.plot( ax=ax1,lw=2, drawstyle='steps',legend=False)\n",
    "    ax1.set_xlabel(\"$\")\n",
    "    ax1.set_ylabel(\"CDF of Users\")\n",
    "    ax1.set_ylim(0,1.05)\n",
    "    plt.setp(ax1.xaxis.get_majorticklabels(), rotation=45)\n",
    "\n",
    "    ax2 = plt.subplot2grid((1,2), (0,1))\n",
    "    freq_distinct_payments_money_per_user.plot(ax=ax2,kind='pie', \n",
    "                                               labels=None,legend=False,\n",
    "                                               startangle=270)\n",
    "    ax2.set_ylabel(\"\")\n",
    "    ####\n",
    "    # For Pie Chart Better Legend box\n",
    "    porcent = (100.*freq_distinct_payments_money_per_user.values)/(freq_distinct_payments_money_per_user.values.sum())\n",
    "    labels = ['${0:1.2f} - {1:1.2f} %'.\\\n",
    "              format(i,j) for i,j in zip(freq_distinct_payments_money_per_user.index, porcent)]\n",
    "    # To Sort Legend (defaulf: keeps the same order)\n",
    "#     patches, labels, dummy =  zip(*sorted(zip(patches, labels, freq_distinct_logins_per_user.values),\n",
    "#                                           key=lambda x: x[2],\n",
    "#                                           reverse=True))\n",
    "    legend_show_top=10\n",
    "    ax2.legend(ax2.patches[0:legend_show_top], \n",
    "               labels[0:legend_show_top], \n",
    "               bbox_to_anchor=(1.6, 1.),\n",
    "               fontsize=10)\n",
    "    ####\n",
    "    fig.tight_layout()\n",
    "    fig.show()\n",
    "    fig.savefig('figs/distribution_amount_paid.eps', bbox_inches='tight',format='eps', dpi=1200)\n",
    "else:\n",
    "    print(\"Unfortunately, there is no data available!\")\n"
   ]
  },
  {
   "cell_type": "markdown",
   "metadata": {
    "collapsed": false,
    "deletable": true,
    "editable": true
   },
   "source": [
    "## 5.8. Countries from where Users Access Booters"
   ]
  },
  {
   "cell_type": "code",
   "execution_count": null,
   "metadata": {
    "collapsed": true,
    "deletable": true,
    "editable": true
   },
   "outputs": [],
   "source": [
    "logins_country_distribution_sorted = df_logins_iptoasn['country'].value_counts(sort=True,ascending=True)\n",
    "logins_country_distribution = df_logins_iptoasn['country'].value_counts()"
   ]
  },
  {
   "cell_type": "code",
   "execution_count": null,
   "metadata": {
    "collapsed": false,
    "deletable": true,
    "editable": true
   },
   "outputs": [],
   "source": [
    "if len(logins_country_distribution)>0:\n",
    "    fig = plt.figure(figsize=(6, 3))\n",
    "    fig.suptitle('* Users Accessing from Countries:', fontsize=14, y=1.05, x=0.28)\n",
    "\n",
    "    ax1 = plt.subplot2grid((1,2), (0,0))\n",
    "    logins_country_distribution_sorted.plot(ax=ax1,kind='barh')\n",
    "    ax1.set_ylabel(\"# access\")\n",
    "    ax1.set_xlabel(\"Country\")\n",
    "    plt.setp(ax1.xaxis.get_majorticklabels(), rotation=45)\n",
    "\n",
    "    ax2 = plt.subplot2grid((1,2), (0,1))\n",
    "    logins_country_distribution.plot(ax=ax2,kind='pie', \n",
    "                                     labels=None,legend=False,\n",
    "                                     startangle=270)\n",
    "    ax2.set_ylabel(\"\")\n",
    "    ####\n",
    "    # For Pie Chart Better Legend box\n",
    "    porcent = (100.*logins_country_distribution.values)/(logins_country_distribution.values.sum())\n",
    "    labels = ['{0} - {1:1.2f} %'.\\\n",
    "              format(i,j) for i,j in zip(logins_country_distribution.index, porcent)]\n",
    "    # To Sort Legend (defaulf: keeps the same order)\n",
    "#     patches, labels, dummy =  zip(*sorted(zip(patches, labels, freq_distinct_logins_per_user.values),\n",
    "#                                           key=lambda x: x[2],\n",
    "#                                           reverse=True))\n",
    "    legend_show_top=10\n",
    "    ax2.legend(ax2.patches[0:legend_show_top], \n",
    "               labels[0:legend_show_top], \n",
    "               bbox_to_anchor=(1.55, 1.),\n",
    "               fontsize=10)\n",
    "    ####\n",
    "    fig.tight_layout()\n",
    "    fig.show()\n",
    "    fig.savefig('figs/user_countries.eps', bbox_inches='tight',format='eps', dpi=1200)\n",
    "else:\n",
    "    print(\"Unfortunately, there is no data available!\")"
   ]
  },
  {
   "cell_type": "markdown",
   "metadata": {
    "deletable": true,
    "editable": true
   },
   "source": [
    "## 5.9. Countries of Blacklisted IPs"
   ]
  },
  {
   "cell_type": "code",
   "execution_count": null,
   "metadata": {
    "collapsed": true,
    "deletable": true,
    "editable": true
   },
   "outputs": [],
   "source": [
    "blacklist_country_distribution=df_blacklist_iptoasn['country'].value_counts()\n",
    "blacklist_country_distribution_sorted=df_blacklist_iptoasn['country'].value_counts(sort=True,ascending=True)"
   ]
  },
  {
   "cell_type": "code",
   "execution_count": null,
   "metadata": {
    "collapsed": false,
    "deletable": true,
    "editable": true
   },
   "outputs": [],
   "source": [
    "if len(blacklist_country_distribution)>0:\n",
    "    fig = plt.figure(figsize=(6, 3))\n",
    "    fig.suptitle('* Countries of blacklisted IPs', fontsize=14, y=1.05, x=0.28)\n",
    "\n",
    "    ax1 = plt.subplot2grid((1,2), (0,0))\n",
    "    blacklist_country_distribution_sorted.plot(ax=ax1,kind='barh')\n",
    "    ax1.set_ylabel(\"# Access\")\n",
    "    ax1.set_xlabel(\"Country\")\n",
    "    plt.setp(ax1.xaxis.get_majorticklabels(), rotation=45)\n",
    "\n",
    "    ax2 = plt.subplot2grid((1,2), (0,1))\n",
    "    blacklist_country_distribution.plot(ax=ax2,kind='pie', \n",
    "                                        labels=None,legend=False,\n",
    "                                        startangle=270)\n",
    "    ax2.set_ylabel(\"\")\n",
    "    ####\n",
    "    # For Pie Chart Better Legend box\n",
    "    porcent = (100.*blacklist_country_distribution.values)/(logins_country_distribution.values.sum())\n",
    "    labels = ['{0} - {1:1.2f} %'.\\\n",
    "              format(i,j) for i,j in zip(blacklist_country_distribution.index, porcent)]\n",
    "    # To Sort Legend (defaulf: keeps the same order)\n",
    "#     patches, labels, dummy =  zip(*sorted(zip(patches, labels, freq_distinct_logins_per_user.values),\n",
    "#                                           key=lambda x: x[2],\n",
    "#                                           reverse=True))\n",
    "    legend_show_top=10\n",
    "    ax2.legend(ax2.patches[0:legend_show_top], \n",
    "               labels[0:legend_show_top], \n",
    "               bbox_to_anchor=(1.55, 1.),\n",
    "               fontsize=10)\n",
    "    ####\n",
    "    fig.tight_layout()\n",
    "    fig.show()\n",
    "    fig.savefig('figs/blacklist_countries.eps', bbox_inches='tight',format='eps', dpi=1200)\n",
    "else:\n",
    "    print(\"Unfortunately, there is no data available!\")"
   ]
  },
  {
   "cell_type": "markdown",
   "metadata": {
    "deletable": true,
    "editable": true
   },
   "source": [
    "## 5.10. Countries of Target IPs"
   ]
  },
  {
   "cell_type": "code",
   "execution_count": null,
   "metadata": {
    "collapsed": true,
    "deletable": true,
    "editable": true
   },
   "outputs": [],
   "source": [
    "attacks_country_distribution=df_attacks_iptoasn['country'].value_counts()"
   ]
  },
  {
   "cell_type": "code",
   "execution_count": null,
   "metadata": {
    "collapsed": false,
    "deletable": true,
    "editable": true
   },
   "outputs": [],
   "source": [
    "if len(attacks_country_distribution)>0:\n",
    "    fig = plt.figure(figsize=(6, 3))\n",
    "    fig.suptitle('* Countries of target IPs', fontsize=14, y=1.05, x=0.28)\n",
    "\n",
    "    ax1 = plt.subplot2grid((1,2), (0,0))\n",
    "    attacks_country_distribution.plot(ax=ax1,kind='bar')\n",
    "    ax1.set_ylabel(\"# Access\")\n",
    "    ax1.set_xlabel(\"Country\")\n",
    "    plt.setp(ax1.xaxis.get_majorticklabels(), rotation=45)\n",
    "\n",
    "    ax2 = plt.subplot2grid((1,2), (0,1))\n",
    "    attacks_country_distribution.plot(ax=ax2,kind='pie', \n",
    "                                      labels=None,legend=False,\n",
    "                                      startangle=270)\n",
    "    ax2.set_ylabel(\"\")\n",
    "    ####\n",
    "    # For Pie Chart Better Legend box\n",
    "    porcent = (100.*attacks_country_distribution.values)/(attacks_country_distribution.values.sum())\n",
    "    labels = ['{0} - {1:1.2f} %'.\\\n",
    "              format(i,j) for i,j in zip(attacks_country_distribution.index, porcent)]\n",
    "    # To Sort Legend (defaulf: keeps the same order)\n",
    "#     patches, labels, dummy =  zip(*sorted(zip(patches, labels, freq_distinct_logins_per_user.values),\n",
    "#                                           key=lambda x: x[2],\n",
    "#                                           reverse=True))\n",
    "    legend_show_top=10\n",
    "    ax2.legend(ax2.patches[0:legend_show_top], \n",
    "               labels[0:legend_show_top], \n",
    "               bbox_to_anchor=(1.55, 1.),\n",
    "               fontsize=10)\n",
    "    ####\n",
    "    fig.tight_layout()\n",
    "    fig.show()\n",
    "    fig.savefig('figs/attack_countries_distribution.eps',bbox_inches='tight', format='eps', dpi=1200) \n",
    "else:\n",
    "    print(\"Unfortunately, there is no data available!\")"
   ]
  },
  {
   "cell_type": "markdown",
   "metadata": {
    "deletable": true,
    "editable": true
   },
   "source": [
    "## 5.12. Attacks on Same Target"
   ]
  },
  {
   "cell_type": "code",
   "execution_count": null,
   "metadata": {
    "collapsed": true,
    "deletable": true,
    "editable": true
   },
   "outputs": [],
   "source": [
    "num_attacks_on_sametarget=df_attacks['targetip'].value_counts()\n",
    "\n",
    "freq_num_attacks_on_sametarget=num_attacks_on_sametarget.value_counts()\n",
    "cum_num_attacks_on_sametarget = np.linspace(0.,1.,len(num_attacks_on_sametarget))\n",
    "cdf_num_attacks_on_sametarget = pd.Series(cum_num_attacks_on_sametarget, index=num_attacks_on_sametarget.sort_values())"
   ]
  },
  {
   "cell_type": "code",
   "execution_count": null,
   "metadata": {
    "collapsed": false,
    "deletable": true,
    "editable": true
   },
   "outputs": [],
   "source": [
    "if len(num_attacks_on_sametarget)>0:\n",
    "    fig = plt.figure(figsize=(6, 3))\n",
    "    fig.suptitle('* Attacks on Same Targets:', fontsize=14, y=1.05,x=0.28)\n",
    "\n",
    "    ax1 = plt.subplot2grid((1,2), (0,0))\n",
    "    ax1 = cdf_num_attacks_on_sametarget.plot( ax=ax1,lw=2, drawstyle='steps',legend=False)\n",
    "    ax1.set_xlabel(\"# IPs\")\n",
    "    ax1.set_ylabel(\"CDF of Users\")\n",
    "    ax1.set_ylim(0,1.05)\n",
    "    plt.setp(ax1.xaxis.get_majorticklabels(), rotation=45)\n",
    "\n",
    "    ax2 = plt.subplot2grid((1,2), (0,1))\n",
    "    freq_num_attacks_on_sametarget.plot(ax=ax2,kind='pie',\n",
    "                                        labels=None,legend=False,\n",
    "                                        startangle=270)\n",
    "    ax2.set_ylabel(\"\")\n",
    "    ####\n",
    "    # For Pie Chart Better Legend box\n",
    "    porcent = (100.*freq_num_attacks_on_sametarget.values)/(freq_num_attacks_on_sametarget.values.sum())\n",
    "    labels = ['{0} - {1:1.2f} %'.\\\n",
    "              format(i,j) for i,j in zip(freq_num_attacks_on_sametarget.index, porcent)]\n",
    "    # To Sort Legend (defaulf: keeps the same order)\n",
    "#     patches, labels, dummy =  zip(*sorted(zip(patches, labels, freq_distinct_logins_per_user.values),\n",
    "#                                           key=lambda x: x[2],\n",
    "#                                           reverse=True))\n",
    "    legend_show_top=10\n",
    "    ax2.legend(ax2.patches[0:legend_show_top], \n",
    "               labels[0:legend_show_top], \n",
    "               bbox_to_anchor=(1.55, 1.),\n",
    "               fontsize=10)\n",
    "    ####\n",
    "    fig.tight_layout()\n",
    "\n",
    "    fig.show()\n",
    "    fig.savefig('figs/attacks_on_same_target.eps', bbox_inches='tight',format='eps', dpi=1200)\n",
    "else:\n",
    "    print(\"Unfortunately, there is no data available!\")"
   ]
  },
  {
   "cell_type": "markdown",
   "metadata": {
    "deletable": true,
    "editable": true
   },
   "source": [
    "## 5.11. Attacks per day (timeseries) "
   ]
  },
  {
   "cell_type": "code",
   "execution_count": null,
   "metadata": {
    "collapsed": false,
    "deletable": true,
    "editable": true
   },
   "outputs": [],
   "source": [
    "if len(df_attacks)>0:\n",
    "    attack_timeseries=df_attacks.set_index(['date']).groupby(pd.TimeGrouper(freq='D')).agg(['count'])['action']\n",
    "    attack_mean_perday=attack_timeseries.mean()\n",
    "    attack_median_perday=attack_timeseries.median()\n",
    "else:\n",
    "    attack_timeseries=\"\""
   ]
  },
  {
   "cell_type": "code",
   "execution_count": null,
   "metadata": {
    "collapsed": false,
    "deletable": true,
    "editable": true
   },
   "outputs": [],
   "source": [
    "if len(attack_timeseries)>0:\n",
    "    fig = plt.figure(figsize=(6,3))\n",
    "\n",
    "    ax1 = plt.subplot2grid((1,1), (0,0), rowspan=2)\n",
    "    attack_timeseries.plot(ax=ax1,\n",
    "                           lw=2,\n",
    "                           legend=False,\n",
    "    #                        style='--'\n",
    "                          )\n",
    "\n",
    "    # X and Y Labels and Ticks\n",
    "    ax1.set_xlabel(\"Time (bin=day)\")\n",
    "    ax1.set_ylabel(\"# Attacks\")\n",
    "\n",
    "    ax1.annotate(str(int(attack_median_perday[0]))+' (median)', \n",
    "                 (min(df_attacks['date']), attack_median_perday),\n",
    "                 xytext=(350, -1), \n",
    "                 textcoords='offset points',\n",
    "                 color='black', \n",
    "                 arrowprops=dict(arrowstyle='-|>',\n",
    "                                 color='black'))\n",
    "    fig.savefig('figs/attacks_timeseries.eps', bbox_inches='tight',format='eps', dpi=1200)\n",
    "\n",
    "else:\n",
    "    print(\"Unfortunately, there is no data available!\")"
   ]
  },
  {
   "cell_type": "markdown",
   "metadata": {
    "deletable": true,
    "editable": true
   },
   "source": [
    "## 5.12. Time Between Logins and Attacks"
   ]
  },
  {
   "cell_type": "code",
   "execution_count": null,
   "metadata": {
    "collapsed": false,
    "deletable": true,
    "editable": true
   },
   "outputs": [],
   "source": [
    "if len(df_attacks_and_logins)>0:\n",
    "    print(\"redo\")\n",
    "else:\n",
    "    print(\"Unfortunately, there is no data available!\")"
   ]
  },
  {
   "cell_type": "markdown",
   "metadata": {
    "deletable": true,
    "editable": true
   },
   "source": [
    "## 5.13. Who attack whom? (users on the country level)"
   ]
  },
  {
   "cell_type": "code",
   "execution_count": null,
   "metadata": {
    "collapsed": false,
    "deletable": true,
    "editable": true
   },
   "outputs": [],
   "source": [
    "if len(df_attacks_extended)>0 and len(df_logins_extended)>0:\n",
    "    merged_attacks_logins = pd.merge(df_attacks_extended,\n",
    "                                  df_logins_extended,\n",
    "                                  how = 'left',\n",
    "                                  left_on = 'date',\n",
    "                                  right_on = 'date')[['targetcountry','srccountry']]\n",
    "\n",
    "    who_against_whom = merged_attacks_logins.groupby(['targetcountry','srccountry'])\\\n",
    "                            .size()\\\n",
    "                            .reset_index()\\\n",
    "                            .pivot('srccountry','targetcountry',0)\n",
    "else:\n",
    "    who_against_whom =\"\""
   ]
  },
  {
   "cell_type": "code",
   "execution_count": null,
   "metadata": {
    "collapsed": false,
    "deletable": true,
    "editable": true
   },
   "outputs": [],
   "source": [
    "if len(who_against_whom)>0:\n",
    "    fig = plt.figure(figsize=(8,12))\n",
    "    fig.suptitle('Countries of Target IPs', fontsize=14, y=.92)\n",
    "\n",
    "    ax1 = plt.subplot2grid((1,1), (0,0))\n",
    "    sns.set()\n",
    "    sns.heatmap(who_against_whom,\n",
    "                ax=ax1,\n",
    "#                 cmap=\"YlGnBu\",\n",
    "    #             linewidths=.5,\n",
    "    #             annot=True\n",
    "                )\n",
    "\n",
    "    ax1.set_ylabel(\"Source Country\")\n",
    "    ax1.set_xlabel(\"Attack Target Country\")\n",
    "\n",
    "    fig.show()\n",
    "    fig.savefig('figs/who_attack_whom.eps', bbox_inches='tight',format='eps', dpi=1200)\n",
    "else:\n",
    "    print(\"Unfortunately, there is no data available!\")"
   ]
  },
  {
   "cell_type": "markdown",
   "metadata": {
    "deletable": true,
    "editable": true
   },
   "source": [
    "<h1 align=\"center\">!!!!!!!!!!!!!!!!!!!!!!!!!!!!!!!!!!!!!!!!!!!!!!!!!!!!!!!!!!!!!!!!!!!!!!!!!!!!!!!!!!!!!!!!!!!!!!!!!!!!!!!!!!!!!!!!!!!!!!!!!!!!!!!!!<br>\n",
    "FIFTH PART: Query Interface<br>\n",
    "!!!!!!!!!!!!!!!!!!!!!!!!!!!!!!!!!!!!!!!!!!!!!!!!!!!!!!!!!!!!!!!!!!!!!!!!!!!!!!!!!!!!!!!!!!!!!!!!!!!!!!!!!!!!!!!!!!!!!!!!!!!!!!!</h1> "
   ]
  },
  {
   "cell_type": "code",
   "execution_count": null,
   "metadata": {
    "collapsed": true,
    "deletable": true,
    "editable": true
   },
   "outputs": [],
   "source": [
    "from ipywidgets import widgets, interact, Dropdown,HTML\n",
    "from IPython.display import display,clear_output"
   ]
  },
  {
   "cell_type": "code",
   "execution_count": null,
   "metadata": {
    "collapsed": false,
    "deletable": true,
    "editable": true
   },
   "outputs": [],
   "source": [
    "def search_by_userid_submit(sender):\n",
    "    clear_output()\n",
    "    print(\"Searching by id =\",search_by_userid.value)\n",
    "    \n",
    "    if len(df_users[df_users['userid']== int(search_by_userid.value)])>0:\n",
    "        display(df_users[df_logins['userid']== int(search_by_userid.value)])\n",
    "    \n",
    "    if len(df_logins_extended[df_logins_extended['userid']== int(search_by_userid.value)])>0:\n",
    "        display(df_logins_extended[df_logins_extended['userid']== int(search_by_userid.value)])\n",
    "    \n",
    "    if len(df_attacks_extended[df_attacks_extended['userid']== int(search_by_userid.value)])>0:\n",
    "        display(df_attacks_extended[df_attacks_extended['userid']== int(search_by_userid.value)])\n",
    "    \n",
    "    if len(df_payments[df_payments['userid']== int(search_by_userid.value)])>0:\n",
    "        display(df_payments[df_payments['userid']== int(search_by_userid.value)])\n",
    "\n",
    "def search_by_username_submit(sender):\n",
    "    clear_output()\n",
    "    print(\"Searching by username =\",search_by_username.value,\"\\n\")\n",
    "    \n",
    "    if len(df_users[df_users['username']== search_by_username.value])>0:\n",
    "        print(\"Table df_users:\")\n",
    "        display(df_users[df_users['username']== search_by_username.value])\n",
    "    \n",
    "    if len(df_logins_extended[df_logins_extended['username']== search_by_username.value])>0:\n",
    "        print(\"Table df_logins:\")\n",
    "        display(df_logins_extended[df_logins_extended['username']== search_by_username.value])\n",
    "\n",
    "    if len(df_attacks_extended[df_attacks_extended['username']== search_by_username.value])>0:\n",
    "        print(\"Table df_attacks:\")\n",
    "        display(df_attacks_extended[df_attacks_extended['username']== search_by_username.value])\n",
    "    \n",
    "    if len(df_payments[df_payments['username']== search_by_username.value])>0:\n",
    "        print(\"Table df_payments:\")\n",
    "        display(df_payments[df_payments['username']== search_by_username.value])\n",
    "        \n",
    "def search_by_ip_submit(sender):\n",
    "    clear_output()\n",
    "    print(\"Searching by IP address =\",str(search_by_ip.value),\"\\n\")\n",
    "    \n",
    "    if len(df_logins_extended[df_logins_extended['userip']== str(search_by_ip.value)])>0:\n",
    "        print(\"Table df_logins (as ATTACKER:\")\n",
    "        display(df_logins_extended[df_logins_extended['userip']== str(search_by_ip.value)])\n",
    "     \n",
    "    if len(df_attacks_extended[df_attacks_extended['targetip']== str(search_by_ip.value)])>0:\n",
    "        print(\"Table df_attacks (as TARGET):\")\n",
    "        display(df_attacks_extended[df_attacks_extended['targetip']== str(search_by_ip.value)])  \n",
    "      \n",
    "       \n",
    "def search_by_asn_submit(sender):\n",
    "    clear_output()\n",
    "    print(\"Searching by Autonomous System Number (ASN) =\",search_by_asn.value,\"\\n\")\n",
    "    \n",
    "    if len(df_logins_extended[df_logins_extended['srcasn']== int(search_by_asn.value)])>0:\n",
    "        print(\"Table df_logins (as ATTACKER):\")\n",
    "        display(df_logins_extended[df_logins_extended['srcasn']== int(search_by_asn.value)])\n",
    "    \n",
    "    if len(df_attacks_extended[df_attacks_extended['targetasn']== str(search_by_asn.value)])>0:\n",
    "        print(\"Table df_attacks (as TARGET):\")\n",
    "        display(df_attacks_extended[df_attacks_extended['targetasn']== str(search_by_asn.value)])\n",
    "\n",
    "    if len(df_attacks_extended[df_attacks_extended['targetasn']== str(search_by_asn.value)])>0:\n",
    "        print(\"Table df_attacks (as TARGET):\")\n",
    "        display(df_attacks_extended[df_attacks_extended['targetasn']== str(search_by_asn.value)])\n",
    "\n",
    "        \n",
    "country_list=pd.read_csv('https://raw.githubusercontent.com/datasets/country-list/master/data.csv',delimiter=\",\",error_bad_lines=False)\n",
    "def search_by_country_submit():\n",
    "    country_code=country_list[country_list['Name']==search_by_country.value]['Code'].values[0]\n",
    "    clear_output()\n",
    "    print(\"Searching by Country =\",search_by_country.value,\"\\n\")\n",
    "    \n",
    "    if len(df_logins_extended[df_logins_extended['srccountry']== country_code])>0:\n",
    "        print(\"Table df_logins (as ATTACKER):\")\n",
    "        display(df_logins_extended[df_logins_extended['srccountry']== country_code])\n",
    "    \n",
    "    if len(df_attacks_extended[df_attacks_extended['targetcountry']== country_code])>0:\n",
    "        print(\"Table df_attacks (as TARGET):\")\n",
    "        display(df_attacks_extended[df_attacks_extended['targetcountry']== country_code])\n",
    "    "
   ]
  },
  {
   "cell_type": "code",
   "execution_count": null,
   "metadata": {
    "collapsed": false,
    "deletable": true,
    "editable": true
   },
   "outputs": [],
   "source": [
    "display(HTML('<h3>*Search by (only) one field per time:</h3>'))\n",
    "\n",
    "search_by_username = widgets.Text(description=\"username\")\n",
    "display(search_by_username)\n",
    "search_by_username.on_submit(search_by_username_submit)\n",
    "\n",
    "search_by_userid = widgets.Text(description=\"userid\")\n",
    "display(search_by_userid)\n",
    "search_by_userid.on_submit(search_by_userid_submit)\n",
    "\n",
    "search_by_ip = widgets.Text(description=\"IP\")\n",
    "display(search_by_ip)\n",
    "search_by_ip.on_submit(search_by_ip_submit)\n",
    "\n",
    "search_by_asn = widgets.Text(description=\"ASN\")\n",
    "display(search_by_asn)\n",
    "search_by_asn.on_submit(search_by_asn_submit)\n",
    "\n",
    "search_by_country = Dropdown(description=\"Country\", options=country_list['Name'].tolist())\n",
    "search_by_country.on_trait_change(search_by_country_submit, name=\"value\")\n",
    "display(search_by_country)"
   ]
  },
  {
   "cell_type": "code",
   "execution_count": null,
   "metadata": {
    "collapsed": true,
    "deletable": true,
    "editable": true
   },
   "outputs": [],
   "source": []
  }
 ],
 "metadata": {
  "kernelspec": {
   "display_name": "Python 3",
   "language": "python",
   "name": "python3"
  },
  "language_info": {
   "codemirror_mode": {
    "name": "ipython",
    "version": 3
   },
   "file_extension": ".py",
   "mimetype": "text/x-python",
   "name": "python",
   "nbconvert_exporter": "python",
   "pygments_lexer": "ipython3",
   "version": "3.5.1"
  },
  "widgets": {
   "state": {},
   "version": "1.1.2"
  }
 },
 "nbformat": 4,
 "nbformat_minor": 0
}
