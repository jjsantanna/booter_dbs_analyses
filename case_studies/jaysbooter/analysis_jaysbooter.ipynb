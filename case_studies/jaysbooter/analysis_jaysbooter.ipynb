{
 "cells": [
  {
   "cell_type": "markdown",
   "metadata": {},
   "source": [
    "# Analysis of: jaysbooter\n",
    "#### File originally retrieved from: http://4lz5rmnkd6f63tmm.onion/db/jaysbooter.sql"
   ]
  },
  {
   "cell_type": "code",
   "execution_count": 2,
   "metadata": {
    "collapsed": true
   },
   "outputs": [],
   "source": [
    "dumpfile='jaysbooter.sql'"
   ]
  },
  {
   "cell_type": "markdown",
   "metadata": {},
   "source": [
    "## * Libraries that I use to analyse data"
   ]
  },
  {
   "cell_type": "code",
   "execution_count": 3,
   "metadata": {
    "collapsed": true
   },
   "outputs": [],
   "source": [
    "import pandas as pd\n",
    "import numpy as np\n",
    "\n",
    "from io import StringIO\n",
    "import re\n",
    "\n",
    "from IPython.display import display,clear_output"
   ]
  },
  {
   "cell_type": "code",
   "execution_count": 1,
   "metadata": {},
   "outputs": [
    {
     "name": "stdout",
     "output_type": "stream",
     "text": [
      " Functions loaded!!!!\n"
     ]
    }
   ],
   "source": [
    "%run '../additional_functions.ipynb'"
   ]
  },
  {
   "cell_type": "markdown",
   "metadata": {},
   "source": [
    "<h1 align=\"center\">\n",
    "!!!!!!!!!!!!!!!!!!!!!!!!!!!!!!!!!!!!!!!!!!!!!!!!!!!!!!!!!!!!!!!!!!!!!!!!!!!!!!!!!!!!!!!!!!!!!!!!!!!!!!!!!!!!!!!!!!!!!!!!!!!!!!!!!!!!!!!!!<br>\n",
    "STEP 1: Adaptation to our Booter database schema<br>\n",
    "!!!!!!!!!!!!!!!!!!!!!!!!!!!!!!!!!!!!!!!!!!!!!!!!!!!!!!!!!!!!!!!!!!!!!!!!!!!!!!!!!!!!!!!!!!!!!!!!!!!!!!!!!!!!!!!!!!!!!!!!!!!!!!!</h1> "
   ]
  },
  {
   "cell_type": "markdown",
   "metadata": {},
   "source": [
    "## 1. Reading the first 'N' (100) lines of the input Booter database file"
   ]
  },
  {
   "cell_type": "code",
   "execution_count": 4,
   "metadata": {},
   "outputs": [
    {
     "name": "stdout",
     "output_type": "stream",
     "text": [
      "-- phpMyAdmin SQL Dump\n",
      "-- version 3.4.11.1\n",
      "-- http://www.phpmyadmin.net\n",
      "--\n",
      "-- Host: localhost\n",
      "-- Generation Time: Dec 09, 2012 at 10:12 PM\n",
      "-- Server version: 5.1.65\n",
      "-- PHP Version: 5.2.17\n",
      "\n",
      "SET SQL_MODE=\"NO_AUTO_VALUE_ON_ZERO\";\n",
      "SET time_zone = \"+00:00\";\n",
      "\n",
      "\n",
      "/*!40101 SET @OLD_CHARACTER_SET_CLIENT=@@CHARACTER_SET_CLIENT */;\n",
      "/*!40101 SET @OLD_CHARACTER_SET_RESULTS=@@CHARACTER_SET_RESULTS */;\n",
      "/*!40101 SET @OLD_COLLATION_CONNECTION=@@COLLATION_CONNECTION */;\n",
      "/*!40101 SET NAMES utf8 */;\n",
      "\n",
      "--\n",
      "-- Database: `jay_admin`\n",
      "--\n",
      "\n",
      "-- --------------------------------------------------------\n",
      "\n",
      "--\n",
      "-- Table structure for table `users`\n",
      "--\n",
      "\n",
      "CREATE TABLE IF NOT EXISTS `users` (\n",
      "`ID` int(11) NOT NULL AUTO_INCREMENT,\n",
      "`username` varchar(15) NOT NULL,\n",
      "`password` varchar(40) NOT NULL,\n",
      "`email` varchar(50) NOT NULL,\n",
      "`rank` int(11) NOT NULL DEFAULT '0',\n",
      "`membership` int(11) NOT NULL,\n",
      "`expire` int(11) NOT NULL,\n",
      "`status` int(11) NOT NULL,\n",
      "PRIMARY KEY (`ID`),\n",
      "KEY `ID` (`ID`)\n",
      ") ENGINE=MyISAM  DEFAULT CHARSET=latin1 AUTO_INCREMENT=536 ;\n",
      "\n",
      "--\n",
      "-- Dumping data for table `users`\n",
      "--\n",
      "\n",
      "INSERT INTO `users` (`ID`, `username`, `password`, `email`, `rank`, `membership`, `expire`, `status`) VALUES\n",
      "(534, 'Jayyy', '2f8c1df829652f76871067ba5e625c8cabbc4073', 'jtheboss95@aol.com', 1, 0, 0, 0),\n",
      "(535, 'Kolearcher', 'a68c46c02d1fdad51a42f17e6f466fcf5218c68b', 'kolearcher@aol.com', 0, 0, 0, 0),\n",
      "(19, 'Brilliance', '27d2a98b8ab07a05c0cc8340c7ed22bac5eb8183', 'lester.c@sky.com', 1, 22, 1508635840, 0),\n",
      "(20, 'RikkoHF', '2026b6d487cc3f42e7e0c7594a5514d2310fb775', 'mail@mail1122.com', 0, 22, 1508524245, 0),\n",
      "(21, 'known389', 'ccda2f01da4f5386f3d5616d23dc240c170b33a8', '412413253@emailgo.de', 0, 21, 1349467114, 0),\n",
      "(23, 'Fico97', 'e8fe00aee0436eab7a8c8609a64cf9f43e290e53', 'andreaficarra@hotmail.it', 0, 11, 1351455730, 0),\n",
      "(24, 'poor', '21a741de0fce09127675c976c262316557ceb402', 'cmdprompt@mail.com', 0, 0, 1351464833, 0),\n",
      "(25, 'lulwut', '3c7ce8095a91ac8cacd4037115c24470c11f69a3', 'skyhd15@hotmail.co.uk', 0, 0, 1351469875, 0),\n",
      "(26, 'Rayyan', '18fab8a8abd4fe31c6d83439ac457ba87cc3ecc4', 'rayyanasian@gmail.com', 0, 0, 1349482705, 0),\n",
      "(27, 'wooshlager', '8f50f66209e1d78a318c46578b93c33a9adba9e1', 'wooshlager@hotmail.com', 0, 11, 1352254539, 0),\n",
      "(28, 'insane66613', '6ecea540820ace5f790a5d78c3602432edd59225', 'ilovethevikings@yahoo.com', 0, 22, 1506649114, 0),\n",
      "(29, 'keygan1234', '3216a6553de1d8ffa830940df4da838c9d93c41e', 'cleerkeygan@ymail.com', 0, 0, 1349497393, 0),\n",
      "(30, 'renzuken', '22ab96170869075916592f5d24d2f8c10892991b', 'renzuken08@gmail.com', 0, 21, 1350668621, 0),\n",
      "(31, 'levent0119', 'ef386cf65ed24179c5cf4a465f877bd53b2bd0e3', 'leventmanzak@hotmail.com', 0, 0, 1351526004, 0),\n",
      "(32, 'Jakedwight12', '7bb02ac09dac6bc2dc22de2d77d622cfd515db8a', 'carbinemodz@windowslive.com', 0, 0, 1349541235, 0),\n",
      "(34, 'JVSlewing', 'c10c425a92936fde21fbc4619b16ca82bf349a9a', 'abc_1010@hotmail.co.uk', 0, 22, 1509836783, 0),\n",
      "(35, 'JoeJopson', '403926033d001b5279df37cbbe5287b7c7c267fa', 'lol@lol.com', 0, 20, 1349544115, 0),\n",
      "(36, 'fanta', '7932c08c39d1f4ad3fd0914f8a1824a306e97caa', 'fanta@hackforums.net', 0, 0, 0, 0),\n",
      "(37, 'donthackme', '700a9326cd191da06ae5bb539c0d0e9289ac17c0', 'xampincognito@hotmail.com', 0, 0, 0, 0),\n",
      "(39, 'Alschlu', 'dedc2d016edbfaa3c811944579713147e77ef71a', 'nexedvictim@msn.com', 0, 0, 0, 0),\n",
      "(40, 'SkiZzy', 'dedc2d016edbfaa3c811944579713147e77ef71a', 'alec.schluter@hotmail.com', 0, 22, 1506829914, 0),\n",
      "(41, 'NobbeasT', '4551778c7741bef60984868a707466b5a0755779', 'nobbo93@libero.it', 0, 11, 1351818039, 0),\n",
      "(42, 'cyber', 'f55704c704513520f20d5981e5f0f29e6d557be3', 'b3t4_01@yahoo.com', 0, 11, 1352848694, 0),\n",
      "(43, 'drzkid123', 'e51a610850cb2f7101b954ed581c4101d9a9aa5e', 'drzbx13@aol.com', 0, 0, 1349996572, 0),\n",
      "(44, 'kyleman526', 'cdc15cc86efa2afe3585e4db6e33e738cecfb26a', 'kyle.pitzo@aol.com', 0, 0, 0, 0),\n",
      "(45, 'richardang', '5a2824f7c8abfdcf266e6fcebe8d67d372d16fcb', 'rda1979wax@yahoo.com', 0, 12, 1352246540, 1),\n",
      "(46, 'Visine', '7d7e4f3c3da733c46fcefea921900c0f35ba4100', 'deleonj1998@gmail.com', 0, 0, 1351898090, 0),\n",
      "(47, 'madeitog', '05b42bb1c7d53a0447e81905a9d9beec06ae8125', 'madeitog@gmail.com', 0, 11, 1352338627, 0),\n",
      "(48, 'StickyKGB', 'ef4554b1264724b5236fa269245c91de132aa9a0', 'stickykgb@live.com', 0, 0, 1351905001, 0),\n",
      "(49, 'Superbird', 'a98c8d3bf26809a10b69b1f2dc261f203ab8f04b', 'foxtroting@gmail.com', 0, 13, 1351907094, 0),\n",
      "(51, 'SturmIC', '71109542e8c306070459faa83c71d43a35c96140', 'daywalker747@gmx.de', 0, 12, 1351961558, 0),\n",
      "(52, 'LeSeR', '084b3af47af339166ebc6120a52059499a7b2d38', 'priva8@hotmail.com', 0, 13, 1351971130, 0),\n",
      "(53, 'syrious', 'ba8d275474a1a2cf49bb0a4d5dfe2fa5d4cf01d8', 'wesellur50@gmail.com', 0, 11, 1354606280, 0),\n",
      "(54, 'omgrazza', '068942c83f0e6994d046f7ec01b8f42ba8f317a7', 'rob-cav@live.co.uk', 0, 12, 1351984654, 0),\n",
      "(55, 'Roadie94', 'e9ed39c8aae932d46fa7cc4bbd6019fdd9315eab', 'jamesroadhouse@hotmail.co.uk', 0, 11, 1351991341, 0),\n",
      "(56, 'keko', '5017c0afae8394c9426b7c68c7d472b770bc364b', 'kevin.benaroche@gmail.com', 0, 0, 1349919122, 0),\n",
      "(58, 'cop97', '370bd11c3777949aa91cf30a73c4ffb2db1b8a9f', 'longshot9765@aol.com', 0, 0, 0, 0),\n",
      "(60, 'illfuture', '16ed008f7123de9a6adadaf6082bfb69f92547b8', 'darroneggins@gmail.com', 0, 21, 1350370562, 0),\n",
      "(62, 'BossFamas', 'd326955e5ca231d70f42ec3c0acea3315445656d', 'Mawb28@aol.com', 0, 0, 1352059588, 0),\n",
      "(63, 'ishikawanick808', 'edfc74abf2f132fcfac60e986b1f62aa2deabed7', 'ishikawanick808@gmail.com', 0, 0, 0, 0),\n",
      "(64, 'Noatato', '457a4b67e597a54a4f6182780a59791c0eae29c7', 'khalid_okiely@hotmail.com', 0, 0, 0, 0),\n",
      "(65, 'jeff', '3c6506d764decb4ce7dd8e55366f383634cc2fe5', 'cenkk@gmx.com', 0, 25, 1350003645, 0),\n",
      "(66, 'trstone', 'd4e721d4a4c63ed4d373d77eff5a8b48afcd5a07', 'trevorstonechs@gmail.com', 0, 12, 1352078340, 0),\n",
      "(67, 'tact', '08a792dc40c68126b100f35c9ea81fc80a477fbb', 'tactishianz@gmail.com', 0, 12, 1352080582, 0),\n",
      "(68, 'Clark', 'fa9beb99e4029ad5a6615399e7bbae21356086b3', 'clrk_sml@yahoo.com', 0, 0, 1350011222, 0),\n",
      "(69, 'peachyoath', 'b45d8a82e0b94a41df903a5596897d5b2bf011f6', 'sacred.last.breath@hotmail.com', 0, 22, 1507173581, 0),\n",
      "(70, 'tymetheelf', '1ea4066dd896d9c561eaba4f18c472d066e2ebcd', 'tymetheelf@gmail.com', 0, 0, 1350016979, 0),\n",
      "(71, 'yolodolo', '6a3b68694c5fd55c2c177abfae6a0b8646d3faee', 'yolo@gmail.com', 0, 11, 1352095481, 0),\n",
      "(72, 'krewella', '11b800aef83ea4dad4f0033aecbb4c15291f55df', 'demonicbooter@gmail.com', 0, 0, 0, 0),\n",
      "(74, 'Kust', '88ea39439e74fa27c09a4fc0bc8ebe6d00978392', 'lukebuy@Hotmail.com', 0, 11, 1352098756, 0),\n",
      "(75, 'dylzza', 'b45d8a82e0b94a41df903a5596897d5b2bf011f6', 'peachy_khuntt@hotmail.com', 0, 0, 0, 0),\n",
      "(76, 'dragonsin3', 'fba41641407e64c2f9a251bd113f8bb7da4c2c05', 'was_ong_yi_jie@hotmail.com', 0, 0, 1350047005, 0),\n",
      "(77, 'poisskai', 'efbc19993c089de75c87e4017f0c73e2fc9da863', 'poisskai@live.fr', 0, 0, 1350931494, 0),\n",
      "(78, 'Orbit', 'b9df37adf5c18f4c13e7ed4df067d13057742a3a', 'just_tc_1993cutie@hotmail.com', 0, 11, 1352151014, 0),\n"
     ]
    }
   ],
   "source": [
    "lines_to_read=100\n",
    "\n",
    "with open(dumpfile) as myfile:\n",
    "    firstlines=myfile.readlines()[0:lines_to_read] #put here the interval you want\n",
    "    for x in firstlines:\n",
    "        print(x.strip())"
   ]
  },
  {
   "cell_type": "markdown",
   "metadata": {},
   "source": [
    "## 2. Listing tables that have content inserted into the dump file"
   ]
  },
  {
   "cell_type": "code",
   "execution_count": 5,
   "metadata": {},
   "outputs": [
    {
     "data": {
      "text/plain": [
       "users    1\n",
       "dtype: int64"
      ]
     },
     "execution_count": 5,
     "metadata": {},
     "output_type": "execute_result"
    }
   ],
   "source": [
    "(pd.Series(list_tables_with_insert(dumpfile)).value_counts()).sort_index()"
   ]
  },
  {
   "cell_type": "markdown",
   "metadata": {},
   "source": [
    "## How the list above looks like? "
   ]
  },
  {
   "cell_type": "markdown",
   "metadata": {},
   "source": [
    "<h2 align='center'>======================================================================<br>\n",
    "If NOT well-formed SQL dump file then you must first do the following:<br>\n",
    "======================================================================</h2>"
   ]
  },
  {
   "cell_type": "markdown",
   "metadata": {},
   "source": [
    "## 3. Removing lines that are not part of the actual content to be analysed"
   ]
  },
  {
   "cell_type": "markdown",
   "metadata": {},
   "source": [
    "## 4. Splitting and naming tables and columns"
   ]
  },
  {
   "cell_type": "markdown",
   "metadata": {},
   "source": [
    "<h2 align='center'>======================================================================\n",
    "Adapting EACH existing table\n",
    "======================================================================</h2>"
   ]
  },
  {
   "cell_type": "markdown",
   "metadata": {},
   "source": [
    "## 6.1. Table: 'users'"
   ]
  },
  {
   "cell_type": "markdown",
   "metadata": {},
   "source": [
    "### How this table looks like without modification?"
   ]
  },
  {
   "cell_type": "code",
   "execution_count": 6,
   "metadata": {},
   "outputs": [
    {
     "data": {
      "text/html": [
       "<div>\n",
       "<table border=\"1\" class=\"dataframe\">\n",
       "  <thead>\n",
       "    <tr style=\"text-align: right;\">\n",
       "      <th></th>\n",
       "      <th>ID</th>\n",
       "      <th>username</th>\n",
       "      <th>password</th>\n",
       "      <th>email</th>\n",
       "      <th>rank</th>\n",
       "      <th>membership</th>\n",
       "      <th>expire</th>\n",
       "      <th>status</th>\n",
       "    </tr>\n",
       "  </thead>\n",
       "  <tbody>\n",
       "    <tr>\n",
       "      <th>0</th>\n",
       "      <td>534</td>\n",
       "      <td>Jayyy</td>\n",
       "      <td>2f8c1df829652f76871067ba5e625c8cabbc4073</td>\n",
       "      <td>jtheboss95@aol.com</td>\n",
       "      <td>1</td>\n",
       "      <td>0</td>\n",
       "      <td>0</td>\n",
       "      <td>0</td>\n",
       "    </tr>\n",
       "    <tr>\n",
       "      <th>1</th>\n",
       "      <td>535</td>\n",
       "      <td>Kolearcher</td>\n",
       "      <td>a68c46c02d1fdad51a42f17e6f466fcf5218c68b</td>\n",
       "      <td>kolearcher@aol.com</td>\n",
       "      <td>0</td>\n",
       "      <td>0</td>\n",
       "      <td>0</td>\n",
       "      <td>0</td>\n",
       "    </tr>\n",
       "    <tr>\n",
       "      <th>2</th>\n",
       "      <td>19</td>\n",
       "      <td>Brilliance</td>\n",
       "      <td>27d2a98b8ab07a05c0cc8340c7ed22bac5eb8183</td>\n",
       "      <td>lester.c@sky.com</td>\n",
       "      <td>1</td>\n",
       "      <td>22</td>\n",
       "      <td>1508635840</td>\n",
       "      <td>0</td>\n",
       "    </tr>\n",
       "    <tr>\n",
       "      <th>3</th>\n",
       "      <td>20</td>\n",
       "      <td>RikkoHF</td>\n",
       "      <td>2026b6d487cc3f42e7e0c7594a5514d2310fb775</td>\n",
       "      <td>mail@mail1122.com</td>\n",
       "      <td>0</td>\n",
       "      <td>22</td>\n",
       "      <td>1508524245</td>\n",
       "      <td>0</td>\n",
       "    </tr>\n",
       "    <tr>\n",
       "      <th>4</th>\n",
       "      <td>21</td>\n",
       "      <td>known389</td>\n",
       "      <td>ccda2f01da4f5386f3d5616d23dc240c170b33a8</td>\n",
       "      <td>412413253@emailgo.de</td>\n",
       "      <td>0</td>\n",
       "      <td>21</td>\n",
       "      <td>1349467114</td>\n",
       "      <td>0</td>\n",
       "    </tr>\n",
       "  </tbody>\n",
       "</table>\n",
       "</div>"
      ],
      "text/plain": [
       "    ID    username                                  password  \\\n",
       "0  534       Jayyy  2f8c1df829652f76871067ba5e625c8cabbc4073   \n",
       "1  535  Kolearcher  a68c46c02d1fdad51a42f17e6f466fcf5218c68b   \n",
       "2   19  Brilliance  27d2a98b8ab07a05c0cc8340c7ed22bac5eb8183   \n",
       "3   20     RikkoHF  2026b6d487cc3f42e7e0c7594a5514d2310fb775   \n",
       "4   21    known389  ccda2f01da4f5386f3d5616d23dc240c170b33a8   \n",
       "\n",
       "                  email  rank  membership      expire  status  \n",
       "0    jtheboss95@aol.com     1           0           0       0  \n",
       "1    kolearcher@aol.com     0           0           0       0  \n",
       "2      lester.c@sky.com     1          22  1508635840       0  \n",
       "3     mail@mail1122.com     0          22  1508524245       0  \n",
       "4  412413253@emailgo.de     0          21  1349467114       0  "
      ]
     },
     "execution_count": 6,
     "metadata": {},
     "output_type": "execute_result"
    }
   ],
   "source": [
    "tablename='users'\n",
    "\n",
    "pd.read_csv(read_inserted_table1(dumpfile, tablename),\n",
    "            delimiter=\",\",\n",
    "            error_bad_lines=False).head(5)"
   ]
  },
  {
   "cell_type": "markdown",
   "metadata": {},
   "source": [
    "#### Q1: Is this table different from other previous loaded table? YES\n",
    "#### Q2: Is this table similar to any table in the generic Booter database schema? YES\n",
    "    - This table looks like: 'users'\n",
    "#### Q3: Are there required modifications? \n",
    "    - On the table name:  \n",
    "        o expire => timestamp2datetime\n",
    "    - On the column name:\n",
    "        o  ID => userid\n",
    "        o email => useremail\n",
    "        o membership =>planid\n",
    "    - Split columns:\n",
    "        o \n",
    "    - Add required columns:\n",
    "        o password"
   ]
  },
  {
   "cell_type": "markdown",
   "metadata": {},
   "source": [
    "### Modifying table: 'users'"
   ]
  },
  {
   "cell_type": "code",
   "execution_count": 7,
   "metadata": {},
   "outputs": [
    {
     "data": {
      "text/html": [
       "<div>\n",
       "<table border=\"1\" class=\"dataframe\">\n",
       "  <thead>\n",
       "    <tr style=\"text-align: right;\">\n",
       "      <th></th>\n",
       "      <th>userid</th>\n",
       "      <th>username</th>\n",
       "      <th>password</th>\n",
       "      <th>useremail</th>\n",
       "      <th>rank</th>\n",
       "      <th>planid</th>\n",
       "      <th>expire</th>\n",
       "      <th>status</th>\n",
       "    </tr>\n",
       "  </thead>\n",
       "  <tbody>\n",
       "    <tr>\n",
       "      <th>0</th>\n",
       "      <td>534</td>\n",
       "      <td>Jayyy</td>\n",
       "      <td></td>\n",
       "      <td>jtheboss95@aol.com</td>\n",
       "      <td>1</td>\n",
       "      <td>0</td>\n",
       "      <td>1970-01-01 00:00:00</td>\n",
       "      <td>0</td>\n",
       "    </tr>\n",
       "    <tr>\n",
       "      <th>1</th>\n",
       "      <td>535</td>\n",
       "      <td>Kolearcher</td>\n",
       "      <td></td>\n",
       "      <td>kolearcher@aol.com</td>\n",
       "      <td>0</td>\n",
       "      <td>0</td>\n",
       "      <td>1970-01-01 00:00:00</td>\n",
       "      <td>0</td>\n",
       "    </tr>\n",
       "    <tr>\n",
       "      <th>2</th>\n",
       "      <td>19</td>\n",
       "      <td>Brilliance</td>\n",
       "      <td></td>\n",
       "      <td>lester.c@sky.com</td>\n",
       "      <td>1</td>\n",
       "      <td>22</td>\n",
       "      <td>2017-10-22 01:30:40</td>\n",
       "      <td>0</td>\n",
       "    </tr>\n",
       "    <tr>\n",
       "      <th>3</th>\n",
       "      <td>20</td>\n",
       "      <td>RikkoHF</td>\n",
       "      <td></td>\n",
       "      <td>mail@mail1122.com</td>\n",
       "      <td>0</td>\n",
       "      <td>22</td>\n",
       "      <td>2017-10-20 18:30:45</td>\n",
       "      <td>0</td>\n",
       "    </tr>\n",
       "    <tr>\n",
       "      <th>4</th>\n",
       "      <td>21</td>\n",
       "      <td>known389</td>\n",
       "      <td></td>\n",
       "      <td>412413253@emailgo.de</td>\n",
       "      <td>0</td>\n",
       "      <td>21</td>\n",
       "      <td>2012-10-05 19:58:34</td>\n",
       "      <td>0</td>\n",
       "    </tr>\n",
       "    <tr>\n",
       "      <th>5</th>\n",
       "      <td>23</td>\n",
       "      <td>Fico97</td>\n",
       "      <td></td>\n",
       "      <td>andreaficarra@hotmail.it</td>\n",
       "      <td>0</td>\n",
       "      <td>11</td>\n",
       "      <td>2012-10-28 20:22:10</td>\n",
       "      <td>0</td>\n",
       "    </tr>\n",
       "    <tr>\n",
       "      <th>6</th>\n",
       "      <td>24</td>\n",
       "      <td>poor</td>\n",
       "      <td></td>\n",
       "      <td>cmdprompt@mail.com</td>\n",
       "      <td>0</td>\n",
       "      <td>0</td>\n",
       "      <td>2012-10-28 22:53:53</td>\n",
       "      <td>0</td>\n",
       "    </tr>\n",
       "    <tr>\n",
       "      <th>7</th>\n",
       "      <td>25</td>\n",
       "      <td>lulwut</td>\n",
       "      <td></td>\n",
       "      <td>skyhd15@hotmail.co.uk</td>\n",
       "      <td>0</td>\n",
       "      <td>0</td>\n",
       "      <td>2012-10-29 00:17:55</td>\n",
       "      <td>0</td>\n",
       "    </tr>\n",
       "    <tr>\n",
       "      <th>8</th>\n",
       "      <td>26</td>\n",
       "      <td>Rayyan</td>\n",
       "      <td></td>\n",
       "      <td>rayyanasian@gmail.com</td>\n",
       "      <td>0</td>\n",
       "      <td>0</td>\n",
       "      <td>2012-10-06 00:18:25</td>\n",
       "      <td>0</td>\n",
       "    </tr>\n",
       "    <tr>\n",
       "      <th>9</th>\n",
       "      <td>27</td>\n",
       "      <td>wooshlager</td>\n",
       "      <td></td>\n",
       "      <td>wooshlager@hotmail.com</td>\n",
       "      <td>0</td>\n",
       "      <td>11</td>\n",
       "      <td>2012-11-07 02:15:39</td>\n",
       "      <td>0</td>\n",
       "    </tr>\n",
       "  </tbody>\n",
       "</table>\n",
       "</div>"
      ],
      "text/plain": [
       "   userid    username password                 useremail  rank  planid  \\\n",
       "0     534       Jayyy                 jtheboss95@aol.com     1       0   \n",
       "1     535  Kolearcher                 kolearcher@aol.com     0       0   \n",
       "2      19  Brilliance                   lester.c@sky.com     1      22   \n",
       "3      20     RikkoHF                  mail@mail1122.com     0      22   \n",
       "4      21    known389               412413253@emailgo.de     0      21   \n",
       "5      23      Fico97           andreaficarra@hotmail.it     0      11   \n",
       "6      24        poor                 cmdprompt@mail.com     0       0   \n",
       "7      25      lulwut              skyhd15@hotmail.co.uk     0       0   \n",
       "8      26      Rayyan              rayyanasian@gmail.com     0       0   \n",
       "9      27  wooshlager             wooshlager@hotmail.com     0      11   \n",
       "\n",
       "               expire  status  \n",
       "0 1970-01-01 00:00:00       0  \n",
       "1 1970-01-01 00:00:00       0  \n",
       "2 2017-10-22 01:30:40       0  \n",
       "3 2017-10-20 18:30:45       0  \n",
       "4 2012-10-05 19:58:34       0  \n",
       "5 2012-10-28 20:22:10       0  \n",
       "6 2012-10-28 22:53:53       0  \n",
       "7 2012-10-29 00:17:55       0  \n",
       "8 2012-10-06 00:18:25       0  \n",
       "9 2012-11-07 02:15:39       0  "
      ]
     },
     "execution_count": 7,
     "metadata": {},
     "output_type": "execute_result"
    }
   ],
   "source": [
    "df_users = pd.read_csv(read_inserted_table1(dumpfile, tablename),\n",
    "                       delimiter=\",\",\n",
    "                       error_bad_lines=False)\n",
    "\n",
    "df_users['expire']=timestamp2datetime(df_users['expire'])\n",
    "\n",
    "###Changing names of columns\n",
    "df_users.rename(columns = {'ID': 'userid',\n",
    "                               'email': 'useremail',\n",
    "                              'membership': 'planid'},\n",
    "                         inplace=True)\n",
    "\n",
    "###Creating empty columns (with \"\" [for future string] or np.nan [for future float])\n",
    "df_users['password'] = \"\"\n",
    "\n",
    "###Showing some lines after adapt the table\n",
    "df_users.head(10)"
   ]
  },
  {
   "cell_type": "markdown",
   "metadata": {},
   "source": [
    "<h2 align='center'>======================================================================\n",
    "<br>Final step of the manual part\n",
    "======================================================================</h2>"
   ]
  },
  {
   "cell_type": "markdown",
   "metadata": {},
   "source": [
    "## 7. Adding missing tables accordingly to our generic Booter database "
   ]
  },
  {
   "cell_type": "code",
   "execution_count": 8,
   "metadata": {},
   "outputs": [
    {
     "name": "stdout",
     "output_type": "stream",
     "text": [
      "\n",
      "\n",
      "Overview of records in the adapted Booter database:\n"
     ]
    },
    {
     "data": {
      "text/html": [
       "<div>\n",
       "<table border=\"1\" class=\"dataframe\">\n",
       "  <thead>\n",
       "    <tr style=\"text-align: right;\">\n",
       "      <th></th>\n",
       "      <th>df_attacks</th>\n",
       "      <th>df_blacklist</th>\n",
       "      <th>df_friendsenemies</th>\n",
       "      <th>df_gateways</th>\n",
       "      <th>df_logins</th>\n",
       "      <th>df_payments</th>\n",
       "      <th>df_plans</th>\n",
       "      <th>df_servers</th>\n",
       "      <th>df_settings</th>\n",
       "      <th>df_users</th>\n",
       "      <th>df_webshells</th>\n",
       "    </tr>\n",
       "  </thead>\n",
       "  <tbody>\n",
       "    <tr>\n",
       "      <th>0</th>\n",
       "      <td>0</td>\n",
       "      <td>0</td>\n",
       "      <td>0</td>\n",
       "      <td>0</td>\n",
       "      <td>0</td>\n",
       "      <td>0</td>\n",
       "      <td>0</td>\n",
       "      <td>0</td>\n",
       "      <td>0</td>\n",
       "      <td>457</td>\n",
       "      <td>0</td>\n",
       "    </tr>\n",
       "  </tbody>\n",
       "</table>\n",
       "</div>"
      ],
      "text/plain": [
       "   df_attacks  df_blacklist  df_friendsenemies  df_gateways  df_logins  \\\n",
       "0           0             0                  0            0          0   \n",
       "\n",
       "   df_payments  df_plans  df_servers  df_settings  df_users  df_webshells  \n",
       "0            0         0           0            0       457             0  "
      ]
     },
     "metadata": {},
     "output_type": "display_data"
    },
    {
     "name": "stdout",
     "output_type": "stream",
     "text": [
      "\n",
      "\n",
      "Overview in latex format for copy-&-paste:\n",
      "\n",
      "\\begin{tabular}{lrrrrrrrrrrr}\n",
      "\\toprule\n",
      "{} &  attacks &  blacklist &  friendsenemies &  gateways &  logins &  payments &  plans &  servers &  settings &  users &  webshells \\\\\n",
      "\\midrule\n",
      "0 &        0 &          0 &               0 &         0 &       0 &         0 &      0 &        0 &         0 &    457 &          0 \\\\\n",
      "\\bottomrule\n",
      "\\end{tabular}\n",
      "\n"
     ]
    }
   ],
   "source": [
    "%run '../reviewing_consistency.ipynb'"
   ]
  },
  {
   "cell_type": "markdown",
   "metadata": {},
   "source": [
    "<h2 align=\"center\">\n",
    "!!!!!!!!!!!!!!!!!!!!!!!!!!!!!!!!!!!!!!!!!!!!!!!!!!!!!!!!!!!!!!!!!!!!!!!!!!!!!!!!!!!!!!!!!!!!!!!!!!!!!!!!!!!!!!!!!!!!!!!!!!!!!!!!!!!!!!!!!<br>\n",
    "STEP 2: Data Enrichment<br>\n",
    "!!!!!!!!!!!!!!!!!!!!!!!!!!!!!!!!!!!!!!!!!!!!!!!!!!!!!!!!!!!!!!!!!!!!!!!!!!!!!!!!!!!!!!!!!!!!!!!!!!!!!!!!!!!!!!!!!!!!!!!!!!!!!!!</h2> "
   ]
  },
  {
   "cell_type": "code",
   "execution_count": null,
   "metadata": {
    "collapsed": true
   },
   "outputs": [],
   "source": [
    "%run '../data_enrichment.ipynb'"
   ]
  },
  {
   "cell_type": "markdown",
   "metadata": {},
   "source": [
    "<h2 align=\"center\">\n",
    "!!!!!!!!!!!!!!!!!!!!!!!!!!!!!!!!!!!!!!!!!!!!!!!!!!!!!!!!!!!!!!!!!!!!!!!!!!!!!!!!!!!!!!!!!!!!!!!!!!!!!!!!!!!!!!!!!!!!!!!!!!!!!!!!!!!!!!!!!<br>\n",
    "STEP 3: Automatic Analysis\n",
    "<br>\n",
    "!!!!!!!!!!!!!!!!!!!!!!!!!!!!!!!!!!!!!!!!!!!!!!!!!!!!!!!!!!!!!!!!!!!!!!!!!!!!!!!!!!!!!!!!!!!!!!!!!!!!!!!!!!!!!!!!!!!!!!!!!!!!!!!</h3> "
   ]
  },
  {
   "cell_type": "code",
   "execution_count": null,
   "metadata": {
    "collapsed": true
   },
   "outputs": [],
   "source": [
    "%run '../automated_analysis.ipynb'"
   ]
  },
  {
   "cell_type": "markdown",
   "metadata": {},
   "source": [
    "<h2 align=\"center\">!!!!!!!!!!!!!!!!!!!!!!!!!!!!!!!!!!!!!!!!!!!!!!!!!!!!!!!!!!!!!!!!!!!!!!!!!!!!!!!!!!!!!!!!!!!!!!!!!!!!!!!!!!!!!!!!!!!!!!!!!!!!!!!!!<br>\n",
    "Query Interface<br>\n",
    "!!!!!!!!!!!!!!!!!!!!!!!!!!!!!!!!!!!!!!!!!!!!!!!!!!!!!!!!!!!!!!!!!!!!!!!!!!!!!!!!!!!!!!!!!!!!!!!!!!!!!!!!!!!!!!!!!!!!!!!!!!!!!!!</h2> "
   ]
  },
  {
   "cell_type": "code",
   "execution_count": null,
   "metadata": {
    "collapsed": true
   },
   "outputs": [],
   "source": [
    "%run '../search_background.ipynb'"
   ]
  }
 ],
 "metadata": {
  "kernelspec": {
   "display_name": "Python 3",
   "language": "python",
   "name": "python3"
  },
  "language_info": {
   "codemirror_mode": {
    "name": "ipython",
    "version": 3
   },
   "file_extension": ".py",
   "mimetype": "text/x-python",
   "name": "python",
   "nbconvert_exporter": "python",
   "pygments_lexer": "ipython3",
   "version": "3.5.2"
  },
  "widgets": {
   "state": {},
   "version": "1.1.2"
  }
 },
 "nbformat": 4,
 "nbformat_minor": 1
}
